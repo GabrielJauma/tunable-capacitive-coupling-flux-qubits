{
 "cells": [
  {
   "cell_type": "code",
   "metadata": {
    "collapsed": true,
    "ExecuteTime": {
     "end_time": "2025-04-01T15:07:38.902568Z",
     "start_time": "2025-04-01T15:07:37.446086Z"
    }
   },
   "source": [
    "import sympy as sym\n",
    "import numpy as np\n",
    "np.set_printoptions(linewidth=200, formatter={'float': '{:.3e}'.format})\n",
    "import matplotlib.pyplot as plt"
   ],
   "outputs": [],
   "execution_count": 1
  },
  {
   "cell_type": "code",
   "source": [
    "def neglect_terms(expr, N):\n",
    "    # Function to neglect terms of order N and higher in a polynomial\n",
    "    # Split the expression into numerator and denominator\n",
    "    num, denom = expr.as_numer_denom()\n",
    "    # Process numerator and denominator to remove terms of order N and higher\n",
    "    num_neglected = sum(coeff * term for term, coeff in num.as_coefficients_dict().items() if all(pow < N for var, pow in term.as_powers_dict().items()))\n",
    "    denom_neglected = sum(coeff * term for term, coeff in denom.as_coefficients_dict().items() if all(pow < N for var, pow in term.as_powers_dict().items()))\n",
    "    # Reconstruct the fraction\n",
    "    return num_neglected / denom_neglected\n",
    "\n",
    "def neglect_terms_in_matrix(matrix, N):\n",
    "    # Process each element in the matrix\n",
    "    processed_matrix = matrix.applyfunc(lambda x: neglect_terms(x, N))\n",
    "\n",
    "    return processed_matrix"
   ],
   "metadata": {
    "collapsed": false,
    "ExecuteTime": {
     "end_time": "2025-04-01T15:07:38.918626Z",
     "start_time": "2025-04-01T15:07:38.904819Z"
    }
   },
   "outputs": [],
   "execution_count": 2
  },
  {
   "cell_type": "code",
   "source": [
    "Φp, Φm, Φp_prime, Φm_prime = sym.symbols('\\dot{\\Phi}_+, \\dot{\\Phi}_-, Phiprimedot_+, Phiprimedot_-', real=True, positive=True, nonzero=True)\n",
    "Cp, Cm, Cc, Cp_prime, Cm_prime, eps = sym.symbols('C_+, C_-, C_C, Cprime_+, Cprime_-, varepsilon', real=True, positive=True, nonzero=True)"
   ],
   "metadata": {
    "collapsed": false,
    "ExecuteTime": {
     "end_time": "2025-04-01T15:08:55.650863Z",
     "start_time": "2025-04-01T15:08:55.645251Z"
    }
   },
   "outputs": [],
   "execution_count": 17
  },
  {
   "cell_type": "code",
   "source": [
    "Φ_vec = sym.Matrix([Φp, Φm, Φp_prime, Φm_prime])"
   ],
   "metadata": {
    "collapsed": false,
    "ExecuteTime": {
     "end_time": "2025-04-01T15:07:38.949213Z",
     "start_time": "2025-04-01T15:07:38.934846Z"
    }
   },
   "outputs": [],
   "execution_count": 4
  },
  {
   "cell_type": "code",
   "source": [
    "Φ1 = 1/2*(Φp+Φm)\n",
    "Φ2 = 1/2*(Φp-Φm)\n",
    "Φ1_prime = 1/2*(Φp_prime+Φm_prime)\n",
    "Φ2_prime = 1/2*(Φp_prime-Φm_prime)"
   ],
   "metadata": {
    "collapsed": false,
    "ExecuteTime": {
     "end_time": "2025-04-01T15:07:39.011136Z",
     "start_time": "2025-04-01T15:07:38.951361Z"
    }
   },
   "outputs": [],
   "execution_count": 5
  },
  {
   "metadata": {
    "ExecuteTime": {
     "end_time": "2025-04-01T15:07:39.027054Z",
     "start_time": "2025-04-01T15:07:39.012225Z"
    }
   },
   "cell_type": "code",
   "source": [
    "# Change of variables from (0,1) to (p,m)\n",
    "P1 = 0.5 *sym.Matrix([  [1, 1  ,0  ,0 ],\n",
    "                        [1,-1  ,0  ,0 ],\n",
    "                        [0, 0  ,1  , 1],\n",
    "                        [0, 0  ,1  ,-1] ])"
   ],
   "outputs": [],
   "execution_count": 6
  },
  {
   "metadata": {},
   "cell_type": "markdown",
   "source": [
    "## Asymmetric capacitive coupling between two unit cells (only inner nodes) "
   ]
  },
  {
   "metadata": {
    "ExecuteTime": {
     "end_time": "2025-04-01T15:07:39.058583Z",
     "start_time": "2025-04-01T15:07:39.029277Z"
    }
   },
   "cell_type": "code",
   "source": [
    "sym.expand(Cc*(Φ2-Φ1_prime)**2 )"
   ],
   "outputs": [
    {
     "data": {
      "text/plain": "0.25*C_C*Phiprimedot_+**2 + 0.5*C_C*Phiprimedot_+*Phiprimedot_- - 0.5*C_C*Phiprimedot_+*\\dot{\\Phi}_+ + 0.5*C_C*Phiprimedot_+*\\dot{\\Phi}_- + 0.25*C_C*Phiprimedot_-**2 - 0.5*C_C*Phiprimedot_-*\\dot{\\Phi}_+ + 0.5*C_C*Phiprimedot_-*\\dot{\\Phi}_- + 0.25*C_C*\\dot{\\Phi}_+**2 - 0.5*C_C*\\dot{\\Phi}_+*\\dot{\\Phi}_- + 0.25*C_C*\\dot{\\Phi}_-**2",
      "text/latex": "$\\displaystyle 0.25 C_{C} \\dot{{\\Phi}'}_{+}^{2} + 0.5 C_{C} \\dot{{\\Phi}'}_{+} \\dot{{\\Phi}'}_{-} - 0.5 C_{C} \\dot{{\\Phi}'}_{+} \\dot{\\Phi}_+ + 0.5 C_{C} \\dot{{\\Phi}'}_{+} \\dot{\\Phi}_- + 0.25 C_{C} \\dot{{\\Phi}'}_{-}^{2} - 0.5 C_{C} \\dot{{\\Phi}'}_{-} \\dot{\\Phi}_+ + 0.5 C_{C} \\dot{{\\Phi}'}_{-} \\dot{\\Phi}_- + 0.25 C_{C} \\dot{\\Phi}_+^{2} - 0.5 C_{C} \\dot{\\Phi}_+ \\dot{\\Phi}_- + 0.25 C_{C} \\dot{\\Phi}_-^{2}$"
     },
     "execution_count": 7,
     "metadata": {},
     "output_type": "execute_result"
    }
   ],
   "execution_count": 7
  },
  {
   "metadata": {
    "ExecuteTime": {
     "end_time": "2025-04-01T15:07:39.074286Z",
     "start_time": "2025-04-01T15:07:39.059660Z"
    }
   },
   "cell_type": "code",
   "source": [
    "C_mat_01 = sym.Matrix([ [0          ,0          ,0          ,0          ],\n",
    "                        [0          , Cc        ,-Cc      ,0          ],\n",
    "                        [0          ,-Cc      , Cc        ,0          ],\n",
    "                        [0          ,0          ,0          ,0          ] ])"
   ],
   "outputs": [],
   "execution_count": 8
  },
  {
   "metadata": {
    "ExecuteTime": {
     "end_time": "2025-04-01T15:07:39.678380Z",
     "start_time": "2025-04-01T15:07:39.665187Z"
    }
   },
   "cell_type": "code",
   "source": [
    "P1.T * C_mat_01 * P1"
   ],
   "outputs": [
    {
     "data": {
      "text/plain": "Matrix([\n[ 0.25*C_C, -0.25*C_C, -0.25*C_C, -0.25*C_C],\n[-0.25*C_C,  0.25*C_C,  0.25*C_C,  0.25*C_C],\n[-0.25*C_C,  0.25*C_C,  0.25*C_C,  0.25*C_C],\n[-0.25*C_C,  0.25*C_C,  0.25*C_C,  0.25*C_C]])",
      "text/latex": "$\\displaystyle \\left[\\begin{matrix}0.25 C_{C} & - 0.25 C_{C} & - 0.25 C_{C} & - 0.25 C_{C}\\\\- 0.25 C_{C} & 0.25 C_{C} & 0.25 C_{C} & 0.25 C_{C}\\\\- 0.25 C_{C} & 0.25 C_{C} & 0.25 C_{C} & 0.25 C_{C}\\\\- 0.25 C_{C} & 0.25 C_{C} & 0.25 C_{C} & 0.25 C_{C}\\end{matrix}\\right]$"
     },
     "execution_count": 9,
     "metadata": {},
     "output_type": "execute_result"
    }
   ],
   "execution_count": 9
  },
  {
   "metadata": {
    "ExecuteTime": {
     "end_time": "2025-04-01T15:07:39.974260Z",
     "start_time": "2025-04-01T15:07:39.960942Z"
    }
   },
   "cell_type": "code",
   "source": [
    "C_mat = sym.Matrix([[ Cc/4    ,-Cc/4    ,-Cc/4    ,-Cc/4    ],\n",
    "                    [-Cc/4    , Cc/4    , Cc/4    , Cc/4    ],\n",
    "                    [-Cc/4    , Cc/4    , Cc/4    ,+Cc/4    ],\n",
    "                    [-Cc/4    , Cc/4    ,+Cc/4    , Cc/4    ] ])"
   ],
   "outputs": [],
   "execution_count": 10
  },
  {
   "metadata": {
    "ExecuteTime": {
     "end_time": "2025-04-01T15:07:40.978028Z",
     "start_time": "2025-04-01T15:07:40.950193Z"
    }
   },
   "cell_type": "code",
   "source": [
    "sym.expand( Φ_vec.T * C_mat * Φ_vec ) "
   ],
   "outputs": [
    {
     "data": {
      "text/plain": "Matrix([[C_C*Phiprimedot_+**2/4 + C_C*Phiprimedot_+*Phiprimedot_-/2 - C_C*Phiprimedot_+*\\dot{\\Phi}_+/2 + C_C*Phiprimedot_+*\\dot{\\Phi}_-/2 + C_C*Phiprimedot_-**2/4 - C_C*Phiprimedot_-*\\dot{\\Phi}_+/2 + C_C*Phiprimedot_-*\\dot{\\Phi}_-/2 + C_C*\\dot{\\Phi}_+**2/4 - C_C*\\dot{\\Phi}_+*\\dot{\\Phi}_-/2 + C_C*\\dot{\\Phi}_-**2/4]])",
      "text/latex": "$\\displaystyle \\left[\\begin{matrix}\\frac{C_{C} \\dot{{\\Phi}'}_{+}^{2}}{4} + \\frac{C_{C} \\dot{{\\Phi}'}_{+} \\dot{{\\Phi}'}_{-}}{2} - \\frac{C_{C} \\dot{{\\Phi}'}_{+} \\dot{\\Phi}_+}{2} + \\frac{C_{C} \\dot{{\\Phi}'}_{+} \\dot{\\Phi}_-}{2} + \\frac{C_{C} \\dot{{\\Phi}'}_{-}^{2}}{4} - \\frac{C_{C} \\dot{{\\Phi}'}_{-} \\dot{\\Phi}_+}{2} + \\frac{C_{C} \\dot{{\\Phi}'}_{-} \\dot{\\Phi}_-}{2} + \\frac{C_{C} \\dot{\\Phi}_+^{2}}{4} - \\frac{C_{C} \\dot{\\Phi}_+ \\dot{\\Phi}_-}{2} + \\frac{C_{C} \\dot{\\Phi}_-^{2}}{4}\\end{matrix}\\right]$"
     },
     "execution_count": 11,
     "metadata": {},
     "output_type": "execute_result"
    }
   ],
   "execution_count": 11
  },
  {
   "metadata": {
    "ExecuteTime": {
     "end_time": "2025-04-01T15:07:41.975449Z",
     "start_time": "2025-04-01T15:07:41.795680Z"
    }
   },
   "cell_type": "code",
   "source": [
    "sym.simplify( (Φ_vec.T * C_mat * Φ_vec)[0] - (Cc*(Φ2-Φ1_prime)**2))"
   ],
   "outputs": [
    {
     "data": {
      "text/plain": "0",
      "text/latex": "$\\displaystyle 0$"
     },
     "execution_count": 12,
     "metadata": {},
     "output_type": "execute_result"
    }
   ],
   "execution_count": 12
  },
  {
   "cell_type": "markdown",
   "source": [
    "## Asymmetric capacitive coupling between two unit cells (only inner nodes) with outer node compensation"
   ],
   "metadata": {
    "collapsed": false
   }
  },
  {
   "cell_type": "code",
   "outputs": [
    {
     "data": {
      "text/plain": "0.5*C_C*Phiprimedot_+**2 - 0.5*C_C*Phiprimedot_+*\\dot{\\Phi}_+ + 0.5*C_C*Phiprimedot_+*\\dot{\\Phi}_- + 0.5*C_C*Phiprimedot_-**2 - 0.5*C_C*Phiprimedot_-*\\dot{\\Phi}_+ + 0.5*C_C*Phiprimedot_-*\\dot{\\Phi}_- + 0.5*C_C*\\dot{\\Phi}_+**2 + 0.5*C_C*\\dot{\\Phi}_-**2",
      "text/latex": "$\\displaystyle 0.5 C_{C} \\dot{{\\Phi}'}_{+}^{2} - 0.5 C_{C} \\dot{{\\Phi}'}_{+} \\dot{\\Phi}_+ + 0.5 C_{C} \\dot{{\\Phi}'}_{+} \\dot{\\Phi}_- + 0.5 C_{C} \\dot{{\\Phi}'}_{-}^{2} - 0.5 C_{C} \\dot{{\\Phi}'}_{-} \\dot{\\Phi}_+ + 0.5 C_{C} \\dot{{\\Phi}'}_{-} \\dot{\\Phi}_- + 0.5 C_{C} \\dot{\\Phi}_+^{2} + 0.5 C_{C} \\dot{\\Phi}_-^{2}$"
     },
     "execution_count": 13,
     "metadata": {},
     "output_type": "execute_result"
    }
   ],
   "source": [
    "sym.expand(Cc*(Φ2-Φ1_prime)**2 + Cc*(Φ1)**2 + Cc*(Φ2_prime)**2)"
   ],
   "metadata": {
    "collapsed": false,
    "ExecuteTime": {
     "end_time": "2025-04-01T15:07:45.545414Z",
     "start_time": "2025-04-01T15:07:45.525419Z"
    }
   },
   "execution_count": 13
  },
  {
   "cell_type": "code",
   "execution_count": 14,
   "outputs": [],
   "source": [
    "C_mat = sym.Matrix([[ Cc/2    , 0       ,-Cc/4    ,-Cc/4    ],\n",
    "                    [ 0       , Cc/2    , Cc/4    , Cc/4    ],\n",
    "                    [-Cc/4    , Cc/4    , Cc/2    , 0       ],\n",
    "                    [-Cc/4    , Cc/4    , 0       , Cc/2    ] ])"
   ],
   "metadata": {
    "collapsed": false,
    "ExecuteTime": {
     "end_time": "2025-04-01T15:07:45.874952Z",
     "start_time": "2025-04-01T15:07:45.861174Z"
    }
   }
  },
  {
   "cell_type": "code",
   "outputs": [
    {
     "data": {
      "text/plain": "Matrix([[C_C*Phiprimedot_+**2/2 - C_C*Phiprimedot_+*\\dot{\\Phi}_+/2 + C_C*Phiprimedot_+*\\dot{\\Phi}_-/2 + C_C*Phiprimedot_-**2/2 - C_C*Phiprimedot_-*\\dot{\\Phi}_+/2 + C_C*Phiprimedot_-*\\dot{\\Phi}_-/2 + C_C*\\dot{\\Phi}_+**2/2 + C_C*\\dot{\\Phi}_-**2/2]])",
      "text/latex": "$\\displaystyle \\left[\\begin{matrix}\\frac{C_{C} \\dot{{\\Phi}'}_{+}^{2}}{2} - \\frac{C_{C} \\dot{{\\Phi}'}_{+} \\dot{\\Phi}_+}{2} + \\frac{C_{C} \\dot{{\\Phi}'}_{+} \\dot{\\Phi}_-}{2} + \\frac{C_{C} \\dot{{\\Phi}'}_{-}^{2}}{2} - \\frac{C_{C} \\dot{{\\Phi}'}_{-} \\dot{\\Phi}_+}{2} + \\frac{C_{C} \\dot{{\\Phi}'}_{-} \\dot{\\Phi}_-}{2} + \\frac{C_{C} \\dot{\\Phi}_+^{2}}{2} + \\frac{C_{C} \\dot{\\Phi}_-^{2}}{2}\\end{matrix}\\right]$"
     },
     "execution_count": 15,
     "metadata": {},
     "output_type": "execute_result"
    }
   ],
   "source": [
    "sym.expand( Φ_vec.T * C_mat * Φ_vec ) "
   ],
   "metadata": {
    "collapsed": false,
    "ExecuteTime": {
     "end_time": "2025-04-01T15:07:46.157393Z",
     "start_time": "2025-04-01T15:07:46.130896Z"
    }
   },
   "execution_count": 15
  },
  {
   "cell_type": "code",
   "outputs": [
    {
     "data": {
      "text/plain": "0",
      "text/latex": "$\\displaystyle 0$"
     },
     "execution_count": 16,
     "metadata": {},
     "output_type": "execute_result"
    }
   ],
   "source": [
    "sym.simplify( (Φ_vec.T * C_mat * Φ_vec)[0] - (Cc*(Φ2-Φ1_prime)**2 + Cc*(Φ1)**2 + Cc*(Φ2_prime)**2))"
   ],
   "metadata": {
    "collapsed": false,
    "ExecuteTime": {
     "end_time": "2025-04-01T15:07:46.789570Z",
     "start_time": "2025-04-01T15:07:46.724112Z"
    }
   },
   "execution_count": 16
  },
  {
   "cell_type": "code",
   "outputs": [],
   "source": [
    "C_mat = sym.Matrix([[ Cp    , 0       ,-eps   ,-eps    ],\n",
    "                    [ 0       , Cm    , eps   , eps   ],\n",
    "                    [-eps    , eps   , Cp   , 0       ],\n",
    "                    [-eps   , eps   , 0       , Cm   ] ])\n",
    "\n",
    "D = sym.Matrix([[ Cp    , 0       ,0  ,0    ],\n",
    "                    [ 0       , Cm    , 0  ,0  ],\n",
    "                    [0    , 0  , Cp   , 0       ],\n",
    "                    [0   , 0  , 0       , Cm   ] ])\n",
    "R = sym.Matrix([[ 0  , 0       ,-eps   ,-eps    ],\n",
    "                    [ 0       , 0  , eps   , eps   ],\n",
    "                    [-eps    , eps   , 0  , 0       ],\n",
    "                    [-eps   , eps   , 0       ,0  ] ])"
   ],
   "metadata": {
    "collapsed": false,
    "ExecuteTime": {
     "end_time": "2025-04-01T15:10:52.210742Z",
     "start_time": "2025-04-01T15:10:52.198072Z"
    }
   },
   "execution_count": 20
  },
  {
   "cell_type": "code",
   "outputs": [
    {
     "data": {
      "text/plain": "Matrix([\n[1/C_+,     0,     0,     0],\n[    0, 1/C_-,     0,     0],\n[    0,     0, 1/C_+,     0],\n[    0,     0,     0, 1/C_-]])",
      "text/latex": "$\\displaystyle \\left[\\begin{matrix}\\frac{1}{C_{+}} & 0 & 0 & 0\\\\0 & \\frac{1}{C_{-}} & 0 & 0\\\\0 & 0 & \\frac{1}{C_{+}} & 0\\\\0 & 0 & 0 & \\frac{1}{C_{-}}\\end{matrix}\\right]$"
     },
     "execution_count": 22,
     "metadata": {},
     "output_type": "execute_result"
    }
   ],
   "source": [
    "D**-1 "
   ],
   "metadata": {
    "collapsed": false,
    "ExecuteTime": {
     "end_time": "2025-04-01T15:11:46.508142Z",
     "start_time": "2025-04-01T15:11:46.491633Z"
    }
   },
   "execution_count": 22
  },
  {
   "cell_type": "code",
   "outputs": [
    {
     "data": {
      "text/plain": "Matrix([\n[                   0,                     0,     varepsilon/C_+**2, varepsilon/(C_+*C_-)],\n[                   0,                     0, -varepsilon/(C_+*C_-),   -varepsilon/C_-**2],\n[   varepsilon/C_+**2, -varepsilon/(C_+*C_-),                     0,                    0],\n[varepsilon/(C_+*C_-),    -varepsilon/C_-**2,                     0,                    0]])",
      "text/latex": "$\\displaystyle \\left[\\begin{matrix}0 & 0 & \\frac{\\varepsilon}{C_{+}^{2}} & \\frac{\\varepsilon}{C_{+} C_{-}}\\\\0 & 0 & - \\frac{\\varepsilon}{C_{+} C_{-}} & - \\frac{\\varepsilon}{C_{-}^{2}}\\\\\\frac{\\varepsilon}{C_{+}^{2}} & - \\frac{\\varepsilon}{C_{+} C_{-}} & 0 & 0\\\\\\frac{\\varepsilon}{C_{+} C_{-}} & - \\frac{\\varepsilon}{C_{-}^{2}} & 0 & 0\\end{matrix}\\right]$"
     },
     "execution_count": 27,
     "metadata": {},
     "output_type": "execute_result"
    }
   ],
   "source": [
    "-D**-1 *R  * D**-1"
   ],
   "metadata": {
    "collapsed": false,
    "ExecuteTime": {
     "end_time": "2025-04-01T15:19:57.526889Z",
     "start_time": "2025-04-01T15:19:57.514854Z"
    }
   },
   "execution_count": 27
  },
  {
   "cell_type": "markdown",
   "source": [
    "## Symmetric capacitive coupling between two unit cells (inner and outter nodes)"
   ],
   "metadata": {
    "collapsed": false
   }
  },
  {
   "cell_type": "code",
   "outputs": [
    {
     "data": {
      "text/plain": "0.5*C_C*Phiprimedot_+**2 - 1.0*C_C*Phiprimedot_+*\\dot{\\Phi}_+ + 0.5*C_C*Phiprimedot_-**2 + 1.0*C_C*Phiprimedot_-*\\dot{\\Phi}_- + 0.5*C_C*\\dot{\\Phi}_+**2 + 0.5*C_C*\\dot{\\Phi}_-**2",
      "text/latex": "$\\displaystyle 0.5 C_{C} \\dot{{\\Phi}'}_{+}^{2} - 1.0 C_{C} \\dot{{\\Phi}'}_{+} \\dot{\\Phi}_+ + 0.5 C_{C} \\dot{{\\Phi}'}_{-}^{2} + 1.0 C_{C} \\dot{{\\Phi}'}_{-} \\dot{\\Phi}_- + 0.5 C_{C} \\dot{\\Phi}_+^{2} + 0.5 C_{C} \\dot{\\Phi}_-^{2}$"
     },
     "execution_count": 18,
     "metadata": {},
     "output_type": "execute_result"
    }
   ],
   "source": [
    "sym.expand(Cc*(Φ2-Φ1_prime)**2 + Cc*(Φ1-Φ2_prime)**2)"
   ],
   "metadata": {
    "collapsed": false,
    "ExecuteTime": {
     "end_time": "2024-08-18T16:19:41.796561700Z",
     "start_time": "2024-08-18T16:19:41.771168900Z"
    }
   },
   "execution_count": 18
  },
  {
   "cell_type": "code",
   "outputs": [],
   "source": [
    "C_mat = sym.Matrix([[ Cc/2    , 0       ,-Cc/2    , 0       ],\n",
    "                    [ 0       , Cc/2    , 0       , Cc/2    ],\n",
    "                    [-Cc/2    , 0       , Cc/2    , 0       ],\n",
    "                    [ 0       , Cc/2    , 0       , Cc/2    ] ])"
   ],
   "metadata": {
    "collapsed": false,
    "ExecuteTime": {
     "end_time": "2024-08-18T16:19:42.205702400Z",
     "start_time": "2024-08-18T16:19:42.180143900Z"
    }
   },
   "execution_count": 19
  },
  {
   "cell_type": "code",
   "outputs": [
    {
     "data": {
      "text/plain": "0",
      "text/latex": "$\\displaystyle 0$"
     },
     "execution_count": 20,
     "metadata": {},
     "output_type": "execute_result"
    }
   ],
   "source": [
    "sym.simplify( (Φ_vec.T * C_mat * Φ_vec)[0] - (Cc*(Φ2-Φ1_prime)**2 + Cc*(Φ1-Φ2_prime)**2))"
   ],
   "metadata": {
    "collapsed": false,
    "ExecuteTime": {
     "end_time": "2024-08-18T16:19:42.947861900Z",
     "start_time": "2024-08-18T16:19:42.892748Z"
    }
   },
   "execution_count": 20
  },
  {
   "cell_type": "code",
   "outputs": [],
   "source": [
    "LR, LF, Lr, Lq, Δ = sym.symbols('L_R, L_F, L_r, L_q, Delta', real=True, positive=True, nonzero=True)"
   ],
   "metadata": {
    "collapsed": false,
    "ExecuteTime": {
     "end_time": "2024-08-18T16:19:43.166627800Z",
     "start_time": "2024-08-18T16:19:43.159974600Z"
    }
   },
   "execution_count": 21
  },
  {
   "cell_type": "code",
   "outputs": [],
   "source": [
    "l2 = Lq*(Lq+4*Lr) - 4 * Δ ** 2"
   ],
   "metadata": {
    "collapsed": false,
    "ExecuteTime": {
     "end_time": "2024-08-18T16:19:43.353008800Z",
     "start_time": "2024-08-18T16:19:43.333700600Z"
    }
   },
   "execution_count": 22
  },
  {
   "cell_type": "code",
   "outputs": [],
   "source": [
    "LR  = l2 / Lq\n",
    "LF  = l2 / (Lq + 4*Lr)"
   ],
   "metadata": {
    "collapsed": false,
    "ExecuteTime": {
     "end_time": "2024-08-18T16:19:43.511369800Z",
     "start_time": "2024-08-18T16:19:43.496858800Z"
    }
   },
   "execution_count": 23
  },
  {
   "cell_type": "code",
   "outputs": [
    {
     "data": {
      "text/plain": "(521/15, 521/35)"
     },
     "execution_count": 24,
     "metadata": {},
     "output_type": "execute_result"
    }
   ],
   "source": [
    "LR.subs({Lq:15, Lr:5, Δ:1}), LF.subs({Lq:15, Lr:5, Δ:1}), "
   ],
   "metadata": {
    "collapsed": false,
    "ExecuteTime": {
     "end_time": "2024-08-18T16:19:43.687325500Z",
     "start_time": "2024-08-18T16:19:43.670974400Z"
    }
   },
   "execution_count": 24
  },
  {
   "cell_type": "code",
   "outputs": [],
   "source": [
    "LR_eq = sym.Eq(LR, l2 / Lq)\n",
    "LF_eq = sym.Eq(LF, l2 / (Lq + 4*Lr))\n",
    "\n",
    "# We need to solve these equations to express Lq and Lr in terms of LF, LR, and Delta\n",
    "solution = sym.solve((LR_eq, LF_eq), (Lq, Lr))"
   ],
   "metadata": {
    "collapsed": false
   },
   "execution_count": null
  },
  {
   "cell_type": "code",
   "outputs": [
    {
     "data": {
      "text/plain": "sqrt(L_F)*sqrt(16*Delta**2 + L_F*L_R)/(2*sqrt(L_R)) + L_F/2",
      "text/latex": "$\\displaystyle \\frac{\\sqrt{L_{F}} \\sqrt{16 \\Delta^{2} + L_{F} L_{R}}}{2 \\sqrt{L_{R}}} + \\frac{L_{F}}{2}$"
     },
     "execution_count": 106,
     "metadata": {},
     "output_type": "execute_result"
    }
   ],
   "source": [
    "sym.simplify( solution[1][0])"
   ],
   "metadata": {
    "collapsed": false,
    "ExecuteTime": {
     "end_time": "2024-05-12T12:48:49.627440700Z",
     "start_time": "2024-05-12T12:48:49.596857200Z"
    }
   },
   "execution_count": 106
  },
  {
   "cell_type": "code",
   "outputs": [
    {
     "data": {
      "text/plain": "-(L_F - L_R)*(sqrt(L_F)*sqrt(L_R) + sqrt(16*Delta**2 + L_F*L_R))/(8*sqrt(L_F)*sqrt(L_R))",
      "text/latex": "$\\displaystyle - \\frac{\\left(L_{F} - L_{R}\\right) \\left(\\sqrt{L_{F}} \\sqrt{L_{R}} + \\sqrt{16 \\Delta^{2} + L_{F} L_{R}}\\right)}{8 \\sqrt{L_{F}} \\sqrt{L_{R}}}$"
     },
     "execution_count": 107,
     "metadata": {},
     "output_type": "execute_result"
    }
   ],
   "source": [
    "sym.simplify( solution[1][1])"
   ],
   "metadata": {
    "collapsed": false,
    "ExecuteTime": {
     "end_time": "2024-05-12T12:48:57.176918600Z",
     "start_time": "2024-05-12T12:48:57.131683400Z"
    }
   },
   "execution_count": 107
  },
  {
   "cell_type": "markdown",
   "source": [
    "# Below this line lies the past, above the future"
   ],
   "metadata": {
    "collapsed": false
   }
  },
  {
   "cell_type": "code",
   "outputs": [],
   "source": [
    "C_R, C_F, C_C = sym.symbols('C_R, C_F, C_C', real=True, positive=True, nonzero=True)"
   ],
   "metadata": {
    "collapsed": false
   },
   "execution_count": null
  },
  {
   "cell_type": "code",
   "outputs": [],
   "source": [
    "C_mat = sym.Matrix([[C_R+C_C/2 , 0         , -C_C/2    , +C_C/2     ],\n",
    "                    [0         , C_F+C_C/2 , -C_C/2    , +C_C/2     ],\n",
    "                    [-C_C/2    , +C_C/2    , C_R+C_C/2 , 0          ],\n",
    "                    [-C_C/2    , +C_C/2    , 0         , C_F+C_C/2  ] ])"
   ],
   "metadata": {
    "collapsed": false
   },
   "execution_count": 5
  },
  {
   "cell_type": "code",
   "outputs": [],
   "source": [
    "C_mat = sym.Matrix([[C_R+C_C/2 , 0         , -C_C/2    , 0         ],\n",
    "                     [0        , C_F+C_C/2 , 0         , +C_C/2    ],\n",
    "                     [-C_C/2   , 0         , C_R+C_C/2 , 0         ],\n",
    "                     [0        , +C_C/2    , 0         , C_F+C_C/2 ] ])"
   ],
   "metadata": {
    "collapsed": false,
    "ExecuteTime": {
     "end_time": "2024-04-25T08:33:14.449299800Z",
     "start_time": "2024-04-25T08:33:14.429867500Z"
    }
   },
   "execution_count": 14
  },
  {
   "cell_type": "code",
   "execution_count": 38,
   "outputs": [],
   "source": [
    "C_inv = C_mat**-1"
   ],
   "metadata": {
    "collapsed": false,
    "ExecuteTime": {
     "end_time": "2024-04-25T08:47:53.369241300Z",
     "start_time": "2024-04-25T08:47:48.570268200Z"
    }
   }
  },
  {
   "cell_type": "code",
   "outputs": [
    {
     "data": {
      "text/plain": "Matrix([\n[2*(C_C**3 + 6*C_C**2*C_F + 4*C_C*C_F**2 + 8*C_C*C_F*C_R + 8*C_F**2*C_R)/(C_C**4 + 4*C_C**3*C_F + 4*C_C**3*C_R + 24*C_C**2*C_F*C_R + 16*C_C*C_F**2*C_R + 16*C_C*C_F*C_R**2 + 16*C_F**2*C_R**2),                                                   4*C_C**2*(-C_F + C_R)/(C_C**4 + 4*C_C**3*C_F + 4*C_C**3*C_R + 24*C_C**2*C_F*C_R + 16*C_C*C_F**2*C_R + 16*C_C*C_F*C_R**2 + 16*C_F**2*C_R**2),                                   2*C_C*(C_C**2 + 4*C_C*C_F + 4*C_F**2)/(C_C**4 + 4*C_C**3*C_F + 4*C_C**3*C_R + 24*C_C**2*C_F*C_R + 16*C_C*C_F**2*C_R + 16*C_C*C_F*C_R**2 + 16*C_F**2*C_R**2),                     2*C_C*(-C_C**2 - 2*C_C*C_F - 2*C_C*C_R - 4*C_F*C_R)/(C_C**4 + 4*C_C**3*C_F + 4*C_C**3*C_R + 24*C_C**2*C_F*C_R + 16*C_C*C_F**2*C_R + 16*C_C*C_F*C_R**2 + 16*C_F**2*C_R**2)],\n[                                                   4*C_C**2*(C_F - C_R)/(C_C**4 + 4*C_C**3*C_F + 4*C_C**3*C_R + 24*C_C**2*C_F*C_R + 16*C_C*C_F**2*C_R + 16*C_C*C_F*C_R**2 + 16*C_F**2*C_R**2), 2*(C_C**3 + 6*C_C**2*C_R + 8*C_C*C_F*C_R + 4*C_C*C_R**2 + 8*C_F*C_R**2)/(C_C**4 + 4*C_C**3*C_F + 4*C_C**3*C_R + 24*C_C**2*C_F*C_R + 16*C_C*C_F**2*C_R + 16*C_C*C_F*C_R**2 + 16*C_F**2*C_R**2),                      2*C_C*(C_C**2 + 2*C_C*C_F + 2*C_C*C_R + 4*C_F*C_R)/(C_C**4 + 4*C_C**3*C_F + 4*C_C**3*C_R + 24*C_C**2*C_F*C_R + 16*C_C*C_F**2*C_R + 16*C_C*C_F*C_R**2 + 16*C_F**2*C_R**2),                                  2*C_C*(-C_C**2 - 4*C_C*C_R - 4*C_R**2)/(C_C**4 + 4*C_C**3*C_F + 4*C_C**3*C_R + 24*C_C**2*C_F*C_R + 16*C_C*C_F**2*C_R + 16*C_C*C_F*C_R**2 + 16*C_F**2*C_R**2)],\n[                                  2*C_C*(C_C**2 + 4*C_C*C_F + 4*C_F**2)/(C_C**4 + 4*C_C**3*C_F + 4*C_C**3*C_R + 24*C_C**2*C_F*C_R + 16*C_C*C_F**2*C_R + 16*C_C*C_F*C_R**2 + 16*C_F**2*C_R**2),                     2*C_C*(-C_C**2 - 2*C_C*C_F - 2*C_C*C_R - 4*C_F*C_R)/(C_C**4 + 4*C_C**3*C_F + 4*C_C**3*C_R + 24*C_C**2*C_F*C_R + 16*C_C*C_F**2*C_R + 16*C_C*C_F*C_R**2 + 16*C_F**2*C_R**2), 2*(C_C**3 + 6*C_C**2*C_F + 4*C_C*C_F**2 + 8*C_C*C_F*C_R + 8*C_F**2*C_R)/(C_C**4 + 4*C_C**3*C_F + 4*C_C**3*C_R + 24*C_C**2*C_F*C_R + 16*C_C*C_F**2*C_R + 16*C_C*C_F*C_R**2 + 16*C_F**2*C_R**2),                                                   4*C_C**2*(-C_F + C_R)/(C_C**4 + 4*C_C**3*C_F + 4*C_C**3*C_R + 24*C_C**2*C_F*C_R + 16*C_C*C_F**2*C_R + 16*C_C*C_F*C_R**2 + 16*C_F**2*C_R**2)],\n[                     2*C_C*(C_C**2 + 2*C_C*C_F + 2*C_C*C_R + 4*C_F*C_R)/(C_C**4 + 4*C_C**3*C_F + 4*C_C**3*C_R + 24*C_C**2*C_F*C_R + 16*C_C*C_F**2*C_R + 16*C_C*C_F*C_R**2 + 16*C_F**2*C_R**2),                                  2*C_C*(-C_C**2 - 4*C_C*C_R - 4*C_R**2)/(C_C**4 + 4*C_C**3*C_F + 4*C_C**3*C_R + 24*C_C**2*C_F*C_R + 16*C_C*C_F**2*C_R + 16*C_C*C_F*C_R**2 + 16*C_F**2*C_R**2),                                                    4*C_C**2*(C_F - C_R)/(C_C**4 + 4*C_C**3*C_F + 4*C_C**3*C_R + 24*C_C**2*C_F*C_R + 16*C_C*C_F**2*C_R + 16*C_C*C_F*C_R**2 + 16*C_F**2*C_R**2), 2*(C_C**3 + 6*C_C**2*C_R + 8*C_C*C_F*C_R + 4*C_C*C_R**2 + 8*C_F*C_R**2)/(C_C**4 + 4*C_C**3*C_F + 4*C_C**3*C_R + 24*C_C**2*C_F*C_R + 16*C_C*C_F**2*C_R + 16*C_C*C_F*C_R**2 + 16*C_F**2*C_R**2)]])",
      "text/latex": "$\\displaystyle \\left[\\begin{matrix}\\frac{2 \\left(C_{C}^{3} + 6 C_{C}^{2} C_{F} + 4 C_{C} C_{F}^{2} + 8 C_{C} C_{F} C_{R} + 8 C_{F}^{2} C_{R}\\right)}{C_{C}^{4} + 4 C_{C}^{3} C_{F} + 4 C_{C}^{3} C_{R} + 24 C_{C}^{2} C_{F} C_{R} + 16 C_{C} C_{F}^{2} C_{R} + 16 C_{C} C_{F} C_{R}^{2} + 16 C_{F}^{2} C_{R}^{2}} & \\frac{4 C_{C}^{2} \\left(- C_{F} + C_{R}\\right)}{C_{C}^{4} + 4 C_{C}^{3} C_{F} + 4 C_{C}^{3} C_{R} + 24 C_{C}^{2} C_{F} C_{R} + 16 C_{C} C_{F}^{2} C_{R} + 16 C_{C} C_{F} C_{R}^{2} + 16 C_{F}^{2} C_{R}^{2}} & \\frac{2 C_{C} \\left(C_{C}^{2} + 4 C_{C} C_{F} + 4 C_{F}^{2}\\right)}{C_{C}^{4} + 4 C_{C}^{3} C_{F} + 4 C_{C}^{3} C_{R} + 24 C_{C}^{2} C_{F} C_{R} + 16 C_{C} C_{F}^{2} C_{R} + 16 C_{C} C_{F} C_{R}^{2} + 16 C_{F}^{2} C_{R}^{2}} & \\frac{2 C_{C} \\left(- C_{C}^{2} - 2 C_{C} C_{F} - 2 C_{C} C_{R} - 4 C_{F} C_{R}\\right)}{C_{C}^{4} + 4 C_{C}^{3} C_{F} + 4 C_{C}^{3} C_{R} + 24 C_{C}^{2} C_{F} C_{R} + 16 C_{C} C_{F}^{2} C_{R} + 16 C_{C} C_{F} C_{R}^{2} + 16 C_{F}^{2} C_{R}^{2}}\\\\\\frac{4 C_{C}^{2} \\left(C_{F} - C_{R}\\right)}{C_{C}^{4} + 4 C_{C}^{3} C_{F} + 4 C_{C}^{3} C_{R} + 24 C_{C}^{2} C_{F} C_{R} + 16 C_{C} C_{F}^{2} C_{R} + 16 C_{C} C_{F} C_{R}^{2} + 16 C_{F}^{2} C_{R}^{2}} & \\frac{2 \\left(C_{C}^{3} + 6 C_{C}^{2} C_{R} + 8 C_{C} C_{F} C_{R} + 4 C_{C} C_{R}^{2} + 8 C_{F} C_{R}^{2}\\right)}{C_{C}^{4} + 4 C_{C}^{3} C_{F} + 4 C_{C}^{3} C_{R} + 24 C_{C}^{2} C_{F} C_{R} + 16 C_{C} C_{F}^{2} C_{R} + 16 C_{C} C_{F} C_{R}^{2} + 16 C_{F}^{2} C_{R}^{2}} & \\frac{2 C_{C} \\left(C_{C}^{2} + 2 C_{C} C_{F} + 2 C_{C} C_{R} + 4 C_{F} C_{R}\\right)}{C_{C}^{4} + 4 C_{C}^{3} C_{F} + 4 C_{C}^{3} C_{R} + 24 C_{C}^{2} C_{F} C_{R} + 16 C_{C} C_{F}^{2} C_{R} + 16 C_{C} C_{F} C_{R}^{2} + 16 C_{F}^{2} C_{R}^{2}} & \\frac{2 C_{C} \\left(- C_{C}^{2} - 4 C_{C} C_{R} - 4 C_{R}^{2}\\right)}{C_{C}^{4} + 4 C_{C}^{3} C_{F} + 4 C_{C}^{3} C_{R} + 24 C_{C}^{2} C_{F} C_{R} + 16 C_{C} C_{F}^{2} C_{R} + 16 C_{C} C_{F} C_{R}^{2} + 16 C_{F}^{2} C_{R}^{2}}\\\\\\frac{2 C_{C} \\left(C_{C}^{2} + 4 C_{C} C_{F} + 4 C_{F}^{2}\\right)}{C_{C}^{4} + 4 C_{C}^{3} C_{F} + 4 C_{C}^{3} C_{R} + 24 C_{C}^{2} C_{F} C_{R} + 16 C_{C} C_{F}^{2} C_{R} + 16 C_{C} C_{F} C_{R}^{2} + 16 C_{F}^{2} C_{R}^{2}} & \\frac{2 C_{C} \\left(- C_{C}^{2} - 2 C_{C} C_{F} - 2 C_{C} C_{R} - 4 C_{F} C_{R}\\right)}{C_{C}^{4} + 4 C_{C}^{3} C_{F} + 4 C_{C}^{3} C_{R} + 24 C_{C}^{2} C_{F} C_{R} + 16 C_{C} C_{F}^{2} C_{R} + 16 C_{C} C_{F} C_{R}^{2} + 16 C_{F}^{2} C_{R}^{2}} & \\frac{2 \\left(C_{C}^{3} + 6 C_{C}^{2} C_{F} + 4 C_{C} C_{F}^{2} + 8 C_{C} C_{F} C_{R} + 8 C_{F}^{2} C_{R}\\right)}{C_{C}^{4} + 4 C_{C}^{3} C_{F} + 4 C_{C}^{3} C_{R} + 24 C_{C}^{2} C_{F} C_{R} + 16 C_{C} C_{F}^{2} C_{R} + 16 C_{C} C_{F} C_{R}^{2} + 16 C_{F}^{2} C_{R}^{2}} & \\frac{4 C_{C}^{2} \\left(- C_{F} + C_{R}\\right)}{C_{C}^{4} + 4 C_{C}^{3} C_{F} + 4 C_{C}^{3} C_{R} + 24 C_{C}^{2} C_{F} C_{R} + 16 C_{C} C_{F}^{2} C_{R} + 16 C_{C} C_{F} C_{R}^{2} + 16 C_{F}^{2} C_{R}^{2}}\\\\\\frac{2 C_{C} \\left(C_{C}^{2} + 2 C_{C} C_{F} + 2 C_{C} C_{R} + 4 C_{F} C_{R}\\right)}{C_{C}^{4} + 4 C_{C}^{3} C_{F} + 4 C_{C}^{3} C_{R} + 24 C_{C}^{2} C_{F} C_{R} + 16 C_{C} C_{F}^{2} C_{R} + 16 C_{C} C_{F} C_{R}^{2} + 16 C_{F}^{2} C_{R}^{2}} & \\frac{2 C_{C} \\left(- C_{C}^{2} - 4 C_{C} C_{R} - 4 C_{R}^{2}\\right)}{C_{C}^{4} + 4 C_{C}^{3} C_{F} + 4 C_{C}^{3} C_{R} + 24 C_{C}^{2} C_{F} C_{R} + 16 C_{C} C_{F}^{2} C_{R} + 16 C_{C} C_{F} C_{R}^{2} + 16 C_{F}^{2} C_{R}^{2}} & \\frac{4 C_{C}^{2} \\left(C_{F} - C_{R}\\right)}{C_{C}^{4} + 4 C_{C}^{3} C_{F} + 4 C_{C}^{3} C_{R} + 24 C_{C}^{2} C_{F} C_{R} + 16 C_{C} C_{F}^{2} C_{R} + 16 C_{C} C_{F} C_{R}^{2} + 16 C_{F}^{2} C_{R}^{2}} & \\frac{2 \\left(C_{C}^{3} + 6 C_{C}^{2} C_{R} + 8 C_{C} C_{F} C_{R} + 4 C_{C} C_{R}^{2} + 8 C_{F} C_{R}^{2}\\right)}{C_{C}^{4} + 4 C_{C}^{3} C_{F} + 4 C_{C}^{3} C_{R} + 24 C_{C}^{2} C_{F} C_{R} + 16 C_{C} C_{F}^{2} C_{R} + 16 C_{C} C_{F} C_{R}^{2} + 16 C_{F}^{2} C_{R}^{2}}\\end{matrix}\\right]$"
     },
     "execution_count": 39,
     "metadata": {},
     "output_type": "execute_result"
    }
   ],
   "source": [
    "sym.simplify(C_inv)"
   ],
   "metadata": {
    "collapsed": false,
    "ExecuteTime": {
     "end_time": "2024-04-25T08:47:54.171899300Z",
     "start_time": "2024-04-25T08:47:53.369241300Z"
    }
   },
   "execution_count": 39
  },
  {
   "cell_type": "code",
   "outputs": [],
   "source": [
    "Csh = 15\n",
    "C   = 15\n",
    "CJ  = 3\n",
    "Cc  = 0.1"
   ],
   "metadata": {
    "collapsed": false,
    "ExecuteTime": {
     "end_time": "2024-04-26T09:43:55.158185Z",
     "start_time": "2024-04-26T09:43:55.156514Z"
    }
   },
   "execution_count": 9
  },
  {
   "cell_type": "code",
   "outputs": [
    {
     "ename": "NameError",
     "evalue": "name 'C_inv' is not defined",
     "output_type": "error",
     "traceback": [
      "\u001B[0;31m---------------------------------------------------------------------------\u001B[0m",
      "\u001B[0;31mNameError\u001B[0m                                 Traceback (most recent call last)",
      "Cell \u001B[0;32mIn[10], line 2\u001B[0m\n\u001B[1;32m      1\u001B[0m C_R, C_F, C_C \u001B[38;5;241m=\u001B[39m sym\u001B[38;5;241m.\u001B[39msymbols(\u001B[38;5;124m'\u001B[39m\u001B[38;5;124mC_R, C_F, C_C\u001B[39m\u001B[38;5;124m'\u001B[39m, real\u001B[38;5;241m=\u001B[39m\u001B[38;5;28;01mTrue\u001B[39;00m, positive\u001B[38;5;241m=\u001B[39m\u001B[38;5;28;01mTrue\u001B[39;00m, nonzero\u001B[38;5;241m=\u001B[39m\u001B[38;5;28;01mTrue\u001B[39;00m)\n\u001B[0;32m----> 2\u001B[0m C_inv_sym_to_num \u001B[38;5;241m=\u001B[39m np\u001B[38;5;241m.\u001B[39marray( \u001B[43mC_inv\u001B[49m\u001B[38;5;241m.\u001B[39msubs({C_C:Cc, C_R:C\u001B[38;5;241m/\u001B[39m\u001B[38;5;241m2\u001B[39m, C_F:C\u001B[38;5;241m/\u001B[39m\u001B[38;5;241m2\u001B[39m \u001B[38;5;241m+\u001B[39m Csh \u001B[38;5;241m+\u001B[39m CJ})\u001B[38;5;241m.\u001B[39mevalf() )\n",
      "\u001B[0;31mNameError\u001B[0m: name 'C_inv' is not defined"
     ]
    }
   ],
   "source": [
    "C_R, C_F, C_C = sym.symbols('C_R, C_F, C_C', real=True, positive=True, nonzero=True)\n",
    "C_inv_sym_to_num = np.array( C_inv.subs({C_C:Cc, C_R:C/2, C_F:C/2 + Csh + CJ}).evalf() )"
   ],
   "metadata": {
    "collapsed": false,
    "ExecuteTime": {
     "end_time": "2024-04-26T09:43:55.364157Z",
     "start_time": "2024-04-26T09:43:55.354969Z"
    }
   },
   "execution_count": 10
  },
  {
   "cell_type": "code",
   "outputs": [],
   "source": [
    "C_R = C/2\n",
    "C_C = Cc\n",
    "C_F = C/2 + Csh + CJ\n",
    "\n",
    "𐌲_R = C / (C_R+C_C/2)\n",
    "𐌲_F = C / (C_F+C_C/2)\n",
    "ε = C_C/2 / C\n",
    "\n",
    "C_inv_approx = 1/C * np.array([[ 𐌲_R    ,   0       ,  ε*𐌲_R**2,  -ε*𐌲_R**2],\n",
    "                               [0       ,   𐌲_F     ,  ε*𐌲_F**2,  -ε*𐌲_F**2],\n",
    "                               [ε*𐌲_R**2,  -ε*𐌲_R**2,   𐌲_R    ,   0       ],\n",
    "                               [ε*𐌲_F**2,  -ε*𐌲_F**2,   0      ,   𐌲_F     ]])\n",
    "\n",
    "# C_inv_approx = 1/C * np.array([[ 𐌲_R    ,   0       ,  ε*𐌲_R**2,   0         ],\n",
    "#                                [0       ,   𐌲_F     ,      0  ,  -ε*𐌲_F**2  ],\n",
    "#                                [ε*𐌲_R**2,   0       ,   𐌲_R    ,   0         ],\n",
    "#                                [0       ,  -ε*𐌲_F**2,   0      ,   𐌲_F       ]])"
   ],
   "metadata": {
    "collapsed": false,
    "ExecuteTime": {
     "end_time": "2024-04-26T09:58:09.329172Z",
     "start_time": "2024-04-26T09:58:09.326683Z"
    }
   },
   "execution_count": 16
  },
  {
   "cell_type": "code",
   "outputs": [
    {
     "data": {
      "text/plain": "3.4"
     },
     "execution_count": 17,
     "metadata": {},
     "output_type": "execute_result"
    }
   ],
   "source": [
    "C_F / C_R"
   ],
   "metadata": {
    "collapsed": false,
    "ExecuteTime": {
     "end_time": "2024-04-26T09:58:09.665544Z",
     "start_time": "2024-04-26T09:58:09.662865Z"
    }
   },
   "execution_count": 17
  },
  {
   "cell_type": "code",
   "outputs": [],
   "source": [
    "C_num = np.array  ([[C_R+C_C/2, 0      , -C_C/2 , +C_C/2   ],\n",
    "                    [0      , C_F+C_C/2, -C_C/2 , +C_C/2   ],\n",
    "                    [-C_C/2 , +C_C/2 , C_R+C_C/2, 0        ],\n",
    "                    [-C_C/2 , +C_C/2 , 0      , C_F+C_C/2] ])\n",
    "# C_num = np.array  ([[C_R+C_C/2, 0      , -C_C/2 ,0       ],\n",
    "#                     [0      , C_F+C_C/2, 0      , +C_C/2 ],\n",
    "#                     [-C_C/2 , 0      , C_R+C_C/2, 0      ],\n",
    "#                     [0      , +C_C/2 , 0      , C_F+C_C/2] ])"
   ],
   "metadata": {
    "collapsed": false,
    "ExecuteTime": {
     "end_time": "2024-04-26T09:58:10.019593Z",
     "start_time": "2024-04-26T09:58:10.017316Z"
    }
   },
   "execution_count": 18
  },
  {
   "cell_type": "code",
   "outputs": [
    {
     "data": {
      "text/plain": "array([[1.325e-01, -1.209e-06, 8.772e-04, -2.592e-04],\n       [1.209e-06, 3.914e-02, 2.592e-04, -7.659e-05],\n       [8.772e-04, -2.592e-04, 1.325e-01, -1.209e-06],\n       [2.592e-04, -7.659e-05, 1.209e-06, 3.914e-02]])"
     },
     "execution_count": 19,
     "metadata": {},
     "output_type": "execute_result"
    }
   ],
   "source": [
    "np.linalg.inv(C_num)"
   ],
   "metadata": {
    "collapsed": false,
    "ExecuteTime": {
     "end_time": "2024-04-26T09:58:10.469223Z",
     "start_time": "2024-04-26T09:58:10.466742Z"
    }
   },
   "execution_count": 19
  },
  {
   "cell_type": "code",
   "outputs": [
    {
     "data": {
      "text/plain": "0.11666666666666667"
     },
     "execution_count": 20,
     "metadata": {},
     "output_type": "execute_result"
    }
   ],
   "source": [
    "(1 + (1 - C_R/C) + (1 - C_R/C)**2)/C"
   ],
   "metadata": {
    "collapsed": false,
    "ExecuteTime": {
     "end_time": "2024-04-26T09:58:10.969824Z",
     "start_time": "2024-04-26T09:58:10.967177Z"
    }
   },
   "execution_count": 20
  },
  {
   "cell_type": "code",
   "outputs": [
    {
     "data": {
      "text/plain": "0.05266666666666667"
     },
     "execution_count": 21,
     "metadata": {},
     "output_type": "execute_result"
    }
   ],
   "source": [
    "(1 + (1 - C_F/C) + (1 - C_F/C)**2)/C"
   ],
   "metadata": {
    "collapsed": false,
    "ExecuteTime": {
     "end_time": "2024-04-26T09:58:11.681404Z",
     "start_time": "2024-04-26T09:58:11.679115Z"
    }
   },
   "execution_count": 21
  },
  {
   "cell_type": "code",
   "outputs": [
    {
     "data": {
      "text/plain": "-0.00011111111111111112"
     },
     "execution_count": 23,
     "metadata": {},
     "output_type": "execute_result"
    }
   ],
   "source": [
    "-2*ε*(1-C_R/C)**2 /C"
   ],
   "metadata": {
    "collapsed": false,
    "ExecuteTime": {
     "end_time": "2024-04-26T09:59:25.415533Z",
     "start_time": "2024-04-26T09:59:25.413441Z"
    }
   },
   "execution_count": 23
  },
  {
   "cell_type": "code",
   "outputs": [
    {
     "data": {
      "text/plain": "-4.444444444444445e-05"
     },
     "execution_count": 27,
     "metadata": {},
     "output_type": "execute_result"
    }
   ],
   "source": [
    "(ε*(1-C_R/C) + ε*(1-C_F/C) )/C"
   ],
   "metadata": {
    "collapsed": false,
    "ExecuteTime": {
     "end_time": "2024-04-26T10:00:41.696401Z",
     "start_time": "2024-04-26T10:00:41.694160Z"
    }
   },
   "execution_count": 27
  },
  {
   "cell_type": "code",
   "outputs": [
    {
     "data": {
      "text/plain": "array([[1.325e-01, 0.000e+00, 8.772e-04, -8.772e-04],\n       [0.000e+00, 1.325e-01, 8.772e-04, -8.772e-04],\n       [8.772e-04, -8.772e-04, 1.325e-01, 0.000e+00],\n       [8.772e-04, -8.772e-04, 0.000e+00, 1.325e-01]])"
     },
     "execution_count": 222,
     "metadata": {},
     "output_type": "execute_result"
    }
   ],
   "source": [
    "C_inv_approx"
   ],
   "metadata": {
    "collapsed": false,
    "ExecuteTime": {
     "end_time": "2024-04-25T10:02:10.881168900Z",
     "start_time": "2024-04-25T10:02:10.871060300Z"
    }
   },
   "execution_count": 222
  },
  {
   "cell_type": "code",
   "outputs": [
    {
     "data": {
      "text/plain": "1.1111111111111113e-05"
     },
     "execution_count": 214,
     "metadata": {},
     "output_type": "execute_result"
    }
   ],
   "source": [
    "ε**2"
   ],
   "metadata": {
    "collapsed": false,
    "ExecuteTime": {
     "end_time": "2024-04-25T10:00:06.748552500Z",
     "start_time": "2024-04-25T10:00:06.730541Z"
    }
   },
   "execution_count": 214
  },
  {
   "cell_type": "code",
   "outputs": [
    {
     "data": {
      "text/plain": "1e-06"
     },
     "execution_count": 217,
     "metadata": {},
     "output_type": "execute_result"
    }
   ],
   "source": [
    "0.001**2"
   ],
   "metadata": {
    "collapsed": false,
    "ExecuteTime": {
     "end_time": "2024-04-25T10:00:26.100371300Z",
     "start_time": "2024-04-25T10:00:26.070036200Z"
    }
   },
   "execution_count": 217
  },
  {
   "cell_type": "code",
   "outputs": [
    {
     "data": {
      "text/plain": "Matrix([\n[1, 0, 0, 0, 1, 0],\n[0, 1, 0, 0, 0, 1],\n[0, 0, 2, 0, 0, 0],\n[0, 0, 0, 2, 0, 0],\n[1, 0, 0, 0, 1, 0],\n[0, 1, 0, 0, 0, 1]])",
      "text/latex": "$\\displaystyle \\left[\\begin{matrix}1 & 0 & 0 & 0 & 1 & 0\\\\0 & 1 & 0 & 0 & 0 & 1\\\\0 & 0 & 2 & 0 & 0 & 0\\\\0 & 0 & 0 & 2 & 0 & 0\\\\1 & 0 & 0 & 0 & 1 & 0\\\\0 & 1 & 0 & 0 & 0 & 1\\end{matrix}\\right]$"
     },
     "execution_count": 10,
     "metadata": {},
     "output_type": "execute_result"
    }
   ],
   "source": [
    "# Define the symbols\n",
    "alpha= sym.symbols('\\\\alpha', real=True, positive = True, nonzero=True)\n",
    "N=6\n",
    "C_mat = sym.Matrix(N,N, lambda i, j: -1 if abs(i-j) == 2 else 0)\n",
    "C_mat**2"
   ],
   "metadata": {
    "collapsed": false,
    "ExecuteTime": {
     "end_time": "2024-04-25T08:28:21.984767100Z",
     "start_time": "2024-04-25T08:28:21.958445Z"
    }
   },
   "execution_count": 10
  },
  {
   "cell_type": "code",
   "outputs": [
    {
     "data": {
      "text/plain": "Matrix([\n[\\alpha + 1,    -\\alpha,       \\alpha,       \\alpha,          0,            0],\n[   -\\alpha, \\alpha + 2,      -\\alpha,      -\\alpha,          0,            0],\n[    \\alpha,    -\\alpha, 2*\\alpha + 3,            0,     \\alpha,       \\alpha],\n[    \\alpha,    -\\alpha,            0, 2*\\alpha + 1,    -\\alpha,      -\\alpha],\n[         0,          0,       \\alpha,      -\\alpha, \\alpha + 4,       \\alpha],\n[         0,          0,       \\alpha,      -\\alpha,     \\alpha, \\alpha + 0.7]])",
      "text/latex": "$\\displaystyle \\left[\\begin{matrix}\\alpha + 1 & - \\alpha & \\alpha & \\alpha & 0 & 0\\\\- \\alpha & \\alpha + 2 & - \\alpha & - \\alpha & 0 & 0\\\\\\alpha & - \\alpha & 2 \\alpha + 3 & 0 & \\alpha & \\alpha\\\\\\alpha & - \\alpha & 0 & 2 \\alpha + 1 & - \\alpha & - \\alpha\\\\0 & 0 & \\alpha & - \\alpha & \\alpha + 4 & \\alpha\\\\0 & 0 & \\alpha & - \\alpha & \\alpha & \\alpha + 0.7\\end{matrix}\\right]$"
     },
     "execution_count": 52,
     "metadata": {},
     "output_type": "execute_result"
    }
   ],
   "source": [
    "# Define the symbols\n",
    "alpha= sym.symbols('\\\\alpha', real=True, positive = True, nonzero=True)\n",
    "N=6\n",
    "C_mat = sym.Matrix(N,N, lambda i, j: 1+alpha if i == j else -alpha if abs(i-j) == 2 else -alpha if ((i==N-1 and j==0) or (i==0 and j==N-1) )  else 0)\n",
    "# C_mat = sym.Matrix(N,N, lambda i, j: 1+alpha if i == j else -alpha if abs(i-j) == 2 else -alpha if abs(i-j) == 1 else -alpha if ((i==N-1 and j==0) or (i==0 and j==N-1) )  else 0)\n",
    "# C_mat = sym.Matrix(N,N, lambda i, j: 1+alpha if i == j else -alpha if abs(i-j) == 2  else 0)\n",
    "\n",
    "C_mat = sym.Matrix([[1+alpha, -alpha  , alpha , alpha  , 0,  0],\n",
    "                    [-alpha , 2+alpha, -alpha , -alpha  , 0, 0 ],\n",
    "                    [alpha  , -alpha ,3+2*alpha , 0      , alpha, alpha ],\n",
    "                    [alpha  , -alpha , 0      , 1+2*alpha, -alpha, -alpha],\n",
    "                    [0      ,  0     , alpha  , -alpha    , 4+alpha, alpha],\n",
    "                    [0      , 0      , alpha  , -alpha    , alpha, 0.7+alpha] ])\n",
    "\n",
    "# C_mat = sym.Matrix([[1, -alpha  , alpha , alpha  , 0,  0],\n",
    "#                     [-alpha , 1, -alpha , -alpha  , 0, 0 ],\n",
    "#                     [alpha  , -alpha ,1 , 0      , alpha, alpha ],\n",
    "#                     [alpha  , -alpha , 0      , 1, -alpha, -alpha],\n",
    "#                     [0      ,  0     , alpha  , -alpha    , 1, alpha],\n",
    "#                     [0      , 0      , alpha  , -alpha    , alpha, 1] ])\n",
    "\n",
    "C_mat"
   ],
   "metadata": {
    "collapsed": false,
    "ExecuteTime": {
     "end_time": "2024-08-18T16:36:17.841912900Z",
     "start_time": "2024-08-18T16:36:17.796285200Z"
    }
   },
   "execution_count": 52
  },
  {
   "cell_type": "code",
   "outputs": [
    {
     "data": {
      "text/plain": "array([[7.314e-01, 1.343e-01, -1.044e-01, -2.240e-01, -1.116e-02, -6.377e-02],\n       [1.343e-01, 4.328e-01, 5.221e-02, 1.120e-01, 5.580e-03, 3.189e-02],\n       [-1.044e-01, 5.221e-02, 2.650e-01, -3.986e-03, -2.511e-02, -1.435e-01],\n       [-2.240e-01, 1.120e-01, -3.986e-03, 5.640e-01, 5.301e-02, 3.029e-01],\n       [-1.116e-02, 5.580e-03, -2.511e-02, 5.301e-02, 2.340e-01, -9.167e-02],\n       [-6.377e-02, 3.189e-02, -1.435e-01, 3.029e-01, -9.167e-02, 9.047e-01]])"
     },
     "execution_count": 55,
     "metadata": {},
     "output_type": "execute_result"
    }
   ],
   "source": [
    "np.linalg.inv(np.array((C_mat.subs(alpha,1)), dtype='float'))"
   ],
   "metadata": {
    "collapsed": false,
    "ExecuteTime": {
     "end_time": "2024-08-18T16:38:16.592785900Z",
     "start_time": "2024-08-18T16:38:16.570821400Z"
    }
   },
   "execution_count": 55
  },
  {
   "cell_type": "code",
   "outputs": [],
   "source": [
    "C_inv = C_mat **-1\n",
    "# C_inv = sym.simplify(C_inv)"
   ],
   "metadata": {
    "collapsed": false,
    "ExecuteTime": {
     "end_time": "2024-08-18T16:37:02.775586500Z",
     "start_time": "2024-08-18T16:36:20.833185800Z"
    }
   },
   "execution_count": 53
  },
  {
   "cell_type": "code",
   "outputs": [
    {
     "data": {
      "text/plain": "Matrix([\n[(65143644120.0*\\alpha**34 + 2489381574660.0*\\alpha**33 + 45040794026269.5*\\alpha**32 + 514614924155669.0*\\alpha**31 + 4.17837383544339e+15*\\alpha**30 + 2.57230393375125e+16*\\alpha**29 + 1.25090356887141e+17*\\alpha**28 + 4.94255247740483e+17*\\alpha**27 + 1.6195304834827e+18*\\alpha**26 + 4.46912739250521e+18*\\alpha**25 + 1.05100208031684e+19*\\alpha**24 + 2.12597779092207e+19*\\alpha**23 + 3.72611259748985e+19*\\alpha**22 + 5.69091143630759e+19*\\alpha**21 + 7.60788289781084e+19*\\alpha**20 + 8.93213842062639e+19*\\alpha**19 + 9.23197339876618e+19*\\alpha**18 + 8.41282383115429e+19*\\alpha**17 + 6.76399416519681e+19*\\alpha**16 + 4.79776373192268e+19*\\alpha**15 + 2.99956409866769e+19*\\alpha**14 + 1.65006695899311e+19*\\alpha**13 + 7.96537610141542e+18*\\alpha**12 + 3.36164599371037e+18*\\alpha**11 + 1.23418458868363e+18*\\alpha**10 + 3.91629834683991e+17*\\alpha**9 + 1.06510735277517e+17*\\alpha**8 + 2.45581034835782e+16*\\alpha**7 + 4.73196722439767e+15*\\alpha**6 + 747360502225920.0*\\alpha**5 + 94174068776140.8*\\alpha**4 + 9098745823641.6*\\alpha**3 + 632528754278.4*\\alpha**2 + 28149468364.8*\\alpha + 601974374.4)/(103786884360.0*\\alpha**34 + 3942037625580.0*\\alpha**33 + 70855452633568.5*\\alpha**32 + 803835119579216.0*\\alpha**31 + 6.47726054854036e+15*\\alpha**30 + 3.9554155318572e+16*\\alpha**29 + 1.90708703683405e+17*\\alpha**28 + 7.46742203821078e+17*\\alpha**27 + 2.42371458870107e+18*\\alpha**26 + 6.62204170852331e+18*\\alpha**25 + 1.54119067884307e+19*\\alpha**24 + 3.0839269491757e+19*\\alpha**23 + 5.3444654038602e+19*\\alpha**22 + 8.06759779056065e+19*\\alpha**21 + 1.06549589866265e+20*\\alpha**20 + 1.2353220629136e+20*\\alpha**19 + 1.26027917971168e+20*\\alpha**18 + 1.13310798713299e+20*\\alpha**17 + 8.98460089860556e+19*\\alpha**16 + 6.28214658346044e+19*\\alpha**15 + 3.86996757876669e+19*\\alpha**14 + 2.09669755450043e+19*\\alpha**13 + 9.96390119453223e+18*\\alpha**12 + 4.13777404952026e+18*\\alpha**11 + 1.49413004676614e+18*\\alpha**10 + 4.66099460702423e+17*\\alpha**9 + 1.24563644703623e+17*\\alpha**8 + 2.82090278040551e+16*\\alpha**7 + 5.33618248856233e+15*\\alpha**6 + 827018646370099.0*\\alpha**5 + 102214806714778.0*\\alpha**4 + 9681958066176.0*\\alpha**3 + 659574602956.8*\\alpha**2 + 28751442739.2*\\alpha + 601974374.4), (19321620120.0*\\alpha**34 + 726328025460.0*\\alpha**33 + 12907329303649.5*\\alpha**32 + 144610097711774.0*\\alpha**31 + 1.14944335654848e+15*\\alpha**30 + 6.91555799052973e+15*\\alpha**29 + 3.28091733981318e+16*\\alpha**28 + 1.26243478040297e+17*\\alpha**27 + 4.02092052609185e+17*\\alpha**26 + 1.07645715800905e+18*\\alpha**25 + 2.45094299263112e+18*\\alpha**24 + 4.78974579126815e+18*\\alpha**23 + 8.09176403185175e+18*\\alpha**22 + 1.18834317712653e+19*\\alpha**21 + 1.52353804440783e+19*\\alpha**20 + 1.71054110425482e+19*\\alpha**19 + 1.68540919917529e+19*\\alpha**18 + 1.4591280200878e+19*\\alpha**17 + 1.11030336670438e+19*\\alpha**16 + 7.42191425768883e+18*\\alpha**15 + 4.35201740049502e+18*\\alpha**14 + 2.23315297753664e+18*\\alpha**13 + 9.99262546558409e+17*\\alpha**12 + 3.88064027904946e+17*\\alpha**11 + 1.29972729041256e+17*\\alpha**10 + 3.72348130092159e+16*\\alpha**9 + 9.0264547130529e+15*\\alpha**8 + 1.82546216023841e+15*\\alpha**7 + 302107632082330.0*\\alpha**6 + 39829072072089.6*\\alpha**5 + 4020368969318.4*\\alpha**4 + 291606121267.2*\\alpha**3 + 13522924339.2*\\alpha**2 + 300987187.2*\\alpha)/(103786884360.0*\\alpha**34 + 3942037625580.0*\\alpha**33 + 70855452633568.5*\\alpha**32 + 803835119579216.0*\\alpha**31 + 6.47726054854036e+15*\\alpha**30 + 3.9554155318572e+16*\\alpha**29 + 1.90708703683405e+17*\\alpha**28 + 7.46742203821078e+17*\\alpha**27 + 2.42371458870107e+18*\\alpha**26 + 6.62204170852331e+18*\\alpha**25 + 1.54119067884307e+19*\\alpha**24 + 3.0839269491757e+19*\\alpha**23 + 5.3444654038602e+19*\\alpha**22 + 8.06759779056065e+19*\\alpha**21 + 1.06549589866265e+20*\\alpha**20 + 1.2353220629136e+20*\\alpha**19 + 1.26027917971168e+20*\\alpha**18 + 1.13310798713299e+20*\\alpha**17 + 8.98460089860556e+19*\\alpha**16 + 6.28214658346044e+19*\\alpha**15 + 3.86996757876669e+19*\\alpha**14 + 2.09669755450043e+19*\\alpha**13 + 9.96390119453223e+18*\\alpha**12 + 4.13777404952026e+18*\\alpha**11 + 1.49413004676614e+18*\\alpha**10 + 4.66099460702423e+17*\\alpha**9 + 1.24563644703623e+17*\\alpha**8 + 2.82090278040551e+16*\\alpha**7 + 5.33618248856233e+15*\\alpha**6 + 827018646370099.0*\\alpha**5 + 102214806714778.0*\\alpha**4 + 9681958066176.0*\\alpha**3 + 659574602956.8*\\alpha**2 + 28751442739.2*\\alpha + 601974374.4), (-15732228240.0*\\alpha**34 - 590450896440.0*\\alpha**33 - 10474254271449.0*\\alpha**32 - 117125111505249.0*\\alpha**31 - 929031571361290.0*\\alpha**30 - 5.57681866411657e+15*\\alpha**29 - 2.63933130422887e+16*\\alpha**28 - 1.01290244628634e+17*\\alpha**27 - 3.21708367821911e+17*\\alpha**26 - 8.58671251379201e+17*\\alpha**25 - 1.94880423800263e+18*\\alpha**24 - 3.79541851619115e+18*\\alpha**23 - 6.3885928834483e+18*\\alpha**22 - 9.34578627847704e+18*\\alpha**21 - 1.19324683924067e+19*\\alpha**20 - 1.33382159473168e+19*\\alpha**19 - 1.30807740280996e+19*\\alpha**18 - 1.12681733381766e+19*\\alpha**17 - 8.52889354250336e+18*\\alpha**16 - 5.66900065165243e+18*\\alpha**15 - 3.30413726558792e+18*\\alpha**14 - 1.68456504937108e+18*\\alpha**13 - 7.48621293224954e+17*\\alpha**12 - 2.88599619465587e+17*\\alpha**11 - 9.59035561662705e+16*\\alpha**10 - 2.72448442223009e+16*\\alpha**9 - 6.54558215308979e+15*\\alpha**8 - 1.31105837185981e+15*\\alpha**7 - 214747628245402.0*\\alpha**6 - 28000061149593.6*\\alpha**5 - 2792960107315.2*\\alpha**4 - 200011360665.6*\\alpha**3 - 9149054976.0*\\alpha**2 - 200658124.8*\\alpha)/(103786884360.0*\\alpha**34 + 3942037625580.0*\\alpha**33 + 70855452633568.5*\\alpha**32 + 803835119579216.0*\\alpha**31 + 6.47726054854036e+15*\\alpha**30 + 3.9554155318572e+16*\\alpha**29 + 1.90708703683405e+17*\\alpha**28 + 7.46742203821078e+17*\\alpha**27 + 2.42371458870107e+18*\\alpha**26 + 6.62204170852331e+18*\\alpha**25 + 1.54119067884307e+19*\\alpha**24 + 3.0839269491757e+19*\\alpha**23 + 5.3444654038602e+19*\\alpha**22 + 8.06759779056065e+19*\\alpha**21 + 1.06549589866265e+20*\\alpha**20 + 1.2353220629136e+20*\\alpha**19 + 1.26027917971168e+20*\\alpha**18 + 1.13310798713299e+20*\\alpha**17 + 8.98460089860556e+19*\\alpha**16 + 6.28214658346044e+19*\\alpha**15 + 3.86996757876669e+19*\\alpha**14 + 2.09669755450043e+19*\\alpha**13 + 9.96390119453223e+18*\\alpha**12 + 4.13777404952026e+18*\\alpha**11 + 1.49413004676614e+18*\\alpha**10 + 4.66099460702423e+17*\\alpha**9 + 1.24563644703623e+17*\\alpha**8 + 2.82090278040551e+16*\\alpha**7 + 5.33618248856233e+15*\\alpha**6 + 827018646370099.0*\\alpha**5 + 102214806714778.0*\\alpha**4 + 9681958066176.0*\\alpha**3 + 659574602956.8*\\alpha**2 + 28751442739.2*\\alpha + 601974374.4), (-30089795760.0*\\alpha**34 - 1133959412520.0*\\alpha**33 - 20206554400251.0*\\alpha**32 - 227065056331347.0*\\alpha**31 - 1.81067871211007e+15*\\alpha**30 - 1.09317759697692e+16*\\alpha**29 - 5.20567544656613e+16*\\alpha**28 - 2.01103178275288e+17*\\alpha**27 - 6.43243106971007e+17*\\alpha**26 - 1.72981487789859e+18*\\alpha**25 - 3.9573592565166e+18*\\alpha**24 - 7.77272761649914e+18*\\alpha**23 - 1.32012774770621e+19*\\alpha**22 - 1.94963682496301e+19*\\alpha**21 - 2.51441165990928e+19*\\alpha**20 - 2.84069963282424e+19*\\alpha**19 - 2.8174045882713e+19*\\alpha**18 - 2.45606007889824e+19*\\alpha**17 - 1.88254540406649e+19*\\alpha**16 - 1.2680655075798e+19*\\alpha**15 - 7.49565780521632e+18*\\alpha**14 - 3.87891676203331e+18*\\alpha**13 - 1.75118630655878e+18*\\alpha**12 - 6.8645725322302e+17*\\alpha**11 - 2.32180247666214e+17*\\alpha**10 - 6.72047193699612e+16*\\alpha**9 - 1.64690723929422e+16*\\alpha**8 - 3.36867352537421e+15*\\alpha**7 - 564187643593114.0*\\alpha**6 - 75316104839577.6*\\alpha**5 - 7702595555328.0*\\alpha**4 - 566390403072.0*\\alpha**3 - 26644532428.8*\\alpha**2 - 601974374.4*\\alpha)/(103786884360.0*\\alpha**34 + 3942037625580.0*\\alpha**33 + 70855452633568.5*\\alpha**32 + 803835119579216.0*\\alpha**31 + 6.47726054854036e+15*\\alpha**30 + 3.9554155318572e+16*\\alpha**29 + 1.90708703683405e+17*\\alpha**28 + 7.46742203821078e+17*\\alpha**27 + 2.42371458870107e+18*\\alpha**26 + 6.62204170852331e+18*\\alpha**25 + 1.54119067884307e+19*\\alpha**24 + 3.0839269491757e+19*\\alpha**23 + 5.3444654038602e+19*\\alpha**22 + 8.06759779056065e+19*\\alpha**21 + 1.06549589866265e+20*\\alpha**20 + 1.2353220629136e+20*\\alpha**19 + 1.26027917971168e+20*\\alpha**18 + 1.13310798713299e+20*\\alpha**17 + 8.98460089860556e+19*\\alpha**16 + 6.28214658346044e+19*\\alpha**15 + 3.86996757876669e+19*\\alpha**14 + 2.09669755450043e+19*\\alpha**13 + 9.96390119453223e+18*\\alpha**12 + 4.13777404952026e+18*\\alpha**11 + 1.49413004676614e+18*\\alpha**10 + 4.66099460702423e+17*\\alpha**9 + 1.24563644703623e+17*\\alpha**8 + 2.82090278040551e+16*\\alpha**7 + 5.33618248856233e+15*\\alpha**6 + 827018646370099.0*\\alpha**5 + 102214806714778.0*\\alpha**4 + 9681958066176.0*\\alpha**3 + 659574602956.8*\\alpha**2 + 28751442739.2*\\alpha + 601974374.4), (-2138361120.0*\\alpha**34 - 79674159600.0001*\\alpha**33 - 1402026051762.0*\\alpha**32 - 15538784773050.0*\\alpha**31 - 122052000246725.0*\\alpha**30 - 724835002822560.0*\\alpha**29 - 3.39039808265058e+15*\\alpha**28 - 1.28459444513268e+16*\\alpha**27 - 4.02352495618408e+16*\\alpha**26 - 1.05774859529876e+17*\\alpha**25 - 2.3613168218641e+17*\\alpha**24 - 4.51690991509287e+17*\\alpha**23 - 7.45562646660352e+17*\\alpha**22 - 1.06762382322513e+18*\\alpha**21 - 1.33166107226593e+18*\\alpha**20 - 1.45095643921348e+18*\\alpha**19 - 1.38353452519822e+18*\\alpha**18 - 1.15548990319342e+18*\\alpha**17 - 8.45153323355645e+17*\\alpha**16 - 5.40793359894913e+17*\\alpha**15 - 3.0209424894343e+17*\\alpha**14 - 1.46847298259991e+17*\\alpha**13 - 6.18346966395107e+16*\\alpha**12 - 2.24177006467177e+16*\\alpha**11 - 6.94130260407467e+15*\\alpha**10 - 1.81622666211768e+15*\\alpha**9 - 395959258290893.0*\\alpha**8 - 70562698775654.4*\\alpha**7 - 10006905142886.4*\\alpha**6 - 1085509826150.4*\\alpha**5 - 84535595827.2*\\alpha**4 - 4205459865.6*\\alpha**3 - 100329062.4*\\alpha**2)/(103786884360.0*\\alpha**34 + 3942037625580.0*\\alpha**33 + 70855452633568.5*\\alpha**32 + 803835119579216.0*\\alpha**31 + 6.47726054854036e+15*\\alpha**30 + 3.9554155318572e+16*\\alpha**29 + 1.90708703683405e+17*\\alpha**28 + 7.46742203821078e+17*\\alpha**27 + 2.42371458870107e+18*\\alpha**26 + 6.62204170852331e+18*\\alpha**25 + 1.54119067884307e+19*\\alpha**24 + 3.0839269491757e+19*\\alpha**23 + 5.3444654038602e+19*\\alpha**22 + 8.06759779056065e+19*\\alpha**21 + 1.06549589866265e+20*\\alpha**20 + 1.2353220629136e+20*\\alpha**19 + 1.26027917971168e+20*\\alpha**18 + 1.13310798713299e+20*\\alpha**17 + 8.98460089860556e+19*\\alpha**16 + 6.28214658346044e+19*\\alpha**15 + 3.86996757876669e+19*\\alpha**14 + 2.09669755450043e+19*\\alpha**13 + 9.96390119453223e+18*\\alpha**12 + 4.13777404952026e+18*\\alpha**11 + 1.49413004676614e+18*\\alpha**10 + 4.66099460702423e+17*\\alpha**9 + 1.24563644703623e+17*\\alpha**8 + 2.82090278040551e+16*\\alpha**7 + 5.33618248856233e+15*\\alpha**6 + 827018646370099.0*\\alpha**5 + 102214806714778.0*\\alpha**4 + 9681958066176.0*\\alpha**3 + 659574602956.8*\\alpha**2 + 28751442739.2*\\alpha + 601974374.4), (-12219206400.0*\\alpha**34 - 455280912000.0*\\alpha**33 - 8011577438640.0*\\alpha**32 - 88793055846000.0*\\alpha**31 - 697440001409856.0*\\alpha**30 - 4.1419143018432e+15*\\alpha**29 - 1.93737033294319e+16*\\alpha**28 - 7.34053968647245e+16*\\alpha**27 - 2.29915711781948e+17*\\alpha**26 - 6.04427768742151e+17*\\alpha**25 - 1.34932389820806e+18*\\alpha**24 - 2.58109138005307e+18*\\alpha**23 - 4.2603579809163e+18*\\alpha**22 - 6.10070756128648e+18*\\alpha**21 - 7.6094918415196e+18*\\alpha**20 - 8.29117965264847e+18*\\alpha**19 - 7.90591157256125e+18*\\alpha**18 - 6.60279944681953e+18*\\alpha**17 - 4.82944756203226e+18*\\alpha**16 - 3.09024777082807e+18*\\alpha**15 - 1.72625285110532e+18*\\alpha**14 - 8.3912741862852e+17*\\alpha**13 - 3.53341123654347e+17*\\alpha**12 - 1.28101146552673e+17*\\alpha**11 - 3.96645863089981e+16*\\alpha**10 - 1.03784380692439e+16*\\alpha**9 - 2.26262433309082e+15*\\alpha**8 - 403215421575168.0*\\alpha**7 - 57182315102208.0*\\alpha**6 - 6202913292288.0*\\alpha**5 - 483060547584.0*\\alpha**4 - 24031199232.0*\\alpha**3 - 573308928.0*\\alpha**2)/(103786884360.0*\\alpha**34 + 3942037625580.0*\\alpha**33 + 70855452633568.5*\\alpha**32 + 803835119579216.0*\\alpha**31 + 6.47726054854036e+15*\\alpha**30 + 3.9554155318572e+16*\\alpha**29 + 1.90708703683405e+17*\\alpha**28 + 7.46742203821078e+17*\\alpha**27 + 2.42371458870107e+18*\\alpha**26 + 6.62204170852331e+18*\\alpha**25 + 1.54119067884307e+19*\\alpha**24 + 3.0839269491757e+19*\\alpha**23 + 5.3444654038602e+19*\\alpha**22 + 8.06759779056065e+19*\\alpha**21 + 1.06549589866265e+20*\\alpha**20 + 1.2353220629136e+20*\\alpha**19 + 1.26027917971168e+20*\\alpha**18 + 1.13310798713299e+20*\\alpha**17 + 8.98460089860556e+19*\\alpha**16 + 6.28214658346044e+19*\\alpha**15 + 3.86996757876669e+19*\\alpha**14 + 2.09669755450043e+19*\\alpha**13 + 9.96390119453223e+18*\\alpha**12 + 4.13777404952026e+18*\\alpha**11 + 1.49413004676614e+18*\\alpha**10 + 4.66099460702423e+17*\\alpha**9 + 1.24563644703623e+17*\\alpha**8 + 2.82090278040551e+16*\\alpha**7 + 5.33618248856233e+15*\\alpha**6 + 827018646370099.0*\\alpha**5 + 102214806714778.0*\\alpha**4 + 9681958066176.0*\\alpha**3 + 659574602956.8*\\alpha**2 + 28751442739.2*\\alpha + 601974374.4)],\n[                                                                                                   (19321620120.0*\\alpha**33 + 707006405340.0*\\alpha**32 + 12200322898309.5*\\alpha**31 + 132409774813464.0*\\alpha**30 + 1.01703358173502e+15*\\alpha**29 + 5.89852440879471e+15*\\alpha**28 + 2.69106489893371e+16*\\alpha**27 + 9.93328290509603e+16*\\alpha**26 + 3.02759223558225e+17*\\alpha**25 + 7.73697934450824e+17*\\alpha**24 + 1.6772450581803e+18*\\alpha**23 + 3.11250073308785e+18*\\alpha**22 + 4.9792632987639e+18*\\alpha**21 + 6.90416847250139e+18*\\alpha**20 + 8.33121197157688e+18*\\alpha**19 + 8.7741990709713e+18*\\alpha**18 + 8.07989292078161e+18*\\alpha**17 + 6.51138728009643e+18*\\alpha**16 + 4.59164638694733e+18*\\alpha**15 + 2.83026787074149e+18*\\alpha**14 + 1.52174952975352e+18*\\alpha**13 + 7.11403447783114e+17*\\alpha**12 + 2.87859098775295e+17*\\alpha**11 + 1.0020492912965e+17*\\alpha**10 + 2.9767799911606e+16*\\alpha**9 + 7.46701309760993e+15*\\alpha**8 + 1.55944161544297e+15*\\alpha**7 + 266020544795443.0*\\alpha**6 + 36087087286886.4*\\alpha**5 + 3741984785203.2*\\alpha**4 + 278384184115.2*\\alpha**3 + 13221937152.0*\\alpha**2 + 300987187.2*\\alpha)/(103786884360.0*\\alpha**33 + 3838250741220.0*\\alpha**32 + 67017201892348.5*\\alpha**31 + 736817917686867.0*\\alpha**30 + 5.7404426308535e+15*\\alpha**29 + 3.38137126877185e+16*\\alpha**28 + 1.56894990995686e+17*\\alpha**27 + 5.89847212825391e+17*\\alpha**26 + 1.83386737587568e+18*\\alpha**25 + 4.78817433264763e+18*\\alpha**24 + 1.0623732455783e+19*\\alpha**23 + 2.02155370359739e+19*\\alpha**22 + 3.3229117002628e+19*\\alpha**21 + 4.74468609029784e+19*\\alpha**20 + 5.91027289632865e+19*\\alpha**19 + 6.44294773280738e+19*\\alpha**18 + 6.15984406430939e+19*\\alpha**17 + 5.17123580702051e+19*\\alpha**16 + 3.81336509158506e+19*\\alpha**15 + 2.46878149187538e+19*\\alpha**14 + 1.40118608689131e+19*\\alpha**13 + 6.95511467609124e+18*\\alpha**12 + 3.008786518441e+18*\\alpha**11 + 1.12898753107927e+18*\\alpha**10 + 3.6514251568688e+17*\\alpha**9 + 1.00956945015543e+17*\\alpha**8 + 2.36066996880796e+16*\\alpha**7 + 4.60232811597542e+15*\\alpha**6 + 733854372586906.0*\\alpha**5 + 93164273783193.6*\\alpha**4 + 9050532931584.0*\\alpha**3 + 631425134592.0*\\alpha**2 + 28149468364.8*\\alpha + 601974374.4),                                               (42232632120.0*\\alpha**33 + 1565622167940.0*\\alpha**32 + 27408439497019.5*\\alpha**31 + 302204071436702.0*\\alpha**30 + 2.36170452455924e+15*\\alpha**29 + 1.39575941394619e+16*\\alpha**28 + 6.49921710031747e+16*\\alpha**27 + 2.45257191887215e+17*\\alpha**26 + 7.65554076158727e+17*\\alpha**25 + 2.0072381990984e+18*\\alpha**24 + 4.47324369880138e+18*\\alpha**23 + 8.55151815144303e+18*\\alpha**22 + 1.41249268519321e+19*\\alpha**21 + 2.02713462152385e+19*\\alpha**20 + 2.53857584958548e+19*\\alpha**19 + 2.78276391285512e+19*\\alpha**18 + 2.67592738611561e+19*\\alpha**17 + 2.26004853950543e+19*\\alpha**16 + 1.67710022644516e+19*\\alpha**15 + 1.09287735240062e+19*\\alpha**14 + 6.24505566957979e+18*\\alpha**13 + 3.12185561415406e+18*\\alpha**12 + 1.36046370983285e+18*\\alpha**11 + 5.14391300974807e+17*\\alpha**10 + 1.67687357887637e+17*\\alpha**9 + 4.67449659589665e+16*\\alpha**8 + 1.10236290363183e+16*\\alpha**7 + 2.16815378558999e+15*\\alpha**6 + 348883642650010.0*\\alpha**5 + 44711144498995.2*\\alpha**4 + 4386074373734.4*\\alpha**3 + 309101598720.0*\\alpha**2 + 13924240588.8*\\alpha + 300987187.2)/(103786884360.0*\\alpha**33 + 3838250741220.0*\\alpha**32 + 67017201892348.5*\\alpha**31 + 736817917686867.0*\\alpha**30 + 5.7404426308535e+15*\\alpha**29 + 3.38137126877185e+16*\\alpha**28 + 1.56894990995686e+17*\\alpha**27 + 5.89847212825391e+17*\\alpha**26 + 1.83386737587568e+18*\\alpha**25 + 4.78817433264763e+18*\\alpha**24 + 1.0623732455783e+19*\\alpha**23 + 2.02155370359739e+19*\\alpha**22 + 3.3229117002628e+19*\\alpha**21 + 4.74468609029784e+19*\\alpha**20 + 5.91027289632865e+19*\\alpha**19 + 6.44294773280738e+19*\\alpha**18 + 6.15984406430939e+19*\\alpha**17 + 5.17123580702051e+19*\\alpha**16 + 3.81336509158506e+19*\\alpha**15 + 2.46878149187538e+19*\\alpha**14 + 1.40118608689131e+19*\\alpha**13 + 6.95511467609124e+18*\\alpha**12 + 3.008786518441e+18*\\alpha**11 + 1.12898753107927e+18*\\alpha**10 + 3.6514251568688e+17*\\alpha**9 + 1.00956945015543e+17*\\alpha**8 + 2.36066996880796e+16*\\alpha**7 + 4.60232811597542e+15*\\alpha**6 + 733854372586906.0*\\alpha**5 + 93164273783193.6*\\alpha**4 + 9050532931584.0*\\alpha**3 + 631425134592.0*\\alpha**2 + 28149468364.8*\\alpha + 601974374.4),                                                                                     (7866114120.0*\\alpha**33 + 287359334100.0*\\alpha**32 + 4949767801624.5*\\alpha**31 + 53612787951000.0*\\alpha**30 + 410902997729645.0*\\alpha**29 + 2.37750633432864e+15*\\alpha**28 + 1.08191501868157e+16*\\alpha**27 + 3.98259721275013e+16*\\alpha**26 + 1.21028211783454e+17*\\alpha**25 + 3.08307413906146e+17*\\alpha**24 + 6.66094705095167e+17*\\alpha**23 + 1.23161455300041e+18*\\alpha**22 + 1.96268188872375e+18*\\alpha**21 + 2.71021125051477e+18*\\alpha**20 + 3.2560229456886e+18*\\alpha**19 + 3.41308502796978e+18*\\alpha**18 + 3.12730198608e+18*\\alpha**17 + 2.50678468300829e+18*\\alpha**16 + 1.7576620882434e+18*\\alpha**15 + 1.07683823758282e+18*\\alpha**14 + 5.75230395211137e+17*\\alpha**13 + 2.67052129474403e+17*\\alpha**12 + 1.07258517138074e+17*\\alpha**11 + 3.70412925947194e+16*\\alpha**10 + 1.09104854884158e+16*\\alpha**9 + 2.71193662273464e+15*\\alpha**8 + 560854453810253.0*\\alpha**7 + 94674732119654.4*\\alpha**6 + 12699082003046.4*\\alpha**5 + 1300948571750.4*\\alpha**4 + 95531481907.2*\\alpha**3 + 4474198425.6*\\alpha**2 + 100329062.4*\\alpha)/(103786884360.0*\\alpha**33 + 3838250741220.0*\\alpha**32 + 67017201892348.5*\\alpha**31 + 736817917686867.0*\\alpha**30 + 5.7404426308535e+15*\\alpha**29 + 3.38137126877185e+16*\\alpha**28 + 1.56894990995686e+17*\\alpha**27 + 5.89847212825391e+17*\\alpha**26 + 1.83386737587568e+18*\\alpha**25 + 4.78817433264763e+18*\\alpha**24 + 1.0623732455783e+19*\\alpha**23 + 2.02155370359739e+19*\\alpha**22 + 3.3229117002628e+19*\\alpha**21 + 4.74468609029784e+19*\\alpha**20 + 5.91027289632865e+19*\\alpha**19 + 6.44294773280738e+19*\\alpha**18 + 6.15984406430939e+19*\\alpha**17 + 5.17123580702051e+19*\\alpha**16 + 3.81336509158506e+19*\\alpha**15 + 2.46878149187538e+19*\\alpha**14 + 1.40118608689131e+19*\\alpha**13 + 6.95511467609124e+18*\\alpha**12 + 3.008786518441e+18*\\alpha**11 + 1.12898753107927e+18*\\alpha**10 + 3.6514251568688e+17*\\alpha**9 + 1.00956945015543e+17*\\alpha**8 + 2.36066996880796e+16*\\alpha**7 + 4.60232811597542e+15*\\alpha**6 + 733854372586906.0*\\alpha**5 + 93164273783193.6*\\alpha**4 + 9050532931584.0*\\alpha**3 + 631425134592.0*\\alpha**2 + 28149468364.8*\\alpha + 601974374.4),                                                                           (15044897880.0*\\alpha**33 + 551934808380.0*\\alpha**32 + 9551342391745.5*\\alpha**31 + 103981185773928.0*\\alpha**30 + 801358170281107.0*\\alpha**29 + 4.66452981460351e+15*\\alpha**28 + 2.13638474182272e+16*\\alpha**27 + 7.91877417194167e+16*\\alpha**26 + 2.42433811766087e+17*\\alpha**25 + 6.22473627183209e+17*\\alpha**24 + 1.35620600107509e+18*\\alpha**23 + 2.53015780717448e+18*\\alpha**22 + 4.07048093135657e+18*\\alpha**21 + 5.67770319345846e+18*\\alpha**20 + 6.89435510608795e+18*\\alpha**19 + 7.30914305803327e+18*\\alpha**18 + 6.77787988332321e+18*\\alpha**17 + 5.50242051116799e+18*\\alpha**16 + 3.91030650916448e+18*\\alpha**15 + 2.43002102873452e+18*\\alpha**14 + 1.31780787387364e+18*\\alpha**13 + 6.2165050714302e+17*\\alpha**12 + 2.53942646136368e+17*\\alpha**11 + 8.92859804751424e+16*\\alpha**10 + 2.68041433579646e+16*\\alpha**9 + 6.79821632701594e+15*\\alpha**8 + 1.43631986945518e+15*\\alpha**7 + 248016893231923.0*\\alpha**6 + 34076928564633.6*\\alpha**5 + 3581123855155.2*\\alpha**4 + 270173922508.8*\\alpha**3 + 13021279027.2*\\alpha**2 + 300987187.2*\\alpha)/(103786884360.0*\\alpha**33 + 3838250741220.0*\\alpha**32 + 67017201892348.5*\\alpha**31 + 736817917686867.0*\\alpha**30 + 5.7404426308535e+15*\\alpha**29 + 3.38137126877185e+16*\\alpha**28 + 1.56894990995686e+17*\\alpha**27 + 5.89847212825391e+17*\\alpha**26 + 1.83386737587568e+18*\\alpha**25 + 4.78817433264763e+18*\\alpha**24 + 1.0623732455783e+19*\\alpha**23 + 2.02155370359739e+19*\\alpha**22 + 3.3229117002628e+19*\\alpha**21 + 4.74468609029784e+19*\\alpha**20 + 5.91027289632865e+19*\\alpha**19 + 6.44294773280738e+19*\\alpha**18 + 6.15984406430939e+19*\\alpha**17 + 5.17123580702051e+19*\\alpha**16 + 3.81336509158506e+19*\\alpha**15 + 2.46878149187538e+19*\\alpha**14 + 1.40118608689131e+19*\\alpha**13 + 6.95511467609124e+18*\\alpha**12 + 3.008786518441e+18*\\alpha**11 + 1.12898753107927e+18*\\alpha**10 + 3.6514251568688e+17*\\alpha**9 + 1.00956945015543e+17*\\alpha**8 + 2.36066996880796e+16*\\alpha**7 + 4.60232811597542e+15*\\alpha**6 + 733854372586906.0*\\alpha**5 + 93164273783193.6*\\alpha**4 + 9050532931584.0*\\alpha**3 + 631425134592.0*\\alpha**2 + 28149468364.8*\\alpha + 601974374.4),                                                                                        (1069180560.0*\\alpha**33 + 38767899240.0*\\alpha**32 + 662245126641.0*\\alpha**31 + 7107147259884.0*\\alpha**30 + 53918852863478.4*\\alpha**29 + 308498648547802.0*\\alpha**28 + 1.38670039277749e+15*\\alpha**27 + 5.03627183288591e+15*\\alpha**26 + 1.50813529480345e+16*\\alpha**25 + 3.78060768169037e+16*\\alpha**24 + 8.02597642763013e+16*\\alpha**23 + 1.45585731478342e+17*\\alpha**22 + 2.27195591851834e+17*\\alpha**21 + 3.06616319760733e+17*\\alpha**20 + 3.59214216372232e+17*\\alpha**19 + 3.66264003234509e+17*\\alpha**18 + 3.255032593646e+17*\\alpha**17 + 2.52241692232109e+17*\\alpha**16 + 1.70334969445713e+17*\\alpha**15 + 1.00061710501743e+17*\\alpha**14 + 5.0985413969972e+16*\\alpha**13 + 2.24382351600235e+16*\\alpha**12 + 8.47911315973185e+15*\\alpha**11 + 2.729737163627e+15*\\alpha**10 + 740914138410342.0*\\alpha**9 + 167199192648499.0*\\alpha**8 + 30780436496947.2*\\alpha**7 + 4500912890880.0*\\alpha**6 + 502539680563.2*\\alpha**5 + 40215232512.0*\\alpha**4 + 2052565401.6*\\alpha**3 + 50164531.2*\\alpha**2)/(103786884360.0*\\alpha**33 + 3838250741220.0*\\alpha**32 + 67017201892348.5*\\alpha**31 + 736817917686867.0*\\alpha**30 + 5.7404426308535e+15*\\alpha**29 + 3.38137126877185e+16*\\alpha**28 + 1.56894990995686e+17*\\alpha**27 + 5.89847212825391e+17*\\alpha**26 + 1.83386737587568e+18*\\alpha**25 + 4.78817433264763e+18*\\alpha**24 + 1.0623732455783e+19*\\alpha**23 + 2.02155370359739e+19*\\alpha**22 + 3.3229117002628e+19*\\alpha**21 + 4.74468609029784e+19*\\alpha**20 + 5.91027289632865e+19*\\alpha**19 + 6.44294773280738e+19*\\alpha**18 + 6.15984406430939e+19*\\alpha**17 + 5.17123580702051e+19*\\alpha**16 + 3.81336509158506e+19*\\alpha**15 + 2.46878149187538e+19*\\alpha**14 + 1.40118608689131e+19*\\alpha**13 + 6.95511467609124e+18*\\alpha**12 + 3.008786518441e+18*\\alpha**11 + 1.12898753107927e+18*\\alpha**10 + 3.6514251568688e+17*\\alpha**9 + 1.00956945015543e+17*\\alpha**8 + 2.36066996880796e+16*\\alpha**7 + 4.60232811597542e+15*\\alpha**6 + 733854372586906.0*\\alpha**5 + 93164273783193.6*\\alpha**4 + 9050532931584.0*\\alpha**3 + 631425134592.0*\\alpha**2 + 28149468364.8*\\alpha + 601974374.4),                                                                         (6109603200.0*\\alpha**33 + 221530852800.0*\\alpha**32 + 3784257866520.0*\\alpha**31 + 40612270056480.0*\\alpha**30 + 308107730648448.0*\\alpha**29 + 1.76284942027315e+15*\\alpha**28 + 7.92400224444278e+15*\\alpha**27 + 2.87786961879195e+16*\\alpha**26 + 8.61791597030544e+16*\\alpha**25 + 2.16034724668021e+17*\\alpha**24 + 4.58627224436007e+17*\\alpha**23 + 8.31918465590527e+17*\\alpha**22 + 1.29826052486762e+18*\\alpha**21 + 1.75209325577562e+18*\\alpha**20 + 2.05265266498418e+18*\\alpha**19 + 2.09293716134005e+18*\\alpha**18 + 1.86001862494057e+18*\\alpha**17 + 1.44138109846919e+18*\\alpha**16 + 9.73342682546934e+17*\\alpha**15 + 5.71781202867103e+17*\\alpha**14 + 2.91345222685554e+17*\\alpha**13 + 1.28218486628706e+17*\\alpha**12 + 4.84520751984677e+16*\\alpha**11 + 1.55984980778685e+16*\\alpha**10 + 4.23379507663053e+15*\\alpha**9 + 955423957991424.0*\\alpha**8 + 175888208553984.0*\\alpha**7 + 25719502233600.0*\\alpha**6 + 2871655317504.0*\\alpha**5 + 229801328640.0*\\alpha**4 + 11728945152.0*\\alpha**3 + 286654464.0*\\alpha**2)/(103786884360.0*\\alpha**33 + 3838250741220.0*\\alpha**32 + 67017201892348.5*\\alpha**31 + 736817917686867.0*\\alpha**30 + 5.7404426308535e+15*\\alpha**29 + 3.38137126877185e+16*\\alpha**28 + 1.56894990995686e+17*\\alpha**27 + 5.89847212825391e+17*\\alpha**26 + 1.83386737587568e+18*\\alpha**25 + 4.78817433264763e+18*\\alpha**24 + 1.0623732455783e+19*\\alpha**23 + 2.02155370359739e+19*\\alpha**22 + 3.3229117002628e+19*\\alpha**21 + 4.74468609029784e+19*\\alpha**20 + 5.91027289632865e+19*\\alpha**19 + 6.44294773280738e+19*\\alpha**18 + 6.15984406430939e+19*\\alpha**17 + 5.17123580702051e+19*\\alpha**16 + 3.81336509158506e+19*\\alpha**15 + 2.46878149187538e+19*\\alpha**14 + 1.40118608689131e+19*\\alpha**13 + 6.95511467609124e+18*\\alpha**12 + 3.008786518441e+18*\\alpha**11 + 1.12898753107927e+18*\\alpha**10 + 3.6514251568688e+17*\\alpha**9 + 1.00956945015543e+17*\\alpha**8 + 2.36066996880796e+16*\\alpha**7 + 4.60232811597542e+15*\\alpha**6 + 733854372586906.0*\\alpha**5 + 93164273783193.6*\\alpha**4 + 9050532931584.0*\\alpha**3 + 631425134592.0*\\alpha**2 + 28149468364.8*\\alpha + 601974374.4)],\n[                                                                                                                                                                                   (-5244076080.0*\\alpha**32 - 188076838680.0*\\alpha**31 - 3174460641963.0*\\alpha**30 - 33625551539358.0*\\alpha**29 - 251518297460191.0*\\alpha**28 - 1.4173253579123e+15*\\alpha**27 - 6.26788321926893e+15*\\alpha**26 - 2.23720592721549e+16*\\alpha**25 - 6.57707683408663e+16*\\alpha**24 - 1.6169109704352e+17*\\alpha**23 - 3.36269072034431e+17*\\alpha**22 - 5.9689698731065e+17*\\alpha**21 - 9.1052326760873e+17*\\alpha**20 - 1.19979198860403e+18*\\alpha**19 - 1.37082063805638e+18*\\alpha**18 - 1.3615095932756e+18*\\alpha**17 - 1.17719492853627e+18*\\alpha**16 - 8.86393169648012e+17*\\alpha**15 - 5.80845945730255e+17*\\alpha**14 - 3.30661527901711e+17*\\alpha**13 - 1.63045911539617e+17*\\alpha**12 - 6.93374786231903e+16*\\alpha**11 - 2.5280692343256e+16*\\alpha**10 - 7.84040016764233e+15*\\alpha**9 - 2.04672354718231e+15*\\alpha**8 - 443475383701555.0*\\alpha**7 - 78252713405798.4*\\alpha**6 - 10948012475904.0*\\alpha**5 - 1167379684761.6*\\alpha**4 - 89045924659.2*\\alpha**3 - 4323704832.0*\\alpha**2 - 100329062.4*\\alpha)/(34595628120.0*\\alpha**32 + 1256353161660.0*\\alpha**31 + 21501498523009.5*\\alpha**30 + 231271640213616.0*\\alpha**29 + 1.75929978347542e+15*\\alpha**28 + 1.00983710402559e+16*\\alpha**27 + 4.55660829717249e+16*\\alpha**26 + 1.66238348960647e+17*\\alpha**25 + 5.00463559318128e+17*\\alpha**24 + 1.26241573800379e+18*\\alpha**23 + 2.69963365992516e+18*\\alpha**22 + 4.9387565720412e+18*\\alpha**21 + 7.78386795284854e+18*\\alpha**20 + 1.06263749990938e+19*\\alpha**19 + 1.2616659655033e+19*\\alpha**18 + 1.30653860060026e+19*\\alpha**17 + 1.18225562103629e+19*\\alpha**16 + 9.35574854982643e+18*\\alpha**15 + 6.47405127206591e+18*\\alpha**14 + 3.91323745820734e+18*\\alpha**13 + 2.06179531749948e+18*\\alpha**12 + 9.4384134703076e+17*\\alpha**11 + 3.73701274793159e+17*\\alpha**10 + 1.27194993830982e+17*\\alpha**9 + 3.69175093416385e+16*\\alpha**8 + 9.04064211075533e+15*\\alpha**7 + 1.841805155523e+15*\\alpha**6 + 306239268309811.0*\\alpha**5 + 40458611989094.4*\\alpha**4 + 4082349935001.6*\\alpha**3 + 295277687193.6*\\alpha**2 + 13623253401.6*\\alpha + 300987187.2),                                                                                                                                                                   (2622038040.0*\\alpha**32 + 94038419340.0*\\alpha**31 + 1587230320981.5*\\alpha**30 + 16812775769679.0*\\alpha**29 + 125759148730096.0*\\alpha**28 + 708662678956150.0*\\alpha**27 + 3.13394160963446e+15*\\alpha**26 + 1.11860296360775e+16*\\alpha**25 + 3.28853841704331e+16*\\alpha**24 + 8.084554852176e+16*\\alpha**23 + 1.68134536017216e+17*\\alpha**22 + 2.98448493655325e+17*\\alpha**21 + 4.55261633804365e+17*\\alpha**20 + 5.99895994302015e+17*\\alpha**19 + 6.8541031902819e+17*\\alpha**18 + 6.807547966378e+17*\\alpha**17 + 5.88597464268135e+17*\\alpha**16 + 4.43196584824006e+17*\\alpha**15 + 2.90422972865128e+17*\\alpha**14 + 1.65330763950856e+17*\\alpha**13 + 8.15229557698087e+16*\\alpha**12 + 3.46687393115951e+16*\\alpha**11 + 1.2640346171628e+16*\\alpha**10 + 3.92020008382116e+15*\\alpha**9 + 1.02336177359116e+15*\\alpha**8 + 221737691850778.0*\\alpha**7 + 39126356702899.2*\\alpha**6 + 5474006237952.0*\\alpha**5 + 583689842380.8*\\alpha**4 + 44522962329.6*\\alpha**3 + 2161852416.0*\\alpha**2 + 50164531.2*\\alpha)/(34595628120.0*\\alpha**32 + 1256353161660.0*\\alpha**31 + 21501498523009.5*\\alpha**30 + 231271640213616.0*\\alpha**29 + 1.75929978347542e+15*\\alpha**28 + 1.00983710402559e+16*\\alpha**27 + 4.55660829717249e+16*\\alpha**26 + 1.66238348960647e+17*\\alpha**25 + 5.00463559318128e+17*\\alpha**24 + 1.26241573800379e+18*\\alpha**23 + 2.69963365992516e+18*\\alpha**22 + 4.9387565720412e+18*\\alpha**21 + 7.78386795284854e+18*\\alpha**20 + 1.06263749990938e+19*\\alpha**19 + 1.2616659655033e+19*\\alpha**18 + 1.30653860060026e+19*\\alpha**17 + 1.18225562103629e+19*\\alpha**16 + 9.35574854982643e+18*\\alpha**15 + 6.47405127206591e+18*\\alpha**14 + 3.91323745820734e+18*\\alpha**13 + 2.06179531749948e+18*\\alpha**12 + 9.4384134703076e+17*\\alpha**11 + 3.73701274793159e+17*\\alpha**10 + 1.27194993830982e+17*\\alpha**9 + 3.69175093416385e+16*\\alpha**8 + 9.04064211075533e+15*\\alpha**7 + 1.841805155523e+15*\\alpha**6 + 306239268309811.0*\\alpha**5 + 40458611989094.4*\\alpha**4 + 4082349935001.6*\\alpha**3 + 295277687193.6*\\alpha**2 + 13623253401.6*\\alpha + 300987187.2),                                                                                                                                  (8120680920.0*\\alpha**32 + 296420075100.0*\\alpha**31 + 5101404718729.5*\\alpha**30 + 55203874591950.0*\\alpha**29 + 422680095412697.0*\\alpha**28 + 2.44310699505132e+15*\\alpha**27 + 1.11055831731857e+16*\\alpha**26 + 4.0834129144418e+16*\\alpha**25 + 1.23946905426471e+17*\\alpha**24 + 3.15363065005303e+17*\\alpha**23 + 6.80500405380563e+17*\\alpha**22 + 1.25667402220975e+18*\\alpha**21 + 2.00006976445367e+18*\\alpha**20 + 2.75828988568548e+18*\\alpha**19 + 3.30949771661581e+18*\\alpha**18 + 3.46464089574081e+18*\\alpha**17 + 3.17043218360517e+18*\\alpha**16 + 2.53808876376106e+18*\\alpha**15 + 1.777348646181e+18*\\alpha**14 + 1.08753808241055e+18*\\alpha**13 + 5.80236549604553e+17*\\alpha**12 + 2.69057130154988e+17*\\alpha**11 + 1.07940686484287e+17*\\alpha**10 + 3.7236450450489e+16*\\alpha**9 + 1.0956788379429e+16*\\alpha**8 + 2.72087736030879e+15*\\alpha**7 + 562222637450573.0*\\alpha**6 + 94834255619174.4*\\alpha**5 + 12712385308262.4*\\alpha**4 + 1301654756966.4*\\alpha**3 + 95549397811.2*\\alpha**2 + 4474198425.6*\\alpha + 100329062.4)/(34595628120.0*\\alpha**32 + 1256353161660.0*\\alpha**31 + 21501498523009.5*\\alpha**30 + 231271640213616.0*\\alpha**29 + 1.75929978347542e+15*\\alpha**28 + 1.00983710402559e+16*\\alpha**27 + 4.55660829717249e+16*\\alpha**26 + 1.66238348960647e+17*\\alpha**25 + 5.00463559318128e+17*\\alpha**24 + 1.26241573800379e+18*\\alpha**23 + 2.69963365992516e+18*\\alpha**22 + 4.9387565720412e+18*\\alpha**21 + 7.78386795284854e+18*\\alpha**20 + 1.06263749990938e+19*\\alpha**19 + 1.2616659655033e+19*\\alpha**18 + 1.30653860060026e+19*\\alpha**17 + 1.18225562103629e+19*\\alpha**16 + 9.35574854982643e+18*\\alpha**15 + 6.47405127206591e+18*\\alpha**14 + 3.91323745820734e+18*\\alpha**13 + 2.06179531749948e+18*\\alpha**12 + 9.4384134703076e+17*\\alpha**11 + 3.73701274793159e+17*\\alpha**10 + 1.27194993830982e+17*\\alpha**9 + 3.69175093416385e+16*\\alpha**8 + 9.04064211075533e+15*\\alpha**7 + 1.841805155523e+15*\\alpha**6 + 306239268309811.0*\\alpha**5 + 40458611989094.4*\\alpha**4 + 4082349935001.6*\\alpha**3 + 295277687193.6*\\alpha**2 + 13623253401.6*\\alpha + 300987187.2),                                                                                                                                                                                                  (-254566799.999999*\\alpha**32 - 9060740999.99997*\\alpha**31 - 151636917105.0*\\alpha**30 - 1591086640950.0*\\alpha**29 - 11777097683052.0*\\alpha**28 - 65600660722680.0*\\alpha**27 - 286432986369996.0*\\alpha**26 - 1.00815701691665e+15*\\alpha**25 - 2.91869364301617e+15*\\alpha**24 - 7.05565109915677e+15*\\alpha**23 - 1.44057002853958e+16*\\alpha**22 - 2.50594692093414e+16*\\alpha**21 - 3.73878757299232e+16*\\alpha**20 - 4.8078635170702e+16*\\alpha**19 - 5.34747709272063e+16*\\alpha**18 - 5.15558677710313e+16*\\alpha**17 - 4.31301975251697e+16*\\alpha**16 - 3.130408075277e+16*\\alpha**15 - 1.9686557937609e+16*\\alpha**14 - 1.06998448277234e+16*\\alpha**13 - 5.00615439341585e+15*\\alpha**12 - 2.00500068058551e+15*\\alpha**11 - 682169346212480.0*\\alpha**10 - 195157855769536.0*\\alpha**9 - 46302891013248.0*\\alpha**8 - 8940737574144.0*\\alpha**7 - 1368183640320.0*\\alpha**6 - 159523499520.0*\\alpha**5 - 13303305216.0*\\alpha**4 - 706185216.000001*\\alpha**3 - 17915904.0*\\alpha**2)/(34595628120.0*\\alpha**32 + 1256353161660.0*\\alpha**31 + 21501498523009.5*\\alpha**30 + 231271640213616.0*\\alpha**29 + 1.75929978347542e+15*\\alpha**28 + 1.00983710402559e+16*\\alpha**27 + 4.55660829717249e+16*\\alpha**26 + 1.66238348960647e+17*\\alpha**25 + 5.00463559318128e+17*\\alpha**24 + 1.26241573800379e+18*\\alpha**23 + 2.69963365992516e+18*\\alpha**22 + 4.9387565720412e+18*\\alpha**21 + 7.78386795284854e+18*\\alpha**20 + 1.06263749990938e+19*\\alpha**19 + 1.2616659655033e+19*\\alpha**18 + 1.30653860060026e+19*\\alpha**17 + 1.18225562103629e+19*\\alpha**16 + 9.35574854982643e+18*\\alpha**15 + 6.47405127206591e+18*\\alpha**14 + 3.91323745820734e+18*\\alpha**13 + 2.06179531749948e+18*\\alpha**12 + 9.4384134703076e+17*\\alpha**11 + 3.73701274793159e+17*\\alpha**10 + 1.27194993830982e+17*\\alpha**9 + 3.69175093416385e+16*\\alpha**8 + 9.04064211075533e+15*\\alpha**7 + 1.841805155523e+15*\\alpha**6 + 306239268309811.0*\\alpha**5 + 40458611989094.4*\\alpha**4 + 4082349935001.6*\\alpha**3 + 295277687193.6*\\alpha**2 + 13623253401.6*\\alpha + 300987187.2),                                                                                                                           (-1247377320.0*\\alpha**32 - 44754024420.0*\\alpha**31 - 755705931214.5*\\alpha**30 - 8008616224602.0*\\alpha**29 - 59935299944284.8*\\alpha**28 - 337931174297405.0*\\alpha**27 - 1.49536255822473e+15*\\alpha**26 - 5.34097556380957e+15*\\alpha**25 - 1.57130186744625e+16*\\alpha**24 - 3.86588614860908e+16*\\alpha**23 - 8.04658429372589e+16*\\alpha**22 - 1.42959379525327e+17*\\alpha**21 - 2.18283847969702e+17*\\alpha**20 - 2.87928338358332e+17*\\alpha**19 - 3.29336466782294e+17*\\alpha**18 - 3.27488431376142e+17*\\alpha**17 - 2.83516182752775e+17*\\alpha**16 - 2.1377227222381e+17*\\alpha**15 - 1.40289846948162e+17*\\alpha**14 - 7.9990420768497e+16*\\alpha**13 - 3.95099392865504e+16*\\alpha**12 - 1.68331194856512e+16*\\alpha**11 - 6.14963074926087e+15*\\alpha**10 - 1.9113105779682e+15*\\alpha**9 - 500105164042266.0*\\alpha**8 - 108633661531853.0*\\alpha**7 - 19221132441369.6*\\alpha**6 - 2697122244096.0*\\alpha**5 - 288519094886.4*\\alpha**4 - 22084934860.8*\\alpha**3 - 1076447232.0*\\alpha**2 - 25082265.6*\\alpha)/(34595628120.0*\\alpha**32 + 1256353161660.0*\\alpha**31 + 21501498523009.5*\\alpha**30 + 231271640213616.0*\\alpha**29 + 1.75929978347542e+15*\\alpha**28 + 1.00983710402559e+16*\\alpha**27 + 4.55660829717249e+16*\\alpha**26 + 1.66238348960647e+17*\\alpha**25 + 5.00463559318128e+17*\\alpha**24 + 1.26241573800379e+18*\\alpha**23 + 2.69963365992516e+18*\\alpha**22 + 4.9387565720412e+18*\\alpha**21 + 7.78386795284854e+18*\\alpha**20 + 1.06263749990938e+19*\\alpha**19 + 1.2616659655033e+19*\\alpha**18 + 1.30653860060026e+19*\\alpha**17 + 1.18225562103629e+19*\\alpha**16 + 9.35574854982643e+18*\\alpha**15 + 6.47405127206591e+18*\\alpha**14 + 3.91323745820734e+18*\\alpha**13 + 2.06179531749948e+18*\\alpha**12 + 9.4384134703076e+17*\\alpha**11 + 3.73701274793159e+17*\\alpha**10 + 1.27194993830982e+17*\\alpha**9 + 3.69175093416385e+16*\\alpha**8 + 9.04064211075533e+15*\\alpha**7 + 1.841805155523e+15*\\alpha**6 + 306239268309811.0*\\alpha**5 + 40458611989094.4*\\alpha**4 + 4082349935001.6*\\alpha**3 + 295277687193.6*\\alpha**2 + 13623253401.6*\\alpha + 300987187.2),                                                                                                                 (-7127870400.0*\\alpha**32 - 255737282400.0*\\alpha**31 - 4318319606940.0*\\alpha**30 - 45763521283440.0*\\alpha**29 - 342487428253056.0*\\alpha**28 - 1.93103528169946e+15*\\alpha**27 - 8.54492890414133e+15*\\alpha**26 - 3.05198603646261e+16*\\alpha**25 - 8.97886781397859e+16*\\alpha**24 - 2.20907779920519e+17*\\alpha**23 - 4.59804816784337e+17*\\alpha**22 - 8.16910740144727e+17*\\alpha**21 - 1.24733627411258e+18*\\alpha**20 - 1.64530479061904e+18*\\alpha**19 - 1.88192266732739e+18*\\alpha**18 - 1.87136246500653e+18*\\alpha**17 - 1.620092472873e+18*\\alpha**16 - 1.22155584127892e+18*\\alpha**15 - 8.01656268275209e+17*\\alpha**14 - 4.57088118677126e+17*\\alpha**13 - 2.25771081637431e+17*\\alpha**12 - 9.61892542037211e+16*\\alpha**11 - 3.51407471386335e+16*\\alpha**10 - 1.09217747312468e+16*\\alpha**9 - 2.85774379452723e+15*\\alpha**8 - 620763780182016.0*\\alpha**7 - 109835042522112.0*\\alpha**6 - 15412127109120.0*\\alpha**5 - 1648680542208.0*\\alpha**4 - 126199627776.0*\\alpha**3 - 6151127040.0*\\alpha**2 - 143327232.0*\\alpha)/(34595628120.0*\\alpha**32 + 1256353161660.0*\\alpha**31 + 21501498523009.5*\\alpha**30 + 231271640213616.0*\\alpha**29 + 1.75929978347542e+15*\\alpha**28 + 1.00983710402559e+16*\\alpha**27 + 4.55660829717249e+16*\\alpha**26 + 1.66238348960647e+17*\\alpha**25 + 5.00463559318128e+17*\\alpha**24 + 1.26241573800379e+18*\\alpha**23 + 2.69963365992516e+18*\\alpha**22 + 4.9387565720412e+18*\\alpha**21 + 7.78386795284854e+18*\\alpha**20 + 1.06263749990938e+19*\\alpha**19 + 1.2616659655033e+19*\\alpha**18 + 1.30653860060026e+19*\\alpha**17 + 1.18225562103629e+19*\\alpha**16 + 9.35574854982643e+18*\\alpha**15 + 6.47405127206591e+18*\\alpha**14 + 3.91323745820734e+18*\\alpha**13 + 2.06179531749948e+18*\\alpha**12 + 9.4384134703076e+17*\\alpha**11 + 3.73701274793159e+17*\\alpha**10 + 1.27194993830982e+17*\\alpha**9 + 3.69175093416385e+16*\\alpha**8 + 9.04064211075533e+15*\\alpha**7 + 1.841805155523e+15*\\alpha**6 + 306239268309811.0*\\alpha**5 + 40458611989094.4*\\alpha**4 + 4082349935001.6*\\alpha**3 + 295277687193.6*\\alpha**2 + 13623253401.6*\\alpha + 300987187.2)],\n[                                                                                                                                                                                                                                                                                                                                                                                                                    (-3343310640.0*\\alpha**29 - 102592315800.0*\\alpha**28 - 1473905009259.0*\\alpha**27 - 13228173282870.0*\\alpha**26 - 83492460894522.6*\\alpha**25 - 395487725602140.0*\\alpha**24 - 1.46467378559716e+15*\\alpha**23 - 4.36115283872317e+15*\\alpha**22 - 1.06511312398357e+16*\\alpha**21 - 2.16528866742514e+16*\\alpha**20 - 3.70449774443964e+16*\\alpha**19 - 5.37758594275231e+16*\\alpha**18 - 6.66319147155004e+16*\\alpha**17 - 7.07642362503473e+16*\\alpha**16 - 6.45792430781727e+16*\\alpha**15 - 5.06991584851115e+16*\\alpha**14 - 3.42302630986203e+16*\\alpha**13 - 1.98414736059696e+16*\\alpha**12 - 9.84180396945264e+15*\\alpha**11 - 4.15653964924808e+15*\\alpha**10 - 1.48404158765e+15*\\alpha**9 - 443559356541952.0*\\alpha**8 - 109501969699507.0*\\alpha**7 - 21918572766720.0*\\alpha**6 - 3465051680102.4*\\alpha**5 - 416033932492.8*\\alpha**4 - 35621744025.6*\\alpha**3 - 1936112025.6*\\alpha**2 - 50164531.2*\\alpha)/(11531876040.0*\\alpha**29 + 357281048340.0*\\alpha**28 + 5188632034936.5*\\alpha**27 + 47131998826644.0*\\alpha**26 + 301486702431761.0*\\alpha**25 + 1.44931467714395e+15*\\alpha**24 + 5.45533626608614e+15*\\alpha**23 + 1.65356898743145e+16*\\alpha**22 + 4.11817480701988e+16*\\alpha**21 + 8.55325478907064e+16*\\alpha**20 + 1.49815180364729e+17*\\alpha**19 + 2.23168262620307e+17*\\alpha**18 + 2.84497345549847e+17*\\alpha**17 + 3.11776466107342e+17*\\alpha**16 + 2.94592352048853e+17*\\alpha**15 + 2.40390481294119e+17*\\alpha**14 + 1.69465008028237e+17*\\alpha**13 + 1.03111721497748e+17*\\alpha**12 + 5.40285626002407e+16*\\alpha**11 + 2.4289233325617e+16*\\alpha**10 + 9.31818863284863e+15*\\alpha**9 + 3.02784003900488e+15*\\alpha**8 + 824950063751795.0*\\alpha**7 + 185900090922931.0*\\alpha**6 + 34005480519398.4*\\alpha**5 + 4917437466163.2*\\alpha**4 + 540493552742.4*\\alpha**3 + 42392164147.2*\\alpha**2 + 2111687884.8*\\alpha + 50164531.2),                                                                                                                                                                                                                                                                                                                                                                                                     (1671655320.0*\\alpha**29 + 51296157900.0*\\alpha**28 + 736952504629.5*\\alpha**27 + 6614086641435.0*\\alpha**26 + 41746230447261.3*\\alpha**25 + 197743862801070.0*\\alpha**24 + 732336892798580.0*\\alpha**23 + 2.18057641936159e+15*\\alpha**22 + 5.32556561991784e+15*\\alpha**21 + 1.08264433371257e+16*\\alpha**20 + 1.85224887221982e+16*\\alpha**19 + 2.68879297137615e+16*\\alpha**18 + 3.33159573577502e+16*\\alpha**17 + 3.53821181251736e+16*\\alpha**16 + 3.22896215390863e+16*\\alpha**15 + 2.53495792425557e+16*\\alpha**14 + 1.71151315493102e+16*\\alpha**13 + 9.92073680298479e+15*\\alpha**12 + 4.92090198472632e+15*\\alpha**11 + 2.07826982462404e+15*\\alpha**10 + 742020793825002.0*\\alpha**9 + 221779678270976.0*\\alpha**8 + 54750984849753.6*\\alpha**7 + 10959286383360.0*\\alpha**6 + 1732525840051.2*\\alpha**5 + 208016966246.4*\\alpha**4 + 17810872012.8*\\alpha**3 + 968056012.8*\\alpha**2 + 25082265.6*\\alpha)/(11531876040.0*\\alpha**29 + 357281048340.0*\\alpha**28 + 5188632034936.5*\\alpha**27 + 47131998826644.0*\\alpha**26 + 301486702431761.0*\\alpha**25 + 1.44931467714395e+15*\\alpha**24 + 5.45533626608614e+15*\\alpha**23 + 1.65356898743145e+16*\\alpha**22 + 4.11817480701988e+16*\\alpha**21 + 8.55325478907064e+16*\\alpha**20 + 1.49815180364729e+17*\\alpha**19 + 2.23168262620307e+17*\\alpha**18 + 2.84497345549847e+17*\\alpha**17 + 3.11776466107342e+17*\\alpha**16 + 2.94592352048853e+17*\\alpha**15 + 2.40390481294119e+17*\\alpha**14 + 1.69465008028237e+17*\\alpha**13 + 1.03111721497748e+17*\\alpha**12 + 5.40285626002407e+16*\\alpha**11 + 2.4289233325617e+16*\\alpha**10 + 9.31818863284863e+15*\\alpha**9 + 3.02784003900488e+15*\\alpha**8 + 824950063751795.0*\\alpha**7 + 185900090922931.0*\\alpha**6 + 34005480519398.4*\\alpha**5 + 4917437466163.2*\\alpha**4 + 540493552742.4*\\alpha**3 + 42392164147.2*\\alpha**2 + 2111687884.8*\\alpha + 50164531.2),                                                                                                                                                                                                                                                                                                                                                                                                                                                               (-84855599.9999995*\\alpha**29 - 2567683799.99999*\\alpha**28 - 36313906634.9999*\\alpha**27 - 320256336330.0*\\alpha**26 - 1982541990969.0*\\alpha**25 - 9192411679032.0*\\alpha**24 - 33254854553031.0*\\alpha**23 - 96509423406910.0*\\alpha**22 - 229182053974609.0*\\alpha**21 - 451843354504516.0*\\alpha**20 - 747563682454837.0*\\alpha**19 - 1.0461114102102e+15*\\alpha**18 - 1.24510769096368e+15*\\alpha**17 - 1.26513774218674e+15*\\alpha**16 - 1.09961748754913e+15*\\alpha**15 - 817908240971730.0*\\alpha**14 - 520035651022723.0*\\alpha**13 - 281849610882941.0*\\alpha**12 - 129612449406580.0*\\alpha**11 - 50229708101968.0*\\alpha**10 - 16248286587232.0*\\alpha**9 - 4329648270976.0*\\alpha**8 - 933093369216.0*\\alpha**7 - 158441730048.0*\\alpha**6 - 20386563840.0*\\alpha**5 - 1866488832.0*\\alpha**4 - 108241920.0*\\alpha**3 - 2985984.0*\\alpha**2)/(11531876040.0*\\alpha**29 + 357281048340.0*\\alpha**28 + 5188632034936.5*\\alpha**27 + 47131998826644.0*\\alpha**26 + 301486702431761.0*\\alpha**25 + 1.44931467714395e+15*\\alpha**24 + 5.45533626608614e+15*\\alpha**23 + 1.65356898743145e+16*\\alpha**22 + 4.11817480701988e+16*\\alpha**21 + 8.55325478907064e+16*\\alpha**20 + 1.49815180364729e+17*\\alpha**19 + 2.23168262620307e+17*\\alpha**18 + 2.84497345549847e+17*\\alpha**17 + 3.11776466107342e+17*\\alpha**16 + 2.94592352048853e+17*\\alpha**15 + 2.40390481294119e+17*\\alpha**14 + 1.69465008028237e+17*\\alpha**13 + 1.03111721497748e+17*\\alpha**12 + 5.40285626002407e+16*\\alpha**11 + 2.4289233325617e+16*\\alpha**10 + 9.31818863284863e+15*\\alpha**9 + 3.02784003900488e+15*\\alpha**8 + 824950063751795.0*\\alpha**7 + 185900090922931.0*\\alpha**6 + 34005480519398.4*\\alpha**5 + 4917437466163.2*\\alpha**4 + 540493552742.4*\\alpha**3 + 42392164147.2*\\alpha**2 + 2111687884.8*\\alpha + 50164531.2),                                                                                                                                                                                                                                                                                                                                                                  (5099821560.0*\\alpha**29 + 159799468140.0*\\alpha**28 + 2349763736323.5*\\alpha**27 + 21636421269894.0*\\alpha**26 + 140449406615623.0*\\alpha**25 + 685916460976765.0*\\alpha**24 + 2.62575325855091e+15*\\alpha**23 + 8.10291246708883e+15*\\alpha**22 + 2.05670317524513e+16*\\alpha**21 + 4.35823046057172e+16*\\alpha**20 + 7.79679165233009e+16*\\alpha**19 + 1.18754877995891e+17*\\alpha**18 + 1.54968839191737e+17*\\alpha**17 + 1.74043406833208e+17*\\alpha**16 + 1.68732718355155e+17*\\alpha**15 + 1.41445889046812e+17*\\alpha**14 + 1.02564588784065e+17*\\alpha**13 + 6.42743231184577e+16*\\alpha**12 + 3.47337920095551e+16*\\alpha**11 + 1.61268431514267e+16*\\alpha**10 + 6.39885031731032e+15*\\alpha**9 + 2.15371027073391e+15*\\alpha**8 + 608745404460429.0*\\alpha**7 + 142538270579635.0*\\alpha**6 + 27136536850713.6*\\alpha**5 + 4090969067673.6*\\alpha**4 + 469574790451.2*\\alpha**3 + 38528898048.0*\\alpha**2 + 2011358822.4*\\alpha + 50164531.2)/(11531876040.0*\\alpha**29 + 357281048340.0*\\alpha**28 + 5188632034936.5*\\alpha**27 + 47131998826644.0*\\alpha**26 + 301486702431761.0*\\alpha**25 + 1.44931467714395e+15*\\alpha**24 + 5.45533626608614e+15*\\alpha**23 + 1.65356898743145e+16*\\alpha**22 + 4.11817480701988e+16*\\alpha**21 + 8.55325478907064e+16*\\alpha**20 + 1.49815180364729e+17*\\alpha**19 + 2.23168262620307e+17*\\alpha**18 + 2.84497345549847e+17*\\alpha**17 + 3.11776466107342e+17*\\alpha**16 + 2.94592352048853e+17*\\alpha**15 + 2.40390481294119e+17*\\alpha**14 + 1.69465008028237e+17*\\alpha**13 + 1.03111721497748e+17*\\alpha**12 + 5.40285626002407e+16*\\alpha**11 + 2.4289233325617e+16*\\alpha**10 + 9.31818863284863e+15*\\alpha**9 + 3.02784003900488e+15*\\alpha**8 + 824950063751795.0*\\alpha**7 + 185900090922931.0*\\alpha**6 + 34005480519398.4*\\alpha**5 + 4917437466163.2*\\alpha**4 + 540493552742.4*\\alpha**3 + 42392164147.2*\\alpha**2 + 2111687884.8*\\alpha + 50164531.2),                                                                                                                                                                                                                                                                                                                                                           (772185960.000001*\\alpha**29 + 23722316100.0*\\alpha**28 + 341240822338.5*\\alpha**27 + 3066851068470.0*\\alpha**26 + 19386208730403.9*\\alpha**25 + 91977622641261.0*\\alpha**24 + 341227305484517.0*\\alpha**23 + 1.01790614212561e+15*\\alpha**22 + 2.49089626947796e+15*\\alpha**21 + 5.07433915268445e+15*\\alpha**20 + 8.70057159925798e+15*\\alpha**19 + 1.26593812992231e+16*\\alpha**18 + 1.57241479106523e+16*\\alpha**17 + 1.67422057559468e+16*\\alpha**16 + 1.53200976538813e+16*\\alpha**15 + 1.20613584405491e+16*\\alpha**14 + 8.16753903638804e+15*\\alpha**13 + 4.74898119333019e+15*\\alpha**12 + 2.36324165530823e+15*\\alpha**11 + 1.00146263123554e+15*\\alpha**10 + 358824181972077.0*\\alpha**9 + 107642602932256.0*\\alpha**8 + 26675672397964.8*\\alpha**7 + 5360811894144.0*\\alpha**6 + 850972997145.6*\\alpha**5 + 102608616499.2*\\alpha**4 + 8824254566.4*\\alpha**3 + 481788518.4*\\alpha**2 + 12541132.8*\\alpha)/(11531876040.0*\\alpha**29 + 357281048340.0*\\alpha**28 + 5188632034936.5*\\alpha**27 + 47131998826644.0*\\alpha**26 + 301486702431761.0*\\alpha**25 + 1.44931467714395e+15*\\alpha**24 + 5.45533626608614e+15*\\alpha**23 + 1.65356898743145e+16*\\alpha**22 + 4.11817480701988e+16*\\alpha**21 + 8.55325478907064e+16*\\alpha**20 + 1.49815180364729e+17*\\alpha**19 + 2.23168262620307e+17*\\alpha**18 + 2.84497345549847e+17*\\alpha**17 + 3.11776466107342e+17*\\alpha**16 + 2.94592352048853e+17*\\alpha**15 + 2.40390481294119e+17*\\alpha**14 + 1.69465008028237e+17*\\alpha**13 + 1.03111721497748e+17*\\alpha**12 + 5.40285626002407e+16*\\alpha**11 + 2.4289233325617e+16*\\alpha**10 + 9.31818863284863e+15*\\alpha**9 + 3.02784003900488e+15*\\alpha**8 + 824950063751795.0*\\alpha**7 + 185900090922931.0*\\alpha**6 + 34005480519398.4*\\alpha**5 + 4917437466163.2*\\alpha**4 + 540493552742.4*\\alpha**3 + 42392164147.2*\\alpha**2 + 2111687884.8*\\alpha + 50164531.2),                                                                                                                                                                                                                                                                                                                                                       (4412491200.0*\\alpha**29 + 135556092000.0*\\alpha**28 + 1949947556220.0*\\alpha**27 + 17524863248400.0*\\alpha**26 + 110778335602308.0*\\alpha**25 + 525586415092920.0*\\alpha**24 + 1.94987031705438e+15*\\alpha**23 + 5.81660652643206e+15*\\alpha**22 + 1.42336929684455e+16*\\alpha**21 + 2.89962237296254e+16*\\alpha**20 + 4.97175519957599e+16*\\alpha**19 + 7.23393217098464e+16*\\alpha**18 + 8.98522737751563e+16*\\alpha**17 + 9.56697471768387e+16*\\alpha**16 + 8.75434151650362e+16*\\alpha**15 + 6.8922048231709e+16*\\alpha**14 + 4.66716516365031e+16*\\alpha**13 + 2.71370353904582e+16*\\alpha**12 + 1.35042380303327e+16*\\alpha**11 + 5.72264360706026e+15*\\alpha**10 + 2.0504238969833e+15*\\alpha**9 + 615100588184320.0*\\alpha**8 + 152432413702656.0*\\alpha**7 + 30633210823680.0*\\alpha**6 + 4862702840832.0*\\alpha**5 + 586334951424.0*\\alpha**4 + 50424311808.0*\\alpha**3 + 2753077248.0*\\alpha**2 + 71663616.0*\\alpha)/(11531876040.0*\\alpha**29 + 357281048340.0*\\alpha**28 + 5188632034936.5*\\alpha**27 + 47131998826644.0*\\alpha**26 + 301486702431761.0*\\alpha**25 + 1.44931467714395e+15*\\alpha**24 + 5.45533626608614e+15*\\alpha**23 + 1.65356898743145e+16*\\alpha**22 + 4.11817480701988e+16*\\alpha**21 + 8.55325478907064e+16*\\alpha**20 + 1.49815180364729e+17*\\alpha**19 + 2.23168262620307e+17*\\alpha**18 + 2.84497345549847e+17*\\alpha**17 + 3.11776466107342e+17*\\alpha**16 + 2.94592352048853e+17*\\alpha**15 + 2.40390481294119e+17*\\alpha**14 + 1.69465008028237e+17*\\alpha**13 + 1.03111721497748e+17*\\alpha**12 + 5.40285626002407e+16*\\alpha**11 + 2.4289233325617e+16*\\alpha**10 + 9.31818863284863e+15*\\alpha**9 + 3.02784003900488e+15*\\alpha**8 + 824950063751795.0*\\alpha**7 + 185900090922931.0*\\alpha**6 + 34005480519398.4*\\alpha**5 + 4917437466163.2*\\alpha**4 + 540493552742.4*\\alpha**3 + 42392164147.2*\\alpha**2 + 2111687884.8*\\alpha + 50164531.2)],\n[                                                                                                                                                                                                                                                                                                                                                                                                                                                                                                                                                                                                                                                                                                                                                                                                                                                                                                                                                   (-3959928.0*\\alpha**24 - 104315526.0*\\alpha**23 - 1262452262.4*\\alpha**22 - 9360917344.8*\\alpha**21 - 47859079867.2*\\alpha**20 - 179983183842.0*\\alpha**19 - 518411254950.4*\\alpha**18 - 1175041149710.4*\\alpha**17 - 2135548466139.2*\\alpha**16 - 3152797492496.4*\\alpha**15 - 3814251553728.0*\\alpha**14 - 3801456062023.2*\\alpha**13 - 3128343511339.2*\\alpha**12 - 2124526220334.0*\\alpha**11 - 1186511152243.2*\\alpha**10 - 541220787184.0*\\alpha**9 - 199441227283.2*\\alpha**8 - 58403546700.8*\\alpha**7 - 13260963609.6*\\alpha**6 - 2248291584.0*\\alpha**5 - 267563520.0*\\alpha**4 - 19914854.4*\\alpha**3 - 696729.6*\\alpha**2)/(192197934.0*\\alpha**24 + 5201908897.5*\\alpha**23 + 64956276394.2*\\alpha**22 + 499240707201.0*\\alpha**21 + 2658750084007.2*\\alpha**20 + 10470264192314.1*\\alpha**19 + 31760882408147.4*\\alpha**18 + 76292783917970.8*\\alpha**17 + 147971209476088.0*\\alpha**16 + 234970260685809.0*\\alpha**15 + 308513826480686.0*\\alpha**14 + 337194421171065.0*\\alpha**13 + 308044390922966.0*\\alpha**12 + 235639609999604.0*\\alpha**11 + 150868396934696.0*\\alpha**10 + 80628335939356.8*\\alpha**9 + 35780475516764.8*\\alpha**8 + 13076671335907.2*\\alpha**7 + 3888573521043.2*\\alpha**6 + 924624656179.2*\\alpha**5 + 171402965913.6*\\alpha**4 + 23840166067.2*\\alpha**3 + 2337639782.4*\\alpha**2 + 143924428.8*\\alpha + 4180377.6),                                                                                                                                                                                                                                                                                                                                                                                                                                                                                                                                                                                                                                                                                                                                                                                                                                                                                                                                    (1979964.0*\\alpha**24 + 52157763.0*\\alpha**23 + 631226131.2*\\alpha**22 + 4680458672.4*\\alpha**21 + 23929539933.6*\\alpha**20 + 89991591921.0*\\alpha**19 + 259205627475.2*\\alpha**18 + 587520574855.2*\\alpha**17 + 1067774233069.6*\\alpha**16 + 1576398746248.2*\\alpha**15 + 1907125776864.0*\\alpha**14 + 1900728031011.6*\\alpha**13 + 1564171755669.6*\\alpha**12 + 1062263110167.0*\\alpha**11 + 593255576121.6*\\alpha**10 + 270610393592.0*\\alpha**9 + 99720613641.6*\\alpha**8 + 29201773350.4*\\alpha**7 + 6630481804.8*\\alpha**6 + 1124145792.0*\\alpha**5 + 133781760.0*\\alpha**4 + 9957427.2*\\alpha**3 + 348364.8*\\alpha**2)/(192197934.0*\\alpha**24 + 5201908897.5*\\alpha**23 + 64956276394.2*\\alpha**22 + 499240707201.0*\\alpha**21 + 2658750084007.2*\\alpha**20 + 10470264192314.1*\\alpha**19 + 31760882408147.4*\\alpha**18 + 76292783917970.8*\\alpha**17 + 147971209476088.0*\\alpha**16 + 234970260685809.0*\\alpha**15 + 308513826480686.0*\\alpha**14 + 337194421171065.0*\\alpha**13 + 308044390922966.0*\\alpha**12 + 235639609999604.0*\\alpha**11 + 150868396934696.0*\\alpha**10 + 80628335939356.8*\\alpha**9 + 35780475516764.8*\\alpha**8 + 13076671335907.2*\\alpha**7 + 3888573521043.2*\\alpha**6 + 924624656179.2*\\alpha**5 + 171402965913.6*\\alpha**4 + 23840166067.2*\\alpha**3 + 2337639782.4*\\alpha**2 + 143924428.8*\\alpha + 4180377.6),                                                                                                                                                                                                                                                                                                                                                                                                                                                                                                                                                                                                                                                                                                                                                                                                                                                                                        (-6929874.00000001*\\alpha**24 - 184532134.5*\\alpha**23 - 2261449222.2*\\alpha**22 - 17012831484.6*\\alpha**21 - 88433848440.0*\\alpha**20 - 338900111657.1*\\alpha**19 - 997211288084.2*\\alpha**18 - 2315527639468.4*\\alpha**17 - 4324730390598.8*\\alpha**16 - 6585169844938.3*\\alpha**15 - 8251338965272.2*\\alpha**14 - 8559673885404.6*\\alpha**13 - 7375329175855.2*\\alpha**12 - 5282092641254.1*\\alpha**11 - 3138657626592.6*\\alpha**10 - 1540391953693.6*\\alpha**9 - 619632541337.6*\\alpha**8 - 201926820368.0*\\alpha**7 - 52408459667.2*\\alpha**6 - 10564992076.8*\\alpha**5 - 1592381952.0*\\alpha**4 - 168632755.2*\\alpha**3 - 11176704.0*\\alpha**2 - 348364.8*\\alpha)/(192197934.0*\\alpha**24 + 5201908897.5*\\alpha**23 + 64956276394.2*\\alpha**22 + 499240707201.0*\\alpha**21 + 2658750084007.2*\\alpha**20 + 10470264192314.1*\\alpha**19 + 31760882408147.4*\\alpha**18 + 76292783917970.8*\\alpha**17 + 147971209476088.0*\\alpha**16 + 234970260685809.0*\\alpha**15 + 308513826480686.0*\\alpha**14 + 337194421171065.0*\\alpha**13 + 308044390922966.0*\\alpha**12 + 235639609999604.0*\\alpha**11 + 150868396934696.0*\\alpha**10 + 80628335939356.8*\\alpha**9 + 35780475516764.8*\\alpha**8 + 13076671335907.2*\\alpha**7 + 3888573521043.2*\\alpha**6 + 924624656179.2*\\alpha**5 + 171402965913.6*\\alpha**4 + 23840166067.2*\\alpha**3 + 2337639782.4*\\alpha**2 + 143924428.8*\\alpha + 4180377.6),                                                                                                                                                                                                                                                                                                                                                                                                                                                                                                                                                                                                                                                                                                                                                                                                                                                                                       (12869766.0*\\alpha**24 + 344965351.5*\\alpha**23 + 4259443141.8*\\alpha**22 + 32316659764.2*\\alpha**21 + 169583385585.6*\\alpha**20 + 656733967287.3*\\alpha**19 + 1954811354351.8*\\alpha**18 + 4596500618984.4*\\alpha**17 + 8703094239518.0*\\alpha**16 + 13449914549822.1*\\alpha**15 + 17125513788360.6*\\alpha**14 + 18076109532167.4*\\alpha**13 + 15869300504887.2*\\alpha**12 + 11597225483094.3*\\alpha**11 + 7042950575291.4*\\alpha**10 + 3538734286712.8*\\alpha**9 + 1460015169446.4*\\alpha**8 + 488973367702.4*\\alpha**7 + 130703451782.4*\\alpha**6 + 27198393062.4*\\alpha**5 + 4242018816.0*\\alpha**4 + 466068556.8*\\alpha**3 + 32136652.8*\\alpha**2 + 1045094.4*\\alpha)/(192197934.0*\\alpha**24 + 5201908897.5*\\alpha**23 + 64956276394.2*\\alpha**22 + 499240707201.0*\\alpha**21 + 2658750084007.2*\\alpha**20 + 10470264192314.1*\\alpha**19 + 31760882408147.4*\\alpha**18 + 76292783917970.8*\\alpha**17 + 147971209476088.0*\\alpha**16 + 234970260685809.0*\\alpha**15 + 308513826480686.0*\\alpha**14 + 337194421171065.0*\\alpha**13 + 308044390922966.0*\\alpha**12 + 235639609999604.0*\\alpha**11 + 150868396934696.0*\\alpha**10 + 80628335939356.8*\\alpha**9 + 35780475516764.8*\\alpha**8 + 13076671335907.2*\\alpha**7 + 3888573521043.2*\\alpha**6 + 924624656179.2*\\alpha**5 + 171402965913.6*\\alpha**4 + 23840166067.2*\\alpha**3 + 2337639782.4*\\alpha**2 + 143924428.8*\\alpha + 4180377.6),                                                                                                                                                                                                                                                                                                                                                                                                                                                                                                                                                                                                                                                                                                                                                                                                                   (43842060.0*\\alpha**24 + 1188157005.0*\\alpha**23 + 14858595247.5*\\alpha**22 + 114390782523.0*\\alpha**21 + 610326904638.6*\\alpha**20 + 2408386760296.2*\\alpha**19 + 7321914949711.3*\\alpha**18 + 17630310537319.0*\\alpha**17 + 34283141692607.6*\\alpha**16 + 54591887160872.6*\\alpha**15 + 71893515284649.3*\\alpha**14 + 78829213894218.6*\\alpha**13 + 72261686726685.0*\\alpha**12 + 55479464574043.8*\\alpha**11 + 35659733801790.3*\\alpha**10 + 19137095216365.0*\\alpha**9 + 8530254780008.8*\\alpha**8 + 3132323605376.0*\\alpha**7 + 936152276412.8*\\alpha**6 + 223794492883.2*\\alpha**5 + 41723345894.4*\\alpha**4 + 5838545664.0*\\alpha**3 + 576201600.0*\\alpha**2 + 35719833.6*\\alpha + 1045094.4)/(192197934.0*\\alpha**24 + 5201908897.5*\\alpha**23 + 64956276394.2*\\alpha**22 + 499240707201.0*\\alpha**21 + 2658750084007.2*\\alpha**20 + 10470264192314.1*\\alpha**19 + 31760882408147.4*\\alpha**18 + 76292783917970.8*\\alpha**17 + 147971209476088.0*\\alpha**16 + 234970260685809.0*\\alpha**15 + 308513826480686.0*\\alpha**14 + 337194421171065.0*\\alpha**13 + 308044390922966.0*\\alpha**12 + 235639609999604.0*\\alpha**11 + 150868396934696.0*\\alpha**10 + 80628335939356.8*\\alpha**9 + 35780475516764.8*\\alpha**8 + 13076671335907.2*\\alpha**7 + 3888573521043.2*\\alpha**6 + 924624656179.2*\\alpha**5 + 171402965913.6*\\alpha**4 + 23840166067.2*\\alpha**3 + 2337639782.4*\\alpha**2 + 143924428.8*\\alpha + 4180377.6),                                                                                                                                                                                                                                                                                                                                                                                                                                                                                                                                                                                                                                                                                                                                                                                                                                               (-24042420.0*\\alpha**24 - 641829825.0*\\alpha**23 - 7888422006.0*\\alpha**22 - 59539395870.0*\\alpha**21 - 310632093504.0*\\alpha**20 - 1195310215899.0*\\alpha**19 - 3533175156146.0*\\alpha**18 - 8245059669564.0*\\alpha**17 - 15483775293796.0*\\alpha**16 - 23718160060455.0*\\alpha**15 - 29913950488698.0*\\alpha**14 - 31253665134558.0*\\alpha**13 - 27139491451752.0*\\alpha**12 - 19602502433469.0*\\alpha**11 - 11756373896478.0*\\alpha**10 - 5828507248424.0*\\alpha**9 - 2370651995328.0*\\alpha**8 - 781967020576.0*\\alpha**7 - 205663450560.0*\\alpha**6 - 42066692352.0*\\alpha**5 - 6442260480.0*\\alpha**4 - 694262016.0*\\alpha**3 - 46904832.0*\\alpha**2 - 1492992.0*\\alpha)/(192197934.0*\\alpha**24 + 5201908897.5*\\alpha**23 + 64956276394.2*\\alpha**22 + 499240707201.0*\\alpha**21 + 2658750084007.2*\\alpha**20 + 10470264192314.1*\\alpha**19 + 31760882408147.4*\\alpha**18 + 76292783917970.8*\\alpha**17 + 147971209476088.0*\\alpha**16 + 234970260685809.0*\\alpha**15 + 308513826480686.0*\\alpha**14 + 337194421171065.0*\\alpha**13 + 308044390922966.0*\\alpha**12 + 235639609999604.0*\\alpha**11 + 150868396934696.0*\\alpha**10 + 80628335939356.8*\\alpha**9 + 35780475516764.8*\\alpha**8 + 13076671335907.2*\\alpha**7 + 3888573521043.2*\\alpha**6 + 924624656179.2*\\alpha**5 + 171402965913.6*\\alpha**4 + 23840166067.2*\\alpha**3 + 2337639782.4*\\alpha**2 + 143924428.8*\\alpha + 4180377.6)],\n[                                                                                                                                                                                                                                                                                                                                                                                                                                                                                                                                                                                                                                                                                                                                                                                                                                                                                                                                                                                                                                                                                                                                                                                                                                                                                                                                                                                                                                                                                                                                                   (-25920.0*\\alpha**16 - 447120.0*\\alpha**15 - 3371616.0*\\alpha**14 - 14832576.0*\\alpha**13 - 42870272.0*\\alpha**12 - 86687968.0*\\alpha**11 - 127109952.0*\\alpha**10 - 137808448.0*\\alpha**9 - 111310016.0*\\alpha**8 - 66782736.0*\\alpha**7 - 29334368.0*\\alpha**6 - 9154432.0*\\alpha**5 - 1919232.0*\\alpha**4 - 241920.0*\\alpha**3 - 13824.0*\\alpha**2)/(220158.0*\\alpha**16 + 3956809.5*\\alpha**15 + 31409078.4*\\alpha**14 + 147146961.6*\\alpha**13 + 458704504.8*\\alpha**12 + 1014996427.4*\\alpha**11 + 1656701344.0*\\alpha**10 + 2041670202.0*\\alpha**9 + 1924704247.6*\\alpha**8 + 1395099957.5*\\alpha**7 + 775913347.2*\\alpha**6 + 327917013.2*\\alpha**5 + 103287889.6*\\alpha**4 + 23446248.0*\\alpha**3 + 3617395.2*\\alpha**2 + 338860.8*\\alpha + 14515.2),                                                                                                                                                                                                                                                                                                                                                                                                                                                                                                                                                                                                                                                                                                                                                                                                                                                                                                                                                                                                                                                                                                                                                                                                                                                                                                                                                                                                                                                                                                                                  (12960.0*\\alpha**16 + 223560.0*\\alpha**15 + 1685808.0*\\alpha**14 + 7416288.0*\\alpha**13 + 21435136.0*\\alpha**12 + 43343984.0*\\alpha**11 + 63554976.0*\\alpha**10 + 68904224.0*\\alpha**9 + 55655008.0*\\alpha**8 + 33391368.0*\\alpha**7 + 14667184.0*\\alpha**6 + 4577216.0*\\alpha**5 + 959616.0*\\alpha**4 + 120960.0*\\alpha**3 + 6912.0*\\alpha**2)/(220158.0*\\alpha**16 + 3956809.5*\\alpha**15 + 31409078.4*\\alpha**14 + 147146961.6*\\alpha**13 + 458704504.8*\\alpha**12 + 1014996427.4*\\alpha**11 + 1656701344.0*\\alpha**10 + 2041670202.0*\\alpha**9 + 1924704247.6*\\alpha**8 + 1395099957.5*\\alpha**7 + 775913347.2*\\alpha**6 + 327917013.2*\\alpha**5 + 103287889.6*\\alpha**4 + 23446248.0*\\alpha**3 + 3617395.2*\\alpha**2 + 338860.8*\\alpha + 14515.2),                                                                                                                                                                                                                                                                                                                                                                                                                                                                                                                                                                                                                                                                                                                                                                                                                                                                                                                                                                                                                                                                                                                                                                                                                                                                                                                                                                                                                                                                                                    (-45360.0*\\alpha**16 - 795420.0*\\alpha**15 - 6123888.0*\\alpha**14 - 27642816.0*\\alpha**13 - 82439264.0*\\alpha**12 - 173139080.0*\\alpha**11 - 265786400.0*\\alpha**10 - 304719760.0*\\alpha**9 - 263696752.0*\\alpha**8 - 172524796.0*\\alpha**7 - 84726512.0*\\alpha**6 - 30687440.0*\\alpha**5 - 7935872.0*\\alpha**4 - 1382976.0*\\alpha**3 - 145152.0*\\alpha**2 - 6912.0*\\alpha)/(220158.0*\\alpha**16 + 3956809.5*\\alpha**15 + 31409078.4*\\alpha**14 + 147146961.6*\\alpha**13 + 458704504.8*\\alpha**12 + 1014996427.4*\\alpha**11 + 1656701344.0*\\alpha**10 + 2041670202.0*\\alpha**9 + 1924704247.6*\\alpha**8 + 1395099957.5*\\alpha**7 + 775913347.2*\\alpha**6 + 327917013.2*\\alpha**5 + 103287889.6*\\alpha**4 + 23446248.0*\\alpha**3 + 3617395.2*\\alpha**2 + 338860.8*\\alpha + 14515.2),                                                                                                                                                                                                                                                                                                                                                                                                                                                                                                                                                                                                                                                                                                                                                                                                                                                                                                                                                                                                                                                                                                                                                                                                                                                                                                                                                                                                                                                                                                 (84240.0*\\alpha**16 + 1492020.0*\\alpha**15 + 11628432.0*\\alpha**14 + 53263296.0*\\alpha**13 + 161577248.0*\\alpha**12 + 346041304.0*\\alpha**11 + 543139296.0*\\alpha**10 + 638542384.0*\\alpha**9 + 568470224.0*\\alpha**8 + 384008916.0*\\alpha**7 + 195510800.0*\\alpha**6 + 73753456.0*\\alpha**5 + 19969152.0*\\alpha**4 + 3665088.0*\\alpha**3 + 407808.0*\\alpha**2 + 20736.0*\\alpha)/(220158.0*\\alpha**16 + 3956809.5*\\alpha**15 + 31409078.4*\\alpha**14 + 147146961.6*\\alpha**13 + 458704504.8*\\alpha**12 + 1014996427.4*\\alpha**11 + 1656701344.0*\\alpha**10 + 2041670202.0*\\alpha**9 + 1924704247.6*\\alpha**8 + 1395099957.5*\\alpha**7 + 775913347.2*\\alpha**6 + 327917013.2*\\alpha**5 + 103287889.6*\\alpha**4 + 23446248.0*\\alpha**3 + 3617395.2*\\alpha**2 + 338860.8*\\alpha + 14515.2),                                                                                                                                                                                                                                                                                                                                                                                                                                                                                                                                                                                                                                                                                                                                                                                                                                                                                                                                                                                                                                                                                                                                                                                                                                                                                                                                                                                                                                                             (-27540.0*\\alpha**16 - 484785.0*\\alpha**15 - 3750012.0*\\alpha**14 - 17023968.0*\\alpha**13 - 51111880.0*\\alpha**12 - 108182318.0*\\alpha**11 - 167562312.0*\\alpha**10 - 194087708.0*\\alpha**9 - 169945060.0*\\alpha**8 - 112697913.0*\\alpha**7 - 56211292.0*\\alpha**6 - 20726972.0*\\alpha**5 - 5472096.0*\\alpha**4 - 976752.0*\\alpha**3 - 105408.0*\\alpha**2 - 5184.0*\\alpha)/(220158.0*\\alpha**16 + 3956809.5*\\alpha**15 + 31409078.4*\\alpha**14 + 147146961.6*\\alpha**13 + 458704504.8*\\alpha**12 + 1014996427.4*\\alpha**11 + 1656701344.0*\\alpha**10 + 2041670202.0*\\alpha**9 + 1924704247.6*\\alpha**8 + 1395099957.5*\\alpha**7 + 775913347.2*\\alpha**6 + 327917013.2*\\alpha**5 + 103287889.6*\\alpha**4 + 23446248.0*\\alpha**3 + 3617395.2*\\alpha**2 + 338860.8*\\alpha + 14515.2),                                                                                                                                                                                                                                                                                                                                                                                                                                                                                                                                                                                                                                                                                                                                                                                                                                                                                                                                                                                                                                                                                                                                                                                                                                                                                                                                                                                                                                        (157140.0*\\alpha**16 + 2882385.0*\\alpha**15 + 23441472.0*\\alpha**14 + 112930128.0*\\alpha**13 + 363224264.0*\\alpha**12 + 831810222.0*\\alpha**11 + 1409217280.0*\\alpha**10 + 1807599100.0*\\alpha**9 + 1778462868.0*\\alpha**8 + 1349011865.0*\\alpha**7 + 787240256.0*\\alpha**6 + 350013036.0*\\alpha**5 + 116285008.0*\\alpha**4 + 27913200.0*\\alpha**3 + 4565376.0*\\alpha**2 + 454464.0*\\alpha + 20736.0)/(220158.0*\\alpha**16 + 3956809.5*\\alpha**15 + 31409078.4*\\alpha**14 + 147146961.6*\\alpha**13 + 458704504.8*\\alpha**12 + 1014996427.4*\\alpha**11 + 1656701344.0*\\alpha**10 + 2041670202.0*\\alpha**9 + 1924704247.6*\\alpha**8 + 1395099957.5*\\alpha**7 + 775913347.2*\\alpha**6 + 327917013.2*\\alpha**5 + 103287889.6*\\alpha**4 + 23446248.0*\\alpha**3 + 3617395.2*\\alpha**2 + 338860.8*\\alpha + 14515.2)]])",
      "text/latex": "$\\displaystyle \\left[\\begin{matrix}\\frac{65143644120.0 \\alpha^{34} + 2489381574660.0 \\alpha^{33} + 45040794026269.5 \\alpha^{32} + 514614924155669.0 \\alpha^{31} + 4.17837383544339 \\cdot 10^{15} \\alpha^{30} + 2.57230393375125 \\cdot 10^{16} \\alpha^{29} + 1.25090356887141 \\cdot 10^{17} \\alpha^{28} + 4.94255247740483 \\cdot 10^{17} \\alpha^{27} + 1.6195304834827 \\cdot 10^{18} \\alpha^{26} + 4.46912739250521 \\cdot 10^{18} \\alpha^{25} + 1.05100208031684 \\cdot 10^{19} \\alpha^{24} + 2.12597779092207 \\cdot 10^{19} \\alpha^{23} + 3.72611259748985 \\cdot 10^{19} \\alpha^{22} + 5.69091143630759 \\cdot 10^{19} \\alpha^{21} + 7.60788289781084 \\cdot 10^{19} \\alpha^{20} + 8.93213842062639 \\cdot 10^{19} \\alpha^{19} + 9.23197339876618 \\cdot 10^{19} \\alpha^{18} + 8.41282383115429 \\cdot 10^{19} \\alpha^{17} + 6.76399416519681 \\cdot 10^{19} \\alpha^{16} + 4.79776373192268 \\cdot 10^{19} \\alpha^{15} + 2.99956409866769 \\cdot 10^{19} \\alpha^{14} + 1.65006695899311 \\cdot 10^{19} \\alpha^{13} + 7.96537610141542 \\cdot 10^{18} \\alpha^{12} + 3.36164599371037 \\cdot 10^{18} \\alpha^{11} + 1.23418458868363 \\cdot 10^{18} \\alpha^{10} + 3.91629834683991 \\cdot 10^{17} \\alpha^{9} + 1.06510735277517 \\cdot 10^{17} \\alpha^{8} + 2.45581034835782 \\cdot 10^{16} \\alpha^{7} + 4.73196722439767 \\cdot 10^{15} \\alpha^{6} + 747360502225920.0 \\alpha^{5} + 94174068776140.8 \\alpha^{4} + 9098745823641.6 \\alpha^{3} + 632528754278.4 \\alpha^{2} + 28149468364.8 \\alpha + 601974374.4}{103786884360.0 \\alpha^{34} + 3942037625580.0 \\alpha^{33} + 70855452633568.5 \\alpha^{32} + 803835119579216.0 \\alpha^{31} + 6.47726054854036 \\cdot 10^{15} \\alpha^{30} + 3.9554155318572 \\cdot 10^{16} \\alpha^{29} + 1.90708703683405 \\cdot 10^{17} \\alpha^{28} + 7.46742203821078 \\cdot 10^{17} \\alpha^{27} + 2.42371458870107 \\cdot 10^{18} \\alpha^{26} + 6.62204170852331 \\cdot 10^{18} \\alpha^{25} + 1.54119067884307 \\cdot 10^{19} \\alpha^{24} + 3.0839269491757 \\cdot 10^{19} \\alpha^{23} + 5.3444654038602 \\cdot 10^{19} \\alpha^{22} + 8.06759779056065 \\cdot 10^{19} \\alpha^{21} + 1.06549589866265 \\cdot 10^{20} \\alpha^{20} + 1.2353220629136 \\cdot 10^{20} \\alpha^{19} + 1.26027917971168 \\cdot 10^{20} \\alpha^{18} + 1.13310798713299 \\cdot 10^{20} \\alpha^{17} + 8.98460089860556 \\cdot 10^{19} \\alpha^{16} + 6.28214658346044 \\cdot 10^{19} \\alpha^{15} + 3.86996757876669 \\cdot 10^{19} \\alpha^{14} + 2.09669755450043 \\cdot 10^{19} \\alpha^{13} + 9.96390119453223 \\cdot 10^{18} \\alpha^{12} + 4.13777404952026 \\cdot 10^{18} \\alpha^{11} + 1.49413004676614 \\cdot 10^{18} \\alpha^{10} + 4.66099460702423 \\cdot 10^{17} \\alpha^{9} + 1.24563644703623 \\cdot 10^{17} \\alpha^{8} + 2.82090278040551 \\cdot 10^{16} \\alpha^{7} + 5.33618248856233 \\cdot 10^{15} \\alpha^{6} + 827018646370099.0 \\alpha^{5} + 102214806714778.0 \\alpha^{4} + 9681958066176.0 \\alpha^{3} + 659574602956.8 \\alpha^{2} + 28751442739.2 \\alpha + 601974374.4} & \\frac{19321620120.0 \\alpha^{34} + 726328025460.0 \\alpha^{33} + 12907329303649.5 \\alpha^{32} + 144610097711774.0 \\alpha^{31} + 1.14944335654848 \\cdot 10^{15} \\alpha^{30} + 6.91555799052973 \\cdot 10^{15} \\alpha^{29} + 3.28091733981318 \\cdot 10^{16} \\alpha^{28} + 1.26243478040297 \\cdot 10^{17} \\alpha^{27} + 4.02092052609185 \\cdot 10^{17} \\alpha^{26} + 1.07645715800905 \\cdot 10^{18} \\alpha^{25} + 2.45094299263112 \\cdot 10^{18} \\alpha^{24} + 4.78974579126815 \\cdot 10^{18} \\alpha^{23} + 8.09176403185175 \\cdot 10^{18} \\alpha^{22} + 1.18834317712653 \\cdot 10^{19} \\alpha^{21} + 1.52353804440783 \\cdot 10^{19} \\alpha^{20} + 1.71054110425482 \\cdot 10^{19} \\alpha^{19} + 1.68540919917529 \\cdot 10^{19} \\alpha^{18} + 1.4591280200878 \\cdot 10^{19} \\alpha^{17} + 1.11030336670438 \\cdot 10^{19} \\alpha^{16} + 7.42191425768883 \\cdot 10^{18} \\alpha^{15} + 4.35201740049502 \\cdot 10^{18} \\alpha^{14} + 2.23315297753664 \\cdot 10^{18} \\alpha^{13} + 9.99262546558409 \\cdot 10^{17} \\alpha^{12} + 3.88064027904946 \\cdot 10^{17} \\alpha^{11} + 1.29972729041256 \\cdot 10^{17} \\alpha^{10} + 3.72348130092159 \\cdot 10^{16} \\alpha^{9} + 9.0264547130529 \\cdot 10^{15} \\alpha^{8} + 1.82546216023841 \\cdot 10^{15} \\alpha^{7} + 302107632082330.0 \\alpha^{6} + 39829072072089.6 \\alpha^{5} + 4020368969318.4 \\alpha^{4} + 291606121267.2 \\alpha^{3} + 13522924339.2 \\alpha^{2} + 300987187.2 \\alpha}{103786884360.0 \\alpha^{34} + 3942037625580.0 \\alpha^{33} + 70855452633568.5 \\alpha^{32} + 803835119579216.0 \\alpha^{31} + 6.47726054854036 \\cdot 10^{15} \\alpha^{30} + 3.9554155318572 \\cdot 10^{16} \\alpha^{29} + 1.90708703683405 \\cdot 10^{17} \\alpha^{28} + 7.46742203821078 \\cdot 10^{17} \\alpha^{27} + 2.42371458870107 \\cdot 10^{18} \\alpha^{26} + 6.62204170852331 \\cdot 10^{18} \\alpha^{25} + 1.54119067884307 \\cdot 10^{19} \\alpha^{24} + 3.0839269491757 \\cdot 10^{19} \\alpha^{23} + 5.3444654038602 \\cdot 10^{19} \\alpha^{22} + 8.06759779056065 \\cdot 10^{19} \\alpha^{21} + 1.06549589866265 \\cdot 10^{20} \\alpha^{20} + 1.2353220629136 \\cdot 10^{20} \\alpha^{19} + 1.26027917971168 \\cdot 10^{20} \\alpha^{18} + 1.13310798713299 \\cdot 10^{20} \\alpha^{17} + 8.98460089860556 \\cdot 10^{19} \\alpha^{16} + 6.28214658346044 \\cdot 10^{19} \\alpha^{15} + 3.86996757876669 \\cdot 10^{19} \\alpha^{14} + 2.09669755450043 \\cdot 10^{19} \\alpha^{13} + 9.96390119453223 \\cdot 10^{18} \\alpha^{12} + 4.13777404952026 \\cdot 10^{18} \\alpha^{11} + 1.49413004676614 \\cdot 10^{18} \\alpha^{10} + 4.66099460702423 \\cdot 10^{17} \\alpha^{9} + 1.24563644703623 \\cdot 10^{17} \\alpha^{8} + 2.82090278040551 \\cdot 10^{16} \\alpha^{7} + 5.33618248856233 \\cdot 10^{15} \\alpha^{6} + 827018646370099.0 \\alpha^{5} + 102214806714778.0 \\alpha^{4} + 9681958066176.0 \\alpha^{3} + 659574602956.8 \\alpha^{2} + 28751442739.2 \\alpha + 601974374.4} & \\frac{- 15732228240.0 \\alpha^{34} - 590450896440.0 \\alpha^{33} - 10474254271449.0 \\alpha^{32} - 117125111505249.0 \\alpha^{31} - 929031571361290.0 \\alpha^{30} - 5.57681866411657 \\cdot 10^{15} \\alpha^{29} - 2.63933130422887 \\cdot 10^{16} \\alpha^{28} - 1.01290244628634 \\cdot 10^{17} \\alpha^{27} - 3.21708367821911 \\cdot 10^{17} \\alpha^{26} - 8.58671251379201 \\cdot 10^{17} \\alpha^{25} - 1.94880423800263 \\cdot 10^{18} \\alpha^{24} - 3.79541851619115 \\cdot 10^{18} \\alpha^{23} - 6.3885928834483 \\cdot 10^{18} \\alpha^{22} - 9.34578627847704 \\cdot 10^{18} \\alpha^{21} - 1.19324683924067 \\cdot 10^{19} \\alpha^{20} - 1.33382159473168 \\cdot 10^{19} \\alpha^{19} - 1.30807740280996 \\cdot 10^{19} \\alpha^{18} - 1.12681733381766 \\cdot 10^{19} \\alpha^{17} - 8.52889354250336 \\cdot 10^{18} \\alpha^{16} - 5.66900065165243 \\cdot 10^{18} \\alpha^{15} - 3.30413726558792 \\cdot 10^{18} \\alpha^{14} - 1.68456504937108 \\cdot 10^{18} \\alpha^{13} - 7.48621293224954 \\cdot 10^{17} \\alpha^{12} - 2.88599619465587 \\cdot 10^{17} \\alpha^{11} - 9.59035561662705 \\cdot 10^{16} \\alpha^{10} - 2.72448442223009 \\cdot 10^{16} \\alpha^{9} - 6.54558215308979 \\cdot 10^{15} \\alpha^{8} - 1.31105837185981 \\cdot 10^{15} \\alpha^{7} - 214747628245402.0 \\alpha^{6} - 28000061149593.6 \\alpha^{5} - 2792960107315.2 \\alpha^{4} - 200011360665.6 \\alpha^{3} - 9149054976.0 \\alpha^{2} - 200658124.8 \\alpha}{103786884360.0 \\alpha^{34} + 3942037625580.0 \\alpha^{33} + 70855452633568.5 \\alpha^{32} + 803835119579216.0 \\alpha^{31} + 6.47726054854036 \\cdot 10^{15} \\alpha^{30} + 3.9554155318572 \\cdot 10^{16} \\alpha^{29} + 1.90708703683405 \\cdot 10^{17} \\alpha^{28} + 7.46742203821078 \\cdot 10^{17} \\alpha^{27} + 2.42371458870107 \\cdot 10^{18} \\alpha^{26} + 6.62204170852331 \\cdot 10^{18} \\alpha^{25} + 1.54119067884307 \\cdot 10^{19} \\alpha^{24} + 3.0839269491757 \\cdot 10^{19} \\alpha^{23} + 5.3444654038602 \\cdot 10^{19} \\alpha^{22} + 8.06759779056065 \\cdot 10^{19} \\alpha^{21} + 1.06549589866265 \\cdot 10^{20} \\alpha^{20} + 1.2353220629136 \\cdot 10^{20} \\alpha^{19} + 1.26027917971168 \\cdot 10^{20} \\alpha^{18} + 1.13310798713299 \\cdot 10^{20} \\alpha^{17} + 8.98460089860556 \\cdot 10^{19} \\alpha^{16} + 6.28214658346044 \\cdot 10^{19} \\alpha^{15} + 3.86996757876669 \\cdot 10^{19} \\alpha^{14} + 2.09669755450043 \\cdot 10^{19} \\alpha^{13} + 9.96390119453223 \\cdot 10^{18} \\alpha^{12} + 4.13777404952026 \\cdot 10^{18} \\alpha^{11} + 1.49413004676614 \\cdot 10^{18} \\alpha^{10} + 4.66099460702423 \\cdot 10^{17} \\alpha^{9} + 1.24563644703623 \\cdot 10^{17} \\alpha^{8} + 2.82090278040551 \\cdot 10^{16} \\alpha^{7} + 5.33618248856233 \\cdot 10^{15} \\alpha^{6} + 827018646370099.0 \\alpha^{5} + 102214806714778.0 \\alpha^{4} + 9681958066176.0 \\alpha^{3} + 659574602956.8 \\alpha^{2} + 28751442739.2 \\alpha + 601974374.4} & \\frac{- 30089795760.0 \\alpha^{34} - 1133959412520.0 \\alpha^{33} - 20206554400251.0 \\alpha^{32} - 227065056331347.0 \\alpha^{31} - 1.81067871211007 \\cdot 10^{15} \\alpha^{30} - 1.09317759697692 \\cdot 10^{16} \\alpha^{29} - 5.20567544656613 \\cdot 10^{16} \\alpha^{28} - 2.01103178275288 \\cdot 10^{17} \\alpha^{27} - 6.43243106971007 \\cdot 10^{17} \\alpha^{26} - 1.72981487789859 \\cdot 10^{18} \\alpha^{25} - 3.9573592565166 \\cdot 10^{18} \\alpha^{24} - 7.77272761649914 \\cdot 10^{18} \\alpha^{23} - 1.32012774770621 \\cdot 10^{19} \\alpha^{22} - 1.94963682496301 \\cdot 10^{19} \\alpha^{21} - 2.51441165990928 \\cdot 10^{19} \\alpha^{20} - 2.84069963282424 \\cdot 10^{19} \\alpha^{19} - 2.8174045882713 \\cdot 10^{19} \\alpha^{18} - 2.45606007889824 \\cdot 10^{19} \\alpha^{17} - 1.88254540406649 \\cdot 10^{19} \\alpha^{16} - 1.2680655075798 \\cdot 10^{19} \\alpha^{15} - 7.49565780521632 \\cdot 10^{18} \\alpha^{14} - 3.87891676203331 \\cdot 10^{18} \\alpha^{13} - 1.75118630655878 \\cdot 10^{18} \\alpha^{12} - 6.8645725322302 \\cdot 10^{17} \\alpha^{11} - 2.32180247666214 \\cdot 10^{17} \\alpha^{10} - 6.72047193699612 \\cdot 10^{16} \\alpha^{9} - 1.64690723929422 \\cdot 10^{16} \\alpha^{8} - 3.36867352537421 \\cdot 10^{15} \\alpha^{7} - 564187643593114.0 \\alpha^{6} - 75316104839577.6 \\alpha^{5} - 7702595555328.0 \\alpha^{4} - 566390403072.0 \\alpha^{3} - 26644532428.8 \\alpha^{2} - 601974374.4 \\alpha}{103786884360.0 \\alpha^{34} + 3942037625580.0 \\alpha^{33} + 70855452633568.5 \\alpha^{32} + 803835119579216.0 \\alpha^{31} + 6.47726054854036 \\cdot 10^{15} \\alpha^{30} + 3.9554155318572 \\cdot 10^{16} \\alpha^{29} + 1.90708703683405 \\cdot 10^{17} \\alpha^{28} + 7.46742203821078 \\cdot 10^{17} \\alpha^{27} + 2.42371458870107 \\cdot 10^{18} \\alpha^{26} + 6.62204170852331 \\cdot 10^{18} \\alpha^{25} + 1.54119067884307 \\cdot 10^{19} \\alpha^{24} + 3.0839269491757 \\cdot 10^{19} \\alpha^{23} + 5.3444654038602 \\cdot 10^{19} \\alpha^{22} + 8.06759779056065 \\cdot 10^{19} \\alpha^{21} + 1.06549589866265 \\cdot 10^{20} \\alpha^{20} + 1.2353220629136 \\cdot 10^{20} \\alpha^{19} + 1.26027917971168 \\cdot 10^{20} \\alpha^{18} + 1.13310798713299 \\cdot 10^{20} \\alpha^{17} + 8.98460089860556 \\cdot 10^{19} \\alpha^{16} + 6.28214658346044 \\cdot 10^{19} \\alpha^{15} + 3.86996757876669 \\cdot 10^{19} \\alpha^{14} + 2.09669755450043 \\cdot 10^{19} \\alpha^{13} + 9.96390119453223 \\cdot 10^{18} \\alpha^{12} + 4.13777404952026 \\cdot 10^{18} \\alpha^{11} + 1.49413004676614 \\cdot 10^{18} \\alpha^{10} + 4.66099460702423 \\cdot 10^{17} \\alpha^{9} + 1.24563644703623 \\cdot 10^{17} \\alpha^{8} + 2.82090278040551 \\cdot 10^{16} \\alpha^{7} + 5.33618248856233 \\cdot 10^{15} \\alpha^{6} + 827018646370099.0 \\alpha^{5} + 102214806714778.0 \\alpha^{4} + 9681958066176.0 \\alpha^{3} + 659574602956.8 \\alpha^{2} + 28751442739.2 \\alpha + 601974374.4} & \\frac{- 2138361120.0 \\alpha^{34} - 79674159600.0001 \\alpha^{33} - 1402026051762.0 \\alpha^{32} - 15538784773050.0 \\alpha^{31} - 122052000246725.0 \\alpha^{30} - 724835002822560.0 \\alpha^{29} - 3.39039808265058 \\cdot 10^{15} \\alpha^{28} - 1.28459444513268 \\cdot 10^{16} \\alpha^{27} - 4.02352495618408 \\cdot 10^{16} \\alpha^{26} - 1.05774859529876 \\cdot 10^{17} \\alpha^{25} - 2.3613168218641 \\cdot 10^{17} \\alpha^{24} - 4.51690991509287 \\cdot 10^{17} \\alpha^{23} - 7.45562646660352 \\cdot 10^{17} \\alpha^{22} - 1.06762382322513 \\cdot 10^{18} \\alpha^{21} - 1.33166107226593 \\cdot 10^{18} \\alpha^{20} - 1.45095643921348 \\cdot 10^{18} \\alpha^{19} - 1.38353452519822 \\cdot 10^{18} \\alpha^{18} - 1.15548990319342 \\cdot 10^{18} \\alpha^{17} - 8.45153323355645 \\cdot 10^{17} \\alpha^{16} - 5.40793359894913 \\cdot 10^{17} \\alpha^{15} - 3.0209424894343 \\cdot 10^{17} \\alpha^{14} - 1.46847298259991 \\cdot 10^{17} \\alpha^{13} - 6.18346966395107 \\cdot 10^{16} \\alpha^{12} - 2.24177006467177 \\cdot 10^{16} \\alpha^{11} - 6.94130260407467 \\cdot 10^{15} \\alpha^{10} - 1.81622666211768 \\cdot 10^{15} \\alpha^{9} - 395959258290893.0 \\alpha^{8} - 70562698775654.4 \\alpha^{7} - 10006905142886.4 \\alpha^{6} - 1085509826150.4 \\alpha^{5} - 84535595827.2 \\alpha^{4} - 4205459865.6 \\alpha^{3} - 100329062.4 \\alpha^{2}}{103786884360.0 \\alpha^{34} + 3942037625580.0 \\alpha^{33} + 70855452633568.5 \\alpha^{32} + 803835119579216.0 \\alpha^{31} + 6.47726054854036 \\cdot 10^{15} \\alpha^{30} + 3.9554155318572 \\cdot 10^{16} \\alpha^{29} + 1.90708703683405 \\cdot 10^{17} \\alpha^{28} + 7.46742203821078 \\cdot 10^{17} \\alpha^{27} + 2.42371458870107 \\cdot 10^{18} \\alpha^{26} + 6.62204170852331 \\cdot 10^{18} \\alpha^{25} + 1.54119067884307 \\cdot 10^{19} \\alpha^{24} + 3.0839269491757 \\cdot 10^{19} \\alpha^{23} + 5.3444654038602 \\cdot 10^{19} \\alpha^{22} + 8.06759779056065 \\cdot 10^{19} \\alpha^{21} + 1.06549589866265 \\cdot 10^{20} \\alpha^{20} + 1.2353220629136 \\cdot 10^{20} \\alpha^{19} + 1.26027917971168 \\cdot 10^{20} \\alpha^{18} + 1.13310798713299 \\cdot 10^{20} \\alpha^{17} + 8.98460089860556 \\cdot 10^{19} \\alpha^{16} + 6.28214658346044 \\cdot 10^{19} \\alpha^{15} + 3.86996757876669 \\cdot 10^{19} \\alpha^{14} + 2.09669755450043 \\cdot 10^{19} \\alpha^{13} + 9.96390119453223 \\cdot 10^{18} \\alpha^{12} + 4.13777404952026 \\cdot 10^{18} \\alpha^{11} + 1.49413004676614 \\cdot 10^{18} \\alpha^{10} + 4.66099460702423 \\cdot 10^{17} \\alpha^{9} + 1.24563644703623 \\cdot 10^{17} \\alpha^{8} + 2.82090278040551 \\cdot 10^{16} \\alpha^{7} + 5.33618248856233 \\cdot 10^{15} \\alpha^{6} + 827018646370099.0 \\alpha^{5} + 102214806714778.0 \\alpha^{4} + 9681958066176.0 \\alpha^{3} + 659574602956.8 \\alpha^{2} + 28751442739.2 \\alpha + 601974374.4} & \\frac{- 12219206400.0 \\alpha^{34} - 455280912000.0 \\alpha^{33} - 8011577438640.0 \\alpha^{32} - 88793055846000.0 \\alpha^{31} - 697440001409856.0 \\alpha^{30} - 4.1419143018432 \\cdot 10^{15} \\alpha^{29} - 1.93737033294319 \\cdot 10^{16} \\alpha^{28} - 7.34053968647245 \\cdot 10^{16} \\alpha^{27} - 2.29915711781948 \\cdot 10^{17} \\alpha^{26} - 6.04427768742151 \\cdot 10^{17} \\alpha^{25} - 1.34932389820806 \\cdot 10^{18} \\alpha^{24} - 2.58109138005307 \\cdot 10^{18} \\alpha^{23} - 4.2603579809163 \\cdot 10^{18} \\alpha^{22} - 6.10070756128648 \\cdot 10^{18} \\alpha^{21} - 7.6094918415196 \\cdot 10^{18} \\alpha^{20} - 8.29117965264847 \\cdot 10^{18} \\alpha^{19} - 7.90591157256125 \\cdot 10^{18} \\alpha^{18} - 6.60279944681953 \\cdot 10^{18} \\alpha^{17} - 4.82944756203226 \\cdot 10^{18} \\alpha^{16} - 3.09024777082807 \\cdot 10^{18} \\alpha^{15} - 1.72625285110532 \\cdot 10^{18} \\alpha^{14} - 8.3912741862852 \\cdot 10^{17} \\alpha^{13} - 3.53341123654347 \\cdot 10^{17} \\alpha^{12} - 1.28101146552673 \\cdot 10^{17} \\alpha^{11} - 3.96645863089981 \\cdot 10^{16} \\alpha^{10} - 1.03784380692439 \\cdot 10^{16} \\alpha^{9} - 2.26262433309082 \\cdot 10^{15} \\alpha^{8} - 403215421575168.0 \\alpha^{7} - 57182315102208.0 \\alpha^{6} - 6202913292288.0 \\alpha^{5} - 483060547584.0 \\alpha^{4} - 24031199232.0 \\alpha^{3} - 573308928.0 \\alpha^{2}}{103786884360.0 \\alpha^{34} + 3942037625580.0 \\alpha^{33} + 70855452633568.5 \\alpha^{32} + 803835119579216.0 \\alpha^{31} + 6.47726054854036 \\cdot 10^{15} \\alpha^{30} + 3.9554155318572 \\cdot 10^{16} \\alpha^{29} + 1.90708703683405 \\cdot 10^{17} \\alpha^{28} + 7.46742203821078 \\cdot 10^{17} \\alpha^{27} + 2.42371458870107 \\cdot 10^{18} \\alpha^{26} + 6.62204170852331 \\cdot 10^{18} \\alpha^{25} + 1.54119067884307 \\cdot 10^{19} \\alpha^{24} + 3.0839269491757 \\cdot 10^{19} \\alpha^{23} + 5.3444654038602 \\cdot 10^{19} \\alpha^{22} + 8.06759779056065 \\cdot 10^{19} \\alpha^{21} + 1.06549589866265 \\cdot 10^{20} \\alpha^{20} + 1.2353220629136 \\cdot 10^{20} \\alpha^{19} + 1.26027917971168 \\cdot 10^{20} \\alpha^{18} + 1.13310798713299 \\cdot 10^{20} \\alpha^{17} + 8.98460089860556 \\cdot 10^{19} \\alpha^{16} + 6.28214658346044 \\cdot 10^{19} \\alpha^{15} + 3.86996757876669 \\cdot 10^{19} \\alpha^{14} + 2.09669755450043 \\cdot 10^{19} \\alpha^{13} + 9.96390119453223 \\cdot 10^{18} \\alpha^{12} + 4.13777404952026 \\cdot 10^{18} \\alpha^{11} + 1.49413004676614 \\cdot 10^{18} \\alpha^{10} + 4.66099460702423 \\cdot 10^{17} \\alpha^{9} + 1.24563644703623 \\cdot 10^{17} \\alpha^{8} + 2.82090278040551 \\cdot 10^{16} \\alpha^{7} + 5.33618248856233 \\cdot 10^{15} \\alpha^{6} + 827018646370099.0 \\alpha^{5} + 102214806714778.0 \\alpha^{4} + 9681958066176.0 \\alpha^{3} + 659574602956.8 \\alpha^{2} + 28751442739.2 \\alpha + 601974374.4}\\\\\\frac{19321620120.0 \\alpha^{33} + 707006405340.0 \\alpha^{32} + 12200322898309.5 \\alpha^{31} + 132409774813464.0 \\alpha^{30} + 1.01703358173502 \\cdot 10^{15} \\alpha^{29} + 5.89852440879471 \\cdot 10^{15} \\alpha^{28} + 2.69106489893371 \\cdot 10^{16} \\alpha^{27} + 9.93328290509603 \\cdot 10^{16} \\alpha^{26} + 3.02759223558225 \\cdot 10^{17} \\alpha^{25} + 7.73697934450824 \\cdot 10^{17} \\alpha^{24} + 1.6772450581803 \\cdot 10^{18} \\alpha^{23} + 3.11250073308785 \\cdot 10^{18} \\alpha^{22} + 4.9792632987639 \\cdot 10^{18} \\alpha^{21} + 6.90416847250139 \\cdot 10^{18} \\alpha^{20} + 8.33121197157688 \\cdot 10^{18} \\alpha^{19} + 8.7741990709713 \\cdot 10^{18} \\alpha^{18} + 8.07989292078161 \\cdot 10^{18} \\alpha^{17} + 6.51138728009643 \\cdot 10^{18} \\alpha^{16} + 4.59164638694733 \\cdot 10^{18} \\alpha^{15} + 2.83026787074149 \\cdot 10^{18} \\alpha^{14} + 1.52174952975352 \\cdot 10^{18} \\alpha^{13} + 7.11403447783114 \\cdot 10^{17} \\alpha^{12} + 2.87859098775295 \\cdot 10^{17} \\alpha^{11} + 1.0020492912965 \\cdot 10^{17} \\alpha^{10} + 2.9767799911606 \\cdot 10^{16} \\alpha^{9} + 7.46701309760993 \\cdot 10^{15} \\alpha^{8} + 1.55944161544297 \\cdot 10^{15} \\alpha^{7} + 266020544795443.0 \\alpha^{6} + 36087087286886.4 \\alpha^{5} + 3741984785203.2 \\alpha^{4} + 278384184115.2 \\alpha^{3} + 13221937152.0 \\alpha^{2} + 300987187.2 \\alpha}{103786884360.0 \\alpha^{33} + 3838250741220.0 \\alpha^{32} + 67017201892348.5 \\alpha^{31} + 736817917686867.0 \\alpha^{30} + 5.7404426308535 \\cdot 10^{15} \\alpha^{29} + 3.38137126877185 \\cdot 10^{16} \\alpha^{28} + 1.56894990995686 \\cdot 10^{17} \\alpha^{27} + 5.89847212825391 \\cdot 10^{17} \\alpha^{26} + 1.83386737587568 \\cdot 10^{18} \\alpha^{25} + 4.78817433264763 \\cdot 10^{18} \\alpha^{24} + 1.0623732455783 \\cdot 10^{19} \\alpha^{23} + 2.02155370359739 \\cdot 10^{19} \\alpha^{22} + 3.3229117002628 \\cdot 10^{19} \\alpha^{21} + 4.74468609029784 \\cdot 10^{19} \\alpha^{20} + 5.91027289632865 \\cdot 10^{19} \\alpha^{19} + 6.44294773280738 \\cdot 10^{19} \\alpha^{18} + 6.15984406430939 \\cdot 10^{19} \\alpha^{17} + 5.17123580702051 \\cdot 10^{19} \\alpha^{16} + 3.81336509158506 \\cdot 10^{19} \\alpha^{15} + 2.46878149187538 \\cdot 10^{19} \\alpha^{14} + 1.40118608689131 \\cdot 10^{19} \\alpha^{13} + 6.95511467609124 \\cdot 10^{18} \\alpha^{12} + 3.008786518441 \\cdot 10^{18} \\alpha^{11} + 1.12898753107927 \\cdot 10^{18} \\alpha^{10} + 3.6514251568688 \\cdot 10^{17} \\alpha^{9} + 1.00956945015543 \\cdot 10^{17} \\alpha^{8} + 2.36066996880796 \\cdot 10^{16} \\alpha^{7} + 4.60232811597542 \\cdot 10^{15} \\alpha^{6} + 733854372586906.0 \\alpha^{5} + 93164273783193.6 \\alpha^{4} + 9050532931584.0 \\alpha^{3} + 631425134592.0 \\alpha^{2} + 28149468364.8 \\alpha + 601974374.4} & \\frac{42232632120.0 \\alpha^{33} + 1565622167940.0 \\alpha^{32} + 27408439497019.5 \\alpha^{31} + 302204071436702.0 \\alpha^{30} + 2.36170452455924 \\cdot 10^{15} \\alpha^{29} + 1.39575941394619 \\cdot 10^{16} \\alpha^{28} + 6.49921710031747 \\cdot 10^{16} \\alpha^{27} + 2.45257191887215 \\cdot 10^{17} \\alpha^{26} + 7.65554076158727 \\cdot 10^{17} \\alpha^{25} + 2.0072381990984 \\cdot 10^{18} \\alpha^{24} + 4.47324369880138 \\cdot 10^{18} \\alpha^{23} + 8.55151815144303 \\cdot 10^{18} \\alpha^{22} + 1.41249268519321 \\cdot 10^{19} \\alpha^{21} + 2.02713462152385 \\cdot 10^{19} \\alpha^{20} + 2.53857584958548 \\cdot 10^{19} \\alpha^{19} + 2.78276391285512 \\cdot 10^{19} \\alpha^{18} + 2.67592738611561 \\cdot 10^{19} \\alpha^{17} + 2.26004853950543 \\cdot 10^{19} \\alpha^{16} + 1.67710022644516 \\cdot 10^{19} \\alpha^{15} + 1.09287735240062 \\cdot 10^{19} \\alpha^{14} + 6.24505566957979 \\cdot 10^{18} \\alpha^{13} + 3.12185561415406 \\cdot 10^{18} \\alpha^{12} + 1.36046370983285 \\cdot 10^{18} \\alpha^{11} + 5.14391300974807 \\cdot 10^{17} \\alpha^{10} + 1.67687357887637 \\cdot 10^{17} \\alpha^{9} + 4.67449659589665 \\cdot 10^{16} \\alpha^{8} + 1.10236290363183 \\cdot 10^{16} \\alpha^{7} + 2.16815378558999 \\cdot 10^{15} \\alpha^{6} + 348883642650010.0 \\alpha^{5} + 44711144498995.2 \\alpha^{4} + 4386074373734.4 \\alpha^{3} + 309101598720.0 \\alpha^{2} + 13924240588.8 \\alpha + 300987187.2}{103786884360.0 \\alpha^{33} + 3838250741220.0 \\alpha^{32} + 67017201892348.5 \\alpha^{31} + 736817917686867.0 \\alpha^{30} + 5.7404426308535 \\cdot 10^{15} \\alpha^{29} + 3.38137126877185 \\cdot 10^{16} \\alpha^{28} + 1.56894990995686 \\cdot 10^{17} \\alpha^{27} + 5.89847212825391 \\cdot 10^{17} \\alpha^{26} + 1.83386737587568 \\cdot 10^{18} \\alpha^{25} + 4.78817433264763 \\cdot 10^{18} \\alpha^{24} + 1.0623732455783 \\cdot 10^{19} \\alpha^{23} + 2.02155370359739 \\cdot 10^{19} \\alpha^{22} + 3.3229117002628 \\cdot 10^{19} \\alpha^{21} + 4.74468609029784 \\cdot 10^{19} \\alpha^{20} + 5.91027289632865 \\cdot 10^{19} \\alpha^{19} + 6.44294773280738 \\cdot 10^{19} \\alpha^{18} + 6.15984406430939 \\cdot 10^{19} \\alpha^{17} + 5.17123580702051 \\cdot 10^{19} \\alpha^{16} + 3.81336509158506 \\cdot 10^{19} \\alpha^{15} + 2.46878149187538 \\cdot 10^{19} \\alpha^{14} + 1.40118608689131 \\cdot 10^{19} \\alpha^{13} + 6.95511467609124 \\cdot 10^{18} \\alpha^{12} + 3.008786518441 \\cdot 10^{18} \\alpha^{11} + 1.12898753107927 \\cdot 10^{18} \\alpha^{10} + 3.6514251568688 \\cdot 10^{17} \\alpha^{9} + 1.00956945015543 \\cdot 10^{17} \\alpha^{8} + 2.36066996880796 \\cdot 10^{16} \\alpha^{7} + 4.60232811597542 \\cdot 10^{15} \\alpha^{6} + 733854372586906.0 \\alpha^{5} + 93164273783193.6 \\alpha^{4} + 9050532931584.0 \\alpha^{3} + 631425134592.0 \\alpha^{2} + 28149468364.8 \\alpha + 601974374.4} & \\frac{7866114120.0 \\alpha^{33} + 287359334100.0 \\alpha^{32} + 4949767801624.5 \\alpha^{31} + 53612787951000.0 \\alpha^{30} + 410902997729645.0 \\alpha^{29} + 2.37750633432864 \\cdot 10^{15} \\alpha^{28} + 1.08191501868157 \\cdot 10^{16} \\alpha^{27} + 3.98259721275013 \\cdot 10^{16} \\alpha^{26} + 1.21028211783454 \\cdot 10^{17} \\alpha^{25} + 3.08307413906146 \\cdot 10^{17} \\alpha^{24} + 6.66094705095167 \\cdot 10^{17} \\alpha^{23} + 1.23161455300041 \\cdot 10^{18} \\alpha^{22} + 1.96268188872375 \\cdot 10^{18} \\alpha^{21} + 2.71021125051477 \\cdot 10^{18} \\alpha^{20} + 3.2560229456886 \\cdot 10^{18} \\alpha^{19} + 3.41308502796978 \\cdot 10^{18} \\alpha^{18} + 3.12730198608 \\cdot 10^{18} \\alpha^{17} + 2.50678468300829 \\cdot 10^{18} \\alpha^{16} + 1.7576620882434 \\cdot 10^{18} \\alpha^{15} + 1.07683823758282 \\cdot 10^{18} \\alpha^{14} + 5.75230395211137 \\cdot 10^{17} \\alpha^{13} + 2.67052129474403 \\cdot 10^{17} \\alpha^{12} + 1.07258517138074 \\cdot 10^{17} \\alpha^{11} + 3.70412925947194 \\cdot 10^{16} \\alpha^{10} + 1.09104854884158 \\cdot 10^{16} \\alpha^{9} + 2.71193662273464 \\cdot 10^{15} \\alpha^{8} + 560854453810253.0 \\alpha^{7} + 94674732119654.4 \\alpha^{6} + 12699082003046.4 \\alpha^{5} + 1300948571750.4 \\alpha^{4} + 95531481907.2 \\alpha^{3} + 4474198425.6 \\alpha^{2} + 100329062.4 \\alpha}{103786884360.0 \\alpha^{33} + 3838250741220.0 \\alpha^{32} + 67017201892348.5 \\alpha^{31} + 736817917686867.0 \\alpha^{30} + 5.7404426308535 \\cdot 10^{15} \\alpha^{29} + 3.38137126877185 \\cdot 10^{16} \\alpha^{28} + 1.56894990995686 \\cdot 10^{17} \\alpha^{27} + 5.89847212825391 \\cdot 10^{17} \\alpha^{26} + 1.83386737587568 \\cdot 10^{18} \\alpha^{25} + 4.78817433264763 \\cdot 10^{18} \\alpha^{24} + 1.0623732455783 \\cdot 10^{19} \\alpha^{23} + 2.02155370359739 \\cdot 10^{19} \\alpha^{22} + 3.3229117002628 \\cdot 10^{19} \\alpha^{21} + 4.74468609029784 \\cdot 10^{19} \\alpha^{20} + 5.91027289632865 \\cdot 10^{19} \\alpha^{19} + 6.44294773280738 \\cdot 10^{19} \\alpha^{18} + 6.15984406430939 \\cdot 10^{19} \\alpha^{17} + 5.17123580702051 \\cdot 10^{19} \\alpha^{16} + 3.81336509158506 \\cdot 10^{19} \\alpha^{15} + 2.46878149187538 \\cdot 10^{19} \\alpha^{14} + 1.40118608689131 \\cdot 10^{19} \\alpha^{13} + 6.95511467609124 \\cdot 10^{18} \\alpha^{12} + 3.008786518441 \\cdot 10^{18} \\alpha^{11} + 1.12898753107927 \\cdot 10^{18} \\alpha^{10} + 3.6514251568688 \\cdot 10^{17} \\alpha^{9} + 1.00956945015543 \\cdot 10^{17} \\alpha^{8} + 2.36066996880796 \\cdot 10^{16} \\alpha^{7} + 4.60232811597542 \\cdot 10^{15} \\alpha^{6} + 733854372586906.0 \\alpha^{5} + 93164273783193.6 \\alpha^{4} + 9050532931584.0 \\alpha^{3} + 631425134592.0 \\alpha^{2} + 28149468364.8 \\alpha + 601974374.4} & \\frac{15044897880.0 \\alpha^{33} + 551934808380.0 \\alpha^{32} + 9551342391745.5 \\alpha^{31} + 103981185773928.0 \\alpha^{30} + 801358170281107.0 \\alpha^{29} + 4.66452981460351 \\cdot 10^{15} \\alpha^{28} + 2.13638474182272 \\cdot 10^{16} \\alpha^{27} + 7.91877417194167 \\cdot 10^{16} \\alpha^{26} + 2.42433811766087 \\cdot 10^{17} \\alpha^{25} + 6.22473627183209 \\cdot 10^{17} \\alpha^{24} + 1.35620600107509 \\cdot 10^{18} \\alpha^{23} + 2.53015780717448 \\cdot 10^{18} \\alpha^{22} + 4.07048093135657 \\cdot 10^{18} \\alpha^{21} + 5.67770319345846 \\cdot 10^{18} \\alpha^{20} + 6.89435510608795 \\cdot 10^{18} \\alpha^{19} + 7.30914305803327 \\cdot 10^{18} \\alpha^{18} + 6.77787988332321 \\cdot 10^{18} \\alpha^{17} + 5.50242051116799 \\cdot 10^{18} \\alpha^{16} + 3.91030650916448 \\cdot 10^{18} \\alpha^{15} + 2.43002102873452 \\cdot 10^{18} \\alpha^{14} + 1.31780787387364 \\cdot 10^{18} \\alpha^{13} + 6.2165050714302 \\cdot 10^{17} \\alpha^{12} + 2.53942646136368 \\cdot 10^{17} \\alpha^{11} + 8.92859804751424 \\cdot 10^{16} \\alpha^{10} + 2.68041433579646 \\cdot 10^{16} \\alpha^{9} + 6.79821632701594 \\cdot 10^{15} \\alpha^{8} + 1.43631986945518 \\cdot 10^{15} \\alpha^{7} + 248016893231923.0 \\alpha^{6} + 34076928564633.6 \\alpha^{5} + 3581123855155.2 \\alpha^{4} + 270173922508.8 \\alpha^{3} + 13021279027.2 \\alpha^{2} + 300987187.2 \\alpha}{103786884360.0 \\alpha^{33} + 3838250741220.0 \\alpha^{32} + 67017201892348.5 \\alpha^{31} + 736817917686867.0 \\alpha^{30} + 5.7404426308535 \\cdot 10^{15} \\alpha^{29} + 3.38137126877185 \\cdot 10^{16} \\alpha^{28} + 1.56894990995686 \\cdot 10^{17} \\alpha^{27} + 5.89847212825391 \\cdot 10^{17} \\alpha^{26} + 1.83386737587568 \\cdot 10^{18} \\alpha^{25} + 4.78817433264763 \\cdot 10^{18} \\alpha^{24} + 1.0623732455783 \\cdot 10^{19} \\alpha^{23} + 2.02155370359739 \\cdot 10^{19} \\alpha^{22} + 3.3229117002628 \\cdot 10^{19} \\alpha^{21} + 4.74468609029784 \\cdot 10^{19} \\alpha^{20} + 5.91027289632865 \\cdot 10^{19} \\alpha^{19} + 6.44294773280738 \\cdot 10^{19} \\alpha^{18} + 6.15984406430939 \\cdot 10^{19} \\alpha^{17} + 5.17123580702051 \\cdot 10^{19} \\alpha^{16} + 3.81336509158506 \\cdot 10^{19} \\alpha^{15} + 2.46878149187538 \\cdot 10^{19} \\alpha^{14} + 1.40118608689131 \\cdot 10^{19} \\alpha^{13} + 6.95511467609124 \\cdot 10^{18} \\alpha^{12} + 3.008786518441 \\cdot 10^{18} \\alpha^{11} + 1.12898753107927 \\cdot 10^{18} \\alpha^{10} + 3.6514251568688 \\cdot 10^{17} \\alpha^{9} + 1.00956945015543 \\cdot 10^{17} \\alpha^{8} + 2.36066996880796 \\cdot 10^{16} \\alpha^{7} + 4.60232811597542 \\cdot 10^{15} \\alpha^{6} + 733854372586906.0 \\alpha^{5} + 93164273783193.6 \\alpha^{4} + 9050532931584.0 \\alpha^{3} + 631425134592.0 \\alpha^{2} + 28149468364.8 \\alpha + 601974374.4} & \\frac{1069180560.0 \\alpha^{33} + 38767899240.0 \\alpha^{32} + 662245126641.0 \\alpha^{31} + 7107147259884.0 \\alpha^{30} + 53918852863478.4 \\alpha^{29} + 308498648547802.0 \\alpha^{28} + 1.38670039277749 \\cdot 10^{15} \\alpha^{27} + 5.03627183288591 \\cdot 10^{15} \\alpha^{26} + 1.50813529480345 \\cdot 10^{16} \\alpha^{25} + 3.78060768169037 \\cdot 10^{16} \\alpha^{24} + 8.02597642763013 \\cdot 10^{16} \\alpha^{23} + 1.45585731478342 \\cdot 10^{17} \\alpha^{22} + 2.27195591851834 \\cdot 10^{17} \\alpha^{21} + 3.06616319760733 \\cdot 10^{17} \\alpha^{20} + 3.59214216372232 \\cdot 10^{17} \\alpha^{19} + 3.66264003234509 \\cdot 10^{17} \\alpha^{18} + 3.255032593646 \\cdot 10^{17} \\alpha^{17} + 2.52241692232109 \\cdot 10^{17} \\alpha^{16} + 1.70334969445713 \\cdot 10^{17} \\alpha^{15} + 1.00061710501743 \\cdot 10^{17} \\alpha^{14} + 5.0985413969972 \\cdot 10^{16} \\alpha^{13} + 2.24382351600235 \\cdot 10^{16} \\alpha^{12} + 8.47911315973185 \\cdot 10^{15} \\alpha^{11} + 2.729737163627 \\cdot 10^{15} \\alpha^{10} + 740914138410342.0 \\alpha^{9} + 167199192648499.0 \\alpha^{8} + 30780436496947.2 \\alpha^{7} + 4500912890880.0 \\alpha^{6} + 502539680563.2 \\alpha^{5} + 40215232512.0 \\alpha^{4} + 2052565401.6 \\alpha^{3} + 50164531.2 \\alpha^{2}}{103786884360.0 \\alpha^{33} + 3838250741220.0 \\alpha^{32} + 67017201892348.5 \\alpha^{31} + 736817917686867.0 \\alpha^{30} + 5.7404426308535 \\cdot 10^{15} \\alpha^{29} + 3.38137126877185 \\cdot 10^{16} \\alpha^{28} + 1.56894990995686 \\cdot 10^{17} \\alpha^{27} + 5.89847212825391 \\cdot 10^{17} \\alpha^{26} + 1.83386737587568 \\cdot 10^{18} \\alpha^{25} + 4.78817433264763 \\cdot 10^{18} \\alpha^{24} + 1.0623732455783 \\cdot 10^{19} \\alpha^{23} + 2.02155370359739 \\cdot 10^{19} \\alpha^{22} + 3.3229117002628 \\cdot 10^{19} \\alpha^{21} + 4.74468609029784 \\cdot 10^{19} \\alpha^{20} + 5.91027289632865 \\cdot 10^{19} \\alpha^{19} + 6.44294773280738 \\cdot 10^{19} \\alpha^{18} + 6.15984406430939 \\cdot 10^{19} \\alpha^{17} + 5.17123580702051 \\cdot 10^{19} \\alpha^{16} + 3.81336509158506 \\cdot 10^{19} \\alpha^{15} + 2.46878149187538 \\cdot 10^{19} \\alpha^{14} + 1.40118608689131 \\cdot 10^{19} \\alpha^{13} + 6.95511467609124 \\cdot 10^{18} \\alpha^{12} + 3.008786518441 \\cdot 10^{18} \\alpha^{11} + 1.12898753107927 \\cdot 10^{18} \\alpha^{10} + 3.6514251568688 \\cdot 10^{17} \\alpha^{9} + 1.00956945015543 \\cdot 10^{17} \\alpha^{8} + 2.36066996880796 \\cdot 10^{16} \\alpha^{7} + 4.60232811597542 \\cdot 10^{15} \\alpha^{6} + 733854372586906.0 \\alpha^{5} + 93164273783193.6 \\alpha^{4} + 9050532931584.0 \\alpha^{3} + 631425134592.0 \\alpha^{2} + 28149468364.8 \\alpha + 601974374.4} & \\frac{6109603200.0 \\alpha^{33} + 221530852800.0 \\alpha^{32} + 3784257866520.0 \\alpha^{31} + 40612270056480.0 \\alpha^{30} + 308107730648448.0 \\alpha^{29} + 1.76284942027315 \\cdot 10^{15} \\alpha^{28} + 7.92400224444278 \\cdot 10^{15} \\alpha^{27} + 2.87786961879195 \\cdot 10^{16} \\alpha^{26} + 8.61791597030544 \\cdot 10^{16} \\alpha^{25} + 2.16034724668021 \\cdot 10^{17} \\alpha^{24} + 4.58627224436007 \\cdot 10^{17} \\alpha^{23} + 8.31918465590527 \\cdot 10^{17} \\alpha^{22} + 1.29826052486762 \\cdot 10^{18} \\alpha^{21} + 1.75209325577562 \\cdot 10^{18} \\alpha^{20} + 2.05265266498418 \\cdot 10^{18} \\alpha^{19} + 2.09293716134005 \\cdot 10^{18} \\alpha^{18} + 1.86001862494057 \\cdot 10^{18} \\alpha^{17} + 1.44138109846919 \\cdot 10^{18} \\alpha^{16} + 9.73342682546934 \\cdot 10^{17} \\alpha^{15} + 5.71781202867103 \\cdot 10^{17} \\alpha^{14} + 2.91345222685554 \\cdot 10^{17} \\alpha^{13} + 1.28218486628706 \\cdot 10^{17} \\alpha^{12} + 4.84520751984677 \\cdot 10^{16} \\alpha^{11} + 1.55984980778685 \\cdot 10^{16} \\alpha^{10} + 4.23379507663053 \\cdot 10^{15} \\alpha^{9} + 955423957991424.0 \\alpha^{8} + 175888208553984.0 \\alpha^{7} + 25719502233600.0 \\alpha^{6} + 2871655317504.0 \\alpha^{5} + 229801328640.0 \\alpha^{4} + 11728945152.0 \\alpha^{3} + 286654464.0 \\alpha^{2}}{103786884360.0 \\alpha^{33} + 3838250741220.0 \\alpha^{32} + 67017201892348.5 \\alpha^{31} + 736817917686867.0 \\alpha^{30} + 5.7404426308535 \\cdot 10^{15} \\alpha^{29} + 3.38137126877185 \\cdot 10^{16} \\alpha^{28} + 1.56894990995686 \\cdot 10^{17} \\alpha^{27} + 5.89847212825391 \\cdot 10^{17} \\alpha^{26} + 1.83386737587568 \\cdot 10^{18} \\alpha^{25} + 4.78817433264763 \\cdot 10^{18} \\alpha^{24} + 1.0623732455783 \\cdot 10^{19} \\alpha^{23} + 2.02155370359739 \\cdot 10^{19} \\alpha^{22} + 3.3229117002628 \\cdot 10^{19} \\alpha^{21} + 4.74468609029784 \\cdot 10^{19} \\alpha^{20} + 5.91027289632865 \\cdot 10^{19} \\alpha^{19} + 6.44294773280738 \\cdot 10^{19} \\alpha^{18} + 6.15984406430939 \\cdot 10^{19} \\alpha^{17} + 5.17123580702051 \\cdot 10^{19} \\alpha^{16} + 3.81336509158506 \\cdot 10^{19} \\alpha^{15} + 2.46878149187538 \\cdot 10^{19} \\alpha^{14} + 1.40118608689131 \\cdot 10^{19} \\alpha^{13} + 6.95511467609124 \\cdot 10^{18} \\alpha^{12} + 3.008786518441 \\cdot 10^{18} \\alpha^{11} + 1.12898753107927 \\cdot 10^{18} \\alpha^{10} + 3.6514251568688 \\cdot 10^{17} \\alpha^{9} + 1.00956945015543 \\cdot 10^{17} \\alpha^{8} + 2.36066996880796 \\cdot 10^{16} \\alpha^{7} + 4.60232811597542 \\cdot 10^{15} \\alpha^{6} + 733854372586906.0 \\alpha^{5} + 93164273783193.6 \\alpha^{4} + 9050532931584.0 \\alpha^{3} + 631425134592.0 \\alpha^{2} + 28149468364.8 \\alpha + 601974374.4}\\\\\\frac{- 5244076080.0 \\alpha^{32} - 188076838680.0 \\alpha^{31} - 3174460641963.0 \\alpha^{30} - 33625551539358.0 \\alpha^{29} - 251518297460191.0 \\alpha^{28} - 1.4173253579123 \\cdot 10^{15} \\alpha^{27} - 6.26788321926893 \\cdot 10^{15} \\alpha^{26} - 2.23720592721549 \\cdot 10^{16} \\alpha^{25} - 6.57707683408663 \\cdot 10^{16} \\alpha^{24} - 1.6169109704352 \\cdot 10^{17} \\alpha^{23} - 3.36269072034431 \\cdot 10^{17} \\alpha^{22} - 5.9689698731065 \\cdot 10^{17} \\alpha^{21} - 9.1052326760873 \\cdot 10^{17} \\alpha^{20} - 1.19979198860403 \\cdot 10^{18} \\alpha^{19} - 1.37082063805638 \\cdot 10^{18} \\alpha^{18} - 1.3615095932756 \\cdot 10^{18} \\alpha^{17} - 1.17719492853627 \\cdot 10^{18} \\alpha^{16} - 8.86393169648012 \\cdot 10^{17} \\alpha^{15} - 5.80845945730255 \\cdot 10^{17} \\alpha^{14} - 3.30661527901711 \\cdot 10^{17} \\alpha^{13} - 1.63045911539617 \\cdot 10^{17} \\alpha^{12} - 6.93374786231903 \\cdot 10^{16} \\alpha^{11} - 2.5280692343256 \\cdot 10^{16} \\alpha^{10} - 7.84040016764233 \\cdot 10^{15} \\alpha^{9} - 2.04672354718231 \\cdot 10^{15} \\alpha^{8} - 443475383701555.0 \\alpha^{7} - 78252713405798.4 \\alpha^{6} - 10948012475904.0 \\alpha^{5} - 1167379684761.6 \\alpha^{4} - 89045924659.2 \\alpha^{3} - 4323704832.0 \\alpha^{2} - 100329062.4 \\alpha}{34595628120.0 \\alpha^{32} + 1256353161660.0 \\alpha^{31} + 21501498523009.5 \\alpha^{30} + 231271640213616.0 \\alpha^{29} + 1.75929978347542 \\cdot 10^{15} \\alpha^{28} + 1.00983710402559 \\cdot 10^{16} \\alpha^{27} + 4.55660829717249 \\cdot 10^{16} \\alpha^{26} + 1.66238348960647 \\cdot 10^{17} \\alpha^{25} + 5.00463559318128 \\cdot 10^{17} \\alpha^{24} + 1.26241573800379 \\cdot 10^{18} \\alpha^{23} + 2.69963365992516 \\cdot 10^{18} \\alpha^{22} + 4.9387565720412 \\cdot 10^{18} \\alpha^{21} + 7.78386795284854 \\cdot 10^{18} \\alpha^{20} + 1.06263749990938 \\cdot 10^{19} \\alpha^{19} + 1.2616659655033 \\cdot 10^{19} \\alpha^{18} + 1.30653860060026 \\cdot 10^{19} \\alpha^{17} + 1.18225562103629 \\cdot 10^{19} \\alpha^{16} + 9.35574854982643 \\cdot 10^{18} \\alpha^{15} + 6.47405127206591 \\cdot 10^{18} \\alpha^{14} + 3.91323745820734 \\cdot 10^{18} \\alpha^{13} + 2.06179531749948 \\cdot 10^{18} \\alpha^{12} + 9.4384134703076 \\cdot 10^{17} \\alpha^{11} + 3.73701274793159 \\cdot 10^{17} \\alpha^{10} + 1.27194993830982 \\cdot 10^{17} \\alpha^{9} + 3.69175093416385 \\cdot 10^{16} \\alpha^{8} + 9.04064211075533 \\cdot 10^{15} \\alpha^{7} + 1.841805155523 \\cdot 10^{15} \\alpha^{6} + 306239268309811.0 \\alpha^{5} + 40458611989094.4 \\alpha^{4} + 4082349935001.6 \\alpha^{3} + 295277687193.6 \\alpha^{2} + 13623253401.6 \\alpha + 300987187.2} & \\frac{2622038040.0 \\alpha^{32} + 94038419340.0 \\alpha^{31} + 1587230320981.5 \\alpha^{30} + 16812775769679.0 \\alpha^{29} + 125759148730096.0 \\alpha^{28} + 708662678956150.0 \\alpha^{27} + 3.13394160963446 \\cdot 10^{15} \\alpha^{26} + 1.11860296360775 \\cdot 10^{16} \\alpha^{25} + 3.28853841704331 \\cdot 10^{16} \\alpha^{24} + 8.084554852176 \\cdot 10^{16} \\alpha^{23} + 1.68134536017216 \\cdot 10^{17} \\alpha^{22} + 2.98448493655325 \\cdot 10^{17} \\alpha^{21} + 4.55261633804365 \\cdot 10^{17} \\alpha^{20} + 5.99895994302015 \\cdot 10^{17} \\alpha^{19} + 6.8541031902819 \\cdot 10^{17} \\alpha^{18} + 6.807547966378 \\cdot 10^{17} \\alpha^{17} + 5.88597464268135 \\cdot 10^{17} \\alpha^{16} + 4.43196584824006 \\cdot 10^{17} \\alpha^{15} + 2.90422972865128 \\cdot 10^{17} \\alpha^{14} + 1.65330763950856 \\cdot 10^{17} \\alpha^{13} + 8.15229557698087 \\cdot 10^{16} \\alpha^{12} + 3.46687393115951 \\cdot 10^{16} \\alpha^{11} + 1.2640346171628 \\cdot 10^{16} \\alpha^{10} + 3.92020008382116 \\cdot 10^{15} \\alpha^{9} + 1.02336177359116 \\cdot 10^{15} \\alpha^{8} + 221737691850778.0 \\alpha^{7} + 39126356702899.2 \\alpha^{6} + 5474006237952.0 \\alpha^{5} + 583689842380.8 \\alpha^{4} + 44522962329.6 \\alpha^{3} + 2161852416.0 \\alpha^{2} + 50164531.2 \\alpha}{34595628120.0 \\alpha^{32} + 1256353161660.0 \\alpha^{31} + 21501498523009.5 \\alpha^{30} + 231271640213616.0 \\alpha^{29} + 1.75929978347542 \\cdot 10^{15} \\alpha^{28} + 1.00983710402559 \\cdot 10^{16} \\alpha^{27} + 4.55660829717249 \\cdot 10^{16} \\alpha^{26} + 1.66238348960647 \\cdot 10^{17} \\alpha^{25} + 5.00463559318128 \\cdot 10^{17} \\alpha^{24} + 1.26241573800379 \\cdot 10^{18} \\alpha^{23} + 2.69963365992516 \\cdot 10^{18} \\alpha^{22} + 4.9387565720412 \\cdot 10^{18} \\alpha^{21} + 7.78386795284854 \\cdot 10^{18} \\alpha^{20} + 1.06263749990938 \\cdot 10^{19} \\alpha^{19} + 1.2616659655033 \\cdot 10^{19} \\alpha^{18} + 1.30653860060026 \\cdot 10^{19} \\alpha^{17} + 1.18225562103629 \\cdot 10^{19} \\alpha^{16} + 9.35574854982643 \\cdot 10^{18} \\alpha^{15} + 6.47405127206591 \\cdot 10^{18} \\alpha^{14} + 3.91323745820734 \\cdot 10^{18} \\alpha^{13} + 2.06179531749948 \\cdot 10^{18} \\alpha^{12} + 9.4384134703076 \\cdot 10^{17} \\alpha^{11} + 3.73701274793159 \\cdot 10^{17} \\alpha^{10} + 1.27194993830982 \\cdot 10^{17} \\alpha^{9} + 3.69175093416385 \\cdot 10^{16} \\alpha^{8} + 9.04064211075533 \\cdot 10^{15} \\alpha^{7} + 1.841805155523 \\cdot 10^{15} \\alpha^{6} + 306239268309811.0 \\alpha^{5} + 40458611989094.4 \\alpha^{4} + 4082349935001.6 \\alpha^{3} + 295277687193.6 \\alpha^{2} + 13623253401.6 \\alpha + 300987187.2} & \\frac{8120680920.0 \\alpha^{32} + 296420075100.0 \\alpha^{31} + 5101404718729.5 \\alpha^{30} + 55203874591950.0 \\alpha^{29} + 422680095412697.0 \\alpha^{28} + 2.44310699505132 \\cdot 10^{15} \\alpha^{27} + 1.11055831731857 \\cdot 10^{16} \\alpha^{26} + 4.0834129144418 \\cdot 10^{16} \\alpha^{25} + 1.23946905426471 \\cdot 10^{17} \\alpha^{24} + 3.15363065005303 \\cdot 10^{17} \\alpha^{23} + 6.80500405380563 \\cdot 10^{17} \\alpha^{22} + 1.25667402220975 \\cdot 10^{18} \\alpha^{21} + 2.00006976445367 \\cdot 10^{18} \\alpha^{20} + 2.75828988568548 \\cdot 10^{18} \\alpha^{19} + 3.30949771661581 \\cdot 10^{18} \\alpha^{18} + 3.46464089574081 \\cdot 10^{18} \\alpha^{17} + 3.17043218360517 \\cdot 10^{18} \\alpha^{16} + 2.53808876376106 \\cdot 10^{18} \\alpha^{15} + 1.777348646181 \\cdot 10^{18} \\alpha^{14} + 1.08753808241055 \\cdot 10^{18} \\alpha^{13} + 5.80236549604553 \\cdot 10^{17} \\alpha^{12} + 2.69057130154988 \\cdot 10^{17} \\alpha^{11} + 1.07940686484287 \\cdot 10^{17} \\alpha^{10} + 3.7236450450489 \\cdot 10^{16} \\alpha^{9} + 1.0956788379429 \\cdot 10^{16} \\alpha^{8} + 2.72087736030879 \\cdot 10^{15} \\alpha^{7} + 562222637450573.0 \\alpha^{6} + 94834255619174.4 \\alpha^{5} + 12712385308262.4 \\alpha^{4} + 1301654756966.4 \\alpha^{3} + 95549397811.2 \\alpha^{2} + 4474198425.6 \\alpha + 100329062.4}{34595628120.0 \\alpha^{32} + 1256353161660.0 \\alpha^{31} + 21501498523009.5 \\alpha^{30} + 231271640213616.0 \\alpha^{29} + 1.75929978347542 \\cdot 10^{15} \\alpha^{28} + 1.00983710402559 \\cdot 10^{16} \\alpha^{27} + 4.55660829717249 \\cdot 10^{16} \\alpha^{26} + 1.66238348960647 \\cdot 10^{17} \\alpha^{25} + 5.00463559318128 \\cdot 10^{17} \\alpha^{24} + 1.26241573800379 \\cdot 10^{18} \\alpha^{23} + 2.69963365992516 \\cdot 10^{18} \\alpha^{22} + 4.9387565720412 \\cdot 10^{18} \\alpha^{21} + 7.78386795284854 \\cdot 10^{18} \\alpha^{20} + 1.06263749990938 \\cdot 10^{19} \\alpha^{19} + 1.2616659655033 \\cdot 10^{19} \\alpha^{18} + 1.30653860060026 \\cdot 10^{19} \\alpha^{17} + 1.18225562103629 \\cdot 10^{19} \\alpha^{16} + 9.35574854982643 \\cdot 10^{18} \\alpha^{15} + 6.47405127206591 \\cdot 10^{18} \\alpha^{14} + 3.91323745820734 \\cdot 10^{18} \\alpha^{13} + 2.06179531749948 \\cdot 10^{18} \\alpha^{12} + 9.4384134703076 \\cdot 10^{17} \\alpha^{11} + 3.73701274793159 \\cdot 10^{17} \\alpha^{10} + 1.27194993830982 \\cdot 10^{17} \\alpha^{9} + 3.69175093416385 \\cdot 10^{16} \\alpha^{8} + 9.04064211075533 \\cdot 10^{15} \\alpha^{7} + 1.841805155523 \\cdot 10^{15} \\alpha^{6} + 306239268309811.0 \\alpha^{5} + 40458611989094.4 \\alpha^{4} + 4082349935001.6 \\alpha^{3} + 295277687193.6 \\alpha^{2} + 13623253401.6 \\alpha + 300987187.2} & \\frac{- 254566799.999999 \\alpha^{32} - 9060740999.99997 \\alpha^{31} - 151636917105.0 \\alpha^{30} - 1591086640950.0 \\alpha^{29} - 11777097683052.0 \\alpha^{28} - 65600660722680.0 \\alpha^{27} - 286432986369996.0 \\alpha^{26} - 1.00815701691665 \\cdot 10^{15} \\alpha^{25} - 2.91869364301617 \\cdot 10^{15} \\alpha^{24} - 7.05565109915677 \\cdot 10^{15} \\alpha^{23} - 1.44057002853958 \\cdot 10^{16} \\alpha^{22} - 2.50594692093414 \\cdot 10^{16} \\alpha^{21} - 3.73878757299232 \\cdot 10^{16} \\alpha^{20} - 4.8078635170702 \\cdot 10^{16} \\alpha^{19} - 5.34747709272063 \\cdot 10^{16} \\alpha^{18} - 5.15558677710313 \\cdot 10^{16} \\alpha^{17} - 4.31301975251697 \\cdot 10^{16} \\alpha^{16} - 3.130408075277 \\cdot 10^{16} \\alpha^{15} - 1.9686557937609 \\cdot 10^{16} \\alpha^{14} - 1.06998448277234 \\cdot 10^{16} \\alpha^{13} - 5.00615439341585 \\cdot 10^{15} \\alpha^{12} - 2.00500068058551 \\cdot 10^{15} \\alpha^{11} - 682169346212480.0 \\alpha^{10} - 195157855769536.0 \\alpha^{9} - 46302891013248.0 \\alpha^{8} - 8940737574144.0 \\alpha^{7} - 1368183640320.0 \\alpha^{6} - 159523499520.0 \\alpha^{5} - 13303305216.0 \\alpha^{4} - 706185216.000001 \\alpha^{3} - 17915904.0 \\alpha^{2}}{34595628120.0 \\alpha^{32} + 1256353161660.0 \\alpha^{31} + 21501498523009.5 \\alpha^{30} + 231271640213616.0 \\alpha^{29} + 1.75929978347542 \\cdot 10^{15} \\alpha^{28} + 1.00983710402559 \\cdot 10^{16} \\alpha^{27} + 4.55660829717249 \\cdot 10^{16} \\alpha^{26} + 1.66238348960647 \\cdot 10^{17} \\alpha^{25} + 5.00463559318128 \\cdot 10^{17} \\alpha^{24} + 1.26241573800379 \\cdot 10^{18} \\alpha^{23} + 2.69963365992516 \\cdot 10^{18} \\alpha^{22} + 4.9387565720412 \\cdot 10^{18} \\alpha^{21} + 7.78386795284854 \\cdot 10^{18} \\alpha^{20} + 1.06263749990938 \\cdot 10^{19} \\alpha^{19} + 1.2616659655033 \\cdot 10^{19} \\alpha^{18} + 1.30653860060026 \\cdot 10^{19} \\alpha^{17} + 1.18225562103629 \\cdot 10^{19} \\alpha^{16} + 9.35574854982643 \\cdot 10^{18} \\alpha^{15} + 6.47405127206591 \\cdot 10^{18} \\alpha^{14} + 3.91323745820734 \\cdot 10^{18} \\alpha^{13} + 2.06179531749948 \\cdot 10^{18} \\alpha^{12} + 9.4384134703076 \\cdot 10^{17} \\alpha^{11} + 3.73701274793159 \\cdot 10^{17} \\alpha^{10} + 1.27194993830982 \\cdot 10^{17} \\alpha^{9} + 3.69175093416385 \\cdot 10^{16} \\alpha^{8} + 9.04064211075533 \\cdot 10^{15} \\alpha^{7} + 1.841805155523 \\cdot 10^{15} \\alpha^{6} + 306239268309811.0 \\alpha^{5} + 40458611989094.4 \\alpha^{4} + 4082349935001.6 \\alpha^{3} + 295277687193.6 \\alpha^{2} + 13623253401.6 \\alpha + 300987187.2} & \\frac{- 1247377320.0 \\alpha^{32} - 44754024420.0 \\alpha^{31} - 755705931214.5 \\alpha^{30} - 8008616224602.0 \\alpha^{29} - 59935299944284.8 \\alpha^{28} - 337931174297405.0 \\alpha^{27} - 1.49536255822473 \\cdot 10^{15} \\alpha^{26} - 5.34097556380957 \\cdot 10^{15} \\alpha^{25} - 1.57130186744625 \\cdot 10^{16} \\alpha^{24} - 3.86588614860908 \\cdot 10^{16} \\alpha^{23} - 8.04658429372589 \\cdot 10^{16} \\alpha^{22} - 1.42959379525327 \\cdot 10^{17} \\alpha^{21} - 2.18283847969702 \\cdot 10^{17} \\alpha^{20} - 2.87928338358332 \\cdot 10^{17} \\alpha^{19} - 3.29336466782294 \\cdot 10^{17} \\alpha^{18} - 3.27488431376142 \\cdot 10^{17} \\alpha^{17} - 2.83516182752775 \\cdot 10^{17} \\alpha^{16} - 2.1377227222381 \\cdot 10^{17} \\alpha^{15} - 1.40289846948162 \\cdot 10^{17} \\alpha^{14} - 7.9990420768497 \\cdot 10^{16} \\alpha^{13} - 3.95099392865504 \\cdot 10^{16} \\alpha^{12} - 1.68331194856512 \\cdot 10^{16} \\alpha^{11} - 6.14963074926087 \\cdot 10^{15} \\alpha^{10} - 1.9113105779682 \\cdot 10^{15} \\alpha^{9} - 500105164042266.0 \\alpha^{8} - 108633661531853.0 \\alpha^{7} - 19221132441369.6 \\alpha^{6} - 2697122244096.0 \\alpha^{5} - 288519094886.4 \\alpha^{4} - 22084934860.8 \\alpha^{3} - 1076447232.0 \\alpha^{2} - 25082265.6 \\alpha}{34595628120.0 \\alpha^{32} + 1256353161660.0 \\alpha^{31} + 21501498523009.5 \\alpha^{30} + 231271640213616.0 \\alpha^{29} + 1.75929978347542 \\cdot 10^{15} \\alpha^{28} + 1.00983710402559 \\cdot 10^{16} \\alpha^{27} + 4.55660829717249 \\cdot 10^{16} \\alpha^{26} + 1.66238348960647 \\cdot 10^{17} \\alpha^{25} + 5.00463559318128 \\cdot 10^{17} \\alpha^{24} + 1.26241573800379 \\cdot 10^{18} \\alpha^{23} + 2.69963365992516 \\cdot 10^{18} \\alpha^{22} + 4.9387565720412 \\cdot 10^{18} \\alpha^{21} + 7.78386795284854 \\cdot 10^{18} \\alpha^{20} + 1.06263749990938 \\cdot 10^{19} \\alpha^{19} + 1.2616659655033 \\cdot 10^{19} \\alpha^{18} + 1.30653860060026 \\cdot 10^{19} \\alpha^{17} + 1.18225562103629 \\cdot 10^{19} \\alpha^{16} + 9.35574854982643 \\cdot 10^{18} \\alpha^{15} + 6.47405127206591 \\cdot 10^{18} \\alpha^{14} + 3.91323745820734 \\cdot 10^{18} \\alpha^{13} + 2.06179531749948 \\cdot 10^{18} \\alpha^{12} + 9.4384134703076 \\cdot 10^{17} \\alpha^{11} + 3.73701274793159 \\cdot 10^{17} \\alpha^{10} + 1.27194993830982 \\cdot 10^{17} \\alpha^{9} + 3.69175093416385 \\cdot 10^{16} \\alpha^{8} + 9.04064211075533 \\cdot 10^{15} \\alpha^{7} + 1.841805155523 \\cdot 10^{15} \\alpha^{6} + 306239268309811.0 \\alpha^{5} + 40458611989094.4 \\alpha^{4} + 4082349935001.6 \\alpha^{3} + 295277687193.6 \\alpha^{2} + 13623253401.6 \\alpha + 300987187.2} & \\frac{- 7127870400.0 \\alpha^{32} - 255737282400.0 \\alpha^{31} - 4318319606940.0 \\alpha^{30} - 45763521283440.0 \\alpha^{29} - 342487428253056.0 \\alpha^{28} - 1.93103528169946 \\cdot 10^{15} \\alpha^{27} - 8.54492890414133 \\cdot 10^{15} \\alpha^{26} - 3.05198603646261 \\cdot 10^{16} \\alpha^{25} - 8.97886781397859 \\cdot 10^{16} \\alpha^{24} - 2.20907779920519 \\cdot 10^{17} \\alpha^{23} - 4.59804816784337 \\cdot 10^{17} \\alpha^{22} - 8.16910740144727 \\cdot 10^{17} \\alpha^{21} - 1.24733627411258 \\cdot 10^{18} \\alpha^{20} - 1.64530479061904 \\cdot 10^{18} \\alpha^{19} - 1.88192266732739 \\cdot 10^{18} \\alpha^{18} - 1.87136246500653 \\cdot 10^{18} \\alpha^{17} - 1.620092472873 \\cdot 10^{18} \\alpha^{16} - 1.22155584127892 \\cdot 10^{18} \\alpha^{15} - 8.01656268275209 \\cdot 10^{17} \\alpha^{14} - 4.57088118677126 \\cdot 10^{17} \\alpha^{13} - 2.25771081637431 \\cdot 10^{17} \\alpha^{12} - 9.61892542037211 \\cdot 10^{16} \\alpha^{11} - 3.51407471386335 \\cdot 10^{16} \\alpha^{10} - 1.09217747312468 \\cdot 10^{16} \\alpha^{9} - 2.85774379452723 \\cdot 10^{15} \\alpha^{8} - 620763780182016.0 \\alpha^{7} - 109835042522112.0 \\alpha^{6} - 15412127109120.0 \\alpha^{5} - 1648680542208.0 \\alpha^{4} - 126199627776.0 \\alpha^{3} - 6151127040.0 \\alpha^{2} - 143327232.0 \\alpha}{34595628120.0 \\alpha^{32} + 1256353161660.0 \\alpha^{31} + 21501498523009.5 \\alpha^{30} + 231271640213616.0 \\alpha^{29} + 1.75929978347542 \\cdot 10^{15} \\alpha^{28} + 1.00983710402559 \\cdot 10^{16} \\alpha^{27} + 4.55660829717249 \\cdot 10^{16} \\alpha^{26} + 1.66238348960647 \\cdot 10^{17} \\alpha^{25} + 5.00463559318128 \\cdot 10^{17} \\alpha^{24} + 1.26241573800379 \\cdot 10^{18} \\alpha^{23} + 2.69963365992516 \\cdot 10^{18} \\alpha^{22} + 4.9387565720412 \\cdot 10^{18} \\alpha^{21} + 7.78386795284854 \\cdot 10^{18} \\alpha^{20} + 1.06263749990938 \\cdot 10^{19} \\alpha^{19} + 1.2616659655033 \\cdot 10^{19} \\alpha^{18} + 1.30653860060026 \\cdot 10^{19} \\alpha^{17} + 1.18225562103629 \\cdot 10^{19} \\alpha^{16} + 9.35574854982643 \\cdot 10^{18} \\alpha^{15} + 6.47405127206591 \\cdot 10^{18} \\alpha^{14} + 3.91323745820734 \\cdot 10^{18} \\alpha^{13} + 2.06179531749948 \\cdot 10^{18} \\alpha^{12} + 9.4384134703076 \\cdot 10^{17} \\alpha^{11} + 3.73701274793159 \\cdot 10^{17} \\alpha^{10} + 1.27194993830982 \\cdot 10^{17} \\alpha^{9} + 3.69175093416385 \\cdot 10^{16} \\alpha^{8} + 9.04064211075533 \\cdot 10^{15} \\alpha^{7} + 1.841805155523 \\cdot 10^{15} \\alpha^{6} + 306239268309811.0 \\alpha^{5} + 40458611989094.4 \\alpha^{4} + 4082349935001.6 \\alpha^{3} + 295277687193.6 \\alpha^{2} + 13623253401.6 \\alpha + 300987187.2}\\\\\\frac{- 3343310640.0 \\alpha^{29} - 102592315800.0 \\alpha^{28} - 1473905009259.0 \\alpha^{27} - 13228173282870.0 \\alpha^{26} - 83492460894522.6 \\alpha^{25} - 395487725602140.0 \\alpha^{24} - 1.46467378559716 \\cdot 10^{15} \\alpha^{23} - 4.36115283872317 \\cdot 10^{15} \\alpha^{22} - 1.06511312398357 \\cdot 10^{16} \\alpha^{21} - 2.16528866742514 \\cdot 10^{16} \\alpha^{20} - 3.70449774443964 \\cdot 10^{16} \\alpha^{19} - 5.37758594275231 \\cdot 10^{16} \\alpha^{18} - 6.66319147155004 \\cdot 10^{16} \\alpha^{17} - 7.07642362503473 \\cdot 10^{16} \\alpha^{16} - 6.45792430781727 \\cdot 10^{16} \\alpha^{15} - 5.06991584851115 \\cdot 10^{16} \\alpha^{14} - 3.42302630986203 \\cdot 10^{16} \\alpha^{13} - 1.98414736059696 \\cdot 10^{16} \\alpha^{12} - 9.84180396945264 \\cdot 10^{15} \\alpha^{11} - 4.15653964924808 \\cdot 10^{15} \\alpha^{10} - 1.48404158765 \\cdot 10^{15} \\alpha^{9} - 443559356541952.0 \\alpha^{8} - 109501969699507.0 \\alpha^{7} - 21918572766720.0 \\alpha^{6} - 3465051680102.4 \\alpha^{5} - 416033932492.8 \\alpha^{4} - 35621744025.6 \\alpha^{3} - 1936112025.6 \\alpha^{2} - 50164531.2 \\alpha}{11531876040.0 \\alpha^{29} + 357281048340.0 \\alpha^{28} + 5188632034936.5 \\alpha^{27} + 47131998826644.0 \\alpha^{26} + 301486702431761.0 \\alpha^{25} + 1.44931467714395 \\cdot 10^{15} \\alpha^{24} + 5.45533626608614 \\cdot 10^{15} \\alpha^{23} + 1.65356898743145 \\cdot 10^{16} \\alpha^{22} + 4.11817480701988 \\cdot 10^{16} \\alpha^{21} + 8.55325478907064 \\cdot 10^{16} \\alpha^{20} + 1.49815180364729 \\cdot 10^{17} \\alpha^{19} + 2.23168262620307 \\cdot 10^{17} \\alpha^{18} + 2.84497345549847 \\cdot 10^{17} \\alpha^{17} + 3.11776466107342 \\cdot 10^{17} \\alpha^{16} + 2.94592352048853 \\cdot 10^{17} \\alpha^{15} + 2.40390481294119 \\cdot 10^{17} \\alpha^{14} + 1.69465008028237 \\cdot 10^{17} \\alpha^{13} + 1.03111721497748 \\cdot 10^{17} \\alpha^{12} + 5.40285626002407 \\cdot 10^{16} \\alpha^{11} + 2.4289233325617 \\cdot 10^{16} \\alpha^{10} + 9.31818863284863 \\cdot 10^{15} \\alpha^{9} + 3.02784003900488 \\cdot 10^{15} \\alpha^{8} + 824950063751795.0 \\alpha^{7} + 185900090922931.0 \\alpha^{6} + 34005480519398.4 \\alpha^{5} + 4917437466163.2 \\alpha^{4} + 540493552742.4 \\alpha^{3} + 42392164147.2 \\alpha^{2} + 2111687884.8 \\alpha + 50164531.2} & \\frac{1671655320.0 \\alpha^{29} + 51296157900.0 \\alpha^{28} + 736952504629.5 \\alpha^{27} + 6614086641435.0 \\alpha^{26} + 41746230447261.3 \\alpha^{25} + 197743862801070.0 \\alpha^{24} + 732336892798580.0 \\alpha^{23} + 2.18057641936159 \\cdot 10^{15} \\alpha^{22} + 5.32556561991784 \\cdot 10^{15} \\alpha^{21} + 1.08264433371257 \\cdot 10^{16} \\alpha^{20} + 1.85224887221982 \\cdot 10^{16} \\alpha^{19} + 2.68879297137615 \\cdot 10^{16} \\alpha^{18} + 3.33159573577502 \\cdot 10^{16} \\alpha^{17} + 3.53821181251736 \\cdot 10^{16} \\alpha^{16} + 3.22896215390863 \\cdot 10^{16} \\alpha^{15} + 2.53495792425557 \\cdot 10^{16} \\alpha^{14} + 1.71151315493102 \\cdot 10^{16} \\alpha^{13} + 9.92073680298479 \\cdot 10^{15} \\alpha^{12} + 4.92090198472632 \\cdot 10^{15} \\alpha^{11} + 2.07826982462404 \\cdot 10^{15} \\alpha^{10} + 742020793825002.0 \\alpha^{9} + 221779678270976.0 \\alpha^{8} + 54750984849753.6 \\alpha^{7} + 10959286383360.0 \\alpha^{6} + 1732525840051.2 \\alpha^{5} + 208016966246.4 \\alpha^{4} + 17810872012.8 \\alpha^{3} + 968056012.8 \\alpha^{2} + 25082265.6 \\alpha}{11531876040.0 \\alpha^{29} + 357281048340.0 \\alpha^{28} + 5188632034936.5 \\alpha^{27} + 47131998826644.0 \\alpha^{26} + 301486702431761.0 \\alpha^{25} + 1.44931467714395 \\cdot 10^{15} \\alpha^{24} + 5.45533626608614 \\cdot 10^{15} \\alpha^{23} + 1.65356898743145 \\cdot 10^{16} \\alpha^{22} + 4.11817480701988 \\cdot 10^{16} \\alpha^{21} + 8.55325478907064 \\cdot 10^{16} \\alpha^{20} + 1.49815180364729 \\cdot 10^{17} \\alpha^{19} + 2.23168262620307 \\cdot 10^{17} \\alpha^{18} + 2.84497345549847 \\cdot 10^{17} \\alpha^{17} + 3.11776466107342 \\cdot 10^{17} \\alpha^{16} + 2.94592352048853 \\cdot 10^{17} \\alpha^{15} + 2.40390481294119 \\cdot 10^{17} \\alpha^{14} + 1.69465008028237 \\cdot 10^{17} \\alpha^{13} + 1.03111721497748 \\cdot 10^{17} \\alpha^{12} + 5.40285626002407 \\cdot 10^{16} \\alpha^{11} + 2.4289233325617 \\cdot 10^{16} \\alpha^{10} + 9.31818863284863 \\cdot 10^{15} \\alpha^{9} + 3.02784003900488 \\cdot 10^{15} \\alpha^{8} + 824950063751795.0 \\alpha^{7} + 185900090922931.0 \\alpha^{6} + 34005480519398.4 \\alpha^{5} + 4917437466163.2 \\alpha^{4} + 540493552742.4 \\alpha^{3} + 42392164147.2 \\alpha^{2} + 2111687884.8 \\alpha + 50164531.2} & \\frac{- 84855599.9999995 \\alpha^{29} - 2567683799.99999 \\alpha^{28} - 36313906634.9999 \\alpha^{27} - 320256336330.0 \\alpha^{26} - 1982541990969.0 \\alpha^{25} - 9192411679032.0 \\alpha^{24} - 33254854553031.0 \\alpha^{23} - 96509423406910.0 \\alpha^{22} - 229182053974609.0 \\alpha^{21} - 451843354504516.0 \\alpha^{20} - 747563682454837.0 \\alpha^{19} - 1.0461114102102 \\cdot 10^{15} \\alpha^{18} - 1.24510769096368 \\cdot 10^{15} \\alpha^{17} - 1.26513774218674 \\cdot 10^{15} \\alpha^{16} - 1.09961748754913 \\cdot 10^{15} \\alpha^{15} - 817908240971730.0 \\alpha^{14} - 520035651022723.0 \\alpha^{13} - 281849610882941.0 \\alpha^{12} - 129612449406580.0 \\alpha^{11} - 50229708101968.0 \\alpha^{10} - 16248286587232.0 \\alpha^{9} - 4329648270976.0 \\alpha^{8} - 933093369216.0 \\alpha^{7} - 158441730048.0 \\alpha^{6} - 20386563840.0 \\alpha^{5} - 1866488832.0 \\alpha^{4} - 108241920.0 \\alpha^{3} - 2985984.0 \\alpha^{2}}{11531876040.0 \\alpha^{29} + 357281048340.0 \\alpha^{28} + 5188632034936.5 \\alpha^{27} + 47131998826644.0 \\alpha^{26} + 301486702431761.0 \\alpha^{25} + 1.44931467714395 \\cdot 10^{15} \\alpha^{24} + 5.45533626608614 \\cdot 10^{15} \\alpha^{23} + 1.65356898743145 \\cdot 10^{16} \\alpha^{22} + 4.11817480701988 \\cdot 10^{16} \\alpha^{21} + 8.55325478907064 \\cdot 10^{16} \\alpha^{20} + 1.49815180364729 \\cdot 10^{17} \\alpha^{19} + 2.23168262620307 \\cdot 10^{17} \\alpha^{18} + 2.84497345549847 \\cdot 10^{17} \\alpha^{17} + 3.11776466107342 \\cdot 10^{17} \\alpha^{16} + 2.94592352048853 \\cdot 10^{17} \\alpha^{15} + 2.40390481294119 \\cdot 10^{17} \\alpha^{14} + 1.69465008028237 \\cdot 10^{17} \\alpha^{13} + 1.03111721497748 \\cdot 10^{17} \\alpha^{12} + 5.40285626002407 \\cdot 10^{16} \\alpha^{11} + 2.4289233325617 \\cdot 10^{16} \\alpha^{10} + 9.31818863284863 \\cdot 10^{15} \\alpha^{9} + 3.02784003900488 \\cdot 10^{15} \\alpha^{8} + 824950063751795.0 \\alpha^{7} + 185900090922931.0 \\alpha^{6} + 34005480519398.4 \\alpha^{5} + 4917437466163.2 \\alpha^{4} + 540493552742.4 \\alpha^{3} + 42392164147.2 \\alpha^{2} + 2111687884.8 \\alpha + 50164531.2} & \\frac{5099821560.0 \\alpha^{29} + 159799468140.0 \\alpha^{28} + 2349763736323.5 \\alpha^{27} + 21636421269894.0 \\alpha^{26} + 140449406615623.0 \\alpha^{25} + 685916460976765.0 \\alpha^{24} + 2.62575325855091 \\cdot 10^{15} \\alpha^{23} + 8.10291246708883 \\cdot 10^{15} \\alpha^{22} + 2.05670317524513 \\cdot 10^{16} \\alpha^{21} + 4.35823046057172 \\cdot 10^{16} \\alpha^{20} + 7.79679165233009 \\cdot 10^{16} \\alpha^{19} + 1.18754877995891 \\cdot 10^{17} \\alpha^{18} + 1.54968839191737 \\cdot 10^{17} \\alpha^{17} + 1.74043406833208 \\cdot 10^{17} \\alpha^{16} + 1.68732718355155 \\cdot 10^{17} \\alpha^{15} + 1.41445889046812 \\cdot 10^{17} \\alpha^{14} + 1.02564588784065 \\cdot 10^{17} \\alpha^{13} + 6.42743231184577 \\cdot 10^{16} \\alpha^{12} + 3.47337920095551 \\cdot 10^{16} \\alpha^{11} + 1.61268431514267 \\cdot 10^{16} \\alpha^{10} + 6.39885031731032 \\cdot 10^{15} \\alpha^{9} + 2.15371027073391 \\cdot 10^{15} \\alpha^{8} + 608745404460429.0 \\alpha^{7} + 142538270579635.0 \\alpha^{6} + 27136536850713.6 \\alpha^{5} + 4090969067673.6 \\alpha^{4} + 469574790451.2 \\alpha^{3} + 38528898048.0 \\alpha^{2} + 2011358822.4 \\alpha + 50164531.2}{11531876040.0 \\alpha^{29} + 357281048340.0 \\alpha^{28} + 5188632034936.5 \\alpha^{27} + 47131998826644.0 \\alpha^{26} + 301486702431761.0 \\alpha^{25} + 1.44931467714395 \\cdot 10^{15} \\alpha^{24} + 5.45533626608614 \\cdot 10^{15} \\alpha^{23} + 1.65356898743145 \\cdot 10^{16} \\alpha^{22} + 4.11817480701988 \\cdot 10^{16} \\alpha^{21} + 8.55325478907064 \\cdot 10^{16} \\alpha^{20} + 1.49815180364729 \\cdot 10^{17} \\alpha^{19} + 2.23168262620307 \\cdot 10^{17} \\alpha^{18} + 2.84497345549847 \\cdot 10^{17} \\alpha^{17} + 3.11776466107342 \\cdot 10^{17} \\alpha^{16} + 2.94592352048853 \\cdot 10^{17} \\alpha^{15} + 2.40390481294119 \\cdot 10^{17} \\alpha^{14} + 1.69465008028237 \\cdot 10^{17} \\alpha^{13} + 1.03111721497748 \\cdot 10^{17} \\alpha^{12} + 5.40285626002407 \\cdot 10^{16} \\alpha^{11} + 2.4289233325617 \\cdot 10^{16} \\alpha^{10} + 9.31818863284863 \\cdot 10^{15} \\alpha^{9} + 3.02784003900488 \\cdot 10^{15} \\alpha^{8} + 824950063751795.0 \\alpha^{7} + 185900090922931.0 \\alpha^{6} + 34005480519398.4 \\alpha^{5} + 4917437466163.2 \\alpha^{4} + 540493552742.4 \\alpha^{3} + 42392164147.2 \\alpha^{2} + 2111687884.8 \\alpha + 50164531.2} & \\frac{772185960.000001 \\alpha^{29} + 23722316100.0 \\alpha^{28} + 341240822338.5 \\alpha^{27} + 3066851068470.0 \\alpha^{26} + 19386208730403.9 \\alpha^{25} + 91977622641261.0 \\alpha^{24} + 341227305484517.0 \\alpha^{23} + 1.01790614212561 \\cdot 10^{15} \\alpha^{22} + 2.49089626947796 \\cdot 10^{15} \\alpha^{21} + 5.07433915268445 \\cdot 10^{15} \\alpha^{20} + 8.70057159925798 \\cdot 10^{15} \\alpha^{19} + 1.26593812992231 \\cdot 10^{16} \\alpha^{18} + 1.57241479106523 \\cdot 10^{16} \\alpha^{17} + 1.67422057559468 \\cdot 10^{16} \\alpha^{16} + 1.53200976538813 \\cdot 10^{16} \\alpha^{15} + 1.20613584405491 \\cdot 10^{16} \\alpha^{14} + 8.16753903638804 \\cdot 10^{15} \\alpha^{13} + 4.74898119333019 \\cdot 10^{15} \\alpha^{12} + 2.36324165530823 \\cdot 10^{15} \\alpha^{11} + 1.00146263123554 \\cdot 10^{15} \\alpha^{10} + 358824181972077.0 \\alpha^{9} + 107642602932256.0 \\alpha^{8} + 26675672397964.8 \\alpha^{7} + 5360811894144.0 \\alpha^{6} + 850972997145.6 \\alpha^{5} + 102608616499.2 \\alpha^{4} + 8824254566.4 \\alpha^{3} + 481788518.4 \\alpha^{2} + 12541132.8 \\alpha}{11531876040.0 \\alpha^{29} + 357281048340.0 \\alpha^{28} + 5188632034936.5 \\alpha^{27} + 47131998826644.0 \\alpha^{26} + 301486702431761.0 \\alpha^{25} + 1.44931467714395 \\cdot 10^{15} \\alpha^{24} + 5.45533626608614 \\cdot 10^{15} \\alpha^{23} + 1.65356898743145 \\cdot 10^{16} \\alpha^{22} + 4.11817480701988 \\cdot 10^{16} \\alpha^{21} + 8.55325478907064 \\cdot 10^{16} \\alpha^{20} + 1.49815180364729 \\cdot 10^{17} \\alpha^{19} + 2.23168262620307 \\cdot 10^{17} \\alpha^{18} + 2.84497345549847 \\cdot 10^{17} \\alpha^{17} + 3.11776466107342 \\cdot 10^{17} \\alpha^{16} + 2.94592352048853 \\cdot 10^{17} \\alpha^{15} + 2.40390481294119 \\cdot 10^{17} \\alpha^{14} + 1.69465008028237 \\cdot 10^{17} \\alpha^{13} + 1.03111721497748 \\cdot 10^{17} \\alpha^{12} + 5.40285626002407 \\cdot 10^{16} \\alpha^{11} + 2.4289233325617 \\cdot 10^{16} \\alpha^{10} + 9.31818863284863 \\cdot 10^{15} \\alpha^{9} + 3.02784003900488 \\cdot 10^{15} \\alpha^{8} + 824950063751795.0 \\alpha^{7} + 185900090922931.0 \\alpha^{6} + 34005480519398.4 \\alpha^{5} + 4917437466163.2 \\alpha^{4} + 540493552742.4 \\alpha^{3} + 42392164147.2 \\alpha^{2} + 2111687884.8 \\alpha + 50164531.2} & \\frac{4412491200.0 \\alpha^{29} + 135556092000.0 \\alpha^{28} + 1949947556220.0 \\alpha^{27} + 17524863248400.0 \\alpha^{26} + 110778335602308.0 \\alpha^{25} + 525586415092920.0 \\alpha^{24} + 1.94987031705438 \\cdot 10^{15} \\alpha^{23} + 5.81660652643206 \\cdot 10^{15} \\alpha^{22} + 1.42336929684455 \\cdot 10^{16} \\alpha^{21} + 2.89962237296254 \\cdot 10^{16} \\alpha^{20} + 4.97175519957599 \\cdot 10^{16} \\alpha^{19} + 7.23393217098464 \\cdot 10^{16} \\alpha^{18} + 8.98522737751563 \\cdot 10^{16} \\alpha^{17} + 9.56697471768387 \\cdot 10^{16} \\alpha^{16} + 8.75434151650362 \\cdot 10^{16} \\alpha^{15} + 6.8922048231709 \\cdot 10^{16} \\alpha^{14} + 4.66716516365031 \\cdot 10^{16} \\alpha^{13} + 2.71370353904582 \\cdot 10^{16} \\alpha^{12} + 1.35042380303327 \\cdot 10^{16} \\alpha^{11} + 5.72264360706026 \\cdot 10^{15} \\alpha^{10} + 2.0504238969833 \\cdot 10^{15} \\alpha^{9} + 615100588184320.0 \\alpha^{8} + 152432413702656.0 \\alpha^{7} + 30633210823680.0 \\alpha^{6} + 4862702840832.0 \\alpha^{5} + 586334951424.0 \\alpha^{4} + 50424311808.0 \\alpha^{3} + 2753077248.0 \\alpha^{2} + 71663616.0 \\alpha}{11531876040.0 \\alpha^{29} + 357281048340.0 \\alpha^{28} + 5188632034936.5 \\alpha^{27} + 47131998826644.0 \\alpha^{26} + 301486702431761.0 \\alpha^{25} + 1.44931467714395 \\cdot 10^{15} \\alpha^{24} + 5.45533626608614 \\cdot 10^{15} \\alpha^{23} + 1.65356898743145 \\cdot 10^{16} \\alpha^{22} + 4.11817480701988 \\cdot 10^{16} \\alpha^{21} + 8.55325478907064 \\cdot 10^{16} \\alpha^{20} + 1.49815180364729 \\cdot 10^{17} \\alpha^{19} + 2.23168262620307 \\cdot 10^{17} \\alpha^{18} + 2.84497345549847 \\cdot 10^{17} \\alpha^{17} + 3.11776466107342 \\cdot 10^{17} \\alpha^{16} + 2.94592352048853 \\cdot 10^{17} \\alpha^{15} + 2.40390481294119 \\cdot 10^{17} \\alpha^{14} + 1.69465008028237 \\cdot 10^{17} \\alpha^{13} + 1.03111721497748 \\cdot 10^{17} \\alpha^{12} + 5.40285626002407 \\cdot 10^{16} \\alpha^{11} + 2.4289233325617 \\cdot 10^{16} \\alpha^{10} + 9.31818863284863 \\cdot 10^{15} \\alpha^{9} + 3.02784003900488 \\cdot 10^{15} \\alpha^{8} + 824950063751795.0 \\alpha^{7} + 185900090922931.0 \\alpha^{6} + 34005480519398.4 \\alpha^{5} + 4917437466163.2 \\alpha^{4} + 540493552742.4 \\alpha^{3} + 42392164147.2 \\alpha^{2} + 2111687884.8 \\alpha + 50164531.2}\\\\\\frac{- 3959928.0 \\alpha^{24} - 104315526.0 \\alpha^{23} - 1262452262.4 \\alpha^{22} - 9360917344.8 \\alpha^{21} - 47859079867.2 \\alpha^{20} - 179983183842.0 \\alpha^{19} - 518411254950.4 \\alpha^{18} - 1175041149710.4 \\alpha^{17} - 2135548466139.2 \\alpha^{16} - 3152797492496.4 \\alpha^{15} - 3814251553728.0 \\alpha^{14} - 3801456062023.2 \\alpha^{13} - 3128343511339.2 \\alpha^{12} - 2124526220334.0 \\alpha^{11} - 1186511152243.2 \\alpha^{10} - 541220787184.0 \\alpha^{9} - 199441227283.2 \\alpha^{8} - 58403546700.8 \\alpha^{7} - 13260963609.6 \\alpha^{6} - 2248291584.0 \\alpha^{5} - 267563520.0 \\alpha^{4} - 19914854.4 \\alpha^{3} - 696729.6 \\alpha^{2}}{192197934.0 \\alpha^{24} + 5201908897.5 \\alpha^{23} + 64956276394.2 \\alpha^{22} + 499240707201.0 \\alpha^{21} + 2658750084007.2 \\alpha^{20} + 10470264192314.1 \\alpha^{19} + 31760882408147.4 \\alpha^{18} + 76292783917970.8 \\alpha^{17} + 147971209476088.0 \\alpha^{16} + 234970260685809.0 \\alpha^{15} + 308513826480686.0 \\alpha^{14} + 337194421171065.0 \\alpha^{13} + 308044390922966.0 \\alpha^{12} + 235639609999604.0 \\alpha^{11} + 150868396934696.0 \\alpha^{10} + 80628335939356.8 \\alpha^{9} + 35780475516764.8 \\alpha^{8} + 13076671335907.2 \\alpha^{7} + 3888573521043.2 \\alpha^{6} + 924624656179.2 \\alpha^{5} + 171402965913.6 \\alpha^{4} + 23840166067.2 \\alpha^{3} + 2337639782.4 \\alpha^{2} + 143924428.8 \\alpha + 4180377.6} & \\frac{1979964.0 \\alpha^{24} + 52157763.0 \\alpha^{23} + 631226131.2 \\alpha^{22} + 4680458672.4 \\alpha^{21} + 23929539933.6 \\alpha^{20} + 89991591921.0 \\alpha^{19} + 259205627475.2 \\alpha^{18} + 587520574855.2 \\alpha^{17} + 1067774233069.6 \\alpha^{16} + 1576398746248.2 \\alpha^{15} + 1907125776864.0 \\alpha^{14} + 1900728031011.6 \\alpha^{13} + 1564171755669.6 \\alpha^{12} + 1062263110167.0 \\alpha^{11} + 593255576121.6 \\alpha^{10} + 270610393592.0 \\alpha^{9} + 99720613641.6 \\alpha^{8} + 29201773350.4 \\alpha^{7} + 6630481804.8 \\alpha^{6} + 1124145792.0 \\alpha^{5} + 133781760.0 \\alpha^{4} + 9957427.2 \\alpha^{3} + 348364.8 \\alpha^{2}}{192197934.0 \\alpha^{24} + 5201908897.5 \\alpha^{23} + 64956276394.2 \\alpha^{22} + 499240707201.0 \\alpha^{21} + 2658750084007.2 \\alpha^{20} + 10470264192314.1 \\alpha^{19} + 31760882408147.4 \\alpha^{18} + 76292783917970.8 \\alpha^{17} + 147971209476088.0 \\alpha^{16} + 234970260685809.0 \\alpha^{15} + 308513826480686.0 \\alpha^{14} + 337194421171065.0 \\alpha^{13} + 308044390922966.0 \\alpha^{12} + 235639609999604.0 \\alpha^{11} + 150868396934696.0 \\alpha^{10} + 80628335939356.8 \\alpha^{9} + 35780475516764.8 \\alpha^{8} + 13076671335907.2 \\alpha^{7} + 3888573521043.2 \\alpha^{6} + 924624656179.2 \\alpha^{5} + 171402965913.6 \\alpha^{4} + 23840166067.2 \\alpha^{3} + 2337639782.4 \\alpha^{2} + 143924428.8 \\alpha + 4180377.6} & \\frac{- 6929874.00000001 \\alpha^{24} - 184532134.5 \\alpha^{23} - 2261449222.2 \\alpha^{22} - 17012831484.6 \\alpha^{21} - 88433848440.0 \\alpha^{20} - 338900111657.1 \\alpha^{19} - 997211288084.2 \\alpha^{18} - 2315527639468.4 \\alpha^{17} - 4324730390598.8 \\alpha^{16} - 6585169844938.3 \\alpha^{15} - 8251338965272.2 \\alpha^{14} - 8559673885404.6 \\alpha^{13} - 7375329175855.2 \\alpha^{12} - 5282092641254.1 \\alpha^{11} - 3138657626592.6 \\alpha^{10} - 1540391953693.6 \\alpha^{9} - 619632541337.6 \\alpha^{8} - 201926820368.0 \\alpha^{7} - 52408459667.2 \\alpha^{6} - 10564992076.8 \\alpha^{5} - 1592381952.0 \\alpha^{4} - 168632755.2 \\alpha^{3} - 11176704.0 \\alpha^{2} - 348364.8 \\alpha}{192197934.0 \\alpha^{24} + 5201908897.5 \\alpha^{23} + 64956276394.2 \\alpha^{22} + 499240707201.0 \\alpha^{21} + 2658750084007.2 \\alpha^{20} + 10470264192314.1 \\alpha^{19} + 31760882408147.4 \\alpha^{18} + 76292783917970.8 \\alpha^{17} + 147971209476088.0 \\alpha^{16} + 234970260685809.0 \\alpha^{15} + 308513826480686.0 \\alpha^{14} + 337194421171065.0 \\alpha^{13} + 308044390922966.0 \\alpha^{12} + 235639609999604.0 \\alpha^{11} + 150868396934696.0 \\alpha^{10} + 80628335939356.8 \\alpha^{9} + 35780475516764.8 \\alpha^{8} + 13076671335907.2 \\alpha^{7} + 3888573521043.2 \\alpha^{6} + 924624656179.2 \\alpha^{5} + 171402965913.6 \\alpha^{4} + 23840166067.2 \\alpha^{3} + 2337639782.4 \\alpha^{2} + 143924428.8 \\alpha + 4180377.6} & \\frac{12869766.0 \\alpha^{24} + 344965351.5 \\alpha^{23} + 4259443141.8 \\alpha^{22} + 32316659764.2 \\alpha^{21} + 169583385585.6 \\alpha^{20} + 656733967287.3 \\alpha^{19} + 1954811354351.8 \\alpha^{18} + 4596500618984.4 \\alpha^{17} + 8703094239518.0 \\alpha^{16} + 13449914549822.1 \\alpha^{15} + 17125513788360.6 \\alpha^{14} + 18076109532167.4 \\alpha^{13} + 15869300504887.2 \\alpha^{12} + 11597225483094.3 \\alpha^{11} + 7042950575291.4 \\alpha^{10} + 3538734286712.8 \\alpha^{9} + 1460015169446.4 \\alpha^{8} + 488973367702.4 \\alpha^{7} + 130703451782.4 \\alpha^{6} + 27198393062.4 \\alpha^{5} + 4242018816.0 \\alpha^{4} + 466068556.8 \\alpha^{3} + 32136652.8 \\alpha^{2} + 1045094.4 \\alpha}{192197934.0 \\alpha^{24} + 5201908897.5 \\alpha^{23} + 64956276394.2 \\alpha^{22} + 499240707201.0 \\alpha^{21} + 2658750084007.2 \\alpha^{20} + 10470264192314.1 \\alpha^{19} + 31760882408147.4 \\alpha^{18} + 76292783917970.8 \\alpha^{17} + 147971209476088.0 \\alpha^{16} + 234970260685809.0 \\alpha^{15} + 308513826480686.0 \\alpha^{14} + 337194421171065.0 \\alpha^{13} + 308044390922966.0 \\alpha^{12} + 235639609999604.0 \\alpha^{11} + 150868396934696.0 \\alpha^{10} + 80628335939356.8 \\alpha^{9} + 35780475516764.8 \\alpha^{8} + 13076671335907.2 \\alpha^{7} + 3888573521043.2 \\alpha^{6} + 924624656179.2 \\alpha^{5} + 171402965913.6 \\alpha^{4} + 23840166067.2 \\alpha^{3} + 2337639782.4 \\alpha^{2} + 143924428.8 \\alpha + 4180377.6} & \\frac{43842060.0 \\alpha^{24} + 1188157005.0 \\alpha^{23} + 14858595247.5 \\alpha^{22} + 114390782523.0 \\alpha^{21} + 610326904638.6 \\alpha^{20} + 2408386760296.2 \\alpha^{19} + 7321914949711.3 \\alpha^{18} + 17630310537319.0 \\alpha^{17} + 34283141692607.6 \\alpha^{16} + 54591887160872.6 \\alpha^{15} + 71893515284649.3 \\alpha^{14} + 78829213894218.6 \\alpha^{13} + 72261686726685.0 \\alpha^{12} + 55479464574043.8 \\alpha^{11} + 35659733801790.3 \\alpha^{10} + 19137095216365.0 \\alpha^{9} + 8530254780008.8 \\alpha^{8} + 3132323605376.0 \\alpha^{7} + 936152276412.8 \\alpha^{6} + 223794492883.2 \\alpha^{5} + 41723345894.4 \\alpha^{4} + 5838545664.0 \\alpha^{3} + 576201600.0 \\alpha^{2} + 35719833.6 \\alpha + 1045094.4}{192197934.0 \\alpha^{24} + 5201908897.5 \\alpha^{23} + 64956276394.2 \\alpha^{22} + 499240707201.0 \\alpha^{21} + 2658750084007.2 \\alpha^{20} + 10470264192314.1 \\alpha^{19} + 31760882408147.4 \\alpha^{18} + 76292783917970.8 \\alpha^{17} + 147971209476088.0 \\alpha^{16} + 234970260685809.0 \\alpha^{15} + 308513826480686.0 \\alpha^{14} + 337194421171065.0 \\alpha^{13} + 308044390922966.0 \\alpha^{12} + 235639609999604.0 \\alpha^{11} + 150868396934696.0 \\alpha^{10} + 80628335939356.8 \\alpha^{9} + 35780475516764.8 \\alpha^{8} + 13076671335907.2 \\alpha^{7} + 3888573521043.2 \\alpha^{6} + 924624656179.2 \\alpha^{5} + 171402965913.6 \\alpha^{4} + 23840166067.2 \\alpha^{3} + 2337639782.4 \\alpha^{2} + 143924428.8 \\alpha + 4180377.6} & \\frac{- 24042420.0 \\alpha^{24} - 641829825.0 \\alpha^{23} - 7888422006.0 \\alpha^{22} - 59539395870.0 \\alpha^{21} - 310632093504.0 \\alpha^{20} - 1195310215899.0 \\alpha^{19} - 3533175156146.0 \\alpha^{18} - 8245059669564.0 \\alpha^{17} - 15483775293796.0 \\alpha^{16} - 23718160060455.0 \\alpha^{15} - 29913950488698.0 \\alpha^{14} - 31253665134558.0 \\alpha^{13} - 27139491451752.0 \\alpha^{12} - 19602502433469.0 \\alpha^{11} - 11756373896478.0 \\alpha^{10} - 5828507248424.0 \\alpha^{9} - 2370651995328.0 \\alpha^{8} - 781967020576.0 \\alpha^{7} - 205663450560.0 \\alpha^{6} - 42066692352.0 \\alpha^{5} - 6442260480.0 \\alpha^{4} - 694262016.0 \\alpha^{3} - 46904832.0 \\alpha^{2} - 1492992.0 \\alpha}{192197934.0 \\alpha^{24} + 5201908897.5 \\alpha^{23} + 64956276394.2 \\alpha^{22} + 499240707201.0 \\alpha^{21} + 2658750084007.2 \\alpha^{20} + 10470264192314.1 \\alpha^{19} + 31760882408147.4 \\alpha^{18} + 76292783917970.8 \\alpha^{17} + 147971209476088.0 \\alpha^{16} + 234970260685809.0 \\alpha^{15} + 308513826480686.0 \\alpha^{14} + 337194421171065.0 \\alpha^{13} + 308044390922966.0 \\alpha^{12} + 235639609999604.0 \\alpha^{11} + 150868396934696.0 \\alpha^{10} + 80628335939356.8 \\alpha^{9} + 35780475516764.8 \\alpha^{8} + 13076671335907.2 \\alpha^{7} + 3888573521043.2 \\alpha^{6} + 924624656179.2 \\alpha^{5} + 171402965913.6 \\alpha^{4} + 23840166067.2 \\alpha^{3} + 2337639782.4 \\alpha^{2} + 143924428.8 \\alpha + 4180377.6}\\\\\\frac{- 25920.0 \\alpha^{16} - 447120.0 \\alpha^{15} - 3371616.0 \\alpha^{14} - 14832576.0 \\alpha^{13} - 42870272.0 \\alpha^{12} - 86687968.0 \\alpha^{11} - 127109952.0 \\alpha^{10} - 137808448.0 \\alpha^{9} - 111310016.0 \\alpha^{8} - 66782736.0 \\alpha^{7} - 29334368.0 \\alpha^{6} - 9154432.0 \\alpha^{5} - 1919232.0 \\alpha^{4} - 241920.0 \\alpha^{3} - 13824.0 \\alpha^{2}}{220158.0 \\alpha^{16} + 3956809.5 \\alpha^{15} + 31409078.4 \\alpha^{14} + 147146961.6 \\alpha^{13} + 458704504.8 \\alpha^{12} + 1014996427.4 \\alpha^{11} + 1656701344.0 \\alpha^{10} + 2041670202.0 \\alpha^{9} + 1924704247.6 \\alpha^{8} + 1395099957.5 \\alpha^{7} + 775913347.2 \\alpha^{6} + 327917013.2 \\alpha^{5} + 103287889.6 \\alpha^{4} + 23446248.0 \\alpha^{3} + 3617395.2 \\alpha^{2} + 338860.8 \\alpha + 14515.2} & \\frac{12960.0 \\alpha^{16} + 223560.0 \\alpha^{15} + 1685808.0 \\alpha^{14} + 7416288.0 \\alpha^{13} + 21435136.0 \\alpha^{12} + 43343984.0 \\alpha^{11} + 63554976.0 \\alpha^{10} + 68904224.0 \\alpha^{9} + 55655008.0 \\alpha^{8} + 33391368.0 \\alpha^{7} + 14667184.0 \\alpha^{6} + 4577216.0 \\alpha^{5} + 959616.0 \\alpha^{4} + 120960.0 \\alpha^{3} + 6912.0 \\alpha^{2}}{220158.0 \\alpha^{16} + 3956809.5 \\alpha^{15} + 31409078.4 \\alpha^{14} + 147146961.6 \\alpha^{13} + 458704504.8 \\alpha^{12} + 1014996427.4 \\alpha^{11} + 1656701344.0 \\alpha^{10} + 2041670202.0 \\alpha^{9} + 1924704247.6 \\alpha^{8} + 1395099957.5 \\alpha^{7} + 775913347.2 \\alpha^{6} + 327917013.2 \\alpha^{5} + 103287889.6 \\alpha^{4} + 23446248.0 \\alpha^{3} + 3617395.2 \\alpha^{2} + 338860.8 \\alpha + 14515.2} & \\frac{- 45360.0 \\alpha^{16} - 795420.0 \\alpha^{15} - 6123888.0 \\alpha^{14} - 27642816.0 \\alpha^{13} - 82439264.0 \\alpha^{12} - 173139080.0 \\alpha^{11} - 265786400.0 \\alpha^{10} - 304719760.0 \\alpha^{9} - 263696752.0 \\alpha^{8} - 172524796.0 \\alpha^{7} - 84726512.0 \\alpha^{6} - 30687440.0 \\alpha^{5} - 7935872.0 \\alpha^{4} - 1382976.0 \\alpha^{3} - 145152.0 \\alpha^{2} - 6912.0 \\alpha}{220158.0 \\alpha^{16} + 3956809.5 \\alpha^{15} + 31409078.4 \\alpha^{14} + 147146961.6 \\alpha^{13} + 458704504.8 \\alpha^{12} + 1014996427.4 \\alpha^{11} + 1656701344.0 \\alpha^{10} + 2041670202.0 \\alpha^{9} + 1924704247.6 \\alpha^{8} + 1395099957.5 \\alpha^{7} + 775913347.2 \\alpha^{6} + 327917013.2 \\alpha^{5} + 103287889.6 \\alpha^{4} + 23446248.0 \\alpha^{3} + 3617395.2 \\alpha^{2} + 338860.8 \\alpha + 14515.2} & \\frac{84240.0 \\alpha^{16} + 1492020.0 \\alpha^{15} + 11628432.0 \\alpha^{14} + 53263296.0 \\alpha^{13} + 161577248.0 \\alpha^{12} + 346041304.0 \\alpha^{11} + 543139296.0 \\alpha^{10} + 638542384.0 \\alpha^{9} + 568470224.0 \\alpha^{8} + 384008916.0 \\alpha^{7} + 195510800.0 \\alpha^{6} + 73753456.0 \\alpha^{5} + 19969152.0 \\alpha^{4} + 3665088.0 \\alpha^{3} + 407808.0 \\alpha^{2} + 20736.0 \\alpha}{220158.0 \\alpha^{16} + 3956809.5 \\alpha^{15} + 31409078.4 \\alpha^{14} + 147146961.6 \\alpha^{13} + 458704504.8 \\alpha^{12} + 1014996427.4 \\alpha^{11} + 1656701344.0 \\alpha^{10} + 2041670202.0 \\alpha^{9} + 1924704247.6 \\alpha^{8} + 1395099957.5 \\alpha^{7} + 775913347.2 \\alpha^{6} + 327917013.2 \\alpha^{5} + 103287889.6 \\alpha^{4} + 23446248.0 \\alpha^{3} + 3617395.2 \\alpha^{2} + 338860.8 \\alpha + 14515.2} & \\frac{- 27540.0 \\alpha^{16} - 484785.0 \\alpha^{15} - 3750012.0 \\alpha^{14} - 17023968.0 \\alpha^{13} - 51111880.0 \\alpha^{12} - 108182318.0 \\alpha^{11} - 167562312.0 \\alpha^{10} - 194087708.0 \\alpha^{9} - 169945060.0 \\alpha^{8} - 112697913.0 \\alpha^{7} - 56211292.0 \\alpha^{6} - 20726972.0 \\alpha^{5} - 5472096.0 \\alpha^{4} - 976752.0 \\alpha^{3} - 105408.0 \\alpha^{2} - 5184.0 \\alpha}{220158.0 \\alpha^{16} + 3956809.5 \\alpha^{15} + 31409078.4 \\alpha^{14} + 147146961.6 \\alpha^{13} + 458704504.8 \\alpha^{12} + 1014996427.4 \\alpha^{11} + 1656701344.0 \\alpha^{10} + 2041670202.0 \\alpha^{9} + 1924704247.6 \\alpha^{8} + 1395099957.5 \\alpha^{7} + 775913347.2 \\alpha^{6} + 327917013.2 \\alpha^{5} + 103287889.6 \\alpha^{4} + 23446248.0 \\alpha^{3} + 3617395.2 \\alpha^{2} + 338860.8 \\alpha + 14515.2} & \\frac{157140.0 \\alpha^{16} + 2882385.0 \\alpha^{15} + 23441472.0 \\alpha^{14} + 112930128.0 \\alpha^{13} + 363224264.0 \\alpha^{12} + 831810222.0 \\alpha^{11} + 1409217280.0 \\alpha^{10} + 1807599100.0 \\alpha^{9} + 1778462868.0 \\alpha^{8} + 1349011865.0 \\alpha^{7} + 787240256.0 \\alpha^{6} + 350013036.0 \\alpha^{5} + 116285008.0 \\alpha^{4} + 27913200.0 \\alpha^{3} + 4565376.0 \\alpha^{2} + 454464.0 \\alpha + 20736.0}{220158.0 \\alpha^{16} + 3956809.5 \\alpha^{15} + 31409078.4 \\alpha^{14} + 147146961.6 \\alpha^{13} + 458704504.8 \\alpha^{12} + 1014996427.4 \\alpha^{11} + 1656701344.0 \\alpha^{10} + 2041670202.0 \\alpha^{9} + 1924704247.6 \\alpha^{8} + 1395099957.5 \\alpha^{7} + 775913347.2 \\alpha^{6} + 327917013.2 \\alpha^{5} + 103287889.6 \\alpha^{4} + 23446248.0 \\alpha^{3} + 3617395.2 \\alpha^{2} + 338860.8 \\alpha + 14515.2}\\end{matrix}\\right]$"
     },
     "execution_count": 54,
     "metadata": {},
     "output_type": "execute_result"
    }
   ],
   "source": [
    "C_inv"
   ],
   "metadata": {
    "collapsed": false,
    "ExecuteTime": {
     "end_time": "2024-08-18T16:38:03.179194300Z",
     "start_time": "2024-08-18T16:38:02.278196400Z"
    }
   },
   "execution_count": 54
  },
  {
   "cell_type": "code",
   "outputs": [
    {
     "data": {
      "text/plain": "Matrix([\n[(8*\\alpha + 4)/(12*\\alpha + 4),                              0,       4*\\alpha/(12*\\alpha + 4),      -2*\\alpha/(12*\\alpha + 4)],\n[                             0, (5*\\alpha + 2)/(12*\\alpha + 4),       2*\\alpha/(12*\\alpha + 4),        -\\alpha/(12*\\alpha + 4)],\n[      4*\\alpha/(12*\\alpha + 4),      -2*\\alpha/(12*\\alpha + 4), (8*\\alpha + 4)/(12*\\alpha + 4),                              0],\n[      2*\\alpha/(12*\\alpha + 4),        -\\alpha/(12*\\alpha + 4),                              0, (5*\\alpha + 2)/(12*\\alpha + 4)]])",
      "text/latex": "$\\displaystyle \\left[\\begin{matrix}\\frac{8 \\alpha + 4}{12 \\alpha + 4} & 0 & \\frac{4 \\alpha}{12 \\alpha + 4} & - \\frac{2 \\alpha}{12 \\alpha + 4}\\\\0 & \\frac{5 \\alpha + 2}{12 \\alpha + 4} & \\frac{2 \\alpha}{12 \\alpha + 4} & - \\frac{\\alpha}{12 \\alpha + 4}\\\\\\frac{4 \\alpha}{12 \\alpha + 4} & - \\frac{2 \\alpha}{12 \\alpha + 4} & \\frac{8 \\alpha + 4}{12 \\alpha + 4} & 0\\\\\\frac{2 \\alpha}{12 \\alpha + 4} & - \\frac{\\alpha}{12 \\alpha + 4} & 0 & \\frac{5 \\alpha + 2}{12 \\alpha + 4}\\end{matrix}\\right]$"
     },
     "execution_count": 152,
     "metadata": {},
     "output_type": "execute_result"
    }
   ],
   "source": [
    "neglect_terms_in_matrix(C_inv,2)"
   ],
   "metadata": {
    "collapsed": false,
    "ExecuteTime": {
     "end_time": "2024-04-25T09:17:35.886224200Z",
     "start_time": "2024-04-25T09:17:35.859770400Z"
    }
   },
   "execution_count": 152
  },
  {
   "cell_type": "code",
   "outputs": [],
   "source": [
    "U_0   = sym.polys.orthopolys.chebyshevu_poly(0,   x=(alpha+1)/(2*alpha)).simplify()\n",
    "U_N   = sym.polys.orthopolys.chebyshevu_poly(N,   x=(alpha+1)/(2*alpha)).simplify()\n",
    "U_Np1 = sym.polys.orthopolys.chebyshevu_poly(N+1, x=(alpha+1)/(2*alpha)).simplify()\n",
    "U_Np2 = sym.polys.orthopolys.chebyshevu_poly(N+2, x=(alpha+1)/(2*alpha)).simplify()"
   ],
   "metadata": {
    "collapsed": false,
    "ExecuteTime": {
     "end_time": "2024-02-23T10:37:20.954326500Z",
     "start_time": "2024-02-23T10:37:20.452080400Z"
    }
   },
   "execution_count": 9
  },
  {
   "cell_type": "code",
   "outputs": [
    {
     "data": {
      "text/plain": "(-2*\\alpha**4 + \\alpha**3 + 7*\\alpha**2 + 5*\\alpha + 1)/(\\alpha**6 - 2*\\alpha**5 - 9*\\alpha**4 + 10*\\alpha**2 + 6*\\alpha + 1)",
      "text/latex": "$\\displaystyle \\frac{- 2 \\alpha^{4} + \\alpha^{3} + 7 \\alpha^{2} + 5 \\alpha + 1}{\\alpha^{6} - 2 \\alpha^{5} - 9 \\alpha^{4} + 10 \\alpha^{2} + 6 \\alpha + 1}$"
     },
     "execution_count": 17,
     "metadata": {},
     "output_type": "execute_result"
    }
   ],
   "source": [
    "C_inv[0,0]"
   ],
   "metadata": {
    "collapsed": false,
    "ExecuteTime": {
     "end_time": "2024-02-23T10:38:28.768743300Z",
     "start_time": "2024-02-23T10:38:28.755861400Z"
    }
   },
   "execution_count": 17
  },
  {
   "cell_type": "code",
   "outputs": [
    {
     "data": {
      "text/plain": "(\\alpha**7 + 3*\\alpha**6 - 9*\\alpha**5 - 15*\\alpha**4 + 5*\\alpha**3 + 15*\\alpha**2 + 7*\\alpha + 1)/(6*\\alpha**7 + 3*\\alpha**6 - 24*\\alpha**5 - 20*\\alpha**4 + 14*\\alpha**3 + 21*\\alpha**2 + 8*\\alpha + 1)",
      "text/latex": "$\\displaystyle \\frac{\\alpha^{7} + 3 \\alpha^{6} - 9 \\alpha^{5} - 15 \\alpha^{4} + 5 \\alpha^{3} + 15 \\alpha^{2} + 7 \\alpha + 1}{6 \\alpha^{7} + 3 \\alpha^{6} - 24 \\alpha^{5} - 20 \\alpha^{4} + 14 \\alpha^{3} + 21 \\alpha^{2} + 8 \\alpha + 1}$"
     },
     "execution_count": 10,
     "metadata": {},
     "output_type": "execute_result"
    }
   ],
   "source": [
    "C_inv_diag = U_Np2**-1 * alpha ** -1 * U_0 * U_Np1\n",
    "C_inv_diag.expand().simplify()"
   ],
   "metadata": {
    "collapsed": false,
    "ExecuteTime": {
     "end_time": "2024-02-23T10:37:21.108898500Z",
     "start_time": "2024-02-23T10:37:20.956326800Z"
    }
   },
   "execution_count": 10
  },
  {
   "cell_type": "code",
   "outputs": [
    {
     "data": {
      "text/plain": "\\alpha*(\\alpha**6 - 2*\\alpha**5 - 9*\\alpha**4 + 10*\\alpha**2 + 6*\\alpha + 1)/(6*\\alpha**7 + 3*\\alpha**6 - 24*\\alpha**5 - 20*\\alpha**4 + 14*\\alpha**3 + 21*\\alpha**2 + 8*\\alpha + 1)",
      "text/latex": "$\\displaystyle \\frac{\\alpha \\left(\\alpha^{6} - 2 \\alpha^{5} - 9 \\alpha^{4} + 10 \\alpha^{2} + 6 \\alpha + 1\\right)}{6 \\alpha^{7} + 3 \\alpha^{6} - 24 \\alpha^{5} - 20 \\alpha^{4} + 14 \\alpha^{3} + 21 \\alpha^{2} + 8 \\alpha + 1}$"
     },
     "execution_count": 11,
     "metadata": {},
     "output_type": "execute_result"
    }
   ],
   "source": [
    "C_inv_sub_diag = U_Np2**-1 * alpha ** -1 * U_0 * U_N\n",
    "C_inv_sub_diag.expand().simplify()"
   ],
   "metadata": {
    "collapsed": false,
    "ExecuteTime": {
     "end_time": "2024-02-23T10:37:27.876040700Z",
     "start_time": "2024-02-23T10:37:27.828783700Z"
    }
   },
   "execution_count": 11
  },
  {
   "cell_type": "code",
   "outputs": [
    {
     "data": {
      "text/plain": "Matrix([\n[C_C/2 + C_R,           0,      -C_C/2,           0],\n[          0, C_C/2 + C_F,           0,       C_C/2],\n[     -C_C/2,           0, C_C/2 + C_R,           0],\n[          0,       C_C/2,           0, C_C/2 + C_F]])",
      "text/latex": "$\\displaystyle \\left[\\begin{matrix}\\frac{C_{C}}{2} + C_{R} & 0 & - \\frac{C_{C}}{2} & 0\\\\0 & \\frac{C_{C}}{2} + C_{F} & 0 & \\frac{C_{C}}{2}\\\\- \\frac{C_{C}}{2} & 0 & \\frac{C_{C}}{2} + C_{R} & 0\\\\0 & \\frac{C_{C}}{2} & 0 & \\frac{C_{C}}{2} + C_{F}\\end{matrix}\\right]$"
     },
     "execution_count": 6,
     "metadata": {},
     "output_type": "execute_result"
    }
   ],
   "source": [
    "# Define the symbols\n",
    "C_R, C_F, C_C = sym.symbols('C_R, C_F, C_C', real=True, positive=True, nonzero=True)\n",
    "\n",
    "# Create a 6x6 matrix based on the given pattern\n",
    "C_mat = sym.Matrix(4,4, lambda i, j: C_R+C_C/2 if (i == j and np.mod(i,2)==0) else C_F+C_C/2 if (i == j and np.mod(i,2)!=0)  else -C_C/2 if abs(i-j) == 2 else 0)\n",
    "C_mat[1,-1] *=-1\n",
    "C_mat[-1,1] *=-1\n",
    "C_mat"
   ],
   "metadata": {
    "collapsed": false,
    "ExecuteTime": {
     "end_time": "2024-04-23T12:57:06.575483Z",
     "start_time": "2024-04-23T12:57:06.505420Z"
    }
   },
   "execution_count": 6
  },
  {
   "cell_type": "code",
   "outputs": [],
   "source": [
    "C_inv = C_mat **-1"
   ],
   "metadata": {
    "collapsed": false,
    "ExecuteTime": {
     "end_time": "2024-04-23T12:57:07.261331Z",
     "start_time": "2024-04-23T12:57:07.222453Z"
    }
   },
   "execution_count": 7
  },
  {
   "cell_type": "code",
   "outputs": [
    {
     "data": {
      "text/plain": "Matrix([\n[(C_C/2 + C_R)/(C_R*(C_C + C_R)),                               0,         C_C/(2*C_R*(C_C + C_R)),                               0],\n[                              0, (C_C/2 + C_F)/(C_F*(C_C + C_F)),                               0,        -C_C/(2*C_F*(C_C + C_F))],\n[        C_C/(2*C_R*(C_C + C_R)),                               0, (C_C/2 + C_R)/(C_R*(C_C + C_R)),                               0],\n[                              0,        -C_C/(2*C_F*(C_C + C_F)),                               0, (C_C/2 + C_F)/(C_F*(C_C + C_F))]])",
      "text/latex": "$\\displaystyle \\left[\\begin{matrix}\\frac{\\frac{C_{C}}{2} + C_{R}}{C_{R} \\left(C_{C} + C_{R}\\right)} & 0 & \\frac{C_{C}}{2 C_{R} \\left(C_{C} + C_{R}\\right)} & 0\\\\0 & \\frac{\\frac{C_{C}}{2} + C_{F}}{C_{F} \\left(C_{C} + C_{F}\\right)} & 0 & - \\frac{C_{C}}{2 C_{F} \\left(C_{C} + C_{F}\\right)}\\\\\\frac{C_{C}}{2 C_{R} \\left(C_{C} + C_{R}\\right)} & 0 & \\frac{\\frac{C_{C}}{2} + C_{R}}{C_{R} \\left(C_{C} + C_{R}\\right)} & 0\\\\0 & - \\frac{C_{C}}{2 C_{F} \\left(C_{C} + C_{F}\\right)} & 0 & \\frac{\\frac{C_{C}}{2} + C_{F}}{C_{F} \\left(C_{C} + C_{F}\\right)}\\end{matrix}\\right]$"
     },
     "execution_count": 8,
     "metadata": {},
     "output_type": "execute_result"
    }
   ],
   "source": [
    "sym.simplify(C_inv)"
   ],
   "metadata": {
    "collapsed": false,
    "ExecuteTime": {
     "end_time": "2024-04-23T12:57:16.758045Z",
     "start_time": "2024-04-23T12:57:16.704067Z"
    }
   },
   "execution_count": 8
  },
  {
   "cell_type": "code",
   "outputs": [
    {
     "name": "stdout",
     "output_type": "stream",
     "text": [
      "\\left[\\begin{matrix}\\frac{\\frac{C_{C}}{2} + C_{R}}{C_{R} \\left(C_{C} + C_{R}\\right)} & 0 & \\frac{C_{C}}{2 C_{R} \\left(C_{C} + C_{R}\\right)} & 0\\\\0 & \\frac{\\frac{C_{C}}{2} + C_{F}}{C_{F} \\left(C_{C} + C_{F}\\right)} & 0 & \\frac{C_{C}}{2 C_{F} \\left(C_{C} + C_{F}\\right)}\\\\\\frac{C_{C}}{2 C_{R} \\left(C_{C} + C_{R}\\right)} & 0 & \\frac{\\frac{C_{C}}{2} + C_{R}}{C_{R} \\left(C_{C} + C_{R}\\right)} & 0\\\\0 & \\frac{C_{C}}{2 C_{F} \\left(C_{C} + C_{F}\\right)} & 0 & \\frac{\\frac{C_{C}}{2} + C_{F}}{C_{F} \\left(C_{C} + C_{F}\\right)}\\end{matrix}\\right]\n"
     ]
    }
   ],
   "source": [
    "sym.print_latex(sym.simplify(C_inv))"
   ],
   "metadata": {
    "collapsed": false
   },
   "execution_count": 30
  },
  {
   "cell_type": "code",
   "outputs": [],
   "source": [],
   "metadata": {
    "collapsed": false
   },
   "execution_count": null
  },
  {
   "cell_type": "code",
   "outputs": [
    {
     "data": {
      "text/plain": "Matrix([\n[C_C/2 + C_R,           0,      -C_C/2,           0,           0,           0,           0,           0,           0,           0],\n[          0, C_C/2 + C_F,           0,      -C_C/2,           0,           0,           0,           0,           0,           0],\n[     -C_C/2,           0, C_C/2 + C_R,           0,      -C_C/2,           0,           0,           0,           0,           0],\n[          0,      -C_C/2,           0, C_C/2 + C_F,           0,      -C_C/2,           0,           0,           0,           0],\n[          0,           0,      -C_C/2,           0, C_C/2 + C_R,           0,      -C_C/2,           0,           0,           0],\n[          0,           0,           0,      -C_C/2,           0, C_C/2 + C_F,           0,      -C_C/2,           0,           0],\n[          0,           0,           0,           0,      -C_C/2,           0, C_C/2 + C_R,           0,      -C_C/2,           0],\n[          0,           0,           0,           0,           0,      -C_C/2,           0, C_C/2 + C_F,           0,      -C_C/2],\n[          0,           0,           0,           0,           0,           0,      -C_C/2,           0, C_C/2 + C_R,           0],\n[          0,           0,           0,           0,           0,           0,           0,      -C_C/2,           0, C_C/2 + C_F]])",
      "text/latex": "$\\displaystyle \\left[\\begin{matrix}\\frac{C_{C}}{2} + C_{R} & 0 & - \\frac{C_{C}}{2} & 0 & 0 & 0 & 0 & 0 & 0 & 0\\\\0 & \\frac{C_{C}}{2} + C_{F} & 0 & - \\frac{C_{C}}{2} & 0 & 0 & 0 & 0 & 0 & 0\\\\- \\frac{C_{C}}{2} & 0 & \\frac{C_{C}}{2} + C_{R} & 0 & - \\frac{C_{C}}{2} & 0 & 0 & 0 & 0 & 0\\\\0 & - \\frac{C_{C}}{2} & 0 & \\frac{C_{C}}{2} + C_{F} & 0 & - \\frac{C_{C}}{2} & 0 & 0 & 0 & 0\\\\0 & 0 & - \\frac{C_{C}}{2} & 0 & \\frac{C_{C}}{2} + C_{R} & 0 & - \\frac{C_{C}}{2} & 0 & 0 & 0\\\\0 & 0 & 0 & - \\frac{C_{C}}{2} & 0 & \\frac{C_{C}}{2} + C_{F} & 0 & - \\frac{C_{C}}{2} & 0 & 0\\\\0 & 0 & 0 & 0 & - \\frac{C_{C}}{2} & 0 & \\frac{C_{C}}{2} + C_{R} & 0 & - \\frac{C_{C}}{2} & 0\\\\0 & 0 & 0 & 0 & 0 & - \\frac{C_{C}}{2} & 0 & \\frac{C_{C}}{2} + C_{F} & 0 & - \\frac{C_{C}}{2}\\\\0 & 0 & 0 & 0 & 0 & 0 & - \\frac{C_{C}}{2} & 0 & \\frac{C_{C}}{2} + C_{R} & 0\\\\0 & 0 & 0 & 0 & 0 & 0 & 0 & - \\frac{C_{C}}{2} & 0 & \\frac{C_{C}}{2} + C_{F}\\end{matrix}\\right]$"
     },
     "execution_count": 18,
     "metadata": {},
     "output_type": "execute_result"
    }
   ],
   "source": [
    "# Define the symbols\n",
    "C_R, C_F, C_C = sym.symbols('C_R, C_F, C_C', real=True, positive=True, nonzero=True)\n",
    "\n",
    "# Create a 6x6 matrix based on the given pattern\n",
    "C_mat = sym.Matrix(10,10, lambda i, j: C_R+C_C/2 if (i == j and np.mod(i,2)==0) else C_F+C_C/2 if (i == j and np.mod(i,2)!=0)  else -C_C/2 if abs(i-j) == 2 else 0)\n",
    "\n",
    "C_mat"
   ],
   "metadata": {
    "collapsed": false,
    "ExecuteTime": {
     "end_time": "2024-02-20T09:57:33.918184185Z",
     "start_time": "2024-02-20T09:57:33.875248039Z"
    }
   },
   "execution_count": 18
  },
  {
   "cell_type": "code",
   "outputs": [],
   "source": [
    "C_inv = C_mat **-1"
   ],
   "metadata": {
    "collapsed": false,
    "ExecuteTime": {
     "end_time": "2024-02-20T09:57:36.068163841Z",
     "start_time": "2024-02-20T09:57:35.319145880Z"
    }
   },
   "execution_count": 19
  },
  {
   "cell_type": "code",
   "outputs": [
    {
     "data": {
      "text/plain": "Matrix([\n[(-C_C**4/4 - C_C**3*C_R + 3*C_C**2*C_R**2 + 8*C_C*C_R**3 + 4*C_R**4)/(C_R*(-C_C**4 - C_C**3*C_R + 6*C_C**2*C_R**2 + 10*C_C*C_R**3 + 4*C_R**4)),                                                                                                                                              0,                C_C*(-C_C**2 + 4*C_C*C_R + 4*C_R**2)/(4*C_R*(-C_C**3 + C_C**2*C_R + 4*C_C*C_R**2 + 2*C_R**3)),                                                                                                            0,            C_C**2/(-C_C**3 + 6*C_C*C_R**2 + 4*C_R**3),                                                     0,                                              C_C**3/(4*C_R*(-C_C**3 + C_C**2*C_R + 4*C_C*C_R**2 + 2*C_R**3)),                                                                                                            0,                                                             C_C**4/(4*C_R*(-C_C**4 - C_C**3*C_R + 6*C_C**2*C_R**2 + 10*C_C*C_R**3 + 4*C_R**4)),                                                                                                                                              0],\n[                                                                                                                                             0, (-C_C**4/4 - C_C**3*C_F + 3*C_C**2*C_F**2 + 8*C_C*C_F**3 + 4*C_F**4)/(C_F*(-C_C**4 - C_C**3*C_F + 6*C_C**2*C_F**2 + 10*C_C*C_F**3 + 4*C_F**4)),                                                                                                            0,                C_C*(-C_C**2 + 4*C_C*C_F + 4*C_F**2)/(4*C_F*(-C_C**3 + C_C**2*C_F + 4*C_C*C_F**2 + 2*C_F**3)),                                                     0,            C_C**2/(-C_C**3 + 6*C_C*C_F**2 + 4*C_F**3),                                                                                                            0,                                              C_C**3/(4*C_F*(-C_C**3 + C_C**2*C_F + 4*C_C*C_F**2 + 2*C_F**3)),                                                                                                                                              0,                                                             C_C**4/(4*C_F*(-C_C**4 - C_C**3*C_F + 6*C_C**2*C_F**2 + 10*C_C*C_F**3 + 4*C_F**4))],\n[                                                 C_C*(-C_C**2 + 4*C_C*C_R + 4*C_R**2)/(4*C_R*(-C_C**3 + C_C**2*C_R + 4*C_C*C_R**2 + 2*C_R**3)),                                                                                                                                              0, (-C_C**3 + 2*C_C**2*C_R + 12*C_C*C_R**2 + 8*C_R**3)/(4*C_R*(-C_C**3 + C_C**2*C_R + 4*C_C*C_R**2 + 2*C_R**3)),                                                                                                            0,                  C_C/(-C_C**2 + 2*C_C*C_R + 2*C_R**2),                                                     0,                                C_C**2*(C_C + 2*C_R)/(4*C_R*(-C_C**3 + C_C**2*C_R + 4*C_C*C_R**2 + 2*C_R**3)),                                                                                                            0,                                                                                C_C**3/(4*C_R*(-C_C**3 + C_C**2*C_R + 4*C_C*C_R**2 + 2*C_R**3)),                                                                                                                                              0],\n[                                                                                                                                             0,                                                  C_C*(-C_C**2 + 4*C_C*C_F + 4*C_F**2)/(4*C_F*(-C_C**3 + C_C**2*C_F + 4*C_C*C_F**2 + 2*C_F**3)),                                                                                                            0, (-C_C**3 + 2*C_C**2*C_F + 12*C_C*C_F**2 + 8*C_F**3)/(4*C_F*(-C_C**3 + C_C**2*C_F + 4*C_C*C_F**2 + 2*C_F**3)),                                                     0,                  C_C/(-C_C**2 + 2*C_C*C_F + 2*C_F**2),                                                                                                            0,                                C_C**2*(C_C + 2*C_F)/(4*C_F*(-C_C**3 + C_C**2*C_F + 4*C_C*C_F**2 + 2*C_F**3)),                                                                                                                                              0,                                                                                C_C**3/(4*C_F*(-C_C**3 + C_C**2*C_F + 4*C_C*C_F**2 + 2*C_F**3))],\n[                                                                                                    C_C**2/(-C_C**3 + 6*C_C*C_R**2 + 4*C_R**3),                                                                                                                                              0,                                                                         C_C/(-C_C**2 + 2*C_C*C_R + 2*C_R**2),                                                                                                            0, 4*C_R*(C_C + C_R)/(-C_C**3 + 6*C_C*C_R**2 + 4*C_R**3),                                                     0,                                                                         C_C/(-C_C**2 + 2*C_C*C_R + 2*C_R**2),                                                                                                            0,                                                                                                     C_C**2/(-C_C**3 + 6*C_C*C_R**2 + 4*C_R**3),                                                                                                                                              0],\n[                                                                                                                                             0,                                                                                                     C_C**2/(-C_C**3 + 6*C_C*C_F**2 + 4*C_F**3),                                                                                                            0,                                                                         C_C/(-C_C**2 + 2*C_C*C_F + 2*C_F**2),                                                     0, 4*C_F*(C_C + C_F)/(-C_C**3 + 6*C_C*C_F**2 + 4*C_F**3),                                                                                                            0,                                                                         C_C/(-C_C**2 + 2*C_C*C_F + 2*C_F**2),                                                                                                                                              0,                                                                                                     C_C**2/(-C_C**3 + 6*C_C*C_F**2 + 4*C_F**3)],\n[                                                                               C_C**3/(4*C_R*(-C_C**3 + C_C**2*C_R + 4*C_C*C_R**2 + 2*C_R**3)),                                                                                                                                              0,                                C_C**2*(C_C + 2*C_R)/(4*C_R*(-C_C**3 + C_C**2*C_R + 4*C_C*C_R**2 + 2*C_R**3)),                                                                                                            0,                  C_C/(-C_C**2 + 2*C_C*C_R + 2*C_R**2),                                                     0, (-C_C**3 + 2*C_C**2*C_R + 12*C_C*C_R**2 + 8*C_R**3)/(4*C_R*(-C_C**3 + C_C**2*C_R + 4*C_C*C_R**2 + 2*C_R**3)),                                                                                                            0,                                                  C_C*(-C_C**2 + 4*C_C*C_R + 4*C_R**2)/(4*C_R*(-C_C**3 + C_C**2*C_R + 4*C_C*C_R**2 + 2*C_R**3)),                                                                                                                                              0],\n[                                                                                                                                             0,                                                                                C_C**3/(4*C_F*(-C_C**3 + C_C**2*C_F + 4*C_C*C_F**2 + 2*C_F**3)),                                                                                                            0,                                C_C**2*(C_C + 2*C_F)/(4*C_F*(-C_C**3 + C_C**2*C_F + 4*C_C*C_F**2 + 2*C_F**3)),                                                     0,                  C_C/(-C_C**2 + 2*C_C*C_F + 2*C_F**2),                                                                                                            0, (-C_C**3 + 2*C_C**2*C_F + 12*C_C*C_F**2 + 8*C_F**3)/(4*C_F*(-C_C**3 + C_C**2*C_F + 4*C_C*C_F**2 + 2*C_F**3)),                                                                                                                                              0,                                                  C_C*(-C_C**2 + 4*C_C*C_F + 4*C_F**2)/(4*C_F*(-C_C**3 + C_C**2*C_F + 4*C_C*C_F**2 + 2*C_F**3))],\n[                                                            C_C**4/(4*C_R*(-C_C**4 - C_C**3*C_R + 6*C_C**2*C_R**2 + 10*C_C*C_R**3 + 4*C_R**4)),                                                                                                                                              0,                                              C_C**3/(4*C_R*(-C_C**3 + C_C**2*C_R + 4*C_C*C_R**2 + 2*C_R**3)),                                                                                                            0,            C_C**2/(-C_C**3 + 6*C_C*C_R**2 + 4*C_R**3),                                                     0,                C_C*(-C_C**2 + 4*C_C*C_R + 4*C_R**2)/(4*C_R*(-C_C**3 + C_C**2*C_R + 4*C_C*C_R**2 + 2*C_R**3)),                                                                                                            0, (-C_C**4/4 - C_C**3*C_R + 3*C_C**2*C_R**2 + 8*C_C*C_R**3 + 4*C_R**4)/(C_R*(-C_C**4 - C_C**3*C_R + 6*C_C**2*C_R**2 + 10*C_C*C_R**3 + 4*C_R**4)),                                                                                                                                              0],\n[                                                                                                                                             0,                                                             C_C**4/(4*C_F*(-C_C**4 - C_C**3*C_F + 6*C_C**2*C_F**2 + 10*C_C*C_F**3 + 4*C_F**4)),                                                                                                            0,                                              C_C**3/(4*C_F*(-C_C**3 + C_C**2*C_F + 4*C_C*C_F**2 + 2*C_F**3)),                                                     0,            C_C**2/(-C_C**3 + 6*C_C*C_F**2 + 4*C_F**3),                                                                                                            0,                C_C*(-C_C**2 + 4*C_C*C_F + 4*C_F**2)/(4*C_F*(-C_C**3 + C_C**2*C_F + 4*C_C*C_F**2 + 2*C_F**3)),                                                                                                                                              0, (-C_C**4/4 - C_C**3*C_F + 3*C_C**2*C_F**2 + 8*C_C*C_F**3 + 4*C_F**4)/(C_F*(-C_C**4 - C_C**3*C_F + 6*C_C**2*C_F**2 + 10*C_C*C_F**3 + 4*C_F**4))]])",
      "text/latex": "$\\displaystyle \\left[\\begin{matrix}\\frac{- \\frac{C_{C}^{4}}{4} - C_{C}^{3} C_{R} + 3 C_{C}^{2} C_{R}^{2} + 8 C_{C} C_{R}^{3} + 4 C_{R}^{4}}{C_{R} \\left(- C_{C}^{4} - C_{C}^{3} C_{R} + 6 C_{C}^{2} C_{R}^{2} + 10 C_{C} C_{R}^{3} + 4 C_{R}^{4}\\right)} & 0 & \\frac{C_{C} \\left(- C_{C}^{2} + 4 C_{C} C_{R} + 4 C_{R}^{2}\\right)}{4 C_{R} \\left(- C_{C}^{3} + C_{C}^{2} C_{R} + 4 C_{C} C_{R}^{2} + 2 C_{R}^{3}\\right)} & 0 & \\frac{C_{C}^{2}}{- C_{C}^{3} + 6 C_{C} C_{R}^{2} + 4 C_{R}^{3}} & 0 & \\frac{C_{C}^{3}}{4 C_{R} \\left(- C_{C}^{3} + C_{C}^{2} C_{R} + 4 C_{C} C_{R}^{2} + 2 C_{R}^{3}\\right)} & 0 & \\frac{C_{C}^{4}}{4 C_{R} \\left(- C_{C}^{4} - C_{C}^{3} C_{R} + 6 C_{C}^{2} C_{R}^{2} + 10 C_{C} C_{R}^{3} + 4 C_{R}^{4}\\right)} & 0\\\\0 & \\frac{- \\frac{C_{C}^{4}}{4} - C_{C}^{3} C_{F} + 3 C_{C}^{2} C_{F}^{2} + 8 C_{C} C_{F}^{3} + 4 C_{F}^{4}}{C_{F} \\left(- C_{C}^{4} - C_{C}^{3} C_{F} + 6 C_{C}^{2} C_{F}^{2} + 10 C_{C} C_{F}^{3} + 4 C_{F}^{4}\\right)} & 0 & \\frac{C_{C} \\left(- C_{C}^{2} + 4 C_{C} C_{F} + 4 C_{F}^{2}\\right)}{4 C_{F} \\left(- C_{C}^{3} + C_{C}^{2} C_{F} + 4 C_{C} C_{F}^{2} + 2 C_{F}^{3}\\right)} & 0 & \\frac{C_{C}^{2}}{- C_{C}^{3} + 6 C_{C} C_{F}^{2} + 4 C_{F}^{3}} & 0 & \\frac{C_{C}^{3}}{4 C_{F} \\left(- C_{C}^{3} + C_{C}^{2} C_{F} + 4 C_{C} C_{F}^{2} + 2 C_{F}^{3}\\right)} & 0 & \\frac{C_{C}^{4}}{4 C_{F} \\left(- C_{C}^{4} - C_{C}^{3} C_{F} + 6 C_{C}^{2} C_{F}^{2} + 10 C_{C} C_{F}^{3} + 4 C_{F}^{4}\\right)}\\\\\\frac{C_{C} \\left(- C_{C}^{2} + 4 C_{C} C_{R} + 4 C_{R}^{2}\\right)}{4 C_{R} \\left(- C_{C}^{3} + C_{C}^{2} C_{R} + 4 C_{C} C_{R}^{2} + 2 C_{R}^{3}\\right)} & 0 & \\frac{- C_{C}^{3} + 2 C_{C}^{2} C_{R} + 12 C_{C} C_{R}^{2} + 8 C_{R}^{3}}{4 C_{R} \\left(- C_{C}^{3} + C_{C}^{2} C_{R} + 4 C_{C} C_{R}^{2} + 2 C_{R}^{3}\\right)} & 0 & \\frac{C_{C}}{- C_{C}^{2} + 2 C_{C} C_{R} + 2 C_{R}^{2}} & 0 & \\frac{C_{C}^{2} \\left(C_{C} + 2 C_{R}\\right)}{4 C_{R} \\left(- C_{C}^{3} + C_{C}^{2} C_{R} + 4 C_{C} C_{R}^{2} + 2 C_{R}^{3}\\right)} & 0 & \\frac{C_{C}^{3}}{4 C_{R} \\left(- C_{C}^{3} + C_{C}^{2} C_{R} + 4 C_{C} C_{R}^{2} + 2 C_{R}^{3}\\right)} & 0\\\\0 & \\frac{C_{C} \\left(- C_{C}^{2} + 4 C_{C} C_{F} + 4 C_{F}^{2}\\right)}{4 C_{F} \\left(- C_{C}^{3} + C_{C}^{2} C_{F} + 4 C_{C} C_{F}^{2} + 2 C_{F}^{3}\\right)} & 0 & \\frac{- C_{C}^{3} + 2 C_{C}^{2} C_{F} + 12 C_{C} C_{F}^{2} + 8 C_{F}^{3}}{4 C_{F} \\left(- C_{C}^{3} + C_{C}^{2} C_{F} + 4 C_{C} C_{F}^{2} + 2 C_{F}^{3}\\right)} & 0 & \\frac{C_{C}}{- C_{C}^{2} + 2 C_{C} C_{F} + 2 C_{F}^{2}} & 0 & \\frac{C_{C}^{2} \\left(C_{C} + 2 C_{F}\\right)}{4 C_{F} \\left(- C_{C}^{3} + C_{C}^{2} C_{F} + 4 C_{C} C_{F}^{2} + 2 C_{F}^{3}\\right)} & 0 & \\frac{C_{C}^{3}}{4 C_{F} \\left(- C_{C}^{3} + C_{C}^{2} C_{F} + 4 C_{C} C_{F}^{2} + 2 C_{F}^{3}\\right)}\\\\\\frac{C_{C}^{2}}{- C_{C}^{3} + 6 C_{C} C_{R}^{2} + 4 C_{R}^{3}} & 0 & \\frac{C_{C}}{- C_{C}^{2} + 2 C_{C} C_{R} + 2 C_{R}^{2}} & 0 & \\frac{4 C_{R} \\left(C_{C} + C_{R}\\right)}{- C_{C}^{3} + 6 C_{C} C_{R}^{2} + 4 C_{R}^{3}} & 0 & \\frac{C_{C}}{- C_{C}^{2} + 2 C_{C} C_{R} + 2 C_{R}^{2}} & 0 & \\frac{C_{C}^{2}}{- C_{C}^{3} + 6 C_{C} C_{R}^{2} + 4 C_{R}^{3}} & 0\\\\0 & \\frac{C_{C}^{2}}{- C_{C}^{3} + 6 C_{C} C_{F}^{2} + 4 C_{F}^{3}} & 0 & \\frac{C_{C}}{- C_{C}^{2} + 2 C_{C} C_{F} + 2 C_{F}^{2}} & 0 & \\frac{4 C_{F} \\left(C_{C} + C_{F}\\right)}{- C_{C}^{3} + 6 C_{C} C_{F}^{2} + 4 C_{F}^{3}} & 0 & \\frac{C_{C}}{- C_{C}^{2} + 2 C_{C} C_{F} + 2 C_{F}^{2}} & 0 & \\frac{C_{C}^{2}}{- C_{C}^{3} + 6 C_{C} C_{F}^{2} + 4 C_{F}^{3}}\\\\\\frac{C_{C}^{3}}{4 C_{R} \\left(- C_{C}^{3} + C_{C}^{2} C_{R} + 4 C_{C} C_{R}^{2} + 2 C_{R}^{3}\\right)} & 0 & \\frac{C_{C}^{2} \\left(C_{C} + 2 C_{R}\\right)}{4 C_{R} \\left(- C_{C}^{3} + C_{C}^{2} C_{R} + 4 C_{C} C_{R}^{2} + 2 C_{R}^{3}\\right)} & 0 & \\frac{C_{C}}{- C_{C}^{2} + 2 C_{C} C_{R} + 2 C_{R}^{2}} & 0 & \\frac{- C_{C}^{3} + 2 C_{C}^{2} C_{R} + 12 C_{C} C_{R}^{2} + 8 C_{R}^{3}}{4 C_{R} \\left(- C_{C}^{3} + C_{C}^{2} C_{R} + 4 C_{C} C_{R}^{2} + 2 C_{R}^{3}\\right)} & 0 & \\frac{C_{C} \\left(- C_{C}^{2} + 4 C_{C} C_{R} + 4 C_{R}^{2}\\right)}{4 C_{R} \\left(- C_{C}^{3} + C_{C}^{2} C_{R} + 4 C_{C} C_{R}^{2} + 2 C_{R}^{3}\\right)} & 0\\\\0 & \\frac{C_{C}^{3}}{4 C_{F} \\left(- C_{C}^{3} + C_{C}^{2} C_{F} + 4 C_{C} C_{F}^{2} + 2 C_{F}^{3}\\right)} & 0 & \\frac{C_{C}^{2} \\left(C_{C} + 2 C_{F}\\right)}{4 C_{F} \\left(- C_{C}^{3} + C_{C}^{2} C_{F} + 4 C_{C} C_{F}^{2} + 2 C_{F}^{3}\\right)} & 0 & \\frac{C_{C}}{- C_{C}^{2} + 2 C_{C} C_{F} + 2 C_{F}^{2}} & 0 & \\frac{- C_{C}^{3} + 2 C_{C}^{2} C_{F} + 12 C_{C} C_{F}^{2} + 8 C_{F}^{3}}{4 C_{F} \\left(- C_{C}^{3} + C_{C}^{2} C_{F} + 4 C_{C} C_{F}^{2} + 2 C_{F}^{3}\\right)} & 0 & \\frac{C_{C} \\left(- C_{C}^{2} + 4 C_{C} C_{F} + 4 C_{F}^{2}\\right)}{4 C_{F} \\left(- C_{C}^{3} + C_{C}^{2} C_{F} + 4 C_{C} C_{F}^{2} + 2 C_{F}^{3}\\right)}\\\\\\frac{C_{C}^{4}}{4 C_{R} \\left(- C_{C}^{4} - C_{C}^{3} C_{R} + 6 C_{C}^{2} C_{R}^{2} + 10 C_{C} C_{R}^{3} + 4 C_{R}^{4}\\right)} & 0 & \\frac{C_{C}^{3}}{4 C_{R} \\left(- C_{C}^{3} + C_{C}^{2} C_{R} + 4 C_{C} C_{R}^{2} + 2 C_{R}^{3}\\right)} & 0 & \\frac{C_{C}^{2}}{- C_{C}^{3} + 6 C_{C} C_{R}^{2} + 4 C_{R}^{3}} & 0 & \\frac{C_{C} \\left(- C_{C}^{2} + 4 C_{C} C_{R} + 4 C_{R}^{2}\\right)}{4 C_{R} \\left(- C_{C}^{3} + C_{C}^{2} C_{R} + 4 C_{C} C_{R}^{2} + 2 C_{R}^{3}\\right)} & 0 & \\frac{- \\frac{C_{C}^{4}}{4} - C_{C}^{3} C_{R} + 3 C_{C}^{2} C_{R}^{2} + 8 C_{C} C_{R}^{3} + 4 C_{R}^{4}}{C_{R} \\left(- C_{C}^{4} - C_{C}^{3} C_{R} + 6 C_{C}^{2} C_{R}^{2} + 10 C_{C} C_{R}^{3} + 4 C_{R}^{4}\\right)} & 0\\\\0 & \\frac{C_{C}^{4}}{4 C_{F} \\left(- C_{C}^{4} - C_{C}^{3} C_{F} + 6 C_{C}^{2} C_{F}^{2} + 10 C_{C} C_{F}^{3} + 4 C_{F}^{4}\\right)} & 0 & \\frac{C_{C}^{3}}{4 C_{F} \\left(- C_{C}^{3} + C_{C}^{2} C_{F} + 4 C_{C} C_{F}^{2} + 2 C_{F}^{3}\\right)} & 0 & \\frac{C_{C}^{2}}{- C_{C}^{3} + 6 C_{C} C_{F}^{2} + 4 C_{F}^{3}} & 0 & \\frac{C_{C} \\left(- C_{C}^{2} + 4 C_{C} C_{F} + 4 C_{F}^{2}\\right)}{4 C_{F} \\left(- C_{C}^{3} + C_{C}^{2} C_{F} + 4 C_{C} C_{F}^{2} + 2 C_{F}^{3}\\right)} & 0 & \\frac{- \\frac{C_{C}^{4}}{4} - C_{C}^{3} C_{F} + 3 C_{C}^{2} C_{F}^{2} + 8 C_{C} C_{F}^{3} + 4 C_{F}^{4}}{C_{F} \\left(- C_{C}^{4} - C_{C}^{3} C_{F} + 6 C_{C}^{2} C_{F}^{2} + 10 C_{C} C_{F}^{3} + 4 C_{F}^{4}\\right)}\\end{matrix}\\right]$"
     },
     "execution_count": 20,
     "metadata": {},
     "output_type": "execute_result"
    }
   ],
   "source": [
    "sym.simplify(C_inv)"
   ],
   "metadata": {
    "collapsed": false,
    "ExecuteTime": {
     "end_time": "2024-02-20T09:57:37.758804875Z",
     "start_time": "2024-02-20T09:57:37.057541966Z"
    }
   },
   "execution_count": 20
  },
  {
   "cell_type": "code",
   "outputs": [],
   "source": [],
   "metadata": {
    "collapsed": false
   },
   "execution_count": null
  }
 ],
 "metadata": {
  "kernelspec": {
   "display_name": "Python 3",
   "language": "python",
   "name": "python3"
  },
  "language_info": {
   "codemirror_mode": {
    "name": "ipython",
    "version": 2
   },
   "file_extension": ".py",
   "mimetype": "text/x-python",
   "name": "python",
   "nbconvert_exporter": "python",
   "pygments_lexer": "ipython2",
   "version": "2.7.6"
  }
 },
 "nbformat": 4,
 "nbformat_minor": 0
}
