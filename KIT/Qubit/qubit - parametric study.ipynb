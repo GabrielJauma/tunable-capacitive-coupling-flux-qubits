{
 "cells": [
  {
   "cell_type": "code",
   "execution_count": 14,
   "metadata": {
    "ExecuteTime": {
     "end_time": "2024-01-17T13:17:28.709837014Z",
     "start_time": "2024-01-17T13:17:28.630484015Z"
    }
   },
   "source": [
    "import Modules.SQcircuit_extensions as sq_ext\n",
    "import Modules.figures as figs\n",
    "import SQcircuit as sq\n",
    "import numpy as np\n",
    "import matplotlib.pyplot as plt\n",
    "import importlib\n",
    "\n",
    "%matplotlib ipympl\n",
    "plt.rcParams['text.usetex'] = False\n",
    "importlib.reload(sq_ext)\n",
    "importlib.reload(sq)\n",
    "importlib.reload(figs)\n",
    "np.set_printoptions(linewidth=300, formatter={'float': '{:.12f}'.format})\n",
    "# np.set_printoptions(linewidth=200, formatter={'float': '{:.1e}'.format})"
   ],
   "outputs": []
  },
  {
   "cell_type": "markdown",
   "metadata": {},
   "source": [
    "## KIT's qubit\n",
    "\n",
    "This notebook studies the qubit proposed by KIT. It's lumped element model is:\n",
    "<img src='../Other/Single qubit 4 nodes CC coupled to ground.jpg' width='500'>\n"
   ]
  },
  {
   "cell_type": "markdown",
   "source": [
    "# qubit vs parameter"
   ],
   "metadata": {
    "collapsed": false
   }
  },
  {
   "cell_type": "code",
   "execution_count": 11,
   "source": [
    "n_eig  = 5"
   ],
   "metadata": {
    "collapsed": false,
    "ExecuteTime": {
     "end_time": "2024-01-17T13:17:06.202822658Z",
     "start_time": "2024-01-17T13:17:06.198690056Z"
    }
   },
   "outputs": []
  },
  {
   "cell_type": "code",
   "execution_count": 12,
   "source": [
    "param_name = '\\\\Delta'\n",
    "param_values = np.geomspace(1e-2, 1e0, 10)\n",
    "H_qubit_list = sq_ext.KIT_qubit_vs_param(Δ=param_values)\n",
    "H_0 = sq_ext.KIT_qubit_vs_param(Δ=0)[0]"
   ],
   "metadata": {
    "collapsed": false,
    "ExecuteTime": {
     "end_time": "2024-01-17T13:17:06.711140276Z",
     "start_time": "2024-01-17T13:17:06.649909772Z"
    }
   },
   "outputs": []
  },
  {
   "cell_type": "code",
   "source": [
    "H_eff_vs_params[0]"
   ],
   "metadata": {
    "collapsed": false,
    "ExecuteTime": {
     "end_time": "2024-01-17T13:17:34.263028329Z",
     "start_time": "2024-01-17T13:17:34.251873023Z"
    }
   },
   "execution_count": 16,
   "outputs": []
  },
  {
   "cell_type": "code",
   "execution_count": 15,
   "source": [
    "H_eff_vs_params = np.array([sq_ext.H_eff_SWT(H_0, H, n_eig) for H in H_qubit_list])\n",
    "H_eff_0 = sq_ext.H_eff_SWT(H_0, H_0, n_eig)\n",
    "N_f, N_r = sq_ext.get_energy_indices(sq_ext.sq_qubit(), sq_ext.sq_fluxonium(), sq_ext.sq_resonator())\n",
    "fig, ax1, ax2 = sq_ext.plot_H_eff_vs_param(H_eff_vs_params, H_eff_0, param_values, param_name, N_f, N_r, threshold=1e-3, scale='log')"
   ],
   "metadata": {
    "collapsed": false,
    "ExecuteTime": {
     "end_time": "2024-01-17T13:17:32.399982183Z",
     "start_time": "2024-01-17T13:17:31.883559119Z"
    }
   },
   "outputs": []
  },
  {
   "cell_type": "code",
   "execution_count": 187,
   "source": [
    "param_name = '\\\\varphi_{ext}'\n",
    "param_values = np.linspace(0.49,0.5,20, endpoint=False)\n",
    "H_qubit_list = sq_ext.KIT_qubit_vs_param(φ_ext=param_values)\n",
    "H_0 = sq_ext.KIT_qubit_vs_param(Δ=0)[0]"
   ],
   "metadata": {
    "collapsed": false,
    "ExecuteTime": {
     "end_time": "2024-01-16T13:26:53.609740700Z",
     "start_time": "2024-01-16T13:26:53.404658900Z"
    }
   },
   "outputs": []
  },
  {
   "cell_type": "code",
   "execution_count": 188,
   "source": [
    "H_eff_vs_params = np.array([sq_ext.H_eff_SWT(H_0, H, n_eig) for H in H_qubit_list])\n",
    "H_eff_0 = sq_ext.H_eff_SWT(H_0, H_0, n_eig)\n",
    "N_f, N_r = sq_ext.get_energy_indices(sq_ext.sq_qubit(), sq_ext.sq_fluxonium(), sq_ext.sq_resonator())\n",
    "fig, ax1, ax2 = sq_ext.plot_H_eff_vs_param(H_eff_vs_params, H_eff_0, param_values, param_name, N_f, N_r, threshold=1e-3)"
   ],
   "metadata": {
    "collapsed": false,
    "ExecuteTime": {
     "end_time": "2024-01-16T13:26:55.466669Z",
     "start_time": "2024-01-16T13:26:54.777176100Z"
    }
   },
   "outputs": []
  },
  {
   "cell_type": "code",
   "execution_count": 180,
   "source": [
    "param_name = 'E_J'\n",
    "param_values = np.linspace(9, 11, 10)\n",
    "H_qubit_list = sq_ext.KIT_qubit_vs_param(EJ=param_values)\n",
    "H_0 = sq_ext.KIT_qubit_vs_param()[0]"
   ],
   "metadata": {
    "collapsed": false,
    "ExecuteTime": {
     "end_time": "2024-01-16T12:44:47.874402700Z",
     "start_time": "2024-01-16T12:44:47.768839800Z"
    }
   },
   "outputs": []
  },
  {
   "cell_type": "code",
   "execution_count": 181,
   "source": [
    "H_eff_vs_params = np.array([sq_ext.H_eff_SWT(H_0, H, n_eig) for H in H_qubit_list])\n",
    "H_eff_0 = sq_ext.H_eff_SWT(H_0, H_0, n_eig)\n",
    "N_f, N_r = sq_ext.get_energy_indices(sq_ext.sq_qubit(), sq_ext.sq_fluxonium(), sq_ext.sq_resonator())\n",
    "fig, ax1, ax2 = sq_ext.plot_H_eff_vs_param(H_eff_vs_params, H_eff_0, param_values, param_name, N_f, N_r, threshold=1e-3 )"
   ],
   "metadata": {
    "collapsed": false,
    "ExecuteTime": {
     "end_time": "2024-01-16T12:44:48.597796900Z",
     "start_time": "2024-01-16T12:44:48.156913600Z"
    }
   },
   "outputs": []
  },
  {
   "cell_type": "code",
   "execution_count": 182,
   "source": [
    "param_name = 'C'\n",
    "param_values = np.linspace(14, 16, 10)\n",
    "H_qubit_list = sq_ext.KIT_qubit_vs_param(C=param_values)\n",
    "H_0 = sq_ext.KIT_qubit_vs_param()[0]"
   ],
   "metadata": {
    "collapsed": false,
    "ExecuteTime": {
     "end_time": "2024-01-16T12:57:48.807213900Z",
     "start_time": "2024-01-16T12:57:48.682476Z"
    }
   },
   "outputs": []
  },
  {
   "cell_type": "code",
   "execution_count": 183,
   "source": [
    "H_eff_vs_params = np.array([sq_ext.H_eff_SWT(H_0, H, n_eig) for H in H_qubit_list])\n",
    "H_eff_0 = sq_ext.H_eff_SWT(H_0, H_0, n_eig)\n",
    "N_f, N_r = sq_ext.get_energy_indices(sq_ext.sq_qubit(), sq_ext.sq_fluxonium(), sq_ext.sq_resonator())\n",
    "fig, ax1, ax2 = sq_ext.plot_H_eff_vs_param(H_eff_vs_params, H_eff_0, param_values, param_name, N_f, N_r, threshold=1e-3 )"
   ],
   "metadata": {
    "collapsed": false,
    "ExecuteTime": {
     "end_time": "2024-01-16T12:57:49.709804Z",
     "start_time": "2024-01-16T12:57:49.279803400Z"
    }
   },
   "outputs": []
  },
  {
   "cell_type": "code",
   "execution_count": null,
   "source": [],
   "metadata": {
    "collapsed": false
   },
   "outputs": []
  },
  {
   "cell_type": "markdown",
   "source": [
    "# qutrit vs parameter"
   ],
   "metadata": {
    "collapsed": false
   }
  },
  {
   "cell_type": "code",
   "execution_count": 184,
   "source": [
    "n_eig  = 5"
   ],
   "metadata": {
    "collapsed": false,
    "ExecuteTime": {
     "end_time": "2024-01-16T13:09:51.439747500Z",
     "start_time": "2024-01-16T13:09:51.417920500Z"
    }
   },
   "outputs": []
  },
  {
   "cell_type": "code",
   "execution_count": 185,
   "source": [
    "param_name = '\\\\Delta'\n",
    "param_values = np.geomspace(1e-2, 1e0, 10)\n",
    "H_qubit_list = sq_ext.KIT_qubit_vs_param(φ_ext = 0, Δ=param_values)\n",
    "H_0 = sq_ext.KIT_qubit_vs_param(φ_ext = 0, Δ=0)[0]"
   ],
   "metadata": {
    "collapsed": false,
    "ExecuteTime": {
     "end_time": "2024-01-16T13:09:51.992851600Z",
     "start_time": "2024-01-16T13:09:51.852972600Z"
    }
   },
   "outputs": []
  },
  {
   "cell_type": "code",
   "execution_count": 186,
   "source": [
    "H_eff_vs_params = np.array([sq_ext.H_eff_SWT(H_0, H, n_eig) for H in H_qubit_list])\n",
    "H_eff_0 = sq_ext.H_eff_SWT(H_0, H_0, n_eig)\n",
    "N_f, N_r = sq_ext.get_energy_indices(sq_ext.sq_qubit(), sq_ext.sq_fluxonium(), sq_ext.sq_resonator())\n",
    "fig, ax1, ax2 = sq_ext.plot_H_eff_vs_param(H_eff_vs_params, H_eff_0, param_values, param_name, N_f, N_r, threshold=1e-3, scale='log')"
   ],
   "metadata": {
    "collapsed": false,
    "ExecuteTime": {
     "end_time": "2024-01-16T13:09:53.622460800Z",
     "start_time": "2024-01-16T13:09:52.381133900Z"
    }
   },
   "outputs": []
  },
  {
   "cell_type": "code",
   "execution_count": 178,
   "source": [
    "param_name = '\\\\varphi_{ext}'\n",
    "param_values = np.linspace(-0.1,0.1,20, endpoint=False)\n",
    "H_qubit_list = sq_ext.KIT_qubit_vs_param(φ_ext=param_values)\n",
    "H_0 = sq_ext.KIT_qubit_vs_param(φ_ext = 0)[0]"
   ],
   "metadata": {
    "collapsed": false
   },
   "outputs": []
  },
  {
   "cell_type": "code",
   "execution_count": 179,
   "source": [
    "H_eff_vs_params = np.array([sq_ext.H_eff_SWT(H_0, H, n_eig) for H in H_qubit_list])\n",
    "H_eff_0 = sq_ext.H_eff_SWT(H_0, H_0, n_eig)\n",
    "N_f, N_r = sq_ext.get_energy_indices(sq_ext.sq_qubit(), sq_ext.sq_fluxonium(), sq_ext.sq_resonator())\n",
    "fig, ax1, ax2 = sq_ext.plot_H_eff_vs_param(H_eff_vs_params, H_eff_0, param_values, param_name, N_f, N_r, threshold=1e-3)"
   ],
   "metadata": {
    "collapsed": false
   },
   "outputs": []
  },
  {
   "cell_type": "code",
   "execution_count": 180,
   "source": [
    "param_name = 'E_J'\n",
    "param_values = np.linspace(9, 11, 10)\n",
    "H_qubit_list = sq_ext.KIT_qubit_vs_param(φ_ext = 0, EJ=param_values)\n",
    "H_0 = sq_ext.KIT_qubit_vs_param(φ_ext = 0)[0]"
   ],
   "metadata": {
    "collapsed": false
   },
   "outputs": []
  },
  {
   "cell_type": "code",
   "execution_count": 181,
   "source": [
    "H_eff_vs_params = np.array([sq_ext.H_eff_SWT(H_0, H, n_eig) for H in H_qubit_list])\n",
    "H_eff_0 = sq_ext.H_eff_SWT(H_0, H_0, n_eig)\n",
    "N_f, N_r = sq_ext.get_energy_indices(sq_ext.sq_qubit(), sq_ext.sq_fluxonium(), sq_ext.sq_resonator())\n",
    "fig, ax1, ax2 = sq_ext.plot_H_eff_vs_param(H_eff_vs_params, H_eff_0, param_values, param_name, N_f, N_r, threshold=1e-3 )"
   ],
   "metadata": {
    "collapsed": false
   },
   "outputs": []
  },
  {
   "cell_type": "code",
   "execution_count": 182,
   "source": [
    "param_name = 'C'\n",
    "param_values = np.linspace(14, 16, 10)\n",
    "H_qubit_list = sq_ext.KIT_qubit_vs_param(C=param_values)\n",
    "H_0 = sq_ext.KIT_qubit_vs_param()[0]"
   ],
   "metadata": {
    "collapsed": false
   },
   "outputs": []
  },
  {
   "cell_type": "code",
   "execution_count": 183,
   "source": [
    "H_eff_vs_params = np.array([sq_ext.H_eff_SWT(H_0, H, n_eig) for H in H_qubit_list])\n",
    "H_eff_0 = sq_ext.H_eff_SWT(H_0, H_0, n_eig)\n",
    "N_f, N_r = sq_ext.get_energy_indices(sq_ext.sq_qubit(), sq_ext.sq_fluxonium(), sq_ext.sq_resonator())\n",
    "fig, ax1, ax2 = sq_ext.plot_H_eff_vs_param(H_eff_vs_params, H_eff_0, param_values, param_name, N_f, N_r, threshold=1e-3 )"
   ],
   "metadata": {
    "collapsed": false
   },
   "outputs": []
  },
  {
   "cell_type": "code",
   "execution_count": null,
   "source": [
    "Jorge Gidi"
   ],
   "metadata": {
    "collapsed": false
   },
   "outputs": []
  }
 ],
 "metadata": {
  "kernelspec": {
   "display_name": "Python 3 (ipykernel)",
   "language": "python",
   "name": "python3"
  },
  "language_info": {
   "codemirror_mode": {
    "name": "ipython",
    "version": 3
   },
   "file_extension": ".py",
   "mimetype": "text/x-python",
   "name": "python",
   "nbconvert_exporter": "python",
   "pygments_lexer": "ipython3",
   "version": "3.8.18"
  }
 },
 "nbformat": 4,
 "nbformat_minor": 1
}
