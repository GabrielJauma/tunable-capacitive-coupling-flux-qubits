{
 "cells": [
  {
   "cell_type": "code",
   "execution_count": 1,
   "outputs": [],
   "source": [
    "import Modules.SQcircuit_extensions as sq_ext\n",
    "import Modules.figures as figs\n",
    "import SQcircuit as sq\n",
    "import numpy as np\n",
    "import matplotlib.pyplot as plt\n",
    "import importlib\n",
    "import qutip as qt\n",
    "import sympy as sym\n",
    "\n",
    "\n",
    "%matplotlib ipympl\n",
    "plt.rcParams['text.usetex'] = False\n",
    "importlib.reload(sq_ext)\n",
    "importlib.reload(sq)\n",
    "importlib.reload(figs)\n",
    "np.set_printoptions(linewidth=300, formatter={'float': '{:.12f}'.format})\n",
    "# np.set_printoptions(linewidth=200, formatter={'float': '{:.1e}'.format})"
   ],
   "metadata": {
    "collapsed": false,
    "ExecuteTime": {
     "end_time": "2024-02-05T20:41:08.564759200Z",
     "start_time": "2024-02-05T20:41:06.839507700Z"
    }
   },
   "id": "2dc572c9a0671950"
  },
  {
   "cell_type": "code",
   "execution_count": 2,
   "outputs": [],
   "source": [
    "# Fundamental constants\n",
    "h    = 6.626e-34\n",
    "GHz  = 1e9\n",
    "e0   = 1.602e-19\n",
    "Φ_0  = h/(2*e0)\n",
    "\n",
    "# Circuit parameters\n",
    "Csh = 15\n",
    "C   = 15\n",
    "Cg  = 10\n",
    "CJ  = 3\n",
    "Lq  = 25\n",
    "Lr  = 10\n",
    "Δ   = 0.1\n",
    "EJ  = 10.0\n",
    "l = Lq*(Lq+4*Lr) - 4*Δ**2\n",
    "\n",
    "Cc = 10"
   ],
   "metadata": {
    "collapsed": false,
    "ExecuteTime": {
     "end_time": "2024-02-05T20:41:08.580373200Z",
     "start_time": "2024-02-05T20:41:08.567895500Z"
    }
   },
   "id": "4e990ee21e8d01c2"
  },
  {
   "cell_type": "code",
   "execution_count": 4,
   "outputs": [],
   "source": [
    "nmax_r = 12\n",
    "nmax_f = 12"
   ],
   "metadata": {
    "collapsed": false,
    "ExecuteTime": {
     "end_time": "2024-02-05T20:41:10.873504700Z",
     "start_time": "2024-02-05T20:41:10.853381900Z"
    }
   },
   "id": "3fb0929126c04476"
  },
  {
   "cell_type": "markdown",
   "source": [
    "# Symmetric Cc coupling\n",
    "That is, the inner nodes of the qubits are coupled with Cc, and the outer nodes of the qubits are coupled with Cc to their respective readout lines.\n",
    "As a result, the renormalization induced by Cc ensures that the qubit and resonator modes are still the symmetric and atisymmetric combination of the fluxes of the upper nodes."
   ],
   "metadata": {
    "collapsed": false
   },
   "id": "ea25895065fd4e4f"
  },
  {
   "cell_type": "markdown",
   "source": [
    "## Composing the circuit with fluxoniums and resonatrs"
   ],
   "metadata": {
    "collapsed": false
   },
   "id": "8952d1d69ad26801"
  },
  {
   "cell_type": "code",
   "outputs": [
    {
     "data": {
      "text/plain": "array([[0.062222222222, 0.000000000000, 0.017777777778, 0.000000000000],\n       [0.000000000000, 0.028739121635, 0.000000000000, 0.004047763611],\n       [0.017777777778, 0.000000000000, 0.062222222222, 0.000000000000],\n       [0.000000000000, 0.004047763611, 0.000000000000, 0.028739121635]])"
     },
     "execution_count": 27,
     "metadata": {},
     "output_type": "execute_result"
    }
   ],
   "source": [
    "C_R = C/2\n",
    "C_C = Cc\n",
    "C_F = C/2 + Csh + CJ\n",
    "C_mat = np.array([[C_R + C_C, 0, -C_C / 2,        0],\n",
    "                  [0, C_F + C_C,       0 , -C_C / 2],\n",
    "                  [-C_C / 2,        0, C_R + C_C, 0],\n",
    "                  [       0, -C_C / 2, 0, C_F + C_C]])\n",
    "np.linalg.inv(C_mat)"
   ],
   "metadata": {
    "collapsed": false,
    "ExecuteTime": {
     "end_time": "2024-02-05T20:46:45.492062800Z",
     "start_time": "2024-02-05T20:46:45.470857200Z"
    }
   },
   "id": "d6bab7d1d78c343f",
   "execution_count": 27
  },
  {
   "cell_type": "code",
   "outputs": [
    {
     "data": {
      "text/plain": "0.003967466772465781"
     },
     "execution_count": 31,
     "metadata": {},
     "output_type": "execute_result"
    }
   ],
   "source": [
    "C_C/(C_C+C_F)**2/2"
   ],
   "metadata": {
    "collapsed": false,
    "ExecuteTime": {
     "end_time": "2024-02-05T20:48:13.405455100Z",
     "start_time": "2024-02-05T20:48:13.383140Z"
    }
   },
   "id": "4c8c2d880ca6c064",
   "execution_count": 31
  },
  {
   "cell_type": "code",
   "execution_count": 32,
   "outputs": [],
   "source": [
    "def hamiltonian_qubit_C_qubit(nmax_r, nmax_f, Cc, C = 15, CJ = 3, Csh= 15, Lq = 25, Lr = 10, Δ = 0.1, coupling='Yes'):\n",
    "    \n",
    "    C_R = C/2\n",
    "    C_C = Cc\n",
    "    C_F = C/2 + Csh + CJ\n",
    "    C_mat = np.array([[C_R + C_C, 0, -C_C / 2,        0],\n",
    "                      [0, C_F + C_C,       0 , -C_C / 2],\n",
    "                      [-C_C / 2,        0, C_R + C_C, 0],\n",
    "                      [       0, -C_C / 2, 0, C_F + C_C]])\n",
    "    \n",
    "    C_inv = np.linalg.inv(C_mat)\n",
    "    fF = 1e-15\n",
    "    \n",
    "    resonator = sq_ext.KIT_resonator(C=C+Cc, Lq = Lq, Lr = Lr, Δ = Δ, trunc_res =nmax_r)\n",
    "    fluxonium = sq_ext.KIT_fluxonium(C=C+Cc, Lq = Lq, Lr = Lr, Δ = Δ, trunc_flux=nmax_f)\n",
    "    \n",
    "    # if coupling == 'No':\n",
    "    H_left  = sq_ext.hamiltonian_frc(fluxonium, resonator, Δ)\n",
    "    H_right = sq_ext.hamiltonian_frc(fluxonium, resonator, Δ)\n",
    "    # else:\n",
    "    #     H_left  = sq_ext.hamiltonian_frc(fluxonium, resonator, Δ, C_int = C_inv[0,1]**-1)\n",
    "    #     H_right = sq_ext.hamiltonian_frc(fluxonium, resonator, Δ, C_int = C_inv[0,1]**-1) # Make only one...\n",
    "    \n",
    "    I_r       = qt.identity(nmax_r)\n",
    "    I_f       = qt.identity(nmax_f)\n",
    "    I_H_left  = qt.identity(H_left .dims[0])\n",
    "    I_H_right = qt.identity(H_right.dims[0])\n",
    "    \n",
    "    q_r = qt.tensor(resonator.charge_op(0), I_f)\n",
    "    q_f = qt.tensor(I_r, fluxonium.charge_op(0))\n",
    "    \n",
    "    if coupling == 'Yes':\n",
    "        H = qt.tensor(H_left, I_H_right) + qt.tensor(I_H_left, H_right) + C_inv[0,2]/fF * qt.tensor(q_r,q_r) + \\\n",
    "                                                                          C_inv[1,3]/fF * qt.tensor(q_f,q_f) + \\\n",
    "                                                                          C_inv[0,3]/fF * qt.tensor(q_f,q_r) + \\\n",
    "                                                                          C_inv[0,3]/fF * qt.tensor(q_r,q_f)  \n",
    "        \n",
    "    elif coupling == 'No':\n",
    "        H = qt.tensor(H_left, I_H_right) + qt.tensor(I_H_left, H_right)\n",
    "        \n",
    "    elif coupling == 'Only':\n",
    "        H = C_inv[0,2]/fF * qt.tensor(q_r,q_r) + C_inv[1,3]/fF * qt.tensor(q_f,q_f) + \\\n",
    "             C_inv[0,3]/fF * qt.tensor(q_f,q_r) + C_inv[0,3]/fF * qt.tensor(q_r,q_f) \n",
    "        \n",
    "    elif coupling == 'Approx':\n",
    "        H = (qt.tensor(H_left, I_H_right) + qt.tensor(I_H_left, H_right) + \n",
    "             C_C/2/(C_C+C_R)**2/fF * qt.tensor(q_r,q_r) + C_C/2/(C_C+C_F)**2/fF * qt.tensor(q_f,q_f))  \n",
    "        \n",
    "    return H\n"
   ],
   "metadata": {
    "collapsed": false,
    "ExecuteTime": {
     "end_time": "2024-02-05T20:48:28.861268200Z",
     "start_time": "2024-02-05T20:48:28.848644100Z"
    }
   },
   "id": "fc89e2fe3ac18768"
  },
  {
   "cell_type": "markdown",
   "source": [
    "## Creating the full circuits with sqcircuits to check that the energies are the same\n",
    "### Circuit elements"
   ],
   "metadata": {
    "collapsed": false
   },
   "id": "8a574132ffa304f4"
  },
  {
   "cell_type": "code",
   "execution_count": 9,
   "outputs": [],
   "source": [
    "# Initialize loops\n",
    "loop_qubit = sq.Loop(0.5)\n",
    "loop1_qubit_C_qubit= sq.Loop(0.5)\n",
    "loop2_qubit_C_qubit = sq.Loop(0.5)\n",
    "\n",
    "# Circuit components\n",
    "C_01, C_01_rc, C_02, C_02_rc, C_12, L_03, L_31, L_23, JJ_12 = [[] for _ in range(9)]\n",
    "for loop in [loop_qubit, loop1_qubit_C_qubit, loop2_qubit_C_qubit]:\n",
    "    C_01       .append(sq.Capacitor(C,          'fF'))\n",
    "    C_01_rc    .append(sq.Capacitor(C+Cc,       'fF')) # With extra Cc for redout or coupling\n",
    "    C_02       .append(sq.Capacitor(C,          'fF'))\n",
    "    C_02_rc    .append(sq.Capacitor(C+Cc,       'fF')) # With extra Cc for redout or coupling\n",
    "    C_12 .append(sq.Capacitor(CJ+Csh,  'fF'))\n",
    "    L_03 .append(sq.Inductor(Lr,       'nH'))\n",
    "    L_31 .append(sq.Inductor(Lq/2 - Δ, 'nH',  loops=[loop]))\n",
    "    L_23 .append(sq.Inductor(Lq/2 + Δ, 'nH',  loops=[loop]))\n",
    "    JJ_12.append(sq.Junction(EJ,       'GHz', loops=[loop]))\n",
    "C_24 = sq.Capacitor(Cc, 'fF')\n"
   ],
   "metadata": {
    "collapsed": false,
    "ExecuteTime": {
     "end_time": "2024-02-05T20:41:29.402419800Z",
     "start_time": "2024-02-05T20:41:29.393796Z"
    }
   },
   "id": "68e8a193b2b72d67"
  },
  {
   "cell_type": "markdown",
   "source": [
    "### Two uncoupled qubits with capacitances for coupling and readout"
   ],
   "metadata": {
    "collapsed": false
   },
   "id": "dadafaf4a64aebbe"
  },
  {
   "cell_type": "code",
   "execution_count": 7,
   "outputs": [
    {
     "ename": "NameError",
     "evalue": "name 'L_03' is not defined",
     "output_type": "error",
     "traceback": [
      "\u001B[1;31m---------------------------------------------------------------------------\u001B[0m",
      "\u001B[1;31mNameError\u001B[0m                                 Traceback (most recent call last)",
      "Cell \u001B[1;32mIn[7], line 4\u001B[0m\n\u001B[0;32m      1\u001B[0m \u001B[38;5;66;03m# Two qubits\u001B[39;00m\n\u001B[0;32m      2\u001B[0m elements_qubit_qubit \u001B[38;5;241m=\u001B[39m {\n\u001B[0;32m      3\u001B[0m     \u001B[38;5;66;03m# qubit 1, nodes [0, 1, 2, 3]\u001B[39;00m\n\u001B[1;32m----> 4\u001B[0m     (\u001B[38;5;241m0\u001B[39m, \u001B[38;5;241m3\u001B[39m): [\u001B[43mL_03\u001B[49m[\u001B[38;5;241m1\u001B[39m]],\n\u001B[0;32m      5\u001B[0m     (\u001B[38;5;241m0\u001B[39m, \u001B[38;5;241m1\u001B[39m): [C_01_rc[\u001B[38;5;241m1\u001B[39m]],\n\u001B[0;32m      6\u001B[0m     (\u001B[38;5;241m0\u001B[39m, \u001B[38;5;241m2\u001B[39m): [C_02_rc[\u001B[38;5;241m1\u001B[39m]],\n\u001B[0;32m      7\u001B[0m     (\u001B[38;5;241m3\u001B[39m, \u001B[38;5;241m1\u001B[39m): [L_31[\u001B[38;5;241m1\u001B[39m]],\n\u001B[0;32m      8\u001B[0m     (\u001B[38;5;241m1\u001B[39m, \u001B[38;5;241m2\u001B[39m): [C_12[\u001B[38;5;241m1\u001B[39m], JJ_12[\u001B[38;5;241m1\u001B[39m]],\n\u001B[0;32m      9\u001B[0m     (\u001B[38;5;241m2\u001B[39m, \u001B[38;5;241m3\u001B[39m): [L_23[\u001B[38;5;241m1\u001B[39m]],\n\u001B[0;32m     10\u001B[0m     \u001B[38;5;66;03m# qubit 2, nodes [0, 4, 5, 6]\u001B[39;00m\n\u001B[0;32m     11\u001B[0m     (\u001B[38;5;241m0\u001B[39m, \u001B[38;5;241m6\u001B[39m): [L_03[\u001B[38;5;241m2\u001B[39m]],\n\u001B[0;32m     12\u001B[0m     (\u001B[38;5;241m0\u001B[39m, \u001B[38;5;241m4\u001B[39m): [C_01_rc[\u001B[38;5;241m2\u001B[39m]],\n\u001B[0;32m     13\u001B[0m     (\u001B[38;5;241m0\u001B[39m, \u001B[38;5;241m5\u001B[39m): [C_02_rc[\u001B[38;5;241m2\u001B[39m]],\n\u001B[0;32m     14\u001B[0m     (\u001B[38;5;241m6\u001B[39m, \u001B[38;5;241m4\u001B[39m): [L_31[\u001B[38;5;241m2\u001B[39m]],\n\u001B[0;32m     15\u001B[0m     (\u001B[38;5;241m4\u001B[39m, \u001B[38;5;241m5\u001B[39m): [C_12[\u001B[38;5;241m2\u001B[39m], JJ_12[\u001B[38;5;241m2\u001B[39m]],\n\u001B[0;32m     16\u001B[0m     (\u001B[38;5;241m5\u001B[39m, \u001B[38;5;241m6\u001B[39m): [L_23[\u001B[38;5;241m2\u001B[39m]],\n\u001B[0;32m     17\u001B[0m }\n\u001B[0;32m     19\u001B[0m qubit_qubit \u001B[38;5;241m=\u001B[39m sq\u001B[38;5;241m.\u001B[39mCircuit(elements_qubit_qubit)\n\u001B[0;32m     20\u001B[0m qubit_qubit\u001B[38;5;241m.\u001B[39mset_trunc_nums([nmax_r, nmax_r, nmax_f, nmax_f])\n",
      "\u001B[1;31mNameError\u001B[0m: name 'L_03' is not defined"
     ]
    }
   ],
   "source": [
    "# Two qubits\n",
    "elements_qubit_qubit = {\n",
    "    # qubit 1, nodes [0, 1, 2, 3]\n",
    "    (0, 3): [L_03[1]],\n",
    "    (0, 1): [C_01_rc[1]],\n",
    "    (0, 2): [C_02_rc[1]],\n",
    "    (3, 1): [L_31[1]],\n",
    "    (1, 2): [C_12[1], JJ_12[1]],\n",
    "    (2, 3): [L_23[1]],\n",
    "    # qubit 2, nodes [0, 4, 5, 6]\n",
    "    (0, 6): [L_03[2]],\n",
    "    (0, 4): [C_01_rc[2]],\n",
    "    (0, 5): [C_02_rc[2]],\n",
    "    (6, 4): [L_31[2]],\n",
    "    (4, 5): [C_12[2], JJ_12[2]],\n",
    "    (5, 6): [L_23[2]],\n",
    "}\n",
    "\n",
    "qubit_qubit = sq.Circuit(elements_qubit_qubit)\n",
    "qubit_qubit.set_trunc_nums([nmax_r, nmax_r, nmax_f, nmax_f])\n",
    "qubit_qubit.description()"
   ],
   "metadata": {
    "collapsed": false,
    "ExecuteTime": {
     "end_time": "2024-02-05T20:41:25.421039900Z",
     "start_time": "2024-02-05T20:41:25.386997500Z"
    }
   },
   "id": "6be6f3d33c181742"
  },
  {
   "cell_type": "code",
   "execution_count": 12,
   "outputs": [
    {
     "data": {
      "text/plain": "array([0.000000000000, 1.595069612482, 1.595069612482, 3.190139224965, 5.585801531732, 5.585801531732])"
     },
     "execution_count": 12,
     "metadata": {},
     "output_type": "execute_result"
    }
   ],
   "source": [
    "_ = qubit_qubit.diag(6)\n",
    "qubit_qubit.efreqs-qubit_qubit.efreqs[0]"
   ],
   "metadata": {
    "collapsed": false,
    "ExecuteTime": {
     "end_time": "2024-02-05T20:34:07.892293400Z",
     "start_time": "2024-02-05T20:34:07.824427200Z"
    }
   },
   "id": "419019541d87a2f7"
  },
  {
   "cell_type": "code",
   "outputs": [
    {
     "data": {
      "text/plain": "array([0.000000000000, 1.595302462393, 1.595302462393, 3.190604924786, 5.583661408270, 5.583661408270])"
     },
     "execution_count": 13,
     "metadata": {},
     "output_type": "execute_result"
    }
   ],
   "source": [
    "H_0 = hamiltonian_qubit_C_qubit(nmax_r, nmax_f, Cc=Cc, coupling='No')\n",
    "E_0 = sq_ext.diag(H_0, n_eig=6, out='GHz')[0]\n",
    "E_0 - E_0[0]"
   ],
   "metadata": {
    "collapsed": false,
    "ExecuteTime": {
     "end_time": "2024-02-05T20:34:08.825418400Z",
     "start_time": "2024-02-05T20:34:08.787725900Z"
    }
   },
   "id": "ebfacebdf2e3d462",
   "execution_count": 13
  },
  {
   "cell_type": "markdown",
   "source": [
    "### Two qubits capacitively coupled"
   ],
   "metadata": {
    "collapsed": false
   },
   "id": "f2fcc92e6754573f"
  },
  {
   "cell_type": "code",
   "execution_count": 10,
   "outputs": [
    {
     "data": {
      "text/plain": "<IPython.core.display.Latex object>",
      "text/latex": "$\\hat{H} =~\\omega_1\\hat a^\\dagger_1\\hat a_1~+~\\omega_2\\hat a^\\dagger_2\\hat a_2~+~\\omega_3\\hat a^\\dagger_3\\hat a_3~+~\\omega_4\\hat a^\\dagger_4\\hat a_4~~-~E_{J_{1}}\\cos(\\hat{\\varphi}_1-\\hat{\\varphi}_2+\\hat{\\varphi}_3+\\hat{\\varphi}_4+\\varphi_{\\text{ext}_{1}})~-~E_{J_{2}}\\cos(\\hat{\\varphi}_1+\\hat{\\varphi}_2+\\hat{\\varphi}_3-\\hat{\\varphi}_4+\\varphi_{\\text{ext}_{2}})$"
     },
     "metadata": {},
     "output_type": "display_data"
    },
    {
     "data": {
      "text/plain": "<IPython.core.display.Latex object>",
      "text/latex": "$------------------------------------------------------------$"
     },
     "metadata": {},
     "output_type": "display_data"
    },
    {
     "data": {
      "text/plain": "<IPython.core.display.Latex object>",
      "text/latex": "$\\text{mode}~1:~~~~~~~~~~~\\text{harmonic}~~~~~~~~~~~\\hat{\\varphi}_1~=~\\varphi_{zp_{1}}(\\hat a_1+\\hat a^\\dagger_1)~~~~~~~~~~~\\omega_1/2\\pi~=~7.2085~~~~~~~~~~~\\varphi_{zp_{1}}~=~3.17e-03$"
     },
     "metadata": {},
     "output_type": "display_data"
    },
    {
     "data": {
      "text/plain": "<IPython.core.display.Latex object>",
      "text/latex": "$\\text{mode}~2:~~~~~~~~~~~\\text{harmonic}~~~~~~~~~~~\\hat{\\varphi}_2~=~\\varphi_{zp_{2}}(\\hat a_2+\\hat a^\\dagger_2)~~~~~~~~~~~\\omega_2/2\\pi~=~6.30365~~~~~~~~~~~\\varphi_{zp_{2}}~=~4.91e-01$"
     },
     "metadata": {},
     "output_type": "display_data"
    },
    {
     "data": {
      "text/plain": "<IPython.core.display.Latex object>",
      "text/latex": "$\\text{mode}~3:~~~~~~~~~~~\\text{harmonic}~~~~~~~~~~~\\hat{\\varphi}_3~=~\\varphi_{zp_{3}}(\\hat a_3+\\hat a^\\dagger_3)~~~~~~~~~~~\\omega_3/2\\pi~=~5.34231~~~~~~~~~~~\\varphi_{zp_{3}}~=~4.52e-01$"
     },
     "metadata": {},
     "output_type": "display_data"
    },
    {
     "data": {
      "text/plain": "<IPython.core.display.Latex object>",
      "text/latex": "$\\text{mode}~4:~~~~~~~~~~~\\text{harmonic}~~~~~~~~~~~\\hat{\\varphi}_4~=~\\varphi_{zp_{4}}(\\hat a_4+\\hat a^\\dagger_4)~~~~~~~~~~~\\omega_4/2\\pi~=~4.71887~~~~~~~~~~~\\varphi_{zp_{4}}~=~4.79e-03$"
     },
     "metadata": {},
     "output_type": "display_data"
    },
    {
     "data": {
      "text/plain": "<IPython.core.display.Latex object>",
      "text/latex": "$------------------------------------------------------------$"
     },
     "metadata": {},
     "output_type": "display_data"
    },
    {
     "data": {
      "text/plain": "<IPython.core.display.Latex object>",
      "text/latex": "$\\text{parameters}:~~~~~~~~~~~E_{J_{1}}~=~10.0~~~~~~~~~~~E_{J_{2}}~=~10.0~~~~~~~~~~~$"
     },
     "metadata": {},
     "output_type": "display_data"
    },
    {
     "data": {
      "text/plain": "<IPython.core.display.Latex object>",
      "text/latex": "$\\text{loops}:~~~~~~~~~~~~~~~~~~~~\\varphi_{\\text{ext}_{1}}/2\\pi~=~0.5~~~~~~~~~~~\\varphi_{\\text{ext}_{2}}/2\\pi~=~0.5~~~~~~~~~~~$"
     },
     "metadata": {},
     "output_type": "display_data"
    }
   ],
   "source": [
    "elements_qubit_C_qubit = { \n",
    "    # qubit 1, nodes [0, 1, 2, 3]\n",
    "    (0, 3): [L_03[1]],\n",
    "    (0, 1): [C_01[1]],\n",
    "    (0, 2): [C_02[1]],\n",
    "    (3, 1): [L_31[1]],\n",
    "    (1, 2): [C_12[1], JJ_12[1]],\n",
    "    (2, 3): [L_23[1]],\n",
    "    # qubit 2, nodes [0, 4, 5, 6]\n",
    "    (0, 6): [L_03[2]],\n",
    "    (0, 4): [C_01[2]],\n",
    "    (0, 5): [C_02[2]],\n",
    "    (6, 4): [L_31[2]],\n",
    "    (4, 5): [C_12[2], JJ_12[2]],\n",
    "    (5, 6): [L_23[2]],\n",
    "    # capacitive coupling\n",
    "    (2, 4): [C_24],\n",
    "    (1, 5): [C_24]\n",
    "}\n",
    "\n",
    "qubit_C_qubit = sq.Circuit(elements_qubit_C_qubit)\n",
    "qubit_C_qubit.set_trunc_nums([nmax_r, nmax_r, nmax_f, nmax_f])\n",
    "qubit_C_qubit.description()"
   ],
   "metadata": {
    "collapsed": false,
    "ExecuteTime": {
     "end_time": "2024-02-05T20:41:42.430177900Z",
     "start_time": "2024-02-05T20:41:34.474940200Z"
    }
   },
   "id": "d7e0569e3fba75c5"
  },
  {
   "cell_type": "code",
   "execution_count": 11,
   "outputs": [],
   "source": [
    "_ = qubit_C_qubit.diag(3)"
   ],
   "metadata": {
    "collapsed": false,
    "ExecuteTime": {
     "end_time": "2024-02-05T20:42:37.147330500Z",
     "start_time": "2024-02-05T20:41:43.549760700Z"
    }
   },
   "id": "8a126290d83934"
  },
  {
   "cell_type": "code",
   "outputs": [
    {
     "data": {
      "text/plain": "array([0.000000000000, 1.533353502897, 1.781975925818])"
     },
     "execution_count": 13,
     "metadata": {},
     "output_type": "execute_result"
    }
   ],
   "source": [
    "qubit_C_qubit.efreqs-qubit_C_qubit.efreqs[0]"
   ],
   "metadata": {
    "collapsed": false,
    "ExecuteTime": {
     "end_time": "2024-02-05T20:44:12.577852800Z",
     "start_time": "2024-02-05T20:44:12.560697700Z"
    }
   },
   "id": "fa69675d3ba73f80",
   "execution_count": 13
  },
  {
   "cell_type": "code",
   "outputs": [],
   "source": [
    "H   = hamiltonian_qubit_C_qubit(nmax_r, nmax_f, Cc=Cc, coupling='Yes')"
   ],
   "metadata": {
    "collapsed": false,
    "ExecuteTime": {
     "end_time": "2024-02-05T20:48:47.256951200Z",
     "start_time": "2024-02-05T20:48:47.210836800Z"
    }
   },
   "id": "68388f4713da124f",
   "execution_count": 35
  },
  {
   "cell_type": "code",
   "outputs": [
    {
     "data": {
      "text/plain": "array([0.000000000000, 1.525738689365, 1.707503898543])"
     },
     "execution_count": 36,
     "metadata": {},
     "output_type": "execute_result"
    }
   ],
   "source": [
    "E = sq_ext.diag(H, n_eig=3, out='GHz')[0]\n",
    "E - E[0]"
   ],
   "metadata": {
    "collapsed": false,
    "ExecuteTime": {
     "end_time": "2024-02-05T20:48:48.016425Z",
     "start_time": "2024-02-05T20:48:47.394597600Z"
    }
   },
   "id": "8051059294b5af4f",
   "execution_count": 36
  },
  {
   "cell_type": "code",
   "outputs": [
    {
     "ename": "NameError",
     "evalue": "name 'qubit_C_qubit' is not defined",
     "output_type": "error",
     "traceback": [
      "\u001B[1;31m---------------------------------------------------------------------------\u001B[0m",
      "\u001B[1;31mNameError\u001B[0m                                 Traceback (most recent call last)",
      "Cell \u001B[1;32mIn[10], line 1\u001B[0m\n\u001B[1;32m----> 1\u001B[0m np\u001B[38;5;241m.\u001B[39mabs(E \u001B[38;5;241m-\u001B[39m E[\u001B[38;5;241m0\u001B[39m] \u001B[38;5;241m-\u001B[39m (\u001B[43mqubit_C_qubit\u001B[49m\u001B[38;5;241m.\u001B[39mefreqs\u001B[38;5;241m-\u001B[39mqubit_C_qubit\u001B[38;5;241m.\u001B[39mefreqs[\u001B[38;5;241m0\u001B[39m]))\n",
      "\u001B[1;31mNameError\u001B[0m: name 'qubit_C_qubit' is not defined"
     ]
    }
   ],
   "source": [
    "np.abs(E - E[0] - (qubit_C_qubit.efreqs-qubit_C_qubit.efreqs[0]))"
   ],
   "metadata": {
    "collapsed": false,
    "ExecuteTime": {
     "end_time": "2024-02-02T09:23:20.441843700Z",
     "start_time": "2024-02-02T09:23:20.418096300Z"
    }
   },
   "id": "891aa49a579d78eb",
   "execution_count": 10
  },
  {
   "cell_type": "markdown",
   "source": [
    "# Effective hamiltonians"
   ],
   "metadata": {
    "collapsed": false
   },
   "id": "3b945c04a3474245"
  },
  {
   "cell_type": "code",
   "outputs": [],
   "source": [
    "H_0_full_circ = qubit_qubit  .hamiltonian()\n",
    "H_full_circ   = qubit_C_qubit.hamiltonian()\n",
    "n_eig = 6"
   ],
   "metadata": {
    "collapsed": false,
    "ExecuteTime": {
     "end_time": "2024-01-18T10:07:00.750679300Z",
     "start_time": "2024-01-18T10:06:59.890426600Z"
    }
   },
   "id": "33b73ae20eed0f66",
   "execution_count": 24
  },
  {
   "cell_type": "code",
   "outputs": [
    {
     "data": {
      "text/plain": "array([[16.6174-0.j    ,  0.    +0.j    ,  0.    +0.j    , -1.8897-0.j    ,  0.    -0.j    , -0.    -0.j    ],\n       [ 0.    -0.j    , 19.3011-0.j    , -1.9619-0.1163j, -0.    -0.j    ,  1.7693-0.4776j,  0.4345+0.6346j],\n       [ 0.    -0.j    , -1.9619+0.1163j, 21.0948+0.j    , -0.    +0.j    , -1.3807+1.3158j,  1.1329-0.5085j],\n       [-1.8897+0.j    , -0.    +0.j    , -0.    -0.j    , 24.2079-0.j    ,  0.    +0.j    ,  0.    +0.j    ],\n       [ 0.    +0.j    ,  1.7693+0.4776j, -1.3807-1.3158j,  0.    -0.j    , 20.6425-0.j    ,  0.4935-0.0442j],\n       [-0.    +0.j    ,  0.4345-0.6346j,  1.1329+0.5085j,  0.    -0.j    ,  0.4935+0.0442j, 21.2882+0.j    ]])"
     },
     "execution_count": 25,
     "metadata": {},
     "output_type": "execute_result"
    }
   ],
   "source": [
    "H_eff_full_circ = sq_ext.H_eff_p1(H_0_full_circ, H_full_circ, n_eig)\n",
    "np.round(H_eff_full_circ,4)"
   ],
   "metadata": {
    "collapsed": false,
    "ExecuteTime": {
     "end_time": "2024-01-18T10:07:01.309883Z",
     "start_time": "2024-01-18T10:07:01.168154Z"
    }
   },
   "id": "f8c921f7121c6300",
   "execution_count": 25
  },
  {
   "cell_type": "code",
   "execution_count": 49,
   "outputs": [
    {
     "data": {
      "text/plain": "array([[ 1.34492e+01+0.j    ,  0.00000e+00+0.j    , -0.00000e+00+0.j    , -0.00000e+00+0.j    , -0.00000e+00-0.j    ,  0.00000e+00+0.j    ],\n       [ 0.00000e+00-0.j    ,  1.53573e+01+0.j    , -9.13000e-02+0.019j ,  0.00000e+00-0.j    , -0.00000e+00+0.j    ,  0.00000e+00+0.j    ],\n       [-0.00000e+00-0.j    , -9.13000e-02-0.019j ,  1.53573e+01+0.j    ,  0.00000e+00+0.j    , -0.00000e+00+0.j    , -0.00000e+00+0.j    ],\n       [-0.00000e+00-0.j    ,  0.00000e+00+0.j    ,  0.00000e+00-0.j    ,  1.72654e+01-0.j    ,  0.00000e+00-0.j    , -0.00000e+00+0.j    ],\n       [-0.00000e+00+0.j    , -0.00000e+00-0.j    , -0.00000e+00-0.j    ,  0.00000e+00+0.j    ,  1.95169e+01-0.j    , -9.20000e-03+0.0829j],\n       [ 0.00000e+00-0.j    ,  0.00000e+00-0.j    , -0.00000e+00-0.j    , -0.00000e+00-0.j    , -9.20000e-03-0.0829j,  1.95169e+01+0.j    ]])"
     },
     "execution_count": 49,
     "metadata": {},
     "output_type": "execute_result"
    }
   ],
   "source": [
    "np.round(sq_ext.H_eff_p1(H_0, H, n_eig),4)"
   ],
   "metadata": {
    "collapsed": false,
    "ExecuteTime": {
     "end_time": "2024-01-17T13:58:05.901176150Z",
     "start_time": "2024-01-17T13:58:05.399839530Z"
    }
   },
   "id": "28d272fedb712c56"
  },
  {
   "cell_type": "code",
   "execution_count": 50,
   "outputs": [
    {
     "data": {
      "text/plain": "array([[13.449200000000, -0.000000000000, -0.000000000000, -0.000000000000, -0.000000000000, -0.000000000000],\n       [-0.000000000000, 15.357300000000, 0.000000000000, -0.000000000000, 0.000000000000, 0.000000000000],\n       [-0.000000000000, 0.000000000000, 15.357300000000, -0.000000000000, -0.000000000000, -0.000000000000],\n       [-0.000000000000, -0.000000000000, -0.000000000000, 17.265400000000, 0.000000000000, 0.000000000000],\n       [-0.000000000000, 0.000000000000, -0.000000000000, 0.000000000000, 19.516900000000, 0.000000000000],\n       [-0.000000000000, 0.000000000000, -0.000000000000, 0.000000000000, 0.000000000000, 19.516900000000]])"
     },
     "execution_count": 50,
     "metadata": {},
     "output_type": "execute_result"
    }
   ],
   "source": [
    "np.round(sq_ext.H_eff_SWT(H_0, H, n_eig),4)"
   ],
   "metadata": {
    "collapsed": false,
    "ExecuteTime": {
     "end_time": "2024-01-17T13:58:12.664400427Z",
     "start_time": "2024-01-17T13:58:12.193134366Z"
    }
   },
   "id": "3a0ae900778777ce"
  },
  {
   "cell_type": "code",
   "outputs": [],
   "source": [],
   "metadata": {
    "collapsed": false
   },
   "id": "59e433e9568207dc"
  }
 ],
 "metadata": {
  "kernelspec": {
   "display_name": "Python 3",
   "language": "python",
   "name": "python3"
  },
  "language_info": {
   "codemirror_mode": {
    "name": "ipython",
    "version": 2
   },
   "file_extension": ".py",
   "mimetype": "text/x-python",
   "name": "python",
   "nbconvert_exporter": "python",
   "pygments_lexer": "ipython2",
   "version": "2.7.6"
  }
 },
 "nbformat": 4,
 "nbformat_minor": 5
}
