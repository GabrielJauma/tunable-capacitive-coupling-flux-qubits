{
 "cells": [
  {
   "cell_type": "code",
   "outputs": [],
   "source": [
    "import sympy as sym\n",
    "import numpy as np\n",
    "import matplotlib.pyplot as plt"
   ],
   "metadata": {
    "collapsed": false,
    "ExecuteTime": {
     "end_time": "2024-02-27T13:22:23.429780602Z",
     "start_time": "2024-02-27T13:22:23.194518809Z"
    }
   },
   "id": "4942f20c88272870",
   "execution_count": 1
  },
  {
   "cell_type": "code",
   "outputs": [],
   "source": [
    "def neglect_terms(expr, N):\n",
    "    # Function to neglect terms of order N and higher in a polynomial\n",
    "    # Split the expression into numerator and denominator\n",
    "    num, denom = expr.as_numer_denom()\n",
    "    # Process numerator and denominator to remove terms of order N and higher\n",
    "    num_neglected = sum(coeff * term for term, coeff in num.as_coefficients_dict().items() if all(pow < N for var, pow in term.as_powers_dict().items()))\n",
    "    denom_neglected = sum(coeff * term for term, coeff in denom.as_coefficients_dict().items() if all(pow < N for var, pow in term.as_powers_dict().items()))\n",
    "    # Reconstruct the fraction\n",
    "    return num_neglected / denom_neglected\n",
    "\n",
    "def neglect_terms_in_matrix(matrix, N):\n",
    "    # Process each element in the matrix\n",
    "    processed_matrix = matrix.applyfunc(lambda x: neglect_terms(x, N))\n",
    "\n",
    "    return processed_matrix"
   ],
   "metadata": {
    "collapsed": false,
    "ExecuteTime": {
     "end_time": "2024-02-27T13:22:23.434237234Z",
     "start_time": "2024-02-27T13:22:23.431316470Z"
    }
   },
   "id": "342b5839cf818b06",
   "execution_count": 2
  },
  {
   "cell_type": "code",
   "execution_count": 19,
   "id": "initial_id",
   "metadata": {
    "collapsed": true,
    "ExecuteTime": {
     "end_time": "2024-02-27T13:28:31.711343400Z",
     "start_time": "2024-02-27T13:28:31.667925440Z"
    }
   },
   "outputs": [],
   "source": [
    "# Define the symbols\n",
    "alpha= sym.symbols('\\\\alpha', real=True, positive = True, nonzero=True)\n",
    "N=6\n",
    "C_mat = sym.Matrix(N,N, lambda i, j: -alpha if abs(i-j) == 1 else 1 if i==j else 0)\n",
    "I = sym.Matrix(N,N, lambda i, j:  1 if i==j else 0)"
   ]
  },
  {
   "cell_type": "code",
   "outputs": [
    {
     "data": {
      "text/plain": "Matrix([\n[      1, -\\alpha,       0,       0,       0,       0],\n[-\\alpha,       1, -\\alpha,       0,       0,       0],\n[      0, -\\alpha,       1, -\\alpha,       0,       0],\n[      0,       0, -\\alpha,       1, -\\alpha,       0],\n[      0,       0,       0, -\\alpha,       1, -\\alpha],\n[      0,       0,       0,       0, -\\alpha,       1]])",
      "text/latex": "$\\displaystyle \\left[\\begin{matrix}1 & - \\alpha & 0 & 0 & 0 & 0\\\\- \\alpha & 1 & - \\alpha & 0 & 0 & 0\\\\0 & - \\alpha & 1 & - \\alpha & 0 & 0\\\\0 & 0 & - \\alpha & 1 & - \\alpha & 0\\\\0 & 0 & 0 & - \\alpha & 1 & - \\alpha\\\\0 & 0 & 0 & 0 & - \\alpha & 1\\end{matrix}\\right]$"
     },
     "execution_count": 8,
     "metadata": {},
     "output_type": "execute_result"
    }
   ],
   "source": [
    "C_mat"
   ],
   "metadata": {
    "collapsed": false,
    "ExecuteTime": {
     "end_time": "2024-02-27T13:23:56.604833967Z",
     "start_time": "2024-02-27T13:23:56.603854454Z"
    }
   },
   "id": "4697129116e977b",
   "execution_count": 8
  },
  {
   "cell_type": "code",
   "outputs": [
    {
     "data": {
      "text/plain": "Matrix([\n[   (-3*\\alpha**4 + 4*\\alpha**2 - 1)/(\\alpha**6 - 6*\\alpha**4 + 5*\\alpha**2 - 1), (-\\alpha**5 + 3*\\alpha**3 - \\alpha)/(\\alpha**6 - 6*\\alpha**4 + 5*\\alpha**2 - 1),           (2*\\alpha**4 - \\alpha**2)/(\\alpha**6 - 6*\\alpha**4 + 5*\\alpha**2 - 1),             (\\alpha**5 - \\alpha**3)/(\\alpha**6 - 6*\\alpha**4 + 5*\\alpha**2 - 1),                          -\\alpha**4/(\\alpha**6 - 6*\\alpha**4 + 5*\\alpha**2 - 1),                          -\\alpha**5/(\\alpha**6 - 6*\\alpha**4 + 5*\\alpha**2 - 1)],\n[(-\\alpha**5 + 3*\\alpha**3 - \\alpha)/(\\alpha**6 - 6*\\alpha**4 + 5*\\alpha**2 - 1),      (-\\alpha**4 + 3*\\alpha**2 - 1)/(\\alpha**6 - 6*\\alpha**4 + 5*\\alpha**2 - 1),              (2*\\alpha**3 - \\alpha)/(\\alpha**6 - 6*\\alpha**4 + 5*\\alpha**2 - 1),             (\\alpha**4 - \\alpha**2)/(\\alpha**6 - 6*\\alpha**4 + 5*\\alpha**2 - 1),                          -\\alpha**3/(\\alpha**6 - 6*\\alpha**4 + 5*\\alpha**2 - 1),                          -\\alpha**4/(\\alpha**6 - 6*\\alpha**4 + 5*\\alpha**2 - 1)],\n[          (2*\\alpha**4 - \\alpha**2)/(\\alpha**6 - 6*\\alpha**4 + 5*\\alpha**2 - 1),              (2*\\alpha**3 - \\alpha)/(\\alpha**6 - 6*\\alpha**4 + 5*\\alpha**2 - 1),    (-2*\\alpha**4 + 3*\\alpha**2 - 1)/(\\alpha**6 - 6*\\alpha**4 + 5*\\alpha**2 - 1), (-\\alpha**5 + 2*\\alpha**3 - \\alpha)/(\\alpha**6 - 6*\\alpha**4 + 5*\\alpha**2 - 1),             (\\alpha**4 - \\alpha**2)/(\\alpha**6 - 6*\\alpha**4 + 5*\\alpha**2 - 1),             (\\alpha**5 - \\alpha**3)/(\\alpha**6 - 6*\\alpha**4 + 5*\\alpha**2 - 1)],\n[            (\\alpha**5 - \\alpha**3)/(\\alpha**6 - 6*\\alpha**4 + 5*\\alpha**2 - 1),             (\\alpha**4 - \\alpha**2)/(\\alpha**6 - 6*\\alpha**4 + 5*\\alpha**2 - 1), (-\\alpha**5 + 2*\\alpha**3 - \\alpha)/(\\alpha**6 - 6*\\alpha**4 + 5*\\alpha**2 - 1),    (-2*\\alpha**4 + 3*\\alpha**2 - 1)/(\\alpha**6 - 6*\\alpha**4 + 5*\\alpha**2 - 1),              (2*\\alpha**3 - \\alpha)/(\\alpha**6 - 6*\\alpha**4 + 5*\\alpha**2 - 1),           (2*\\alpha**4 - \\alpha**2)/(\\alpha**6 - 6*\\alpha**4 + 5*\\alpha**2 - 1)],\n[                         -\\alpha**4/(\\alpha**6 - 6*\\alpha**4 + 5*\\alpha**2 - 1),                          -\\alpha**3/(\\alpha**6 - 6*\\alpha**4 + 5*\\alpha**2 - 1),             (\\alpha**4 - \\alpha**2)/(\\alpha**6 - 6*\\alpha**4 + 5*\\alpha**2 - 1),              (2*\\alpha**3 - \\alpha)/(\\alpha**6 - 6*\\alpha**4 + 5*\\alpha**2 - 1),      (-\\alpha**4 + 3*\\alpha**2 - 1)/(\\alpha**6 - 6*\\alpha**4 + 5*\\alpha**2 - 1), (-\\alpha**5 + 3*\\alpha**3 - \\alpha)/(\\alpha**6 - 6*\\alpha**4 + 5*\\alpha**2 - 1)],\n[                         -\\alpha**5/(\\alpha**6 - 6*\\alpha**4 + 5*\\alpha**2 - 1),                          -\\alpha**4/(\\alpha**6 - 6*\\alpha**4 + 5*\\alpha**2 - 1),             (\\alpha**5 - \\alpha**3)/(\\alpha**6 - 6*\\alpha**4 + 5*\\alpha**2 - 1),           (2*\\alpha**4 - \\alpha**2)/(\\alpha**6 - 6*\\alpha**4 + 5*\\alpha**2 - 1), (-\\alpha**5 + 3*\\alpha**3 - \\alpha)/(\\alpha**6 - 6*\\alpha**4 + 5*\\alpha**2 - 1),    (-3*\\alpha**4 + 4*\\alpha**2 - 1)/(\\alpha**6 - 6*\\alpha**4 + 5*\\alpha**2 - 1)]])",
      "text/latex": "$\\displaystyle \\left[\\begin{matrix}\\frac{- 3 \\alpha^{4} + 4 \\alpha^{2} - 1}{\\alpha^{6} - 6 \\alpha^{4} + 5 \\alpha^{2} - 1} & \\frac{- \\alpha^{5} + 3 \\alpha^{3} - \\alpha}{\\alpha^{6} - 6 \\alpha^{4} + 5 \\alpha^{2} - 1} & \\frac{2 \\alpha^{4} - \\alpha^{2}}{\\alpha^{6} - 6 \\alpha^{4} + 5 \\alpha^{2} - 1} & \\frac{\\alpha^{5} - \\alpha^{3}}{\\alpha^{6} - 6 \\alpha^{4} + 5 \\alpha^{2} - 1} & - \\frac{\\alpha^{4}}{\\alpha^{6} - 6 \\alpha^{4} + 5 \\alpha^{2} - 1} & - \\frac{\\alpha^{5}}{\\alpha^{6} - 6 \\alpha^{4} + 5 \\alpha^{2} - 1}\\\\\\frac{- \\alpha^{5} + 3 \\alpha^{3} - \\alpha}{\\alpha^{6} - 6 \\alpha^{4} + 5 \\alpha^{2} - 1} & \\frac{- \\alpha^{4} + 3 \\alpha^{2} - 1}{\\alpha^{6} - 6 \\alpha^{4} + 5 \\alpha^{2} - 1} & \\frac{2 \\alpha^{3} - \\alpha}{\\alpha^{6} - 6 \\alpha^{4} + 5 \\alpha^{2} - 1} & \\frac{\\alpha^{4} - \\alpha^{2}}{\\alpha^{6} - 6 \\alpha^{4} + 5 \\alpha^{2} - 1} & - \\frac{\\alpha^{3}}{\\alpha^{6} - 6 \\alpha^{4} + 5 \\alpha^{2} - 1} & - \\frac{\\alpha^{4}}{\\alpha^{6} - 6 \\alpha^{4} + 5 \\alpha^{2} - 1}\\\\\\frac{2 \\alpha^{4} - \\alpha^{2}}{\\alpha^{6} - 6 \\alpha^{4} + 5 \\alpha^{2} - 1} & \\frac{2 \\alpha^{3} - \\alpha}{\\alpha^{6} - 6 \\alpha^{4} + 5 \\alpha^{2} - 1} & \\frac{- 2 \\alpha^{4} + 3 \\alpha^{2} - 1}{\\alpha^{6} - 6 \\alpha^{4} + 5 \\alpha^{2} - 1} & \\frac{- \\alpha^{5} + 2 \\alpha^{3} - \\alpha}{\\alpha^{6} - 6 \\alpha^{4} + 5 \\alpha^{2} - 1} & \\frac{\\alpha^{4} - \\alpha^{2}}{\\alpha^{6} - 6 \\alpha^{4} + 5 \\alpha^{2} - 1} & \\frac{\\alpha^{5} - \\alpha^{3}}{\\alpha^{6} - 6 \\alpha^{4} + 5 \\alpha^{2} - 1}\\\\\\frac{\\alpha^{5} - \\alpha^{3}}{\\alpha^{6} - 6 \\alpha^{4} + 5 \\alpha^{2} - 1} & \\frac{\\alpha^{4} - \\alpha^{2}}{\\alpha^{6} - 6 \\alpha^{4} + 5 \\alpha^{2} - 1} & \\frac{- \\alpha^{5} + 2 \\alpha^{3} - \\alpha}{\\alpha^{6} - 6 \\alpha^{4} + 5 \\alpha^{2} - 1} & \\frac{- 2 \\alpha^{4} + 3 \\alpha^{2} - 1}{\\alpha^{6} - 6 \\alpha^{4} + 5 \\alpha^{2} - 1} & \\frac{2 \\alpha^{3} - \\alpha}{\\alpha^{6} - 6 \\alpha^{4} + 5 \\alpha^{2} - 1} & \\frac{2 \\alpha^{4} - \\alpha^{2}}{\\alpha^{6} - 6 \\alpha^{4} + 5 \\alpha^{2} - 1}\\\\- \\frac{\\alpha^{4}}{\\alpha^{6} - 6 \\alpha^{4} + 5 \\alpha^{2} - 1} & - \\frac{\\alpha^{3}}{\\alpha^{6} - 6 \\alpha^{4} + 5 \\alpha^{2} - 1} & \\frac{\\alpha^{4} - \\alpha^{2}}{\\alpha^{6} - 6 \\alpha^{4} + 5 \\alpha^{2} - 1} & \\frac{2 \\alpha^{3} - \\alpha}{\\alpha^{6} - 6 \\alpha^{4} + 5 \\alpha^{2} - 1} & \\frac{- \\alpha^{4} + 3 \\alpha^{2} - 1}{\\alpha^{6} - 6 \\alpha^{4} + 5 \\alpha^{2} - 1} & \\frac{- \\alpha^{5} + 3 \\alpha^{3} - \\alpha}{\\alpha^{6} - 6 \\alpha^{4} + 5 \\alpha^{2} - 1}\\\\- \\frac{\\alpha^{5}}{\\alpha^{6} - 6 \\alpha^{4} + 5 \\alpha^{2} - 1} & - \\frac{\\alpha^{4}}{\\alpha^{6} - 6 \\alpha^{4} + 5 \\alpha^{2} - 1} & \\frac{\\alpha^{5} - \\alpha^{3}}{\\alpha^{6} - 6 \\alpha^{4} + 5 \\alpha^{2} - 1} & \\frac{2 \\alpha^{4} - \\alpha^{2}}{\\alpha^{6} - 6 \\alpha^{4} + 5 \\alpha^{2} - 1} & \\frac{- \\alpha^{5} + 3 \\alpha^{3} - \\alpha}{\\alpha^{6} - 6 \\alpha^{4} + 5 \\alpha^{2} - 1} & \\frac{- 3 \\alpha^{4} + 4 \\alpha^{2} - 1}{\\alpha^{6} - 6 \\alpha^{4} + 5 \\alpha^{2} - 1}\\end{matrix}\\right]$"
     },
     "execution_count": 10,
     "metadata": {},
     "output_type": "execute_result"
    }
   ],
   "source": [
    "C_inv = C_mat**-1\n",
    "C_inv"
   ],
   "metadata": {
    "collapsed": false,
    "ExecuteTime": {
     "end_time": "2024-02-27T13:24:51.910171834Z",
     "start_time": "2024-02-27T13:24:51.777315560Z"
    }
   },
   "id": "671164a3855794ac",
   "execution_count": 10
  },
  {
   "cell_type": "code",
   "outputs": [
    {
     "data": {
      "text/plain": "Matrix([\n[(4*\\alpha**2 - 1)/(5*\\alpha**2 - 1),           -\\alpha/(5*\\alpha**2 - 1),        -\\alpha**2/(5*\\alpha**2 - 1),                                   0,                                   0,                                   0],\n[          -\\alpha/(5*\\alpha**2 - 1), (3*\\alpha**2 - 1)/(5*\\alpha**2 - 1),           -\\alpha/(5*\\alpha**2 - 1),        -\\alpha**2/(5*\\alpha**2 - 1),                                   0,                                   0],\n[       -\\alpha**2/(5*\\alpha**2 - 1),           -\\alpha/(5*\\alpha**2 - 1), (3*\\alpha**2 - 1)/(5*\\alpha**2 - 1),           -\\alpha/(5*\\alpha**2 - 1),        -\\alpha**2/(5*\\alpha**2 - 1),                                   0],\n[                                  0,        -\\alpha**2/(5*\\alpha**2 - 1),           -\\alpha/(5*\\alpha**2 - 1), (3*\\alpha**2 - 1)/(5*\\alpha**2 - 1),           -\\alpha/(5*\\alpha**2 - 1),        -\\alpha**2/(5*\\alpha**2 - 1)],\n[                                  0,                                   0,        -\\alpha**2/(5*\\alpha**2 - 1),           -\\alpha/(5*\\alpha**2 - 1), (3*\\alpha**2 - 1)/(5*\\alpha**2 - 1),           -\\alpha/(5*\\alpha**2 - 1)],\n[                                  0,                                   0,                                   0,        -\\alpha**2/(5*\\alpha**2 - 1),           -\\alpha/(5*\\alpha**2 - 1), (4*\\alpha**2 - 1)/(5*\\alpha**2 - 1)]])",
      "text/latex": "$\\displaystyle \\left[\\begin{matrix}\\frac{4 \\alpha^{2} - 1}{5 \\alpha^{2} - 1} & - \\frac{\\alpha}{5 \\alpha^{2} - 1} & - \\frac{\\alpha^{2}}{5 \\alpha^{2} - 1} & 0 & 0 & 0\\\\- \\frac{\\alpha}{5 \\alpha^{2} - 1} & \\frac{3 \\alpha^{2} - 1}{5 \\alpha^{2} - 1} & - \\frac{\\alpha}{5 \\alpha^{2} - 1} & - \\frac{\\alpha^{2}}{5 \\alpha^{2} - 1} & 0 & 0\\\\- \\frac{\\alpha^{2}}{5 \\alpha^{2} - 1} & - \\frac{\\alpha}{5 \\alpha^{2} - 1} & \\frac{3 \\alpha^{2} - 1}{5 \\alpha^{2} - 1} & - \\frac{\\alpha}{5 \\alpha^{2} - 1} & - \\frac{\\alpha^{2}}{5 \\alpha^{2} - 1} & 0\\\\0 & - \\frac{\\alpha^{2}}{5 \\alpha^{2} - 1} & - \\frac{\\alpha}{5 \\alpha^{2} - 1} & \\frac{3 \\alpha^{2} - 1}{5 \\alpha^{2} - 1} & - \\frac{\\alpha}{5 \\alpha^{2} - 1} & - \\frac{\\alpha^{2}}{5 \\alpha^{2} - 1}\\\\0 & 0 & - \\frac{\\alpha^{2}}{5 \\alpha^{2} - 1} & - \\frac{\\alpha}{5 \\alpha^{2} - 1} & \\frac{3 \\alpha^{2} - 1}{5 \\alpha^{2} - 1} & - \\frac{\\alpha}{5 \\alpha^{2} - 1}\\\\0 & 0 & 0 & - \\frac{\\alpha^{2}}{5 \\alpha^{2} - 1} & - \\frac{\\alpha}{5 \\alpha^{2} - 1} & \\frac{4 \\alpha^{2} - 1}{5 \\alpha^{2} - 1}\\end{matrix}\\right]$"
     },
     "execution_count": 40,
     "metadata": {},
     "output_type": "execute_result"
    }
   ],
   "source": [
    "C_inv_neglect = neglect_terms_in_matrix(C_inv,3)\n",
    "C_inv_neglect"
   ],
   "metadata": {
    "collapsed": false,
    "ExecuteTime": {
     "end_time": "2024-02-27T13:32:24.438107164Z",
     "start_time": "2024-02-27T13:32:24.395048853Z"
    }
   },
   "id": "a6fe17ffdc3fcca3",
   "execution_count": 40
  },
  {
   "cell_type": "code",
   "outputs": [],
   "source": [
    "C_inv_approx = sum( [(I-C_mat)**n for n in range(3)],  sym.zeros(N))"
   ],
   "metadata": {
    "collapsed": false,
    "ExecuteTime": {
     "end_time": "2024-02-27T13:31:29.558584159Z",
     "start_time": "2024-02-27T13:31:29.556240829Z"
    }
   },
   "id": "dea794e4dc50665c",
   "execution_count": 37
  },
  {
   "cell_type": "code",
   "outputs": [
    {
     "data": {
      "text/plain": "Matrix([\n[\\alpha**2 + 1,          \\alpha,       \\alpha**2,               0,               0,             0],\n[       \\alpha, 2*\\alpha**2 + 1,          \\alpha,       \\alpha**2,               0,             0],\n[    \\alpha**2,          \\alpha, 2*\\alpha**2 + 1,          \\alpha,       \\alpha**2,             0],\n[            0,       \\alpha**2,          \\alpha, 2*\\alpha**2 + 1,          \\alpha,     \\alpha**2],\n[            0,               0,       \\alpha**2,          \\alpha, 2*\\alpha**2 + 1,        \\alpha],\n[            0,               0,               0,       \\alpha**2,          \\alpha, \\alpha**2 + 1]])",
      "text/latex": "$\\displaystyle \\left[\\begin{matrix}\\alpha^{2} + 1 & \\alpha & \\alpha^{2} & 0 & 0 & 0\\\\\\alpha & 2 \\alpha^{2} + 1 & \\alpha & \\alpha^{2} & 0 & 0\\\\\\alpha^{2} & \\alpha & 2 \\alpha^{2} + 1 & \\alpha & \\alpha^{2} & 0\\\\0 & \\alpha^{2} & \\alpha & 2 \\alpha^{2} + 1 & \\alpha & \\alpha^{2}\\\\0 & 0 & \\alpha^{2} & \\alpha & 2 \\alpha^{2} + 1 & \\alpha\\\\0 & 0 & 0 & \\alpha^{2} & \\alpha & \\alpha^{2} + 1\\end{matrix}\\right]$"
     },
     "execution_count": 38,
     "metadata": {},
     "output_type": "execute_result"
    }
   ],
   "source": [
    "C_inv_approx"
   ],
   "metadata": {
    "collapsed": false,
    "ExecuteTime": {
     "end_time": "2024-02-27T13:31:29.882560725Z",
     "start_time": "2024-02-27T13:31:29.879958313Z"
    }
   },
   "id": "6d664e02e3dc3de9",
   "execution_count": 38
  }
 ],
 "metadata": {
  "kernelspec": {
   "display_name": "Python 3",
   "language": "python",
   "name": "python3"
  },
  "language_info": {
   "codemirror_mode": {
    "name": "ipython",
    "version": 2
   },
   "file_extension": ".py",
   "mimetype": "text/x-python",
   "name": "python",
   "nbconvert_exporter": "python",
   "pygments_lexer": "ipython2",
   "version": "2.7.6"
  }
 },
 "nbformat": 4,
 "nbformat_minor": 5
}
