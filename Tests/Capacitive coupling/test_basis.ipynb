{
 "cells": [
  {
   "cell_type": "code",
   "outputs": [],
   "source": [
    "import Modules.SQcircuit_extensions as sq_ext\n",
    "import Modules.figures as figs\n",
    "import SQcircuit as sq\n",
    "import numpy as np\n",
    "import matplotlib.pyplot as plt\n",
    "import importlib\n",
    "from scipy.linalg import eigh\n",
    "import qutip as qt\n",
    "import sympy as sym\n",
    "from joblib import Parallel, delayed, cpu_count\n",
    "\n",
    "%matplotlib ipympl\n",
    "# plt.rcParams.update({\n",
    "#     \"text.usetex\": True,\n",
    "#     \"font.family\": \"serif\",\n",
    "#     \"font.serif\": [\"Palatino\"],\n",
    "# })\n",
    "plt.rcParams['text.usetex'] = False\n",
    "importlib.reload(sq_ext)\n",
    "importlib.reload(sq)\n",
    "importlib.reload(figs)\n",
    "np.set_printoptions(linewidth=300, formatter={'float': '{:.12f}'.format})"
   ],
   "metadata": {
    "collapsed": false
   },
   "id": "341642e44cab1c34",
   "execution_count": 4
  },
  {
   "cell_type": "code",
   "outputs": [],
   "source": [
    "fF  = 1e-15\n",
    "nH  = 1e-9\n",
    "GHz = 1e9"
   ],
   "metadata": {
    "collapsed": false
   },
   "id": "e7a2dd541f8ea1ef",
   "execution_count": 5
  },
  {
   "cell_type": "code",
   "outputs": [],
   "source": [
    "n_eig = 6\n",
    "nmax_r = 10\n",
    "nmax_f = 15\n",
    "\n",
    "only_inner = True\n",
    "compensate_extra_cap = False"
   ],
   "metadata": {
    "collapsed": false
   },
   "id": "151bb76c3e9461ce",
   "execution_count": 10
  },
  {
   "cell_type": "code",
   "outputs": [],
   "source": [
    "CR_1, CF_1, LF_1, LR_1, EJ_1, Δ_1, ω_r_1 = sq_ext.get_experimental_parameters('qubit_1')\n",
    "CR_2, CF_2, LF_2, LR_2, EJ_2, Δ_2, ω_r_2 = sq_ext.get_experimental_parameters('qubit_2')\n",
    "CR_3, CF_3, LF_3, LR_3, EJ_3, Δ_3, ω_r_3 = sq_ext.get_experimental_parameters('qubit_3')"
   ],
   "metadata": {
    "collapsed": false
   },
   "id": "12daef23d84f692e",
   "execution_count": 11
  },
  {
   "cell_type": "code",
   "outputs": [],
   "source": [
    "C_mat = sq_ext.C_mat_qubit_C_qubit(CC, CR_1, CF_1, CR_2, CF_2, only_inner=only_inner, compensate_extra_cap=compensate_extra_cap)\n",
    "C_inv = np.linalg.inv(C_mat)\n",
    "CF_1_tilde, CR_1_tilde, CF_2_tilde, CR_2_tilde = np.diag(C_inv) ** -1\n",
    "\n",
    "F1 = sq_ext.sq_fluxonium(C_F_eff=CF_1_tilde, L_F_eff=LF_1, Δ=Δ_1, EJ=EJ_1, nmax_f=nmax_f)\n",
    "R1 = sq_ext.sq_resonator(C_R_eff=CR_1_tilde, L_R_eff=LR_1, Δ=Δ_1, EJ=EJ_1, nmax_r=nmax_r)\n",
    "F2 = sq_ext.sq_fluxonium(C_F_eff=CF_2_tilde, L_F_eff=LF_2, Δ=Δ_2, EJ=EJ_2, nmax_f=nmax_f)\n",
    "R2 = sq_ext.sq_resonator(C_R_eff=CR_2_tilde, L_R_eff=LR_2, Δ=Δ_2, EJ=EJ_2, nmax_r=nmax_r)\n",
    "\n",
    "H_F1 = F1.hamiltonian()\n",
    "H_R1 = R1.hamiltonian()\n",
    "    \n",
    "# Move the coupler to the resonance point\n",
    "φ_ext_resonance = sq_ext.find_resonance(H_F1, F2)\n",
    "loop = F2.loops[0]\n",
    "loop.set_flux(φ_ext_resonance)\n",
    "\n",
    "H_F2 = F2.hamiltonian()\n",
    "H_R2 = R2.hamiltonian()\n",
    "\n",
    "I_F  = qt.identity(H_F1.dims[0])\n",
    "I_R  = qt.identity(H_R1.dims[0])\n",
    "\n",
    "Q_F1 = F1.charge_op(0)\n",
    "Q_R1 = R1.charge_op(0)\n",
    "Q_F2 = F2.charge_op(0)\n",
    "Q_R2 = R2.charge_op(0)\n",
    "\n",
    "H0_FF = qt.tensor(H_F1,I_F) + qt.tensor(I_F,H_F2)   \n",
    "H0_FR = qt.tensor(H_F1,I_R) + qt.tensor(I_F,H_R2)\n",
    "H0_RR = qt.tensor(H_R1,I_R) + qt.tensor(I_R,H_R2)\n",
    "\n",
    "H_FF = H0_FF + C_inv[0,2] * fF**-1 * qt.tensor(Q_F1,Q_F2)   \n",
    "H_FR = H0_FR + C_inv[0,3] * fF**-1 * qt.tensor(Q_F1,Q_R2)   \n",
    "H_RR = H0_RR + C_inv[1,3] * fF**-1 * qt.tensor(Q_R1,Q_R2)"
   ],
   "metadata": {
    "collapsed": false
   },
   "id": "e18c05b224dfc98c"
  },
  {
   "cell_type": "markdown",
   "source": [
    "# Creating the basis as tensor product of individual hamiltonians"
   ],
   "metadata": {
    "collapsed": false
   },
   "id": "71b3f318481e0769"
  },
  {
   "cell_type": "code",
   "outputs": [],
   "source": [
    "ψ_0         = qt.Qobj(sq_ext.diag(H1, n_eig=2,solver='numpy')[1][:,0])\n",
    "ψ_1         = qt.Qobj(sq_ext.diag(H1, n_eig=2,solver='numpy')[1][:,1])\n",
    "ψ_0_prime   = qt.Qobj(sq_ext.diag(H2, n_eig=2,solver='numpy')[1][:,0])\n",
    "ψ_1_prime   = qt.Qobj(sq_ext.diag(H2, n_eig=2,solver='numpy')[1][:,1])\n",
    "\n",
    "ψ_0 = [qt.tensor(ψ_0, ψ_0_prime), qt.tensor(ψ_1,ψ_0_prime), qt.tensor(ψ_0,ψ_1_prime), qt.tensor(ψ_1,ψ_1_prime)]\n",
    "\n",
    "H_eff_p1  = sq_ext.H_eff_p1 (H_0=None, H=H, n_eig=len(ψ_0), real=True, remove_ground=True, ψ_0=ψ_0)\n",
    "H_eff_p2  = sq_ext.H_eff_p2 (H_0=H_0 , H=H, n_eig=len(ψ_0), real=True, remove_ground=True, ψ_0=ψ_0)\n",
    "H_eff_SWT = sq_ext.H_eff_SWT(H_0=None, H=H, n_eig=len(ψ_0), real=True, remove_ground=True, ψ_0=ψ_0)\n",
    "\n",
    "p1 [i,:] = sq_ext.decomposition_in_pauli_4x4(H_eff_p1,  print_pretty=False)\n",
    "p2 [i,:] = sq_ext.decomposition_in_pauli_4x4(H_eff_p2,  print_pretty=False)\n",
    "SWT[i,:] = sq_ext.decomposition_in_pauli_4x4(H_eff_SWT, print_pretty=False)"
   ],
   "metadata": {
    "collapsed": false
   },
   "id": "7ab44541fd8c44eb"
  }
 ],
 "metadata": {
  "kernelspec": {
   "display_name": "Python 3",
   "language": "python",
   "name": "python3"
  },
  "language_info": {
   "codemirror_mode": {
    "name": "ipython",
    "version": 2
   },
   "file_extension": ".py",
   "mimetype": "text/x-python",
   "name": "python",
   "nbconvert_exporter": "python",
   "pygments_lexer": "ipython2",
   "version": "2.7.6"
  }
 },
 "nbformat": 4,
 "nbformat_minor": 5
}
