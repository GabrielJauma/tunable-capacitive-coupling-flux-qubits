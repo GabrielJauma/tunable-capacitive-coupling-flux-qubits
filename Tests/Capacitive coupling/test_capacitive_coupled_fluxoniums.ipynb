{
 "cells": [
  {
   "cell_type": "code",
   "metadata": {
    "ExecuteTime": {
     "end_time": "2024-05-14T14:40:25.866988Z",
     "start_time": "2024-05-14T14:40:25.862684Z"
    }
   },
   "source": [
    "import Modules.SQcircuit_extensions as sq_ext\n",
    "import Modules.figures as figs\n",
    "import SQcircuit as sq\n",
    "import numpy as np\n",
    "import matplotlib.pyplot as plt\n",
    "import importlib\n",
    "import qutip as qt\n",
    "import scipy as sp\n",
    "%matplotlib ipympl\n",
    "\n",
    "plt.rcParams['text.usetex'] = False\n",
    "importlib.reload(sq_ext)\n",
    "importlib.reload(sq)\n",
    "importlib.reload(figs)\n",
    "np.set_printoptions(linewidth=200, formatter={'float': '{:.6f}'.format})\n",
    "# np.set_printoptions(linewidth=200, formatter={'float': '{:.3e}'.format})"
   ],
   "outputs": [],
   "execution_count": 4
  },
  {
   "cell_type": "code",
   "metadata": {
    "ExecuteTime": {
     "end_time": "2024-05-14T14:40:26.031093Z",
     "start_time": "2024-05-14T14:40:26.029268Z"
    }
   },
   "source": [
    "GHz = 1e9\n",
    "fF = 1e-15\n",
    "nH = 1e-9"
   ],
   "outputs": [],
   "execution_count": 5
  },
  {
   "metadata": {
    "ExecuteTime": {
     "end_time": "2024-05-14T14:40:26.367693Z",
     "start_time": "2024-05-14T14:40:26.363870Z"
    }
   },
   "cell_type": "code",
   "source": [
    "def coupled_fluxoniums(L1, C1, EJ1, L2, C2, EJ2, CC):\n",
    "    loop1 = sq.Loop(0.5)\n",
    "    loop2 = sq.Loop(0.5)\n",
    "    \n",
    "    C_01 = sq.Capacitor(C1, 'fF')\n",
    "    L_01 = sq.Inductor (L1, 'nH', loops=[loop1])\n",
    "    EJ_01  = sq.Junction(EJ1, 'GHz', loops=[loop1])\n",
    "    \n",
    "    C_02 = sq.Capacitor(C2, 'fF')\n",
    "    L_02 = sq.Inductor (L2, 'nH', loops=[loop2])\n",
    "    EJ_02  = sq.Junction(EJ2, 'GHz', loops=[loop2])\n",
    "    \n",
    "    C_12 = sq.Capacitor(CC, 'fF')\n",
    "    \n",
    "    elements = {(0, 1): [L_01, C_01, EJ_01],\n",
    "                (0, 2): [L_02, C_02, EJ_02],\n",
    "                (1, 2): [C_12], }\n",
    "    return sq.Circuit(elements)\n",
    "\n",
    "def fluxonium(L, C, EJ):\n",
    "    loop = sq.Loop(0.5)\n",
    "    C_01   = sq.Capacitor(C, 'fF')\n",
    "    L_01   = sq.Inductor (L, 'nH', loops=[loop])\n",
    "    EJ_01  = sq.Junction(EJ, 'GHz', loops=[loop])\n",
    "    elements = {(0, 1): [L_01, C_01, EJ_01]}\n",
    "\n",
    "    return sq.Circuit(elements)\n"
   ],
   "outputs": [],
   "execution_count": 6
  },
  {
   "cell_type": "code",
   "metadata": {
    "ExecuteTime": {
     "end_time": "2024-05-14T14:40:26.989050Z",
     "start_time": "2024-05-14T14:40:26.987316Z"
    }
   },
   "source": [
    "n_eig = 5\n",
    "trunc_num = 25"
   ],
   "outputs": [],
   "execution_count": 7
  },
  {
   "metadata": {
    "ExecuteTime": {
     "end_time": "2024-05-14T14:40:27.546682Z",
     "start_time": "2024-05-14T14:40:27.544768Z"
    }
   },
   "cell_type": "code",
   "source": [
    "L1  = 3\n",
    "C1  = 3\n",
    "EJ1 = 5\n",
    "L2  = 1\n",
    "C2  = 5\n",
    "EJ2 = 5\n",
    "\n",
    "CC = 2"
   ],
   "outputs": [],
   "execution_count": 8
  },
  {
   "metadata": {
    "ExecuteTime": {
     "end_time": "2024-05-14T14:41:02.510355Z",
     "start_time": "2024-05-14T14:41:02.457571Z"
    }
   },
   "cell_type": "code",
   "source": [
    "coupled_res_full = coupled_fluxoniums(L1=L1, C1=C1, EJ1=EJ1, L2=L2, C2=C2, EJ2=EJ2, CC=CC)\n",
    "coupled_res_full .set_trunc_nums([trunc_num, trunc_num])\n",
    "H_coupled_res_full = coupled_res_full.hamiltonian()"
   ],
   "outputs": [],
   "execution_count": 12
  },
  {
   "metadata": {
    "ExecuteTime": {
     "end_time": "2024-05-14T14:41:02.657121Z",
     "start_time": "2024-05-14T14:41:02.655167Z"
    }
   },
   "cell_type": "code",
   "source": [
    "C_mat = np.array([[C1 + CC, -CC],\n",
    "                  [-CC, C2 + CC]])\n",
    "C_inv = np.linalg.inv(C_mat)\n",
    "C1_tilde = C_inv[0,0]**-1\n",
    "C2_tilde = C_inv[1,1]**-1"
   ],
   "outputs": [],
   "execution_count": 13
  },
  {
   "metadata": {
    "ExecuteTime": {
     "end_time": "2024-05-14T14:41:11.207949Z",
     "start_time": "2024-05-14T14:41:11.199166Z"
    }
   },
   "cell_type": "code",
   "source": [
    "fluxonium_1 = fluxonium(L=L1, C=C1_tilde, EJ=EJ1)\n",
    "fluxonium_2 = fluxonium(L=L2, C=C2_tilde, EJ=EJ2)\n",
    "fluxonium_1.set_trunc_nums([trunc_num])\n",
    "fluxonium_2.set_trunc_nums([trunc_num])"
   ],
   "outputs": [],
   "execution_count": 15
  },
  {
   "cell_type": "code",
   "metadata": {
    "ExecuteTime": {
     "end_time": "2024-05-14T14:41:18.682346Z",
     "start_time": "2024-05-14T14:41:18.676718Z"
    }
   },
   "source": [
    "Q_1 = fluxonium_1.charge_op(0)\n",
    "Q_2 = fluxonium_2.charge_op(0)\n",
    "Φ_1 = fluxonium_1.flux_op(0)\n",
    "Φ_2 = fluxonium_2.flux_op(0)\n",
    "\n",
    "H_1 = fluxonium_1.hamiltonian()\n",
    "# H_1 = 1/2 * C1_tilde**-1 * fF**-1 * Q_1**2 + 1/2 * L1**-1 * nH**-1 * Φ_1**2 \n",
    "H_2 = fluxonium_2.hamiltonian()\n",
    "# H_2 = 1/2 * C2_tilde**-1 * fF**-1 * Q_2**2 + 1/2 * L2**-1 * nH**-1 * Φ_2**2 \n",
    "\n",
    "I = qt.identity(H_1.shape[0])\n",
    "H_coupled_res_comp = qt.tensor(H_1,I) + qt.tensor(I,H_2) + C_inv[0,1]* fF**-1 * qt.tensor(Q_1,Q_2)"
   ],
   "outputs": [],
   "execution_count": 17
  },
  {
   "cell_type": "code",
   "metadata": {
    "ExecuteTime": {
     "end_time": "2024-05-14T14:41:19.530278Z",
     "start_time": "2024-05-14T14:41:19.485949Z"
    }
   },
   "source": [
    "E_coupled_res_comp = sq_ext.diag(H_coupled_res_comp, n_eig, remove_ground=True)[0]\n",
    "E_coupled_res_full = sq_ext.diag(H_coupled_res_full, n_eig, remove_ground=True)[0]"
   ],
   "outputs": [],
   "execution_count": 18
  },
  {
   "metadata": {
    "ExecuteTime": {
     "end_time": "2024-05-14T14:41:19.744769Z",
     "start_time": "2024-05-14T14:41:19.742511Z"
    }
   },
   "cell_type": "code",
   "source": "E_coupled_res_comp, E_coupled_res_full",
   "outputs": [
    {
     "data": {
      "text/plain": [
       "(array([0.000000, 38.035963, 65.492617, 76.297202, 103.637949]),\n",
       " array([0.000000, 38.035963, 65.492617, 76.297202, 103.637949]))"
      ]
     },
     "execution_count": 19,
     "metadata": {},
     "output_type": "execute_result"
    }
   ],
   "execution_count": 19
  },
  {
   "metadata": {},
   "cell_type": "code",
   "outputs": [],
   "execution_count": null,
   "source": ""
  }
 ],
 "metadata": {
  "kernelspec": {
   "display_name": "Python 3 (ipykernel)",
   "language": "python",
   "name": "python3"
  },
  "language_info": {
   "codemirror_mode": {
    "name": "ipython",
    "version": 3
   },
   "file_extension": ".py",
   "mimetype": "text/x-python",
   "name": "python",
   "nbconvert_exporter": "python",
   "pygments_lexer": "ipython3",
   "version": "3.8.17"
  }
 },
 "nbformat": 4,
 "nbformat_minor": 1
}
