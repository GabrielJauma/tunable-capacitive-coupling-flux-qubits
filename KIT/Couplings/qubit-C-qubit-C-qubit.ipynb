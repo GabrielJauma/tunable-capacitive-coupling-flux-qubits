{
 "cells": [
  {
   "cell_type": "code",
   "execution_count": 59,
   "outputs": [
    {
     "data": {
      "text/plain": "<module 'Modules.SQcircuit_extensions' from 'C:\\\\Users\\\\gabri\\\\PycharmProjects\\\\tunable-capacitive-coupling-flux-qubits\\\\Modules\\\\SQcircuit_extensions.py'>"
     },
     "execution_count": 59,
     "metadata": {},
     "output_type": "execute_result"
    }
   ],
   "source": [
    "import Modules.SQcircuit_extensions as sq_ext\n",
    "import SQcircuit as sq\n",
    "import numpy as np\n",
    "import matplotlib.pyplot as plt\n",
    "%matplotlib ipympl\n",
    "import importlib\n",
    "import qutip as qt\n",
    "importlib.reload(sq_ext)"
   ],
   "metadata": {
    "collapsed": false,
    "ExecuteTime": {
     "end_time": "2024-02-08T10:09:59.502787Z",
     "start_time": "2024-02-08T10:09:59.496510400Z"
    }
   }
  },
  {
   "cell_type": "markdown",
   "source": [
    "## Define the circuit"
   ],
   "metadata": {
    "collapsed": false
   }
  },
  {
   "cell_type": "code",
   "execution_count": 60,
   "outputs": [],
   "source": [
    "# Circuit parameters\n",
    "Csh = 15\n",
    "C   = 15\n",
    "CJ  = 3\n",
    "Lq  = 25\n",
    "Lr  = 10\n",
    "Δ   = 0.1\n",
    "EJ  = 10.0"
   ],
   "metadata": {
    "collapsed": false,
    "ExecuteTime": {
     "end_time": "2024-02-08T10:09:59.781886800Z",
     "start_time": "2024-02-08T10:09:59.768900900Z"
    }
   }
  },
  {
   "cell_type": "code",
   "outputs": [],
   "source": [
    "Cc = 1e-1"
   ],
   "metadata": {
    "collapsed": false,
    "ExecuteTime": {
     "end_time": "2024-02-08T10:14:28.021064600Z",
     "start_time": "2024-02-08T10:14:28.007528700Z"
    }
   },
   "execution_count": 85
  },
  {
   "cell_type": "code",
   "outputs": [],
   "source": [
    "nmax_r = 3\n",
    "nmax_f = 8"
   ],
   "metadata": {
    "collapsed": false,
    "ExecuteTime": {
     "end_time": "2024-02-08T10:16:17.221690900Z",
     "start_time": "2024-02-08T10:16:17.216365700Z"
    }
   },
   "execution_count": 100
  },
  {
   "cell_type": "code",
   "outputs": [
    {
     "data": {
      "text/plain": "<IPython.core.display.Latex object>",
      "text/latex": "$\\hat{H} =~\\omega_1\\hat a^\\dagger_1\\hat a_1~+~\\omega_2\\hat a^\\dagger_2\\hat a_2~+~\\omega_3\\hat a^\\dagger_3\\hat a_3~+~\\omega_4\\hat a^\\dagger_4\\hat a_4~+~\\omega_5\\hat a^\\dagger_5\\hat a_5~+~\\omega_6\\hat a^\\dagger_6\\hat a_6~~-~E_{J_{1}}\\cos(-\\hat{\\varphi}_1+0.610032\\hat{\\varphi}_2-0.863318\\hat{\\varphi}_3+\\hat{\\varphi}_4-0.190715\\hat{\\varphi}_5-\\hat{\\varphi}_6+\\varphi_{\\text{ext}_{1}})~-~E_{J_{2}}\\cos(-\\hat{\\varphi}_1+0.389968\\hat{\\varphi}_2+\\hat{\\varphi}_3-0.341887\\hat{\\varphi}_4+\\hat{\\varphi}_5-\\hat{\\varphi}_6+\\varphi_{\\text{ext}_{2}})~-~E_{J_{3}}\\cos(-\\hat{\\varphi}_1-\\hat{\\varphi}_2-0.136682\\hat{\\varphi}_3-0.658113\\hat{\\varphi}_4-0.809285\\hat{\\varphi}_5-\\hat{\\varphi}_6+\\varphi_{\\text{ext}_{3}})$"
     },
     "metadata": {},
     "output_type": "display_data"
    },
    {
     "data": {
      "text/plain": "<IPython.core.display.Latex object>",
      "text/latex": "$------------------------------------------------------------$"
     },
     "metadata": {},
     "output_type": "display_data"
    },
    {
     "data": {
      "text/plain": "<IPython.core.display.Latex object>",
      "text/latex": "$\\text{mode}~1:~~~~~~~~~~~\\text{harmonic}~~~~~~~~~~~\\hat{\\varphi}_1~=~\\varphi_{zp_{1}}(\\hat a_1+\\hat a^\\dagger_1)~~~~~~~~~~~\\omega_1/2\\pi~=~7.20867~~~~~~~~~~~\\varphi_{zp_{1}}~=~6.79e-03$"
     },
     "metadata": {},
     "output_type": "display_data"
    },
    {
     "data": {
      "text/plain": "<IPython.core.display.Latex object>",
      "text/latex": "$\\text{mode}~2:~~~~~~~~~~~\\text{harmonic}~~~~~~~~~~~\\hat{\\varphi}_2~=~\\varphi_{zp_{2}}(\\hat a_2+\\hat a^\\dagger_2)~~~~~~~~~~~\\omega_2/2\\pi~=~7.17306~~~~~~~~~~~\\varphi_{zp_{2}}~=~1.23e-02$"
     },
     "metadata": {},
     "output_type": "display_data"
    },
    {
     "data": {
      "text/plain": "<IPython.core.display.Latex object>",
      "text/latex": "$\\text{mode}~3:~~~~~~~~~~~\\text{harmonic}~~~~~~~~~~~\\hat{\\varphi}_3~=~\\varphi_{zp_{3}}(\\hat a_3+\\hat a^\\dagger_3)~~~~~~~~~~~\\omega_3/2\\pi~=~7.17306~~~~~~~~~~~\\varphi_{zp_{3}}~=~1.15e-02$"
     },
     "metadata": {},
     "output_type": "display_data"
    },
    {
     "data": {
      "text/plain": "<IPython.core.display.Latex object>",
      "text/latex": "$\\text{mode}~4:~~~~~~~~~~~\\text{harmonic}~~~~~~~~~~~\\hat{\\varphi}_4~=~\\varphi_{zp_{4}}(\\hat a_4+\\hat a^\\dagger_4)~~~~~~~~~~~\\omega_4/2\\pi~=~6.30002~~~~~~~~~~~\\varphi_{zp_{4}}~=~5.57e-01$"
     },
     "metadata": {},
     "output_type": "display_data"
    },
    {
     "data": {
      "text/plain": "<IPython.core.display.Latex object>",
      "text/latex": "$\\text{mode}~5:~~~~~~~~~~~\\text{harmonic}~~~~~~~~~~~\\hat{\\varphi}_5~=~\\varphi_{zp_{5}}(\\hat a_5+\\hat a^\\dagger_5)~~~~~~~~~~~\\omega_5/2\\pi~=~6.30002~~~~~~~~~~~\\varphi_{zp_{5}}~=~5.34e-01$"
     },
     "metadata": {},
     "output_type": "display_data"
    },
    {
     "data": {
      "text/plain": "<IPython.core.display.Latex object>",
      "text/latex": "$\\text{mode}~6:~~~~~~~~~~~\\text{harmonic}~~~~~~~~~~~\\hat{\\varphi}_6~=~\\varphi_{zp_{6}}(\\hat a_6+\\hat a^\\dagger_6)~~~~~~~~~~~\\omega_6/2\\pi~=~6.2909~~~~~~~~~~~\\varphi_{zp_{6}}~=~4.00e-01$"
     },
     "metadata": {},
     "output_type": "display_data"
    },
    {
     "data": {
      "text/plain": "<IPython.core.display.Latex object>",
      "text/latex": "$------------------------------------------------------------$"
     },
     "metadata": {},
     "output_type": "display_data"
    },
    {
     "data": {
      "text/plain": "<IPython.core.display.Latex object>",
      "text/latex": "$\\text{parameters}:~~~~~~~~~~~E_{J_{1}}~=~10.0~~~~~~~~~~~E_{J_{2}}~=~10.0~~~~~~~~~~~E_{J_{3}}~=~10.0~~~~~~~~~~~$"
     },
     "metadata": {},
     "output_type": "display_data"
    },
    {
     "data": {
      "text/plain": "<IPython.core.display.Latex object>",
      "text/latex": "$\\text{loops}:~~~~~~~~~~~~~~~~~~~~\\varphi_{\\text{ext}_{1}}/2\\pi~=~0.5~~~~~~~~~~~\\varphi_{\\text{ext}_{2}}/2\\pi~=~0.5~~~~~~~~~~~\\varphi_{\\text{ext}_{3}}/2\\pi~=~0.5~~~~~~~~~~~$"
     },
     "metadata": {},
     "output_type": "display_data"
    }
   ],
   "source": [
    "# Initialize loop(s)\n",
    "loop1 = sq.Loop(0.5)  # \"Value\" corresponds to phiExt / phi0 threading the loop (can change later)\n",
    "loop2 = sq.Loop(0.5)\n",
    "loop3 = sq.Loop(0.5)\n",
    "\n",
    "# Circuit elements\n",
    "# Elements for the three qubits decoupled\n",
    "C_01, C_02, C_12, L_03, L_31, L_23, JJ = [[] for _ in range(7)]\n",
    "for loop in [loop1, loop2, loop3]:\n",
    "    C_01.append(sq.Capacitor(C,       'fF'))\n",
    "    C_02.append(sq.Capacitor(C,       'fF'))\n",
    "    C_12.append(sq.Capacitor(CJ+Csh,  'fF'))\n",
    "    L_03.append(sq.Inductor(Lr,       'nH'))\n",
    "    L_31.append(sq.Inductor(Lq/2 - Δ, 'nH', loops=[loop]))\n",
    "    L_23.append(sq.Inductor(Lq/2 + Δ, 'nH', loops=[loop]))\n",
    "    JJ  .append(sq.Junction(EJ,      'GHz', loops=[loop]))\n",
    "# Capacitors for coupling\n",
    "C_coupling = sq.Capacitor(Cc, 'fF')\n",
    "\n",
    "# Create the circuit\n",
    "elements = {\n",
    "    # qubit 1, nodes [0, 1, 2, 3]\n",
    "    (0, 3): [L_03[0]],\n",
    "    (0, 1): [C_01[0]],\n",
    "    (0, 2): [C_02[0]],\n",
    "    (3, 1): [L_31[0]],\n",
    "    (1, 2): [C_12[0], JJ[0]],\n",
    "    (2, 3): [L_23[0]],\n",
    "    # qubit 2, nodes [0, 4, 5, 6]\n",
    "    (0, 6): [L_03[1]],\n",
    "    (0, 4): [C_01[1]],\n",
    "    (0, 5): [C_02[1]],\n",
    "    (6, 4): [L_31[1]],\n",
    "    (4, 5): [C_12[1], JJ[1]],\n",
    "    (5, 6): [L_23[1]],\n",
    "    # qubit 3, nodes [0,7, 8, 9]\n",
    "    (0, 9): [L_03[2]],\n",
    "    (0, 7): [C_01[2]],\n",
    "    (0, 8): [C_02[2]],\n",
    "    (9, 7): [L_31[2]],\n",
    "    (7, 8): [C_12[2], JJ[2]],\n",
    "    (8, 9): [L_23[2]],\n",
    "    # capacitive coupling\n",
    "    (2, 4): [C_coupling],\n",
    "    (5, 7): [C_coupling],\n",
    "    (8, 1): [C_coupling],\n",
    "}\n",
    "\n",
    "qubit_qubit_qubit = sq.Circuit(elements)\n",
    "qubit_qubit_qubit.description()"
   ],
   "metadata": {
    "collapsed": false,
    "ExecuteTime": {
     "end_time": "2024-02-08T10:16:18.219229500Z",
     "start_time": "2024-02-08T10:16:17.969306900Z"
    }
   },
   "execution_count": 101
  },
  {
   "cell_type": "code",
   "outputs": [],
   "source": [
    "qubit_qubit_qubit.set_trunc_nums([nmax_r, nmax_r, nmax_r, nmax_f, nmax_f, nmax_f])\n",
    "qubit_qubit_qubit.diag(4);"
   ],
   "metadata": {
    "collapsed": false,
    "ExecuteTime": {
     "end_time": "2024-02-08T10:20:42.025797900Z",
     "start_time": "2024-02-08T10:16:19.034946500Z"
    }
   },
   "execution_count": 102
  },
  {
   "cell_type": "code",
   "outputs": [
    {
     "data": {
      "text/plain": "array([0.        , 1.93861593, 1.94430658, 1.9664159 ])"
     },
     "execution_count": 103,
     "metadata": {},
     "output_type": "execute_result"
    }
   ],
   "source": [
    "qubit_qubit_qubit.efreqs-qubit_qubit_qubit.efreqs[0]"
   ],
   "metadata": {
    "collapsed": false,
    "ExecuteTime": {
     "end_time": "2024-02-08T10:20:42.185343300Z",
     "start_time": "2024-02-08T10:20:42.014777300Z"
    }
   },
   "execution_count": 103
  },
  {
   "cell_type": "code",
   "outputs": [
    {
     "data": {
      "text/plain": "array([[1.325e-01, 0.000e+00, 9.000e-04, 0.000e+00, 9.000e-04, 0.000e+00],\n       [0.000e+00, 3.910e-02, 0.000e+00, 1.000e-04, 0.000e+00, 1.000e-04],\n       [9.000e-04, 0.000e+00, 1.325e-01, 0.000e+00, 9.000e-04, 0.000e+00],\n       [0.000e+00, 1.000e-04, 0.000e+00, 3.910e-02, 0.000e+00, 1.000e-04],\n       [9.000e-04, 0.000e+00, 9.000e-04, 0.000e+00, 1.325e-01, 0.000e+00],\n       [0.000e+00, 1.000e-04, 0.000e+00, 1.000e-04, 0.000e+00, 3.910e-02]])"
     },
     "execution_count": 104,
     "metadata": {},
     "output_type": "execute_result"
    }
   ],
   "source": [
    "C_R = C/2\n",
    "C_C = Cc\n",
    "C_F = C/2 + Csh + CJ\n",
    "C_mat = np.array([[C_R + C_C/2  , 0             , -C_C / 2      ,        0      ,-C_C / 2       , 0             ],\n",
    "                  [0            , C_F + C_C/2   ,       0       , -C_C / 2      , 0             , -C_C / 2      ],\n",
    "                  [-C_C / 2     ,        0      , C_R + C_C/2   , 0             ,-C_C / 2       , 0             ],\n",
    "                  [            0, -C_C / 2      , 0             , C_F + C_C/2   , 0             ,-C_C / 2       ],\n",
    "                  [-C_C / 2     , 0             ,-C_C / 2       , 0             , C_R + C_C/2   , 0             ],\n",
    "                  [            0, -C_C / 2      , 0             ,-C_C / 2       , 0             , C_F + C_C/2   ]])\n",
    "\n",
    "C_inv = np.linalg.inv(C_mat)\n",
    "np.round(C_inv,4)"
   ],
   "metadata": {
    "collapsed": false,
    "ExecuteTime": {
     "end_time": "2024-02-08T10:20:42.665596800Z",
     "start_time": "2024-02-08T10:20:42.068032800Z"
    }
   },
   "execution_count": 104
  },
  {
   "cell_type": "code",
   "outputs": [],
   "source": [
    "def hamiltonian_qubit_C_qubit(nmax_r, nmax_f, Cc, C = 15, CJ = 3, Csh= 15, Lq = 25, Lr = 10, Δ = 0.1):\n",
    "    \n",
    "    C_R = C/2\n",
    "    C_C = Cc\n",
    "    C_F = C/2 + Csh + CJ\n",
    "    C_mat = np.array([[C_R + C_C/2  , 0             , -C_C / 2      ,        0      ,-C_C / 2       , 0             ],\n",
    "                      [0            , C_F + C_C/2   ,       0       , -C_C / 2      , 0             , -C_C / 2      ],\n",
    "                      [-C_C / 2     ,        0      , C_R + C_C/2   , 0             ,-C_C / 2       , 0             ],\n",
    "                      [            0, -C_C / 2      , 0             , C_F + C_C/2   , 0             ,-C_C / 2       ],\n",
    "                      [-C_C / 2     , 0             ,-C_C / 2       , 0             , C_R + C_C/2   , 0             ],\n",
    "                      [            0, -C_C / 2      , 0             ,-C_C / 2       , 0             , C_F + C_C/2   ]])\n",
    "    \n",
    "    C_inv = np.linalg.inv(C_mat)\n",
    "    fF = 1e-15\n",
    "    \n",
    "    resonator = sq_ext.KIT_resonator(C_R_eff=C_inv[0,0]**-1, Lq = Lq, Lr = Lr, Δ = Δ, trunc_res =nmax_r)\n",
    "    fluxonium = sq_ext.KIT_fluxonium(C_F_eff=C_inv[1,1]**-1, Lq = Lq, Lr = Lr, Δ = Δ, trunc_flux=nmax_f)\n",
    "    \n",
    "    H_qubit = sq_ext.hamiltonian_frc(fluxonium, resonator, Δ)\n",
    "    \n",
    "    I_r      = qt.identity(nmax_r)\n",
    "    I_f      = qt.identity(nmax_f)\n",
    "    I_qubit  = qt.identity(H_qubit .dims[0])\n",
    "    \n",
    "    q_r = qt.tensor(resonator.charge_op(0), I_f)\n",
    "    q_f = qt.tensor(I_r, fluxonium.charge_op(0))\n",
    "    \n",
    "    H_0 = qt.tensor(H_qubit, I_qubit, I_qubit) + qt.tensor(I_qubit, H_qubit, I_qubit) + qt.tensor(I_qubit, I_qubit, H_qubit)\n",
    "    \n",
    "    C_RR = C_inv[0,2]**-1 * fF \n",
    "    C_FF = C_inv[1,3]**-1 * fF \n",
    "    H_coupling =    qt.tensor(q_r, q_r, I_qubit) / C_RR + qt.tensor(q_f, q_f, I_qubit) / C_FF + \\\n",
    "                    qt.tensor(I_qubit, q_r, q_r) / C_RR + qt.tensor(I_qubit, q_f, q_f) / C_FF + \\\n",
    "                    qt.tensor(q_r, I_qubit, q_r) / C_RR + qt.tensor(q_f, I_qubit, q_f) / C_FF\n",
    "            \n",
    "    return H_0 + H_coupling"
   ],
   "metadata": {
    "collapsed": false,
    "ExecuteTime": {
     "end_time": "2024-02-08T10:20:42.667596300Z",
     "start_time": "2024-02-08T10:20:42.092443500Z"
    }
   },
   "execution_count": 105
  },
  {
   "cell_type": "code",
   "outputs": [],
   "source": [
    "H = hamiltonian_qubit_C_qubit(nmax_r, nmax_f, Cc)"
   ],
   "metadata": {
    "collapsed": false,
    "ExecuteTime": {
     "end_time": "2024-02-08T10:20:42.696010100Z",
     "start_time": "2024-02-08T10:20:42.109573400Z"
    }
   },
   "execution_count": 106
  },
  {
   "cell_type": "code",
   "outputs": [],
   "source": [
    "E = sq_ext.diag(H, n_eig=4, out='GHz')[0]"
   ],
   "metadata": {
    "collapsed": false,
    "ExecuteTime": {
     "end_time": "2024-02-08T10:20:42.891492100Z",
     "start_time": "2024-02-08T10:20:42.195471500Z"
    }
   },
   "execution_count": 107
  },
  {
   "cell_type": "code",
   "outputs": [
    {
     "data": {
      "text/plain": "array([0.        , 1.94183421, 1.94183421, 1.94708953])"
     },
     "execution_count": 108,
     "metadata": {},
     "output_type": "execute_result"
    }
   ],
   "source": [
    "E-E[0]"
   ],
   "metadata": {
    "collapsed": false,
    "ExecuteTime": {
     "end_time": "2024-02-08T10:20:42.923024500Z",
     "start_time": "2024-02-08T10:20:42.891492100Z"
    }
   },
   "execution_count": 108
  },
  {
   "cell_type": "code",
   "outputs": [
    {
     "data": {
      "text/plain": "array([0.        , 1.91145769, 1.91145769, 1.9166496 ])"
     },
     "execution_count": 93,
     "metadata": {},
     "output_type": "execute_result"
    }
   ],
   "source": [
    "E-E[0]"
   ],
   "metadata": {
    "collapsed": false
   },
   "execution_count": 93
  },
  {
   "cell_type": "code",
   "outputs": [
    {
     "data": {
      "text/plain": "array([0.        , 1.93861593, 1.94430658, 1.9664159 ])"
     },
     "execution_count": 109,
     "metadata": {},
     "output_type": "execute_result"
    }
   ],
   "source": [
    "qubit_qubit_qubit.efreqs-qubit_qubit_qubit.efreqs[0]"
   ],
   "metadata": {
    "collapsed": false,
    "ExecuteTime": {
     "end_time": "2024-02-08T10:20:42.981071800Z",
     "start_time": "2024-02-08T10:20:42.907084300Z"
    }
   },
   "execution_count": 109
  },
  {
   "cell_type": "code",
   "outputs": [
    {
     "data": {
      "text/plain": "array([0.        , 1.96624533, 2.04666751, 2.16019599])"
     },
     "execution_count": 94,
     "metadata": {},
     "output_type": "execute_result"
    }
   ],
   "source": [
    "qubit_qubit_qubit.efreqs-qubit_qubit_qubit.efreqs[0]"
   ],
   "metadata": {
    "collapsed": false
   },
   "execution_count": 94
  },
  {
   "cell_type": "code",
   "outputs": [],
   "source": [],
   "metadata": {
    "collapsed": false
   }
  }
 ],
 "metadata": {
  "kernelspec": {
   "display_name": "Python 3",
   "language": "python",
   "name": "python3"
  },
  "language_info": {
   "codemirror_mode": {
    "name": "ipython",
    "version": 2
   },
   "file_extension": ".py",
   "mimetype": "text/x-python",
   "name": "python",
   "nbconvert_exporter": "python",
   "pygments_lexer": "ipython2",
   "version": "2.7.6"
  }
 },
 "nbformat": 4,
 "nbformat_minor": 0
}
