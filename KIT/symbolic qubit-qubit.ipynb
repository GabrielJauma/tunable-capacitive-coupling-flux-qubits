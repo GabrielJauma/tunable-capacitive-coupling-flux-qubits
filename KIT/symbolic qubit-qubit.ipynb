{
 "cells": [
  {
   "cell_type": "code",
   "execution_count": 2,
   "metadata": {
    "collapsed": true,
    "ExecuteTime": {
     "end_time": "2023-09-15T10:13:38.176726700Z",
     "start_time": "2023-09-15T10:13:37.140815300Z"
    }
   },
   "outputs": [],
   "source": [
    "from sympy import *\n",
    "import numpy as np\n",
    "import matplotlib.pyplot as plt"
   ]
  },
  {
   "cell_type": "code",
   "execution_count": 3,
   "outputs": [
    {
     "data": {
      "text/plain": "-4*Delta**2 + L_q**2 + 4*L_q*L_r",
      "text/latex": "$\\displaystyle - 4 \\Delta^{2} + L_{q}^{2} + 4 L_{q} L_{r}$"
     },
     "execution_count": 3,
     "metadata": {},
     "output_type": "execute_result"
    }
   ],
   "source": [
    "c, cJ, cc, Lq, Lr, Δ = symbols('C, C_J^{\\'}, C_C L_q, L_r, Delta', real=True, positive=True, nonzero=True)\n",
    "Lp = Lq/2 + Δ\n",
    "Lm = Lq/2 - Δ\n",
    "γ = simplify( 1/(Lp*Lm) / (1/Lr + 1/Lp + 1/Lm) )\n",
    "# print_latex(γ)\n",
    "γ\n",
    "l = 4*Lr/γ\n",
    "l"
   ],
   "metadata": {
    "collapsed": false,
    "ExecuteTime": {
     "end_time": "2023-09-15T10:13:41.584684800Z",
     "start_time": "2023-09-15T10:13:41.334311400Z"
    }
   }
  },
  {
   "cell_type": "code",
   "execution_count": 10,
   "outputs": [],
   "source": [
    "L = Matrix([[ 1/Lm,      0,  -1/Lm             ],\n",
    "            [    0,   1/Lp,  -1/Lp             ],\n",
    "            [-1/Lm,  -1/Lp,  1/Lr + 1/Lp + 1/Lm]])\n",
    "\n",
    "P1 = Matrix([[ 1,        0,  0],\n",
    "             [ 0,        1,  0],\n",
    "             [ γ*Lp,  γ*Lm,  0]])\n",
    "\n",
    "C = Matrix([[c+cJ,   -cJ   ],\n",
    "            [ -cJ,  c+cJ+cc]])\n",
    "\n",
    "P2 = 0.5 * Matrix([[ 1,   1],\n",
    "                   [ 1,  -1]])"
   ],
   "metadata": {
    "collapsed": false,
    "ExecuteTime": {
     "end_time": "2023-09-15T10:15:09.944568400Z",
     "start_time": "2023-09-15T10:15:09.907178300Z"
    }
   }
  },
  {
   "cell_type": "code",
   "execution_count": 5,
   "outputs": [],
   "source": [
    "C1 = C"
   ],
   "metadata": {
    "collapsed": false,
    "ExecuteTime": {
     "end_time": "2023-09-15T10:13:45.716547300Z",
     "start_time": "2023-09-15T10:13:45.710546800Z"
    }
   }
  },
  {
   "cell_type": "code",
   "execution_count": 6,
   "outputs": [
    {
     "data": {
      "text/plain": "Matrix([\n[2*(-2*Delta - L_q - 2*L_r)/(4*Delta**2 - L_q**2 - 4*L_q*L_r),                     4*L_r/(4*Delta**2 - L_q**2 - 4*L_q*L_r)],\n[                     4*L_r/(4*Delta**2 - L_q**2 - 4*L_q*L_r), 2*(2*Delta - L_q - 2*L_r)/(4*Delta**2 - L_q**2 - 4*L_q*L_r)]])",
      "text/latex": "$\\displaystyle \\left[\\begin{matrix}\\frac{2 \\left(- 2 \\Delta - L_{q} - 2 L_{r}\\right)}{4 \\Delta^{2} - L_{q}^{2} - 4 L_{q} L_{r}} & \\frac{4 L_{r}}{4 \\Delta^{2} - L_{q}^{2} - 4 L_{q} L_{r}}\\\\\\frac{4 L_{r}}{4 \\Delta^{2} - L_{q}^{2} - 4 L_{q} L_{r}} & \\frac{2 \\cdot \\left(2 \\Delta - L_{q} - 2 L_{r}\\right)}{4 \\Delta^{2} - L_{q}^{2} - 4 L_{q} L_{r}}\\end{matrix}\\right]$"
     },
     "execution_count": 6,
     "metadata": {},
     "output_type": "execute_result"
    }
   ],
   "source": [
    "L1 = nsimplify(simplify( P1.T * L * P1) )\n",
    "L1 = L1[0:2,0:2]\n",
    "L1"
   ],
   "metadata": {
    "collapsed": false,
    "ExecuteTime": {
     "end_time": "2023-09-15T10:13:52.175583900Z",
     "start_time": "2023-09-15T10:13:51.892293300Z"
    }
   }
  },
  {
   "cell_type": "code",
   "execution_count": 11,
   "outputs": [
    {
     "data": {
      "text/plain": "(Matrix([\n [(C_C + sqrt(C_C**2 + 4*C_J^{'}**2))/(2*C_J^{'}), (C_C - sqrt(C_C**2 + 4*C_J^{'}**2))/(2*C_J^{'})],\n [                                              1,                                               1]]),\n Matrix([\n [C + C_C/2 + C_J^{'} - sqrt(C_C**2 + 4*C_J^{'}**2)/2,                                                   0],\n [                                                  0, C + C_C/2 + C_J^{'} + sqrt(C_C**2 + 4*C_J^{'}**2)/2]]))"
     },
     "execution_count": 11,
     "metadata": {},
     "output_type": "execute_result"
    }
   ],
   "source": [
    "C.diagonalize()"
   ],
   "metadata": {
    "collapsed": false,
    "ExecuteTime": {
     "end_time": "2023-09-15T10:15:14.960497500Z",
     "start_time": "2023-09-15T10:15:14.865166300Z"
    }
   }
  },
  {
   "cell_type": "code",
   "execution_count": 7,
   "outputs": [
    {
     "data": {
      "text/plain": "Matrix([\n[C/2 + C_C/4,                -C_C/4],\n[     -C_C/4, C/2 + C_C/4 + C_J^{'}]])",
      "text/latex": "$\\displaystyle \\left[\\begin{matrix}\\frac{C}{2} + \\frac{C_{C}}{4} & - \\frac{C_{C}}{4}\\\\- \\frac{C_{C}}{4} & \\frac{C}{2} + \\frac{C_{C}}{4} + C_J^{'}\\end{matrix}\\right]$"
     },
     "execution_count": 7,
     "metadata": {},
     "output_type": "execute_result"
    }
   ],
   "source": [
    "C2 = nsimplify(simplify( P2.T * C1 * P2) )\n",
    "C2"
   ],
   "metadata": {
    "collapsed": false,
    "ExecuteTime": {
     "end_time": "2023-09-15T10:13:57.125496600Z",
     "start_time": "2023-09-15T10:13:57.114128Z"
    }
   }
  },
  {
   "cell_type": "code",
   "execution_count": 7,
   "outputs": [
    {
     "data": {
      "text/plain": "Matrix([\n[    L_q/(-4*Delta**2 + L_q**2 + 4*L_q*L_r),       2*Delta/(-4*Delta**2 + L_q**2 + 4*L_q*L_r)],\n[2*Delta/(-4*Delta**2 + L_q**2 + 4*L_q*L_r), (L_q + 4*L_r)/(-4*Delta**2 + L_q**2 + 4*L_q*L_r)]])",
      "text/latex": "$\\displaystyle \\left[\\begin{matrix}\\frac{L_{q}}{- 4 \\Delta^{2} + L_{q}^{2} + 4 L_{q} L_{r}} & \\frac{2 \\Delta}{- 4 \\Delta^{2} + L_{q}^{2} + 4 L_{q} L_{r}}\\\\\\frac{2 \\Delta}{- 4 \\Delta^{2} + L_{q}^{2} + 4 L_{q} L_{r}} & \\frac{L_{q} + 4 L_{r}}{- 4 \\Delta^{2} + L_{q}^{2} + 4 L_{q} L_{r}}\\end{matrix}\\right]$"
     },
     "execution_count": 7,
     "metadata": {},
     "output_type": "execute_result"
    }
   ],
   "source": [
    "L2 = nsimplify(simplify( P2.T * L1 * P2) )\n",
    "L2"
   ],
   "metadata": {
    "collapsed": false,
    "ExecuteTime": {
     "end_time": "2023-08-11T08:18:53.743139800Z",
     "start_time": "2023-08-11T08:18:53.591605900Z"
    }
   }
  },
  {
   "cell_type": "code",
   "execution_count": 11,
   "outputs": [
    {
     "data": {
      "text/plain": "(0.00720838819651165, 0.00630355261686479)"
     },
     "execution_count": 11,
     "metadata": {},
     "output_type": "execute_result"
    }
   ],
   "source": [
    "w1 = 1/sqrt(C2[0,0]*L2[0,0]**-1)\n",
    "w2 = 1/sqrt(C2[1,1]*L2[1,1]**-1)\n",
    "(w1/2/np.pi).subs({c:15, cJ:18, Lq:25, Lr:10, Δ:0.1}).evalf(), (w2/2/np.pi).subs({c:15, cJ:18, Lq:25, Lr:10, Δ:0.1}).evalf()"
   ],
   "metadata": {
    "collapsed": false,
    "ExecuteTime": {
     "end_time": "2023-08-11T08:19:33.035834900Z",
     "start_time": "2023-08-11T08:19:33.017696700Z"
    }
   }
  },
  {
   "cell_type": "code",
   "execution_count": 13,
   "outputs": [],
   "source": [
    "P3, D = (C2**-1 * L2 ).diagonalize()"
   ],
   "metadata": {
    "collapsed": false,
    "ExecuteTime": {
     "end_time": "2023-08-11T08:20:48.943361800Z",
     "start_time": "2023-08-11T08:20:48.205703700Z"
    }
   }
  },
  {
   "cell_type": "code",
   "execution_count": 14,
   "outputs": [
    {
     "data": {
      "text/plain": "Matrix([\n[C/2 + C_J^{'} + (-2*C*L_r + C_J^{'}*L_q + sqrt(4*C**2*Delta**2 + 4*C**2*L_r**2 + 8*C*C_J^{'}*Delta**2 - 4*C*C_J^{'}*L_q*L_r + C_J^{'}**2*L_q**2))**2/(8*C*Delta**2),                                                                                                                                                                  0],\n[                                                                                                                                                                  0, C/2 + C_J^{'} + (2*C*L_r - C_J^{'}*L_q + sqrt(4*C**2*Delta**2 + 4*C**2*L_r**2 + 8*C*C_J^{'}*Delta**2 - 4*C*C_J^{'}*L_q*L_r + C_J^{'}**2*L_q**2))**2/(8*C*Delta**2)]])",
      "text/latex": "$\\displaystyle \\left[\\begin{matrix}\\frac{C}{2} + C_J^{'} + \\frac{\\left(- 2 C L_{r} + C_J^{'} L_{q} + \\sqrt{4 C^{2} \\Delta^{2} + 4 C^{2} L_{r}^{2} + 8 C C_J^{'} \\Delta^{2} - 4 C C_J^{'} L_{q} L_{r} + \\left(C_J^{'}\\right)^{2} L_{q}^{2}}\\right)^{2}}{8 C \\Delta^{2}} & 0\\\\0 & \\frac{C}{2} + C_J^{'} + \\frac{\\left(2 C L_{r} - C_J^{'} L_{q} + \\sqrt{4 C^{2} \\Delta^{2} + 4 C^{2} L_{r}^{2} + 8 C C_J^{'} \\Delta^{2} - 4 C C_J^{'} L_{q} L_{r} + \\left(C_J^{'}\\right)^{2} L_{q}^{2}}\\right)^{2}}{8 C \\Delta^{2}}\\end{matrix}\\right]$"
     },
     "execution_count": 14,
     "metadata": {},
     "output_type": "execute_result"
    }
   ],
   "source": [
    "C3 = nsimplify(simplify( P3.T * C2 * P3 ) )\n",
    "C3"
   ],
   "metadata": {
    "collapsed": false,
    "ExecuteTime": {
     "end_time": "2023-08-11T08:20:49.163072800Z",
     "start_time": "2023-08-11T08:20:48.943361800Z"
    }
   }
  },
  {
   "cell_type": "code",
   "execution_count": 15,
   "outputs": [
    {
     "data": {
      "text/plain": "Matrix([\n[(4*C**2*Delta**2*(L_q + 4*L_r) + 4*C*Delta**2*(-2*C*L_r + C_J^{'}*L_q + sqrt(4*C**2*Delta**2 + 4*C**2*L_r**2 + 8*C*C_J^{'}*Delta**2 - 4*C*C_J^{'}*L_q*L_r + C_J^{'}**2*L_q**2)) + (4*C*Delta**2 + L_q*(-2*C*L_r + C_J^{'}*L_q + sqrt(4*C**2*Delta**2 + 4*C**2*L_r**2 + 8*C*C_J^{'}*Delta**2 - 4*C*C_J^{'}*L_q*L_r + C_J^{'}**2*L_q**2)))*(-2*C*L_r + C_J^{'}*L_q + sqrt(4*C**2*Delta**2 + 4*C**2*L_r**2 + 8*C*C_J^{'}*Delta**2 - 4*C*C_J^{'}*L_q*L_r + C_J^{'}**2*L_q**2)))/(4*C**2*Delta**2*(-4*Delta**2 + L_q**2 + 4*L_q*L_r)),                                                                                                                                                                                                                                                                                                                                                                                                                                                                                                                              0],\n[                                                                                                                                                                                                                                                                                                                                                                                                                                                                                                                               0, (4*C**2*Delta**2*(L_q + 4*L_r) + 4*C*Delta**2*(-2*C*L_r + C_J^{'}*L_q - sqrt(4*C**2*Delta**2 + 4*C**2*L_r**2 + 8*C*C_J^{'}*Delta**2 - 4*C*C_J^{'}*L_q*L_r + C_J^{'}**2*L_q**2)) - (4*C*Delta**2 - L_q*(2*C*L_r - C_J^{'}*L_q + sqrt(4*C**2*Delta**2 + 4*C**2*L_r**2 + 8*C*C_J^{'}*Delta**2 - 4*C*C_J^{'}*L_q*L_r + C_J^{'}**2*L_q**2)))*(2*C*L_r - C_J^{'}*L_q + sqrt(4*C**2*Delta**2 + 4*C**2*L_r**2 + 8*C*C_J^{'}*Delta**2 - 4*C*C_J^{'}*L_q*L_r + C_J^{'}**2*L_q**2)))/(4*C**2*Delta**2*(-4*Delta**2 + L_q**2 + 4*L_q*L_r))]])",
      "text/latex": "$\\displaystyle \\left[\\begin{matrix}\\frac{4 C^{2} \\Delta^{2} \\left(L_{q} + 4 L_{r}\\right) + 4 C \\Delta^{2} \\left(- 2 C L_{r} + C_J^{'} L_{q} + \\sqrt{4 C^{2} \\Delta^{2} + 4 C^{2} L_{r}^{2} + 8 C C_J^{'} \\Delta^{2} - 4 C C_J^{'} L_{q} L_{r} + \\left(C_J^{'}\\right)^{2} L_{q}^{2}}\\right) + \\left(4 C \\Delta^{2} + L_{q} \\left(- 2 C L_{r} + C_J^{'} L_{q} + \\sqrt{4 C^{2} \\Delta^{2} + 4 C^{2} L_{r}^{2} + 8 C C_J^{'} \\Delta^{2} - 4 C C_J^{'} L_{q} L_{r} + \\left(C_J^{'}\\right)^{2} L_{q}^{2}}\\right)\\right) \\left(- 2 C L_{r} + C_J^{'} L_{q} + \\sqrt{4 C^{2} \\Delta^{2} + 4 C^{2} L_{r}^{2} + 8 C C_J^{'} \\Delta^{2} - 4 C C_J^{'} L_{q} L_{r} + \\left(C_J^{'}\\right)^{2} L_{q}^{2}}\\right)}{4 C^{2} \\Delta^{2} \\left(- 4 \\Delta^{2} + L_{q}^{2} + 4 L_{q} L_{r}\\right)} & 0\\\\0 & \\frac{4 C^{2} \\Delta^{2} \\left(L_{q} + 4 L_{r}\\right) + 4 C \\Delta^{2} \\left(- 2 C L_{r} + C_J^{'} L_{q} - \\sqrt{4 C^{2} \\Delta^{2} + 4 C^{2} L_{r}^{2} + 8 C C_J^{'} \\Delta^{2} - 4 C C_J^{'} L_{q} L_{r} + \\left(C_J^{'}\\right)^{2} L_{q}^{2}}\\right) - \\left(4 C \\Delta^{2} - L_{q} \\left(2 C L_{r} - C_J^{'} L_{q} + \\sqrt{4 C^{2} \\Delta^{2} + 4 C^{2} L_{r}^{2} + 8 C C_J^{'} \\Delta^{2} - 4 C C_J^{'} L_{q} L_{r} + \\left(C_J^{'}\\right)^{2} L_{q}^{2}}\\right)\\right) \\left(2 C L_{r} - C_J^{'} L_{q} + \\sqrt{4 C^{2} \\Delta^{2} + 4 C^{2} L_{r}^{2} + 8 C C_J^{'} \\Delta^{2} - 4 C C_J^{'} L_{q} L_{r} + \\left(C_J^{'}\\right)^{2} L_{q}^{2}}\\right)}{4 C^{2} \\Delta^{2} \\left(- 4 \\Delta^{2} + L_{q}^{2} + 4 L_{q} L_{r}\\right)}\\end{matrix}\\right]$"
     },
     "execution_count": 15,
     "metadata": {},
     "output_type": "execute_result"
    }
   ],
   "source": [
    "L3 = nsimplify(simplify( P3.T * L2 * P3 ) )\n",
    "L3"
   ],
   "metadata": {
    "collapsed": false,
    "ExecuteTime": {
     "end_time": "2023-08-11T08:20:49.950503900Z",
     "start_time": "2023-08-11T08:20:49.346862900Z"
    }
   }
  },
  {
   "cell_type": "markdown",
   "source": [],
   "metadata": {
    "collapsed": false
   }
  },
  {
   "cell_type": "code",
   "execution_count": 16,
   "outputs": [
    {
     "data": {
      "text/plain": "(0.00720867642830948, 0.00630322299598601)"
     },
     "execution_count": 16,
     "metadata": {},
     "output_type": "execute_result"
    }
   ],
   "source": [
    "w1 = 1/sqrt(C3[0,0]*L3[0,0]**-1)\n",
    "w2 = 1/sqrt(C3[1,1]*L3[1,1]**-1)\n",
    "(w1/2/np.pi).subs({c:15, cJ:18, Lq:25, Lr:10, Δ:0.1}).evalf(),  (w2/2/np.pi).subs({c:15, cJ:18, Lq:25, Lr:10, Δ:0.1}).evalf()"
   ],
   "metadata": {
    "collapsed": false,
    "ExecuteTime": {
     "end_time": "2023-08-11T08:20:51.392705Z",
     "start_time": "2023-08-11T08:20:51.168842300Z"
    }
   }
  },
  {
   "cell_type": "code",
   "execution_count": 31,
   "outputs": [
    {
     "data": {
      "text/plain": "(sqrt(3060*Delta**2 + 22500) + 150)/(30*Delta)",
      "text/latex": "$\\displaystyle \\frac{\\sqrt{3060 \\Delta^{2} + 22500} + 150}{30 \\Delta}$"
     },
     "execution_count": 31,
     "metadata": {},
     "output_type": "execute_result"
    }
   ],
   "source": [
    "(P3[0,0]).subs({c:15, cJ:18, Lq:25, Lr:10, Δ:0.1}).evalf()\n",
    "(P3[0,0]).subs({c:15, cJ:18, Lq:25, Lr:10})"
   ],
   "metadata": {
    "collapsed": false,
    "ExecuteTime": {
     "end_time": "2023-08-11T08:52:10.223627300Z",
     "start_time": "2023-08-11T08:52:10.207992300Z"
    }
   }
  },
  {
   "cell_type": "code",
   "execution_count": 32,
   "outputs": [
    {
     "data": {
      "text/plain": "30*Delta/(150 - sqrt(3060*Delta**2 + 22500))",
      "text/latex": "$\\displaystyle \\frac{30 \\Delta}{150 - \\sqrt{3060 \\Delta^{2} + 22500}}$"
     },
     "execution_count": 32,
     "metadata": {},
     "output_type": "execute_result"
    }
   ],
   "source": [
    "(P3[0,1]**-1).subs({c:15, cJ:18, Lq:25, Lr:10, Δ:0.1}).evalf()\n",
    "(P3[0,1]**-1).subs({c:15, cJ:18, Lq:25, Lr:10})"
   ],
   "metadata": {
    "collapsed": false,
    "ExecuteTime": {
     "end_time": "2023-08-11T08:52:19.437774500Z",
     "start_time": "2023-08-11T08:52:19.421984900Z"
    }
   }
  },
  {
   "cell_type": "code",
   "execution_count": 4,
   "outputs": [],
   "source": [
    "Φ_1, Φ_2, Φ_3 = symbols('Phi_1,Phi_2,Phi_3', real=True, positive=True, nonzero=True)\n"
   ],
   "metadata": {
    "collapsed": false,
    "ExecuteTime": {
     "end_time": "2023-08-14T09:21:25.156395700Z",
     "start_time": "2023-08-14T09:21:25.140645Z"
    }
   }
  },
  {
   "cell_type": "code",
   "execution_count": 11,
   "outputs": [
    {
     "data": {
      "text/plain": "2*L_r*(Phi_1*(2*Delta + L_q) - Phi_2*(2*Delta - L_q))/(-4*Delta**2 + L_q**2 + 4*L_q*L_r)",
      "text/latex": "$\\displaystyle \\frac{2 L_{r} \\left(\\Phi_{1} \\cdot \\left(2 \\Delta + L_{q}\\right) - \\Phi_{2} \\cdot \\left(2 \\Delta - L_{q}\\right)\\right)}{- 4 \\Delta^{2} + L_{q}^{2} + 4 L_{q} L_{r}}$"
     },
     "execution_count": 11,
     "metadata": {},
     "output_type": "execute_result"
    }
   ],
   "source": [
    "simplify( 4*Lr/l*(Lp*Φ_1 + Lm*Φ_2) )"
   ],
   "metadata": {
    "collapsed": false,
    "ExecuteTime": {
     "end_time": "2023-08-14T09:25:43.749894Z",
     "start_time": "2023-08-14T09:25:43.699605300Z"
    }
   }
  },
  {
   "cell_type": "code",
   "execution_count": 10,
   "outputs": [
    {
     "data": {
      "text/plain": "2*L_r*(2*Delta*(Phi_1 - Phi_2) + L_q*(Phi_1 + Phi_2))/(-4*Delta**2 + L_q**2 + 4*L_q*L_r)",
      "text/latex": "$\\displaystyle \\frac{2 L_{r} \\left(2 \\Delta \\left(\\Phi_{1} - \\Phi_{2}\\right) + L_{q} \\left(\\Phi_{1} + \\Phi_{2}\\right)\\right)}{- 4 \\Delta^{2} + L_{q}^{2} + 4 L_{q} L_{r}}$"
     },
     "execution_count": 10,
     "metadata": {},
     "output_type": "execute_result"
    }
   ],
   "source": [
    "simplify( 2*Lr*Lq/l *(Φ_1 + Φ_2) + 4*Lr/l*Δ*(Φ_1 - Φ_2))"
   ],
   "metadata": {
    "collapsed": false,
    "ExecuteTime": {
     "end_time": "2023-08-14T09:25:41.199607800Z",
     "start_time": "2023-08-14T09:25:41.118475700Z"
    }
   }
  },
  {
   "cell_type": "code",
   "execution_count": 38,
   "outputs": [],
   "source": [
    "m = 1/2 * (c*2*Lr*Lq/l)**-1\n",
    "m = 1/2 * (c*4*Lr/l*Δ)**-1"
   ],
   "metadata": {
    "collapsed": false,
    "ExecuteTime": {
     "end_time": "2023-08-14T11:28:01.798087900Z",
     "start_time": "2023-08-14T11:28:01.785960800Z"
    }
   }
  },
  {
   "cell_type": "code",
   "execution_count": 39,
   "outputs": [],
   "source": [
    "k = 2 / Lr"
   ],
   "metadata": {
    "collapsed": false,
    "ExecuteTime": {
     "end_time": "2023-08-14T11:28:02.269959900Z",
     "start_time": "2023-08-14T11:28:02.259453500Z"
    }
   }
  },
  {
   "cell_type": "code",
   "execution_count": 44,
   "outputs": [
    {
     "data": {
      "text/plain": "0.790826887582724*I",
      "text/latex": "$\\displaystyle 0.790826887582724 i$"
     },
     "execution_count": 44,
     "metadata": {},
     "output_type": "execute_result"
    }
   ],
   "source": [
    "sqrt(k/m).subs({c:15, cJ:18, Lq:25, Lr:10, Δ:0.1}).evalf()"
   ],
   "metadata": {
    "collapsed": false,
    "ExecuteTime": {
     "end_time": "2023-08-14T11:28:17.097530300Z",
     "start_time": "2023-08-14T11:28:17.084178900Z"
    }
   }
  },
  {
   "cell_type": "code",
   "execution_count": 31,
   "outputs": [
    {
     "data": {
      "text/plain": "6.79374582071531",
      "text/latex": "$\\displaystyle 6.79374582071531$"
     },
     "execution_count": 31,
     "metadata": {},
     "output_type": "execute_result"
    }
   ],
   "source": [
    "sqrt(Lr * c*2*Lr*Lq/l).subs({c:15, cJ:18, Lq:25, Lr:10, Δ:0.1}).evalf()"
   ],
   "metadata": {
    "collapsed": false,
    "ExecuteTime": {
     "end_time": "2023-08-14T09:39:19.925485Z",
     "start_time": "2023-08-14T09:39:19.906663Z"
    }
   }
  },
  {
   "cell_type": "code",
   "execution_count": 19,
   "outputs": [
    {
     "data": {
      "text/plain": "194.0"
     },
     "execution_count": 19,
     "metadata": {},
     "output_type": "execute_result"
    }
   ],
   "source": [
    "1.358 / 0.007"
   ],
   "metadata": {
    "collapsed": false,
    "ExecuteTime": {
     "end_time": "2023-08-14T09:34:33.843120900Z",
     "start_time": "2023-08-14T09:34:33.830988400Z"
    }
   }
  },
  {
   "cell_type": "code",
   "execution_count": 20,
   "outputs": [
    {
     "data": {
      "text/plain": "2026.5714285714287"
     },
     "execution_count": 20,
     "metadata": {},
     "output_type": "execute_result"
    }
   ],
   "source": [
    "14186 / 7"
   ],
   "metadata": {
    "collapsed": false,
    "ExecuteTime": {
     "end_time": "2023-08-14T09:35:00.386641300Z",
     "start_time": "2023-08-14T09:35:00.386641300Z"
    }
   }
  },
  {
   "cell_type": "code",
   "execution_count": null,
   "outputs": [],
   "source": [],
   "metadata": {
    "collapsed": false
   }
  }
 ],
 "metadata": {
  "kernelspec": {
   "display_name": "Python 3",
   "language": "python",
   "name": "python3"
  },
  "language_info": {
   "codemirror_mode": {
    "name": "ipython",
    "version": 2
   },
   "file_extension": ".py",
   "mimetype": "text/x-python",
   "name": "python",
   "nbconvert_exporter": "python",
   "pygments_lexer": "ipython2",
   "version": "2.7.6"
  }
 },
 "nbformat": 4,
 "nbformat_minor": 0
}
