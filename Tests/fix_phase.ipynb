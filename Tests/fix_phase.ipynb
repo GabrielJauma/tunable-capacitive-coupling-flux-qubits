{
 "cells": [
  {
   "cell_type": "code",
   "execution_count": 825,
   "id": "initial_id",
   "metadata": {
    "collapsed": true,
    "ExecuteTime": {
     "end_time": "2024-03-05T14:53:29.707844Z",
     "start_time": "2024-03-05T14:53:29.698228Z"
    }
   },
   "outputs": [],
   "source": [
    "import Modules.SQcircuit_extensions as sq_ext\n",
    "import Modules.figures as figs\n",
    "import SQcircuit as sq\n",
    "import numpy as np\n",
    "import matplotlib.pyplot as plt\n",
    "import importlib\n",
    "import qutip as qt\n",
    "import scipy as sp\n",
    "import sympy as sym\n",
    "\n",
    "\n",
    "%matplotlib ipympl\n",
    "plt.rcParams['text.usetex'] = False\n",
    "importlib.reload(sq_ext)\n",
    "importlib.reload(sq)\n",
    "importlib.reload(figs)\n",
    "np.set_printoptions(linewidth=300, formatter={'float': '{:.4f}'.format})\n",
    "GHz = 1e9"
   ]
  },
  {
   "cell_type": "code",
   "outputs": [],
   "source": [
    "fluxonium = sq_ext.sq_fluxonium()\n",
    "H_0_f = fluxonium.hamiltonian() \n",
    "H_0 = qt.tensor( H_0_f, qt.qeye(H_0_f.shape[0]) ) + qt.tensor(qt.qeye(H_0_f.shape[0]), H_0_f ) #+ 0.00001*qt.tensor(fluxonium.flux_op(0), fluxonium.flux_op(0))\n",
    "H = qt.tensor( H_0_f, qt.qeye(H_0_f.shape[0]) ) + qt.tensor(qt.qeye(H_0_f.shape[0]), H_0_f  )+ 1e5*qt.tensor(fluxonium.flux_op(0), fluxonium.flux_op(0))"
   ],
   "metadata": {
    "collapsed": false,
    "ExecuteTime": {
     "end_time": "2024-03-05T15:47:11.203944Z",
     "start_time": "2024-03-05T15:47:11.195686Z"
    }
   },
   "id": "149f8014237706c3",
   "execution_count": 1182
  },
  {
   "cell_type": "code",
   "outputs": [],
   "source": [
    "E, ψ_0_f = np.linalg.eigh(H_0_f.__array__() )\n",
    "# E, ψ_0_f = sp.sparse.linalg.eigsh(H_0_f.data, 2, which='SA')\n",
    "E, ψ_0_f = sq_ext.eigs_sorted(E, ψ_0_f)\n",
    "ψ_0 = np.array([np.kron(ψ_0_f[:,0],ψ_0_f[:,0]), np.kron(ψ_0_f[:,1],ψ_0_f[:,0]), np.kron(ψ_0_f[:,0],ψ_0_f[:,1]), np.kron(ψ_0_f[:,1],ψ_0_f[:,1]) ]).T"
   ],
   "metadata": {
    "collapsed": false,
    "ExecuteTime": {
     "end_time": "2024-03-05T15:57:05.775226Z",
     "start_time": "2024-03-05T15:57:05.772745Z"
    }
   },
   "id": "a924933e477b97f1",
   "execution_count": 1266
  },
  {
   "cell_type": "code",
   "outputs": [],
   "source": [
    "E, ψ_0 = sp.sparse.linalg.eigsh(H_0.data, 2, which='SA')\n",
    "E, ψ_0 = sq_ext.eigs_sorted(E, ψ_0)\n",
    "ψ_0 = np.linalg.qr(ψ_0)[0]"
   ],
   "metadata": {
    "collapsed": false,
    "ExecuteTime": {
     "end_time": "2024-03-05T15:50:54.532951Z",
     "start_time": "2024-03-05T15:50:54.518253Z"
    }
   },
   "id": "fa9a94fb1fe8abc2",
   "execution_count": 1219
  },
  {
   "cell_type": "code",
   "outputs": [],
   "source": [
    "E, ψ_0 = np.linalg.eigh(H_0.__array__())\n",
    "ψ_0 =  ψ_0[:,:4]"
   ],
   "metadata": {
    "collapsed": false,
    "ExecuteTime": {
     "end_time": "2024-03-05T15:55:41.118906Z",
     "start_time": "2024-03-05T15:55:41.082282Z"
    }
   },
   "id": "4a99f1bdd48884ff",
   "execution_count": 1256
  },
  {
   "cell_type": "code",
   "outputs": [
    {
     "data": {
      "text/plain": "array([[1.+0.j, 0.+0.j, 0.+0.j, 0.+0.j],\n       [0.-0.j, 1.+0.j, 0.+0.j, 0.+0.j],\n       [0.-0.j, 0.-0.j, 1.+0.j, 0.+0.j],\n       [0.-0.j, 0.-0.j, 0.-0.j, 1.+0.j]])"
     },
     "execution_count": 1262,
     "metadata": {},
     "output_type": "execute_result"
    }
   ],
   "source": [
    "np.round(ψ_0.T.conj() @ ψ_0,4)"
   ],
   "metadata": {
    "collapsed": false,
    "ExecuteTime": {
     "end_time": "2024-03-05T15:56:08.007165Z",
     "start_time": "2024-03-05T15:56:08.004493Z"
    }
   },
   "id": "40d4272f036f93e3",
   "execution_count": 1262
  },
  {
   "cell_type": "code",
   "outputs": [
    {
     "name": "stdout",
     "output_type": "stream",
     "text": [
      " (15.3596+0j)\t*\t I ⨂I \n",
      " (-0.9727+0j)\t*\t I ⨂σz \n",
      " (0.0235+0j)\t*\t σx ⨂σx \n",
      " (-0.9727+0j)\t*\t σz ⨂I \n"
     ]
    }
   ],
   "source": [
    "H_eff = ψ_0.T.conj() @ H.__array__() @ ψ_0 / 2 / np.pi / GHz\n",
    "sq_ext.decomposition_in_pauli_4x4(H_eff, 4);"
   ],
   "metadata": {
    "collapsed": false,
    "ExecuteTime": {
     "end_time": "2024-03-05T15:57:19.220412Z",
     "start_time": "2024-03-05T15:57:19.215331Z"
    }
   },
   "id": "546023bd870ea28c",
   "execution_count": 1267
  },
  {
   "cell_type": "code",
   "outputs": [
    {
     "name": "stdout",
     "output_type": "stream",
     "text": [
      " (15.3596+0j)\t*\t I ⨂I \n",
      " (-0.961+0j)\t*\t I ⨂σz \n",
      " (0.0125+0j)\t*\t σx ⨂σx \n",
      " (-0.011+0j)\t*\t σy ⨂σy \n",
      " (-0.9845+0j)\t*\t σz ⨂I \n"
     ]
    }
   ],
   "source": [
    "H_eff = sq_ext.H_eff_p1(H_0, H, out= 'GHz', n_eig=4, solver='numpy')\n",
    "# H_eff = sq_ext.H_eff_p1(H_0, H, out= 'GHz', n_eig=4)\n",
    "sq_ext.decomposition_in_pauli_4x4(H_eff, 4);"
   ],
   "metadata": {
    "collapsed": false,
    "ExecuteTime": {
     "end_time": "2024-03-05T15:38:23.312043Z",
     "start_time": "2024-03-05T15:38:23.274610Z"
    }
   },
   "id": "9ab7ed556ad125f4",
   "execution_count": 1161
  },
  {
   "cell_type": "code",
   "outputs": [
    {
     "ename": "ValueError",
     "evalue": "shapes (4,4) and (625,625) not aligned: 4 (dim 1) != 625 (dim 0)",
     "output_type": "error",
     "traceback": [
      "\u001B[0;31m---------------------------------------------------------------------------\u001B[0m",
      "\u001B[0;31mValueError\u001B[0m                                Traceback (most recent call last)",
      "Cell \u001B[0;32mIn[1106], line 3\u001B[0m\n\u001B[1;32m      1\u001B[0m ψ_0[:,\u001B[38;5;241m2\u001B[39m] \u001B[38;5;241m/\u001B[39m\u001B[38;5;241m=\u001B[39m np\u001B[38;5;241m.\u001B[39mexp(\u001B[38;5;241m1\u001B[39mj\u001B[38;5;241m*\u001B[39m\u001B[38;5;241m0.1\u001B[39m)\n\u001B[1;32m      2\u001B[0m H_eff \u001B[38;5;241m=\u001B[39m ψ_0\u001B[38;5;241m.\u001B[39mconj()\u001B[38;5;241m.\u001B[39mT \u001B[38;5;241m@\u001B[39m H\u001B[38;5;241m.\u001B[39m__array__() \u001B[38;5;241m@\u001B[39m ψ_0 \u001B[38;5;241m/\u001B[39m \u001B[38;5;241m2\u001B[39m \u001B[38;5;241m/\u001B[39m np\u001B[38;5;241m.\u001B[39mpi \u001B[38;5;241m/\u001B[39m GHz\n\u001B[0;32m----> 3\u001B[0m \u001B[43msq_ext\u001B[49m\u001B[38;5;241;43m.\u001B[39;49m\u001B[43mdecomposition_in_pauli_4x4\u001B[49m\u001B[43m(\u001B[49m\u001B[43mH_eff\u001B[49m\u001B[43m,\u001B[49m\u001B[43m \u001B[49m\u001B[38;5;241;43m4\u001B[39;49m\u001B[43m)\u001B[49m\n",
      "File \u001B[0;32m~/PycharmProjects/tunable-capacitive-coupling-flux-qubits/Modules/SQcircuit_extensions.py:1177\u001B[0m, in \u001B[0;36mdecomposition_in_pauli_4x4\u001B[0;34m(A, rd, Print)\u001B[0m\n\u001B[1;32m   1175\u001B[0m label \u001B[38;5;241m=\u001B[39m labels[i] \u001B[38;5;241m+\u001B[39m \u001B[38;5;124m'\u001B[39m\u001B[38;5;124m \u001B[39m\u001B[38;5;130;01m\\U00002A02\u001B[39;00m\u001B[38;5;124m'\u001B[39m \u001B[38;5;241m+\u001B[39m labels[j]\n\u001B[1;32m   1176\u001B[0m S \u001B[38;5;241m=\u001B[39m np\u001B[38;5;241m.\u001B[39mkron(s[i], s[j])  \u001B[38;5;66;03m# S_ij=σ_i /otimes σ_j.\u001B[39;00m\n\u001B[0;32m-> 1177\u001B[0m P[i, j] \u001B[38;5;241m=\u001B[39m np\u001B[38;5;241m.\u001B[39mround(\u001B[38;5;241m0.25\u001B[39m \u001B[38;5;241m*\u001B[39m (\u001B[43mnp\u001B[49m\u001B[38;5;241;43m.\u001B[39;49m\u001B[43mdot\u001B[49m\u001B[43m(\u001B[49m\u001B[43mS\u001B[49m\u001B[38;5;241;43m.\u001B[39;49m\u001B[43mT\u001B[49m\u001B[38;5;241;43m.\u001B[39;49m\u001B[43mconjugate\u001B[49m\u001B[43m(\u001B[49m\u001B[43m)\u001B[49m\u001B[43m,\u001B[49m\u001B[43m \u001B[49m\u001B[43mA\u001B[49m\u001B[43m)\u001B[49m)\u001B[38;5;241m.\u001B[39mtrace(), rd)  \u001B[38;5;66;03m# P[i,j]=(1/4)tr(S_ij^t*A)\u001B[39;00m\n\u001B[1;32m   1178\u001B[0m \u001B[38;5;28;01mif\u001B[39;00m P[i, j] \u001B[38;5;241m!=\u001B[39m \u001B[38;5;241m0.0\u001B[39m \u001B[38;5;129;01mand\u001B[39;00m Print \u001B[38;5;241m==\u001B[39m \u001B[38;5;28;01mTrue\u001B[39;00m:\n\u001B[1;32m   1179\u001B[0m     \u001B[38;5;28mprint\u001B[39m(\u001B[38;5;124m\"\u001B[39m\u001B[38;5;124m \u001B[39m\u001B[38;5;132;01m%s\u001B[39;00m\u001B[38;5;130;01m\\t\u001B[39;00m\u001B[38;5;124m*\u001B[39m\u001B[38;5;130;01m\\t\u001B[39;00m\u001B[38;5;124m \u001B[39m\u001B[38;5;132;01m%s\u001B[39;00m\u001B[38;5;124m \u001B[39m\u001B[38;5;124m\"\u001B[39m \u001B[38;5;241m%\u001B[39m (P[i, j], label))\n",
      "File \u001B[0;32m<__array_function__ internals>:200\u001B[0m, in \u001B[0;36mdot\u001B[0;34m(*args, **kwargs)\u001B[0m\n",
      "\u001B[0;31mValueError\u001B[0m: shapes (4,4) and (625,625) not aligned: 4 (dim 1) != 625 (dim 0)"
     ]
    }
   ],
   "source": [
    "ψ_0[:,2] /= np.exp(1j*0.1)\n",
    "H_eff = ψ_0.conj().T @ H.__array__() @ ψ_0 / 2 / np.pi / GHz\n",
    "sq_ext.decomposition_in_pauli_4x4(H_eff, 4);"
   ],
   "metadata": {
    "collapsed": false,
    "ExecuteTime": {
     "end_time": "2024-03-05T15:37:46.849607Z",
     "start_time": "2024-03-05T15:37:46.812682Z"
    }
   },
   "id": "930d1d40ed3e0efb",
   "execution_count": 1106
  },
  {
   "cell_type": "code",
   "outputs": [],
   "source": [
    "def real_flux_basis_single(ψ_0,φ_ext , α, β, nmax, EJ, EC,μ=0):\n",
    "    # The derivative of the energy w.r.t. the flux is \n",
    "    # flux operator because it act so on the +/- superposition states of currents\n",
    "    e=1e-5\n",
    "    Hf_plus = FQ_single( ϕ+e*2*np.pi, α, β, nmax,0,μ).Hamiltonian(EC=EC,EJ=EJ)\n",
    "    Hf_minus= FQ_single( ϕ-e*2*np.pi, α, β, nmax,0,μ).Hamiltonian(EC=EC,EJ=EJ)\n",
    "    F = (Hf_plus - Hf_minus)/(2*e*2*np.pi)\n",
    "    \n",
    "    #Substraction of the phase so <0|F|1> is real.\n",
    "    Phase=ψb0[:,0].T.conj() @ F @ ψb0[:,1]/np.abs(ψb0[:,0].T.conj() @ F @ ψb0[:,1])\n",
    "    ψb0_new=ψb0\n",
    "    ψb0_new[:,1]=ψb0[:,1]/Phase"
   ],
   "metadata": {
    "collapsed": false
   },
   "id": "973b1130833ce6d8"
  }
 ],
 "metadata": {
  "kernelspec": {
   "display_name": "Python 3",
   "language": "python",
   "name": "python3"
  },
  "language_info": {
   "codemirror_mode": {
    "name": "ipython",
    "version": 2
   },
   "file_extension": ".py",
   "mimetype": "text/x-python",
   "name": "python",
   "nbconvert_exporter": "python",
   "pygments_lexer": "ipython2",
   "version": "2.7.6"
  }
 },
 "nbformat": 4,
 "nbformat_minor": 5
}
