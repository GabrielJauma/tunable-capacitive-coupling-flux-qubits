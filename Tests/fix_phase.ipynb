{
 "cells": [
  {
   "cell_type": "code",
   "execution_count": 19,
   "id": "initial_id",
   "metadata": {
    "collapsed": true,
    "ExecuteTime": {
     "end_time": "2024-03-11T12:43:34.079589700Z",
     "start_time": "2024-03-11T12:43:34.060378Z"
    }
   },
   "outputs": [],
   "source": [
    "import Modules.SQcircuit_extensions as sq_ext\n",
    "import Modules.figures as figs\n",
    "import SQcircuit as sq\n",
    "import numpy as np\n",
    "import matplotlib.pyplot as plt\n",
    "import importlib\n",
    "import qutip as qt\n",
    "import scipy as sp\n",
    "from itertools import product\n",
    "import sympy as sym\n",
    "\n",
    "%matplotlib ipympl\n",
    "plt.rcParams['text.usetex'] = False\n",
    "importlib.reload(sq_ext)\n",
    "importlib.reload(sq)\n",
    "importlib.reload(figs)\n",
    "np.set_printoptions(linewidth=300, formatter={'float': '{:.4f}'.format})\n",
    "GHz = 1e9"
   ]
  },
  {
   "cell_type": "code",
   "outputs": [],
   "source": [
    "fluxonium = sq_ext.sq_fluxonium()\n",
    "H_0_f = fluxonium.hamiltonian() \n",
    "H_0 = qt.tensor( H_0_f, qt.qeye(H_0_f.shape[0]) ) + qt.tensor(qt.qeye(H_0_f.shape[0]), H_0_f ) #+ 0.00001*qt.tensor(fluxonium.flux_op(0), fluxonium.flux_op(0))\n",
    "H = qt.tensor( H_0_f, qt.qeye(H_0_f.shape[0]) ) + qt.tensor(qt.qeye(H_0_f.shape[0]), H_0_f  )+ 1e5*qt.tensor(fluxonium.flux_op(0), fluxonium.flux_op(0))"
   ],
   "metadata": {
    "collapsed": false,
    "ExecuteTime": {
     "end_time": "2024-03-11T12:34:04.504224600Z",
     "start_time": "2024-03-11T12:34:04.461057Z"
    }
   },
   "id": "149f8014237706c3",
   "execution_count": 2
  },
  {
   "cell_type": "code",
   "outputs": [],
   "source": [
    "E, ψ_0_f = np.linalg.eigh(H_0_f.__array__() )\n",
    "ψ_0 = np.array([np.kron(ψ_0_f[:,0],ψ_0_f[:,0]), np.kron(ψ_0_f[:,1],ψ_0_f[:,0]), np.kron(ψ_0_f[:,0],ψ_0_f[:,1]), np.kron(ψ_0_f[:,1],ψ_0_f[:,1]) ]).T"
   ],
   "metadata": {
    "collapsed": false,
    "ExecuteTime": {
     "end_time": "2024-03-08T09:52:18.667282200Z",
     "start_time": "2024-03-08T09:52:18.647959300Z"
    }
   },
   "id": "a924933e477b97f1",
   "execution_count": 13
  },
  {
   "cell_type": "code",
   "outputs": [
    {
     "name": "stdout",
     "output_type": "stream",
     "text": [
      " (15.3596+0j)\t*\t I ⨂I \n",
      " (-0.9727+0j)\t*\t I ⨂σz \n",
      " (0.0235+0j)\t*\t σx ⨂σx \n",
      " (-0.9727+0j)\t*\t σz ⨂I \n"
     ]
    }
   ],
   "source": [
    "H_eff = ψ_0.T.conj() @ H.__array__() @ ψ_0 / 2 / np.pi / GHz\n",
    "sq_ext.decomposition_in_pauli_4x4(H_eff, 4);"
   ],
   "metadata": {
    "collapsed": false,
    "ExecuteTime": {
     "end_time": "2024-03-08T09:52:18.937866900Z",
     "start_time": "2024-03-08T09:52:18.906959900Z"
    }
   },
   "id": "546023bd870ea28c",
   "execution_count": 14
  },
  {
   "cell_type": "code",
   "outputs": [],
   "source": [
    "H, ψ_0 = sq_ext.hamiltonian_qubit_C_qubit(nmax_r=5, nmax_f=15, Cc=1, return_Ψ_nonint=True)"
   ],
   "metadata": {
    "collapsed": false,
    "ExecuteTime": {
     "end_time": "2024-03-11T12:21:48.511030900Z",
     "start_time": "2024-03-11T12:21:48.475527200Z"
    }
   },
   "id": "65de67a3a33249eb",
   "execution_count": 77
  },
  {
   "cell_type": "code",
   "outputs": [
    {
     "name": "stdout",
     "output_type": "stream",
     "text": [
      " (15.35777+0j)\t*\t I ⨂I \n",
      " (-0.95454+0j)\t*\t I ⨂σz \n",
      " (0.01687+0j)\t*\t σy ⨂σy \n",
      " (-0.95454+0j)\t*\t σz ⨂I \n"
     ]
    }
   ],
   "source": [
    "H_eff = sq_ext.H_eff_p1(ψ_0, H, 4, out='GHz', real=False, remove_ground = False)\n",
    "sq_ext.decomposition_in_pauli_4x4(H_eff, 5); "
   ],
   "metadata": {
    "collapsed": false,
    "ExecuteTime": {
     "end_time": "2024-03-11T12:21:48.743031Z",
     "start_time": "2024-03-11T12:21:48.719826400Z"
    }
   },
   "id": "30f1b35045a7038a",
   "execution_count": 78
  },
  {
   "cell_type": "code",
   "outputs": [],
   "source": [
    "qubit_C_qubit = sq_ext.sq_qubit_C_qubit(Cc=1, nmax_r=5, nmax_f=15 )\n",
    "H = qubit_C_qubit.hamiltonian()"
   ],
   "metadata": {
    "collapsed": false,
    "ExecuteTime": {
     "end_time": "2024-03-08T10:56:52.416939600Z",
     "start_time": "2024-03-08T10:56:45.029704400Z"
    }
   },
   "id": "6ba71f75865e6943",
   "execution_count": 130
  },
  {
   "cell_type": "code",
   "outputs": [
    {
     "name": "stdout",
     "output_type": "stream",
     "text": [
      " (16.83293+0j)\t*\t I ⨂I \n",
      " (-1.65871+0j)\t*\t I ⨂σz \n",
      " (-1.63884+0j)\t*\t σz ⨂I \n",
      " (0.36026+0j)\t*\t σz ⨂σz \n"
     ]
    }
   ],
   "source": [
    "H_eff = sq_ext.H_eff_p1(ψ_0, H.permute([2,0,3,1]), 4, out='GHz', real=False, remove_ground = False)\n",
    "sq_ext.decomposition_in_pauli_4x4(H_eff, 5); "
   ],
   "metadata": {
    "collapsed": false,
    "ExecuteTime": {
     "end_time": "2024-03-08T10:56:53.602471100Z",
     "start_time": "2024-03-08T10:56:52.835875600Z"
    }
   },
   "id": "69fc0326122df84d",
   "execution_count": 131
  },
  {
   "cell_type": "code",
   "outputs": [],
   "source": [
    "Hs, ψ_0 = sq_ext.hamiltonian_qubit_C_qubit_C_qubit(nmax_r=5, nmax_f=5, Cc=0, return_Ψ_nonint=True, n_eig_Ψ_nonint=8, periodic=True)"
   ],
   "metadata": {
    "collapsed": false,
    "ExecuteTime": {
     "end_time": "2024-03-11T13:54:05.911602800Z",
     "start_time": "2024-03-11T13:54:05.879499700Z"
    }
   },
   "id": "a1d90b3373351185",
   "execution_count": 72
  },
  {
   "cell_type": "code",
   "outputs": [],
   "source": [
    "n_eig_Ψ_nonint = 8\n",
    "H_qubit, Ψ_q_0, E_q_0 = sq_ext.hamiltonian_qubit(nmax_r=5, nmax_f=15, return_Ψ_nonint=True, n_eig_Ψ_nonint=n_eig_Ψ_nonint)\n",
    "E_q_C_q_C_q, Nq_Nq_Nq = sq_ext.generate_and_prioritize_energies([E_q_0, E_q_0, E_q_0], n_eig=n_eig_Ψ_nonint)\n",
    "Ψ_0 = [qt.tensor([Ψ_q_0[Nq_Nq_Nq_i[0]], Ψ_q_0[Nq_Nq_Nq_i[1]],Ψ_q_0[Nq_Nq_Nq_i[2]]  ]) for Nq_Nq_Nq_i in Nq_Nq_Nq]"
   ],
   "metadata": {
    "collapsed": false,
    "ExecuteTime": {
     "end_time": "2024-03-11T13:49:38.505661300Z",
     "start_time": "2024-03-11T13:49:38.467083500Z"
    }
   },
   "id": "2c98059479fd52ca",
   "execution_count": 49
  },
  {
   "cell_type": "code",
   "outputs": [],
   "source": [
    "# Hf = sq_ext.sq_qubit(nmax_r=5, nmax_f=5).hamiltonian()\n",
    "Hf = sq_ext.hamiltonian_qubit(nmax_r=5, nmax_f=5)\n",
    "I = qt.qeye(Hf.dims[0])\n",
    "Hs = qt.tensor(Hf, I, I) + qt.tensor(I, Hf, I) + qt.tensor(I, I, Hf)"
   ],
   "metadata": {
    "collapsed": false,
    "ExecuteTime": {
     "end_time": "2024-03-11T13:54:08.451854100Z",
     "start_time": "2024-03-11T13:54:08.415683400Z"
    }
   },
   "id": "eb991fc1cd2b43c4",
   "execution_count": 73
  },
  {
   "cell_type": "code",
   "outputs": [],
   "source": [
    "Hs = sq_ext.hamiltonian_qubit_C_qubit(nmax_r=5, nmax_f=5, Cc=0)"
   ],
   "metadata": {
    "collapsed": false,
    "ExecuteTime": {
     "end_time": "2024-03-11T13:54:09.438788800Z",
     "start_time": "2024-03-11T13:54:09.405464900Z"
    }
   },
   "id": "46137d83b1afba2c",
   "execution_count": 74
  },
  {
   "cell_type": "code",
   "outputs": [],
   "source": [
    "ψ = sq_ext.diag(Hf, n_eig=2, solver='numpy')[1]\n",
    "ψ0 = qt.Qobj(ψ[:,0])\n",
    "ψ1 = qt.Qobj(ψ[:,1])"
   ],
   "metadata": {
    "collapsed": false,
    "ExecuteTime": {
     "end_time": "2024-03-11T13:54:10.572730500Z",
     "start_time": "2024-03-11T13:54:10.569354800Z"
    }
   },
   "id": "bbcc1ff5e598488a",
   "execution_count": 75
  },
  {
   "cell_type": "code",
   "outputs": [],
   "source": [
    "ψ_0 = [ qt.tensor(ψ0,ψ0,ψ0) ,\n",
    "        qt.tensor(ψ1,ψ0,ψ0) ,\n",
    "        qt.tensor(ψ0,ψ0,ψ0) ,\n",
    "        qt.tensor(ψ0,ψ1,ψ0) ,\n",
    "        qt.tensor(ψ0,ψ0,ψ0) ,\n",
    "        qt.tensor(ψ0,ψ0,ψ1) ,\n",
    "        qt.tensor(ψ1,ψ1,ψ0) ,\n",
    "        qt.tensor(ψ1,ψ1,ψ1) ]\n",
    "    "
   ],
   "metadata": {
    "collapsed": false,
    "ExecuteTime": {
     "end_time": "2024-03-11T13:54:11.047144100Z",
     "start_time": "2024-03-11T13:54:11.030552100Z"
    }
   },
   "id": "6c91239c4734c90a",
   "execution_count": 76
  },
  {
   "cell_type": "code",
   "outputs": [
    {
     "data": {
      "text/plain": "array([[1.25968355e+11+0.j]])"
     },
     "execution_count": 17,
     "metadata": {},
     "output_type": "execute_result"
    }
   ],
   "source": [
    "ψ_0[0].dag().__array__() @ Hs.__array__() @ ψ_0[0].__array__()"
   ],
   "metadata": {
    "collapsed": false,
    "ExecuteTime": {
     "end_time": "2024-03-11T12:40:19.804296900Z",
     "start_time": "2024-03-11T12:40:18.809508600Z"
    }
   },
   "id": "798bb578d8a7b64a",
   "execution_count": 17
  },
  {
   "cell_type": "code",
   "outputs": [],
   "source": [
    "ψ_0 = [ qt.tensor(qt.Qobj(ψ[:,0]), qt.Qobj(ψ[:,0])), qt.tensor(qt.Qobj(ψ[:,1]), qt.Qobj(ψ[:,0])), qt.tensor(qt.Qobj(ψ[:,0]), qt.Qobj(ψ[:,1])), qt.tensor(qt.Qobj(ψ[:,1]), qt.Qobj(ψ[:,1]))]"
   ],
   "metadata": {
    "collapsed": false
   },
   "id": "572bbae76061bb13",
   "execution_count": 70
  },
  {
   "cell_type": "code",
   "outputs": [
    {
     "name": "stdout",
     "output_type": "stream",
     "text": [
      "Wrong dimensions, doing the tensor product in dense form\n"
     ]
    },
    {
     "ename": "ValueError",
     "evalue": "matmul: Input operand 1 has a mismatch in its core dimension 0, with gufunc signature (n?,k),(k,m?)->(n?,m?) (size 625 is different from 15625)",
     "output_type": "error",
     "traceback": [
      "\u001B[1;31m---------------------------------------------------------------------------\u001B[0m",
      "\u001B[1;31mTypeError\u001B[0m                                 Traceback (most recent call last)",
      "File \u001B[1;32m~\\PycharmProjects\\tunable-capacitive-coupling-flux-qubits\\Modules\\SQcircuit_extensions.py:606\u001B[0m, in \u001B[0;36mH_eff_p1\u001B[1;34m(ψ_0, H, n_eig, out, real, remove_ground, H_0)\u001B[0m\n\u001B[0;32m    605\u001B[0m \u001B[38;5;28;01mtry\u001B[39;00m:\n\u001B[1;32m--> 606\u001B[0m     H_eff[i, j] \u001B[38;5;241m=\u001B[39m (\u001B[43mψ_0\u001B[49m\u001B[43m[\u001B[49m\u001B[43mi\u001B[49m\u001B[43m]\u001B[49m\u001B[38;5;241;43m.\u001B[39;49m\u001B[43mdag\u001B[49m\u001B[43m(\u001B[49m\u001B[43m)\u001B[49m\u001B[43m \u001B[49m\u001B[38;5;241;43m*\u001B[39;49m\u001B[43m \u001B[49m\u001B[43mH\u001B[49m \u001B[38;5;241m*\u001B[39m ψ_0[j])\u001B[38;5;241m.\u001B[39mdata[\u001B[38;5;241m0\u001B[39m, \u001B[38;5;241m0\u001B[39m]\n\u001B[0;32m    607\u001B[0m \u001B[38;5;28;01mexcept\u001B[39;00m:\n",
      "File \u001B[1;32m~\\miniconda3\\envs\\tunable-cc-fq\\lib\\site-packages\\qutip\\qobj.py:555\u001B[0m, in \u001B[0;36mQobj.__mul__\u001B[1;34m(self, other)\u001B[0m\n\u001B[0;32m    554\u001B[0m     \u001B[38;5;28;01melse\u001B[39;00m:\n\u001B[1;32m--> 555\u001B[0m         \u001B[38;5;28;01mraise\u001B[39;00m \u001B[38;5;167;01mTypeError\u001B[39;00m(\u001B[38;5;124m\"\u001B[39m\u001B[38;5;124mIncompatible Qobj shapes\u001B[39m\u001B[38;5;124m\"\u001B[39m)\n\u001B[0;32m    557\u001B[0m \u001B[38;5;28;01melif\u001B[39;00m \u001B[38;5;28misinstance\u001B[39m(other, np\u001B[38;5;241m.\u001B[39mndarray):\n",
      "\u001B[1;31mTypeError\u001B[0m: Incompatible Qobj shapes",
      "\nDuring handling of the above exception, another exception occurred:\n",
      "\u001B[1;31mValueError\u001B[0m                                Traceback (most recent call last)",
      "Cell \u001B[1;32mIn[77], line 1\u001B[0m\n\u001B[1;32m----> 1\u001B[0m H_eff \u001B[38;5;241m=\u001B[39m \u001B[43msq_ext\u001B[49m\u001B[38;5;241;43m.\u001B[39;49m\u001B[43mH_eff_p1\u001B[49m\u001B[43m(\u001B[49m\u001B[43mψ_0\u001B[49m\u001B[38;5;241;43m=\u001B[39;49m\u001B[43mψ_0\u001B[49m\u001B[43m,\u001B[49m\u001B[43m \u001B[49m\u001B[43mn_eig\u001B[49m\u001B[38;5;241;43m=\u001B[39;49m\u001B[38;5;241;43m8\u001B[39;49m\u001B[43m,\u001B[49m\u001B[43m \u001B[49m\u001B[43mH\u001B[49m\u001B[43m \u001B[49m\u001B[38;5;241;43m=\u001B[39;49m\u001B[43m \u001B[49m\u001B[43mHs\u001B[49m\u001B[43m)\u001B[49m\n",
      "File \u001B[1;32m~\\PycharmProjects\\tunable-capacitive-coupling-flux-qubits\\Modules\\SQcircuit_extensions.py:609\u001B[0m, in \u001B[0;36mH_eff_p1\u001B[1;34m(ψ_0, H, n_eig, out, real, remove_ground, H_0)\u001B[0m\n\u001B[0;32m    607\u001B[0m             \u001B[38;5;28;01mexcept\u001B[39;00m:\n\u001B[0;32m    608\u001B[0m                 \u001B[38;5;28mprint\u001B[39m(\u001B[38;5;124m'\u001B[39m\u001B[38;5;124mWrong dimensions, doing the tensor product in dense form\u001B[39m\u001B[38;5;124m'\u001B[39m)\n\u001B[1;32m--> 609\u001B[0m                 H_eff[i, j] \u001B[38;5;241m=\u001B[39m \u001B[43mψ_0\u001B[49m\u001B[43m[\u001B[49m\u001B[43mi\u001B[49m\u001B[43m]\u001B[49m\u001B[38;5;241;43m.\u001B[39;49m\u001B[43mdag\u001B[49m\u001B[43m(\u001B[49m\u001B[43m)\u001B[49m\u001B[38;5;241;43m.\u001B[39;49m\u001B[43m__array__\u001B[49m\u001B[43m(\u001B[49m\u001B[43m)\u001B[49m\u001B[43m \u001B[49m\u001B[38;5;241;43m@\u001B[39;49m\u001B[43m \u001B[49m\u001B[43mH\u001B[49m\u001B[38;5;241;43m.\u001B[39;49m\u001B[43m__array__\u001B[49m\u001B[43m(\u001B[49m\u001B[43m)\u001B[49m \u001B[38;5;241m@\u001B[39m ψ_0[j]\u001B[38;5;241m.\u001B[39m__array__()\n\u001B[0;32m    611\u001B[0m \u001B[38;5;28;01mif\u001B[39;00m out \u001B[38;5;241m==\u001B[39m \u001B[38;5;124m'\u001B[39m\u001B[38;5;124mGHz\u001B[39m\u001B[38;5;124m'\u001B[39m:\n\u001B[0;32m    612\u001B[0m     H_eff \u001B[38;5;241m/\u001B[39m\u001B[38;5;241m=\u001B[39m GHz \u001B[38;5;241m*\u001B[39m \u001B[38;5;241m2\u001B[39m \u001B[38;5;241m*\u001B[39m np\u001B[38;5;241m.\u001B[39mpi\n",
      "\u001B[1;31mValueError\u001B[0m: matmul: Input operand 1 has a mismatch in its core dimension 0, with gufunc signature (n?,k),(k,m?)->(n?,m?) (size 625 is different from 15625)"
     ]
    }
   ],
   "source": [
    "H_eff = sq_ext.H_eff_p1(ψ_0=ψ_0, n_eig=8, H = Hs)"
   ],
   "metadata": {
    "collapsed": false,
    "ExecuteTime": {
     "end_time": "2024-03-11T13:54:14.252481500Z",
     "start_time": "2024-03-11T13:54:14.194126800Z"
    }
   },
   "id": "62d154476b8256ec",
   "execution_count": 77
  },
  {
   "cell_type": "code",
   "outputs": [
    {
     "name": "stdout",
     "output_type": "stream",
     "text": [
      " (23.039+0j)\t*\t I ⨂ I ⨂ I \n",
      " (0.001+0j)\t*\t I ⨂ I ⨂ σx \n",
      " (-0.485+0j)\t*\t I ⨂ I ⨂ σz \n",
      " (0.001+0j)\t*\t I ⨂ σx ⨂ I \n",
      " (0.001+0j)\t*\t I ⨂ σx ⨂ σx \n",
      " (0.001+0j)\t*\t I ⨂ σy ⨂ σy \n",
      " (-0.485+0j)\t*\t I ⨂ σz ⨂ I \n",
      " (-0.001+0j)\t*\t σx ⨂ I ⨂ I \n",
      " (-0.001+0j)\t*\t σx ⨂ I ⨂ σx \n",
      " (-0.001+0j)\t*\t σx ⨂ σx ⨂ I \n",
      " (-0.001+0j)\t*\t σx ⨂ σz ⨂ σz \n",
      " (0.001+0j)\t*\t σy ⨂ I ⨂ σy \n",
      " (0.001+0j)\t*\t σy ⨂ σy ⨂ I \n",
      " (-1.456+0j)\t*\t σz ⨂ I ⨂ I \n",
      " (-0.001+0j)\t*\t σz ⨂ σx ⨂ σz \n",
      " (-0.001+0j)\t*\t σz ⨂ σz ⨂ σx \n",
      " (-0.485+0j)\t*\t σz ⨂ σz ⨂ σz \n"
     ]
    }
   ],
   "source": [
    "sq_ext.decomposition_in_pauli_8x8(H_eff, 3); "
   ],
   "metadata": {
    "collapsed": false,
    "ExecuteTime": {
     "end_time": "2024-03-11T13:51:43.380845400Z",
     "start_time": "2024-03-11T13:51:43.370030100Z"
    }
   },
   "id": "256cf4da08f1ed9e",
   "execution_count": 65
  },
  {
   "cell_type": "code",
   "outputs": [
    {
     "data": {
      "text/plain": "True"
     },
     "execution_count": 13,
     "metadata": {},
     "output_type": "execute_result"
    }
   ],
   "source": [
    "I_qubit = qt.identity(H_qubit.dims[0])\n",
    "H_test =    (  qt.tensor(H_qubit, I_qubit, I_qubit)\n",
    "               + qt.tensor(I_qubit, H_qubit, I_qubit)\n",
    "               + qt.tensor(I_qubit, I_qubit, H_qubit) )\n",
    "H == H_test"
   ],
   "metadata": {
    "collapsed": false,
    "ExecuteTime": {
     "end_time": "2024-03-11T11:06:21.429568400Z",
     "start_time": "2024-03-11T11:06:21.393231800Z"
    }
   },
   "id": "39557f5822ed3a68",
   "execution_count": 13
  },
  {
   "cell_type": "code",
   "outputs": [],
   "source": [
    "H_eff = sq_ext.H_eff_p1(ψ_0, H, 8, out='GHz', real=False, remove_ground = True)"
   ],
   "metadata": {
    "collapsed": false,
    "ExecuteTime": {
     "end_time": "2024-03-11T11:06:37.672603900Z",
     "start_time": "2024-03-11T11:06:37.658701800Z"
    }
   },
   "id": "4c616e77a498555c",
   "execution_count": 14
  },
  {
   "cell_type": "code",
   "outputs": [
    {
     "data": {
      "text/plain": "[[0, 0, 0],\n [1, 0, 0],\n [0, 1, 0],\n [0, 0, 1],\n [1, 1, 0],\n [1, 0, 1],\n [0, 1, 1],\n [1, 1, 1]]"
     },
     "execution_count": 28,
     "metadata": {},
     "output_type": "execute_result"
    }
   ],
   "source": [
    "Nq_Nq_Nq"
   ],
   "metadata": {
    "collapsed": false,
    "ExecuteTime": {
     "end_time": "2024-03-11T11:15:16.952222900Z",
     "start_time": "2024-03-11T11:15:16.926607500Z"
    }
   },
   "id": "f5013197c5968a99",
   "execution_count": 28
  },
  {
   "cell_type": "code",
   "outputs": [
    {
     "data": {
      "text/plain": "array([0.0000, 1.8860, 1.8860, 1.8860, 3.7719, 3.7719, 3.7719, 5.6579])"
     },
     "execution_count": 25,
     "metadata": {},
     "output_type": "execute_result"
    }
   ],
   "source": [
    "E_q_C_q_C_q"
   ],
   "metadata": {
    "collapsed": false,
    "ExecuteTime": {
     "end_time": "2024-03-11T11:14:23.255015400Z",
     "start_time": "2024-03-11T11:14:23.241173500Z"
    }
   },
   "id": "220544a9b44c900d",
   "execution_count": 25
  },
  {
   "cell_type": "code",
   "outputs": [
    {
     "data": {
      "text/plain": "array([0.0000, 1.8860, 1.8860, 1.8860, 3.7719, 3.7719, 3.7719, 5.6579])"
     },
     "execution_count": 27,
     "metadata": {},
     "output_type": "execute_result"
    }
   ],
   "source": [
    "sq_ext.diag(H_eff, 8, out = None, solver='numpy')[0]"
   ],
   "metadata": {
    "collapsed": false,
    "ExecuteTime": {
     "end_time": "2024-03-11T11:14:59.624572200Z",
     "start_time": "2024-03-11T11:14:59.601898400Z"
    }
   },
   "id": "60f8be2e535bc462",
   "execution_count": 27
  },
  {
   "cell_type": "code",
   "outputs": [
    {
     "name": "stdout",
     "output_type": "stream",
     "text": [
      " (2.82893+0j)\t*\t I ⨂ I ⨂ I \n",
      " (-0.47149+0j)\t*\t I ⨂ I ⨂ σz \n",
      " (-0.47149+0j)\t*\t I ⨂ σz ⨂ I \n",
      " (-1.41446+0j)\t*\t σz ⨂ I ⨂ I \n",
      " (-0.47149+0j)\t*\t σz ⨂ σz ⨂ σz \n"
     ]
    }
   ],
   "source": [
    "sq_ext.decomposition_in_pauli_8x8(H_eff, 5);"
   ],
   "metadata": {
    "collapsed": false,
    "ExecuteTime": {
     "end_time": "2024-03-11T11:06:46.990546100Z",
     "start_time": "2024-03-11T11:06:46.972452600Z"
    }
   },
   "id": "c7e0d4a55e636fee",
   "execution_count": 15
  },
  {
   "cell_type": "code",
   "outputs": [
    {
     "name": "stdout",
     "output_type": "stream",
     "text": [
      " (1+0j)\t*\t I ⨂ I ⨂ σz \n",
      " (1+0j)\t*\t I ⨂ σz ⨂ I \n",
      " (1+0j)\t*\t σz ⨂ I ⨂ I \n"
     ]
    }
   ],
   "source": [
    "σz = qt.sigmaz()\n",
    "σx = qt.sigmax()\n",
    "I = qt.qeye(2)\n",
    "# H_test = qt.tensor(σz, σz ,2*σx) + qt.tensor(I, σz, σz) + qt.tensor(I, I, σx) + qt.tensor(σx,σx,σx)\n",
    "H_test = qt.tensor(σz,I, I) + qt.tensor(I, σz,I) + qt.tensor(I, I, σz) \n",
    "sq_ext.decomposition_in_pauli_8x8(H_test, 5);"
   ],
   "metadata": {
    "collapsed": false,
    "ExecuteTime": {
     "end_time": "2024-03-11T13:18:44.357317Z",
     "start_time": "2024-03-11T13:18:44.334146200Z"
    }
   },
   "id": "763fbc8922403ff5",
   "execution_count": 43
  },
  {
   "cell_type": "code",
   "outputs": [
    {
     "data": {
      "text/plain": "Quantum object: dims = [[2, 2, 2], [2, 2, 2]], shape = (8, 8), type = oper, isherm = True\nQobj data =\n[[3.0000 0.0000 0.0000 0.0000 0.0000 0.0000 0.0000 0.0000]\n [0.0000 1.0000 0.0000 0.0000 0.0000 0.0000 0.0000 0.0000]\n [0.0000 0.0000 1.0000 0.0000 0.0000 0.0000 0.0000 0.0000]\n [0.0000 0.0000 0.0000 -1.0000 0.0000 0.0000 0.0000 0.0000]\n [0.0000 0.0000 0.0000 0.0000 1.0000 0.0000 0.0000 0.0000]\n [0.0000 0.0000 0.0000 0.0000 0.0000 -1.0000 0.0000 0.0000]\n [0.0000 0.0000 0.0000 0.0000 0.0000 0.0000 -1.0000 0.0000]\n [0.0000 0.0000 0.0000 0.0000 0.0000 0.0000 0.0000 -3.0000]]",
      "text/latex": "Quantum object: dims = [[2, 2, 2], [2, 2, 2]], shape = (8, 8), type = oper, isherm = True $ \\\\ \\left(\\begin{matrix}3.0 & 0.0 & 0.0 & 0.0 & 0.0 & 0.0 & 0.0 & 0.0\\\\0.0 & 1.0 & 0.0 & 0.0 & 0.0 & 0.0 & 0.0 & 0.0\\\\0.0 & 0.0 & 1.0 & 0.0 & 0.0 & 0.0 & 0.0 & 0.0\\\\0.0 & 0.0 & 0.0 & -1.0 & 0.0 & 0.0 & 0.0 & 0.0\\\\0.0 & 0.0 & 0.0 & 0.0 & 1.0 & 0.0 & 0.0 & 0.0\\\\0.0 & 0.0 & 0.0 & 0.0 & 0.0 & -1.0 & 0.0 & 0.0\\\\0.0 & 0.0 & 0.0 & 0.0 & 0.0 & 0.0 & -1.0 & 0.0\\\\0.0 & 0.0 & 0.0 & 0.0 & 0.0 & 0.0 & 0.0 & -3.0\\\\\\end{matrix}\\right)$"
     },
     "execution_count": 44,
     "metadata": {},
     "output_type": "execute_result"
    }
   ],
   "source": [
    "H_test"
   ],
   "metadata": {
    "collapsed": false,
    "ExecuteTime": {
     "end_time": "2024-03-11T13:18:44.777218300Z",
     "start_time": "2024-03-11T13:18:44.770658Z"
    }
   },
   "id": "cdcd7e008a485747",
   "execution_count": 44
  },
  {
   "cell_type": "code",
   "outputs": [
    {
     "data": {
      "text/plain": "array([[1.+0.j, 0.+0.j, 0.+0.j, 0.+0.j, 0.+0.j, 0.+0.j, 0.+0.j, 0.+0.j],\n       [0.+0.j, 3.+0.j, 0.+0.j, 0.+0.j, 0.+0.j, 0.+0.j, 0.+0.j, 0.+0.j],\n       [0.+0.j, 0.+0.j, 3.+0.j, 0.+0.j, 0.+0.j, 0.+0.j, 0.+0.j, 0.+0.j],\n       [0.+0.j, 0.+0.j, 0.+0.j, 5.+0.j, 0.+0.j, 0.+0.j, 0.+0.j, 0.+0.j],\n       [0.+0.j, 0.+0.j, 0.+0.j, 0.+0.j, 3.+0.j, 0.+0.j, 0.+0.j, 0.+0.j],\n       [0.+0.j, 0.+0.j, 0.+0.j, 0.+0.j, 0.+0.j, 5.+0.j, 0.+0.j, 0.+0.j],\n       [0.+0.j, 0.+0.j, 0.+0.j, 0.+0.j, 0.+0.j, 0.+0.j, 5.+0.j, 0.+0.j],\n       [0.+0.j, 0.+0.j, 0.+0.j, 0.+0.j, 0.+0.j, 0.+0.j, 0.+0.j, 7.+0.j]])"
     },
     "execution_count": 39,
     "metadata": {},
     "output_type": "execute_result"
    }
   ],
   "source": [
    "H_test.__array__()[::-1,::-1]"
   ],
   "metadata": {
    "collapsed": false,
    "ExecuteTime": {
     "end_time": "2024-03-11T13:17:46.380139Z",
     "start_time": "2024-03-11T13:17:46.370349200Z"
    }
   },
   "id": "93a5a2494eb30717",
   "execution_count": 39
  },
  {
   "cell_type": "code",
   "outputs": [
    {
     "name": "stdout",
     "output_type": "stream",
     "text": [
      " (4+0j)\t*\t I ⨂ I ⨂ I \n",
      " (-1+0j)\t*\t I ⨂ I ⨂ σz \n",
      " (-1+0j)\t*\t I ⨂ σz ⨂ I \n",
      " (-1+0j)\t*\t σz ⨂ I ⨂ I \n"
     ]
    }
   ],
   "source": [
    "sq_ext.decomposition_in_pauli_8x8(H_test.__array__()[::-1,::-1], 5);"
   ],
   "metadata": {
    "collapsed": false,
    "ExecuteTime": {
     "end_time": "2024-03-11T13:17:59.913455Z",
     "start_time": "2024-03-11T13:17:59.874228500Z"
    }
   },
   "id": "a04e14f67083881c",
   "execution_count": 40
  },
  {
   "cell_type": "code",
   "outputs": [
    {
     "name": "stdout",
     "output_type": "stream",
     "text": [
      " (2.82874+0j)\t*\t I ⨂ I ⨂ I \n",
      " (-0.47146+0j)\t*\t I ⨂ I ⨂ σz \n",
      " (-0.47146+0j)\t*\t I ⨂ σz ⨂ I \n",
      " (-1.41437+0j)\t*\t σz ⨂ I ⨂ I \n",
      " (-0.47146+0j)\t*\t σz ⨂ σz ⨂ σz \n"
     ]
    }
   ],
   "source": [
    "H_eff = sq_ext.H_eff_p1(ψ_0, H, 8, out='GHz', real=False, remove_ground = True, H_0 = H)\n",
    "sq_ext.decomposition_in_pauli_8x8(H_eff, 5);"
   ],
   "metadata": {
    "collapsed": false
   },
   "id": "607bcae227651801",
   "execution_count": 168
  },
  {
   "cell_type": "code",
   "outputs": [
    {
     "data": {
      "text/plain": "array([[0.0000, 0.0000, 0.0000, 0.0000, -0.0200, -0.0200, -0.0200, 0.0000],\n       [0.0000, 1.9100, 0.0200, 0.0200, 0.0000, 0.0000, 0.0000, -0.0200],\n       [0.0000, 0.0200, 1.9100, 0.0200, 0.0000, 0.0000, 0.0000, -0.0200],\n       [0.0000, 0.0200, 0.0200, 1.9100, 0.0000, 0.0000, 0.0000, -0.0200],\n       [-0.0200, 0.0000, 0.0000, 0.0000, 3.8200, 0.0200, 0.0200, 0.0000],\n       [-0.0200, 0.0000, 0.0000, 0.0000, 0.0200, 3.8200, 0.0200, 0.0000],\n       [-0.0200, 0.0000, 0.0000, 0.0000, 0.0200, 0.0200, 3.8200, 0.0000],\n       [0.0000, -0.0200, -0.0200, -0.0200, 0.0000, 0.0000, 0.0000, 5.7300]])"
     },
     "execution_count": 188,
     "metadata": {},
     "output_type": "execute_result"
    }
   ],
   "source": [
    "np.round(np.real(H_eff),2)"
   ],
   "metadata": {
    "collapsed": false,
    "ExecuteTime": {
     "end_time": "2024-03-07T13:36:53.003416300Z",
     "start_time": "2024-03-07T13:36:52.982888200Z"
    }
   },
   "id": "817bbf045b600328",
   "execution_count": 188
  },
  {
   "cell_type": "code",
   "outputs": [],
   "source": [],
   "metadata": {
    "collapsed": false
   },
   "id": "a8148b87f417f475"
  }
 ],
 "metadata": {
  "kernelspec": {
   "display_name": "Python 3",
   "language": "python",
   "name": "python3"
  },
  "language_info": {
   "codemirror_mode": {
    "name": "ipython",
    "version": 2
   },
   "file_extension": ".py",
   "mimetype": "text/x-python",
   "name": "python",
   "nbconvert_exporter": "python",
   "pygments_lexer": "ipython2",
   "version": "2.7.6"
  }
 },
 "nbformat": 4,
 "nbformat_minor": 5
}
