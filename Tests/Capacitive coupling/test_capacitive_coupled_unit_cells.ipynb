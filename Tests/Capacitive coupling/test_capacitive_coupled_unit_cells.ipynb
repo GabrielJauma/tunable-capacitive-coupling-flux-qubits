{
 "cells": [
  {
   "cell_type": "code",
   "metadata": {
    "ExecuteTime": {
     "end_time": "2024-05-14T15:22:04.387515Z",
     "start_time": "2024-05-14T15:22:04.383711Z"
    }
   },
   "source": [
    "import Modules.SQcircuit_extensions as sq_ext\n",
    "import Modules.figures as figs\n",
    "import SQcircuit as sq\n",
    "import numpy as np\n",
    "import matplotlib.pyplot as plt\n",
    "import importlib\n",
    "import qutip as qt\n",
    "import scipy as sp\n",
    "%matplotlib ipympl\n",
    "\n",
    "plt.rcParams['text.usetex'] = False\n",
    "importlib.reload(sq_ext)\n",
    "importlib.reload(sq)\n",
    "importlib.reload(figs)\n",
    "np.set_printoptions(linewidth=200, formatter={'float': '{:.6f}'.format})\n",
    "# np.set_printoptions(linewidth=200, formatter={'float': '{:.3e}'.format})"
   ],
   "outputs": [],
   "execution_count": 59
  },
  {
   "cell_type": "code",
   "metadata": {
    "ExecuteTime": {
     "end_time": "2024-05-14T15:22:04.555348Z",
     "start_time": "2024-05-14T15:22:04.553667Z"
    }
   },
   "source": [
    "GHz = 1e9\n",
    "fF = 1e-15\n",
    "nH = 1e-9"
   ],
   "outputs": [],
   "execution_count": 60
  },
  {
   "metadata": {
    "ExecuteTime": {
     "end_time": "2024-05-14T15:23:28.944996Z",
     "start_time": "2024-05-14T15:23:28.939521Z"
    }
   },
   "cell_type": "code",
   "source": [
    "def fluxonium(LF, CF, EJ, nmax):\n",
    "    loop = sq.Loop(0.5)\n",
    "    C_01   = sq.Capacitor(CF, 'fF')\n",
    "    L_01   = sq.Inductor (LF, 'nH', loops=[loop])\n",
    "    EJ_01  = sq.Junction(EJ, 'GHz', loops=[loop])\n",
    "    elements = {(0, 1): [L_01, C_01, EJ_01]}\n",
    "    circuit = sq.Circuit(elements)\n",
    "    circuit.set_trunc_nums([nmax])\n",
    "    return circuit\n",
    "\n",
    "def resonator(LR, CR, nmax):\n",
    "    L_01   = sq.Inductor (LR, 'nH')\n",
    "    C_01   = sq.Capacitor(CR, 'fF')\n",
    "    elements = {(0, 1): [L_01, C_01],}\n",
    "    circuit = sq.Circuit(elements)\n",
    "    circuit.set_trunc_nums([nmax])\n",
    "    return circuit\n",
    "\n",
    "def coupled_unit_cells(LF1, CF1, EJ1, LR1, CR1, LF2, CF2, EJ2, LR2, CR2, CC, nmax):\n",
    "    # This ignores the internal flux*flux coupling, that is for Δ=0. \n",
    "    loop1 = sq.Loop(0.5)\n",
    "    C_01   = sq.Capacitor(CF1, 'fF')\n",
    "    L_01   = sq.Inductor (LF1, 'nH', loops=[loop1])\n",
    "    EJ_01  = sq.Junction (EJ1, 'GHz',loops=[loop1])\n",
    "\n",
    "    L_02   = sq.Inductor (LR1, 'nH')\n",
    "    C_02   = sq.Capacitor(CR1, 'fF')\n",
    "    \n",
    "    loop2 = sq.Loop(0.5)\n",
    "    C_03   = sq.Capacitor(CF2, 'fF')\n",
    "    L_03   = sq.Inductor (LF2, 'nH', loops=[loop2])\n",
    "    EJ_03  = sq.Junction (EJ2, 'GHz',loops=[loop2])\n",
    "\n",
    "    L_04   = sq.Inductor (LR2, 'nH')\n",
    "    C_04   = sq.Capacitor(CR2, 'fF')\n",
    "    \n",
    "    elements = {(0, 1): [L_01, C_01, EJ_01],\n",
    "                (0, 2): [L_02, C_02],\n",
    "                (0, 3): [L_03, C_03, EJ_03],\n",
    "                (0, 4): [L_04, C_04],\n",
    "                (1, 3): [CC],\n",
    "                (1, 4): [CC],\n",
    "                (2, 3): [CC],\n",
    "                (2, 4): [CC]}\n",
    "    \n",
    "    circuit = sq.Circuit(elements)\n",
    "    circuit.set_trunc_nums([nmax**2,nmax**2])\n",
    "    \n",
    "    return circuit\n",
    "\n",
    "# def coupled_fluxoniums(L1, C1, EJ1, L2, C2, EJ2, CC):\n",
    "#     loop1 = sq.Loop(0.5)\n",
    "#     loop2 = sq.Loop(0.5)\n",
    "#     \n",
    "#     C_01 = sq.Capacitor(C1, 'fF')\n",
    "#     L_01 = sq.Inductor (L1, 'nH', loops=[loop1])\n",
    "#     EJ_01  = sq.Junction(EJ1, 'GHz', loops=[loop1])\n",
    "#     \n",
    "#     C_02 = sq.Capacitor(C2, 'fF')\n",
    "#     L_02 = sq.Inductor (L2, 'nH', loops=[loop2])\n",
    "#     EJ_02  = sq.Junction(EJ2, 'GHz', loops=[loop2])\n",
    "#     \n",
    "#     C_12 = sq.Capacitor(CC, 'fF')\n",
    "#     \n",
    "#     elements = {(0, 1): [L_01, C_01, EJ_01],\n",
    "#                 (0, 2): [L_02, C_02, EJ_02],\n",
    "#                 (1, 2): [C_12], }\n",
    "#     return sq.Circuit(elements)"
   ],
   "outputs": [],
   "execution_count": 72
  },
  {
   "cell_type": "code",
   "metadata": {
    "ExecuteTime": {
     "end_time": "2024-05-14T15:23:29.920395Z",
     "start_time": "2024-05-14T15:23:29.918515Z"
    }
   },
   "source": [
    "n_eig = 5\n",
    "nmax = 15"
   ],
   "outputs": [],
   "execution_count": 73
  },
  {
   "metadata": {
    "ExecuteTime": {
     "end_time": "2024-05-14T15:25:17.502366Z",
     "start_time": "2024-05-14T15:25:17.500372Z"
    }
   },
   "cell_type": "code",
   "source": [
    "LF1 = 3\n",
    "CF1 = 3\n",
    "EJ1 = 5\n",
    "LR1 = 2\n",
    "CR1 = 3\n",
    "\n",
    "LF2 = 3\n",
    "CF2 = 3\n",
    "EJ2 = 5\n",
    "LR2 = 2\n",
    "CR2 = 3\n",
    "\n",
    "CC = 2\n",
    "\n",
    "only_inner = True\n",
    "ompensate_extra_cap = True"
   ],
   "outputs": [],
   "execution_count": 77
  },
  {
   "metadata": {
    "ExecuteTime": {
     "end_time": "2024-05-14T15:25:18.336655Z",
     "start_time": "2024-05-14T15:25:17.694547Z"
    }
   },
   "cell_type": "code",
   "source": "H_unit_cell_1_full = coupled_unit_cells(LF1, CF1, EJ1, LR1, CR1, LF2, CF2, EJ2, LR2, CR2, CC, nmax).hamiltonian()",
   "outputs": [],
   "execution_count": 78
  },
  {
   "metadata": {
    "ExecuteTime": {
     "end_time": "2024-05-14T15:25:42.744285Z",
     "start_time": "2024-05-14T15:25:42.742314Z"
    }
   },
   "cell_type": "code",
   "source": "C_mat = sq_ext.C_mat_qubit_C_qubit(CC, CR=CR1, CF=CF1, CR_prime=CR2, CF_prime=CF2, only_inner=only_inner, compensate_extra_cap=ompensate_extra_cap, only_renormalization=False)",
   "outputs": [],
   "execution_count": 80
  },
  {
   "metadata": {
    "ExecuteTime": {
     "end_time": "2024-05-14T15:25:46.683104Z",
     "start_time": "2024-05-14T15:25:46.680648Z"
    }
   },
   "cell_type": "code",
   "source": "C_mat",
   "outputs": [
    {
     "data": {
      "text/plain": [
       "array([[4.000000, 0.000000, 0.500000, 0.500000],\n",
       "       [0.000000, 4.000000, -0.500000, -0.500000],\n",
       "       [0.500000, -0.500000, 4.000000, 0.000000],\n",
       "       [0.500000, -0.500000, 0.000000, 4.000000]])"
      ]
     },
     "execution_count": 81,
     "metadata": {},
     "output_type": "execute_result"
    }
   ],
   "execution_count": 81
  },
  {
   "metadata": {
    "ExecuteTime": {
     "end_time": "2024-05-14T15:17:44.006476Z",
     "start_time": "2024-05-14T15:17:43.998861Z"
    }
   },
   "cell_type": "code",
   "source": [
    "H_F_1 = fluxonium(LF_1, CF_1, EJ_1, nmax).hamiltonian()\n",
    "H_R_1 = resonator(LR_1, CR_1, nmax).hamiltonian()\n",
    "I = qt.identity(H_F_1.shape[0])\n",
    "\n",
    "H_unit_cell_1_comp = qt.tensor(H_F_1,I) + qt.tensor(I,H_R_1)"
   ],
   "outputs": [],
   "execution_count": 55
  },
  {
   "metadata": {
    "ExecuteTime": {
     "end_time": "2024-05-14T15:17:44.326858Z",
     "start_time": "2024-05-14T15:17:44.323217Z"
    }
   },
   "cell_type": "code",
   "source": [
    "E_F_1= sq_ext.diag(H_F_1, n_eig, remove_ground=True)[0]\n",
    "E_R_1= sq_ext.diag(H_R_1, n_eig, remove_ground=True)[0]\n",
    "E_F_1, E_R_1"
   ],
   "outputs": [
    {
     "data": {
      "text/plain": [
       "(array([0.000000, 51.123722, 102.734757, 154.743545, 207.076328]),\n",
       " array([0.000000, 64.974733, 129.949467, 194.924200, 259.898934]))"
      ]
     },
     "execution_count": 56,
     "metadata": {},
     "output_type": "execute_result"
    }
   ],
   "execution_count": 56
  },
  {
   "metadata": {
    "ExecuteTime": {
     "end_time": "2024-05-14T15:17:45.514522Z",
     "start_time": "2024-05-14T15:17:45.497450Z"
    }
   },
   "cell_type": "code",
   "source": [
    "E_unit_cell_1_full = sq_ext.diag(H_unit_cell_1_full, n_eig, remove_ground=True)[0]\n",
    "E_unit_cell_1_comp = sq_ext.diag(H_unit_cell_1_comp, n_eig, remove_ground=True)[0]"
   ],
   "outputs": [],
   "execution_count": 57
  },
  {
   "metadata": {
    "ExecuteTime": {
     "end_time": "2024-05-14T15:17:45.884040Z",
     "start_time": "2024-05-14T15:17:45.881725Z"
    }
   },
   "cell_type": "code",
   "source": "E_unit_cell_1_full, E_unit_cell_1_comp",
   "outputs": [
    {
     "data": {
      "text/plain": [
       "(array([0.000000, 51.123722, 102.734757, 154.743545, 207.076328]),\n",
       " array([0.000000, 51.123722, 64.974733, 102.734757, 116.098456]))"
      ]
     },
     "execution_count": 58,
     "metadata": {},
     "output_type": "execute_result"
    }
   ],
   "execution_count": 58
  },
  {
   "metadata": {},
   "cell_type": "markdown",
   "source": "# Past"
  },
  {
   "metadata": {
    "ExecuteTime": {
     "end_time": "2024-05-14T14:41:02.510355Z",
     "start_time": "2024-05-14T14:41:02.457571Z"
    }
   },
   "cell_type": "code",
   "source": [
    "coupled_res_full = coupled_fluxoniums(L1=L1, C1=C1, EJ1=EJ1, L2=L2, C2=C2, EJ2=EJ2, CC=CC)\n",
    "coupled_res_full .set_trunc_nums([trunc_num, trunc_num])\n",
    "H_coupled_res_full = coupled_res_full.hamiltonian()"
   ],
   "outputs": [],
   "execution_count": 12
  },
  {
   "metadata": {
    "ExecuteTime": {
     "end_time": "2024-05-14T14:41:02.657121Z",
     "start_time": "2024-05-14T14:41:02.655167Z"
    }
   },
   "cell_type": "code",
   "source": [
    "C_mat = np.array([[C1 + CC, -CC],\n",
    "                  [-CC, C2 + CC]])\n",
    "C_inv = np.linalg.inv(C_mat)\n",
    "C1_tilde = C_inv[0,0]**-1\n",
    "C2_tilde = C_inv[1,1]**-1"
   ],
   "outputs": [],
   "execution_count": 13
  },
  {
   "metadata": {
    "ExecuteTime": {
     "end_time": "2024-05-14T14:41:11.207949Z",
     "start_time": "2024-05-14T14:41:11.199166Z"
    }
   },
   "cell_type": "code",
   "source": [
    "fluxonium_1 = fluxonium(L=L1, C=C1_tilde, EJ=EJ1)\n",
    "fluxonium_2 = fluxonium(L=L2, C=C2_tilde, EJ=EJ2)\n",
    "fluxonium_1.set_trunc_nums([trunc_num])\n",
    "fluxonium_2.set_trunc_nums([trunc_num])"
   ],
   "outputs": [],
   "execution_count": 15
  },
  {
   "cell_type": "code",
   "metadata": {
    "ExecuteTime": {
     "end_time": "2024-05-14T14:41:18.682346Z",
     "start_time": "2024-05-14T14:41:18.676718Z"
    }
   },
   "source": [
    "Q_1 = fluxonium_1.charge_op(0)\n",
    "Q_2 = fluxonium_2.charge_op(0)\n",
    "Φ_1 = fluxonium_1.flux_op(0)\n",
    "Φ_2 = fluxonium_2.flux_op(0)\n",
    "\n",
    "H_1 = fluxonium_1.hamiltonian()\n",
    "# H_1 = 1/2 * C1_tilde**-1 * fF**-1 * Q_1**2 + 1/2 * L1**-1 * nH**-1 * Φ_1**2 \n",
    "H_2 = fluxonium_2.hamiltonian()\n",
    "# H_2 = 1/2 * C2_tilde**-1 * fF**-1 * Q_2**2 + 1/2 * L2**-1 * nH**-1 * Φ_2**2 \n",
    "\n",
    "I = qt.identity(H_1.shape[0])\n",
    "H_coupled_res_comp = qt.tensor(H_1,I) + qt.tensor(I,H_2) + C_inv[0,1]* fF**-1 * qt.tensor(Q_1,Q_2)"
   ],
   "outputs": [],
   "execution_count": 17
  },
  {
   "cell_type": "code",
   "metadata": {
    "ExecuteTime": {
     "end_time": "2024-05-14T14:41:19.530278Z",
     "start_time": "2024-05-14T14:41:19.485949Z"
    }
   },
   "source": [
    "E_coupled_res_comp = sq_ext.diag(H_coupled_res_comp, n_eig, remove_ground=True)[0]\n",
    "E_coupled_res_full = sq_ext.diag(H_coupled_res_full, n_eig, remove_ground=True)[0]"
   ],
   "outputs": [],
   "execution_count": 18
  },
  {
   "metadata": {
    "ExecuteTime": {
     "end_time": "2024-05-14T14:41:19.744769Z",
     "start_time": "2024-05-14T14:41:19.742511Z"
    }
   },
   "cell_type": "code",
   "source": "E_coupled_res_comp, E_coupled_res_full",
   "outputs": [
    {
     "data": {
      "text/plain": [
       "(array([0.000000, 38.035963, 65.492617, 76.297202, 103.637949]),\n",
       " array([0.000000, 38.035963, 65.492617, 76.297202, 103.637949]))"
      ]
     },
     "execution_count": 19,
     "metadata": {},
     "output_type": "execute_result"
    }
   ],
   "execution_count": 19
  },
  {
   "metadata": {},
   "cell_type": "code",
   "outputs": [],
   "execution_count": null,
   "source": ""
  }
 ],
 "metadata": {
  "kernelspec": {
   "display_name": "Python 3 (ipykernel)",
   "language": "python",
   "name": "python3"
  },
  "language_info": {
   "codemirror_mode": {
    "name": "ipython",
    "version": 3
   },
   "file_extension": ".py",
   "mimetype": "text/x-python",
   "name": "python",
   "nbconvert_exporter": "python",
   "pygments_lexer": "ipython3",
   "version": "3.8.17"
  }
 },
 "nbformat": 4,
 "nbformat_minor": 1
}
