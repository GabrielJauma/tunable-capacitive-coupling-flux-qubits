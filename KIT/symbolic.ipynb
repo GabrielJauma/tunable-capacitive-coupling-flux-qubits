{
 "cells": [
  {
   "cell_type": "code",
   "execution_count": 53,
   "metadata": {
    "collapsed": true,
    "ExecuteTime": {
     "end_time": "2023-08-08T09:29:57.868206700Z",
     "start_time": "2023-08-08T09:29:57.856189600Z"
    }
   },
   "outputs": [],
   "source": [
    "from sympy import *\n",
    "import numpy as np\n",
    "import matplotlib.pyplot as plt"
   ]
  },
  {
   "cell_type": "code",
   "execution_count": 66,
   "outputs": [
    {
     "data": {
      "text/plain": "4*Lr/(-4*Delta**2 + Lq**2 + 4*Lq*Lr)",
      "text/latex": "$\\displaystyle \\frac{4 Lr}{- 4 \\Delta^{2} + Lq^{2} + 4 Lq Lr}$"
     },
     "execution_count": 66,
     "metadata": {},
     "output_type": "execute_result"
    }
   ],
   "source": [
    "c, cJ, Lq, Lr, Δ = symbols('C, C_J^{\\'}, Lq, Lr, Delta', real=True, positive=True, nonzero=True)\n",
    "Lp = Lq/2 + Δ\n",
    "Lm = Lq/2 - Δ\n",
    "γ = simplify( 1/(Lp*Lm) / (1/Lr + 1/Lp + 1/Lm) )\n",
    "# print_latex(γ)\n",
    "γ"
   ],
   "metadata": {
    "collapsed": false,
    "ExecuteTime": {
     "end_time": "2023-08-08T09:32:48.438960300Z",
     "start_time": "2023-08-08T09:32:48.397286100Z"
    }
   }
  },
  {
   "cell_type": "code",
   "execution_count": 55,
   "outputs": [],
   "source": [
    "L = Matrix([[ 1/Lm,      0,  -1/Lm             ],\n",
    "            [    0,   1/Lp,  -1/Lp             ],\n",
    "            [-1/Lm,  -1/Lp,  1/Lr + 1/Lp + 1/Lm]])\n",
    "\n",
    "C = Matrix([[c+cJ,   -cJ,  0],\n",
    "            [ -cJ,  c+cJ,  0],\n",
    "            [   0,     0,  0]])\n",
    "\n",
    "P1 = Matrix([[ 1,        0,  0],\n",
    "             [ 0,        1,  0],\n",
    "             [ γ*Lp,  γ*Lm,  0]])\n",
    "\n",
    "P2 = 0.5 * Matrix([[ 1,   1,  0],\n",
    "                   [ 1,  -1,  0],\n",
    "                   [ 0,   0,  0]])"
   ],
   "metadata": {
    "collapsed": false,
    "ExecuteTime": {
     "end_time": "2023-08-08T09:29:58.368964500Z",
     "start_time": "2023-08-08T09:29:58.358580100Z"
    }
   }
  },
  {
   "cell_type": "code",
   "execution_count": 56,
   "outputs": [
    {
     "data": {
      "text/plain": "Matrix([\n[C + C_J^{'},    -C_J^{'}, 0],\n[   -C_J^{'}, C + C_J^{'}, 0],\n[          0,           0, 0]])",
      "text/latex": "$\\displaystyle \\left[\\begin{matrix}C + C_J^{'} & - C_J^{'} & 0\\\\- C_J^{'} & C + C_J^{'} & 0\\\\0 & 0 & 0\\end{matrix}\\right]$"
     },
     "execution_count": 56,
     "metadata": {},
     "output_type": "execute_result"
    }
   ],
   "source": [
    "C1 = nsimplify(simplify( P1.T * C * P1) )\n",
    "C1"
   ],
   "metadata": {
    "collapsed": false,
    "ExecuteTime": {
     "end_time": "2023-08-08T09:29:58.659964300Z",
     "start_time": "2023-08-08T09:29:58.629683600Z"
    }
   }
  },
  {
   "cell_type": "code",
   "execution_count": 57,
   "outputs": [
    {
     "data": {
      "text/plain": "Matrix([\n[2*(-2*Delta - Lq - 2*Lr)/(4*Delta**2 - Lq**2 - 4*Lq*Lr),                    4*Lr/(4*Delta**2 - Lq**2 - 4*Lq*Lr), 0],\n[                    4*Lr/(4*Delta**2 - Lq**2 - 4*Lq*Lr), 2*(2*Delta - Lq - 2*Lr)/(4*Delta**2 - Lq**2 - 4*Lq*Lr), 0],\n[                                                      0,                                                      0, 0]])",
      "text/latex": "$\\displaystyle \\left[\\begin{matrix}\\frac{2 \\left(- 2 \\Delta - Lq - 2 Lr\\right)}{4 \\Delta^{2} - Lq^{2} - 4 Lq Lr} & \\frac{4 Lr}{4 \\Delta^{2} - Lq^{2} - 4 Lq Lr} & 0\\\\\\frac{4 Lr}{4 \\Delta^{2} - Lq^{2} - 4 Lq Lr} & \\frac{2 \\cdot \\left(2 \\Delta - Lq - 2 Lr\\right)}{4 \\Delta^{2} - Lq^{2} - 4 Lq Lr} & 0\\\\0 & 0 & 0\\end{matrix}\\right]$"
     },
     "execution_count": 57,
     "metadata": {},
     "output_type": "execute_result"
    }
   ],
   "source": [
    "L1 = nsimplify(simplify( P1.T * L * P1) )\n",
    "L1"
   ],
   "metadata": {
    "collapsed": false,
    "ExecuteTime": {
     "end_time": "2023-08-08T09:29:59.184175200Z",
     "start_time": "2023-08-08T09:29:59.058164200Z"
    }
   }
  },
  {
   "cell_type": "code",
   "execution_count": 58,
   "outputs": [
    {
     "data": {
      "text/plain": "Matrix([\n[C/2,             0, 0],\n[  0, C/2 + C_J^{'}, 0],\n[  0,             0, 0]])",
      "text/latex": "$\\displaystyle \\left[\\begin{matrix}\\frac{C}{2} & 0 & 0\\\\0 & \\frac{C}{2} + C_J^{'} & 0\\\\0 & 0 & 0\\end{matrix}\\right]$"
     },
     "execution_count": 58,
     "metadata": {},
     "output_type": "execute_result"
    }
   ],
   "source": [
    "C2 = nsimplify(simplify( P2.T * C1 * P2) )\n",
    "C2"
   ],
   "metadata": {
    "collapsed": false,
    "ExecuteTime": {
     "end_time": "2023-08-08T09:29:59.334868700Z",
     "start_time": "2023-08-08T09:29:59.315769100Z"
    }
   }
  },
  {
   "cell_type": "code",
   "execution_count": 59,
   "outputs": [
    {
     "data": {
      "text/plain": "Matrix([\n[     Lq/(-4*Delta**2 + Lq**2 + 4*Lq*Lr),     2*Delta/(-4*Delta**2 + Lq**2 + 4*Lq*Lr), 0],\n[2*Delta/(-4*Delta**2 + Lq**2 + 4*Lq*Lr), (Lq + 4*Lr)/(-4*Delta**2 + Lq**2 + 4*Lq*Lr), 0],\n[                                      0,                                           0, 0]])",
      "text/latex": "$\\displaystyle \\left[\\begin{matrix}\\frac{Lq}{- 4 \\Delta^{2} + Lq^{2} + 4 Lq Lr} & \\frac{2 \\Delta}{- 4 \\Delta^{2} + Lq^{2} + 4 Lq Lr} & 0\\\\\\frac{2 \\Delta}{- 4 \\Delta^{2} + Lq^{2} + 4 Lq Lr} & \\frac{Lq + 4 Lr}{- 4 \\Delta^{2} + Lq^{2} + 4 Lq Lr} & 0\\\\0 & 0 & 0\\end{matrix}\\right]$"
     },
     "execution_count": 59,
     "metadata": {},
     "output_type": "execute_result"
    }
   ],
   "source": [
    "L2 = nsimplify(simplify( P2.T * L1 * P2) )\n",
    "L2"
   ],
   "metadata": {
    "collapsed": false,
    "ExecuteTime": {
     "end_time": "2023-08-08T09:29:59.783150700Z",
     "start_time": "2023-08-08T09:29:59.690848600Z"
    }
   }
  },
  {
   "cell_type": "markdown",
   "source": [],
   "metadata": {
    "collapsed": false
   }
  },
  {
   "cell_type": "code",
   "execution_count": 60,
   "outputs": [],
   "source": [
    "Φ_1, Φ_2 , Φ_dot_1, Φ_dot_2 = symbols('Phi^+, Phi^-,  \\dot{\\Phi}^+, \\dot{\\Phi}^- ', real=True, positive=True, nonzero=True)\n",
    "Φ = Matrix([Φ_1, Φ_2, 0])\n",
    "Φ_dot = Matrix([Φ_dot_1, Φ_dot_2, 0])"
   ],
   "metadata": {
    "collapsed": false,
    "ExecuteTime": {
     "end_time": "2023-08-08T09:30:00.675431Z",
     "start_time": "2023-08-08T09:30:00.657473700Z"
    }
   }
  },
  {
   "cell_type": "code",
   "execution_count": 63,
   "outputs": [
    {
     "data": {
      "text/plain": "(Matrix([[C*\\dot{\\Phi}^+**2/4 + \\dot{\\Phi}^-**2*(C/4 + C_J^{'}/2)]]),\n Matrix([[(Phi^+*(Delta*Phi^- + Lq*Phi^+/2) + Phi^-*(Delta*Phi^+ + Phi^-*(Lq + 4*Lr)/2))/(-4*Delta**2 + Lq**2 + 4*Lq*Lr)]]))"
     },
     "execution_count": 63,
     "metadata": {},
     "output_type": "execute_result"
    }
   ],
   "source": [
    "T = nsimplify(simplify(0.5 * Φ_dot.T * C2 * Φ_dot ))\n",
    "U = nsimplify(simplify(0.5 * Φ.T * L2 * Φ))"
   ],
   "metadata": {
    "collapsed": false,
    "ExecuteTime": {
     "end_time": "2023-08-08T09:30:42.074844200Z",
     "start_time": "2023-08-08T09:30:41.978013900Z"
    }
   }
  },
  {
   "cell_type": "code",
   "execution_count": 65,
   "outputs": [
    {
     "data": {
      "text/plain": "Matrix([[C*\\dot{\\Phi}^+**2/4 + \\dot{\\Phi}^-**2*(C/4 + C_J^{'}/2)]])",
      "text/latex": "$\\displaystyle \\left[\\begin{matrix}\\frac{C \\left(\\dot{\\Phi}^+\\right)^{2}}{4} + \\left(\\dot{\\Phi}^-\\right)^{2} \\left(\\frac{C}{4} + \\frac{C_J^{'}}{2}\\right)\\end{matrix}\\right]$"
     },
     "execution_count": 65,
     "metadata": {},
     "output_type": "execute_result"
    }
   ],
   "source": [
    "T"
   ],
   "metadata": {
    "collapsed": false,
    "ExecuteTime": {
     "end_time": "2023-08-08T09:30:54.656708200Z",
     "start_time": "2023-08-08T09:30:54.645165100Z"
    }
   }
  },
  {
   "cell_type": "code",
   "execution_count": 64,
   "outputs": [
    {
     "data": {
      "text/plain": "Matrix([[(Phi^+*(Delta*Phi^- + Lq*Phi^+/2) + Phi^-*(Delta*Phi^+ + Phi^-*(Lq + 4*Lr)/2))/(-4*Delta**2 + Lq**2 + 4*Lq*Lr)]])",
      "text/latex": "$\\displaystyle \\left[\\begin{matrix}\\frac{\\Phi^{+} \\left(\\Delta \\Phi^{-} + \\frac{Lq \\Phi^{+}}{2}\\right) + \\Phi^{-} \\left(\\Delta \\Phi^{+} + \\frac{\\Phi^{-} \\left(Lq + 4 Lr\\right)}{2}\\right)}{- 4 \\Delta^{2} + Lq^{2} + 4 Lq Lr}\\end{matrix}\\right]$"
     },
     "execution_count": 64,
     "metadata": {},
     "output_type": "execute_result"
    }
   ],
   "source": [
    "U"
   ],
   "metadata": {
    "collapsed": false,
    "ExecuteTime": {
     "end_time": "2023-08-08T09:30:53.242219500Z",
     "start_time": "2023-08-08T09:30:53.240174400Z"
    }
   }
  },
  {
   "cell_type": "code",
   "execution_count": 70,
   "outputs": [
    {
     "data": {
      "text/plain": "2*Delta/(-4*Delta**2 + Lq**2 + 4*Lq*Lr)",
      "text/latex": "$\\displaystyle \\frac{2 \\Delta}{- 4 \\Delta^{2} + Lq^{2} + 4 Lq Lr}$"
     },
     "execution_count": 70,
     "metadata": {},
     "output_type": "execute_result"
    }
   ],
   "source": [
    "L2[1,0]"
   ],
   "metadata": {
    "collapsed": false,
    "ExecuteTime": {
     "end_time": "2023-08-08T09:49:29.251469600Z",
     "start_time": "2023-08-08T09:49:29.243399Z"
    }
   }
  },
  {
   "cell_type": "code",
   "execution_count": null,
   "outputs": [],
   "source": [],
   "metadata": {
    "collapsed": false
   }
  }
 ],
 "metadata": {
  "kernelspec": {
   "display_name": "Python 3",
   "language": "python",
   "name": "python3"
  },
  "language_info": {
   "codemirror_mode": {
    "name": "ipython",
    "version": 2
   },
   "file_extension": ".py",
   "mimetype": "text/x-python",
   "name": "python",
   "nbconvert_exporter": "python",
   "pygments_lexer": "ipython2",
   "version": "2.7.6"
  }
 },
 "nbformat": 4,
 "nbformat_minor": 0
}
