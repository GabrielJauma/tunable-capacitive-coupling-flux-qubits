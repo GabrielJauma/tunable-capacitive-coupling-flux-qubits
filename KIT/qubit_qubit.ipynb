{
 "cells": [
  {
   "cell_type": "code",
   "execution_count": 41,
   "outputs": [],
   "source": [
    "import Modules.SQcircuit_extensions as sq_ext\n",
    "import SQcircuit as sq\n",
    "import qutip as qt\n",
    "import numpy as np\n",
    "import scipy as sp\n",
    "import matplotlib.pyplot as plt\n",
    "import importlib\n",
    "\n",
    "%matplotlib ipympl\n",
    "\n",
    "importlib.reload(sq_ext)\n",
    "importlib.reload(sq)\n",
    "np.set_printoptions(linewidth=500)"
   ],
   "metadata": {
    "collapsed": false,
    "ExecuteTime": {
     "end_time": "2023-09-15T13:30:13.773452900Z",
     "start_time": "2023-09-15T13:30:13.757707500Z"
    }
   }
  },
  {
   "cell_type": "markdown",
   "source": [
    "# Two qubits capacitively coupled\n",
    "\n",
    "This notebook studies the circuit proposed by KIT. It's lumped element model is:\n",
    "<img src='Other/Two qubits - antisymmetric C coupling.jpg' width='500'>\n"
   ],
   "metadata": {
    "collapsed": false
   }
  },
  {
   "cell_type": "markdown",
   "source": [
    "### Circuit parameters"
   ],
   "metadata": {
    "collapsed": false
   }
  },
  {
   "cell_type": "code",
   "execution_count": 4,
   "outputs": [],
   "source": [
    "# Fundamental constants\n",
    "h    = 6.626e-34\n",
    "GHz = 1e9\n",
    "e0   = 1.602e-19\n",
    "Φ_0 = h/(2*e0)\n",
    "\n",
    "# Circuit parameters\n",
    "Csh = 15\n",
    "C   = 15\n",
    "Cg  = 10\n",
    "CJ  = 3\n",
    "Lq  = 25\n",
    "Lr  = 10\n",
    "Δ   = 0.1\n",
    "EJ  = 10.0\n",
    "l = Lq*(Lq+4*Lr) - 4*Δ**2\n",
    "\n",
    "Cc = 15"
   ],
   "metadata": {
    "collapsed": false,
    "ExecuteTime": {
     "end_time": "2023-09-15T13:20:51.914718900Z",
     "start_time": "2023-09-15T13:20:51.898674300Z"
    }
   }
  },
  {
   "cell_type": "markdown",
   "source": [
    "### Circuit elements and loops"
   ],
   "metadata": {
    "collapsed": false
   }
  },
  {
   "cell_type": "code",
   "execution_count": 14,
   "outputs": [],
   "source": [
    "# Initialize loops\n",
    "loop_qubit = sq.Loop(0.5)\n",
    "loop1_qubit_C_qubit= sq.Loop(0.5)\n",
    "loop2_qubit_C_qubit = sq.Loop(0.5)\n",
    "\n",
    "# Circuit components\n",
    "C_01, C_02, C_12, L_03, L_31, L_23, JJ_12 = [[] for _ in range(7)]\n",
    "for loop in [loop_qubit, loop1_qubit_C_qubit, loop2_qubit_C_qubit]:\n",
    "    C_01 .append(sq.Capacitor(C,       'fF'))\n",
    "    C_02 .append(sq.Capacitor(C,       'fF'))\n",
    "    C_12 .append(sq.Capacitor(CJ+Csh,  'fF'))\n",
    "    L_03 .append(sq.Inductor(Lr,       'nH'))\n",
    "    L_31 .append(sq.Inductor(Lq/2 - Δ, 'nH',  loops=[loop]))\n",
    "    L_23 .append(sq.Inductor(Lq/2 + Δ, 'nH',  loops=[loop]))\n",
    "    JJ_12.append(sq.Junction(EJ,       'GHz', loops=[loop]))\n",
    "C_24 = sq.Capacitor(Cc, 'fF')\n"
   ],
   "metadata": {
    "collapsed": false,
    "ExecuteTime": {
     "end_time": "2023-09-15T13:22:31.487112Z",
     "start_time": "2023-09-15T13:22:31.471145900Z"
    }
   }
  },
  {
   "cell_type": "markdown",
   "source": [
    "### Single qubit"
   ],
   "metadata": {
    "collapsed": false
   }
  },
  {
   "cell_type": "code",
   "execution_count": 15,
   "outputs": [
    {
     "data": {
      "text/plain": "<IPython.core.display.Latex object>",
      "text/latex": "$\\hat{H} =~\\omega_1\\hat a^\\dagger_1\\hat a_1~+~\\omega_2\\hat a^\\dagger_2\\hat a_2~+~\\omega_3\\hat a^\\dagger_3\\hat a_3~~-~E_{J_{1}}\\cos(-\\hat{\\varphi}_1+\\hat{\\varphi}_2-\\hat{\\varphi}_3+\\varphi_{\\text{ext}_{1}})$"
     },
     "metadata": {},
     "output_type": "display_data"
    },
    {
     "data": {
      "text/plain": "<IPython.core.display.Latex object>",
      "text/latex": "$------------------------------------------------------------$"
     },
     "metadata": {},
     "output_type": "display_data"
    },
    {
     "data": {
      "text/plain": "<IPython.core.display.Latex object>",
      "text/latex": "$\\text{mode}~1:~~~~~~~~~~~\\text{harmonic}~~~~~~~~~~~\\hat{\\varphi}_1~=~\\varphi_{zp_{1}}(\\hat a_1+\\hat a^\\dagger_1)~~~~~~~~~~~\\omega_1/2\\pi~=~14816.81067~~~~~~~~~~~\\varphi_{zp_{1}}~=~3.82e-08$"
     },
     "metadata": {},
     "output_type": "display_data"
    },
    {
     "data": {
      "text/plain": "<IPython.core.display.Latex object>",
      "text/latex": "$\\text{mode}~2:~~~~~~~~~~~\\text{harmonic}~~~~~~~~~~~\\hat{\\varphi}_2~=~\\varphi_{zp_{2}}(\\hat a_2+\\hat a^\\dagger_2)~~~~~~~~~~~\\omega_2/2\\pi~=~7.20868~~~~~~~~~~~\\varphi_{zp_{2}}~=~1.20e-02$"
     },
     "metadata": {},
     "output_type": "display_data"
    },
    {
     "data": {
      "text/plain": "<IPython.core.display.Latex object>",
      "text/latex": "$\\text{mode}~3:~~~~~~~~~~~\\text{harmonic}~~~~~~~~~~~\\hat{\\varphi}_3~=~\\varphi_{zp_{3}}(\\hat a_3+\\hat a^\\dagger_3)~~~~~~~~~~~\\omega_3/2\\pi~=~6.30322~~~~~~~~~~~\\varphi_{zp_{3}}~=~6.94e-01$"
     },
     "metadata": {},
     "output_type": "display_data"
    },
    {
     "data": {
      "text/plain": "<IPython.core.display.Latex object>",
      "text/latex": "$------------------------------------------------------------$"
     },
     "metadata": {},
     "output_type": "display_data"
    },
    {
     "data": {
      "text/plain": "<IPython.core.display.Latex object>",
      "text/latex": "$\\text{parameters}:~~~~~~~~~~~E_{J_{1}}~=~10.0~~~~~~~~~~~$"
     },
     "metadata": {},
     "output_type": "display_data"
    },
    {
     "data": {
      "text/plain": "<IPython.core.display.Latex object>",
      "text/latex": "$\\text{loops}:~~~~~~~~~~~~~~~~~~~~\\varphi_{\\text{ext}_{1}}/2\\pi~=~0.5~~~~~~~~~~~$"
     },
     "metadata": {},
     "output_type": "display_data"
    }
   ],
   "source": [
    "elements_qubit = {\n",
    "    # qubit 1, nodes [0, 1, 2, 3]\n",
    "    (0, 3): [L_03[0]],\n",
    "    (0, 1): [C_01[0]],\n",
    "    (0, 2): [C_02[0]],\n",
    "    (3, 1): [L_31[0]],\n",
    "    (1, 2): [C_12[0], JJ_12[0]],\n",
    "    (2, 3): [L_23[0]],\n",
    "}\n",
    "qubit = sq.Circuit(elements_qubit)\n",
    "qubit.description()"
   ],
   "metadata": {
    "collapsed": false,
    "ExecuteTime": {
     "end_time": "2023-09-15T13:22:32.508685500Z",
     "start_time": "2023-09-15T13:22:32.483870200Z"
    }
   }
  },
  {
   "cell_type": "code",
   "execution_count": 16,
   "outputs": [
    {
     "name": "stdout",
     "output_type": "stream",
     "text": [
      "Mode 1 = [  0.0   0.0   1.0]\n",
      "Mode 2 = [  1.0   1.0   0.6]\n",
      "Mode 3 = [ -0.9   1.0   0.0]\n"
     ]
    }
   ],
   "source": [
    "sq_ext.print_transformation(qubit)"
   ],
   "metadata": {
    "collapsed": false,
    "ExecuteTime": {
     "end_time": "2023-09-15T13:22:32.834053900Z",
     "start_time": "2023-09-15T13:22:32.813988500Z"
    }
   }
  },
  {
   "cell_type": "markdown",
   "source": [
    "### Two uncoupled qubits"
   ],
   "metadata": {
    "collapsed": false
   }
  },
  {
   "cell_type": "code",
   "execution_count": 17,
   "outputs": [
    {
     "data": {
      "text/plain": "<IPython.core.display.Latex object>",
      "text/latex": "$\\hat{H} =~\\omega_1\\hat a^\\dagger_1\\hat a_1~+~\\omega_2\\hat a^\\dagger_2\\hat a_2~+~\\omega_3\\hat a^\\dagger_3\\hat a_3~+~\\omega_4\\hat a^\\dagger_4\\hat a_4~+~\\omega_5\\hat a^\\dagger_5\\hat a_5~+~\\omega_6\\hat a^\\dagger_6\\hat a_6~~-~E_{J_{1}}\\cos(-\\hat{\\varphi}_1+\\hat{\\varphi}_3-\\hat{\\varphi}_5+\\varphi_{\\text{ext}_{1}})~-~E_{J_{2}}\\cos(-\\hat{\\varphi}_2+\\hat{\\varphi}_4-\\hat{\\varphi}_6+\\varphi_{\\text{ext}_{2}})$"
     },
     "metadata": {},
     "output_type": "display_data"
    },
    {
     "data": {
      "text/plain": "<IPython.core.display.Latex object>",
      "text/latex": "$------------------------------------------------------------$"
     },
     "metadata": {},
     "output_type": "display_data"
    },
    {
     "data": {
      "text/plain": "<IPython.core.display.Latex object>",
      "text/latex": "$\\text{mode}~1:~~~~~~~~~~~\\text{harmonic}~~~~~~~~~~~\\hat{\\varphi}_1~=~\\varphi_{zp_{1}}(\\hat a_1+\\hat a^\\dagger_1)~~~~~~~~~~~\\omega_1/2\\pi~=~14816.81067~~~~~~~~~~~\\varphi_{zp_{1}}~=~3.82e-08$"
     },
     "metadata": {},
     "output_type": "display_data"
    },
    {
     "data": {
      "text/plain": "<IPython.core.display.Latex object>",
      "text/latex": "$\\text{mode}~2:~~~~~~~~~~~\\text{harmonic}~~~~~~~~~~~\\hat{\\varphi}_2~=~\\varphi_{zp_{2}}(\\hat a_2+\\hat a^\\dagger_2)~~~~~~~~~~~\\omega_2/2\\pi~=~14816.81067~~~~~~~~~~~\\varphi_{zp_{2}}~=~3.82e-08$"
     },
     "metadata": {},
     "output_type": "display_data"
    },
    {
     "data": {
      "text/plain": "<IPython.core.display.Latex object>",
      "text/latex": "$\\text{mode}~3:~~~~~~~~~~~\\text{harmonic}~~~~~~~~~~~\\hat{\\varphi}_3~=~\\varphi_{zp_{3}}(\\hat a_3+\\hat a^\\dagger_3)~~~~~~~~~~~\\omega_3/2\\pi~=~7.20868~~~~~~~~~~~\\varphi_{zp_{3}}~=~1.20e-02$"
     },
     "metadata": {},
     "output_type": "display_data"
    },
    {
     "data": {
      "text/plain": "<IPython.core.display.Latex object>",
      "text/latex": "$\\text{mode}~4:~~~~~~~~~~~\\text{harmonic}~~~~~~~~~~~\\hat{\\varphi}_4~=~\\varphi_{zp_{4}}(\\hat a_4+\\hat a^\\dagger_4)~~~~~~~~~~~\\omega_4/2\\pi~=~7.20868~~~~~~~~~~~\\varphi_{zp_{4}}~=~1.20e-02$"
     },
     "metadata": {},
     "output_type": "display_data"
    },
    {
     "data": {
      "text/plain": "<IPython.core.display.Latex object>",
      "text/latex": "$\\text{mode}~5:~~~~~~~~~~~\\text{harmonic}~~~~~~~~~~~\\hat{\\varphi}_5~=~\\varphi_{zp_{5}}(\\hat a_5+\\hat a^\\dagger_5)~~~~~~~~~~~\\omega_5/2\\pi~=~6.30322~~~~~~~~~~~\\varphi_{zp_{5}}~=~6.94e-01$"
     },
     "metadata": {},
     "output_type": "display_data"
    },
    {
     "data": {
      "text/plain": "<IPython.core.display.Latex object>",
      "text/latex": "$\\text{mode}~6:~~~~~~~~~~~\\text{harmonic}~~~~~~~~~~~\\hat{\\varphi}_6~=~\\varphi_{zp_{6}}(\\hat a_6+\\hat a^\\dagger_6)~~~~~~~~~~~\\omega_6/2\\pi~=~6.30322~~~~~~~~~~~\\varphi_{zp_{6}}~=~6.94e-01$"
     },
     "metadata": {},
     "output_type": "display_data"
    },
    {
     "data": {
      "text/plain": "<IPython.core.display.Latex object>",
      "text/latex": "$------------------------------------------------------------$"
     },
     "metadata": {},
     "output_type": "display_data"
    },
    {
     "data": {
      "text/plain": "<IPython.core.display.Latex object>",
      "text/latex": "$\\text{parameters}:~~~~~~~~~~~E_{J_{1}}~=~10.0~~~~~~~~~~~E_{J_{2}}~=~10.0~~~~~~~~~~~$"
     },
     "metadata": {},
     "output_type": "display_data"
    },
    {
     "data": {
      "text/plain": "<IPython.core.display.Latex object>",
      "text/latex": "$\\text{loops}:~~~~~~~~~~~~~~~~~~~~\\varphi_{\\text{ext}_{1}}/2\\pi~=~0.5~~~~~~~~~~~\\varphi_{\\text{ext}_{2}}/2\\pi~=~0.5~~~~~~~~~~~$"
     },
     "metadata": {},
     "output_type": "display_data"
    }
   ],
   "source": [
    "elements_qubit_qubit = {\n",
    "    # qubit 1, nodes [0, 1, 2, 3]\n",
    "    (0, 3): [L_03[1]],\n",
    "    (0, 1): [C_01[1]],\n",
    "    (0, 2): [C_02[1]],\n",
    "    (3, 1): [L_31[1]],\n",
    "    (1, 2): [C_12[1], JJ_12[1]],\n",
    "    (2, 3): [L_23[1]],\n",
    "    # qubit 2, nodes [0, 4, 5, 6]\n",
    "    (0, 6): [L_03[2]],\n",
    "    (0, 4): [C_01[2]],\n",
    "    (0, 5): [C_02[2]],\n",
    "    (6, 4): [L_31[2]],\n",
    "    (4, 5): [C_12[2], JJ_12[2]],\n",
    "    (5, 6): [L_23[2]],\n",
    "}\n",
    "\n",
    "qubit_qubit = sq.Circuit(elements_qubit_qubit)\n",
    "qubit_qubit.description()"
   ],
   "metadata": {
    "collapsed": false,
    "ExecuteTime": {
     "end_time": "2023-09-15T13:22:33.794364Z",
     "start_time": "2023-09-15T13:22:33.763528400Z"
    }
   }
  },
  {
   "cell_type": "code",
   "execution_count": 18,
   "outputs": [
    {
     "name": "stdout",
     "output_type": "stream",
     "text": [
      "Mode 1 = [  0.0   0.0   1.0   0.0   0.0   0.0]\n",
      "Mode 2 = [  0.0   0.0   0.0   0.0   0.0   1.0]\n",
      "Mode 3 = [  1.0   1.0   0.6   0.0   0.0   0.0]\n",
      "Mode 4 = [  0.0   0.0   0.0   1.0   1.0   0.6]\n",
      "Mode 5 = [ -0.9   1.0   0.0   0.0   0.0   0.0]\n",
      "Mode 6 = [  0.0   0.0   0.0  -0.9   1.0   0.0]\n"
     ]
    }
   ],
   "source": [
    "sq_ext.print_transformation(qubit_qubit)"
   ],
   "metadata": {
    "collapsed": false,
    "ExecuteTime": {
     "end_time": "2023-09-15T13:22:34.125257400Z",
     "start_time": "2023-09-15T13:22:34.111662Z"
    }
   }
  },
  {
   "cell_type": "code",
   "execution_count": 26,
   "outputs": [],
   "source": [
    "qubit_qubit.set_trunc_nums([1, 1, 3, 3, 7, 7])\n",
    "_ = qubit_qubit.diag(4)"
   ],
   "metadata": {
    "collapsed": false,
    "ExecuteTime": {
     "end_time": "2023-09-15T13:26:44.307104400Z",
     "start_time": "2023-09-15T13:26:44.182966600Z"
    }
   }
  },
  {
   "cell_type": "markdown",
   "source": [
    "### Two qubits capacitively coupled"
   ],
   "metadata": {
    "collapsed": false
   }
  },
  {
   "cell_type": "code",
   "execution_count": 27,
   "outputs": [
    {
     "data": {
      "text/plain": "<IPython.core.display.Latex object>",
      "text/latex": "$\\hat{H} =~\\omega_1\\hat a^\\dagger_1\\hat a_1~+~\\omega_2\\hat a^\\dagger_2\\hat a_2~+~\\omega_3\\hat a^\\dagger_3\\hat a_3~+~\\omega_4\\hat a^\\dagger_4\\hat a_4~+~\\omega_5\\hat a^\\dagger_5\\hat a_5~+~\\omega_6\\hat a^\\dagger_6\\hat a_6~~-~E_{J_{1}}\\cos(-0.94506\\hat{\\varphi}_1-0.637321\\hat{\\varphi}_2+\\hat{\\varphi}_3+\\hat{\\varphi}_4-0.934258\\hat{\\varphi}_5+\\hat{\\varphi}_6+\\varphi_{\\text{ext}_{1}})~-~E_{J_{2}}\\cos(-\\hat{\\varphi}_1-\\hat{\\varphi}_2+0.980205\\hat{\\varphi}_3+0.910916\\hat{\\varphi}_4+\\hat{\\varphi}_5+0.973581\\hat{\\varphi}_6+\\varphi_{\\text{ext}_{2}})$"
     },
     "metadata": {},
     "output_type": "display_data"
    },
    {
     "data": {
      "text/plain": "<IPython.core.display.Latex object>",
      "text/latex": "$------------------------------------------------------------$"
     },
     "metadata": {},
     "output_type": "display_data"
    },
    {
     "data": {
      "text/plain": "<IPython.core.display.Latex object>",
      "text/latex": "$\\text{mode}~1:~~~~~~~~~~~\\text{harmonic}~~~~~~~~~~~\\hat{\\varphi}_1~=~\\varphi_{zp_{1}}(\\hat a_1+\\hat a^\\dagger_1)~~~~~~~~~~~\\omega_1/2\\pi~=~14816.81067~~~~~~~~~~~\\varphi_{zp_{1}}~=~2.78e-08$"
     },
     "metadata": {},
     "output_type": "display_data"
    },
    {
     "data": {
      "text/plain": "<IPython.core.display.Latex object>",
      "text/latex": "$\\text{mode}~2:~~~~~~~~~~~\\text{harmonic}~~~~~~~~~~~\\hat{\\varphi}_2~=~\\varphi_{zp_{2}}(\\hat a_2+\\hat a^\\dagger_2)~~~~~~~~~~~\\omega_2/2\\pi~=~14816.81066~~~~~~~~~~~\\varphi_{zp_{2}}~=~1.49e-07$"
     },
     "metadata": {},
     "output_type": "display_data"
    },
    {
     "data": {
      "text/plain": "<IPython.core.display.Latex object>",
      "text/latex": "$\\text{mode}~3:~~~~~~~~~~~\\text{harmonic}~~~~~~~~~~~\\hat{\\varphi}_3~=~\\varphi_{zp_{3}}(\\hat a_3+\\hat a^\\dagger_3)~~~~~~~~~~~\\omega_3/2\\pi~=~7.20868~~~~~~~~~~~\\varphi_{zp_{3}}~=~8.54e-03$"
     },
     "metadata": {},
     "output_type": "display_data"
    },
    {
     "data": {
      "text/plain": "<IPython.core.display.Latex object>",
      "text/latex": "$\\text{mode}~4:~~~~~~~~~~~\\text{harmonic}~~~~~~~~~~~\\hat{\\varphi}_4~=~\\varphi_{zp_{4}}(\\hat a_4+\\hat a^\\dagger_4)~~~~~~~~~~~\\omega_4/2\\pi~=~6.5608~~~~~~~~~~~\\varphi_{zp_{4}}~=~4.12e-01$"
     },
     "metadata": {},
     "output_type": "display_data"
    },
    {
     "data": {
      "text/plain": "<IPython.core.display.Latex object>",
      "text/latex": "$\\text{mode}~5:~~~~~~~~~~~\\text{harmonic}~~~~~~~~~~~\\hat{\\varphi}_5~=~\\varphi_{zp_{5}}(\\hat a_5+\\hat a^\\dagger_5)~~~~~~~~~~~\\omega_5/2\\pi~=~6.30322~~~~~~~~~~~\\varphi_{zp_{5}}~=~5.07e-01$"
     },
     "metadata": {},
     "output_type": "display_data"
    },
    {
     "data": {
      "text/plain": "<IPython.core.display.Latex object>",
      "text/latex": "$\\text{mode}~6:~~~~~~~~~~~\\text{harmonic}~~~~~~~~~~~\\hat{\\varphi}_6~=~\\varphi_{zp_{6}}(\\hat a_6+\\hat a^\\dagger_6)~~~~~~~~~~~\\omega_6/2\\pi~=~4.5725~~~~~~~~~~~\\varphi_{zp_{6}}~=~2.61e-01$"
     },
     "metadata": {},
     "output_type": "display_data"
    },
    {
     "data": {
      "text/plain": "<IPython.core.display.Latex object>",
      "text/latex": "$------------------------------------------------------------$"
     },
     "metadata": {},
     "output_type": "display_data"
    },
    {
     "data": {
      "text/plain": "<IPython.core.display.Latex object>",
      "text/latex": "$\\text{parameters}:~~~~~~~~~~~E_{J_{1}}~=~10.0~~~~~~~~~~~E_{J_{2}}~=~10.0~~~~~~~~~~~$"
     },
     "metadata": {},
     "output_type": "display_data"
    },
    {
     "data": {
      "text/plain": "<IPython.core.display.Latex object>",
      "text/latex": "$\\text{loops}:~~~~~~~~~~~~~~~~~~~~\\varphi_{\\text{ext}_{1}}/2\\pi~=~0.5~~~~~~~~~~~\\varphi_{\\text{ext}_{2}}/2\\pi~=~0.5~~~~~~~~~~~$"
     },
     "metadata": {},
     "output_type": "display_data"
    }
   ],
   "source": [
    "elements_qubit_C_qubit = {\n",
    "    # qubit 1, nodes [0, 1, 2, 3]\n",
    "    (0, 3): [L_03[1]],\n",
    "    (0, 1): [C_01[1]],\n",
    "    (0, 2): [C_02[1]],\n",
    "    (3, 1): [L_31[1]],\n",
    "    (1, 2): [C_12[1], JJ_12[1]],\n",
    "    (2, 3): [L_23[1]],\n",
    "    # qubit 2, nodes [0, 4, 5, 6]\n",
    "    (0, 6): [L_03[2]],\n",
    "    (0, 4): [C_01[2]],\n",
    "    (0, 5): [C_02[2]],\n",
    "    (6, 4): [L_31[2]],\n",
    "    (4, 5): [C_12[2], JJ_12[2]],\n",
    "    (5, 6): [L_23[2]],\n",
    "    # capacitive coupling\n",
    "    (2, 4): [C_24]\n",
    "}\n",
    "\n",
    "qubit_C_qubit = sq.Circuit(elements_qubit_C_qubit)\n",
    "qubit_C_qubit.description()"
   ],
   "metadata": {
    "collapsed": false,
    "ExecuteTime": {
     "end_time": "2023-09-15T13:26:45.122989700Z",
     "start_time": "2023-09-15T13:26:45.089885300Z"
    }
   }
  },
  {
   "cell_type": "code",
   "execution_count": 28,
   "outputs": [
    {
     "name": "stdout",
     "output_type": "stream",
     "text": [
      "Mode 1 = [  0.0   0.0   0.9   0.0   0.0   1.0]\n",
      "Mode 2 = [ -0.0  -0.0  -1.0   0.0   0.0   0.9]\n",
      "Mode 3 = [  1.0   1.0   0.6   1.0   1.0   0.6]\n",
      "Mode 4 = [  1.0   0.1   0.3  -0.2  -1.0  -0.4]\n",
      "Mode 5 = [ -0.9   0.9   0.0   0.9  -1.0  -0.0]\n",
      "Mode 6 = [ -0.3  -1.0  -0.4   1.0   0.3   0.4]\n"
     ]
    }
   ],
   "source": [
    "sq_ext.print_transformation(qubit_C_qubit)"
   ],
   "metadata": {
    "collapsed": false,
    "ExecuteTime": {
     "end_time": "2023-09-15T13:26:45.573162700Z",
     "start_time": "2023-09-15T13:26:45.561194900Z"
    }
   }
  },
  {
   "cell_type": "code",
   "execution_count": 29,
   "outputs": [],
   "source": [
    "qubit_C_qubit.set_trunc_nums([1, 1, 3, 3, 7, 7])\n",
    "_ = qubit_C_qubit.diag(4)"
   ],
   "metadata": {
    "collapsed": false,
    "ExecuteTime": {
     "end_time": "2023-09-15T13:26:46.031781600Z",
     "start_time": "2023-09-15T13:26:45.841916Z"
    }
   }
  },
  {
   "cell_type": "markdown",
   "source": [
    "# SWT"
   ],
   "metadata": {
    "collapsed": false
   }
  },
  {
   "cell_type": "code",
   "execution_count": 42,
   "outputs": [],
   "source": [
    "H_eff = sq_ext.H_eff_SWT(qubit_qubit, qubit_C_qubit)"
   ],
   "metadata": {
    "collapsed": false,
    "ExecuteTime": {
     "end_time": "2023-09-15T13:30:19.371855500Z",
     "start_time": "2023-09-15T13:30:19.362350Z"
    }
   }
  },
  {
   "cell_type": "code",
   "execution_count": 43,
   "outputs": [
    {
     "name": "stdout",
     "output_type": "stream",
     "text": [
      " (98.84-0j)\t*\t I ⨂I \n",
      " (-6.27-0j)\t*\t I ⨂σz \n",
      " (-0.26+0j)\t*\t σx ⨂σx \n",
      " (-0.13+0j)\t*\t σx ⨂σy \n",
      " (0.13+0j)\t*\t σy ⨂σx \n",
      " (-1.15+0j)\t*\t σy ⨂σy \n",
      " (-6.46+0j)\t*\t σz ⨂I \n",
      " (0.34+0j)\t*\t σz ⨂σz \n"
     ]
    },
    {
     "data": {
      "text/plain": "array([[98.84-0.j,  0.  -0.j, -0.  +0.j, -6.27-0.j],\n       [-0.  -0.j, -0.26+0.j, -0.13+0.j,  0.  +0.j],\n       [ 0.  +0.j,  0.13+0.j, -1.15+0.j, -0.  -0.j],\n       [-6.46+0.j, -0.  -0.j,  0.  +0.j,  0.34+0.j]])"
     },
     "execution_count": 43,
     "metadata": {},
     "output_type": "execute_result"
    }
   ],
   "source": [
    "sq_ext.decomposition_in_pauli_4x4(H_eff /GHz, 2, Print=True)"
   ],
   "metadata": {
    "collapsed": false,
    "ExecuteTime": {
     "end_time": "2023-09-15T13:30:19.894767100Z",
     "start_time": "2023-09-15T13:30:19.879759600Z"
    }
   }
  },
  {
   "cell_type": "code",
   "execution_count": null,
   "outputs": [],
   "source": [],
   "metadata": {
    "collapsed": false
   }
  }
 ],
 "metadata": {
  "kernelspec": {
   "display_name": "Python 3",
   "language": "python",
   "name": "python3"
  },
  "language_info": {
   "codemirror_mode": {
    "name": "ipython",
    "version": 2
   },
   "file_extension": ".py",
   "mimetype": "text/x-python",
   "name": "python",
   "nbconvert_exporter": "python",
   "pygments_lexer": "ipython2",
   "version": "2.7.6"
  }
 },
 "nbformat": 4,
 "nbformat_minor": 0
}
