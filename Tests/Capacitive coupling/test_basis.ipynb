{
 "cells": [
  {
   "cell_type": "code",
   "outputs": [
    {
     "data": {
      "text/plain": "<module 'Modules.figures' from 'C:\\\\Users\\\\gabri\\\\PycharmProjects\\\\tunable-capacitive-coupling-flux-qubits\\\\Modules\\\\figures.py'>"
     },
     "execution_count": 8,
     "metadata": {},
     "output_type": "execute_result"
    }
   ],
   "source": [
    "import Modules.SQcircuit_extensions as sq_ext\n",
    "import Modules.figures as figs\n",
    "import SQcircuit as sq\n",
    "import numpy as np\n",
    "import matplotlib.pyplot as plt\n",
    "import importlib\n",
    "from scipy.linalg import eigh\n",
    "import qutip as qt\n",
    "import sympy as sym\n",
    "from joblib import Parallel, delayed, cpu_count\n",
    "\n",
    "%matplotlib ipympl\n",
    "# plt.rcParams.update({\n",
    "#     \"text.usetex\": True,\n",
    "#     \"font.family\": \"serif\",\n",
    "#     \"font.serif\": [\"Palatino\"],\n",
    "# })\n",
    "plt.rcParams['text.usetex'] = False\n",
    "importlib.reload(sq_ext)\n",
    "importlib.reload(sq)\n",
    "importlib.reload(figs)\n",
    "# np.set_printoptions(linewidth=300, formatter={'float': '{:.3e'.format})"
   ],
   "metadata": {
    "collapsed": false,
    "ExecuteTime": {
     "end_time": "2024-07-21T09:04:58.867354Z",
     "start_time": "2024-07-21T09:04:58.857537200Z"
    }
   },
   "id": "341642e44cab1c34",
   "execution_count": 8
  },
  {
   "cell_type": "code",
   "outputs": [],
   "source": [
    "n_eig =5"
   ],
   "metadata": {
    "collapsed": false,
    "ExecuteTime": {
     "end_time": "2024-07-21T09:04:59.213024500Z",
     "start_time": "2024-07-21T09:04:59.201514900Z"
    }
   },
   "id": "4012f0c4a2af2385",
   "execution_count": 9
  },
  {
   "cell_type": "code",
   "outputs": [],
   "source": [
    "fF  = 1e-15\n",
    "nH  = 1e-9\n",
    "GHz = 1e9"
   ],
   "metadata": {
    "collapsed": false,
    "ExecuteTime": {
     "end_time": "2024-07-21T09:04:59.535503800Z",
     "start_time": "2024-07-21T09:04:59.513027400Z"
    }
   },
   "id": "e7a2dd541f8ea1ef",
   "execution_count": 10
  },
  {
   "cell_type": "code",
   "outputs": [],
   "source": [
    "nmax_r = 20\n",
    "nmax_f = 25\n",
    "\n",
    "only_inner = True\n",
    "compensate_extra_cap = False"
   ],
   "metadata": {
    "collapsed": false,
    "ExecuteTime": {
     "end_time": "2024-07-21T09:05:00.108563400Z",
     "start_time": "2024-07-21T09:05:00.059012800Z"
    }
   },
   "id": "151bb76c3e9461ce",
   "execution_count": 11
  },
  {
   "cell_type": "code",
   "outputs": [],
   "source": [
    "CR_1, CF_1, LF_1, LR_1, EJ_1, Δ_1, ω_r_1 = sq_ext.get_experimental_parameters('qubit_1')\n",
    "CR_2, CF_2, LF_2, LR_2, EJ_2, Δ_2, ω_r_2 = sq_ext.get_experimental_parameters('qubit_2')\n",
    "CR_3, CF_3, LF_3, LR_3, EJ_3, Δ_3, ω_r_3 = sq_ext.get_experimental_parameters('qubit_3')"
   ],
   "metadata": {
    "collapsed": false,
    "ExecuteTime": {
     "end_time": "2024-07-21T09:05:00.336210400Z",
     "start_time": "2024-07-21T09:05:00.300749600Z"
    }
   },
   "id": "12daef23d84f692e",
   "execution_count": 12
  },
  {
   "cell_type": "markdown",
   "source": [
    "## Single qubit"
   ],
   "metadata": {
    "collapsed": false
   },
   "id": "caae7cc53a2ebb57"
  },
  {
   "cell_type": "code",
   "outputs": [],
   "source": [
    "## Testings\n",
    "Δ=1\n",
    "fluxonium = sq_ext.sq_fluxonium(C_F_eff=CF_1, L_F_eff=LF_1, EJ=EJ_1, Δ=Δ_1, nmax_f=nmax_f)\n",
    "resonator = sq_ext.sq_resonator(C_R_eff=CR_1, L_R_eff=LR_1, Δ=Δ_1, nmax_f=nmax_f)\n",
    "\n",
    "H_0 = sq_ext.hamiltonian_qubit(fluxonium = fluxonium, resonator = resonator, Δ=0) \n",
    "H   = sq_ext.hamiltonian_qubit(fluxonium = fluxonium, resonator = resonator, Δ=Δ) \n",
    "\n",
    "H1 = fluxonium.hamiltonian()\n",
    "H2 = resonator.hamiltonian()\n",
    "\n",
    "ψ_0_f  = qt.Qobj(sq_ext.diag(H1, n_eig=2, solver='numpy', real=True)[1][:,0])\n",
    "ψ_1_f  = qt.Qobj(sq_ext.diag(H1, n_eig=2, solver='numpy', real=True)[1][:,1])\n",
    "ψ_0_r  = qt.Qobj(sq_ext.diag(H2, n_eig=2, solver='numpy', real=True)[1][:,0])\n",
    "ψ_1_r  = qt.Qobj(sq_ext.diag(H2, n_eig=2, solver='numpy', real=True)[1][:,1])\n",
    "\n",
    "ψ_0 = [qt.tensor(ψ_0_f, ψ_0_r), qt.tensor(ψ_1_f,ψ_0_r), qt.tensor(ψ_0_f,ψ_1_r),  qt.tensor(ψ_1_f,ψ_1_r)]"
   ],
   "metadata": {
    "collapsed": false,
    "ExecuteTime": {
     "end_time": "2024-07-21T09:05:01.017547500Z",
     "start_time": "2024-07-21T09:05:00.973645100Z"
    }
   },
   "id": "8f40db5abe92abe9",
   "execution_count": 13
  },
  {
   "cell_type": "code",
   "outputs": [
    {
     "name": "stdout",
     "output_type": "stream",
     "text": [
      " 9.871143050325104\t*\t I ⨂I \n",
      " -1.8340398410991685\t*\t I ⨂σz \n",
      " 0.00022102509063515186\t*\t σx ⨂σx \n",
      " 0.20461063896483334\t*\t σy ⨂σy \n",
      " -3.2187759908174325\t*\t σz ⨂I \n",
      " -0.00708212792486651\t*\t σz ⨂σz \n"
     ]
    }
   ],
   "source": [
    "H_eff_SWT = sq_ext.H_eff_SWT(H_0, H, n_eig=5)\n",
    "Nf, Nr = sq_ext.sq_get_energy_indices_hamiltonian(H_qubit = H_0, H_fluxonium=H1, H_resonator=H2, n_eig=5)\n",
    "subspace_indices = np.intersect1d(np.where(Nf<=1), np.where(Nr<=1)).tolist()\n",
    "\n",
    "H_eff_SWT_subspace  = H_eff_SWT [subspace_indices][:, subspace_indices]\n",
    "P = sq_ext.decomposition_in_pauli_4x4(H_eff_SWT_subspace, print_pretty=True)"
   ],
   "metadata": {
    "collapsed": false,
    "ExecuteTime": {
     "end_time": "2024-07-21T09:05:01.925096900Z",
     "start_time": "2024-07-21T09:05:01.814060Z"
    }
   },
   "id": "9746c93dde8f53c1",
   "execution_count": 14
  },
  {
   "cell_type": "code",
   "outputs": [],
   "source": [
    "# subspace_indices = [0,1,2,4]"
   ],
   "metadata": {
    "collapsed": false,
    "ExecuteTime": {
     "end_time": "2024-07-21T09:05:02.464433100Z",
     "start_time": "2024-07-21T09:05:02.450508800Z"
    }
   },
   "id": "60d46ccaa247036",
   "execution_count": 15
  },
  {
   "cell_type": "code",
   "outputs": [
    {
     "name": "stdout",
     "output_type": "stream",
     "text": [
      " 9.879611414170446\t*\t I ⨂I \n",
      " -1.8425084880250213\t*\t I ⨂σz \n",
      " 0.20482085126469565\t*\t σx ⨂σx \n",
      " 1.0812790769837433e-05\t*\t σy ⨂σy \n",
      " -3.227244637743288\t*\t σz ⨂I \n",
      " 0.0013862359205289998\t*\t σz ⨂σz \n"
     ]
    }
   ],
   "source": [
    "E_0  = [ (ψ_0_i.dag() * H_0 * ψ_0_i).data[0,0]/2/np.pi/GHz for ψ_0_i in ψ_0]\n",
    "E, ψ = sq_ext.diag(H  , n_eig, out='GHz', solver='Qutip', qObj=True)\n",
    "subspace_indices = sq_ext.find_close_indices(E_0,E,tol=0.05)\n",
    "ψ = ψ[subspace_indices]\n",
    "E = E[subspace_indices]\n",
    "H_eff_SWT_large = sq_ext.H_eff_SWT_large(ψ_0, ψ, E)\n",
    "P_large = sq_ext.decomposition_in_pauli_4x4(H_eff_SWT_large, print_pretty=True)"
   ],
   "metadata": {
    "collapsed": false,
    "ExecuteTime": {
     "end_time": "2024-07-21T09:05:03.000397300Z",
     "start_time": "2024-07-21T09:05:02.951334400Z"
    }
   },
   "id": "495e822fc83bd481",
   "execution_count": 16
  },
  {
   "cell_type": "code",
   "outputs": [
    {
     "name": "stdout",
     "output_type": "stream",
     "text": [
      " 9.885596503352916\t*\t I ⨂I \n",
      " -1.8443489410367235\t*\t I ⨂σz \n",
      " 0.20468677428949716\t*\t σx ⨂σx \n",
      " -3.2299999999997944\t*\t σz ⨂I \n"
     ]
    }
   ],
   "source": [
    "H_eff_p1_subspace  = sq_ext.H_eff_p1(H_0, H, n_eig) [subspace_indices][:, subspace_indices]\n",
    "sq_ext.decomposition_in_pauli_4x4(H_eff_p1_subspace, print_pretty=True);"
   ],
   "metadata": {
    "collapsed": false,
    "ExecuteTime": {
     "end_time": "2024-07-21T09:05:03.591825800Z",
     "start_time": "2024-07-21T09:05:03.506887400Z"
    }
   },
   "id": "4d842194aa18bd6",
   "execution_count": 17
  },
  {
   "cell_type": "code",
   "outputs": [
    {
     "name": "stdout",
     "output_type": "stream",
     "text": [
      " 9.8855965033529\t*\t I ⨂I \n",
      " -1.8443489410367129\t*\t I ⨂σz \n",
      " 0.20468677428949691\t*\t σx ⨂σx \n",
      " -3.2299999999997833\t*\t σz ⨂I \n"
     ]
    },
    {
     "name": "stderr",
     "output_type": "stream",
     "text": [
      "C:\\Users\\gabri\\PycharmProjects\\tunable-capacitive-coupling-flux-qubits\\Modules\\SQcircuit_extensions.py:901: ComplexWarning: Casting complex values to real discards the imaginary part\n",
      "  H_eff[i, j] = (ψ_0[i].dag() * H * ψ_0[j]).data[0, 0]\n"
     ]
    }
   ],
   "source": [
    "H_eff_p1_subspace  = sq_ext.H_eff_p1_large(ψ_0, H)\n",
    "sq_ext.decomposition_in_pauli_4x4(H_eff_p1_subspace, print_pretty=True);"
   ],
   "metadata": {
    "collapsed": false,
    "ExecuteTime": {
     "end_time": "2024-07-21T09:05:03.608219800Z",
     "start_time": "2024-07-21T09:05:03.592916900Z"
    }
   },
   "id": "ce2179ea4efcf82d",
   "execution_count": 18
  },
  {
   "cell_type": "code",
   "outputs": [
    {
     "data": {
      "text/plain": "-5.1088907883471295"
     },
     "execution_count": 19,
     "metadata": {},
     "output_type": "execute_result"
    }
   ],
   "source": [
    "P[-1,-1]/P_large[-1,-1]"
   ],
   "metadata": {
    "collapsed": false,
    "ExecuteTime": {
     "end_time": "2024-07-21T09:05:03.782161400Z",
     "start_time": "2024-07-21T09:05:03.764245700Z"
    }
   },
   "id": "53829a0fa30de8a4",
   "execution_count": 19
  },
  {
   "cell_type": "code",
   "outputs": [],
   "source": [
    "ψ_0_f  = qt.Qobj(sq_ext.diag(H1, n_eig=2, solver='numpy')[1][:,0])\n",
    "ψ_1_f  = qt.Qobj(sq_ext.diag(H1, n_eig=2, solver='numpy')[1][:,1])\n",
    "ψ_0_r  = qt.Qobj(sq_ext.diag(H2, n_eig=2, solver='numpy')[1][:,0])\n",
    "ψ_1_r  = qt.Qobj(sq_ext.diag(H2, n_eig=2, solver='numpy')[1][:,1])\n",
    "\n",
    "ψ_0_composite = [qt.tensor(ψ_0_f, ψ_0_r), qt.tensor(ψ_1_f,ψ_0_r), qt.tensor(ψ_0_f,ψ_1_r), qt.tensor(ψ_1_f,ψ_1_r)]\n",
    "E_0_composite = [ (ψ_0_i.dag() * H_0 * ψ_0_i).data[0,0]/2/np.pi/GHz for ψ_0_i in ψ_0_composite]"
   ],
   "metadata": {
    "collapsed": false,
    "ExecuteTime": {
     "end_time": "2024-07-21T09:05:04.114270200Z",
     "start_time": "2024-07-21T09:05:04.081119300Z"
    }
   },
   "id": "f8f8725ae9c6f596",
   "execution_count": 20
  },
  {
   "cell_type": "code",
   "outputs": [],
   "source": [
    "E_0, ψ_0_direct = sq_ext.diag(H_0  , n_eig=6, out='GHz', solver='numpy')\n",
    "subspace_indices = sq_ext.find_close_indices(E_0_composite, E_0, tol=0.1)\n",
    "E_0 = E_0[subspace_indices]\n",
    "ψ_0_direct = ψ_0_direct[:,subspace_indices]"
   ],
   "metadata": {
    "collapsed": false,
    "ExecuteTime": {
     "end_time": "2024-07-21T09:05:04.608353Z",
     "start_time": "2024-07-21T09:05:04.528917500Z"
    }
   },
   "id": "678d578da34cf89a",
   "execution_count": 21
  },
  {
   "cell_type": "code",
   "outputs": [],
   "source": [
    "Q = np.zeros([4,4], dtype=np.complex128)\n",
    "for i in range(4):\n",
    "    for j in range(4):\n",
    "        Q[i,j] = (ψ_0_composite[i].__array__().conj().T @ ψ_0_direct[:,j])[0]\n",
    "        "
   ],
   "metadata": {
    "collapsed": false,
    "ExecuteTime": {
     "end_time": "2024-07-21T09:05:04.725038900Z",
     "start_time": "2024-07-21T09:05:04.712088900Z"
    }
   },
   "id": "16c19dcca0f6df54",
   "execution_count": 22
  },
  {
   "cell_type": "code",
   "outputs": [
    {
     "data": {
      "text/plain": "array([[ 1.+0.j,  0.+0.j,  0.+0.j, -0.+0.j],\n       [ 0.+0.j, -1.+0.j,  0.+0.j,  0.+0.j],\n       [-0.+0.j,  0.+0.j,  1.+0.j, -0.+0.j],\n       [ 0.+0.j,  0.+0.j, -0.+0.j,  1.+0.j]])"
     },
     "execution_count": 23,
     "metadata": {},
     "output_type": "execute_result"
    }
   ],
   "source": [
    "np.round(Q,3)"
   ],
   "metadata": {
    "collapsed": false,
    "ExecuteTime": {
     "end_time": "2024-07-21T09:05:04.878365600Z",
     "start_time": "2024-07-21T09:05:04.862358300Z"
    }
   },
   "id": "2af46d351643ed29",
   "execution_count": 23
  },
  {
   "cell_type": "code",
   "outputs": [],
   "source": [],
   "metadata": {
    "collapsed": false,
    "ExecuteTime": {
     "end_time": "2024-07-21T09:05:06.430080800Z",
     "start_time": "2024-07-21T09:05:06.392119500Z"
    }
   },
   "id": "f9fd52344b6e04e9",
   "execution_count": 23
  },
  {
   "cell_type": "markdown",
   "source": [
    "# SWT direct step by step"
   ],
   "metadata": {
    "collapsed": false
   },
   "id": "77b932cb33a95da0"
  },
  {
   "cell_type": "code",
   "outputs": [],
   "source": [
    "# H_eff_SWT = sq_ext.H_eff_SWT(H_0, H, n_eig=5) \n",
    "out='GHz'\n",
    "real=False\n",
    "remove_ground=False"
   ],
   "metadata": {
    "collapsed": false,
    "ExecuteTime": {
     "end_time": "2024-07-21T09:20:08.945886900Z",
     "start_time": "2024-07-21T09:20:08.921660900Z"
    }
   },
   "id": "6fc4104e9a3b2596",
   "execution_count": 68
  },
  {
   "cell_type": "code",
   "outputs": [],
   "source": [
    "ψ_0 = sq_ext.diag(H_0, 6, real=real, solver='numpy')[1]\n",
    "E, ψ = sq_ext.diag(H, 6, real=False, solver='scipy', out=out)"
   ],
   "metadata": {
    "collapsed": false,
    "ExecuteTime": {
     "end_time": "2024-07-21T09:20:09.240319200Z",
     "start_time": "2024-07-21T09:20:09.162042300Z"
    }
   },
   "id": "b2431b7c0f628cb5",
   "execution_count": 69
  },
  {
   "cell_type": "code",
   "outputs": [],
   "source": [
    "ψ = ψ[:,subspace_indices]\n",
    "ψ_0 = ψ_0[:,subspace_indices]\n",
    "E = E[subspace_indices]"
   ],
   "metadata": {
    "collapsed": false,
    "ExecuteTime": {
     "end_time": "2024-07-21T09:20:09.514416300Z",
     "start_time": "2024-07-21T09:20:09.470576600Z"
    }
   },
   "id": "fa960f3919ad90bf",
   "execution_count": 70
  },
  {
   "cell_type": "code",
   "outputs": [],
   "source": [
    "n_eig=4\n",
    "Q = np.zeros((n_eig, n_eig), dtype=complex)\n",
    "for i in range(n_eig):\n",
    "    for j in range(n_eig):\n",
    "        Q[i, j] = ψ_0[:,i].conj().T @ ψ[:,j]"
   ],
   "metadata": {
    "collapsed": false,
    "ExecuteTime": {
     "end_time": "2024-07-21T09:20:11.559265500Z",
     "start_time": "2024-07-21T09:20:11.550215Z"
    }
   },
   "id": "9a493a03e58176d7",
   "execution_count": 71
  },
  {
   "cell_type": "code",
   "outputs": [
    {
     "data": {
      "text/plain": "array([[-0.71+0.71j,  0.  -0.j  , -0.  -0.j  , -0.  -0.02j],\n       [ 0.  +0.j  ,  1.  +0.03j,  0.07-0.02j,  0.  +0.j  ],\n       [ 0.  +0.j  , -0.07-0.j  ,  0.96-0.26j,  0.  +0.j  ],\n       [-0.01+0.01j, -0.  -0.j  ,  0.  -0.j  ,  0.1 +0.98j]])"
     },
     "execution_count": 72,
     "metadata": {},
     "output_type": "execute_result"
    }
   ],
   "source": [
    "np.round(Q,2)"
   ],
   "metadata": {
    "collapsed": false,
    "ExecuteTime": {
     "end_time": "2024-07-21T09:20:11.966328300Z",
     "start_time": "2024-07-21T09:20:11.922406Z"
    }
   },
   "id": "3736490bc828e3d2",
   "execution_count": 72
  },
  {
   "cell_type": "code",
   "outputs": [],
   "source": [
    "\n",
    "\n",
    "U, s, Vh = np.linalg.svd(Q)\n",
    "A = U @ Vh\n",
    "\n",
    "H_eff = A @ np.diag(E) @ A.T.conj()"
   ],
   "metadata": {
    "collapsed": false,
    "ExecuteTime": {
     "end_time": "2024-07-21T09:20:13.554692800Z",
     "start_time": "2024-07-21T09:20:13.544223900Z"
    }
   },
   "id": "182795c6fec27fcd",
   "execution_count": 73
  },
  {
   "cell_type": "code",
   "outputs": [
    {
     "name": "stdout",
     "output_type": "stream",
     "text": [
      " 9.879611414170412\t*\t I ⨂I \n",
      " -1.8425084880250704\t*\t I ⨂σz \n",
      " 1.0812790766354108e-05\t*\t σx ⨂σx \n",
      " 0.2048208512646924\t*\t σy ⨂σy \n",
      " -3.227244637743289\t*\t σz ⨂I \n",
      " 0.0013862359205634167\t*\t σz ⨂σz \n"
     ]
    }
   ],
   "source": [
    "sq_ext.decomposition_in_pauli_4x4(H_eff, print_pretty=True);"
   ],
   "metadata": {
    "collapsed": false,
    "ExecuteTime": {
     "end_time": "2024-07-21T09:20:14.348099500Z",
     "start_time": "2024-07-21T09:20:14.338255400Z"
    }
   },
   "id": "55c4166b1b5d786b",
   "execution_count": 74
  },
  {
   "cell_type": "code",
   "outputs": [],
   "source": [
    "\n",
    "Nf, Nr = sq_ext.sq_get_energy_indices_hamiltonian(H_qubit = H_0, H_fluxonium=H1, H_resonator=H2, n_eig=5)\n",
    "subspace_indices = np.intersect1d(np.where(Nf<=1), np.where(Nr<=1)).tolist()\n",
    "\n",
    "H_eff_SWT_subspace  = H_eff_SWT [subspace_indices][:, subspace_indices]\n",
    "P = sq_ext.decomposition_in_pauli_4x4(H_eff_SWT_subspace, print_pretty=True)"
   ],
   "metadata": {
    "collapsed": false
   },
   "id": "65cc730e68d8c30"
  },
  {
   "cell_type": "markdown",
   "source": [
    "# SWT comoposite step by step"
   ],
   "metadata": {
    "collapsed": false
   },
   "id": "fe51cf2eb33623c7"
  },
  {
   "cell_type": "code",
   "outputs": [],
   "source": [
    "ψ_0_f  = qt.Qobj(sq_ext.diag(H1, n_eig=2, solver='numpy', real=True)[1][:,0])\n",
    "ψ_1_f  = qt.Qobj(sq_ext.diag(H1, n_eig=2, solver='numpy', real=True)[1][:,1])\n",
    "ψ_0_r  = qt.Qobj(sq_ext.diag(H2, n_eig=2, solver='numpy', real=True)[1][:,0])\n",
    "ψ_1_r  = qt.Qobj(sq_ext.diag(H2, n_eig=2, solver='numpy', real=True)[1][:,1])\n",
    "\n",
    "ψ_0 = [qt.tensor(ψ_0_f, ψ_0_r), qt.tensor(ψ_1_f,ψ_0_r), qt.tensor(ψ_0_f,ψ_1_r),  qt.tensor(ψ_1_f,ψ_1_r)]"
   ],
   "metadata": {
    "collapsed": false,
    "ExecuteTime": {
     "end_time": "2024-07-21T09:24:13.614594600Z",
     "start_time": "2024-07-21T09:24:13.605143500Z"
    }
   },
   "id": "99c93074b983634e",
   "execution_count": 93
  },
  {
   "cell_type": "code",
   "outputs": [],
   "source": [
    "E_0_ψ_0 = [ (ψ_0_i.dag() * H_0 * ψ_0_i).data[0,0]/2/np.pi/GHz for ψ_0_i in ψ_0]\n",
    "E_0, _ = sq_ext.diag(H_0  , n_eig=6, out='GHz', solver='Qutip', qObj=True)\n",
    "E, ψ = sq_ext.diag(H  , n_eig=6, out='GHz', solver='Qutip', qObj=True)\n",
    "subspace_indices = sq_ext.find_close_indices(E_0_ψ_0,E_0,tol=0.05)\n",
    "ψ = ψ[subspace_indices]\n",
    "E = E[subspace_indices]"
   ],
   "metadata": {
    "collapsed": false,
    "ExecuteTime": {
     "end_time": "2024-07-21T09:28:12.307994900Z",
     "start_time": "2024-07-21T09:28:12.271793500Z"
    }
   },
   "id": "b097a15b1a2cb0b1",
   "execution_count": 109
  },
  {
   "cell_type": "code",
   "outputs": [],
   "source": [
    "# H_eff_SWT_large = sq_ext.H_eff_SWT_large(ψ_0, ψ, E)"
   ],
   "metadata": {
    "collapsed": false,
    "ExecuteTime": {
     "end_time": "2024-07-21T09:28:12.533763600Z",
     "start_time": "2024-07-21T09:28:12.523820Z"
    }
   },
   "id": "a485e77f0218b33",
   "execution_count": 110
  },
  {
   "cell_type": "code",
   "outputs": [],
   "source": [
    "n_eig = len(ψ_0)\n",
    "Q = np.zeros((n_eig, n_eig), dtype=complex)\n",
    "for i in range(n_eig):\n",
    "    for j in range(n_eig):\n",
    "        Q[i, j] = (ψ_0[i].dag() * ψ[j]).data[0,0]\n",
    "\n",
    "U, s, Vh = np.linalg.svd(Q)\n",
    "A = U @ Vh\n",
    "\n",
    "H_eff = A @ np.diag(E) @ A.T.conj()"
   ],
   "metadata": {
    "collapsed": false,
    "ExecuteTime": {
     "end_time": "2024-07-21T09:28:12.834204300Z",
     "start_time": "2024-07-21T09:28:12.814624Z"
    }
   },
   "id": "a9b5c059fc149c9e",
   "execution_count": 111
  },
  {
   "cell_type": "code",
   "outputs": [
    {
     "data": {
      "text/plain": "array([[-0.83+0.55j,  0.  +0.j  ,  0.  +0.j  ,  0.02+0.01j],\n       [ 0.  +0.j  ,  0.75+0.66j, -0.02-0.07j,  0.  +0.j  ],\n       [ 0.  +0.j  , -0.06-0.05j, -0.22-0.97j,  0.  +0.j  ],\n       [ 0.02-0.01j,  0.  +0.j  ,  0.  +0.j  ,  0.93+0.34j]])"
     },
     "execution_count": 112,
     "metadata": {},
     "output_type": "execute_result"
    }
   ],
   "source": [
    "np.round(Q,2)"
   ],
   "metadata": {
    "collapsed": false,
    "ExecuteTime": {
     "end_time": "2024-07-21T09:28:13.334597200Z",
     "start_time": "2024-07-21T09:28:13.317549500Z"
    }
   },
   "id": "50a4e66771520a31",
   "execution_count": 112
  },
  {
   "cell_type": "code",
   "outputs": [
    {
     "name": "stdout",
     "output_type": "stream",
     "text": [
      " 9.879611414170446\t*\t I ⨂I \n",
      " -1.8425084880250213\t*\t I ⨂σz \n",
      " 0.20482085126469565\t*\t σx ⨂σx \n",
      " 1.0812790769837433e-05\t*\t σy ⨂σy \n",
      " -3.227244637743288\t*\t σz ⨂I \n",
      " 0.0013862359205289998\t*\t σz ⨂σz \n"
     ]
    }
   ],
   "source": [
    "\n",
    "P_large = sq_ext.decomposition_in_pauli_4x4(H_eff_SWT_large, print_pretty=True)"
   ],
   "metadata": {
    "collapsed": false,
    "ExecuteTime": {
     "end_time": "2024-07-21T09:28:13.816677300Z",
     "start_time": "2024-07-21T09:28:13.809358100Z"
    }
   },
   "id": "74bd8fe92d51d329",
   "execution_count": 113
  },
  {
   "cell_type": "code",
   "outputs": [
    {
     "name": "stdout",
     "output_type": "stream",
     "text": [
      " 9.879611414170494\t*\t I ⨂I \n",
      " -1.8425084880250775\t*\t I ⨂σz \n",
      " 0.20482085126469565\t*\t σx ⨂σx \n",
      " 1.0812790766673297e-05\t*\t σy ⨂σy \n",
      " -3.227244637743314\t*\t σz ⨂I \n",
      " 0.0013862359205287778\t*\t σz ⨂σz \n"
     ]
    }
   ],
   "source": [
    "sq_ext.decomposition_in_pauli_4x4(sq_ext.H_eff_SWT_large(ψ_0,ψ,E), print_pretty=True);"
   ],
   "metadata": {
    "collapsed": false,
    "ExecuteTime": {
     "end_time": "2024-07-21T09:28:14.502077900Z",
     "start_time": "2024-07-21T09:28:14.475911600Z"
    }
   },
   "id": "88b0768beeeaf7a8",
   "execution_count": 114
  },
  {
   "cell_type": "code",
   "outputs": [
    {
     "data": {
      "text/plain": "[Quantum object: dims = [[25, 15], [1, 1]], shape = (375, 1), type = ket\n Qobj data =\n [[ 9.85072988e-01]\n  [ 0.00000000e+00]\n  [ 0.00000000e+00]\n  [ 0.00000000e+00]\n  [ 0.00000000e+00]\n  [ 0.00000000e+00]\n  [ 0.00000000e+00]\n  [ 0.00000000e+00]\n  [ 0.00000000e+00]\n  [ 0.00000000e+00]\n  [ 0.00000000e+00]\n  [ 0.00000000e+00]\n  [ 0.00000000e+00]\n  [ 0.00000000e+00]\n  [ 0.00000000e+00]\n  [ 0.00000000e+00]\n  [ 0.00000000e+00]\n  [ 0.00000000e+00]\n  [ 0.00000000e+00]\n  [ 0.00000000e+00]\n  [ 0.00000000e+00]\n  [ 0.00000000e+00]\n  [ 0.00000000e+00]\n  [ 0.00000000e+00]\n  [ 0.00000000e+00]\n  [ 0.00000000e+00]\n  [ 0.00000000e+00]\n  [ 0.00000000e+00]\n  [ 0.00000000e+00]\n  [ 0.00000000e+00]\n  [ 1.71435976e-01]\n  [ 0.00000000e+00]\n  [ 0.00000000e+00]\n  [ 0.00000000e+00]\n  [ 0.00000000e+00]\n  [ 0.00000000e+00]\n  [ 0.00000000e+00]\n  [ 0.00000000e+00]\n  [ 0.00000000e+00]\n  [ 0.00000000e+00]\n  [ 0.00000000e+00]\n  [ 0.00000000e+00]\n  [ 0.00000000e+00]\n  [ 0.00000000e+00]\n  [ 0.00000000e+00]\n  [ 0.00000000e+00]\n  [ 0.00000000e+00]\n  [ 0.00000000e+00]\n  [ 0.00000000e+00]\n  [ 0.00000000e+00]\n  [ 0.00000000e+00]\n  [ 0.00000000e+00]\n  [ 0.00000000e+00]\n  [ 0.00000000e+00]\n  [ 0.00000000e+00]\n  [ 0.00000000e+00]\n  [ 0.00000000e+00]\n  [ 0.00000000e+00]\n  [ 0.00000000e+00]\n  [ 0.00000000e+00]\n  [ 1.54696145e-02]\n  [ 0.00000000e+00]\n  [ 0.00000000e+00]\n  [ 0.00000000e+00]\n  [ 0.00000000e+00]\n  [ 0.00000000e+00]\n  [ 0.00000000e+00]\n  [ 0.00000000e+00]\n  [ 0.00000000e+00]\n  [ 0.00000000e+00]\n  [ 0.00000000e+00]\n  [ 0.00000000e+00]\n  [ 0.00000000e+00]\n  [ 0.00000000e+00]\n  [ 0.00000000e+00]\n  [ 0.00000000e+00]\n  [ 0.00000000e+00]\n  [ 0.00000000e+00]\n  [ 0.00000000e+00]\n  [ 0.00000000e+00]\n  [ 0.00000000e+00]\n  [ 0.00000000e+00]\n  [ 0.00000000e+00]\n  [ 0.00000000e+00]\n  [ 0.00000000e+00]\n  [ 0.00000000e+00]\n  [ 0.00000000e+00]\n  [ 0.00000000e+00]\n  [ 0.00000000e+00]\n  [ 0.00000000e+00]\n  [-1.24383329e-03]\n  [ 0.00000000e+00]\n  [ 0.00000000e+00]\n  [ 0.00000000e+00]\n  [ 0.00000000e+00]\n  [ 0.00000000e+00]\n  [ 0.00000000e+00]\n  [ 0.00000000e+00]\n  [ 0.00000000e+00]\n  [ 0.00000000e+00]\n  [ 0.00000000e+00]\n  [ 0.00000000e+00]\n  [ 0.00000000e+00]\n  [ 0.00000000e+00]\n  [ 0.00000000e+00]\n  [ 0.00000000e+00]\n  [ 0.00000000e+00]\n  [ 0.00000000e+00]\n  [ 0.00000000e+00]\n  [ 0.00000000e+00]\n  [ 0.00000000e+00]\n  [ 0.00000000e+00]\n  [ 0.00000000e+00]\n  [ 0.00000000e+00]\n  [ 0.00000000e+00]\n  [ 0.00000000e+00]\n  [ 0.00000000e+00]\n  [ 0.00000000e+00]\n  [ 0.00000000e+00]\n  [ 0.00000000e+00]\n  [-2.35694919e-04]\n  [ 0.00000000e+00]\n  [ 0.00000000e+00]\n  [ 0.00000000e+00]\n  [ 0.00000000e+00]\n  [ 0.00000000e+00]\n  [ 0.00000000e+00]\n  [ 0.00000000e+00]\n  [ 0.00000000e+00]\n  [ 0.00000000e+00]\n  [ 0.00000000e+00]\n  [ 0.00000000e+00]\n  [ 0.00000000e+00]\n  [ 0.00000000e+00]\n  [ 0.00000000e+00]\n  [ 0.00000000e+00]\n  [ 0.00000000e+00]\n  [ 0.00000000e+00]\n  [ 0.00000000e+00]\n  [ 0.00000000e+00]\n  [ 0.00000000e+00]\n  [ 0.00000000e+00]\n  [ 0.00000000e+00]\n  [ 0.00000000e+00]\n  [ 0.00000000e+00]\n  [ 0.00000000e+00]\n  [ 0.00000000e+00]\n  [ 0.00000000e+00]\n  [ 0.00000000e+00]\n  [ 0.00000000e+00]\n  [ 5.21427976e-05]\n  [ 0.00000000e+00]\n  [ 0.00000000e+00]\n  [ 0.00000000e+00]\n  [ 0.00000000e+00]\n  [ 0.00000000e+00]\n  [ 0.00000000e+00]\n  [ 0.00000000e+00]\n  [ 0.00000000e+00]\n  [ 0.00000000e+00]\n  [ 0.00000000e+00]\n  [ 0.00000000e+00]\n  [ 0.00000000e+00]\n  [ 0.00000000e+00]\n  [ 0.00000000e+00]\n  [ 0.00000000e+00]\n  [ 0.00000000e+00]\n  [ 0.00000000e+00]\n  [ 0.00000000e+00]\n  [ 0.00000000e+00]\n  [ 0.00000000e+00]\n  [ 0.00000000e+00]\n  [ 0.00000000e+00]\n  [ 0.00000000e+00]\n  [ 0.00000000e+00]\n  [ 0.00000000e+00]\n  [ 0.00000000e+00]\n  [ 0.00000000e+00]\n  [ 0.00000000e+00]\n  [ 0.00000000e+00]\n  [ 6.06233260e-07]\n  [ 0.00000000e+00]\n  [ 0.00000000e+00]\n  [ 0.00000000e+00]\n  [ 0.00000000e+00]\n  [ 0.00000000e+00]\n  [ 0.00000000e+00]\n  [ 0.00000000e+00]\n  [ 0.00000000e+00]\n  [ 0.00000000e+00]\n  [ 0.00000000e+00]\n  [ 0.00000000e+00]\n  [ 0.00000000e+00]\n  [ 0.00000000e+00]\n  [ 0.00000000e+00]\n  [ 0.00000000e+00]\n  [ 0.00000000e+00]\n  [ 0.00000000e+00]\n  [ 0.00000000e+00]\n  [ 0.00000000e+00]\n  [ 0.00000000e+00]\n  [ 0.00000000e+00]\n  [ 0.00000000e+00]\n  [ 0.00000000e+00]\n  [ 0.00000000e+00]\n  [ 0.00000000e+00]\n  [ 0.00000000e+00]\n  [ 0.00000000e+00]\n  [ 0.00000000e+00]\n  [ 0.00000000e+00]\n  [-2.11994140e-06]\n  [ 0.00000000e+00]\n  [ 0.00000000e+00]\n  [ 0.00000000e+00]\n  [ 0.00000000e+00]\n  [ 0.00000000e+00]\n  [ 0.00000000e+00]\n  [ 0.00000000e+00]\n  [ 0.00000000e+00]\n  [ 0.00000000e+00]\n  [ 0.00000000e+00]\n  [ 0.00000000e+00]\n  [ 0.00000000e+00]\n  [ 0.00000000e+00]\n  [ 0.00000000e+00]\n  [ 0.00000000e+00]\n  [ 0.00000000e+00]\n  [ 0.00000000e+00]\n  [ 0.00000000e+00]\n  [ 0.00000000e+00]\n  [ 0.00000000e+00]\n  [ 0.00000000e+00]\n  [ 0.00000000e+00]\n  [ 0.00000000e+00]\n  [ 0.00000000e+00]\n  [ 0.00000000e+00]\n  [ 0.00000000e+00]\n  [ 0.00000000e+00]\n  [ 0.00000000e+00]\n  [ 0.00000000e+00]\n  [ 4.26394054e-07]\n  [ 0.00000000e+00]\n  [ 0.00000000e+00]\n  [ 0.00000000e+00]\n  [ 0.00000000e+00]\n  [ 0.00000000e+00]\n  [ 0.00000000e+00]\n  [ 0.00000000e+00]\n  [ 0.00000000e+00]\n  [ 0.00000000e+00]\n  [ 0.00000000e+00]\n  [ 0.00000000e+00]\n  [ 0.00000000e+00]\n  [ 0.00000000e+00]\n  [ 0.00000000e+00]\n  [ 0.00000000e+00]\n  [ 0.00000000e+00]\n  [ 0.00000000e+00]\n  [ 0.00000000e+00]\n  [ 0.00000000e+00]\n  [ 0.00000000e+00]\n  [ 0.00000000e+00]\n  [ 0.00000000e+00]\n  [ 0.00000000e+00]\n  [ 0.00000000e+00]\n  [ 0.00000000e+00]\n  [ 0.00000000e+00]\n  [ 0.00000000e+00]\n  [ 0.00000000e+00]\n  [ 0.00000000e+00]\n  [ 1.31603360e-09]\n  [ 0.00000000e+00]\n  [ 0.00000000e+00]\n  [ 0.00000000e+00]\n  [ 0.00000000e+00]\n  [ 0.00000000e+00]\n  [ 0.00000000e+00]\n  [ 0.00000000e+00]\n  [ 0.00000000e+00]\n  [ 0.00000000e+00]\n  [ 0.00000000e+00]\n  [ 0.00000000e+00]\n  [ 0.00000000e+00]\n  [ 0.00000000e+00]\n  [ 0.00000000e+00]\n  [ 0.00000000e+00]\n  [ 0.00000000e+00]\n  [ 0.00000000e+00]\n  [ 0.00000000e+00]\n  [ 0.00000000e+00]\n  [ 0.00000000e+00]\n  [ 0.00000000e+00]\n  [ 0.00000000e+00]\n  [ 0.00000000e+00]\n  [ 0.00000000e+00]\n  [ 0.00000000e+00]\n  [ 0.00000000e+00]\n  [ 0.00000000e+00]\n  [ 0.00000000e+00]\n  [ 0.00000000e+00]\n  [-2.42116439e-08]\n  [ 0.00000000e+00]\n  [ 0.00000000e+00]\n  [ 0.00000000e+00]\n  [ 0.00000000e+00]\n  [ 0.00000000e+00]\n  [ 0.00000000e+00]\n  [ 0.00000000e+00]\n  [ 0.00000000e+00]\n  [ 0.00000000e+00]\n  [ 0.00000000e+00]\n  [ 0.00000000e+00]\n  [ 0.00000000e+00]\n  [ 0.00000000e+00]\n  [ 0.00000000e+00]\n  [ 0.00000000e+00]\n  [ 0.00000000e+00]\n  [ 0.00000000e+00]\n  [ 0.00000000e+00]\n  [ 0.00000000e+00]\n  [ 0.00000000e+00]\n  [ 0.00000000e+00]\n  [ 0.00000000e+00]\n  [ 0.00000000e+00]\n  [ 0.00000000e+00]\n  [ 0.00000000e+00]\n  [ 0.00000000e+00]\n  [ 0.00000000e+00]\n  [ 0.00000000e+00]\n  [ 0.00000000e+00]\n  [ 7.19180549e-09]\n  [ 0.00000000e+00]\n  [ 0.00000000e+00]\n  [ 0.00000000e+00]\n  [ 0.00000000e+00]\n  [ 0.00000000e+00]\n  [ 0.00000000e+00]\n  [ 0.00000000e+00]\n  [ 0.00000000e+00]\n  [ 0.00000000e+00]\n  [ 0.00000000e+00]\n  [ 0.00000000e+00]\n  [ 0.00000000e+00]\n  [ 0.00000000e+00]\n  [ 0.00000000e+00]\n  [ 0.00000000e+00]\n  [ 0.00000000e+00]\n  [ 0.00000000e+00]\n  [ 0.00000000e+00]\n  [ 0.00000000e+00]\n  [ 0.00000000e+00]\n  [ 0.00000000e+00]\n  [ 0.00000000e+00]\n  [ 0.00000000e+00]\n  [ 0.00000000e+00]\n  [ 0.00000000e+00]\n  [ 0.00000000e+00]\n  [ 0.00000000e+00]\n  [ 0.00000000e+00]\n  [ 0.00000000e+00]\n  [-6.00448378e-10]\n  [ 0.00000000e+00]\n  [ 0.00000000e+00]\n  [ 0.00000000e+00]\n  [ 0.00000000e+00]\n  [ 0.00000000e+00]\n  [ 0.00000000e+00]\n  [ 0.00000000e+00]\n  [ 0.00000000e+00]\n  [ 0.00000000e+00]\n  [ 0.00000000e+00]\n  [ 0.00000000e+00]\n  [ 0.00000000e+00]\n  [ 0.00000000e+00]\n  [ 0.00000000e+00]],\n Quantum object: dims = [[25, 15], [1, 1]], shape = (375, 1), type = ket\n Qobj data =\n [[ 0.00000000e+00]\n  [ 0.00000000e+00]\n  [ 0.00000000e+00]\n  [ 0.00000000e+00]\n  [ 0.00000000e+00]\n  [ 0.00000000e+00]\n  [ 0.00000000e+00]\n  [ 0.00000000e+00]\n  [ 0.00000000e+00]\n  [ 0.00000000e+00]\n  [ 0.00000000e+00]\n  [ 0.00000000e+00]\n  [ 0.00000000e+00]\n  [ 0.00000000e+00]\n  [ 0.00000000e+00]\n  [ 9.74063710e-01]\n  [ 0.00000000e+00]\n  [ 0.00000000e+00]\n  [ 0.00000000e+00]\n  [ 0.00000000e+00]\n  [ 0.00000000e+00]\n  [ 0.00000000e+00]\n  [ 0.00000000e+00]\n  [ 0.00000000e+00]\n  [ 0.00000000e+00]\n  [ 0.00000000e+00]\n  [ 0.00000000e+00]\n  [ 0.00000000e+00]\n  [ 0.00000000e+00]\n  [ 0.00000000e+00]\n  [ 0.00000000e+00]\n  [ 0.00000000e+00]\n  [ 0.00000000e+00]\n  [ 0.00000000e+00]\n  [ 0.00000000e+00]\n  [ 0.00000000e+00]\n  [ 0.00000000e+00]\n  [ 0.00000000e+00]\n  [ 0.00000000e+00]\n  [ 0.00000000e+00]\n  [ 0.00000000e+00]\n  [ 0.00000000e+00]\n  [ 0.00000000e+00]\n  [ 0.00000000e+00]\n  [ 0.00000000e+00]\n  [ 2.25711913e-01]\n  [ 0.00000000e+00]\n  [ 0.00000000e+00]\n  [ 0.00000000e+00]\n  [ 0.00000000e+00]\n  [ 0.00000000e+00]\n  [ 0.00000000e+00]\n  [ 0.00000000e+00]\n  [ 0.00000000e+00]\n  [ 0.00000000e+00]\n  [ 0.00000000e+00]\n  [ 0.00000000e+00]\n  [ 0.00000000e+00]\n  [ 0.00000000e+00]\n  [ 0.00000000e+00]\n  [ 0.00000000e+00]\n  [ 0.00000000e+00]\n  [ 0.00000000e+00]\n  [ 0.00000000e+00]\n  [ 0.00000000e+00]\n  [ 0.00000000e+00]\n  [ 0.00000000e+00]\n  [ 0.00000000e+00]\n  [ 0.00000000e+00]\n  [ 0.00000000e+00]\n  [ 0.00000000e+00]\n  [ 0.00000000e+00]\n  [ 0.00000000e+00]\n  [ 0.00000000e+00]\n  [ 0.00000000e+00]\n  [ 1.56235482e-02]\n  [ 0.00000000e+00]\n  [ 0.00000000e+00]\n  [ 0.00000000e+00]\n  [ 0.00000000e+00]\n  [ 0.00000000e+00]\n  [ 0.00000000e+00]\n  [ 0.00000000e+00]\n  [ 0.00000000e+00]\n  [ 0.00000000e+00]\n  [ 0.00000000e+00]\n  [ 0.00000000e+00]\n  [ 0.00000000e+00]\n  [ 0.00000000e+00]\n  [ 0.00000000e+00]\n  [ 0.00000000e+00]\n  [ 0.00000000e+00]\n  [ 0.00000000e+00]\n  [ 0.00000000e+00]\n  [ 0.00000000e+00]\n  [ 0.00000000e+00]\n  [ 0.00000000e+00]\n  [ 0.00000000e+00]\n  [ 0.00000000e+00]\n  [ 0.00000000e+00]\n  [ 0.00000000e+00]\n  [ 0.00000000e+00]\n  [ 0.00000000e+00]\n  [ 0.00000000e+00]\n  [ 0.00000000e+00]\n  [-3.14339704e-03]\n  [ 0.00000000e+00]\n  [ 0.00000000e+00]\n  [ 0.00000000e+00]\n  [ 0.00000000e+00]\n  [ 0.00000000e+00]\n  [ 0.00000000e+00]\n  [ 0.00000000e+00]\n  [ 0.00000000e+00]\n  [ 0.00000000e+00]\n  [ 0.00000000e+00]\n  [ 0.00000000e+00]\n  [ 0.00000000e+00]\n  [ 0.00000000e+00]\n  [ 0.00000000e+00]\n  [ 0.00000000e+00]\n  [ 0.00000000e+00]\n  [ 0.00000000e+00]\n  [ 0.00000000e+00]\n  [ 0.00000000e+00]\n  [ 0.00000000e+00]\n  [ 0.00000000e+00]\n  [ 0.00000000e+00]\n  [ 0.00000000e+00]\n  [ 0.00000000e+00]\n  [ 0.00000000e+00]\n  [ 0.00000000e+00]\n  [ 0.00000000e+00]\n  [ 0.00000000e+00]\n  [ 0.00000000e+00]\n  [-1.79548465e-04]\n  [ 0.00000000e+00]\n  [ 0.00000000e+00]\n  [ 0.00000000e+00]\n  [ 0.00000000e+00]\n  [ 0.00000000e+00]\n  [ 0.00000000e+00]\n  [ 0.00000000e+00]\n  [ 0.00000000e+00]\n  [ 0.00000000e+00]\n  [ 0.00000000e+00]\n  [ 0.00000000e+00]\n  [ 0.00000000e+00]\n  [ 0.00000000e+00]\n  [ 0.00000000e+00]\n  [ 0.00000000e+00]\n  [ 0.00000000e+00]\n  [ 0.00000000e+00]\n  [ 0.00000000e+00]\n  [ 0.00000000e+00]\n  [ 0.00000000e+00]\n  [ 0.00000000e+00]\n  [ 0.00000000e+00]\n  [ 0.00000000e+00]\n  [ 0.00000000e+00]\n  [ 0.00000000e+00]\n  [ 0.00000000e+00]\n  [ 0.00000000e+00]\n  [ 0.00000000e+00]\n  [ 0.00000000e+00]\n  [ 1.13859289e-04]\n  [ 0.00000000e+00]\n  [ 0.00000000e+00]\n  [ 0.00000000e+00]\n  [ 0.00000000e+00]\n  [ 0.00000000e+00]\n  [ 0.00000000e+00]\n  [ 0.00000000e+00]\n  [ 0.00000000e+00]\n  [ 0.00000000e+00]\n  [ 0.00000000e+00]\n  [ 0.00000000e+00]\n  [ 0.00000000e+00]\n  [ 0.00000000e+00]\n  [ 0.00000000e+00]\n  [ 0.00000000e+00]\n  [ 0.00000000e+00]\n  [ 0.00000000e+00]\n  [ 0.00000000e+00]\n  [ 0.00000000e+00]\n  [ 0.00000000e+00]\n  [ 0.00000000e+00]\n  [ 0.00000000e+00]\n  [ 0.00000000e+00]\n  [ 0.00000000e+00]\n  [ 0.00000000e+00]\n  [ 0.00000000e+00]\n  [ 0.00000000e+00]\n  [ 0.00000000e+00]\n  [ 0.00000000e+00]\n  [-1.10187229e-05]\n  [ 0.00000000e+00]\n  [ 0.00000000e+00]\n  [ 0.00000000e+00]\n  [ 0.00000000e+00]\n  [ 0.00000000e+00]\n  [ 0.00000000e+00]\n  [ 0.00000000e+00]\n  [ 0.00000000e+00]\n  [ 0.00000000e+00]\n  [ 0.00000000e+00]\n  [ 0.00000000e+00]\n  [ 0.00000000e+00]\n  [ 0.00000000e+00]\n  [ 0.00000000e+00]\n  [ 0.00000000e+00]\n  [ 0.00000000e+00]\n  [ 0.00000000e+00]\n  [ 0.00000000e+00]\n  [ 0.00000000e+00]\n  [ 0.00000000e+00]\n  [ 0.00000000e+00]\n  [ 0.00000000e+00]\n  [ 0.00000000e+00]\n  [ 0.00000000e+00]\n  [ 0.00000000e+00]\n  [ 0.00000000e+00]\n  [ 0.00000000e+00]\n  [ 0.00000000e+00]\n  [ 0.00000000e+00]\n  [-2.71841932e-06]\n  [ 0.00000000e+00]\n  [ 0.00000000e+00]\n  [ 0.00000000e+00]\n  [ 0.00000000e+00]\n  [ 0.00000000e+00]\n  [ 0.00000000e+00]\n  [ 0.00000000e+00]\n  [ 0.00000000e+00]\n  [ 0.00000000e+00]\n  [ 0.00000000e+00]\n  [ 0.00000000e+00]\n  [ 0.00000000e+00]\n  [ 0.00000000e+00]\n  [ 0.00000000e+00]\n  [ 0.00000000e+00]\n  [ 0.00000000e+00]\n  [ 0.00000000e+00]\n  [ 0.00000000e+00]\n  [ 0.00000000e+00]\n  [ 0.00000000e+00]\n  [ 0.00000000e+00]\n  [ 0.00000000e+00]\n  [ 0.00000000e+00]\n  [ 0.00000000e+00]\n  [ 0.00000000e+00]\n  [ 0.00000000e+00]\n  [ 0.00000000e+00]\n  [ 0.00000000e+00]\n  [ 0.00000000e+00]\n  [ 1.16640847e-06]\n  [ 0.00000000e+00]\n  [ 0.00000000e+00]\n  [ 0.00000000e+00]\n  [ 0.00000000e+00]\n  [ 0.00000000e+00]\n  [ 0.00000000e+00]\n  [ 0.00000000e+00]\n  [ 0.00000000e+00]\n  [ 0.00000000e+00]\n  [ 0.00000000e+00]\n  [ 0.00000000e+00]\n  [ 0.00000000e+00]\n  [ 0.00000000e+00]\n  [ 0.00000000e+00]\n  [ 0.00000000e+00]\n  [ 0.00000000e+00]\n  [ 0.00000000e+00]\n  [ 0.00000000e+00]\n  [ 0.00000000e+00]\n  [ 0.00000000e+00]\n  [ 0.00000000e+00]\n  [ 0.00000000e+00]\n  [ 0.00000000e+00]\n  [ 0.00000000e+00]\n  [ 0.00000000e+00]\n  [ 0.00000000e+00]\n  [ 0.00000000e+00]\n  [ 0.00000000e+00]\n  [ 0.00000000e+00]\n  [-1.60880240e-07]\n  [ 0.00000000e+00]\n  [ 0.00000000e+00]\n  [ 0.00000000e+00]\n  [ 0.00000000e+00]\n  [ 0.00000000e+00]\n  [ 0.00000000e+00]\n  [ 0.00000000e+00]\n  [ 0.00000000e+00]\n  [ 0.00000000e+00]\n  [ 0.00000000e+00]\n  [ 0.00000000e+00]\n  [ 0.00000000e+00]\n  [ 0.00000000e+00]\n  [ 0.00000000e+00]\n  [ 0.00000000e+00]\n  [ 0.00000000e+00]\n  [ 0.00000000e+00]\n  [ 0.00000000e+00]\n  [ 0.00000000e+00]\n  [ 0.00000000e+00]\n  [ 0.00000000e+00]\n  [ 0.00000000e+00]\n  [ 0.00000000e+00]\n  [ 0.00000000e+00]\n  [ 0.00000000e+00]\n  [ 0.00000000e+00]\n  [ 0.00000000e+00]\n  [ 0.00000000e+00]\n  [ 0.00000000e+00]\n  [-2.24832308e-08]\n  [ 0.00000000e+00]\n  [ 0.00000000e+00]\n  [ 0.00000000e+00]\n  [ 0.00000000e+00]\n  [ 0.00000000e+00]\n  [ 0.00000000e+00]\n  [ 0.00000000e+00]\n  [ 0.00000000e+00]\n  [ 0.00000000e+00]\n  [ 0.00000000e+00]\n  [ 0.00000000e+00]\n  [ 0.00000000e+00]\n  [ 0.00000000e+00]\n  [ 0.00000000e+00]\n  [ 0.00000000e+00]\n  [ 0.00000000e+00]\n  [ 0.00000000e+00]\n  [ 0.00000000e+00]\n  [ 0.00000000e+00]\n  [ 0.00000000e+00]\n  [ 0.00000000e+00]\n  [ 0.00000000e+00]\n  [ 0.00000000e+00]\n  [ 0.00000000e+00]\n  [ 0.00000000e+00]\n  [ 0.00000000e+00]\n  [ 0.00000000e+00]\n  [ 0.00000000e+00]\n  [ 0.00000000e+00]\n  [ 1.71924563e-08]\n  [ 0.00000000e+00]\n  [ 0.00000000e+00]\n  [ 0.00000000e+00]\n  [ 0.00000000e+00]\n  [ 0.00000000e+00]\n  [ 0.00000000e+00]\n  [ 0.00000000e+00]\n  [ 0.00000000e+00]\n  [ 0.00000000e+00]\n  [ 0.00000000e+00]\n  [ 0.00000000e+00]\n  [ 0.00000000e+00]\n  [ 0.00000000e+00]\n  [ 0.00000000e+00]\n  [ 0.00000000e+00]\n  [ 0.00000000e+00]\n  [ 0.00000000e+00]\n  [ 0.00000000e+00]\n  [ 0.00000000e+00]\n  [ 0.00000000e+00]\n  [ 0.00000000e+00]\n  [ 0.00000000e+00]\n  [ 0.00000000e+00]\n  [ 0.00000000e+00]\n  [ 0.00000000e+00]\n  [ 0.00000000e+00]\n  [ 0.00000000e+00]\n  [ 0.00000000e+00]\n  [ 0.00000000e+00]],\n Quantum object: dims = [[25, 15], [1, 1]], shape = (375, 1), type = ket\n Qobj data =\n [[ 0.00000000e+00]\n  [ 9.85072988e-01]\n  [ 0.00000000e+00]\n  [ 0.00000000e+00]\n  [ 0.00000000e+00]\n  [ 0.00000000e+00]\n  [ 0.00000000e+00]\n  [ 0.00000000e+00]\n  [ 0.00000000e+00]\n  [ 0.00000000e+00]\n  [ 0.00000000e+00]\n  [ 0.00000000e+00]\n  [ 0.00000000e+00]\n  [ 0.00000000e+00]\n  [ 0.00000000e+00]\n  [ 0.00000000e+00]\n  [ 0.00000000e+00]\n  [ 0.00000000e+00]\n  [ 0.00000000e+00]\n  [ 0.00000000e+00]\n  [ 0.00000000e+00]\n  [ 0.00000000e+00]\n  [ 0.00000000e+00]\n  [ 0.00000000e+00]\n  [ 0.00000000e+00]\n  [ 0.00000000e+00]\n  [ 0.00000000e+00]\n  [ 0.00000000e+00]\n  [ 0.00000000e+00]\n  [ 0.00000000e+00]\n  [ 0.00000000e+00]\n  [ 1.71435976e-01]\n  [ 0.00000000e+00]\n  [ 0.00000000e+00]\n  [ 0.00000000e+00]\n  [ 0.00000000e+00]\n  [ 0.00000000e+00]\n  [ 0.00000000e+00]\n  [ 0.00000000e+00]\n  [ 0.00000000e+00]\n  [ 0.00000000e+00]\n  [ 0.00000000e+00]\n  [ 0.00000000e+00]\n  [ 0.00000000e+00]\n  [ 0.00000000e+00]\n  [ 0.00000000e+00]\n  [ 0.00000000e+00]\n  [ 0.00000000e+00]\n  [ 0.00000000e+00]\n  [ 0.00000000e+00]\n  [ 0.00000000e+00]\n  [ 0.00000000e+00]\n  [ 0.00000000e+00]\n  [ 0.00000000e+00]\n  [ 0.00000000e+00]\n  [ 0.00000000e+00]\n  [ 0.00000000e+00]\n  [ 0.00000000e+00]\n  [ 0.00000000e+00]\n  [ 0.00000000e+00]\n  [ 0.00000000e+00]\n  [ 1.54696145e-02]\n  [ 0.00000000e+00]\n  [ 0.00000000e+00]\n  [ 0.00000000e+00]\n  [ 0.00000000e+00]\n  [ 0.00000000e+00]\n  [ 0.00000000e+00]\n  [ 0.00000000e+00]\n  [ 0.00000000e+00]\n  [ 0.00000000e+00]\n  [ 0.00000000e+00]\n  [ 0.00000000e+00]\n  [ 0.00000000e+00]\n  [ 0.00000000e+00]\n  [ 0.00000000e+00]\n  [ 0.00000000e+00]\n  [ 0.00000000e+00]\n  [ 0.00000000e+00]\n  [ 0.00000000e+00]\n  [ 0.00000000e+00]\n  [ 0.00000000e+00]\n  [ 0.00000000e+00]\n  [ 0.00000000e+00]\n  [ 0.00000000e+00]\n  [ 0.00000000e+00]\n  [ 0.00000000e+00]\n  [ 0.00000000e+00]\n  [ 0.00000000e+00]\n  [ 0.00000000e+00]\n  [ 0.00000000e+00]\n  [-1.24383329e-03]\n  [ 0.00000000e+00]\n  [ 0.00000000e+00]\n  [ 0.00000000e+00]\n  [ 0.00000000e+00]\n  [ 0.00000000e+00]\n  [ 0.00000000e+00]\n  [ 0.00000000e+00]\n  [ 0.00000000e+00]\n  [ 0.00000000e+00]\n  [ 0.00000000e+00]\n  [ 0.00000000e+00]\n  [ 0.00000000e+00]\n  [ 0.00000000e+00]\n  [ 0.00000000e+00]\n  [ 0.00000000e+00]\n  [ 0.00000000e+00]\n  [ 0.00000000e+00]\n  [ 0.00000000e+00]\n  [ 0.00000000e+00]\n  [ 0.00000000e+00]\n  [ 0.00000000e+00]\n  [ 0.00000000e+00]\n  [ 0.00000000e+00]\n  [ 0.00000000e+00]\n  [ 0.00000000e+00]\n  [ 0.00000000e+00]\n  [ 0.00000000e+00]\n  [ 0.00000000e+00]\n  [ 0.00000000e+00]\n  [-2.35694919e-04]\n  [ 0.00000000e+00]\n  [ 0.00000000e+00]\n  [ 0.00000000e+00]\n  [ 0.00000000e+00]\n  [ 0.00000000e+00]\n  [ 0.00000000e+00]\n  [ 0.00000000e+00]\n  [ 0.00000000e+00]\n  [ 0.00000000e+00]\n  [ 0.00000000e+00]\n  [ 0.00000000e+00]\n  [ 0.00000000e+00]\n  [ 0.00000000e+00]\n  [ 0.00000000e+00]\n  [ 0.00000000e+00]\n  [ 0.00000000e+00]\n  [ 0.00000000e+00]\n  [ 0.00000000e+00]\n  [ 0.00000000e+00]\n  [ 0.00000000e+00]\n  [ 0.00000000e+00]\n  [ 0.00000000e+00]\n  [ 0.00000000e+00]\n  [ 0.00000000e+00]\n  [ 0.00000000e+00]\n  [ 0.00000000e+00]\n  [ 0.00000000e+00]\n  [ 0.00000000e+00]\n  [ 0.00000000e+00]\n  [ 5.21427976e-05]\n  [ 0.00000000e+00]\n  [ 0.00000000e+00]\n  [ 0.00000000e+00]\n  [ 0.00000000e+00]\n  [ 0.00000000e+00]\n  [ 0.00000000e+00]\n  [ 0.00000000e+00]\n  [ 0.00000000e+00]\n  [ 0.00000000e+00]\n  [ 0.00000000e+00]\n  [ 0.00000000e+00]\n  [ 0.00000000e+00]\n  [ 0.00000000e+00]\n  [ 0.00000000e+00]\n  [ 0.00000000e+00]\n  [ 0.00000000e+00]\n  [ 0.00000000e+00]\n  [ 0.00000000e+00]\n  [ 0.00000000e+00]\n  [ 0.00000000e+00]\n  [ 0.00000000e+00]\n  [ 0.00000000e+00]\n  [ 0.00000000e+00]\n  [ 0.00000000e+00]\n  [ 0.00000000e+00]\n  [ 0.00000000e+00]\n  [ 0.00000000e+00]\n  [ 0.00000000e+00]\n  [ 0.00000000e+00]\n  [ 6.06233260e-07]\n  [ 0.00000000e+00]\n  [ 0.00000000e+00]\n  [ 0.00000000e+00]\n  [ 0.00000000e+00]\n  [ 0.00000000e+00]\n  [ 0.00000000e+00]\n  [ 0.00000000e+00]\n  [ 0.00000000e+00]\n  [ 0.00000000e+00]\n  [ 0.00000000e+00]\n  [ 0.00000000e+00]\n  [ 0.00000000e+00]\n  [ 0.00000000e+00]\n  [ 0.00000000e+00]\n  [ 0.00000000e+00]\n  [ 0.00000000e+00]\n  [ 0.00000000e+00]\n  [ 0.00000000e+00]\n  [ 0.00000000e+00]\n  [ 0.00000000e+00]\n  [ 0.00000000e+00]\n  [ 0.00000000e+00]\n  [ 0.00000000e+00]\n  [ 0.00000000e+00]\n  [ 0.00000000e+00]\n  [ 0.00000000e+00]\n  [ 0.00000000e+00]\n  [ 0.00000000e+00]\n  [ 0.00000000e+00]\n  [-2.11994140e-06]\n  [ 0.00000000e+00]\n  [ 0.00000000e+00]\n  [ 0.00000000e+00]\n  [ 0.00000000e+00]\n  [ 0.00000000e+00]\n  [ 0.00000000e+00]\n  [ 0.00000000e+00]\n  [ 0.00000000e+00]\n  [ 0.00000000e+00]\n  [ 0.00000000e+00]\n  [ 0.00000000e+00]\n  [ 0.00000000e+00]\n  [ 0.00000000e+00]\n  [ 0.00000000e+00]\n  [ 0.00000000e+00]\n  [ 0.00000000e+00]\n  [ 0.00000000e+00]\n  [ 0.00000000e+00]\n  [ 0.00000000e+00]\n  [ 0.00000000e+00]\n  [ 0.00000000e+00]\n  [ 0.00000000e+00]\n  [ 0.00000000e+00]\n  [ 0.00000000e+00]\n  [ 0.00000000e+00]\n  [ 0.00000000e+00]\n  [ 0.00000000e+00]\n  [ 0.00000000e+00]\n  [ 0.00000000e+00]\n  [ 4.26394054e-07]\n  [ 0.00000000e+00]\n  [ 0.00000000e+00]\n  [ 0.00000000e+00]\n  [ 0.00000000e+00]\n  [ 0.00000000e+00]\n  [ 0.00000000e+00]\n  [ 0.00000000e+00]\n  [ 0.00000000e+00]\n  [ 0.00000000e+00]\n  [ 0.00000000e+00]\n  [ 0.00000000e+00]\n  [ 0.00000000e+00]\n  [ 0.00000000e+00]\n  [ 0.00000000e+00]\n  [ 0.00000000e+00]\n  [ 0.00000000e+00]\n  [ 0.00000000e+00]\n  [ 0.00000000e+00]\n  [ 0.00000000e+00]\n  [ 0.00000000e+00]\n  [ 0.00000000e+00]\n  [ 0.00000000e+00]\n  [ 0.00000000e+00]\n  [ 0.00000000e+00]\n  [ 0.00000000e+00]\n  [ 0.00000000e+00]\n  [ 0.00000000e+00]\n  [ 0.00000000e+00]\n  [ 0.00000000e+00]\n  [ 1.31603360e-09]\n  [ 0.00000000e+00]\n  [ 0.00000000e+00]\n  [ 0.00000000e+00]\n  [ 0.00000000e+00]\n  [ 0.00000000e+00]\n  [ 0.00000000e+00]\n  [ 0.00000000e+00]\n  [ 0.00000000e+00]\n  [ 0.00000000e+00]\n  [ 0.00000000e+00]\n  [ 0.00000000e+00]\n  [ 0.00000000e+00]\n  [ 0.00000000e+00]\n  [ 0.00000000e+00]\n  [ 0.00000000e+00]\n  [ 0.00000000e+00]\n  [ 0.00000000e+00]\n  [ 0.00000000e+00]\n  [ 0.00000000e+00]\n  [ 0.00000000e+00]\n  [ 0.00000000e+00]\n  [ 0.00000000e+00]\n  [ 0.00000000e+00]\n  [ 0.00000000e+00]\n  [ 0.00000000e+00]\n  [ 0.00000000e+00]\n  [ 0.00000000e+00]\n  [ 0.00000000e+00]\n  [ 0.00000000e+00]\n  [-2.42116439e-08]\n  [ 0.00000000e+00]\n  [ 0.00000000e+00]\n  [ 0.00000000e+00]\n  [ 0.00000000e+00]\n  [ 0.00000000e+00]\n  [ 0.00000000e+00]\n  [ 0.00000000e+00]\n  [ 0.00000000e+00]\n  [ 0.00000000e+00]\n  [ 0.00000000e+00]\n  [ 0.00000000e+00]\n  [ 0.00000000e+00]\n  [ 0.00000000e+00]\n  [ 0.00000000e+00]\n  [ 0.00000000e+00]\n  [ 0.00000000e+00]\n  [ 0.00000000e+00]\n  [ 0.00000000e+00]\n  [ 0.00000000e+00]\n  [ 0.00000000e+00]\n  [ 0.00000000e+00]\n  [ 0.00000000e+00]\n  [ 0.00000000e+00]\n  [ 0.00000000e+00]\n  [ 0.00000000e+00]\n  [ 0.00000000e+00]\n  [ 0.00000000e+00]\n  [ 0.00000000e+00]\n  [ 0.00000000e+00]\n  [ 7.19180549e-09]\n  [ 0.00000000e+00]\n  [ 0.00000000e+00]\n  [ 0.00000000e+00]\n  [ 0.00000000e+00]\n  [ 0.00000000e+00]\n  [ 0.00000000e+00]\n  [ 0.00000000e+00]\n  [ 0.00000000e+00]\n  [ 0.00000000e+00]\n  [ 0.00000000e+00]\n  [ 0.00000000e+00]\n  [ 0.00000000e+00]\n  [ 0.00000000e+00]\n  [ 0.00000000e+00]\n  [ 0.00000000e+00]\n  [ 0.00000000e+00]\n  [ 0.00000000e+00]\n  [ 0.00000000e+00]\n  [ 0.00000000e+00]\n  [ 0.00000000e+00]\n  [ 0.00000000e+00]\n  [ 0.00000000e+00]\n  [ 0.00000000e+00]\n  [ 0.00000000e+00]\n  [ 0.00000000e+00]\n  [ 0.00000000e+00]\n  [ 0.00000000e+00]\n  [ 0.00000000e+00]\n  [ 0.00000000e+00]\n  [-6.00448378e-10]\n  [ 0.00000000e+00]\n  [ 0.00000000e+00]\n  [ 0.00000000e+00]\n  [ 0.00000000e+00]\n  [ 0.00000000e+00]\n  [ 0.00000000e+00]\n  [ 0.00000000e+00]\n  [ 0.00000000e+00]\n  [ 0.00000000e+00]\n  [ 0.00000000e+00]\n  [ 0.00000000e+00]\n  [ 0.00000000e+00]\n  [ 0.00000000e+00]],\n Quantum object: dims = [[25, 15], [1, 1]], shape = (375, 1), type = ket\n Qobj data =\n [[ 0.00000000e+00]\n  [ 0.00000000e+00]\n  [ 0.00000000e+00]\n  [ 0.00000000e+00]\n  [ 0.00000000e+00]\n  [ 0.00000000e+00]\n  [ 0.00000000e+00]\n  [ 0.00000000e+00]\n  [ 0.00000000e+00]\n  [ 0.00000000e+00]\n  [ 0.00000000e+00]\n  [ 0.00000000e+00]\n  [ 0.00000000e+00]\n  [ 0.00000000e+00]\n  [ 0.00000000e+00]\n  [ 0.00000000e+00]\n  [ 9.74063710e-01]\n  [ 0.00000000e+00]\n  [ 0.00000000e+00]\n  [ 0.00000000e+00]\n  [ 0.00000000e+00]\n  [ 0.00000000e+00]\n  [ 0.00000000e+00]\n  [ 0.00000000e+00]\n  [ 0.00000000e+00]\n  [ 0.00000000e+00]\n  [ 0.00000000e+00]\n  [ 0.00000000e+00]\n  [ 0.00000000e+00]\n  [ 0.00000000e+00]\n  [ 0.00000000e+00]\n  [ 0.00000000e+00]\n  [ 0.00000000e+00]\n  [ 0.00000000e+00]\n  [ 0.00000000e+00]\n  [ 0.00000000e+00]\n  [ 0.00000000e+00]\n  [ 0.00000000e+00]\n  [ 0.00000000e+00]\n  [ 0.00000000e+00]\n  [ 0.00000000e+00]\n  [ 0.00000000e+00]\n  [ 0.00000000e+00]\n  [ 0.00000000e+00]\n  [ 0.00000000e+00]\n  [ 0.00000000e+00]\n  [ 2.25711913e-01]\n  [ 0.00000000e+00]\n  [ 0.00000000e+00]\n  [ 0.00000000e+00]\n  [ 0.00000000e+00]\n  [ 0.00000000e+00]\n  [ 0.00000000e+00]\n  [ 0.00000000e+00]\n  [ 0.00000000e+00]\n  [ 0.00000000e+00]\n  [ 0.00000000e+00]\n  [ 0.00000000e+00]\n  [ 0.00000000e+00]\n  [ 0.00000000e+00]\n  [ 0.00000000e+00]\n  [ 0.00000000e+00]\n  [ 0.00000000e+00]\n  [ 0.00000000e+00]\n  [ 0.00000000e+00]\n  [ 0.00000000e+00]\n  [ 0.00000000e+00]\n  [ 0.00000000e+00]\n  [ 0.00000000e+00]\n  [ 0.00000000e+00]\n  [ 0.00000000e+00]\n  [ 0.00000000e+00]\n  [ 0.00000000e+00]\n  [ 0.00000000e+00]\n  [ 0.00000000e+00]\n  [ 0.00000000e+00]\n  [ 1.56235482e-02]\n  [ 0.00000000e+00]\n  [ 0.00000000e+00]\n  [ 0.00000000e+00]\n  [ 0.00000000e+00]\n  [ 0.00000000e+00]\n  [ 0.00000000e+00]\n  [ 0.00000000e+00]\n  [ 0.00000000e+00]\n  [ 0.00000000e+00]\n  [ 0.00000000e+00]\n  [ 0.00000000e+00]\n  [ 0.00000000e+00]\n  [ 0.00000000e+00]\n  [ 0.00000000e+00]\n  [ 0.00000000e+00]\n  [ 0.00000000e+00]\n  [ 0.00000000e+00]\n  [ 0.00000000e+00]\n  [ 0.00000000e+00]\n  [ 0.00000000e+00]\n  [ 0.00000000e+00]\n  [ 0.00000000e+00]\n  [ 0.00000000e+00]\n  [ 0.00000000e+00]\n  [ 0.00000000e+00]\n  [ 0.00000000e+00]\n  [ 0.00000000e+00]\n  [ 0.00000000e+00]\n  [ 0.00000000e+00]\n  [-3.14339704e-03]\n  [ 0.00000000e+00]\n  [ 0.00000000e+00]\n  [ 0.00000000e+00]\n  [ 0.00000000e+00]\n  [ 0.00000000e+00]\n  [ 0.00000000e+00]\n  [ 0.00000000e+00]\n  [ 0.00000000e+00]\n  [ 0.00000000e+00]\n  [ 0.00000000e+00]\n  [ 0.00000000e+00]\n  [ 0.00000000e+00]\n  [ 0.00000000e+00]\n  [ 0.00000000e+00]\n  [ 0.00000000e+00]\n  [ 0.00000000e+00]\n  [ 0.00000000e+00]\n  [ 0.00000000e+00]\n  [ 0.00000000e+00]\n  [ 0.00000000e+00]\n  [ 0.00000000e+00]\n  [ 0.00000000e+00]\n  [ 0.00000000e+00]\n  [ 0.00000000e+00]\n  [ 0.00000000e+00]\n  [ 0.00000000e+00]\n  [ 0.00000000e+00]\n  [ 0.00000000e+00]\n  [ 0.00000000e+00]\n  [-1.79548465e-04]\n  [ 0.00000000e+00]\n  [ 0.00000000e+00]\n  [ 0.00000000e+00]\n  [ 0.00000000e+00]\n  [ 0.00000000e+00]\n  [ 0.00000000e+00]\n  [ 0.00000000e+00]\n  [ 0.00000000e+00]\n  [ 0.00000000e+00]\n  [ 0.00000000e+00]\n  [ 0.00000000e+00]\n  [ 0.00000000e+00]\n  [ 0.00000000e+00]\n  [ 0.00000000e+00]\n  [ 0.00000000e+00]\n  [ 0.00000000e+00]\n  [ 0.00000000e+00]\n  [ 0.00000000e+00]\n  [ 0.00000000e+00]\n  [ 0.00000000e+00]\n  [ 0.00000000e+00]\n  [ 0.00000000e+00]\n  [ 0.00000000e+00]\n  [ 0.00000000e+00]\n  [ 0.00000000e+00]\n  [ 0.00000000e+00]\n  [ 0.00000000e+00]\n  [ 0.00000000e+00]\n  [ 0.00000000e+00]\n  [ 1.13859289e-04]\n  [ 0.00000000e+00]\n  [ 0.00000000e+00]\n  [ 0.00000000e+00]\n  [ 0.00000000e+00]\n  [ 0.00000000e+00]\n  [ 0.00000000e+00]\n  [ 0.00000000e+00]\n  [ 0.00000000e+00]\n  [ 0.00000000e+00]\n  [ 0.00000000e+00]\n  [ 0.00000000e+00]\n  [ 0.00000000e+00]\n  [ 0.00000000e+00]\n  [ 0.00000000e+00]\n  [ 0.00000000e+00]\n  [ 0.00000000e+00]\n  [ 0.00000000e+00]\n  [ 0.00000000e+00]\n  [ 0.00000000e+00]\n  [ 0.00000000e+00]\n  [ 0.00000000e+00]\n  [ 0.00000000e+00]\n  [ 0.00000000e+00]\n  [ 0.00000000e+00]\n  [ 0.00000000e+00]\n  [ 0.00000000e+00]\n  [ 0.00000000e+00]\n  [ 0.00000000e+00]\n  [ 0.00000000e+00]\n  [-1.10187229e-05]\n  [ 0.00000000e+00]\n  [ 0.00000000e+00]\n  [ 0.00000000e+00]\n  [ 0.00000000e+00]\n  [ 0.00000000e+00]\n  [ 0.00000000e+00]\n  [ 0.00000000e+00]\n  [ 0.00000000e+00]\n  [ 0.00000000e+00]\n  [ 0.00000000e+00]\n  [ 0.00000000e+00]\n  [ 0.00000000e+00]\n  [ 0.00000000e+00]\n  [ 0.00000000e+00]\n  [ 0.00000000e+00]\n  [ 0.00000000e+00]\n  [ 0.00000000e+00]\n  [ 0.00000000e+00]\n  [ 0.00000000e+00]\n  [ 0.00000000e+00]\n  [ 0.00000000e+00]\n  [ 0.00000000e+00]\n  [ 0.00000000e+00]\n  [ 0.00000000e+00]\n  [ 0.00000000e+00]\n  [ 0.00000000e+00]\n  [ 0.00000000e+00]\n  [ 0.00000000e+00]\n  [ 0.00000000e+00]\n  [-2.71841932e-06]\n  [ 0.00000000e+00]\n  [ 0.00000000e+00]\n  [ 0.00000000e+00]\n  [ 0.00000000e+00]\n  [ 0.00000000e+00]\n  [ 0.00000000e+00]\n  [ 0.00000000e+00]\n  [ 0.00000000e+00]\n  [ 0.00000000e+00]\n  [ 0.00000000e+00]\n  [ 0.00000000e+00]\n  [ 0.00000000e+00]\n  [ 0.00000000e+00]\n  [ 0.00000000e+00]\n  [ 0.00000000e+00]\n  [ 0.00000000e+00]\n  [ 0.00000000e+00]\n  [ 0.00000000e+00]\n  [ 0.00000000e+00]\n  [ 0.00000000e+00]\n  [ 0.00000000e+00]\n  [ 0.00000000e+00]\n  [ 0.00000000e+00]\n  [ 0.00000000e+00]\n  [ 0.00000000e+00]\n  [ 0.00000000e+00]\n  [ 0.00000000e+00]\n  [ 0.00000000e+00]\n  [ 0.00000000e+00]\n  [ 1.16640847e-06]\n  [ 0.00000000e+00]\n  [ 0.00000000e+00]\n  [ 0.00000000e+00]\n  [ 0.00000000e+00]\n  [ 0.00000000e+00]\n  [ 0.00000000e+00]\n  [ 0.00000000e+00]\n  [ 0.00000000e+00]\n  [ 0.00000000e+00]\n  [ 0.00000000e+00]\n  [ 0.00000000e+00]\n  [ 0.00000000e+00]\n  [ 0.00000000e+00]\n  [ 0.00000000e+00]\n  [ 0.00000000e+00]\n  [ 0.00000000e+00]\n  [ 0.00000000e+00]\n  [ 0.00000000e+00]\n  [ 0.00000000e+00]\n  [ 0.00000000e+00]\n  [ 0.00000000e+00]\n  [ 0.00000000e+00]\n  [ 0.00000000e+00]\n  [ 0.00000000e+00]\n  [ 0.00000000e+00]\n  [ 0.00000000e+00]\n  [ 0.00000000e+00]\n  [ 0.00000000e+00]\n  [ 0.00000000e+00]\n  [-1.60880240e-07]\n  [ 0.00000000e+00]\n  [ 0.00000000e+00]\n  [ 0.00000000e+00]\n  [ 0.00000000e+00]\n  [ 0.00000000e+00]\n  [ 0.00000000e+00]\n  [ 0.00000000e+00]\n  [ 0.00000000e+00]\n  [ 0.00000000e+00]\n  [ 0.00000000e+00]\n  [ 0.00000000e+00]\n  [ 0.00000000e+00]\n  [ 0.00000000e+00]\n  [ 0.00000000e+00]\n  [ 0.00000000e+00]\n  [ 0.00000000e+00]\n  [ 0.00000000e+00]\n  [ 0.00000000e+00]\n  [ 0.00000000e+00]\n  [ 0.00000000e+00]\n  [ 0.00000000e+00]\n  [ 0.00000000e+00]\n  [ 0.00000000e+00]\n  [ 0.00000000e+00]\n  [ 0.00000000e+00]\n  [ 0.00000000e+00]\n  [ 0.00000000e+00]\n  [ 0.00000000e+00]\n  [ 0.00000000e+00]\n  [-2.24832308e-08]\n  [ 0.00000000e+00]\n  [ 0.00000000e+00]\n  [ 0.00000000e+00]\n  [ 0.00000000e+00]\n  [ 0.00000000e+00]\n  [ 0.00000000e+00]\n  [ 0.00000000e+00]\n  [ 0.00000000e+00]\n  [ 0.00000000e+00]\n  [ 0.00000000e+00]\n  [ 0.00000000e+00]\n  [ 0.00000000e+00]\n  [ 0.00000000e+00]\n  [ 0.00000000e+00]\n  [ 0.00000000e+00]\n  [ 0.00000000e+00]\n  [ 0.00000000e+00]\n  [ 0.00000000e+00]\n  [ 0.00000000e+00]\n  [ 0.00000000e+00]\n  [ 0.00000000e+00]\n  [ 0.00000000e+00]\n  [ 0.00000000e+00]\n  [ 0.00000000e+00]\n  [ 0.00000000e+00]\n  [ 0.00000000e+00]\n  [ 0.00000000e+00]\n  [ 0.00000000e+00]\n  [ 0.00000000e+00]\n  [ 1.71924563e-08]\n  [ 0.00000000e+00]\n  [ 0.00000000e+00]\n  [ 0.00000000e+00]\n  [ 0.00000000e+00]\n  [ 0.00000000e+00]\n  [ 0.00000000e+00]\n  [ 0.00000000e+00]\n  [ 0.00000000e+00]\n  [ 0.00000000e+00]\n  [ 0.00000000e+00]\n  [ 0.00000000e+00]\n  [ 0.00000000e+00]\n  [ 0.00000000e+00]\n  [ 0.00000000e+00]\n  [ 0.00000000e+00]\n  [ 0.00000000e+00]\n  [ 0.00000000e+00]\n  [ 0.00000000e+00]\n  [ 0.00000000e+00]\n  [ 0.00000000e+00]\n  [ 0.00000000e+00]\n  [ 0.00000000e+00]\n  [ 0.00000000e+00]\n  [ 0.00000000e+00]\n  [ 0.00000000e+00]\n  [ 0.00000000e+00]\n  [ 0.00000000e+00]\n  [ 0.00000000e+00]]]"
     },
     "execution_count": 100,
     "metadata": {},
     "output_type": "execute_result"
    }
   ],
   "source": [
    "ψ_0"
   ],
   "metadata": {
    "collapsed": false,
    "ExecuteTime": {
     "end_time": "2024-07-21T09:24:19.320404300Z",
     "start_time": "2024-07-21T09:24:19.285299500Z"
    }
   },
   "id": "c787d3023d6d94c",
   "execution_count": 100
  },
  {
   "cell_type": "code",
   "outputs": [],
   "source": [],
   "metadata": {
    "collapsed": false
   },
   "id": "c553c413cc9b9334"
  }
 ],
 "metadata": {
  "kernelspec": {
   "display_name": "Python 3",
   "language": "python",
   "name": "python3"
  },
  "language_info": {
   "codemirror_mode": {
    "name": "ipython",
    "version": 2
   },
   "file_extension": ".py",
   "mimetype": "text/x-python",
   "name": "python",
   "nbconvert_exporter": "python",
   "pygments_lexer": "ipython2",
   "version": "2.7.6"
  }
 },
 "nbformat": 4,
 "nbformat_minor": 5
}
