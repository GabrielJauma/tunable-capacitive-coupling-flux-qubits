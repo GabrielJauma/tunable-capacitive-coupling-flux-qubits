{
 "cells": [
  {
   "cell_type": "code",
   "execution_count": 29,
   "outputs": [],
   "source": [
    "import os\n",
    "import sys\n",
    "\n",
    "import SQcircuit as sq\n",
    "import numpy as np\n",
    "import matplotlib.pyplot as plt\n",
    "from IPython.display import display, Image"
   ],
   "metadata": {
    "collapsed": false,
    "ExecuteTime": {
     "end_time": "2023-07-26T09:33:55.566428100Z",
     "start_time": "2023-07-26T09:33:55.564103600Z"
    }
   }
  },
  {
   "cell_type": "markdown",
   "source": [
    "# Single qubit\n",
    "\n",
    "This notebook studies the qubit proposed by KIT. It's lumped element model is:\n",
    "<img src='Other/Single qubit 4 nodes CC coupled to ground.jpg' width='500'>\n"
   ],
   "metadata": {
    "collapsed": false
   }
  },
  {
   "cell_type": "markdown",
   "source": [
    "## Define the circuit in SQcircuit"
   ],
   "metadata": {
    "collapsed": false
   }
  },
  {
   "cell_type": "code",
   "execution_count": 54,
   "outputs": [],
   "source": [
    "# Circuit parameters\n",
    "Csh = 15\n",
    "C   = 15\n",
    "CJ  = 3\n",
    "Cg  = 20\n",
    "Lq = 25\n",
    "Lr = 10\n",
    "Δ  = 0.1\n",
    "EJ  = 10.0\n",
    "\n",
    "# Initialize loop(s)\n",
    "loop = sq.Loop(0.0)  # \"Value\" corresponds to phiExt / phi0 threading the loop (can change later)\n",
    "\n",
    "# Circuit elements\n",
    "C_01 = sq.Capacitor(C, 'fF')\n",
    "C_02 = sq.Capacitor(C, 'fF')\n",
    "C_12 = sq.Capacitor(CJ+Csh, 'fF')\n",
    "C_04 = sq.Capacitor(Cg, 'fF')\n",
    "\n",
    "L_03 = sq.Inductor(Lr, 'nH')\n",
    "L_31 = sq.Inductor(Lq/2 - Δ, 'nH', loops=[loop])\n",
    "L_23 = sq.Inductor(Lq/2 + Δ, 'nH', loops=[loop])\n",
    "\n",
    "JJ = sq.Junction(EJ, 'GHz', loops=[loop])\n",
    "\n",
    "# Create the circuit\n",
    "elements = {\n",
    "    # (0,4): [C_04],\n",
    "    (0, 3): [L_03],\n",
    "    (0, 1): [C_01],\n",
    "    (0, 2): [C_02],\n",
    "    (3, 1): [L_31],\n",
    "    (1, 2): [C_12, JJ],\n",
    "    (2, 3): [L_23],\n",
    "}\n",
    "\n",
    "qubit = sq.Circuit(elements)"
   ],
   "metadata": {
    "collapsed": false,
    "ExecuteTime": {
     "end_time": "2023-07-26T10:28:27.769199200Z",
     "start_time": "2023-07-26T10:28:27.753455200Z"
    }
   }
  },
  {
   "cell_type": "code",
   "execution_count": 45,
   "outputs": [
    {
     "data": {
      "text/plain": "<IPython.core.display.Latex object>",
      "text/latex": "$\\hat{H} =~\\omega_1\\hat a^\\dagger_1\\hat a_1~+~\\omega_2\\hat a^\\dagger_2\\hat a_2~+~\\omega_3\\hat a^\\dagger_3\\hat a_3~~-~E_{J_{1}}\\cos(-\\hat{\\varphi}_1+\\hat{\\varphi}_2-\\hat{\\varphi}_3+\\varphi_{\\text{ext}_{1}})$"
     },
     "metadata": {},
     "output_type": "display_data"
    },
    {
     "data": {
      "text/plain": "<IPython.core.display.Latex object>",
      "text/latex": "$------------------------------------------------------------$"
     },
     "metadata": {},
     "output_type": "display_data"
    },
    {
     "data": {
      "text/plain": "<IPython.core.display.Latex object>",
      "text/latex": "$\\text{mode}~1:~~~~~~~~~~~\\text{harmonic}~~~~~~~~~~~\\hat{\\varphi}_1~=~\\varphi_{zp_{1}}(\\hat a_1+\\hat a^\\dagger_1)~~~~~~~~~~~\\omega_1/2\\pi~=~14816.81067~~~~~~~~~~~\\varphi_{zp_{1}}~=~3.82e-08$"
     },
     "metadata": {},
     "output_type": "display_data"
    },
    {
     "data": {
      "text/plain": "<IPython.core.display.Latex object>",
      "text/latex": "$\\text{mode}~2:~~~~~~~~~~~\\text{harmonic}~~~~~~~~~~~\\hat{\\varphi}_2~=~\\varphi_{zp_{2}}(\\hat a_2+\\hat a^\\dagger_2)~~~~~~~~~~~\\omega_2/2\\pi~=~7.20868~~~~~~~~~~~\\varphi_{zp_{2}}~=~1.20e-02$"
     },
     "metadata": {},
     "output_type": "display_data"
    },
    {
     "data": {
      "text/plain": "<IPython.core.display.Latex object>",
      "text/latex": "$\\text{mode}~3:~~~~~~~~~~~\\text{harmonic}~~~~~~~~~~~\\hat{\\varphi}_3~=~\\varphi_{zp_{3}}(\\hat a_3+\\hat a^\\dagger_3)~~~~~~~~~~~\\omega_3/2\\pi~=~6.30322~~~~~~~~~~~\\varphi_{zp_{3}}~=~6.94e-01$"
     },
     "metadata": {},
     "output_type": "display_data"
    },
    {
     "data": {
      "text/plain": "<IPython.core.display.Latex object>",
      "text/latex": "$------------------------------------------------------------$"
     },
     "metadata": {},
     "output_type": "display_data"
    },
    {
     "data": {
      "text/plain": "<IPython.core.display.Latex object>",
      "text/latex": "$\\text{parameters}:~~~~~~~~~~~E_{J_{1}}~=~10.0~~~~~~~~~~~$"
     },
     "metadata": {},
     "output_type": "display_data"
    },
    {
     "data": {
      "text/plain": "<IPython.core.display.Latex object>",
      "text/latex": "$\\text{loops}:~~~~~~~~~~~~~~~~~~~~\\varphi_{\\text{ext}_{1}}/2\\pi~=~1.0~~~~~~~~~~~$"
     },
     "metadata": {},
     "output_type": "display_data"
    }
   ],
   "source": [
    "qubit.description()"
   ],
   "metadata": {
    "collapsed": false,
    "ExecuteTime": {
     "end_time": "2023-07-26T10:25:34.398162800Z",
     "start_time": "2023-07-26T10:25:34.382955Z"
    }
   }
  },
  {
   "cell_type": "code",
   "execution_count": 58,
   "outputs": [],
   "source": [
    "qubit.set_trunc_nums([5, 5, 5])"
   ],
   "metadata": {
    "collapsed": false,
    "ExecuteTime": {
     "end_time": "2023-07-26T10:29:02.446845600Z",
     "start_time": "2023-07-26T10:29:02.426757Z"
    }
   }
  },
  {
   "cell_type": "code",
   "execution_count": 59,
   "outputs": [
    {
     "data": {
      "text/plain": "<Figure size 640x480 with 1 Axes>",
      "image/png": "[encoded data removed]"
     },
     "metadata": {},
     "output_type": "display_data"
    }
   ],
   "source": [
    "# external flux for sweeping over\n",
    "phi = np.linspace(0,1,100)\n",
    "\n",
    "# spectrum of the circuit\n",
    "n_eig=5\n",
    "spec = np.zeros((n_eig, len(phi)))\n",
    "\n",
    "for i in range(len(phi)):\n",
    "    # set the external flux for the loop\n",
    "    loop.set_flux(phi[i])\n",
    "\n",
    "    # diagonlize the circuit\n",
    "    spec[:, i], _ = qubit.diag(n_eig)\n",
    "plt.figure()\n",
    "for i in range(n_eig):\n",
    "    plt.plot(phi, spec[i,:]- spec[0,:])\n",
    "\n",
    "plt.xlabel(r\"$\\Phi_{ext}/\\Phi_0$\", fontsize=13)\n",
    "plt.ylabel(r\"$f_i-f_0$[GHz]\", fontsize=13)\n",
    "plt.show()"
   ],
   "metadata": {
    "collapsed": false,
    "ExecuteTime": {
     "end_time": "2023-07-26T10:29:36.133170400Z",
     "start_time": "2023-07-26T10:29:34.278247800Z"
    }
   }
  }
 ],
 "metadata": {
  "kernelspec": {
   "display_name": "Python 3",
   "language": "python",
   "name": "python3"
  },
  "language_info": {
   "codemirror_mode": {
    "name": "ipython",
    "version": 2
   },
   "file_extension": ".py",
   "mimetype": "text/x-python",
   "name": "python",
   "nbconvert_exporter": "python",
   "pygments_lexer": "ipython2",
   "version": "2.7.6"
  }
 },
 "nbformat": 4,
 "nbformat_minor": 0
}
