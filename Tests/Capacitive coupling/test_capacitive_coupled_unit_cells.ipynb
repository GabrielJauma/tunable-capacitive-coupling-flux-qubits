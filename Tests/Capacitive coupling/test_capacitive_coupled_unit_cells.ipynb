{
 "cells": [
  {
   "cell_type": "code",
   "metadata": {
    "ExecuteTime": {
     "end_time": "2024-05-15T11:20:48.902594800Z",
     "start_time": "2024-05-15T11:20:47.767858400Z"
    }
   },
   "source": [
    "import Modules.SQcircuit_extensions as sq_ext\n",
    "import Modules.figures as figs\n",
    "import SQcircuit as sq\n",
    "import numpy as np\n",
    "import matplotlib.pyplot as plt\n",
    "import importlib\n",
    "import qutip as qt\n",
    "import scipy as sp\n",
    "%matplotlib ipympl\n",
    "\n",
    "plt.rcParams['text.usetex'] = False\n",
    "importlib.reload(sq_ext)\n",
    "importlib.reload(sq)\n",
    "importlib.reload(figs)\n",
    "np.set_printoptions(linewidth=200, formatter={'float': '{:.6f}'.format})\n",
    "# np.set_printoptions(linewidth=200, formatter={'float': '{:.3e}'.format})"
   ],
   "execution_count": 1,
   "outputs": []
  },
  {
   "cell_type": "code",
   "metadata": {
    "ExecuteTime": {
     "end_time": "2024-05-15T11:20:48.917645400Z",
     "start_time": "2024-05-15T11:20:48.903640Z"
    }
   },
   "source": [
    "GHz = 1e9\n",
    "fF = 1e-15\n",
    "nH = 1e-9"
   ],
   "execution_count": 2,
   "outputs": []
  },
  {
   "metadata": {
    "ExecuteTime": {
     "end_time": "2024-05-15T11:20:48.934667100Z",
     "start_time": "2024-05-15T11:20:48.924056900Z"
    }
   },
   "cell_type": "code",
   "source": [
    "def fluxonium(LF, CF, EJ, nmax):\n",
    "    loop = sq.Loop(0.5)\n",
    "    C_01   = sq.Capacitor(CF, 'fF')\n",
    "    L_01   = sq.Inductor (LF, 'nH', loops=[loop])\n",
    "    EJ_01  = sq.Junction(EJ, 'GHz', loops=[loop])\n",
    "    elements = {(0, 1): [L_01, C_01, EJ_01]}\n",
    "    circuit = sq.Circuit(elements)\n",
    "    circuit.set_trunc_nums([nmax])\n",
    "    return circuit\n",
    "\n",
    "def resonator(LR, CR, nmax):\n",
    "    L_01   = sq.Inductor (LR, 'nH')\n",
    "    C_01   = sq.Capacitor(CR, 'fF')\n",
    "    elements = {(0, 1): [L_01, C_01],}\n",
    "    circuit = sq.Circuit(elements)\n",
    "    circuit.set_trunc_nums([nmax])\n",
    "    return circuit\n",
    "\n",
    "def coupled_unit_cells(LF1, CF1, EJ1, LR1, CR1, LF2, CF2, EJ2, LR2, CR2, CC, nmax):\n",
    "    # This ignores the internal flux*flux coupling, that is for Δ=0. \n",
    "    loop1 = sq.Loop(0.5)\n",
    "    C_01   = sq.Capacitor(CF1, 'fF')\n",
    "    L_01   = sq.Inductor (LF1, 'nH', loops=[loop1])\n",
    "    EJ_01  = sq.Junction (EJ1, 'GHz',loops=[loop1])\n",
    "\n",
    "    L_02   = sq.Inductor (LR1, 'nH')\n",
    "    C_02   = sq.Capacitor(CR1, 'fF')\n",
    "    \n",
    "    loop2 = sq.Loop(0.5)\n",
    "    C_03   = sq.Capacitor(CF2, 'fF')\n",
    "    L_03   = sq.Inductor (LF2, 'nH', loops=[loop2])\n",
    "    EJ_03  = sq.Junction (EJ2, 'GHz',loops=[loop2])\n",
    "\n",
    "    L_04   = sq.Inductor (LR2, 'nH')\n",
    "    C_04   = sq.Capacitor(CR2, 'fF')\n",
    "    \n",
    "    C_C = sq.Capacitor(CC/4, 'fF') \n",
    "    \n",
    "    elements = {(0, 1): [L_01, C_01, EJ_01],\n",
    "                (0, 2): [L_02, C_02],\n",
    "                (0, 3): [L_03, C_03, EJ_03],\n",
    "                (0, 4): [L_04, C_04],\n",
    "                (1, 3): [C_C],\n",
    "                (1, 4): [C_C],\n",
    "                (2, 3): [C_C],\n",
    "                (2, 4): [C_C]}\n",
    "    \n",
    "    circuit = sq.Circuit(elements)\n",
    "    circuit.set_trunc_nums([nmax,nmax,nmax,nmax])\n",
    "    \n",
    "    return circuit"
   ],
   "execution_count": 3,
   "outputs": []
  },
  {
   "cell_type": "code",
   "source": [
    "Δ1  = 0\n",
    "LF1 = 26.5\n",
    "CF1 = 26.9\n",
    "EJ1 = 5.4\n",
    "ω_r1= 6.46\n",
    "LR1 = 140\n",
    "CR1 = 1/ (LR1* nH)  /(ω_r1*2*np.pi*GHz)**2/fF\n",
    "Lq1, Lr1 = sq_ext.LF_LR_eff_to_Lq_Lr(LF=LF1, LR=LR1, Δ=Δ1)\n",
    "C1, Csh1, CJ1 = sq_ext.CF_CR_eff_to_C_CJ_Csh(CF=CF1, CR=CR1)\n",
    "φ_ext1=0.5\n",
    "\n",
    "Δ2 = 0\n",
    "LF2 = 20.4\n",
    "CF2 = 22.4\n",
    "EJ2 = 9.5\n",
    "ω_r2 = 6.274\n",
    "LR2 = 100\n",
    "CR2 = 1/ (LR2* nH)  /(ω_r2*2*np.pi*GHz)**2/fF\n",
    "Lq2, Lr2 = sq_ext.LF_LR_eff_to_Lq_Lr(LF=LF2, LR=LR2, Δ=Δ2)\n",
    "C2, Csh2, CJ2 = sq_ext.CF_CR_eff_to_C_CJ_Csh(CF=CF2, CR=CR2)\n",
    "φ_ext2 = 0.5"
   ],
   "metadata": {
    "collapsed": false,
    "ExecuteTime": {
     "end_time": "2024-05-15T11:20:48.948134300Z",
     "start_time": "2024-05-15T11:20:48.933600300Z"
    }
   },
   "execution_count": 4,
   "outputs": []
  },
  {
   "metadata": {
    "ExecuteTime": {
     "end_time": "2024-05-15T11:24:17.788668800Z",
     "start_time": "2024-05-15T11:24:17.780141600Z"
    }
   },
   "cell_type": "code",
   "source": [
    "n_eig = 5\n",
    "nmax = 8\n",
    "CC = 10\n",
    "\n",
    "only_inner = True\n",
    "compensate_extra_cap = True"
   ],
   "execution_count": 12,
   "outputs": []
  },
  {
   "cell_type": "code",
   "source": [
    "C0_mat = np.array([[CF1, 0, 0, 0],\n",
    "                   [0, CR1, 0, 0],\n",
    "                   [0, 0, CF2, 0],\n",
    "                   [0, 0, 0, CR2]])\n",
    "\n",
    "CC_mat = np.array([[CC / 2 , 0      , -CC / 4  , -CC / 4],\n",
    "                   [0      , CC / 2 , -CC / 4  , -CC / 4 ],\n",
    "                   [-CC / 4, -CC / 4, CC / 2   , 0        ],\n",
    "                   [-CC / 4, -CC / 4, 0        , CC / 2  ]])\n",
    "C_mat = C0_mat + CC_mat\n",
    "C_inv = np.linalg.inv(C_mat)\n",
    "# C_mat = sq_ext.C_mat_qubit_C_qubit(CC, CR=CR1, CF=CF1, CR_prime=CR2, CF_prime=CF2, only_inner=only_inner, compensate_extra_cap=compensate_extra_cap)\n",
    "CF1_tilde = C_inv[0,0] ** -1\n",
    "CR1_tilde = C_inv[1,1] ** -1\n",
    "CF2_tilde = C_inv[2,2] ** -1\n",
    "CR2_tilde = C_inv[3,3] ** -1\n",
    "F1 = fluxonium(LF1, CF1_tilde, EJ1, nmax)\n",
    "R1 = resonator(LR1, CR1_tilde, nmax)\n",
    "F2 = fluxonium(LF2, CF2_tilde, EJ2, nmax)\n",
    "R2 = resonator(LR2, CR2_tilde, nmax)\n",
    "\n",
    "H_F1 = F1.hamiltonian()\n",
    "H_R1 = R1.hamiltonian()\n",
    "H_F2 = F2.hamiltonian()\n",
    "H_R2 = R2.hamiltonian()\n",
    "\n",
    "I_FR = qt.identity(H_F1.dims[0])\n",
    "E_F1= sq_ext.diag(H_F1, n_eig, remove_ground=True)[0]\n",
    "E_R1= sq_ext.diag(H_R1, n_eig, remove_ground=True)[0]\n",
    "E_F2= sq_ext.diag(H_F2, n_eig, remove_ground=True)[0]\n",
    "E_R2= sq_ext.diag(H_R2, n_eig, remove_ground=True)[0]\n",
    "\n",
    "H_uc_1 =  qt.tensor(H_F1,I_FR) + qt.tensor(I_FR,H_R1)\n",
    "H_uc_2 =  qt.tensor(H_F2,I_FR) + qt.tensor(I_FR,H_R2)\n",
    "\n",
    "I_uc = qt.identity(H_uc_1.dims[0]) \n",
    "H_uncoupled_unit_cells_comp = qt.tensor(H_uc_1,I_uc) + qt.tensor(I_uc,H_uc_2)\n",
    "\n",
    "Q_F1 = F1.charge_op(0)\n",
    "Q_R1 = R1.charge_op(0)\n",
    "Q_F2 = F2.charge_op(0)\n",
    "Q_R2 = R2.charge_op(0)\n",
    "Q_vec = [Q_F1, Q_R1, Q_F2, Q_R2]\n",
    "H_coupling = 0\n",
    "\n",
    "for i in range(4):\n",
    "    for j in range(4):\n",
    "        op_list = [I_FR, I_FR, I_FR, I_FR]\n",
    "        if i == j: # we ommit the diagonal terms since we have already included the reonarmalizations (LR and LF tilde) in H_0.\n",
    "            continue\n",
    "        else:\n",
    "            op_list[i] = Q_vec[i]\n",
    "            op_list[j] = Q_vec[j]\n",
    "            H_coupling += 1 * 1/2 * C_inv[i,j] * fF**-1 * qt.tensor(op_list)\n",
    "            \n",
    "H_coupled_unit_cells_comp = H_uncoupled_unit_cells_comp + H_coupling\n",
    "E_coupled_unit_cells_comp = sq_ext.diag(H_coupled_unit_cells_comp, n_eig, remove_ground=True)[0]\n",
    "E_coupled_unit_cells_comp"
   ],
   "metadata": {
    "collapsed": false,
    "ExecuteTime": {
     "end_time": "2024-05-15T11:33:04.539465300Z",
     "start_time": "2024-05-15T11:33:04.320731900Z"
    }
   },
   "execution_count": 38,
   "outputs": []
  },
  {
   "cell_type": "code",
   "source": [
    "H_coupled_unit_cells_full = coupled_unit_cells(LF1, CF1, EJ1, LR1, CR1, LF2, CF2, EJ2, LR2, CR2, CC, nmax).hamiltonian()\n",
    "E_coupled_unit_cells_full = sq_ext.diag(H_coupled_unit_cells_full, n_eig, remove_ground=True)[0]\n",
    "E_coupled_unit_cells_full"
   ],
   "metadata": {
    "collapsed": false,
    "ExecuteTime": {
     "end_time": "2024-05-15T11:16:59.855984300Z",
     "start_time": "2024-05-15T11:16:52.141872900Z"
    }
   },
   "execution_count": 281,
   "outputs": []
  },
  {
   "cell_type": "code",
   "source": [
    "H_qubit_C_qubit_full = (sq_ext.sq_qubit_C_qubit(CC, C1, CJ1, Csh1, Lq1, Lr1, Δ1, EJ1, C2, CJ2, Csh2, Lq2, Lr2, Δ2, EJ2, \n",
    "                                               nmax_r=nmax, nmax_f=nmax, only_inner = only_inner, compensate_extra_cap = compensate_extra_cap)\n",
    "                        .hamiltonian())\n",
    "E_qubit_C_qubit_full = sq_ext.diag(H_qubit_C_qubit_full, n_eig, remove_ground=True)[0] \n",
    "E_qubit_C_qubit_full"
   ],
   "metadata": {
    "collapsed": false,
    "ExecuteTime": {
     "end_time": "2024-05-15T11:17:16.898270500Z",
     "start_time": "2024-05-15T11:17:09.257283700Z"
    }
   },
   "execution_count": 282,
   "outputs": []
  },
  {
   "cell_type": "code",
   "source": [
    "H_qubit_C_qubit_comp = sq_ext.hamiltonian_qubit_C_qubit(CC, CR1, CF1, LF1, LR1, EJ1, Δ1, φ_ext1, \n",
    "                                                        CR2, CF2, LF2, LR2, EJ2, Δ2, φ_ext2,\n",
    "                                                        nmax_r=nmax, nmax_f=nmax, only_inner = only_inner, compensate_extra_cap = compensate_extra_cap)\n",
    "E_qubit_C_qubit_comp = sq_ext.diag(H_qubit_C_qubit_comp, n_eig, remove_ground=True)[0] \n",
    "E_qubit_C_qubit_comp"
   ],
   "metadata": {
    "collapsed": false,
    "ExecuteTime": {
     "end_time": "2024-05-15T11:17:17.068168200Z",
     "start_time": "2024-05-15T11:17:16.899496900Z"
    }
   },
   "execution_count": 283,
   "outputs": []
  },
  {
   "metadata": {
    "ExecuteTime": {
     "end_time": "2024-05-15T11:17:17.089977Z",
     "start_time": "2024-05-15T11:17:17.069179900Z"
    }
   },
   "cell_type": "code",
   "source": [
    "E_qubit_C_qubit_full, E_coupled_unit_cells_full, E_qubit_C_qubit_comp, E_coupled_unit_cells_comp"
   ],
   "execution_count": 284,
   "outputs": []
  },
  {
   "cell_type": "code",
   "source": [],
   "metadata": {
    "collapsed": false
   },
   "execution_count": null,
   "outputs": []
  }
 ],
 "metadata": {
  "kernelspec": {
   "display_name": "Python 3 (ipykernel)",
   "language": "python",
   "name": "python3"
  },
  "language_info": {
   "codemirror_mode": {
    "name": "ipython",
    "version": 3
   },
   "file_extension": ".py",
   "mimetype": "text/x-python",
   "name": "python",
   "nbconvert_exporter": "python",
   "pygments_lexer": "ipython3",
   "version": "3.8.17"
  }
 },
 "nbformat": 4,
 "nbformat_minor": 1
}
