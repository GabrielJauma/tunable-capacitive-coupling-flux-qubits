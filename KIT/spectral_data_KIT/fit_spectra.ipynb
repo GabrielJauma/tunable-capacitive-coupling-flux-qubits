{
 "cells": [
  {
   "cell_type": "code",
   "id": "ddbd3b1c2a9b6dd0",
   "metadata": {
    "ExecuteTime": {
     "end_time": "2024-06-17T10:57:41.704964Z",
     "start_time": "2024-06-17T10:57:41.698014Z"
    }
   },
   "source": [
    "import numpy as np\n",
    "import matplotlib.pyplot as plt\n",
    "import Modules.SQcircuit_extensions as sq_ext\n",
    "import Modules.Fits as fits\n",
    "from scipy.optimize import minimize\n",
    "import os\n",
    "import importlib\n",
    "import pickle\n",
    "\n",
    "importlib.reload(sq_ext)\n",
    "importlib.reload(fits)\n",
    "\n",
    "data_dir = r'/data'\n",
    "opt_dir = r'/opt_results/'"
   ],
   "execution_count": 21,
   "outputs": []
  },
  {
   "cell_type": "code",
   "id": "9be8225a36d23f9c",
   "metadata": {
    "ExecuteTime": {
     "end_time": "2024-06-17T10:57:42.183988Z",
     "start_time": "2024-06-17T10:57:42.182216Z"
    }
   },
   "source": [
    "GHz     =   1e9\n",
    "fF      =   1e-15\n",
    "nH      =   1e-9\n",
    "nmax_r  =   5\n",
    "nmax_f  =   10"
   ],
   "execution_count": 22,
   "outputs": []
  },
  {
   "cell_type": "markdown",
   "id": "ad08daafdb0f112e",
   "metadata": {},
   "source": [
    "# Single circuit"
   ]
  },
  {
   "cell_type": "markdown",
   "id": "7e8675a28ac2d94d",
   "metadata": {},
   "source": [
    "## Qubit 1 [ Cooldown 1 ]"
   ]
  },
  {
   "cell_type": "code",
   "id": "bb4a283757dd3e0e",
   "metadata": {
    "ExecuteTime": {
     "end_time": "2024-06-17T10:57:43.195162Z",
     "start_time": "2024-06-17T10:57:43.193244Z"
    }
   },
   "source": [
    "experiment_name = 'qubit_1_single_1'\n",
    "load = True\n",
    "method = 'SLSQP'\n",
    "# method = 'Nelder-Mead'\n",
    "# method = 'L-BF GS-B'\n",
    "# method = 'TNC'\n",
    "# method = 'Powell'\n",
    "# method = 'COBYLA'"
   ],
   "execution_count": 23,
   "outputs": []
  },
  {
   "cell_type": "markdown",
   "id": "20f4f55562175952",
   "metadata": {},
   "source": [
    "\n",
    "### Load spectral data and theoretical model"
   ]
  },
  {
   "cell_type": "code",
   "id": "9b753bfc03563570",
   "metadata": {
    "ExecuteTime": {
     "end_time": "2024-06-17T10:57:43.849995Z",
     "start_time": "2024-06-17T10:57:43.847867Z"
    }
   },
   "source": [
    "φ_ext_exp, ω_exp, I_exp, I0, Iss = fits.get_experimental_spectrum(experiment_name)"
   ],
   "execution_count": 24,
   "outputs": []
  },
  {
   "cell_type": "code",
   "id": "28463ba479a8a17e",
   "metadata": {
    "ExecuteTime": {
     "end_time": "2024-06-17T10:57:44.260240Z",
     "start_time": "2024-06-17T10:57:44.258136Z"
    }
   },
   "source": [
    "theoretical_spectrum = fits.get_theoretical_spectrum(experiment_name)"
   ],
   "execution_count": 25,
   "outputs": []
  },
  {
   "cell_type": "markdown",
   "id": "cf58ce68b12ca322",
   "metadata": {},
   "source": [
    "### Guess parameters and set bounds"
   ]
  },
  {
   "cell_type": "code",
   "id": "fec6a035f627ba4e",
   "metadata": {
    "ExecuteTime": {
     "end_time": "2024-06-17T10:57:45.809435Z",
     "start_time": "2024-06-17T10:57:45.807218Z"
    }
   },
   "source": [
    "CR_1, CF_1, LF_1, LR_1, EJ_1, Δ_1, ω_r_1 = sq_ext.get_experimental_parameters(experiment_name)\n",
    "I0_guess = I0\n",
    "I_origin_guess = Iss - I0/2\n",
    "parameters_guess = [CF_1, LF_1, EJ_1, I0_guess, I_origin_guess]\n",
    "\n",
    "parameter_names = ['CF_1', 'LF_1', 'EJ_1', 'I0', 'I_origin']\n",
    "bounds = fits.create_bounds(parameters_guess)\n",
    "data_set = ([I_exp, ω_exp])"
   ],
   "execution_count": 26,
   "outputs": []
  },
  {
   "metadata": {
    "ExecuteTime": {
     "end_time": "2024-06-17T10:57:46.240643Z",
     "start_time": "2024-06-17T10:57:46.238520Z"
    }
   },
   "cell_type": "code",
   "source": [
    "I0_guess"
   ],
   "id": "1594c6157d39f533",
   "execution_count": 27,
   "outputs": []
  },
  {
   "metadata": {
    "ExecuteTime": {
     "end_time": "2024-06-17T10:57:46.747228Z",
     "start_time": "2024-06-17T10:57:46.744720Z"
    }
   },
   "cell_type": "code",
   "source": [
    "I_origin_guess"
   ],
   "id": "76eac31178ab7bdc",
   "execution_count": 28,
   "outputs": []
  },
  {
   "metadata": {
    "ExecuteTime": {
     "end_time": "2024-06-17T10:57:47.097821Z",
     "start_time": "2024-06-17T10:57:47.095429Z"
    }
   },
   "cell_type": "code",
   "source": [
    "I_exp"
   ],
   "id": "9e1b4542eb98360",
   "execution_count": 29,
   "outputs": []
  },
  {
   "cell_type": "markdown",
   "id": "99697d23612d6fa4",
   "metadata": {},
   "source": [
    "### Plot guess to check"
   ]
  },
  {
   "cell_type": "code",
   "id": "8755d3d1c81c8747",
   "metadata": {
    "ExecuteTime": {
     "end_time": "2024-06-17T10:57:48.654228Z",
     "start_time": "2024-06-17T10:57:48.471035Z"
    }
   },
   "source": [
    "φ_ext_guess, ω_guess = theoretical_spectrum(parameters_guess, data_set, out='spectrum')\n",
    "fig, ax1 = plt.subplots(dpi=150)\n",
    "ax1.plot(φ_ext_exp, ω_exp, 'x')\n",
    "ax1.plot(φ_ext_guess, ω_guess, 'r.')\n",
    "ax1.set_ylabel('Frequency (Hz)')\n",
    "ax1.set_xlabel(r'$\\phi_{ext}$ ($\\phi_0$)')\n"
   ],
   "execution_count": 30,
   "outputs": []
  },
  {
   "cell_type": "markdown",
   "id": "d03eb117152d4565",
   "metadata": {},
   "source": [
    "### Optimize or load previous optimization"
   ]
  },
  {
   "cell_type": "code",
   "execution_count": 37,
   "id": "3d519ad3a1155fe6",
   "metadata": {
    "ExecuteTime": {
     "end_time": "2024-05-30T15:48:46.056926400Z",
     "start_time": "2024-05-30T15:48:24.353680500Z"
    }
   },
   "source": [
    "data_set_path = os.path.join(os.getcwd() + opt_dir, experiment_name + '_data_set.pkl')\n",
    "parameters_path = os.getcwd() + opt_dir + experiment_name + '.npz'\n",
    "if load:\n",
    "    with open(data_set_path, 'rb') as f:\n",
    "        data_set = pickle.load(f)\n",
    "    parameters_opt, parameters_guess, bounds = fits.load_optimization_results(experiment_name)\n",
    "else:\n",
    "    with open(data_set_path, 'wb') as f:\n",
    "        pickle.dump(data_set, f)\n",
    "    parameters_opt = minimize(theoretical_spectrum, parameters_guess, data_set, bounds=bounds, method=method).x\n",
    "    np.savez(parameters_path, parameters_opt=parameters_opt,\n",
    "             parameters_guess = np.array(parameters_guess), bounds=np.array(bounds))"
   ],
   "outputs": []
  },
  {
   "cell_type": "code",
   "execution_count": 38,
   "id": "8cf64573ad2aba32",
   "metadata": {
    "ExecuteTime": {
     "end_time": "2024-05-30T15:48:49.562101700Z",
     "start_time": "2024-05-30T15:48:49.446217Z"
    }
   },
   "source": [
    "print('Guessed parameters \\n')\n",
    "[print(name + f' = {value:.4e}') for name, value in zip(parameter_names, parameters_guess)];\n",
    "print('\\n')\n",
    "print('Optimized parameters \\n')\n",
    "[print(name + f' = {value:.4e}') for name, value in zip(parameter_names, parameters_opt)];"
   ],
   "outputs": []
  },
  {
   "cell_type": "markdown",
   "id": "7ff656b3522f972a",
   "metadata": {},
   "source": [
    "### Plot fits and errors"
   ]
  },
  {
   "cell_type": "code",
   "execution_count": 39,
   "id": "d066bf3e014eaf94",
   "metadata": {
    "ExecuteTime": {
     "end_time": "2024-05-30T15:48:55.746120700Z",
     "start_time": "2024-05-30T15:48:55.361051200Z"
    }
   },
   "source": [
    "φ_ext_opt, ω_opt   = theoretical_spectrum(parameters_opt  , data_set,  out = 'spectrum')\n",
    "\n",
    "fig, (ax1, ax2 )= plt.subplots(ncols=2, dpi=200, figsize=[8,4])\n",
    "ax1.plot(φ_ext_exp  , ω_exp     , 'x')\n",
    "ax1.plot(φ_ext_guess, ω_guess   , 'r.', markersize=4, label='Guess')\n",
    "ax1.plot(φ_ext_opt  , ω_opt     , 'g.', markersize=4, label='Optimized')\n",
    "ax1.set_ylabel('Frequency (Hz)')\n",
    "ax1.set_xlabel('$\\phi_{ext}$ ($\\phi_0$)')\n",
    "ax1.set_title('Spectrum')\n",
    "ax1.legend()\n",
    "ax2.set_title('Error')\n",
    "\n",
    "ax2.plot(φ_ext_guess, np.abs(ω_guess-ω_exp), 'r.' , label = f'Mean error = {np.abs(ω_guess-ω_exp).mean()/1e6:.2f} MHz' )\n",
    "ax2.plot(φ_ext_opt, np.abs(ω_opt-ω_exp), 'g.'   , label = f'Mean error = {np.abs(ω_opt-ω_exp).mean()/1e6:.2f} MHz'  )\n",
    "ax2.legend()"
   ],
   "outputs": []
  },
  {
   "cell_type": "markdown",
   "id": "97fc4a06035a8dcb",
   "metadata": {},
   "source": [
    "## Resonator 1 [ Cooldown 1 ]"
   ]
  },
  {
   "cell_type": "code",
   "execution_count": 41,
   "id": "107565385313da38",
   "metadata": {
    "ExecuteTime": {
     "end_time": "2024-05-30T15:49:45.885998200Z",
     "start_time": "2024-05-30T15:49:45.650078700Z"
    }
   },
   "source": [
    "experiment_name = 'resonator_1_single_1'"
   ],
   "outputs": []
  },
  {
   "cell_type": "markdown",
   "id": "d0ce8df206958dc2",
   "metadata": {},
   "source": [
    "\n",
    "### Load spectral data and theoretical model"
   ]
  },
  {
   "cell_type": "code",
   "execution_count": 18,
   "id": "f5e8e925f7045b09",
   "metadata": {
    "ExecuteTime": {
     "end_time": "2024-05-30T15:46:23.423241100Z",
     "start_time": "2024-05-30T15:46:23.313202900Z"
    }
   },
   "source": [
    "φ_ext_exp, ω_exp, I_exp, I0, Iss = fits.get_experimental_spectrum(experiment_name)\n",
    "theoretical_spectrum = fits.get_theoretical_spectrum(experiment_name)"
   ],
   "outputs": []
  },
  {
   "cell_type": "markdown",
   "id": "5ebb6452810efff9",
   "metadata": {},
   "source": [
    "### Guess parameters and set bounds"
   ]
  },
  {
   "cell_type": "code",
   "execution_count": 19,
   "id": "6b12855527ff9557",
   "metadata": {
    "ExecuteTime": {
     "end_time": "2024-05-30T15:46:24.274407200Z",
     "start_time": "2024-05-30T15:46:24.199886300Z"
    }
   },
   "source": [
    "CR_1, CF_1, LF_1, LR_1, EJ_1, Δ_1, ω_r_1 = sq_ext.get_experimental_parameters(experiment_name)\n",
    "\n",
    "crossing_index_1 = 11\n",
    "crossing_index_2 = 10\n",
    "nmax_r=5\n",
    "nmax_f=15\n",
    "\n",
    "data_set = ([I_exp, ω_exp, crossing_index_1, crossing_index_2, CF_1, LF_1, EJ_1, nmax_r, nmax_f ])\n",
    "parameters_guess = [CR_1, LR_1, Δ_1, I0_guess, I_origin_guess]\n",
    "\n",
    "parameter_names = ['CR_1', 'LR_1', 'Delta', 'I0', 'I_origin']\n",
    "bounds = fits.create_bounds(parameters_guess)"
   ],
   "outputs": []
  },
  {
   "cell_type": "markdown",
   "id": "157269dca22f7bb1",
   "metadata": {},
   "source": [
    "### Plot guess to check"
   ]
  },
  {
   "cell_type": "code",
   "execution_count": 20,
   "id": "8bddc2390506d1f0",
   "metadata": {
    "ExecuteTime": {
     "end_time": "2024-05-30T15:46:25.728591200Z",
     "start_time": "2024-05-30T15:46:25.325445100Z"
    }
   },
   "source": [
    "φ_ext_guess, ω_guess = theoretical_spectrum(parameters_guess, data_set, out='spectrum')\n",
    "\n",
    "fig, ax = plt.subplots(dpi=150)\n",
    "ax.plot(φ_ext_guess, ω_exp, marker='x', ls='', label='Resonator 1')\n",
    "ax.plot(φ_ext_guess, ω_guess, '.r')\n",
    "\n",
    "ax.set_ylabel('Frequency (Hz)')\n",
    "ax.set_xlabel('$\\phi_{ext}$ ($\\phi_0$)')\n",
    "ax.legend()\n",
    "fig.tight_layout()"
   ],
   "outputs": []
  },
  {
   "cell_type": "markdown",
   "id": "19464d0d44ee61a9",
   "metadata": {},
   "source": [
    "### Optimize or load previous optimization"
   ]
  },
  {
   "cell_type": "code",
   "execution_count": 21,
   "id": "e67ae6fec3742a82",
   "metadata": {
    "ExecuteTime": {
     "end_time": "2024-05-30T15:46:29.463899200Z",
     "start_time": "2024-05-30T15:46:29.383982900Z"
    }
   },
   "source": [
    "data_set_path = os.path.join(os.getcwd() + opt_dir, experiment_name + '_data_set.pkl')\n",
    "parameters_path = os.getcwd() + opt_dir + experiment_name + '.npz'\n",
    "if load:\n",
    "    with open(data_set_path, 'rb') as f:\n",
    "        data_set = pickle.load(f)\n",
    "    parameters_opt, parameters_guess, bounds = fits.load_optimization_results(experiment_name)\n",
    "else:\n",
    "    with open(data_set_path, 'wb') as f:\n",
    "        pickle.dump(data_set, f)\n",
    "    parameters_opt = minimize(theoretical_spectrum, parameters_guess, data_set, bounds=bounds, method=method).x\n",
    "    np.savez(parameters_path, parameters_opt=parameters_opt,\n",
    "             parameters_guess = np.array(parameters_guess), bounds=np.array(bounds))"
   ],
   "outputs": []
  },
  {
   "cell_type": "code",
   "execution_count": 22,
   "id": "14264bb998d87acf",
   "metadata": {
    "ExecuteTime": {
     "end_time": "2024-05-30T15:46:30.559785600Z",
     "start_time": "2024-05-30T15:46:30.461324700Z"
    }
   },
   "source": [
    "print('Guessed parameters \\n')\n",
    "[print(name + f' = {value:.4e}') for name, value in zip(parameter_names, parameters_guess)];\n",
    "print('\\n')\n",
    "print('Optimized parameters \\n')\n",
    "[print(name + f' = {value:.4e}') for name, value in zip(parameter_names, parameters_opt)];"
   ],
   "outputs": []
  },
  {
   "cell_type": "markdown",
   "id": "4fccbef09ce51b36",
   "metadata": {},
   "source": [
    "### Plot fits and errors"
   ]
  },
  {
   "cell_type": "code",
   "execution_count": 23,
   "id": "cd444f1d33e0b39",
   "metadata": {
    "ExecuteTime": {
     "end_time": "2024-05-30T15:46:32.706643200Z",
     "start_time": "2024-05-30T15:46:32.280211900Z"
    }
   },
   "source": [
    "φ_ext_opt, ω_opt = theoretical_spectrum(parameters_opt, data_set, out='spectrum')\n",
    "\n",
    "fig, (ax1, ax2 )= plt.subplots(ncols=2, dpi=200, figsize=[8,4])\n",
    "ax1.plot(φ_ext_opt  , ω_exp, marker='x', ls='', label='Resonator 1')\n",
    "ax1.plot(φ_ext_guess, ω_guess, '.r', markersize=3)\n",
    "ax1.plot(φ_ext_opt  , ω_opt, 'g.', markersize=3)\n",
    "ax1.set_ylabel('Frequency (Hz)')\n",
    "ax1.set_xlabel('$\\phi_{ext}$ ($\\phi_0$)')\n",
    "\n",
    "ax2.plot(φ_ext_exp, np.abs(ω_guess - ω_exp), 'r.', label = f'Mean error = {np.abs(ω_guess-ω_exp).mean()/1e6:.2f} MHz' )\n",
    "ax2.plot(φ_ext_exp, np.abs(ω_opt   - ω_exp), 'g.', label = f'Mean error = {np.abs(ω_opt-ω_exp).mean()/1e6:.2f} MHz'  )\n",
    "ax2.legend()"
   ],
   "outputs": []
  },
  {
   "cell_type": "markdown",
   "id": "408a976074f3a6a2",
   "metadata": {},
   "source": [
    " ## Qubit 1 and Resonator 1 [Cooldown 1]"
   ]
  },
  {
   "cell_type": "code",
   "execution_count": 43,
   "id": "fe97d5e63a722a97",
   "metadata": {
    "ExecuteTime": {
     "end_time": "2024-05-30T15:50:12.277652500Z",
     "start_time": "2024-05-30T15:50:12.212895100Z"
    }
   },
   "source": [
    "experiment_name = 'resonator_and_qubit_1_single_1'"
   ],
   "outputs": []
  },
  {
   "cell_type": "markdown",
   "id": "c833419e567358a1",
   "metadata": {},
   "source": [
    "\n",
    "### Load spectral data and theoretical model"
   ]
  },
  {
   "cell_type": "code",
   "execution_count": 44,
   "id": "7f5f769d9b5d7e6a",
   "metadata": {
    "ExecuteTime": {
     "end_time": "2024-05-30T15:50:12.796525100Z",
     "start_time": "2024-05-30T15:50:12.692008400Z"
    }
   },
   "source": [
    "φ_ext_exp_F, ω_exp_F, I_exp_F, I0_F, Iss_F, φ_ext_exp_R, ω_exp_R, I_exp_R, I0_R, Iss_R = (\n",
    "    fits.get_experimental_spectrum(experiment_name))"
   ],
   "outputs": []
  },
  {
   "cell_type": "code",
   "execution_count": 45,
   "id": "8793c82073dfe085",
   "metadata": {
    "ExecuteTime": {
     "end_time": "2024-05-30T15:50:13.304365300Z",
     "start_time": "2024-05-30T15:50:13.220718500Z"
    }
   },
   "source": [
    "theoretical_spectrum = fits.get_theoretical_spectrum(experiment_name)"
   ],
   "outputs": []
  },
  {
   "cell_type": "markdown",
   "id": "b79ddc98ce9fa4b0",
   "metadata": {},
   "source": [
    "### Guess parameters and set bounds"
   ]
  },
  {
   "cell_type": "code",
   "execution_count": 46,
   "id": "51669933872f9685",
   "metadata": {
    "ExecuteTime": {
     "end_time": "2024-05-30T15:50:14.202352200Z",
     "start_time": "2024-05-30T15:50:14.137754100Z"
    }
   },
   "source": [
    "CF_1, LF_1, EJ_1, I0_F_1, I_origin_F_1= np.load(os.getcwd() + opt_dir +  'qubit_1_single_1' + '.npz')['parameters_opt']\n",
    "CR_1, LR_1, Δ_1, I0_R_1, I_origin_R_1 = np.load(os.getcwd() + opt_dir +  'resonator_1_single_1' + '.npz')['parameters_opt']\n",
    "\n",
    "crossing_index_1_F = 15\n",
    "crossing_index_1_R = 11\n",
    "crossing_index_2_R = 10\n",
    "nmax_r = 5\n",
    "nmax_f = 15\n",
    "\n",
    "data_set = ([I_exp_F, ω_exp_F, I_exp_R, ω_exp_R, crossing_index_1_F, crossing_index_1_R, crossing_index_2_R, nmax_r, nmax_f])\n",
    "parameters_guess = [CF_1, LF_1, EJ_1, I0_F_1, I_origin_F_1, CR_1, LR_1, Δ_1, I0_R_1, I_origin_R_1]\n",
    "\n",
    "parameter_names = ['CF_1', 'LF_1', 'EJ_1', 'I0_F_1', 'I_origin_F_1',\n",
    "                   'CR_1', 'LR_1', 'Δ_1', 'I0_R_1', 'I_origin_R_1']\n",
    "\n",
    "bounds = fits.create_bounds(parameters_guess)"
   ],
   "outputs": []
  },
  {
   "cell_type": "markdown",
   "id": "94aeb15d6f1a890d",
   "metadata": {},
   "source": [
    "### Plot guess to check"
   ]
  },
  {
   "cell_type": "code",
   "execution_count": 47,
   "id": "5e6d0a09e2d86754",
   "metadata": {
    "ExecuteTime": {
     "end_time": "2024-05-30T15:50:16.526370600Z",
     "start_time": "2024-05-30T15:50:15.462132100Z"
    }
   },
   "source": [
    "φ_ext_F_guess, ωF_vs_φ_ext_guess, φ_ext_R_guess, ωR_vs_φ_ext_guess = theoretical_spectrum(parameters_guess, data_set, out='spectrum')\n",
    "\n",
    "fig, (ax1, ax2) = plt.subplots(ncols=2, figsize=[8,4], dpi=200)\n",
    "for ax in (ax1, ax2):\n",
    "    ax.plot(φ_ext_exp_F, ω_exp_F, 'x')\n",
    "    ax.plot(φ_ext_exp_R, ω_exp_R, 'x')\n",
    "    ax.plot(φ_ext_F_guess, ωF_vs_φ_ext_guess, '.r')\n",
    "    ax.plot(φ_ext_R_guess, ωR_vs_φ_ext_guess, '.r')\n",
    "    \n",
    "ax2.set_ylim([6.5e9,6.7e9])\n",
    "fig.tight_layout()"
   ],
   "outputs": []
  },
  {
   "cell_type": "markdown",
   "id": "dd0f96b657cd844b",
   "metadata": {},
   "source": [
    "### Optimize or load previous optimization"
   ]
  },
  {
   "cell_type": "code",
   "execution_count": 48,
   "id": "c7206afa97390d96",
   "metadata": {
    "ExecuteTime": {
     "end_time": "2024-05-30T15:50:22.477897200Z",
     "start_time": "2024-05-30T15:50:22.352763400Z"
    }
   },
   "source": [
    "data_set_path = os.path.join(os.getcwd() + opt_dir, experiment_name + '_data_set.pkl')\n",
    "parameters_path = os.getcwd() + opt_dir + experiment_name + '.npz'\n",
    "if load:\n",
    "    with open(data_set_path, 'rb') as f:\n",
    "        data_set = pickle.load(f)\n",
    "    parameters_opt, parameters_guess, bounds = fits.load_optimization_results(experiment_name)\n",
    "else:\n",
    "    with open(data_set_path, 'wb') as f:\n",
    "        pickle.dump(data_set, f)\n",
    "    parameters_opt = minimize(theoretical_spectrum, parameters_guess, data_set, bounds=bounds, method=method).x\n",
    "    np.savez(parameters_path, parameters_opt=parameters_opt,\n",
    "             parameters_guess = np.array(parameters_guess), bounds=np.array(bounds))"
   ],
   "outputs": []
  },
  {
   "cell_type": "code",
   "execution_count": 49,
   "id": "954a580d7612858e",
   "metadata": {
    "ExecuteTime": {
     "end_time": "2024-05-30T15:50:23.374385400Z",
     "start_time": "2024-05-30T15:50:23.243652600Z"
    }
   },
   "source": [
    "print('Guessed parameters \\n')\n",
    "[print(name + f' = {value:.3f}') for name, value in zip(parameter_names, parameters_guess)];\n",
    "print('\\n')\n",
    "print('Optimized parameters \\n')\n",
    "[print(name + f' = {value:.3f}') for name, value in zip(parameter_names, parameters_opt)];"
   ],
   "outputs": []
  },
  {
   "cell_type": "markdown",
   "id": "4c14be41eaa6795d",
   "metadata": {},
   "source": [
    "### Plot fits and errors"
   ]
  },
  {
   "cell_type": "code",
   "execution_count": 31,
   "id": "d3138986a9c7fa44",
   "metadata": {
    "ExecuteTime": {
     "end_time": "2024-05-30T15:47:32.658827600Z",
     "start_time": "2024-05-30T15:47:31.838175400Z"
    }
   },
   "source": [
    "φ_ext_F_opt, ωF_vs_φ_ext_opt, φ_ext_R_opt, ωR_vs_φ_ext_opt = theoretical_spectrum(parameters_opt, data_set, out='spectrum')\n",
    "\n",
    "fig, (ax1, ax2, ax3) = plt.subplots(ncols=3, figsize=[4*3,4], dpi=200)\n",
    "for ax in (ax1, ax2):\n",
    "    ax.plot(φ_ext_exp_F     , ω_exp_F   , 'x')\n",
    "    ax.plot(φ_ext_exp_R     , ω_exp_R   , 'x')\n",
    "    ax.plot(φ_ext_F_guess   , ωF_vs_φ_ext_guess , '.r')\n",
    "    ax.plot(φ_ext_R_guess   , ωR_vs_φ_ext_guess , '.r')\n",
    "    ax.plot(φ_ext_F_opt     , ωF_vs_φ_ext_opt   , '.g')\n",
    "    ax.plot(φ_ext_R_opt     , ωR_vs_φ_ext_opt   , '.g')\n",
    "    ax.set_xlabel('$\\phi_{ext}$ ($\\phi_0$)')\n",
    "\n",
    "ax3.plot(φ_ext_exp_F, np.abs(ωF_vs_φ_ext_guess - ω_exp_F), 'r.' , label = f'Mean error = {np.abs(ωF_vs_φ_ext_guess-ω_exp_F).mean()/1e6:.2f} MHz' )\n",
    "ax3.plot(φ_ext_exp_R, np.abs(ωR_vs_φ_ext_guess - ω_exp_R), 'r.' , label = f'Mean error = {np.abs(ωR_vs_φ_ext_guess-ω_exp_R).mean()/1e6:.2f} MHz'  )\n",
    "ax3.plot(φ_ext_exp_F, np.abs(ωF_vs_φ_ext_opt   - ω_exp_F), 'g.' , label = f'Mean error = {np.abs(ωF_vs_φ_ext_opt   - ω_exp_F).mean()/1e6:.2f} MHz' )\n",
    "ax3.plot(φ_ext_exp_R, np.abs(ωR_vs_φ_ext_opt   - ω_exp_R), 'g.' , label = f'Mean error = {np.abs(ωR_vs_φ_ext_opt   - ω_exp_R).mean()/1e6:.2f} MHz'  )\n",
    "ax3. legend()\n",
    "ax1.set_title('Frequency (Hz)')\n",
    "ax2.set_title('Frequency (Hz)')\n",
    "ax3.set_title('Error (Hz)')\n",
    "ax2.set_ylim([6.55e9,6.65e9])\n"
   ],
   "outputs": []
  },
  {
   "cell_type": "markdown",
   "id": "b9b9cba6d98d92e9",
   "metadata": {},
   "source": [
    "## Qubit 1 and Resonator 1 [Cooldown 2]"
   ]
  },
  {
   "cell_type": "code",
   "execution_count": 295,
   "id": "2a7843c62fb6d3f3",
   "metadata": {
    "ExecuteTime": {
     "end_time": "2024-05-29T15:30:00.852341Z",
     "start_time": "2024-05-29T15:30:00.849892Z"
    }
   },
   "source": [
    "experiment_name = 'resonator_and_qubit_1_single_2'"
   ],
   "outputs": []
  },
  {
   "cell_type": "markdown",
   "id": "afd9526a816a587d",
   "metadata": {},
   "source": [
    "\n",
    "### Load spectral data and theoretical model"
   ]
  },
  {
   "cell_type": "code",
   "execution_count": 296,
   "id": "d2a42da09e0ce735",
   "metadata": {
    "ExecuteTime": {
     "end_time": "2024-05-29T15:30:01.295194Z",
     "start_time": "2024-05-29T15:30:01.292944Z"
    }
   },
   "source": [
    "φ_ext_exp_F, ω_exp_F, I_exp_F, I0_F, Iss_F, φ_ext_exp_R, ω_exp_R, I_exp_R, I0_R, Iss_R = (\n",
    "    fits.get_experimental_spectrum(experiment_name))"
   ],
   "outputs": []
  },
  {
   "cell_type": "code",
   "execution_count": 297,
   "id": "4e0971847892e2e",
   "metadata": {
    "ExecuteTime": {
     "end_time": "2024-05-29T15:30:01.518384Z",
     "start_time": "2024-05-29T15:30:01.516038Z"
    }
   },
   "source": [
    "theoretical_spectrum = fits.get_theoretical_spectrum(experiment_name)"
   ],
   "outputs": []
  },
  {
   "cell_type": "markdown",
   "id": "dca5e7be1d93fc92",
   "metadata": {},
   "source": [
    "### Guess parameters and set bounds"
   ]
  },
  {
   "cell_type": "code",
   "execution_count": 298,
   "id": "e19cd093c58297bc",
   "metadata": {
    "ExecuteTime": {
     "end_time": "2024-05-29T15:30:01.961120Z",
     "start_time": "2024-05-29T15:30:01.956905Z"
    }
   },
   "source": [
    "CF_1, LF_1, EJ_1, _, _, CR_1, LR_1, Δ_1, _, _ = np.load(os.getcwd() + opt_dir +  'resonator_and_qubit_1_single_1' + '.npz')['parameters_opt']\n",
    "\n",
    "I0_F_1 = I0_F\n",
    "I_origin_F_1 = Iss_F - I0_F/2\n",
    "\n",
    "I0_R_1 = I0_R\n",
    "I_origin_R_1 = Iss_R - I0_R/2\n",
    "\n",
    "crossing_index_1_F = 30\n",
    "crossing_index_1_R = 10\n",
    "crossing_index_2_R = 10\n",
    "nmax_r = 5\n",
    "nmax_f = 15\n",
    "\n",
    "data_set = ([I_exp_F, ω_exp_F, I_exp_R, ω_exp_R, crossing_index_1_F, crossing_index_1_R, crossing_index_2_R, nmax_r, nmax_f])\n",
    "parameters_guess = [CF_1, LF_1, EJ_1, I0_F_1, I_origin_F_1, CR_1, LR_1, Δ_1, I0_R_1, I_origin_R_1]\n",
    "\n",
    "parameter_names = ['CF_1', 'LF_1', 'EJ_1', 'I0_F_1', 'I_origin_F_1',\n",
    "                   'CR_1', 'LR_1', 'Δ_1', 'I0_R_1', 'I_origin_R_1']\n",
    "\n",
    "bounds = fits.create_bounds(parameters_guess)"
   ],
   "outputs": []
  },
  {
   "cell_type": "markdown",
   "id": "2a4ddf6527635e04",
   "metadata": {},
   "source": [
    "### Plot guess to check"
   ]
  },
  {
   "cell_type": "markdown",
   "id": "c2066a990f7d785b",
   "metadata": {},
   "source": []
  },
  {
   "cell_type": "code",
   "execution_count": 299,
   "id": "bead9334139abe77",
   "metadata": {
    "ExecuteTime": {
     "end_time": "2024-05-29T15:30:03.243012Z",
     "start_time": "2024-05-29T15:30:02.828635Z"
    }
   },
   "source": [
    "φ_ext_F_guess, ωF_vs_φ_ext_guess, φ_ext_R_guess, ωR_vs_φ_ext_guess = theoretical_spectrum(parameters_guess, data_set, out='spectrum')\n",
    "\n",
    "fig, (ax1, ax2, ax3) = plt.subplots(ncols=3, figsize=[12,4], dpi=200)\n",
    "for ax in (ax1, ax2, ax3):\n",
    "    ax.plot(φ_ext_exp_F, ω_exp_F, 'x')\n",
    "    ax.plot(φ_ext_F_guess, ωF_vs_φ_ext_guess, '.r')\n",
    "    ax.plot(φ_ext_exp_R, ω_exp_R, 'x')\n",
    "    ax.plot(φ_ext_R_guess, ωR_vs_φ_ext_guess, '.r')\n",
    "    \n",
    "ax2.set_ylim([6.5e9,6.7e9])\n",
    "ax3.set_ylim([3.8e9, 6.4e9])\n",
    "ax3.set_xlim([0.3,0.7])\n",
    "#ax.set_ylabel(r'$')\n",
    "#ax.set_xlabel(r'$')\n",
    "#ax.set_title(r'$')\n",
    "fig.tight_layout()"
   ],
   "outputs": []
  },
  {
   "cell_type": "markdown",
   "id": "5c00c440ac600bcd",
   "metadata": {},
   "source": [
    "### Optimize or load previous optimization"
   ]
  },
  {
   "cell_type": "code",
   "execution_count": 300,
   "id": "fd3e1ef3badd2c2a",
   "metadata": {
    "ExecuteTime": {
     "end_time": "2024-05-29T15:31:29.136050Z",
     "start_time": "2024-05-29T15:30:03.537775Z"
    }
   },
   "source": [
    "if load:\n",
    "    parameters_opt, parameters_guess, bounds = fits.load_optimization_results(experiment_name)\n",
    "else:\n",
    "    parameters_opt = minimize(theoretical_spectrum, parameters_guess, data_set, bounds=bounds).x\n",
    "    np.savez(os.getcwd() + opt_dir + experiment_name + '.npz', parameters_opt=parameters_opt,\n",
    "             parameters_guess = np.array(parameters_guess), bounds=np.array(bounds))"
   ],
   "outputs": []
  },
  {
   "cell_type": "code",
   "execution_count": 301,
   "id": "bb2a01de1487f879",
   "metadata": {
    "ExecuteTime": {
     "end_time": "2024-05-29T15:31:29.139687Z",
     "start_time": "2024-05-29T15:31:29.136748Z"
    }
   },
   "source": [
    "print('Guessed parameters \\n')\n",
    "[print(name + f' = {value:.3f}') for name, value in zip(parameter_names, parameters_guess)];\n",
    "print('\\n')\n",
    "print('Optimized parameters \\n')\n",
    "[print(name + f' = {value:.3f}') for name, value in zip(parameter_names, parameters_opt)];"
   ],
   "outputs": []
  },
  {
   "cell_type": "markdown",
   "id": "3e4afc855f7c0b4a",
   "metadata": {},
   "source": [
    "### Plot fits and errors"
   ]
  },
  {
   "cell_type": "code",
   "execution_count": 302,
   "id": "1647ac8cb315e835",
   "metadata": {
    "ExecuteTime": {
     "end_time": "2024-05-29T15:31:29.602807Z",
     "start_time": "2024-05-29T15:31:29.140202Z"
    }
   },
   "source": [
    "φ_ext_F_opt, ωF_vs_φ_ext_opt, φ_ext_R_opt, ωR_vs_φ_ext_opt = theoretical_spectrum(parameters_opt, data_set, out='spectrum')\n",
    "\n",
    "fig, (ax1, ax2, ax3) = plt.subplots(ncols=3, figsize=[4*3,4], dpi=200)\n",
    "for ax in (ax1, ax2):\n",
    "    ax.plot(φ_ext_exp_F     , ω_exp_F   , 'x')\n",
    "    ax.plot(φ_ext_exp_R     , ω_exp_R   , 'x')\n",
    "    ax.plot(φ_ext_F_guess   , ωF_vs_φ_ext_guess , '.r')\n",
    "    ax.plot(φ_ext_R_guess   , ωR_vs_φ_ext_guess , '.r')\n",
    "    ax.plot(φ_ext_F_opt     , ωF_vs_φ_ext_opt   , '.g')\n",
    "    ax.plot(φ_ext_R_opt     , ωR_vs_φ_ext_opt   , '.g')\n",
    "    ax.set_xlabel('$\\phi_{ext}$ ($\\phi_0$)')\n",
    "\n",
    "ax3.plot(φ_ext_exp_F, np.abs(ωF_vs_φ_ext_guess - ω_exp_F), 'r.', label = f'Mean error = {np.abs(ωF_vs_φ_ext_guess-ω_exp_F).mean()/1e6:.2f} MHz' )\n",
    "ax3.plot(φ_ext_exp_R, np.abs(ωR_vs_φ_ext_guess - ω_exp_R), 'r.', label = f'Mean error = {np.abs(ωR_vs_φ_ext_guess-ω_exp_R).mean()/1e6:.2f} MHz'  )\n",
    "ax3.plot(φ_ext_exp_F, np.abs(ωF_vs_φ_ext_opt   - ω_exp_F), 'g.', label = f'Mean error = {np.abs(ωF_vs_φ_ext_opt   - ω_exp_F).mean()/1e6:.2f} MHz' )\n",
    "ax3.plot(φ_ext_exp_R, np.abs(ωR_vs_φ_ext_opt   - ω_exp_R), 'g.', label = f'Mean error = {np.abs(ωR_vs_φ_ext_opt   - ω_exp_R).mean()/1e6:.2f} MHz'  )\n",
    "    \n",
    "ax1.set_title('Frequency (Hz)')\n",
    "ax2.set_title('Frequency (Hz)')\n",
    "ax3.set_title('Error (Hz)')\n",
    "ax2.set_ylim([6.5e9,6.7e9])\n",
    "ax3.legend()"
   ],
   "outputs": []
  },
  {
   "cell_type": "markdown",
   "id": "83740d6700fbff60",
   "metadata": {},
   "source": [
    "# Qubit 1"
   ]
  },
  {
   "cell_type": "code",
   "id": "43c55ef3396072a6",
   "metadata": {
    "ExecuteTime": {
     "end_time": "2024-05-31T11:28:45.537348Z",
     "start_time": "2024-05-31T11:28:45.534904Z"
    }
   },
   "source": [
    "experiment_name = 'qubit_1'\n",
    "load = False"
   ],
   "execution_count": 309,
   "outputs": []
  },
  {
   "cell_type": "markdown",
   "id": "c430e6e9041006a5",
   "metadata": {},
   "source": [
    "\n",
    "### Load spectral data and theoretical model"
   ]
  },
  {
   "cell_type": "code",
   "id": "e3d8fe34fd7d62e1",
   "metadata": {
    "ExecuteTime": {
     "end_time": "2024-05-31T11:28:46.076855Z",
     "start_time": "2024-05-31T11:28:46.073651Z"
    }
   },
   "source": [
    "φ_ext_exp, ω_exp, I_exp, I0, Iss = fits.get_experimental_spectrum(experiment_name)\n",
    "theoretical_spectrum = fits.get_theoretical_spectrum(experiment_name)"
   ],
   "execution_count": 310,
   "outputs": []
  },
  {
   "cell_type": "markdown",
   "id": "dd6f49bd548d534f",
   "metadata": {},
   "source": [
    "## Guess parameters and set bounds"
   ]
  },
  {
   "cell_type": "code",
   "id": "3ad3e10c37074d85",
   "metadata": {
    "ExecuteTime": {
     "end_time": "2024-05-31T11:28:46.684699Z",
     "start_time": "2024-05-31T11:28:46.681503Z"
    }
   },
   "source": [
    "CR_1, CF_1, LF_1, LR_1, EJ_1, Δ_1, ω_r_1 = sq_ext.get_experimental_parameters(experiment_name)\n",
    "CF_1, LF_1, EJ_1 = (25.46, 28.11, 5.18)\n",
    "# CF_1, LF_1, EJ_1 = (32.15, 22.06, 6.19)\n",
    "\n",
    "I0_guess = I0\n",
    "I_origin_guess = Iss - I0/2\n",
    "\n",
    "parameters_guess = [CF_1, LF_1, EJ_1, I0_guess, I_origin_guess]\n",
    "\n",
    "parameter_names = ['CF_1', 'LF_1', 'EJ_1', 'I0', 'I_origin']\n",
    "bounds = fits.create_bounds(parameters_guess)\n",
    "data_set = ([I_exp, ω_exp])"
   ],
   "execution_count": 311,
   "outputs": []
  },
  {
   "cell_type": "code",
   "id": "61cd3ac3cd33dd70",
   "metadata": {
    "ExecuteTime": {
     "end_time": "2024-05-31T11:28:47.649218Z",
     "start_time": "2024-05-31T11:28:47.280654Z"
    }
   },
   "source": [
    "φ_ext_guess, ω_guess = theoretical_spectrum(parameters_guess, data_set, out='spectrum')\n",
    "fig, (ax1, ax2, ax3) = plt.subplots(dpi=150, ncols=3, figsize=[4*3,4])\n",
    "for ax in (ax1, ax2):\n",
    "    ax.plot(φ_ext_guess, ω_exp, 'x')\n",
    "    ax.plot(φ_ext_guess, ω_guess, 'r.')\n",
    "    ax.set_ylabel('Frequency (Hz)')\n",
    "    ax.set_xlabel(r'$\\phi_{ext}$ ($\\phi_0$)')\n",
    "ax1.set_ylim([7.5e9,8e9])\n",
    "ax1.set_xlim([-0.15,0.1])\n",
    "ax2.set_ylim([3.5e9,4e9])\n",
    "ax2.set_xlim([0.45,0.55])\n",
    "\n",
    "ax3.plot(φ_ext_guess, np.abs(ω_guess-ω_exp)/ω_exp, 'r.' , label = f'Mean error = {np.abs(ω_guess-ω_exp).mean()/1e6:.2f} MHz' )\n",
    "ax3.legend()"
   ],
   "execution_count": 312,
   "outputs": []
  },
  {
   "cell_type": "markdown",
   "id": "4437ff3776ae95eb",
   "metadata": {},
   "source": [
    "## Optimize or load previous optimization"
   ]
  },
  {
   "cell_type": "code",
   "execution_count": 41,
   "id": "15f9a0fa80d134a2",
   "metadata": {
    "ExecuteTime": {
     "end_time": "2024-05-29T16:56:32.711311Z",
     "start_time": "2024-05-29T16:54:59.236417Z"
    }
   },
   "source": [
    "data_set_path = os.path.join(os.getcwd() + opt_dir, experiment_name + '_data_set.pkl')\n",
    "parameters_path = os.getcwd() + opt_dir + experiment_name + '.npz'\n",
    "if load:\n",
    "    with open(data_set_path, 'rb') as f:\n",
    "        data_set = pickle.load(f)\n",
    "    parameters_opt, parameters_guess, bounds = fits.load_optimization_results(experiment_name)\n",
    "else:\n",
    "    with open(data_set_path, 'wb') as f:\n",
    "        pickle.dump(data_set, f)\n",
    "    parameters_opt = minimize(theoretical_spectrum, parameters_guess, data_set, bounds=bounds, method='Nelder-Mead', tol=1e-12).x\n",
    "    np.savez(parameters_path, parameters_opt=parameters_opt,\n",
    "             parameters_guess = np.array(parameters_guess), bounds=np.array(bounds))"
   ],
   "outputs": []
  },
  {
   "cell_type": "code",
   "execution_count": 42,
   "id": "9a4e1aec5cb4f0c1",
   "metadata": {
    "ExecuteTime": {
     "end_time": "2024-05-29T16:57:15.201591Z",
     "start_time": "2024-05-29T16:57:15.198785Z"
    }
   },
   "source": [
    "print('Guessed parameters \\n')\n",
    "[print(name + f' = {value:.3f}') for name, value in zip(parameter_names, parameters_guess)];\n",
    "print('\\n')\n",
    "print('Optimized parameters \\n')\n",
    "[print(name + f' = {value:.3f}') for name, value in zip(parameter_names, parameters_opt)];"
   ],
   "outputs": []
  },
  {
   "cell_type": "markdown",
   "id": "d269d9b3fce30bf",
   "metadata": {},
   "source": [
    "## Plot fits and errors"
   ]
  },
  {
   "cell_type": "code",
   "execution_count": 43,
   "id": "9e89563dc71e93ba",
   "metadata": {
    "ExecuteTime": {
     "end_time": "2024-05-29T16:57:19.712101Z",
     "start_time": "2024-05-29T16:57:19.383770Z"
    }
   },
   "source": [
    "φ_ext_opt, ω_opt = theoretical_spectrum(parameters_opt  , data_set,  out = 'spectrum')\n",
    "\n",
    "fig, (ax1, ax2, ax3 )= plt.subplots(ncols=3, dpi=200, figsize=[4*3,4])\n",
    "for ax in (ax1, ax2):\n",
    "    ax.plot(φ_ext_exp, ω_exp, 'x')\n",
    "    ax.plot(φ_ext_guess, ω_guess, 'r.', markersize=4)\n",
    "    ax.plot(φ_ext_opt, ω_opt, 'g.', markersize=4)\n",
    "    ax.set_ylabel('Frequency (Hz)')\n",
    "    ax.set_xlabel('$\\phi_{ext}$ ($\\phi_0$)')\n",
    "    ax.set_title('Spectrum')\n",
    "ax1.set_ylim([7.6e9, 7.9e9])\n",
    "ax1.set_xlim([-0.15,0.1])\n",
    "ax2.set_ylim([3.6e9, 4.1e9])\n",
    "ax2.set_xlim([0.45, 0.55])\n",
    "ax3.set_title('Error')\n",
    "ax3.plot(φ_ext_exp, np.abs(ω_guess-ω_exp), 'r.' , label = f'Mean error = {np.abs(ω_guess-ω_exp).mean()/1e6:.2f} MHz' )\n",
    "ax3.plot(φ_ext_exp, np.abs(ω_opt-ω_exp), 'g.'   , label = f'Mean error = {np.abs(ω_opt-ω_exp).mean()/1e6:.2f} MHz'  )\n",
    "ax3.legend()"
   ],
   "outputs": []
  },
  {
   "cell_type": "markdown",
   "id": "34df6d8b41e31e32",
   "metadata": {},
   "source": [
    "# Resonator 1 "
   ]
  },
  {
   "cell_type": "code",
   "id": "5a8cda6318d970c4",
   "metadata": {
    "ExecuteTime": {
     "end_time": "2024-05-31T11:29:05.657127Z",
     "start_time": "2024-05-31T11:29:05.654473Z"
    }
   },
   "source": [
    "experiment_name = 'resonator_1'"
   ],
   "execution_count": 313,
   "outputs": []
  },
  {
   "cell_type": "markdown",
   "id": "6c4d7884355e4968",
   "metadata": {},
   "source": [
    "### Load spectral data and theoretical model"
   ]
  },
  {
   "cell_type": "code",
   "id": "1ffd77f568299ed8",
   "metadata": {
    "ExecuteTime": {
     "end_time": "2024-05-31T11:29:05.997315Z",
     "start_time": "2024-05-31T11:29:05.995093Z"
    }
   },
   "source": [
    "φ_ext_exp, ω_exp, I_exp, I0, Iss = fits.get_experimental_spectrum(experiment_name)"
   ],
   "execution_count": 314,
   "outputs": []
  },
  {
   "cell_type": "code",
   "id": "6d320f060afaaef0",
   "metadata": {
    "ExecuteTime": {
     "end_time": "2024-05-31T11:29:06.213173Z",
     "start_time": "2024-05-31T11:29:06.210797Z"
    }
   },
   "source": [
    "theoretical_spectrum = fits.get_theoretical_spectrum(experiment_name)"
   ],
   "execution_count": 315,
   "outputs": []
  },
  {
   "cell_type": "markdown",
   "id": "76d3f637f80f8f0f",
   "metadata": {},
   "source": [
    "## Guess parameters and set bounds"
   ]
  },
  {
   "cell_type": "code",
   "id": "ca102b60",
   "metadata": {
    "ExecuteTime": {
     "end_time": "2024-05-31T11:29:06.749434Z",
     "start_time": "2024-05-31T11:29:06.746755Z"
    }
   },
   "source": [
    "CF_1, LF_1, EJ_1, _, _ = np.load(os.getcwd() + opt_dir +  'qubit_1' + '.npz')['parameters_opt']\n",
    "CR_1, _, _, LR_1, _, Δ_1, _ = sq_ext.get_experimental_parameters(experiment_name)"
   ],
   "execution_count": 316,
   "outputs": []
  },
  {
   "cell_type": "code",
   "id": "c79af33b",
   "metadata": {
    "ExecuteTime": {
     "end_time": "2024-05-31T11:29:13.716923Z",
     "start_time": "2024-05-31T11:29:13.714357Z"
    }
   },
   "source": [
    "CF_1, LF_1, EJ_1 = (25.46, 28.11, 5.18)\n"
   ],
   "execution_count": 321,
   "outputs": []
  },
  {
   "cell_type": "code",
   "id": "9d08a4e3",
   "metadata": {
    "ExecuteTime": {
     "end_time": "2024-05-31T11:31:30.257873Z",
     "start_time": "2024-05-31T11:31:30.256060Z"
    }
   },
   "source": [
    "CF_1, LF_1, EJ_1 = (32.15, 22.06, 6.19)\n"
   ],
   "execution_count": 327,
   "outputs": []
  },
  {
   "cell_type": "code",
   "id": "5efc1ffbbea949db",
   "metadata": {
    "ExecuteTime": {
     "end_time": "2024-05-31T11:31:31.009085Z",
     "start_time": "2024-05-31T11:31:31.005764Z"
    }
   },
   "source": [
    "C_int_11 = 500\n",
    "I0_guess = I0\n",
    "I_origin_guess = Iss - I0/2\n",
    "crossing_index_1  = 13\n",
    "crossing_index_2  = 10\n",
    "LR_1, CR_1 = sq_ext.ωR_to_LR_CR(6.495, LR=LR_1)\n",
    "\n",
    "parameter_names = ['C_int_11', 'CR_1', 'LR_1', 'I0_guess', 'I_origin_guess' ]\n",
    "\n",
    "parameters_guess = [C_int_11, CR_1, LR_1 ,I0_guess, I_origin_guess ]\n",
    "data_set = ([I_exp, ω_exp, crossing_index_1, crossing_index_2, CF_1, LF_1, EJ_1, Δ_1,  nmax_r, nmax_f ])\n",
    "bounds = fits.create_bounds(parameters_guess)"
   ],
   "execution_count": 328,
   "outputs": []
  },
  {
   "cell_type": "code",
   "id": "6c15ded793f880d2",
   "metadata": {
    "ExecuteTime": {
     "end_time": "2024-05-31T11:31:32.004030Z",
     "start_time": "2024-05-31T11:31:31.807923Z"
    }
   },
   "source": [
    "φ_ext_guess, ω_guess = theoretical_spectrum(parameters_guess, data_set, out='spectrum')\n",
    "\n",
    "fig, ax = plt.subplots(dpi=150)\n",
    "ax.plot(φ_ext_exp, ω_exp, marker='x', ls='', label='Resonator 1')\n",
    "ax.plot(φ_ext_guess, ω_guess, '.r')\n",
    "\n",
    "ax.set_ylabel('Frequency (Hz)')\n",
    "ax.set_xlabel('$\\phi_{ext}$ ($\\phi_0$)')\n",
    "ax.legend()\n",
    "fig.tight_layout()"
   ],
   "execution_count": 329,
   "outputs": []
  },
  {
   "cell_type": "markdown",
   "id": "ea64dc574295742",
   "metadata": {},
   "source": [
    "## Optimize or load previous optimization"
   ]
  },
  {
   "cell_type": "code",
   "id": "88bb50c064065cd0",
   "metadata": {
    "ExecuteTime": {
     "end_time": "2024-05-31T11:32:06.820651Z",
     "start_time": "2024-05-31T11:31:33.938155Z"
    }
   },
   "source": [
    "if load:\n",
    "    parameters_opt, parameters_guess, bounds = fits.load_optimization_results(experiment_name)\n",
    "else:\n",
    "    parameters_opt = minimize(theoretical_spectrum, parameters_guess, data_set, bounds=bounds, method = method).x\n",
    "    np.savez(os.getcwd() + opt_dir + experiment_name + '.npz', parameters_opt=parameters_opt,\n",
    "             parameters_guess = np.array(parameters_guess), bounds=np.array(bounds))"
   ],
   "execution_count": 330,
   "outputs": []
  },
  {
   "cell_type": "code",
   "id": "77a82da3b6198a79",
   "metadata": {
    "ExecuteTime": {
     "end_time": "2024-05-31T11:32:13.647899Z",
     "start_time": "2024-05-31T11:32:13.402725Z"
    }
   },
   "source": [
    "print('Guessed parameters \\n')\n",
    "[print(name + f' = {value:.3f}') for name, value in zip(parameter_names, parameters_guess)];\n",
    "error_guess = theoretical_spectrum(parameters_guess, data_set, out='error');\n",
    "print(f'Error = {error_guess}')\n",
    "print('\\n')\n",
    "print('Optimized parameters \\n')\n",
    "[print(name + f' = {value:.3f}') for name, value in zip(parameter_names, parameters_opt)];\n",
    "error_opt = theoretical_spectrum(parameters_opt, data_set, out='error');\n",
    "print(f'Error = {error_opt}')"
   ],
   "execution_count": 331,
   "outputs": []
  },
  {
   "metadata": {},
   "cell_type": "code",
   "execution_count": 326,
   "source": [],
   "id": "87e2479cc6597510",
   "outputs": []
  },
  {
   "cell_type": "markdown",
   "id": "a381fea5b2b1cb34",
   "metadata": {},
   "source": [
    "## Plot fits and errors"
   ]
  },
  {
   "cell_type": "code",
   "execution_count": 351,
   "id": "d39ac98f21dcfc7c",
   "metadata": {
    "ExecuteTime": {
     "end_time": "2024-05-29T15:37:20.603751Z",
     "start_time": "2024-05-29T15:37:20.316893Z"
    }
   },
   "source": [
    "φ_ext_opt , ω_opt = theoretical_spectrum(parameters_opt, data_set, out='spectrum')\n",
    "\n",
    "fig, (ax1, ax2 )= plt.subplots(ncols=2, dpi=200, figsize=[8,4])\n",
    "ax1.plot(φ_ext_exp, ω_exp, marker='x', ls='', label='Resonator 1')\n",
    "ax1.plot(φ_ext_guess, ω_guess, '.r')\n",
    "ax1.plot(φ_ext_opt, ω_opt, 'g.', markersize=4)\n",
    "ax1.set_ylabel('Frequency (Hz)')\n",
    "ax1.set_xlabel('$\\phi_{ext}$ ($\\phi_0$)')\n",
    "\n",
    "ax2.plot(φ_ext_guess, np.abs(ω_guess - ω_exp), 'r.' , label = f'Mean error = {np.abs(ω_guess-ω_exp).mean()/1e6:.2f} MHz' )\n",
    "ax2.plot(φ_ext_opt, np.abs(ω_opt   - ω_exp), 'g.'   , label = f'Mean error = {np.abs(ω_opt-ω_exp).mean()/1e6:.2f} MHz'  )\n",
    "ax2.legend()"
   ],
   "outputs": []
  },
  {
   "cell_type": "markdown",
   "id": "61973717e5a562ce",
   "metadata": {},
   "source": [
    "# Qubit 1 and Resonator 1"
   ]
  },
  {
   "cell_type": "code",
   "execution_count": 352,
   "id": "905ae5786118861d",
   "metadata": {
    "ExecuteTime": {
     "end_time": "2024-05-29T15:37:20.606249Z",
     "start_time": "2024-05-29T15:37:20.604700Z"
    }
   },
   "source": [
    "experiment_name = 'resonator_and_qubit_1'"
   ],
   "outputs": []
  },
  {
   "cell_type": "markdown",
   "id": "82973e3501934cba",
   "metadata": {},
   "source": [
    "\n",
    "### Load spectral data and theoretical model"
   ]
  },
  {
   "cell_type": "code",
   "execution_count": 353,
   "id": "519193088df4d6f5",
   "metadata": {
    "ExecuteTime": {
     "end_time": "2024-05-29T15:37:20.608525Z",
     "start_time": "2024-05-29T15:37:20.606743Z"
    }
   },
   "source": [
    "φ_ext_exp_F, ω_exp_F, I_exp_F, I0_F, Iss_F = fits.get_experimental_spectrum('qubit_1')\n",
    "φ_ext_exp_R, ω_exp_R, I_exp_R, I0_R, Iss_R = fits.get_experimental_spectrum('resonator_1')"
   ],
   "outputs": []
  },
  {
   "cell_type": "code",
   "execution_count": 354,
   "id": "9c52079da0d2957",
   "metadata": {
    "ExecuteTime": {
     "end_time": "2024-05-29T15:37:20.610410Z",
     "start_time": "2024-05-29T15:37:20.609089Z"
    }
   },
   "source": [
    "theoretical_spectrum = fits.get_theoretical_spectrum(experiment_name)"
   ],
   "outputs": []
  },
  {
   "cell_type": "markdown",
   "id": "b5e459005408c015",
   "metadata": {},
   "source": [
    "### Guess parameters and set bounds"
   ]
  },
  {
   "cell_type": "code",
   "execution_count": 355,
   "id": "55ecd54cd9beec98",
   "metadata": {
    "ExecuteTime": {
     "end_time": "2024-05-29T15:37:20.613803Z",
     "start_time": "2024-05-29T15:37:20.610952Z"
    }
   },
   "source": [
    "CF_1, LF_1, EJ_1, I0_F_1, I_origin_F_1= np.load(os.getcwd() + opt_dir +  'qubit_1' + '.npz')['parameters_opt']\n",
    "C_int_11, CR_1, LR_1, I0_R_1, I_origin_R_1 = np.load(os.getcwd() + opt_dir +  'resonator_1' + '.npz')['parameters_opt']\n",
    "\n",
    "crossing_index_1_F = 22\n",
    "crossing_index_1_R = 13\n",
    "crossing_index_2_R = 10\n",
    "nmax_r = 5\n",
    "nmax_f = 15\n",
    "# C_int = 500\n",
    "\n",
    "data_set = ([I_exp_F, ω_exp_F, I_exp_R, ω_exp_R, Δ_1, crossing_index_1_F, crossing_index_1_R, crossing_index_2_R, nmax_r, nmax_f])\n",
    "parameters_guess = [CF_1, LF_1, EJ_1, I0_F_1, I_origin_F_1, C_int_11, CR_1, LR_1, I0_R_1, I_origin_R_1]\n",
    "\n",
    "parameter_names = ['CF_1', 'LF_1', 'EJ_1', 'I0_F_1', 'I_origin_F_1',\n",
    "                   'C_int_11', 'CR_1', 'LR_1', 'I0_R_1', 'I_origin_R_1']\n",
    "\n",
    "bounds = fits.create_bounds(parameters_guess)"
   ],
   "outputs": []
  },
  {
   "cell_type": "code",
   "execution_count": 356,
   "id": "730ab9fd1a13ce81",
   "metadata": {
    "ExecuteTime": {
     "end_time": "2024-05-29T15:37:21.035445Z",
     "start_time": "2024-05-29T15:37:20.614365Z"
    }
   },
   "source": [
    "φ_ext_F_guess, ωF_vs_φ_ext_guess, φ_ext_R_guess, ωR_vs_φ_ext_guess = theoretical_spectrum(parameters_guess, data_set, out='spectrum')\n",
    "\n",
    "fig, (ax1, ax2) = plt.subplots(ncols=2, figsize=[8,4], dpi=200)\n",
    "for ax in (ax1, ax2):\n",
    "    ax.plot(φ_ext_exp_F, ω_exp_F, 'x')\n",
    "    ax.plot(φ_ext_exp_R, ω_exp_R, 'x')\n",
    "    ax.plot(φ_ext_F_guess, ωF_vs_φ_ext_guess, '.r')\n",
    "    ax.plot(φ_ext_R_guess, ωR_vs_φ_ext_guess, '.r')\n",
    "    \n",
    "ax2.set_ylim([6.35e9,6.6e9])\n",
    "fig.tight_layout()"
   ],
   "outputs": []
  },
  {
   "cell_type": "markdown",
   "id": "4c2ab2d4f57b9b07",
   "metadata": {},
   "source": [
    "### Optimize or load previous optimization"
   ]
  },
  {
   "cell_type": "code",
   "execution_count": 357,
   "id": "e7d8c86c7978883",
   "metadata": {
    "ExecuteTime": {
     "end_time": "2024-05-29T15:39:02.229101Z",
     "start_time": "2024-05-29T15:37:21.036108Z"
    }
   },
   "source": [
    "data_set_path = os.path.join(os.getcwd() + opt_dir, experiment_name + '_data_set.pkl')\n",
    "parameters_path = os.getcwd() + opt_dir + experiment_name + '.npz'\n",
    "if load:\n",
    "    with open(data_set_path, 'rb') as f:\n",
    "        data_set = pickle.load(f)\n",
    "    parameters_opt, parameters_guess, bounds = fits.load_optimization_results(experiment_name)\n",
    "else:\n",
    "    with open(data_set_path, 'wb') as f:\n",
    "        pickle.dump(data_set, f)\n",
    "    parameters_opt = minimize(theoretical_spectrum, parameters_guess, data_set, bounds=bounds, method=method).x\n",
    "    np.savez(parameters_path, parameters_opt=parameters_opt,\n",
    "             parameters_guess = np.array(parameters_guess), bounds=np.array(bounds))"
   ],
   "outputs": []
  },
  {
   "cell_type": "code",
   "execution_count": 358,
   "id": "456a40b8790bbdc7",
   "metadata": {
    "ExecuteTime": {
     "end_time": "2024-05-29T15:39:02.232419Z",
     "start_time": "2024-05-29T15:39:02.230300Z"
    }
   },
   "source": [
    "print('Guessed parameters \\n')\n",
    "[print(name + f' = {value:.3f}') for name, value in zip(parameter_names, parameters_guess)];\n",
    "print('\\n')\n",
    "print('Optimized parameters \\n')\n",
    "[print(name + f' = {value:.3f}') for name, value in zip(parameter_names, parameters_opt)];"
   ],
   "outputs": []
  },
  {
   "cell_type": "markdown",
   "id": "a90e1262a450080",
   "metadata": {},
   "source": [
    "### Plot fits and errors"
   ]
  },
  {
   "cell_type": "code",
   "execution_count": 359,
   "id": "2b0045e5499ca0f2",
   "metadata": {
    "ExecuteTime": {
     "end_time": "2024-05-29T15:39:02.745307Z",
     "start_time": "2024-05-29T15:39:02.232933Z"
    }
   },
   "source": [
    "φ_ext_F_opt, ωF_vs_φ_ext_opt, φ_ext_R_opt, ωR_vs_φ_ext_opt = theoretical_spectrum(parameters_opt, data_set, out='spectrum')\n",
    "\n",
    "fig, (ax1, ax2, ax3) = plt.subplots(ncols=3, figsize=[4*3,4], dpi=200)\n",
    "for ax in (ax1, ax2):\n",
    "    ax.plot(φ_ext_exp_F     , ω_exp_F   , 'x')\n",
    "    ax.plot(φ_ext_exp_R     , ω_exp_R   , 'x')\n",
    "    ax.plot(φ_ext_F_guess   , ωF_vs_φ_ext_guess , '.r')\n",
    "    ax.plot(φ_ext_R_guess   , ωR_vs_φ_ext_guess , '.r')\n",
    "    ax.plot(φ_ext_F_opt     , ωF_vs_φ_ext_opt   , '.g')\n",
    "    ax.plot(φ_ext_R_opt     , ωR_vs_φ_ext_opt   , '.g')\n",
    "    ax.set_xlabel('$\\phi_{ext}$ ($\\phi_0$)')\n",
    "\n",
    "ax3.plot(φ_ext_exp_F, np.abs(ωF_vs_φ_ext_guess - ω_exp_F), 'r.', label = f'Mean error = {np.abs(ωF_vs_φ_ext_guess-ω_exp_F).mean()/1e6:.2f} MHz' )\n",
    "ax3.plot(φ_ext_exp_R, np.abs(ωR_vs_φ_ext_guess - ω_exp_R), 'r.', label = f'Mean error = {np.abs(ωR_vs_φ_ext_guess-ω_exp_R).mean()/1e6:.2f} MHz'  )\n",
    "ax3.plot(φ_ext_exp_F, np.abs(ωF_vs_φ_ext_opt   - ω_exp_F), 'g.', label = f'Mean error = {np.abs(ωF_vs_φ_ext_opt   - ω_exp_F).mean()/1e6:.2f} MHz' )\n",
    "ax3.plot(φ_ext_exp_R, np.abs(ωR_vs_φ_ext_opt   - ω_exp_R), 'g.', label = f'Mean error = {np.abs(ωR_vs_φ_ext_opt   - ω_exp_R).mean()/1e6:.2f} MHz'  )\n",
    "ax3.legend()\n",
    "ax1.set_title('Frequency (Hz)')\n",
    "ax2.set_title('Frequency (Hz)')\n",
    "ax3.set_title('Error (Hz)')\n",
    "ax2.set_ylim([6.35e9,6.6e9])\n"
   ],
   "outputs": []
  },
  {
   "cell_type": "markdown",
   "id": "f803170fa22ddf5",
   "metadata": {},
   "source": [
    "# Qubit 2"
   ]
  },
  {
   "cell_type": "code",
   "execution_count": 42,
   "id": "c414ecac1afd9b6f",
   "metadata": {
    "ExecuteTime": {
     "end_time": "2024-05-31T09:47:41.773163Z",
     "start_time": "2024-05-31T09:47:41.771432Z"
    }
   },
   "source": [
    "experiment_name = 'qubit_2'\n",
    "load=False"
   ],
   "outputs": []
  },
  {
   "cell_type": "markdown",
   "id": "6d8b3c599aa76524",
   "metadata": {},
   "source": [
    "\n",
    "### Load spectral data and theoretical model"
   ]
  },
  {
   "cell_type": "code",
   "execution_count": 43,
   "id": "32fde7903077f641",
   "metadata": {
    "ExecuteTime": {
     "end_time": "2024-05-31T09:47:42.164225Z",
     "start_time": "2024-05-31T09:47:42.162160Z"
    }
   },
   "source": [
    "φ_ext_exp, ω_exp, I_exp, I0, Iss = fits.get_experimental_spectrum(experiment_name)"
   ],
   "outputs": []
  },
  {
   "cell_type": "code",
   "execution_count": 44,
   "id": "2aae041cf9aabb85",
   "metadata": {
    "ExecuteTime": {
     "end_time": "2024-05-31T09:47:42.461270Z",
     "start_time": "2024-05-31T09:47:42.459657Z"
    }
   },
   "source": [
    "theoretical_spectrum = fits.get_theoretical_spectrum(experiment_name)"
   ],
   "outputs": []
  },
  {
   "cell_type": "markdown",
   "id": "aca32667c12ea41e",
   "metadata": {},
   "source": [
    "## Guess parameters and set bounds"
   ]
  },
  {
   "cell_type": "code",
   "execution_count": 48,
   "id": "278ee223c3fdf3a7",
   "metadata": {
    "ExecuteTime": {
     "end_time": "2024-05-31T09:48:14.963880Z",
     "start_time": "2024-05-31T09:48:14.960471Z"
    }
   },
   "source": [
    "CR_2, CF_2, LF_2, LR_2, EJ_2, Δ_2, ω_r_2 = sq_ext.get_experimental_parameters('qubit_2')\n",
    "CF_2,LF_2,EJ_2  = (22.445216684751557, 20.435030944899754, 9.496913786496863)\n",
    "I0_guess = I0\n",
    "I_origin_guess = Iss - I0/2\n",
    "\n",
    "parameters_guess = [CF_2, LF_2, EJ_2, I0_guess, I_origin_guess]\n",
    "\n",
    "parameter_names = ['CF_2', 'LF_2', 'EJ_2', 'I0', 'I_origin']\n",
    "bounds = fits.create_bounds(parameters_guess)\n",
    "data_set = ([I_exp, ω_exp])"
   ],
   "outputs": []
  },
  {
   "cell_type": "code",
   "execution_count": 49,
   "id": "37af9a54367ecee2",
   "metadata": {
    "ExecuteTime": {
     "end_time": "2024-05-31T09:48:16.384482Z",
     "start_time": "2024-05-31T09:48:16.201539Z"
    }
   },
   "source": [
    "φ_ext_guess, ω_guess = theoretical_spectrum(parameters_guess, data_set, out='spectrum')\n",
    "fig, (ax1, ax2) = plt.subplots(dpi=150, ncols=2, figsize=[8,4])\n",
    "for ax in (ax1, ax2):\n",
    "    ax.plot(φ_ext_guess, ω_exp, 'x')\n",
    "    ax.plot(φ_ext_guess, ω_guess, 'r.')\n",
    "    ax.set_ylabel('Frequency (Hz)')\n",
    "    ax.set_xlabel(r'$\\phi_{ext}$ ($\\phi_0$)')\n",
    "ax1.set_ylim([6.5e9,8e9])\n",
    "ax1.set_xlim([0.35,0.405])\n",
    "ax2.set_ylim([3.4e9,4e9])\n",
    "ax2.set_xlim([0.45,0.55])"
   ],
   "outputs": []
  },
  {
   "cell_type": "markdown",
   "id": "10fd810c03497384",
   "metadata": {},
   "source": [
    "## Optimize or load previous optimization"
   ]
  },
  {
   "cell_type": "code",
   "execution_count": 50,
   "id": "c5ead22251e0d7ab",
   "metadata": {
    "ExecuteTime": {
     "end_time": "2024-05-31T09:48:37.187031Z",
     "start_time": "2024-05-31T09:48:17.899234Z"
    }
   },
   "source": [
    "data_set_path = os.path.join(os.getcwd() + opt_dir, experiment_name + '_data_set.pkl')\n",
    "parameters_path = os.getcwd() + opt_dir + experiment_name + '.npz'\n",
    "if load:\n",
    "    with open(data_set_path, 'rb') as f:\n",
    "        data_set = pickle.load(f)\n",
    "    parameters_opt, parameters_guess, bounds = fits.load_optimization_results(experiment_name)\n",
    "else:\n",
    "    with open(data_set_path, 'wb') as f:\n",
    "        pickle.dump(data_set, f)\n",
    "    parameters_opt = minimize(theoretical_spectrum, parameters_guess, data_set, bounds=bounds, method='Nelder-Mead').x\n",
    "    np.savez(parameters_path, parameters_opt=parameters_opt,\n",
    "             parameters_guess = np.array(parameters_guess), bounds=np.array(bounds))"
   ],
   "outputs": []
  },
  {
   "cell_type": "code",
   "execution_count": 51,
   "id": "d3db3050497e48d5",
   "metadata": {
    "ExecuteTime": {
     "end_time": "2024-05-31T09:49:43.265668Z",
     "start_time": "2024-05-31T09:49:43.263057Z"
    }
   },
   "source": [
    "print('Guessed parameters \\n')\n",
    "[print(name + f' = {value:.3f}') for name, value in zip(parameter_names, parameters_guess)];\n",
    "print('\\n')\n",
    "print('Optimized parameters \\n')\n",
    "[print(name + f' = {value:.3f}') for name, value in zip(parameter_names, parameters_opt)];"
   ],
   "outputs": []
  },
  {
   "cell_type": "code",
   "execution_count": 32,
   "id": "5fe5e3cc03aa0011",
   "metadata": {},
   "source": [],
   "outputs": []
  },
  {
   "cell_type": "markdown",
   "id": "8bbe0cd8a7904749",
   "metadata": {},
   "source": [
    "## Plot fits and errors"
   ]
  },
  {
   "cell_type": "code",
   "execution_count": 54,
   "id": "4d220a26fa31849e",
   "metadata": {
    "ExecuteTime": {
     "end_time": "2024-05-31T09:50:47.685018Z",
     "start_time": "2024-05-31T09:50:47.381930Z"
    }
   },
   "source": [
    "φ_ext_opt, ω_opt = theoretical_spectrum(parameters_opt  , data_set,  out = 'spectrum')\n",
    "\n",
    "fig, (ax1, ax2, ax3 )= plt.subplots(ncols=3, dpi=200, figsize=[4*3,4])\n",
    "for ax in (ax1, ax2):\n",
    "    ax.plot(φ_ext_opt, ω_exp, 'x')\n",
    "    ax.plot(φ_ext_opt, ω_guess, 'r.', markersize=4)\n",
    "    ax.plot(φ_ext_opt, ω_opt, 'g.', markersize=4)\n",
    "    ax.set_ylabel('Frequency (Hz)')\n",
    "    ax.set_xlabel('$\\phi_{ext}$ ($\\phi_0$)')\n",
    "    ax.set_title('Spectrum')\n",
    "ax1.set_ylim([6.5e9,8e9])\n",
    "ax1.set_xlim([0.35,0.405])\n",
    "ax2.set_ylim([3.4e9,4e9])\n",
    "ax2.set_xlim([0.45,0.55])\n",
    "ax3.set_title('Error')\n",
    "ax3.plot(φ_ext_guess, np.abs(ω_guess-ω_exp), 'r.' , label = f'Mean error = {np.abs(ω_guess-ω_exp).mean()/1e6:.2f} MHz' )\n",
    "ax3.plot(φ_ext_opt, np.abs(ω_opt-ω_exp), 'g.'   , label = f'Mean error = {np.abs(ω_opt-ω_exp).mean()/1e6:.2f} MHz'  )\n",
    "ax3.legend()"
   ],
   "outputs": []
  },
  {
   "cell_type": "markdown",
   "id": "12b91ada4d5b4bc1",
   "metadata": {},
   "source": [
    "# Resonator 2"
   ]
  },
  {
   "cell_type": "code",
   "execution_count": 378,
   "id": "d1f04cb432dcdff7",
   "metadata": {
    "ExecuteTime": {
     "end_time": "2024-05-29T15:41:15.308863Z",
     "start_time": "2024-05-29T15:41:15.306502Z"
    }
   },
   "source": [
    "experiment_name = 'resonator_2'"
   ],
   "outputs": []
  },
  {
   "cell_type": "markdown",
   "id": "b72b58b722950504",
   "metadata": {},
   "source": [
    "## Load spectral data and theoretical model"
   ]
  },
  {
   "cell_type": "code",
   "execution_count": 379,
   "id": "6fe4dca876adb201",
   "metadata": {
    "ExecuteTime": {
     "end_time": "2024-05-29T15:41:16.375220Z",
     "start_time": "2024-05-29T15:41:16.372697Z"
    }
   },
   "source": [
    "φ_ext_exp, ω_exp, I_exp, I0, Iss = fits.get_experimental_spectrum(experiment_name)"
   ],
   "outputs": []
  },
  {
   "cell_type": "code",
   "execution_count": 380,
   "id": "f1549bbd372d7033",
   "metadata": {
    "ExecuteTime": {
     "end_time": "2024-05-29T15:41:16.770775Z",
     "start_time": "2024-05-29T15:41:16.768935Z"
    }
   },
   "source": [
    "theoretical_spectrum = fits.get_theoretical_spectrum(experiment_name)"
   ],
   "outputs": []
  },
  {
   "cell_type": "markdown",
   "id": "ef5c5f77728b8cdc",
   "metadata": {},
   "source": [
    "## Guess parameters and set bounds"
   ]
  },
  {
   "cell_type": "code",
   "execution_count": 381,
   "id": "7b41cc7e5922b4c1",
   "metadata": {
    "ExecuteTime": {
     "end_time": "2024-05-29T15:41:17.833933Z",
     "start_time": "2024-05-29T15:41:17.535464Z"
    }
   },
   "source": [
    "CF_2, LF_2, EJ_2, _, _ = np.load(os.getcwd() + opt_dir +  'qubit_2' + '.npz')['parameters_opt']\n",
    "CR_2, _, _, LR_2, _, Δ_2, _ = sq_ext.get_experimental_parameters(experiment_name)\n",
    "\n",
    "I0_guess = I0\n",
    "I_origin_guess = Iss - I0/2\n",
    "crossing_index_1  = 11\n",
    "crossing_index_2  = 9\n",
    "\n",
    "nmax_r = 15\n",
    "nmax_f = 25 \n",
    "data_set = ([I_exp, ω_exp, crossing_index_1, crossing_index_2, CF_2, LF_2, EJ_2, nmax_r, nmax_f ])\n",
    "parameters_guess = [CR_2, LR_2, Δ_2, I0_guess, I_origin_guess]\n",
    "parameter_names = ['CR_2', 'LR_2', 'Delta', 'I0', 'I_origin']\n",
    "bounds = fits.create_bounds(parameters_guess)\n",
    "φ_ext_guess, ω_guess = theoretical_spectrum(parameters_guess, data_set, out='spectrum')"
   ],
   "outputs": []
  },
  {
   "cell_type": "code",
   "execution_count": 382,
   "id": "e8d189ab0b57a5d9",
   "metadata": {
    "ExecuteTime": {
     "end_time": "2024-05-29T15:41:19.581106Z",
     "start_time": "2024-05-29T15:41:19.482738Z"
    }
   },
   "source": [
    "fig, ax = plt.subplots(dpi=150)\n",
    "ax.plot(φ_ext_exp, ω_exp, marker='x', ls='', label='Resonator 1')\n",
    "ax.plot(φ_ext_guess, ω_guess, '.r')\n",
    "\n",
    "ax.set_ylabel('Frequency (Hz)')\n",
    "ax.set_xlabel('$\\phi_{ext}$ ($\\phi_0$)')\n",
    "#ax.set_ylim([6.2875e9, 6.2925e9])\n",
    "#ax.set_xlim([0.45, 0.55])\n",
    "fig.tight_layout()"
   ],
   "outputs": []
  },
  {
   "cell_type": "markdown",
   "id": "4aa355d49f33a02f",
   "metadata": {},
   "source": [
    "## Optimize or load previous optimization"
   ]
  },
  {
   "cell_type": "code",
   "execution_count": 383,
   "id": "18ff594d53735c7f",
   "metadata": {
    "ExecuteTime": {
     "end_time": "2024-05-29T15:41:40.280578Z",
     "start_time": "2024-05-29T15:41:23.431615Z"
    }
   },
   "source": [
    "if load:\n",
    "    parameters_opt, parameters_guess, bounds = fits.load_optimization_results(experiment_name)\n",
    "else:\n",
    "    parameters_opt = minimize(theoretical_spectrum, parameters_guess, data_set, bounds=bounds, method = method).x\n",
    "    np.savez(os.getcwd() + opt_dir + experiment_name + '.npz', parameters_opt=parameters_opt,\n",
    "             parameters_guess = np.array(parameters_guess), bounds=np.array(bounds))"
   ],
   "outputs": []
  },
  {
   "cell_type": "code",
   "execution_count": 384,
   "id": "7eaf6776fc730e3",
   "metadata": {
    "ExecuteTime": {
     "end_time": "2024-05-29T15:41:43.476963Z",
     "start_time": "2024-05-29T15:41:43.474381Z"
    }
   },
   "source": [
    "print('Guessed parameters \\n')\n",
    "[print(name + f' = {value:.3f}') for name, value in zip(parameter_names, parameters_guess)];\n",
    "print('\\n')\n",
    "print('Optimized parameters \\n')\n",
    "[print(name + f' = {value:.3f}') for name, value in zip(parameter_names, parameters_opt)];"
   ],
   "outputs": []
  },
  {
   "cell_type": "markdown",
   "id": "fc319ac0a1f2ca76",
   "metadata": {},
   "source": [
    "## Plot fits and errors"
   ]
  },
  {
   "cell_type": "code",
   "execution_count": 385,
   "id": "c4837bd49827440e",
   "metadata": {
    "ExecuteTime": {
     "end_time": "2024-05-29T15:41:58.477638Z",
     "start_time": "2024-05-29T15:41:58.052351Z"
    }
   },
   "source": [
    "φ_ext_opt , ω_opt = theoretical_spectrum(parameters_opt, data_set, out='spectrum')\n",
    "\n",
    "fig, (ax1, ax2 )= plt.subplots(ncols=2, dpi=200, figsize=[8,4])\n",
    "ax1.plot(φ_ext_exp, ω_exp, marker='x', ls='', label='Resonator 1')\n",
    "ax1.plot(φ_ext_guess, ω_guess, '.r')\n",
    "ax1.plot(φ_ext_opt, ω_opt, 'g.', markersize=4)\n",
    "ax1.set_ylabel('Frequency (Hz)')\n",
    "ax1.set_xlabel('$\\phi_{ext}$ ($\\phi_0$)')\n",
    "\n",
    "ax2.plot(φ_ext_guess, np.abs(ω_guess - ω_exp), 'r.' , label = f'Mean error = {np.abs(ω_guess-ω_exp).mean()/1e6:.2f} MHz' )\n",
    "ax2.plot(φ_ext_opt, np.abs(ω_opt   - ω_exp), 'g.'   , label = f'Mean error = {np.abs(ω_opt-ω_exp).mean()/1e6:.2f} MHz'  )\n",
    "ax2.legend()"
   ],
   "outputs": []
  },
  {
   "cell_type": "markdown",
   "id": "d2bbdd9bfd77d603",
   "metadata": {},
   "source": [
    "# Qubit 2 and Resonator 2"
   ]
  },
  {
   "cell_type": "code",
   "execution_count": 386,
   "id": "6df9cb112f925ee4",
   "metadata": {
    "ExecuteTime": {
     "end_time": "2024-05-29T15:42:14.082090Z",
     "start_time": "2024-05-29T15:42:14.080277Z"
    }
   },
   "source": [
    "experiment_name = 'resonator_and_qubit_2'"
   ],
   "outputs": []
  },
  {
   "cell_type": "markdown",
   "id": "11c26f86a8e8add7",
   "metadata": {},
   "source": [
    "\n",
    "### Load spectral data and theoretical model"
   ]
  },
  {
   "cell_type": "code",
   "execution_count": 387,
   "id": "ca017000f34390e2",
   "metadata": {
    "ExecuteTime": {
     "end_time": "2024-05-29T15:42:14.680526Z",
     "start_time": "2024-05-29T15:42:14.678040Z"
    }
   },
   "source": [
    "φ_ext_exp_F, ω_exp_F, I_exp_F, I0_F, Iss_F = fits.get_experimental_spectrum('qubit_2')\n",
    "φ_ext_exp_R, ω_exp_R, I_exp_R, I0_R, Iss_R = fits.get_experimental_spectrum('resonator_2')"
   ],
   "outputs": []
  },
  {
   "cell_type": "code",
   "execution_count": 388,
   "id": "f24301bb2e420f95",
   "metadata": {
    "ExecuteTime": {
     "end_time": "2024-05-29T15:42:15.182211Z",
     "start_time": "2024-05-29T15:42:15.179685Z"
    }
   },
   "source": [
    "theoretical_spectrum = fits.get_theoretical_spectrum(experiment_name)"
   ],
   "outputs": []
  },
  {
   "cell_type": "markdown",
   "id": "8a6e99da99de7d78",
   "metadata": {},
   "source": [
    "### Guess parameters and set bounds"
   ]
  },
  {
   "cell_type": "code",
   "execution_count": 389,
   "id": "2706cdbba9e25ce4",
   "metadata": {
    "ExecuteTime": {
     "end_time": "2024-05-29T15:42:15.942895Z",
     "start_time": "2024-05-29T15:42:15.938944Z"
    }
   },
   "source": [
    "CF_2, LF_2, EJ_2, I0_F_2, I_origin_F_2= np.load(os.getcwd() + opt_dir +  'qubit_2' + '.npz')['parameters_opt']\n",
    "CR_2, LR_2, Δ_2, I0_R_2, I_origin_R_2 = np.load(os.getcwd() + opt_dir +  'resonator_2' + '.npz')['parameters_opt']\n",
    "\n",
    "crossing_index_1_F = 20\n",
    "crossing_index_1_R = 11\n",
    "crossing_index_2_R = 9\n",
    "nmax_r = 5\n",
    "nmax_f = 15\n",
    "\n",
    "data_set = ([I_exp_F, ω_exp_F, I_exp_R, ω_exp_R, crossing_index_1_F, crossing_index_1_R, crossing_index_2_R, nmax_r, nmax_f])\n",
    "parameters_guess = [CF_2, LF_2, EJ_2, I0_F_2, I_origin_F_2, CR_2, LR_2, Δ_2,  I0_R_2, I_origin_R_2]\n",
    "parameter_names = ['CF_2', 'LF_2', 'EJ_2', 'I0_F_2', 'I_origin_F_2',\n",
    "                   'CR_2', 'LR_2', 'Δ_2', 'I0_R_2', 'I_origin_R_2']\n",
    "bounds = fits.create_bounds(parameters_guess)"
   ],
   "outputs": []
  },
  {
   "cell_type": "code",
   "execution_count": 390,
   "id": "fcfe8c7c00292193",
   "metadata": {
    "ExecuteTime": {
     "end_time": "2024-05-29T15:42:18.798793Z",
     "start_time": "2024-05-29T15:42:18.410440Z"
    }
   },
   "source": [
    "φ_ext_F_guess, ωF_vs_φ_ext_guess, φ_ext_R_guess, ωR_vs_φ_ext_guess = theoretical_spectrum(parameters_guess, data_set, out='spectrum')\n",
    "\n",
    "fig, (ax1, ax2) = plt.subplots(ncols=2, figsize=[8,4], dpi=200)\n",
    "for ax in (ax1, ax2):\n",
    "    ax.plot(φ_ext_exp_F, ω_exp_F, 'x')\n",
    "    ax.plot(φ_ext_exp_R, ω_exp_R, 'x')\n",
    "    ax.plot(φ_ext_F_guess, ωF_vs_φ_ext_guess, '.r')\n",
    "    ax.plot(φ_ext_R_guess, ωR_vs_φ_ext_guess, '.r')\n",
    "    \n",
    "ax2.set_ylim([6.26e9,6.28e9])\n",
    "fig.tight_layout()"
   ],
   "outputs": []
  },
  {
   "cell_type": "markdown",
   "id": "23bec7d74cd002e6",
   "metadata": {},
   "source": [
    "### Optimize or load previous optimization"
   ]
  },
  {
   "cell_type": "code",
   "execution_count": 391,
   "id": "b97876b8a6b0e4cd",
   "metadata": {
    "ExecuteTime": {
     "end_time": "2024-05-29T15:43:09.527523Z",
     "start_time": "2024-05-29T15:42:21.875111Z"
    }
   },
   "source": [
    "data_set_path = os.path.join(os.getcwd() + opt_dir, experiment_name + '_data_set.pkl')\n",
    "parameters_path = os.getcwd() + opt_dir + experiment_name + '.npz'\n",
    "if load:\n",
    "    with open(data_set_path, 'rb') as f:\n",
    "        data_set = pickle.load(f)\n",
    "    parameters_opt, parameters_guess, bounds = fits.load_optimization_results(experiment_name)\n",
    "else:\n",
    "    with open(data_set_path, 'wb') as f:\n",
    "        pickle.dump(data_set, f)\n",
    "    parameters_opt = minimize(theoretical_spectrum, parameters_guess, data_set, bounds=bounds, method=method).x\n",
    "    np.savez(parameters_path, parameters_opt=parameters_opt,\n",
    "             parameters_guess = np.array(parameters_guess), bounds=np.array(bounds))"
   ],
   "outputs": []
  },
  {
   "cell_type": "code",
   "execution_count": 392,
   "id": "b811a4b6ec665834",
   "metadata": {
    "ExecuteTime": {
     "end_time": "2024-05-29T15:43:16.060320Z",
     "start_time": "2024-05-29T15:43:16.057897Z"
    }
   },
   "source": [
    "print('Guessed parameters \\n')\n",
    "[print(name + f' = {value:.3f}') for name, value in zip(parameter_names, parameters_guess)];\n",
    "print('\\n')\n",
    "print('Optimized parameters \\n')\n",
    "[print(name + f' = {value:.3f}') for name, value in zip(parameter_names, parameters_opt)];"
   ],
   "outputs": []
  },
  {
   "cell_type": "markdown",
   "id": "bc49e6622695e4c1",
   "metadata": {},
   "source": [
    "### Plot fits and errors"
   ]
  },
  {
   "cell_type": "code",
   "execution_count": 395,
   "id": "fb4e4677b915839",
   "metadata": {
    "ExecuteTime": {
     "end_time": "2024-05-29T15:43:54.835060Z",
     "start_time": "2024-05-29T15:43:54.364119Z"
    }
   },
   "source": [
    "φ_ext_F_opt, ωF_vs_φ_ext_opt, φ_ext_R_opt, ωR_vs_φ_ext_opt = theoretical_spectrum(parameters_opt, data_set, out='spectrum')\n",
    "\n",
    "fig, (ax1, ax2, ax3) = plt.subplots(ncols=3, figsize=[4*3,4], dpi=200)\n",
    "for ax in (ax1, ax2):\n",
    "    ax.plot(φ_ext_exp_F     , ω_exp_F   , 'x')\n",
    "    ax.plot(φ_ext_exp_R     , ω_exp_R   , 'x')\n",
    "    ax.plot(φ_ext_F_guess   , ωF_vs_φ_ext_guess , '.r')\n",
    "    ax.plot(φ_ext_R_guess   , ωR_vs_φ_ext_guess , '.r')\n",
    "    ax.plot(φ_ext_F_opt     , ωF_vs_φ_ext_opt   , '.g')\n",
    "    ax.plot(φ_ext_R_opt     , ωR_vs_φ_ext_opt   , '.g')\n",
    "    ax.set_xlabel('$\\phi_{ext}$ ($\\phi_0$)')\n",
    "\n",
    "ax3.plot(φ_ext_exp_F, np.abs(ωF_vs_φ_ext_guess - ω_exp_F), 'r.', label = f'Mean error = {np.abs(ωF_vs_φ_ext_guess-ω_exp_F).mean()/1e6:.2f} MHz' )\n",
    "ax3.plot(φ_ext_exp_R, np.abs(ωR_vs_φ_ext_guess - ω_exp_R), 'r.', label = f'Mean error = {np.abs(ωR_vs_φ_ext_guess-ω_exp_R).mean()/1e6:.2f} MHz'  )\n",
    "ax3.plot(φ_ext_exp_F, np.abs(ωF_vs_φ_ext_opt   - ω_exp_F), 'g.', label = f'Mean error = {np.abs(ωF_vs_φ_ext_opt   - ω_exp_F).mean()/1e6:.2f} MHz' )\n",
    "ax3.plot(φ_ext_exp_R, np.abs(ωR_vs_φ_ext_opt   - ω_exp_R), 'g.', label = f'Mean error = {np.abs(ωR_vs_φ_ext_opt   - ω_exp_R).mean()/1e6:.2f} MHz'  )\n",
    "ax3.legend()\n",
    "ax1.set_title('Frequency (Hz)')\n",
    "ax2.set_title('Frequency (Hz)')\n",
    "ax3.set_title('Error (Hz)')\n",
    "ax2.set_ylim([6.265e9,6.28e9])\n",
    "\n"
   ],
   "outputs": []
  },
  {
   "cell_type": "markdown",
   "id": "6d0ebb438cf4d16e",
   "metadata": {},
   "source": [
    "# Qubit 3"
   ]
  },
  {
   "cell_type": "code",
   "execution_count": 184,
   "id": "1e8c0361e82ce00b",
   "metadata": {
    "ExecuteTime": {
     "end_time": "2024-05-31T10:07:35.557314Z",
     "start_time": "2024-05-31T10:07:35.555349Z"
    }
   },
   "source": [
    "experiment_name = 'qubit_3'\n",
    "load = False"
   ],
   "outputs": []
  },
  {
   "cell_type": "markdown",
   "id": "35ab1f565268b208",
   "metadata": {},
   "source": [
    "\n",
    "### Load spectral data and theoretical model"
   ]
  },
  {
   "cell_type": "code",
   "execution_count": 178,
   "id": "669ba57e58cc1744",
   "metadata": {
    "ExecuteTime": {
     "end_time": "2024-05-31T10:07:21.491651Z",
     "start_time": "2024-05-31T10:07:21.489621Z"
    }
   },
   "source": [
    "φ_ext_exp, ω_exp, I_exp, I0, Iss = fits.get_experimental_spectrum(experiment_name)"
   ],
   "outputs": []
  },
  {
   "cell_type": "code",
   "execution_count": 179,
   "id": "9bb01e31e18ea28e",
   "metadata": {
    "ExecuteTime": {
     "end_time": "2024-05-31T10:07:21.785311Z",
     "start_time": "2024-05-31T10:07:21.783516Z"
    }
   },
   "source": [
    "theoretical_spectrum = fits.get_theoretical_spectrum(experiment_name)"
   ],
   "outputs": []
  },
  {
   "cell_type": "markdown",
   "id": "ea636f99161fc9b4",
   "metadata": {},
   "source": [
    "## Guess parameters and set bounds"
   ]
  },
  {
   "cell_type": "code",
   "execution_count": 192,
   "id": "d8c3255760a88599",
   "metadata": {
    "ExecuteTime": {
     "end_time": "2024-05-31T10:09:53.606255Z",
     "start_time": "2024-05-31T10:09:53.603636Z"
    }
   },
   "source": [
    "CR_3, CF_3, LF_3, LR_3, EJ_3, Δ_3, ω_r_3 = sq_ext.get_experimental_parameters(experiment_name)\n",
    "CF_3, LF_3, EJ_3"
   ],
   "outputs": []
  },
  {
   "cell_type": "code",
   "execution_count": 198,
   "id": "cb57389f92957462",
   "metadata": {
    "ExecuteTime": {
     "end_time": "2024-05-31T10:10:45.984980Z",
     "start_time": "2024-05-31T10:10:45.982456Z"
    }
   },
   "source": [
    "CF_3, LF_3, EJ_3 = (26.469686661169657, 30.0, 5.780487830155092)"
   ],
   "outputs": []
  },
  {
   "cell_type": "code",
   "execution_count": 199,
   "id": "42769dd4c6b8fee",
   "metadata": {
    "ExecuteTime": {
     "end_time": "2024-05-31T10:10:46.232263Z",
     "start_time": "2024-05-31T10:10:46.230382Z"
    }
   },
   "source": [
    "I0_guess = I0\n",
    "I_origin_guess = Iss - I0/2\n",
    "parameters_guess = [CF_3, LF_3, EJ_3, I0_guess, I_origin_guess]\n",
    "\n",
    "parameter_names = ['CF_3', 'LF_3', 'EJ_3', 'I0', 'I_origin']\n",
    "bounds = fits.create_bounds(parameters_guess)\n",
    "data_set = ([I_exp, ω_exp])"
   ],
   "outputs": []
  },
  {
   "cell_type": "code",
   "execution_count": 200,
   "id": "ee7faa86a3c8c483",
   "metadata": {
    "ExecuteTime": {
     "end_time": "2024-05-31T10:10:46.715895Z",
     "start_time": "2024-05-31T10:10:46.484761Z"
    }
   },
   "source": [
    "φ_ext_guess, ω_guess = theoretical_spectrum(parameters_guess, data_set, out='spectrum')\n",
    "fig, (ax1, ax2) = plt.subplots(dpi=150, ncols=2, figsize=[8,4])\n",
    "for ax in (ax1, ax2):\n",
    "    ax.plot(φ_ext_guess, ω_exp, 'x')\n",
    "    ax.plot(φ_ext_guess, ω_guess, 'r.')\n",
    "    ax.set_ylabel('Frequency (Hz)')\n",
    "    ax.set_xlabel(r'$\\phi_{ext}$ ($\\phi_0$)')\n",
    "ax1.set_ylim([7.5e9,7.8e9])\n",
    "ax1.set_xlim([-0.2,0.2])\n",
    "ax2.set_ylim([2.9e9,4e9])\n",
    "ax2.set_xlim([0.45,0.55])"
   ],
   "outputs": []
  },
  {
   "cell_type": "markdown",
   "id": "953e09c1d03685f7",
   "metadata": {},
   "source": [
    "## Optimize or load previous optimization"
   ]
  },
  {
   "cell_type": "code",
   "execution_count": 201,
   "id": "7ce14f25b4438d4b",
   "metadata": {
    "ExecuteTime": {
     "end_time": "2024-05-31T10:11:01.772804Z",
     "start_time": "2024-05-31T10:10:47.816811Z"
    }
   },
   "source": [
    "data_set_path = os.path.join(os.getcwd() + opt_dir, experiment_name + '_data_set.pkl')\n",
    "parameters_path = os.getcwd() + opt_dir + experiment_name + '.npz'\n",
    "if load:\n",
    "    with open(data_set_path, 'rb') as f:\n",
    "        data_set = pickle.load(f)\n",
    "    parameters_opt, parameters_guess, bounds = fits.load_optimization_results(experiment_name)\n",
    "else:\n",
    "    with open(data_set_path, 'wb') as f:\n",
    "        pickle.dump(data_set, f)\n",
    "    parameters_opt = minimize(theoretical_spectrum, parameters_guess, data_set, bounds=bounds, method='SLSQP').x\n",
    "    np.savez(parameters_path, parameters_opt=parameters_opt,\n",
    "             parameters_guess = np.array(parameters_guess), bounds=np.array(bounds))"
   ],
   "outputs": []
  },
  {
   "cell_type": "code",
   "execution_count": 202,
   "id": "e1ad4957c4a4a66e",
   "metadata": {
    "ExecuteTime": {
     "end_time": "2024-05-31T10:11:18.166780Z",
     "start_time": "2024-05-31T10:11:18.163317Z"
    }
   },
   "source": [
    "print('Guessed parameters \\n')\n",
    "[print(name + f' = {value:.3f}') for name, value in zip(parameter_names, parameters_guess)];\n",
    "print('\\n')\n",
    "print('Optimized parameters \\n')\n",
    "[print(name + f' = {value:.3f}') for name, value in zip(parameter_names, parameters_opt)];"
   ],
   "outputs": []
  },
  {
   "cell_type": "markdown",
   "id": "cef6e78044bc5bce",
   "metadata": {},
   "source": [
    "## Plot fits and errors"
   ]
  },
  {
   "cell_type": "code",
   "execution_count": 197,
   "id": "9be4b6852ed6b736",
   "metadata": {
    "ExecuteTime": {
     "end_time": "2024-05-31T10:10:40.074814Z",
     "start_time": "2024-05-31T10:10:39.669647Z"
    }
   },
   "source": [
    "φ_ext_opt, ω_opt = theoretical_spectrum(parameters_opt  , data_set,  out = 'spectrum')\n",
    "\n",
    "fig, (ax1, ax2, ax3 )= plt.subplots(ncols=3, dpi=200, figsize=[4*3,4])\n",
    "for ax in (ax1, ax2):\n",
    "    ax.plot(φ_ext_opt, ω_exp, 'x')\n",
    "    ax.plot(φ_ext_guess, ω_guess, 'r.', markersize=4)\n",
    "    ax.plot(φ_ext_opt, ω_opt, 'g.', markersize=4)\n",
    "    ax.set_ylabel('Frequency (Hz)')\n",
    "    ax.set_xlabel('$\\phi_{ext}$ ($\\phi_0$)')\n",
    "    ax.set_title('Spectrum')\n",
    "ax1.set_ylim([7.5e9,7.8e9])\n",
    "ax1.set_xlim([-0.2,0.2])\n",
    "ax2.set_ylim([2.9e9,4e9])\n",
    "ax2.set_xlim([0.45,0.55])\n",
    "ax3.set_title('Error')\n",
    "ax3.plot(φ_ext_exp, np.abs(ω_guess-ω_exp), 'r.' , label = f'Mean error = {np.abs(ω_guess-ω_exp).mean()/1e6:.2f} MHz' )\n",
    "ax3.plot(φ_ext_exp, np.abs(ω_opt-ω_exp), 'g.'   , label = f'Mean error = {np.abs(ω_opt-ω_exp).mean()/1e6:.2f} MHz'  )\n",
    "ax3.legend()"
   ],
   "outputs": []
  },
  {
   "cell_type": "markdown",
   "id": "86d8c3b55c489895",
   "metadata": {},
   "source": [
    "# Resonator 3"
   ]
  },
  {
   "cell_type": "code",
   "id": "e68feeef65e46159",
   "metadata": {
    "ExecuteTime": {
     "end_time": "2024-05-31T11:22:49.095161Z",
     "start_time": "2024-05-31T11:22:49.093056Z"
    }
   },
   "source": [
    "experiment_name = 'resonator_3'\n",
    "load = False"
   ],
   "execution_count": 286,
   "outputs": []
  },
  {
   "cell_type": "markdown",
   "id": "1d86417e4643888c",
   "metadata": {},
   "source": [
    "### Load spectral data and theoretical model"
   ]
  },
  {
   "cell_type": "code",
   "id": "6fa14816624ebad1",
   "metadata": {
    "ExecuteTime": {
     "end_time": "2024-05-31T11:21:57.463265Z",
     "start_time": "2024-05-31T11:21:57.461205Z"
    }
   },
   "source": [
    "φ_ext_exp, ω_exp, I_exp, I0, Iss = fits.get_experimental_spectrum(experiment_name)"
   ],
   "execution_count": 279,
   "outputs": []
  },
  {
   "cell_type": "code",
   "id": "d458c06fa945b124",
   "metadata": {
    "ExecuteTime": {
     "end_time": "2024-05-31T11:21:57.759307Z",
     "start_time": "2024-05-31T11:21:57.756914Z"
    }
   },
   "source": [
    "theoretical_spectrum = fits.get_theoretical_spectrum(experiment_name)"
   ],
   "execution_count": 280,
   "outputs": []
  },
  {
   "cell_type": "markdown",
   "id": "8222adcc1151ce4a",
   "metadata": {},
   "source": [
    "## Guess parameters and set bounds"
   ]
  },
  {
   "cell_type": "code",
   "id": "bd60097aae324951",
   "metadata": {
    "ExecuteTime": {
     "end_time": "2024-05-31T11:26:20.022279Z",
     "start_time": "2024-05-31T11:26:20.019112Z"
    }
   },
   "source": [
    "CF_3, LF_3, EJ_3, _, _ = np.load(os.getcwd() + opt_dir +  'qubit_3' + '.npz')['parameters_opt']\n",
    "CR_3, _, _, LR_3, _, Δ_3, ω_r_3 = sq_ext.get_experimental_parameters(experiment_name)\n",
    "# Δ_3 +=0.4\n",
    "C_int_33 = -500\n",
    "I0_guess = I0\n",
    "I_origin_guess = Iss - I0/2\n",
    "crossing_index_1  = 10\n",
    "crossing_index_2  = 8\n",
    "\n",
    "parameter_names = ['C_int_33', 'CR_3', 'LR_3', 'I0_guess', 'I_origin_guess' ]\n",
    "\n",
    "parameters_guess = [C_int_33, CR_3, LR_3 ,I0_guess, I_origin_guess ]\n",
    "data_set = ([I_exp, ω_exp, crossing_index_1, crossing_index_2, CF_3, LF_3, EJ_3, Δ_3,  nmax_r, nmax_f ])\n",
    "bounds= fits.create_bounds(parameters_guess)"
   ],
   "execution_count": 302,
   "outputs": []
  },
  {
   "cell_type": "code",
   "id": "3d1cdfd00960f2e",
   "metadata": {
    "ExecuteTime": {
     "end_time": "2024-05-31T11:26:20.580595Z",
     "start_time": "2024-05-31T11:26:20.410191Z"
    }
   },
   "source": [
    "φ_ext_guess, ω_guess = theoretical_spectrum(parameters_guess, data_set, out='spectrum')\n",
    "\n",
    "fig, ax = plt.subplots(dpi=150)\n",
    "ax.plot(φ_ext_guess, ω_exp, marker='x', ls='')\n",
    "ax.plot(φ_ext_guess, ω_guess, '.r')\n",
    "\n",
    "ax.set_ylabel('Frequency (Hz)')\n",
    "ax.set_xlabel('$\\phi_{ext}$ ($\\phi_0$)')\n",
    "fig.tight_layout()"
   ],
   "execution_count": 303,
   "outputs": []
  },
  {
   "cell_type": "markdown",
   "id": "774f33b3bcf2642f",
   "metadata": {},
   "source": [
    "Okay, so, here we have a bit of trouble. The problem is that according to the Delta estimated geometrically this splitting is already too small. If on top of that we add repulsion by a capacitive coupling then the splitting can only be bigger. I would need the single circuit spectra to be able to extract Delta from that, and then come to this one and get the capacitive interaction."
   ]
  },
  {
   "cell_type": "markdown",
   "id": "b35af9a192c64c90",
   "metadata": {},
   "source": [
    "## Optimize or load previous optimization"
   ]
  },
  {
   "cell_type": "code",
   "id": "8ea162e5724dc8dd",
   "metadata": {
    "ExecuteTime": {
     "end_time": "2024-05-31T11:23:54.879744Z",
     "start_time": "2024-05-31T11:22:52.932191Z"
    }
   },
   "source": [
    "if load:\n",
    "    parameters_opt, parameters_guess, bounds = fits.load_optimization_results(experiment_name)\n",
    "else:\n",
    "    parameters_opt = minimize(theoretical_spectrum, parameters_guess, data_set, bounds=bounds, method = method).x\n",
    "    np.savez(os.getcwd() + opt_dir + experiment_name + '.npz', parameters_opt=parameters_opt,\n",
    "             parameters_guess = np.array(parameters_guess), bounds=np.array(bounds))"
   ],
   "execution_count": 287,
   "outputs": []
  },
  {
   "cell_type": "code",
   "id": "a0e003380ffae22d",
   "metadata": {
    "ExecuteTime": {
     "end_time": "2024-05-31T11:24:17.558355Z",
     "start_time": "2024-05-31T11:24:17.555919Z"
    }
   },
   "source": [
    "print('Guessed parameters \\n')\n",
    "[print(name + f' = {value:.3f}') for name, value in zip(parameter_names, parameters_guess)];\n",
    "print('\\n')\n",
    "print('Optimized parameters \\n')\n",
    "[print(name + f' = {value:.3f}') for name, value in zip(parameter_names, parameters_opt)];"
   ],
   "execution_count": 288,
   "outputs": []
  },
  {
   "cell_type": "markdown",
   "id": "2fc1736268fa8af5",
   "metadata": {},
   "source": [
    "## Plot fits and errors"
   ]
  },
  {
   "cell_type": "code",
   "id": "1fc3953a5d002085",
   "metadata": {
    "ExecuteTime": {
     "end_time": "2024-05-31T11:24:31.330639Z",
     "start_time": "2024-05-31T11:24:31.079306Z"
    }
   },
   "source": [
    "φ_ext_opt , ω_opt = theoretical_spectrum(parameters_opt, data_set, out='spectrum')\n",
    "\n",
    "fig, (ax1, ax2 )= plt.subplots(ncols=2, dpi=200, figsize=[8,4])\n",
    "ax1.plot(φ_ext_exp, ω_exp, marker='x', ls='', label='Resonator 1')\n",
    "ax1.plot(φ_ext_guess, ω_guess, '.r')\n",
    "ax1.plot(φ_ext_opt, ω_opt, 'g.', markersize=4)\n",
    "ax1.set_ylabel('Frequency (Hz)')\n",
    "ax1.set_xlabel('$\\phi_{ext}$ ($\\phi_0$)')\n",
    "\n",
    "ax2.plot(φ_ext_guess, np.abs(ω_guess - ω_exp), 'r.' , label = f'Mean error = {np.abs(ω_guess-ω_exp).mean()/1e6:.2f} MHz' )\n",
    "ax2.plot(φ_ext_opt, np.abs(ω_opt   - ω_exp), 'g.'   , label = f'Mean error = {np.abs(ω_opt-ω_exp).mean()/1e6:.2f} MHz'  )\n",
    "ax2.legend()"
   ],
   "execution_count": 289,
   "outputs": []
  },
  {
   "cell_type": "markdown",
   "id": "70bcbb89234c6f95",
   "metadata": {},
   "source": [
    "# Qubit 3 and Resonator 3"
   ]
  },
  {
   "cell_type": "code",
   "id": "f3f350347ec35a64",
   "metadata": {
    "ExecuteTime": {
     "end_time": "2024-05-31T11:21:45.478163Z",
     "start_time": "2024-05-31T11:21:45.476452Z"
    }
   },
   "source": [
    "experiment_name = 'resonator_and_qubit_3'"
   ],
   "execution_count": 273,
   "outputs": []
  },
  {
   "cell_type": "markdown",
   "id": "9294de7c5300c462",
   "metadata": {},
   "source": [
    "\n",
    "### Load spectral data and theoretical model"
   ]
  },
  {
   "cell_type": "code",
   "id": "c85221b7b270a6e9",
   "metadata": {
    "ExecuteTime": {
     "end_time": "2024-05-31T11:21:46.003778Z",
     "start_time": "2024-05-31T11:21:46.000969Z"
    }
   },
   "source": [
    "φ_ext_exp_F, ω_exp_F, I_exp_F, I0_F, Iss_F = fits.get_experimental_spectrum('qubit_3')\n",
    "φ_ext_exp_R, ω_exp_R, I_exp_R, I0_R, Iss_R = fits.get_experimental_spectrum('resonator_3')"
   ],
   "execution_count": 274,
   "outputs": []
  },
  {
   "cell_type": "code",
   "id": "37ebb2cb769151d1",
   "metadata": {
    "ExecuteTime": {
     "end_time": "2024-05-31T11:21:46.384675Z",
     "start_time": "2024-05-31T11:21:46.382782Z"
    }
   },
   "source": [
    "theoretical_spectrum = fits.get_theoretical_spectrum(experiment_name)"
   ],
   "execution_count": 275,
   "outputs": []
  },
  {
   "cell_type": "markdown",
   "id": "8a7ea9fe974df286",
   "metadata": {},
   "source": [
    "### Guess parameters and set bounds"
   ]
  },
  {
   "cell_type": "code",
   "id": "98c6f1822cc8610a",
   "metadata": {
    "ExecuteTime": {
     "end_time": "2024-05-31T11:21:46.952738Z",
     "start_time": "2024-05-31T11:21:46.948645Z"
    }
   },
   "source": [
    "CF_3, LF_3, EJ_3, I0_F_3, I_origin_F_3= np.load(os.getcwd() + opt_dir +  'qubit_3' + '.npz')['parameters_opt']\n",
    "C_int_33, CR_3, LR_3, I0_R_3, I_origin_R_3 = np.load(os.getcwd() + opt_dir +  'resonator_3' + '.npz')['parameters_opt']\n",
    "\n",
    "crossing_index_1_F = 22\n",
    "crossing_index_1_F = 24\n",
    "crossing_index_1_R = 10\n",
    "crossing_index_2_R = 8\n",
    "nmax_r = 5\n",
    "nmax_f = 15\n",
    "# C_int = 500\n",
    "\n",
    "data_set = ([I_exp_F, ω_exp_F, I_exp_R, ω_exp_R, Δ_3, crossing_index_1_F, crossing_index_1_R, crossing_index_2_R, nmax_r, nmax_f])\n",
    "parameters_guess = [CF_3, LF_3, EJ_3, I0_F_3, I_origin_F_3, C_int_33, CR_3, LR_3, I0_R_3, I_origin_R_3]\n",
    "\n",
    "parameter_names = ['CF_3', 'LF_3', 'EJ_3', 'I0_F_3', 'I_origin_F_3',\n",
    "                   'C_int_33', 'CR_3', 'LR_3', 'I0_R_3', 'I_origin_R_3']\n",
    "\n",
    "bounds = ((20,30), (20,30), (4,15), (I0_F_3*0.9, I0_F_3*1.1), (I_origin_F_3*1.1, I_origin_F_3*0.9),\n",
    "          (10, 1000), (2,25), (30,170), (I0_R_3*0.9, I0_R_3*1.1), (I_origin_R_3*1.1, I_origin_R_3*0.9))"
   ],
   "execution_count": 276,
   "outputs": []
  },
  {
   "cell_type": "code",
   "id": "228733ef60c7ce18",
   "metadata": {
    "ExecuteTime": {
     "end_time": "2024-05-31T11:21:48.123792Z",
     "start_time": "2024-05-31T11:21:47.737772Z"
    }
   },
   "source": [
    "φ_ext_F_guess, ωF_vs_φ_ext_guess, φ_ext_R_guess, ωR_vs_φ_ext_guess = theoretical_spectrum(parameters_guess, data_set, out='spectrum')\n",
    "\n",
    "fig, (ax1, ax2) = plt.subplots(ncols=2, figsize=[8,4], dpi=200)\n",
    "for ax in (ax1, ax2):\n",
    "    ax.plot(φ_ext_exp_F, ω_exp_F, 'x')\n",
    "    ax.plot(φ_ext_exp_R, ω_exp_R, 'x')\n",
    "    ax.plot(φ_ext_F_guess, ωF_vs_φ_ext_guess, '.r')\n",
    "    ax.plot(φ_ext_R_guess, ωR_vs_φ_ext_guess, '.r')\n",
    "    \n",
    "ax2.set_ylim([5.175e9,5.25e9])\n",
    "fig.tight_layout()"
   ],
   "execution_count": 277,
   "outputs": []
  },
  {
   "cell_type": "markdown",
   "id": "5569726ca6958477",
   "metadata": {},
   "source": [
    "### Optimize or load previous optimization"
   ]
  },
  {
   "cell_type": "code",
   "execution_count": 289,
   "id": "2ddcf07307e0465b",
   "metadata": {
    "ExecuteTime": {
     "end_time": "2024-05-29T12:59:49.819536Z",
     "start_time": "2024-05-29T12:59:49.817409Z"
    }
   },
   "source": [
    "data_set_path = os.path.join(os.getcwd() + opt_dir, experiment_name + '_data_set.pkl')\n",
    "parameters_path = os.getcwd() + opt_dir + experiment_name + '.npz'\n",
    "if load:\n",
    "    with open(data_set_path, 'rb') as f:\n",
    "        data_set = pickle.load(f)\n",
    "    parameters_opt, parameters_guess, bounds = fits.load_optimization_results(experiment_name)\n",
    "else:\n",
    "    with open(data_set_path, 'wb') as f:\n",
    "        pickle.dump(data_set, f)\n",
    "    parameters_opt = minimize(theoretical_spectrum, parameters_guess, data_set, bounds=bounds, method=method).x\n",
    "    np.savez(parameters_path, parameters_opt=parameters_opt,\n",
    "             parameters_guess = np.array(parameters_guess), bounds=np.array(bounds))"
   ],
   "outputs": []
  },
  {
   "cell_type": "code",
   "execution_count": 290,
   "id": "cdd7025dd155d81b",
   "metadata": {
    "ExecuteTime": {
     "end_time": "2024-05-29T12:59:49.821768Z",
     "start_time": "2024-05-29T12:59:49.819896Z"
    }
   },
   "source": [
    "print('Guessed parameters \\n')\n",
    "[print(name + f' = {value:.3f}') for name, value in zip(parameter_names, parameters_guess)];\n",
    "print('\\n')\n",
    "print('Optimized parameters \\n')\n",
    "[print(name + f' = {value:.3f}') for name, value in zip(parameter_names, parameters_opt)];"
   ],
   "outputs": []
  },
  {
   "cell_type": "markdown",
   "id": "18f975bda562f844",
   "metadata": {},
   "source": [
    "### Plot fits and errors"
   ]
  },
  {
   "cell_type": "code",
   "execution_count": 291,
   "id": "124eb0f643fe4d",
   "metadata": {
    "ExecuteTime": {
     "end_time": "2024-05-29T12:59:50.422068Z",
     "start_time": "2024-05-29T12:59:49.822135Z"
    }
   },
   "source": [
    "φ_ext_F_opt, ωF_vs_φ_ext_opt, φ_ext_R_opt, ωR_vs_φ_ext_opt = theoretical_spectrum(parameters_opt, data_set, out='spectrum')\n",
    "\n",
    "fig, (ax1, ax2, ax3) = plt.subplots(ncols=3, figsize=[4*3,4], dpi=200)\n",
    "for ax in (ax1, ax2):\n",
    "    ax.plot(φ_ext_exp_F     , ω_exp_F   , 'x')\n",
    "    ax.plot(φ_ext_exp_R     , ω_exp_R   , 'x')\n",
    "    ax.plot(φ_ext_F_guess   , ωF_vs_φ_ext_guess , '.r')\n",
    "    ax.plot(φ_ext_R_guess   , ωR_vs_φ_ext_guess , '.r')\n",
    "    ax.plot(φ_ext_F_opt     , ωF_vs_φ_ext_opt   , '.g')\n",
    "    ax.plot(φ_ext_R_opt     , ωR_vs_φ_ext_opt   , '.g')\n",
    "    ax.set_xlabel('$\\phi_{ext}$ ($\\phi_0$)')\n",
    "\n",
    "ax3.plot(φ_ext_exp_F, np.abs(ωF_vs_φ_ext_guess - ω_exp_F), 'r.', label = f'Mean error = {np.abs(ωF_vs_φ_ext_guess-ω_exp_F).mean()/1e6:.2f} MHz' )\n",
    "ax3.plot(φ_ext_exp_R, np.abs(ωR_vs_φ_ext_guess - ω_exp_R), 'r.', label = f'Mean error = {np.abs(ωR_vs_φ_ext_guess-ω_exp_R).mean()/1e6:.2f} MHz'  )\n",
    "ax3.plot(φ_ext_exp_F, np.abs(ωF_vs_φ_ext_opt   - ω_exp_F), 'g.', label = f'Mean error = {np.abs(ωF_vs_φ_ext_opt   - ω_exp_F).mean()/1e6:.2f} MHz' )\n",
    "ax3.plot(φ_ext_exp_R, np.abs(ωR_vs_φ_ext_opt   - ω_exp_R), 'g.', label = f'Mean error = {np.abs(ωR_vs_φ_ext_opt   - ω_exp_R).mean()/1e6:.2f} MHz'  )\n",
    "ax3.legend()\n",
    "ax1.set_title('Frequency (Hz)')\n",
    "ax2.set_title('Frequency (Hz)')\n",
    "ax3.set_title('Error (Hz)')\n",
    "ax2.set_ylim([5.175e9,5.25e9])\n"
   ],
   "outputs": []
  },
  {
   "cell_type": "markdown",
   "id": "b7cea935ea0890c6",
   "metadata": {},
   "source": [
    "# Qubit 1 - Qubit 2 avoided crossing while Qubit 3 is off-resonant"
   ]
  },
  {
   "cell_type": "code",
   "execution_count": 77,
   "id": "ffb2f458089481e",
   "metadata": {
    "ExecuteTime": {
     "end_time": "2024-05-30T15:58:29.509887900Z",
     "start_time": "2024-05-30T15:58:29.417178700Z"
    }
   },
   "source": [
    "experiment_name = 'qubit_1_qubit_2'"
   ],
   "outputs": []
  },
  {
   "cell_type": "markdown",
   "id": "1d2035012984b72f",
   "metadata": {},
   "source": [
    "\n",
    "### Load spectral data and theoretical model"
   ]
  },
  {
   "cell_type": "code",
   "execution_count": 78,
   "id": "e52938c5a9a9b9",
   "metadata": {
    "ExecuteTime": {
     "end_time": "2024-05-30T15:58:30.204079400Z",
     "start_time": "2024-05-30T15:58:30.122438800Z"
    }
   },
   "source": [
    "ω_exp, I_exp = fits.get_experimental_spectrum(experiment_name)"
   ],
   "outputs": []
  },
  {
   "cell_type": "code",
   "execution_count": 79,
   "id": "cb8455cc6dc88e8f",
   "metadata": {
    "ExecuteTime": {
     "end_time": "2024-05-30T15:58:30.820904800Z",
     "start_time": "2024-05-30T15:58:30.755299300Z"
    }
   },
   "source": [
    "theoretical_spectrum = fits.get_theoretical_spectrum(experiment_name)"
   ],
   "outputs": []
  },
  {
   "cell_type": "markdown",
   "id": "cb1994aa8645cff9",
   "metadata": {},
   "source": [
    "## Guess parameters and set bounds"
   ]
  },
  {
   "cell_type": "code",
   "execution_count": 145,
   "id": "7de7f19a4f03841f",
   "metadata": {
    "ExecuteTime": {
     "end_time": "2024-05-30T16:08:50.186401500Z",
     "start_time": "2024-05-30T16:08:49.957094400Z"
    }
   },
   "source": [
    "CF_1, LF_1, EJ_1, _, _= np.load(os.getcwd() + opt_dir +  'qubit_1' + '.npz')['parameters_opt']\n",
    "CF_2, LF_2, EJ_2, _, _= np.load(os.getcwd() + opt_dir +  'qubit_2' + '.npz')['parameters_opt']\n",
    "\n",
    "# Initial conditions 1\n",
    "# CF_1, LF_1, EJ_1 = (25.46, 28.11, 5.18)\n",
    "# LF_1-=0.0275\n",
    "\n",
    "# Initial conditions 2\n",
    "CF_1, LF_1, EJ_1 = (32.15, 22.06, 6.19)\n",
    "LF_1-=0.0675"
   ],
   "outputs": []
  },
  {
   "cell_type": "code",
   "execution_count": 146,
   "id": "e99a59a0a2a709ef",
   "metadata": {
    "ExecuteTime": {
     "end_time": "2024-05-30T16:08:50.729938800Z",
     "start_time": "2024-05-30T16:08:50.477835Z"
    }
   },
   "source": [
    "φ_ext_i = 0.517\n",
    "φ_ext_f = 0.52\n",
    "C_int_12 = 15000\n",
    "nmax_f = 15\n",
    "\n",
    "data_set = [CF_1, EJ_1, CF_2, LF_2, EJ_2, I_exp, ω_exp, nmax_f]\n",
    "parameters_guess = [C_int_12, φ_ext_i, φ_ext_f, LF_1]\n",
    "parameter_names =  ['C_int_12', 'φ_ext_i', 'φ_ext_f', 'LF_1']\n",
    "φ_ext_guess, ω_guess = theoretical_spectrum(parameters_guess, data_set, out='spectrum')\n",
    "bounds = fits.create_bounds(parameters_guess)"
   ],
   "outputs": []
  },
  {
   "cell_type": "code",
   "execution_count": 147,
   "id": "4b029dad60b48152",
   "metadata": {
    "ExecuteTime": {
     "end_time": "2024-05-30T16:08:51.227192400Z",
     "start_time": "2024-05-30T16:08:51.090156100Z"
    }
   },
   "source": [
    "fig, ax = plt.subplots(dpi=150)\n",
    "\n",
    "for i in range(len(ω_exp)):\n",
    "    ax.plot(φ_ext_guess[i], ω_exp[i]*1e9, 'xb')\n",
    "    ax.plot(φ_ext_guess[i], ω_guess[i]*1e9, '.g')"
   ],
   "outputs": []
  },
  {
   "cell_type": "markdown",
   "id": "537047de50e144f5",
   "metadata": {},
   "source": [
    "## Optimize or load previous optimization"
   ]
  },
  {
   "cell_type": "code",
   "execution_count": 148,
   "id": "1c70ccbdb94f08c3",
   "metadata": {
    "ExecuteTime": {
     "end_time": "2024-05-30T16:08:53.234939300Z",
     "start_time": "2024-05-30T16:08:53.144011600Z"
    }
   },
   "source": [
    "load = False\n",
    "method = 'SLSQP'"
   ],
   "outputs": []
  },
  {
   "cell_type": "code",
   "execution_count": 149,
   "id": "fe400688ae67edb1",
   "metadata": {
    "ExecuteTime": {
     "end_time": "2024-05-30T16:10:15.405295700Z",
     "start_time": "2024-05-30T16:08:53.752815200Z"
    }
   },
   "source": [
    "data_set_path = os.path.join(os.getcwd() + opt_dir, experiment_name + '_data_set.pkl')\n",
    "parameters_path = os.getcwd() + opt_dir + experiment_name + '.npz'\n",
    "if load:\n",
    "    with open(data_set_path, 'rb') as f:\n",
    "        data_set = pickle.load(f)\n",
    "    parameters_opt, parameters_guess, bounds = fits.load_optimization_results(experiment_name)\n",
    "else:\n",
    "    with open(data_set_path, 'wb') as f:\n",
    "        pickle.dump(data_set, f)\n",
    "    parameters_opt = minimize(theoretical_spectrum, parameters_guess, data_set, bounds=bounds, method='Nelder-Mead').x\n",
    "    np.savez(parameters_path, parameters_opt=parameters_opt,\n",
    "             parameters_guess = np.array(parameters_guess), bounds=np.array(bounds))"
   ],
   "outputs": []
  },
  {
   "cell_type": "markdown",
   "id": "a9ef8e019139af51",
   "metadata": {},
   "source": [
    "Optimization for initial conditions 2"
   ]
  },
  {
   "cell_type": "code",
   "execution_count": 150,
   "id": "6649d52187918977",
   "metadata": {
    "ExecuteTime": {
     "end_time": "2024-05-30T16:10:41.688609500Z",
     "start_time": "2024-05-30T16:10:41.635859700Z"
    }
   },
   "source": [
    "print('Guessed parameters \\n')\n",
    "[print(name + f' = {value:.3f}') for name, value in zip(parameter_names, parameters_guess)];\n",
    "print('\\n')\n",
    "print('Optimized parameters \\n')\n",
    "[print(name + f' = {value:.3f}') for name, value in zip(parameter_names, parameters_opt)];"
   ],
   "outputs": []
  },
  {
   "cell_type": "markdown",
   "id": "bf19466bd76b920b",
   "metadata": {},
   "source": [
    "Optimization for initial conditions 1"
   ]
  },
  {
   "cell_type": "code",
   "execution_count": 135,
   "id": "82c80915e82af83d",
   "metadata": {},
   "source": [
    "print('Guessed parameters \\n')\n",
    "[print(name + f' = {value:.3f}') for name, value in zip(parameter_names, parameters_guess)];\n",
    "print('\\n')\n",
    "print('Optimized parameters \\n')\n",
    "[print(name + f' = {value:.3f}') for name, value in zip(parameter_names, parameters_opt)];"
   ],
   "outputs": []
  },
  {
   "cell_type": "markdown",
   "id": "9e7b55a99678e2c9",
   "metadata": {},
   "source": [
    "## Plot fits and errors"
   ]
  },
  {
   "cell_type": "markdown",
   "id": "df90400675f5a3c8",
   "metadata": {},
   "source": [
    "Optimization for initial conditions 2"
   ]
  },
  {
   "cell_type": "code",
   "execution_count": 151,
   "id": "4e7cf3550df9a4ec",
   "metadata": {
    "ExecuteTime": {
     "end_time": "2024-05-30T16:12:01.746488300Z",
     "start_time": "2024-05-30T16:12:01.277785200Z"
    }
   },
   "source": [
    "φ_ext_opt, ω_opt = theoretical_spectrum(parameters_opt, data_set, out='spectrum')\n",
    "fig, (ax1, ax2) = plt.subplots(dpi=200, figsize = [8,3], ncols=2)\n",
    "\n",
    "for i in range(len(ω_exp)):\n",
    "    ax1.plot(φ_ext_opt[i], ω_exp[i]*1e9, 'x')\n",
    "    ax1.plot(φ_ext_opt[i], ω_opt[i]*1e9, '.g')\n",
    "ax1.set_ylabel('Energy')\n",
    "ax1.set_xlabel(r'$\\varphi_{ext,3}$')\n",
    "\n",
    "for i in range(len(ω_exp)):\n",
    "    ax2.plot(φ_ext_guess[i], np.abs(ω_guess[i]*1e9-ω_exp[i]*1e9), 'r.' , label = f'Mean error = {np.abs(ω_guess[i]*1e9-ω_exp[i]*1e9).mean()/1e6:.2f} MHz' )\n",
    "    ax2.plot(φ_ext_opt[i], np.abs(ω_opt[i]*1e9-ω_exp[i]*1e9), 'g.'   , label = f'Mean error = {np.abs(ω_opt[i]*1e9-ω_exp[i]*1e9).mean()/1e6:.2f} MHz'  )\n",
    "ax2.legend()\n",
    "ax2.set_xlabel(r'$\\varphi_{ext,3}$')\n",
    "\n",
    "fig.tight_layout()"
   ],
   "outputs": []
  },
  {
   "cell_type": "markdown",
   "id": "995258e3be5eec9d",
   "metadata": {},
   "source": [
    "Optimization for initial conditions 1"
   ]
  },
  {
   "cell_type": "code",
   "execution_count": 144,
   "id": "b6cf972d0ded94c8",
   "metadata": {
    "ExecuteTime": {
     "end_time": "2024-05-30T16:08:34.876543900Z",
     "start_time": "2024-05-30T16:08:34.584293500Z"
    }
   },
   "source": [],
   "outputs": []
  },
  {
   "cell_type": "markdown",
   "id": "42bae80b5b976b17",
   "metadata": {},
   "source": [
    "# Qubit 1 - Qubit 2 - Qubit 3\n",
    "Below, we fix q1 at its half-flux point around 3.7 GHz, move q2 on resonance, and then sweep q3 through 3.7 GHz."
   ]
  },
  {
   "cell_type": "code",
   "execution_count": 218,
   "id": "1695c99e4a3f487e",
   "metadata": {
    "ExecuteTime": {
     "end_time": "2024-05-31T10:18:26.189169Z",
     "start_time": "2024-05-31T10:18:26.186884Z"
    }
   },
   "source": [
    "experiment_name = 'qubit_1_qubit_2_qubit_3'\n",
    "method = 'SlSQP'\n",
    "load = False"
   ],
   "outputs": []
  },
  {
   "cell_type": "markdown",
   "id": "16b9062c6aab2f13",
   "metadata": {},
   "source": [
    "\n",
    "### Load spectral data and theoretical model"
   ]
  },
  {
   "cell_type": "code",
   "execution_count": 211,
   "id": "9fe15135e0ce8d14",
   "metadata": {
    "ExecuteTime": {
     "end_time": "2024-05-31T10:17:44.740081Z",
     "start_time": "2024-05-31T10:17:44.738130Z"
    }
   },
   "source": [
    "ω_exp, I_exp = fits.get_experimental_spectrum(experiment_name)"
   ],
   "outputs": []
  },
  {
   "cell_type": "code",
   "execution_count": 212,
   "id": "986963210653e665",
   "metadata": {
    "ExecuteTime": {
     "end_time": "2024-05-31T10:17:45.614435Z",
     "start_time": "2024-05-31T10:17:45.612169Z"
    }
   },
   "source": [
    "theoretical_spectrum = fits.get_theoretical_spectrum(experiment_name)"
   ],
   "outputs": []
  },
  {
   "cell_type": "markdown",
   "id": "e59c00c57f3dfc85",
   "metadata": {},
   "source": [
    "## Guess parameters and set bounds"
   ]
  },
  {
   "cell_type": "code",
   "execution_count": 213,
   "id": "6ad847a61de368ed",
   "metadata": {
    "ExecuteTime": {
     "end_time": "2024-05-31T10:17:49.070900Z",
     "start_time": "2024-05-31T10:17:49.067828Z"
    }
   },
   "source": [
    "CF_1, LF_1, EJ_1, _, _= np.load(os.getcwd() + opt_dir +  'qubit_1' + '.npz')['parameters_opt']\n",
    "CF_2, LF_2, EJ_2, _, _= np.load(os.getcwd() + opt_dir +  'qubit_2' + '.npz')['parameters_opt']\n",
    "CF_3, LF_3, EJ_3, _, _= np.load(os.getcwd() + opt_dir +  'qubit_3' + '.npz')['parameters_opt']\n",
    "LF_1-=0.065"
   ],
   "outputs": []
  },
  {
   "cell_type": "code",
   "id": "6119f4ffe7ecc525",
   "metadata": {
    "ExecuteTime": {
     "end_time": "2024-05-31T11:28:31.021907Z",
     "start_time": "2024-05-31T11:28:31.019235Z"
    }
   },
   "source": [
    "#This set of qubit_3 propperties fits way better than the other we have\n",
    "CF_3, LF_3, EJ_3 = (26.469686661169657, 30.0, 5.780487830155092)"
   ],
   "execution_count": 304,
   "outputs": []
  },
  {
   "cell_type": "code",
   "execution_count": 205,
   "id": "49f6907ed6ca8344",
   "metadata": {
    "ExecuteTime": {
     "end_time": "2024-05-31T10:11:53.214039Z",
     "start_time": "2024-05-31T10:11:53.211945Z"
    }
   },
   "source": [
    "# Initial conditions 1\n",
    "CF_1, LF_1, EJ_1 = (25.46, 28.11, 5.18)\n",
    "LF_1-=0.0275\n",
    "\n",
    "# Initial conditions 2\n",
    "# CF_1, LF_1, EJ_1 = (32.15, 22.06, 6.19)\n",
    "# LF_1-=0.07"
   ],
   "outputs": []
  },
  {
   "cell_type": "code",
   "id": "74ffecc2a74a86cb",
   "metadata": {
    "ExecuteTime": {
     "end_time": "2024-05-31T11:28:32.639271Z",
     "start_time": "2024-05-31T11:28:32.636553Z"
    }
   },
   "source": [
    "φ_ext_i = 5.47014884e-01\n",
    "φ_ext_f = 5.49545749e-01\n",
    "\n",
    "C_int_12 = 15099.771\n",
    "C_int_23 = 13140.112\n",
    "C_int_13 = 200000.000\n",
    "\n",
    "nmax_f = 8\n",
    "\n",
    "data_set = [I_exp, ω_exp, φ_ext_i, φ_ext_f, nmax_f]\n",
    "parameters_guess = [C_int_12, C_int_23, C_int_13, LF_1, CF_1, EJ_1, CF_2, LF_2, EJ_2, CF_3, LF_3, EJ_3]\n",
    "parameter_names =  ['C_int_12', 'C_int_23', 'C_int_13', 'LF_1', 'CF_1', 'EJ_1', 'CF_2', 'LF_2', 'EJ_2', 'CF_3', 'LF_3', 'EJ_3']\n",
    "bounds = fits.create_bounds(parameters_guess)"
   ],
   "execution_count": 305,
   "outputs": []
  },
  {
   "cell_type": "code",
   "id": "cbe024665d1abbfa",
   "metadata": {
    "ExecuteTime": {
     "end_time": "2024-05-31T11:28:33.847013Z",
     "start_time": "2024-05-31T11:28:33.833976Z"
    }
   },
   "source": [
    "φ_ext_guess, ω_guess = theoretical_spectrum(parameters_guess, data_set, out='spectrum')\n",
    "fig, ax = plt.subplots(dpi=150)\n",
    "\n",
    "for i in range(len(ω_exp)):\n",
    "    ax.plot(φ_ext_guess[i], ω_exp[i]*1e9, 'x')\n",
    "    ax.plot(φ_ext_guess[i], ω_guess[i]*1e9, '.')"
   ],
   "execution_count": 306,
   "outputs": []
  },
  {
   "cell_type": "markdown",
   "id": "b45d6eb4117ca237",
   "metadata": {},
   "source": [
    "## Optimize or load previous optimization"
   ]
  },
  {
   "cell_type": "code",
   "execution_count": 219,
   "id": "b3cb6d288e11fc6c",
   "metadata": {
    "ExecuteTime": {
     "end_time": "2024-05-31T10:20:17.210955Z",
     "start_time": "2024-05-31T10:18:29.480510Z"
    }
   },
   "source": [
    "data_set_path = os.path.join(os.getcwd() + opt_dir, experiment_name + '_data_set.pkl')\n",
    "parameters_path = os.getcwd() + opt_dir + experiment_name + '.npz'\n",
    "if load:\n",
    "    with open(data_set_path, 'rb') as f:\n",
    "        data_set = pickle.load(f)\n",
    "    parameters_opt, parameters_guess, bounds = fits.load_optimization_results(experiment_name)\n",
    "else:\n",
    "    with open(data_set_path, 'wb') as f:\n",
    "        pickle.dump(data_set, f)\n",
    "    parameters_opt = minimize(theoretical_spectrum, parameters_guess, data_set, bounds=bounds, method=method).x\n",
    "    np.savez(parameters_path, parameters_opt=parameters_opt,\n",
    "             parameters_guess = np.array(parameters_guess), bounds=np.array(bounds))"
   ],
   "outputs": []
  },
  {
   "cell_type": "code",
   "execution_count": 222,
   "id": "a09abdb024779370",
   "metadata": {
    "ExecuteTime": {
     "end_time": "2024-05-31T10:20:58.180658Z",
     "start_time": "2024-05-31T10:20:58.178176Z"
    }
   },
   "source": [
    "print('Guessed parameters \\n')\n",
    "[print(name + f' = {value:.3f}') for name, value in zip(parameter_names, parameters_guess)];\n",
    "print('\\n')\n",
    "print('Optimized parameters \\n')\n",
    "[print(name + f' = {value:.3f}') for name, value in zip(parameter_names, parameters_opt)];"
   ],
   "outputs": []
  },
  {
   "cell_type": "code",
   "execution_count": 223,
   "id": "52c2a54d7d152547",
   "metadata": {
    "ExecuteTime": {
     "end_time": "2024-05-31T10:21:17.694229Z",
     "start_time": "2024-05-31T10:21:17.072011Z"
    }
   },
   "source": [
    "φ_ext_opo, ω_opt = theoretical_spectrum(parameters_opt, data_set, out='spectrum')"
   ],
   "outputs": []
  },
  {
   "cell_type": "code",
   "execution_count": 224,
   "id": "ba2622fb1fd3228e",
   "metadata": {
    "ExecuteTime": {
     "end_time": "2024-05-31T10:21:18.293157Z",
     "start_time": "2024-05-31T10:21:18.226788Z"
    }
   },
   "source": [
    "fig, ax = plt.subplots(dpi=200, figsize = [4,3])\n",
    "\n",
    "for i in range(len(ω_exp)):\n",
    "    ax.plot(φ_ext_guess[i], ω_exp[i]*1e9, 'x')\n",
    "    # ax.plot(φ_ext_guess[i], ω_guess[i]*1e9, '.r')\n",
    "    ax.plot(φ_ext_opo[i], ω_opt[i]*1e9, '.g')\n",
    "ax.set_ylabel('Energy')\n",
    "ax.set_xlabel(r'$\\varphi_{ext,3}$')"
   ],
   "outputs": []
  },
  {
   "cell_type": "markdown",
   "id": "95ed2967a81d9ab3",
   "metadata": {},
   "source": [
    "# Estimate circuit capacitances from fits"
   ]
  },
  {
   "cell_type": "code",
   "execution_count": 314,
   "id": "6efd0e6a121bbb00",
   "metadata": {
    "ExecuteTime": {
     "end_time": "2024-05-29T12:59:53.930639Z",
     "start_time": "2024-05-29T12:59:53.926285Z"
    }
   },
   "source": [
    "CF_1, _, _, _, _= np.load(os.getcwd() + opt_dir +  'qubit_1' + '.npz')['parameters_opt']\n",
    "C_int_11, CR_1, _, _, _ = np.load(os.getcwd() + opt_dir +  'resonator_1' + '.npz')['parameters_opt']\n",
    "CF_2, _, _, _, _= np.load(os.getcwd() + opt_dir +  'qubit_2' + '.npz')['parameters_opt']\n",
    "CR_2, _, _, _, _ = np.load(os.getcwd() + opt_dir +  'resonator_2' + '.npz')['parameters_opt']\n",
    "CF_3, _, _, _, _= np.load(os.getcwd() + opt_dir +  'qubit_3' + '.npz')['parameters_opt']\n",
    "C_int_33, CR_3, _, _, _ = np.load(os.getcwd() + opt_dir +  'resonator_3' + '.npz')['parameters_opt']\n",
    "C_int_12, _, _, _ = np.load(os.getcwd() + opt_dir +  'qubit_1_qubit_2' + '.npz')['parameters_opt']\n",
    "C_int_12, C_int_23, C_int_13 = np.load(os.getcwd() + opt_dir +  'qubit_1_qubit_2_qubit_3' + '.npz')['parameters_opt'] "
   ],
   "outputs": []
  },
  {
   "cell_type": "code",
   "execution_count": 315,
   "id": "47766017988d5549",
   "metadata": {
    "ExecuteTime": {
     "end_time": "2024-05-29T12:59:53.933481Z",
     "start_time": "2024-05-29T12:59:53.931140Z"
    }
   },
   "source": [
    "C_inv = np.array([[CF_1**-1     ,C_int_11**-1   ,C_int_12**-1   ,C_int_12**-1   ,C_int_13**-1   ,C_int_13**-1   ],\n",
    "                  [C_int_11**-1 ,CR_1**-1       ,C_int_12**-1   ,C_int_12**-1   ,C_int_13**-1   ,C_int_13**-1   ],\n",
    "                  [C_int_12**-1 ,C_int_12**-1   ,CF_2**-1       ,0              ,C_int_23**-1   ,C_int_23**-1   ],\n",
    "                  [C_int_12**-1 ,C_int_12**-1   ,0              ,CR_2**-1       ,C_int_23**-1   ,C_int_23**-1   ],\n",
    "                  [C_int_13**-1 ,C_int_13**-1   ,C_int_23**-1   ,C_int_23**-1   ,CF_3**-1       ,C_int_33**-1   ],\n",
    "                  [C_int_13**-1 ,C_int_13**-1   ,C_int_23**-1   ,C_int_23**-1   ,C_int_33**-1   ,CR_3**-1       ]])"
   ],
   "outputs": []
  },
  {
   "cell_type": "code",
   "execution_count": 316,
   "id": "a193270e6ab2",
   "metadata": {
    "ExecuteTime": {
     "end_time": "2024-05-29T12:59:53.935532Z",
     "start_time": "2024-05-29T12:59:53.933955Z"
    }
   },
   "source": [
    "C_mat = np.linalg.inv(C_inv)"
   ],
   "outputs": []
  },
  {
   "cell_type": "code",
   "execution_count": 317,
   "id": "cd4ad5e725b6e808",
   "metadata": {
    "ExecuteTime": {
     "end_time": "2024-05-29T12:59:53.938098Z",
     "start_time": "2024-05-29T12:59:53.935963Z"
    }
   },
   "source": [
    "matrix = C_mat\n",
    "max_len = 0\n",
    "for row in matrix:\n",
    "    for num in row:\n",
    "        num_str = f\"{num:.4g}\"  # Using 4 significant digits for this example\n",
    "        if len(num_str) > max_len:\n",
    "            max_len = len(num_str)\n",
    "\n",
    "# Print the matrix with the numbers properly aligned\n",
    "for row in matrix:\n",
    "    for num in row:\n",
    "        print(f\"{num:>{max_len}.4g}\", end=' ')\n",
    "    print()  # New line at the end of each row"
   ],
   "outputs": []
  },
  {
   "cell_type": "code",
   "execution_count": 318,
   "id": "78bcf9644ce54666",
   "metadata": {
    "ExecuteTime": {
     "end_time": "2024-05-29T12:59:53.941079Z",
     "start_time": "2024-05-29T12:59:53.938549Z"
    }
   },
   "source": [
    "CF_1_single, _, _, _, _= np.load(os.getcwd() + opt_dir +  'qubit_1_single_1' + '.npz')['parameters_opt']\n",
    "CR_1_single, _, _, _, _ = np.load(os.getcwd() + opt_dir +  'resonator_1_single_1' + '.npz')['parameters_opt']\n",
    "CF_1_single, CR_1_single"
   ],
   "outputs": []
  },
  {
   "cell_type": "code",
   "execution_count": 319,
   "id": "e064a635508c7868",
   "metadata": {
    "ExecuteTime": {
     "end_time": "2024-05-29T12:59:53.943125Z",
     "start_time": "2024-05-29T12:59:53.941476Z"
    }
   },
   "source": [
    "CF_1 - CF_1_single"
   ],
   "outputs": []
  },
  {
   "cell_type": "code",
   "execution_count": 320,
   "id": "94b017be59a77132",
   "metadata": {
    "ExecuteTime": {
     "end_time": "2024-05-29T12:59:53.946758Z",
     "start_time": "2024-05-29T12:59:53.945102Z"
    }
   },
   "source": [
    "CR_1 - CR_1_single"
   ],
   "outputs": []
  },
  {
   "cell_type": "code",
   "execution_count": 321,
   "id": "ba8ae0b1d09ad09c",
   "metadata": {
    "ExecuteTime": {
     "end_time": "2024-05-29T12:59:53.948850Z",
     "start_time": "2024-05-29T12:59:53.947152Z"
    }
   },
   "source": [
    "C_12 = -C_mat[0,2]*4\n",
    "C_12"
   ],
   "outputs": []
  },
  {
   "cell_type": "code",
   "execution_count": 322,
   "id": "4290c1736b171273",
   "metadata": {
    "ExecuteTime": {
     "end_time": "2024-05-29T12:59:53.950885Z",
     "start_time": "2024-05-29T12:59:53.949232Z"
    }
   },
   "source": [
    "C_23 = -C_mat[2,4]*4\n",
    "C_23"
   ],
   "outputs": []
  },
  {
   "cell_type": "code",
   "execution_count": 323,
   "id": "9172cef0119acee6",
   "metadata": {
    "ExecuteTime": {
     "end_time": "2024-05-29T12:59:53.952482Z",
     "start_time": "2024-05-29T12:59:53.951262Z"
    }
   },
   "source": [
    "import sympy as sym"
   ],
   "outputs": []
  },
  {
   "cell_type": "code",
   "execution_count": 324,
   "id": "945dd74747f05f8e",
   "metadata": {
    "ExecuteTime": {
     "end_time": "2024-05-29T12:59:53.954284Z",
     "start_time": "2024-05-29T12:59:53.952859Z"
    }
   },
   "source": [
    "C_F_1, C_F_2, C_F_3, C_R_1, C_R_2, C_R_3, C_C = sym.symbols('C_F_1, C_F_2, C_F_3, C_R_1, C_R_2, C_R_3, C_C', real=True, positive=True, nonzero=True)"
   ],
   "outputs": []
  },
  {
   "cell_type": "code",
   "execution_count": 325,
   "id": "b1861863c633be94",
   "metadata": {
    "ExecuteTime": {
     "end_time": "2024-05-29T12:59:53.957528Z",
     "start_time": "2024-05-29T12:59:53.954674Z"
    }
   },
   "source": [
    "C_mat_sym = sym.Matrix([[C_F_1 + C_C/4  ,-C_C / 4       ,-C_C / 4       ,-C_C / 4       , 0             , 0             ],\n",
    "                        [-C_C / 4       , C_R_1 + C_C/4 ,-C_C / 4       ,-C_C / 4       , 0             ,0              ],\n",
    "                        [-C_C / 4       ,-C_C / 4       , C_F_2 + C_C/2 , 0             ,-C_C / 4       ,-C_C / 4       ],\n",
    "                        [-C_C / 4       ,-C_C / 4       , 0             , C_R_2 + C_C/2 ,-C_C / 4       ,-C_C / 4       ],\n",
    "                        [0              ,0              ,-C_C / 4       ,-C_C / 4       ,C_F_3 + C_C/4  ,-C_C / 4       ],\n",
    "                        [0              ,0              ,-C_C / 4       ,-C_C / 4       ,-C_C / 4       ,C_R_3 + C_C/4  ]])"
   ],
   "outputs": []
  },
  {
   "cell_type": "code",
   "execution_count": 326,
   "id": "f0bdc3e663ed375b",
   "metadata": {
    "ExecuteTime": {
     "end_time": "2024-05-29T12:59:53.963694Z",
     "start_time": "2024-05-29T12:59:53.957935Z"
    }
   },
   "source": [
    "C_inv_sym = C_mat ** -1\n",
    "sym.simplify(C_inv_sym)"
   ],
   "outputs": []
  },
  {
   "cell_type": "code",
   "execution_count": 326,
   "id": "b8caf2dd849c702f",
   "metadata": {
    "ExecuteTime": {
     "end_time": "2024-05-29T12:59:53.965119Z",
     "start_time": "2024-05-29T12:59:53.964090Z"
    }
   },
   "source": [
    "def hamiltonian_qubit_C_qubit_C_qubit(coupling_capacitances, params_1='load', params_2='load', params_3='load', nmax_r=5, nmax_f=10):\n",
    "    '''\n",
    "    params_1, params_2 and params_3 can be either the string 'load', in which case the corresponding parameters for each circuit are loaded from those of the fits,\n",
    "    or a list of parameters\n",
    "    '''\n",
    "    if params_1 == 'load':\n",
    "        CF_1, LF_1, EJ_1, _, _ = np.load(os.getcwd() + opt_dir +  'qubit_1' + '.npz')['parameters_opt']\n",
    "        C_int_11, CR_1, LR_1, _, _ = np.load(os.getcwd() + opt_dir +  'resonator_1' + '.npz')['parameters_opt']\n",
    "    "
   ],
   "outputs": []
  },
  {
   "cell_type": "markdown",
   "id": "a352f63679c74e0f",
   "metadata": {},
   "source": [
    "# Full spectrum"
   ]
  },
  {
   "cell_type": "code",
   "execution_count": 330,
   "id": "3114d6ae668c14da",
   "metadata": {
    "ExecuteTime": {
     "end_time": "2024-05-29T13:10:58.843452Z",
     "start_time": "2024-05-29T13:10:57.753407Z"
    }
   },
   "source": [
    "experiment_names = ['qubit_1', 'resonator_1', 'qubit_2', 'resonator_2', 'qubit_3', 'resonator_3']\n",
    "\n",
    "fig, ax = plt.subplots(dpi=250)\n",
    "\n",
    "for experiment_name in experiment_names:\n",
    "    _, ω_exp, _, _, _ = fits.get_experimental_spectrum(experiment_name)\n",
    "    theoretical_spectrum = fits.get_theoretical_spectrum(experiment_name)\n",
    "    parameters_path = os.getcwd() + opt_dir + experiment_name + '.npz'\n",
    "    parameters_opt = np.load(parameters_path)['parameters_opt'] \n",
    "    data_set_path = os.path.join(os.getcwd() + opt_dir, experiment_name + '_data_set.pkl')\n",
    "    with open(data_set_path, 'rb') as f:\n",
    "        data_set = pickle.load(f)\n",
    "        \n",
    "    φ_ext_opt , ω_opt = theoretical_spectrum(parameters_opt, data_set, out='spectrum')\n",
    "    ax.plot(φ_ext_opt, ω_exp, 'xb')\n",
    "    ax.plot(φ_ext_opt, ω_opt, '.g', markersize=4)\n",
    "   \n",
    "fig.tight_layout()"
   ],
   "outputs": []
  },
  {
   "cell_type": "code",
   "execution_count": null,
   "id": "81298e75ae337e51",
   "metadata": {},
   "source": [
    "    elif experiment_name == 'qubit_1_qubit_2':\n",
    "        def qubit_qubit_crossing_spectrum(parameters, data_set, out='error'):\n",
    "            C_int, φ_ext_i, φ_ext_f, LF_1 = parameters\n",
    "            CF_1, EJ_1, CF_2, LF_2, EJ_2, I_exp, ω_exp, indices_0, indices_1, nmax_f = data_set\n",
    "\n",
    "            qubit_1 = sq_ext.sq_fluxonium(C_F_eff=CF_1, L_F_eff=LF_1, EJ=EJ_1, nmax_f=nmax_f)\n",
    "            H_1 = qubit_1.hamiltonian()\n",
    "            Q_1 = qubit_1.charge_op(0)\n",
    "            I = qt.identity(H_1.shape[0])\n",
    "\n",
    "            qubit_2 = sq_ext.sq_fluxonium(C_F_eff=CF_2, L_F_eff=LF_2, EJ=EJ_2, nmax_f=nmax_f)\n",
    "            loop = qubit_2.loops[0]\n",
    "\n",
    "            I_unitary = (I_exp - I_exp.min()) / (I_exp.max() - I_exp.min())\n",
    "            Δ_φ_ext = φ_ext_f - φ_ext_i\n",
    "            φ_ext_values = I_unitary * Δ_φ_ext + φ_ext_i\n",
    "            ω_vs_φ_ext = np.zeros([len(φ_ext_values), 2])\n",
    "\n",
    "            for i, φ_ext in enumerate(φ_ext_values):\n",
    "                loop.set_flux(φ_ext)\n",
    "                H_2 = qubit_2.hamiltonian()\n",
    "                Q_2 = qubit_2.charge_op(0)\n",
    "                H = qt.tensor(H_1, I) + qt.tensor(I, H_2) + C_int ** -1 * fF ** -1 * qt.tensor(Q_1, Q_2)\n",
    "                ω_vs_φ_ext[i] = sq_ext.diag(H, 3, remove_ground=True)[0][1:]\n",
    "\n",
    "            if out == 'error':\n",
    "                sort_indices = np.argsort(φ_ext_values)\n",
    "                ω_vs_φ_ext_sorted = ω_vs_φ_ext[sort_indices]\n",
    "                ω_exp_sorted = ω_exp[sort_indices]\n",
    "                error_0 = np.sum(np.abs(ω_exp_sorted[indices_0] - ω_vs_φ_ext_sorted[indices_0, 0]))\n",
    "                error_1 = np.sum(np.abs(ω_exp_sorted[indices_1] - ω_vs_φ_ext_sorted[indices_1, 1]))\n",
    "                error = error_0 + error_1\n",
    "                print(error)\n",
    "                return error\n",
    "\n",
    "            elif out == 'spectrum':\n",
    "                return φ_ext_values, ω_vs_φ_ext * 1e9\n",
    "        return qubit_qubit_crossing_spectrum"
   ],
   "outputs": []
  }
 ],
 "metadata": {
  "kernelspec": {
   "display_name": "Python 3 (ipykernel)",
   "language": "python",
   "name": "python3"
  },
  "language_info": {
   "codemirror_mode": {
    "name": "ipython",
    "version": 3
   },
   "file_extension": ".py",
   "mimetype": "text/x-python",
   "name": "python",
   "nbconvert_exporter": "python",
   "pygments_lexer": "ipython3",
   "version": "3.8.18"
  }
 },
 "nbformat": 4,
 "nbformat_minor": 5
}
