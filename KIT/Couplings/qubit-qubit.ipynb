{
 "cells": [
  {
   "cell_type": "code",
   "execution_count": 1,
   "metadata": {
    "ExecuteTime": {
     "end_time": "2023-09-22T14:08:17.897103053Z",
     "start_time": "2023-09-22T14:08:17.481150757Z"
    }
   },
   "outputs": [
    {
     "ename": "NameError",
     "evalue": "name 'figs' is not defined",
     "output_type": "error",
     "traceback": [
      "\u001B[0;31m---------------------------------------------------------------------------\u001B[0m",
      "\u001B[0;31mNameError\u001B[0m                                 Traceback (most recent call last)",
      "Cell \u001B[0;32mIn[1], line 12\u001B[0m\n\u001B[1;32m     10\u001B[0m importlib\u001B[38;5;241m.\u001B[39mreload(sq_ext)\n\u001B[1;32m     11\u001B[0m importlib\u001B[38;5;241m.\u001B[39mreload(sq)\n\u001B[0;32m---> 12\u001B[0m importlib\u001B[38;5;241m.\u001B[39mreload(\u001B[43mfigs\u001B[49m)\n\u001B[1;32m     13\u001B[0m np\u001B[38;5;241m.\u001B[39mset_printoptions(linewidth\u001B[38;5;241m=\u001B[39m\u001B[38;5;241m500\u001B[39m)\n",
      "\u001B[0;31mNameError\u001B[0m: name 'figs' is not defined"
     ]
    }
   ],
   "source": [
    "import Modules.SQcircuit_extensions as sq_ext\n",
    "import SQcircuit as sq\n",
    "import qutip as qt\n",
    "import numpy as np\n",
    "import scipy as sp\n",
    "\n",
    "import importlib\n",
    "# %matplotlib ipympl\n",
    "\n",
    "importlib.reload(sq_ext)\n",
    "importlib.reload(sq)\n",
    "importlib.reload(figs)\n",
    "np.set_printoptions(linewidth=500)"
   ]
  },
  {
   "cell_type": "markdown",
   "metadata": {},
   "source": [
    "# Two qubits capacitively coupled\n",
    "\n",
    "This notebook studies the circuit proposed by KIT. It's lumped element model is:\n",
    "<img src='Other/Two qubits - antisymmetric C coupling.jpg' width='500'>\n"
   ]
  },
  {
   "cell_type": "markdown",
   "metadata": {},
   "source": [
    "### Circuit parameters"
   ]
  },
  {
   "cell_type": "code",
   "execution_count": 67,
   "metadata": {
    "ExecuteTime": {
     "end_time": "2023-09-22T12:35:48.132028944Z",
     "start_time": "2023-09-22T12:35:48.128148002Z"
    }
   },
   "outputs": [],
   "source": [
    "# Fundamental constants\n",
    "h    = 6.626e-34\n",
    "GHz = 1e9\n",
    "e0   = 1.602e-19\n",
    "Φ_0 = h/(2*e0)\n",
    "\n",
    "# Circuit parameters\n",
    "Csh = 15\n",
    "C   = 15\n",
    "Cg  = 10\n",
    "CJ  = 3\n",
    "Lq  = 25\n",
    "Lr  = 10\n",
    "Δ   = 0.1\n",
    "EJ  = 10.0\n",
    "l = Lq*(Lq+4*Lr) - 4*Δ**2\n",
    "\n",
    "Cc = 15"
   ]
  },
  {
   "cell_type": "markdown",
   "metadata": {},
   "source": [
    "### Circuit elements and loops"
   ]
  },
  {
   "cell_type": "code",
   "execution_count": 68,
   "metadata": {
    "ExecuteTime": {
     "end_time": "2023-09-22T12:35:49.181961446Z",
     "start_time": "2023-09-22T12:35:49.180990051Z"
    }
   },
   "outputs": [],
   "source": [
    "# Initialize loops\n",
    "loop_qubit = sq.Loop(0.5)\n",
    "loop1_qubit_C_qubit= sq.Loop(0.5)\n",
    "loop2_qubit_C_qubit = sq.Loop(0.5)\n",
    "\n",
    "# Circuit components\n",
    "C_01, C_02, C_12, L_03, L_31, L_23, JJ_12 = [[] for _ in range(7)]\n",
    "for loop in [loop_qubit, loop1_qubit_C_qubit, loop2_qubit_C_qubit]:\n",
    "    C_01 .append(sq.Capacitor(C,       'fF'))\n",
    "    C_02 .append(sq.Capacitor(C,       'fF'))\n",
    "    C_12 .append(sq.Capacitor(CJ+Csh,  'fF'))\n",
    "    L_03 .append(sq.Inductor(Lr,       'nH'))\n",
    "    L_31 .append(sq.Inductor(Lq/2 - Δ, 'nH',  loops=[loop]))\n",
    "    L_23 .append(sq.Inductor(Lq/2 + Δ, 'nH',  loops=[loop]))\n",
    "    JJ_12.append(sq.Junction(EJ,       'GHz', loops=[loop]))\n",
    "C_24 = sq.Capacitor(Cc, 'fF')\n"
   ]
  },
  {
   "cell_type": "markdown",
   "metadata": {},
   "source": [
    "## Single qubit"
   ]
  },
  {
   "cell_type": "code",
   "execution_count": 69,
   "outputs": [
    {
     "data": {
      "text/plain": "<IPython.core.display.Latex object>",
      "text/latex": "$\\hat{H} =~\\omega_1\\hat a^\\dagger_1\\hat a_1~+~\\omega_2\\hat a^\\dagger_2\\hat a_2~+~\\omega_3\\hat a^\\dagger_3\\hat a_3~~-~E_{J_{1}}\\cos(-\\hat{\\varphi}_1+\\hat{\\varphi}_2-\\hat{\\varphi}_3+\\varphi_{\\text{ext}_{1}})$"
     },
     "metadata": {},
     "output_type": "display_data"
    },
    {
     "data": {
      "text/plain": "<IPython.core.display.Latex object>",
      "text/latex": "$------------------------------------------------------------$"
     },
     "metadata": {},
     "output_type": "display_data"
    },
    {
     "data": {
      "text/plain": "<IPython.core.display.Latex object>",
      "text/latex": "$\\text{mode}~1:~~~~~~~~~~~\\text{harmonic}~~~~~~~~~~~\\hat{\\varphi}_1~=~\\varphi_{zp_{1}}(\\hat a_1+\\hat a^\\dagger_1)~~~~~~~~~~~\\omega_1/2\\pi~=~14816.81067~~~~~~~~~~~\\varphi_{zp_{1}}~=~3.82e-08$"
     },
     "metadata": {},
     "output_type": "display_data"
    },
    {
     "data": {
      "text/plain": "<IPython.core.display.Latex object>",
      "text/latex": "$\\text{mode}~2:~~~~~~~~~~~\\text{harmonic}~~~~~~~~~~~\\hat{\\varphi}_2~=~\\varphi_{zp_{2}}(\\hat a_2+\\hat a^\\dagger_2)~~~~~~~~~~~\\omega_2/2\\pi~=~7.20868~~~~~~~~~~~\\varphi_{zp_{2}}~=~1.20e-02$"
     },
     "metadata": {},
     "output_type": "display_data"
    },
    {
     "data": {
      "text/plain": "<IPython.core.display.Latex object>",
      "text/latex": "$\\text{mode}~3:~~~~~~~~~~~\\text{harmonic}~~~~~~~~~~~\\hat{\\varphi}_3~=~\\varphi_{zp_{3}}(\\hat a_3+\\hat a^\\dagger_3)~~~~~~~~~~~\\omega_3/2\\pi~=~6.30322~~~~~~~~~~~\\varphi_{zp_{3}}~=~6.94e-01$"
     },
     "metadata": {},
     "output_type": "display_data"
    },
    {
     "data": {
      "text/plain": "<IPython.core.display.Latex object>",
      "text/latex": "$------------------------------------------------------------$"
     },
     "metadata": {},
     "output_type": "display_data"
    },
    {
     "data": {
      "text/plain": "<IPython.core.display.Latex object>",
      "text/latex": "$\\text{parameters}:~~~~~~~~~~~E_{J_{1}}~=~10.0~~~~~~~~~~~$"
     },
     "metadata": {},
     "output_type": "display_data"
    },
    {
     "data": {
      "text/plain": "<IPython.core.display.Latex object>",
      "text/latex": "$\\text{loops}:~~~~~~~~~~~~~~~~~~~~\\varphi_{\\text{ext}_{1}}/2\\pi~=~0.5~~~~~~~~~~~$"
     },
     "metadata": {},
     "output_type": "display_data"
    }
   ],
   "source": [
    "elements_qubit = {\n",
    "    # qubit 1, nodes [0, 1, 2, 3]\n",
    "    (0, 3): [L_03[0]],\n",
    "    (0, 1): [C_01[0]],\n",
    "    (0, 2): [C_02[0]],\n",
    "    (3, 1): [L_31[0]],\n",
    "    (1, 2): [C_12[0], JJ_12[0]],\n",
    "    (2, 3): [L_23[0]],\n",
    "}\n",
    "qubit = sq.Circuit(elements_qubit)\n",
    "qubit.description()"
   ],
   "metadata": {
    "collapsed": false,
    "ExecuteTime": {
     "end_time": "2023-09-22T12:35:51.181960494Z",
     "start_time": "2023-09-22T12:35:51.134296616Z"
    }
   }
  },
  {
   "cell_type": "code",
   "execution_count": 71,
   "outputs": [
    {
     "data": {
      "text/plain": "<IPython.core.display.Latex object>",
      "text/latex": "$\\hat{H} =~\\omega_1\\hat a^\\dagger_1\\hat a_1~+~\\omega_2\\hat a^\\dagger_2\\hat a_2~+~\\omega_3\\hat a^\\dagger_3\\hat a_3~+~E_{C_{44}}(\\hat{n}_4-n_{g_{4}})^2~~-~E_{J_{1}}\\cos(-\\hat{\\varphi}_1-\\hat{\\varphi}_2+\\hat{\\varphi}_3+\\hat{\\varphi}_4+\\varphi_{\\text{ext}_{1}})$"
     },
     "metadata": {},
     "output_type": "display_data"
    },
    {
     "data": {
      "text/plain": "<IPython.core.display.Latex object>",
      "text/latex": "$------------------------------------------------------------$"
     },
     "metadata": {},
     "output_type": "display_data"
    },
    {
     "data": {
      "text/plain": "<IPython.core.display.Latex object>",
      "text/latex": "$\\text{mode}~1:~~~~~~~~~~~\\text{harmonic}~~~~~~~~~~~\\hat{\\varphi}_1~=~\\varphi_{zp_{1}}(\\hat a_1+\\hat a^\\dagger_1)~~~~~~~~~~~\\omega_1/2\\pi~=~14816.81067~~~~~~~~~~~\\varphi_{zp_{1}}~=~3.82e-08$"
     },
     "metadata": {},
     "output_type": "display_data"
    },
    {
     "data": {
      "text/plain": "<IPython.core.display.Latex object>",
      "text/latex": "$\\text{mode}~2:~~~~~~~~~~~\\text{harmonic}~~~~~~~~~~~\\hat{\\varphi}_2~=~\\varphi_{zp_{2}}(\\hat a_2+\\hat a^\\dagger_2)~~~~~~~~~~~\\omega_2/2\\pi~=~7.20868~~~~~~~~~~~\\varphi_{zp_{2}}~=~1.20e-02$"
     },
     "metadata": {},
     "output_type": "display_data"
    },
    {
     "data": {
      "text/plain": "<IPython.core.display.Latex object>",
      "text/latex": "$\\text{mode}~3:~~~~~~~~~~~\\text{harmonic}~~~~~~~~~~~\\hat{\\varphi}_3~=~\\varphi_{zp_{3}}(\\hat a_3+\\hat a^\\dagger_3)~~~~~~~~~~~\\omega_3/2\\pi~=~6.30322~~~~~~~~~~~\\varphi_{zp_{3}}~=~6.94e-01$"
     },
     "metadata": {},
     "output_type": "display_data"
    },
    {
     "data": {
      "text/plain": "<IPython.core.display.Latex object>",
      "text/latex": "$\\text{mode}~4:~~~~~~~~~~~\\text{charge}~~~~~~~~~~~~~~~~n_{g_{4}}~=~0$"
     },
     "metadata": {},
     "output_type": "display_data"
    },
    {
     "data": {
      "text/plain": "<IPython.core.display.Latex object>",
      "text/latex": "$------------------------------------------------------------$"
     },
     "metadata": {},
     "output_type": "display_data"
    },
    {
     "data": {
      "text/plain": "<IPython.core.display.Latex object>",
      "text/latex": "$\\text{parameters}:~~~~~~~~~~~E_{C_{44}}~=~0.0~~~~~~~~~~~E_{J_{1}}~=~10.0~~~~~~~~~~~$"
     },
     "metadata": {},
     "output_type": "display_data"
    },
    {
     "data": {
      "text/plain": "<IPython.core.display.Latex object>",
      "text/latex": "$\\text{loops}:~~~~~~~~~~~~~~~~~~~~\\varphi_{\\text{ext}_{1}}/2\\pi~=~0.5~~~~~~~~~~~$"
     },
     "metadata": {},
     "output_type": "display_data"
    }
   ],
   "source": [
    "elements_qubit = {\n",
    "    # With ground\n",
    "    (0, 1): [sq.Capacitor(Cg, 'fF')],\n",
    "    (1, 4): [L_03[0]],\n",
    "    (1, 2): [C_01[0]],\n",
    "    (1, 3): [C_02[0]],\n",
    "    (4, 2): [L_31[0]],\n",
    "    (2, 3): [C_12[0], JJ_12[0]],\n",
    "    (3, 4): [L_23[0]],\n",
    "}\n",
    "qubit = sq.Circuit(elements_qubit)\n",
    "qubit.description()"
   ],
   "metadata": {
    "collapsed": false,
    "ExecuteTime": {
     "end_time": "2023-09-22T12:36:09.189048074Z",
     "start_time": "2023-09-22T12:36:09.143933351Z"
    }
   }
  },
  {
   "cell_type": "code",
   "execution_count": 79,
   "outputs": [
    {
     "name": "stdout",
     "output_type": "stream",
     "text": [
      "Φ_1 = [ 0.00  0.00  0.00  1.00]\n",
      "Φ_2 = [-0.00 -1.00 -0.98 -0.61]\n",
      "Φ_3 = [ 0.00  0.93 -1.00 -0.02]\n",
      "Φ_4 = [-1.00 -1.00 -1.00 -1.00]\n"
     ]
    }
   ],
   "source": [
    "sq_ext.print_flux_transformation(qubit)"
   ],
   "metadata": {
    "collapsed": false,
    "ExecuteTime": {
     "end_time": "2023-09-22T12:51:58.455066961Z",
     "start_time": "2023-09-22T12:51:58.449277192Z"
    }
   }
  },
  {
   "cell_type": "code",
   "execution_count": 80,
   "outputs": [
    {
     "name": "stdout",
     "output_type": "stream",
     "text": [
      "q_1 = [-0.38 -0.31 -0.31  1.00]\n",
      "q_2 = [ 1.00 -0.52 -0.48  0.00]\n",
      "q_3 = [ 0.02  0.98 -1.00  0.00]\n",
      "q_4 = [-1.00  0.00  0.00  0.00]\n"
     ]
    }
   ],
   "source": [
    "sq_ext.print_charge_transformation(qubit)"
   ],
   "metadata": {
    "collapsed": false,
    "ExecuteTime": {
     "end_time": "2023-09-22T12:51:58.727220109Z",
     "start_time": "2023-09-22T12:51:58.723865790Z"
    }
   }
  },
  {
   "cell_type": "markdown",
   "source": [
    "### Renormalized single qubit"
   ],
   "metadata": {
    "collapsed": false
   }
  },
  {
   "cell_type": "code",
   "execution_count": 9,
   "outputs": [
    {
     "data": {
      "text/plain": "<IPython.core.display.Latex object>",
      "text/latex": "$\\hat{H} =~\\omega_1\\hat a^\\dagger_1\\hat a_1~+~\\omega_2\\hat a^\\dagger_2\\hat a_2~+~\\omega_3\\hat a^\\dagger_3\\hat a_3~~-~E_{J_{1}}\\cos(\\hat{\\varphi}_1+\\hat{\\varphi}_2-\\hat{\\varphi}_3+\\varphi_{\\text{ext}_{1}})$"
     },
     "metadata": {},
     "output_type": "display_data"
    },
    {
     "data": {
      "text/plain": "<IPython.core.display.Latex object>",
      "text/latex": "$------------------------------------------------------------$"
     },
     "metadata": {},
     "output_type": "display_data"
    },
    {
     "data": {
      "text/plain": "<IPython.core.display.Latex object>",
      "text/latex": "$\\text{mode}~1:~~~~~~~~~~~\\text{harmonic}~~~~~~~~~~~\\hat{\\varphi}_1~=~\\varphi_{zp_{1}}(\\hat a_1+\\hat a^\\dagger_1)~~~~~~~~~~~\\omega_1/2\\pi~=~14816.81066~~~~~~~~~~~\\varphi_{zp_{1}}~=~8.60e-08$"
     },
     "metadata": {},
     "output_type": "display_data"
    },
    {
     "data": {
      "text/plain": "<IPython.core.display.Latex object>",
      "text/latex": "$\\text{mode}~2:~~~~~~~~~~~\\text{harmonic}~~~~~~~~~~~\\hat{\\varphi}_2~=~\\varphi_{zp_{2}}(\\hat a_2+\\hat a^\\dagger_2)~~~~~~~~~~~\\omega_2/2\\pi~=~6.62453~~~~~~~~~~~\\varphi_{zp_{2}}~=~5.02e-01$"
     },
     "metadata": {},
     "output_type": "display_data"
    },
    {
     "data": {
      "text/plain": "<IPython.core.display.Latex object>",
      "text/latex": "$\\text{mode}~3:~~~~~~~~~~~\\text{harmonic}~~~~~~~~~~~\\hat{\\varphi}_3~=~\\varphi_{zp_{3}}(\\hat a_3+\\hat a^\\dagger_3)~~~~~~~~~~~\\omega_3/2\\pi~=~5.34452~~~~~~~~~~~\\varphi_{zp_{3}}~=~4.53e-01$"
     },
     "metadata": {},
     "output_type": "display_data"
    },
    {
     "data": {
      "text/plain": "<IPython.core.display.Latex object>",
      "text/latex": "$------------------------------------------------------------$"
     },
     "metadata": {},
     "output_type": "display_data"
    },
    {
     "data": {
      "text/plain": "<IPython.core.display.Latex object>",
      "text/latex": "$\\text{parameters}:~~~~~~~~~~~E_{J_{1}}~=~10.0~~~~~~~~~~~$"
     },
     "metadata": {},
     "output_type": "display_data"
    },
    {
     "data": {
      "text/plain": "<IPython.core.display.Latex object>",
      "text/latex": "$\\text{loops}:~~~~~~~~~~~~~~~~~~~~\\varphi_{\\text{ext}_{1}}/2\\pi~=~0.5~~~~~~~~~~~$"
     },
     "metadata": {},
     "output_type": "display_data"
    }
   ],
   "source": [
    "# Single qubit with an additional capacitance between the node where the coupling will occur and the ground.\n",
    "elements_renormalized_qubit = {\n",
    "    # qubit 1, nodes [0, 1, 2, 3]\n",
    "    (0, 3): [L_03[0]],\n",
    "    (0, 1): [C_01[0]],\n",
    "    (0, 2): [C_02[0], C_24],\n",
    "    (3, 1): [L_31[0]],\n",
    "    (1, 2): [C_12[0], JJ_12[0]],\n",
    "    (2, 3): [L_23[0]],\n",
    "}\n",
    "renormalized_qubit = sq.Circuit(elements_renormalized_qubit)\n",
    "renormalized_qubit.description()"
   ],
   "metadata": {
    "collapsed": false,
    "ExecuteTime": {
     "end_time": "2023-09-19T08:24:55.242298375Z",
     "start_time": "2023-09-19T08:24:55.197928838Z"
    }
   }
  },
  {
   "cell_type": "code",
   "execution_count": 8,
   "outputs": [
    {
     "name": "stdout",
     "output_type": "stream",
     "text": [
      "Mode 1 = [  0.0   0.0   1.0]\n",
      "Mode 2 = [  1.0   0.2   0.4]\n",
      "Mode 3 = [  0.2   1.0   0.4]\n"
     ]
    }
   ],
   "source": [
    "sq_ext.print_transformation(qubit)"
   ],
   "metadata": {
    "collapsed": false,
    "ExecuteTime": {
     "end_time": "2023-09-19T08:23:46.012606438Z",
     "start_time": "2023-09-19T08:23:46.010636455Z"
    }
   }
  },
  {
   "cell_type": "markdown",
   "metadata": {},
   "source": [
    "### Two uncoupled qubits"
   ]
  },
  {
   "cell_type": "code",
   "execution_count": 31,
   "metadata": {
    "ExecuteTime": {
     "end_time": "2023-09-15T13:22:33.794364Z",
     "start_time": "2023-09-15T13:22:33.763528400Z"
    }
   },
   "outputs": [
    {
     "data": {
      "text/latex": [
       "$\\hat{H} =~\\omega_1\\hat a^\\dagger_1\\hat a_1~+~\\omega_2\\hat a^\\dagger_2\\hat a_2~+~\\omega_3\\hat a^\\dagger_3\\hat a_3~+~\\omega_4\\hat a^\\dagger_4\\hat a_4~+~\\omega_5\\hat a^\\dagger_5\\hat a_5~+~\\omega_6\\hat a^\\dagger_6\\hat a_6~~-~E_{J_{1}}\\cos(-\\hat{\\varphi}_1+\\hat{\\varphi}_3-\\hat{\\varphi}_5+\\varphi_{\\text{ext}_{1}})~-~E_{J_{2}}\\cos(-\\hat{\\varphi}_2+\\hat{\\varphi}_4-\\hat{\\varphi}_6+\\varphi_{\\text{ext}_{2}})$"
      ],
      "text/plain": [
       "<IPython.core.display.Latex object>"
      ]
     },
     "metadata": {},
     "output_type": "display_data"
    },
    {
     "data": {
      "text/latex": [
       "$------------------------------------------------------------$"
      ],
      "text/plain": [
       "<IPython.core.display.Latex object>"
      ]
     },
     "metadata": {},
     "output_type": "display_data"
    },
    {
     "data": {
      "text/latex": [
       "$\\text{mode}~1:~~~~~~~~~~~\\text{harmonic}~~~~~~~~~~~\\hat{\\varphi}_1~=~\\varphi_{zp_{1}}(\\hat a_1+\\hat a^\\dagger_1)~~~~~~~~~~~\\omega_1/2\\pi~=~14816.81067~~~~~~~~~~~\\varphi_{zp_{1}}~=~3.82e-08$"
      ],
      "text/plain": [
       "<IPython.core.display.Latex object>"
      ]
     },
     "metadata": {},
     "output_type": "display_data"
    },
    {
     "data": {
      "text/latex": [
       "$\\text{mode}~2:~~~~~~~~~~~\\text{harmonic}~~~~~~~~~~~\\hat{\\varphi}_2~=~\\varphi_{zp_{2}}(\\hat a_2+\\hat a^\\dagger_2)~~~~~~~~~~~\\omega_2/2\\pi~=~14816.81067~~~~~~~~~~~\\varphi_{zp_{2}}~=~3.82e-08$"
      ],
      "text/plain": [
       "<IPython.core.display.Latex object>"
      ]
     },
     "metadata": {},
     "output_type": "display_data"
    },
    {
     "data": {
      "text/latex": [
       "$\\text{mode}~3:~~~~~~~~~~~\\text{harmonic}~~~~~~~~~~~\\hat{\\varphi}_3~=~\\varphi_{zp_{3}}(\\hat a_3+\\hat a^\\dagger_3)~~~~~~~~~~~\\omega_3/2\\pi~=~7.20868~~~~~~~~~~~\\varphi_{zp_{3}}~=~1.20e-02$"
      ],
      "text/plain": [
       "<IPython.core.display.Latex object>"
      ]
     },
     "metadata": {},
     "output_type": "display_data"
    },
    {
     "data": {
      "text/latex": [
       "$\\text{mode}~4:~~~~~~~~~~~\\text{harmonic}~~~~~~~~~~~\\hat{\\varphi}_4~=~\\varphi_{zp_{4}}(\\hat a_4+\\hat a^\\dagger_4)~~~~~~~~~~~\\omega_4/2\\pi~=~7.20868~~~~~~~~~~~\\varphi_{zp_{4}}~=~1.20e-02$"
      ],
      "text/plain": [
       "<IPython.core.display.Latex object>"
      ]
     },
     "metadata": {},
     "output_type": "display_data"
    },
    {
     "data": {
      "text/latex": [
       "$\\text{mode}~5:~~~~~~~~~~~\\text{harmonic}~~~~~~~~~~~\\hat{\\varphi}_5~=~\\varphi_{zp_{5}}(\\hat a_5+\\hat a^\\dagger_5)~~~~~~~~~~~\\omega_5/2\\pi~=~6.30322~~~~~~~~~~~\\varphi_{zp_{5}}~=~6.94e-01$"
      ],
      "text/plain": [
       "<IPython.core.display.Latex object>"
      ]
     },
     "metadata": {},
     "output_type": "display_data"
    },
    {
     "data": {
      "text/latex": [
       "$\\text{mode}~6:~~~~~~~~~~~\\text{harmonic}~~~~~~~~~~~\\hat{\\varphi}_6~=~\\varphi_{zp_{6}}(\\hat a_6+\\hat a^\\dagger_6)~~~~~~~~~~~\\omega_6/2\\pi~=~6.30322~~~~~~~~~~~\\varphi_{zp_{6}}~=~6.94e-01$"
      ],
      "text/plain": [
       "<IPython.core.display.Latex object>"
      ]
     },
     "metadata": {},
     "output_type": "display_data"
    },
    {
     "data": {
      "text/latex": [
       "$------------------------------------------------------------$"
      ],
      "text/plain": [
       "<IPython.core.display.Latex object>"
      ]
     },
     "metadata": {},
     "output_type": "display_data"
    },
    {
     "data": {
      "text/latex": [
       "$\\text{parameters}:~~~~~~~~~~~E_{J_{1}}~=~10.0~~~~~~~~~~~E_{J_{2}}~=~10.0~~~~~~~~~~~$"
      ],
      "text/plain": [
       "<IPython.core.display.Latex object>"
      ]
     },
     "metadata": {},
     "output_type": "display_data"
    },
    {
     "data": {
      "text/latex": [
       "$\\text{loops}:~~~~~~~~~~~~~~~~~~~~\\varphi_{\\text{ext}_{1}}/2\\pi~=~0.5~~~~~~~~~~~\\varphi_{\\text{ext}_{2}}/2\\pi~=~0.5~~~~~~~~~~~$"
      ],
      "text/plain": [
       "<IPython.core.display.Latex object>"
      ]
     },
     "metadata": {},
     "output_type": "display_data"
    }
   ],
   "source": [
    "# Two qubits \n",
    "elements_qubit_qubit = {\n",
    "    # qubit 1, nodes [0, 1, 2, 3]\n",
    "    (0, 3): [L_03[1]],\n",
    "    (0, 1): [C_01[1]],\n",
    "    (0, 2): [C_02[1]],\n",
    "    (3, 1): [L_31[1]],\n",
    "    (1, 2): [C_12[1], JJ_12[1]],\n",
    "    (2, 3): [L_23[1]],\n",
    "    # qubit 2, nodes [0, 4, 5, 6]\n",
    "    (0, 6): [L_03[2]],\n",
    "    (0, 4): [C_01[2]],\n",
    "    (0, 5): [C_02[2]],\n",
    "    (6, 4): [L_31[2]],\n",
    "    (4, 5): [C_12[2], JJ_12[2]],\n",
    "    (5, 6): [L_23[2]],\n",
    "}\n",
    "\n",
    "qubit_qubit = sq.Circuit(elements_qubit_qubit)\n",
    "qubit_qubit.description()"
   ]
  },
  {
   "cell_type": "code",
   "execution_count": 18,
   "metadata": {
    "ExecuteTime": {
     "end_time": "2023-09-15T13:22:34.125257400Z",
     "start_time": "2023-09-15T13:22:34.111662Z"
    }
   },
   "outputs": [
    {
     "name": "stdout",
     "output_type": "stream",
     "text": [
      "Mode 1 = [  0.0   0.0   1.0   0.0   0.0   0.0]\n",
      "Mode 2 = [  0.0   0.0   0.0   0.0   0.0   1.0]\n",
      "Mode 3 = [  1.0   1.0   0.6   0.0   0.0   0.0]\n",
      "Mode 4 = [  0.0   0.0   0.0   1.0   1.0   0.6]\n",
      "Mode 5 = [ -0.9   1.0   0.0   0.0   0.0   0.0]\n",
      "Mode 6 = [  0.0   0.0   0.0  -0.9   1.0   0.0]\n"
     ]
    }
   ],
   "source": [
    "sq_ext.print_transformation(qubit_qubit)"
   ]
  },
  {
   "cell_type": "code",
   "execution_count": 26,
   "metadata": {
    "ExecuteTime": {
     "end_time": "2023-09-15T13:26:44.307104400Z",
     "start_time": "2023-09-15T13:26:44.182966600Z"
    }
   },
   "outputs": [],
   "source": [
    "qubit_qubit.set_trunc_nums([1, 1, 3, 3, 7, 7])\n",
    "_ = qubit_qubit.diag(4)"
   ]
  },
  {
   "cell_type": "markdown",
   "metadata": {},
   "source": [
    "### Two qubits capacitively coupled"
   ]
  },
  {
   "cell_type": "code",
   "execution_count": 27,
   "metadata": {
    "ExecuteTime": {
     "end_time": "2023-09-15T13:26:45.122989700Z",
     "start_time": "2023-09-15T13:26:45.089885300Z"
    }
   },
   "outputs": [
    {
     "data": {
      "text/latex": [
       "$\\hat{H} =~\\omega_1\\hat a^\\dagger_1\\hat a_1~+~\\omega_2\\hat a^\\dagger_2\\hat a_2~+~\\omega_3\\hat a^\\dagger_3\\hat a_3~+~\\omega_4\\hat a^\\dagger_4\\hat a_4~+~\\omega_5\\hat a^\\dagger_5\\hat a_5~+~\\omega_6\\hat a^\\dagger_6\\hat a_6~~-~E_{J_{1}}\\cos(-0.94506\\hat{\\varphi}_1-0.637321\\hat{\\varphi}_2+\\hat{\\varphi}_3+\\hat{\\varphi}_4-0.934258\\hat{\\varphi}_5+\\hat{\\varphi}_6+\\varphi_{\\text{ext}_{1}})~-~E_{J_{2}}\\cos(-\\hat{\\varphi}_1-\\hat{\\varphi}_2+0.980205\\hat{\\varphi}_3+0.910916\\hat{\\varphi}_4+\\hat{\\varphi}_5+0.973581\\hat{\\varphi}_6+\\varphi_{\\text{ext}_{2}})$"
      ],
      "text/plain": [
       "<IPython.core.display.Latex object>"
      ]
     },
     "metadata": {},
     "output_type": "display_data"
    },
    {
     "data": {
      "text/latex": [
       "$------------------------------------------------------------$"
      ],
      "text/plain": [
       "<IPython.core.display.Latex object>"
      ]
     },
     "metadata": {},
     "output_type": "display_data"
    },
    {
     "data": {
      "text/latex": [
       "$\\text{mode}~1:~~~~~~~~~~~\\text{harmonic}~~~~~~~~~~~\\hat{\\varphi}_1~=~\\varphi_{zp_{1}}(\\hat a_1+\\hat a^\\dagger_1)~~~~~~~~~~~\\omega_1/2\\pi~=~14816.81067~~~~~~~~~~~\\varphi_{zp_{1}}~=~2.78e-08$"
      ],
      "text/plain": [
       "<IPython.core.display.Latex object>"
      ]
     },
     "metadata": {},
     "output_type": "display_data"
    },
    {
     "data": {
      "text/latex": [
       "$\\text{mode}~2:~~~~~~~~~~~\\text{harmonic}~~~~~~~~~~~\\hat{\\varphi}_2~=~\\varphi_{zp_{2}}(\\hat a_2+\\hat a^\\dagger_2)~~~~~~~~~~~\\omega_2/2\\pi~=~14816.81066~~~~~~~~~~~\\varphi_{zp_{2}}~=~1.49e-07$"
      ],
      "text/plain": [
       "<IPython.core.display.Latex object>"
      ]
     },
     "metadata": {},
     "output_type": "display_data"
    },
    {
     "data": {
      "text/latex": [
       "$\\text{mode}~3:~~~~~~~~~~~\\text{harmonic}~~~~~~~~~~~\\hat{\\varphi}_3~=~\\varphi_{zp_{3}}(\\hat a_3+\\hat a^\\dagger_3)~~~~~~~~~~~\\omega_3/2\\pi~=~7.20868~~~~~~~~~~~\\varphi_{zp_{3}}~=~8.54e-03$"
      ],
      "text/plain": [
       "<IPython.core.display.Latex object>"
      ]
     },
     "metadata": {},
     "output_type": "display_data"
    },
    {
     "data": {
      "text/latex": [
       "$\\text{mode}~4:~~~~~~~~~~~\\text{harmonic}~~~~~~~~~~~\\hat{\\varphi}_4~=~\\varphi_{zp_{4}}(\\hat a_4+\\hat a^\\dagger_4)~~~~~~~~~~~\\omega_4/2\\pi~=~6.5608~~~~~~~~~~~\\varphi_{zp_{4}}~=~4.12e-01$"
      ],
      "text/plain": [
       "<IPython.core.display.Latex object>"
      ]
     },
     "metadata": {},
     "output_type": "display_data"
    },
    {
     "data": {
      "text/latex": [
       "$\\text{mode}~5:~~~~~~~~~~~\\text{harmonic}~~~~~~~~~~~\\hat{\\varphi}_5~=~\\varphi_{zp_{5}}(\\hat a_5+\\hat a^\\dagger_5)~~~~~~~~~~~\\omega_5/2\\pi~=~6.30322~~~~~~~~~~~\\varphi_{zp_{5}}~=~5.07e-01$"
      ],
      "text/plain": [
       "<IPython.core.display.Latex object>"
      ]
     },
     "metadata": {},
     "output_type": "display_data"
    },
    {
     "data": {
      "text/latex": [
       "$\\text{mode}~6:~~~~~~~~~~~\\text{harmonic}~~~~~~~~~~~\\hat{\\varphi}_6~=~\\varphi_{zp_{6}}(\\hat a_6+\\hat a^\\dagger_6)~~~~~~~~~~~\\omega_6/2\\pi~=~4.5725~~~~~~~~~~~\\varphi_{zp_{6}}~=~2.61e-01$"
      ],
      "text/plain": [
       "<IPython.core.display.Latex object>"
      ]
     },
     "metadata": {},
     "output_type": "display_data"
    },
    {
     "data": {
      "text/latex": [
       "$------------------------------------------------------------$"
      ],
      "text/plain": [
       "<IPython.core.display.Latex object>"
      ]
     },
     "metadata": {},
     "output_type": "display_data"
    },
    {
     "data": {
      "text/latex": [
       "$\\text{parameters}:~~~~~~~~~~~E_{J_{1}}~=~10.0~~~~~~~~~~~E_{J_{2}}~=~10.0~~~~~~~~~~~$"
      ],
      "text/plain": [
       "<IPython.core.display.Latex object>"
      ]
     },
     "metadata": {},
     "output_type": "display_data"
    },
    {
     "data": {
      "text/latex": [
       "$\\text{loops}:~~~~~~~~~~~~~~~~~~~~\\varphi_{\\text{ext}_{1}}/2\\pi~=~0.5~~~~~~~~~~~\\varphi_{\\text{ext}_{2}}/2\\pi~=~0.5~~~~~~~~~~~$"
      ],
      "text/plain": [
       "<IPython.core.display.Latex object>"
      ]
     },
     "metadata": {},
     "output_type": "display_data"
    }
   ],
   "source": [
    "elements_qubit_C_qubit = {\n",
    "    # qubit 1, nodes [0, 1, 2, 3]\n",
    "    (0, 3): [L_03[1]],\n",
    "    (0, 1): [C_01[1]],\n",
    "    (0, 2): [C_02[1]],\n",
    "    (3, 1): [L_31[1]],\n",
    "    (1, 2): [C_12[1], JJ_12[1]],\n",
    "    (2, 3): [L_23[1]],\n",
    "    # qubit 2, nodes [0, 4, 5, 6]\n",
    "    (0, 6): [L_03[2]],\n",
    "    (0, 4): [C_01[2]],\n",
    "    (0, 5): [C_02[2]],\n",
    "    (6, 4): [L_31[2]],\n",
    "    (4, 5): [C_12[2], JJ_12[2]],\n",
    "    (5, 6): [L_23[2]],\n",
    "    # capacitive coupling\n",
    "    (2, 4): [C_24]\n",
    "}\n",
    "\n",
    "qubit_C_qubit = sq.Circuit(elements_qubit_C_qubit)\n",
    "qubit_C_qubit.description()"
   ]
  },
  {
   "cell_type": "code",
   "execution_count": 28,
   "metadata": {
    "ExecuteTime": {
     "end_time": "2023-09-15T13:26:45.573162700Z",
     "start_time": "2023-09-15T13:26:45.561194900Z"
    }
   },
   "outputs": [
    {
     "name": "stdout",
     "output_type": "stream",
     "text": [
      "Mode 1 = [  0.0   0.0   0.9   0.0   0.0   1.0]\n",
      "Mode 2 = [ -0.0  -0.0  -1.0   0.0   0.0   0.9]\n",
      "Mode 3 = [  1.0   1.0   0.6   1.0   1.0   0.6]\n",
      "Mode 4 = [  1.0   0.1   0.3  -0.2  -1.0  -0.4]\n",
      "Mode 5 = [ -0.9   0.9   0.0   0.9  -1.0  -0.0]\n",
      "Mode 6 = [ -0.3  -1.0  -0.4   1.0   0.3   0.4]\n"
     ]
    }
   ],
   "source": [
    "sq_ext.print_transformation(qubit_C_qubit)"
   ]
  },
  {
   "cell_type": "code",
   "execution_count": 29,
   "metadata": {
    "ExecuteTime": {
     "end_time": "2023-09-15T13:26:46.031781600Z",
     "start_time": "2023-09-15T13:26:45.841916Z"
    }
   },
   "outputs": [],
   "source": [
    "qubit_C_qubit.set_trunc_nums([1, 1, 3, 3, 7, 7])\n",
    "_ = qubit_C_qubit.diag(4)"
   ]
  },
  {
   "cell_type": "markdown",
   "metadata": {},
   "source": [
    "# SWT"
   ]
  },
  {
   "cell_type": "code",
   "execution_count": 16,
   "outputs": [],
   "source": [
    "qubit.set_trunc_nums([1, 3, 10])\n",
    "renormalized_qubit.set_trunc_nums([1, 3, 10])\n",
    "_ = qubit.diag(2)\n",
    "_ = renormalized_qubit.diag(2)"
   ],
   "metadata": {
    "collapsed": false,
    "ExecuteTime": {
     "end_time": "2023-09-19T08:32:31.359023304Z",
     "start_time": "2023-09-19T08:32:31.335720281Z"
    }
   }
  },
  {
   "cell_type": "code",
   "execution_count": 21,
   "outputs": [],
   "source": [
    "H_eff = sq_ext.H_eff_SWT_circuit(qubit, renormalized_qubit)"
   ],
   "metadata": {
    "collapsed": false,
    "ExecuteTime": {
     "end_time": "2023-09-19T08:33:30.497083812Z",
     "start_time": "2023-09-19T08:33:30.455932190Z"
    }
   }
  },
  {
   "cell_type": "code",
   "execution_count": 22,
   "outputs": [
    {
     "data": {
      "text/plain": "array([ 4.86687722e+01,  3.04173795e-15, -3.09388593e-14, -5.60252404e+00])"
     },
     "execution_count": 22,
     "metadata": {},
     "output_type": "execute_result"
    }
   ],
   "source": [
    "sq_ext.decomposition_in_pauli_2x2(H_eff /GHz)"
   ],
   "metadata": {
    "collapsed": false,
    "ExecuteTime": {
     "end_time": "2023-09-19T08:33:30.726540482Z",
     "start_time": "2023-09-19T08:33:30.723128033Z"
    }
   }
  },
  {
   "cell_type": "code",
   "execution_count": 42,
   "metadata": {
    "ExecuteTime": {
     "end_time": "2023-09-15T13:30:19.371855500Z",
     "start_time": "2023-09-15T13:30:19.362350Z"
    }
   },
   "outputs": [],
   "source": [
    "H_eff = sq_ext.H_eff_SWT_circuit(qubit_qubit, qubit_C_qubit)"
   ]
  },
  {
   "cell_type": "code",
   "execution_count": 43,
   "metadata": {
    "ExecuteTime": {
     "end_time": "2023-09-15T13:30:19.894767100Z",
     "start_time": "2023-09-15T13:30:19.879759600Z"
    }
   },
   "outputs": [
    {
     "name": "stdout",
     "output_type": "stream",
     "text": [
      " (98.84-0j)\t*\t I ⨂I \n",
      " (-6.27-0j)\t*\t I ⨂σz \n",
      " (-0.26+0j)\t*\t σx ⨂σx \n",
      " (-0.13+0j)\t*\t σx ⨂σy \n",
      " (0.13+0j)\t*\t σy ⨂σx \n",
      " (-1.15+0j)\t*\t σy ⨂σy \n",
      " (-6.46+0j)\t*\t σz ⨂I \n",
      " (0.34+0j)\t*\t σz ⨂σz \n"
     ]
    },
    {
     "data": {
      "text/plain": [
       "array([[98.84-0.j,  0.  -0.j, -0.  +0.j, -6.27-0.j],\n",
       "       [-0.  -0.j, -0.26+0.j, -0.13+0.j,  0.  +0.j],\n",
       "       [ 0.  +0.j,  0.13+0.j, -1.15+0.j, -0.  -0.j],\n",
       "       [-6.46+0.j, -0.  -0.j,  0.  +0.j,  0.34+0.j]])"
      ]
     },
     "execution_count": 43,
     "metadata": {},
     "output_type": "execute_result"
    }
   ],
   "source": [
    "sq_ext.decomposition_in_pauli_4x4(H_eff /GHz, 2, Print=True)"
   ]
  },
  {
   "cell_type": "code",
   "execution_count": null,
   "metadata": {},
   "outputs": [],
   "source": []
  }
 ],
 "metadata": {
  "kernelspec": {
   "display_name": "Python 3 (ipykernel)",
   "language": "python",
   "name": "python3"
  },
  "language_info": {
   "codemirror_mode": {
    "name": "ipython",
    "version": 3
   },
   "file_extension": ".py",
   "mimetype": "text/x-python",
   "name": "python",
   "nbconvert_exporter": "python",
   "pygments_lexer": "ipython3",
   "version": "3.8.18"
  }
 },
 "nbformat": 4,
 "nbformat_minor": 1
}
