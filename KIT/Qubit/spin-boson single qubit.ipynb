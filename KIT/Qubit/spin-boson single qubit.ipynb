{
 "cells": [
  {
   "cell_type": "code",
   "outputs": [],
   "source": [
    "import Modules.SQcircuit_extensions as sq_ext\n",
    "import Modules.figures as figs\n",
    "import SQcircuit as sq\n",
    "import numpy as np\n",
    "import scipy as sp\n",
    "import matplotlib.pyplot as plt\n",
    "import importlib\n",
    "import numpy as np\n",
    "from scipy.linalg import eigh\n",
    "\n",
    "%matplotlib ipympl\n",
    "plt.rcParams['text.usetex'] = False\n",
    "importlib.reload(sq_ext)\n",
    "importlib.reload(sq)\n",
    "importlib.reload(figs)\n",
    "# np.set_printoptions(linewidth=200, formatter={'float': '{:.3e}'.format})\n",
    "np.set_printoptions(linewidth=200, formatter={'float': '{:.6f}'.format})"
   ],
   "metadata": {
    "collapsed": false,
    "ExecuteTime": {
     "end_time": "2024-02-02T09:59:47.891196Z",
     "start_time": "2024-02-02T09:59:47.873738500Z"
    }
   },
   "id": "6b6e6312c5165dd2",
   "execution_count": 38
  },
  {
   "cell_type": "code",
   "outputs": [],
   "source": [
    "# Fundamental constants\n",
    "h    = 6.62607015e-34\n",
    "GHz  = 1e9\n",
    "fF = 1e-15\n",
    "nH = 1e-9\n",
    "e0   = 1.602176634e-19\n",
    "Φ_0 = h/(2*e0)"
   ],
   "metadata": {
    "collapsed": false,
    "ExecuteTime": {
     "end_time": "2024-02-02T09:59:48.108907700Z",
     "start_time": "2024-02-02T09:59:48.100841900Z"
    }
   },
   "id": "8e717aea3c090340",
   "execution_count": 39
  },
  {
   "cell_type": "code",
   "outputs": [],
   "source": [
    "# Circuit parameters\n",
    "Csh = 15\n",
    "C   = 15\n",
    "Cg  = 10\n",
    "CJ  = 3\n",
    "Lq  = 25\n",
    "Lr  = 10\n",
    "Δ   = 0.1\n",
    "EJ  = 10.0\n",
    "l = Lq*(Lq+4*Lr) - 4*Δ**2"
   ],
   "metadata": {
    "collapsed": false,
    "ExecuteTime": {
     "end_time": "2024-02-02T09:59:48.342492200Z",
     "start_time": "2024-02-02T09:59:48.335438900Z"
    }
   },
   "id": "8c788059812d14ed",
   "execution_count": 40
  },
  {
   "cell_type": "code",
   "outputs": [],
   "source": [
    "Cf = C/2 + Csh + CJ\n",
    "Lf = l/(Lq+4*Lr)\n",
    "C_f = Cf * 1e-15\n",
    "L_f = Lf * 1e-9\n",
    "Z_f = np.sqrt(L_f/C_f)\n",
    "\n",
    "L_r = l/Lq * 1e-9\n",
    "C_r = C/2 * 1e-15\n",
    "Z_r = np.sqrt(L_r/C_r)"
   ],
   "metadata": {
    "collapsed": false,
    "ExecuteTime": {
     "end_time": "2024-02-02T09:59:48.530027Z",
     "start_time": "2024-02-02T09:59:48.512197300Z"
    }
   },
   "id": "2137edf0f20e1315",
   "execution_count": 41
  },
  {
   "cell_type": "code",
   "outputs": [],
   "source": [
    "qubit = sq_ext.KIT_qubit()\n",
    "fluxonium = sq_ext.KIT_fluxonium()\n",
    "resonator = sq_ext.KIT_resonator()"
   ],
   "metadata": {
    "collapsed": false,
    "ExecuteTime": {
     "end_time": "2024-02-02T09:59:48.731785500Z",
     "start_time": "2024-02-02T09:59:48.689448600Z"
    }
   },
   "id": "792fb18ee9ebaaf7",
   "execution_count": 42
  },
  {
   "cell_type": "code",
   "outputs": [],
   "source": [
    "fluxonium.diag(2)\n",
    "resonator.diag(2);"
   ],
   "metadata": {
    "collapsed": false,
    "ExecuteTime": {
     "end_time": "2024-02-02T09:59:48.858465100Z",
     "start_time": "2024-02-02T09:59:48.835090200Z"
    }
   },
   "id": "f1eb735fede04523",
   "execution_count": 43
  },
  {
   "cell_type": "code",
   "execution_count": 50,
   "id": "1c0d4eec2a420adb",
   "metadata": {
    "collapsed": false,
    "ExecuteTime": {
     "end_time": "2024-02-02T10:03:53.937187300Z",
     "start_time": "2024-02-02T10:03:53.926802300Z"
    }
   },
   "outputs": [],
   "source": [
    "# Parameters\n",
    "ω_f = fluxonium.efreqs[1]-fluxonium.efreqs[0]  # Fluxonium frequency\n",
    "ω_r = resonator.efreqs[1]-resonator.efreqs[0]  # Resonator frequency\n",
    "\n",
    "Φ_f = fluxonium.flux_op(0)\n",
    "Φ_r = resonator.flux_op(0)\n",
    "g_Φ = 2 * Δ / (l * nH) * Φ_f[0,1] * Φ_r[0,1] / 2 / np.pi / GHz\n",
    "\n",
    "# Pauli matrices for the fluxonium\n",
    "sigma_x = np.array([[0, 1], [1, 0]])\n",
    "sigma_z = np.array([[1, 0], [0, -1]])\n",
    "\n",
    "sigma_p = np.array([[0, 1], [0, 0]])\n",
    "sigma_m = np.array([[0, 0], [1, 0]])\n",
    "\n",
    "# Resonator operators\n",
    "def create(n):\n",
    "    return np.diag(np.sqrt(np.arange(1, n)), -1)\n",
    "\n",
    "def annihilate(n):\n",
    "    return np.diag(np.sqrt(np.arange(1, n)), 1)\n",
    "\n",
    "# Number of states for the resonator (0, 1, 2)\n",
    "n = 3\n",
    "\n",
    "# Creation and annihilation operators for the resonator\n",
    "a = create(n)\n",
    "a_dagger = annihilate(n)\n",
    "\n",
    "# Identity matrices\n",
    "I_resonator = np.eye(n)\n",
    "I_fluxonium = np.eye(2)\n",
    "\n",
    "# Isolated Hamiltonians\n",
    "H_fluxonium = ω_f / 2 * sigma_z\n",
    "H_resonator = ω_r * np.dot(a_dagger, a)\n",
    "\n",
    "# Construct the system Hamiltonian with tensor products\n",
    "H_system = np.kron(H_resonator, I_fluxonium) + np.kron(I_resonator, H_fluxonium)\n",
    "H_interaction = g_Φ * np.kron(a + a_dagger, sigma_x)\n",
    "# H_interaction = g_Φ * (np.kron(a_dagger, sigma_p)+np.kron(a, sigma_m)) # Applying the RWA\n",
    "\n",
    "# Total Hamiltonian\n",
    "H_total = H_system + H_interaction"
   ]
  },
  {
   "cell_type": "code",
   "outputs": [
    {
     "data": {
      "text/plain": "array([0.000000, 1.945486, 7.208392, 9.153866, 14.416909, 16.362372])"
     },
     "execution_count": 51,
     "metadata": {},
     "output_type": "execute_result"
    }
   ],
   "source": [
    "# Find the eigenvalues (energy levels)\n",
    "energies = eigh(H_total, eigvals_only=True)\n",
    "\n",
    "energies-energies[0]"
   ],
   "metadata": {
    "collapsed": true,
    "ExecuteTime": {
     "end_time": "2024-02-02T10:03:54.815805Z",
     "start_time": "2024-02-02T10:03:54.807554100Z"
    }
   },
   "id": "initial_id",
   "execution_count": 51
  },
  {
   "cell_type": "code",
   "outputs": [
    {
     "data": {
      "text/plain": "array([0.000000, 1.945531, 7.208422, 9.153866, 14.416864, 16.362342])"
     },
     "execution_count": 49,
     "metadata": {},
     "output_type": "execute_result"
    }
   ],
   "source": [
    "# Find the eigenvalues (energy levels)\n",
    "energies = eigh(H_total, eigvals_only=True)\n",
    "\n",
    "energies-energies[0]"
   ],
   "metadata": {
    "collapsed": false
   },
   "id": "683c44db6f95556",
   "execution_count": 49
  },
  {
   "cell_type": "code",
   "outputs": [
    {
     "data": {
      "text/plain": "array([0.000000, 1.945361, 6.161082, 7.208451, 9.153874, 10.792941, 13.369603, 14.416902])"
     },
     "execution_count": 47,
     "metadata": {},
     "output_type": "execute_result"
    }
   ],
   "source": [
    "qubit.diag(8)\n",
    "qubit.efreqs-qubit.efreqs[0]"
   ],
   "metadata": {
    "collapsed": false,
    "ExecuteTime": {
     "end_time": "2024-02-02T10:00:06.485075900Z",
     "start_time": "2024-02-02T10:00:06.435543300Z"
    }
   },
   "id": "fb0ef7531ce0adf8",
   "execution_count": 47
  },
  {
   "cell_type": "code",
   "outputs": [],
   "source": [],
   "metadata": {
    "collapsed": false,
    "ExecuteTime": {
     "end_time": "2024-02-02T09:59:49.350543500Z",
     "start_time": "2024-02-02T09:59:49.334232200Z"
    }
   },
   "id": "1a26f60aa76f184f",
   "execution_count": 45
  },
  {
   "cell_type": "code",
   "outputs": [],
   "source": [],
   "metadata": {
    "collapsed": false
   },
   "id": "7f5d9f90738e6adb"
  }
 ],
 "metadata": {
  "kernelspec": {
   "display_name": "Python 3",
   "language": "python",
   "name": "python3"
  },
  "language_info": {
   "codemirror_mode": {
    "name": "ipython",
    "version": 2
   },
   "file_extension": ".py",
   "mimetype": "text/x-python",
   "name": "python",
   "nbconvert_exporter": "python",
   "pygments_lexer": "ipython2",
   "version": "2.7.6"
  }
 },
 "nbformat": 4,
 "nbformat_minor": 5
}
