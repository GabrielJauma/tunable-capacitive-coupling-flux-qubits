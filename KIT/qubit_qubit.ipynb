{
 "cells": [
  {
   "cell_type": "code",
   "execution_count": 1,
   "outputs": [
    {
     "data": {
      "text/plain": "<module 'SQcircuit' from 'C:\\\\Users\\\\gabri\\\\miniconda3\\\\envs\\\\tunable-cc-fq\\\\lib\\\\site-packages\\\\SQcircuit\\\\__init__.py'>"
     },
     "execution_count": 1,
     "metadata": {},
     "output_type": "execute_result"
    }
   ],
   "source": [
    "import Modules.SQcircuit_extensions as sq_ext\n",
    "import SQcircuit as sq\n",
    "import qutip as qt\n",
    "import numpy as np\n",
    "import scipy as sp\n",
    "import matplotlib.pyplot as plt\n",
    "import importlib\n",
    "\n",
    "%matplotlib ipympl\n",
    "\n",
    "importlib.reload(sq_ext)\n",
    "importlib.reload(sq)"
   ],
   "metadata": {
    "collapsed": false,
    "ExecuteTime": {
     "end_time": "2023-09-14T09:08:49.662278500Z",
     "start_time": "2023-09-14T09:08:48.936444700Z"
    }
   }
  },
  {
   "cell_type": "markdown",
   "source": [
    "# Single circuit\n",
    "\n",
    "This notebook studies the circuit proposed by KIT. It's lumped element model is:\n",
    "<img src='Other/Single qubit 4 nodes CC coupled to ground.jpg' width='500'>\n"
   ],
   "metadata": {
    "collapsed": false
   }
  },
  {
   "cell_type": "markdown",
   "source": [
    "## Define the circuit"
   ],
   "metadata": {
    "collapsed": false
   }
  },
  {
   "cell_type": "code",
   "execution_count": 2,
   "outputs": [
    {
     "ename": "LinAlgError",
     "evalue": "Last 2 dimensions of the array must be square",
     "output_type": "error",
     "traceback": [
      "\u001B[1;31m---------------------------------------------------------------------------\u001B[0m",
      "\u001B[1;31mLinAlgError\u001B[0m                               Traceback (most recent call last)",
      "Cell \u001B[1;32mIn[2], line 52\u001B[0m\n\u001B[0;32m     34\u001B[0m elements \u001B[38;5;241m=\u001B[39m {\n\u001B[0;32m     35\u001B[0m     \u001B[38;5;66;03m# qubit 1, nodes [0, 1, 2, 3]\u001B[39;00m\n\u001B[0;32m     36\u001B[0m     (\u001B[38;5;241m0\u001B[39m, \u001B[38;5;241m3\u001B[39m): [L_03[\u001B[38;5;241m0\u001B[39m]],\n\u001B[1;32m   (...)\u001B[0m\n\u001B[0;32m     48\u001B[0m     (\u001B[38;5;241m6\u001B[39m, \u001B[38;5;241m7\u001B[39m): [L_23[\u001B[38;5;241m1\u001B[39m]],\n\u001B[0;32m     49\u001B[0m }\n\u001B[0;32m     51\u001B[0m \u001B[38;5;66;03m# Create the circuits\u001B[39;00m\n\u001B[1;32m---> 52\u001B[0m circuit \u001B[38;5;241m=\u001B[39m \u001B[43msq\u001B[49m\u001B[38;5;241;43m.\u001B[39;49m\u001B[43mCircuit\u001B[49m\u001B[43m(\u001B[49m\u001B[43melements\u001B[49m\u001B[43m)\u001B[49m\n\u001B[0;32m     53\u001B[0m circuit\u001B[38;5;241m.\u001B[39mdescription()\n",
      "File \u001B[1;32m~\\miniconda3\\envs\\tunable-cc-fq\\lib\\site-packages\\SQcircuit\\circuit.py:120\u001B[0m, in \u001B[0;36mCircuit.__init__\u001B[1;34m(self, elements, flux_dist, random)\u001B[0m\n\u001B[0;32m    111\u001B[0m \u001B[38;5;28mself\u001B[39m\u001B[38;5;241m.\u001B[39mjunction_keys: List[\u001B[38;5;28mtuple\u001B[39m, Junction, \u001B[38;5;28mint\u001B[39m, \u001B[38;5;28mint\u001B[39m] \u001B[38;5;241m=\u001B[39m []\n\u001B[0;32m    113\u001B[0m \u001B[38;5;66;03m#######################################################################\u001B[39;00m\n\u001B[0;32m    114\u001B[0m \u001B[38;5;66;03m# Transformation related attributes\u001B[39;00m\n\u001B[0;32m    115\u001B[0m \u001B[38;5;66;03m#######################################################################\u001B[39;00m\n\u001B[0;32m    116\u001B[0m \n\u001B[0;32m    117\u001B[0m \u001B[38;5;66;03m# get the capacitance matrix, sudo-inductance matrix, W matrix,\u001B[39;00m\n\u001B[0;32m    118\u001B[0m \u001B[38;5;66;03m# and B matrix (loop distribution over inductive elements)\u001B[39;00m\n\u001B[0;32m    119\u001B[0m (\u001B[38;5;28mself\u001B[39m\u001B[38;5;241m.\u001B[39mC, \u001B[38;5;28mself\u001B[39m\u001B[38;5;241m.\u001B[39mL, \u001B[38;5;28mself\u001B[39m\u001B[38;5;241m.\u001B[39mW, \u001B[38;5;28mself\u001B[39m\u001B[38;5;241m.\u001B[39mB,\n\u001B[1;32m--> 120\u001B[0m  \u001B[38;5;28mself\u001B[39m\u001B[38;5;241m.\u001B[39mpartial_C, \u001B[38;5;28mself\u001B[39m\u001B[38;5;241m.\u001B[39mpartial_L) \u001B[38;5;241m=\u001B[39m \u001B[38;5;28;43mself\u001B[39;49m\u001B[38;5;241;43m.\u001B[39;49m\u001B[43m_get_LCWB\u001B[49m\u001B[43m(\u001B[49m\u001B[43m)\u001B[49m\n\u001B[0;32m    122\u001B[0m \u001B[38;5;66;03m# initialize the transformation matrix for charge and flux operators.\u001B[39;00m\n\u001B[0;32m    123\u001B[0m \u001B[38;5;28mself\u001B[39m\u001B[38;5;241m.\u001B[39mR, \u001B[38;5;28mself\u001B[39m\u001B[38;5;241m.\u001B[39mS \u001B[38;5;241m=\u001B[39m np\u001B[38;5;241m.\u001B[39meye(\u001B[38;5;28mself\u001B[39m\u001B[38;5;241m.\u001B[39mn), np\u001B[38;5;241m.\u001B[39meye(\u001B[38;5;28mself\u001B[39m\u001B[38;5;241m.\u001B[39mn)\n",
      "File \u001B[1;32m~\\miniconda3\\envs\\tunable-cc-fq\\lib\\site-packages\\SQcircuit\\circuit.py:411\u001B[0m, in \u001B[0;36mCircuit._get_LCWB\u001B[1;34m(self)\u001B[0m\n\u001B[0;32m    408\u001B[0m     \u001B[38;5;28;01mif\u001B[39;00m n_loops \u001B[38;5;241m!=\u001B[39m \u001B[38;5;241m0\u001B[39m:\n\u001B[0;32m    409\u001B[0m         Y \u001B[38;5;241m=\u001B[39m np\u001B[38;5;241m.\u001B[39mconcatenate((np\u001B[38;5;241m.\u001B[39mzeros((B_idx \u001B[38;5;241m-\u001B[39m n_loops, n_loops)),\n\u001B[0;32m    410\u001B[0m                             np\u001B[38;5;241m.\u001B[39meye(n_loops)), axis\u001B[38;5;241m=\u001B[39m\u001B[38;5;241m0\u001B[39m)\n\u001B[1;32m--> 411\u001B[0m         bMat \u001B[38;5;241m=\u001B[39m \u001B[43mnp\u001B[49m\u001B[38;5;241;43m.\u001B[39;49m\u001B[43mlinalg\u001B[49m\u001B[38;5;241;43m.\u001B[39;49m\u001B[43minv\u001B[49m\u001B[43m(\u001B[49m\u001B[43mX\u001B[49m\u001B[43m)\u001B[49m \u001B[38;5;241m@\u001B[39m Y\n\u001B[0;32m    412\u001B[0m         bMat \u001B[38;5;241m=\u001B[39m np\u001B[38;5;241m.\u001B[39maround(bMat, \u001B[38;5;241m5\u001B[39m)\n\u001B[0;32m    414\u001B[0m \u001B[38;5;28;01mexcept\u001B[39;00m \u001B[38;5;167;01mValueError\u001B[39;00m:\n",
      "File \u001B[1;32m<__array_function__ internals>:200\u001B[0m, in \u001B[0;36minv\u001B[1;34m(*args, **kwargs)\u001B[0m\n",
      "File \u001B[1;32m~\\miniconda3\\envs\\tunable-cc-fq\\lib\\site-packages\\numpy\\linalg\\linalg.py:533\u001B[0m, in \u001B[0;36minv\u001B[1;34m(a)\u001B[0m\n\u001B[0;32m    531\u001B[0m a, wrap \u001B[38;5;241m=\u001B[39m _makearray(a)\n\u001B[0;32m    532\u001B[0m _assert_stacked_2d(a)\n\u001B[1;32m--> 533\u001B[0m \u001B[43m_assert_stacked_square\u001B[49m\u001B[43m(\u001B[49m\u001B[43ma\u001B[49m\u001B[43m)\u001B[49m\n\u001B[0;32m    534\u001B[0m t, result_t \u001B[38;5;241m=\u001B[39m _commonType(a)\n\u001B[0;32m    536\u001B[0m signature \u001B[38;5;241m=\u001B[39m \u001B[38;5;124m'\u001B[39m\u001B[38;5;124mD->D\u001B[39m\u001B[38;5;124m'\u001B[39m \u001B[38;5;28;01mif\u001B[39;00m isComplexType(t) \u001B[38;5;28;01melse\u001B[39;00m \u001B[38;5;124m'\u001B[39m\u001B[38;5;124md->d\u001B[39m\u001B[38;5;124m'\u001B[39m\n",
      "File \u001B[1;32m~\\miniconda3\\envs\\tunable-cc-fq\\lib\\site-packages\\numpy\\linalg\\linalg.py:190\u001B[0m, in \u001B[0;36m_assert_stacked_square\u001B[1;34m(*arrays)\u001B[0m\n\u001B[0;32m    188\u001B[0m m, n \u001B[38;5;241m=\u001B[39m a\u001B[38;5;241m.\u001B[39mshape[\u001B[38;5;241m-\u001B[39m\u001B[38;5;241m2\u001B[39m:]\n\u001B[0;32m    189\u001B[0m \u001B[38;5;28;01mif\u001B[39;00m m \u001B[38;5;241m!=\u001B[39m n:\n\u001B[1;32m--> 190\u001B[0m     \u001B[38;5;28;01mraise\u001B[39;00m LinAlgError(\u001B[38;5;124m'\u001B[39m\u001B[38;5;124mLast 2 dimensions of the array must be square\u001B[39m\u001B[38;5;124m'\u001B[39m)\n",
      "\u001B[1;31mLinAlgError\u001B[0m: Last 2 dimensions of the array must be square"
     ]
    }
   ],
   "source": [
    "# Fundamental constants\n",
    "h    = 6.626e-34\n",
    "GHz = 1e9\n",
    "e0   = 1.602e-19\n",
    "Φ_0 = h/(2*e0)\n",
    "\n",
    "# Circuit parameters\n",
    "Csh = 15\n",
    "C   = 15\n",
    "Cg  = 10\n",
    "CJ  = 3\n",
    "Lq  = 25\n",
    "Lr  = 10\n",
    "Δ   = 0.1\n",
    "EJ  = 10.0\n",
    "l = Lq*(Lq+4*Lr) - 4*Δ**2\n",
    "\n",
    "# Initialize loop(s)\n",
    "loop1 = sq.Loop(0.0)\n",
    "loop2 = sq.Loop(0.0)\n",
    "\n",
    "# Circuit components\n",
    "C_01, C_02, C_12, L_03, L_31, L_23, JJ_12 = [[] for _ in range(7)]\n",
    "for loop in [loop1, loop2]:\n",
    "    C_01 .append(sq.Capacitor(C,       'fF'))\n",
    "    C_02 .append(sq.Capacitor(C,       'fF'))\n",
    "    C_12 .append(sq.Capacitor(CJ+Csh,  'fF'))\n",
    "    L_03 .append(sq.Inductor(Lr,       'nH'))\n",
    "    L_31 .append(sq.Inductor(Lq/2 - Δ, 'nH',  loops=[loop]))\n",
    "    L_23 .append(sq.Inductor(Lq/2 + Δ, 'nH',  loops=[loop]))\n",
    "    JJ_12.append(sq.Junction(EJ,       'GHz', loops=[loop]))\n",
    "\n",
    "# Define the circuit\n",
    "elements = {\n",
    "    # qubit 1, nodes [0, 1, 2, 3]\n",
    "    (0, 3): [L_03[0]],\n",
    "    (0, 1): [C_01[0]],\n",
    "    (0, 2): [C_02[0]],\n",
    "    (3, 1): [L_31[0]],\n",
    "    (1, 2): [C_12[0], JJ_12[0]],\n",
    "    (2, 3): [L_23[0]],\n",
    "    # qubit 2, nodes [4, 5, 6, 7]\n",
    "    (4, 7): [L_03[1]],\n",
    "    (4, 5): [C_01[1]],\n",
    "    (4, 6): [C_02[1]],\n",
    "    (7, 5): [L_31[1]],\n",
    "    (5, 6): [C_12[1], JJ_12[1]],\n",
    "    (6, 7): [L_23[1]],\n",
    "}\n",
    "\n",
    "# Create the circuits\n",
    "circuit = sq.Circuit(elements)\n",
    "circuit.description()"
   ],
   "metadata": {
    "collapsed": false,
    "ExecuteTime": {
     "end_time": "2023-09-14T09:08:55.330029600Z",
     "start_time": "2023-09-14T09:08:54.427579900Z"
    }
   }
  },
  {
   "cell_type": "code",
   "execution_count": 3,
   "outputs": [
    {
     "data": {
      "text/plain": "array([[ 1.72026745e+01,  5.05170698e+01, -4.83005796e-01],\n       [ 1.82026745e+01,  4.95170698e+01,  5.16994204e-01],\n       [ 3.45304159e+08,  3.07829540e+01,  7.99662964e-03]])"
     },
     "execution_count": 3,
     "metadata": {},
     "output_type": "execute_result"
    }
   ],
   "source": [
    "circuit.S"
   ],
   "metadata": {
    "collapsed": false,
    "ExecuteTime": {
     "end_time": "2023-09-14T08:36:25.752776300Z",
     "start_time": "2023-09-14T08:36:25.721439400Z"
    }
   }
  },
  {
   "cell_type": "markdown",
   "source": [
    "# Equivalent circuits"
   ],
   "metadata": {
    "collapsed": false
   }
  },
  {
   "cell_type": "code",
   "execution_count": 4,
   "outputs": [
    {
     "ename": "LinAlgError",
     "evalue": "Last 2 dimensions of the array must be square",
     "output_type": "error",
     "traceback": [
      "\u001B[1;31m---------------------------------------------------------------------------\u001B[0m",
      "\u001B[1;31mLinAlgError\u001B[0m                               Traceback (most recent call last)",
      "Cell \u001B[1;32mIn[4], line 8\u001B[0m\n\u001B[0;32m      1\u001B[0m loop_eq \u001B[38;5;241m=\u001B[39m sq\u001B[38;5;241m.\u001B[39mLoop(\u001B[38;5;241m0.0\u001B[39m)\n\u001B[0;32m      2\u001B[0m equiv_elements \u001B[38;5;241m=\u001B[39m {\n\u001B[0;32m      3\u001B[0m     (\u001B[38;5;241m0\u001B[39m, \u001B[38;5;241m1\u001B[39m): [sq\u001B[38;5;241m.\u001B[39mCapacitor(C\u001B[38;5;241m/\u001B[39m\u001B[38;5;241m2\u001B[39m, \u001B[38;5;124m'\u001B[39m\u001B[38;5;124mfF\u001B[39m\u001B[38;5;124m'\u001B[39m), sq\u001B[38;5;241m.\u001B[39mInductor ( \u001B[38;5;241m1\u001B[39m\u001B[38;5;241m/\u001B[39m(  \u001B[38;5;241m1\u001B[39m\u001B[38;5;241m/\u001B[39m(l\u001B[38;5;241m/\u001B[39mLq) \u001B[38;5;241m-\u001B[39m  \u001B[38;5;241m1\u001B[39m\u001B[38;5;241m/\u001B[39m(l\u001B[38;5;241m/\u001B[39mΔ)  ), \u001B[38;5;124m'\u001B[39m\u001B[38;5;124mnH\u001B[39m\u001B[38;5;124m'\u001B[39m)],\n\u001B[0;32m      4\u001B[0m     \u001B[38;5;66;03m# (1, 2): [sq.Capacitor (l/Δ, 'fF')],\u001B[39;00m\n\u001B[0;32m      5\u001B[0m     (\u001B[38;5;241m1\u001B[39m, \u001B[38;5;241m2\u001B[39m): [sq\u001B[38;5;241m.\u001B[39mInductor (l\u001B[38;5;241m/\u001B[39mΔ, \u001B[38;5;124m'\u001B[39m\u001B[38;5;124mnH\u001B[39m\u001B[38;5;124m'\u001B[39m)],\n\u001B[0;32m      6\u001B[0m     (\u001B[38;5;241m0\u001B[39m, \u001B[38;5;241m2\u001B[39m): [sq\u001B[38;5;241m.\u001B[39mCapacitor(C\u001B[38;5;241m/\u001B[39m\u001B[38;5;241m2\u001B[39m \u001B[38;5;241m+\u001B[39m Csh \u001B[38;5;241m+\u001B[39m CJ, \u001B[38;5;124m'\u001B[39m\u001B[38;5;124mfF\u001B[39m\u001B[38;5;124m'\u001B[39m), sq\u001B[38;5;241m.\u001B[39mInductor ( \u001B[38;5;241m1\u001B[39m\u001B[38;5;241m/\u001B[39m(  \u001B[38;5;241m1\u001B[39m\u001B[38;5;241m/\u001B[39m(l\u001B[38;5;241m/\u001B[39m(Lq\u001B[38;5;241m+\u001B[39m\u001B[38;5;241m4\u001B[39m\u001B[38;5;241m*\u001B[39mLr)) \u001B[38;5;241m-\u001B[39m  \u001B[38;5;241m1\u001B[39m\u001B[38;5;241m/\u001B[39m(l\u001B[38;5;241m/\u001B[39mΔ)  ), \u001B[38;5;124m'\u001B[39m\u001B[38;5;124mnH\u001B[39m\u001B[38;5;124m'\u001B[39m,  loops\u001B[38;5;241m=\u001B[39m[loop_eq]), sq\u001B[38;5;241m.\u001B[39mJunction (EJ, \u001B[38;5;124m'\u001B[39m\u001B[38;5;124mGHz\u001B[39m\u001B[38;5;124m'\u001B[39m, loops\u001B[38;5;241m=\u001B[39m[loop_eq])],\n\u001B[0;32m      7\u001B[0m }\n\u001B[1;32m----> 8\u001B[0m circ_equiv \u001B[38;5;241m=\u001B[39m \u001B[43msq\u001B[49m\u001B[38;5;241;43m.\u001B[39;49m\u001B[43mCircuit\u001B[49m\u001B[43m(\u001B[49m\u001B[43mequiv_elements\u001B[49m\u001B[43m \u001B[49m\u001B[43m)\u001B[49m\n\u001B[0;32m      9\u001B[0m circ_equiv\u001B[38;5;241m.\u001B[39mdescription()\n",
      "File \u001B[1;32m~\\miniconda3\\envs\\tunable-cc-fq\\lib\\site-packages\\SQcircuit\\circuit.py:120\u001B[0m, in \u001B[0;36mCircuit.__init__\u001B[1;34m(self, elements, flux_dist, random)\u001B[0m\n\u001B[0;32m    111\u001B[0m \u001B[38;5;28mself\u001B[39m\u001B[38;5;241m.\u001B[39mjunction_keys: List[\u001B[38;5;28mtuple\u001B[39m, Junction, \u001B[38;5;28mint\u001B[39m, \u001B[38;5;28mint\u001B[39m] \u001B[38;5;241m=\u001B[39m []\n\u001B[0;32m    113\u001B[0m \u001B[38;5;66;03m#######################################################################\u001B[39;00m\n\u001B[0;32m    114\u001B[0m \u001B[38;5;66;03m# Transformation related attributes\u001B[39;00m\n\u001B[0;32m    115\u001B[0m \u001B[38;5;66;03m#######################################################################\u001B[39;00m\n\u001B[0;32m    116\u001B[0m \n\u001B[0;32m    117\u001B[0m \u001B[38;5;66;03m# get the capacitance matrix, sudo-inductance matrix, W matrix,\u001B[39;00m\n\u001B[0;32m    118\u001B[0m \u001B[38;5;66;03m# and B matrix (loop distribution over inductive elements)\u001B[39;00m\n\u001B[0;32m    119\u001B[0m (\u001B[38;5;28mself\u001B[39m\u001B[38;5;241m.\u001B[39mC, \u001B[38;5;28mself\u001B[39m\u001B[38;5;241m.\u001B[39mL, \u001B[38;5;28mself\u001B[39m\u001B[38;5;241m.\u001B[39mW, \u001B[38;5;28mself\u001B[39m\u001B[38;5;241m.\u001B[39mB,\n\u001B[1;32m--> 120\u001B[0m  \u001B[38;5;28mself\u001B[39m\u001B[38;5;241m.\u001B[39mpartial_C, \u001B[38;5;28mself\u001B[39m\u001B[38;5;241m.\u001B[39mpartial_L) \u001B[38;5;241m=\u001B[39m \u001B[38;5;28;43mself\u001B[39;49m\u001B[38;5;241;43m.\u001B[39;49m\u001B[43m_get_LCWB\u001B[49m\u001B[43m(\u001B[49m\u001B[43m)\u001B[49m\n\u001B[0;32m    122\u001B[0m \u001B[38;5;66;03m# initialize the transformation matrix for charge and flux operators.\u001B[39;00m\n\u001B[0;32m    123\u001B[0m \u001B[38;5;28mself\u001B[39m\u001B[38;5;241m.\u001B[39mR, \u001B[38;5;28mself\u001B[39m\u001B[38;5;241m.\u001B[39mS \u001B[38;5;241m=\u001B[39m np\u001B[38;5;241m.\u001B[39meye(\u001B[38;5;28mself\u001B[39m\u001B[38;5;241m.\u001B[39mn), np\u001B[38;5;241m.\u001B[39meye(\u001B[38;5;28mself\u001B[39m\u001B[38;5;241m.\u001B[39mn)\n",
      "File \u001B[1;32m~\\miniconda3\\envs\\tunable-cc-fq\\lib\\site-packages\\SQcircuit\\circuit.py:411\u001B[0m, in \u001B[0;36mCircuit._get_LCWB\u001B[1;34m(self)\u001B[0m\n\u001B[0;32m    408\u001B[0m     \u001B[38;5;28;01mif\u001B[39;00m n_loops \u001B[38;5;241m!=\u001B[39m \u001B[38;5;241m0\u001B[39m:\n\u001B[0;32m    409\u001B[0m         Y \u001B[38;5;241m=\u001B[39m np\u001B[38;5;241m.\u001B[39mconcatenate((np\u001B[38;5;241m.\u001B[39mzeros((B_idx \u001B[38;5;241m-\u001B[39m n_loops, n_loops)),\n\u001B[0;32m    410\u001B[0m                             np\u001B[38;5;241m.\u001B[39meye(n_loops)), axis\u001B[38;5;241m=\u001B[39m\u001B[38;5;241m0\u001B[39m)\n\u001B[1;32m--> 411\u001B[0m         bMat \u001B[38;5;241m=\u001B[39m \u001B[43mnp\u001B[49m\u001B[38;5;241;43m.\u001B[39;49m\u001B[43mlinalg\u001B[49m\u001B[38;5;241;43m.\u001B[39;49m\u001B[43minv\u001B[49m\u001B[43m(\u001B[49m\u001B[43mX\u001B[49m\u001B[43m)\u001B[49m \u001B[38;5;241m@\u001B[39m Y\n\u001B[0;32m    412\u001B[0m         bMat \u001B[38;5;241m=\u001B[39m np\u001B[38;5;241m.\u001B[39maround(bMat, \u001B[38;5;241m5\u001B[39m)\n\u001B[0;32m    414\u001B[0m \u001B[38;5;28;01mexcept\u001B[39;00m \u001B[38;5;167;01mValueError\u001B[39;00m:\n",
      "File \u001B[1;32m<__array_function__ internals>:200\u001B[0m, in \u001B[0;36minv\u001B[1;34m(*args, **kwargs)\u001B[0m\n",
      "File \u001B[1;32m~\\miniconda3\\envs\\tunable-cc-fq\\lib\\site-packages\\numpy\\linalg\\linalg.py:533\u001B[0m, in \u001B[0;36minv\u001B[1;34m(a)\u001B[0m\n\u001B[0;32m    531\u001B[0m a, wrap \u001B[38;5;241m=\u001B[39m _makearray(a)\n\u001B[0;32m    532\u001B[0m _assert_stacked_2d(a)\n\u001B[1;32m--> 533\u001B[0m \u001B[43m_assert_stacked_square\u001B[49m\u001B[43m(\u001B[49m\u001B[43ma\u001B[49m\u001B[43m)\u001B[49m\n\u001B[0;32m    534\u001B[0m t, result_t \u001B[38;5;241m=\u001B[39m _commonType(a)\n\u001B[0;32m    536\u001B[0m signature \u001B[38;5;241m=\u001B[39m \u001B[38;5;124m'\u001B[39m\u001B[38;5;124mD->D\u001B[39m\u001B[38;5;124m'\u001B[39m \u001B[38;5;28;01mif\u001B[39;00m isComplexType(t) \u001B[38;5;28;01melse\u001B[39;00m \u001B[38;5;124m'\u001B[39m\u001B[38;5;124md->d\u001B[39m\u001B[38;5;124m'\u001B[39m\n",
      "File \u001B[1;32m~\\miniconda3\\envs\\tunable-cc-fq\\lib\\site-packages\\numpy\\linalg\\linalg.py:190\u001B[0m, in \u001B[0;36m_assert_stacked_square\u001B[1;34m(*arrays)\u001B[0m\n\u001B[0;32m    188\u001B[0m m, n \u001B[38;5;241m=\u001B[39m a\u001B[38;5;241m.\u001B[39mshape[\u001B[38;5;241m-\u001B[39m\u001B[38;5;241m2\u001B[39m:]\n\u001B[0;32m    189\u001B[0m \u001B[38;5;28;01mif\u001B[39;00m m \u001B[38;5;241m!=\u001B[39m n:\n\u001B[1;32m--> 190\u001B[0m     \u001B[38;5;28;01mraise\u001B[39;00m LinAlgError(\u001B[38;5;124m'\u001B[39m\u001B[38;5;124mLast 2 dimensions of the array must be square\u001B[39m\u001B[38;5;124m'\u001B[39m)\n",
      "\u001B[1;31mLinAlgError\u001B[0m: Last 2 dimensions of the array must be square"
     ]
    }
   ],
   "source": [
    "loop_eq = sq.Loop(0.0)\n",
    "equiv_elements = {\n",
    "    (0, 1): [sq.Capacitor(C/2, 'fF'), sq.Inductor ( 1/(  1/(l/Lq) -  1/(l/Δ)  ), 'nH')],\n",
    "    # (1, 2): [sq.Capacitor (l/Δ, 'fF')],\n",
    "    (1, 2): [sq.Inductor (l/Δ, 'nH')],\n",
    "    (0, 2): [sq.Capacitor(C/2 + Csh + CJ, 'fF'), sq.Inductor ( 1/(  1/(l/(Lq+4*Lr)) -  1/(l/Δ)  ), 'nH',  loops=[loop_eq]), sq.Junction (EJ, 'GHz', loops=[loop_eq])],\n",
    "}\n",
    "circ_equiv = sq.Circuit(equiv_elements )\n",
    "circ_equiv.description()"
   ],
   "metadata": {
    "collapsed": false,
    "ExecuteTime": {
     "end_time": "2023-09-14T08:36:26.698158100Z",
     "start_time": "2023-09-14T08:36:25.737048700Z"
    }
   }
  },
  {
   "cell_type": "code",
   "execution_count": 6,
   "outputs": [
    {
     "data": {
      "text/plain": "<IPython.core.display.Latex object>",
      "text/latex": "$\\hat{H} =~\\omega_1\\hat a^\\dagger_1\\hat a_1~$"
     },
     "metadata": {},
     "output_type": "display_data"
    },
    {
     "data": {
      "text/plain": "<IPython.core.display.Latex object>",
      "text/latex": "$------------------------------------------------------------$"
     },
     "metadata": {},
     "output_type": "display_data"
    },
    {
     "data": {
      "text/plain": "<IPython.core.display.Latex object>",
      "text/latex": "$\\text{mode}~1:~~~~~~~~~~~\\text{harmonic}~~~~~~~~~~~\\hat{\\varphi}_1~=~\\varphi_{zp_{1}}(\\hat a_1+\\hat a^\\dagger_1)~~~~~~~~~~~\\omega_1/2\\pi~=~7.20838~~~~~~~~~~~\\varphi_{zp_{1}}~=~1.20e+00$"
     },
     "metadata": {},
     "output_type": "display_data"
    },
    {
     "data": {
      "text/plain": "<IPython.core.display.Latex object>",
      "text/latex": "$------------------------------------------------------------$"
     },
     "metadata": {},
     "output_type": "display_data"
    },
    {
     "data": {
      "text/plain": "<IPython.core.display.Latex object>",
      "text/latex": "$\\text{parameters}:~~~~~~~~~~~$"
     },
     "metadata": {},
     "output_type": "display_data"
    },
    {
     "data": {
      "text/plain": "<IPython.core.display.Latex object>",
      "text/latex": "$\\text{loops}:~~~~~~~~~~~~~~~~~~~~$"
     },
     "metadata": {},
     "output_type": "display_data"
    }
   ],
   "source": [
    "resonator_elements = {\n",
    "    (0, 1): [sq.Capacitor(C/2, 'fF'), sq.Inductor (l/Lq, 'nH')],\n",
    "}\n",
    "resonator = sq.Circuit(resonator_elements )\n",
    "resonator.description()"
   ],
   "metadata": {
    "collapsed": false,
    "ExecuteTime": {
     "end_time": "2023-09-14T08:36:33.807103900Z",
     "start_time": "2023-09-14T08:36:33.760095200Z"
    }
   }
  },
  {
   "cell_type": "code",
   "execution_count": 7,
   "outputs": [
    {
     "data": {
      "text/plain": "<IPython.core.display.Latex object>",
      "text/latex": "$\\hat{H} =~\\omega_1\\hat a^\\dagger_1\\hat a_1~~-~E_{J_{1}}\\cos(\\hat{\\varphi}_1-\\varphi_{\\text{ext}_{1}})$"
     },
     "metadata": {},
     "output_type": "display_data"
    },
    {
     "data": {
      "text/plain": "<IPython.core.display.Latex object>",
      "text/latex": "$------------------------------------------------------------$"
     },
     "metadata": {},
     "output_type": "display_data"
    },
    {
     "data": {
      "text/plain": "<IPython.core.display.Latex object>",
      "text/latex": "$\\text{mode}~1:~~~~~~~~~~~\\text{harmonic}~~~~~~~~~~~\\hat{\\varphi}_1~=~\\varphi_{zp_{1}}(\\hat a_1+\\hat a^\\dagger_1)~~~~~~~~~~~\\omega_1/2\\pi~=~6.30355~~~~~~~~~~~\\varphi_{zp_{1}}~=~6.94e-01$"
     },
     "metadata": {},
     "output_type": "display_data"
    },
    {
     "data": {
      "text/plain": "<IPython.core.display.Latex object>",
      "text/latex": "$------------------------------------------------------------$"
     },
     "metadata": {},
     "output_type": "display_data"
    },
    {
     "data": {
      "text/plain": "<IPython.core.display.Latex object>",
      "text/latex": "$\\text{parameters}:~~~~~~~~~~~E_{J_{1}}~=~10.0~~~~~~~~~~~$"
     },
     "metadata": {},
     "output_type": "display_data"
    },
    {
     "data": {
      "text/plain": "<IPython.core.display.Latex object>",
      "text/latex": "$\\text{loops}:~~~~~~~~~~~~~~~~~~~~\\varphi_{\\text{ext}_{1}}/2\\pi~=~0.0~~~~~~~~~~~$"
     },
     "metadata": {},
     "output_type": "display_data"
    }
   ],
   "source": [
    "loop_fluxonium = sq.Loop(0.0)\n",
    "fluxonium_elements = {\n",
    "    (0, 1): [sq.Capacitor(C/2 + Csh + CJ, 'fF'), sq.Inductor(l/(Lq+4*Lr), 'nH', loops=[loop_fluxonium]), sq.Junction(EJ, 'GHz', loops=[loop_fluxonium])],\n",
    "    # (0, 1): [sq.Inductor(l/(Lq+4*Lr), 'nH', loops=[loop_fluxonium]), sq.Junction(EJ, 'GHz', loops=[loop_fluxonium], cap=sq.Capacitor(C/2 + Csh + CJ, 'fF'))],\n",
    "}\n",
    "fluxonium = sq.Circuit(fluxonium_elements)\n",
    "fluxonium.description()"
   ],
   "metadata": {
    "collapsed": false,
    "ExecuteTime": {
     "end_time": "2023-09-14T08:36:34.823281300Z",
     "start_time": "2023-09-14T08:36:34.788830600Z"
    }
   }
  },
  {
   "cell_type": "markdown",
   "source": [
    "# Fluxonium-Resonator internal coupling in KIT's qubit"
   ],
   "metadata": {
    "collapsed": false
   }
  },
  {
   "cell_type": "code",
   "execution_count": 67,
   "outputs": [],
   "source": [
    "fluxonium.set_trunc_nums([15])\n",
    "resonator.set_trunc_nums([15])\n",
    "loop_fluxonium.set_flux(0.5)\n",
    "loop.set_flux(0.5)\n",
    "_ = circuit.diag(2)\n",
    "_ = fluxonium.diag(2)\n",
    "_ = resonator.diag(2)"
   ],
   "metadata": {
    "collapsed": false,
    "ExecuteTime": {
     "end_time": "2023-09-14T08:45:30.002893100Z",
     "start_time": "2023-09-14T08:45:29.983687Z"
    }
   }
  },
  {
   "cell_type": "code",
   "execution_count": 68,
   "outputs": [
    {
     "data": {
      "text/plain": "1.945236802342495"
     },
     "execution_count": 68,
     "metadata": {},
     "output_type": "execute_result"
    }
   ],
   "source": [
    "Δ01 = (circuit.efreqs[1]-circuit.efreqs[0])\n",
    "Δ01"
   ],
   "metadata": {
    "collapsed": false,
    "ExecuteTime": {
     "end_time": "2023-09-14T08:45:30.779154300Z",
     "start_time": "2023-09-14T08:45:30.751919200Z"
    }
   }
  },
  {
   "cell_type": "code",
   "execution_count": 69,
   "outputs": [
    {
     "data": {
      "text/plain": "0.01006152950650398"
     },
     "execution_count": 69,
     "metadata": {},
     "output_type": "execute_result"
    }
   ],
   "source": [
    "L_c = l / Δ * 1e-9\n",
    "E_L_c = (Φ_0/(2*np.pi))**2/L_c / h / GHz\n",
    "E_L_c"
   ],
   "metadata": {
    "collapsed": false,
    "ExecuteTime": {
     "end_time": "2023-09-14T08:45:32.820976800Z",
     "start_time": "2023-09-14T08:45:32.805302900Z"
    }
   }
  },
  {
   "cell_type": "code",
   "execution_count": null,
   "outputs": [],
   "source": [],
   "metadata": {
    "collapsed": false
   }
  },
  {
   "cell_type": "code",
   "execution_count": 86,
   "outputs": [],
   "source": [
    "f=fluxonium.flux_op(0, basis='eig')"
   ],
   "metadata": {
    "collapsed": false,
    "ExecuteTime": {
     "end_time": "2023-09-14T08:48:33.296320Z",
     "start_time": "2023-09-14T08:48:33.264929900Z"
    }
   }
  },
  {
   "cell_type": "code",
   "execution_count": 70,
   "outputs": [
    {
     "data": {
      "text/plain": "38.41921243891213"
     },
     "execution_count": 70,
     "metadata": {},
     "output_type": "execute_result"
    }
   ],
   "source": [
    "Φ_f = sq_ext.decomposition_in_pauli_2x2(fluxonium.flux_op(0, basis='eig').__array__())[1]\n",
    "Φ_f"
   ],
   "metadata": {
    "collapsed": false,
    "ExecuteTime": {
     "end_time": "2023-09-14T08:45:33.390182800Z",
     "start_time": "2023-09-14T08:45:33.360034100Z"
    }
   }
  },
  {
   "cell_type": "code",
   "execution_count": 71,
   "outputs": [
    {
     "data": {
      "text/plain": "38.365883888557015"
     },
     "execution_count": 71,
     "metadata": {},
     "output_type": "execute_result"
    }
   ],
   "source": [
    "Φ_r = sq_ext.decomposition_in_pauli_2x2(resonator.flux_op(0, basis='eig').__array__())[1]\n",
    "Φ_r"
   ],
   "metadata": {
    "collapsed": false,
    "ExecuteTime": {
     "end_time": "2023-09-14T08:45:34.502455900Z",
     "start_time": "2023-09-14T08:45:34.472262600Z"
    }
   }
  },
  {
   "cell_type": "code",
   "execution_count": 72,
   "outputs": [
    {
     "data": {
      "text/plain": "0.0907091278259839"
     },
     "execution_count": 72,
     "metadata": {},
     "output_type": "execute_result"
    }
   ],
   "source": [
    "g = Φ_r * Φ_f / L_c / GHz\n",
    "g"
   ],
   "metadata": {
    "collapsed": false,
    "ExecuteTime": {
     "end_time": "2023-09-14T08:45:35.233864500Z",
     "start_time": "2023-09-14T08:45:35.218233100Z"
    }
   }
  },
  {
   "cell_type": "code",
   "execution_count": 73,
   "outputs": [
    {
     "data": {
      "text/plain": "4.66314063751776"
     },
     "execution_count": 73,
     "metadata": {},
     "output_type": "execute_result"
    }
   ],
   "source": [
    "g / Δ01 * 100"
   ],
   "metadata": {
    "collapsed": false,
    "ExecuteTime": {
     "end_time": "2023-09-14T08:45:35.886271200Z",
     "start_time": "2023-09-14T08:45:35.859554900Z"
    }
   }
  },
  {
   "cell_type": "markdown",
   "source": [
    "### Analytical approximation of the fluxonim-resonator coupling"
   ],
   "metadata": {
    "collapsed": false
   }
  },
  {
   "cell_type": "code",
   "execution_count": 74,
   "outputs": [
    {
     "data": {
      "text/plain": "1.527628932582084"
     },
     "execution_count": 74,
     "metadata": {},
     "output_type": "execute_result"
    }
   ],
   "source": [
    "dVdφ =  lambda φ: E_L_f*φ + E_J*np.sin(φ+np.pi)\n",
    "φ_min = sp.optimize.fsolve(dVdφ, 1)[0]\n",
    "φ_min"
   ],
   "metadata": {
    "collapsed": false,
    "ExecuteTime": {
     "end_time": "2023-09-14T08:45:37.589234500Z",
     "start_time": "2023-09-14T08:45:37.573216700Z"
    }
   }
  },
  {
   "cell_type": "code",
   "execution_count": 80,
   "outputs": [
    {
     "data": {
      "text/plain": "483.2352418014397"
     },
     "execution_count": 80,
     "metadata": {},
     "output_type": "execute_result"
    }
   ],
   "source": [
    "Φ_f_an =(Φ_0 / 2*np.pi) * φ_min\n",
    "Φ_f_an"
   ],
   "metadata": {
    "collapsed": false,
    "ExecuteTime": {
     "end_time": "2023-09-14T08:46:15.034409700Z",
     "start_time": "2023-09-14T08:46:15.018786400Z"
    }
   }
  },
  {
   "cell_type": "code",
   "execution_count": 81,
   "outputs": [
    {
     "data": {
      "text/plain": "38.36589667717856"
     },
     "execution_count": 81,
     "metadata": {},
     "output_type": "execute_result"
    }
   ],
   "source": [
    "Φ_r_an = np.sqrt(sq.hbar/2 * np.sqrt(L_r/C_r))\n",
    "Φ_r_an"
   ],
   "metadata": {
    "collapsed": false,
    "ExecuteTime": {
     "end_time": "2023-09-14T08:46:19.012577800Z",
     "start_time": "2023-09-14T08:46:18.986561900Z"
    }
   }
  },
  {
   "cell_type": "code",
   "execution_count": 83,
   "outputs": [
    {
     "data": {
      "text/plain": "1.1409359835150057"
     },
     "execution_count": 83,
     "metadata": {},
     "output_type": "execute_result"
    }
   ],
   "source": [
    "g_an = Φ_f_an * Φ_r_an /L_c / h /GHz\n",
    "g_an"
   ],
   "metadata": {
    "collapsed": false,
    "ExecuteTime": {
     "end_time": "2023-09-14T08:46:23.114487100Z",
     "start_time": "2023-09-14T08:46:23.082758900Z"
    }
   }
  },
  {
   "cell_type": "code",
   "execution_count": 84,
   "outputs": [
    {
     "data": {
      "text/plain": "58.652806801776855"
     },
     "execution_count": 84,
     "metadata": {},
     "output_type": "execute_result"
    }
   ],
   "source": [
    "g_an / Δ01 * 100"
   ],
   "metadata": {
    "collapsed": false,
    "ExecuteTime": {
     "end_time": "2023-09-14T08:46:24.149706300Z",
     "start_time": "2023-09-14T08:46:24.133969100Z"
    }
   }
  },
  {
   "cell_type": "code",
   "execution_count": null,
   "outputs": [],
   "source": [],
   "metadata": {
    "collapsed": false
   }
  }
 ],
 "metadata": {
  "kernelspec": {
   "display_name": "Python 3",
   "language": "python",
   "name": "python3"
  },
  "language_info": {
   "codemirror_mode": {
    "name": "ipython",
    "version": 2
   },
   "file_extension": ".py",
   "mimetype": "text/x-python",
   "name": "python",
   "nbconvert_exporter": "python",
   "pygments_lexer": "ipython2",
   "version": "2.7.6"
  }
 },
 "nbformat": 4,
 "nbformat_minor": 0
}
