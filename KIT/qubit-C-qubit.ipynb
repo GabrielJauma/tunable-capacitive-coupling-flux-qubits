{
 "cells": [
  {
   "cell_type": "code",
   "execution_count": 1,
   "outputs": [
    {
     "name": "stderr",
     "output_type": "stream",
     "text": [
      "Warning: Ignoring XDG_SESSION_TYPE=wayland on Gnome. Use QT_QPA_PLATFORM=wayland to run on Wayland anyway.\n"
     ]
    }
   ],
   "source": [
    "import Modules.SQcircuit_extensions as sq_ext\n",
    "import Modules.figures as figs\n",
    "import SQcircuit as sq\n",
    "import numpy as np\n",
    "import matplotlib.pyplot as plt\n",
    "import importlib\n",
    "import qutip as qt\n",
    "from IPython.display import HTML\n",
    "import scipy as sp\n",
    "\n",
    "%matplotlib ipympl\n",
    "plt.rcParams['text.usetex'] = False\n",
    "importlib.reload(sq_ext)\n",
    "importlib.reload(sq)\n",
    "importlib.reload(figs)\n",
    "np.set_printoptions(linewidth=300, formatter={'float': '{:.12f}'.format})\n",
    "# np.set_printoptions(linewidth=200, formatter={'float': '{:.1e}'.format})"
   ],
   "metadata": {
    "collapsed": false,
    "ExecuteTime": {
     "end_time": "2023-12-18T14:33:51.789486453Z",
     "start_time": "2023-12-18T14:33:51.480752388Z"
    }
   },
   "id": "2dc572c9a0671950"
  },
  {
   "cell_type": "code",
   "execution_count": 15,
   "outputs": [],
   "source": [
    "nmax_r = 10\n",
    "nmax_f = 10"
   ],
   "metadata": {
    "collapsed": false,
    "ExecuteTime": {
     "end_time": "2023-12-18T14:37:01.380932730Z",
     "start_time": "2023-12-18T14:37:01.334370591Z"
    }
   },
   "id": "3fb0929126c04476"
  },
  {
   "cell_type": "markdown",
   "source": [
    "# Symmetric Cc coupling\n",
    "That is, the inner nodes of the qubits are coupled with Cc, and the outer nodes of the qubits are coupled with Cc to their respective readout lines.\n",
    "As a result, the renormalization induced by Cc ensures that the qubit and resonator modes are still the symmetric and atisymmetric combination of the fluxes of the upper nodes."
   ],
   "metadata": {
    "collapsed": false
   },
   "id": "ea25895065fd4e4f"
  },
  {
   "cell_type": "code",
   "execution_count": 42,
   "outputs": [],
   "source": [
    "def hamiltonian_qubit_C_qubit(nmax_r, nmax_f, Cc, C = 15, CJ = 3, Csh= 15, Lq = 25, Lr = 10, Δ = 0.1 ):\n",
    "    \n",
    "    resonator = sq_ext.KIT_resonator(C = C+Cc,                     Lq = Lq, Lr = Lr, Δ = Δ)\n",
    "    fluxonium = sq_ext.KIT_fluxonium(C = C+Cc, CJ = CJ, Csh = Csh, Lq = Lq, Lr = Lr, Δ = Δ)\n",
    "    \n",
    "    resonator.set_trunc_nums([nmax_r])\n",
    "    fluxonium.set_trunc_nums([nmax_f])\n",
    "    \n",
    "    H_left  = sq_ext.hamiltonian_frc(fluxonium, resonator,Δ)\n",
    "    H_right = sq_ext.hamiltonian_frc(fluxonium, resonator,Δ)\n",
    "    \n",
    "    I_r       = qt.identity(nmax_r)\n",
    "    I_f       = qt.identity(nmax_f)\n",
    "    I_H_left  = qt.identity(H_left .dims[0])\n",
    "    I_H_right = qt.identity(H_right.dims[0])\n",
    "    \n",
    "    q_r = qt.tensor(resonator.charge_op(0), I_f)\n",
    "    q_f = qt.tensor(I_r, fluxonium.charge_op(0))\n",
    "    \n",
    "    if Cc>0:\n",
    "        H = qt.tensor(H_left, I_H_right) + qt.tensor(I_H_left, H_right) + 1/Cc * (qt.tensor(q_r,q_r) + \n",
    "                                                                                  qt.tensor(q_f,q_f) + \n",
    "                                                                                  qt.tensor(q_r,q_f) + \n",
    "                                                                                  qt.tensor(q_f,q_r) )\n",
    "    else:\n",
    "        H = qt.tensor(H_left, I_H_right) + qt.tensor(I_H_left, H_right)\n",
    "        \n",
    "    return H\n"
   ],
   "metadata": {
    "collapsed": false,
    "ExecuteTime": {
     "end_time": "2023-12-18T14:51:03.310757469Z",
     "start_time": "2023-12-18T14:51:03.268751704Z"
    }
   },
   "id": "fc89e2fe3ac18768"
  },
  {
   "cell_type": "code",
   "execution_count": 43,
   "outputs": [],
   "source": [
    "H_0 = hamiltonian_qubit_C_qubit(nmax_r, nmax_f, Cc=0)"
   ],
   "metadata": {
    "collapsed": false,
    "ExecuteTime": {
     "end_time": "2023-12-18T14:51:03.750806815Z",
     "start_time": "2023-12-18T14:51:03.704742427Z"
    }
   },
   "id": "82519311baaf4d5e"
  },
  {
   "cell_type": "code",
   "execution_count": 44,
   "outputs": [],
   "source": [
    "H   = hamiltonian_qubit_C_qubit(nmax_r, nmax_f, Cc=10)"
   ],
   "metadata": {
    "collapsed": false,
    "ExecuteTime": {
     "end_time": "2023-12-18T14:51:04.220776518Z",
     "start_time": "2023-12-18T14:51:04.180007632Z"
    }
   },
   "id": "6f1b7bd23a4be9c7"
  },
  {
   "cell_type": "code",
   "execution_count": 49,
   "outputs": [],
   "source": [
    "H_eff = sq_ext.H_eff_p1(H_0,H,6)"
   ],
   "metadata": {
    "collapsed": false,
    "ExecuteTime": {
     "end_time": "2023-12-18T14:52:31.984731508Z",
     "start_time": "2023-12-18T14:52:31.469842074Z"
    }
   },
   "id": "e1e2637e90d0f014"
  },
  {
   "cell_type": "code",
   "execution_count": 50,
   "outputs": [
    {
     "name": "stdout",
     "output_type": "stream",
     "text": [
      "[[13.744782144594 0.000000000000 0.000000000000 0.000000000000 0.183217369285 0.186479855297]\n",
      " [0.000000000000 15.371482510944 0.542945295295 0.000000000000 0.000000000000 0.000000000000]\n",
      " [0.000000000000 0.542945295295 15.371482510945 0.000000000000 0.000000000000 0.000000000000]\n",
      " [0.000000000000 0.000000000000 0.000000000000 16.998182877296 0.000000000000 0.000000000000]\n",
      " [0.183217369285 0.000000000000 0.000000000000 0.000000000000 19.106252355198 0.045040238116]\n",
      " [0.186479855297 0.000000000000 0.000000000000 0.000000000000 0.045040238116 19.106252355199]]\n"
     ]
    }
   ],
   "source": [
    "print(np.abs(H_eff))"
   ],
   "metadata": {
    "collapsed": false,
    "ExecuteTime": {
     "end_time": "2023-12-18T14:52:31.989916753Z",
     "start_time": "2023-12-18T14:52:31.985637877Z"
    }
   },
   "id": "934b04a5791bc4a1"
  },
  {
   "cell_type": "code",
   "execution_count": null,
   "outputs": [],
   "source": [],
   "metadata": {
    "collapsed": false
   },
   "id": "39d466c01ed7cf19"
  }
 ],
 "metadata": {
  "kernelspec": {
   "display_name": "Python 3",
   "language": "python",
   "name": "python3"
  },
  "language_info": {
   "codemirror_mode": {
    "name": "ipython",
    "version": 2
   },
   "file_extension": ".py",
   "mimetype": "text/x-python",
   "name": "python",
   "nbconvert_exporter": "python",
   "pygments_lexer": "ipython2",
   "version": "2.7.6"
  }
 },
 "nbformat": 4,
 "nbformat_minor": 5
}
