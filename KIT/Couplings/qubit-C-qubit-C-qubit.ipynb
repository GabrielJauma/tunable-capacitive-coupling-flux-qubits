{
 "cells": [
  {
   "cell_type": "code",
   "execution_count": 1,
   "outputs": [
    {
     "data": {
      "text/plain": "<module 'Modules.SQcircuit_extensions' from 'C:\\\\Users\\\\gabri\\\\PycharmProjects\\\\tunable-capacitive-coupling-flux-qubits\\\\Modules\\\\SQcircuit_extensions.py'>"
     },
     "execution_count": 1,
     "metadata": {},
     "output_type": "execute_result"
    }
   ],
   "source": [
    "import Modules.SQcircuit_extensions as sq_ext\n",
    "import SQcircuit as sq\n",
    "import numpy as np\n",
    "import matplotlib.pyplot as plt\n",
    "%matplotlib ipympl\n",
    "import importlib\n",
    "import qutip as qt\n",
    "importlib.reload(sq_ext)"
   ],
   "metadata": {
    "collapsed": false,
    "ExecuteTime": {
     "end_time": "2024-02-09T09:01:12.664060500Z",
     "start_time": "2024-02-09T09:01:10.707495700Z"
    }
   }
  },
  {
   "cell_type": "markdown",
   "source": [
    "## Define the circuit"
   ],
   "metadata": {
    "collapsed": false
   }
  },
  {
   "cell_type": "code",
   "execution_count": 2,
   "outputs": [],
   "source": [
    "# Circuit parameters\n",
    "Csh = 15\n",
    "C   = 15\n",
    "CJ  = 3\n",
    "Lq  = 25\n",
    "Lr  = 10\n",
    "Δ   = 0.1\n",
    "EJ  = 10.0"
   ],
   "metadata": {
    "collapsed": false,
    "ExecuteTime": {
     "end_time": "2024-02-09T09:01:12.683577400Z",
     "start_time": "2024-02-09T09:01:12.653272900Z"
    }
   }
  },
  {
   "cell_type": "code",
   "outputs": [],
   "source": [
    "Cc = 1e-1"
   ],
   "metadata": {
    "collapsed": false,
    "ExecuteTime": {
     "end_time": "2024-02-09T09:01:12.705341800Z",
     "start_time": "2024-02-09T09:01:12.669426100Z"
    }
   },
   "execution_count": 3
  },
  {
   "cell_type": "code",
   "outputs": [],
   "source": [
    "nmax_r = 3\n",
    "nmax_f = 8"
   ],
   "metadata": {
    "collapsed": false,
    "ExecuteTime": {
     "end_time": "2024-02-09T09:01:12.705341800Z",
     "start_time": "2024-02-09T09:01:12.686779Z"
    }
   },
   "execution_count": 4
  },
  {
   "cell_type": "code",
   "outputs": [
    {
     "data": {
      "text/plain": "<IPython.core.display.Latex object>",
      "text/latex": "$\\hat{H} =~\\omega_1\\hat a^\\dagger_1\\hat a_1~+~\\omega_2\\hat a^\\dagger_2\\hat a_2~+~\\omega_3\\hat a^\\dagger_3\\hat a_3~+~\\omega_4\\hat a^\\dagger_4\\hat a_4~+~\\omega_5\\hat a^\\dagger_5\\hat a_5~+~\\omega_6\\hat a^\\dagger_6\\hat a_6~~-~E_{J_{1}}\\cos(-\\hat{\\varphi}_1+0.610032\\hat{\\varphi}_2-0.863318\\hat{\\varphi}_3+\\hat{\\varphi}_4-0.190715\\hat{\\varphi}_5-\\hat{\\varphi}_6+\\varphi_{\\text{ext}_{1}})~-~E_{J_{2}}\\cos(-\\hat{\\varphi}_1+0.389968\\hat{\\varphi}_2+\\hat{\\varphi}_3-0.341887\\hat{\\varphi}_4+\\hat{\\varphi}_5-\\hat{\\varphi}_6+\\varphi_{\\text{ext}_{2}})~-~E_{J_{3}}\\cos(-\\hat{\\varphi}_1-\\hat{\\varphi}_2-0.136682\\hat{\\varphi}_3-0.658113\\hat{\\varphi}_4-0.809285\\hat{\\varphi}_5-\\hat{\\varphi}_6+\\varphi_{\\text{ext}_{3}})$"
     },
     "metadata": {},
     "output_type": "display_data"
    },
    {
     "data": {
      "text/plain": "<IPython.core.display.Latex object>",
      "text/latex": "$------------------------------------------------------------$"
     },
     "metadata": {},
     "output_type": "display_data"
    },
    {
     "data": {
      "text/plain": "<IPython.core.display.Latex object>",
      "text/latex": "$\\text{mode}~1:~~~~~~~~~~~\\text{harmonic}~~~~~~~~~~~\\hat{\\varphi}_1~=~\\varphi_{zp_{1}}(\\hat a_1+\\hat a^\\dagger_1)~~~~~~~~~~~\\omega_1/2\\pi~=~7.20867~~~~~~~~~~~\\varphi_{zp_{1}}~=~6.79e-03$"
     },
     "metadata": {},
     "output_type": "display_data"
    },
    {
     "data": {
      "text/plain": "<IPython.core.display.Latex object>",
      "text/latex": "$\\text{mode}~2:~~~~~~~~~~~\\text{harmonic}~~~~~~~~~~~\\hat{\\varphi}_2~=~\\varphi_{zp_{2}}(\\hat a_2+\\hat a^\\dagger_2)~~~~~~~~~~~\\omega_2/2\\pi~=~7.17306~~~~~~~~~~~\\varphi_{zp_{2}}~=~1.23e-02$"
     },
     "metadata": {},
     "output_type": "display_data"
    },
    {
     "data": {
      "text/plain": "<IPython.core.display.Latex object>",
      "text/latex": "$\\text{mode}~3:~~~~~~~~~~~\\text{harmonic}~~~~~~~~~~~\\hat{\\varphi}_3~=~\\varphi_{zp_{3}}(\\hat a_3+\\hat a^\\dagger_3)~~~~~~~~~~~\\omega_3/2\\pi~=~7.17306~~~~~~~~~~~\\varphi_{zp_{3}}~=~1.15e-02$"
     },
     "metadata": {},
     "output_type": "display_data"
    },
    {
     "data": {
      "text/plain": "<IPython.core.display.Latex object>",
      "text/latex": "$\\text{mode}~4:~~~~~~~~~~~\\text{harmonic}~~~~~~~~~~~\\hat{\\varphi}_4~=~\\varphi_{zp_{4}}(\\hat a_4+\\hat a^\\dagger_4)~~~~~~~~~~~\\omega_4/2\\pi~=~6.30002~~~~~~~~~~~\\varphi_{zp_{4}}~=~5.57e-01$"
     },
     "metadata": {},
     "output_type": "display_data"
    },
    {
     "data": {
      "text/plain": "<IPython.core.display.Latex object>",
      "text/latex": "$\\text{mode}~5:~~~~~~~~~~~\\text{harmonic}~~~~~~~~~~~\\hat{\\varphi}_5~=~\\varphi_{zp_{5}}(\\hat a_5+\\hat a^\\dagger_5)~~~~~~~~~~~\\omega_5/2\\pi~=~6.30002~~~~~~~~~~~\\varphi_{zp_{5}}~=~5.34e-01$"
     },
     "metadata": {},
     "output_type": "display_data"
    },
    {
     "data": {
      "text/plain": "<IPython.core.display.Latex object>",
      "text/latex": "$\\text{mode}~6:~~~~~~~~~~~\\text{harmonic}~~~~~~~~~~~\\hat{\\varphi}_6~=~\\varphi_{zp_{6}}(\\hat a_6+\\hat a^\\dagger_6)~~~~~~~~~~~\\omega_6/2\\pi~=~6.2909~~~~~~~~~~~\\varphi_{zp_{6}}~=~4.00e-01$"
     },
     "metadata": {},
     "output_type": "display_data"
    },
    {
     "data": {
      "text/plain": "<IPython.core.display.Latex object>",
      "text/latex": "$------------------------------------------------------------$"
     },
     "metadata": {},
     "output_type": "display_data"
    },
    {
     "data": {
      "text/plain": "<IPython.core.display.Latex object>",
      "text/latex": "$\\text{parameters}:~~~~~~~~~~~E_{J_{1}}~=~10.0~~~~~~~~~~~E_{J_{2}}~=~10.0~~~~~~~~~~~E_{J_{3}}~=~10.0~~~~~~~~~~~$"
     },
     "metadata": {},
     "output_type": "display_data"
    },
    {
     "data": {
      "text/plain": "<IPython.core.display.Latex object>",
      "text/latex": "$\\text{loops}:~~~~~~~~~~~~~~~~~~~~\\varphi_{\\text{ext}_{1}}/2\\pi~=~0.5~~~~~~~~~~~\\varphi_{\\text{ext}_{2}}/2\\pi~=~0.5~~~~~~~~~~~\\varphi_{\\text{ext}_{3}}/2\\pi~=~0.5~~~~~~~~~~~$"
     },
     "metadata": {},
     "output_type": "display_data"
    }
   ],
   "source": [
    "# Initialize loop(s)\n",
    "loop1 = sq.Loop(0.5)  # \"Value\" corresponds to phiExt / phi0 threading the loop (can change later)\n",
    "loop2 = sq.Loop(0.5)\n",
    "loop3 = sq.Loop(0.5)\n",
    "\n",
    "# Circuit elements\n",
    "# Elements for the three qubits decoupled\n",
    "C_01, C_02, C_12, L_03, L_31, L_23, JJ = [[] for _ in range(7)]\n",
    "for loop in [loop1, loop2, loop3]:\n",
    "    C_01.append(sq.Capacitor(C,       'fF'))\n",
    "    C_02.append(sq.Capacitor(C,       'fF'))\n",
    "    C_12.append(sq.Capacitor(CJ+Csh,  'fF'))\n",
    "    L_03.append(sq.Inductor(Lr,       'nH'))\n",
    "    L_31.append(sq.Inductor(Lq/2 - Δ, 'nH', loops=[loop]))\n",
    "    L_23.append(sq.Inductor(Lq/2 + Δ, 'nH', loops=[loop]))\n",
    "    JJ  .append(sq.Junction(EJ,      'GHz', loops=[loop]))\n",
    "# Capacitors for coupling\n",
    "C_coupling = sq.Capacitor(Cc, 'fF')\n",
    "\n",
    "# Create the circuit\n",
    "elements = {\n",
    "    # qubit 1, nodes [0, 1, 2, 3]\n",
    "    (0, 3): [L_03[0]],\n",
    "    (0, 1): [C_01[0]],\n",
    "    (0, 2): [C_02[0]],\n",
    "    (3, 1): [L_31[0]],\n",
    "    (1, 2): [C_12[0], JJ[0]],\n",
    "    (2, 3): [L_23[0]],\n",
    "    # qubit 2, nodes [0, 4, 5, 6]\n",
    "    (0, 6): [L_03[1]],\n",
    "    (0, 4): [C_01[1]],\n",
    "    (0, 5): [C_02[1]],\n",
    "    (6, 4): [L_31[1]],\n",
    "    (4, 5): [C_12[1], JJ[1]],\n",
    "    (5, 6): [L_23[1]],\n",
    "    # qubit 3, nodes [0,7, 8, 9]\n",
    "    (0, 9): [L_03[2]],\n",
    "    (0, 7): [C_01[2]],\n",
    "    (0, 8): [C_02[2]],\n",
    "    (9, 7): [L_31[2]],\n",
    "    (7, 8): [C_12[2], JJ[2]],\n",
    "    (8, 9): [L_23[2]],\n",
    "    # capacitive coupling\n",
    "    (2, 4): [C_coupling],\n",
    "    (5, 7): [C_coupling],\n",
    "    (8, 1): [C_coupling],\n",
    "}\n",
    "\n",
    "qubit_qubit_qubit = sq.Circuit(elements)\n",
    "qubit_qubit_qubit.description()"
   ],
   "metadata": {
    "collapsed": false,
    "ExecuteTime": {
     "end_time": "2024-02-09T09:01:12.803120700Z",
     "start_time": "2024-02-09T09:01:12.702117600Z"
    }
   },
   "execution_count": 5
  },
  {
   "cell_type": "code",
   "outputs": [],
   "source": [
    "qubit_qubit_qubit.set_trunc_nums([nmax_r, nmax_r, nmax_r, nmax_f, nmax_f, nmax_f])\n",
    "qubit_qubit_qubit.diag(4);"
   ],
   "metadata": {
    "collapsed": false,
    "ExecuteTime": {
     "end_time": "2024-02-08T10:20:42.025797900Z",
     "start_time": "2024-02-08T10:16:19.034946500Z"
    }
   },
   "execution_count": 102
  },
  {
   "cell_type": "code",
   "outputs": [
    {
     "data": {
      "text/plain": "array([0.        , 1.93861593, 1.94430658, 1.9664159 ])"
     },
     "execution_count": 103,
     "metadata": {},
     "output_type": "execute_result"
    }
   ],
   "source": [
    "qubit_qubit_qubit.efreqs-qubit_qubit_qubit.efreqs[0]"
   ],
   "metadata": {
    "collapsed": false,
    "ExecuteTime": {
     "end_time": "2024-02-08T10:20:42.185343300Z",
     "start_time": "2024-02-08T10:20:42.014777300Z"
    }
   },
   "execution_count": 103
  },
  {
   "cell_type": "code",
   "outputs": [
    {
     "data": {
      "text/plain": "array([[1.325e-01, 0.000e+00, 9.000e-04, 0.000e+00, 9.000e-04, 0.000e+00],\n       [0.000e+00, 3.910e-02, 0.000e+00, 1.000e-04, 0.000e+00, 1.000e-04],\n       [9.000e-04, 0.000e+00, 1.325e-01, 0.000e+00, 9.000e-04, 0.000e+00],\n       [0.000e+00, 1.000e-04, 0.000e+00, 3.910e-02, 0.000e+00, 1.000e-04],\n       [9.000e-04, 0.000e+00, 9.000e-04, 0.000e+00, 1.325e-01, 0.000e+00],\n       [0.000e+00, 1.000e-04, 0.000e+00, 1.000e-04, 0.000e+00, 3.910e-02]])"
     },
     "execution_count": 104,
     "metadata": {},
     "output_type": "execute_result"
    }
   ],
   "source": [
    "C_R = C/2\n",
    "C_C = Cc\n",
    "C_F = C/2 + Csh + CJ\n",
    "C_mat = np.array([[C_R + C_C/2  , 0             , -C_C / 2      ,        0      ,-C_C / 2       , 0             ],\n",
    "                  [0            , C_F + C_C/2   ,       0       , -C_C / 2      , 0             , -C_C / 2      ],\n",
    "                  [-C_C / 2     ,        0      , C_R + C_C/2   , 0             ,-C_C / 2       , 0             ],\n",
    "                  [            0, -C_C / 2      , 0             , C_F + C_C/2   , 0             ,-C_C / 2       ],\n",
    "                  [-C_C / 2     , 0             ,-C_C / 2       , 0             , C_R + C_C/2   , 0             ],\n",
    "                  [            0, -C_C / 2      , 0             ,-C_C / 2       , 0             , C_F + C_C/2   ]])\n",
    "\n",
    "C_inv = np.linalg.inv(C_mat)\n",
    "np.round(C_inv,4)"
   ],
   "metadata": {
    "collapsed": false,
    "ExecuteTime": {
     "end_time": "2024-02-08T10:20:42.665596800Z",
     "start_time": "2024-02-08T10:20:42.068032800Z"
    }
   },
   "execution_count": 104
  },
  {
   "cell_type": "code",
   "outputs": [],
   "source": [
    "def hamiltonian_qubit_C_qubit_C_qubit(nmax_r, nmax_f, Cc, C = 15, CJ = 3, Csh= 15, Lq = 25, Lr = 10, Δ = 0.1):\n",
    "    \n",
    "    C_R = C/2\n",
    "    C_C = Cc\n",
    "    C_F = C/2 + Csh + CJ\n",
    "    C_mat = np.array([[C_R + C_C/2  , 0             , -C_C / 2      ,        0      ,-C_C / 2       , 0             ],\n",
    "                      [0            , C_F + C_C/2   ,       0       , -C_C / 2      , 0             , -C_C / 2      ],\n",
    "                      [-C_C / 2     ,        0      , C_R + C_C/2   , 0             ,-C_C / 2       , 0             ],\n",
    "                      [            0, -C_C / 2      , 0             , C_F + C_C/2   , 0             ,-C_C / 2       ],\n",
    "                      [-C_C / 2     , 0             ,-C_C / 2       , 0             , C_R + C_C/2   , 0             ],\n",
    "                      [            0, -C_C / 2      , 0             ,-C_C / 2       , 0             , C_F + C_C/2   ]])\n",
    "    \n",
    "    C_inv = np.linalg.inv(C_mat)\n",
    "    fF = 1e-15\n",
    "    \n",
    "    resonator = sq_ext.sq_resonator(C_R_eff=C_inv[0,0]**-1, Lq = Lq, Lr = Lr, Δ = Δ, trunc_res =nmax_r)\n",
    "    fluxonium = sq_ext.sq_fluxonium(C_F_eff=C_inv[1,1]**-1, Lq = Lq, Lr = Lr, Δ = Δ, trunc_flux=nmax_f)\n",
    "    \n",
    "    H_qubit = sq_ext.hamiltonian_qubit(fluxonium, resonator, Δ)\n",
    "    \n",
    "    I_r      = qt.identity(nmax_r)\n",
    "    I_f      = qt.identity(nmax_f)\n",
    "    I_qubit  = qt.identity(H_qubit .dims[0])\n",
    "    \n",
    "    q_r = qt.tensor(resonator.charge_op(0), I_f)\n",
    "    q_f = qt.tensor(I_r, fluxonium.charge_op(0))\n",
    "    \n",
    "    H_0 = qt.tensor(H_qubit, I_qubit, I_qubit) + qt.tensor(I_qubit, H_qubit, I_qubit) + qt.tensor(I_qubit, I_qubit, H_qubit)\n",
    "    \n",
    "    C_RR = C_inv[0,2]**-1 * fF \n",
    "    C_FF = C_inv[1,3]**-1 * fF \n",
    "    H_coupling =    qt.tensor(q_r, q_r, I_qubit) / C_RR + qt.tensor(q_f, q_f, I_qubit) / C_FF + \\\n",
    "                    qt.tensor(I_qubit, q_r, q_r) / C_RR + qt.tensor(I_qubit, q_f, q_f) / C_FF + \\\n",
    "                    qt.tensor(q_r, I_qubit, q_r) / C_RR + qt.tensor(q_f, I_qubit, q_f) / C_FF\n",
    "            \n",
    "    return H_0 + H_coupling"
   ],
   "metadata": {
    "collapsed": false,
    "ExecuteTime": {
     "end_time": "2024-02-09T09:01:22.554364300Z",
     "start_time": "2024-02-09T09:01:22.518012600Z"
    }
   },
   "execution_count": 6
  },
  {
   "cell_type": "code",
   "outputs": [],
   "source": [
    "qubit_qubit_qubit.set_trunc_nums([nmax_r, nmax_r, nmax_r, nmax_f, nmax_f, nmax_f])"
   ],
   "metadata": {
    "collapsed": false,
    "ExecuteTime": {
     "end_time": "2024-02-09T09:03:43.443110600Z",
     "start_time": "2024-02-09T09:02:44.224325800Z"
    }
   },
   "execution_count": 12
  },
  {
   "cell_type": "code",
   "outputs": [
    {
     "ename": "KeyboardInterrupt",
     "evalue": "",
     "output_type": "error",
     "traceback": [
      "\u001B[1;31m---------------------------------------------------------------------------\u001B[0m",
      "\u001B[1;31mKeyboardInterrupt\u001B[0m                         Traceback (most recent call last)",
      "Cell \u001B[1;32mIn[13], line 1\u001B[0m\n\u001B[1;32m----> 1\u001B[0m \u001B[43mqubit_qubit_qubit\u001B[49m\u001B[38;5;241;43m.\u001B[39;49m\u001B[43mhamiltonian\u001B[49m\u001B[43m(\u001B[49m\u001B[43m)\u001B[49m\u001B[38;5;241m.\u001B[39mshape\n",
      "File \u001B[1;32m~\\miniconda3\\envs\\tunable-cc-fq\\lib\\site-packages\\SQcircuit\\circuit.py:1586\u001B[0m, in \u001B[0;36mCircuit.hamiltonian\u001B[1;34m(self)\u001B[0m\n\u001B[0;32m   1583\u001B[0m error \u001B[38;5;241m=\u001B[39m \u001B[38;5;124m\"\u001B[39m\u001B[38;5;124mPlease specify the truncation number for each mode.\u001B[39m\u001B[38;5;124m\"\u001B[39m\n\u001B[0;32m   1584\u001B[0m \u001B[38;5;28;01massert\u001B[39;00m \u001B[38;5;28mlen\u001B[39m(\u001B[38;5;28mself\u001B[39m\u001B[38;5;241m.\u001B[39mm) \u001B[38;5;241m!=\u001B[39m \u001B[38;5;241m0\u001B[39m, error\n\u001B[1;32m-> 1586\u001B[0m Hind \u001B[38;5;241m=\u001B[39m \u001B[38;5;28;43mself\u001B[39;49m\u001B[38;5;241;43m.\u001B[39;49m\u001B[43m_get_inductive_hamil\u001B[49m\u001B[43m(\u001B[49m\u001B[43m)\u001B[49m\n\u001B[0;32m   1588\u001B[0m H \u001B[38;5;241m=\u001B[39m Hind \u001B[38;5;241m+\u001B[39m \u001B[38;5;28mself\u001B[39m\u001B[38;5;241m.\u001B[39m_LC_hamil\n\u001B[0;32m   1590\u001B[0m \u001B[38;5;28;01mreturn\u001B[39;00m H\n",
      "File \u001B[1;32m~\\miniconda3\\envs\\tunable-cc-fq\\lib\\site-packages\\SQcircuit\\circuit.py:1363\u001B[0m, in \u001B[0;36mCircuit._get_inductive_hamil\u001B[1;34m(self)\u001B[0m\n\u001B[0;32m   1360\u001B[0m EJ \u001B[38;5;241m=\u001B[39m el\u001B[38;5;241m.\u001B[39mvalue(\u001B[38;5;28mself\u001B[39m\u001B[38;5;241m.\u001B[39mrandom)\n\u001B[0;32m   1362\u001B[0m exp \u001B[38;5;241m=\u001B[39m np\u001B[38;5;241m.\u001B[39mexp(\u001B[38;5;241m1\u001B[39mj \u001B[38;5;241m*\u001B[39m phi) \u001B[38;5;241m*\u001B[39m \u001B[38;5;28mself\u001B[39m\u001B[38;5;241m.\u001B[39m_memory_ops[\u001B[38;5;124m\"\u001B[39m\u001B[38;5;124mexp\u001B[39m\u001B[38;5;124m\"\u001B[39m][W_idx]\n\u001B[1;32m-> 1363\u001B[0m root_exp \u001B[38;5;241m=\u001B[39m \u001B[43mnp\u001B[49m\u001B[38;5;241;43m.\u001B[39;49m\u001B[43mexp\u001B[49m\u001B[43m(\u001B[49m\u001B[38;5;241;43m1\u001B[39;49m\u001B[43mj\u001B[49m\u001B[43m \u001B[49m\u001B[38;5;241;43m*\u001B[39;49m\u001B[43m \u001B[49m\u001B[43mphi\u001B[49m\u001B[43m \u001B[49m\u001B[38;5;241;43m/\u001B[39;49m\u001B[43m \u001B[49m\u001B[38;5;241;43m2\u001B[39;49m\u001B[43m)\u001B[49m\u001B[43m \u001B[49m\u001B[38;5;241;43m*\u001B[39;49m\u001B[43m \u001B[49m\u001B[38;5;28;43mself\u001B[39;49m\u001B[38;5;241;43m.\u001B[39;49m\u001B[43m_memory_ops\u001B[49m\u001B[43m[\u001B[49m\u001B[38;5;124;43m\"\u001B[39;49m\u001B[38;5;124;43mroot_exp\u001B[39;49m\u001B[38;5;124;43m\"\u001B[39;49m\u001B[43m]\u001B[49m\u001B[43m[\u001B[49m\n\u001B[0;32m   1364\u001B[0m \u001B[43m    \u001B[49m\u001B[43mW_idx\u001B[49m\u001B[43m]\u001B[49m\n\u001B[0;32m   1366\u001B[0m cos \u001B[38;5;241m=\u001B[39m (exp \u001B[38;5;241m+\u001B[39m exp\u001B[38;5;241m.\u001B[39mdag()) \u001B[38;5;241m/\u001B[39m \u001B[38;5;241m2\u001B[39m\n\u001B[0;32m   1367\u001B[0m sin \u001B[38;5;241m=\u001B[39m (exp \u001B[38;5;241m-\u001B[39m exp\u001B[38;5;241m.\u001B[39mdag()) \u001B[38;5;241m/\u001B[39m \u001B[38;5;241m2\u001B[39mj\n",
      "File \u001B[1;32m~\\miniconda3\\envs\\tunable-cc-fq\\lib\\site-packages\\qutip\\qobj.py:616\u001B[0m, in \u001B[0;36mQobj.__rmul__\u001B[1;34m(self, other)\u001B[0m\n\u001B[0;32m    614\u001B[0m \u001B[38;5;28;01melif\u001B[39;00m \u001B[38;5;28misinstance\u001B[39m(other, numbers\u001B[38;5;241m.\u001B[39mNumber):\n\u001B[0;32m    615\u001B[0m     out \u001B[38;5;241m=\u001B[39m Qobj()\n\u001B[1;32m--> 616\u001B[0m     out\u001B[38;5;241m.\u001B[39mdata \u001B[38;5;241m=\u001B[39m \u001B[43mother\u001B[49m\u001B[43m \u001B[49m\u001B[38;5;241;43m*\u001B[39;49m\u001B[43m \u001B[49m\u001B[38;5;28;43mself\u001B[39;49m\u001B[38;5;241;43m.\u001B[39;49m\u001B[43mdata\u001B[49m\n\u001B[0;32m    617\u001B[0m     out\u001B[38;5;241m.\u001B[39mdims \u001B[38;5;241m=\u001B[39m \u001B[38;5;28mself\u001B[39m\u001B[38;5;241m.\u001B[39mdims\n\u001B[0;32m    618\u001B[0m     out\u001B[38;5;241m.\u001B[39msuperrep \u001B[38;5;241m=\u001B[39m \u001B[38;5;28mself\u001B[39m\u001B[38;5;241m.\u001B[39msuperrep\n",
      "File \u001B[1;32m~\\miniconda3\\envs\\tunable-cc-fq\\lib\\site-packages\\scipy\\sparse\\_base.py:620\u001B[0m, in \u001B[0;36mspmatrix.__rmul__\u001B[1;34m(self, other)\u001B[0m\n\u001B[0;32m    619\u001B[0m \u001B[38;5;28;01mdef\u001B[39;00m \u001B[38;5;21m__rmul__\u001B[39m(\u001B[38;5;28mself\u001B[39m, other):  \u001B[38;5;66;03m# other * self\u001B[39;00m\n\u001B[1;32m--> 620\u001B[0m     \u001B[38;5;28;01mreturn\u001B[39;00m \u001B[38;5;28;43mself\u001B[39;49m\u001B[38;5;241;43m.\u001B[39;49m\u001B[43m_rmul_dispatch\u001B[49m\u001B[43m(\u001B[49m\u001B[43mother\u001B[49m\u001B[43m)\u001B[49m\n",
      "File \u001B[1;32m~\\miniconda3\\envs\\tunable-cc-fq\\lib\\site-packages\\scipy\\sparse\\_base.py:607\u001B[0m, in \u001B[0;36mspmatrix._rmul_dispatch\u001B[1;34m(self, other)\u001B[0m\n\u001B[0;32m    605\u001B[0m \u001B[38;5;28;01mdef\u001B[39;00m \u001B[38;5;21m_rmul_dispatch\u001B[39m(\u001B[38;5;28mself\u001B[39m, other):\n\u001B[0;32m    606\u001B[0m     \u001B[38;5;28;01mif\u001B[39;00m isscalarlike(other):\n\u001B[1;32m--> 607\u001B[0m         \u001B[38;5;28;01mreturn\u001B[39;00m \u001B[38;5;28;43mself\u001B[39;49m\u001B[38;5;241;43m.\u001B[39;49m\u001B[43m_mul_scalar\u001B[49m\u001B[43m(\u001B[49m\u001B[43mother\u001B[49m\u001B[43m)\u001B[49m\n\u001B[0;32m    608\u001B[0m     \u001B[38;5;28;01melse\u001B[39;00m:\n\u001B[0;32m    609\u001B[0m         \u001B[38;5;66;03m# Don't use asarray unless we have to\u001B[39;00m\n\u001B[0;32m    610\u001B[0m         \u001B[38;5;28;01mtry\u001B[39;00m:\n",
      "File \u001B[1;32m~\\miniconda3\\envs\\tunable-cc-fq\\lib\\site-packages\\scipy\\sparse\\_data.py:124\u001B[0m, in \u001B[0;36m_data_matrix._mul_scalar\u001B[1;34m(self, other)\u001B[0m\n\u001B[0;32m    123\u001B[0m \u001B[38;5;28;01mdef\u001B[39;00m \u001B[38;5;21m_mul_scalar\u001B[39m(\u001B[38;5;28mself\u001B[39m, other):\n\u001B[1;32m--> 124\u001B[0m     \u001B[38;5;28;01mreturn\u001B[39;00m \u001B[38;5;28;43mself\u001B[39;49m\u001B[38;5;241;43m.\u001B[39;49m\u001B[43m_with_data\u001B[49m\u001B[43m(\u001B[49m\u001B[38;5;28;43mself\u001B[39;49m\u001B[38;5;241;43m.\u001B[39;49m\u001B[43mdata\u001B[49m\u001B[43m \u001B[49m\u001B[38;5;241;43m*\u001B[39;49m\u001B[43m \u001B[49m\u001B[43mother\u001B[49m\u001B[43m)\u001B[49m\n",
      "File \u001B[1;32m~\\miniconda3\\envs\\tunable-cc-fq\\lib\\site-packages\\qutip\\fastsparse.py:342\u001B[0m, in \u001B[0;36mfast_csr_matrix._with_data\u001B[1;34m(self, data, copy)\u001B[0m\n\u001B[0;32m    340\u001B[0m data \u001B[38;5;241m=\u001B[39m np\u001B[38;5;241m.\u001B[39masarray(data, dtype\u001B[38;5;241m=\u001B[39m\u001B[38;5;28mcomplex\u001B[39m)\n\u001B[0;32m    341\u001B[0m \u001B[38;5;28;01mif\u001B[39;00m copy:\n\u001B[1;32m--> 342\u001B[0m     \u001B[38;5;28;01mreturn\u001B[39;00m fast_csr_matrix((data,\u001B[38;5;28;43mself\u001B[39;49m\u001B[38;5;241;43m.\u001B[39;49m\u001B[43mindices\u001B[49m\u001B[38;5;241;43m.\u001B[39;49m\u001B[43mcopy\u001B[49m\u001B[43m(\u001B[49m\u001B[43m)\u001B[49m,\u001B[38;5;28mself\u001B[39m\u001B[38;5;241m.\u001B[39mindptr\u001B[38;5;241m.\u001B[39mcopy()),\n\u001B[0;32m    343\u001B[0m                            shape\u001B[38;5;241m=\u001B[39m\u001B[38;5;28mself\u001B[39m\u001B[38;5;241m.\u001B[39mshape,dtype\u001B[38;5;241m=\u001B[39mdata\u001B[38;5;241m.\u001B[39mdtype)\n\u001B[0;32m    344\u001B[0m \u001B[38;5;28;01melse\u001B[39;00m:\n\u001B[0;32m    345\u001B[0m     \u001B[38;5;28;01mreturn\u001B[39;00m fast_csr_matrix((data,\u001B[38;5;28mself\u001B[39m\u001B[38;5;241m.\u001B[39mindices,\u001B[38;5;28mself\u001B[39m\u001B[38;5;241m.\u001B[39mindptr),\n\u001B[0;32m    346\u001B[0m                            shape\u001B[38;5;241m=\u001B[39m\u001B[38;5;28mself\u001B[39m\u001B[38;5;241m.\u001B[39mshape,dtype\u001B[38;5;241m=\u001B[39mdata\u001B[38;5;241m.\u001B[39mdtype)\n",
      "\u001B[1;31mKeyboardInterrupt\u001B[0m: "
     ]
    }
   ],
   "source": [
    "qubit_qubit_qubit.hamiltonian().shape"
   ],
   "metadata": {
    "collapsed": false,
    "ExecuteTime": {
     "end_time": "2024-02-09T09:07:34.246367800Z",
     "start_time": "2024-02-09T09:03:43.428940800Z"
    }
   },
   "execution_count": 13
  },
  {
   "cell_type": "code",
   "outputs": [],
   "source": [
    "H = hamiltonian_qubit_C_qubit_C_qubit(nmax_r, nmax_f, Cc)"
   ],
   "metadata": {
    "collapsed": false,
    "ExecuteTime": {
     "end_time": "2024-02-09T09:01:24.642470600Z",
     "start_time": "2024-02-09T09:01:24.546911200Z"
    }
   },
   "execution_count": 7
  },
  {
   "cell_type": "code",
   "outputs": [],
   "source": [
    "E = sq_ext.diag(H, n_eig=4, out='GHz')[0]"
   ],
   "metadata": {
    "collapsed": false,
    "ExecuteTime": {
     "end_time": "2024-02-09T09:02:02.159034900Z",
     "start_time": "2024-02-09T09:02:01.249750100Z"
    }
   },
   "execution_count": 9
  },
  {
   "cell_type": "code",
   "outputs": [
    {
     "data": {
      "text/plain": "array([0.        , 1.94183421, 1.94183421, 1.94708953])"
     },
     "execution_count": 10,
     "metadata": {},
     "output_type": "execute_result"
    }
   ],
   "source": [
    "E-E[0]"
   ],
   "metadata": {
    "collapsed": false,
    "ExecuteTime": {
     "end_time": "2024-02-09T09:02:06.100244800Z",
     "start_time": "2024-02-09T09:02:06.072756700Z"
    }
   },
   "execution_count": 10
  },
  {
   "cell_type": "code",
   "outputs": [
    {
     "data": {
      "text/plain": "array([0.        , 1.91145769, 1.91145769, 1.9166496 ])"
     },
     "execution_count": 93,
     "metadata": {},
     "output_type": "execute_result"
    }
   ],
   "source": [
    "E-E[0]"
   ],
   "metadata": {
    "collapsed": false
   },
   "execution_count": 93
  },
  {
   "cell_type": "code",
   "outputs": [
    {
     "data": {
      "text/plain": "array([0.        , 1.93861593, 1.94430658, 1.9664159 ])"
     },
     "execution_count": 109,
     "metadata": {},
     "output_type": "execute_result"
    }
   ],
   "source": [
    "qubit_qubit_qubit.efreqs-qubit_qubit_qubit.efreqs[0]"
   ],
   "metadata": {
    "collapsed": false,
    "ExecuteTime": {
     "end_time": "2024-02-08T10:20:42.981071800Z",
     "start_time": "2024-02-08T10:20:42.907084300Z"
    }
   },
   "execution_count": 109
  },
  {
   "cell_type": "code",
   "outputs": [
    {
     "data": {
      "text/plain": "array([0.        , 1.96624533, 2.04666751, 2.16019599])"
     },
     "execution_count": 94,
     "metadata": {},
     "output_type": "execute_result"
    }
   ],
   "source": [
    "qubit_qubit_qubit.efreqs-qubit_qubit_qubit.efreqs[0]"
   ],
   "metadata": {
    "collapsed": false
   },
   "execution_count": 94
  },
  {
   "cell_type": "code",
   "outputs": [],
   "source": [],
   "metadata": {
    "collapsed": false
   }
  }
 ],
 "metadata": {
  "kernelspec": {
   "display_name": "Python 3",
   "language": "python",
   "name": "python3"
  },
  "language_info": {
   "codemirror_mode": {
    "name": "ipython",
    "version": 2
   },
   "file_extension": ".py",
   "mimetype": "text/x-python",
   "name": "python",
   "nbconvert_exporter": "python",
   "pygments_lexer": "ipython2",
   "version": "2.7.6"
  }
 },
 "nbformat": 4,
 "nbformat_minor": 0
}
