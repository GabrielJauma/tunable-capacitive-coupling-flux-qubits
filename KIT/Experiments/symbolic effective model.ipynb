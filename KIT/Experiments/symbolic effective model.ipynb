{
 "cells": [
  {
   "cell_type": "code",
   "outputs": [
    {
     "data": {
      "text/plain": "<Figure size 640x480 with 0 Axes>"
     },
     "metadata": {},
     "output_type": "display_data"
    }
   ],
   "source": [
    "from sympy import *\n",
    "import Modules.SQcircuit_extensions as sq_ext\n",
    "import numpy as np\n",
    "import matplotlib.pyplot as plt"
   ],
   "metadata": {
    "collapsed": false,
    "ExecuteTime": {
     "end_time": "2024-09-26T10:01:06.823243600Z",
     "start_time": "2024-09-26T10:01:03.579831100Z"
    }
   },
   "id": "cc0ee0362e9f01fd",
   "execution_count": 1
  },
  {
   "cell_type": "code",
   "outputs": [],
   "source": [
    "Δ, Jx, Jy, Jz = symbols('Delta, J_x, J_y, J_z', real=True, positive=True, nonzero=True)"
   ],
   "metadata": {
    "collapsed": false,
    "ExecuteTime": {
     "end_time": "2024-09-19T11:21:25.305658800Z",
     "start_time": "2024-09-19T11:21:25.288632700Z"
    }
   },
   "id": "c5497d79407fba16",
   "execution_count": 25
  },
  {
   "cell_type": "code",
   "outputs": [],
   "source": [
    "σx, σy, σz = sq_ext.pauli_matrices()\n",
    "I = np.eye(2)\n",
    "a_dag = sq_ext.create(2)\n",
    "a     = sq_ext.annihilate(2)"
   ],
   "metadata": {
    "collapsed": false,
    "ExecuteTime": {
     "end_time": "2024-09-19T11:21:25.614961500Z",
     "start_time": "2024-09-19T11:21:25.595154100Z"
    }
   },
   "id": "fc64f1074d87dee1",
   "execution_count": 26
  },
  {
   "cell_type": "code",
   "outputs": [],
   "source": [
    "for M in [I,σx, σy, σz, a_dag,a]:\n",
    "    M = Matrix(M) "
   ],
   "metadata": {
    "collapsed": false,
    "ExecuteTime": {
     "end_time": "2024-09-19T11:19:51.311629600Z",
     "start_time": "2024-09-19T11:19:51.300923400Z"
    }
   },
   "id": "3a2fc8c5ea3bcc1f",
   "execution_count": 19
  },
  {
   "cell_type": "code",
   "outputs": [
    {
     "data": {
      "text/plain": "Matrix([\n[2.0*Delta,         0,         0, 0],\n[        0, 1.0*Delta,         0, 0],\n[        0,         0, 1.0*Delta, 0],\n[        0,         0,         0, 0]])",
      "text/latex": "$\\displaystyle \\left[\\begin{matrix}2.0 \\Delta & 0 & 0 & 0\\\\0 & 1.0 \\Delta & 0 & 0\\\\0 & 0 & 1.0 \\Delta & 0\\\\0 & 0 & 0 & 0\\end{matrix}\\right]$"
     },
     "execution_count": 45,
     "metadata": {},
     "output_type": "execute_result"
    }
   ],
   "source": [
    "H = Matrix( Δ /2 * (np.kron(σz, I) + np.kron(I, σz) ) + Δ * np.kron(I, I))\n",
    "H"
   ],
   "metadata": {
    "collapsed": false,
    "ExecuteTime": {
     "end_time": "2024-09-19T11:24:46.790761200Z",
     "start_time": "2024-09-19T11:24:46.756674Z"
    }
   },
   "id": "b20192c5fa000d63",
   "execution_count": 45
  },
  {
   "cell_type": "code",
   "outputs": [
    {
     "data": {
      "text/plain": "Matrix([\n[2.0*Delta,                   0,                   0, 0],\n[        0, 1.0*Delta - 2.0*J_z,                   0, 0],\n[        0,                   0, 1.0*Delta - 2.0*J_z, 0],\n[        0,                   0,                   0, 0]])",
      "text/latex": "$\\displaystyle \\left[\\begin{matrix}2.0 \\Delta & 0 & 0 & 0\\\\0 & 1.0 \\Delta - 2.0 J_{z} & 0 & 0\\\\0 & 0 & 1.0 \\Delta - 2.0 J_{z} & 0\\\\0 & 0 & 0 & 0\\end{matrix}\\right]$"
     },
     "execution_count": 46,
     "metadata": {},
     "output_type": "execute_result"
    }
   ],
   "source": [
    "H += Jz * np.kron(σz, σz) - Jz * np.kron(I,I)\n",
    "H"
   ],
   "metadata": {
    "collapsed": false,
    "ExecuteTime": {
     "end_time": "2024-09-19T11:24:47.212143600Z",
     "start_time": "2024-09-19T11:24:47.178470500Z"
    }
   },
   "id": "281abe33a3a920a7",
   "execution_count": 46
  },
  {
   "cell_type": "code",
   "outputs": [
    {
     "data": {
      "text/plain": "Matrix([\n[2.0*Delta,                   0,                   0, J_x],\n[        0, 1.0*Delta - 2.0*J_z,                 J_x,   0],\n[        0,                 J_x, 1.0*Delta - 2.0*J_z,   0],\n[      J_x,                   0,                   0,   0]])",
      "text/latex": "$\\displaystyle \\left[\\begin{matrix}2.0 \\Delta & 0 & 0 & J_{x}\\\\0 & 1.0 \\Delta - 2.0 J_{z} & J_{x} & 0\\\\0 & J_{x} & 1.0 \\Delta - 2.0 J_{z} & 0\\\\J_{x} & 0 & 0 & 0\\end{matrix}\\right]$"
     },
     "execution_count": 47,
     "metadata": {},
     "output_type": "execute_result"
    }
   ],
   "source": [
    "H += Jx * np.kron(σx, σx)\n",
    "H"
   ],
   "metadata": {
    "collapsed": false,
    "ExecuteTime": {
     "end_time": "2024-09-19T11:25:23.604545800Z",
     "start_time": "2024-09-19T11:25:23.573204200Z"
    }
   },
   "id": "43dc34fef022b9ff",
   "execution_count": 47
  },
  {
   "cell_type": "code",
   "outputs": [
    {
     "data": {
      "text/plain": "Matrix([\n[    2.0*Delta,                   0,                   0, J_x - 1.0*J_y],\n[            0, 1.0*Delta - 2.0*J_z,       J_x + 1.0*J_y,             0],\n[            0,       J_x + 1.0*J_y, 1.0*Delta - 2.0*J_z,             0],\n[J_x - 1.0*J_y,                   0,                   0,             0]])",
      "text/latex": "$\\displaystyle \\left[\\begin{matrix}2.0 \\Delta & 0 & 0 & J_{x} - 1.0 J_{y}\\\\0 & 1.0 \\Delta - 2.0 J_{z} & J_{x} + 1.0 J_{y} & 0\\\\0 & J_{x} + 1.0 J_{y} & 1.0 \\Delta - 2.0 J_{z} & 0\\\\J_{x} - 1.0 J_{y} & 0 & 0 & 0\\end{matrix}\\right]$"
     },
     "execution_count": 48,
     "metadata": {},
     "output_type": "execute_result"
    }
   ],
   "source": [
    "H += Jy * np.kron(σy, σy)\n",
    "H"
   ],
   "metadata": {
    "collapsed": false,
    "ExecuteTime": {
     "end_time": "2024-09-19T11:26:10.109089800Z",
     "start_time": "2024-09-19T11:26:10.084767100Z"
    }
   },
   "id": "147423c19796bfe4",
   "execution_count": 48
  },
  {
   "cell_type": "code",
   "outputs": [],
   "source": [],
   "metadata": {
    "collapsed": false
   },
   "id": "1e7ee6257b090c6a"
  }
 ],
 "metadata": {
  "kernelspec": {
   "display_name": "Python 3",
   "language": "python",
   "name": "python3"
  },
  "language_info": {
   "codemirror_mode": {
    "name": "ipython",
    "version": 2
   },
   "file_extension": ".py",
   "mimetype": "text/x-python",
   "name": "python",
   "nbconvert_exporter": "python",
   "pygments_lexer": "ipython2",
   "version": "2.7.6"
  }
 },
 "nbformat": 4,
 "nbformat_minor": 5
}
