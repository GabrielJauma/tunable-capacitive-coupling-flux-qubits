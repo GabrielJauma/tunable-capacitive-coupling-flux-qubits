{
 "cells": [
  {
   "cell_type": "code",
   "execution_count": 2,
   "id": "initial_id",
   "metadata": {
    "collapsed": true,
    "ExecuteTime": {
     "end_time": "2024-03-14T14:13:01.492568Z",
     "start_time": "2024-03-14T14:13:00.986391Z"
    }
   },
   "source": [
    "import Modules.SQcircuit_extensions as sq_ext\n",
    "import Modules.figures as figs\n",
    "import SQcircuit as sq\n",
    "import numpy as np\n",
    "import matplotlib.pyplot as plt\n",
    "import importlib\n",
    "import qutip as qt\n",
    "import scipy as sp\n",
    "from itertools import permutations\n",
    "import sympy as sym\n",
    "\n",
    "%matplotlib ipympl\n",
    "plt.rcParams['text.usetex'] = False\n",
    "importlib.reload(sq_ext)\n",
    "importlib.reload(sq)\n",
    "importlib.reload(figs)\n",
    "np.set_printoptions(linewidth=300, formatter={'float': '{:.4f}'.format})\n",
    "GHz = 1e9"
   ],
   "outputs": []
  },
  {
   "cell_type": "code",
   "source": [
    "fluxonium = sq_ext.sq_fluxonium()\n",
    "H_0_f = fluxonium.hamiltonian() \n",
    "H_0 = qt.tensor( H_0_f, qt.qeye(H_0_f.shape[0]) ) + qt.tensor(qt.qeye(H_0_f.shape[0]), H_0_f ) #+ 0.00001*qt.tensor(fluxonium.flux_op(0), fluxonium.flux_op(0))\n",
    "H = qt.tensor( H_0_f, qt.qeye(H_0_f.shape[0]) ) + qt.tensor(qt.qeye(H_0_f.shape[0]), H_0_f  )+ 1e5*qt.tensor(fluxonium.flux_op(0), fluxonium.flux_op(0))"
   ],
   "metadata": {
    "collapsed": false,
    "ExecuteTime": {
     "end_time": "2024-03-11T12:34:04.504224600Z",
     "start_time": "2024-03-11T12:34:04.461057Z"
    }
   },
   "id": "149f8014237706c3",
   "execution_count": 2,
   "outputs": []
  },
  {
   "cell_type": "code",
   "source": [
    "E, ψ_0_f = np.linalg.eigh(H_0_f.__array__() )\n",
    "ψ_0 = np.array([np.kron(ψ_0_f[:,0],ψ_0_f[:,0]), np.kron(ψ_0_f[:,1],ψ_0_f[:,0]), np.kron(ψ_0_f[:,0],ψ_0_f[:,1]), np.kron(ψ_0_f[:,1],ψ_0_f[:,1]) ]).T"
   ],
   "metadata": {
    "collapsed": false,
    "ExecuteTime": {
     "end_time": "2024-03-08T09:52:18.667282200Z",
     "start_time": "2024-03-08T09:52:18.647959300Z"
    }
   },
   "id": "a924933e477b97f1",
   "execution_count": 13,
   "outputs": []
  },
  {
   "cell_type": "code",
   "source": [
    "H_eff = ψ_0.T.conj() @ H.__array__() @ ψ_0 / 2 / np.pi / GHz\n",
    "sq_ext.decomposition_in_pauli_4x4(H_eff, 4);"
   ],
   "metadata": {
    "collapsed": false,
    "ExecuteTime": {
     "end_time": "2024-03-08T09:52:18.937866900Z",
     "start_time": "2024-03-08T09:52:18.906959900Z"
    }
   },
   "id": "546023bd870ea28c",
   "execution_count": 14,
   "outputs": []
  },
  {
   "cell_type": "code",
   "source": [
    "H, ψ_0 = sq_ext.hamiltonian_qubit_C_qubit(nmax_r=5, nmax_f=15, Cc=0, return_Ψ_nonint=True)"
   ],
   "metadata": {
    "collapsed": false,
    "ExecuteTime": {
     "end_time": "2024-03-14T14:13:03.083531Z",
     "start_time": "2024-03-14T14:13:03.071356Z"
    }
   },
   "id": "65de67a3a33249eb",
   "execution_count": 3,
   "outputs": []
  },
  {
   "cell_type": "code",
   "source": [
    "H_eff = sq_ext.H_eff_p1(ψ_0, H, 4, out='GHz', real=False, remove_ground = False)\n",
    "sq_ext.decomposition_in_pauli_4x4(H_eff, 5); "
   ],
   "metadata": {
    "collapsed": false,
    "ExecuteTime": {
     "end_time": "2024-03-14T14:13:07.501723Z",
     "start_time": "2024-03-14T14:13:07.319300Z"
    }
   },
   "id": "30f1b35045a7038a",
   "execution_count": 5,
   "outputs": []
  },
  {
   "cell_type": "code",
   "source": [
    "qubit_C_qubit = sq_ext.sq_qubit_C_qubit(Cc=0, nmax_r=5, nmax_f=15 )\n",
    "H = qubit_C_qubit.hamiltonian()"
   ],
   "metadata": {
    "collapsed": false,
    "ExecuteTime": {
     "end_time": "2024-03-11T16:45:17.247149600Z",
     "start_time": "2024-03-11T16:45:17.055688700Z"
    }
   },
   "id": "6ba71f75865e6943",
   "execution_count": 16,
   "outputs": []
  },
  {
   "cell_type": "code",
   "source": [
    "H_eff = sq_ext.H_eff_p1(ψ_0, H.permute([2,0,3,1]), 4, out='GHz', real=False, remove_ground = False)\n",
    "sq_ext.decomposition_in_pauli_4x4(H_eff, 5); "
   ],
   "metadata": {
    "collapsed": false,
    "ExecuteTime": {
     "end_time": "2024-03-11T16:45:18.119793700Z",
     "start_time": "2024-03-11T16:45:17.455465700Z"
    }
   },
   "id": "69fc0326122df84d",
   "execution_count": 17,
   "outputs": []
  },
  {
   "cell_type": "code",
   "source": [
    "Hs, ψ_0 = sq_ext.hamiltonian_qubit_C_qubit_C_qubit(nmax_r=3, nmax_f=5, Cc=10, return_Ψ_nonint=True, n_eig_Ψ_nonint=8, periodic=False)"
   ],
   "metadata": {
    "collapsed": false,
    "ExecuteTime": {
     "end_time": "2024-03-12T15:11:08.638847Z",
     "start_time": "2024-03-12T15:11:08.619458Z"
    }
   },
   "id": "a1d90b3373351185",
   "execution_count": 162,
   "outputs": []
  },
  {
   "cell_type": "code",
   "source": [
    "H_eff = sq_ext.H_eff_p1(ψ_0=ψ_0, n_eig=8, H = Hs)\n",
    "sq_ext.decomposition_in_pauli_8x8(H_eff, 2);"
   ],
   "metadata": {
    "collapsed": false,
    "ExecuteTime": {
     "end_time": "2024-03-12T15:11:09.259953Z",
     "start_time": "2024-03-12T15:11:09.250238Z"
    }
   },
   "id": "d4e3ec9478b85867",
   "execution_count": 163,
   "outputs": []
  },
  {
   "cell_type": "code",
   "source": [
    "Hs, ψ_0 = sq_ext.hamiltonian_qubit_C_qubit_C_qubit_full_variables(Cc=0, C1=10, C2=15, C3=20, nmax_r_1=3, nmax_f_1=4, nmax_r_2=5, nmax_f_2=6, nmax_r_3=7, nmax_f_3=8, return_Ψ_nonint=True, n_eig_Ψ_nonint=8, periodic=True)"
   ],
   "metadata": {
    "collapsed": false,
    "ExecuteTime": {
     "end_time": "2024-03-11T15:43:03.063748300Z",
     "start_time": "2024-03-11T15:43:03.001808Z"
    }
   },
   "id": "b2cd9c2400002329",
   "execution_count": 11,
   "outputs": []
  },
  {
   "cell_type": "code",
   "source": [
    "n_eig_Ψ_nonint = 8\n",
    "H_qubit, Ψ_q_0, E_q_0 = sq_ext.hamiltonian_qubit(nmax_r=3, nmax_f=5, return_Ψ_nonint=True, n_eig_Ψ_nonint=n_eig_Ψ_nonint, C=15+0.5)\n",
    "E_q_C_q_C_q, Nq_Nq_Nq = sq_ext.generate_and_prioritize_energies([E_q_0, E_q_0, E_q_0], n_eig=n_eig_Ψ_nonint)\n",
    "Ψ_0 = [qt.tensor([Ψ_q_0[Nq_Nq_Nq_i[0]], Ψ_q_0[Nq_Nq_Nq_i[1]],Ψ_q_0[Nq_Nq_Nq_i[2]]  ]) for Nq_Nq_Nq_i in Nq_Nq_Nq]"
   ],
   "metadata": {
    "collapsed": false,
    "ExecuteTime": {
     "end_time": "2024-03-12T15:11:24.843024Z",
     "start_time": "2024-03-12T15:11:24.833145Z"
    }
   },
   "id": "2c98059479fd52ca",
   "execution_count": 164,
   "outputs": []
  },
  {
   "cell_type": "code",
   "source": [
    "Hf = sq_ext.sq_fluxonium(nmax_f=2).hamiltonian()\n",
    "I = qt.qeye(Hf.dims[0])\n",
    "Hs = qt.tensor(Hf, I, I) + qt.tensor(I, Hf, I) + qt.tensor(I, I, Hf)"
   ],
   "metadata": {
    "collapsed": false,
    "ExecuteTime": {
     "end_time": "2024-03-11T17:10:06.180925500Z",
     "start_time": "2024-03-11T17:10:06.167672900Z"
    }
   },
   "id": "eb991fc1cd2b43c4",
   "execution_count": 62,
   "outputs": []
  },
  {
   "cell_type": "code",
   "source": [
    "perms = []\n",
    "for i, perm in enumerate(permutations(Nq_Nq_Nq)):\n",
    "        perms.append(perm)\n",
    "        if i == 25:\n",
    "                break"
   ],
   "metadata": {
    "collapsed": false,
    "ExecuteTime": {
     "end_time": "2024-03-11T17:48:39.589033800Z",
     "start_time": "2024-03-11T17:48:39.555597600Z"
    }
   },
   "id": "bf5a01495ab894e2",
   "execution_count": 126,
   "outputs": []
  },
  {
   "cell_type": "code",
   "source": [
    "perms[24]"
   ],
   "metadata": {
    "collapsed": false,
    "ExecuteTime": {
     "end_time": "2024-03-11T17:50:49.004602700Z",
     "start_time": "2024-03-11T17:50:48.992820100Z"
    }
   },
   "id": "4464b0c1819df49b",
   "execution_count": 130,
   "outputs": []
  },
  {
   "cell_type": "code",
   "source": [
    "# ψ = sq_ext.diag(H_qubit, n_eig=2, solver='numpy', out='None')[1]\n",
    "# ψ0 = qt.Qobj(ψ[:,0])\n",
    "# ψ1 = qt.Qobj(ψ[:,1])"
   ],
   "metadata": {
    "collapsed": false,
    "ExecuteTime": {
     "end_time": "2024-03-12T15:06:14.006402Z",
     "start_time": "2024-03-12T15:06:14.003578Z"
    }
   },
   "id": "bbcc1ff5e598488a",
   "execution_count": 145,
   "outputs": []
  },
  {
   "cell_type": "code",
   "source": [
    "ψ0 = Ψ_q_0[0]\n",
    "ψ1 = Ψ_q_0[1]"
   ],
   "metadata": {
    "collapsed": false,
    "ExecuteTime": {
     "end_time": "2024-03-12T15:11:36.922709Z",
     "start_time": "2024-03-12T15:11:36.920899Z"
    }
   },
   "id": "1d1700903a141eac",
   "execution_count": 165,
   "outputs": []
  },
  {
   "cell_type": "code",
   "source": [
    "ψ_0 = [ qt.tensor(ψ0,ψ0,ψ0) ,\n",
    "        qt.tensor(ψ1,ψ0,ψ0) ,\n",
    "        qt.tensor(ψ0,ψ1,ψ0) ,\n",
    "        qt.tensor(ψ1,ψ1,ψ0) ,\n",
    "        qt.tensor(ψ0,ψ0,ψ1) ,\n",
    "        qt.tensor(ψ0,ψ1,ψ1) ,\n",
    "        qt.tensor(ψ1,ψ0,ψ1) ,\n",
    "        qt.tensor(ψ1,ψ1,ψ1) ]\n",
    "    "
   ],
   "metadata": {
    "collapsed": false,
    "ExecuteTime": {
     "end_time": "2024-03-12T15:11:37.872550Z",
     "start_time": "2024-03-12T15:11:37.869795Z"
    }
   },
   "id": "236b60a95c9d0328",
   "execution_count": 166,
   "outputs": []
  },
  {
   "cell_type": "code",
   "source": [
    "H_eff = sq_ext.H_eff_p1(ψ_0=ψ_0, n_eig=8, H = Hs)\n",
    "# H_eff = sq_ext.H_eff_p1(ψ_0=ψ_0, n_eig=8, H = Hs)\n",
    "sq_ext.decomposition_in_pauli_8x8(H_eff, 3);\n"
   ],
   "metadata": {
    "collapsed": false,
    "ExecuteTime": {
     "end_time": "2024-03-12T15:11:38.277682Z",
     "start_time": "2024-03-12T15:11:38.267448Z"
    }
   },
   "id": "99594d3881a8a5ae",
   "execution_count": 167,
   "outputs": []
  },
  {
   "cell_type": "code",
   "source": [
    "ψ_0 = [ qt.tensor(ψ0,ψ0,ψ0) ,\n",
    "        qt.tensor(ψ1,ψ0,ψ0) ,\n",
    "        qt.tensor(ψ0,ψ1,ψ0) ,\n",
    "        qt.tensor(ψ1,ψ1,ψ0) ]\n",
    "    "
   ],
   "metadata": {
    "collapsed": false,
    "ExecuteTime": {
     "end_time": "2024-03-12T15:11:40.471125Z",
     "start_time": "2024-03-12T15:11:40.468858Z"
    }
   },
   "id": "1f628f43871b7fd9",
   "execution_count": 168,
   "outputs": []
  },
  {
   "cell_type": "code",
   "source": [
    "H_eff = sq_ext.H_eff_p1(ψ_0=ψ_0, n_eig=4, H = Hs)\n",
    "# H_eff = sq_ext.H_eff_p1(ψ_0=ψ_0, n_eig=8, H = Hs)\n",
    "sq_ext.decomposition_in_pauli_4x4(H_eff, 3);\n"
   ],
   "metadata": {
    "collapsed": false,
    "ExecuteTime": {
     "end_time": "2024-03-12T15:11:40.842186Z",
     "start_time": "2024-03-12T15:11:40.837771Z"
    }
   },
   "id": "c52e9960fb333217",
   "execution_count": 169,
   "outputs": []
  },
  {
   "cell_type": "code",
   "source": [
    "P = []\n",
    "for i, ψ_0_p in enumerate( permutations(ψ_0 )):\n",
    "        print(i)\n",
    "        H_eff = sq_ext.H_eff_p1(ψ_0=ψ_0_p, n_eig=8, H = Hs)\n",
    "        # H_eff = sq_ext.H_eff_p1(ψ_0=ψ_0, n_eig=8, H = Hs)\n",
    "        P.append( sq_ext.decomposition_in_pauli_8x8(H_eff, 3, Print=False)) \n",
    "        "
   ],
   "metadata": {
    "collapsed": false,
    "ExecuteTime": {
     "end_time": "2024-03-11T17:20:41.430684Z",
     "start_time": "2024-03-11T17:10:26.815675Z"
    }
   },
   "id": "62d154476b8256ec",
   "execution_count": 65,
   "outputs": []
  },
  {
   "cell_type": "code",
   "source": [
    "np.abs(P[:,0,0,0 ]) >0 * np.abs(P[:,0,0,-1])>0 * np.abs(P[:,0,-1,0])>0 * np.abs(P[:,-1,0,0])"
   ],
   "metadata": {
    "collapsed": false,
    "ExecuteTime": {
     "end_time": "2024-03-11T17:39:56.865132200Z",
     "start_time": "2024-03-11T17:39:56.829106100Z"
    }
   },
   "id": "22c733a40b85fbaa",
   "execution_count": 99,
   "outputs": []
  },
  {
   "cell_type": "code",
   "source": [
    "test=np.bitwise_and( np.bitwise_and( np.bitwise_and(np.abs(P[:,0,0,0 ]) >0, np.abs(P[:,0,0,-1])>0),  np.bitwise_and(np.abs(P[:,0,-1,0 ]) >0, np.abs(P[:,-1,0,0])>0)), np.abs(P[:,-1,-1,-1])==0)"
   ],
   "metadata": {
    "collapsed": false,
    "ExecuteTime": {
     "end_time": "2024-03-11T17:44:53.887263Z",
     "start_time": "2024-03-11T17:44:53.841619600Z"
    }
   },
   "id": "60e0db6a55d49bab",
   "execution_count": 111,
   "outputs": []
  },
  {
   "cell_type": "code",
   "source": [
    "np.where(test==True)"
   ],
   "metadata": {
    "collapsed": false,
    "ExecuteTime": {
     "end_time": "2024-03-11T17:52:04.086400300Z",
     "start_time": "2024-03-11T17:52:04.081997Z"
    }
   },
   "id": "e071a5813f609f0c",
   "execution_count": 131,
   "outputs": []
  },
  {
   "cell_type": "code",
   "source": [
    "test.sum()"
   ],
   "metadata": {
    "collapsed": false,
    "ExecuteTime": {
     "end_time": "2024-03-11T17:52:18.896619200Z",
     "start_time": "2024-03-11T17:52:18.871091Z"
    }
   },
   "id": "45c53a8700da00e8",
   "execution_count": 133,
   "outputs": []
  },
  {
   "cell_type": "code",
   "source": [
    "P[24]"
   ],
   "metadata": {
    "collapsed": false,
    "ExecuteTime": {
     "end_time": "2024-03-11T17:45:41.592698200Z",
     "start_time": "2024-03-11T17:45:41.549401300Z"
    }
   },
   "id": "8a9a5b39cd8bd933",
   "execution_count": 115,
   "outputs": []
  },
  {
   "cell_type": "code",
   "source": [
    "np.bitwise_and([True, True], [True, False])"
   ],
   "metadata": {
    "collapsed": false,
    "ExecuteTime": {
     "end_time": "2024-03-11T17:41:52.867427900Z",
     "start_time": "2024-03-11T17:41:52.832990800Z"
    }
   },
   "id": "a53ac81fd04265bb",
   "execution_count": 107,
   "outputs": []
  },
  {
   "cell_type": "code",
   "source": [
    "I_qubit = qt.identity(H_qubit.dims[0])\n",
    "H_test =    (  qt.tensor(H_qubit, I_qubit, I_qubit)\n",
    "               + qt.tensor(I_qubit, H_qubit, I_qubit)\n",
    "               + qt.tensor(I_qubit, I_qubit, H_qubit) )\n",
    "H == H_test"
   ],
   "metadata": {
    "collapsed": false,
    "ExecuteTime": {
     "end_time": "2024-03-11T11:06:21.429568400Z",
     "start_time": "2024-03-11T11:06:21.393231800Z"
    }
   },
   "id": "39557f5822ed3a68",
   "execution_count": 13,
   "outputs": []
  },
  {
   "cell_type": "code",
   "source": [
    "H_eff = sq_ext.H_eff_p1(ψ_0, H, 8, out='GHz', real=False, remove_ground = True)"
   ],
   "metadata": {
    "collapsed": false,
    "ExecuteTime": {
     "end_time": "2024-03-11T11:06:37.672603900Z",
     "start_time": "2024-03-11T11:06:37.658701800Z"
    }
   },
   "id": "4c616e77a498555c",
   "execution_count": 14,
   "outputs": []
  },
  {
   "cell_type": "code",
   "source": [
    "Nq_Nq_Nq"
   ],
   "metadata": {
    "collapsed": false,
    "ExecuteTime": {
     "end_time": "2024-03-11T11:15:16.952222900Z",
     "start_time": "2024-03-11T11:15:16.926607500Z"
    }
   },
   "id": "f5013197c5968a99",
   "execution_count": 28,
   "outputs": []
  },
  {
   "cell_type": "code",
   "source": [
    "E_q_C_q_C_q"
   ],
   "metadata": {
    "collapsed": false,
    "ExecuteTime": {
     "end_time": "2024-03-11T11:14:23.255015400Z",
     "start_time": "2024-03-11T11:14:23.241173500Z"
    }
   },
   "id": "220544a9b44c900d",
   "execution_count": 25,
   "outputs": []
  },
  {
   "cell_type": "code",
   "source": [
    "sq_ext.diag(H_eff, 8, out = None, solver='numpy')[0]"
   ],
   "metadata": {
    "collapsed": false,
    "ExecuteTime": {
     "end_time": "2024-03-11T11:14:59.624572200Z",
     "start_time": "2024-03-11T11:14:59.601898400Z"
    }
   },
   "id": "60f8be2e535bc462",
   "execution_count": 27,
   "outputs": []
  },
  {
   "cell_type": "code",
   "source": [
    "sq_ext.decomposition_in_pauli_8x8(H_eff, 5);"
   ],
   "metadata": {
    "collapsed": false,
    "ExecuteTime": {
     "end_time": "2024-03-11T11:06:46.990546100Z",
     "start_time": "2024-03-11T11:06:46.972452600Z"
    }
   },
   "id": "c7e0d4a55e636fee",
   "execution_count": 15,
   "outputs": []
  },
  {
   "cell_type": "code",
   "source": [
    "σz = qt.sigmaz()\n",
    "σx = qt.sigmax()\n",
    "I = qt.qeye(2)\n",
    "# H_test = qt.tensor(σz, σz ,2*σx) + qt.tensor(I, σz, σz) + qt.tensor(I, I, σx) + qt.tensor(σx,σx,σx)\n",
    "H_test = qt.tensor(σz,I, I) + qt.tensor(I, σz,I) + qt.tensor(I, I, σz) \n",
    "sq_ext.decomposition_in_pauli_8x8(H_test, 5);"
   ],
   "metadata": {
    "collapsed": false,
    "ExecuteTime": {
     "end_time": "2024-03-11T13:18:44.357317Z",
     "start_time": "2024-03-11T13:18:44.334146200Z"
    }
   },
   "id": "763fbc8922403ff5",
   "execution_count": 43,
   "outputs": []
  },
  {
   "cell_type": "code",
   "source": [
    "H_test"
   ],
   "metadata": {
    "collapsed": false,
    "ExecuteTime": {
     "end_time": "2024-03-11T13:18:44.777218300Z",
     "start_time": "2024-03-11T13:18:44.770658Z"
    }
   },
   "id": "cdcd7e008a485747",
   "execution_count": 44,
   "outputs": []
  },
  {
   "cell_type": "code",
   "source": [
    "H_test.__array__()[::-1,::-1]"
   ],
   "metadata": {
    "collapsed": false,
    "ExecuteTime": {
     "end_time": "2024-03-11T13:17:46.380139Z",
     "start_time": "2024-03-11T13:17:46.370349200Z"
    }
   },
   "id": "93a5a2494eb30717",
   "execution_count": 39,
   "outputs": []
  },
  {
   "cell_type": "code",
   "source": [
    "sq_ext.decomposition_in_pauli_8x8(H_test.__array__()[::-1,::-1], 5);"
   ],
   "metadata": {
    "collapsed": false,
    "ExecuteTime": {
     "end_time": "2024-03-11T13:17:59.913455Z",
     "start_time": "2024-03-11T13:17:59.874228500Z"
    }
   },
   "id": "a04e14f67083881c",
   "execution_count": 40,
   "outputs": []
  },
  {
   "cell_type": "code",
   "source": [
    "H_eff = sq_ext.H_eff_p1(ψ_0, H, 8, out='GHz', real=False, remove_ground = True, H_0 = H)\n",
    "sq_ext.decomposition_in_pauli_8x8(H_eff, 5);"
   ],
   "metadata": {
    "collapsed": false
   },
   "id": "607bcae227651801",
   "execution_count": 168,
   "outputs": []
  },
  {
   "cell_type": "code",
   "source": [
    "np.round(np.real(H_eff),2)"
   ],
   "metadata": {
    "collapsed": false,
    "ExecuteTime": {
     "end_time": "2024-03-07T13:36:53.003416300Z",
     "start_time": "2024-03-07T13:36:52.982888200Z"
    }
   },
   "id": "817bbf045b600328",
   "execution_count": 188,
   "outputs": []
  },
  {
   "cell_type": "code",
   "source": [],
   "metadata": {
    "collapsed": false
   },
   "id": "a8148b87f417f475",
   "execution_count": null,
   "outputs": []
  }
 ],
 "metadata": {
  "kernelspec": {
   "display_name": "Python 3",
   "language": "python",
   "name": "python3"
  },
  "language_info": {
   "codemirror_mode": {
    "name": "ipython",
    "version": 2
   },
   "file_extension": ".py",
   "mimetype": "text/x-python",
   "name": "python",
   "nbconvert_exporter": "python",
   "pygments_lexer": "ipython2",
   "version": "2.7.6"
  }
 },
 "nbformat": 4,
 "nbformat_minor": 5
}
