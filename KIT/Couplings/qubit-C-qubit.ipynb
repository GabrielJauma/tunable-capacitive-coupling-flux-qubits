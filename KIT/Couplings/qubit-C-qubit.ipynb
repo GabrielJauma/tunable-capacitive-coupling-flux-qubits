{
 "cells": [
  {
   "cell_type": "code",
   "execution_count": 67,
   "source": [
    "import Modules.SQcircuit_extensions as sq_ext\n",
    "import Modules.figures as figs\n",
    "import SQcircuit as sq\n",
    "import numpy as np\n",
    "import matplotlib.pyplot as plt\n",
    "import importlib\n",
    "import qutip as qt\n",
    "import sympy as sym\n",
    "\n",
    "\n",
    "%matplotlib ipympl\n",
    "plt.rcParams['text.usetex'] = False\n",
    "importlib.reload(sq_ext)\n",
    "importlib.reload(sq)\n",
    "importlib.reload(figs)\n",
    "np.set_printoptions(linewidth=300, formatter={'float': '{:.4f}'.format})\n",
    "# np.set_printoptions(linewidth=200, formatter={'float': '{:.1e}'.format})"
   ],
   "metadata": {
    "collapsed": false,
    "ExecuteTime": {
     "end_time": "2024-03-15T16:23:14.858109300Z",
     "start_time": "2024-03-15T16:23:14.816994600Z"
    }
   },
   "id": "2dc572c9a0671950",
   "outputs": []
  },
  {
   "cell_type": "code",
   "execution_count": 3,
   "source": [
    "# Fundamental constants\n",
    "h    = 6.626e-34\n",
    "GHz  = 1e9\n",
    "e0   = 1.602e-19\n",
    "Φ_0  = h/(2*e0)\n",
    "\n",
    "# Circuit parameters\n",
    "Csh = 15\n",
    "C   = 15\n",
    "Cg  = 10\n",
    "CJ  = 3\n",
    "Lq  = 25\n",
    "Lr  = 10\n",
    "Δ   = 0.1\n",
    "EJ  = 10.0\n",
    "l = Lq*(Lq+4*Lr) - 4*Δ**2\n",
    "\n",
    "Cc = 0.5"
   ],
   "metadata": {
    "collapsed": false,
    "ExecuteTime": {
     "end_time": "2024-03-14T13:55:42.158139Z",
     "start_time": "2024-03-14T13:55:42.156255Z"
    }
   },
   "id": "4e990ee21e8d01c2",
   "outputs": []
  },
  {
   "cell_type": "code",
   "execution_count": 19,
   "source": [
    "nmax_r = 4\n",
    "nmax_f = 15"
   ],
   "metadata": {
    "collapsed": false,
    "ExecuteTime": {
     "end_time": "2024-02-09T11:15:42.703439800Z",
     "start_time": "2024-02-09T11:15:42.681071Z"
    }
   },
   "id": "3fb0929126c04476",
   "outputs": []
  },
  {
   "cell_type": "code",
   "source": [
    "# Initialize loops\n",
    "loop_qubit = sq.Loop(0.5)\n",
    "loop1_qubit_C_qubit= sq.Loop(0.5)\n",
    "loop2_qubit_C_qubit = sq.Loop(0.5)\n",
    "\n",
    "# Circuit components\n",
    "C_01, C_01_rc, C_02, C_02_rc, C_12, L_03, L_31, L_23, JJ_12 = [[] for _ in range(9)]\n",
    "for loop in [loop_qubit, loop1_qubit_C_qubit, loop2_qubit_C_qubit]:\n",
    "    C_01       .append(sq.Capacitor(C,          'fF'))\n",
    "    C_01_rc    .append(sq.Capacitor(C+Cc,       'fF')) # With extra Cc for redout or coupling\n",
    "    C_02       .append(sq.Capacitor(C,          'fF'))\n",
    "    C_02_rc    .append(sq.Capacitor(C+Cc,       'fF')) # With extra Cc for redout or coupling\n",
    "    C_12 .append(sq.Capacitor(CJ+Csh,  'fF'))\n",
    "    L_03 .append(sq.Inductor(Lr,       'nH'))\n",
    "    L_31 .append(sq.Inductor(Lq/2 - Δ, 'nH',  loops=[loop]))\n",
    "    L_23 .append(sq.Inductor(Lq/2 + Δ, 'nH',  loops=[loop]))\n",
    "    JJ_12.append(sq.Junction(EJ,       'GHz', loops=[loop]))\n",
    "C_24 = sq.Capacitor(Cc, 'fF')\n"
   ],
   "metadata": {
    "collapsed": false,
    "ExecuteTime": {
     "end_time": "2024-02-09T11:15:43.020780300Z",
     "start_time": "2024-02-09T11:15:43.004196500Z"
    }
   },
   "id": "8e7ee39e001d6ee3",
   "execution_count": 20,
   "outputs": []
  },
  {
   "cell_type": "markdown",
   "source": [
    "# Symmetric Cc coupling\n",
    "That is, the inner nodes of the qubits are coupled with Cc, and the outer nodes of the qubits are coupled with Cc to their respective readout lines.\n",
    "As a result, the renormalization induced by Cc ensures that the qubit and resonator modes are still the symmetric and atisymmetric combination of the fluxes of the upper nodes."
   ],
   "metadata": {
    "collapsed": false
   },
   "id": "ea25895065fd4e4f"
  },
  {
   "cell_type": "markdown",
   "source": [
    "## Composing the circuit with fluxoniums and resonatrs"
   ],
   "metadata": {
    "collapsed": false
   },
   "id": "8952d1d69ad26801"
  },
  {
   "cell_type": "code",
   "execution_count": 40,
   "source": [
    "def hamiltonian_qubit_C_qubit(nmax_r, nmax_f, Cc, C = 15, CJ = 3, Csh= 15, Lq = 25, Lr = 10, Δ = 0.1, inverse='Numeric'):\n",
    "    fF = 1e-15\n",
    "    C_R = C/2\n",
    "    C_C = Cc\n",
    "    C_F = C/2 + Csh + CJ\n",
    "    \n",
    "    if inverse == 'Numeric':\n",
    "        C_mat = np.array([[C_R + C_C/2, 0, -C_C / 2,        0],\n",
    "                          [0, C_F + C_C/2,       0 , -C_C / 2],\n",
    "                          [-C_C / 2,        0, C_R + C_C/2, 0],\n",
    "                          [       0, -C_C / 2, 0, C_F + C_C/2]])\n",
    "        # C_mat = np.array([[C_R + C_C/2, -C_C/4, -C_C / 2,        0],\n",
    "        #                   [-C_C/4, C_F + C_C/2,       0 , -C_C / 2],\n",
    "        #                   [-C_C / 2,        0, C_R + C_C/2, -C_C/4],\n",
    "        #                   [       0, -C_C / 2, -C_C/4, C_F + C_C/2]])\n",
    "        \n",
    "        C_inv = np.linalg.inv(C_mat)\n",
    "        C_R_tilde = C_inv[0,0]**-1\n",
    "        C_F_tilde = C_inv[1,1]**-1\n",
    "        C_RR      = C_inv[0,2]**-1\n",
    "        C_FF      = C_inv[1,3]**-1\n",
    "        \n",
    "    elif inverse == 'Analytic':\n",
    "        C_R_tilde = (C_C/2+C_R)/(C_R*(C_C+C_R))\n",
    "        C_F_tilde = (C_C/2+C_F)/(C_F*(C_C+C_F))\n",
    "        C_RR      = C_C/2/(C_R*(C_C+C_R))\n",
    "        C_FF      = C_C/2/(C_F*(C_C+C_F))\n",
    "        \n",
    "    elif inverse == 'Approx':\n",
    "        C_R_tilde = C_R\n",
    "        C_F_tilde = C_F\n",
    "        C_RR      = 2*C_R**2/C_C\n",
    "        C_FF      = 2*C_F**2/C_C\n",
    "    \n",
    "    resonator = sq_ext.sq_resonator(C_R_eff=C_R_tilde, Lq = Lq, Lr = Lr, Δ = Δ, trunc_res =nmax_r)\n",
    "    fluxonium = sq_ext.sq_fluxonium(C_F_eff=C_F_tilde, Lq = Lq, Lr = Lr, Δ = Δ, trunc_flux=nmax_f)\n",
    "    \n",
    "    # H_qubit  = sq_ext.hamiltonian_qubit(fluxonium, resonator, Δ, C_int=C_inv[0,1]**-1)\n",
    "    H_qubit  = sq_ext.hamiltonian_qubit(fluxonium, resonator, Δ)\n",
    "    \n",
    "    I_r       = qt.identity(nmax_r)\n",
    "    I_f       = qt.identity(nmax_f)\n",
    "    I_H_qubit = qt.identity(H_qubit .dims[0])\n",
    "    \n",
    "    q_r = qt.tensor(resonator.charge_op(0), I_f)\n",
    "    q_f = qt.tensor(I_r, fluxonium.charge_op(0))\n",
    "    \n",
    "    H_0 =  qt.tensor(H_qubit, I_H_qubit) + qt.tensor(I_H_qubit, H_qubit) \n",
    "    H_coupling = 1/(C_RR*fF) * qt.tensor(q_r,q_r) + 1/(C_FF*fF) * qt.tensor(q_f,q_f)\n",
    "\n",
    "    return H_0 + H_coupling\n"
   ],
   "metadata": {
    "collapsed": false,
    "ExecuteTime": {
     "end_time": "2024-02-09T11:29:48.203829800Z",
     "start_time": "2024-02-09T11:29:48.149439Z"
    }
   },
   "id": "fc89e2fe3ac18768",
   "outputs": []
  },
  {
   "cell_type": "markdown",
   "source": [
    "## Creating the full circuits with sqcircuits to check that the energies are the same\n",
    "### Circuit elements"
   ],
   "metadata": {
    "collapsed": false
   },
   "id": "8a574132ffa304f4"
  },
  {
   "cell_type": "markdown",
   "source": [
    "### Two qubits capacitively coupled"
   ],
   "metadata": {
    "collapsed": false
   },
   "id": "f2fcc92e6754573f"
  },
  {
   "cell_type": "code",
   "execution_count": 22,
   "source": [
    "elements_qubit_C_qubit = { \n",
    "    # qubit 1, nodes [0, 1, 2, 3]\n",
    "    (0, 3): [L_03[1]],\n",
    "    (0, 1): [C_01[1]],\n",
    "    (0, 2): [C_02[1]],\n",
    "    (3, 1): [L_31[1]],\n",
    "    (1, 2): [C_12[1], JJ_12[1]],\n",
    "    (2, 3): [L_23[1]],\n",
    "    # qubit 2, nodes [0, 4, 5, 6]\n",
    "    (0, 6): [L_03[2]],\n",
    "    (0, 4): [C_01[2]],\n",
    "    (0, 5): [C_02[2]],\n",
    "    (6, 4): [L_31[2]],\n",
    "    (4, 5): [C_12[2], JJ_12[2]],\n",
    "    (5, 6): [L_23[2]],\n",
    "    # capacitive coupling\n",
    "    (2, 4): [C_24],\n",
    "    (1, 5): [C_24]\n",
    "}\n",
    "\n",
    "qubit_C_qubit = sq.Circuit(elements_qubit_C_qubit)\n",
    "qubit_C_qubit.set_trunc_nums([nmax_r, nmax_r, nmax_f, nmax_f])\n",
    "qubit_C_qubit.description()"
   ],
   "metadata": {
    "collapsed": false,
    "ExecuteTime": {
     "end_time": "2024-02-09T11:16:05.052349500Z",
     "start_time": "2024-02-09T11:16:04.286784400Z"
    }
   },
   "id": "d7e0569e3fba75c5",
   "outputs": []
  },
  {
   "cell_type": "markdown",
   "source": [
    "# Couplig vs capacitance"
   ],
   "metadata": {
    "collapsed": false
   },
   "id": "62df8fab48c30323"
  },
  {
   "cell_type": "code",
   "source": [
    "# Cc_values = np.concatenate((np.array([0]), np.geomspace(1e-3, 1e2, 15)))\n",
    "Cc_values = np.linspace(0.1, 100, 30)\n",
    "Lq=10\n",
    "EJ=25"
   ],
   "metadata": {
    "collapsed": false,
    "ExecuteTime": {
     "end_time": "2024-03-15T16:27:57.481092400Z",
     "start_time": "2024-03-15T16:27:57.457933600Z"
    }
   },
   "id": "36256a77023efca7",
   "execution_count": 76,
   "outputs": []
  },
  {
   "cell_type": "code",
   "source": [
    "P = np.zeros([len(Cc_values), 4, 4], dtype='complex')\n",
    "for i, Cc in enumerate(Cc_values):\n",
    "    # _, ψ_0 = sq_ext.hamiltonian_qubit_C_qubit(nmax_r=3, nmax_f=10,Lq=Lq, EJ=EJ, Cc=Cc, return_Ψ_nonint=True)\n",
    "    # H=sq_ext.sq_qubit_C_qubit(nmax_r=3, nmax_f=10,Lq=Lq, EJ=EJ, Cc=Cc).hamiltonian().permute([2,0,3,1])\n",
    "    # H_eff  = sq_ext.H_eff_SWT(ψ_0, H, 4, out='GHz', real=False, remove_ground = True)\n",
    "    \n",
    "    H, ψ_0 = sq_ext.hamiltonian_qubit_C_qubit(nmax_r=5, nmax_f=15, Cc=Cc, return_Ψ_nonint=True)\n",
    "    # H, ψ_0 = sq_ext.hamiltonian_fluxonium_C_fluxonium( nmax_f=25, Cc=Cc, Lq=10, EJ=25, return_Ψ_nonint=True)\n",
    "    H_eff  = sq_ext.H_eff_SWT(ψ_0, H, 4, out='GHz', real=False, remove_ground = True)\n",
    "    P[i]   = sq_ext.decomposition_in_pauli_4x4(H_eff, print=False)"
   ],
   "metadata": {
    "collapsed": false,
    "ExecuteTime": {
     "end_time": "2024-03-15T16:29:38.363552400Z",
     "start_time": "2024-03-15T16:29:30.536474800Z"
    }
   },
   "id": "a4cdc918c7a27648",
   "execution_count": 79,
   "outputs": []
  },
  {
   "cell_type": "code",
   "source": [
    "labels = ['I', 'σx', 'σy', 'σz']  \n",
    " \n",
    "fig, ax = plt.subplots()\n",
    "for i in range(1,4):\n",
    "    for j in range(1,4):\n",
    "        if np.any(np.abs(P[:,i,j])>1e-10):\n",
    "            ax.plot(Cc_values, P[:,i,j],'.-' , label = labels[i] + ' \\U00002A02' + labels[j])\n",
    "            # ax.plot(Cc_values, np.abs(P[:,i,j]),'.-' , label = labels[i] + ' \\U00002A02' + labels[j])\n",
    "fig.legend()\n",
    "fig.show()"
   ],
   "metadata": {
    "collapsed": false,
    "ExecuteTime": {
     "end_time": "2024-03-15T16:29:40.147063600Z",
     "start_time": "2024-03-15T16:29:40.062759200Z"
    }
   },
   "id": "870a04fb382ca6de",
   "execution_count": 80,
   "outputs": []
  },
  {
   "cell_type": "code",
   "source": [
    "labels = ['I', 'σx', 'σy', 'σz']   \n",
    "\n",
    "fig, ax = plt.subplots()\n",
    "for i in range(1,4):\n",
    "    for j in range(1,4):\n",
    "        if np.any(np.abs(P[:,i,j])>1e-10):\n",
    "            ax.plot(Cc_values, P[:,i,j], label = labels[i] + ' \\U00002A02' + labels[j] )\n",
    "fig.legend()\n",
    "fig.show()"
   ],
   "metadata": {
    "collapsed": false,
    "ExecuteTime": {
     "end_time": "2024-03-14T14:41:06.638496Z",
     "start_time": "2024-03-14T14:41:06.599228Z"
    }
   },
   "id": "a1948bafab909bb5",
   "execution_count": 70,
   "outputs": []
  },
  {
   "cell_type": "code",
   "source": [
    "labels = ['I', 'σx', 'σy', 'σz']  # useful to print the result.\n",
    "fig, ax = plt.subplots()\n",
    "ax.plot(Cc_values, P[:,2,2], label = labels[2] + ' \\U00002A02' + labels[2] )\n",
    "ax.plot(Cc_values, P[:,3,3], label = labels[3] + ' \\U00002A02' + labels[3] )\n",
    "fig.legend()\n",
    "fig.show()"
   ],
   "metadata": {
    "collapsed": false,
    "ExecuteTime": {
     "end_time": "2024-03-14T14:31:57.230979Z",
     "start_time": "2024-03-14T14:31:57.193635Z"
    }
   },
   "id": "f36d027377d96b0",
   "execution_count": 53,
   "outputs": []
  },
  {
   "cell_type": "code",
   "source": [
    "P[-1]"
   ],
   "metadata": {
    "collapsed": false,
    "ExecuteTime": {
     "end_time": "2024-03-14T14:29:05.308868Z",
     "start_time": "2024-03-14T14:29:05.306177Z"
    }
   },
   "id": "4feb48715ec40809",
   "execution_count": 41,
   "outputs": []
  },
  {
   "cell_type": "code",
   "source": [],
   "metadata": {
    "collapsed": false
   },
   "id": "d6b581aa87010145",
   "execution_count": null,
   "outputs": []
  }
 ],
 "metadata": {
  "kernelspec": {
   "display_name": "Python 3",
   "language": "python",
   "name": "python3"
  },
  "language_info": {
   "codemirror_mode": {
    "name": "ipython",
    "version": 2
   },
   "file_extension": ".py",
   "mimetype": "text/x-python",
   "name": "python",
   "nbconvert_exporter": "python",
   "pygments_lexer": "ipython2",
   "version": "2.7.6"
  }
 },
 "nbformat": 4,
 "nbformat_minor": 5
}
