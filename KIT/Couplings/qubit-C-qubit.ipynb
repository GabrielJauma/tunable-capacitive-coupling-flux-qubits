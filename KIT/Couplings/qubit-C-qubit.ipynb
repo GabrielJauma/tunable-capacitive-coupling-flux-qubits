{
 "cells": [
  {
   "cell_type": "code",
   "execution_count": 49,
   "outputs": [],
   "source": [
    "import Modules.SQcircuit_extensions as sq_ext\n",
    "import Modules.figures as figs\n",
    "import SQcircuit as sq\n",
    "import numpy as np\n",
    "import matplotlib.pyplot as plt\n",
    "import importlib\n",
    "import qutip as qt\n",
    "import sympy as sym\n",
    "\n",
    "\n",
    "%matplotlib ipympl\n",
    "plt.rcParams['text.usetex'] = False\n",
    "importlib.reload(sq_ext)\n",
    "importlib.reload(sq)\n",
    "importlib.reload(figs)\n",
    "np.set_printoptions(linewidth=300, formatter={'float': '{:.4f}'.format})\n",
    "# np.set_printoptions(linewidth=200, formatter={'float': '{:.1e}'.format})"
   ],
   "metadata": {
    "collapsed": false,
    "ExecuteTime": {
     "end_time": "2024-02-09T11:31:06.242034300Z",
     "start_time": "2024-02-09T11:31:06.208859100Z"
    }
   },
   "id": "2dc572c9a0671950"
  },
  {
   "cell_type": "code",
   "execution_count": 18,
   "outputs": [],
   "source": [
    "# Fundamental constants\n",
    "h    = 6.626e-34\n",
    "GHz  = 1e9\n",
    "e0   = 1.602e-19\n",
    "Φ_0  = h/(2*e0)\n",
    "\n",
    "# Circuit parameters\n",
    "Csh = 15\n",
    "C   = 15\n",
    "Cg  = 10\n",
    "CJ  = 3\n",
    "Lq  = 25\n",
    "Lr  = 10\n",
    "Δ   = 0.1\n",
    "EJ  = 10.0\n",
    "l = Lq*(Lq+4*Lr) - 4*Δ**2\n",
    "\n",
    "Cc = 0.5"
   ],
   "metadata": {
    "collapsed": false,
    "ExecuteTime": {
     "end_time": "2024-02-09T11:15:42.363521100Z",
     "start_time": "2024-02-09T11:15:42.348034500Z"
    }
   },
   "id": "4e990ee21e8d01c2"
  },
  {
   "cell_type": "code",
   "execution_count": 19,
   "outputs": [],
   "source": [
    "nmax_r = 4\n",
    "nmax_f = 15"
   ],
   "metadata": {
    "collapsed": false,
    "ExecuteTime": {
     "end_time": "2024-02-09T11:15:42.703439800Z",
     "start_time": "2024-02-09T11:15:42.681071Z"
    }
   },
   "id": "3fb0929126c04476"
  },
  {
   "cell_type": "code",
   "outputs": [],
   "source": [
    "# Initialize loops\n",
    "loop_qubit = sq.Loop(0.5)\n",
    "loop1_qubit_C_qubit= sq.Loop(0.5)\n",
    "loop2_qubit_C_qubit = sq.Loop(0.5)\n",
    "\n",
    "# Circuit components\n",
    "C_01, C_01_rc, C_02, C_02_rc, C_12, L_03, L_31, L_23, JJ_12 = [[] for _ in range(9)]\n",
    "for loop in [loop_qubit, loop1_qubit_C_qubit, loop2_qubit_C_qubit]:\n",
    "    C_01       .append(sq.Capacitor(C,          'fF'))\n",
    "    C_01_rc    .append(sq.Capacitor(C+Cc,       'fF')) # With extra Cc for redout or coupling\n",
    "    C_02       .append(sq.Capacitor(C,          'fF'))\n",
    "    C_02_rc    .append(sq.Capacitor(C+Cc,       'fF')) # With extra Cc for redout or coupling\n",
    "    C_12 .append(sq.Capacitor(CJ+Csh,  'fF'))\n",
    "    L_03 .append(sq.Inductor(Lr,       'nH'))\n",
    "    L_31 .append(sq.Inductor(Lq/2 - Δ, 'nH',  loops=[loop]))\n",
    "    L_23 .append(sq.Inductor(Lq/2 + Δ, 'nH',  loops=[loop]))\n",
    "    JJ_12.append(sq.Junction(EJ,       'GHz', loops=[loop]))\n",
    "C_24 = sq.Capacitor(Cc, 'fF')\n"
   ],
   "metadata": {
    "collapsed": false,
    "ExecuteTime": {
     "end_time": "2024-02-09T11:15:43.020780300Z",
     "start_time": "2024-02-09T11:15:43.004196500Z"
    }
   },
   "id": "8e7ee39e001d6ee3",
   "execution_count": 20
  },
  {
   "cell_type": "markdown",
   "source": [
    "# Symmetric Cc coupling\n",
    "That is, the inner nodes of the qubits are coupled with Cc, and the outer nodes of the qubits are coupled with Cc to their respective readout lines.\n",
    "As a result, the renormalization induced by Cc ensures that the qubit and resonator modes are still the symmetric and atisymmetric combination of the fluxes of the upper nodes."
   ],
   "metadata": {
    "collapsed": false
   },
   "id": "ea25895065fd4e4f"
  },
  {
   "cell_type": "markdown",
   "source": [
    "## Composing the circuit with fluxoniums and resonatrs"
   ],
   "metadata": {
    "collapsed": false
   },
   "id": "8952d1d69ad26801"
  },
  {
   "cell_type": "code",
   "execution_count": 40,
   "outputs": [],
   "source": [
    "def hamiltonian_qubit_C_qubit(nmax_r, nmax_f, Cc, C = 15, CJ = 3, Csh= 15, Lq = 25, Lr = 10, Δ = 0.1, inverse='Numeric'):\n",
    "    fF = 1e-15\n",
    "    C_R = C/2\n",
    "    C_C = Cc\n",
    "    C_F = C/2 + Csh + CJ\n",
    "    \n",
    "    if inverse == 'Numeric':\n",
    "        C_mat = np.array([[C_R + C_C/2, 0, -C_C / 2,        0],\n",
    "                          [0, C_F + C_C/2,       0 , -C_C / 2],\n",
    "                          [-C_C / 2,        0, C_R + C_C/2, 0],\n",
    "                          [       0, -C_C / 2, 0, C_F + C_C/2]])\n",
    "        # C_mat = np.array([[C_R + C_C/2, -C_C/4, -C_C / 2,        0],\n",
    "        #                   [-C_C/4, C_F + C_C/2,       0 , -C_C / 2],\n",
    "        #                   [-C_C / 2,        0, C_R + C_C/2, -C_C/4],\n",
    "        #                   [       0, -C_C / 2, -C_C/4, C_F + C_C/2]])\n",
    "        \n",
    "        C_inv = np.linalg.inv(C_mat)\n",
    "        C_R_tilde = C_inv[0,0]**-1\n",
    "        C_F_tilde = C_inv[1,1]**-1\n",
    "        C_RR      = C_inv[0,2]**-1\n",
    "        C_FF      = C_inv[1,3]**-1\n",
    "        \n",
    "    elif inverse == 'Analytic':\n",
    "        C_R_tilde = (C_C/2+C_R)/(C_R*(C_C+C_R))\n",
    "        C_F_tilde = (C_C/2+C_F)/(C_F*(C_C+C_F))\n",
    "        C_RR      = C_C/2/(C_R*(C_C+C_R))\n",
    "        C_FF      = C_C/2/(C_F*(C_C+C_F))\n",
    "        \n",
    "    elif inverse == 'Approx':\n",
    "        C_R_tilde = C_R\n",
    "        C_F_tilde = C_F\n",
    "        C_RR      = 2*C_R**2/C_C\n",
    "        C_FF      = 2*C_F**2/C_C\n",
    "    \n",
    "    resonator = sq_ext.KIT_resonator(C_R_eff=C_R_tilde, Lq = Lq, Lr = Lr, Δ = Δ, trunc_res =nmax_r)\n",
    "    fluxonium = sq_ext.KIT_fluxonium(C_F_eff=C_F_tilde, Lq = Lq, Lr = Lr, Δ = Δ, trunc_flux=nmax_f)\n",
    "    \n",
    "    # H_qubit  = sq_ext.hamiltonian_frc(fluxonium, resonator, Δ, C_int=C_inv[0,1]**-1)\n",
    "    H_qubit  = sq_ext.hamiltonian_frc(fluxonium, resonator, Δ)\n",
    "    \n",
    "    I_r       = qt.identity(nmax_r)\n",
    "    I_f       = qt.identity(nmax_f)\n",
    "    I_H_qubit = qt.identity(H_qubit .dims[0])\n",
    "    \n",
    "    q_r = qt.tensor(resonator.charge_op(0), I_f)\n",
    "    q_f = qt.tensor(I_r, fluxonium.charge_op(0))\n",
    "    \n",
    "    H_0 =  qt.tensor(H_qubit, I_H_qubit) + qt.tensor(I_H_qubit, H_qubit) \n",
    "    H_coupling = 1/(C_RR*fF) * qt.tensor(q_r,q_r) + 1/(C_FF*fF) * qt.tensor(q_f,q_f)\n",
    "\n",
    "    return H_0 + H_coupling\n"
   ],
   "metadata": {
    "collapsed": false,
    "ExecuteTime": {
     "end_time": "2024-02-09T11:29:48.203829800Z",
     "start_time": "2024-02-09T11:29:48.149439Z"
    }
   },
   "id": "fc89e2fe3ac18768"
  },
  {
   "cell_type": "markdown",
   "source": [
    "## Creating the full circuits with sqcircuits to check that the energies are the same\n",
    "### Circuit elements"
   ],
   "metadata": {
    "collapsed": false
   },
   "id": "8a574132ffa304f4"
  },
  {
   "cell_type": "markdown",
   "source": [
    "### Two qubits capacitively coupled"
   ],
   "metadata": {
    "collapsed": false
   },
   "id": "f2fcc92e6754573f"
  },
  {
   "cell_type": "code",
   "execution_count": 22,
   "outputs": [
    {
     "data": {
      "text/plain": "<IPython.core.display.Latex object>",
      "text/latex": "$\\hat{H} =~\\omega_1\\hat a^\\dagger_1\\hat a_1~+~\\omega_2\\hat a^\\dagger_2\\hat a_2~+~\\omega_3\\hat a^\\dagger_3\\hat a_3~+~\\omega_4\\hat a^\\dagger_4\\hat a_4~~-~E_{J_{1}}\\cos(\\hat{\\varphi}_1-\\hat{\\varphi}_2+\\hat{\\varphi}_3+\\hat{\\varphi}_4+\\varphi_{\\text{ext}_{1}})~-~E_{J_{2}}\\cos(\\hat{\\varphi}_1+\\hat{\\varphi}_2-\\hat{\\varphi}_3+\\hat{\\varphi}_4+\\varphi_{\\text{ext}_{2}})$"
     },
     "metadata": {},
     "output_type": "display_data"
    },
    {
     "data": {
      "text/plain": "<IPython.core.display.Latex object>",
      "text/latex": "$------------------------------------------------------------$"
     },
     "metadata": {},
     "output_type": "display_data"
    },
    {
     "data": {
      "text/plain": "<IPython.core.display.Latex object>",
      "text/latex": "$\\text{mode}~1:~~~~~~~~~~~\\text{harmonic}~~~~~~~~~~~\\hat{\\varphi}_1~=~\\varphi_{zp_{1}}(\\hat a_1+\\hat a^\\dagger_1)~~~~~~~~~~~\\omega_1/2\\pi~=~7.20865~~~~~~~~~~~\\varphi_{zp_{1}}~=~7.81e-03$"
     },
     "metadata": {},
     "output_type": "display_data"
    },
    {
     "data": {
      "text/plain": "<IPython.core.display.Latex object>",
      "text/latex": "$\\text{mode}~2:~~~~~~~~~~~\\text{harmonic}~~~~~~~~~~~\\hat{\\varphi}_2~=~\\varphi_{zp_{2}}(\\hat a_2+\\hat a^\\dagger_2)~~~~~~~~~~~\\omega_2/2\\pi~=~6.97987~~~~~~~~~~~\\varphi_{zp_{2}}~=~1.13e-02$"
     },
     "metadata": {},
     "output_type": "display_data"
    },
    {
     "data": {
      "text/plain": "<IPython.core.display.Latex object>",
      "text/latex": "$\\text{mode}~3:~~~~~~~~~~~\\text{harmonic}~~~~~~~~~~~\\hat{\\varphi}_3~=~\\varphi_{zp_{3}}(\\hat a_3+\\hat a^\\dagger_3)~~~~~~~~~~~\\omega_3/2\\pi~=~6.30313~~~~~~~~~~~\\varphi_{zp_{3}}~=~4.91e-01$"
     },
     "metadata": {},
     "output_type": "display_data"
    },
    {
     "data": {
      "text/plain": "<IPython.core.display.Latex object>",
      "text/latex": "$\\text{mode}~4:~~~~~~~~~~~\\text{harmonic}~~~~~~~~~~~\\hat{\\varphi}_4~=~\\varphi_{zp_{4}}(\\hat a_4+\\hat a^\\dagger_4)~~~~~~~~~~~\\omega_4/2\\pi~=~6.24234~~~~~~~~~~~\\varphi_{zp_{4}}~=~4.88e-01$"
     },
     "metadata": {},
     "output_type": "display_data"
    },
    {
     "data": {
      "text/plain": "<IPython.core.display.Latex object>",
      "text/latex": "$------------------------------------------------------------$"
     },
     "metadata": {},
     "output_type": "display_data"
    },
    {
     "data": {
      "text/plain": "<IPython.core.display.Latex object>",
      "text/latex": "$\\text{parameters}:~~~~~~~~~~~E_{J_{1}}~=~10.0~~~~~~~~~~~E_{J_{2}}~=~10.0~~~~~~~~~~~$"
     },
     "metadata": {},
     "output_type": "display_data"
    },
    {
     "data": {
      "text/plain": "<IPython.core.display.Latex object>",
      "text/latex": "$\\text{loops}:~~~~~~~~~~~~~~~~~~~~\\varphi_{\\text{ext}_{1}}/2\\pi~=~0.5~~~~~~~~~~~\\varphi_{\\text{ext}_{2}}/2\\pi~=~0.5~~~~~~~~~~~$"
     },
     "metadata": {},
     "output_type": "display_data"
    }
   ],
   "source": [
    "elements_qubit_C_qubit = { \n",
    "    # qubit 1, nodes [0, 1, 2, 3]\n",
    "    (0, 3): [L_03[1]],\n",
    "    (0, 1): [C_01[1]],\n",
    "    (0, 2): [C_02[1]],\n",
    "    (3, 1): [L_31[1]],\n",
    "    (1, 2): [C_12[1], JJ_12[1]],\n",
    "    (2, 3): [L_23[1]],\n",
    "    # qubit 2, nodes [0, 4, 5, 6]\n",
    "    (0, 6): [L_03[2]],\n",
    "    (0, 4): [C_01[2]],\n",
    "    (0, 5): [C_02[2]],\n",
    "    (6, 4): [L_31[2]],\n",
    "    (4, 5): [C_12[2], JJ_12[2]],\n",
    "    (5, 6): [L_23[2]],\n",
    "    # capacitive coupling\n",
    "    (2, 4): [C_24],\n",
    "    (1, 5): [C_24]\n",
    "}\n",
    "\n",
    "qubit_C_qubit = sq.Circuit(elements_qubit_C_qubit)\n",
    "qubit_C_qubit.set_trunc_nums([nmax_r, nmax_r, nmax_f, nmax_f])\n",
    "qubit_C_qubit.description()"
   ],
   "metadata": {
    "collapsed": false,
    "ExecuteTime": {
     "end_time": "2024-02-09T11:16:05.052349500Z",
     "start_time": "2024-02-09T11:16:04.286784400Z"
    }
   },
   "id": "d7e0569e3fba75c5"
  },
  {
   "cell_type": "code",
   "execution_count": 23,
   "outputs": [],
   "source": [
    "_ = qubit_C_qubit.diag(5)"
   ],
   "metadata": {
    "collapsed": false,
    "ExecuteTime": {
     "end_time": "2024-02-09T11:16:13.591955Z",
     "start_time": "2024-02-09T11:16:07.311686300Z"
    }
   },
   "id": "8a126290d83934"
  },
  {
   "cell_type": "code",
   "outputs": [
    {
     "data": {
      "text/plain": "array([0.000000000000, 1.918173717682, 1.935374415794, 3.853202683312, 6.114973951565])"
     },
     "execution_count": 24,
     "metadata": {},
     "output_type": "execute_result"
    }
   ],
   "source": [
    "qubit_C_qubit.efreqs-qubit_C_qubit.efreqs[0]"
   ],
   "metadata": {
    "collapsed": false,
    "ExecuteTime": {
     "end_time": "2024-02-09T11:16:15.211564200Z",
     "start_time": "2024-02-09T11:16:15.191806300Z"
    }
   },
   "id": "fa69675d3ba73f80",
   "execution_count": 24
  },
  {
   "cell_type": "code",
   "outputs": [],
   "source": [
    "H   = hamiltonian_qubit_C_qubit(nmax_r, nmax_f, Cc=Cc)"
   ],
   "metadata": {
    "collapsed": false,
    "ExecuteTime": {
     "end_time": "2024-02-09T11:29:54.703706600Z",
     "start_time": "2024-02-09T11:29:54.665108900Z"
    }
   },
   "id": "68388f4713da124f",
   "execution_count": 41
  },
  {
   "cell_type": "code",
   "outputs": [
    {
     "data": {
      "text/plain": "array([0.000000000000, 1.918055344336, 1.935318169935, 3.853024788284, 6.113465662301])"
     },
     "execution_count": 44,
     "metadata": {},
     "output_type": "execute_result"
    }
   ],
   "source": [
    "E = sq_ext.diag(H, n_eig=5, out='GHz')[0]\n",
    "E - E[0]"
   ],
   "metadata": {
    "collapsed": false,
    "ExecuteTime": {
     "end_time": "2024-02-09T11:30:05.989616100Z",
     "start_time": "2024-02-09T11:30:05.764724300Z"
    }
   },
   "id": "8051059294b5af4f",
   "execution_count": 44
  },
  {
   "cell_type": "code",
   "outputs": [
    {
     "data": {
      "text/plain": "array([0.000000000000, 1.918172238669, 1.935375493187, 3.853201482461, 6.114977511654])"
     },
     "execution_count": 29,
     "metadata": {},
     "output_type": "execute_result"
    }
   ],
   "source": [
    "E = sq_ext.diag(H, n_eig=5, out='GHz')[0]\n",
    "E - E[0]"
   ],
   "metadata": {
    "collapsed": false,
    "ExecuteTime": {
     "end_time": "2024-02-09T11:16:49.178453300Z",
     "start_time": "2024-02-09T11:16:48.954286100Z"
    }
   },
   "id": "432fb0ea05324fa6",
   "execution_count": 29
  },
  {
   "cell_type": "code",
   "outputs": [],
   "source": [
    "Cc = 1"
   ],
   "metadata": {
    "collapsed": false,
    "ExecuteTime": {
     "end_time": "2024-02-09T11:30:56.343145200Z",
     "start_time": "2024-02-09T11:30:56.324505100Z"
    }
   },
   "id": "b5ff36a91795eab9",
   "execution_count": 45
  },
  {
   "cell_type": "code",
   "outputs": [],
   "source": [
    "C_R = C / 2\n",
    "C_C = Cc\n",
    "C_F = C / 2 + Csh + CJ\n",
    "# C_mat = np.array([[C_R + C_C / 2, 0, -C_C / 2, 0, -C_C / 2, 0],\n",
    "#                   [0, C_F + C_C / 2, 0, -C_C / 2, 0, -C_C / 2],\n",
    "#                   [-C_C / 2, 0, C_R + C_C / 2, 0, -C_C / 2, 0],\n",
    "#                   [0, -C_C / 2, 0, C_F + C_C / 2, 0, -C_C / 2],\n",
    "#                   [-C_C / 2, 0, -C_C / 2, 0, C_R + C_C / 2, 0],\n",
    "#                   [0, -C_C / 2, 0, -C_C / 2, 0, C_F + C_C / 2]])\n",
    "# \n",
    "C_mat = np.array([[C_R + C_C / 2, 0             , -C_C / 2      , -C_C / 2      , 0             ,        0      ],\n",
    "                  [0            , C_F + C_C / 2 , -C_C / 2      , -C_C / 2      , 0             , 0             ],\n",
    "                  [-C_C / 2     , -C_C / 2      , C_R + C_C / 2 , 0             , -C_C / 2      , -C_C / 2      ],\n",
    "                  [-C_C / 2     , -C_C / 2      , 0             , C_F + C_C / 2 , -C_C / 2      , -C_C / 2      ],\n",
    "                  [0            , 0             , -C_C / 2      , -C_C / 2      , C_R + C_C / 2 , 0             ],\n",
    "                  [0            , 0             , -C_C / 2      , -C_C / 2      , 0             , C_F + C_C / 2 ]])\n",
    "\n",
    "# C_mat = np.array([[C_R + C_C / 2, 0             , -C_C / 2      , -C_C / 2      , 0             ,        0      ],\n",
    "#                   [0            , C_F + C_C / 2 , -C_C / 2      , -C_C / 2      , 0             , 0             ],\n",
    "#                   [-C_C / 2     , -C_C / 2      , C_R + C_C / 2 , 0             , -C_C / 2      , -C_C / 2      ],\n",
    "#                   [-C_C / 2     , -C_C / 2      , 0             , C_F + C_C / 2 , -C_C / 2      , -C_C / 2      ],\n",
    "#                   [0            , 0             , -C_C / 2      , -C_C / 2      , C_R + C_C / 2 , 0             ],\n",
    "#                   [0            , 0             , -C_C / 2      , -C_C / 2      , 0             , C_F + C_C / 2 ]])"
   ],
   "metadata": {
    "collapsed": false,
    "ExecuteTime": {
     "end_time": "2024-02-09T11:31:25.759377Z",
     "start_time": "2024-02-09T11:31:25.722586600Z"
    }
   },
   "id": "56c8ffa3d8c109e2",
   "execution_count": 52
  },
  {
   "cell_type": "code",
   "outputs": [],
   "source": [
    "C_inv = np.linalg.inv(C_mat)"
   ],
   "metadata": {
    "collapsed": false,
    "ExecuteTime": {
     "end_time": "2024-02-09T11:31:27.055568900Z",
     "start_time": "2024-02-09T11:31:27.028402300Z"
    }
   },
   "id": "d405df553a06e38c",
   "execution_count": 53
  },
  {
   "cell_type": "code",
   "outputs": [
    {
     "data": {
      "text/plain": "array([[0.1261, 0.0000, 0.0084, 0.0000, 0.0084, 0.0000],\n       [0.0000, 0.0385, 0.0000, 0.0008, 0.0000, 0.0008],\n       [0.0084, 0.0000, 0.1261, 0.0000, 0.0084, 0.0000],\n       [0.0000, 0.0008, 0.0000, 0.0385, 0.0000, 0.0008],\n       [0.0084, 0.0000, 0.0084, 0.0000, 0.1261, 0.0000],\n       [0.0000, 0.0008, 0.0000, 0.0008, 0.0000, 0.0385]])"
     },
     "execution_count": 51,
     "metadata": {},
     "output_type": "execute_result"
    }
   ],
   "source": [
    "np.round(C_inv,4)"
   ],
   "metadata": {
    "collapsed": false,
    "ExecuteTime": {
     "end_time": "2024-02-09T11:31:12.976767500Z",
     "start_time": "2024-02-09T11:31:12.953195500Z"
    }
   },
   "id": "a64f5fec1b43f7b6",
   "execution_count": 51
  },
  {
   "cell_type": "code",
   "outputs": [
    {
     "data": {
      "text/plain": "array([[0.1256, 0.0002, 0.0079, 0.0024, 0.0006, 0.0002],\n       [0.0002, 0.0385, 0.0024, 0.0007, 0.0002, 0.0001],\n       [0.0079, 0.0024, 0.1263, 0.0004, 0.0079, 0.0024],\n       [0.0024, 0.0007, 0.0004, 0.0386, 0.0024, 0.0007],\n       [0.0006, 0.0002, 0.0079, 0.0024, 0.1256, 0.0002],\n       [0.0002, 0.0001, 0.0024, 0.0007, 0.0002, 0.0385]])"
     },
     "execution_count": 54,
     "metadata": {},
     "output_type": "execute_result"
    }
   ],
   "source": [
    "np.round(C_inv,4)"
   ],
   "metadata": {
    "collapsed": false,
    "ExecuteTime": {
     "end_time": "2024-02-09T11:31:28.937107400Z",
     "start_time": "2024-02-09T11:31:28.914703500Z"
    }
   },
   "id": "a92cfcad03e8e7b7",
   "execution_count": 54
  },
  {
   "cell_type": "code",
   "outputs": [],
   "source": [],
   "metadata": {
    "collapsed": false
   },
   "id": "9e0b69ea732ccdd7"
  }
 ],
 "metadata": {
  "kernelspec": {
   "display_name": "Python 3",
   "language": "python",
   "name": "python3"
  },
  "language_info": {
   "codemirror_mode": {
    "name": "ipython",
    "version": 2
   },
   "file_extension": ".py",
   "mimetype": "text/x-python",
   "name": "python",
   "nbconvert_exporter": "python",
   "pygments_lexer": "ipython2",
   "version": "2.7.6"
  }
 },
 "nbformat": 4,
 "nbformat_minor": 5
}
