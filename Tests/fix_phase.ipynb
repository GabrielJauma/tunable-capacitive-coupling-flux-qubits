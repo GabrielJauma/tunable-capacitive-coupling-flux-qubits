{
 "cells": [
  {
   "cell_type": "code",
   "execution_count": 64,
   "id": "initial_id",
   "metadata": {
    "collapsed": true,
    "ExecuteTime": {
     "end_time": "2024-03-07T12:20:48.429404400Z",
     "start_time": "2024-03-07T12:20:48.412125100Z"
    }
   },
   "outputs": [],
   "source": [
    "import Modules.SQcircuit_extensions as sq_ext\n",
    "import Modules.figures as figs\n",
    "import SQcircuit as sq\n",
    "import numpy as np\n",
    "import matplotlib.pyplot as plt\n",
    "import importlib\n",
    "import qutip as qt\n",
    "import scipy as sp\n",
    "from itertools import product\n",
    "import sympy as sym\n",
    "\n",
    "\n",
    "%matplotlib ipympl\n",
    "plt.rcParams['text.usetex'] = False\n",
    "importlib.reload(sq_ext)\n",
    "importlib.reload(sq)\n",
    "importlib.reload(figs)\n",
    "np.set_printoptions(linewidth=300, formatter={'float': '{:.4f}'.format})\n",
    "GHz = 1e9"
   ]
  },
  {
   "cell_type": "code",
   "outputs": [],
   "source": [
    "E_r = sq_ext.diag(sq_ext.sq_resonator().hamiltonian(),4, out='GHz', remove_ground=True)[0]\n",
    "E_f = sq_ext.diag(sq_ext.sq_fluxonium().hamiltonian(),4, out='GHz', remove_ground=True)[0]\n",
    "E_q = sq_ext.diag(sq_ext.hamiltonian_qubit(nmax_r=5, nmax_f=10), 6, out='GHz', remove_ground=True)[0]\n",
    "E_q_C_q = sq_ext.diag(sq_ext.hamiltonian_qubit_C_qubit(nmax_r=5, nmax_f=10, Cc=0), 8, out='GHz', remove_ground=True)[0]"
   ],
   "metadata": {
    "collapsed": false,
    "ExecuteTime": {
     "end_time": "2024-03-07T13:24:10.844400400Z",
     "start_time": "2024-03-07T13:24:10.612232300Z"
    }
   },
   "id": "698663eb8c669c4f",
   "execution_count": 170
  },
  {
   "cell_type": "code",
   "outputs": [
    {
     "data": {
      "text/plain": "(array([0.0000, 1.9455, 6.1613, 7.2084, 9.1539]),\n [[0, 0], [1, 0], [2, 0], [0, 1], [1, 1]])"
     },
     "execution_count": 171,
     "metadata": {},
     "output_type": "execute_result"
    }
   ],
   "source": [
    "sq_ext.generate_and_prioritize_energies([E_f, E_r], 5)"
   ],
   "metadata": {
    "collapsed": false,
    "ExecuteTime": {
     "end_time": "2024-03-07T13:24:10.881893500Z",
     "start_time": "2024-03-07T13:24:10.849681800Z"
    }
   },
   "id": "7978f2016952188c",
   "execution_count": 171
  },
  {
   "cell_type": "code",
   "outputs": [
    {
     "data": {
      "text/plain": "array([0.0000, 1.9452, 6.1597, 7.2085, 9.1538, 10.7891])"
     },
     "execution_count": 53,
     "metadata": {},
     "output_type": "execute_result"
    }
   ],
   "source": [
    "E_q"
   ],
   "metadata": {
    "collapsed": false,
    "ExecuteTime": {
     "end_time": "2024-03-07T10:46:20.572418400Z",
     "start_time": "2024-03-07T10:46:20.554429400Z"
    }
   },
   "id": "385152e8ab3de4f8",
   "execution_count": 53
  },
  {
   "cell_type": "code",
   "outputs": [
    {
     "data": {
      "text/plain": "array([0.0000, 1.9452, 1.9452, 3.8905, 6.1597, 6.1597, 7.2085, 7.2085])"
     },
     "execution_count": 54,
     "metadata": {},
     "output_type": "execute_result"
    }
   ],
   "source": [
    "E_q_C_q"
   ],
   "metadata": {
    "collapsed": false,
    "ExecuteTime": {
     "end_time": "2024-03-07T10:46:20.905849800Z",
     "start_time": "2024-03-07T10:46:20.891221Z"
    }
   },
   "id": "94650e784cc719a4",
   "execution_count": 54
  },
  {
   "cell_type": "code",
   "outputs": [],
   "source": [
    "fluxonium = sq_ext.sq_fluxonium()\n",
    "H_0_f = fluxonium.hamiltonian() \n",
    "H_0 = qt.tensor( H_0_f, qt.qeye(H_0_f.shape[0]) ) + qt.tensor(qt.qeye(H_0_f.shape[0]), H_0_f ) #+ 0.00001*qt.tensor(fluxonium.flux_op(0), fluxonium.flux_op(0))\n",
    "H = qt.tensor( H_0_f, qt.qeye(H_0_f.shape[0]) ) + qt.tensor(qt.qeye(H_0_f.shape[0]), H_0_f  )+ 1e5*qt.tensor(fluxonium.flux_op(0), fluxonium.flux_op(0))"
   ],
   "metadata": {
    "collapsed": false,
    "ExecuteTime": {
     "end_time": "2024-03-05T15:47:11.203944Z",
     "start_time": "2024-03-05T15:47:11.195686Z"
    }
   },
   "id": "149f8014237706c3",
   "execution_count": 1182
  },
  {
   "cell_type": "code",
   "outputs": [],
   "source": [
    "E, ψ_0_f = np.linalg.eigh(H_0_f.__array__() )\n",
    "# E, ψ_0_f = sp.sparse.linalg.eigsh(H_0_f.data, 2, which='SA')\n",
    "E, ψ_0_f = sq_ext.eigs_sorted(E, ψ_0_f)\n",
    "ψ_0 = np.array([np.kron(ψ_0_f[:,0],ψ_0_f[:,0]), np.kron(ψ_0_f[:,1],ψ_0_f[:,0]), np.kron(ψ_0_f[:,0],ψ_0_f[:,1]), np.kron(ψ_0_f[:,1],ψ_0_f[:,1]) ]).T"
   ],
   "metadata": {
    "collapsed": false,
    "ExecuteTime": {
     "end_time": "2024-03-05T15:57:05.775226Z",
     "start_time": "2024-03-05T15:57:05.772745Z"
    }
   },
   "id": "a924933e477b97f1",
   "execution_count": 1266
  },
  {
   "cell_type": "code",
   "outputs": [],
   "source": [
    "E, ψ_0 = sp.sparse.linalg.eigsh(H_0.data, 2, which='SA')\n",
    "E, ψ_0 = sq_ext.eigs_sorted(E, ψ_0)\n",
    "ψ_0 = np.linalg.qr(ψ_0)[0]"
   ],
   "metadata": {
    "collapsed": false,
    "ExecuteTime": {
     "end_time": "2024-03-05T15:50:54.532951Z",
     "start_time": "2024-03-05T15:50:54.518253Z"
    }
   },
   "id": "fa9a94fb1fe8abc2",
   "execution_count": 1219
  },
  {
   "cell_type": "code",
   "outputs": [],
   "source": [
    "E, ψ_0 = np.linalg.eigh(H_0.__array__())\n",
    "ψ_0 =  ψ_0[:,:4]"
   ],
   "metadata": {
    "collapsed": false,
    "ExecuteTime": {
     "end_time": "2024-03-05T15:55:41.118906Z",
     "start_time": "2024-03-05T15:55:41.082282Z"
    }
   },
   "id": "4a99f1bdd48884ff",
   "execution_count": 1256
  },
  {
   "cell_type": "code",
   "outputs": [
    {
     "data": {
      "text/plain": "array([[1.+0.j, 0.+0.j, 0.+0.j, 0.+0.j],\n       [0.-0.j, 1.+0.j, 0.+0.j, 0.+0.j],\n       [0.-0.j, 0.-0.j, 1.+0.j, 0.+0.j],\n       [0.-0.j, 0.-0.j, 0.-0.j, 1.+0.j]])"
     },
     "execution_count": 1262,
     "metadata": {},
     "output_type": "execute_result"
    }
   ],
   "source": [
    "np.round(ψ_0.T.conj() @ ψ_0,4)"
   ],
   "metadata": {
    "collapsed": false,
    "ExecuteTime": {
     "end_time": "2024-03-05T15:56:08.007165Z",
     "start_time": "2024-03-05T15:56:08.004493Z"
    }
   },
   "id": "40d4272f036f93e3",
   "execution_count": 1262
  },
  {
   "cell_type": "code",
   "outputs": [
    {
     "name": "stdout",
     "output_type": "stream",
     "text": [
      " (15.3596+0j)\t*\t I ⨂I \n",
      " (-0.9727+0j)\t*\t I ⨂σz \n",
      " (0.0235+0j)\t*\t σx ⨂σx \n",
      " (-0.9727+0j)\t*\t σz ⨂I \n"
     ]
    }
   ],
   "source": [
    "H_eff = ψ_0.T.conj() @ H.__array__() @ ψ_0 / 2 / np.pi / GHz\n",
    "sq_ext.decomposition_in_pauli_4x4(H_eff, 4);"
   ],
   "metadata": {
    "collapsed": false,
    "ExecuteTime": {
     "end_time": "2024-03-05T15:57:19.220412Z",
     "start_time": "2024-03-05T15:57:19.215331Z"
    }
   },
   "id": "546023bd870ea28c",
   "execution_count": 1267
  },
  {
   "cell_type": "code",
   "outputs": [
    {
     "name": "stdout",
     "output_type": "stream",
     "text": [
      " (15.3596+0j)\t*\t I ⨂I \n",
      " (-0.961+0j)\t*\t I ⨂σz \n",
      " (0.0125+0j)\t*\t σx ⨂σx \n",
      " (-0.011+0j)\t*\t σy ⨂σy \n",
      " (-0.9845+0j)\t*\t σz ⨂I \n"
     ]
    }
   ],
   "source": [
    "H_eff = sq_ext.H_eff_p1(H_0, H, out= 'GHz', n_eig=4, solver='numpy')\n",
    "# H_eff = sq_ext.H_eff_p1(H_0, H, out= 'GHz', n_eig=4)\n",
    "sq_ext.decomposition_in_pauli_4x4(H_eff, 4);"
   ],
   "metadata": {
    "collapsed": false,
    "ExecuteTime": {
     "end_time": "2024-03-05T15:38:23.312043Z",
     "start_time": "2024-03-05T15:38:23.274610Z"
    }
   },
   "id": "9ab7ed556ad125f4",
   "execution_count": 1161
  },
  {
   "cell_type": "code",
   "outputs": [
    {
     "ename": "ValueError",
     "evalue": "shapes (4,4) and (625,625) not aligned: 4 (dim 1) != 625 (dim 0)",
     "output_type": "error",
     "traceback": [
      "\u001B[0;31m---------------------------------------------------------------------------\u001B[0m",
      "\u001B[0;31mValueError\u001B[0m                                Traceback (most recent call last)",
      "Cell \u001B[0;32mIn[1106], line 3\u001B[0m\n\u001B[1;32m      1\u001B[0m ψ_0[:,\u001B[38;5;241m2\u001B[39m] \u001B[38;5;241m/\u001B[39m\u001B[38;5;241m=\u001B[39m np\u001B[38;5;241m.\u001B[39mexp(\u001B[38;5;241m1\u001B[39mj\u001B[38;5;241m*\u001B[39m\u001B[38;5;241m0.1\u001B[39m)\n\u001B[1;32m      2\u001B[0m H_eff \u001B[38;5;241m=\u001B[39m ψ_0\u001B[38;5;241m.\u001B[39mconj()\u001B[38;5;241m.\u001B[39mT \u001B[38;5;241m@\u001B[39m H\u001B[38;5;241m.\u001B[39m__array__() \u001B[38;5;241m@\u001B[39m ψ_0 \u001B[38;5;241m/\u001B[39m \u001B[38;5;241m2\u001B[39m \u001B[38;5;241m/\u001B[39m np\u001B[38;5;241m.\u001B[39mpi \u001B[38;5;241m/\u001B[39m GHz\n\u001B[0;32m----> 3\u001B[0m \u001B[43msq_ext\u001B[49m\u001B[38;5;241;43m.\u001B[39;49m\u001B[43mdecomposition_in_pauli_4x4\u001B[49m\u001B[43m(\u001B[49m\u001B[43mH_eff\u001B[49m\u001B[43m,\u001B[49m\u001B[43m \u001B[49m\u001B[38;5;241;43m4\u001B[39;49m\u001B[43m)\u001B[49m\n",
      "File \u001B[0;32m~/PycharmProjects/tunable-capacitive-coupling-flux-qubits/Modules/SQcircuit_extensions.py:1177\u001B[0m, in \u001B[0;36mdecomposition_in_pauli_4x4\u001B[0;34m(A, rd, Print)\u001B[0m\n\u001B[1;32m   1175\u001B[0m label \u001B[38;5;241m=\u001B[39m labels[i] \u001B[38;5;241m+\u001B[39m \u001B[38;5;124m'\u001B[39m\u001B[38;5;124m \u001B[39m\u001B[38;5;130;01m\\U00002A02\u001B[39;00m\u001B[38;5;124m'\u001B[39m \u001B[38;5;241m+\u001B[39m labels[j]\n\u001B[1;32m   1176\u001B[0m S \u001B[38;5;241m=\u001B[39m np\u001B[38;5;241m.\u001B[39mkron(s[i], s[j])  \u001B[38;5;66;03m# S_ij=σ_i /otimes σ_j.\u001B[39;00m\n\u001B[0;32m-> 1177\u001B[0m P[i, j] \u001B[38;5;241m=\u001B[39m np\u001B[38;5;241m.\u001B[39mround(\u001B[38;5;241m0.25\u001B[39m \u001B[38;5;241m*\u001B[39m (\u001B[43mnp\u001B[49m\u001B[38;5;241;43m.\u001B[39;49m\u001B[43mdot\u001B[49m\u001B[43m(\u001B[49m\u001B[43mS\u001B[49m\u001B[38;5;241;43m.\u001B[39;49m\u001B[43mT\u001B[49m\u001B[38;5;241;43m.\u001B[39;49m\u001B[43mconjugate\u001B[49m\u001B[43m(\u001B[49m\u001B[43m)\u001B[49m\u001B[43m,\u001B[49m\u001B[43m \u001B[49m\u001B[43mA\u001B[49m\u001B[43m)\u001B[49m)\u001B[38;5;241m.\u001B[39mtrace(), rd)  \u001B[38;5;66;03m# P[i,j]=(1/4)tr(S_ij^t*A)\u001B[39;00m\n\u001B[1;32m   1178\u001B[0m \u001B[38;5;28;01mif\u001B[39;00m P[i, j] \u001B[38;5;241m!=\u001B[39m \u001B[38;5;241m0.0\u001B[39m \u001B[38;5;129;01mand\u001B[39;00m Print \u001B[38;5;241m==\u001B[39m \u001B[38;5;28;01mTrue\u001B[39;00m:\n\u001B[1;32m   1179\u001B[0m     \u001B[38;5;28mprint\u001B[39m(\u001B[38;5;124m\"\u001B[39m\u001B[38;5;124m \u001B[39m\u001B[38;5;132;01m%s\u001B[39;00m\u001B[38;5;130;01m\\t\u001B[39;00m\u001B[38;5;124m*\u001B[39m\u001B[38;5;130;01m\\t\u001B[39;00m\u001B[38;5;124m \u001B[39m\u001B[38;5;132;01m%s\u001B[39;00m\u001B[38;5;124m \u001B[39m\u001B[38;5;124m\"\u001B[39m \u001B[38;5;241m%\u001B[39m (P[i, j], label))\n",
      "File \u001B[0;32m<__array_function__ internals>:200\u001B[0m, in \u001B[0;36mdot\u001B[0;34m(*args, **kwargs)\u001B[0m\n",
      "\u001B[0;31mValueError\u001B[0m: shapes (4,4) and (625,625) not aligned: 4 (dim 1) != 625 (dim 0)"
     ]
    }
   ],
   "source": [
    "ψ_0[:,2] /= np.exp(1j*0.1)\n",
    "H_eff = ψ_0.conj().T @ H.__array__() @ ψ_0 / 2 / np.pi / GHz\n",
    "sq_ext.decomposition_in_pauli_4x4(H_eff, 4);"
   ],
   "metadata": {
    "collapsed": false,
    "ExecuteTime": {
     "end_time": "2024-03-05T15:37:46.849607Z",
     "start_time": "2024-03-05T15:37:46.812682Z"
    }
   },
   "id": "930d1d40ed3e0efb",
   "execution_count": 1106
  },
  {
   "cell_type": "code",
   "outputs": [
    {
     "data": {
      "text/plain": "<module 'Modules.SQcircuit_extensions' from 'C:\\\\Users\\\\gabri\\\\PycharmProjects\\\\tunable-capacitive-coupling-flux-qubits\\\\Modules\\\\SQcircuit_extensions.py'>"
     },
     "execution_count": 173,
     "metadata": {},
     "output_type": "execute_result"
    }
   ],
   "source": [
    "importlib.reload(sq_ext)"
   ],
   "metadata": {
    "collapsed": false,
    "ExecuteTime": {
     "end_time": "2024-03-07T13:34:36.971442300Z",
     "start_time": "2024-03-07T13:34:36.945372500Z"
    }
   },
   "id": "529ba04da352a5a6",
   "execution_count": 173
  },
  {
   "cell_type": "code",
   "outputs": [],
   "source": [
    "H, ψ_0 = sq_ext.hamiltonian_qubit_C_qubit(nmax_r=5, nmax_f=5, Cc=1,return_Ψ_nonint=True)\n",
    "# sq_ext.hamiltonian_qubit_C_qubit(nmax_r=5, nmax_f=5, Cc=1)"
   ],
   "metadata": {
    "collapsed": false,
    "ExecuteTime": {
     "end_time": "2024-03-07T13:19:19.745640Z",
     "start_time": "2024-03-07T13:19:19.717119Z"
    }
   },
   "id": "6ba71f75865e6943",
   "execution_count": 152
  },
  {
   "cell_type": "code",
   "outputs": [
    {
     "name": "stdout",
     "output_type": "stream",
     "text": [
      " (15.2545+0j)\t*\t I ⨂I \n",
      " (-0.92634+0j)\t*\t I ⨂σz \n",
      " (0.01592+0j)\t*\t σy ⨂σy \n",
      " (-0.92634+0j)\t*\t σz ⨂I \n"
     ]
    }
   ],
   "source": [
    "H_eff = sq_ext.H_eff_p1(ψ_0, H, 4, out='GHz', real=False, remove_ground = False)\n",
    "sq_ext.decomposition_in_pauli_4x4(H_eff, 5);"
   ],
   "metadata": {
    "collapsed": false,
    "ExecuteTime": {
     "end_time": "2024-03-07T13:19:43.846122700Z",
     "start_time": "2024-03-07T13:19:43.832995800Z"
    }
   },
   "id": "69fc0326122df84d",
   "execution_count": 155
  },
  {
   "cell_type": "code",
   "outputs": [],
   "source": [
    "H, ψ_0 = sq_ext.hamiltonian_qubit_C_qubit_C_qubit(nmax_r=5, nmax_f=10, Cc=1,return_Ψ_nonint=True, n_eig_Ψ_nonint=8)\n",
    "# sq_ext.hamiltonian_qubit_C_qubit(nmax_r=5, nmax_f=5, Cc=1)"
   ],
   "metadata": {
    "collapsed": false,
    "ExecuteTime": {
     "end_time": "2024-03-07T13:35:47.810136500Z",
     "start_time": "2024-03-07T13:35:47.600225500Z"
    }
   },
   "id": "a1d90b3373351185",
   "execution_count": 182
  },
  {
   "cell_type": "code",
   "outputs": [
    {
     "name": "stdout",
     "output_type": "stream",
     "text": [
      " (2.8645+0j)\t*\t I ⨂ I ⨂ I \n",
      " (0.0086+0j)\t*\t I ⨂ I ⨂ σx \n",
      " (-0.47742+0j)\t*\t I ⨂ I ⨂ σz \n",
      " (0.0086+0j)\t*\t I ⨂ σx ⨂ I \n",
      " (0.0086+0j)\t*\t I ⨂ σx ⨂ σx \n",
      " (0.0086+0j)\t*\t I ⨂ σy ⨂ σy \n",
      " (-0.47742+0j)\t*\t I ⨂ σz ⨂ I \n",
      " (-0.0086+0j)\t*\t σx ⨂ I ⨂ I \n",
      " (-0.0086+0j)\t*\t σx ⨂ I ⨂ σx \n",
      " (-0.0086+0j)\t*\t σx ⨂ σx ⨂ I \n",
      " (-0.0086+0j)\t*\t σx ⨂ σz ⨂ σz \n",
      " (0.0086+0j)\t*\t σy ⨂ I ⨂ σy \n",
      " (0.0086+0j)\t*\t σy ⨂ σy ⨂ I \n",
      " (-1.43225+0j)\t*\t σz ⨂ I ⨂ I \n",
      " (-0.0086+0j)\t*\t σz ⨂ σx ⨂ σz \n",
      " (-0.0086+0j)\t*\t σz ⨂ σz ⨂ σx \n",
      " (-0.47742+0j)\t*\t σz ⨂ σz ⨂ σz \n"
     ]
    }
   ],
   "source": [
    "H_eff = sq_ext.H_eff_p1(ψ_0, H, 8, out='GHz', real=False, remove_ground = True)\n",
    "sq_ext.decomposition_in_pauli_8x8(H_eff, 5);"
   ],
   "metadata": {
    "collapsed": false,
    "ExecuteTime": {
     "end_time": "2024-03-07T13:36:48.960882400Z",
     "start_time": "2024-03-07T13:36:48.894244900Z"
    }
   },
   "id": "c7e0d4a55e636fee",
   "execution_count": 187
  },
  {
   "cell_type": "code",
   "outputs": [
    {
     "data": {
      "text/plain": "array([[0.0000, 0.0000, 0.0000, 0.0000, -0.0200, -0.0200, -0.0200, 0.0000],\n       [0.0000, 1.9100, 0.0200, 0.0200, 0.0000, 0.0000, 0.0000, -0.0200],\n       [0.0000, 0.0200, 1.9100, 0.0200, 0.0000, 0.0000, 0.0000, -0.0200],\n       [0.0000, 0.0200, 0.0200, 1.9100, 0.0000, 0.0000, 0.0000, -0.0200],\n       [-0.0200, 0.0000, 0.0000, 0.0000, 3.8200, 0.0200, 0.0200, 0.0000],\n       [-0.0200, 0.0000, 0.0000, 0.0000, 0.0200, 3.8200, 0.0200, 0.0000],\n       [-0.0200, 0.0000, 0.0000, 0.0000, 0.0200, 0.0200, 3.8200, 0.0000],\n       [0.0000, -0.0200, -0.0200, -0.0200, 0.0000, 0.0000, 0.0000, 5.7300]])"
     },
     "execution_count": 188,
     "metadata": {},
     "output_type": "execute_result"
    }
   ],
   "source": [
    "np.round(np.real(H_eff),2)"
   ],
   "metadata": {
    "collapsed": false,
    "ExecuteTime": {
     "end_time": "2024-03-07T13:36:53.003416300Z",
     "start_time": "2024-03-07T13:36:52.982888200Z"
    }
   },
   "id": "817bbf045b600328",
   "execution_count": 188
  },
  {
   "cell_type": "code",
   "outputs": [],
   "source": [],
   "metadata": {
    "collapsed": false
   },
   "id": "a8148b87f417f475"
  }
 ],
 "metadata": {
  "kernelspec": {
   "display_name": "Python 3",
   "language": "python",
   "name": "python3"
  },
  "language_info": {
   "codemirror_mode": {
    "name": "ipython",
    "version": 2
   },
   "file_extension": ".py",
   "mimetype": "text/x-python",
   "name": "python",
   "nbconvert_exporter": "python",
   "pygments_lexer": "ipython2",
   "version": "2.7.6"
  }
 },
 "nbformat": 4,
 "nbformat_minor": 5
}
