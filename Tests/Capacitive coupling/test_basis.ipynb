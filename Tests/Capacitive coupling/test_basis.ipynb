{
 "cells": [
  {
   "cell_type": "code",
   "outputs": [],
   "source": [
    "import Modules.SQcircuit_extensions as sq_ext\n",
    "import Modules.figures as figs\n",
    "import SQcircuit as sq\n",
    "import numpy as np\n",
    "import matplotlib.pyplot as plt\n",
    "import importlib\n",
    "from scipy.linalg import eigh\n",
    "import qutip as qt\n",
    "import sympy as sym\n",
    "from joblib import Parallel, delayed, cpu_count\n",
    "\n",
    "%matplotlib ipympl\n",
    "# plt.rcParams.update({\n",
    "#     \"text.usetex\": True,\n",
    "#     \"font.family\": \"serif\",\n",
    "#     \"font.serif\": [\"Palatino\"],\n",
    "# })\n",
    "plt.rcParams['text.usetex'] = False\n",
    "importlib.reload(sq_ext)\n",
    "importlib.reload(sq)\n",
    "importlib.reload(figs)\n",
    "np.set_printoptions(linewidth=300, formatter={'float': '{:.3e'.format})"
   ],
   "metadata": {
    "collapsed": false,
    "ExecuteTime": {
     "end_time": "2024-07-19T09:24:34.206605200Z",
     "start_time": "2024-07-19T09:24:34.187390600Z"
    }
   },
   "id": "341642e44cab1c34",
   "execution_count": 140
  },
  {
   "cell_type": "code",
   "outputs": [],
   "source": [
    "n_eig =5"
   ],
   "metadata": {
    "collapsed": false,
    "ExecuteTime": {
     "end_time": "2024-07-19T09:24:34.361383600Z",
     "start_time": "2024-07-19T09:24:34.352465900Z"
    }
   },
   "id": "4012f0c4a2af2385",
   "execution_count": 141
  },
  {
   "cell_type": "code",
   "outputs": [],
   "source": [
    "fF  = 1e-15\n",
    "nH  = 1e-9\n",
    "GHz = 1e9"
   ],
   "metadata": {
    "collapsed": false,
    "ExecuteTime": {
     "end_time": "2024-07-19T09:24:34.497206200Z",
     "start_time": "2024-07-19T09:24:34.493892600Z"
    }
   },
   "id": "e7a2dd541f8ea1ef",
   "execution_count": 142
  },
  {
   "cell_type": "code",
   "outputs": [],
   "source": [
    "nmax_r = 20\n",
    "nmax_f = 25\n",
    "\n",
    "only_inner = True\n",
    "compensate_extra_cap = False"
   ],
   "metadata": {
    "collapsed": false,
    "ExecuteTime": {
     "end_time": "2024-07-19T09:24:34.653710200Z",
     "start_time": "2024-07-19T09:24:34.649425300Z"
    }
   },
   "id": "151bb76c3e9461ce",
   "execution_count": 143
  },
  {
   "cell_type": "code",
   "outputs": [],
   "source": [
    "CR_1, CF_1, LF_1, LR_1, EJ_1, Δ_1, ω_r_1 = sq_ext.get_experimental_parameters('qubit_1')\n",
    "CR_2, CF_2, LF_2, LR_2, EJ_2, Δ_2, ω_r_2 = sq_ext.get_experimental_parameters('qubit_2')\n",
    "CR_3, CF_3, LF_3, LR_3, EJ_3, Δ_3, ω_r_3 = sq_ext.get_experimental_parameters('qubit_3')"
   ],
   "metadata": {
    "collapsed": false,
    "ExecuteTime": {
     "end_time": "2024-07-19T09:24:34.809135600Z",
     "start_time": "2024-07-19T09:24:34.800057200Z"
    }
   },
   "id": "12daef23d84f692e",
   "execution_count": 144
  },
  {
   "cell_type": "markdown",
   "source": [
    "## Single qubit"
   ],
   "metadata": {
    "collapsed": false
   },
   "id": "caae7cc53a2ebb57"
  },
  {
   "cell_type": "code",
   "outputs": [],
   "source": [
    "## Testings\n",
    "Δ=0.1\n",
    "fluxonium = sq_ext.sq_fluxonium(C_F_eff=CF_1, L_F_eff=LF_1, EJ=EJ_1, Δ=Δ_1, nmax_f=nmax_f)\n",
    "resonator = sq_ext.sq_resonator(C_R_eff=CR_1, L_R_eff=LR_1, Δ=Δ_1, nmax_f=nmax_f)\n",
    "\n",
    "H_0 = sq_ext.hamiltonian_qubit(fluxonium = fluxonium, resonator = resonator, Δ=0) \n",
    "H   = sq_ext.hamiltonian_qubit(fluxonium = fluxonium, resonator = resonator, Δ=Δ) \n",
    "\n",
    "H1 = fluxonium.hamiltonian()\n",
    "H2 = resonator.hamiltonian()\n",
    "\n",
    "ψ_0_f  = qt.Qobj(sq_ext.diag(H1, n_eig=2,solver='numpy')[1][:,0])\n",
    "ψ_1_f  = qt.Qobj(sq_ext.diag(H1, n_eig=2,solver='numpy')[1][:,1])\n",
    "ψ_0_r  = qt.Qobj(sq_ext.diag(H2, n_eig=2,solver='numpy')[1][:,0])\n",
    "ψ_1_r  = qt.Qobj(sq_ext.diag(H2, n_eig=2,solver='numpy')[1][:,1])\n",
    "\n",
    "ψ_0 = [qt.tensor(ψ_0_f, ψ_0_r), qt.tensor(ψ_1_f,ψ_0_r), qt.tensor(ψ_0_f,ψ_1_r), qt.tensor(ψ_1_f,ψ_1_r)]"
   ],
   "metadata": {
    "collapsed": false,
    "ExecuteTime": {
     "end_time": "2024-07-19T09:25:56.282303100Z",
     "start_time": "2024-07-19T09:25:56.261567500Z"
    }
   },
   "id": "8f40db5abe92abe9",
   "execution_count": 196
  },
  {
   "cell_type": "code",
   "outputs": [
    {
     "name": "stdout",
     "output_type": "stream",
     "text": [
      " 9.885452537414066\t*\t I ⨂I \n",
      " -1.8442461348076464\t*\t I ⨂σz \n",
      " 2.192745890694514e-07\t*\t σx ⨂σx \n",
      " 0.020418719823306453\t*\t σy ⨂σy \n",
      " -3.229888141708264\t*\t σz ⨂I \n",
      " -7.072425806819993e-05\t*\t σz ⨂σz \n"
     ]
    }
   ],
   "source": [
    "H_eff_SWT = sq_ext.H_eff_SWT(H_0, H, n_eig=5)\n",
    "Nf, Nr = sq_ext.sq_get_energy_indices_hamiltonian(H_qubit = H_0, H_fluxonium=H1, H_resonator=H2, n_eig=5)\n",
    "subspace_indices = np.intersect1d(np.where(Nf<=1), np.where(Nr<=1)).tolist()\n",
    "\n",
    "H_eff_SWT_subspace  = H_eff_SWT [subspace_indices][:, subspace_indices]\n",
    "P = sq_ext.decomposition_in_pauli_4x4(H_eff_SWT_subspace, print_pretty=True)"
   ],
   "metadata": {
    "collapsed": false,
    "ExecuteTime": {
     "end_time": "2024-07-19T09:25:56.609307800Z",
     "start_time": "2024-07-19T09:25:56.523715400Z"
    }
   },
   "id": "9746c93dde8f53c1",
   "execution_count": 197
  },
  {
   "cell_type": "code",
   "outputs": [
    {
     "name": "stdout",
     "output_type": "stream",
     "text": [
      " 9.8855373788609\t*\t I ⨂I \n",
      " -1.8443309762858033\t*\t I ⨂σz \n",
      " -0.020418928565167773\t*\t σx ⨂σx \n",
      " -1.0532714364748508e-08\t*\t σy ⨂σy \n",
      " -3.2299729831865003\t*\t σz ⨂I \n",
      " 1.411718873023382e-05\t*\t σz ⨂σz \n"
     ]
    }
   ],
   "source": [
    "E_0  = [ (ψ_0_i.dag() * H_0 * ψ_0_i).data[0,0]/2/np.pi/GHz for ψ_0_i in ψ_0]\n",
    "E, ψ = sq_ext.diag(H  , n_eig, out='GHz', solver='Qutip', qObj=True)\n",
    "subspace_indices = sq_ext.find_closest_indices(E_0,E,tolerance=0.05)\n",
    "ψ = ψ[subspace_indices]\n",
    "E = E[subspace_indices]\n",
    "H_eff_SWT_large = sq_ext.H_eff_SWT_large(ψ_0, ψ, E)\n",
    "P = sq_ext.decomposition_in_pauli_4x4(H_eff_SWT_large, print_pretty=True)"
   ],
   "metadata": {
    "collapsed": false,
    "ExecuteTime": {
     "end_time": "2024-07-19T09:25:26.709010100Z",
     "start_time": "2024-07-19T09:25:26.679687600Z"
    }
   },
   "id": "495e822fc83bd481",
   "execution_count": 193
  },
  {
   "cell_type": "code",
   "outputs": [],
   "source": [],
   "metadata": {
    "collapsed": false,
    "ExecuteTime": {
     "end_time": "2024-07-19T09:24:37.081754300Z",
     "start_time": "2024-07-19T09:24:37.068734400Z"
    }
   },
   "id": "f8f8725ae9c6f596",
   "execution_count": 148
  },
  {
   "cell_type": "code",
   "outputs": [],
   "source": [],
   "metadata": {
    "collapsed": false
   },
   "id": "678d578da34cf89a"
  }
 ],
 "metadata": {
  "kernelspec": {
   "display_name": "Python 3",
   "language": "python",
   "name": "python3"
  },
  "language_info": {
   "codemirror_mode": {
    "name": "ipython",
    "version": 2
   },
   "file_extension": ".py",
   "mimetype": "text/x-python",
   "name": "python",
   "nbconvert_exporter": "python",
   "pygments_lexer": "ipython2",
   "version": "2.7.6"
  }
 },
 "nbformat": 4,
 "nbformat_minor": 5
}
