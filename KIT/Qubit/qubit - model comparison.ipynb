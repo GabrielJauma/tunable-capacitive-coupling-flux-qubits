{
 "cells": [
  {
   "cell_type": "code",
   "source": [
    "import Modules.SQcircuit_extensions as sq_ext\n",
    "import Modules.figures as figs\n",
    "import SQcircuit as sq\n",
    "import numpy as np\n",
    "import matplotlib.pyplot as plt\n",
    "import importlib\n",
    "from scipy.linalg import eigh\n",
    "import qutip as qt\n",
    "import sympy as sym\n",
    "\n",
    "%matplotlib ipympl\n",
    "plt.rcParams['text.usetex'] = False\n",
    "importlib.reload(sq_ext)\n",
    "importlib.reload(sq)\n",
    "importlib.reload(figs)\n",
    "np.set_printoptions(linewidth=300, formatter={'float': '{:.12f}'.format})\n",
    "GHz = 1e9"
   ],
   "metadata": {
    "collapsed": false,
    "ExecuteTime": {
     "end_time": "2024-02-29T10:01:37.473998970Z",
     "start_time": "2024-02-29T10:01:37.464507280Z"
    }
   },
   "id": "5ef0e7158198c0cf",
   "execution_count": 13,
   "outputs": []
  },
  {
   "cell_type": "markdown",
   "source": [
    "|# Comparison of sqcircuit, numeric and spin-boson models vs truncation"
   ],
   "metadata": {
    "collapsed": false
   },
   "id": "ebe59b76782aa022"
  },
  {
   "cell_type": "code",
   "source": [
    "Δ = 0.1\n",
    "n_eig = 3\n",
    "nmax_r_values = np.array([4,5,5,6,6 ,7 ,7 ,8 ,8 ,9 ])\n",
    "nmax_f_values = np.array([6,6,8,8,10,10,12,12,14,14])\n",
    "\n",
    "E_sq = []\n",
    "E_frc  = []\n",
    "E_sb = []\n",
    "\n",
    "for nmax_r, nmax_f in zip(nmax_r_values, nmax_f_values):\n",
    "    print(nmax_f)\n",
    "    \n",
    "    fluxonium = sq_ext.sq_fluxonium(Δ =Δ, trunc_res=nmax_r,trunc_flux=nmax_f)\n",
    "    resonator = sq_ext.sq_resonator(Δ =Δ, trunc_res=nmax_r,trunc_flux=nmax_f)\n",
    "    H_frc = sq_ext.hamiltonian_qubit(fluxonium, resonator, Δ=Δ)\n",
    "    E = sq_ext.diag(H_frc, n_eig, out='GHz')[0]\n",
    "    E_frc.append(E-E[0])\n",
    "    del(H_frc)\n",
    "\n",
    "    H_sb = sq_ext.spin_boson_qubit(nmax_r=nmax_r, nmax_f=nmax_f, Δ=Δ, N_R=2)\n",
    "    E = eigh(H_sb, eigvals_only=True)\n",
    "    E_sb.append(E-E[0])\n",
    "    del(H_sb)\n",
    "    \n",
    "    H_sq = sq_ext.sq_qubit(Δ = Δ, trunc_res=nmax_r, trunc_flux=nmax_f)\n",
    "    H_sq.diag(n_eig)\n",
    "    E_sq.append(H_sq.efreqs-H_sq.efreqs[0])\n",
    "    del(H_sq)\n",
    "    \n",
    "E_sq = np.array(E_sq )\n",
    "E_frc  = np.array(E_frc  )\n",
    "E_sb = np.array(E_sb )   "
   ],
   "metadata": {
    "collapsed": false,
    "ExecuteTime": {
     "end_time": "2024-02-29T10:01:38.387506940Z",
     "start_time": "2024-02-29T10:01:38.153002905Z"
    }
   },
   "id": "185f95e9f6f02945",
   "execution_count": 14,
   "outputs": []
  },
  {
   "cell_type": "code",
   "source": [
    "fig,  ax   = plt.subplots( dpi =150)\n",
    "\n",
    "ax.plot(E_sq[5:, 1]-E_sq[0, 1], 'r' )\n",
    "ax.plot(E_frc [5:, 1]-E_frc [0, 1], ':g')\n",
    "ax.plot(E_sb[5:, 1]-E_sb[0, 1], 'b' )\n",
    "    \n",
    "fig.tight_layout()\n",
    "fig.show()"
   ],
   "metadata": {
    "collapsed": false,
    "ExecuteTime": {
     "end_time": "2024-02-29T10:01:39.085267839Z",
     "start_time": "2024-02-29T10:01:38.971804917Z"
    }
   },
   "id": "1e03597c0e7b477a",
   "execution_count": 15,
   "outputs": []
  },
  {
   "cell_type": "code",
   "source": [
    "importlib.reload(sq_ext)\n",
    "Δ_values = np.geomspace(1e-4, 10, 30)\n",
    "n_eig = 3\n",
    "nmax_r = 10\n",
    "nmax_f = 15\n",
    "\n",
    "E_sq = []\n",
    "E_frc  = []\n",
    "E_sb = []\n",
    "\n",
    "\n",
    "fluxonium_0 = sq_ext.sq_fluxonium(Δ=0, trunc_res=nmax_r,trunc_flux=nmax_f)\n",
    "resonator_0 = sq_ext.sq_resonator(Δ=0, trunc_res=nmax_r,trunc_flux=nmax_f)\n",
    "H_frc_0 = sq_ext.hamiltonian_qubit(fluxonium_0, resonator_0, Δ=0)\n",
    "\n",
    "for Δ in Δ_values:\n",
    "\n",
    "    fluxonium = sq_ext.sq_fluxonium(Δ =Δ, trunc_res=nmax_r,trunc_flux=nmax_f)\n",
    "    resonator = sq_ext.sq_resonator(Δ =Δ, trunc_res=nmax_r,trunc_flux=nmax_f)\n",
    "    H_frc = sq_ext.hamiltonian_qubit(fluxonium, resonator, Δ=Δ)\n",
    "    E = sq_ext.diag(H_frc, n_eig, out='GHz')[0]\n",
    "    E_frc.append(E-E[0])\n",
    "\n",
    "    # H_sb = sq_ext.spin_boson_qubit(nmax_r=nmax_r, nmax_f=nmax_f, Δ=Δ, N_R=2)\n",
    "    H_sb = sq_ext.H_eff_SWT(H_frc_0, H_frc, n_eig )\n",
    "    E = sq_ext.diag(H_sb, n_eig, out='GHz', solver='numpy')[0]\n",
    "    E_sb.append(E-E[0])\n",
    "    del(H_frc)\n",
    "    \n",
    "    H_sq = sq_ext.sq_qubit(Δ = Δ, trunc_res=nmax_r, trunc_flux=nmax_f)\n",
    "    H_sq.diag(n_eig)\n",
    "    E_sq.append(H_sq.efreqs-H_sq.efreqs[0])\n",
    "    del(H_sq)\n",
    "    \n",
    "E_sq = np.array(E_sq)\n",
    "E_frc  = np.array(E_frc )\n",
    "E_sb = np.array(E_sb)   "
   ],
   "metadata": {
    "collapsed": false,
    "ExecuteTime": {
     "end_time": "2024-02-29T10:02:16.864126520Z",
     "start_time": "2024-02-29T10:02:16.050752306Z"
    }
   },
   "id": "cd260fa0f30e5097",
   "execution_count": 19,
   "outputs": []
  },
  {
   "cell_type": "code",
   "source": [
    "fig,  ax   = plt.subplots( dpi =150)\n",
    "ω_01_sq = np.abs(E_sq[:, 1]-E_sq[:, 0])\n",
    "ax.plot(Δ_values, np.abs(E_sq[:, 1] - E_sq[:, 0]), 'r')\n",
    "ax.plot(Δ_values, np.abs(E_sb[:, 1] - E_sb[:, 0]), 'b')\n",
    "ax.plot(Δ_values, np.abs(E_frc [:, 1] - E_frc [:, 0]), ':g')\n",
    "# ax.plot(Δ_values, np.abs(E_frc [:, 1]-E_frc [:, 0] - ω_01_sq ) , ':g')\n",
    "ax.set_ylabel(r'$\\omega_{01}(\\Delta)$')\n",
    "ax.set_xscale('log')\n",
    "ax.set_yscale('log')\n",
    "    \n",
    "fig.tight_layout()\n",
    "fig.show()\n",
    "plt.close('all')"
   ],
   "metadata": {
    "collapsed": false,
    "ExecuteTime": {
     "end_time": "2024-02-29T10:02:17.140746903Z",
     "start_time": "2024-02-29T10:02:16.943663559Z"
    }
   },
   "id": "1ccf0d6e7380edb5",
   "execution_count": 20,
   "outputs": []
  },
  {
   "cell_type": "code",
   "source": [
    "flux_0 = sq_ext.sq_fluxonium(Δ=0,trunc_flux=35)\n",
    "flux   = sq_ext.sq_fluxonium(Δ=10,trunc_flux=35)"
   ],
   "metadata": {
    "collapsed": false,
    "ExecuteTime": {
     "end_time": "2024-02-29T09:52:15.807835236Z",
     "start_time": "2024-02-29T09:52:15.797911848Z"
    }
   },
   "id": "eab1bead95215cc6",
   "execution_count": 7,
   "outputs": []
  },
  {
   "cell_type": "code",
   "source": [
    "sq_ext.H_eff_SWT(flux_0.hamiltonian(),flux.flux_op(0),2)"
   ],
   "metadata": {
    "collapsed": false,
    "ExecuteTime": {
     "end_time": "2024-02-26T11:07:48.091957950Z",
     "start_time": "2024-02-26T11:07:48.083277360Z"
    }
   },
   "id": "16df614c8b66f652",
   "execution_count": 64,
   "outputs": []
  },
  {
   "cell_type": "code",
   "source": [
    "sq_ext.H_eff_SWT(flux.hamiltonian(),flux.flux_op(0),2)"
   ],
   "metadata": {
    "collapsed": false,
    "ExecuteTime": {
     "end_time": "2024-02-26T11:07:48.725667446Z",
     "start_time": "2024-02-26T11:07:48.716046668Z"
    }
   },
   "id": "56168089ae76a7d4",
   "execution_count": 65,
   "outputs": []
  },
  {
   "cell_type": "code",
   "source": [
    "flux.diag(2)\n",
    "flux.flux_op(0, basis='eig')/2/np.pi/GHz"
   ],
   "metadata": {
    "collapsed": false,
    "ExecuteTime": {
     "end_time": "2024-02-26T11:08:01.143436653Z",
     "start_time": "2024-02-26T11:08:01.122943474Z"
    }
   },
   "id": "b528c0a43f607ee",
   "execution_count": 68,
   "outputs": []
  },
  {
   "cell_type": "code",
   "source": [
    "sq_ext.H_eff_p1(flux.hamiltonian(),flux.flux_op(0),2) "
   ],
   "metadata": {
    "collapsed": false,
    "ExecuteTime": {
     "end_time": "2024-02-26T11:08:30.722919977Z",
     "start_time": "2024-02-26T11:08:30.675948090Z"
    }
   },
   "id": "809db85a627c2f18",
   "execution_count": 69,
   "outputs": []
  },
  {
   "cell_type": "code",
   "source": [
    "fig,  ax   = plt.subplots( dpi =150)\n",
    "\n",
    "ax.plot(Δ_values, E_sq[:, 1], 'r' )\n",
    "ax.plot(Δ_values, E_sb[:, 1], 'b' )\n",
    "ax.plot(Δ_values, E_frc [:, 1], ':g')\n",
    "ax.set_xscale('log')\n",
    "# ax.set_yscale('log')\n",
    "    \n",
    "fig.tight_layout()\n",
    "fig.show()"
   ],
   "metadata": {
    "collapsed": false,
    "ExecuteTime": {
     "end_time": "2024-02-26T10:28:05.670879242Z",
     "start_time": "2024-02-26T10:28:05.573766834Z"
    }
   },
   "id": "a61b0ec90de5444d",
   "execution_count": 4,
   "outputs": []
  },
  {
   "cell_type": "code",
   "source": [
    "importlib.reload(sq_ext)\n",
    "Δ = 0.1\n",
    "param_values = np.geomspace(1, 100, 50)\n",
    "n_eig = 3\n",
    "nmax_r = 10\n",
    "nmax_f = 15\n",
    "\n",
    "E_sq = []\n",
    "E_frc  = []\n",
    "E_sb = []\n",
    "\n",
    "for Lq in param_values:\n",
    "    fluxonium = sq_ext.sq_fluxonium(Lq=Lq, trunc_res=nmax_r,trunc_flux=nmax_f)\n",
    "    resonator = sq_ext.sq_resonator(Lq=Lq, trunc_res=nmax_r,trunc_flux=nmax_f)\n",
    "    H_frc = sq_ext.hamiltonian_qubit(fluxonium, resonator, Δ=Δ, Lq=Lq)\n",
    "    E = sq_ext.diag(H_frc, n_eig, out='GHz')[0]\n",
    "    E_frc.append(E-E[0])\n",
    "    del(H_frc)\n",
    "\n",
    "    H_sb = sq_ext.spin_boson_qubit(nmax_r=nmax_r, nmax_f=nmax_f, Lq=Lq, N_R=2)\n",
    "    E = eigh(H_sb, eigvals_only=True)\n",
    "    E_sb.append(E-E[0])\n",
    "    del(H_sb)\n",
    "    \n",
    "    H_sq = sq_ext.sq_qubit(Lq=Lq, trunc_res=nmax_r, trunc_flux=nmax_f)\n",
    "    H_sq.diag(n_eig)\n",
    "    E_sq.append(H_sq.efreqs-H_sq.efreqs[0])\n",
    "    del(H_sq)\n",
    "    \n",
    "E_sq = np.array(E_sq )\n",
    "E_frc  = np.array(E_frc  )\n",
    "E_sb = np.array(E_sb )   "
   ],
   "metadata": {
    "collapsed": false,
    "ExecuteTime": {
     "end_time": "2024-02-19T13:08:47.914690416Z",
     "start_time": "2024-02-19T13:08:46.776685210Z"
    }
   },
   "id": "6b53b4eb6b6cf133",
   "execution_count": 47,
   "outputs": []
  },
  {
   "cell_type": "code",
   "source": [
    "fig,  ax   = plt.subplots( dpi =150)\n",
    "\n",
    "ax.plot(param_values, np.abs(E_sq[:, 1]-E_sq[0, 1]), '.r', label='SQcircuits' )\n",
    "ax.plot(param_values, np.abs(E_sb[:, 1]-E_sb[0, 1]), '.b', label='spin-boson' )\n",
    "ax.plot(param_values, np.abs(E_frc [:, 1]-E_frc [0, 1]), '.g', label='numeric'    )\n",
    "ax.set_xscale('log')\n",
    "ax.set_yscale('log')\n",
    "ax.legend()    \n",
    "fig.tight_layout()\n",
    "fig.show()"
   ],
   "metadata": {
    "collapsed": false,
    "ExecuteTime": {
     "end_time": "2024-02-19T13:08:48.093297423Z",
     "start_time": "2024-02-19T13:08:47.922397237Z"
    }
   },
   "id": "b827af3ae0cc5b9",
   "execution_count": 48,
   "outputs": []
  },
  {
   "cell_type": "code",
   "source": [
    "fig,  ax   = plt.subplots( dpi =150)\n",
    "\n",
    "ax.plot(param_values, E_sq[:, 1], '.r', label='SQcircuits' )\n",
    "ax.plot(param_values, E_sb[:, 1], '.b', label='spin-boson' )\n",
    "ax.plot(param_values, E_frc [:, 1], '.g', label='numeric'    )\n",
    "ax.set_xscale('log')\n",
    "ax.legend()    \n",
    "# ax.set_yscale('log')\n",
    "    \n",
    "fig.tight_layout()\n",
    "fig.show()\n",
    "qt.tensor_contract()"
   ],
   "metadata": {
    "collapsed": false,
    "ExecuteTime": {
     "end_time": "2024-02-19T13:09:14.863470563Z",
     "start_time": "2024-02-19T13:09:14.769760538Z"
    }
   },
   "id": "1f3b47582794abb8",
   "execution_count": 51,
   "outputs": []
  },
  {
   "cell_type": "code",
   "source": [
    "plt.close('all')"
   ],
   "metadata": {
    "collapsed": false,
    "ExecuteTime": {
     "end_time": "2024-02-19T12:58:01.129538949Z",
     "start_time": "2024-02-19T12:58:01.110279060Z"
    }
   },
   "id": "577adf92dc639fa7",
   "execution_count": 33,
   "outputs": []
  },
  {
   "cell_type": "code",
   "source": [],
   "metadata": {
    "collapsed": false
   },
   "id": "f9b1e346bb8f0bc1",
   "execution_count": null,
   "outputs": []
  }
 ],
 "metadata": {
  "kernelspec": {
   "display_name": "Python 3",
   "language": "python",
   "name": "python3"
  },
  "language_info": {
   "codemirror_mode": {
    "name": "ipython",
    "version": 2
   },
   "file_extension": ".py",
   "mimetype": "text/x-python",
   "name": "python",
   "nbconvert_exporter": "python",
   "pygments_lexer": "ipython2",
   "version": "2.7.6"
  }
 },
 "nbformat": 4,
 "nbformat_minor": 5
}
