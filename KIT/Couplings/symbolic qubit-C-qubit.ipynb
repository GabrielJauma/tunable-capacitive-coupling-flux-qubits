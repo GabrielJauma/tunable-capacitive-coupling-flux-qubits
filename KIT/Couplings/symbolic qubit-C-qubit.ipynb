{
 "cells": [
  {
   "cell_type": "code",
   "execution_count": 2,
   "metadata": {
    "collapsed": true,
    "ExecuteTime": {
     "end_time": "2024-04-23T12:56:59.549724Z",
     "start_time": "2024-04-23T12:56:59.126978Z"
    }
   },
   "outputs": [],
   "source": [
    "import sympy as sym\n",
    "import numpy as np\n",
    "import matplotlib.pyplot as plt"
   ]
  },
  {
   "cell_type": "code",
   "outputs": [],
   "source": [
    "def neglect_terms(expr, N):\n",
    "    # Function to neglect terms of order N and higher in a polynomial\n",
    "    # Split the expression into numerator and denominator\n",
    "    num, denom = expr.as_numer_denom()\n",
    "    # Process numerator and denominator to remove terms of order N and higher\n",
    "    num_neglected = sum(coeff * term for term, coeff in num.as_coefficients_dict().items() if all(pow < N for var, pow in term.as_powers_dict().items()))\n",
    "    denom_neglected = sum(coeff * term for term, coeff in denom.as_coefficients_dict().items() if all(pow < N for var, pow in term.as_powers_dict().items()))\n",
    "    # Reconstruct the fraction\n",
    "    return num_neglected / denom_neglected\n",
    "\n",
    "def neglect_terms_in_matrix(matrix, N):\n",
    "    # Process each element in the matrix\n",
    "    processed_matrix = matrix.applyfunc(lambda x: neglect_terms(x, N))\n",
    "\n",
    "    return processed_matrix"
   ],
   "metadata": {
    "collapsed": false,
    "ExecuteTime": {
     "end_time": "2024-04-23T12:56:59.553137Z",
     "start_time": "2024-04-23T12:56:59.550411Z"
    }
   },
   "execution_count": 3
  },
  {
   "cell_type": "code",
   "execution_count": 4,
   "outputs": [],
   "source": [
    "C_R, C_F, C_C = sym.symbols('C_R, C_F, C_C', real=True, positive=True, nonzero=True)"
   ],
   "metadata": {
    "collapsed": false,
    "ExecuteTime": {
     "end_time": "2024-04-23T12:56:59.555094Z",
     "start_time": "2024-04-23T12:56:59.553524Z"
    }
   }
  },
  {
   "cell_type": "code",
   "execution_count": 5,
   "outputs": [],
   "source": [
    "C = sym.Matrix([[C_R+C_C, 0      , -C_C/4 , -C_C/4 ],\n",
    "                [0      , C_F+C_C, -C_C/4 , -C_C/4 ],\n",
    "                [-C_C/4 , -C_C/4 , C_R+C_C, 0      ],\n",
    "                [-C_C/4 , -C_C/4 , 0      , C_F+C_C] ])"
   ],
   "metadata": {
    "collapsed": false,
    "ExecuteTime": {
     "end_time": "2024-04-23T12:57:00.289835Z",
     "start_time": "2024-04-23T12:57:00.270211Z"
    }
   }
  },
  {
   "cell_type": "code",
   "execution_count": 4,
   "outputs": [],
   "source": [
    "C_inv = C**-1"
   ],
   "metadata": {
    "collapsed": false,
    "ExecuteTime": {
     "end_time": "2024-02-08T11:26:33.531061600Z",
     "start_time": "2024-02-08T11:26:26.632243300Z"
    }
   }
  },
  {
   "cell_type": "code",
   "outputs": [
    {
     "data": {
      "text/plain": "Matrix([\n[(14*C_C**3 + 31*C_C**2*C_F + 15*C_C**2*C_R + 16*C_C*C_F**2 + 32*C_C*C_F*C_R + 16*C_F**2*C_R)/(12*C_C**4 + 28*C_C**3*C_F + 28*C_C**3*C_R + 15*C_C**2*C_F**2 + 62*C_C**2*C_F*C_R + 15*C_C**2*C_R**2 + 32*C_C*C_F**2*C_R + 32*C_C*C_F*C_R**2 + 16*C_F**2*C_R**2),                                                                   C_C**2*(2*C_C + C_F + C_R)/(12*C_C**4 + 28*C_C**3*C_F + 28*C_C**3*C_R + 15*C_C**2*C_F**2 + 62*C_C**2*C_F*C_R + 15*C_C**2*C_R**2 + 32*C_C*C_F**2*C_R + 32*C_C*C_F*C_R**2 + 16*C_F**2*C_R**2),                                                          4*C_C*(C_C**2 + 2*C_C*C_F + C_F**2)/(12*C_C**4 + 28*C_C**3*C_F + 28*C_C**3*C_R + 15*C_C**2*C_F**2 + 62*C_C**2*C_F*C_R + 15*C_C**2*C_R**2 + 32*C_C*C_F**2*C_R + 32*C_C*C_F*C_R**2 + 16*C_F**2*C_R**2),                                                 4*C_C*(C_C**2 + C_C*C_F + C_C*C_R + C_F*C_R)/(12*C_C**4 + 28*C_C**3*C_F + 28*C_C**3*C_R + 15*C_C**2*C_F**2 + 62*C_C**2*C_F*C_R + 15*C_C**2*C_R**2 + 32*C_C*C_F**2*C_R + 32*C_C*C_F*C_R**2 + 16*C_F**2*C_R**2)],\n[                                                                  C_C**2*(2*C_C + C_F + C_R)/(12*C_C**4 + 28*C_C**3*C_F + 28*C_C**3*C_R + 15*C_C**2*C_F**2 + 62*C_C**2*C_F*C_R + 15*C_C**2*C_R**2 + 32*C_C*C_F**2*C_R + 32*C_C*C_F*C_R**2 + 16*C_F**2*C_R**2), (14*C_C**3 + 15*C_C**2*C_F + 31*C_C**2*C_R + 32*C_C*C_F*C_R + 16*C_C*C_R**2 + 16*C_F*C_R**2)/(12*C_C**4 + 28*C_C**3*C_F + 28*C_C**3*C_R + 15*C_C**2*C_F**2 + 62*C_C**2*C_F*C_R + 15*C_C**2*C_R**2 + 32*C_C*C_F**2*C_R + 32*C_C*C_F*C_R**2 + 16*C_F**2*C_R**2),                                                 4*C_C*(C_C**2 + C_C*C_F + C_C*C_R + C_F*C_R)/(12*C_C**4 + 28*C_C**3*C_F + 28*C_C**3*C_R + 15*C_C**2*C_F**2 + 62*C_C**2*C_F*C_R + 15*C_C**2*C_R**2 + 32*C_C*C_F**2*C_R + 32*C_C*C_F*C_R**2 + 16*C_F**2*C_R**2),                                                          4*C_C*(C_C**2 + 2*C_C*C_R + C_R**2)/(12*C_C**4 + 28*C_C**3*C_F + 28*C_C**3*C_R + 15*C_C**2*C_F**2 + 62*C_C**2*C_F*C_R + 15*C_C**2*C_R**2 + 32*C_C*C_F**2*C_R + 32*C_C*C_F*C_R**2 + 16*C_F**2*C_R**2)],\n[                                                         4*C_C*(C_C**2 + 2*C_C*C_F + C_F**2)/(12*C_C**4 + 28*C_C**3*C_F + 28*C_C**3*C_R + 15*C_C**2*C_F**2 + 62*C_C**2*C_F*C_R + 15*C_C**2*C_R**2 + 32*C_C*C_F**2*C_R + 32*C_C*C_F*C_R**2 + 16*C_F**2*C_R**2),                                                 4*C_C*(C_C**2 + C_C*C_F + C_C*C_R + C_F*C_R)/(12*C_C**4 + 28*C_C**3*C_F + 28*C_C**3*C_R + 15*C_C**2*C_F**2 + 62*C_C**2*C_F*C_R + 15*C_C**2*C_R**2 + 32*C_C*C_F**2*C_R + 32*C_C*C_F*C_R**2 + 16*C_F**2*C_R**2), (14*C_C**3 + 31*C_C**2*C_F + 15*C_C**2*C_R + 16*C_C*C_F**2 + 32*C_C*C_F*C_R + 16*C_F**2*C_R)/(12*C_C**4 + 28*C_C**3*C_F + 28*C_C**3*C_R + 15*C_C**2*C_F**2 + 62*C_C**2*C_F*C_R + 15*C_C**2*C_R**2 + 32*C_C*C_F**2*C_R + 32*C_C*C_F*C_R**2 + 16*C_F**2*C_R**2),                                                                   C_C**2*(2*C_C + C_F + C_R)/(12*C_C**4 + 28*C_C**3*C_F + 28*C_C**3*C_R + 15*C_C**2*C_F**2 + 62*C_C**2*C_F*C_R + 15*C_C**2*C_R**2 + 32*C_C*C_F**2*C_R + 32*C_C*C_F*C_R**2 + 16*C_F**2*C_R**2)],\n[                                                4*C_C*(C_C**2 + C_C*C_F + C_C*C_R + C_F*C_R)/(12*C_C**4 + 28*C_C**3*C_F + 28*C_C**3*C_R + 15*C_C**2*C_F**2 + 62*C_C**2*C_F*C_R + 15*C_C**2*C_R**2 + 32*C_C*C_F**2*C_R + 32*C_C*C_F*C_R**2 + 16*C_F**2*C_R**2),                                                          4*C_C*(C_C**2 + 2*C_C*C_R + C_R**2)/(12*C_C**4 + 28*C_C**3*C_F + 28*C_C**3*C_R + 15*C_C**2*C_F**2 + 62*C_C**2*C_F*C_R + 15*C_C**2*C_R**2 + 32*C_C*C_F**2*C_R + 32*C_C*C_F*C_R**2 + 16*C_F**2*C_R**2),                                                                   C_C**2*(2*C_C + C_F + C_R)/(12*C_C**4 + 28*C_C**3*C_F + 28*C_C**3*C_R + 15*C_C**2*C_F**2 + 62*C_C**2*C_F*C_R + 15*C_C**2*C_R**2 + 32*C_C*C_F**2*C_R + 32*C_C*C_F*C_R**2 + 16*C_F**2*C_R**2), (14*C_C**3 + 15*C_C**2*C_F + 31*C_C**2*C_R + 32*C_C*C_F*C_R + 16*C_C*C_R**2 + 16*C_F*C_R**2)/(12*C_C**4 + 28*C_C**3*C_F + 28*C_C**3*C_R + 15*C_C**2*C_F**2 + 62*C_C**2*C_F*C_R + 15*C_C**2*C_R**2 + 32*C_C*C_F**2*C_R + 32*C_C*C_F*C_R**2 + 16*C_F**2*C_R**2)]])",
      "text/latex": "$\\displaystyle \\left[\\begin{matrix}\\frac{14 C_{C}^{3} + 31 C_{C}^{2} C_{F} + 15 C_{C}^{2} C_{R} + 16 C_{C} C_{F}^{2} + 32 C_{C} C_{F} C_{R} + 16 C_{F}^{2} C_{R}}{12 C_{C}^{4} + 28 C_{C}^{3} C_{F} + 28 C_{C}^{3} C_{R} + 15 C_{C}^{2} C_{F}^{2} + 62 C_{C}^{2} C_{F} C_{R} + 15 C_{C}^{2} C_{R}^{2} + 32 C_{C} C_{F}^{2} C_{R} + 32 C_{C} C_{F} C_{R}^{2} + 16 C_{F}^{2} C_{R}^{2}} & \\frac{C_{C}^{2} \\cdot \\left(2 C_{C} + C_{F} + C_{R}\\right)}{12 C_{C}^{4} + 28 C_{C}^{3} C_{F} + 28 C_{C}^{3} C_{R} + 15 C_{C}^{2} C_{F}^{2} + 62 C_{C}^{2} C_{F} C_{R} + 15 C_{C}^{2} C_{R}^{2} + 32 C_{C} C_{F}^{2} C_{R} + 32 C_{C} C_{F} C_{R}^{2} + 16 C_{F}^{2} C_{R}^{2}} & \\frac{4 C_{C} \\left(C_{C}^{2} + 2 C_{C} C_{F} + C_{F}^{2}\\right)}{12 C_{C}^{4} + 28 C_{C}^{3} C_{F} + 28 C_{C}^{3} C_{R} + 15 C_{C}^{2} C_{F}^{2} + 62 C_{C}^{2} C_{F} C_{R} + 15 C_{C}^{2} C_{R}^{2} + 32 C_{C} C_{F}^{2} C_{R} + 32 C_{C} C_{F} C_{R}^{2} + 16 C_{F}^{2} C_{R}^{2}} & \\frac{4 C_{C} \\left(C_{C}^{2} + C_{C} C_{F} + C_{C} C_{R} + C_{F} C_{R}\\right)}{12 C_{C}^{4} + 28 C_{C}^{3} C_{F} + 28 C_{C}^{3} C_{R} + 15 C_{C}^{2} C_{F}^{2} + 62 C_{C}^{2} C_{F} C_{R} + 15 C_{C}^{2} C_{R}^{2} + 32 C_{C} C_{F}^{2} C_{R} + 32 C_{C} C_{F} C_{R}^{2} + 16 C_{F}^{2} C_{R}^{2}}\\\\\\frac{C_{C}^{2} \\cdot \\left(2 C_{C} + C_{F} + C_{R}\\right)}{12 C_{C}^{4} + 28 C_{C}^{3} C_{F} + 28 C_{C}^{3} C_{R} + 15 C_{C}^{2} C_{F}^{2} + 62 C_{C}^{2} C_{F} C_{R} + 15 C_{C}^{2} C_{R}^{2} + 32 C_{C} C_{F}^{2} C_{R} + 32 C_{C} C_{F} C_{R}^{2} + 16 C_{F}^{2} C_{R}^{2}} & \\frac{14 C_{C}^{3} + 15 C_{C}^{2} C_{F} + 31 C_{C}^{2} C_{R} + 32 C_{C} C_{F} C_{R} + 16 C_{C} C_{R}^{2} + 16 C_{F} C_{R}^{2}}{12 C_{C}^{4} + 28 C_{C}^{3} C_{F} + 28 C_{C}^{3} C_{R} + 15 C_{C}^{2} C_{F}^{2} + 62 C_{C}^{2} C_{F} C_{R} + 15 C_{C}^{2} C_{R}^{2} + 32 C_{C} C_{F}^{2} C_{R} + 32 C_{C} C_{F} C_{R}^{2} + 16 C_{F}^{2} C_{R}^{2}} & \\frac{4 C_{C} \\left(C_{C}^{2} + C_{C} C_{F} + C_{C} C_{R} + C_{F} C_{R}\\right)}{12 C_{C}^{4} + 28 C_{C}^{3} C_{F} + 28 C_{C}^{3} C_{R} + 15 C_{C}^{2} C_{F}^{2} + 62 C_{C}^{2} C_{F} C_{R} + 15 C_{C}^{2} C_{R}^{2} + 32 C_{C} C_{F}^{2} C_{R} + 32 C_{C} C_{F} C_{R}^{2} + 16 C_{F}^{2} C_{R}^{2}} & \\frac{4 C_{C} \\left(C_{C}^{2} + 2 C_{C} C_{R} + C_{R}^{2}\\right)}{12 C_{C}^{4} + 28 C_{C}^{3} C_{F} + 28 C_{C}^{3} C_{R} + 15 C_{C}^{2} C_{F}^{2} + 62 C_{C}^{2} C_{F} C_{R} + 15 C_{C}^{2} C_{R}^{2} + 32 C_{C} C_{F}^{2} C_{R} + 32 C_{C} C_{F} C_{R}^{2} + 16 C_{F}^{2} C_{R}^{2}}\\\\\\frac{4 C_{C} \\left(C_{C}^{2} + 2 C_{C} C_{F} + C_{F}^{2}\\right)}{12 C_{C}^{4} + 28 C_{C}^{3} C_{F} + 28 C_{C}^{3} C_{R} + 15 C_{C}^{2} C_{F}^{2} + 62 C_{C}^{2} C_{F} C_{R} + 15 C_{C}^{2} C_{R}^{2} + 32 C_{C} C_{F}^{2} C_{R} + 32 C_{C} C_{F} C_{R}^{2} + 16 C_{F}^{2} C_{R}^{2}} & \\frac{4 C_{C} \\left(C_{C}^{2} + C_{C} C_{F} + C_{C} C_{R} + C_{F} C_{R}\\right)}{12 C_{C}^{4} + 28 C_{C}^{3} C_{F} + 28 C_{C}^{3} C_{R} + 15 C_{C}^{2} C_{F}^{2} + 62 C_{C}^{2} C_{F} C_{R} + 15 C_{C}^{2} C_{R}^{2} + 32 C_{C} C_{F}^{2} C_{R} + 32 C_{C} C_{F} C_{R}^{2} + 16 C_{F}^{2} C_{R}^{2}} & \\frac{14 C_{C}^{3} + 31 C_{C}^{2} C_{F} + 15 C_{C}^{2} C_{R} + 16 C_{C} C_{F}^{2} + 32 C_{C} C_{F} C_{R} + 16 C_{F}^{2} C_{R}}{12 C_{C}^{4} + 28 C_{C}^{3} C_{F} + 28 C_{C}^{3} C_{R} + 15 C_{C}^{2} C_{F}^{2} + 62 C_{C}^{2} C_{F} C_{R} + 15 C_{C}^{2} C_{R}^{2} + 32 C_{C} C_{F}^{2} C_{R} + 32 C_{C} C_{F} C_{R}^{2} + 16 C_{F}^{2} C_{R}^{2}} & \\frac{C_{C}^{2} \\cdot \\left(2 C_{C} + C_{F} + C_{R}\\right)}{12 C_{C}^{4} + 28 C_{C}^{3} C_{F} + 28 C_{C}^{3} C_{R} + 15 C_{C}^{2} C_{F}^{2} + 62 C_{C}^{2} C_{F} C_{R} + 15 C_{C}^{2} C_{R}^{2} + 32 C_{C} C_{F}^{2} C_{R} + 32 C_{C} C_{F} C_{R}^{2} + 16 C_{F}^{2} C_{R}^{2}}\\\\\\frac{4 C_{C} \\left(C_{C}^{2} + C_{C} C_{F} + C_{C} C_{R} + C_{F} C_{R}\\right)}{12 C_{C}^{4} + 28 C_{C}^{3} C_{F} + 28 C_{C}^{3} C_{R} + 15 C_{C}^{2} C_{F}^{2} + 62 C_{C}^{2} C_{F} C_{R} + 15 C_{C}^{2} C_{R}^{2} + 32 C_{C} C_{F}^{2} C_{R} + 32 C_{C} C_{F} C_{R}^{2} + 16 C_{F}^{2} C_{R}^{2}} & \\frac{4 C_{C} \\left(C_{C}^{2} + 2 C_{C} C_{R} + C_{R}^{2}\\right)}{12 C_{C}^{4} + 28 C_{C}^{3} C_{F} + 28 C_{C}^{3} C_{R} + 15 C_{C}^{2} C_{F}^{2} + 62 C_{C}^{2} C_{F} C_{R} + 15 C_{C}^{2} C_{R}^{2} + 32 C_{C} C_{F}^{2} C_{R} + 32 C_{C} C_{F} C_{R}^{2} + 16 C_{F}^{2} C_{R}^{2}} & \\frac{C_{C}^{2} \\cdot \\left(2 C_{C} + C_{F} + C_{R}\\right)}{12 C_{C}^{4} + 28 C_{C}^{3} C_{F} + 28 C_{C}^{3} C_{R} + 15 C_{C}^{2} C_{F}^{2} + 62 C_{C}^{2} C_{F} C_{R} + 15 C_{C}^{2} C_{R}^{2} + 32 C_{C} C_{F}^{2} C_{R} + 32 C_{C} C_{F} C_{R}^{2} + 16 C_{F}^{2} C_{R}^{2}} & \\frac{14 C_{C}^{3} + 15 C_{C}^{2} C_{F} + 31 C_{C}^{2} C_{R} + 32 C_{C} C_{F} C_{R} + 16 C_{C} C_{R}^{2} + 16 C_{F} C_{R}^{2}}{12 C_{C}^{4} + 28 C_{C}^{3} C_{F} + 28 C_{C}^{3} C_{R} + 15 C_{C}^{2} C_{F}^{2} + 62 C_{C}^{2} C_{F} C_{R} + 15 C_{C}^{2} C_{R}^{2} + 32 C_{C} C_{F}^{2} C_{R} + 32 C_{C} C_{F} C_{R}^{2} + 16 C_{F}^{2} C_{R}^{2}}\\end{matrix}\\right]$"
     },
     "execution_count": 5,
     "metadata": {},
     "output_type": "execute_result"
    }
   ],
   "source": [
    "sym.simplify(C_inv)"
   ],
   "metadata": {
    "collapsed": false,
    "ExecuteTime": {
     "end_time": "2024-02-08T11:26:34.719963800Z",
     "start_time": "2024-02-08T11:26:33.533142600Z"
    }
   },
   "execution_count": 5
  },
  {
   "cell_type": "code",
   "outputs": [
    {
     "data": {
      "text/plain": "Matrix([\n[(14*C_C**3 + 31*C_C**2*C_F + 15*C_C**2*C_R + 16*C_C*C_F**2 + 32*C_C*C_F*C_R + 16*C_F**2*C_R)/(12*C_C**4 + 28*C_C**3*C_F + 28*C_C**3*C_R + 15*C_C**2*C_F**2 + 62*C_C**2*C_F*C_R + 15*C_C**2*C_R**2 + 32*C_C*C_F**2*C_R + 32*C_C*C_F*C_R**2 + 16*C_F**2*C_R**2),                                                                   C_C**2*(2*C_C + C_F + C_R)/(12*C_C**4 + 28*C_C**3*C_F + 28*C_C**3*C_R + 15*C_C**2*C_F**2 + 62*C_C**2*C_F*C_R + 15*C_C**2*C_R**2 + 32*C_C*C_F**2*C_R + 32*C_C*C_F*C_R**2 + 16*C_F**2*C_R**2),                                                          4*C_C*(C_C**2 + 2*C_C*C_F + C_F**2)/(12*C_C**4 + 28*C_C**3*C_F + 28*C_C**3*C_R + 15*C_C**2*C_F**2 + 62*C_C**2*C_F*C_R + 15*C_C**2*C_R**2 + 32*C_C*C_F**2*C_R + 32*C_C*C_F*C_R**2 + 16*C_F**2*C_R**2),                                                 4*C_C*(C_C**2 + C_C*C_F + C_C*C_R + C_F*C_R)/(12*C_C**4 + 28*C_C**3*C_F + 28*C_C**3*C_R + 15*C_C**2*C_F**2 + 62*C_C**2*C_F*C_R + 15*C_C**2*C_R**2 + 32*C_C*C_F**2*C_R + 32*C_C*C_F*C_R**2 + 16*C_F**2*C_R**2)],\n[                                                                  C_C**2*(2*C_C + C_F + C_R)/(12*C_C**4 + 28*C_C**3*C_F + 28*C_C**3*C_R + 15*C_C**2*C_F**2 + 62*C_C**2*C_F*C_R + 15*C_C**2*C_R**2 + 32*C_C*C_F**2*C_R + 32*C_C*C_F*C_R**2 + 16*C_F**2*C_R**2), (14*C_C**3 + 15*C_C**2*C_F + 31*C_C**2*C_R + 32*C_C*C_F*C_R + 16*C_C*C_R**2 + 16*C_F*C_R**2)/(12*C_C**4 + 28*C_C**3*C_F + 28*C_C**3*C_R + 15*C_C**2*C_F**2 + 62*C_C**2*C_F*C_R + 15*C_C**2*C_R**2 + 32*C_C*C_F**2*C_R + 32*C_C*C_F*C_R**2 + 16*C_F**2*C_R**2),                                                 4*C_C*(C_C**2 + C_C*C_F + C_C*C_R + C_F*C_R)/(12*C_C**4 + 28*C_C**3*C_F + 28*C_C**3*C_R + 15*C_C**2*C_F**2 + 62*C_C**2*C_F*C_R + 15*C_C**2*C_R**2 + 32*C_C*C_F**2*C_R + 32*C_C*C_F*C_R**2 + 16*C_F**2*C_R**2),                                                          4*C_C*(C_C**2 + 2*C_C*C_R + C_R**2)/(12*C_C**4 + 28*C_C**3*C_F + 28*C_C**3*C_R + 15*C_C**2*C_F**2 + 62*C_C**2*C_F*C_R + 15*C_C**2*C_R**2 + 32*C_C*C_F**2*C_R + 32*C_C*C_F*C_R**2 + 16*C_F**2*C_R**2)],\n[                                                         4*C_C*(C_C**2 + 2*C_C*C_F + C_F**2)/(12*C_C**4 + 28*C_C**3*C_F + 28*C_C**3*C_R + 15*C_C**2*C_F**2 + 62*C_C**2*C_F*C_R + 15*C_C**2*C_R**2 + 32*C_C*C_F**2*C_R + 32*C_C*C_F*C_R**2 + 16*C_F**2*C_R**2),                                                 4*C_C*(C_C**2 + C_C*C_F + C_C*C_R + C_F*C_R)/(12*C_C**4 + 28*C_C**3*C_F + 28*C_C**3*C_R + 15*C_C**2*C_F**2 + 62*C_C**2*C_F*C_R + 15*C_C**2*C_R**2 + 32*C_C*C_F**2*C_R + 32*C_C*C_F*C_R**2 + 16*C_F**2*C_R**2), (14*C_C**3 + 31*C_C**2*C_F + 15*C_C**2*C_R + 16*C_C*C_F**2 + 32*C_C*C_F*C_R + 16*C_F**2*C_R)/(12*C_C**4 + 28*C_C**3*C_F + 28*C_C**3*C_R + 15*C_C**2*C_F**2 + 62*C_C**2*C_F*C_R + 15*C_C**2*C_R**2 + 32*C_C*C_F**2*C_R + 32*C_C*C_F*C_R**2 + 16*C_F**2*C_R**2),                                                                   C_C**2*(2*C_C + C_F + C_R)/(12*C_C**4 + 28*C_C**3*C_F + 28*C_C**3*C_R + 15*C_C**2*C_F**2 + 62*C_C**2*C_F*C_R + 15*C_C**2*C_R**2 + 32*C_C*C_F**2*C_R + 32*C_C*C_F*C_R**2 + 16*C_F**2*C_R**2)],\n[                                                4*C_C*(C_C**2 + C_C*C_F + C_C*C_R + C_F*C_R)/(12*C_C**4 + 28*C_C**3*C_F + 28*C_C**3*C_R + 15*C_C**2*C_F**2 + 62*C_C**2*C_F*C_R + 15*C_C**2*C_R**2 + 32*C_C*C_F**2*C_R + 32*C_C*C_F*C_R**2 + 16*C_F**2*C_R**2),                                                          4*C_C*(C_C**2 + 2*C_C*C_R + C_R**2)/(12*C_C**4 + 28*C_C**3*C_F + 28*C_C**3*C_R + 15*C_C**2*C_F**2 + 62*C_C**2*C_F*C_R + 15*C_C**2*C_R**2 + 32*C_C*C_F**2*C_R + 32*C_C*C_F*C_R**2 + 16*C_F**2*C_R**2),                                                                   C_C**2*(2*C_C + C_F + C_R)/(12*C_C**4 + 28*C_C**3*C_F + 28*C_C**3*C_R + 15*C_C**2*C_F**2 + 62*C_C**2*C_F*C_R + 15*C_C**2*C_R**2 + 32*C_C*C_F**2*C_R + 32*C_C*C_F*C_R**2 + 16*C_F**2*C_R**2), (14*C_C**3 + 15*C_C**2*C_F + 31*C_C**2*C_R + 32*C_C*C_F*C_R + 16*C_C*C_R**2 + 16*C_F*C_R**2)/(12*C_C**4 + 28*C_C**3*C_F + 28*C_C**3*C_R + 15*C_C**2*C_F**2 + 62*C_C**2*C_F*C_R + 15*C_C**2*C_R**2 + 32*C_C*C_F**2*C_R + 32*C_C*C_F*C_R**2 + 16*C_F**2*C_R**2)]])",
      "text/latex": "$\\displaystyle \\left[\\begin{matrix}\\frac{14 C_{C}^{3} + 31 C_{C}^{2} C_{F} + 15 C_{C}^{2} C_{R} + 16 C_{C} C_{F}^{2} + 32 C_{C} C_{F} C_{R} + 16 C_{F}^{2} C_{R}}{12 C_{C}^{4} + 28 C_{C}^{3} C_{F} + 28 C_{C}^{3} C_{R} + 15 C_{C}^{2} C_{F}^{2} + 62 C_{C}^{2} C_{F} C_{R} + 15 C_{C}^{2} C_{R}^{2} + 32 C_{C} C_{F}^{2} C_{R} + 32 C_{C} C_{F} C_{R}^{2} + 16 C_{F}^{2} C_{R}^{2}} & \\frac{C_{C}^{2} \\cdot \\left(2 C_{C} + C_{F} + C_{R}\\right)}{12 C_{C}^{4} + 28 C_{C}^{3} C_{F} + 28 C_{C}^{3} C_{R} + 15 C_{C}^{2} C_{F}^{2} + 62 C_{C}^{2} C_{F} C_{R} + 15 C_{C}^{2} C_{R}^{2} + 32 C_{C} C_{F}^{2} C_{R} + 32 C_{C} C_{F} C_{R}^{2} + 16 C_{F}^{2} C_{R}^{2}} & \\frac{4 C_{C} \\left(C_{C}^{2} + 2 C_{C} C_{F} + C_{F}^{2}\\right)}{12 C_{C}^{4} + 28 C_{C}^{3} C_{F} + 28 C_{C}^{3} C_{R} + 15 C_{C}^{2} C_{F}^{2} + 62 C_{C}^{2} C_{F} C_{R} + 15 C_{C}^{2} C_{R}^{2} + 32 C_{C} C_{F}^{2} C_{R} + 32 C_{C} C_{F} C_{R}^{2} + 16 C_{F}^{2} C_{R}^{2}} & \\frac{4 C_{C} \\left(C_{C}^{2} + C_{C} C_{F} + C_{C} C_{R} + C_{F} C_{R}\\right)}{12 C_{C}^{4} + 28 C_{C}^{3} C_{F} + 28 C_{C}^{3} C_{R} + 15 C_{C}^{2} C_{F}^{2} + 62 C_{C}^{2} C_{F} C_{R} + 15 C_{C}^{2} C_{R}^{2} + 32 C_{C} C_{F}^{2} C_{R} + 32 C_{C} C_{F} C_{R}^{2} + 16 C_{F}^{2} C_{R}^{2}}\\\\\\frac{C_{C}^{2} \\cdot \\left(2 C_{C} + C_{F} + C_{R}\\right)}{12 C_{C}^{4} + 28 C_{C}^{3} C_{F} + 28 C_{C}^{3} C_{R} + 15 C_{C}^{2} C_{F}^{2} + 62 C_{C}^{2} C_{F} C_{R} + 15 C_{C}^{2} C_{R}^{2} + 32 C_{C} C_{F}^{2} C_{R} + 32 C_{C} C_{F} C_{R}^{2} + 16 C_{F}^{2} C_{R}^{2}} & \\frac{14 C_{C}^{3} + 15 C_{C}^{2} C_{F} + 31 C_{C}^{2} C_{R} + 32 C_{C} C_{F} C_{R} + 16 C_{C} C_{R}^{2} + 16 C_{F} C_{R}^{2}}{12 C_{C}^{4} + 28 C_{C}^{3} C_{F} + 28 C_{C}^{3} C_{R} + 15 C_{C}^{2} C_{F}^{2} + 62 C_{C}^{2} C_{F} C_{R} + 15 C_{C}^{2} C_{R}^{2} + 32 C_{C} C_{F}^{2} C_{R} + 32 C_{C} C_{F} C_{R}^{2} + 16 C_{F}^{2} C_{R}^{2}} & \\frac{4 C_{C} \\left(C_{C}^{2} + C_{C} C_{F} + C_{C} C_{R} + C_{F} C_{R}\\right)}{12 C_{C}^{4} + 28 C_{C}^{3} C_{F} + 28 C_{C}^{3} C_{R} + 15 C_{C}^{2} C_{F}^{2} + 62 C_{C}^{2} C_{F} C_{R} + 15 C_{C}^{2} C_{R}^{2} + 32 C_{C} C_{F}^{2} C_{R} + 32 C_{C} C_{F} C_{R}^{2} + 16 C_{F}^{2} C_{R}^{2}} & \\frac{4 C_{C} \\left(C_{C}^{2} + 2 C_{C} C_{R} + C_{R}^{2}\\right)}{12 C_{C}^{4} + 28 C_{C}^{3} C_{F} + 28 C_{C}^{3} C_{R} + 15 C_{C}^{2} C_{F}^{2} + 62 C_{C}^{2} C_{F} C_{R} + 15 C_{C}^{2} C_{R}^{2} + 32 C_{C} C_{F}^{2} C_{R} + 32 C_{C} C_{F} C_{R}^{2} + 16 C_{F}^{2} C_{R}^{2}}\\\\\\frac{4 C_{C} \\left(C_{C}^{2} + 2 C_{C} C_{F} + C_{F}^{2}\\right)}{12 C_{C}^{4} + 28 C_{C}^{3} C_{F} + 28 C_{C}^{3} C_{R} + 15 C_{C}^{2} C_{F}^{2} + 62 C_{C}^{2} C_{F} C_{R} + 15 C_{C}^{2} C_{R}^{2} + 32 C_{C} C_{F}^{2} C_{R} + 32 C_{C} C_{F} C_{R}^{2} + 16 C_{F}^{2} C_{R}^{2}} & \\frac{4 C_{C} \\left(C_{C}^{2} + C_{C} C_{F} + C_{C} C_{R} + C_{F} C_{R}\\right)}{12 C_{C}^{4} + 28 C_{C}^{3} C_{F} + 28 C_{C}^{3} C_{R} + 15 C_{C}^{2} C_{F}^{2} + 62 C_{C}^{2} C_{F} C_{R} + 15 C_{C}^{2} C_{R}^{2} + 32 C_{C} C_{F}^{2} C_{R} + 32 C_{C} C_{F} C_{R}^{2} + 16 C_{F}^{2} C_{R}^{2}} & \\frac{14 C_{C}^{3} + 31 C_{C}^{2} C_{F} + 15 C_{C}^{2} C_{R} + 16 C_{C} C_{F}^{2} + 32 C_{C} C_{F} C_{R} + 16 C_{F}^{2} C_{R}}{12 C_{C}^{4} + 28 C_{C}^{3} C_{F} + 28 C_{C}^{3} C_{R} + 15 C_{C}^{2} C_{F}^{2} + 62 C_{C}^{2} C_{F} C_{R} + 15 C_{C}^{2} C_{R}^{2} + 32 C_{C} C_{F}^{2} C_{R} + 32 C_{C} C_{F} C_{R}^{2} + 16 C_{F}^{2} C_{R}^{2}} & \\frac{C_{C}^{2} \\cdot \\left(2 C_{C} + C_{F} + C_{R}\\right)}{12 C_{C}^{4} + 28 C_{C}^{3} C_{F} + 28 C_{C}^{3} C_{R} + 15 C_{C}^{2} C_{F}^{2} + 62 C_{C}^{2} C_{F} C_{R} + 15 C_{C}^{2} C_{R}^{2} + 32 C_{C} C_{F}^{2} C_{R} + 32 C_{C} C_{F} C_{R}^{2} + 16 C_{F}^{2} C_{R}^{2}}\\\\\\frac{4 C_{C} \\left(C_{C}^{2} + C_{C} C_{F} + C_{C} C_{R} + C_{F} C_{R}\\right)}{12 C_{C}^{4} + 28 C_{C}^{3} C_{F} + 28 C_{C}^{3} C_{R} + 15 C_{C}^{2} C_{F}^{2} + 62 C_{C}^{2} C_{F} C_{R} + 15 C_{C}^{2} C_{R}^{2} + 32 C_{C} C_{F}^{2} C_{R} + 32 C_{C} C_{F} C_{R}^{2} + 16 C_{F}^{2} C_{R}^{2}} & \\frac{4 C_{C} \\left(C_{C}^{2} + 2 C_{C} C_{R} + C_{R}^{2}\\right)}{12 C_{C}^{4} + 28 C_{C}^{3} C_{F} + 28 C_{C}^{3} C_{R} + 15 C_{C}^{2} C_{F}^{2} + 62 C_{C}^{2} C_{F} C_{R} + 15 C_{C}^{2} C_{R}^{2} + 32 C_{C} C_{F}^{2} C_{R} + 32 C_{C} C_{F} C_{R}^{2} + 16 C_{F}^{2} C_{R}^{2}} & \\frac{C_{C}^{2} \\cdot \\left(2 C_{C} + C_{F} + C_{R}\\right)}{12 C_{C}^{4} + 28 C_{C}^{3} C_{F} + 28 C_{C}^{3} C_{R} + 15 C_{C}^{2} C_{F}^{2} + 62 C_{C}^{2} C_{F} C_{R} + 15 C_{C}^{2} C_{R}^{2} + 32 C_{C} C_{F}^{2} C_{R} + 32 C_{C} C_{F} C_{R}^{2} + 16 C_{F}^{2} C_{R}^{2}} & \\frac{14 C_{C}^{3} + 15 C_{C}^{2} C_{F} + 31 C_{C}^{2} C_{R} + 32 C_{C} C_{F} C_{R} + 16 C_{C} C_{R}^{2} + 16 C_{F} C_{R}^{2}}{12 C_{C}^{4} + 28 C_{C}^{3} C_{F} + 28 C_{C}^{3} C_{R} + 15 C_{C}^{2} C_{F}^{2} + 62 C_{C}^{2} C_{F} C_{R} + 15 C_{C}^{2} C_{R}^{2} + 32 C_{C} C_{F}^{2} C_{R} + 32 C_{C} C_{F} C_{R}^{2} + 16 C_{F}^{2} C_{R}^{2}}\\end{matrix}\\right]$"
     },
     "execution_count": 6,
     "metadata": {},
     "output_type": "execute_result"
    }
   ],
   "source": [
    "sym.simplify(C_inv )"
   ],
   "metadata": {
    "collapsed": false,
    "ExecuteTime": {
     "end_time": "2024-02-08T11:26:35.683655900Z",
     "start_time": "2024-02-08T11:26:34.717862900Z"
    }
   },
   "execution_count": 6
  },
  {
   "cell_type": "code",
   "outputs": [
    {
     "data": {
      "text/plain": "(14*C_C**3 + 31*C_C**2*C_F + 15*C_C**2*C_R + 16*C_C*C_F**2 + 32*C_C*C_F*C_R + 16*C_F**2*C_R)/((2*C_C**2 + 3*C_C*C_F + 3*C_C*C_R + 4*C_F*C_R)*(6*C_C**2 + 5*C_C*C_F + 5*C_C*C_R + 4*C_F*C_R))",
      "text/latex": "$\\displaystyle \\frac{14 C_{C}^{3} + 31 C_{C}^{2} C_{F} + 15 C_{C}^{2} C_{R} + 16 C_{C} C_{F}^{2} + 32 C_{C} C_{F} C_{R} + 16 C_{F}^{2} C_{R}}{\\left(2 C_{C}^{2} + 3 C_{C} C_{F} + 3 C_{C} C_{R} + 4 C_{F} C_{R}\\right) \\left(6 C_{C}^{2} + 5 C_{C} C_{F} + 5 C_{C} C_{R} + 4 C_{F} C_{R}\\right)}$"
     },
     "execution_count": 7,
     "metadata": {},
     "output_type": "execute_result"
    }
   ],
   "source": [
    "sym.factor(C_inv[0,0])"
   ],
   "metadata": {
    "collapsed": false,
    "ExecuteTime": {
     "end_time": "2024-02-08T11:26:35.724861900Z",
     "start_time": "2024-02-08T11:26:35.678496900Z"
    }
   },
   "execution_count": 7
  },
  {
   "cell_type": "code",
   "outputs": [
    {
     "data": {
      "text/plain": "0",
      "text/latex": "$\\displaystyle 0$"
     },
     "execution_count": 8,
     "metadata": {},
     "output_type": "execute_result"
    }
   ],
   "source": [
    "C_inv[0,0] - C_inv[2,2]"
   ],
   "metadata": {
    "collapsed": false,
    "ExecuteTime": {
     "end_time": "2024-02-08T11:26:35.747670100Z",
     "start_time": "2024-02-08T11:26:35.725922500Z"
    }
   },
   "execution_count": 8
  },
  {
   "cell_type": "code",
   "outputs": [],
   "source": [
    "Csh = 15\n",
    "C   = 15\n",
    "Cg  = 10\n",
    "CJ  = 3\n",
    "Cc  = 10"
   ],
   "metadata": {
    "collapsed": false,
    "ExecuteTime": {
     "end_time": "2024-02-08T11:26:35.754832900Z",
     "start_time": "2024-02-08T11:26:35.737988100Z"
    }
   },
   "execution_count": 9
  },
  {
   "cell_type": "code",
   "outputs": [],
   "source": [
    "a=np.array( C_inv.subs({C_C:Cc, C_R:C/2, C_F:C/2 + Csh + CJ}).evalf() )"
   ],
   "metadata": {
    "collapsed": false,
    "ExecuteTime": {
     "end_time": "2024-02-08T11:26:35.799426300Z",
     "start_time": "2024-02-08T11:26:35.754832900Z"
    }
   },
   "execution_count": 10
  },
  {
   "cell_type": "code",
   "outputs": [
    {
     "data": {
      "text/plain": "array([[1.00000000000000, 0.0152487268751618, 0.145035532410737,\n        0.0714963892165607],\n       [0.0152487268751618, 0.485225997640763, 0.0714963892165607,\n        0.0352446989095722],\n       [0.145035532410737, 0.0714963892165607, 1.00000000000000,\n        0.0152487268751618],\n       [0.0714963892165607, 0.0352446989095722, 0.0152487268751618,\n        0.485225997640763]], dtype=object)"
     },
     "execution_count": 11,
     "metadata": {},
     "output_type": "execute_result"
    }
   ],
   "source": [
    "a/a[0,0]"
   ],
   "metadata": {
    "collapsed": false,
    "ExecuteTime": {
     "end_time": "2024-02-08T11:26:35.816021900Z",
     "start_time": "2024-02-08T11:26:35.800445400Z"
    }
   },
   "execution_count": 11
  },
  {
   "cell_type": "code",
   "outputs": [],
   "source": [
    "C_R = C/2\n",
    "C_C = Cc\n",
    "C_F = C/2 + Csh + CJ\n",
    "C   = np.array([  [C_R + C_C, 0, -C_C / 4, -C_C / 4],\n",
    "                  [0, C_F + C_C, -C_C / 4, -C_C / 4],\n",
    "                  [-C_C / 4, -C_C / 4, C_R + C_C, 0],\n",
    "                  [-C_C / 4, -C_C / 4, 0, C_F + C_C]])"
   ],
   "metadata": {
    "collapsed": false,
    "ExecuteTime": {
     "end_time": "2024-02-08T11:26:35.842868Z",
     "start_time": "2024-02-08T11:26:35.818319800Z"
    }
   },
   "execution_count": 12
  },
  {
   "cell_type": "code",
   "outputs": [
    {
     "data": {
      "text/plain": "array([[17.5,  0. , -2.5, -2.5],\n       [ 0. , 35.5, -2.5, -2.5],\n       [-2.5, -2.5, 17.5,  0. ],\n       [-2.5, -2.5,  0. , 35.5]])"
     },
     "execution_count": 13,
     "metadata": {},
     "output_type": "execute_result"
    }
   ],
   "source": [
    "C"
   ],
   "metadata": {
    "collapsed": false,
    "ExecuteTime": {
     "end_time": "2024-02-08T11:26:35.853980800Z",
     "start_time": "2024-02-08T11:26:35.832721200Z"
    }
   },
   "execution_count": 13
  },
  {
   "cell_type": "code",
   "outputs": [
    {
     "data": {
      "text/plain": "array([[  16.9586702 , 1112.13679245,  116.92769292,  237.19617706],\n       [1112.13679245,   34.95004447,  237.19617706,  481.16938776],\n       [ 116.92769292,  237.19617706,   16.9586702 , 1112.13679245],\n       [ 237.19617706,  481.16938776, 1112.13679245,   34.95004447]])"
     },
     "execution_count": 14,
     "metadata": {},
     "output_type": "execute_result"
    }
   ],
   "source": [
    "np.linalg.inv(C)**-1"
   ],
   "metadata": {
    "collapsed": false,
    "ExecuteTime": {
     "end_time": "2024-02-08T11:26:35.880841500Z",
     "start_time": "2024-02-08T11:26:35.864813900Z"
    }
   },
   "execution_count": 14
  },
  {
   "cell_type": "code",
   "outputs": [
    {
     "data": {
      "text/plain": "35.5"
     },
     "execution_count": 15,
     "metadata": {},
     "output_type": "execute_result"
    }
   ],
   "source": [
    "C_F + C_C"
   ],
   "metadata": {
    "collapsed": false,
    "ExecuteTime": {
     "end_time": "2024-02-08T11:26:35.923286300Z",
     "start_time": "2024-02-08T11:26:35.878701200Z"
    }
   },
   "execution_count": 15
  },
  {
   "cell_type": "code",
   "outputs": [
    {
     "data": {
      "text/plain": "17.5"
     },
     "execution_count": 16,
     "metadata": {},
     "output_type": "execute_result"
    }
   ],
   "source": [
    "C_R + C_C"
   ],
   "metadata": {
    "collapsed": false,
    "ExecuteTime": {
     "end_time": "2024-02-08T11:26:35.924792Z",
     "start_time": "2024-02-08T11:26:35.896139900Z"
    }
   },
   "execution_count": 16
  },
  {
   "cell_type": "code",
   "outputs": [
    {
     "data": {
      "text/plain": "Matrix([\n[1, 0, 0, 0, 1, 0],\n[0, 1, 0, 0, 0, 1],\n[0, 0, 2, 0, 0, 0],\n[0, 0, 0, 2, 0, 0],\n[1, 0, 0, 0, 1, 0],\n[0, 1, 0, 0, 0, 1]])",
      "text/latex": "$\\displaystyle \\left[\\begin{matrix}1 & 0 & 0 & 0 & 1 & 0\\\\0 & 1 & 0 & 0 & 0 & 1\\\\0 & 0 & 2 & 0 & 0 & 0\\\\0 & 0 & 0 & 2 & 0 & 0\\\\1 & 0 & 0 & 0 & 1 & 0\\\\0 & 1 & 0 & 0 & 0 & 1\\end{matrix}\\right]$"
     },
     "execution_count": 9,
     "metadata": {},
     "output_type": "execute_result"
    }
   ],
   "source": [
    "# Define the symbols\n",
    "alpha= sym.symbols('\\\\alpha', real=True, positive = True, nonzero=True)\n",
    "N=6\n",
    "C_mat = sym.Matrix(N,N, lambda i, j: -1 if abs(i-j) == 2 else 0)\n",
    "C_mat**2"
   ],
   "metadata": {
    "collapsed": false,
    "ExecuteTime": {
     "end_time": "2024-02-27T12:42:32.526855840Z",
     "start_time": "2024-02-27T12:42:32.520037726Z"
    }
   },
   "execution_count": 9
  },
  {
   "cell_type": "code",
   "outputs": [
    {
     "data": {
      "text/plain": "Matrix([\n[\\alpha + 1,    -\\alpha,    -\\alpha,          0,          0,    -\\alpha],\n[   -\\alpha, \\alpha + 1,    -\\alpha,    -\\alpha,          0,          0],\n[   -\\alpha,    -\\alpha, \\alpha + 1,    -\\alpha,    -\\alpha,          0],\n[         0,    -\\alpha,    -\\alpha, \\alpha + 1,    -\\alpha,    -\\alpha],\n[         0,          0,    -\\alpha,    -\\alpha, \\alpha + 1,    -\\alpha],\n[   -\\alpha,          0,          0,    -\\alpha,    -\\alpha, \\alpha + 1]])",
      "text/latex": "$\\displaystyle \\left[\\begin{matrix}\\alpha + 1 & - \\alpha & - \\alpha & 0 & 0 & - \\alpha\\\\- \\alpha & \\alpha + 1 & - \\alpha & - \\alpha & 0 & 0\\\\- \\alpha & - \\alpha & \\alpha + 1 & - \\alpha & - \\alpha & 0\\\\0 & - \\alpha & - \\alpha & \\alpha + 1 & - \\alpha & - \\alpha\\\\0 & 0 & - \\alpha & - \\alpha & \\alpha + 1 & - \\alpha\\\\- \\alpha & 0 & 0 & - \\alpha & - \\alpha & \\alpha + 1\\end{matrix}\\right]$"
     },
     "execution_count": 4,
     "metadata": {},
     "output_type": "execute_result"
    }
   ],
   "source": [
    "# Define the symbols\n",
    "alpha= sym.symbols('\\\\alpha', real=True, positive = True, nonzero=True)\n",
    "N=6\n",
    "C_mat = sym.Matrix(N,N, lambda i, j: 1+alpha if i == j else -alpha if abs(i-j) == 2 else -alpha if ((i==N-1 and j==0) or (i==0 and j==N-1) )  else 0)\n",
    "C_mat = sym.Matrix(N,N, lambda i, j: 1+alpha if i == j else -alpha if abs(i-j) == 2 else -alpha if abs(i-j) == 1 else -alpha if ((i==N-1 and j==0) or (i==0 and j==N-1) )  else 0)\n",
    "# C_mat = sym.Matrix(N,N, lambda i, j: 1+alpha if i == j else -alpha if abs(i-j) == 2  else 0)\n",
    "\n",
    "C_mat"
   ],
   "metadata": {
    "collapsed": false,
    "ExecuteTime": {
     "end_time": "2024-02-27T12:39:51.202292310Z",
     "start_time": "2024-02-27T12:39:51.119651034Z"
    }
   },
   "execution_count": 4
  },
  {
   "cell_type": "code",
   "outputs": [],
   "source": [
    "C_inv = C_mat **-1\n",
    "# C_inv = sym.simplify(C_inv)"
   ],
   "metadata": {
    "collapsed": false,
    "ExecuteTime": {
     "end_time": "2024-02-23T11:28:50.165285200Z",
     "start_time": "2024-02-23T11:28:19.073399700Z"
    }
   },
   "execution_count": 19
  },
  {
   "cell_type": "code",
   "outputs": [
    {
     "data": {
      "text/plain": "Matrix([\n[(7*\\alpha**5 + 25*\\alpha**4 + 17*\\alpha**3 - 3*\\alpha**2 - 5*\\alpha - 1)/(5*\\alpha**6 + 36*\\alpha**5 + 60*\\alpha**4 + 28*\\alpha**3 - 5*\\alpha**2 - 6*\\alpha - 1),         (4*\\alpha**5 + 2*\\alpha**4 - 6*\\alpha**3 - 5*\\alpha**2 - \\alpha)/(5*\\alpha**6 + 36*\\alpha**5 + 60*\\alpha**4 + 28*\\alpha**3 - 5*\\alpha**2 - 6*\\alpha - 1),           (\\alpha**5 - 4*\\alpha**4 - 8*\\alpha**3 - 5*\\alpha**2 - \\alpha)/(5*\\alpha**6 + 36*\\alpha**5 + 60*\\alpha**4 + 28*\\alpha**3 - 5*\\alpha**2 - 6*\\alpha - 1),               (-4*\\alpha**5 - 15*\\alpha**4 - 13*\\alpha**3 - 3*\\alpha**2)/(5*\\alpha**6 + 36*\\alpha**5 + 60*\\alpha**4 + 28*\\alpha**3 - 5*\\alpha**2 - 6*\\alpha - 1),               (-6*\\alpha**5 - 15*\\alpha**4 - 10*\\alpha**3 - 2*\\alpha**2)/(5*\\alpha**6 + 36*\\alpha**5 + 60*\\alpha**4 + 28*\\alpha**3 - 5*\\alpha**2 - 6*\\alpha - 1),        (-3*\\alpha**5 - 2*\\alpha**4 - 4*\\alpha**3 - 4*\\alpha**2 - \\alpha)/(5*\\alpha**6 + 36*\\alpha**5 + 60*\\alpha**4 + 28*\\alpha**3 - 5*\\alpha**2 - 6*\\alpha - 1)],\n[        (4*\\alpha**5 + 2*\\alpha**4 - 6*\\alpha**3 - 5*\\alpha**2 - \\alpha)/(5*\\alpha**6 + 36*\\alpha**5 + 60*\\alpha**4 + 28*\\alpha**3 - 5*\\alpha**2 - 6*\\alpha - 1), (8*\\alpha**5 + 22*\\alpha**4 + 15*\\alpha**3 - 3*\\alpha**2 - 5*\\alpha - 1)/(5*\\alpha**6 + 36*\\alpha**5 + 60*\\alpha**4 + 28*\\alpha**3 - 5*\\alpha**2 - 6*\\alpha - 1),           (2*\\alpha**5 - \\alpha**4 - 9*\\alpha**3 - 6*\\alpha**2 - \\alpha)/(5*\\alpha**6 + 36*\\alpha**5 + 60*\\alpha**4 + 28*\\alpha**3 - 5*\\alpha**2 - 6*\\alpha - 1),        (-3*\\alpha**5 - 7*\\alpha**4 - 8*\\alpha**3 - 5*\\alpha**2 - \\alpha)/(5*\\alpha**6 + 36*\\alpha**5 + 60*\\alpha**4 + 28*\\alpha**3 - 5*\\alpha**2 - 6*\\alpha - 1),               (-7*\\alpha**5 - 16*\\alpha**4 - 11*\\alpha**3 - 2*\\alpha**2)/(5*\\alpha**6 + 36*\\alpha**5 + 60*\\alpha**4 + 28*\\alpha**3 - 5*\\alpha**2 - 6*\\alpha - 1),               (-6*\\alpha**5 - 15*\\alpha**4 - 10*\\alpha**3 - 2*\\alpha**2)/(5*\\alpha**6 + 36*\\alpha**5 + 60*\\alpha**4 + 28*\\alpha**3 - 5*\\alpha**2 - 6*\\alpha - 1)],\n[          (\\alpha**5 - 4*\\alpha**4 - 8*\\alpha**3 - 5*\\alpha**2 - \\alpha)/(5*\\alpha**6 + 36*\\alpha**5 + 60*\\alpha**4 + 28*\\alpha**3 - 5*\\alpha**2 - 6*\\alpha - 1),           (2*\\alpha**5 - \\alpha**4 - 9*\\alpha**3 - 6*\\alpha**2 - \\alpha)/(5*\\alpha**6 + 36*\\alpha**5 + 60*\\alpha**4 + 28*\\alpha**3 - 5*\\alpha**2 - 6*\\alpha - 1), (3*\\alpha**5 + 13*\\alpha**4 + 10*\\alpha**3 - 4*\\alpha**2 - 5*\\alpha - 1)/(5*\\alpha**6 + 36*\\alpha**5 + 60*\\alpha**4 + 28*\\alpha**3 - 5*\\alpha**2 - 6*\\alpha - 1),       (-2*\\alpha**5 - 8*\\alpha**4 - 12*\\alpha**3 - 6*\\alpha**2 - \\alpha)/(5*\\alpha**6 + 36*\\alpha**5 + 60*\\alpha**4 + 28*\\alpha**3 - 5*\\alpha**2 - 6*\\alpha - 1),        (-3*\\alpha**5 - 7*\\alpha**4 - 8*\\alpha**3 - 5*\\alpha**2 - \\alpha)/(5*\\alpha**6 + 36*\\alpha**5 + 60*\\alpha**4 + 28*\\alpha**3 - 5*\\alpha**2 - 6*\\alpha - 1),               (-4*\\alpha**5 - 15*\\alpha**4 - 13*\\alpha**3 - 3*\\alpha**2)/(5*\\alpha**6 + 36*\\alpha**5 + 60*\\alpha**4 + 28*\\alpha**3 - 5*\\alpha**2 - 6*\\alpha - 1)],\n[              (-4*\\alpha**5 - 15*\\alpha**4 - 13*\\alpha**3 - 3*\\alpha**2)/(5*\\alpha**6 + 36*\\alpha**5 + 60*\\alpha**4 + 28*\\alpha**3 - 5*\\alpha**2 - 6*\\alpha - 1),        (-3*\\alpha**5 - 7*\\alpha**4 - 8*\\alpha**3 - 5*\\alpha**2 - \\alpha)/(5*\\alpha**6 + 36*\\alpha**5 + 60*\\alpha**4 + 28*\\alpha**3 - 5*\\alpha**2 - 6*\\alpha - 1),       (-2*\\alpha**5 - 8*\\alpha**4 - 12*\\alpha**3 - 6*\\alpha**2 - \\alpha)/(5*\\alpha**6 + 36*\\alpha**5 + 60*\\alpha**4 + 28*\\alpha**3 - 5*\\alpha**2 - 6*\\alpha - 1), (3*\\alpha**5 + 13*\\alpha**4 + 10*\\alpha**3 - 4*\\alpha**2 - 5*\\alpha - 1)/(5*\\alpha**6 + 36*\\alpha**5 + 60*\\alpha**4 + 28*\\alpha**3 - 5*\\alpha**2 - 6*\\alpha - 1),           (2*\\alpha**5 - \\alpha**4 - 9*\\alpha**3 - 6*\\alpha**2 - \\alpha)/(5*\\alpha**6 + 36*\\alpha**5 + 60*\\alpha**4 + 28*\\alpha**3 - 5*\\alpha**2 - 6*\\alpha - 1),           (\\alpha**5 - 4*\\alpha**4 - 8*\\alpha**3 - 5*\\alpha**2 - \\alpha)/(5*\\alpha**6 + 36*\\alpha**5 + 60*\\alpha**4 + 28*\\alpha**3 - 5*\\alpha**2 - 6*\\alpha - 1)],\n[              (-6*\\alpha**5 - 15*\\alpha**4 - 10*\\alpha**3 - 2*\\alpha**2)/(5*\\alpha**6 + 36*\\alpha**5 + 60*\\alpha**4 + 28*\\alpha**3 - 5*\\alpha**2 - 6*\\alpha - 1),               (-7*\\alpha**5 - 16*\\alpha**4 - 11*\\alpha**3 - 2*\\alpha**2)/(5*\\alpha**6 + 36*\\alpha**5 + 60*\\alpha**4 + 28*\\alpha**3 - 5*\\alpha**2 - 6*\\alpha - 1),        (-3*\\alpha**5 - 7*\\alpha**4 - 8*\\alpha**3 - 5*\\alpha**2 - \\alpha)/(5*\\alpha**6 + 36*\\alpha**5 + 60*\\alpha**4 + 28*\\alpha**3 - 5*\\alpha**2 - 6*\\alpha - 1),           (2*\\alpha**5 - \\alpha**4 - 9*\\alpha**3 - 6*\\alpha**2 - \\alpha)/(5*\\alpha**6 + 36*\\alpha**5 + 60*\\alpha**4 + 28*\\alpha**3 - 5*\\alpha**2 - 6*\\alpha - 1), (8*\\alpha**5 + 22*\\alpha**4 + 15*\\alpha**3 - 3*\\alpha**2 - 5*\\alpha - 1)/(5*\\alpha**6 + 36*\\alpha**5 + 60*\\alpha**4 + 28*\\alpha**3 - 5*\\alpha**2 - 6*\\alpha - 1),         (4*\\alpha**5 + 2*\\alpha**4 - 6*\\alpha**3 - 5*\\alpha**2 - \\alpha)/(5*\\alpha**6 + 36*\\alpha**5 + 60*\\alpha**4 + 28*\\alpha**3 - 5*\\alpha**2 - 6*\\alpha - 1)],\n[       (-3*\\alpha**5 - 2*\\alpha**4 - 4*\\alpha**3 - 4*\\alpha**2 - \\alpha)/(5*\\alpha**6 + 36*\\alpha**5 + 60*\\alpha**4 + 28*\\alpha**3 - 5*\\alpha**2 - 6*\\alpha - 1),               (-6*\\alpha**5 - 15*\\alpha**4 - 10*\\alpha**3 - 2*\\alpha**2)/(5*\\alpha**6 + 36*\\alpha**5 + 60*\\alpha**4 + 28*\\alpha**3 - 5*\\alpha**2 - 6*\\alpha - 1),               (-4*\\alpha**5 - 15*\\alpha**4 - 13*\\alpha**3 - 3*\\alpha**2)/(5*\\alpha**6 + 36*\\alpha**5 + 60*\\alpha**4 + 28*\\alpha**3 - 5*\\alpha**2 - 6*\\alpha - 1),           (\\alpha**5 - 4*\\alpha**4 - 8*\\alpha**3 - 5*\\alpha**2 - \\alpha)/(5*\\alpha**6 + 36*\\alpha**5 + 60*\\alpha**4 + 28*\\alpha**3 - 5*\\alpha**2 - 6*\\alpha - 1),         (4*\\alpha**5 + 2*\\alpha**4 - 6*\\alpha**3 - 5*\\alpha**2 - \\alpha)/(5*\\alpha**6 + 36*\\alpha**5 + 60*\\alpha**4 + 28*\\alpha**3 - 5*\\alpha**2 - 6*\\alpha - 1), (7*\\alpha**5 + 25*\\alpha**4 + 17*\\alpha**3 - 3*\\alpha**2 - 5*\\alpha - 1)/(5*\\alpha**6 + 36*\\alpha**5 + 60*\\alpha**4 + 28*\\alpha**3 - 5*\\alpha**2 - 6*\\alpha - 1)]])",
      "text/latex": "$\\displaystyle \\left[\\begin{matrix}\\frac{7 \\alpha^{5} + 25 \\alpha^{4} + 17 \\alpha^{3} - 3 \\alpha^{2} - 5 \\alpha - 1}{5 \\alpha^{6} + 36 \\alpha^{5} + 60 \\alpha^{4} + 28 \\alpha^{3} - 5 \\alpha^{2} - 6 \\alpha - 1} & \\frac{4 \\alpha^{5} + 2 \\alpha^{4} - 6 \\alpha^{3} - 5 \\alpha^{2} - \\alpha}{5 \\alpha^{6} + 36 \\alpha^{5} + 60 \\alpha^{4} + 28 \\alpha^{3} - 5 \\alpha^{2} - 6 \\alpha - 1} & \\frac{\\alpha^{5} - 4 \\alpha^{4} - 8 \\alpha^{3} - 5 \\alpha^{2} - \\alpha}{5 \\alpha^{6} + 36 \\alpha^{5} + 60 \\alpha^{4} + 28 \\alpha^{3} - 5 \\alpha^{2} - 6 \\alpha - 1} & \\frac{- 4 \\alpha^{5} - 15 \\alpha^{4} - 13 \\alpha^{3} - 3 \\alpha^{2}}{5 \\alpha^{6} + 36 \\alpha^{5} + 60 \\alpha^{4} + 28 \\alpha^{3} - 5 \\alpha^{2} - 6 \\alpha - 1} & \\frac{- 6 \\alpha^{5} - 15 \\alpha^{4} - 10 \\alpha^{3} - 2 \\alpha^{2}}{5 \\alpha^{6} + 36 \\alpha^{5} + 60 \\alpha^{4} + 28 \\alpha^{3} - 5 \\alpha^{2} - 6 \\alpha - 1} & \\frac{- 3 \\alpha^{5} - 2 \\alpha^{4} - 4 \\alpha^{3} - 4 \\alpha^{2} - \\alpha}{5 \\alpha^{6} + 36 \\alpha^{5} + 60 \\alpha^{4} + 28 \\alpha^{3} - 5 \\alpha^{2} - 6 \\alpha - 1}\\\\\\frac{4 \\alpha^{5} + 2 \\alpha^{4} - 6 \\alpha^{3} - 5 \\alpha^{2} - \\alpha}{5 \\alpha^{6} + 36 \\alpha^{5} + 60 \\alpha^{4} + 28 \\alpha^{3} - 5 \\alpha^{2} - 6 \\alpha - 1} & \\frac{8 \\alpha^{5} + 22 \\alpha^{4} + 15 \\alpha^{3} - 3 \\alpha^{2} - 5 \\alpha - 1}{5 \\alpha^{6} + 36 \\alpha^{5} + 60 \\alpha^{4} + 28 \\alpha^{3} - 5 \\alpha^{2} - 6 \\alpha - 1} & \\frac{2 \\alpha^{5} - \\alpha^{4} - 9 \\alpha^{3} - 6 \\alpha^{2} - \\alpha}{5 \\alpha^{6} + 36 \\alpha^{5} + 60 \\alpha^{4} + 28 \\alpha^{3} - 5 \\alpha^{2} - 6 \\alpha - 1} & \\frac{- 3 \\alpha^{5} - 7 \\alpha^{4} - 8 \\alpha^{3} - 5 \\alpha^{2} - \\alpha}{5 \\alpha^{6} + 36 \\alpha^{5} + 60 \\alpha^{4} + 28 \\alpha^{3} - 5 \\alpha^{2} - 6 \\alpha - 1} & \\frac{- 7 \\alpha^{5} - 16 \\alpha^{4} - 11 \\alpha^{3} - 2 \\alpha^{2}}{5 \\alpha^{6} + 36 \\alpha^{5} + 60 \\alpha^{4} + 28 \\alpha^{3} - 5 \\alpha^{2} - 6 \\alpha - 1} & \\frac{- 6 \\alpha^{5} - 15 \\alpha^{4} - 10 \\alpha^{3} - 2 \\alpha^{2}}{5 \\alpha^{6} + 36 \\alpha^{5} + 60 \\alpha^{4} + 28 \\alpha^{3} - 5 \\alpha^{2} - 6 \\alpha - 1}\\\\\\frac{\\alpha^{5} - 4 \\alpha^{4} - 8 \\alpha^{3} - 5 \\alpha^{2} - \\alpha}{5 \\alpha^{6} + 36 \\alpha^{5} + 60 \\alpha^{4} + 28 \\alpha^{3} - 5 \\alpha^{2} - 6 \\alpha - 1} & \\frac{2 \\alpha^{5} - \\alpha^{4} - 9 \\alpha^{3} - 6 \\alpha^{2} - \\alpha}{5 \\alpha^{6} + 36 \\alpha^{5} + 60 \\alpha^{4} + 28 \\alpha^{3} - 5 \\alpha^{2} - 6 \\alpha - 1} & \\frac{3 \\alpha^{5} + 13 \\alpha^{4} + 10 \\alpha^{3} - 4 \\alpha^{2} - 5 \\alpha - 1}{5 \\alpha^{6} + 36 \\alpha^{5} + 60 \\alpha^{4} + 28 \\alpha^{3} - 5 \\alpha^{2} - 6 \\alpha - 1} & \\frac{- 2 \\alpha^{5} - 8 \\alpha^{4} - 12 \\alpha^{3} - 6 \\alpha^{2} - \\alpha}{5 \\alpha^{6} + 36 \\alpha^{5} + 60 \\alpha^{4} + 28 \\alpha^{3} - 5 \\alpha^{2} - 6 \\alpha - 1} & \\frac{- 3 \\alpha^{5} - 7 \\alpha^{4} - 8 \\alpha^{3} - 5 \\alpha^{2} - \\alpha}{5 \\alpha^{6} + 36 \\alpha^{5} + 60 \\alpha^{4} + 28 \\alpha^{3} - 5 \\alpha^{2} - 6 \\alpha - 1} & \\frac{- 4 \\alpha^{5} - 15 \\alpha^{4} - 13 \\alpha^{3} - 3 \\alpha^{2}}{5 \\alpha^{6} + 36 \\alpha^{5} + 60 \\alpha^{4} + 28 \\alpha^{3} - 5 \\alpha^{2} - 6 \\alpha - 1}\\\\\\frac{- 4 \\alpha^{5} - 15 \\alpha^{4} - 13 \\alpha^{3} - 3 \\alpha^{2}}{5 \\alpha^{6} + 36 \\alpha^{5} + 60 \\alpha^{4} + 28 \\alpha^{3} - 5 \\alpha^{2} - 6 \\alpha - 1} & \\frac{- 3 \\alpha^{5} - 7 \\alpha^{4} - 8 \\alpha^{3} - 5 \\alpha^{2} - \\alpha}{5 \\alpha^{6} + 36 \\alpha^{5} + 60 \\alpha^{4} + 28 \\alpha^{3} - 5 \\alpha^{2} - 6 \\alpha - 1} & \\frac{- 2 \\alpha^{5} - 8 \\alpha^{4} - 12 \\alpha^{3} - 6 \\alpha^{2} - \\alpha}{5 \\alpha^{6} + 36 \\alpha^{5} + 60 \\alpha^{4} + 28 \\alpha^{3} - 5 \\alpha^{2} - 6 \\alpha - 1} & \\frac{3 \\alpha^{5} + 13 \\alpha^{4} + 10 \\alpha^{3} - 4 \\alpha^{2} - 5 \\alpha - 1}{5 \\alpha^{6} + 36 \\alpha^{5} + 60 \\alpha^{4} + 28 \\alpha^{3} - 5 \\alpha^{2} - 6 \\alpha - 1} & \\frac{2 \\alpha^{5} - \\alpha^{4} - 9 \\alpha^{3} - 6 \\alpha^{2} - \\alpha}{5 \\alpha^{6} + 36 \\alpha^{5} + 60 \\alpha^{4} + 28 \\alpha^{3} - 5 \\alpha^{2} - 6 \\alpha - 1} & \\frac{\\alpha^{5} - 4 \\alpha^{4} - 8 \\alpha^{3} - 5 \\alpha^{2} - \\alpha}{5 \\alpha^{6} + 36 \\alpha^{5} + 60 \\alpha^{4} + 28 \\alpha^{3} - 5 \\alpha^{2} - 6 \\alpha - 1}\\\\\\frac{- 6 \\alpha^{5} - 15 \\alpha^{4} - 10 \\alpha^{3} - 2 \\alpha^{2}}{5 \\alpha^{6} + 36 \\alpha^{5} + 60 \\alpha^{4} + 28 \\alpha^{3} - 5 \\alpha^{2} - 6 \\alpha - 1} & \\frac{- 7 \\alpha^{5} - 16 \\alpha^{4} - 11 \\alpha^{3} - 2 \\alpha^{2}}{5 \\alpha^{6} + 36 \\alpha^{5} + 60 \\alpha^{4} + 28 \\alpha^{3} - 5 \\alpha^{2} - 6 \\alpha - 1} & \\frac{- 3 \\alpha^{5} - 7 \\alpha^{4} - 8 \\alpha^{3} - 5 \\alpha^{2} - \\alpha}{5 \\alpha^{6} + 36 \\alpha^{5} + 60 \\alpha^{4} + 28 \\alpha^{3} - 5 \\alpha^{2} - 6 \\alpha - 1} & \\frac{2 \\alpha^{5} - \\alpha^{4} - 9 \\alpha^{3} - 6 \\alpha^{2} - \\alpha}{5 \\alpha^{6} + 36 \\alpha^{5} + 60 \\alpha^{4} + 28 \\alpha^{3} - 5 \\alpha^{2} - 6 \\alpha - 1} & \\frac{8 \\alpha^{5} + 22 \\alpha^{4} + 15 \\alpha^{3} - 3 \\alpha^{2} - 5 \\alpha - 1}{5 \\alpha^{6} + 36 \\alpha^{5} + 60 \\alpha^{4} + 28 \\alpha^{3} - 5 \\alpha^{2} - 6 \\alpha - 1} & \\frac{4 \\alpha^{5} + 2 \\alpha^{4} - 6 \\alpha^{3} - 5 \\alpha^{2} - \\alpha}{5 \\alpha^{6} + 36 \\alpha^{5} + 60 \\alpha^{4} + 28 \\alpha^{3} - 5 \\alpha^{2} - 6 \\alpha - 1}\\\\\\frac{- 3 \\alpha^{5} - 2 \\alpha^{4} - 4 \\alpha^{3} - 4 \\alpha^{2} - \\alpha}{5 \\alpha^{6} + 36 \\alpha^{5} + 60 \\alpha^{4} + 28 \\alpha^{3} - 5 \\alpha^{2} - 6 \\alpha - 1} & \\frac{- 6 \\alpha^{5} - 15 \\alpha^{4} - 10 \\alpha^{3} - 2 \\alpha^{2}}{5 \\alpha^{6} + 36 \\alpha^{5} + 60 \\alpha^{4} + 28 \\alpha^{3} - 5 \\alpha^{2} - 6 \\alpha - 1} & \\frac{- 4 \\alpha^{5} - 15 \\alpha^{4} - 13 \\alpha^{3} - 3 \\alpha^{2}}{5 \\alpha^{6} + 36 \\alpha^{5} + 60 \\alpha^{4} + 28 \\alpha^{3} - 5 \\alpha^{2} - 6 \\alpha - 1} & \\frac{\\alpha^{5} - 4 \\alpha^{4} - 8 \\alpha^{3} - 5 \\alpha^{2} - \\alpha}{5 \\alpha^{6} + 36 \\alpha^{5} + 60 \\alpha^{4} + 28 \\alpha^{3} - 5 \\alpha^{2} - 6 \\alpha - 1} & \\frac{4 \\alpha^{5} + 2 \\alpha^{4} - 6 \\alpha^{3} - 5 \\alpha^{2} - \\alpha}{5 \\alpha^{6} + 36 \\alpha^{5} + 60 \\alpha^{4} + 28 \\alpha^{3} - 5 \\alpha^{2} - 6 \\alpha - 1} & \\frac{7 \\alpha^{5} + 25 \\alpha^{4} + 17 \\alpha^{3} - 3 \\alpha^{2} - 5 \\alpha - 1}{5 \\alpha^{6} + 36 \\alpha^{5} + 60 \\alpha^{4} + 28 \\alpha^{3} - 5 \\alpha^{2} - 6 \\alpha - 1}\\end{matrix}\\right]$"
     },
     "execution_count": 20,
     "metadata": {},
     "output_type": "execute_result"
    }
   ],
   "source": [
    "C_inv"
   ],
   "metadata": {
    "collapsed": false,
    "ExecuteTime": {
     "end_time": "2024-02-23T11:30:11.382835600Z",
     "start_time": "2024-02-23T11:30:11.305365200Z"
    }
   },
   "execution_count": 20
  },
  {
   "cell_type": "code",
   "outputs": [
    {
     "data": {
      "text/plain": "Matrix([\n[(-5*\\alpha - 1)/(-6*\\alpha - 1),         -\\alpha/(-6*\\alpha - 1),         -\\alpha/(-6*\\alpha - 1),                               0,                               0,         -\\alpha/(-6*\\alpha - 1)],\n[        -\\alpha/(-6*\\alpha - 1), (-5*\\alpha - 1)/(-6*\\alpha - 1),         -\\alpha/(-6*\\alpha - 1),         -\\alpha/(-6*\\alpha - 1),                               0,                               0],\n[        -\\alpha/(-6*\\alpha - 1),         -\\alpha/(-6*\\alpha - 1), (-5*\\alpha - 1)/(-6*\\alpha - 1),         -\\alpha/(-6*\\alpha - 1),         -\\alpha/(-6*\\alpha - 1),                               0],\n[                              0,         -\\alpha/(-6*\\alpha - 1),         -\\alpha/(-6*\\alpha - 1), (-5*\\alpha - 1)/(-6*\\alpha - 1),         -\\alpha/(-6*\\alpha - 1),         -\\alpha/(-6*\\alpha - 1)],\n[                              0,                               0,         -\\alpha/(-6*\\alpha - 1),         -\\alpha/(-6*\\alpha - 1), (-5*\\alpha - 1)/(-6*\\alpha - 1),         -\\alpha/(-6*\\alpha - 1)],\n[        -\\alpha/(-6*\\alpha - 1),                               0,                               0,         -\\alpha/(-6*\\alpha - 1),         -\\alpha/(-6*\\alpha - 1), (-5*\\alpha - 1)/(-6*\\alpha - 1)]])",
      "text/latex": "$\\displaystyle \\left[\\begin{matrix}\\frac{- 5 \\alpha - 1}{- 6 \\alpha - 1} & - \\frac{\\alpha}{- 6 \\alpha - 1} & - \\frac{\\alpha}{- 6 \\alpha - 1} & 0 & 0 & - \\frac{\\alpha}{- 6 \\alpha - 1}\\\\- \\frac{\\alpha}{- 6 \\alpha - 1} & \\frac{- 5 \\alpha - 1}{- 6 \\alpha - 1} & - \\frac{\\alpha}{- 6 \\alpha - 1} & - \\frac{\\alpha}{- 6 \\alpha - 1} & 0 & 0\\\\- \\frac{\\alpha}{- 6 \\alpha - 1} & - \\frac{\\alpha}{- 6 \\alpha - 1} & \\frac{- 5 \\alpha - 1}{- 6 \\alpha - 1} & - \\frac{\\alpha}{- 6 \\alpha - 1} & - \\frac{\\alpha}{- 6 \\alpha - 1} & 0\\\\0 & - \\frac{\\alpha}{- 6 \\alpha - 1} & - \\frac{\\alpha}{- 6 \\alpha - 1} & \\frac{- 5 \\alpha - 1}{- 6 \\alpha - 1} & - \\frac{\\alpha}{- 6 \\alpha - 1} & - \\frac{\\alpha}{- 6 \\alpha - 1}\\\\0 & 0 & - \\frac{\\alpha}{- 6 \\alpha - 1} & - \\frac{\\alpha}{- 6 \\alpha - 1} & \\frac{- 5 \\alpha - 1}{- 6 \\alpha - 1} & - \\frac{\\alpha}{- 6 \\alpha - 1}\\\\- \\frac{\\alpha}{- 6 \\alpha - 1} & 0 & 0 & - \\frac{\\alpha}{- 6 \\alpha - 1} & - \\frac{\\alpha}{- 6 \\alpha - 1} & \\frac{- 5 \\alpha - 1}{- 6 \\alpha - 1}\\end{matrix}\\right]$"
     },
     "execution_count": 21,
     "metadata": {},
     "output_type": "execute_result"
    }
   ],
   "source": [
    "neglect_terms_in_matrix(C_inv,2)"
   ],
   "metadata": {
    "collapsed": false,
    "ExecuteTime": {
     "end_time": "2024-02-23T11:30:15.680423500Z",
     "start_time": "2024-02-23T11:30:15.664269100Z"
    }
   },
   "execution_count": 21
  },
  {
   "cell_type": "code",
   "outputs": [],
   "source": [
    "U_0   = sym.polys.orthopolys.chebyshevu_poly(0,   x=(alpha+1)/(2*alpha)).simplify()\n",
    "U_N   = sym.polys.orthopolys.chebyshevu_poly(N,   x=(alpha+1)/(2*alpha)).simplify()\n",
    "U_Np1 = sym.polys.orthopolys.chebyshevu_poly(N+1, x=(alpha+1)/(2*alpha)).simplify()\n",
    "U_Np2 = sym.polys.orthopolys.chebyshevu_poly(N+2, x=(alpha+1)/(2*alpha)).simplify()"
   ],
   "metadata": {
    "collapsed": false,
    "ExecuteTime": {
     "end_time": "2024-02-23T10:37:20.954326500Z",
     "start_time": "2024-02-23T10:37:20.452080400Z"
    }
   },
   "execution_count": 9
  },
  {
   "cell_type": "code",
   "outputs": [
    {
     "data": {
      "text/plain": "(-2*\\alpha**4 + \\alpha**3 + 7*\\alpha**2 + 5*\\alpha + 1)/(\\alpha**6 - 2*\\alpha**5 - 9*\\alpha**4 + 10*\\alpha**2 + 6*\\alpha + 1)",
      "text/latex": "$\\displaystyle \\frac{- 2 \\alpha^{4} + \\alpha^{3} + 7 \\alpha^{2} + 5 \\alpha + 1}{\\alpha^{6} - 2 \\alpha^{5} - 9 \\alpha^{4} + 10 \\alpha^{2} + 6 \\alpha + 1}$"
     },
     "execution_count": 17,
     "metadata": {},
     "output_type": "execute_result"
    }
   ],
   "source": [
    "C_inv[0,0]"
   ],
   "metadata": {
    "collapsed": false,
    "ExecuteTime": {
     "end_time": "2024-02-23T10:38:28.768743300Z",
     "start_time": "2024-02-23T10:38:28.755861400Z"
    }
   },
   "execution_count": 17
  },
  {
   "cell_type": "code",
   "outputs": [
    {
     "data": {
      "text/plain": "(\\alpha**7 + 3*\\alpha**6 - 9*\\alpha**5 - 15*\\alpha**4 + 5*\\alpha**3 + 15*\\alpha**2 + 7*\\alpha + 1)/(6*\\alpha**7 + 3*\\alpha**6 - 24*\\alpha**5 - 20*\\alpha**4 + 14*\\alpha**3 + 21*\\alpha**2 + 8*\\alpha + 1)",
      "text/latex": "$\\displaystyle \\frac{\\alpha^{7} + 3 \\alpha^{6} - 9 \\alpha^{5} - 15 \\alpha^{4} + 5 \\alpha^{3} + 15 \\alpha^{2} + 7 \\alpha + 1}{6 \\alpha^{7} + 3 \\alpha^{6} - 24 \\alpha^{5} - 20 \\alpha^{4} + 14 \\alpha^{3} + 21 \\alpha^{2} + 8 \\alpha + 1}$"
     },
     "execution_count": 10,
     "metadata": {},
     "output_type": "execute_result"
    }
   ],
   "source": [
    "C_inv_diag = U_Np2**-1 * alpha ** -1 * U_0 * U_Np1\n",
    "C_inv_diag.expand().simplify()"
   ],
   "metadata": {
    "collapsed": false,
    "ExecuteTime": {
     "end_time": "2024-02-23T10:37:21.108898500Z",
     "start_time": "2024-02-23T10:37:20.956326800Z"
    }
   },
   "execution_count": 10
  },
  {
   "cell_type": "code",
   "outputs": [
    {
     "data": {
      "text/plain": "\\alpha*(\\alpha**6 - 2*\\alpha**5 - 9*\\alpha**4 + 10*\\alpha**2 + 6*\\alpha + 1)/(6*\\alpha**7 + 3*\\alpha**6 - 24*\\alpha**5 - 20*\\alpha**4 + 14*\\alpha**3 + 21*\\alpha**2 + 8*\\alpha + 1)",
      "text/latex": "$\\displaystyle \\frac{\\alpha \\left(\\alpha^{6} - 2 \\alpha^{5} - 9 \\alpha^{4} + 10 \\alpha^{2} + 6 \\alpha + 1\\right)}{6 \\alpha^{7} + 3 \\alpha^{6} - 24 \\alpha^{5} - 20 \\alpha^{4} + 14 \\alpha^{3} + 21 \\alpha^{2} + 8 \\alpha + 1}$"
     },
     "execution_count": 11,
     "metadata": {},
     "output_type": "execute_result"
    }
   ],
   "source": [
    "C_inv_sub_diag = U_Np2**-1 * alpha ** -1 * U_0 * U_N\n",
    "C_inv_sub_diag.expand().simplify()"
   ],
   "metadata": {
    "collapsed": false,
    "ExecuteTime": {
     "end_time": "2024-02-23T10:37:27.876040700Z",
     "start_time": "2024-02-23T10:37:27.828783700Z"
    }
   },
   "execution_count": 11
  },
  {
   "cell_type": "code",
   "outputs": [
    {
     "data": {
      "text/plain": "Matrix([\n[C_C/2 + C_R,           0,      -C_C/2,           0],\n[          0, C_C/2 + C_F,           0,       C_C/2],\n[     -C_C/2,           0, C_C/2 + C_R,           0],\n[          0,       C_C/2,           0, C_C/2 + C_F]])",
      "text/latex": "$\\displaystyle \\left[\\begin{matrix}\\frac{C_{C}}{2} + C_{R} & 0 & - \\frac{C_{C}}{2} & 0\\\\0 & \\frac{C_{C}}{2} + C_{F} & 0 & \\frac{C_{C}}{2}\\\\- \\frac{C_{C}}{2} & 0 & \\frac{C_{C}}{2} + C_{R} & 0\\\\0 & \\frac{C_{C}}{2} & 0 & \\frac{C_{C}}{2} + C_{F}\\end{matrix}\\right]$"
     },
     "execution_count": 6,
     "metadata": {},
     "output_type": "execute_result"
    }
   ],
   "source": [
    "# Define the symbols\n",
    "C_R, C_F, C_C = sym.symbols('C_R, C_F, C_C', real=True, positive=True, nonzero=True)\n",
    "\n",
    "# Create a 6x6 matrix based on the given pattern\n",
    "C_mat = sym.Matrix(4,4, lambda i, j: C_R+C_C/2 if (i == j and np.mod(i,2)==0) else C_F+C_C/2 if (i == j and np.mod(i,2)!=0)  else -C_C/2 if abs(i-j) == 2 else 0)\n",
    "C_mat[1,-1] *=-1\n",
    "C_mat[-1,1] *=-1\n",
    "C_mat"
   ],
   "metadata": {
    "collapsed": false,
    "ExecuteTime": {
     "end_time": "2024-04-23T12:57:06.575483Z",
     "start_time": "2024-04-23T12:57:06.505420Z"
    }
   },
   "execution_count": 6
  },
  {
   "cell_type": "code",
   "outputs": [],
   "source": [
    "C_inv = C_mat **-1"
   ],
   "metadata": {
    "collapsed": false,
    "ExecuteTime": {
     "end_time": "2024-04-23T12:57:07.261331Z",
     "start_time": "2024-04-23T12:57:07.222453Z"
    }
   },
   "execution_count": 7
  },
  {
   "cell_type": "code",
   "outputs": [
    {
     "data": {
      "text/plain": "Matrix([\n[(C_C/2 + C_R)/(C_R*(C_C + C_R)),                               0,         C_C/(2*C_R*(C_C + C_R)),                               0],\n[                              0, (C_C/2 + C_F)/(C_F*(C_C + C_F)),                               0,        -C_C/(2*C_F*(C_C + C_F))],\n[        C_C/(2*C_R*(C_C + C_R)),                               0, (C_C/2 + C_R)/(C_R*(C_C + C_R)),                               0],\n[                              0,        -C_C/(2*C_F*(C_C + C_F)),                               0, (C_C/2 + C_F)/(C_F*(C_C + C_F))]])",
      "text/latex": "$\\displaystyle \\left[\\begin{matrix}\\frac{\\frac{C_{C}}{2} + C_{R}}{C_{R} \\left(C_{C} + C_{R}\\right)} & 0 & \\frac{C_{C}}{2 C_{R} \\left(C_{C} + C_{R}\\right)} & 0\\\\0 & \\frac{\\frac{C_{C}}{2} + C_{F}}{C_{F} \\left(C_{C} + C_{F}\\right)} & 0 & - \\frac{C_{C}}{2 C_{F} \\left(C_{C} + C_{F}\\right)}\\\\\\frac{C_{C}}{2 C_{R} \\left(C_{C} + C_{R}\\right)} & 0 & \\frac{\\frac{C_{C}}{2} + C_{R}}{C_{R} \\left(C_{C} + C_{R}\\right)} & 0\\\\0 & - \\frac{C_{C}}{2 C_{F} \\left(C_{C} + C_{F}\\right)} & 0 & \\frac{\\frac{C_{C}}{2} + C_{F}}{C_{F} \\left(C_{C} + C_{F}\\right)}\\end{matrix}\\right]$"
     },
     "execution_count": 8,
     "metadata": {},
     "output_type": "execute_result"
    }
   ],
   "source": [
    "sym.simplify(C_inv)"
   ],
   "metadata": {
    "collapsed": false,
    "ExecuteTime": {
     "end_time": "2024-04-23T12:57:16.758045Z",
     "start_time": "2024-04-23T12:57:16.704067Z"
    }
   },
   "execution_count": 8
  },
  {
   "cell_type": "code",
   "outputs": [
    {
     "name": "stdout",
     "output_type": "stream",
     "text": [
      "\\left[\\begin{matrix}\\frac{\\frac{C_{C}}{2} + C_{R}}{C_{R} \\left(C_{C} + C_{R}\\right)} & 0 & \\frac{C_{C}}{2 C_{R} \\left(C_{C} + C_{R}\\right)} & 0\\\\0 & \\frac{\\frac{C_{C}}{2} + C_{F}}{C_{F} \\left(C_{C} + C_{F}\\right)} & 0 & \\frac{C_{C}}{2 C_{F} \\left(C_{C} + C_{F}\\right)}\\\\\\frac{C_{C}}{2 C_{R} \\left(C_{C} + C_{R}\\right)} & 0 & \\frac{\\frac{C_{C}}{2} + C_{R}}{C_{R} \\left(C_{C} + C_{R}\\right)} & 0\\\\0 & \\frac{C_{C}}{2 C_{F} \\left(C_{C} + C_{F}\\right)} & 0 & \\frac{\\frac{C_{C}}{2} + C_{F}}{C_{F} \\left(C_{C} + C_{F}\\right)}\\end{matrix}\\right]\n"
     ]
    }
   ],
   "source": [
    "sym.print_latex(sym.simplify(C_inv))"
   ],
   "metadata": {
    "collapsed": false
   },
   "execution_count": 30
  },
  {
   "cell_type": "code",
   "outputs": [],
   "source": [],
   "metadata": {
    "collapsed": false
   }
  },
  {
   "cell_type": "code",
   "outputs": [
    {
     "data": {
      "text/plain": "Matrix([\n[C_C/2 + C_R,           0,      -C_C/2,           0,           0,           0,           0,           0,           0,           0],\n[          0, C_C/2 + C_F,           0,      -C_C/2,           0,           0,           0,           0,           0,           0],\n[     -C_C/2,           0, C_C/2 + C_R,           0,      -C_C/2,           0,           0,           0,           0,           0],\n[          0,      -C_C/2,           0, C_C/2 + C_F,           0,      -C_C/2,           0,           0,           0,           0],\n[          0,           0,      -C_C/2,           0, C_C/2 + C_R,           0,      -C_C/2,           0,           0,           0],\n[          0,           0,           0,      -C_C/2,           0, C_C/2 + C_F,           0,      -C_C/2,           0,           0],\n[          0,           0,           0,           0,      -C_C/2,           0, C_C/2 + C_R,           0,      -C_C/2,           0],\n[          0,           0,           0,           0,           0,      -C_C/2,           0, C_C/2 + C_F,           0,      -C_C/2],\n[          0,           0,           0,           0,           0,           0,      -C_C/2,           0, C_C/2 + C_R,           0],\n[          0,           0,           0,           0,           0,           0,           0,      -C_C/2,           0, C_C/2 + C_F]])",
      "text/latex": "$\\displaystyle \\left[\\begin{matrix}\\frac{C_{C}}{2} + C_{R} & 0 & - \\frac{C_{C}}{2} & 0 & 0 & 0 & 0 & 0 & 0 & 0\\\\0 & \\frac{C_{C}}{2} + C_{F} & 0 & - \\frac{C_{C}}{2} & 0 & 0 & 0 & 0 & 0 & 0\\\\- \\frac{C_{C}}{2} & 0 & \\frac{C_{C}}{2} + C_{R} & 0 & - \\frac{C_{C}}{2} & 0 & 0 & 0 & 0 & 0\\\\0 & - \\frac{C_{C}}{2} & 0 & \\frac{C_{C}}{2} + C_{F} & 0 & - \\frac{C_{C}}{2} & 0 & 0 & 0 & 0\\\\0 & 0 & - \\frac{C_{C}}{2} & 0 & \\frac{C_{C}}{2} + C_{R} & 0 & - \\frac{C_{C}}{2} & 0 & 0 & 0\\\\0 & 0 & 0 & - \\frac{C_{C}}{2} & 0 & \\frac{C_{C}}{2} + C_{F} & 0 & - \\frac{C_{C}}{2} & 0 & 0\\\\0 & 0 & 0 & 0 & - \\frac{C_{C}}{2} & 0 & \\frac{C_{C}}{2} + C_{R} & 0 & - \\frac{C_{C}}{2} & 0\\\\0 & 0 & 0 & 0 & 0 & - \\frac{C_{C}}{2} & 0 & \\frac{C_{C}}{2} + C_{F} & 0 & - \\frac{C_{C}}{2}\\\\0 & 0 & 0 & 0 & 0 & 0 & - \\frac{C_{C}}{2} & 0 & \\frac{C_{C}}{2} + C_{R} & 0\\\\0 & 0 & 0 & 0 & 0 & 0 & 0 & - \\frac{C_{C}}{2} & 0 & \\frac{C_{C}}{2} + C_{F}\\end{matrix}\\right]$"
     },
     "execution_count": 18,
     "metadata": {},
     "output_type": "execute_result"
    }
   ],
   "source": [
    "# Define the symbols\n",
    "C_R, C_F, C_C = sym.symbols('C_R, C_F, C_C', real=True, positive=True, nonzero=True)\n",
    "\n",
    "# Create a 6x6 matrix based on the given pattern\n",
    "C_mat = sym.Matrix(10,10, lambda i, j: C_R+C_C/2 if (i == j and np.mod(i,2)==0) else C_F+C_C/2 if (i == j and np.mod(i,2)!=0)  else -C_C/2 if abs(i-j) == 2 else 0)\n",
    "\n",
    "C_mat"
   ],
   "metadata": {
    "collapsed": false,
    "ExecuteTime": {
     "end_time": "2024-02-20T09:57:33.918184185Z",
     "start_time": "2024-02-20T09:57:33.875248039Z"
    }
   },
   "execution_count": 18
  },
  {
   "cell_type": "code",
   "outputs": [],
   "source": [
    "C_inv = C_mat **-1"
   ],
   "metadata": {
    "collapsed": false,
    "ExecuteTime": {
     "end_time": "2024-02-20T09:57:36.068163841Z",
     "start_time": "2024-02-20T09:57:35.319145880Z"
    }
   },
   "execution_count": 19
  },
  {
   "cell_type": "code",
   "outputs": [
    {
     "data": {
      "text/plain": "Matrix([\n[(-C_C**4/4 - C_C**3*C_R + 3*C_C**2*C_R**2 + 8*C_C*C_R**3 + 4*C_R**4)/(C_R*(-C_C**4 - C_C**3*C_R + 6*C_C**2*C_R**2 + 10*C_C*C_R**3 + 4*C_R**4)),                                                                                                                                              0,                C_C*(-C_C**2 + 4*C_C*C_R + 4*C_R**2)/(4*C_R*(-C_C**3 + C_C**2*C_R + 4*C_C*C_R**2 + 2*C_R**3)),                                                                                                            0,            C_C**2/(-C_C**3 + 6*C_C*C_R**2 + 4*C_R**3),                                                     0,                                              C_C**3/(4*C_R*(-C_C**3 + C_C**2*C_R + 4*C_C*C_R**2 + 2*C_R**3)),                                                                                                            0,                                                             C_C**4/(4*C_R*(-C_C**4 - C_C**3*C_R + 6*C_C**2*C_R**2 + 10*C_C*C_R**3 + 4*C_R**4)),                                                                                                                                              0],\n[                                                                                                                                             0, (-C_C**4/4 - C_C**3*C_F + 3*C_C**2*C_F**2 + 8*C_C*C_F**3 + 4*C_F**4)/(C_F*(-C_C**4 - C_C**3*C_F + 6*C_C**2*C_F**2 + 10*C_C*C_F**3 + 4*C_F**4)),                                                                                                            0,                C_C*(-C_C**2 + 4*C_C*C_F + 4*C_F**2)/(4*C_F*(-C_C**3 + C_C**2*C_F + 4*C_C*C_F**2 + 2*C_F**3)),                                                     0,            C_C**2/(-C_C**3 + 6*C_C*C_F**2 + 4*C_F**3),                                                                                                            0,                                              C_C**3/(4*C_F*(-C_C**3 + C_C**2*C_F + 4*C_C*C_F**2 + 2*C_F**3)),                                                                                                                                              0,                                                             C_C**4/(4*C_F*(-C_C**4 - C_C**3*C_F + 6*C_C**2*C_F**2 + 10*C_C*C_F**3 + 4*C_F**4))],\n[                                                 C_C*(-C_C**2 + 4*C_C*C_R + 4*C_R**2)/(4*C_R*(-C_C**3 + C_C**2*C_R + 4*C_C*C_R**2 + 2*C_R**3)),                                                                                                                                              0, (-C_C**3 + 2*C_C**2*C_R + 12*C_C*C_R**2 + 8*C_R**3)/(4*C_R*(-C_C**3 + C_C**2*C_R + 4*C_C*C_R**2 + 2*C_R**3)),                                                                                                            0,                  C_C/(-C_C**2 + 2*C_C*C_R + 2*C_R**2),                                                     0,                                C_C**2*(C_C + 2*C_R)/(4*C_R*(-C_C**3 + C_C**2*C_R + 4*C_C*C_R**2 + 2*C_R**3)),                                                                                                            0,                                                                                C_C**3/(4*C_R*(-C_C**3 + C_C**2*C_R + 4*C_C*C_R**2 + 2*C_R**3)),                                                                                                                                              0],\n[                                                                                                                                             0,                                                  C_C*(-C_C**2 + 4*C_C*C_F + 4*C_F**2)/(4*C_F*(-C_C**3 + C_C**2*C_F + 4*C_C*C_F**2 + 2*C_F**3)),                                                                                                            0, (-C_C**3 + 2*C_C**2*C_F + 12*C_C*C_F**2 + 8*C_F**3)/(4*C_F*(-C_C**3 + C_C**2*C_F + 4*C_C*C_F**2 + 2*C_F**3)),                                                     0,                  C_C/(-C_C**2 + 2*C_C*C_F + 2*C_F**2),                                                                                                            0,                                C_C**2*(C_C + 2*C_F)/(4*C_F*(-C_C**3 + C_C**2*C_F + 4*C_C*C_F**2 + 2*C_F**3)),                                                                                                                                              0,                                                                                C_C**3/(4*C_F*(-C_C**3 + C_C**2*C_F + 4*C_C*C_F**2 + 2*C_F**3))],\n[                                                                                                    C_C**2/(-C_C**3 + 6*C_C*C_R**2 + 4*C_R**3),                                                                                                                                              0,                                                                         C_C/(-C_C**2 + 2*C_C*C_R + 2*C_R**2),                                                                                                            0, 4*C_R*(C_C + C_R)/(-C_C**3 + 6*C_C*C_R**2 + 4*C_R**3),                                                     0,                                                                         C_C/(-C_C**2 + 2*C_C*C_R + 2*C_R**2),                                                                                                            0,                                                                                                     C_C**2/(-C_C**3 + 6*C_C*C_R**2 + 4*C_R**3),                                                                                                                                              0],\n[                                                                                                                                             0,                                                                                                     C_C**2/(-C_C**3 + 6*C_C*C_F**2 + 4*C_F**3),                                                                                                            0,                                                                         C_C/(-C_C**2 + 2*C_C*C_F + 2*C_F**2),                                                     0, 4*C_F*(C_C + C_F)/(-C_C**3 + 6*C_C*C_F**2 + 4*C_F**3),                                                                                                            0,                                                                         C_C/(-C_C**2 + 2*C_C*C_F + 2*C_F**2),                                                                                                                                              0,                                                                                                     C_C**2/(-C_C**3 + 6*C_C*C_F**2 + 4*C_F**3)],\n[                                                                               C_C**3/(4*C_R*(-C_C**3 + C_C**2*C_R + 4*C_C*C_R**2 + 2*C_R**3)),                                                                                                                                              0,                                C_C**2*(C_C + 2*C_R)/(4*C_R*(-C_C**3 + C_C**2*C_R + 4*C_C*C_R**2 + 2*C_R**3)),                                                                                                            0,                  C_C/(-C_C**2 + 2*C_C*C_R + 2*C_R**2),                                                     0, (-C_C**3 + 2*C_C**2*C_R + 12*C_C*C_R**2 + 8*C_R**3)/(4*C_R*(-C_C**3 + C_C**2*C_R + 4*C_C*C_R**2 + 2*C_R**3)),                                                                                                            0,                                                  C_C*(-C_C**2 + 4*C_C*C_R + 4*C_R**2)/(4*C_R*(-C_C**3 + C_C**2*C_R + 4*C_C*C_R**2 + 2*C_R**3)),                                                                                                                                              0],\n[                                                                                                                                             0,                                                                                C_C**3/(4*C_F*(-C_C**3 + C_C**2*C_F + 4*C_C*C_F**2 + 2*C_F**3)),                                                                                                            0,                                C_C**2*(C_C + 2*C_F)/(4*C_F*(-C_C**3 + C_C**2*C_F + 4*C_C*C_F**2 + 2*C_F**3)),                                                     0,                  C_C/(-C_C**2 + 2*C_C*C_F + 2*C_F**2),                                                                                                            0, (-C_C**3 + 2*C_C**2*C_F + 12*C_C*C_F**2 + 8*C_F**3)/(4*C_F*(-C_C**3 + C_C**2*C_F + 4*C_C*C_F**2 + 2*C_F**3)),                                                                                                                                              0,                                                  C_C*(-C_C**2 + 4*C_C*C_F + 4*C_F**2)/(4*C_F*(-C_C**3 + C_C**2*C_F + 4*C_C*C_F**2 + 2*C_F**3))],\n[                                                            C_C**4/(4*C_R*(-C_C**4 - C_C**3*C_R + 6*C_C**2*C_R**2 + 10*C_C*C_R**3 + 4*C_R**4)),                                                                                                                                              0,                                              C_C**3/(4*C_R*(-C_C**3 + C_C**2*C_R + 4*C_C*C_R**2 + 2*C_R**3)),                                                                                                            0,            C_C**2/(-C_C**3 + 6*C_C*C_R**2 + 4*C_R**3),                                                     0,                C_C*(-C_C**2 + 4*C_C*C_R + 4*C_R**2)/(4*C_R*(-C_C**3 + C_C**2*C_R + 4*C_C*C_R**2 + 2*C_R**3)),                                                                                                            0, (-C_C**4/4 - C_C**3*C_R + 3*C_C**2*C_R**2 + 8*C_C*C_R**3 + 4*C_R**4)/(C_R*(-C_C**4 - C_C**3*C_R + 6*C_C**2*C_R**2 + 10*C_C*C_R**3 + 4*C_R**4)),                                                                                                                                              0],\n[                                                                                                                                             0,                                                             C_C**4/(4*C_F*(-C_C**4 - C_C**3*C_F + 6*C_C**2*C_F**2 + 10*C_C*C_F**3 + 4*C_F**4)),                                                                                                            0,                                              C_C**3/(4*C_F*(-C_C**3 + C_C**2*C_F + 4*C_C*C_F**2 + 2*C_F**3)),                                                     0,            C_C**2/(-C_C**3 + 6*C_C*C_F**2 + 4*C_F**3),                                                                                                            0,                C_C*(-C_C**2 + 4*C_C*C_F + 4*C_F**2)/(4*C_F*(-C_C**3 + C_C**2*C_F + 4*C_C*C_F**2 + 2*C_F**3)),                                                                                                                                              0, (-C_C**4/4 - C_C**3*C_F + 3*C_C**2*C_F**2 + 8*C_C*C_F**3 + 4*C_F**4)/(C_F*(-C_C**4 - C_C**3*C_F + 6*C_C**2*C_F**2 + 10*C_C*C_F**3 + 4*C_F**4))]])",
      "text/latex": "$\\displaystyle \\left[\\begin{matrix}\\frac{- \\frac{C_{C}^{4}}{4} - C_{C}^{3} C_{R} + 3 C_{C}^{2} C_{R}^{2} + 8 C_{C} C_{R}^{3} + 4 C_{R}^{4}}{C_{R} \\left(- C_{C}^{4} - C_{C}^{3} C_{R} + 6 C_{C}^{2} C_{R}^{2} + 10 C_{C} C_{R}^{3} + 4 C_{R}^{4}\\right)} & 0 & \\frac{C_{C} \\left(- C_{C}^{2} + 4 C_{C} C_{R} + 4 C_{R}^{2}\\right)}{4 C_{R} \\left(- C_{C}^{3} + C_{C}^{2} C_{R} + 4 C_{C} C_{R}^{2} + 2 C_{R}^{3}\\right)} & 0 & \\frac{C_{C}^{2}}{- C_{C}^{3} + 6 C_{C} C_{R}^{2} + 4 C_{R}^{3}} & 0 & \\frac{C_{C}^{3}}{4 C_{R} \\left(- C_{C}^{3} + C_{C}^{2} C_{R} + 4 C_{C} C_{R}^{2} + 2 C_{R}^{3}\\right)} & 0 & \\frac{C_{C}^{4}}{4 C_{R} \\left(- C_{C}^{4} - C_{C}^{3} C_{R} + 6 C_{C}^{2} C_{R}^{2} + 10 C_{C} C_{R}^{3} + 4 C_{R}^{4}\\right)} & 0\\\\0 & \\frac{- \\frac{C_{C}^{4}}{4} - C_{C}^{3} C_{F} + 3 C_{C}^{2} C_{F}^{2} + 8 C_{C} C_{F}^{3} + 4 C_{F}^{4}}{C_{F} \\left(- C_{C}^{4} - C_{C}^{3} C_{F} + 6 C_{C}^{2} C_{F}^{2} + 10 C_{C} C_{F}^{3} + 4 C_{F}^{4}\\right)} & 0 & \\frac{C_{C} \\left(- C_{C}^{2} + 4 C_{C} C_{F} + 4 C_{F}^{2}\\right)}{4 C_{F} \\left(- C_{C}^{3} + C_{C}^{2} C_{F} + 4 C_{C} C_{F}^{2} + 2 C_{F}^{3}\\right)} & 0 & \\frac{C_{C}^{2}}{- C_{C}^{3} + 6 C_{C} C_{F}^{2} + 4 C_{F}^{3}} & 0 & \\frac{C_{C}^{3}}{4 C_{F} \\left(- C_{C}^{3} + C_{C}^{2} C_{F} + 4 C_{C} C_{F}^{2} + 2 C_{F}^{3}\\right)} & 0 & \\frac{C_{C}^{4}}{4 C_{F} \\left(- C_{C}^{4} - C_{C}^{3} C_{F} + 6 C_{C}^{2} C_{F}^{2} + 10 C_{C} C_{F}^{3} + 4 C_{F}^{4}\\right)}\\\\\\frac{C_{C} \\left(- C_{C}^{2} + 4 C_{C} C_{R} + 4 C_{R}^{2}\\right)}{4 C_{R} \\left(- C_{C}^{3} + C_{C}^{2} C_{R} + 4 C_{C} C_{R}^{2} + 2 C_{R}^{3}\\right)} & 0 & \\frac{- C_{C}^{3} + 2 C_{C}^{2} C_{R} + 12 C_{C} C_{R}^{2} + 8 C_{R}^{3}}{4 C_{R} \\left(- C_{C}^{3} + C_{C}^{2} C_{R} + 4 C_{C} C_{R}^{2} + 2 C_{R}^{3}\\right)} & 0 & \\frac{C_{C}}{- C_{C}^{2} + 2 C_{C} C_{R} + 2 C_{R}^{2}} & 0 & \\frac{C_{C}^{2} \\left(C_{C} + 2 C_{R}\\right)}{4 C_{R} \\left(- C_{C}^{3} + C_{C}^{2} C_{R} + 4 C_{C} C_{R}^{2} + 2 C_{R}^{3}\\right)} & 0 & \\frac{C_{C}^{3}}{4 C_{R} \\left(- C_{C}^{3} + C_{C}^{2} C_{R} + 4 C_{C} C_{R}^{2} + 2 C_{R}^{3}\\right)} & 0\\\\0 & \\frac{C_{C} \\left(- C_{C}^{2} + 4 C_{C} C_{F} + 4 C_{F}^{2}\\right)}{4 C_{F} \\left(- C_{C}^{3} + C_{C}^{2} C_{F} + 4 C_{C} C_{F}^{2} + 2 C_{F}^{3}\\right)} & 0 & \\frac{- C_{C}^{3} + 2 C_{C}^{2} C_{F} + 12 C_{C} C_{F}^{2} + 8 C_{F}^{3}}{4 C_{F} \\left(- C_{C}^{3} + C_{C}^{2} C_{F} + 4 C_{C} C_{F}^{2} + 2 C_{F}^{3}\\right)} & 0 & \\frac{C_{C}}{- C_{C}^{2} + 2 C_{C} C_{F} + 2 C_{F}^{2}} & 0 & \\frac{C_{C}^{2} \\left(C_{C} + 2 C_{F}\\right)}{4 C_{F} \\left(- C_{C}^{3} + C_{C}^{2} C_{F} + 4 C_{C} C_{F}^{2} + 2 C_{F}^{3}\\right)} & 0 & \\frac{C_{C}^{3}}{4 C_{F} \\left(- C_{C}^{3} + C_{C}^{2} C_{F} + 4 C_{C} C_{F}^{2} + 2 C_{F}^{3}\\right)}\\\\\\frac{C_{C}^{2}}{- C_{C}^{3} + 6 C_{C} C_{R}^{2} + 4 C_{R}^{3}} & 0 & \\frac{C_{C}}{- C_{C}^{2} + 2 C_{C} C_{R} + 2 C_{R}^{2}} & 0 & \\frac{4 C_{R} \\left(C_{C} + C_{R}\\right)}{- C_{C}^{3} + 6 C_{C} C_{R}^{2} + 4 C_{R}^{3}} & 0 & \\frac{C_{C}}{- C_{C}^{2} + 2 C_{C} C_{R} + 2 C_{R}^{2}} & 0 & \\frac{C_{C}^{2}}{- C_{C}^{3} + 6 C_{C} C_{R}^{2} + 4 C_{R}^{3}} & 0\\\\0 & \\frac{C_{C}^{2}}{- C_{C}^{3} + 6 C_{C} C_{F}^{2} + 4 C_{F}^{3}} & 0 & \\frac{C_{C}}{- C_{C}^{2} + 2 C_{C} C_{F} + 2 C_{F}^{2}} & 0 & \\frac{4 C_{F} \\left(C_{C} + C_{F}\\right)}{- C_{C}^{3} + 6 C_{C} C_{F}^{2} + 4 C_{F}^{3}} & 0 & \\frac{C_{C}}{- C_{C}^{2} + 2 C_{C} C_{F} + 2 C_{F}^{2}} & 0 & \\frac{C_{C}^{2}}{- C_{C}^{3} + 6 C_{C} C_{F}^{2} + 4 C_{F}^{3}}\\\\\\frac{C_{C}^{3}}{4 C_{R} \\left(- C_{C}^{3} + C_{C}^{2} C_{R} + 4 C_{C} C_{R}^{2} + 2 C_{R}^{3}\\right)} & 0 & \\frac{C_{C}^{2} \\left(C_{C} + 2 C_{R}\\right)}{4 C_{R} \\left(- C_{C}^{3} + C_{C}^{2} C_{R} + 4 C_{C} C_{R}^{2} + 2 C_{R}^{3}\\right)} & 0 & \\frac{C_{C}}{- C_{C}^{2} + 2 C_{C} C_{R} + 2 C_{R}^{2}} & 0 & \\frac{- C_{C}^{3} + 2 C_{C}^{2} C_{R} + 12 C_{C} C_{R}^{2} + 8 C_{R}^{3}}{4 C_{R} \\left(- C_{C}^{3} + C_{C}^{2} C_{R} + 4 C_{C} C_{R}^{2} + 2 C_{R}^{3}\\right)} & 0 & \\frac{C_{C} \\left(- C_{C}^{2} + 4 C_{C} C_{R} + 4 C_{R}^{2}\\right)}{4 C_{R} \\left(- C_{C}^{3} + C_{C}^{2} C_{R} + 4 C_{C} C_{R}^{2} + 2 C_{R}^{3}\\right)} & 0\\\\0 & \\frac{C_{C}^{3}}{4 C_{F} \\left(- C_{C}^{3} + C_{C}^{2} C_{F} + 4 C_{C} C_{F}^{2} + 2 C_{F}^{3}\\right)} & 0 & \\frac{C_{C}^{2} \\left(C_{C} + 2 C_{F}\\right)}{4 C_{F} \\left(- C_{C}^{3} + C_{C}^{2} C_{F} + 4 C_{C} C_{F}^{2} + 2 C_{F}^{3}\\right)} & 0 & \\frac{C_{C}}{- C_{C}^{2} + 2 C_{C} C_{F} + 2 C_{F}^{2}} & 0 & \\frac{- C_{C}^{3} + 2 C_{C}^{2} C_{F} + 12 C_{C} C_{F}^{2} + 8 C_{F}^{3}}{4 C_{F} \\left(- C_{C}^{3} + C_{C}^{2} C_{F} + 4 C_{C} C_{F}^{2} + 2 C_{F}^{3}\\right)} & 0 & \\frac{C_{C} \\left(- C_{C}^{2} + 4 C_{C} C_{F} + 4 C_{F}^{2}\\right)}{4 C_{F} \\left(- C_{C}^{3} + C_{C}^{2} C_{F} + 4 C_{C} C_{F}^{2} + 2 C_{F}^{3}\\right)}\\\\\\frac{C_{C}^{4}}{4 C_{R} \\left(- C_{C}^{4} - C_{C}^{3} C_{R} + 6 C_{C}^{2} C_{R}^{2} + 10 C_{C} C_{R}^{3} + 4 C_{R}^{4}\\right)} & 0 & \\frac{C_{C}^{3}}{4 C_{R} \\left(- C_{C}^{3} + C_{C}^{2} C_{R} + 4 C_{C} C_{R}^{2} + 2 C_{R}^{3}\\right)} & 0 & \\frac{C_{C}^{2}}{- C_{C}^{3} + 6 C_{C} C_{R}^{2} + 4 C_{R}^{3}} & 0 & \\frac{C_{C} \\left(- C_{C}^{2} + 4 C_{C} C_{R} + 4 C_{R}^{2}\\right)}{4 C_{R} \\left(- C_{C}^{3} + C_{C}^{2} C_{R} + 4 C_{C} C_{R}^{2} + 2 C_{R}^{3}\\right)} & 0 & \\frac{- \\frac{C_{C}^{4}}{4} - C_{C}^{3} C_{R} + 3 C_{C}^{2} C_{R}^{2} + 8 C_{C} C_{R}^{3} + 4 C_{R}^{4}}{C_{R} \\left(- C_{C}^{4} - C_{C}^{3} C_{R} + 6 C_{C}^{2} C_{R}^{2} + 10 C_{C} C_{R}^{3} + 4 C_{R}^{4}\\right)} & 0\\\\0 & \\frac{C_{C}^{4}}{4 C_{F} \\left(- C_{C}^{4} - C_{C}^{3} C_{F} + 6 C_{C}^{2} C_{F}^{2} + 10 C_{C} C_{F}^{3} + 4 C_{F}^{4}\\right)} & 0 & \\frac{C_{C}^{3}}{4 C_{F} \\left(- C_{C}^{3} + C_{C}^{2} C_{F} + 4 C_{C} C_{F}^{2} + 2 C_{F}^{3}\\right)} & 0 & \\frac{C_{C}^{2}}{- C_{C}^{3} + 6 C_{C} C_{F}^{2} + 4 C_{F}^{3}} & 0 & \\frac{C_{C} \\left(- C_{C}^{2} + 4 C_{C} C_{F} + 4 C_{F}^{2}\\right)}{4 C_{F} \\left(- C_{C}^{3} + C_{C}^{2} C_{F} + 4 C_{C} C_{F}^{2} + 2 C_{F}^{3}\\right)} & 0 & \\frac{- \\frac{C_{C}^{4}}{4} - C_{C}^{3} C_{F} + 3 C_{C}^{2} C_{F}^{2} + 8 C_{C} C_{F}^{3} + 4 C_{F}^{4}}{C_{F} \\left(- C_{C}^{4} - C_{C}^{3} C_{F} + 6 C_{C}^{2} C_{F}^{2} + 10 C_{C} C_{F}^{3} + 4 C_{F}^{4}\\right)}\\end{matrix}\\right]$"
     },
     "execution_count": 20,
     "metadata": {},
     "output_type": "execute_result"
    }
   ],
   "source": [
    "sym.simplify(C_inv)"
   ],
   "metadata": {
    "collapsed": false,
    "ExecuteTime": {
     "end_time": "2024-02-20T09:57:37.758804875Z",
     "start_time": "2024-02-20T09:57:37.057541966Z"
    }
   },
   "execution_count": 20
  },
  {
   "cell_type": "code",
   "outputs": [],
   "source": [],
   "metadata": {
    "collapsed": false
   }
  }
 ],
 "metadata": {
  "kernelspec": {
   "display_name": "Python 3",
   "language": "python",
   "name": "python3"
  },
  "language_info": {
   "codemirror_mode": {
    "name": "ipython",
    "version": 2
   },
   "file_extension": ".py",
   "mimetype": "text/x-python",
   "name": "python",
   "nbconvert_exporter": "python",
   "pygments_lexer": "ipython2",
   "version": "2.7.6"
  }
 },
 "nbformat": 4,
 "nbformat_minor": 0
}
