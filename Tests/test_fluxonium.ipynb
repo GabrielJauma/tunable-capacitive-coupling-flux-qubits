{
 "cells": [
  {
   "cell_type": "code",
   "execution_count": 1,
   "id": "8030cb2d5f9dc59",
   "metadata": {
    "collapsed": false,
    "ExecuteTime": {
     "end_time": "2025-01-21T13:56:49.408517Z",
     "start_time": "2025-01-21T13:56:48.584562Z"
    }
   },
   "outputs": [
    {
     "data": {
      "text/plain": "<module 'Modules.SQcircuit_extensions' from 'C:\\\\Users\\\\gabri\\\\PycharmProjects\\\\tunable-capacitive-coupling-flux-qubits\\\\Modules\\\\SQcircuit_extensions.py'>"
     },
     "execution_count": 1,
     "metadata": {},
     "output_type": "execute_result"
    },
    {
     "data": {
      "text/plain": "<Figure size 640x480 with 0 Axes>"
     },
     "metadata": {},
     "output_type": "display_data"
    }
   ],
   "source": [
    "import Modules.SQcircuit_extensions as sq_ext\n",
    "import numpy as np\n",
    "from importlib import reload\n",
    "reload(sq_ext)\n"
   ]
  },
  {
   "cell_type": "code",
   "outputs": [],
   "source": [
    "nH = 1e-9\n",
    "fF = 1e-15\n",
    "GHz = 1e9\n",
    "h = 6.626e-34\n",
    "e0 = 1.602e-19\n",
    "Φ_0 = h / (2 * e0)"
   ],
   "metadata": {
    "collapsed": false,
    "ExecuteTime": {
     "end_time": "2025-01-21T13:56:49.424278Z",
     "start_time": "2025-01-21T13:56:49.409794Z"
    }
   },
   "id": "d7856ba13a7c4f89",
   "execution_count": 2
  },
  {
   "cell_type": "code",
   "outputs": [],
   "source": [
    "CR, CF, LF, LR, EJ, Δ, ω_r = sq_ext.get_experimental_parameters('qubit_1', return_effective=True)\n",
    "φ_ext =0.5"
   ],
   "metadata": {
    "collapsed": false,
    "ExecuteTime": {
     "end_time": "2025-01-21T13:56:52.682111Z",
     "start_time": "2025-01-21T13:56:52.677807Z"
    }
   },
   "id": "3ec471c2368d6d66",
   "execution_count": 7
  },
  {
   "cell_type": "code",
   "outputs": [],
   "source": [
    "fluxonium_res = sq_ext.sq_fluxonium(C_F_eff=CF, L_F_eff=LF, EJ=0)\n",
    "fluxonium = sq_ext.sq_fluxonium(C_F_eff=CF, L_F_eff=LF, EJ=EJ, φ_ext=φ_ext)\n",
    "\n",
    "fluxonium.hamiltonian()\n",
    "\n",
    "Φ_res = fluxonium.flux_op(0)\n",
    "Q_res = fluxonium.charge_op(0)\n",
    "cos   = fluxonium.cos_op(0)\n",
    "sin   = fluxonium.sin_op(0)\n",
    "\n",
    "CF_su = CF * fF\n",
    "LF_su = LF * nH\n",
    "EJ_su = EJ * GHz \n",
    "\n",
    "H_fluxonium_res = Q_res ** 2 / CF_su / 2 + Φ_res ** 2 / LF_su / 2\n",
    "H_fluxonium     = H_fluxonium_res - EJ_su * 2 * np.pi  * (cos * np.cos(2 * np.pi * φ_ext) + sin * np.sin(2 * np.pi * φ_ext) )"
   ],
   "metadata": {
    "collapsed": true,
    "ExecuteTime": {
     "end_time": "2025-01-21T13:56:52.830747Z",
     "start_time": "2025-01-21T13:56:52.812315Z"
    }
   },
   "id": "initial_id",
   "execution_count": 8
  },
  {
   "cell_type": "code",
   "outputs": [
    {
     "data": {
      "text/plain": "(array([ 0.       ,  5.9762243, 11.9524486, 17.9286729]),\n array([ 0.       ,  5.9762243, 11.9524486, 17.9286729]))"
     },
     "execution_count": 9,
     "metadata": {},
     "output_type": "execute_result"
    }
   ],
   "source": [
    "sq_ext.diag(H_fluxonium_res, 4, remove_ground=True)[0], sq_ext.diag(fluxonium_res.hamiltonian(), 4, remove_ground=True)[0]"
   ],
   "metadata": {
    "collapsed": false,
    "ExecuteTime": {
     "end_time": "2025-01-21T13:56:52.950557Z",
     "start_time": "2025-01-21T13:56:52.937533Z"
    }
   },
   "id": "6b0f17e50f869015",
   "execution_count": 9
  },
  {
   "cell_type": "code",
   "outputs": [
    {
     "data": {
      "text/plain": "(array([ 3.68869788,  8.09475116, 12.92585805]),\n array([ 3.68869788,  8.09475116, 12.92585805]))"
     },
     "execution_count": 10,
     "metadata": {},
     "output_type": "execute_result"
    }
   ],
   "source": [
    "sq_ext.diag(H_fluxonium, 4, remove_ground=True)[0][1:],  sq_ext.diag(fluxonium.hamiltonian(), 4, remove_ground=True)[0][1:]"
   ],
   "metadata": {
    "collapsed": false,
    "ExecuteTime": {
     "end_time": "2025-01-21T13:56:53.128730Z",
     "start_time": "2025-01-21T13:56:53.105202Z"
    }
   },
   "id": "4b9e29ee5dd39780",
   "execution_count": 10
  },
  {
   "cell_type": "code",
   "outputs": [],
   "source": [],
   "metadata": {
    "collapsed": false
   },
   "id": "37b67f959f82cec9"
  }
 ],
 "metadata": {
  "kernelspec": {
   "display_name": "Python 3",
   "language": "python",
   "name": "python3"
  },
  "language_info": {
   "codemirror_mode": {
    "name": "ipython",
    "version": 2
   },
   "file_extension": ".py",
   "mimetype": "text/x-python",
   "name": "python",
   "nbconvert_exporter": "python",
   "pygments_lexer": "ipython2",
   "version": "2.7.6"
  }
 },
 "nbformat": 4,
 "nbformat_minor": 5
}
