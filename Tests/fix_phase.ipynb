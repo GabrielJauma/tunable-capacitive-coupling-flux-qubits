{
 "cells": [
  {
   "cell_type": "code",
   "execution_count": 153,
   "id": "initial_id",
   "metadata": {
    "collapsed": true,
    "ExecuteTime": {
     "end_time": "2024-03-08T12:04:12.128669500Z",
     "start_time": "2024-03-08T12:04:12.103723300Z"
    }
   },
   "outputs": [],
   "source": [
    "import Modules.SQcircuit_extensions as sq_ext\n",
    "import Modules.figures as figs\n",
    "import SQcircuit as sq\n",
    "import numpy as np\n",
    "import matplotlib.pyplot as plt\n",
    "import importlib\n",
    "import qutip as qt\n",
    "import scipy as sp\n",
    "from itertools import product\n",
    "import sympy as sym\n",
    "\n",
    "%matplotlib ipympl\n",
    "plt.rcParams['text.usetex'] = False\n",
    "importlib.reload(sq_ext)\n",
    "importlib.reload(sq)\n",
    "importlib.reload(figs)\n",
    "np.set_printoptions(linewidth=300, formatter={'float': '{:.4f}'.format})\n",
    "GHz = 1e9"
   ]
  },
  {
   "cell_type": "code",
   "outputs": [],
   "source": [
    "fluxonium = sq_ext.sq_fluxonium()\n",
    "H_0_f = fluxonium.hamiltonian() \n",
    "H_0 = qt.tensor( H_0_f, qt.qeye(H_0_f.shape[0]) ) + qt.tensor(qt.qeye(H_0_f.shape[0]), H_0_f ) #+ 0.00001*qt.tensor(fluxonium.flux_op(0), fluxonium.flux_op(0))\n",
    "H = qt.tensor( H_0_f, qt.qeye(H_0_f.shape[0]) ) + qt.tensor(qt.qeye(H_0_f.shape[0]), H_0_f  )+ 1e5*qt.tensor(fluxonium.flux_op(0), fluxonium.flux_op(0))"
   ],
   "metadata": {
    "collapsed": false,
    "ExecuteTime": {
     "end_time": "2024-03-08T09:52:18.369694100Z",
     "start_time": "2024-03-08T09:52:18.339350800Z"
    }
   },
   "id": "149f8014237706c3",
   "execution_count": 12
  },
  {
   "cell_type": "code",
   "outputs": [],
   "source": [
    "E, ψ_0_f = np.linalg.eigh(H_0_f.__array__() )\n",
    "ψ_0 = np.array([np.kron(ψ_0_f[:,0],ψ_0_f[:,0]), np.kron(ψ_0_f[:,1],ψ_0_f[:,0]), np.kron(ψ_0_f[:,0],ψ_0_f[:,1]), np.kron(ψ_0_f[:,1],ψ_0_f[:,1]) ]).T"
   ],
   "metadata": {
    "collapsed": false,
    "ExecuteTime": {
     "end_time": "2024-03-08T09:52:18.667282200Z",
     "start_time": "2024-03-08T09:52:18.647959300Z"
    }
   },
   "id": "a924933e477b97f1",
   "execution_count": 13
  },
  {
   "cell_type": "code",
   "outputs": [
    {
     "name": "stdout",
     "output_type": "stream",
     "text": [
      " (15.3596+0j)\t*\t I ⨂I \n",
      " (-0.9727+0j)\t*\t I ⨂σz \n",
      " (0.0235+0j)\t*\t σx ⨂σx \n",
      " (-0.9727+0j)\t*\t σz ⨂I \n"
     ]
    }
   ],
   "source": [
    "H_eff = ψ_0.T.conj() @ H.__array__() @ ψ_0 / 2 / np.pi / GHz\n",
    "sq_ext.decomposition_in_pauli_4x4(H_eff, 4);"
   ],
   "metadata": {
    "collapsed": false,
    "ExecuteTime": {
     "end_time": "2024-03-08T09:52:18.937866900Z",
     "start_time": "2024-03-08T09:52:18.906959900Z"
    }
   },
   "id": "546023bd870ea28c",
   "execution_count": 14
  },
  {
   "cell_type": "code",
   "outputs": [],
   "source": [
    "H, ψ_0 = sq_ext.hamiltonian_qubit_C_qubit(nmax_r=5, nmax_f=15, Cc=1, return_Ψ_nonint=True)"
   ],
   "metadata": {
    "collapsed": false,
    "ExecuteTime": {
     "end_time": "2024-03-08T10:56:39.929227400Z",
     "start_time": "2024-03-08T10:56:39.899220900Z"
    }
   },
   "id": "65de67a3a33249eb",
   "execution_count": 128
  },
  {
   "cell_type": "code",
   "outputs": [
    {
     "name": "stdout",
     "output_type": "stream",
     "text": [
      " (15.35777+0j)\t*\t I ⨂I \n",
      " (-0.95454+0j)\t*\t I ⨂σz \n",
      " (0.01687+0j)\t*\t σy ⨂σy \n",
      " (-0.95454+0j)\t*\t σz ⨂I \n"
     ]
    }
   ],
   "source": [
    "H_eff = sq_ext.H_eff_p1(ψ_0, H, 4, out='GHz', real=False, remove_ground = False)\n",
    "sq_ext.decomposition_in_pauli_4x4(H_eff, 5); "
   ],
   "metadata": {
    "collapsed": false,
    "ExecuteTime": {
     "end_time": "2024-03-08T10:56:40.256803200Z",
     "start_time": "2024-03-08T10:56:40.237343500Z"
    }
   },
   "id": "30f1b35045a7038a",
   "execution_count": 129
  },
  {
   "cell_type": "code",
   "outputs": [],
   "source": [
    "qubit_C_qubit = sq_ext.sq_qubit_C_qubit(Cc=1, nmax_r=5, nmax_f=15 )\n",
    "H = qubit_C_qubit.hamiltonian()"
   ],
   "metadata": {
    "collapsed": false,
    "ExecuteTime": {
     "end_time": "2024-03-08T10:56:52.416939600Z",
     "start_time": "2024-03-08T10:56:45.029704400Z"
    }
   },
   "id": "6ba71f75865e6943",
   "execution_count": 130
  },
  {
   "cell_type": "code",
   "outputs": [
    {
     "name": "stdout",
     "output_type": "stream",
     "text": [
      " (16.83293+0j)\t*\t I ⨂I \n",
      " (-1.65871+0j)\t*\t I ⨂σz \n",
      " (-1.63884+0j)\t*\t σz ⨂I \n",
      " (0.36026+0j)\t*\t σz ⨂σz \n"
     ]
    }
   ],
   "source": [
    "H_eff = sq_ext.H_eff_p1(ψ_0, H.permute([2,0,3,1]), 4, out='GHz', real=False, remove_ground = False)\n",
    "sq_ext.decomposition_in_pauli_4x4(H_eff, 5); "
   ],
   "metadata": {
    "collapsed": false,
    "ExecuteTime": {
     "end_time": "2024-03-08T10:56:53.602471100Z",
     "start_time": "2024-03-08T10:56:52.835875600Z"
    }
   },
   "id": "69fc0326122df84d",
   "execution_count": 131
  },
  {
   "cell_type": "code",
   "outputs": [],
   "source": [
    "H, ψ_0 = sq_ext.hamiltonian_qubit_C_qubit_C_qubit(nmax_r=5, nmax_f=5, Cc=0, return_Ψ_nonint=True, n_eig_Ψ_nonint=8, periodic=False)"
   ],
   "metadata": {
    "collapsed": false,
    "ExecuteTime": {
     "end_time": "2024-03-08T12:05:54.734752300Z",
     "start_time": "2024-03-08T12:05:54.699893100Z"
    }
   },
   "id": "a1d90b3373351185",
   "execution_count": 165
  },
  {
   "cell_type": "code",
   "outputs": [
    {
     "data": {
      "text/plain": "array([0.0000, 2.8437, 2.8437, 2.8437, 5.6874, 5.6874, 5.6874, 7.2085])"
     },
     "execution_count": 149,
     "metadata": {},
     "output_type": "execute_result"
    }
   ],
   "source": [
    "sq_ext.diag(H,8, remove_ground = True)[0]"
   ],
   "metadata": {
    "collapsed": false,
    "ExecuteTime": {
     "end_time": "2024-03-08T12:03:54.579290Z",
     "start_time": "2024-03-08T12:03:54.520392100Z"
    }
   },
   "id": "379b9eb70546a16b",
   "execution_count": 149
  },
  {
   "cell_type": "code",
   "outputs": [],
   "source": [
    "n_eig_Ψ_nonint = 8\n",
    "H_qubit, Ψ_q_0, E_q_0 = sq_ext.hamiltonian_qubit( return_Ψ_nonint=True, n_eig_Ψ_nonint=n_eig_Ψ_nonint)\n",
    "E_q_C_q_C_q, Nq_Nq_Nq = sq_ext.generate_and_prioritize_energies([E_q_0, E_q_0, E_q_0], n_eig=n_eig_Ψ_nonint)\n",
    "Ψ_0 = [qt.tensor([Ψ_q_0[Nq_Nq_Nq_i[0]], Ψ_q_0[Nq_Nq_Nq_i[1]],Ψ_q_0[Nq_Nq_Nq_i[2]]  ]) for Nq_Nq_Nq_i in Nq_Nq_Nq]"
   ],
   "metadata": {
    "collapsed": false,
    "ExecuteTime": {
     "end_time": "2024-03-08T12:05:57.344865600Z",
     "start_time": "2024-03-08T12:05:55.963404Z"
    }
   },
   "id": "2c98059479fd52ca",
   "execution_count": 166
  },
  {
   "cell_type": "code",
   "outputs": [
    {
     "name": "stdout",
     "output_type": "stream",
     "text": [
      " (2.82893+0j)\t*\t I ⨂ I ⨂ I \n",
      " (-0.47149+0j)\t*\t I ⨂ I ⨂ σz \n",
      " (-0.47149+0j)\t*\t I ⨂ σz ⨂ I \n",
      " (-1.41446+0j)\t*\t σz ⨂ I ⨂ I \n",
      " (-0.47149+0j)\t*\t σz ⨂ σz ⨂ σz \n"
     ]
    }
   ],
   "source": [
    "H_eff = sq_ext.H_eff_p1(ψ_0, H, 8, out='GHz', real=False, remove_ground = True)\n",
    "sq_ext.decomposition_in_pauli_8x8(H_eff, 5);"
   ],
   "metadata": {
    "collapsed": false,
    "ExecuteTime": {
     "end_time": "2024-03-08T12:57:53.947809900Z",
     "start_time": "2024-03-08T12:57:53.928895400Z"
    }
   },
   "id": "c7e0d4a55e636fee",
   "execution_count": 169
  },
  {
   "cell_type": "code",
   "outputs": [
    {
     "name": "stdout",
     "output_type": "stream",
     "text": [
      " (2.82874+0j)\t*\t I ⨂ I ⨂ I \n",
      " (-0.47146+0j)\t*\t I ⨂ I ⨂ σz \n",
      " (-0.47146+0j)\t*\t I ⨂ σz ⨂ I \n",
      " (-1.41437+0j)\t*\t σz ⨂ I ⨂ I \n",
      " (-0.47146+0j)\t*\t σz ⨂ σz ⨂ σz \n"
     ]
    }
   ],
   "source": [
    "H_eff = sq_ext.H_eff_p1(ψ_0, H, 8, out='GHz', real=False, remove_ground = True, H_0 = H)\n",
    "sq_ext.decomposition_in_pauli_8x8(H_eff, 5);"
   ],
   "metadata": {
    "collapsed": false
   },
   "id": "607bcae227651801",
   "execution_count": 168
  },
  {
   "cell_type": "code",
   "outputs": [
    {
     "data": {
      "text/plain": "array([[0.0000, 0.0000, 0.0000, 0.0000, -0.0200, -0.0200, -0.0200, 0.0000],\n       [0.0000, 1.9100, 0.0200, 0.0200, 0.0000, 0.0000, 0.0000, -0.0200],\n       [0.0000, 0.0200, 1.9100, 0.0200, 0.0000, 0.0000, 0.0000, -0.0200],\n       [0.0000, 0.0200, 0.0200, 1.9100, 0.0000, 0.0000, 0.0000, -0.0200],\n       [-0.0200, 0.0000, 0.0000, 0.0000, 3.8200, 0.0200, 0.0200, 0.0000],\n       [-0.0200, 0.0000, 0.0000, 0.0000, 0.0200, 3.8200, 0.0200, 0.0000],\n       [-0.0200, 0.0000, 0.0000, 0.0000, 0.0200, 0.0200, 3.8200, 0.0000],\n       [0.0000, -0.0200, -0.0200, -0.0200, 0.0000, 0.0000, 0.0000, 5.7300]])"
     },
     "execution_count": 188,
     "metadata": {},
     "output_type": "execute_result"
    }
   ],
   "source": [
    "np.round(np.real(H_eff),2)"
   ],
   "metadata": {
    "collapsed": false,
    "ExecuteTime": {
     "end_time": "2024-03-07T13:36:53.003416300Z",
     "start_time": "2024-03-07T13:36:52.982888200Z"
    }
   },
   "id": "817bbf045b600328",
   "execution_count": 188
  },
  {
   "cell_type": "code",
   "outputs": [],
   "source": [],
   "metadata": {
    "collapsed": false
   },
   "id": "a8148b87f417f475"
  }
 ],
 "metadata": {
  "kernelspec": {
   "display_name": "Python 3",
   "language": "python",
   "name": "python3"
  },
  "language_info": {
   "codemirror_mode": {
    "name": "ipython",
    "version": 2
   },
   "file_extension": ".py",
   "mimetype": "text/x-python",
   "name": "python",
   "nbconvert_exporter": "python",
   "pygments_lexer": "ipython2",
   "version": "2.7.6"
  }
 },
 "nbformat": 4,
 "nbformat_minor": 5
}
