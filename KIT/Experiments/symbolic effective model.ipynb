{
 "cells": [
  {
   "cell_type": "code",
   "source": [
    "from sympy import *\n",
    "import Modules.SQcircuit_extensions as sq_ext\n",
    "import numpy as np\n",
    "import matplotlib.pyplot as plt"
   ],
   "metadata": {
    "collapsed": false,
    "ExecuteTime": {
     "end_time": "2024-09-27T07:46:46.954013Z",
     "start_time": "2024-09-27T07:46:46.471786Z"
    }
   },
   "id": "cc0ee0362e9f01fd",
   "outputs": [
    {
     "data": {
      "text/plain": [
       "<Figure size 640x480 with 0 Axes>"
      ]
     },
     "metadata": {},
     "output_type": "display_data"
    }
   ],
   "execution_count": 1
  },
  {
   "cell_type": "code",
   "source": "Δ, Δ3, Jx, Jy, Jz = symbols('Delta, Delta_3, J_x, J_y, J_z', real=True, positive=True, nonzero=True)",
   "metadata": {
    "collapsed": false,
    "ExecuteTime": {
     "end_time": "2024-09-27T08:57:16.955374Z",
     "start_time": "2024-09-27T08:57:16.952838Z"
    }
   },
   "id": "c5497d79407fba16",
   "outputs": [],
   "execution_count": 6
  },
  {
   "cell_type": "code",
   "source": [
    "σx, σy, σz = sq_ext.pauli_matrices()\n",
    "I = np.eye(2)\n",
    "a_dag = sq_ext.create(2)\n",
    "a     = sq_ext.annihilate(2)"
   ],
   "metadata": {
    "collapsed": false,
    "ExecuteTime": {
     "end_time": "2024-09-27T07:46:47.635111Z",
     "start_time": "2024-09-27T07:46:47.632848Z"
    }
   },
   "id": "fc64f1074d87dee1",
   "outputs": [],
   "execution_count": 3
  },
  {
   "cell_type": "code",
   "source": [
    "for M in [I,σx, σy, σz, a_dag,a]:\n",
    "    M = Matrix(M) "
   ],
   "metadata": {
    "collapsed": false,
    "ExecuteTime": {
     "end_time": "2024-09-27T07:46:50.895473Z",
     "start_time": "2024-09-27T07:46:50.873544Z"
    }
   },
   "id": "3a2fc8c5ea3bcc1f",
   "outputs": [],
   "execution_count": 4
  },
  {
   "cell_type": "code",
   "outputs": [
    {
     "data": {
      "text/plain": "Matrix([\n[2.0*Delta,         0,         0, 0],\n[        0, 1.0*Delta,         0, 0],\n[        0,         0, 1.0*Delta, 0],\n[        0,         0,         0, 0]])",
      "text/latex": "$\\displaystyle \\left[\\begin{matrix}2.0 \\Delta & 0 & 0 & 0\\\\0 & 1.0 \\Delta & 0 & 0\\\\0 & 0 & 1.0 \\Delta & 0\\\\0 & 0 & 0 & 0\\end{matrix}\\right]$"
     },
     "execution_count": 45,
     "metadata": {},
     "output_type": "execute_result"
    }
   ],
   "source": [
    "H = Matrix( Δ /2 * (np.kron(σz, I) + np.kron(I, σz) ) + Δ * np.kron(I, I))\n",
    "H"
   ],
   "metadata": {
    "collapsed": false,
    "ExecuteTime": {
     "end_time": "2024-09-19T11:24:46.790761200Z",
     "start_time": "2024-09-19T11:24:46.756674Z"
    }
   },
   "id": "b20192c5fa000d63",
   "execution_count": 45
  },
  {
   "cell_type": "code",
   "source": [
    "H = Matrix( Jz * np.kron(σz, σz) + Δ3 * np.kron(I,σz) )\n",
    "H"
   ],
   "metadata": {
    "collapsed": false,
    "ExecuteTime": {
     "end_time": "2024-09-27T08:58:36.773597Z",
     "start_time": "2024-09-27T08:58:36.700109Z"
    }
   },
   "id": "281abe33a3a920a7",
   "outputs": [
    {
     "data": {
      "text/plain": [
       "Matrix([\n",
       "[1.0*Delta_3 + J_z,                  0,                 0,                  0],\n",
       "[                0, -1.0*Delta_3 - J_z,                 0,                  0],\n",
       "[                0,                  0, 1.0*Delta_3 - J_z,                  0],\n",
       "[                0,                  0,                 0, -1.0*Delta_3 + J_z]])"
      ],
      "text/latex": "$\\displaystyle \\left[\\begin{matrix}1.0 \\Delta_{3} + J_{z} & 0 & 0 & 0\\\\0 & - 1.0 \\Delta_{3} - J_{z} & 0 & 0\\\\0 & 0 & 1.0 \\Delta_{3} - J_{z} & 0\\\\0 & 0 & 0 & - 1.0 \\Delta_{3} + J_{z}\\end{matrix}\\right]$"
     },
     "execution_count": 10,
     "metadata": {},
     "output_type": "execute_result"
    }
   ],
   "execution_count": 10
  },
  {
   "metadata": {
    "collapsed": false,
    "ExecuteTime": {
     "end_time": "2024-09-19T11:24:47.212143600Z",
     "start_time": "2024-09-19T11:24:47.178470500Z"
    }
   },
   "cell_type": "code",
   "outputs": [
    {
     "data": {
      "text/plain": "Matrix([\n[2.0*Delta,                   0,                   0, 0],\n[        0, 1.0*Delta - 2.0*J_z,                   0, 0],\n[        0,                   0, 1.0*Delta - 2.0*J_z, 0],\n[        0,                   0,                   0, 0]])",
      "text/latex": "$\\displaystyle \\left[\\begin{matrix}2.0 \\Delta & 0 & 0 & 0\\\\0 & 1.0 \\Delta - 2.0 J_{z} & 0 & 0\\\\0 & 0 & 1.0 \\Delta - 2.0 J_{z} & 0\\\\0 & 0 & 0 & 0\\end{matrix}\\right]$"
     },
     "execution_count": 46,
     "metadata": {},
     "output_type": "execute_result"
    }
   ],
   "execution_count": 46,
   "source": [
    "H += Jz * np.kron(σz, σz) - Jz * np.kron(I,I)\n",
    "H"
   ],
   "id": "e58c7ab714b2fcf5"
  },
  {
   "cell_type": "code",
   "outputs": [
    {
     "data": {
      "text/plain": "Matrix([\n[2.0*Delta,                   0,                   0, J_x],\n[        0, 1.0*Delta - 2.0*J_z,                 J_x,   0],\n[        0,                 J_x, 1.0*Delta - 2.0*J_z,   0],\n[      J_x,                   0,                   0,   0]])",
      "text/latex": "$\\displaystyle \\left[\\begin{matrix}2.0 \\Delta & 0 & 0 & J_{x}\\\\0 & 1.0 \\Delta - 2.0 J_{z} & J_{x} & 0\\\\0 & J_{x} & 1.0 \\Delta - 2.0 J_{z} & 0\\\\J_{x} & 0 & 0 & 0\\end{matrix}\\right]$"
     },
     "execution_count": 47,
     "metadata": {},
     "output_type": "execute_result"
    }
   ],
   "source": [
    "H += Jx * np.kron(σx, σx)\n",
    "H"
   ],
   "metadata": {
    "collapsed": false,
    "ExecuteTime": {
     "end_time": "2024-09-19T11:25:23.604545800Z",
     "start_time": "2024-09-19T11:25:23.573204200Z"
    }
   },
   "id": "43dc34fef022b9ff",
   "execution_count": 47
  },
  {
   "cell_type": "code",
   "outputs": [
    {
     "data": {
      "text/plain": "Matrix([\n[    2.0*Delta,                   0,                   0, J_x - 1.0*J_y],\n[            0, 1.0*Delta - 2.0*J_z,       J_x + 1.0*J_y,             0],\n[            0,       J_x + 1.0*J_y, 1.0*Delta - 2.0*J_z,             0],\n[J_x - 1.0*J_y,                   0,                   0,             0]])",
      "text/latex": "$\\displaystyle \\left[\\begin{matrix}2.0 \\Delta & 0 & 0 & J_{x} - 1.0 J_{y}\\\\0 & 1.0 \\Delta - 2.0 J_{z} & J_{x} + 1.0 J_{y} & 0\\\\0 & J_{x} + 1.0 J_{y} & 1.0 \\Delta - 2.0 J_{z} & 0\\\\J_{x} - 1.0 J_{y} & 0 & 0 & 0\\end{matrix}\\right]$"
     },
     "execution_count": 48,
     "metadata": {},
     "output_type": "execute_result"
    }
   ],
   "source": [
    "H += Jy * np.kron(σy, σy)\n",
    "H"
   ],
   "metadata": {
    "collapsed": false,
    "ExecuteTime": {
     "end_time": "2024-09-19T11:26:10.109089800Z",
     "start_time": "2024-09-19T11:26:10.084767100Z"
    }
   },
   "id": "147423c19796bfe4",
   "execution_count": 48
  },
  {
   "cell_type": "code",
   "outputs": [],
   "source": [],
   "metadata": {
    "collapsed": false
   },
   "id": "1e7ee6257b090c6a",
   "execution_count": null
  }
 ],
 "metadata": {
  "kernelspec": {
   "display_name": "Python 3",
   "language": "python",
   "name": "python3"
  },
  "language_info": {
   "codemirror_mode": {
    "name": "ipython",
    "version": 2
   },
   "file_extension": ".py",
   "mimetype": "text/x-python",
   "name": "python",
   "nbconvert_exporter": "python",
   "pygments_lexer": "ipython2",
   "version": "2.7.6"
  }
 },
 "nbformat": 4,
 "nbformat_minor": 5
}
