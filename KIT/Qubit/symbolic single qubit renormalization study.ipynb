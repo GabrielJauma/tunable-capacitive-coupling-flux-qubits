{
 "cells": [
  {
   "cell_type": "code",
   "execution_count": 36,
   "metadata": {
    "collapsed": true,
    "ExecuteTime": {
     "end_time": "2023-09-27T14:06:59.338587600Z",
     "start_time": "2023-09-27T14:06:59.325546Z"
    }
   },
   "source": [
    "from sympy import *\n",
    "import SQcircuit as sq\n",
    "import Modules.SQcircuit_extensions as sq_ext\n",
    "import Modules.figures as figs\n",
    "import numpy as np\n",
    "import matplotlib.pyplot as plt\n",
    "from matplotlib.colors import TwoSlopeNorm\n",
    "import importlib\n",
    "importlib.reload(figs)\n",
    "\n",
    "%matplotlib ipympl\n",
    "plt.rcParams['text.usetex'] = True\n"
   ],
   "outputs": []
  },
  {
   "cell_type": "markdown",
   "metadata": {},
   "source": [
    "# Circuit's diagram\n",
    "\n",
    "This notebook studies the qubit proposed by KIT. It's lumped element model is:\n",
    "<img src='Other/Single qubit 4 nodes CC coupled to ground - asym coupling.jpg' width='500'>\n"
   ]
  },
  {
   "cell_type": "code",
   "execution_count": 3,
   "metadata": {
    "ExecuteTime": {
     "end_time": "2023-09-27T13:45:35.114667400Z",
     "start_time": "2023-09-27T13:45:35.109669800Z"
    }
   },
   "source": [
    "# Numeric values\n",
    "c_value   = 15\n",
    "cJ_value  = 18\n",
    "Lq_value  = 25\n",
    "Lr_value  = 10\n",
    "Δ_value  = 0.1"
   ],
   "outputs": []
  },
  {
   "cell_type": "code",
   "execution_count": 4,
   "metadata": {
    "ExecuteTime": {
     "end_time": "2023-09-27T13:45:35.894150500Z",
     "start_time": "2023-09-27T13:45:35.554074800Z"
    }
   },
   "source": [
    "# Symbolic variables\n",
    "c, α, cC, cJ, Lq, Lr, Δ = symbols('C, \\\\alpha, C_C, C_J^{\\'}, L_q, L_r, Delta', real=True, positive=True, nonzero=True)\n",
    "Lp = Lq/2 + Δ\n",
    "Lm = Lq/2 - Δ\n",
    "γ = simplify( 1/(Lp*Lm) / (1/Lr + 1/Lp + 1/Lm) )\n",
    "l = 4*Lr/γ"
   ],
   "outputs": []
  },
  {
   "cell_type": "code",
   "execution_count": 5,
   "metadata": {
    "ExecuteTime": {
     "end_time": "2023-09-27T13:45:36.345365700Z",
     "start_time": "2023-09-27T13:45:36.330931700Z"
    }
   },
   "source": [
    "L0 = Matrix([[ 1/Lm,      0,  -1/Lm             ],\n",
    "            [    0,   1/Lp,  -1/Lp             ],\n",
    "            [-1/Lm,  -1/Lp,  1/Lr + 1/Lp + 1/Lm]])\n",
    "\n",
    "P1 = Matrix([[ 1,        0,  0],\n",
    "             [ 0,        1,  0],\n",
    "             [ γ*Lp,  γ*Lm,  0]])\n",
    "\n",
    "C1 = Matrix([[α*cC + c + cJ,   -cJ],\n",
    "            [ -cJ          ,  cC + c + cJ]])"
   ],
   "outputs": []
  },
  {
   "cell_type": "markdown",
   "metadata": {},
   "source": [
    "## First transformation: Remove the third node from variables"
   ]
  },
  {
   "cell_type": "code",
   "execution_count": 6,
   "metadata": {
    "ExecuteTime": {
     "end_time": "2023-09-27T13:45:37.573345700Z",
     "start_time": "2023-09-27T13:45:37.323134600Z"
    }
   },
   "source": [
    "L1 = nsimplify(simplify( P1.T * L0 * P1) )\n",
    "L1 = L1[0:2,0:2]\n",
    "L1"
   ],
   "outputs": []
  },
  {
   "cell_type": "markdown",
   "metadata": {},
   "source": [
    "## Second transformation: Diagonalize C matrix to decompose the hamiltonian in resonator + fluxonium"
   ]
  },
  {
   "cell_type": "code",
   "execution_count": 7,
   "metadata": {
    "ExecuteTime": {
     "end_time": "2023-09-27T13:45:39.036254400Z",
     "start_time": "2023-09-27T13:45:38.926265800Z"
    }
   },
   "source": [
    "P2, _ = C1.diagonalize()\n",
    "P2 = 0.5 * P2"
   ],
   "outputs": []
  },
  {
   "cell_type": "markdown",
   "metadata": {},
   "source": [
    "# Dependance on the resonator and fluxonium hamiltonians with the Cc and α"
   ]
  },
  {
   "cell_type": "code",
   "execution_count": 8,
   "metadata": {
    "ExecuteTime": {
     "end_time": "2023-09-27T13:45:40.168391300Z",
     "start_time": "2023-09-27T13:45:40.149411200Z"
    }
   },
   "source": [
    "# Create linspace arrays for alpha and cC\n",
    "α_values = np.linspace(0, 1, 20)\n",
    "cC_values = np.linspace(0, 100, 20)"
   ],
   "outputs": []
  },
  {
   "cell_type": "code",
   "execution_count": 0,
   "metadata": {},
   "source": [
    "A = 2 * P2[1].subs([(c,c_value), (cJ,cJ_value), (Lq,Lq_value), (Lr,Lr_value), (Δ,Δ_value)])\n",
    "\n",
    "# Evaluate the expression over the 2D grid\n",
    "A_vs_α_Cc = np.empty((len(α_values), len(cC_values)))\n",
    "for i, α_val in enumerate(α_values):\n",
    "    for j, cC_val in enumerate(cC_values):\n",
    "        A_vs_α_Cc[i, j] = A.subs({α: α_val, cC: cC_val})\n"
   ],
   "outputs": []
  },
  {
   "cell_type": "code",
   "execution_count": 78,
   "source": [
    "scale_factor=0.6\n",
    "fig, ax = plt.subplots(figsize=[6*scale_factor,4*scale_factor])\n",
    "# Plot the filled contours\n",
    "contour_plot = ax.contourf(α_values, cC_values, np.abs(A_vs_α_Cc.T), levels=50, cmap='viridis' )#, norm=TwoSlopeNorm(vmin=A_vs_α_Cc.min(), vcenter=-1, vmax=A_vs_α_Cc.max()))\n",
    "fig.colorbar(contour_plot, label=r'$A$', ticks = np.linspace(0,1,11))\n",
    "\n",
    "ax.set_xlabel(r'$\\alpha$')\n",
    "ax.set_ylabel('cC')\n",
    "ax.set_title(r'$\\phi_q = \\phi_2 - A(C_C,\\alpha)\\phi_1$')\n",
    "figs.export('qubit_mode_vs_Cc_alpha.pdf', fig)"
   ],
   "metadata": {
    "collapsed": false,
    "ExecuteTime": {
     "end_time": "2023-09-27T14:32:51.952457100Z",
     "start_time": "2023-09-27T14:32:49.727216500Z"
    }
   },
   "outputs": []
  },
  {
   "cell_type": "code",
   "execution_count": 25,
   "metadata": {
    "ExecuteTime": {
     "end_time": "2023-09-27T13:51:13.536156700Z",
     "start_time": "2023-09-27T13:51:12.053160800Z"
    }
   },
   "source": [
    "C2 = nsimplify(simplify( P2.T * C1 * P2) )\n",
    "L2 = nsimplify(simplify( P2.T * L1 * P2) )"
   ],
   "outputs": []
  },
  {
   "cell_type": "code",
   "execution_count": 26,
   "metadata": {
    "ExecuteTime": {
     "end_time": "2023-09-27T13:51:14.101913700Z",
     "start_time": "2023-09-27T13:51:13.959056700Z"
    }
   },
   "source": [
    "ωr = 1/sqrt(C2[0,0]*L2[0,0]**-1)/2/np.pi*1000\n",
    "ωf = 1/sqrt(C2[1,1]*L2[1,1]**-1)/2/np.pi*1000\n",
    "ωr.subs([(c,c_value), (cJ,cJ_value), (Lq,Lq_value), (Lr,Lr_value), (Δ,Δ_value), (cC,0)]).evalf(), ωf.subs([(c,c_value), (cJ,cJ_value), (Lq,Lq_value), (Lr,Lr_value), (Δ,Δ_value), (cC,0)]).evalf()"
   ],
   "outputs": []
  },
  {
   "cell_type": "code",
   "execution_count": 27,
   "metadata": {
    "scrolled": true,
    "ExecuteTime": {
     "end_time": "2023-09-27T13:51:19.739532800Z",
     "start_time": "2023-09-27T13:51:14.790910600Z"
    }
   },
   "source": [
    "ωr_subs = ωr.subs([(c,c_value), (cJ,cJ_value), (Lq,Lq_value), (Lr,Lr_value), (Δ,Δ_value)])\n",
    "ωf_subs = ωf.subs([(c,c_value), (cJ,cJ_value), (Lq,Lq_value), (Lr,Lr_value), (Δ,Δ_value)])\n",
    "\n",
    "# Evaluate the expression over the 2D grid\n",
    "ω_r_vs_α_Cc = np.empty((len(α_values), len(cC_values)))\n",
    "ωr_by_ωf_vs_α_Cc = np.empty((len(α_values), len(cC_values)))\n",
    "ω_f_vs_α_Cc = np.empty((len(α_values), len(cC_values)))\n",
    "for i, α_val in enumerate(α_values):\n",
    "    for j, cC_val in enumerate(cC_values):\n",
    "        ω_r_vs_α_Cc[i, j] = ωr_subs.subs({α: α_val, cC: cC_val})\n",
    "        ωr_by_ωf_vs_α_Cc[i, j] = (ωr_subs/ωf_subs).subs({α: α_val, cC: cC_val})\n",
    "        ω_f_vs_α_Cc[i, j] = ωf_subs.subs({α: α_val, cC: cC_val})\n"
   ],
   "outputs": []
  },
  {
   "cell_type": "code",
   "execution_count": 75,
   "source": [
    "titles = [r'$\\omega_r $', r'$\\omega_r / \\omega_f$', r'$\\omega_f$']\n",
    "scale_factor=0.6\n",
    "fig, ax = plt.subplots(ncols=3, figsize=[6*2.5*scale_factor,4*scale_factor])\n",
    "for ax_i, Z, title in zip(ax, [ω_r_vs_α_Cc, ωr_by_ωf_vs_α_Cc, ω_f_vs_α_Cc], titles):\n",
    "    if ax_i == ax[1]:\n",
    "        cont = ax_i.contourf(α_values, cC_values, Z.T, levels=50, cmap='RdBu_r', norm=TwoSlopeNorm(vmin=Z.min(), vcenter=1, vmax=Z.max()))\n",
    "        contour_line = ax_i.contour(α_values, cC_values, Z.T, levels=[1], colors='black', linewidths=2)\n",
    "        ax_i.clabel(contour_line, inline=1, fontsize=10, fmt='%1.0f')\n",
    "    else:\n",
    "        cont = ax_i.contourf(α_values, cC_values, Z.T, levels=50, cmap='viridis')\n",
    "\n",
    "    # ax_i.set_box_aspect(1)\n",
    "    fig.colorbar(cont, ax=ax_i, format=\"%.1f\")\n",
    "    ax_i.set_xlabel(r'$\\alpha$')\n",
    "    ax_i.set_title(title)\n",
    "ax[0].set_ylabel('$C_C$')\n",
    "ax[1].set_yticks([])\n",
    "ax[2].set_yticks([])\n",
    "figs.export('natural_freqs_vs_Cc_alpha.pdf', fig)"
   ],
   "metadata": {
    "collapsed": false,
    "ExecuteTime": {
     "end_time": "2023-09-27T14:27:32.449905900Z",
     "start_time": "2023-09-27T14:27:31.660954800Z"
    }
   },
   "outputs": []
  },
  {
   "cell_type": "markdown",
   "metadata": {},
   "source": [
    "# Renormalization of the gap"
   ]
  },
  {
   "cell_type": "code",
   "execution_count": 31,
   "metadata": {
    "ExecuteTime": {
     "end_time": "2023-09-27T13:52:09.048121100Z",
     "start_time": "2023-09-27T13:52:09.028375100Z"
    }
   },
   "source": [
    "# Create linspace arrays for alpha and cC\n",
    "α_values = np.linspace(0, 1, 20)\n",
    "cC_values = np.linspace(0, 100, 20)"
   ],
   "outputs": []
  },
  {
   "cell_type": "code",
   "execution_count": 32,
   "metadata": {
    "ExecuteTime": {
     "end_time": "2023-09-27T13:52:17.675189Z",
     "start_time": "2023-09-27T13:52:11.574862600Z"
    }
   },
   "source": [
    "# Evaluate the expression over the 2D grid\n",
    "Δ01_vs_α_Cc = np.empty((len(α_values), len(cC_values))) \n",
    "anh_vs_α_Cc = np.empty((len(α_values), len(cC_values))) \n",
    "\n",
    "for i, α_val in enumerate(α_values):\n",
    "    for j, cC_val in enumerate(cC_values):\n",
    "        qubit = sq_ext.KITqubit_asym(Cc = cC_val, α = α_val)\n",
    "        qubit.set_trunc_nums([1, 3, 10])\n",
    "        _ = qubit.diag(3)\n",
    "        Δ01_vs_α_Cc[i,j] = qubit.efreqs[1]-qubit.efreqs[0]\n",
    "        Δ21 = qubit.efreqs[2]-qubit.efreqs[1]\n",
    "        anh_vs_α_Cc[i,j] = Δ21 / Δ01_vs_α_Cc[i,j] - 1\n",
    "        "
   ],
   "outputs": []
  },
  {
   "cell_type": "code",
   "execution_count": 74,
   "metadata": {
    "ExecuteTime": {
     "end_time": "2023-09-27T14:27:27.329952200Z",
     "start_time": "2023-09-27T14:27:26.491704Z"
    }
   },
   "source": [
    "titles = [r'$\\Delta_{01}$', r'$\\Delta_{21}/\\Delta_{01}-1$']\n",
    "scale_factor=0.6\n",
    "fig, ax = plt.subplots(ncols=2, figsize=[6*2*scale_factor,4*scale_factor])\n",
    "for ax_i, Z, title in zip(ax, [Δ01_vs_α_Cc, anh_vs_α_Cc], titles):\n",
    "    if ax_i == ax[1]:\n",
    "        cont = ax_i.contourf(α_values, cC_values, Z.T, levels=50, cmap='RdBu_r', norm=TwoSlopeNorm(vmin=Z.min(), vcenter=0, vmax=Z.max()))\n",
    "        contour_line = ax_i.contour(α_values, cC_values, Z.T, levels=[0], colors='black', linewidths=2)\n",
    "        ax_i.clabel(contour_line, inline=0, fontsize=10, fmt='%1.0f')\n",
    "    else:\n",
    "        cont = ax_i.contourf(α_values, cC_values, Z.T, levels=50, cmap='viridis')\n",
    "    fig.colorbar(cont, ax=ax_i)\n",
    "    ax_i.set_xlabel(r'$\\alpha$')\n",
    "    ax_i.set_title(title)\n",
    "ax[0].set_ylabel('$C_C$')\n",
    "ax[1].set_yticks([])\n",
    "figs.export('gap_and_anh_vs_Cc_alpha.pdf', fig)"
   ],
   "outputs": []
  },
  {
   "cell_type": "code",
   "execution_count": null,
   "metadata": {},
   "source": [],
   "outputs": []
  }
 ],
 "metadata": {
  "kernelspec": {
   "display_name": "Python 3 (ipykernel)",
   "language": "python",
   "name": "python3"
  },
  "language_info": {
   "codemirror_mode": {
    "name": "ipython",
    "version": 3
   },
   "file_extension": ".py",
   "mimetype": "text/x-python",
   "name": "python",
   "nbconvert_exporter": "python",
   "pygments_lexer": "ipython3",
   "version": "3.8.18"
  }
 },
 "nbformat": 4,
 "nbformat_minor": 1
}
