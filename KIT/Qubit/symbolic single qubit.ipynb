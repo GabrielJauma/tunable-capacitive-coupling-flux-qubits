{
 "cells": [
  {
   "cell_type": "code",
   "metadata": {
    "collapsed": true,
    "ExecuteTime": {
     "end_time": "2024-05-29T15:03:55.290873Z",
     "start_time": "2024-05-29T15:03:54.992334Z"
    }
   },
   "source": [
    "from sympy import *\n",
    "import numpy as np\n",
    "import matplotlib.pyplot as plt\n",
    "import scipy as sp"
   ],
   "outputs": [],
   "execution_count": 1
  },
  {
   "cell_type": "markdown",
   "source": [
    "# Hamiltonian transformation to fluxonium and resonator modes"
   ],
   "metadata": {
    "collapsed": false
   }
  },
  {
   "cell_type": "code",
   "source": [
    "# Fundamental constants\n",
    "h    = 6.62607015e-34\n",
    "GHz  = 1e9\n",
    "e0   = 1.602176634e-19\n",
    "Φ_0 = h/(2*e0)"
   ],
   "metadata": {
    "collapsed": false,
    "ExecuteTime": {
     "end_time": "2024-05-29T15:03:55.293410Z",
     "start_time": "2024-05-29T15:03:55.291685Z"
    }
   },
   "outputs": [],
   "execution_count": 2
  },
  {
   "cell_type": "code",
   "source": [
    "c, cJ, Lq, Lr, Δ = symbols('C, C_J^{\\'}, L_q, L_r, Delta', real=True, positive=True, nonzero=True)\n",
    "Lp = Lq/2 + Δ\n",
    "Lm = Lq/2 - Δ\n",
    "γ = simplify( 1/(Lp*Lm) / (1/Lr + 1/Lp + 1/Lm) )\n",
    "# print_latex(γ)\n",
    "γ\n"
   ],
   "metadata": {
    "collapsed": false,
    "ExecuteTime": {
     "end_time": "2024-05-29T15:03:55.453514Z",
     "start_time": "2024-05-29T15:03:55.354737Z"
    }
   },
   "outputs": [
    {
     "data": {
      "text/plain": [
       "4*L_r/(-4*Delta**2 + L_q**2 + 4*L_q*L_r)"
      ],
      "text/latex": "$\\displaystyle \\frac{4 L_{r}}{- 4 \\Delta^{2} + L_{q}^{2} + 4 L_{q} L_{r}}$"
     },
     "execution_count": 3,
     "metadata": {},
     "output_type": "execute_result"
    }
   ],
   "execution_count": 3
  },
  {
   "cell_type": "code",
   "source": [
    "\n",
    "l = 4*Lr/γ\n",
    "l"
   ],
   "metadata": {
    "collapsed": false,
    "ExecuteTime": {
     "end_time": "2024-05-29T15:03:55.631626Z",
     "start_time": "2024-05-29T15:03:55.628097Z"
    }
   },
   "outputs": [
    {
     "data": {
      "text/plain": [
       "-4*Delta**2 + L_q**2 + 4*L_q*L_r"
      ],
      "text/latex": "$\\displaystyle - 4 \\Delta^{2} + L_{q}^{2} + 4 L_{q} L_{r}$"
     },
     "execution_count": 4,
     "metadata": {},
     "output_type": "execute_result"
    }
   ],
   "execution_count": 4
  },
  {
   "cell_type": "code",
   "source": [
    "simplify(Lp*Lm+Lp*Lr+Lm*Lr)*4"
   ],
   "metadata": {
    "collapsed": false,
    "ExecuteTime": {
     "end_time": "2024-05-29T15:03:55.912543Z",
     "start_time": "2024-05-29T15:03:55.897340Z"
    }
   },
   "outputs": [
    {
     "data": {
      "text/plain": [
       "-4*Delta**2 + L_q**2 + 4*L_q*L_r"
      ],
      "text/latex": "$\\displaystyle - 4 \\Delta^{2} + L_{q}^{2} + 4 L_{q} L_{r}$"
     },
     "execution_count": 5,
     "metadata": {},
     "output_type": "execute_result"
    }
   ],
   "execution_count": 5
  },
  {
   "cell_type": "code",
   "source": [
    "L = Matrix([[ 1/Lm,      0,  -1/Lm             ],\n",
    "            [    0,   1/Lp,  -1/Lp             ],\n",
    "            [-1/Lm,  -1/Lp,  1/Lr + 1/Lp + 1/Lm]])\n",
    "\n",
    "P1 = Matrix([[ 1,        0,  0],\n",
    "             [ 0,        1,  0],\n",
    "             [ γ*Lp,  γ*Lm,  0]])\n",
    "\n",
    "C = Matrix([[c+cJ,   -cJ],\n",
    "            [ -cJ,  c+cJ]])\n",
    "\n",
    "P2 = 0.5 * Matrix([[ 1,   1],\n",
    "                   [ 1,  -1]])"
   ],
   "metadata": {
    "collapsed": false,
    "ExecuteTime": {
     "end_time": "2024-05-29T15:03:56.214Z",
     "start_time": "2024-05-29T15:03:56.210750Z"
    }
   },
   "outputs": [],
   "execution_count": 6
  },
  {
   "cell_type": "code",
   "source": [
    "C**-1"
   ],
   "metadata": {
    "collapsed": false,
    "ExecuteTime": {
     "end_time": "2024-05-29T15:03:56.483017Z",
     "start_time": "2024-05-29T15:03:56.464790Z"
    }
   },
   "outputs": [
    {
     "data": {
      "text/plain": [
       "Matrix([\n",
       "[(C + C_J^{'})/(C**2 + 2*C*C_J^{'}),       C_J^{'}/(C**2 + 2*C*C_J^{'})],\n",
       "[      C_J^{'}/(C**2 + 2*C*C_J^{'}), (C + C_J^{'})/(C**2 + 2*C*C_J^{'})]])"
      ],
      "text/latex": "$\\displaystyle \\left[\\begin{matrix}\\frac{C + C_J^{'}}{C^{2} + 2 C C_J^{'}} & \\frac{C_J^{'}}{C^{2} + 2 C C_J^{'}}\\\\\\frac{C_J^{'}}{C^{2} + 2 C C_J^{'}} & \\frac{C + C_J^{'}}{C^{2} + 2 C C_J^{'}}\\end{matrix}\\right]$"
     },
     "execution_count": 7,
     "metadata": {},
     "output_type": "execute_result"
    }
   ],
   "execution_count": 7
  },
  {
   "cell_type": "code",
   "source": [
    "C1 = C"
   ],
   "metadata": {
    "collapsed": false,
    "ExecuteTime": {
     "end_time": "2024-05-29T15:03:57.061798Z",
     "start_time": "2024-05-29T15:03:57.059942Z"
    }
   },
   "outputs": [],
   "execution_count": 8
  },
  {
   "cell_type": "code",
   "source": [
    "L1 = nsimplify(simplify( P1.T * L * P1) )\n",
    "L1"
   ],
   "metadata": {
    "collapsed": false,
    "ExecuteTime": {
     "end_time": "2024-05-29T15:03:57.639670Z",
     "start_time": "2024-05-29T15:03:57.498839Z"
    }
   },
   "outputs": [
    {
     "data": {
      "text/plain": [
       "Matrix([\n",
       "[2*(-2*Delta - L_q - 2*L_r)/(4*Delta**2 - L_q**2 - 4*L_q*L_r),                     4*L_r/(4*Delta**2 - L_q**2 - 4*L_q*L_r), 0],\n",
       "[                     4*L_r/(4*Delta**2 - L_q**2 - 4*L_q*L_r), 2*(2*Delta - L_q - 2*L_r)/(4*Delta**2 - L_q**2 - 4*L_q*L_r), 0],\n",
       "[                                                           0,                                                           0, 0]])"
      ],
      "text/latex": "$\\displaystyle \\left[\\begin{matrix}\\frac{2 \\left(- 2 \\Delta - L_{q} - 2 L_{r}\\right)}{4 \\Delta^{2} - L_{q}^{2} - 4 L_{q} L_{r}} & \\frac{4 L_{r}}{4 \\Delta^{2} - L_{q}^{2} - 4 L_{q} L_{r}} & 0\\\\\\frac{4 L_{r}}{4 \\Delta^{2} - L_{q}^{2} - 4 L_{q} L_{r}} & \\frac{2 \\cdot \\left(2 \\Delta - L_{q} - 2 L_{r}\\right)}{4 \\Delta^{2} - L_{q}^{2} - 4 L_{q} L_{r}} & 0\\\\0 & 0 & 0\\end{matrix}\\right]$"
     },
     "execution_count": 9,
     "metadata": {},
     "output_type": "execute_result"
    }
   ],
   "execution_count": 9
  },
  {
   "cell_type": "code",
   "source": [
    "L1 = L1[0:2,0:2]\n",
    "L1"
   ],
   "metadata": {
    "collapsed": false,
    "ExecuteTime": {
     "end_time": "2024-05-29T15:03:57.854765Z",
     "start_time": "2024-05-29T15:03:57.849085Z"
    }
   },
   "outputs": [
    {
     "data": {
      "text/plain": [
       "Matrix([\n",
       "[2*(-2*Delta - L_q - 2*L_r)/(4*Delta**2 - L_q**2 - 4*L_q*L_r),                     4*L_r/(4*Delta**2 - L_q**2 - 4*L_q*L_r)],\n",
       "[                     4*L_r/(4*Delta**2 - L_q**2 - 4*L_q*L_r), 2*(2*Delta - L_q - 2*L_r)/(4*Delta**2 - L_q**2 - 4*L_q*L_r)]])"
      ],
      "text/latex": "$\\displaystyle \\left[\\begin{matrix}\\frac{2 \\left(- 2 \\Delta - L_{q} - 2 L_{r}\\right)}{4 \\Delta^{2} - L_{q}^{2} - 4 L_{q} L_{r}} & \\frac{4 L_{r}}{4 \\Delta^{2} - L_{q}^{2} - 4 L_{q} L_{r}}\\\\\\frac{4 L_{r}}{4 \\Delta^{2} - L_{q}^{2} - 4 L_{q} L_{r}} & \\frac{2 \\cdot \\left(2 \\Delta - L_{q} - 2 L_{r}\\right)}{4 \\Delta^{2} - L_{q}^{2} - 4 L_{q} L_{r}}\\end{matrix}\\right]$"
     },
     "execution_count": 10,
     "metadata": {},
     "output_type": "execute_result"
    }
   ],
   "execution_count": 10
  },
  {
   "cell_type": "code",
   "source": [
    "C2 = nsimplify(simplify( P2.T * C1 * P2) )\n",
    "C2"
   ],
   "metadata": {
    "collapsed": false,
    "ExecuteTime": {
     "end_time": "2024-05-29T15:04:02.163933Z",
     "start_time": "2024-05-29T15:04:02.144916Z"
    }
   },
   "outputs": [
    {
     "data": {
      "text/plain": [
       "Matrix([\n",
       "[C/2,             0],\n",
       "[  0, C/2 + C_J^{'}]])"
      ],
      "text/latex": "$\\displaystyle \\left[\\begin{matrix}\\frac{C}{2} & 0\\\\0 & \\frac{C}{2} + C_J^{'}\\end{matrix}\\right]$"
     },
     "execution_count": 11,
     "metadata": {},
     "output_type": "execute_result"
    }
   ],
   "execution_count": 11
  },
  {
   "cell_type": "code",
   "source": [
    "L2 = nsimplify(simplify( P2.T * L1 * P2) )\n",
    "L2"
   ],
   "metadata": {
    "collapsed": false,
    "ExecuteTime": {
     "end_time": "2024-05-29T15:04:02.447683Z",
     "start_time": "2024-05-29T15:04:02.368314Z"
    }
   },
   "outputs": [
    {
     "data": {
      "text/plain": [
       "Matrix([\n",
       "[    L_q/(-4*Delta**2 + L_q**2 + 4*L_q*L_r),       2*Delta/(-4*Delta**2 + L_q**2 + 4*L_q*L_r)],\n",
       "[2*Delta/(-4*Delta**2 + L_q**2 + 4*L_q*L_r), (L_q + 4*L_r)/(-4*Delta**2 + L_q**2 + 4*L_q*L_r)]])"
      ],
      "text/latex": "$\\displaystyle \\left[\\begin{matrix}\\frac{L_{q}}{- 4 \\Delta^{2} + L_{q}^{2} + 4 L_{q} L_{r}} & \\frac{2 \\Delta}{- 4 \\Delta^{2} + L_{q}^{2} + 4 L_{q} L_{r}}\\\\\\frac{2 \\Delta}{- 4 \\Delta^{2} + L_{q}^{2} + 4 L_{q} L_{r}} & \\frac{L_{q} + 4 L_{r}}{- 4 \\Delta^{2} + L_{q}^{2} + 4 L_{q} L_{r}}\\end{matrix}\\right]$"
     },
     "execution_count": 12,
     "metadata": {},
     "output_type": "execute_result"
    }
   ],
   "execution_count": 12
  },
  {
   "metadata": {
    "ExecuteTime": {
     "end_time": "2024-05-29T15:04:37.644215Z",
     "start_time": "2024-05-29T15:04:37.640999Z"
    }
   },
   "cell_type": "code",
   "source": [
    "L2[0,0], L2[1,1], L2[1,0]"
   ],
   "outputs": [
    {
     "data": {
      "text/plain": [
       "(L_q/(-4*Delta**2 + L_q**2 + 4*L_q*L_r),\n",
       " (L_q + 4*L_r)/(-4*Delta**2 + L_q**2 + 4*L_q*L_r),\n",
       " 2*Delta/(-4*Delta**2 + L_q**2 + 4*L_q*L_r))"
      ]
     },
     "execution_count": 15,
     "metadata": {},
     "output_type": "execute_result"
    }
   ],
   "execution_count": 15
  },
  {
   "cell_type": "code",
   "execution_count": 9,
   "source": [
    "w1 = 1/sqrt(C2[0,0]*L2[0,0]**-1)\n",
    "w2 = 1/sqrt(C2[1,1]*L2[1,1]**-1)\n",
    "(w1/2/np.pi).subs({c:15, cJ:18, Lq:25, Lr:10, Δ:0.1}).evalf(), (w2/2/np.pi).subs({c:15, cJ:18, Lq:25, Lr:10, Δ:0.1}).evalf()"
   ],
   "metadata": {
    "collapsed": false,
    "ExecuteTime": {
     "end_time": "2023-11-16T13:32:05.945295400Z",
     "start_time": "2023-11-16T13:32:05.905391400Z"
    }
   },
   "outputs": []
  },
  {
   "cell_type": "code",
   "execution_count": 0,
   "source": [
    "P3, D = (C2**-1 * L2 ).diagonalize()"
   ],
   "metadata": {
    "collapsed": false
   },
   "outputs": []
  },
  {
   "cell_type": "code",
   "execution_count": 14,
   "source": [
    "(P3.T*P2).subs({c:15, cJ:18, Lq:25, Lr:10, Δ:1}).evalf()"
   ],
   "metadata": {
    "collapsed": false
   },
   "outputs": []
  },
  {
   "cell_type": "code",
   "execution_count": 15,
   "source": [
    "P3_expanded = Matrix( [ [P3[0,0], P3[0,1], 0],\n",
    "                        [P3[1,0], P3[1,1], 0],\n",
    "                        [0,         0,     1]])\n",
    "P2_expanded = Matrix( [ [P2[0,0], P2[0,1], 0],\n",
    "                        [P2[1,0], P2[1,1], 0],\n",
    "                        [0,         0,     1]])"
   ],
   "metadata": {
    "collapsed": false,
    "ExecuteTime": {
     "end_time": "2023-11-27T12:44:18.292142800Z",
     "start_time": "2023-11-27T12:44:18.232224700Z"
    }
   },
   "outputs": []
  },
  {
   "cell_type": "code",
   "execution_count": 20,
   "source": [
    "(P1* P2_expanded*P3_expanded).subs({c:15, cJ:18, Lq:25, Lr:10, Δ:0.1}).evalf()"
   ],
   "metadata": {
    "collapsed": false,
    "ExecuteTime": {
     "end_time": "2023-11-27T12:50:28.923970800Z",
     "start_time": "2023-11-27T12:50:28.890547Z"
    }
   },
   "outputs": []
  },
  {
   "cell_type": "code",
   "execution_count": 14,
   "source": [
    "C3 = nsimplify(simplify( P3.T * C2 * P3 ) )\n",
    "C3"
   ],
   "metadata": {
    "collapsed": false,
    "ExecuteTime": {
     "end_time": "2023-11-16T13:32:38.666320700Z",
     "start_time": "2023-11-16T13:32:38.479712300Z"
    }
   },
   "outputs": []
  },
  {
   "cell_type": "code",
   "execution_count": 15,
   "source": [
    "L3 = nsimplify(simplify( P3.T * L2 * P3 ) )\n",
    "L3"
   ],
   "metadata": {
    "collapsed": false,
    "ExecuteTime": {
     "end_time": "2023-11-16T13:32:39.336969900Z",
     "start_time": "2023-11-16T13:32:38.739565100Z"
    }
   },
   "outputs": []
  },
  {
   "cell_type": "markdown",
   "source": [],
   "metadata": {
    "collapsed": false
   }
  },
  {
   "cell_type": "code",
   "execution_count": 32,
   "source": [
    "w1 = 1/sqrt(C3[0,0]*L3[0,0]**-1)\n",
    "w2 = 1/sqrt(C3[1,1]*L3[1,1]**-1)\n",
    "(w1/2/np.pi).subs({c:15, cJ:18, Lq:25, Lr:10, Δ:0.1}).evalf(),  (w2/2/np.pi).subs({c:15, cJ:18, Lq:25, Lr:10, Δ:0.1}).evalf()"
   ],
   "metadata": {
    "collapsed": false,
    "ExecuteTime": {
     "end_time": "2023-11-16T13:36:15.303506300Z",
     "start_time": "2023-11-16T13:36:15.272919Z"
    }
   },
   "outputs": []
  },
  {
   "cell_type": "code",
   "execution_count": 21,
   "source": [
    "(P3[0,0]).subs({c:15, cJ:18, Lq:25, Lr:10, Δ:0.1}).evalf()\n",
    "(P3[0,0]).subs({c:15, cJ:18, Lq:25, Lr:10})"
   ],
   "metadata": {
    "collapsed": false,
    "ExecuteTime": {
     "end_time": "2023-11-16T13:34:35.025861100Z",
     "start_time": "2023-11-16T13:34:34.995223900Z"
    }
   },
   "outputs": []
  },
  {
   "cell_type": "code",
   "execution_count": 22,
   "source": [
    "(P3[0,1]**-1).subs({c:15, cJ:18, Lq:25, Lr:10, Δ:0.1}).evalf()\n",
    "(P3[0,1]**-1).subs({c:15, cJ:18, Lq:25, Lr:10})"
   ],
   "metadata": {
    "collapsed": false,
    "ExecuteTime": {
     "end_time": "2023-11-16T13:34:35.736745600Z",
     "start_time": "2023-11-16T13:34:35.642149100Z"
    }
   },
   "outputs": []
  },
  {
   "cell_type": "code",
   "execution_count": 23,
   "source": [
    "Φ_1, Φ_2, Φ_3 = symbols('Phi_1,Phi_2,Phi_3', real=True, positive=True, nonzero=True)\n"
   ],
   "metadata": {
    "collapsed": false,
    "ExecuteTime": {
     "end_time": "2023-11-16T13:34:36.515807700Z",
     "start_time": "2023-11-16T13:34:36.101480900Z"
    }
   },
   "outputs": []
  },
  {
   "cell_type": "code",
   "execution_count": 24,
   "source": [
    "simplify( 4*Lr/l*(Lp*Φ_1 + Lm*Φ_2) )"
   ],
   "metadata": {
    "collapsed": false,
    "ExecuteTime": {
     "end_time": "2023-11-16T13:34:36.592159400Z",
     "start_time": "2023-11-16T13:34:36.515807700Z"
    }
   },
   "outputs": []
  },
  {
   "cell_type": "code",
   "execution_count": 25,
   "source": [
    "simplify( 2*Lr*Lq/l *(Φ_1 + Φ_2) + 4*Lr/l*Δ*(Φ_1 - Φ_2))"
   ],
   "metadata": {
    "collapsed": false,
    "ExecuteTime": {
     "end_time": "2023-11-16T13:34:37.302748700Z",
     "start_time": "2023-11-16T13:34:37.197431600Z"
    }
   },
   "outputs": []
  },
  {
   "cell_type": "code",
   "execution_count": 26,
   "source": [
    "m = 1/2 * (c*2*Lr*Lq/l)**-1\n",
    "m = 1/2 * (c*4*Lr/l*Δ)**-1"
   ],
   "metadata": {
    "collapsed": false,
    "ExecuteTime": {
     "end_time": "2023-11-16T13:34:38.066584200Z",
     "start_time": "2023-11-16T13:34:37.687964500Z"
    }
   },
   "outputs": []
  },
  {
   "cell_type": "code",
   "execution_count": 27,
   "source": [
    "k = 2 / Lr"
   ],
   "metadata": {
    "collapsed": false,
    "ExecuteTime": {
     "end_time": "2023-11-16T13:34:38.830153500Z",
     "start_time": "2023-11-16T13:34:38.287302700Z"
    }
   },
   "outputs": []
  },
  {
   "cell_type": "code",
   "execution_count": 28,
   "source": [
    "sqrt(k/m).subs({c:15, cJ:18, Lq:25, Lr:10, Δ:0.1}).evalf()"
   ],
   "metadata": {
    "collapsed": false,
    "ExecuteTime": {
     "end_time": "2023-11-16T13:34:38.867304500Z",
     "start_time": "2023-11-16T13:34:38.727512900Z"
    }
   },
   "outputs": []
  },
  {
   "cell_type": "code",
   "execution_count": 29,
   "source": [
    "sqrt(Lr * c*2*Lr*Lq/l).subs({c:15, cJ:18, Lq:25, Lr:10, Δ:0.1}).evalf()"
   ],
   "metadata": {
    "collapsed": false,
    "ExecuteTime": {
     "end_time": "2023-11-16T13:34:40.152720400Z",
     "start_time": "2023-11-16T13:34:40.116242600Z"
    }
   },
   "outputs": []
  },
  {
   "cell_type": "markdown",
   "source": [
    "# Perturbation theory of the inductive coupling between the resonator and the fluxonium"
   ],
   "metadata": {
    "collapsed": false
   }
  },
  {
   "cell_type": "code",
   "execution_count": 42,
   "source": [
    "# Circuit parameters\n",
    "Csh = 15\n",
    "C = 15\n",
    "Cg = 10\n",
    "CJ = 3\n",
    "Lq = 25\n",
    "Lr = 10\n",
    "Δ = 0.1\n",
    "EJ = 10.0\n",
    "l = Lq * (Lq + 4 * Lr) - 4 * Δ ** 2\n",
    "\n",
    "E_J = EJ * 1e9\n",
    "L_r = l / Lq * 1e-9\n",
    "E_L_r = (Φ_0 / (2 * np.pi)) ** 2 / L_r / h\n",
    "Cf = C / 2 + Csh + CJ\n",
    "Lf = l / (Lq + 4 * Lr)\n",
    "C_f = Cf * 1e-15\n",
    "L_f = Lf * 1e-9\n",
    "Z_f = np.sqrt(L_f / C_f)\n",
    "\n",
    "mf = Lf\n",
    "m_f = L_f\n",
    "ωf = 1/np.sqrt(Lf * Cf)\n",
    "ω_f = 1/np.sqrt(L_f * C_f)\n",
    "\n",
    "Lr = l / Lq\n",
    "L_r = l / Lq * 1e-9\n",
    "Cr = C / 2\n",
    "C_r = C / 2 * 1e-15\n",
    "Z_r = np.sqrt(L_r / C_r)\n",
    "\n",
    "mr = Lr\n",
    "m_r = L_r\n",
    "ωr = 1/np.sqrt(Lr * Cr)\n",
    "ω_r = 1/np.sqrt(L_r * C_r)\n",
    "\n",
    "l_Δ = Lq*(Lq+4*Lr) - 4*Δ**2\n",
    "L_q = l_Δ / (Lq + 4 * Lr) * 1e-9\n",
    "E_L_f = (Φ_0 / (2 * np.pi)) ** 2 / L_q / h"
   ],
   "metadata": {
    "collapsed": false,
    "ExecuteTime": {
     "end_time": "2023-10-26T11:17:50.137595400Z",
     "start_time": "2023-10-26T11:17:50.124510200Z"
    }
   },
   "outputs": []
  },
  {
   "cell_type": "code",
   "execution_count": 43,
   "source": [
    "φ_ext = 0.5"
   ],
   "metadata": {
    "collapsed": false,
    "ExecuteTime": {
     "end_time": "2023-10-26T11:17:50.643336600Z",
     "start_time": "2023-10-26T11:17:50.627509500Z"
    }
   },
   "outputs": []
  },
  {
   "cell_type": "code",
   "execution_count": 84,
   "source": [
    "dVdφ =  lambda φ: E_L_f*φ + E_J*np.sin(φ+np.pi)\n",
    "φ_min = sp.optimize.fsolve(dVdφ, 1)[0]\n",
    "φ_min"
   ],
   "metadata": {
    "collapsed": false,
    "ExecuteTime": {
     "end_time": "2023-10-26T11:23:26.525517700Z",
     "start_time": "2023-10-26T11:23:26.509855200Z"
    }
   },
   "outputs": []
  },
  {
   "cell_type": "code",
   "execution_count": 85,
   "source": [
    "# Symbolic independent variable\n",
    "φ_f = symbols('varphi_f') # Phase of the fluxonium\n",
    "φ_r = symbols('varphi_r') # Phase of the fluxonium\n",
    "\n",
    "# Symbolic functions\n",
    "V_f  = Function('V_f')(φ_f)  # Fluxonium potential\n",
    "V_r  = Function('V_f')(φ_r)  # Resonator potential\n",
    "\n",
    "L = Function('L')(φ_f)    # Left and right gaussian states for the fluxonium\n",
    "R  = Function('R')(φ_f)\n",
    "\n",
    "Φ_f_0 = Function('Phi_f^0')(φ_f)  # Eigenstates of te qubit\n",
    "Φ_f_1 = Function('Phi_f^1')(φ_f)  # Eigenstates of te qubit\n",
    "Φ_r_0 = Function('Phi_r^0')(φ_r)  # Eigenstates of te qubit\n",
    "Φ_r_1 = Function('Phi_r^1')(φ_r)  # Eigenstates of te qubit"
   ],
   "metadata": {
    "collapsed": false,
    "ExecuteTime": {
     "end_time": "2023-10-26T11:23:26.759518Z",
     "start_time": "2023-10-26T11:23:26.731663900Z"
    }
   },
   "outputs": []
  },
  {
   "cell_type": "code",
   "execution_count": 86,
   "source": [
    "# Potentials\n",
    "V_f = 0.5 * E_L_f * (φ_f) ** 2 - E_J * cos(φ_f - φ_ext * 2 * np.pi)\n",
    "V_r = 0.5 * E_L_r * φ_r **2"
   ],
   "metadata": {
    "collapsed": false,
    "ExecuteTime": {
     "end_time": "2023-10-26T11:23:27.096194500Z",
     "start_time": "2023-10-26T11:23:27.078462700Z"
    }
   },
   "outputs": []
  },
  {
   "cell_type": "code",
   "execution_count": 87,
   "source": [
    "# Harmonic approximation wave functions of the fluxonium\n",
    "L = (m_r * ω_r * 1e-3 / pi) ** (1 / 4) * exp(-m_r * ω_r * 1e-3 * (φ_f + φ_min) ** 2 / 2)\n",
    "R = (m_r * ω_r * 1e-3 / pi) ** (1 / 4) * exp(-m_r * ω_r * 1e-3 * (φ_f - φ_min) ** 2 / 2)\n",
    "Φ_f_0 = L + R\n",
    "Φ_f_1 = L - R"
   ],
   "metadata": {
    "collapsed": false,
    "ExecuteTime": {
     "end_time": "2023-10-26T11:23:27.500916200Z",
     "start_time": "2023-10-26T11:23:27.485274Z"
    }
   },
   "outputs": []
  },
  {
   "cell_type": "code",
   "execution_count": 93,
   "source": [
    "# Symbolic to numpy for plots\n",
    "φ_f_np = np.linspace(-2.5,2.5,100)\n",
    "\n",
    "V_f_np  = np.array([ V_f.subs([(φ_f,φ_f_np[i])]).evalf() for i in range(len(φ_f_np)) ])\n",
    "\n",
    "L_np  = np.array([ L.subs([(φ_f,φ_f_np[i])]).evalf() for i in range(len(φ_f_np)) ])\n",
    "R_np  = np.array([ R.subs([(φ_f,φ_f_np[i])]).evalf() for i in range(len(φ_f_np)) ])\n",
    "\n",
    "Φ_f_0_np = np.array([ Φ_f_0.subs([(φ_f,φ_f_np[i])]).evalf() for i in range(len(φ_f_np)) ])\n",
    "Φ_f_1_np = np.array([ Φ_f_1.subs([(φ_f,φ_f_np[i])]).evalf() for i in range(len(φ_f_np)) ])\n"
   ],
   "metadata": {
    "collapsed": false,
    "ExecuteTime": {
     "end_time": "2023-10-26T12:46:36.734131900Z",
     "start_time": "2023-10-26T12:46:36.140932Z"
    }
   },
   "outputs": []
  },
  {
   "cell_type": "code",
   "execution_count": 94,
   "source": [
    "# Potential plots\n",
    "fig, ax = plt.subplots(ncols=1, nrows=1,figsize=(6*1.5, 4.5*1.5))\n",
    "ax.set_xlabel(r'$\\varphi$ ')\n",
    "ax.set_ylabel(r'$V_f(\\varphi)$ ')\n",
    "\n",
    "ax.plot( φ_f_np, (V_f_np-V_f_np.min())/1e9,  color = 'k', linewidth = 2 )\n",
    "ax.plot( φ_f_np, Φ_f_0_np**2,  color = 'r', linewidth = 2 )\n",
    "ax.plot( φ_f_np, Φ_f_1_np**2,  color = 'b', linewidth = 2 )\n",
    "plt.show()"
   ],
   "metadata": {
    "collapsed": false,
    "ExecuteTime": {
     "end_time": "2023-10-26T12:46:37.194130800Z",
     "start_time": "2023-10-26T12:46:37.067351700Z"
    }
   },
   "outputs": []
  },
  {
   "cell_type": "code",
   "execution_count": 32,
   "source": [
    "Lq, Lr, Lq_prime, Lr_prime, Δ, x, y = symbols('Lq Lr Lq\\' Lr\\' \\Delta x y')"
   ],
   "metadata": {
    "collapsed": false,
    "ExecuteTime": {
     "end_time": "2023-11-13T19:22:32.697459300Z",
     "start_time": "2023-11-13T19:22:32.665673Z"
    }
   },
   "outputs": []
  },
  {
   "cell_type": "code",
   "execution_count": 33,
   "source": [
    "eq1 = Eq( Lq*(Lq+4*Lr) / (Lq+4*Lr), (Lq_prime*(Lq_prime+4*Lr_prime)-4*Δ**2)/(Lq_prime+4*Lr_prime))\n",
    "eq2 = Eq( Lq*(Lq+4*Lr) / Lq,        (Lq_prime*(Lq_prime+4*Lr_prime)-4*Δ**2)/(Lq_prime))\n",
    "\n",
    "# Solve the equations\n",
    "solution = solve((eq1, eq2), (Lq_prime, Lr_prime))"
   ],
   "metadata": {
    "collapsed": false,
    "ExecuteTime": {
     "end_time": "2023-11-13T19:22:41.452951600Z",
     "start_time": "2023-11-13T19:22:40.443323400Z"
    }
   },
   "outputs": []
  },
  {
   "cell_type": "code",
   "execution_count": 36,
   "source": [
    "solution[0][0].subs({Lq:25, Lr:10, Δ:0.1})"
   ],
   "metadata": {
    "collapsed": false,
    "ExecuteTime": {
     "end_time": "2023-11-13T19:22:57.988578500Z",
     "start_time": "2023-11-13T19:22:57.972723300Z"
    }
   },
   "outputs": []
  },
  {
   "cell_type": "code",
   "execution_count": 45,
   "source": [
    "solution[1]#[1].subs({Lq:25, Lr:10, Δ:0.1})"
   ],
   "metadata": {
    "collapsed": false,
    "ExecuteTime": {
     "end_time": "2023-11-13T19:24:40.976582500Z",
     "start_time": "2023-11-13T19:24:40.945433100Z"
    }
   },
   "outputs": []
  },
  {
   "cell_type": "code",
   "execution_count": null,
   "source": [],
   "metadata": {
    "collapsed": false
   },
   "outputs": []
  }
 ],
 "metadata": {
  "kernelspec": {
   "display_name": "Python 3",
   "language": "python",
   "name": "python3"
  },
  "language_info": {
   "codemirror_mode": {
    "name": "ipython",
    "version": 2
   },
   "file_extension": ".py",
   "mimetype": "text/x-python",
   "name": "python",
   "nbconvert_exporter": "python",
   "pygments_lexer": "ipython2",
   "version": "2.7.6"
  }
 },
 "nbformat": 4,
 "nbformat_minor": 0
}
