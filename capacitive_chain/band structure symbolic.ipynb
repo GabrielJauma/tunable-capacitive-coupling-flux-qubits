{
 "cells": [
  {
   "cell_type": "code",
   "execution_count": 142,
   "id": "initial_id",
   "metadata": {
    "collapsed": true,
    "ExecuteTime": {
     "end_time": "2025-04-10T11:29:01.896065Z",
     "start_time": "2025-04-10T11:29:01.614276Z"
    }
   },
   "outputs": [],
   "source": [
    "from sympy import *\n",
    "import numpy as np"
   ]
  },
  {
   "cell_type": "code",
   "outputs": [],
   "source": [
    "# δ, g_Φ, g_c, g_q, k = symbols('delta, g_\\Phi, g_c, g_q, k', real=True )\n",
    "# g_p = g_c+g_q\n",
    "# g_x = g_c*g_q\n",
    "# (g_p**2-4*g_x).subs(g_c, g_q/10)"
   ],
   "metadata": {
    "collapsed": false
   },
   "id": "a14a4d009898c699",
   "execution_count": null
  },
  {
   "cell_type": "code",
   "outputs": [],
   "source": [
    "g_Φ, g_p, g_x = symbols('g_\\Phi, g_+, g_x', real=True, positive=True )\n",
    "δ, k = symbols('delta, k', real=True )\n",
    "D = δ**2/4 + g_Φ**2 + 4*g_x"
   ],
   "metadata": {
    "collapsed": false,
    "ExecuteTime": {
     "end_time": "2025-04-10T11:06:31.413339Z",
     "start_time": "2025-04-10T11:06:31.400714Z"
    }
   },
   "id": "c442230130585926",
   "execution_count": 117
  },
  {
   "cell_type": "code",
   "outputs": [],
   "source": [
    "Ek = sqrt( (g_p**2-4*g_x)*cos(k)**2 + δ*g_p*cos(k) + D )"
   ],
   "metadata": {
    "collapsed": false,
    "ExecuteTime": {
     "end_time": "2025-04-10T11:06:31.696036Z",
     "start_time": "2025-04-10T11:06:31.681431Z"
    }
   },
   "id": "35f438f01a8738b7",
   "execution_count": 118
  },
  {
   "cell_type": "code",
   "outputs": [
    {
     "data": {
      "text/plain": "sqrt(1.0*g_+**2 + g_\\Phi**2)",
      "text/latex": "$\\displaystyle \\sqrt{1.0 g_{+}^{2} + g_{\\Phi}^{2}}$"
     },
     "execution_count": 119,
     "metadata": {},
     "output_type": "execute_result"
    }
   ],
   "source": [
    "subs_flat_bands = {δ:0, g_x: 1/4 * g_p**2}\n",
    "simplify(Ek.subs(subs_flat_bands))"
   ],
   "metadata": {
    "collapsed": false,
    "ExecuteTime": {
     "end_time": "2025-04-10T11:06:32.038718Z",
     "start_time": "2025-04-10T11:06:32.015578Z"
    }
   },
   "id": "c3541520ae41e2cc",
   "execution_count": 119
  },
  {
   "cell_type": "code",
   "outputs": [
    {
     "data": {
      "text/plain": "[2.0*g_+]"
     },
     "execution_count": 150,
     "metadata": {},
     "output_type": "execute_result"
    }
   ],
   "source": [
    "solve( (Ek**2).subs({g_Φ:0, k:np.pi}), δ)"
   ],
   "metadata": {
    "collapsed": false,
    "ExecuteTime": {
     "end_time": "2025-04-10T11:33:25.671528Z",
     "start_time": "2025-04-10T11:33:25.655528Z"
    }
   },
   "id": "1f1ddc493f9b239d",
   "execution_count": 150
  },
  {
   "cell_type": "code",
   "outputs": [
    {
     "data": {
      "text/plain": "(-delta*g_+/2 - sqrt(delta**2*g_x - g_+**2*g_\\Phi**2 - 4*g_+**2*g_x + 4*g_\\Phi**2*g_x + 16*g_x**2))/(g_+**2 - 4*g_x)",
      "text/latex": "$\\displaystyle \\frac{- \\frac{\\delta g_{+}}{2} - \\sqrt{\\delta^{2} g_{x} - g_{+}^{2} g_{\\Phi}^{2} - 4 g_{+}^{2} g_{x} + 4 g_{\\Phi}^{2} g_{x} + 16 g_{x}^{2}}}{g_{+}^{2} - 4 g_{x}}$"
     },
     "execution_count": 152,
     "metadata": {},
     "output_type": "execute_result"
    }
   ],
   "source": [
    "cos_k_dirac = solve(Ek**2, cos(k))[0]\n",
    "cos_k_dirac"
   ],
   "metadata": {
    "collapsed": false,
    "ExecuteTime": {
     "end_time": "2025-04-10T11:34:04.328695Z",
     "start_time": "2025-04-10T11:34:04.217029Z"
    }
   },
   "id": "d9fa275cd3cfaa19",
   "execution_count": 152
  },
  {
   "cell_type": "code",
   "outputs": [
    {
     "data": {
      "text/plain": "[-2*g_+]"
     },
     "execution_count": 155,
     "metadata": {},
     "output_type": "execute_result"
    }
   ],
   "source": [
    "solve(cos_k_dirac.subs(g_Φ,0)-1, δ)"
   ],
   "metadata": {
    "collapsed": false,
    "ExecuteTime": {
     "end_time": "2025-04-10T11:36:28.714511Z",
     "start_time": "2025-04-10T11:36:28.683026Z"
    }
   },
   "id": "6d188d5c8a3e1324",
   "execution_count": 155
  },
  {
   "cell_type": "code",
   "outputs": [
    {
     "data": {
      "text/plain": "'(-delta*g_+/2 - sqrt(delta**2*g_x - g_+**2*g_\\\\Phi**2 - 4*g_+**2*g_x + 4*g_\\\\Phi**2*g_x + 16*g_x**2))/(g_+**2 - 4*g_x)'"
     },
     "execution_count": 100,
     "metadata": {},
     "output_type": "execute_result"
    }
   ],
   "source": [
    "str(solve((g_p**2-4*g_x)*cos(k)**2 + δ*g_p*cos(k) +D, cos(k))[0])"
   ],
   "metadata": {
    "collapsed": false,
    "ExecuteTime": {
     "end_time": "2025-04-10T10:42:04.517919Z",
     "start_time": "2025-04-10T10:42:04.399937Z"
    }
   },
   "id": "35f21f980f1244c2",
   "execution_count": 100
  },
  {
   "cell_type": "code",
   "outputs": [],
   "source": [],
   "metadata": {
    "collapsed": false
   },
   "id": "8c63ca0db596d668"
  }
 ],
 "metadata": {
  "kernelspec": {
   "display_name": "Python 3",
   "language": "python",
   "name": "python3"
  },
  "language_info": {
   "codemirror_mode": {
    "name": "ipython",
    "version": 2
   },
   "file_extension": ".py",
   "mimetype": "text/x-python",
   "name": "python",
   "nbconvert_exporter": "python",
   "pygments_lexer": "ipython2",
   "version": "2.7.6"
  }
 },
 "nbformat": 4,
 "nbformat_minor": 5
}
