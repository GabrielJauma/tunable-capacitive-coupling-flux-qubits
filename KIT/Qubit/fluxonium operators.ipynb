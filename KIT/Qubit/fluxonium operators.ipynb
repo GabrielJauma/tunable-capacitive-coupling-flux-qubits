{
 "cells": [
  {
   "cell_type": "code",
   "outputs": [],
   "source": [
    "import Modules.SQcircuit_extensions as sq_ext\n",
    "import Modules.figures as figs\n",
    "import SQcircuit as sq\n",
    "import numpy as np\n",
    "import matplotlib.pyplot as plt\n",
    "import importlib\n",
    "\n",
    "%matplotlib ipympl\n",
    "plt.rcParams['text.usetex'] = False\n",
    "importlib.reload(sq_ext)\n",
    "importlib.reload(sq)\n",
    "importlib.reload(figs)\n",
    "np.set_printoptions(linewidth=300, formatter={'float': '{:.12f}'.format})\n",
    "# np.set_printoptions(linewidth=200, formatter={'float': '{:.1e}'.format})"
   ],
   "metadata": {
    "collapsed": false,
    "ExecuteTime": {
     "end_time": "2024-01-22T11:35:34.954735870Z",
     "start_time": "2024-01-22T11:35:34.950678149Z"
    }
   },
   "id": "e3441a3365b8900",
   "execution_count": 3
  },
  {
   "cell_type": "code",
   "outputs": [],
   "source": [
    "nH = 1e-9\n",
    "fF = 1e-15\n",
    "GHz = 1e9"
   ],
   "metadata": {
    "collapsed": false,
    "ExecuteTime": {
     "end_time": "2024-01-22T11:55:54.143099284Z",
     "start_time": "2024-01-22T11:55:54.099699680Z"
    }
   },
   "id": "fc65bc62670d69b9",
   "execution_count": 75
  },
  {
   "cell_type": "code",
   "outputs": [],
   "source": [
    "h    = 6.626e-34\n",
    "GHz = 1e9\n",
    "e0   = 1.602e-19\n",
    "Φ_0 = h/(2*e0)"
   ],
   "metadata": {
    "collapsed": false,
    "ExecuteTime": {
     "end_time": "2024-01-22T11:55:54.368959657Z",
     "start_time": "2024-01-22T11:55:54.366736772Z"
    }
   },
   "id": "6cd4310d1806a2b7",
   "execution_count": 76
  },
  {
   "cell_type": "code",
   "outputs": [],
   "source": [
    "# Circuit parameters\n",
    "Csh = 15\n",
    "C   = 15\n",
    "CJ  = 3\n",
    "Lq  = 25\n",
    "Lr  = 10\n",
    "Δ   = 0.1\n",
    "EJ = 10\n",
    "l = Lq*(Lq+4*Lr) - 4*Δ**2"
   ],
   "metadata": {
    "collapsed": false,
    "ExecuteTime": {
     "end_time": "2024-01-22T11:55:54.621575325Z",
     "start_time": "2024-01-22T11:55:54.619969919Z"
    }
   },
   "id": "7a876e7cf54c5d8d",
   "execution_count": 77
  },
  {
   "cell_type": "code",
   "outputs": [],
   "source": [
    "Cf = C/2 + Csh + CJ\n",
    "Lf = l/(Lq+4*Lr)\n",
    "\n",
    "C_f = Cf * fF\n",
    "L_f = Lf * nH\n",
    "E_J = EJ * GHz"
   ],
   "metadata": {
    "collapsed": false,
    "ExecuteTime": {
     "end_time": "2024-01-22T11:56:05.163146737Z",
     "start_time": "2024-01-22T11:56:05.160400498Z"
    }
   },
   "id": "b81acf586a004222",
   "execution_count": 81
  },
  {
   "cell_type": "code",
   "outputs": [],
   "source": [
    "fluxonium = sq_ext.KIT_fluxonium()"
   ],
   "metadata": {
    "collapsed": false,
    "ExecuteTime": {
     "end_time": "2024-01-22T11:56:43.745457195Z",
     "start_time": "2024-01-22T11:56:43.742446806Z"
    }
   },
   "id": "2c84dfd823a5f325",
   "execution_count": 96
  },
  {
   "cell_type": "code",
   "outputs": [],
   "source": [
    "q = fluxonium.charge_op(0) / C_f\n",
    "qq = fluxonium.charge_op(0)**2 / C_f\n",
    "Φ = fluxonium.flux_op(0) / L_f \n",
    "# H = 0.5 * C_f**-1 * q**2 + 0.5 * L_f**-1 * Φ**2 + E_J * Φ / (Φ_0/(2*np.pi))  * np.sqrt(h)\n",
    "H = fluxonium.hamiltonian()                                                                                                             "
   ],
   "metadata": {
    "collapsed": false,
    "ExecuteTime": {
     "end_time": "2024-01-22T13:44:02.525836789Z",
     "start_time": "2024-01-22T13:44:02.522375915Z"
    }
   },
   "id": "496ce49056cc2a61",
   "execution_count": 103
  },
  {
   "cell_type": "code",
   "outputs": [
    {
     "data": {
      "text/plain": "array([[6.707030428456, -0.000000000000],\n       [-0.000000000000, 8.652527257331]])"
     },
     "execution_count": 104,
     "metadata": {},
     "output_type": "execute_result"
    }
   ],
   "source": [
    "sq_ext.H_eff_p1(H,H,2)"
   ],
   "metadata": {
    "collapsed": false,
    "ExecuteTime": {
     "end_time": "2024-01-22T13:44:02.990937590Z",
     "start_time": "2024-01-22T13:44:02.983153367Z"
    }
   },
   "id": "22a3ef807f438e6",
   "execution_count": 104
  },
  {
   "cell_type": "code",
   "outputs": [
    {
     "data": {
      "text/plain": "array([[-0.000000000000, 0.244590355252],\n       [0.244590355252, 0.000000000000]])"
     },
     "execution_count": 105,
     "metadata": {},
     "output_type": "execute_result"
    }
   ],
   "source": [
    "sq_ext.H_eff_p1(H,Φ,2)"
   ],
   "metadata": {
    "collapsed": false,
    "ExecuteTime": {
     "end_time": "2024-01-22T13:44:03.500552469Z",
     "start_time": "2024-01-22T13:44:03.494904153Z"
    }
   },
   "id": "7a8ebc6d734cd074",
   "execution_count": 105
  },
  {
   "cell_type": "code",
   "outputs": [
    {
     "data": {
      "text/plain": "array([[ 5.25958962e-15-2.05339890e-30j, -1.33335600e-13-7.47444657e+01j],\n       [-1.33335600e-13+7.47444657e+01j, -6.18153888e-13+1.27239777e-28j]])"
     },
     "execution_count": 100,
     "metadata": {},
     "output_type": "execute_result"
    }
   ],
   "source": [
    "sq_ext.H_eff_p1(H,q,2)"
   ],
   "metadata": {
    "collapsed": false,
    "ExecuteTime": {
     "end_time": "2024-01-22T11:56:45.976769020Z",
     "start_time": "2024-01-22T11:56:45.972115946Z"
    }
   },
   "id": "6061284016eabe1f",
   "execution_count": 100
  },
  {
   "cell_type": "code",
   "outputs": [
    {
     "data": {
      "text/plain": "array([[1.326936927337, 0.000000000000],\n       [0.000000000000, 5.179339181612]])"
     },
     "execution_count": 106,
     "metadata": {},
     "output_type": "execute_result"
    }
   ],
   "source": [
    "sq_ext.H_eff_p1(H,qq,2)"
   ],
   "metadata": {
    "collapsed": false,
    "ExecuteTime": {
     "end_time": "2024-01-22T13:44:09.887030820Z",
     "start_time": "2024-01-22T13:44:09.883182302Z"
    }
   },
   "id": "1ab2f8a19d4f9ce0",
   "execution_count": 106
  },
  {
   "cell_type": "code",
   "outputs": [],
   "source": [],
   "metadata": {
    "collapsed": false
   },
   "id": "c1cb804ad0d4a806"
  }
 ],
 "metadata": {
  "kernelspec": {
   "display_name": "Python 3",
   "language": "python",
   "name": "python3"
  },
  "language_info": {
   "codemirror_mode": {
    "name": "ipython",
    "version": 2
   },
   "file_extension": ".py",
   "mimetype": "text/x-python",
   "name": "python",
   "nbconvert_exporter": "python",
   "pygments_lexer": "ipython2",
   "version": "2.7.6"
  }
 },
 "nbformat": 4,
 "nbformat_minor": 5
}
