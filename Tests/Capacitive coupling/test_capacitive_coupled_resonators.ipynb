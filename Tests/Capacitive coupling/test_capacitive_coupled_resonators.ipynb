{
 "cells": [
  {
   "cell_type": "code",
   "metadata": {
    "ExecuteTime": {
     "end_time": "2024-05-14T14:17:35.016811Z",
     "start_time": "2024-05-14T14:17:35.012577Z"
    }
   },
   "source": [
    "import Modules.SQcircuit_extensions as sq_ext\n",
    "import Modules.figures as figs\n",
    "import SQcircuit as sq\n",
    "import numpy as np\n",
    "import matplotlib.pyplot as plt\n",
    "import importlib\n",
    "import qutip as qt\n",
    "import scipy as sp\n",
    "%matplotlib ipympl\n",
    "\n",
    "plt.rcParams['text.usetex'] = False\n",
    "importlib.reload(sq_ext)\n",
    "importlib.reload(sq)\n",
    "importlib.reload(figs)\n",
    "np.set_printoptions(linewidth=200, formatter={'float': '{:.6f}'.format})\n",
    "# np.set_printoptions(linewidth=200, formatter={'float': '{:.3e}'.format})"
   ],
   "outputs": [],
   "execution_count": 131
  },
  {
   "cell_type": "code",
   "metadata": {
    "ExecuteTime": {
     "end_time": "2024-05-14T14:17:35.165929Z",
     "start_time": "2024-05-14T14:17:35.164419Z"
    }
   },
   "source": [
    "GHz = 1e9\n",
    "fF = 1e-15\n",
    "nH = 1e-9"
   ],
   "outputs": [],
   "execution_count": 132
  },
  {
   "cell_type": "code",
   "metadata": {
    "ExecuteTime": {
     "end_time": "2024-05-14T14:17:35.342368Z",
     "start_time": "2024-05-14T14:17:35.339392Z"
    }
   },
   "source": [
    "def coupled_resonators(L1, C1, L2, C2, CC):\n",
    "    L_01 = sq.Inductor (L1, 'nH')\n",
    "    C_01 = sq.Capacitor(C1, 'fF')\n",
    "    L_02 = sq.Inductor (L2, 'nH')\n",
    "    C_02 = sq.Capacitor(C2, 'fF')\n",
    "    C_12 = sq.Capacitor(CC, 'fF')\n",
    "    elements = {(0, 1): [L_01, C_01],\n",
    "                (0, 2): [L_02, C_02],\n",
    "                (1, 2): [C_12], }\n",
    "    return sq.Circuit(elements)\n",
    "\n",
    "def resonator(L, C):\n",
    "    L_01   = sq.Inductor (L, 'nH')\n",
    "    C_01   = sq.Capacitor(C, 'fF')\n",
    "    elements = {(0, 1): [L_01, C_01],}\n",
    "    return sq.Circuit(elements)\n"
   ],
   "outputs": [],
   "execution_count": 133
  },
  {
   "cell_type": "code",
   "metadata": {
    "ExecuteTime": {
     "end_time": "2024-05-14T14:17:35.479898Z",
     "start_time": "2024-05-14T14:17:35.478120Z"
    }
   },
   "source": [
    "n_eig = 5\n",
    "trunc_num = 25"
   ],
   "outputs": [],
   "execution_count": 134
  },
  {
   "metadata": {
    "ExecuteTime": {
     "end_time": "2024-05-14T14:21:38.814056Z",
     "start_time": "2024-05-14T14:21:38.812183Z"
    }
   },
   "cell_type": "code",
   "source": [
    "L1 = 3\n",
    "C1 = 3\n",
    "L2 = 1\n",
    "C2 = 5\n",
    "\n",
    "CC = 2"
   ],
   "outputs": [],
   "execution_count": 262
  },
  {
   "metadata": {
    "ExecuteTime": {
     "end_time": "2024-05-14T14:21:38.971964Z",
     "start_time": "2024-05-14T14:21:38.965802Z"
    }
   },
   "cell_type": "code",
   "source": [
    "coupled_res_full = coupled_resonators(L1=L1, C1=C1, L2=L2, C2=C2, CC=CC)\n",
    "coupled_res_full .set_trunc_nums([trunc_num, trunc_num])\n",
    "H_coupled_res_full = coupled_res_full.hamiltonian()"
   ],
   "outputs": [],
   "execution_count": 263
  },
  {
   "metadata": {
    "ExecuteTime": {
     "end_time": "2024-05-14T14:21:39.115349Z",
     "start_time": "2024-05-14T14:21:39.113185Z"
    }
   },
   "cell_type": "code",
   "source": [
    "C_mat = np.array([[C1 + CC, -CC],\n",
    "                  [-CC, C2 + CC]])\n",
    "C_inv = np.linalg.inv(C_mat)\n",
    "C1_tilde = C_inv[0,0]**-1\n",
    "C2_tilde = C_inv[1,1]**-1"
   ],
   "outputs": [],
   "execution_count": 264
  },
  {
   "metadata": {
    "ExecuteTime": {
     "end_time": "2024-05-14T14:21:39.244026Z",
     "start_time": "2024-05-14T14:21:39.239031Z"
    }
   },
   "cell_type": "code",
   "source": [
    "resonator_1 = resonator(L=L1, C=C1_tilde)\n",
    "resonator_2 = resonator(L=L2, C=C2_tilde)\n",
    "resonator_1.set_trunc_nums([trunc_num])\n",
    "resonator_2.set_trunc_nums([trunc_num])"
   ],
   "outputs": [],
   "execution_count": 265
  },
  {
   "cell_type": "code",
   "metadata": {
    "ExecuteTime": {
     "end_time": "2024-05-14T14:21:39.377984Z",
     "start_time": "2024-05-14T14:21:39.373153Z"
    }
   },
   "source": [
    "Q_1 = resonator_1.charge_op(0)\n",
    "Q_2 = resonator_2.charge_op(0)\n",
    "Φ_1 = resonator_1.flux_op(0)\n",
    "Φ_2 = resonator_2.flux_op(0)\n",
    "\n",
    "# H_1 = resonator_1.hamiltonian()\n",
    "H_1 = 1/2 * C1_tilde**-1 * fF**-1 * Q_1**2 + 1/2 * L1**-1 * nH**-1 * Φ_1**2 \n",
    "# H_2 = resonator_2.hamiltonian()\n",
    "H_2 = 1/2 * C2_tilde**-1 * fF**-1 * Q_2**2 + 1/2 * L2**-1 * nH**-1 * Φ_2**2 \n",
    "\n",
    "I = qt.identity(H_1.shape[0])\n",
    "H_coupled_res_comp = qt.tensor(H_1,I) + qt.tensor(I,H_2) + C_inv[0,1]* fF**-1 * qt.tensor(Q_1,Q_2)"
   ],
   "outputs": [],
   "execution_count": 266
  },
  {
   "cell_type": "code",
   "metadata": {
    "ExecuteTime": {
     "end_time": "2024-05-14T14:21:39.548037Z",
     "start_time": "2024-05-14T14:21:39.520521Z"
    }
   },
   "source": [
    "E_coupled_res_comp = sq_ext.diag(H_coupled_res_comp, n_eig, remove_ground=True)[0]\n",
    "E_coupled_res_full = sq_ext.diag(H_coupled_res_full, n_eig, remove_ground=True)[0]"
   ],
   "outputs": [],
   "execution_count": 267
  },
  {
   "metadata": {
    "ExecuteTime": {
     "end_time": "2024-05-14T14:21:40.095845Z",
     "start_time": "2024-05-14T14:21:40.093397Z"
    }
   },
   "cell_type": "code",
   "source": "E_coupled_res_comp, E_coupled_res_full",
   "outputs": [
    {
     "data": {
      "text/plain": [
       "(array([0.000000, 39.431161, 66.613036, 78.862321, 106.044197]),\n",
       " array([0.000000, 39.431161, 66.613036, 78.862321, 106.044197]))"
      ]
     },
     "execution_count": 268,
     "metadata": {},
     "output_type": "execute_result"
    }
   ],
   "execution_count": 268
  },
  {
   "metadata": {},
   "cell_type": "code",
   "outputs": [],
   "execution_count": null,
   "source": ""
  }
 ],
 "metadata": {
  "kernelspec": {
   "display_name": "Python 3 (ipykernel)",
   "language": "python",
   "name": "python3"
  },
  "language_info": {
   "codemirror_mode": {
    "name": "ipython",
    "version": 3
   },
   "file_extension": ".py",
   "mimetype": "text/x-python",
   "name": "python",
   "nbconvert_exporter": "python",
   "pygments_lexer": "ipython3",
   "version": "3.8.17"
  }
 },
 "nbformat": 4,
 "nbformat_minor": 1
}
