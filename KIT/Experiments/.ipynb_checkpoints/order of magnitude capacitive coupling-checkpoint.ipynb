{
 "cells": [
  {
   "cell_type": "code",
   "execution_count": 2,
   "id": "6c901434381dddfe",
   "metadata": {
    "ExecuteTime": {
     "end_time": "2024-05-17T10:04:51.006499200Z",
     "start_time": "2024-05-17T10:04:49.774708Z"
    }
   },
   "source": [
    "import Modules.SQcircuit_extensions as sq_ext\n",
    "import Modules.figures as figs\n",
    "import SQcircuit as sq\n",
    "import numpy as np\n",
    "import matplotlib.pyplot as plt\n",
    "import importlib\n",
    "from scipy.linalg import eigh\n",
    "import qutip as qt\n",
    "import sympy as sym\n",
    "from joblib import Parallel, delayed, cpu_count\n",
    "\n",
    "%matplotlib ipympl\n",
    "plt.rcParams['text.usetex'] = False\n",
    "importlib.reload(sq_ext)\n",
    "importlib.reload(sq)\n",
    "importlib.reload(figs)\n",
    "np.set_printoptions(linewidth=300, formatter={'float': '{:.12f}'.format})\n",
    "\n",
    "fF  = 1e-15\n",
    "nH  = 1e-9\n",
    "GHz = 1e9"
   ],
   "outputs": []
  },
  {
   "cell_type": "code",
   "execution_count": 3,
   "id": "61a56317e8b9c469",
   "metadata": {
    "ExecuteTime": {
     "end_time": "2024-05-14T08:07:04.569571Z",
     "start_time": "2024-05-14T08:07:04.566317Z"
    }
   },
   "source": [
    "Δ = 0.1\n",
    "LF = 26.5\n",
    "CF = 26.9\n",
    "EJ = 5.4\n",
    "ω_r = 6.46\n",
    "LR = 140\n",
    "CR = 1 / (LR * nH) / (ω_r * 2 * np.pi * GHz) ** 2 / fF\n",
    "Lq, Lr = sq_ext.LF_LR_eff_to_Lq_Lr(LF=LF, LR=LR, Δ=Δ)\n",
    "C, Csh, CJ = sq_ext.CF_CR_eff_to_C_CJ_Csh(CF=CF, CR=CR)\n",
    "C, Csh, CJ "
   ],
   "outputs": []
  },
  {
   "cell_type": "code",
   "execution_count": 4,
   "id": "10cd3267fc284992",
   "metadata": {
    "ExecuteTime": {
     "end_time": "2024-05-14T08:07:04.770428Z",
     "start_time": "2024-05-14T08:07:04.766844Z"
    }
   },
   "source": [
    "\n",
    "Δ_prime = 0.1\n",
    "LF_prime = 20.4\n",
    "CF_prime = 22.4\n",
    "EJ_prime = 9.5\n",
    "ω_r_prime = 6.274\n",
    "LR_prime = 100\n",
    "# LR_prime = 190\n",
    "CR_prime = 1 / (LR_prime * nH) / (ω_r_prime * 2 * np.pi * GHz) ** 2 / fF\n",
    "Lq_prime, Lr_prime = sq_ext.LF_LR_eff_to_Lq_Lr(LF=LF_prime, LR=LR_prime, Δ=Δ_prime)\n",
    "C_prime, Csh_prime, CJ_prime = sq_ext.CF_CR_eff_to_C_CJ_Csh(CF=CF_prime, CR=CR_prime)\n",
    "C_prime, Csh_prime, CJ_prime "
   ],
   "outputs": []
  },
  {
   "cell_type": "code",
   "execution_count": 5,
   "id": "initial_id",
   "metadata": {
    "ExecuteTime": {
     "end_time": "2024-05-14T08:07:33.565062Z",
     "start_time": "2024-05-14T08:07:33.563200Z"
    }
   },
   "source": [
    "nmax_r = 10\n",
    "nmax_f = 10\n",
    "n_eig = 5\n",
    "φ_ext = 0.5"
   ],
   "outputs": []
  },
  {
   "cell_type": "code",
   "execution_count": 6,
   "id": "f282ab39876aae9d",
   "metadata": {
    "ExecuteTime": {
     "end_time": "2024-05-14T08:07:33.856503Z",
     "start_time": "2024-05-14T08:07:33.841724Z"
    }
   },
   "source": [
    "fluxonium_0       = sq_ext.sq_fluxonium(C_F_eff=CF,       L_F_eff=LF,       Δ=Δ,       EJ=EJ,       nmax_f=nmax_f, φ_ext=φ_ext)\n",
    "resonator_0       = sq_ext.sq_resonator(C_R_eff=CR,       L_R_eff=LR,       Δ=Δ,       EJ=EJ,       nmax_r=nmax_r)\n",
    "fluxonium_prime_0 = sq_ext.sq_fluxonium(C_F_eff=CF_prime, L_F_eff=LF_prime, Δ=Δ_prime, EJ=EJ_prime, nmax_f=nmax_f, φ_ext=φ_ext)\n",
    "resonator_prime_0 = sq_ext.sq_resonator(C_R_eff=CR_prime, L_R_eff=LR_prime, Δ=Δ_prime, EJ=EJ_prime, nmax_r=nmax_r)\n",
    "fluxonium_0      .diag(2); \n",
    "resonator_0      .diag(2);\n",
    "fluxonium_prime_0.diag(2);\n",
    "resonator_prime_0.diag(2);"
   ],
   "outputs": []
  },
  {
   "cell_type": "code",
   "execution_count": 7,
   "id": "be8e9e82d56013df",
   "metadata": {
    "ExecuteTime": {
     "end_time": "2024-05-14T08:07:34.275481Z",
     "start_time": "2024-05-14T08:07:34.272449Z"
    }
   },
   "source": [
    "E0_F  = fluxonium_0.efreqs[1]-fluxonium_0.efreqs[0] \n",
    "E0_R  = resonator_0.efreqs[1]-resonator_0.efreqs[0]\n",
    "E0_Fp = fluxonium_prime_0.efreqs[1]-fluxonium_prime_0.efreqs[0]\n",
    "E0_Rp = resonator_prime_0.efreqs[1]-resonator_prime_0.efreqs[0]\n",
    "E0_F  , E0_R  , E0_Fp , E0_Rp "
   ],
   "outputs": []
  },
  {
   "cell_type": "code",
   "execution_count": 8,
   "id": "cc65af682f001aa6",
   "metadata": {
    "ExecuteTime": {
     "end_time": "2024-05-14T08:07:35.880151Z",
     "start_time": "2024-05-14T08:07:35.876784Z"
    }
   },
   "source": [
    "ω0_FR   = np.abs( E0_F-E0_R )\n",
    "ω0_FFp  = np.abs( E0_F-E0_Fp )\n",
    "ω0_FRp  = np.abs( E0_F-E0_Rp )\n",
    "ω0_RRp  = np.abs( E0_R-E0_Rp )\n",
    "ω0_FpRp = np.abs( E0_Fp-E0_Rp )\n",
    "ω0_FR , ω0_FFp, ω0_FRp, ω0_RRp, ω0_FpRp "
   ],
   "outputs": []
  },
  {
   "cell_type": "code",
   "execution_count": 9,
   "id": "a947cb788e147921",
   "metadata": {
    "ExecuteTime": {
     "end_time": "2024-05-14T08:07:37.464285Z",
     "start_time": "2024-05-14T08:07:37.461506Z"
    }
   },
   "source": [
    "CC = 10\n",
    "only_inner = True\n",
    "compensate_extra_cap = False\n",
    "only_renormalization = False\n",
    "C_mat = sq_ext.C_mat_qubit_C_qubit(CC, CR, CF, CR_prime, CF_prime, only_inner, compensate_extra_cap, only_renormalization)\n",
    "C_mat"
   ],
   "outputs": []
  },
  {
   "cell_type": "code",
   "execution_count": 10,
   "id": "3945cb5625265ae7",
   "metadata": {
    "ExecuteTime": {
     "end_time": "2024-05-14T08:07:42.529Z",
     "start_time": "2024-05-14T08:07:42.526531Z"
    }
   },
   "source": [
    "C_inv = np.linalg.inv(C_mat)\n",
    "C_inv"
   ],
   "outputs": []
  },
  {
   "cell_type": "code",
   "execution_count": 11,
   "id": "f3e4b3e8c80cc6fd",
   "metadata": {
    "ExecuteTime": {
     "end_time": "2024-05-14T08:22:09.531695Z",
     "start_time": "2024-05-14T08:22:09.529325Z"
    }
   },
   "source": [
    "CF_prime_tilde, CF_prime"
   ],
   "outputs": []
  },
  {
   "cell_type": "code",
   "execution_count": 59,
   "id": "52f12938d3c37e38",
   "metadata": {
    "ExecuteTime": {
     "end_time": "2024-05-14T08:07:43.241999Z",
     "start_time": "2024-05-14T08:07:43.226614Z"
    }
   },
   "source": [
    "CF_tilde = C_inv[0, 0] ** -1\n",
    "CR_tilde = C_inv[1, 1] ** -1\n",
    "CF_prime_tilde = C_inv[2, 2] ** -1\n",
    "CR_prime_tilde = C_inv[3, 3] ** -1\n",
    "fluxonium       = sq_ext.sq_fluxonium(C_F_eff=CF_tilde,       L_F_eff=LF,       Δ=Δ,       EJ=EJ,       nmax_f=nmax_f, φ_ext=φ_ext)\n",
    "resonator       = sq_ext.sq_resonator(C_R_eff=CR_tilde,       L_R_eff=LR,       Δ=Δ,       EJ=EJ,       nmax_r=nmax_r)\n",
    "fluxonium_prime = sq_ext.sq_fluxonium(C_F_eff=CF_prime_tilde, L_F_eff=LF_prime, Δ=Δ_prime, EJ=EJ_prime, nmax_f=nmax_f, φ_ext=φ_ext)\n",
    "resonator_prime = sq_ext.sq_resonator(C_R_eff=CR_prime_tilde, L_R_eff=LR_prime, Δ=Δ_prime, EJ=EJ_prime, nmax_r=nmax_r)\n",
    "fluxonium      .diag(2); \n",
    "resonator      .diag(2);\n",
    "fluxonium_prime.diag(2);\n",
    "resonator_prime.diag(2);"
   ],
   "outputs": []
  },
  {
   "cell_type": "code",
   "execution_count": 12,
   "id": "b57ccb6772d8649d",
   "metadata": {
    "ExecuteTime": {
     "end_time": "2024-05-14T08:07:43.842599Z",
     "start_time": "2024-05-14T08:07:43.840490Z"
    }
   },
   "source": [
    "# 0=F    1=R    2=Fp    3=Rp\n",
    "C_FR_inv    = C_inv[0,1] * fF**-1\n",
    "C_FFp_inv   = C_inv[0,2] * fF**-1\n",
    "C_FRp_inv   = C_inv[0,3] * fF**-1\n",
    "C_RRp_inv   = C_inv[1,3] * fF**-1\n",
    "C_FpRp_inv  = C_inv[2,3] * fF**-1"
   ],
   "outputs": []
  },
  {
   "cell_type": "code",
   "execution_count": null,
   "id": "5fe950d6",
   "metadata": {},
   "source": [],
   "outputs": []
  },
  {
   "cell_type": "code",
   "execution_count": 61,
   "id": "f1ec04ffc24cdc32",
   "metadata": {
    "ExecuteTime": {
     "end_time": "2024-05-14T08:07:44.221678Z",
     "start_time": "2024-05-14T08:07:44.218117Z"
    }
   },
   "source": [
    "qF  = np.abs( fluxonium       . charge_op(0,basis='eig')[0,1] )\n",
    "qR  = np.abs( resonator       . charge_op(0,basis='eig')[0,1] )\n",
    "qFp = np.abs( fluxonium_prime . charge_op(0,basis='eig')[0,1] )\n",
    "qRp = np.abs( resonator_prime . charge_op(0,basis='eig')[0,1] )"
   ],
   "outputs": []
  },
  {
   "cell_type": "code",
   "execution_count": 62,
   "id": "eb537914134ef57d",
   "metadata": {
    "ExecuteTime": {
     "end_time": "2024-05-14T08:07:44.681764Z",
     "start_time": "2024-05-14T08:07:44.679555Z"
    }
   },
   "source": [
    "E_Q_FR   = 0.5 * C_FR_inv   * qF  * qR  / 2 / np.pi / GHz\n",
    "E_Q_FFp  = 0.5 * C_FFp_inv  * qF  * qFp / 2 / np.pi / GHz\n",
    "E_Q_FRp  = 0.5 * C_FRp_inv  * qF  * qRp / 2 / np.pi / GHz\n",
    "E_Q_RRp  = 0.5 * C_RRp_inv  * qR  * qRp / 2 / np.pi / GHz\n",
    "E_Q_FpRp = 0.5 * C_FpRp_inv * qFp * qFp / 2 / np.pi / GHz"
   ],
   "outputs": []
  },
  {
   "cell_type": "code",
   "execution_count": 63,
   "id": "99b7d032b8e12c3",
   "metadata": {
    "ExecuteTime": {
     "end_time": "2024-05-14T08:07:45.070021Z",
     "start_time": "2024-05-14T08:07:45.067712Z"
    }
   },
   "source": [
    "E_Q_FR  , E_Q_FFp , E_Q_FRp , E_Q_RRp , E_Q_FpRp"
   ],
   "outputs": []
  },
  {
   "cell_type": "code",
   "execution_count": 64,
   "id": "ebd17b22ddf42aab",
   "metadata": {
    "ExecuteTime": {
     "end_time": "2024-05-14T08:07:45.448365Z",
     "start_time": "2024-05-14T08:07:45.445531Z"
    }
   },
   "source": [
    "E_F = fluxonium.efreqs[1] - fluxonium.efreqs[0] \n",
    "E_R = resonator.efreqs[1] - resonator.efreqs[0]\n",
    "E_Fp = fluxonium_prime.efreqs[1] - fluxonium_prime.efreqs[0]\n",
    "E_Rp = resonator_prime.efreqs[1] - resonator_prime.efreqs[0]\n",
    "E_F, E0_R, E0_Fp, E0_Rp"
   ],
   "outputs": []
  },
  {
   "cell_type": "code",
   "execution_count": 65,
   "id": "1cca72577f5afcf0",
   "metadata": {
    "ExecuteTime": {
     "end_time": "2024-05-14T08:07:47.544029Z",
     "start_time": "2024-05-14T08:07:47.541147Z"
    }
   },
   "source": [
    "ω_FR = np.abs(E0_F - E0_R)\n",
    "ω_FFp = np.abs(E0_F - E0_Fp)\n",
    "ω_FRp = np.abs(E0_F - E0_Rp)\n",
    "ω_RRp = np.abs(E0_R - E0_Rp)\n",
    "ω_FpRp = np.abs(E0_Fp - E0_Rp)\n",
    "ω_FR, ω0_FFp, ω0_FRp, ω0_RRp, ω0_FpRp"
   ],
   "outputs": []
  },
  {
   "cell_type": "code",
   "execution_count": null,
   "id": "69b152e4e3a8a446",
   "metadata": {},
   "source": [],
   "outputs": []
  }
 ],
 "metadata": {
  "kernelspec": {
   "display_name": "Python 3 (ipykernel)",
   "language": "python",
   "name": "python3"
  },
  "language_info": {
   "codemirror_mode": {
    "name": "ipython",
    "version": 3
   },
   "file_extension": ".py",
   "mimetype": "text/x-python",
   "name": "python",
   "nbconvert_exporter": "python",
   "pygments_lexer": "ipython3",
   "version": "3.8.17"
  }
 },
 "nbformat": 4,
 "nbformat_minor": 5
}
