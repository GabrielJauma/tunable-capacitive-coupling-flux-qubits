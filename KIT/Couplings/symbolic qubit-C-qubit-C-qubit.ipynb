{
 "cells": [
  {
   "metadata": {
    "ExecuteTime": {
     "end_time": "2024-06-26T12:08:27.549074Z",
     "start_time": "2024-06-26T12:08:27.547147Z"
    }
   },
   "cell_type": "code",
   "source": [
    "import sympy as sym\n",
    "import numpy as np\n",
    "np.set_printoptions(linewidth=200, formatter={'float': '{:.3e}'.format})\n",
    "import matplotlib.pyplot as plt"
   ],
   "outputs": [],
   "execution_count": 102
  },
  {
   "metadata": {},
   "cell_type": "code",
   "outputs": [],
   "execution_count": 116,
   "source": [
    "def approximate_Neumann_inversion(A,n):\n",
    "    I = sym.eye(A.shape[0])\n",
    "    A_inv_approx = sym.zeros(A.shape[0])\n",
    "    for i in range(n+1):\n",
    "        A_inv_approx += (I-A)**i\n",
    "    return A_inv_approx"
   ]
  },
  {
   "metadata": {},
   "cell_type": "code",
   "outputs": [],
   "execution_count": 159,
   "source": [
    "def approximate_taylor_inversion(D,R,ε,n):\n",
    "    \n",
    "    if n == 0:\n",
    "        return D ** -1\n",
    "    elif n == 1:\n",
    "        return D ** -1 - ε * R * D**-2\n",
    "    elif n == 2:\n",
    "        return D ** -1 - ε * R * D**-2 +  ε**2 * R*2 * D**-3\n",
    "        "
   ]
  },
  {
   "metadata": {},
   "cell_type": "code",
   "outputs": [],
   "execution_count": 210,
   "source": [
    "def block_inversion(M):\n",
    "    A = M[:3,:3]\n",
    "    D = M[3:,3:]\n",
    "    C = M[3:,:3]\n",
    "    A_inv = A**-1\n",
    "    print('Inverse A ready')\n",
    "    S = D - C * A_inv * C.T\n",
    "    S_inv = S**-1\n",
    "    print('Inverse S ready')\n",
    "    M_inv = sym.zeros(6)\n",
    "    M_inv[:3,:3] = A_inv + A_inv * C.T * S_inv * C * A_inv\n",
    "    M_inv[3:,3:] = S_inv\n",
    "    M_inv[3:,:3] = -S_inv * C * A_inv\n",
    "    M_inv[:3,3:] = -A_inv * C.T * S_inv\n",
    "    return M_inv"
   ]
  },
  {
   "metadata": {
    "ExecuteTime": {
     "end_time": "2024-06-26T12:08:27.748325Z",
     "start_time": "2024-06-26T12:08:27.746048Z"
    }
   },
   "cell_type": "code",
   "source": [
    "Φp_a, Φm_a, Φp_b, Φm_b, Φp_c, Φm_c = sym.symbols('\\dot{\\Phi}_{+A}, \\dot{\\Phi}_{-A}, '\n",
    "                                                 '\\dot{\\Phi}_{+B}, \\dot{\\Phi}_{-B}, '\n",
    "                                                 '\\dot{\\Phi}_{+C}, \\dot{\\Phi}_{-C}', real=True, positive=True, nonzero=True)\n",
    "Cp_a, Cm_a, Cp_b, Cm_b, Cp_c, Cm_c, Cc = sym.symbols(   'C_{+A}, C_{-A},'\n",
    "                                                        'C_{+B}, C_{-B},'\n",
    "                                                        'C_{+C}, C_{-C}, C_C', real=True, positive=True, nonzero=True)"
   ],
   "outputs": [],
   "execution_count": 103
  },
  {
   "metadata": {
    "ExecuteTime": {
     "end_time": "2024-06-26T12:08:27.917741Z",
     "start_time": "2024-06-26T12:08:27.915864Z"
    }
   },
   "cell_type": "code",
   "source": "Cp_a_val, Cm_a_val, Cp_b_val, Cm_b_val, Cp_c_val, Cm_c_val, Cc_val = [14,8,7,9,11,13,1]",
   "outputs": [],
   "execution_count": 104
  },
  {
   "metadata": {
    "ExecuteTime": {
     "end_time": "2024-06-26T12:08:28.073931Z",
     "start_time": "2024-06-26T12:08:28.071730Z"
    }
   },
   "cell_type": "code",
   "source": [
    "Φ_vec = sym.Matrix([Φp_a, Φm_a, Φp_b, Φm_b, Φp_c, Φm_c])\n",
    "C_vec = sym.Matrix([Cp_a, Cm_a, Cp_b, Cm_b, Cp_c, Cm_c])\n",
    "C_vec_simple = sym.Matrix([Cp_a, Cm_a, Cp_a, Cm_a, Cp_a, Cm_a])"
   ],
   "outputs": [],
   "execution_count": 105
  },
  {
   "metadata": {
    "ExecuteTime": {
     "end_time": "2024-06-26T12:08:28.242701Z",
     "start_time": "2024-06-26T12:08:28.239086Z"
    }
   },
   "cell_type": "code",
   "source": [
    "Φ1_a = 1/2*(Φp_a+Φm_a)\n",
    "Φ2_a = 1/2*(Φp_a-Φm_a)\n",
    "Φ1_b = 1/2*(Φp_b+Φm_b)\n",
    "Φ2_b = 1/2*(Φp_b-Φm_b)\n",
    "Φ1_c = 1/2*(Φp_c+Φm_c)\n",
    "Φ2_c = 1/2*(Φp_c-Φm_c)"
   ],
   "outputs": [],
   "execution_count": 106
  },
  {
   "metadata": {
    "ExecuteTime": {
     "end_time": "2024-06-26T12:08:28.442012Z",
     "start_time": "2024-06-26T12:08:28.439379Z"
    }
   },
   "cell_type": "code",
   "source": [
    "# Change of variables from (0,1) to (p,m)\n",
    "P1 = 0.5 *sym.Matrix([[1,  1  ,0  , 0  ,0  , 0  ],\n",
    "                      [1, -1  ,0  , 0  ,0  , 0  ],\n",
    "                      [0,  0  ,1  , 1  ,0  , 0  ],\n",
    "                      [0,  0  ,1  ,-1  ,0  , 0  ],\n",
    "                      [0,  0  ,0  ,0   ,1  , 1  ],\n",
    "                      [0,  0  ,0  ,0   ,1  ,-1  ]])"
   ],
   "outputs": [],
   "execution_count": 107
  },
  {
   "metadata": {},
   "cell_type": "markdown",
   "source": "## Asymmetric capacitive coupling between two unit cells (only inner nodes) "
  },
  {
   "metadata": {
    "ExecuteTime": {
     "end_time": "2024-06-26T12:08:28.969481Z",
     "start_time": "2024-06-26T12:08:28.963377Z"
    }
   },
   "cell_type": "code",
   "source": "0.5 * Cc * ( (Φ2_a-Φ1_b)**2 + (Φ1_c-Φ2_b)**2 )",
   "outputs": [
    {
     "data": {
      "text/plain": [
       "0.5*C_C*(0.25*(\\dot{\\Phi}_{+A} - \\dot{\\Phi}_{+B} - \\dot{\\Phi}_{-A} - \\dot{\\Phi}_{-B})**2 + 0.25*(-\\dot{\\Phi}_{+B} + \\dot{\\Phi}_{+C} + \\dot{\\Phi}_{-B} + \\dot{\\Phi}_{-C})**2)"
      ],
      "text/latex": "$\\displaystyle 0.5 C_{C} \\left(0.25 \\left(\\dot{\\Phi}_{+A} - \\dot{\\Phi}_{+B} - \\dot{\\Phi}_{-A} - \\dot{\\Phi}_{-B}\\right)^{2} + 0.25 \\left(- \\dot{\\Phi}_{+B} + \\dot{\\Phi}_{+C} + \\dot{\\Phi}_{-B} + \\dot{\\Phi}_{-C}\\right)^{2}\\right)$"
     },
     "execution_count": 108,
     "metadata": {},
     "output_type": "execute_result"
    }
   ],
   "execution_count": 108
  },
  {
   "metadata": {
    "ExecuteTime": {
     "end_time": "2024-06-26T12:08:29.253137Z",
     "start_time": "2024-06-26T12:08:29.250751Z"
    }
   },
   "cell_type": "code",
   "source": [
    "Cc_mat_01 = sym.Matrix([[0,  0  ,0  , 0  ,0  , 0  ],\n",
    "                       [0, Cc  ,-Cc, 0  ,0  , 0  ],\n",
    "                       [0,-Cc  ,Cc , 0  ,0  , 0  ],\n",
    "                       [0,  0  ,0  , Cc ,-Cc, 0  ],\n",
    "                       [0,  0  ,0  ,-Cc ,Cc , 0  ],\n",
    "                       [0,  0  ,0  ,0   ,0  , 0  ]])"
   ],
   "outputs": [],
   "execution_count": 109
  },
  {
   "metadata": {
    "ExecuteTime": {
     "end_time": "2024-06-26T12:08:29.523711Z",
     "start_time": "2024-06-26T12:08:29.516478Z"
    }
   },
   "cell_type": "code",
   "source": [
    "Cc_mat_pm = P1.T * Cc_mat_01 * P1\n",
    "Cc_mat_pm"
   ],
   "outputs": [
    {
     "data": {
      "text/plain": [
       "Matrix([\n",
       "[ 0.25*C_C, -0.25*C_C, -0.25*C_C, -0.25*C_C,         0,         0],\n",
       "[-0.25*C_C,  0.25*C_C,  0.25*C_C,  0.25*C_C,         0,         0],\n",
       "[-0.25*C_C,  0.25*C_C,   0.5*C_C,         0, -0.25*C_C, -0.25*C_C],\n",
       "[-0.25*C_C,  0.25*C_C,         0,   0.5*C_C,  0.25*C_C,  0.25*C_C],\n",
       "[        0,         0, -0.25*C_C,  0.25*C_C,  0.25*C_C,  0.25*C_C],\n",
       "[        0,         0, -0.25*C_C,  0.25*C_C,  0.25*C_C,  0.25*C_C]])"
      ],
      "text/latex": "$\\displaystyle \\left[\\begin{matrix}0.25 C_{C} & - 0.25 C_{C} & - 0.25 C_{C} & - 0.25 C_{C} & 0 & 0\\\\- 0.25 C_{C} & 0.25 C_{C} & 0.25 C_{C} & 0.25 C_{C} & 0 & 0\\\\- 0.25 C_{C} & 0.25 C_{C} & 0.5 C_{C} & 0 & - 0.25 C_{C} & - 0.25 C_{C}\\\\- 0.25 C_{C} & 0.25 C_{C} & 0 & 0.5 C_{C} & 0.25 C_{C} & 0.25 C_{C}\\\\0 & 0 & - 0.25 C_{C} & 0.25 C_{C} & 0.25 C_{C} & 0.25 C_{C}\\\\0 & 0 & - 0.25 C_{C} & 0.25 C_{C} & 0.25 C_{C} & 0.25 C_{C}\\end{matrix}\\right]$"
     },
     "execution_count": 110,
     "metadata": {},
     "output_type": "execute_result"
    }
   ],
   "execution_count": 110
  },
  {
   "metadata": {
    "ExecuteTime": {
     "end_time": "2024-06-26T12:08:30.027461Z",
     "start_time": "2024-06-26T12:08:29.932424Z"
    }
   },
   "cell_type": "code",
   "source": "sym.simplify( (Φ_vec.T * Cc_mat_pm * Φ_vec)[0] )",
   "outputs": [
    {
     "data": {
      "text/plain": [
       "C_C*(-0.25*\\dot{\\Phi}_{+A}*(-\\dot{\\Phi}_{+A} + \\dot{\\Phi}_{+B} + \\dot{\\Phi}_{-A} + \\dot{\\Phi}_{-B}) - \\dot{\\Phi}_{+B}*(0.25*\\dot{\\Phi}_{+A} - 0.5*\\dot{\\Phi}_{+B} + 0.25*\\dot{\\Phi}_{+C} - 0.25*\\dot{\\Phi}_{-A} + 0.25*\\dot{\\Phi}_{-C}) + 0.25*\\dot{\\Phi}_{+C}*(-\\dot{\\Phi}_{+B} + \\dot{\\Phi}_{+C} + \\dot{\\Phi}_{-B} + \\dot{\\Phi}_{-C}) + 0.25*\\dot{\\Phi}_{-A}*(-\\dot{\\Phi}_{+A} + \\dot{\\Phi}_{+B} + \\dot{\\Phi}_{-A} + \\dot{\\Phi}_{-B}) + \\dot{\\Phi}_{-B}*(-0.25*\\dot{\\Phi}_{+A} + 0.25*\\dot{\\Phi}_{+C} + 0.25*\\dot{\\Phi}_{-A} + 0.5*\\dot{\\Phi}_{-B} + 0.25*\\dot{\\Phi}_{-C}) + 0.25*\\dot{\\Phi}_{-C}*(-\\dot{\\Phi}_{+B} + \\dot{\\Phi}_{+C} + \\dot{\\Phi}_{-B} + \\dot{\\Phi}_{-C}))"
      ],
      "text/latex": "$\\displaystyle C_{C} \\left(- 0.25 \\dot{\\Phi}_{+A} \\left(- \\dot{\\Phi}_{+A} + \\dot{\\Phi}_{+B} + \\dot{\\Phi}_{-A} + \\dot{\\Phi}_{-B}\\right) - \\dot{\\Phi}_{+B} \\left(0.25 \\dot{\\Phi}_{+A} - 0.5 \\dot{\\Phi}_{+B} + 0.25 \\dot{\\Phi}_{+C} - 0.25 \\dot{\\Phi}_{-A} + 0.25 \\dot{\\Phi}_{-C}\\right) + 0.25 \\dot{\\Phi}_{+C} \\left(- \\dot{\\Phi}_{+B} + \\dot{\\Phi}_{+C} + \\dot{\\Phi}_{-B} + \\dot{\\Phi}_{-C}\\right) + 0.25 \\dot{\\Phi}_{-A} \\left(- \\dot{\\Phi}_{+A} + \\dot{\\Phi}_{+B} + \\dot{\\Phi}_{-A} + \\dot{\\Phi}_{-B}\\right) + \\dot{\\Phi}_{-B} \\left(- 0.25 \\dot{\\Phi}_{+A} + 0.25 \\dot{\\Phi}_{+C} + 0.25 \\dot{\\Phi}_{-A} + 0.5 \\dot{\\Phi}_{-B} + 0.25 \\dot{\\Phi}_{-C}\\right) + 0.25 \\dot{\\Phi}_{-C} \\left(- \\dot{\\Phi}_{+B} + \\dot{\\Phi}_{+C} + \\dot{\\Phi}_{-B} + \\dot{\\Phi}_{-C}\\right)\\right)$"
     },
     "execution_count": 111,
     "metadata": {},
     "output_type": "execute_result"
    }
   ],
   "execution_count": 111
  },
  {
   "metadata": {
    "ExecuteTime": {
     "end_time": "2024-06-26T12:08:30.229886Z",
     "start_time": "2024-06-26T12:08:30.175015Z"
    }
   },
   "cell_type": "code",
   "source": "sym.simplify( (0.5 * Φ_vec.T * Cc_mat_pm * Φ_vec)[0] - 0.5 * Cc * ( (Φ2_a-Φ1_b)**2 + (Φ1_c-Φ2_b)**2 ))",
   "outputs": [
    {
     "data": {
      "text/plain": [
       "0"
      ],
      "text/latex": "$\\displaystyle 0$"
     },
     "execution_count": 112,
     "metadata": {},
     "output_type": "execute_result"
    }
   ],
   "execution_count": 112
  },
  {
   "metadata": {
    "ExecuteTime": {
     "end_time": "2024-06-26T12:52:51.070738Z",
     "start_time": "2024-06-26T12:52:51.068672Z"
    }
   },
   "cell_type": "code",
   "source": [
    "C0_mat_pm = sym.diag(*C_vec)\n",
    "C0_mat_pm_simple = sym.diag(*C_vec_simple)"
   ],
   "outputs": [],
   "execution_count": 226
  },
  {
   "metadata": {
    "ExecuteTime": {
     "end_time": "2024-06-26T12:52:51.323190Z",
     "start_time": "2024-06-26T12:52:51.321062Z"
    }
   },
   "cell_type": "code",
   "source": [
    "C_mat_pm = C0_mat_pm + Cc_mat_pm\n",
    "C_mat_pm_simple = C0_mat_pm_simple + Cc_mat_pm"
   ],
   "outputs": [],
   "execution_count": 227
  },
  {
   "metadata": {
    "ExecuteTime": {
     "end_time": "2024-06-26T12:49:35.541773Z",
     "start_time": "2024-06-26T12:49:35.532638Z"
    }
   },
   "cell_type": "code",
   "source": [
    "C_mat_pm_inv_approx = approximate_Neumann_inversion(C_mat_pm/Cp_a,1)\n",
    "C_mat_pm_inv_approx_num = np.array( (Cp_a*C_mat_pm_inv_approx).subs({Cp_a:Cp_a_val, Cm_a:Cm_a_val, Cp_b:Cp_b_val, Cm_b:Cm_b_val, Cp_c:Cp_c_val, Cm_c:Cm_c_val, Cc:Cc_val }).evalf() ).astype('float')"
   ],
   "outputs": [],
   "execution_count": 211
  },
  {
   "metadata": {
    "ExecuteTime": {
     "end_time": "2024-06-26T12:49:35.886400Z",
     "start_time": "2024-06-26T12:49:35.883015Z"
    }
   },
   "cell_type": "code",
   "source": [
    "D = sym.diag(*C_mat_pm.diagonal())\n",
    "R = C_mat_pm - D\n",
    "R /= Cc\n",
    "D /= Cp_a\n",
    "ε = Cc / Cp_a"
   ],
   "outputs": [],
   "execution_count": 212
  },
  {
   "metadata": {
    "ExecuteTime": {
     "end_time": "2024-06-26T12:21:25.568191Z",
     "start_time": "2024-06-26T12:21:25.560204Z"
    }
   },
   "cell_type": "code",
   "source": [
    "C_mat_pm_inv_approx = approximate_taylor_inversion(D,R,ε,1)\n",
    "C_mat_pm_inv_approx_num = np.array( (Cp_a*C_mat_pm_inv_approx).subs({Cp_a:Cp_a_val, Cm_a:Cm_a_val, Cp_b:Cp_b_val, Cm_b:Cm_b_val, Cp_c:Cp_c_val, Cm_c:Cm_c_val, Cc:Cc_val }).evalf() ).astype('float')"
   ],
   "outputs": [],
   "execution_count": 156
  },
  {
   "metadata": {
    "ExecuteTime": {
     "end_time": "2024-06-26T12:49:58.516964Z",
     "start_time": "2024-06-26T12:49:39.195607Z"
    }
   },
   "cell_type": "code",
   "source": [
    "C_mat_pm_inv_approx = block_inversion(C_mat_pm)\n",
    "C_mat_pm_inv_approx_num = np.array( (Cp_a*C_mat_pm_inv_approx).subs({Cp_a:Cp_a_val, Cm_a:Cm_a_val, Cp_b:Cp_b_val, Cm_b:Cm_b_val, Cp_c:Cp_c_val, Cm_c:Cm_c_val, Cc:Cc_val }).evalf() ).astype('float')"
   ],
   "outputs": [
    {
     "name": "stdout",
     "output_type": "stream",
     "text": [
      "Inverse A ready\n"
     ]
    },
    {
     "ename": "KeyboardInterrupt",
     "evalue": "",
     "output_type": "error",
     "traceback": [
      "\u001B[0;31m---------------------------------------------------------------------------\u001B[0m",
      "\u001B[0;31mTypeError\u001B[0m                                 Traceback (most recent call last)",
      "File \u001B[0;32m~/anaconda3/envs/tunable-cc/lib/python3.8/site-packages/sympy/utilities/iterables.py:2948\u001B[0m, in \u001B[0;36miterable\u001B[0;34m(i, exclude)\u001B[0m\n\u001B[1;32m   2947\u001B[0m \u001B[38;5;28;01mtry\u001B[39;00m:\n\u001B[0;32m-> 2948\u001B[0m     \u001B[38;5;28;43miter\u001B[39;49m\u001B[43m(\u001B[49m\u001B[43mi\u001B[49m\u001B[43m)\u001B[49m\n\u001B[1;32m   2949\u001B[0m \u001B[38;5;28;01mexcept\u001B[39;00m \u001B[38;5;167;01mTypeError\u001B[39;00m:\n",
      "\u001B[0;31mTypeError\u001B[0m: 'Integer' object is not iterable",
      "\nDuring handling of the above exception, another exception occurred:\n",
      "\u001B[0;31mKeyboardInterrupt\u001B[0m                         Traceback (most recent call last)",
      "Cell \u001B[0;32mIn[213], line 1\u001B[0m\n\u001B[0;32m----> 1\u001B[0m C_mat_pm_inv_approx \u001B[38;5;241m=\u001B[39m \u001B[43mblock_inversion\u001B[49m\u001B[43m(\u001B[49m\u001B[43mC_mat_pm\u001B[49m\u001B[43m)\u001B[49m\n\u001B[1;32m      2\u001B[0m C_mat_pm_inv_approx_num \u001B[38;5;241m=\u001B[39m np\u001B[38;5;241m.\u001B[39marray( (Cp_a\u001B[38;5;241m*\u001B[39mC_mat_pm_inv_approx)\u001B[38;5;241m.\u001B[39msubs({Cp_a:Cp_a_val, Cm_a:Cm_a_val, Cp_b:Cp_b_val, Cm_b:Cm_b_val, Cp_c:Cp_c_val, Cm_c:Cm_c_val, Cc:Cc_val })\u001B[38;5;241m.\u001B[39mevalf() )\u001B[38;5;241m.\u001B[39mastype(\u001B[38;5;124m'\u001B[39m\u001B[38;5;124mfloat\u001B[39m\u001B[38;5;124m'\u001B[39m)\n",
      "Cell \u001B[0;32mIn[210], line 8\u001B[0m, in \u001B[0;36mblock_inversion\u001B[0;34m(M)\u001B[0m\n\u001B[1;32m      6\u001B[0m \u001B[38;5;28mprint\u001B[39m(\u001B[38;5;124m'\u001B[39m\u001B[38;5;124mInverse A ready\u001B[39m\u001B[38;5;124m'\u001B[39m)\n\u001B[1;32m      7\u001B[0m S \u001B[38;5;241m=\u001B[39m D \u001B[38;5;241m-\u001B[39m C \u001B[38;5;241m*\u001B[39m A_inv \u001B[38;5;241m*\u001B[39m C\u001B[38;5;241m.\u001B[39mT\n\u001B[0;32m----> 8\u001B[0m S_inv \u001B[38;5;241m=\u001B[39m \u001B[43mS\u001B[49m\u001B[38;5;241;43m*\u001B[39;49m\u001B[38;5;241;43m*\u001B[39;49m\u001B[38;5;241;43m-\u001B[39;49m\u001B[38;5;241;43m1\u001B[39;49m\n\u001B[1;32m      9\u001B[0m \u001B[38;5;28mprint\u001B[39m(\u001B[38;5;124m'\u001B[39m\u001B[38;5;124mInverse S ready\u001B[39m\u001B[38;5;124m'\u001B[39m)\n\u001B[1;32m     10\u001B[0m M_inv \u001B[38;5;241m=\u001B[39m sym\u001B[38;5;241m.\u001B[39mzeros(\u001B[38;5;241m6\u001B[39m)\n",
      "File \u001B[0;32m~/anaconda3/envs/tunable-cc/lib/python3.8/site-packages/sympy/core/decorators.py:106\u001B[0m, in \u001B[0;36mcall_highest_priority.<locals>.priority_decorator.<locals>.binary_op_wrapper\u001B[0;34m(self, other)\u001B[0m\n\u001B[1;32m    104\u001B[0m         \u001B[38;5;28;01mif\u001B[39;00m f \u001B[38;5;129;01mis\u001B[39;00m \u001B[38;5;129;01mnot\u001B[39;00m \u001B[38;5;28;01mNone\u001B[39;00m:\n\u001B[1;32m    105\u001B[0m             \u001B[38;5;28;01mreturn\u001B[39;00m f(\u001B[38;5;28mself\u001B[39m)\n\u001B[0;32m--> 106\u001B[0m \u001B[38;5;28;01mreturn\u001B[39;00m \u001B[43mfunc\u001B[49m\u001B[43m(\u001B[49m\u001B[38;5;28;43mself\u001B[39;49m\u001B[43m,\u001B[49m\u001B[43m \u001B[49m\u001B[43mother\u001B[49m\u001B[43m)\u001B[49m\n",
      "File \u001B[0;32m~/anaconda3/envs/tunable-cc/lib/python3.8/site-packages/sympy/matrices/common.py:2849\u001B[0m, in \u001B[0;36mMatrixArithmetic.__pow__\u001B[0;34m(self, exp)\u001B[0m\n\u001B[1;32m   2845\u001B[0m \u001B[38;5;129m@call_highest_priority\u001B[39m(\u001B[38;5;124m'\u001B[39m\u001B[38;5;124m__rpow__\u001B[39m\u001B[38;5;124m'\u001B[39m)\n\u001B[1;32m   2846\u001B[0m \u001B[38;5;28;01mdef\u001B[39;00m \u001B[38;5;21m__pow__\u001B[39m(\u001B[38;5;28mself\u001B[39m, exp):\n\u001B[1;32m   2847\u001B[0m \u001B[38;5;250m    \u001B[39m\u001B[38;5;124;03m\"\"\"Return self**exp a scalar or symbol.\"\"\"\u001B[39;00m\n\u001B[0;32m-> 2849\u001B[0m     \u001B[38;5;28;01mreturn\u001B[39;00m \u001B[38;5;28;43mself\u001B[39;49m\u001B[38;5;241;43m.\u001B[39;49m\u001B[43mpow\u001B[49m\u001B[43m(\u001B[49m\u001B[43mexp\u001B[49m\u001B[43m)\u001B[49m\n",
      "File \u001B[0;32m~/anaconda3/envs/tunable-cc/lib/python3.8/site-packages/sympy/matrices/common.py:2893\u001B[0m, in \u001B[0;36mMatrixArithmetic.pow\u001B[0;34m(self, exp, method)\u001B[0m\n\u001B[1;32m   2891\u001B[0m     \u001B[38;5;28;01mif\u001B[39;00m exp \u001B[38;5;241m<\u001B[39m \u001B[38;5;241m0\u001B[39m:\n\u001B[1;32m   2892\u001B[0m         exp \u001B[38;5;241m=\u001B[39m \u001B[38;5;241m-\u001B[39mexp\n\u001B[0;32m-> 2893\u001B[0m         a \u001B[38;5;241m=\u001B[39m \u001B[43ma\u001B[49m\u001B[38;5;241;43m.\u001B[39;49m\u001B[43minv\u001B[49m\u001B[43m(\u001B[49m\u001B[43m)\u001B[49m\n\u001B[1;32m   2894\u001B[0m \u001B[38;5;66;03m# When certain conditions are met,\u001B[39;00m\n\u001B[1;32m   2895\u001B[0m \u001B[38;5;66;03m# Jordan block algorithm is faster than\u001B[39;00m\n\u001B[1;32m   2896\u001B[0m \u001B[38;5;66;03m# computation by recursion.\u001B[39;00m\n\u001B[1;32m   2897\u001B[0m \u001B[38;5;28;01mif\u001B[39;00m method \u001B[38;5;241m==\u001B[39m \u001B[38;5;124m'\u001B[39m\u001B[38;5;124mjordan\u001B[39m\u001B[38;5;124m'\u001B[39m:\n",
      "File \u001B[0;32m~/anaconda3/envs/tunable-cc/lib/python3.8/site-packages/sympy/matrices/matrices.py:2219\u001B[0m, in \u001B[0;36mMatrixBase.inv\u001B[0;34m(self, method, iszerofunc, try_block_diag)\u001B[0m\n\u001B[1;32m   2218\u001B[0m \u001B[38;5;28;01mdef\u001B[39;00m \u001B[38;5;21minv\u001B[39m(\u001B[38;5;28mself\u001B[39m, method\u001B[38;5;241m=\u001B[39m\u001B[38;5;28;01mNone\u001B[39;00m, iszerofunc\u001B[38;5;241m=\u001B[39m_iszero, try_block_diag\u001B[38;5;241m=\u001B[39m\u001B[38;5;28;01mFalse\u001B[39;00m):\n\u001B[0;32m-> 2219\u001B[0m     \u001B[38;5;28;01mreturn\u001B[39;00m \u001B[43m_inv\u001B[49m\u001B[43m(\u001B[49m\u001B[38;5;28;43mself\u001B[39;49m\u001B[43m,\u001B[49m\u001B[43m \u001B[49m\u001B[43mmethod\u001B[49m\u001B[38;5;241;43m=\u001B[39;49m\u001B[43mmethod\u001B[49m\u001B[43m,\u001B[49m\u001B[43m \u001B[49m\u001B[43miszerofunc\u001B[49m\u001B[38;5;241;43m=\u001B[39;49m\u001B[43miszerofunc\u001B[49m\u001B[43m,\u001B[49m\n\u001B[1;32m   2220\u001B[0m \u001B[43m            \u001B[49m\u001B[43mtry_block_diag\u001B[49m\u001B[38;5;241;43m=\u001B[39;49m\u001B[43mtry_block_diag\u001B[49m\u001B[43m)\u001B[49m\n",
      "File \u001B[0;32m~/anaconda3/envs/tunable-cc/lib/python3.8/site-packages/sympy/matrices/inverse.py:459\u001B[0m, in \u001B[0;36m_inv\u001B[0;34m(M, method, iszerofunc, try_block_diag)\u001B[0m\n\u001B[1;32m    456\u001B[0m     \u001B[38;5;28;01mreturn\u001B[39;00m diag(\u001B[38;5;241m*\u001B[39mr)\n\u001B[1;32m    458\u001B[0m \u001B[38;5;28;01mif\u001B[39;00m method \u001B[38;5;241m==\u001B[39m \u001B[38;5;124m\"\u001B[39m\u001B[38;5;124mGE\u001B[39m\u001B[38;5;124m\"\u001B[39m:\n\u001B[0;32m--> 459\u001B[0m     rv \u001B[38;5;241m=\u001B[39m \u001B[43mM\u001B[49m\u001B[38;5;241;43m.\u001B[39;49m\u001B[43minverse_GE\u001B[49m\u001B[43m(\u001B[49m\u001B[43miszerofunc\u001B[49m\u001B[38;5;241;43m=\u001B[39;49m\u001B[43miszerofunc\u001B[49m\u001B[43m)\u001B[49m\n\u001B[1;32m    460\u001B[0m \u001B[38;5;28;01melif\u001B[39;00m method \u001B[38;5;241m==\u001B[39m \u001B[38;5;124m\"\u001B[39m\u001B[38;5;124mLU\u001B[39m\u001B[38;5;124m\"\u001B[39m:\n\u001B[1;32m    461\u001B[0m     rv \u001B[38;5;241m=\u001B[39m M\u001B[38;5;241m.\u001B[39minverse_LU(iszerofunc\u001B[38;5;241m=\u001B[39miszerofunc)\n",
      "File \u001B[0;32m~/anaconda3/envs/tunable-cc/lib/python3.8/site-packages/sympy/matrices/matrices.py:2204\u001B[0m, in \u001B[0;36mMatrixBase.inverse_GE\u001B[0;34m(self, iszerofunc)\u001B[0m\n\u001B[1;32m   2203\u001B[0m \u001B[38;5;28;01mdef\u001B[39;00m \u001B[38;5;21minverse_GE\u001B[39m(\u001B[38;5;28mself\u001B[39m, iszerofunc\u001B[38;5;241m=\u001B[39m_iszero):\n\u001B[0;32m-> 2204\u001B[0m     \u001B[38;5;28;01mreturn\u001B[39;00m \u001B[43m_inv_GE\u001B[49m\u001B[43m(\u001B[49m\u001B[38;5;28;43mself\u001B[39;49m\u001B[43m,\u001B[49m\u001B[43m \u001B[49m\u001B[43miszerofunc\u001B[49m\u001B[38;5;241;43m=\u001B[39;49m\u001B[43miszerofunc\u001B[49m\u001B[43m)\u001B[49m\n",
      "File \u001B[0;32m~/anaconda3/envs/tunable-cc/lib/python3.8/site-packages/sympy/matrices/inverse.py:242\u001B[0m, in \u001B[0;36m_inv_GE\u001B[0;34m(M, iszerofunc)\u001B[0m\n\u001B[1;32m    239\u001B[0m     \u001B[38;5;28;01mraise\u001B[39;00m NonSquareMatrixError(\u001B[38;5;124m\"\u001B[39m\u001B[38;5;124mA Matrix must be square to invert.\u001B[39m\u001B[38;5;124m\"\u001B[39m)\n\u001B[1;32m    241\u001B[0m big \u001B[38;5;241m=\u001B[39m Matrix\u001B[38;5;241m.\u001B[39mhstack(M\u001B[38;5;241m.\u001B[39mas_mutable(), Matrix\u001B[38;5;241m.\u001B[39meye(M\u001B[38;5;241m.\u001B[39mrows))\n\u001B[0;32m--> 242\u001B[0m red \u001B[38;5;241m=\u001B[39m \u001B[43mbig\u001B[49m\u001B[38;5;241;43m.\u001B[39;49m\u001B[43mrref\u001B[49m\u001B[43m(\u001B[49m\u001B[43miszerofunc\u001B[49m\u001B[38;5;241;43m=\u001B[39;49m\u001B[43miszerofunc\u001B[49m\u001B[43m,\u001B[49m\u001B[43m \u001B[49m\u001B[43msimplify\u001B[49m\u001B[38;5;241;43m=\u001B[39;49m\u001B[38;5;28;43;01mTrue\u001B[39;49;00m\u001B[43m)\u001B[49m[\u001B[38;5;241m0\u001B[39m]\n\u001B[1;32m    244\u001B[0m \u001B[38;5;28;01mif\u001B[39;00m \u001B[38;5;28many\u001B[39m(iszerofunc(red[j, j]) \u001B[38;5;28;01mfor\u001B[39;00m j \u001B[38;5;129;01min\u001B[39;00m \u001B[38;5;28mrange\u001B[39m(red\u001B[38;5;241m.\u001B[39mrows)):\n\u001B[1;32m    245\u001B[0m     \u001B[38;5;28;01mraise\u001B[39;00m NonInvertibleMatrixError(\u001B[38;5;124m\"\u001B[39m\u001B[38;5;124mMatrix det == 0; not invertible.\u001B[39m\u001B[38;5;124m\"\u001B[39m)\n",
      "File \u001B[0;32m~/anaconda3/envs/tunable-cc/lib/python3.8/site-packages/sympy/matrices/matrices.py:174\u001B[0m, in \u001B[0;36mMatrixReductions.rref\u001B[0;34m(self, iszerofunc, simplify, pivots, normalize_last)\u001B[0m\n\u001B[1;32m    172\u001B[0m \u001B[38;5;28;01mdef\u001B[39;00m \u001B[38;5;21mrref\u001B[39m(\u001B[38;5;28mself\u001B[39m, iszerofunc\u001B[38;5;241m=\u001B[39m_iszero, simplify\u001B[38;5;241m=\u001B[39m\u001B[38;5;28;01mFalse\u001B[39;00m, pivots\u001B[38;5;241m=\u001B[39m\u001B[38;5;28;01mTrue\u001B[39;00m,\n\u001B[1;32m    173\u001B[0m         normalize_last\u001B[38;5;241m=\u001B[39m\u001B[38;5;28;01mTrue\u001B[39;00m):\n\u001B[0;32m--> 174\u001B[0m     \u001B[38;5;28;01mreturn\u001B[39;00m \u001B[43m_rref\u001B[49m\u001B[43m(\u001B[49m\u001B[38;5;28;43mself\u001B[39;49m\u001B[43m,\u001B[49m\u001B[43m \u001B[49m\u001B[43miszerofunc\u001B[49m\u001B[38;5;241;43m=\u001B[39;49m\u001B[43miszerofunc\u001B[49m\u001B[43m,\u001B[49m\u001B[43m \u001B[49m\u001B[43msimplify\u001B[49m\u001B[38;5;241;43m=\u001B[39;49m\u001B[43msimplify\u001B[49m\u001B[43m,\u001B[49m\n\u001B[1;32m    175\u001B[0m \u001B[43m        \u001B[49m\u001B[43mpivots\u001B[49m\u001B[38;5;241;43m=\u001B[39;49m\u001B[43mpivots\u001B[49m\u001B[43m,\u001B[49m\u001B[43m \u001B[49m\u001B[43mnormalize_last\u001B[49m\u001B[38;5;241;43m=\u001B[39;49m\u001B[43mnormalize_last\u001B[49m\u001B[43m)\u001B[49m\n",
      "File \u001B[0;32m~/anaconda3/envs/tunable-cc/lib/python3.8/site-packages/sympy/matrices/reductions.py:320\u001B[0m, in \u001B[0;36m_rref\u001B[0;34m(M, iszerofunc, simplify, pivots, normalize_last)\u001B[0m\n\u001B[1;32m    247\u001B[0m \u001B[38;5;250m\u001B[39m\u001B[38;5;124;03m\"\"\"Return reduced row-echelon form of matrix and indices of pivot vars.\u001B[39;00m\n\u001B[1;32m    248\u001B[0m \n\u001B[1;32m    249\u001B[0m \u001B[38;5;124;03mParameters\u001B[39;00m\n\u001B[0;32m   (...)\u001B[0m\n\u001B[1;32m    315\u001B[0m \u001B[38;5;124;03mof the matrix, set ``noramlize_last=False``\u001B[39;00m\n\u001B[1;32m    316\u001B[0m \u001B[38;5;124;03m\"\"\"\u001B[39;00m\n\u001B[1;32m    318\u001B[0m simpfunc \u001B[38;5;241m=\u001B[39m simplify \u001B[38;5;28;01mif\u001B[39;00m \u001B[38;5;28misinstance\u001B[39m(simplify, FunctionType) \u001B[38;5;28;01melse\u001B[39;00m _simplify\n\u001B[0;32m--> 320\u001B[0m mat, pivot_cols, _ \u001B[38;5;241m=\u001B[39m \u001B[43m_row_reduce\u001B[49m\u001B[43m(\u001B[49m\u001B[43mM\u001B[49m\u001B[43m,\u001B[49m\u001B[43m \u001B[49m\u001B[43miszerofunc\u001B[49m\u001B[43m,\u001B[49m\u001B[43m \u001B[49m\u001B[43msimpfunc\u001B[49m\u001B[43m,\u001B[49m\n\u001B[1;32m    321\u001B[0m \u001B[43m        \u001B[49m\u001B[43mnormalize_last\u001B[49m\u001B[43m,\u001B[49m\u001B[43m \u001B[49m\u001B[43mnormalize\u001B[49m\u001B[38;5;241;43m=\u001B[39;49m\u001B[38;5;28;43;01mTrue\u001B[39;49;00m\u001B[43m,\u001B[49m\u001B[43m \u001B[49m\u001B[43mzero_above\u001B[49m\u001B[38;5;241;43m=\u001B[39;49m\u001B[38;5;28;43;01mTrue\u001B[39;49;00m\u001B[43m)\u001B[49m\n\u001B[1;32m    323\u001B[0m \u001B[38;5;28;01mif\u001B[39;00m pivots:\n\u001B[1;32m    324\u001B[0m     mat \u001B[38;5;241m=\u001B[39m (mat, pivot_cols)\n",
      "File \u001B[0;32m~/anaconda3/envs/tunable-cc/lib/python3.8/site-packages/sympy/matrices/reductions.py:124\u001B[0m, in \u001B[0;36m_row_reduce\u001B[0;34m(M, iszerofunc, simpfunc, normalize_last, normalize, zero_above)\u001B[0m\n\u001B[1;32m    121\u001B[0m \u001B[38;5;28;01mdef\u001B[39;00m \u001B[38;5;21m_row_reduce\u001B[39m(M, iszerofunc, simpfunc, normalize_last\u001B[38;5;241m=\u001B[39m\u001B[38;5;28;01mTrue\u001B[39;00m,\n\u001B[1;32m    122\u001B[0m                 normalize\u001B[38;5;241m=\u001B[39m\u001B[38;5;28;01mTrue\u001B[39;00m, zero_above\u001B[38;5;241m=\u001B[39m\u001B[38;5;28;01mTrue\u001B[39;00m):\n\u001B[0;32m--> 124\u001B[0m     mat, pivot_cols, swaps \u001B[38;5;241m=\u001B[39m \u001B[43m_row_reduce_list\u001B[49m\u001B[43m(\u001B[49m\u001B[38;5;28;43mlist\u001B[39;49m\u001B[43m(\u001B[49m\u001B[43mM\u001B[49m\u001B[43m)\u001B[49m\u001B[43m,\u001B[49m\u001B[43m \u001B[49m\u001B[43mM\u001B[49m\u001B[38;5;241;43m.\u001B[39;49m\u001B[43mrows\u001B[49m\u001B[43m,\u001B[49m\u001B[43m \u001B[49m\u001B[43mM\u001B[49m\u001B[38;5;241;43m.\u001B[39;49m\u001B[43mcols\u001B[49m\u001B[43m,\u001B[49m\u001B[43m \u001B[49m\u001B[43mM\u001B[49m\u001B[38;5;241;43m.\u001B[39;49m\u001B[43mone\u001B[49m\u001B[43m,\u001B[49m\n\u001B[1;32m    125\u001B[0m \u001B[43m            \u001B[49m\u001B[43miszerofunc\u001B[49m\u001B[43m,\u001B[49m\u001B[43m \u001B[49m\u001B[43msimpfunc\u001B[49m\u001B[43m,\u001B[49m\u001B[43m \u001B[49m\u001B[43mnormalize_last\u001B[49m\u001B[38;5;241;43m=\u001B[39;49m\u001B[43mnormalize_last\u001B[49m\u001B[43m,\u001B[49m\n\u001B[1;32m    126\u001B[0m \u001B[43m            \u001B[49m\u001B[43mnormalize\u001B[49m\u001B[38;5;241;43m=\u001B[39;49m\u001B[43mnormalize\u001B[49m\u001B[43m,\u001B[49m\u001B[43m \u001B[49m\u001B[43mzero_above\u001B[49m\u001B[38;5;241;43m=\u001B[39;49m\u001B[43mzero_above\u001B[49m\u001B[43m)\u001B[49m\n\u001B[1;32m    128\u001B[0m     \u001B[38;5;28;01mreturn\u001B[39;00m M\u001B[38;5;241m.\u001B[39m_new(M\u001B[38;5;241m.\u001B[39mrows, M\u001B[38;5;241m.\u001B[39mcols, mat), pivot_cols, swaps\n",
      "File \u001B[0;32m~/anaconda3/envs/tunable-cc/lib/python3.8/site-packages/sympy/matrices/reductions.py:106\u001B[0m, in \u001B[0;36m_row_reduce_list\u001B[0;34m(mat, rows, cols, one, iszerofunc, simpfunc, normalize_last, normalize, zero_above)\u001B[0m\n\u001B[1;32m    103\u001B[0m         \u001B[38;5;28;01mif\u001B[39;00m iszerofunc(val):\n\u001B[1;32m    104\u001B[0m             \u001B[38;5;28;01mcontinue\u001B[39;00m\n\u001B[0;32m--> 106\u001B[0m         \u001B[43mcross_cancel\u001B[49m\u001B[43m(\u001B[49m\u001B[43mpivot_val\u001B[49m\u001B[43m,\u001B[49m\u001B[43m \u001B[49m\u001B[43mrow\u001B[49m\u001B[43m,\u001B[49m\u001B[43m \u001B[49m\u001B[43mval\u001B[49m\u001B[43m,\u001B[49m\u001B[43m \u001B[49m\u001B[43mpiv_row\u001B[49m\u001B[43m)\u001B[49m\n\u001B[1;32m    107\u001B[0m     piv_row \u001B[38;5;241m+\u001B[39m\u001B[38;5;241m=\u001B[39m \u001B[38;5;241m1\u001B[39m\n\u001B[1;32m    109\u001B[0m \u001B[38;5;66;03m# normalize each row\u001B[39;00m\n",
      "File \u001B[0;32m~/anaconda3/envs/tunable-cc/lib/python3.8/site-packages/sympy/matrices/reductions.py:55\u001B[0m, in \u001B[0;36m_row_reduce_list.<locals>.cross_cancel\u001B[0;34m(a, i, b, j)\u001B[0m\n\u001B[1;32m     53\u001B[0m q \u001B[38;5;241m=\u001B[39m (j \u001B[38;5;241m-\u001B[39m i)\u001B[38;5;241m*\u001B[39mcols\n\u001B[1;32m     54\u001B[0m \u001B[38;5;28;01mfor\u001B[39;00m p \u001B[38;5;129;01min\u001B[39;00m \u001B[38;5;28mrange\u001B[39m(i\u001B[38;5;241m*\u001B[39mcols, (i \u001B[38;5;241m+\u001B[39m \u001B[38;5;241m1\u001B[39m)\u001B[38;5;241m*\u001B[39mcols):\n\u001B[0;32m---> 55\u001B[0m     mat[p] \u001B[38;5;241m=\u001B[39m \u001B[43misimp\u001B[49m\u001B[43m(\u001B[49m\u001B[43ma\u001B[49m\u001B[38;5;241;43m*\u001B[39;49m\u001B[43mmat\u001B[49m\u001B[43m[\u001B[49m\u001B[43mp\u001B[49m\u001B[43m]\u001B[49m\u001B[43m \u001B[49m\u001B[38;5;241;43m-\u001B[39;49m\u001B[43m \u001B[49m\u001B[43mb\u001B[49m\u001B[38;5;241;43m*\u001B[39;49m\u001B[43mmat\u001B[49m\u001B[43m[\u001B[49m\u001B[43mp\u001B[49m\u001B[43m \u001B[49m\u001B[38;5;241;43m+\u001B[39;49m\u001B[43m \u001B[49m\u001B[43mq\u001B[49m\u001B[43m]\u001B[49m\u001B[43m)\u001B[49m\n",
      "File \u001B[0;32m~/anaconda3/envs/tunable-cc/lib/python3.8/site-packages/sympy/matrices/utilities.py:27\u001B[0m, in \u001B[0;36m_dotprodsimp\u001B[0;34m(expr, withsimp)\u001B[0m\n\u001B[1;32m     25\u001B[0m \u001B[38;5;250m\u001B[39m\u001B[38;5;124;03m\"\"\"Wrapper for simplify.dotprodsimp to avoid circular imports.\"\"\"\u001B[39;00m\n\u001B[1;32m     26\u001B[0m \u001B[38;5;28;01mfrom\u001B[39;00m \u001B[38;5;21;01msympy\u001B[39;00m\u001B[38;5;21;01m.\u001B[39;00m\u001B[38;5;21;01msimplify\u001B[39;00m\u001B[38;5;21;01m.\u001B[39;00m\u001B[38;5;21;01msimplify\u001B[39;00m \u001B[38;5;28;01mimport\u001B[39;00m dotprodsimp \u001B[38;5;28;01mas\u001B[39;00m dps\n\u001B[0;32m---> 27\u001B[0m \u001B[38;5;28;01mreturn\u001B[39;00m \u001B[43mdps\u001B[49m\u001B[43m(\u001B[49m\u001B[43mexpr\u001B[49m\u001B[43m,\u001B[49m\u001B[43m \u001B[49m\u001B[43mwithsimp\u001B[49m\u001B[38;5;241;43m=\u001B[39;49m\u001B[43mwithsimp\u001B[49m\u001B[43m)\u001B[49m\n",
      "File \u001B[0;32m~/anaconda3/envs/tunable-cc/lib/python3.8/site-packages/sympy/simplify/simplify.py:2093\u001B[0m, in \u001B[0;36mdotprodsimp\u001B[0;34m(expr, withsimp)\u001B[0m\n\u001B[1;32m   2090\u001B[0m expr2   \u001B[38;5;241m=\u001B[39m nonalg_subs_dummies(expr, dummies)\n\u001B[1;32m   2092\u001B[0m \u001B[38;5;28;01mif\u001B[39;00m expr2 \u001B[38;5;129;01mis\u001B[39;00m expr \u001B[38;5;129;01mor\u001B[39;00m count_ops_alg(expr2)[\u001B[38;5;241m0\u001B[39m] \u001B[38;5;241m>\u001B[39m\u001B[38;5;241m=\u001B[39m \u001B[38;5;241m6\u001B[39m: \u001B[38;5;66;03m# check again after substitution\u001B[39;00m\n\u001B[0;32m-> 2093\u001B[0m     expr3 \u001B[38;5;241m=\u001B[39m \u001B[43mcancel\u001B[49m\u001B[43m(\u001B[49m\u001B[43mexpr2\u001B[49m\u001B[43m)\u001B[49m\n\u001B[1;32m   2095\u001B[0m     \u001B[38;5;28;01mif\u001B[39;00m expr3 \u001B[38;5;241m!=\u001B[39m expr2:\n\u001B[1;32m   2096\u001B[0m         expr       \u001B[38;5;241m=\u001B[39m expr3\u001B[38;5;241m.\u001B[39msubs([(d, e) \u001B[38;5;28;01mfor\u001B[39;00m e, d \u001B[38;5;129;01min\u001B[39;00m dummies\u001B[38;5;241m.\u001B[39mitems()])\n",
      "File \u001B[0;32m~/anaconda3/envs/tunable-cc/lib/python3.8/site-packages/sympy/polys/polytools.py:6747\u001B[0m, in \u001B[0;36mcancel\u001B[0;34m(f, _signsimp, *gens, **args)\u001B[0m\n\u001B[1;32m   6745\u001B[0m     \u001B[38;5;28;01mif\u001B[39;00m f\u001B[38;5;241m.\u001B[39mis_Number \u001B[38;5;129;01mor\u001B[39;00m \u001B[38;5;28misinstance\u001B[39m(f, Relational) \u001B[38;5;129;01mor\u001B[39;00m \u001B[38;5;129;01mnot\u001B[39;00m \u001B[38;5;28misinstance\u001B[39m(f, Expr):\n\u001B[1;32m   6746\u001B[0m         \u001B[38;5;28;01mreturn\u001B[39;00m f\n\u001B[0;32m-> 6747\u001B[0m     f \u001B[38;5;241m=\u001B[39m \u001B[43mfactor_terms\u001B[49m\u001B[43m(\u001B[49m\u001B[43mf\u001B[49m\u001B[43m,\u001B[49m\u001B[43m \u001B[49m\u001B[43mradical\u001B[49m\u001B[38;5;241;43m=\u001B[39;49m\u001B[38;5;28;43;01mTrue\u001B[39;49;00m\u001B[43m)\u001B[49m\n\u001B[1;32m   6748\u001B[0m     p, q \u001B[38;5;241m=\u001B[39m f\u001B[38;5;241m.\u001B[39mas_numer_denom()\n\u001B[1;32m   6750\u001B[0m \u001B[38;5;28;01melif\u001B[39;00m \u001B[38;5;28mlen\u001B[39m(f) \u001B[38;5;241m==\u001B[39m \u001B[38;5;241m2\u001B[39m:\n",
      "File \u001B[0;32m~/anaconda3/envs/tunable-cc/lib/python3.8/site-packages/sympy/core/exprtools.py:1278\u001B[0m, in \u001B[0;36mfactor_terms\u001B[0;34m(expr, radical, clear, fraction, sign)\u001B[0m\n\u001B[1;32m   1276\u001B[0m     \u001B[38;5;28;01mreturn\u001B[39;00m rv\n\u001B[1;32m   1277\u001B[0m expr \u001B[38;5;241m=\u001B[39m sympify(expr)\n\u001B[0;32m-> 1278\u001B[0m \u001B[38;5;28;01mreturn\u001B[39;00m \u001B[43mdo\u001B[49m\u001B[43m(\u001B[49m\u001B[43mexpr\u001B[49m\u001B[43m)\u001B[49m\n",
      "File \u001B[0;32m~/anaconda3/envs/tunable-cc/lib/python3.8/site-packages/sympy/core/exprtools.py:1253\u001B[0m, in \u001B[0;36mfactor_terms.<locals>.do\u001B[0;34m(expr)\u001B[0m\n\u001B[1;32m   1251\u001B[0m cont, p \u001B[38;5;241m=\u001B[39m expr\u001B[38;5;241m.\u001B[39mas_content_primitive(radical\u001B[38;5;241m=\u001B[39mradical, clear\u001B[38;5;241m=\u001B[39mclear)\n\u001B[1;32m   1252\u001B[0m \u001B[38;5;28;01mif\u001B[39;00m p\u001B[38;5;241m.\u001B[39mis_Add:\n\u001B[0;32m-> 1253\u001B[0m     list_args \u001B[38;5;241m=\u001B[39m [do(a) \u001B[38;5;28;01mfor\u001B[39;00m a \u001B[38;5;129;01min\u001B[39;00m Add\u001B[38;5;241m.\u001B[39mmake_args(p)]\n\u001B[1;32m   1254\u001B[0m     \u001B[38;5;66;03m# get a common negative (if there) which gcd_terms does not remove\u001B[39;00m\n\u001B[1;32m   1255\u001B[0m     \u001B[38;5;28;01mif\u001B[39;00m \u001B[38;5;129;01mnot\u001B[39;00m \u001B[38;5;28many\u001B[39m(a\u001B[38;5;241m.\u001B[39mas_coeff_Mul()[\u001B[38;5;241m0\u001B[39m]\u001B[38;5;241m.\u001B[39mextract_multiplicatively(\u001B[38;5;241m-\u001B[39m\u001B[38;5;241m1\u001B[39m) \u001B[38;5;129;01mis\u001B[39;00m \u001B[38;5;28;01mNone\u001B[39;00m\n\u001B[1;32m   1256\u001B[0m                \u001B[38;5;28;01mfor\u001B[39;00m a \u001B[38;5;129;01min\u001B[39;00m list_args):\n",
      "File \u001B[0;32m~/anaconda3/envs/tunable-cc/lib/python3.8/site-packages/sympy/core/exprtools.py:1253\u001B[0m, in \u001B[0;36m<listcomp>\u001B[0;34m(.0)\u001B[0m\n\u001B[1;32m   1251\u001B[0m cont, p \u001B[38;5;241m=\u001B[39m expr\u001B[38;5;241m.\u001B[39mas_content_primitive(radical\u001B[38;5;241m=\u001B[39mradical, clear\u001B[38;5;241m=\u001B[39mclear)\n\u001B[1;32m   1252\u001B[0m \u001B[38;5;28;01mif\u001B[39;00m p\u001B[38;5;241m.\u001B[39mis_Add:\n\u001B[0;32m-> 1253\u001B[0m     list_args \u001B[38;5;241m=\u001B[39m [\u001B[43mdo\u001B[49m\u001B[43m(\u001B[49m\u001B[43ma\u001B[49m\u001B[43m)\u001B[49m \u001B[38;5;28;01mfor\u001B[39;00m a \u001B[38;5;129;01min\u001B[39;00m Add\u001B[38;5;241m.\u001B[39mmake_args(p)]\n\u001B[1;32m   1254\u001B[0m     \u001B[38;5;66;03m# get a common negative (if there) which gcd_terms does not remove\u001B[39;00m\n\u001B[1;32m   1255\u001B[0m     \u001B[38;5;28;01mif\u001B[39;00m \u001B[38;5;129;01mnot\u001B[39;00m \u001B[38;5;28many\u001B[39m(a\u001B[38;5;241m.\u001B[39mas_coeff_Mul()[\u001B[38;5;241m0\u001B[39m]\u001B[38;5;241m.\u001B[39mextract_multiplicatively(\u001B[38;5;241m-\u001B[39m\u001B[38;5;241m1\u001B[39m) \u001B[38;5;129;01mis\u001B[39;00m \u001B[38;5;28;01mNone\u001B[39;00m\n\u001B[1;32m   1256\u001B[0m                \u001B[38;5;28;01mfor\u001B[39;00m a \u001B[38;5;129;01min\u001B[39;00m list_args):\n",
      "File \u001B[0;32m~/anaconda3/envs/tunable-cc/lib/python3.8/site-packages/sympy/core/exprtools.py:1274\u001B[0m, in \u001B[0;36mfactor_terms.<locals>.do\u001B[0;34m(expr)\u001B[0m\n\u001B[1;32m   1268\u001B[0m     p \u001B[38;5;241m=\u001B[39m gcd_terms(p,\n\u001B[1;32m   1269\u001B[0m         isprimitive\u001B[38;5;241m=\u001B[39m\u001B[38;5;28;01mTrue\u001B[39;00m,\n\u001B[1;32m   1270\u001B[0m         clear\u001B[38;5;241m=\u001B[39mclear,\n\u001B[1;32m   1271\u001B[0m         fraction\u001B[38;5;241m=\u001B[39mfraction)\u001B[38;5;241m.\u001B[39mxreplace(special)\n\u001B[1;32m   1272\u001B[0m \u001B[38;5;28;01melif\u001B[39;00m p\u001B[38;5;241m.\u001B[39margs:\n\u001B[1;32m   1273\u001B[0m     p \u001B[38;5;241m=\u001B[39m p\u001B[38;5;241m.\u001B[39mfunc(\n\u001B[0;32m-> 1274\u001B[0m         \u001B[38;5;241m*\u001B[39m[do(a) \u001B[38;5;28;01mfor\u001B[39;00m a \u001B[38;5;129;01min\u001B[39;00m p\u001B[38;5;241m.\u001B[39margs])\n\u001B[1;32m   1275\u001B[0m rv \u001B[38;5;241m=\u001B[39m _keep_coeff(cont, p, clear\u001B[38;5;241m=\u001B[39mclear, sign\u001B[38;5;241m=\u001B[39msign)\n\u001B[1;32m   1276\u001B[0m \u001B[38;5;28;01mreturn\u001B[39;00m rv\n",
      "File \u001B[0;32m~/anaconda3/envs/tunable-cc/lib/python3.8/site-packages/sympy/core/exprtools.py:1274\u001B[0m, in \u001B[0;36m<listcomp>\u001B[0;34m(.0)\u001B[0m\n\u001B[1;32m   1268\u001B[0m     p \u001B[38;5;241m=\u001B[39m gcd_terms(p,\n\u001B[1;32m   1269\u001B[0m         isprimitive\u001B[38;5;241m=\u001B[39m\u001B[38;5;28;01mTrue\u001B[39;00m,\n\u001B[1;32m   1270\u001B[0m         clear\u001B[38;5;241m=\u001B[39mclear,\n\u001B[1;32m   1271\u001B[0m         fraction\u001B[38;5;241m=\u001B[39mfraction)\u001B[38;5;241m.\u001B[39mxreplace(special)\n\u001B[1;32m   1272\u001B[0m \u001B[38;5;28;01melif\u001B[39;00m p\u001B[38;5;241m.\u001B[39margs:\n\u001B[1;32m   1273\u001B[0m     p \u001B[38;5;241m=\u001B[39m p\u001B[38;5;241m.\u001B[39mfunc(\n\u001B[0;32m-> 1274\u001B[0m         \u001B[38;5;241m*\u001B[39m[\u001B[43mdo\u001B[49m\u001B[43m(\u001B[49m\u001B[43ma\u001B[49m\u001B[43m)\u001B[49m \u001B[38;5;28;01mfor\u001B[39;00m a \u001B[38;5;129;01min\u001B[39;00m p\u001B[38;5;241m.\u001B[39margs])\n\u001B[1;32m   1275\u001B[0m rv \u001B[38;5;241m=\u001B[39m _keep_coeff(cont, p, clear\u001B[38;5;241m=\u001B[39mclear, sign\u001B[38;5;241m=\u001B[39msign)\n\u001B[1;32m   1276\u001B[0m \u001B[38;5;28;01mreturn\u001B[39;00m rv\n",
      "File \u001B[0;32m~/anaconda3/envs/tunable-cc/lib/python3.8/site-packages/sympy/core/exprtools.py:1241\u001B[0m, in \u001B[0;36mfactor_terms.<locals>.do\u001B[0;34m(expr)\u001B[0m\n\u001B[1;32m   1238\u001B[0m \u001B[38;5;28;01mif\u001B[39;00m expr\u001B[38;5;241m.\u001B[39mis_Pow \u001B[38;5;129;01mor\u001B[39;00m expr\u001B[38;5;241m.\u001B[39mis_Function \u001B[38;5;129;01mor\u001B[39;00m \\\n\u001B[1;32m   1239\u001B[0m         is_iterable \u001B[38;5;129;01mor\u001B[39;00m \u001B[38;5;129;01mnot\u001B[39;00m \u001B[38;5;28mhasattr\u001B[39m(expr, \u001B[38;5;124m'\u001B[39m\u001B[38;5;124margs_cnc\u001B[39m\u001B[38;5;124m'\u001B[39m):\n\u001B[1;32m   1240\u001B[0m     args \u001B[38;5;241m=\u001B[39m expr\u001B[38;5;241m.\u001B[39margs\n\u001B[0;32m-> 1241\u001B[0m     newargs \u001B[38;5;241m=\u001B[39m \u001B[38;5;28mtuple\u001B[39m([do(i) \u001B[38;5;28;01mfor\u001B[39;00m i \u001B[38;5;129;01min\u001B[39;00m args])\n\u001B[1;32m   1242\u001B[0m     \u001B[38;5;28;01mif\u001B[39;00m newargs \u001B[38;5;241m==\u001B[39m args:\n\u001B[1;32m   1243\u001B[0m         \u001B[38;5;28;01mreturn\u001B[39;00m expr\n",
      "File \u001B[0;32m~/anaconda3/envs/tunable-cc/lib/python3.8/site-packages/sympy/core/exprtools.py:1241\u001B[0m, in \u001B[0;36m<listcomp>\u001B[0;34m(.0)\u001B[0m\n\u001B[1;32m   1238\u001B[0m \u001B[38;5;28;01mif\u001B[39;00m expr\u001B[38;5;241m.\u001B[39mis_Pow \u001B[38;5;129;01mor\u001B[39;00m expr\u001B[38;5;241m.\u001B[39mis_Function \u001B[38;5;129;01mor\u001B[39;00m \\\n\u001B[1;32m   1239\u001B[0m         is_iterable \u001B[38;5;129;01mor\u001B[39;00m \u001B[38;5;129;01mnot\u001B[39;00m \u001B[38;5;28mhasattr\u001B[39m(expr, \u001B[38;5;124m'\u001B[39m\u001B[38;5;124margs_cnc\u001B[39m\u001B[38;5;124m'\u001B[39m):\n\u001B[1;32m   1240\u001B[0m     args \u001B[38;5;241m=\u001B[39m expr\u001B[38;5;241m.\u001B[39margs\n\u001B[0;32m-> 1241\u001B[0m     newargs \u001B[38;5;241m=\u001B[39m \u001B[38;5;28mtuple\u001B[39m([\u001B[43mdo\u001B[49m\u001B[43m(\u001B[49m\u001B[43mi\u001B[49m\u001B[43m)\u001B[49m \u001B[38;5;28;01mfor\u001B[39;00m i \u001B[38;5;129;01min\u001B[39;00m args])\n\u001B[1;32m   1242\u001B[0m     \u001B[38;5;28;01mif\u001B[39;00m newargs \u001B[38;5;241m==\u001B[39m args:\n\u001B[1;32m   1243\u001B[0m         \u001B[38;5;28;01mreturn\u001B[39;00m expr\n",
      "File \u001B[0;32m~/anaconda3/envs/tunable-cc/lib/python3.8/site-packages/sympy/core/exprtools.py:1253\u001B[0m, in \u001B[0;36mfactor_terms.<locals>.do\u001B[0;34m(expr)\u001B[0m\n\u001B[1;32m   1251\u001B[0m cont, p \u001B[38;5;241m=\u001B[39m expr\u001B[38;5;241m.\u001B[39mas_content_primitive(radical\u001B[38;5;241m=\u001B[39mradical, clear\u001B[38;5;241m=\u001B[39mclear)\n\u001B[1;32m   1252\u001B[0m \u001B[38;5;28;01mif\u001B[39;00m p\u001B[38;5;241m.\u001B[39mis_Add:\n\u001B[0;32m-> 1253\u001B[0m     list_args \u001B[38;5;241m=\u001B[39m [do(a) \u001B[38;5;28;01mfor\u001B[39;00m a \u001B[38;5;129;01min\u001B[39;00m Add\u001B[38;5;241m.\u001B[39mmake_args(p)]\n\u001B[1;32m   1254\u001B[0m     \u001B[38;5;66;03m# get a common negative (if there) which gcd_terms does not remove\u001B[39;00m\n\u001B[1;32m   1255\u001B[0m     \u001B[38;5;28;01mif\u001B[39;00m \u001B[38;5;129;01mnot\u001B[39;00m \u001B[38;5;28many\u001B[39m(a\u001B[38;5;241m.\u001B[39mas_coeff_Mul()[\u001B[38;5;241m0\u001B[39m]\u001B[38;5;241m.\u001B[39mextract_multiplicatively(\u001B[38;5;241m-\u001B[39m\u001B[38;5;241m1\u001B[39m) \u001B[38;5;129;01mis\u001B[39;00m \u001B[38;5;28;01mNone\u001B[39;00m\n\u001B[1;32m   1256\u001B[0m                \u001B[38;5;28;01mfor\u001B[39;00m a \u001B[38;5;129;01min\u001B[39;00m list_args):\n",
      "File \u001B[0;32m~/anaconda3/envs/tunable-cc/lib/python3.8/site-packages/sympy/core/exprtools.py:1253\u001B[0m, in \u001B[0;36m<listcomp>\u001B[0;34m(.0)\u001B[0m\n\u001B[1;32m   1251\u001B[0m cont, p \u001B[38;5;241m=\u001B[39m expr\u001B[38;5;241m.\u001B[39mas_content_primitive(radical\u001B[38;5;241m=\u001B[39mradical, clear\u001B[38;5;241m=\u001B[39mclear)\n\u001B[1;32m   1252\u001B[0m \u001B[38;5;28;01mif\u001B[39;00m p\u001B[38;5;241m.\u001B[39mis_Add:\n\u001B[0;32m-> 1253\u001B[0m     list_args \u001B[38;5;241m=\u001B[39m [\u001B[43mdo\u001B[49m\u001B[43m(\u001B[49m\u001B[43ma\u001B[49m\u001B[43m)\u001B[49m \u001B[38;5;28;01mfor\u001B[39;00m a \u001B[38;5;129;01min\u001B[39;00m Add\u001B[38;5;241m.\u001B[39mmake_args(p)]\n\u001B[1;32m   1254\u001B[0m     \u001B[38;5;66;03m# get a common negative (if there) which gcd_terms does not remove\u001B[39;00m\n\u001B[1;32m   1255\u001B[0m     \u001B[38;5;28;01mif\u001B[39;00m \u001B[38;5;129;01mnot\u001B[39;00m \u001B[38;5;28many\u001B[39m(a\u001B[38;5;241m.\u001B[39mas_coeff_Mul()[\u001B[38;5;241m0\u001B[39m]\u001B[38;5;241m.\u001B[39mextract_multiplicatively(\u001B[38;5;241m-\u001B[39m\u001B[38;5;241m1\u001B[39m) \u001B[38;5;129;01mis\u001B[39;00m \u001B[38;5;28;01mNone\u001B[39;00m\n\u001B[1;32m   1256\u001B[0m                \u001B[38;5;28;01mfor\u001B[39;00m a \u001B[38;5;129;01min\u001B[39;00m list_args):\n",
      "File \u001B[0;32m~/anaconda3/envs/tunable-cc/lib/python3.8/site-packages/sympy/core/exprtools.py:1274\u001B[0m, in \u001B[0;36mfactor_terms.<locals>.do\u001B[0;34m(expr)\u001B[0m\n\u001B[1;32m   1268\u001B[0m     p \u001B[38;5;241m=\u001B[39m gcd_terms(p,\n\u001B[1;32m   1269\u001B[0m         isprimitive\u001B[38;5;241m=\u001B[39m\u001B[38;5;28;01mTrue\u001B[39;00m,\n\u001B[1;32m   1270\u001B[0m         clear\u001B[38;5;241m=\u001B[39mclear,\n\u001B[1;32m   1271\u001B[0m         fraction\u001B[38;5;241m=\u001B[39mfraction)\u001B[38;5;241m.\u001B[39mxreplace(special)\n\u001B[1;32m   1272\u001B[0m \u001B[38;5;28;01melif\u001B[39;00m p\u001B[38;5;241m.\u001B[39margs:\n\u001B[1;32m   1273\u001B[0m     p \u001B[38;5;241m=\u001B[39m p\u001B[38;5;241m.\u001B[39mfunc(\n\u001B[0;32m-> 1274\u001B[0m         \u001B[38;5;241m*\u001B[39m[do(a) \u001B[38;5;28;01mfor\u001B[39;00m a \u001B[38;5;129;01min\u001B[39;00m p\u001B[38;5;241m.\u001B[39margs])\n\u001B[1;32m   1275\u001B[0m rv \u001B[38;5;241m=\u001B[39m _keep_coeff(cont, p, clear\u001B[38;5;241m=\u001B[39mclear, sign\u001B[38;5;241m=\u001B[39msign)\n\u001B[1;32m   1276\u001B[0m \u001B[38;5;28;01mreturn\u001B[39;00m rv\n",
      "File \u001B[0;32m~/anaconda3/envs/tunable-cc/lib/python3.8/site-packages/sympy/core/exprtools.py:1274\u001B[0m, in \u001B[0;36m<listcomp>\u001B[0;34m(.0)\u001B[0m\n\u001B[1;32m   1268\u001B[0m     p \u001B[38;5;241m=\u001B[39m gcd_terms(p,\n\u001B[1;32m   1269\u001B[0m         isprimitive\u001B[38;5;241m=\u001B[39m\u001B[38;5;28;01mTrue\u001B[39;00m,\n\u001B[1;32m   1270\u001B[0m         clear\u001B[38;5;241m=\u001B[39mclear,\n\u001B[1;32m   1271\u001B[0m         fraction\u001B[38;5;241m=\u001B[39mfraction)\u001B[38;5;241m.\u001B[39mxreplace(special)\n\u001B[1;32m   1272\u001B[0m \u001B[38;5;28;01melif\u001B[39;00m p\u001B[38;5;241m.\u001B[39margs:\n\u001B[1;32m   1273\u001B[0m     p \u001B[38;5;241m=\u001B[39m p\u001B[38;5;241m.\u001B[39mfunc(\n\u001B[0;32m-> 1274\u001B[0m         \u001B[38;5;241m*\u001B[39m[\u001B[43mdo\u001B[49m\u001B[43m(\u001B[49m\u001B[43ma\u001B[49m\u001B[43m)\u001B[49m \u001B[38;5;28;01mfor\u001B[39;00m a \u001B[38;5;129;01min\u001B[39;00m p\u001B[38;5;241m.\u001B[39margs])\n\u001B[1;32m   1275\u001B[0m rv \u001B[38;5;241m=\u001B[39m _keep_coeff(cont, p, clear\u001B[38;5;241m=\u001B[39mclear, sign\u001B[38;5;241m=\u001B[39msign)\n\u001B[1;32m   1276\u001B[0m \u001B[38;5;28;01mreturn\u001B[39;00m rv\n",
      "File \u001B[0;32m~/anaconda3/envs/tunable-cc/lib/python3.8/site-packages/sympy/core/exprtools.py:1241\u001B[0m, in \u001B[0;36mfactor_terms.<locals>.do\u001B[0;34m(expr)\u001B[0m\n\u001B[1;32m   1238\u001B[0m \u001B[38;5;28;01mif\u001B[39;00m expr\u001B[38;5;241m.\u001B[39mis_Pow \u001B[38;5;129;01mor\u001B[39;00m expr\u001B[38;5;241m.\u001B[39mis_Function \u001B[38;5;129;01mor\u001B[39;00m \\\n\u001B[1;32m   1239\u001B[0m         is_iterable \u001B[38;5;129;01mor\u001B[39;00m \u001B[38;5;129;01mnot\u001B[39;00m \u001B[38;5;28mhasattr\u001B[39m(expr, \u001B[38;5;124m'\u001B[39m\u001B[38;5;124margs_cnc\u001B[39m\u001B[38;5;124m'\u001B[39m):\n\u001B[1;32m   1240\u001B[0m     args \u001B[38;5;241m=\u001B[39m expr\u001B[38;5;241m.\u001B[39margs\n\u001B[0;32m-> 1241\u001B[0m     newargs \u001B[38;5;241m=\u001B[39m \u001B[38;5;28mtuple\u001B[39m([do(i) \u001B[38;5;28;01mfor\u001B[39;00m i \u001B[38;5;129;01min\u001B[39;00m args])\n\u001B[1;32m   1242\u001B[0m     \u001B[38;5;28;01mif\u001B[39;00m newargs \u001B[38;5;241m==\u001B[39m args:\n\u001B[1;32m   1243\u001B[0m         \u001B[38;5;28;01mreturn\u001B[39;00m expr\n",
      "File \u001B[0;32m~/anaconda3/envs/tunable-cc/lib/python3.8/site-packages/sympy/core/exprtools.py:1241\u001B[0m, in \u001B[0;36m<listcomp>\u001B[0;34m(.0)\u001B[0m\n\u001B[1;32m   1238\u001B[0m \u001B[38;5;28;01mif\u001B[39;00m expr\u001B[38;5;241m.\u001B[39mis_Pow \u001B[38;5;129;01mor\u001B[39;00m expr\u001B[38;5;241m.\u001B[39mis_Function \u001B[38;5;129;01mor\u001B[39;00m \\\n\u001B[1;32m   1239\u001B[0m         is_iterable \u001B[38;5;129;01mor\u001B[39;00m \u001B[38;5;129;01mnot\u001B[39;00m \u001B[38;5;28mhasattr\u001B[39m(expr, \u001B[38;5;124m'\u001B[39m\u001B[38;5;124margs_cnc\u001B[39m\u001B[38;5;124m'\u001B[39m):\n\u001B[1;32m   1240\u001B[0m     args \u001B[38;5;241m=\u001B[39m expr\u001B[38;5;241m.\u001B[39margs\n\u001B[0;32m-> 1241\u001B[0m     newargs \u001B[38;5;241m=\u001B[39m \u001B[38;5;28mtuple\u001B[39m([\u001B[43mdo\u001B[49m\u001B[43m(\u001B[49m\u001B[43mi\u001B[49m\u001B[43m)\u001B[49m \u001B[38;5;28;01mfor\u001B[39;00m i \u001B[38;5;129;01min\u001B[39;00m args])\n\u001B[1;32m   1242\u001B[0m     \u001B[38;5;28;01mif\u001B[39;00m newargs \u001B[38;5;241m==\u001B[39m args:\n\u001B[1;32m   1243\u001B[0m         \u001B[38;5;28;01mreturn\u001B[39;00m expr\n",
      "File \u001B[0;32m~/anaconda3/envs/tunable-cc/lib/python3.8/site-packages/sympy/core/exprtools.py:1231\u001B[0m, in \u001B[0;36mfactor_terms.<locals>.do\u001B[0;34m(expr)\u001B[0m\n\u001B[1;32m   1229\u001B[0m \u001B[38;5;28;01mfrom\u001B[39;00m \u001B[38;5;21;01msympy\u001B[39;00m\u001B[38;5;21;01m.\u001B[39;00m\u001B[38;5;21;01mconcrete\u001B[39;00m\u001B[38;5;21;01m.\u001B[39;00m\u001B[38;5;21;01msummations\u001B[39;00m \u001B[38;5;28;01mimport\u001B[39;00m Sum\n\u001B[1;32m   1230\u001B[0m \u001B[38;5;28;01mfrom\u001B[39;00m \u001B[38;5;21;01msympy\u001B[39;00m\u001B[38;5;21;01m.\u001B[39;00m\u001B[38;5;21;01mintegrals\u001B[39;00m\u001B[38;5;21;01m.\u001B[39;00m\u001B[38;5;21;01mintegrals\u001B[39;00m \u001B[38;5;28;01mimport\u001B[39;00m Integral\n\u001B[0;32m-> 1231\u001B[0m is_iterable \u001B[38;5;241m=\u001B[39m \u001B[43miterable\u001B[49m\u001B[43m(\u001B[49m\u001B[43mexpr\u001B[49m\u001B[43m)\u001B[49m\n\u001B[1;32m   1233\u001B[0m \u001B[38;5;28;01mif\u001B[39;00m \u001B[38;5;129;01mnot\u001B[39;00m \u001B[38;5;28misinstance\u001B[39m(expr, Basic) \u001B[38;5;129;01mor\u001B[39;00m expr\u001B[38;5;241m.\u001B[39mis_Atom:\n\u001B[1;32m   1234\u001B[0m     \u001B[38;5;28;01mif\u001B[39;00m is_iterable:\n",
      "File \u001B[0;32m~/anaconda3/envs/tunable-cc/lib/python3.8/site-packages/sympy/utilities/iterables.py:2948\u001B[0m, in \u001B[0;36miterable\u001B[0;34m(i, exclude)\u001B[0m\n\u001B[1;32m   2946\u001B[0m     \u001B[38;5;28;01mreturn\u001B[39;00m i\u001B[38;5;241m.\u001B[39m_iterable\n\u001B[1;32m   2947\u001B[0m \u001B[38;5;28;01mtry\u001B[39;00m:\n\u001B[0;32m-> 2948\u001B[0m     \u001B[38;5;28;43miter\u001B[39;49m\u001B[43m(\u001B[49m\u001B[43mi\u001B[49m\u001B[43m)\u001B[49m\n\u001B[1;32m   2949\u001B[0m \u001B[38;5;28;01mexcept\u001B[39;00m \u001B[38;5;167;01mTypeError\u001B[39;00m:\n\u001B[1;32m   2950\u001B[0m     \u001B[38;5;28;01mreturn\u001B[39;00m \u001B[38;5;28;01mFalse\u001B[39;00m\n",
      "\u001B[0;31mKeyboardInterrupt\u001B[0m: "
     ]
    }
   ],
   "execution_count": 213
  },
  {
   "metadata": {
    "ExecuteTime": {
     "end_time": "2024-06-26T12:25:51.726291Z",
     "start_time": "2024-06-26T12:25:51.718127Z"
    }
   },
   "cell_type": "code",
   "source": [
    "C_mat_pm_num = np.array( C_mat_pm.subs({Cp_a:Cp_a_val, Cm_a:Cm_a_val, Cp_b:Cp_b_val, Cm_b:Cm_b_val, Cp_c:Cp_c_val, Cm_c:Cm_c_val, Cc:Cc_val }).evalf() ).astype('float')\n",
    "C_mat_pm_inv_num = np.linalg.inv(C_mat_pm_num)"
   ],
   "outputs": [],
   "execution_count": 161
  },
  {
   "metadata": {
    "ExecuteTime": {
     "end_time": "2024-06-26T12:25:51.987991Z",
     "start_time": "2024-06-26T12:25:51.985736Z"
    }
   },
   "cell_type": "code",
   "source": "C_mat_pm_inv_num",
   "outputs": [
    {
     "data": {
      "text/plain": [
       "array([[7.028e-02, 2.006e-03, 2.277e-03, 1.796e-03, 1.048e-05, 8.864e-06],\n",
       "       [2.006e-03, 1.215e-01, -3.984e-03, -3.143e-03, -1.833e-05, -1.551e-05],\n",
       "       [2.277e-03, -3.984e-03, 1.337e-01, 2.307e-05, 2.916e-03, 2.468e-03],\n",
       "       [1.796e-03, -3.143e-03, 2.307e-05, 1.055e-01, -2.301e-03, -1.947e-03],\n",
       "       [1.048e-05, -1.833e-05, 2.916e-03, -2.301e-03, 8.904e-02, -1.582e-03],\n",
       "       [8.864e-06, -1.551e-05, 2.468e-03, -1.947e-03, -1.582e-03, 7.558e-02]])"
      ]
     },
     "execution_count": 162,
     "metadata": {},
     "output_type": "execute_result"
    }
   ],
   "execution_count": 162
  },
  {
   "metadata": {},
   "cell_type": "code",
   "outputs": [
    {
     "data": {
      "text/plain": [
       "array([[1.375e-01, 2.500e-03, 2.500e-03, 2.500e-03, 0.000e+00, 0.000e+00],\n",
       "       [2.500e-03, 1.975e-01, -2.500e-03, -2.500e-03, 0.000e+00, 0.000e+00],\n",
       "       [2.500e-03, -2.500e-03, 2.050e-01, 0.000e+00, 2.500e-03, 2.500e-03],\n",
       "       [2.500e-03, -2.500e-03, 0.000e+00, 1.850e-01, -2.500e-03, -2.500e-03],\n",
       "       [0.000e+00, 0.000e+00, 2.500e-03, -2.500e-03, 1.675e-01, -2.500e-03],\n",
       "       [0.000e+00, 0.000e+00, 2.500e-03, -2.500e-03, -2.500e-03, 1.475e-01]])"
      ]
     },
     "execution_count": 164,
     "metadata": {},
     "output_type": "execute_result"
    }
   ],
   "execution_count": 164,
   "source": "C_mat_pm_inv_approx_num/100"
  }
 ],
 "metadata": {
  "kernelspec": {
   "display_name": "Python 3",
   "language": "python",
   "name": "python3"
  },
  "language_info": {
   "codemirror_mode": {
    "name": "ipython",
    "version": 2
   },
   "file_extension": ".py",
   "mimetype": "text/x-python",
   "name": "python",
   "nbconvert_exporter": "python",
   "pygments_lexer": "ipython2",
   "version": "2.7.6"
  }
 },
 "nbformat": 4,
 "nbformat_minor": 0
}
