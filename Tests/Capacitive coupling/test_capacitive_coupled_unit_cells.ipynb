{
 "cells": [
  {
   "cell_type": "code",
   "metadata": {
    "ExecuteTime": {
     "end_time": "2024-05-14T15:31:50.447749Z",
     "start_time": "2024-05-14T15:31:50.442958Z"
    }
   },
   "source": [
    "import Modules.SQcircuit_extensions as sq_ext\n",
    "import Modules.figures as figs\n",
    "import SQcircuit as sq\n",
    "import numpy as np\n",
    "import matplotlib.pyplot as plt\n",
    "import importlib\n",
    "import qutip as qt\n",
    "import scipy as sp\n",
    "%matplotlib ipympl\n",
    "\n",
    "plt.rcParams['text.usetex'] = False\n",
    "importlib.reload(sq_ext)\n",
    "importlib.reload(sq)\n",
    "importlib.reload(figs)\n",
    "np.set_printoptions(linewidth=200, formatter={'float': '{:.6f}'.format})\n",
    "# np.set_printoptions(linewidth=200, formatter={'float': '{:.3e}'.format})"
   ],
   "outputs": [],
   "execution_count": 105
  },
  {
   "cell_type": "code",
   "metadata": {
    "ExecuteTime": {
     "end_time": "2024-05-14T15:31:50.626411Z",
     "start_time": "2024-05-14T15:31:50.624446Z"
    }
   },
   "source": [
    "GHz = 1e9\n",
    "fF = 1e-15\n",
    "nH = 1e-9"
   ],
   "outputs": [],
   "execution_count": 106
  },
  {
   "metadata": {
    "ExecuteTime": {
     "end_time": "2024-05-14T15:31:50.814438Z",
     "start_time": "2024-05-14T15:31:50.808946Z"
    }
   },
   "cell_type": "code",
   "source": [
    "def fluxonium(LF, CF, EJ, nmax):\n",
    "    loop = sq.Loop(0.5)\n",
    "    C_01   = sq.Capacitor(CF, 'fF')\n",
    "    L_01   = sq.Inductor (LF, 'nH', loops=[loop])\n",
    "    EJ_01  = sq.Junction(EJ, 'GHz', loops=[loop])\n",
    "    elements = {(0, 1): [L_01, C_01, EJ_01]}\n",
    "    circuit = sq.Circuit(elements)\n",
    "    circuit.set_trunc_nums([nmax])\n",
    "    return circuit\n",
    "\n",
    "def resonator(LR, CR, nmax):\n",
    "    L_01   = sq.Inductor (LR, 'nH')\n",
    "    C_01   = sq.Capacitor(CR, 'fF')\n",
    "    elements = {(0, 1): [L_01, C_01],}\n",
    "    circuit = sq.Circuit(elements)\n",
    "    circuit.set_trunc_nums([nmax])\n",
    "    return circuit\n",
    "\n",
    "def coupled_unit_cells(LF1, CF1, EJ1, LR1, CR1, LF2, CF2, EJ2, LR2, CR2, CC, nmax):\n",
    "    # This ignores the internal flux*flux coupling, that is for Δ=0. \n",
    "    loop1 = sq.Loop(0.5)\n",
    "    C_01   = sq.Capacitor(CF1, 'fF')\n",
    "    L_01   = sq.Inductor (LF1, 'nH', loops=[loop1])\n",
    "    EJ_01  = sq.Junction (EJ1, 'GHz',loops=[loop1])\n",
    "\n",
    "    L_02   = sq.Inductor (LR1, 'nH')\n",
    "    C_02   = sq.Capacitor(CR1, 'fF')\n",
    "    \n",
    "    loop2 = sq.Loop(0.5)\n",
    "    C_03   = sq.Capacitor(CF2, 'fF')\n",
    "    L_03   = sq.Inductor (LF2, 'nH', loops=[loop2])\n",
    "    EJ_03  = sq.Junction (EJ2, 'GHz',loops=[loop2])\n",
    "\n",
    "    L_04   = sq.Inductor (LR2, 'nH')\n",
    "    C_04   = sq.Capacitor(CR2, 'fF')\n",
    "    \n",
    "    C_C = sq.Capacitor(CC, 'fF') \n",
    "    \n",
    "    elements = {(0, 1): [L_01, C_01, EJ_01],\n",
    "                (0, 2): [L_02, C_02],\n",
    "                (0, 3): [L_03, C_03, EJ_03],\n",
    "                (0, 4): [L_04, C_04],\n",
    "                (1, 3): [C_C],\n",
    "                (1, 4): [C_C],\n",
    "                (2, 3): [C_C],\n",
    "                (2, 4): [C_C]}\n",
    "    \n",
    "    circuit = sq.Circuit(elements)\n",
    "    circuit.set_trunc_nums([nmax,nmax,nmax,nmax])\n",
    "    \n",
    "    return circuit\n",
    "\n",
    "# def coupled_fluxoniums(L1, C1, EJ1, L2, C2, EJ2, CC):\n",
    "#     loop1 = sq.Loop(0.5)\n",
    "#     loop2 = sq.Loop(0.5)\n",
    "#     \n",
    "#     C_01 = sq.Capacitor(C1, 'fF')\n",
    "#     L_01 = sq.Inductor (L1, 'nH', loops=[loop1])\n",
    "#     EJ_01  = sq.Junction(EJ1, 'GHz', loops=[loop1])\n",
    "#     \n",
    "#     C_02 = sq.Capacitor(C2, 'fF')\n",
    "#     L_02 = sq.Inductor (L2, 'nH', loops=[loop2])\n",
    "#     EJ_02  = sq.Junction(EJ2, 'GHz', loops=[loop2])\n",
    "#     \n",
    "#     C_12 = sq.Capacitor(CC, 'fF')\n",
    "#     \n",
    "#     elements = {(0, 1): [L_01, C_01, EJ_01],\n",
    "#                 (0, 2): [L_02, C_02, EJ_02],\n",
    "#                 (1, 2): [C_12], }\n",
    "#     return sq.Circuit(elements)"
   ],
   "outputs": [],
   "execution_count": 107
  },
  {
   "cell_type": "code",
   "metadata": {
    "ExecuteTime": {
     "end_time": "2024-05-14T15:31:51.208029Z",
     "start_time": "2024-05-14T15:31:51.205505Z"
    }
   },
   "source": [
    "n_eig = 5\n",
    "nmax = 5"
   ],
   "outputs": [],
   "execution_count": 108
  },
  {
   "metadata": {
    "ExecuteTime": {
     "end_time": "2024-05-14T15:33:16.639767Z",
     "start_time": "2024-05-14T15:33:16.637722Z"
    }
   },
   "cell_type": "code",
   "source": [
    "LF1 = 3\n",
    "CF1 = 3\n",
    "EJ1 = 5\n",
    "LR1 = 2\n",
    "CR1 = 3\n",
    "\n",
    "LF2 = 3\n",
    "CF2 = 3\n",
    "EJ2 = 5\n",
    "LR2 = 2\n",
    "CR2 = 3\n",
    "\n",
    "CC = 0.0001\n",
    "\n",
    "only_inner = True\n",
    "ompensate_extra_cap = True"
   ],
   "outputs": [],
   "execution_count": 121
  },
  {
   "metadata": {
    "ExecuteTime": {
     "end_time": "2024-05-14T15:33:16.849909Z",
     "start_time": "2024-05-14T15:33:16.812494Z"
    }
   },
   "cell_type": "code",
   "source": "H_coupled_unit_cells_full = coupled_unit_cells(LF1, CF1, EJ1, LR1, CR1, LF2, CF2, EJ2, LR2, CR2, CC, nmax).hamiltonian()",
   "outputs": [],
   "execution_count": 122
  },
  {
   "metadata": {
    "ExecuteTime": {
     "end_time": "2024-05-14T15:33:17.298396Z",
     "start_time": "2024-05-14T15:33:17.295929Z"
    }
   },
   "cell_type": "code",
   "source": [
    "C0_mat = np.array([[CF1, 0, 0, 0],\n",
    "                   [0, CR1, 0, 0],\n",
    "                   [0, 0, CF2, 0],\n",
    "                   [0, 0, 0, CR2]])\n",
    "\n",
    "CC_mat = np.array([[CC / 2 , 0      , -CC / 4  , -CC / 4],\n",
    "                   [0      , CC / 2 , -CC / 4  , -CC / 4 ],\n",
    "                   [-CC / 4, -CC / 4, CC / 2   , 0        ],\n",
    "                   [-CC / 4, -CC / 4, 0        , CC / 2  ]])"
   ],
   "outputs": [],
   "execution_count": 123
  },
  {
   "metadata": {
    "ExecuteTime": {
     "end_time": "2024-05-14T15:33:17.469198Z",
     "start_time": "2024-05-14T15:33:17.461831Z"
    }
   },
   "cell_type": "code",
   "source": [
    "H_F_1 = fluxonium(LF_1, CF_1, EJ_1, nmax).hamiltonian()\n",
    "H_R_1 = resonator(LR_1, CR_1, nmax).hamiltonian()\n",
    "I = qt.identity(H_F_1.shape[0])\n",
    "\n",
    "H_unit_cell_1_comp = qt.tensor(H_F_1,I) + qt.tensor(I,H_R_1)"
   ],
   "outputs": [],
   "execution_count": 124
  },
  {
   "metadata": {
    "ExecuteTime": {
     "end_time": "2024-05-14T15:33:18.020150Z",
     "start_time": "2024-05-14T15:33:17.621762Z"
    }
   },
   "cell_type": "code",
   "source": [
    "E_F_1= sq_ext.diag(H_F_1, n_eig, remove_ground=True)[0]\n",
    "E_R_1= sq_ext.diag(H_R_1, n_eig, remove_ground=True)[0]\n",
    "E_F_1, E_R_1"
   ],
   "outputs": [
    {
     "name": "stderr",
     "output_type": "stream",
     "text": [
      "/home/gabriel/anaconda3/envs/tunable-cc/lib/python3.8/site-packages/scipy/sparse/linalg/_eigen/arpack/arpack.py:1272: RuntimeWarning: k >= N - 1 for N * N square matrix. Attempting to use scipy.linalg.eig instead.\n",
      "  warnings.warn(\"k >= N - 1 for N * N square matrix. \"\n"
     ]
    },
    {
     "ename": "TypeError",
     "evalue": "Cannot use scipy.linalg.eig for sparse A with k >= N - 1. Use scipy.linalg.eig(A.toarray()) or reduce k.",
     "output_type": "error",
     "traceback": [
      "\u001B[0;31m---------------------------------------------------------------------------\u001B[0m",
      "\u001B[0;31mTypeError\u001B[0m                                 Traceback (most recent call last)",
      "Cell \u001B[0;32mIn[125], line 1\u001B[0m\n\u001B[0;32m----> 1\u001B[0m E_F_1\u001B[38;5;241m=\u001B[39m \u001B[43msq_ext\u001B[49m\u001B[38;5;241;43m.\u001B[39;49m\u001B[43mdiag\u001B[49m\u001B[43m(\u001B[49m\u001B[43mH_F_1\u001B[49m\u001B[43m,\u001B[49m\u001B[43m \u001B[49m\u001B[43mn_eig\u001B[49m\u001B[43m,\u001B[49m\u001B[43m \u001B[49m\u001B[43mremove_ground\u001B[49m\u001B[38;5;241;43m=\u001B[39;49m\u001B[38;5;28;43;01mTrue\u001B[39;49;00m\u001B[43m)\u001B[49m[\u001B[38;5;241m0\u001B[39m]\n\u001B[1;32m      2\u001B[0m E_R_1\u001B[38;5;241m=\u001B[39m sq_ext\u001B[38;5;241m.\u001B[39mdiag(H_R_1, n_eig, remove_ground\u001B[38;5;241m=\u001B[39m\u001B[38;5;28;01mTrue\u001B[39;00m)[\u001B[38;5;241m0\u001B[39m]\n\u001B[1;32m      3\u001B[0m E_F_1, E_R_1\n",
      "File \u001B[0;32m~/PycharmProjects/tunable-capacitive-coupling-flux-qubits/Modules/SQcircuit_extensions.py:1137\u001B[0m, in \u001B[0;36mdiag\u001B[0;34m(H, n_eig, out, real, solver, remove_ground)\u001B[0m\n\u001B[1;32m   1133\u001B[0m H \u001B[38;5;241m=\u001B[39m qt\u001B[38;5;241m.\u001B[39mQobj(H)\n\u001B[1;32m   1135\u001B[0m \u001B[38;5;28;01mif\u001B[39;00m solver \u001B[38;5;241m==\u001B[39m \u001B[38;5;124m'\u001B[39m\u001B[38;5;124mscipy\u001B[39m\u001B[38;5;124m'\u001B[39m:\n\u001B[1;32m   1136\u001B[0m     \u001B[38;5;66;03m# efreqs, evecs = sp.sparse.linalg.eigs(H.data, n_eig, which='SR')\u001B[39;00m\n\u001B[0;32m-> 1137\u001B[0m     efreqs, evecs \u001B[38;5;241m=\u001B[39m \u001B[43msp\u001B[49m\u001B[38;5;241;43m.\u001B[39;49m\u001B[43msparse\u001B[49m\u001B[38;5;241;43m.\u001B[39;49m\u001B[43mlinalg\u001B[49m\u001B[38;5;241;43m.\u001B[39;49m\u001B[43meigsh\u001B[49m\u001B[43m(\u001B[49m\u001B[43mH\u001B[49m\u001B[38;5;241;43m.\u001B[39;49m\u001B[43mdata\u001B[49m\u001B[43m,\u001B[49m\u001B[43m \u001B[49m\u001B[43mn_eig\u001B[49m\u001B[43m,\u001B[49m\u001B[43m \u001B[49m\u001B[43mwhich\u001B[49m\u001B[38;5;241;43m=\u001B[39;49m\u001B[38;5;124;43m'\u001B[39;49m\u001B[38;5;124;43mSR\u001B[39;49m\u001B[38;5;124;43m'\u001B[39;49m\u001B[43m)\u001B[49m\n\u001B[1;32m   1138\u001B[0m \u001B[38;5;28;01melif\u001B[39;00m solver \u001B[38;5;241m==\u001B[39m \u001B[38;5;124m'\u001B[39m\u001B[38;5;124mnumpy\u001B[39m\u001B[38;5;124m'\u001B[39m:\n\u001B[1;32m   1139\u001B[0m     efreqs, evecs \u001B[38;5;241m=\u001B[39m np\u001B[38;5;241m.\u001B[39mlinalg\u001B[38;5;241m.\u001B[39meigh(H\u001B[38;5;241m.\u001B[39m__array__())\n",
      "File \u001B[0;32m~/anaconda3/envs/tunable-cc/lib/python3.8/site-packages/scipy/sparse/linalg/_eigen/arpack/arpack.py:1574\u001B[0m, in \u001B[0;36meigsh\u001B[0;34m(A, k, M, sigma, which, v0, ncv, maxiter, tol, return_eigenvectors, Minv, OPinv, mode)\u001B[0m\n\u001B[1;32m   1572\u001B[0m \u001B[38;5;28;01melif\u001B[39;00m which \u001B[38;5;241m==\u001B[39m \u001B[38;5;124m'\u001B[39m\u001B[38;5;124mSA\u001B[39m\u001B[38;5;124m'\u001B[39m:\n\u001B[1;32m   1573\u001B[0m     which \u001B[38;5;241m=\u001B[39m \u001B[38;5;124m'\u001B[39m\u001B[38;5;124mSR\u001B[39m\u001B[38;5;124m'\u001B[39m\n\u001B[0;32m-> 1574\u001B[0m ret \u001B[38;5;241m=\u001B[39m \u001B[43meigs\u001B[49m\u001B[43m(\u001B[49m\u001B[43mA\u001B[49m\u001B[43m,\u001B[49m\u001B[43m \u001B[49m\u001B[43mk\u001B[49m\u001B[43m,\u001B[49m\u001B[43m \u001B[49m\u001B[43mM\u001B[49m\u001B[38;5;241;43m=\u001B[39;49m\u001B[43mM\u001B[49m\u001B[43m,\u001B[49m\u001B[43m \u001B[49m\u001B[43msigma\u001B[49m\u001B[38;5;241;43m=\u001B[39;49m\u001B[43msigma\u001B[49m\u001B[43m,\u001B[49m\u001B[43m \u001B[49m\u001B[43mwhich\u001B[49m\u001B[38;5;241;43m=\u001B[39;49m\u001B[43mwhich\u001B[49m\u001B[43m,\u001B[49m\u001B[43m \u001B[49m\u001B[43mv0\u001B[49m\u001B[38;5;241;43m=\u001B[39;49m\u001B[43mv0\u001B[49m\u001B[43m,\u001B[49m\n\u001B[1;32m   1575\u001B[0m \u001B[43m           \u001B[49m\u001B[43mncv\u001B[49m\u001B[38;5;241;43m=\u001B[39;49m\u001B[43mncv\u001B[49m\u001B[43m,\u001B[49m\u001B[43m \u001B[49m\u001B[43mmaxiter\u001B[49m\u001B[38;5;241;43m=\u001B[39;49m\u001B[43mmaxiter\u001B[49m\u001B[43m,\u001B[49m\u001B[43m \u001B[49m\u001B[43mtol\u001B[49m\u001B[38;5;241;43m=\u001B[39;49m\u001B[43mtol\u001B[49m\u001B[43m,\u001B[49m\n\u001B[1;32m   1576\u001B[0m \u001B[43m           \u001B[49m\u001B[43mreturn_eigenvectors\u001B[49m\u001B[38;5;241;43m=\u001B[39;49m\u001B[43mreturn_eigenvectors\u001B[49m\u001B[43m,\u001B[49m\u001B[43m \u001B[49m\u001B[43mMinv\u001B[49m\u001B[38;5;241;43m=\u001B[39;49m\u001B[43mMinv\u001B[49m\u001B[43m,\u001B[49m\n\u001B[1;32m   1577\u001B[0m \u001B[43m           \u001B[49m\u001B[43mOPinv\u001B[49m\u001B[38;5;241;43m=\u001B[39;49m\u001B[43mOPinv\u001B[49m\u001B[43m)\u001B[49m\n\u001B[1;32m   1579\u001B[0m \u001B[38;5;28;01mif\u001B[39;00m return_eigenvectors:\n\u001B[1;32m   1580\u001B[0m     \u001B[38;5;28;01mreturn\u001B[39;00m ret[\u001B[38;5;241m0\u001B[39m]\u001B[38;5;241m.\u001B[39mreal, ret[\u001B[38;5;241m1\u001B[39m]\n",
      "File \u001B[0;32m~/anaconda3/envs/tunable-cc/lib/python3.8/site-packages/scipy/sparse/linalg/_eigen/arpack/arpack.py:1277\u001B[0m, in \u001B[0;36meigs\u001B[0;34m(A, k, M, sigma, which, v0, ncv, maxiter, tol, return_eigenvectors, Minv, OPinv, OPpart)\u001B[0m\n\u001B[1;32m   1272\u001B[0m warnings\u001B[38;5;241m.\u001B[39mwarn(\u001B[38;5;124m\"\u001B[39m\u001B[38;5;124mk >= N - 1 for N * N square matrix. \u001B[39m\u001B[38;5;124m\"\u001B[39m\n\u001B[1;32m   1273\u001B[0m               \u001B[38;5;124m\"\u001B[39m\u001B[38;5;124mAttempting to use scipy.linalg.eig instead.\u001B[39m\u001B[38;5;124m\"\u001B[39m,\n\u001B[1;32m   1274\u001B[0m               \u001B[38;5;167;01mRuntimeWarning\u001B[39;00m)\n\u001B[1;32m   1276\u001B[0m \u001B[38;5;28;01mif\u001B[39;00m issparse(A):\n\u001B[0;32m-> 1277\u001B[0m     \u001B[38;5;28;01mraise\u001B[39;00m \u001B[38;5;167;01mTypeError\u001B[39;00m(\u001B[38;5;124m\"\u001B[39m\u001B[38;5;124mCannot use scipy.linalg.eig for sparse A with \u001B[39m\u001B[38;5;124m\"\u001B[39m\n\u001B[1;32m   1278\u001B[0m                     \u001B[38;5;124m\"\u001B[39m\u001B[38;5;124mk >= N - 1. Use scipy.linalg.eig(A.toarray()) or\u001B[39m\u001B[38;5;124m\"\u001B[39m\n\u001B[1;32m   1279\u001B[0m                     \u001B[38;5;124m\"\u001B[39m\u001B[38;5;124m reduce k.\u001B[39m\u001B[38;5;124m\"\u001B[39m)\n\u001B[1;32m   1280\u001B[0m \u001B[38;5;28;01mif\u001B[39;00m \u001B[38;5;28misinstance\u001B[39m(A, LinearOperator):\n\u001B[1;32m   1281\u001B[0m     \u001B[38;5;28;01mraise\u001B[39;00m \u001B[38;5;167;01mTypeError\u001B[39;00m(\u001B[38;5;124m\"\u001B[39m\u001B[38;5;124mCannot use scipy.linalg.eig for LinearOperator \u001B[39m\u001B[38;5;124m\"\u001B[39m\n\u001B[1;32m   1282\u001B[0m                     \u001B[38;5;124m\"\u001B[39m\u001B[38;5;124mA with k >= N - 1.\u001B[39m\u001B[38;5;124m\"\u001B[39m)\n",
      "\u001B[0;31mTypeError\u001B[0m: Cannot use scipy.linalg.eig for sparse A with k >= N - 1. Use scipy.linalg.eig(A.toarray()) or reduce k."
     ]
    }
   ],
   "execution_count": 125
  },
  {
   "metadata": {},
   "cell_type": "code",
   "source": [
    "E_unit_cell_1_full = sq_ext.diag(H_unit_cell_1_full, n_eig, remove_ground=True)[0]\n",
    "E_unit_cell_1_comp = sq_ext.diag(H_unit_cell_1_comp, n_eig, remove_ground=True)[0]"
   ],
   "outputs": [],
   "execution_count": null
  },
  {
   "metadata": {
    "ExecuteTime": {
     "end_time": "2024-05-14T15:33:18.159340Z",
     "start_time": "2024-05-14T15:33:18.156888Z"
    }
   },
   "cell_type": "code",
   "source": "E_unit_cell_1_full, E_unit_cell_1_comp",
   "outputs": [
    {
     "data": {
      "text/plain": [
       "(array([0.000000, 51.123722, 102.734757, 154.743545, 207.076328]),\n",
       " array([0.000000, 51.123722, 64.974733, 102.734757, 116.098456]))"
      ]
     },
     "execution_count": 126,
     "metadata": {},
     "output_type": "execute_result"
    }
   ],
   "execution_count": 126
  },
  {
   "metadata": {
    "ExecuteTime": {
     "end_time": "2024-05-14T15:33:18.517084Z",
     "start_time": "2024-05-14T15:33:18.501624Z"
    }
   },
   "cell_type": "code",
   "source": [
    "E_coupled_unit_cells_full = sq_ext.diag(H_coupled_unit_cells_full, n_eig, remove_ground=True)[0]\n",
    "E_coupled_unit_cells_full"
   ],
   "outputs": [
    {
     "data": {
      "text/plain": [
       "array([0.000000, 51.121314, 51.123018, 64.971485, 64.973651])"
      ]
     },
     "execution_count": 127,
     "metadata": {},
     "output_type": "execute_result"
    }
   ],
   "execution_count": 127
  },
  {
   "metadata": {},
   "cell_type": "markdown",
   "source": "# Past"
  },
  {
   "metadata": {
    "ExecuteTime": {
     "end_time": "2024-05-14T14:41:02.510355Z",
     "start_time": "2024-05-14T14:41:02.457571Z"
    }
   },
   "cell_type": "code",
   "source": [
    "coupled_res_full = coupled_fluxoniums(L1=L1, C1=C1, EJ1=EJ1, L2=L2, C2=C2, EJ2=EJ2, CC=CC)\n",
    "coupled_res_full .set_trunc_nums([trunc_num, trunc_num])\n",
    "H_coupled_res_full = coupled_res_full.hamiltonian()"
   ],
   "outputs": [],
   "execution_count": 12
  },
  {
   "metadata": {
    "ExecuteTime": {
     "end_time": "2024-05-14T14:41:02.657121Z",
     "start_time": "2024-05-14T14:41:02.655167Z"
    }
   },
   "cell_type": "code",
   "source": [
    "C_mat = np.array([[C1 + CC, -CC],\n",
    "                  [-CC, C2 + CC]])\n",
    "C_inv = np.linalg.inv(C_mat)\n",
    "C1_tilde = C_inv[0,0]**-1\n",
    "C2_tilde = C_inv[1,1]**-1"
   ],
   "outputs": [],
   "execution_count": 13
  },
  {
   "metadata": {
    "ExecuteTime": {
     "end_time": "2024-05-14T14:41:11.207949Z",
     "start_time": "2024-05-14T14:41:11.199166Z"
    }
   },
   "cell_type": "code",
   "source": [
    "fluxonium_1 = fluxonium(L=L1, C=C1_tilde, EJ=EJ1)\n",
    "fluxonium_2 = fluxonium(L=L2, C=C2_tilde, EJ=EJ2)\n",
    "fluxonium_1.set_trunc_nums([trunc_num])\n",
    "fluxonium_2.set_trunc_nums([trunc_num])"
   ],
   "outputs": [],
   "execution_count": 15
  },
  {
   "cell_type": "code",
   "metadata": {
    "ExecuteTime": {
     "end_time": "2024-05-14T14:41:18.682346Z",
     "start_time": "2024-05-14T14:41:18.676718Z"
    }
   },
   "source": [
    "Q_1 = fluxonium_1.charge_op(0)\n",
    "Q_2 = fluxonium_2.charge_op(0)\n",
    "Φ_1 = fluxonium_1.flux_op(0)\n",
    "Φ_2 = fluxonium_2.flux_op(0)\n",
    "\n",
    "H_1 = fluxonium_1.hamiltonian()\n",
    "# H_1 = 1/2 * C1_tilde**-1 * fF**-1 * Q_1**2 + 1/2 * L1**-1 * nH**-1 * Φ_1**2 \n",
    "H_2 = fluxonium_2.hamiltonian()\n",
    "# H_2 = 1/2 * C2_tilde**-1 * fF**-1 * Q_2**2 + 1/2 * L2**-1 * nH**-1 * Φ_2**2 \n",
    "\n",
    "I = qt.identity(H_1.shape[0])\n",
    "H_coupled_res_comp = qt.tensor(H_1,I) + qt.tensor(I,H_2) + C_inv[0,1]* fF**-1 * qt.tensor(Q_1,Q_2)"
   ],
   "outputs": [],
   "execution_count": 17
  },
  {
   "cell_type": "code",
   "metadata": {
    "ExecuteTime": {
     "end_time": "2024-05-14T14:41:19.530278Z",
     "start_time": "2024-05-14T14:41:19.485949Z"
    }
   },
   "source": [
    "E_coupled_res_comp = sq_ext.diag(H_coupled_res_comp, n_eig, remove_ground=True)[0]\n",
    "E_coupled_res_full = sq_ext.diag(H_coupled_res_full, n_eig, remove_ground=True)[0]"
   ],
   "outputs": [],
   "execution_count": 18
  },
  {
   "metadata": {
    "ExecuteTime": {
     "end_time": "2024-05-14T14:41:19.744769Z",
     "start_time": "2024-05-14T14:41:19.742511Z"
    }
   },
   "cell_type": "code",
   "source": "E_coupled_res_comp, E_coupled_res_full",
   "outputs": [
    {
     "data": {
      "text/plain": [
       "(array([0.000000, 38.035963, 65.492617, 76.297202, 103.637949]),\n",
       " array([0.000000, 38.035963, 65.492617, 76.297202, 103.637949]))"
      ]
     },
     "execution_count": 19,
     "metadata": {},
     "output_type": "execute_result"
    }
   ],
   "execution_count": 19
  },
  {
   "metadata": {},
   "cell_type": "code",
   "outputs": [],
   "execution_count": null,
   "source": ""
  }
 ],
 "metadata": {
  "kernelspec": {
   "display_name": "Python 3 (ipykernel)",
   "language": "python",
   "name": "python3"
  },
  "language_info": {
   "codemirror_mode": {
    "name": "ipython",
    "version": 3
   },
   "file_extension": ".py",
   "mimetype": "text/x-python",
   "name": "python",
   "nbconvert_exporter": "python",
   "pygments_lexer": "ipython3",
   "version": "3.8.17"
  }
 },
 "nbformat": 4,
 "nbformat_minor": 1
}
