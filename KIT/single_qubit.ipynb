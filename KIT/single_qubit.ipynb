{
 "cells": [
  {
   "cell_type": "code",
   "execution_count": 77,
   "metadata": {
    "ExecuteTime": {
     "end_time": "2023-09-26T13:24:29.040986300Z",
     "start_time": "2023-09-26T13:24:29.009707500Z"
    }
   },
   "outputs": [],
   "source": [
    "import Modules.SQcircuit_extensions as sq_ext\n",
    "import Modules.figures as figs\n",
    "import SQcircuit as sq\n",
    "import qutip as qt\n",
    "import numpy as np\n",
    "import scipy as sp\n",
    "import matplotlib.pyplot as plt\n",
    "import importlib\n",
    "\n",
    "%matplotlib ipympl\n",
    "\n",
    "importlib.reload(sq_ext)\n",
    "importlib.reload(sq)\n",
    "np.set_printoptions(linewidth=500, formatter={'float': '{:.1e}'.format})"
   ]
  },
  {
   "cell_type": "code",
   "execution_count": 19,
   "metadata": {
    "ExecuteTime": {
     "end_time": "2023-09-26T12:13:07.248699700Z",
     "start_time": "2023-09-26T12:13:07.229590400Z"
    }
   },
   "outputs": [],
   "source": [
    "# Fundamental constants\n",
    "h    = 6.626e-34\n",
    "GHz = 1e9\n",
    "e0   = 1.602e-19\n",
    "Φ_0 = h/(2*e0)"
   ]
  },
  {
   "cell_type": "markdown",
   "metadata": {},
   "source": [
    "# Single qubit\n",
    "\n",
    "This notebook studies the qubit proposed by KIT. It's lumped element model is:\n",
    "<img src='Other/Single qubit 4 nodes CC coupled to ground.jpg' width='500'>\n"
   ]
  },
  {
   "cell_type": "markdown",
   "metadata": {},
   "source": [
    "# Circuit definitions\n",
    "## Qubit"
   ]
  },
  {
   "cell_type": "code",
   "execution_count": 20,
   "metadata": {
    "ExecuteTime": {
     "end_time": "2023-09-26T12:13:08.296195800Z",
     "start_time": "2023-09-26T12:13:08.271013100Z"
    }
   },
   "outputs": [
    {
     "data": {
      "text/plain": "<IPython.core.display.Latex object>",
      "text/latex": "$\\hat{H} =~\\omega_1\\hat a^\\dagger_1\\hat a_1~+~\\omega_2\\hat a^\\dagger_2\\hat a_2~+~\\omega_3\\hat a^\\dagger_3\\hat a_3~~-~E_{J_{1}}\\cos(-\\hat{\\varphi}_1+\\hat{\\varphi}_2-\\hat{\\varphi}_3+\\varphi_{\\text{ext}_{1}})$"
     },
     "metadata": {},
     "output_type": "display_data"
    },
    {
     "data": {
      "text/plain": "<IPython.core.display.Latex object>",
      "text/latex": "$------------------------------------------------------------$"
     },
     "metadata": {},
     "output_type": "display_data"
    },
    {
     "data": {
      "text/plain": "<IPython.core.display.Latex object>",
      "text/latex": "$\\text{mode}~1:~~~~~~~~~~~\\text{harmonic}~~~~~~~~~~~\\hat{\\varphi}_1~=~\\varphi_{zp_{1}}(\\hat a_1+\\hat a^\\dagger_1)~~~~~~~~~~~\\omega_1/2\\pi~=~14816.81067~~~~~~~~~~~\\varphi_{zp_{1}}~=~3.82e-08$"
     },
     "metadata": {},
     "output_type": "display_data"
    },
    {
     "data": {
      "text/plain": "<IPython.core.display.Latex object>",
      "text/latex": "$\\text{mode}~2:~~~~~~~~~~~\\text{harmonic}~~~~~~~~~~~\\hat{\\varphi}_2~=~\\varphi_{zp_{2}}(\\hat a_2+\\hat a^\\dagger_2)~~~~~~~~~~~\\omega_2/2\\pi~=~7.20868~~~~~~~~~~~\\varphi_{zp_{2}}~=~1.20e-02$"
     },
     "metadata": {},
     "output_type": "display_data"
    },
    {
     "data": {
      "text/plain": "<IPython.core.display.Latex object>",
      "text/latex": "$\\text{mode}~3:~~~~~~~~~~~\\text{harmonic}~~~~~~~~~~~\\hat{\\varphi}_3~=~\\varphi_{zp_{3}}(\\hat a_3+\\hat a^\\dagger_3)~~~~~~~~~~~\\omega_3/2\\pi~=~6.30322~~~~~~~~~~~\\varphi_{zp_{3}}~=~6.94e-01$"
     },
     "metadata": {},
     "output_type": "display_data"
    },
    {
     "data": {
      "text/plain": "<IPython.core.display.Latex object>",
      "text/latex": "$------------------------------------------------------------$"
     },
     "metadata": {},
     "output_type": "display_data"
    },
    {
     "data": {
      "text/plain": "<IPython.core.display.Latex object>",
      "text/latex": "$\\text{parameters}:~~~~~~~~~~~E_{J_{1}}~=~10.0~~~~~~~~~~~$"
     },
     "metadata": {},
     "output_type": "display_data"
    },
    {
     "data": {
      "text/plain": "<IPython.core.display.Latex object>",
      "text/latex": "$\\text{loops}:~~~~~~~~~~~~~~~~~~~~\\varphi_{\\text{ext}_{1}}/2\\pi~=~0.5~~~~~~~~~~~$"
     },
     "metadata": {},
     "output_type": "display_data"
    }
   ],
   "source": [
    "# Circuit parameters\n",
    "Csh = 15\n",
    "C   = 15\n",
    "Cg  = 10\n",
    "CJ  = 3\n",
    "Lq  = 25\n",
    "Lr  = 10\n",
    "Δ   = 0.1\n",
    "EJ  = 10.0\n",
    "l = Lq*(Lq+4*Lr) - 4*Δ**2\n",
    "\n",
    "# Initialize loop(s)\n",
    "loop = sq.Loop(0.5)\n",
    "\n",
    "# Circuit components\n",
    "C_01 = sq.Capacitor(C,       'fF')\n",
    "C_02 = sq.Capacitor(C,       'fF')\n",
    "C_12 = sq.Capacitor(CJ+Csh,  'fF')\n",
    "L_03 = sq.Inductor(Lr,       'nH')\n",
    "L_31 = sq.Inductor(Lq/2 - Δ, 'nH',  loops=[loop])\n",
    "L_23 = sq.Inductor(Lq/2 + Δ, 'nH',  loops=[loop])\n",
    "JJ_12= sq.Junction(EJ,       'GHz', loops=[loop])\n",
    "\n",
    "elements = {\n",
    "    # Without ground node\n",
    "    (0, 3): [L_03],\n",
    "    (0, 1): [C_01],\n",
    "    (0, 2): [C_02],\n",
    "    (3, 1): [L_31],\n",
    "    (1, 2): [C_12, JJ_12],\n",
    "    (2, 3): [L_23],\n",
    "}\n",
    "# Create the circuits\n",
    "qubit = sq.Circuit(elements)\n",
    "qubit.description()"
   ]
  },
  {
   "cell_type": "code",
   "execution_count": 21,
   "metadata": {
    "ExecuteTime": {
     "end_time": "2023-09-26T12:13:08.520373Z",
     "start_time": "2023-09-26T12:13:08.479755700Z"
    }
   },
   "outputs": [
    {
     "name": "stdout",
     "output_type": "stream",
     "text": [
      "Φ_1 = [ 0.00  0.00  1.00]\n",
      "Φ_2 = [ 1.00  0.98  0.61]\n",
      "Φ_3 = [-0.93  1.00  0.02]\n"
     ]
    }
   ],
   "source": [
    "sq_ext.print_flux_transformation(qubit)"
   ]
  },
  {
   "cell_type": "markdown",
   "metadata": {},
   "source": [
    "# Equivalent circuits"
   ]
  },
  {
   "cell_type": "markdown",
   "metadata": {},
   "source": [
    "### Equivalent circuit constructed as a fluxonium + resonator without coupling"
   ]
  },
  {
   "cell_type": "code",
   "execution_count": 22,
   "metadata": {
    "ExecuteTime": {
     "end_time": "2023-09-26T12:13:08.876376Z",
     "start_time": "2023-09-26T12:13:08.844606300Z"
    }
   },
   "outputs": [
    {
     "data": {
      "text/plain": "<IPython.core.display.Latex object>",
      "text/latex": "$\\hat{H} =~\\omega_1\\hat a^\\dagger_1\\hat a_1~~+~E_{L_{1}}(\\hat{\\varphi}_1)(-\\varphi_{\\text{ext}_{1}})~+~E_{L_{2}}(\\hat{\\varphi}_1)(\\varphi_{\\text{ext}_{1}})~-~E_{J_{1}}\\cos(\\hat{\\varphi}_1+\\varphi_{\\text{ext}_{2}})$"
     },
     "metadata": {},
     "output_type": "display_data"
    },
    {
     "data": {
      "text/plain": "<IPython.core.display.Latex object>",
      "text/latex": "$------------------------------------------------------------$"
     },
     "metadata": {},
     "output_type": "display_data"
    },
    {
     "data": {
      "text/plain": "<IPython.core.display.Latex object>",
      "text/latex": "$\\text{mode}~1:~~~~~~~~~~~\\text{harmonic}~~~~~~~~~~~\\hat{\\varphi}_1~=~\\varphi_{zp_{1}}(\\hat a_1+\\hat a^\\dagger_1)~~~~~~~~~~~\\omega_1/2\\pi~=~6.52023~~~~~~~~~~~\\varphi_{zp_{1}}~=~6.00e-01$"
     },
     "metadata": {},
     "output_type": "display_data"
    },
    {
     "data": {
      "text/plain": "<IPython.core.display.Latex object>",
      "text/latex": "$------------------------------------------------------------$"
     },
     "metadata": {},
     "output_type": "display_data"
    },
    {
     "data": {
      "text/plain": "<IPython.core.display.Latex object>",
      "text/latex": "$\\text{parameters}:~~~~~~~~~~~E_{L_{1}}~=~2.515~~~~~~~~~~~E_{L_{2}}~=~6.539~~~~~~~~~~~E_{J_{1}}~=~10.0~~~~~~~~~~~$"
     },
     "metadata": {},
     "output_type": "display_data"
    },
    {
     "data": {
      "text/plain": "<IPython.core.display.Latex object>",
      "text/latex": "$\\text{loops}:~~~~~~~~~~~~~~~~~~~~\\varphi_{\\text{ext}_{1}}/2\\pi~=~0.5~~~~~~~~~~~\\varphi_{\\text{ext}_{2}}/2\\pi~=~0.5~~~~~~~~~~~$"
     },
     "metadata": {},
     "output_type": "display_data"
    }
   ],
   "source": [
    "loop_eq_fluxonium = sq.Loop(0.5)\n",
    "loop_eq_ficticious = sq.Loop(0.5)\n",
    "\n",
    "C_r_eq = sq.Capacitor(C / 2, 'fF')\n",
    "L_r_eq = sq.Inductor(l / Lq, 'nH')\n",
    "\n",
    "C_f_eq = sq.Capacitor(C / 2 + Csh + CJ, 'fF')\n",
    "L_f_eq = sq.Inductor(l / (Lq + 4 * Lr), 'nH', loops=[loop_eq_ficticious])\n",
    "JJ_f_eq = sq.Junction(EJ, 'GHz', loops=[loop_eq_fluxonium])\n",
    "\n",
    "equiv_elements = {\n",
    "    (0, 1): [C_r_eq, L_r_eq, C_f_eq, L_f_eq, JJ_f_eq],\n",
    "}\n",
    "qubit_unc = sq.Circuit(equiv_elements)\n",
    "qubit_unc.description()"
   ]
  },
  {
   "cell_type": "markdown",
   "metadata": {},
   "source": [
    "### Equivalent circuit constructed as a fluxonium + resonator + coupling"
   ]
  },
  {
   "cell_type": "code",
   "execution_count": 25,
   "metadata": {
    "ExecuteTime": {
     "end_time": "2023-09-26T12:13:14.151327100Z",
     "start_time": "2023-09-26T12:13:14.116801700Z"
    }
   },
   "outputs": [
    {
     "data": {
      "text/plain": "<IPython.core.display.Latex object>",
      "text/latex": "$\\hat{H} =~\\omega_1\\hat a^\\dagger_1\\hat a_1~+~\\omega_2\\hat a^\\dagger_2\\hat a_2~~+~E_{L_{1}}(-200.082\\hat{\\varphi}_1+0.017\\hat{\\varphi}_2)(-\\varphi_{\\text{ext}_{2}})~+~E_{L_{2}}(-201.082\\hat{\\varphi}_1-0.983\\hat{\\varphi}_2)(\\varphi_{\\text{ext}_{2}})~+~E_{L_{3}}(\\hat{\\varphi}_1+\\hat{\\varphi}_2)(\\varphi_{\\text{ext}_{2}})~-~E_{J_{1}}\\cos(\\hat{\\varphi}_1+\\hat{\\varphi}_2-\\varphi_{\\text{ext}_{1}}+\\varphi_{\\text{ext}_{2}})$"
     },
     "metadata": {},
     "output_type": "display_data"
    },
    {
     "data": {
      "text/plain": "<IPython.core.display.Latex object>",
      "text/latex": "$------------------------------------------------------------$"
     },
     "metadata": {},
     "output_type": "display_data"
    },
    {
     "data": {
      "text/plain": "<IPython.core.display.Latex object>",
      "text/latex": "$\\text{mode}~1:~~~~~~~~~~~\\text{harmonic}~~~~~~~~~~~\\hat{\\varphi}_1~=~\\varphi_{zp_{1}}(\\hat a_1+\\hat a^\\dagger_1)~~~~~~~~~~~\\omega_1/2\\pi~=~7.20845~~~~~~~~~~~\\varphi_{zp_{1}}~=~5.98e-03$"
     },
     "metadata": {},
     "output_type": "display_data"
    },
    {
     "data": {
      "text/plain": "<IPython.core.display.Latex object>",
      "text/latex": "$\\text{mode}~2:~~~~~~~~~~~\\text{harmonic}~~~~~~~~~~~\\hat{\\varphi}_2~=~\\varphi_{zp_{2}}(\\hat a_2+\\hat a^\\dagger_2)~~~~~~~~~~~\\omega_2/2\\pi~=~6.30347~~~~~~~~~~~\\varphi_{zp_{2}}~=~6.94e-01$"
     },
     "metadata": {},
     "output_type": "display_data"
    },
    {
     "data": {
      "text/plain": "<IPython.core.display.Latex object>",
      "text/latex": "$------------------------------------------------------------$"
     },
     "metadata": {},
     "output_type": "display_data"
    },
    {
     "data": {
      "text/plain": "<IPython.core.display.Latex object>",
      "text/latex": "$\\text{parameters}:~~~~~~~~~~~E_{L_{1}}~=~2.505~~~~~~~~~~~E_{L_{2}}~=~0.01~~~~~~~~~~~E_{L_{3}}~=~6.529~~~~~~~~~~~E_{J_{1}}~=~10.0~~~~~~~~~~~$"
     },
     "metadata": {},
     "output_type": "display_data"
    },
    {
     "data": {
      "text/plain": "<IPython.core.display.Latex object>",
      "text/latex": "$\\text{loops}:~~~~~~~~~~~~~~~~~~~~\\varphi_{\\text{ext}_{1}}/2\\pi~=~0.5~~~~~~~~~~~\\varphi_{\\text{ext}_{2}}/2\\pi~=~0.5~~~~~~~~~~~$"
     },
     "metadata": {},
     "output_type": "display_data"
    }
   ],
   "source": [
    "loop_eq_fluxonium = sq.Loop(0.5)\n",
    "loop_eq_ficticious = sq.Loop(0.5)\n",
    "\n",
    "C_r_eq = sq.Capacitor(C / 2, 'fF')\n",
    "L_r_eq = sq.Inductor(1 / (1 / (l / Lq) - 1 / (l / Δ)), 'nH')\n",
    "\n",
    "C_f_eq = sq.Capacitor(C / 2 + Csh + CJ, 'fF')\n",
    "L_f_eq = sq.Inductor(1 / (1 / (l / (Lq + 4 * Lr)) - 1 / (l / Δ)), 'nH', loops=[loop_eq_fluxonium, loop_eq_ficticious])\n",
    "JJ_f_eq = sq.Junction(EJ, 'GHz', loops=[loop_eq_fluxonium])\n",
    "\n",
    "L_c_eq = sq.Inductor(l / Δ, 'nH')\n",
    "\n",
    "equiv_elements = {\n",
    "    (0, 1): [C_r_eq, L_r_eq],\n",
    "    (1, 2): [L_c_eq],\n",
    "    (0, 2): [C_f_eq, L_f_eq, JJ_f_eq],\n",
    "}\n",
    "qubit_equiv = sq.Circuit(equiv_elements)\n",
    "qubit_equiv.description()"
   ]
  },
  {
   "cell_type": "code",
   "execution_count": 26,
   "metadata": {
    "ExecuteTime": {
     "end_time": "2023-09-26T12:13:15.106691400Z",
     "start_time": "2023-09-26T12:13:15.082476100Z"
    }
   },
   "outputs": [
    {
     "name": "stdout",
     "output_type": "stream",
     "text": [
      "Φ_1 = [-1.00  0.00]\n",
      "Φ_2 = [ 0.02  1.00]\n"
     ]
    }
   ],
   "source": [
    "sq_ext.print_flux_transformation(qubit_equiv)"
   ]
  },
  {
   "cell_type": "markdown",
   "metadata": {},
   "source": [
    "### Resonator"
   ]
  },
  {
   "cell_type": "code",
   "execution_count": 27,
   "outputs": [
    {
     "data": {
      "text/plain": "<IPython.core.display.Latex object>",
      "text/latex": "$\\hat{H} =~\\omega_1\\hat a^\\dagger_1\\hat a_1~$"
     },
     "metadata": {},
     "output_type": "display_data"
    },
    {
     "data": {
      "text/plain": "<IPython.core.display.Latex object>",
      "text/latex": "$------------------------------------------------------------$"
     },
     "metadata": {},
     "output_type": "display_data"
    },
    {
     "data": {
      "text/plain": "<IPython.core.display.Latex object>",
      "text/latex": "$\\text{mode}~1:~~~~~~~~~~~\\text{harmonic}~~~~~~~~~~~\\hat{\\varphi}_1~=~\\varphi_{zp_{1}}(\\hat a_1+\\hat a^\\dagger_1)~~~~~~~~~~~\\omega_1/2\\pi~=~7.20838~~~~~~~~~~~\\varphi_{zp_{1}}~=~1.20e+00$"
     },
     "metadata": {},
     "output_type": "display_data"
    },
    {
     "data": {
      "text/plain": "<IPython.core.display.Latex object>",
      "text/latex": "$------------------------------------------------------------$"
     },
     "metadata": {},
     "output_type": "display_data"
    },
    {
     "data": {
      "text/plain": "<IPython.core.display.Latex object>",
      "text/latex": "$\\text{parameters}:~~~~~~~~~~~$"
     },
     "metadata": {},
     "output_type": "display_data"
    },
    {
     "data": {
      "text/plain": "<IPython.core.display.Latex object>",
      "text/latex": "$\\text{loops}:~~~~~~~~~~~~~~~~~~~~$"
     },
     "metadata": {},
     "output_type": "display_data"
    }
   ],
   "source": [
    "resonator_elements = {\n",
    "    (0, 1): [sq.Capacitor(C/2, 'fF'), sq.Inductor (l/Lq, 'nH')],\n",
    "}\n",
    "resonator = sq.Circuit(resonator_elements )\n",
    "resonator.description()"
   ],
   "metadata": {
    "collapsed": false,
    "ExecuteTime": {
     "end_time": "2023-09-26T12:13:19.357195700Z",
     "start_time": "2023-09-26T12:13:19.323535200Z"
    }
   }
  },
  {
   "cell_type": "markdown",
   "metadata": {},
   "source": [
    "### Fluxonium"
   ]
  },
  {
   "cell_type": "code",
   "execution_count": 29,
   "metadata": {
    "ExecuteTime": {
     "end_time": "2023-09-26T12:13:25.876066Z",
     "start_time": "2023-09-26T12:13:25.860426200Z"
    }
   },
   "outputs": [
    {
     "data": {
      "text/plain": "<IPython.core.display.Latex object>",
      "text/latex": "$\\hat{H} =~\\omega_1\\hat a^\\dagger_1\\hat a_1~~-~E_{J_{1}}\\cos(\\hat{\\varphi}_1-\\varphi_{\\text{ext}_{1}})$"
     },
     "metadata": {},
     "output_type": "display_data"
    },
    {
     "data": {
      "text/plain": "<IPython.core.display.Latex object>",
      "text/latex": "$------------------------------------------------------------$"
     },
     "metadata": {},
     "output_type": "display_data"
    },
    {
     "data": {
      "text/plain": "<IPython.core.display.Latex object>",
      "text/latex": "$\\text{mode}~1:~~~~~~~~~~~\\text{harmonic}~~~~~~~~~~~\\hat{\\varphi}_1~=~\\varphi_{zp_{1}}(\\hat a_1+\\hat a^\\dagger_1)~~~~~~~~~~~\\omega_1/2\\pi~=~6.30355~~~~~~~~~~~\\varphi_{zp_{1}}~=~6.94e-01$"
     },
     "metadata": {},
     "output_type": "display_data"
    },
    {
     "data": {
      "text/plain": "<IPython.core.display.Latex object>",
      "text/latex": "$------------------------------------------------------------$"
     },
     "metadata": {},
     "output_type": "display_data"
    },
    {
     "data": {
      "text/plain": "<IPython.core.display.Latex object>",
      "text/latex": "$\\text{parameters}:~~~~~~~~~~~E_{J_{1}}~=~10.0~~~~~~~~~~~$"
     },
     "metadata": {},
     "output_type": "display_data"
    },
    {
     "data": {
      "text/plain": "<IPython.core.display.Latex object>",
      "text/latex": "$\\text{loops}:~~~~~~~~~~~~~~~~~~~~\\varphi_{\\text{ext}_{1}}/2\\pi~=~0.5~~~~~~~~~~~$"
     },
     "metadata": {},
     "output_type": "display_data"
    }
   ],
   "source": [
    "loop_fluxonium = sq.Loop(0.5)\n",
    "fluxonium_elements = {\n",
    "    (0, 1): [sq.Capacitor(C/2 + Csh + CJ, 'fF'), sq.Inductor(l/(Lq+4*Lr), 'nH', loops=[loop_fluxonium]), sq.Junction(EJ, 'GHz', loops=[loop_fluxonium])],\n",
    "    # (0, 1): [sq.Inductor(l/(Lq+4*Lr), 'nH', loops=[loop_fluxonium]), sq.Junction(EJ, 'GHz', loops=[loop_fluxonium], cap=sq.Capacitor(C/2 + Csh + CJ, 'fF'))],\n",
    "}\n",
    "fluxonium = sq.Circuit(fluxonium_elements)\n",
    "fluxonium.description()"
   ]
  },
  {
   "cell_type": "markdown",
   "metadata": {},
   "source": [
    "# Spectrum and eigenstates"
   ]
  },
  {
   "cell_type": "markdown",
   "metadata": {},
   "source": [
    "## Resonator spectrum"
   ]
  },
  {
   "cell_type": "code",
   "execution_count": 31,
   "metadata": {
    "ExecuteTime": {
     "end_time": "2023-09-26T12:13:30.972583700Z",
     "start_time": "2023-09-26T12:13:30.956863100Z"
    }
   },
   "outputs": [
    {
     "data": {
      "text/plain": "array([0.0e+00, 7.2e+00, 1.4e+01, 2.2e+01, 2.9e+01, 3.6e+01, 4.3e+01, 5.0e+01])"
     },
     "execution_count": 31,
     "metadata": {},
     "output_type": "execute_result"
    }
   ],
   "source": [
    "L_r = l/Lq * 1e-9\n",
    "C_r = C/2 * 1e-15\n",
    "w_r = 1/np.sqrt(L_r*C_r) / 2 / np.pi / 1e9\n",
    "E_harm = w_r * np.arange(0,8)\n",
    "E_harm"
   ]
  },
  {
   "cell_type": "markdown",
   "metadata": {},
   "source": [
    "## Potential energy and eigenstates resoantor"
   ]
  },
  {
   "cell_type": "code",
   "execution_count": 32,
   "metadata": {
    "ExecuteTime": {
     "end_time": "2023-09-26T12:13:32.474475Z",
     "start_time": "2023-09-26T12:13:31.810563200Z"
    }
   },
   "outputs": [],
   "source": [
    "E_L_r = (Φ_0/(2*np.pi))**2/L_r / h\n",
    "\n",
    "φ_r = np.linspace(-3,3,200)\n",
    "n_eig = 2\n",
    "\n",
    "V_r = 0.5 * E_L_r * (φ_r)**2\n",
    "\n",
    "resonator.set_trunc_nums([20])\n",
    "_, _ = resonator.diag(n_eig)\n",
    "\n",
    "states_r = [resonator.eig_phase_coord(k=i, grid=[φ_r/2/np.pi]) for i in range(n_eig)]\n",
    "\n",
    "fig, ax = plt.subplots()\n",
    "ax.plot(φ_r, (V_r-V_r.min())/1e9, 'k:' )\n",
    "[ax.plot(φ_r, np.abs(state)**2) for state in states_r]\n",
    "ax.set_ylim([-.1,3])\n",
    "fig.show()"
   ]
  },
  {
   "cell_type": "markdown",
   "metadata": {},
   "source": [
    "## Potential energy and eigenstates of the fluxonium\n"
   ]
  },
  {
   "cell_type": "code",
   "execution_count": 33,
   "metadata": {
    "ExecuteTime": {
     "end_time": "2023-09-26T12:13:33.420027600Z",
     "start_time": "2023-09-26T12:13:33.404915900Z"
    }
   },
   "outputs": [],
   "source": [
    "L_q = l / (Lq + 4*Lr) * 1e-9\n",
    "E_J = EJ * 1e9"
   ]
  },
  {
   "cell_type": "code",
   "execution_count": 34,
   "metadata": {
    "ExecuteTime": {
     "end_time": "2023-09-26T12:13:34.091309100Z",
     "start_time": "2023-09-26T12:13:34.075746800Z"
    }
   },
   "outputs": [],
   "source": [
    "E_L_f = (Φ_0/(2*np.pi))**2/L_q / h\n",
    "E_C = e0**2 / (2*(C/2 + Csh + CJ)*1e-15) / h"
   ]
  },
  {
   "cell_type": "code",
   "execution_count": 35,
   "metadata": {
    "ExecuteTime": {
     "end_time": "2023-09-26T12:13:34.568649900Z",
     "start_time": "2023-09-26T12:13:34.553091Z"
    }
   },
   "outputs": [
    {
     "name": "stdout",
     "output_type": "stream",
     "text": [
      "6.539994179227587 0.7594573959979404 10.0\n"
     ]
    }
   ],
   "source": [
    "print(E_L_f/GHz, E_C/GHz, E_J/GHz)"
   ]
  },
  {
   "cell_type": "code",
   "execution_count": 36,
   "metadata": {
    "ExecuteTime": {
     "end_time": "2023-09-26T12:13:35.218626Z",
     "start_time": "2023-09-26T12:13:35.156022800Z"
    }
   },
   "outputs": [],
   "source": [
    "φ_q = np.linspace(-3,3,200)\n",
    "φ_ext = np.pi\n",
    "# V = 0.5 * 1/L_q * (Φ_q)**2 - E_J * np.cos((Φ_q-Φ_ext)*2*np.pi)\n",
    "V = 0.5 * E_L_f * (φ_q)**2 - E_J * np.cos(φ_q-φ_ext)\n",
    "\n",
    "n_eig = 2\n",
    "fluxonium.set_trunc_nums([20])\n",
    "loop_fluxonium.set_flux(φ_ext/2/np.pi)\n",
    "_, _ = fluxonium.diag(n_eig)\n",
    "states_f = [fluxonium.eig_phase_coord(k=i, grid=[φ_q/2/np.pi]) for i in range(n_eig)]\n",
    "\n",
    "\n",
    "fig, ax = plt.subplots()\n",
    "ax.plot(φ_q, (V-V.min())/1e9, 'k:' )\n",
    "\n",
    "[ax.plot(φ_q, np.abs(state)**2) for state in states_f]\n",
    "# ax.vlines(φ_min,-.1,3)\n",
    "ax.set_ylim([-.1,3])\n",
    "fig.show()"
   ]
  },
  {
   "cell_type": "markdown",
   "metadata": {},
   "source": [
    "## Spectrum vs external flux"
   ]
  },
  {
   "cell_type": "code",
   "execution_count": 100,
   "metadata": {},
   "outputs": [],
   "source": [
    "qubit.set_trunc_nums([1, 15, 15])\n",
    "fluxonium.set_trunc_nums([10])\n",
    "\n",
    "# spectrum of the qubit\n",
    "# phi = np.linspace(0,1,100)\n",
    "phi = np.linspace(0.36,0.38,500)\n",
    "n_eig=8\n",
    "spec = np.zeros((n_eig, len(phi)))\n",
    "E_qubit = np.zeros((n_eig, len(phi)))\n",
    "\n",
    "eig_colors = plt.get_cmap('viridis_r')(np.linspace(0, 255, n_eig).astype('int'))\n",
    "for i in range(len(phi)):\n",
    "    # set the external flux for the loop\n",
    "    loop_fluxonium.set_flux(phi[i])\n",
    "    loop.set_flux(phi[i])\n",
    "    # diagonalize the qubit\n",
    "    spec[:, i] = qubit.diag(n_eig)[0]\n",
    "    E_qubit[:, i] = fluxonium.diag(n_eig)[0]\n",
    "\n",
    "fig, ax = plt.subplots(dpi=150)\n",
    "for i in range(n_eig):\n",
    "    ax.plot(phi, spec[i,:]- spec[0,:], color=eig_colors[i], linewidth=1)\n",
    "for i in range(n_eig//2):\n",
    "    ax.plot([phi[0],phi[-1]], [E_harm[i],E_harm[i]], ':k' )\n",
    "    ax.plot(phi, E_qubit[i,:]- E_qubit[0,:], color='r', linestyle = ':')\n",
    "\n",
    "ax.set_xlabel(r\"$\\Phi_{ext}/\\Phi_0$\", fontsize=13)\n",
    "ax.set_ylabel(r\"$f_i-f_0$[GHz]\", fontsize=13)\n",
    "fig.suptitle('(a)')\n",
    "ax.set_ylim(7,7.5)\n",
    "fig.show()\n",
    "figs.export('Full_spectrum.pdf')"
   ]
  },
  {
   "cell_type": "code",
   "execution_count": null,
   "outputs": [],
   "source": [],
   "metadata": {
    "collapsed": false
   }
  },
  {
   "cell_type": "markdown",
   "metadata": {},
   "source": [
    "## Eigenstates of the qubit in phase base"
   ]
  },
  {
   "cell_type": "code",
   "execution_count": 38,
   "metadata": {
    "ExecuteTime": {
     "end_time": "2023-09-26T12:13:41.994668Z",
     "start_time": "2023-09-26T12:13:38.854877500Z"
    }
   },
   "outputs": [],
   "source": [
    "qubit.set_trunc_nums([1,15,15])\n",
    "\n",
    "# creat the phase grid\n",
    "phi1 = 0\n",
    "phi2 = np.linspace(-0.005, 0.005, 100)\n",
    "phi3 = np.linspace(-0.5, 0.5  , 100)\n",
    "grid = [phi1, phi2, phi3]\n",
    "\n",
    "state0_vs_ext_flux = []\n",
    "state1_vs_ext_flux = []\n",
    "state2_vs_ext_flux = []\n",
    "state3_vs_ext_flux = []\n",
    "\n",
    "ext_flux_list = [0.5, 0.55, 0.65, 1]\n",
    "# loop thorugh several values of external flux\n",
    "for ext_flux in ext_flux_list:\n",
    "    loop.set_flux(ext_flux)\n",
    "    _, _ = qubit.diag(n_eig=5)\n",
    "\n",
    "    # Calculate eigenstates in phase coord\n",
    "    state0_vs_ext_flux.append(qubit.eig_phase_coord(0, grid=grid))\n",
    "    state1_vs_ext_flux.append(qubit.eig_phase_coord(1, grid=grid))\n",
    "    state2_vs_ext_flux.append(qubit.eig_phase_coord(2, grid=grid))\n",
    "    state3_vs_ext_flux.append(qubit.eig_phase_coord(3, grid=grid))"
   ]
  },
  {
   "cell_type": "code",
   "execution_count": 39,
   "metadata": {
    "ExecuteTime": {
     "end_time": "2023-09-26T12:14:14.785886600Z",
     "start_time": "2023-09-26T12:13:42.005484500Z"
    }
   },
   "outputs": [],
   "source": [
    "fig, axs = plt.subplots(4, 4, figsize=(4*4, 4*4), sharey='row', sharex = 'col', dpi=150)\n",
    "\n",
    "for i, ext_flux in enumerate(ext_flux_list):\n",
    "    axs[i, 0].contourf(phi3, phi2, np.abs(state0_vs_ext_flux[i].T) ** 2, cmap=\"Blues\", )\n",
    "    axs[i, 1].contourf(phi3, phi2, np.abs(state1_vs_ext_flux[i].T) ** 2, cmap=\"Greens\" )\n",
    "    axs[i, 2].contourf(phi3, phi2, np.abs(state2_vs_ext_flux[i].T) ** 2, cmap=\"Oranges\")\n",
    "    axs[i, 3].contourf(phi3, phi2, np.abs(state3_vs_ext_flux[i].T) ** 2, cmap=\"Reds\"   )\n",
    "    for j in range(4):\n",
    "        axs[-1, j].set_xlabel(r\"$\\varphi_2$\", fontsize=13)\n",
    "    axs[i, 0].set_ylabel(r\"$\\varphi_3$\", fontsize=13)\n",
    "    axs[i, 0].set_title('$\\phi_{ext}/\\phi_{0}$ ='+f'{ext_flux}', fontsize=13, y=0.9 )\n",
    "fig.suptitle('Eigenstates 0, 1, 2 and 3 (from left to right) in phase base')\n",
    "plt.subplots_adjust(wspace=0)\n",
    "plt.subplots_adjust(hspace=0)\n",
    "plt.show()"
   ]
  },
  {
   "cell_type": "markdown",
   "metadata": {},
   "source": [
    "# Fluxonium-Resonator internal coupling in KIT's qubit"
   ]
  },
  {
   "cell_type": "code",
   "execution_count": 52,
   "metadata": {
    "ExecuteTime": {
     "end_time": "2023-09-26T12:14:26.438425400Z",
     "start_time": "2023-09-26T12:14:26.375429800Z"
    }
   },
   "outputs": [],
   "source": [
    "fluxonium.set_trunc_nums([15])\n",
    "resonator.set_trunc_nums([15])\n",
    "loop_fluxonium.set_flux(0.5)\n",
    "loop.set_flux(0.5)\n",
    "_ = qubit.diag(2)\n",
    "_ = fluxonium.diag(2)\n",
    "_ = resonator.diag(2)"
   ]
  },
  {
   "cell_type": "code",
   "execution_count": 53,
   "metadata": {
    "ExecuteTime": {
     "end_time": "2023-09-26T12:14:26.872592700Z",
     "start_time": "2023-09-26T12:14:26.841344200Z"
    }
   },
   "outputs": [
    {
     "data": {
      "text/plain": "1.9453602983437293"
     },
     "execution_count": 53,
     "metadata": {},
     "output_type": "execute_result"
    }
   ],
   "source": [
    "Δ01 = (qubit.efreqs[1]-qubit.efreqs[0])\n",
    "Δ01"
   ]
  },
  {
   "cell_type": "code",
   "execution_count": 54,
   "metadata": {
    "ExecuteTime": {
     "end_time": "2023-09-26T12:14:27.821392200Z",
     "start_time": "2023-09-26T12:14:27.805748200Z"
    }
   },
   "outputs": [
    {
     "data": {
      "text/plain": "0.01006152950650398"
     },
     "execution_count": 54,
     "metadata": {},
     "output_type": "execute_result"
    }
   ],
   "source": [
    "L_c = l / Δ * 1e-9\n",
    "E_L_c = (Φ_0/(2*np.pi))**2/L_c / h / GHz\n",
    "E_L_c"
   ]
  },
  {
   "cell_type": "code",
   "execution_count": 55,
   "metadata": {
    "ExecuteTime": {
     "end_time": "2023-09-26T12:14:28.459298200Z",
     "start_time": "2023-09-26T12:14:28.428015600Z"
    }
   },
   "outputs": [
    {
     "data": {
      "text/plain": "38.41921243891211"
     },
     "execution_count": 55,
     "metadata": {},
     "output_type": "execute_result"
    }
   ],
   "source": [
    "Φ_f = sq_ext.decomposition_in_pauli_2x2(fluxonium.flux_op(0, basis='eig').__array__())[1]\n",
    "Φ_f"
   ]
  },
  {
   "cell_type": "code",
   "execution_count": 56,
   "metadata": {
    "ExecuteTime": {
     "end_time": "2023-09-26T12:14:29.259524600Z",
     "start_time": "2023-09-26T12:14:29.228254100Z"
    }
   },
   "outputs": [
    {
     "data": {
      "text/plain": "38.365883888557"
     },
     "execution_count": 56,
     "metadata": {},
     "output_type": "execute_result"
    }
   ],
   "source": [
    "Φ_r = sq_ext.decomposition_in_pauli_2x2(resonator.flux_op(0, basis='eig').__array__())[1]\n",
    "Φ_r"
   ]
  },
  {
   "cell_type": "code",
   "execution_count": 68,
   "outputs": [
    {
     "data": {
      "text/plain": "1473.987043521107"
     },
     "execution_count": 68,
     "metadata": {},
     "output_type": "execute_result"
    }
   ],
   "source": [
    "Φ_r * Φ_f"
   ],
   "metadata": {
    "collapsed": false,
    "ExecuteTime": {
     "end_time": "2023-09-26T12:39:20.874197500Z",
     "start_time": "2023-09-26T12:39:20.859361500Z"
    }
   }
  },
  {
   "cell_type": "code",
   "execution_count": 57,
   "metadata": {
    "ExecuteTime": {
     "end_time": "2023-09-26T12:14:29.870146500Z",
     "start_time": "2023-09-26T12:14:29.854523900Z"
    }
   },
   "outputs": [
    {
     "data": {
      "text/plain": "0.09070912782598382"
     },
     "execution_count": 57,
     "metadata": {},
     "output_type": "execute_result"
    }
   ],
   "source": [
    "g = Φ_r * Φ_f / L_c / GHz\n",
    "g"
   ]
  },
  {
   "cell_type": "code",
   "execution_count": 58,
   "metadata": {
    "ExecuteTime": {
     "end_time": "2023-09-26T12:14:30.800307500Z",
     "start_time": "2023-09-26T12:14:30.752429Z"
    }
   },
   "outputs": [
    {
     "data": {
      "text/plain": "4.662844610492624"
     },
     "execution_count": 58,
     "metadata": {},
     "output_type": "execute_result"
    }
   ],
   "source": [
    "g / Δ01 * 100"
   ]
  },
  {
   "cell_type": "markdown",
   "metadata": {},
   "source": [
    "### Analytical approximation of the fluxonim-resonator coupling"
   ]
  },
  {
   "cell_type": "code",
   "execution_count": 59,
   "metadata": {
    "ExecuteTime": {
     "end_time": "2023-09-26T12:14:32.684929900Z",
     "start_time": "2023-09-26T12:14:32.669263700Z"
    }
   },
   "outputs": [
    {
     "data": {
      "text/plain": "1.527628932582084"
     },
     "execution_count": 59,
     "metadata": {},
     "output_type": "execute_result"
    }
   ],
   "source": [
    "dVdφ =  lambda φ: E_L_f*φ + E_J*np.sin(φ+np.pi)\n",
    "φ_min = sp.optimize.fsolve(dVdφ, 1)[0]\n",
    "φ_min"
   ]
  },
  {
   "cell_type": "code",
   "execution_count": 60,
   "metadata": {
    "ExecuteTime": {
     "end_time": "2023-09-26T12:14:33.083849600Z",
     "start_time": "2023-09-26T12:14:33.065029300Z"
    }
   },
   "outputs": [
    {
     "data": {
      "text/plain": "4.962456082226201e-15"
     },
     "execution_count": 60,
     "metadata": {},
     "output_type": "execute_result"
    }
   ],
   "source": [
    "Φ_f_an =(Φ_0 / 2*np.pi) * φ_min\n",
    "Φ_f_an"
   ]
  },
  {
   "cell_type": "code",
   "execution_count": 61,
   "metadata": {
    "ExecuteTime": {
     "end_time": "2023-09-26T12:14:33.342476100Z",
     "start_time": "2023-09-26T12:14:33.320691300Z"
    }
   },
   "outputs": [
    {
     "data": {
      "text/plain": "3.939883949812526e-16"
     },
     "execution_count": 61,
     "metadata": {},
     "output_type": "execute_result"
    }
   ],
   "source": [
    "Φ_r_an = np.sqrt(sq.hbar/2 * np.sqrt(L_r/C_r))\n",
    "Φ_r_an"
   ]
  },
  {
   "cell_type": "code",
   "execution_count": 62,
   "metadata": {
    "ExecuteTime": {
     "end_time": "2023-09-26T12:14:33.495897700Z",
     "start_time": "2023-09-26T12:14:33.483766200Z"
    }
   },
   "outputs": [
    {
     "data": {
      "text/plain": "0.18158752095082853"
     },
     "execution_count": 62,
     "metadata": {},
     "output_type": "execute_result"
    }
   ],
   "source": [
    "g_an = Φ_f_an * Φ_r_an /L_c / h /GHz\n",
    "g_an"
   ]
  },
  {
   "cell_type": "code",
   "execution_count": 63,
   "metadata": {
    "ExecuteTime": {
     "end_time": "2023-09-26T12:14:33.660612300Z",
     "start_time": "2023-09-26T12:14:33.644988900Z"
    }
   },
   "outputs": [
    {
     "data": {
      "text/plain": "9.334390195247188"
     },
     "execution_count": 63,
     "metadata": {},
     "output_type": "execute_result"
    }
   ],
   "source": [
    "g_an / Δ01 * 100"
   ]
  },
  {
   "cell_type": "markdown",
   "metadata": {},
   "source": [
    "# Alternative method to calculate the coupling"
   ]
  },
  {
   "cell_type": "code",
   "execution_count": 155,
   "metadata": {
    "ExecuteTime": {
     "end_time": "2023-09-19T12:24:08.589736681Z",
     "start_time": "2023-09-19T12:24:08.525748912Z"
    }
   },
   "outputs": [],
   "source": [
    "qubit.set_trunc_nums([1, 5, 10])\n",
    "resonator.set_trunc_nums([5])\n",
    "fluxonium.set_trunc_nums([10])"
   ]
  },
  {
   "cell_type": "code",
   "execution_count": 159,
   "metadata": {
    "ExecuteTime": {
     "end_time": "2023-09-19T12:24:43.797839280Z",
     "start_time": "2023-09-19T12:24:43.743290185Z"
    }
   },
   "outputs": [
    {
     "data": {
      "text/latex": [
       "Quantum object: dims = [[5, 10], [5, 10]], shape = (50, 50), type = oper, isherm = True $ \\\\ \\left(\\begin{matrix}4.938\\times10^{+10} & 0.0 & -1.682\\times10^{+10} & 0.0 & 2.340\\times10^{+09} & \\cdots & 0.0 & -0.861 & 0.0 & 0.0 & 0.0\\\\0.0 & 6.519\\times10^{+10} & 0.0 & -2.446\\times10^{+10} & 0.0 & \\cdots & 19.785 & 0.0 & -2.123 & 0.0 & 0.166\\\\-1.682\\times10^{+10} & 0.0 & 8.673\\times10^{+10} & 0.0 & -2.877\\times10^{+10} & \\cdots & 0.0 & 30.907 & 0.0 & -3.932 & 0.0\\\\0.0 & -2.446\\times10^{+10} & 0.0 & 1.131\\times10^{+11} & 0.0 & \\cdots & -127.836 & 0.0 & 42.523 & 0.0 & -6.946\\\\2.340\\times10^{+09} & 0.0 & -2.877\\times10^{+10} & 0.0 & 1.434\\times10^{+11} & \\cdots & 0.0 & -127.080 & 0.0 & 53.123 & 0.0\\\\\\vdots & \\vdots & \\vdots & \\vdots & \\vdots & \\ddots & \\vdots & \\vdots & \\vdots & \\vdots & \\vdots\\\\0.0 & 19.785 & 0.0 & -127.836 & 0.0 & \\cdots & 3.583\\times10^{+11} & 0.0 & -2.896\\times10^{+10} & 0.0 & 1.852\\times10^{+10}\\\\-0.861 & 0.0 & 30.907 & 0.0 & -127.080 & \\cdots & 0.0 & 3.943\\times10^{+11} & 0.0 & -2.235\\times10^{+10} & 0.0\\\\0.0 & -2.123 & 0.0 & 42.523 & 0.0 & \\cdots & -2.896\\times10^{+10} & 0.0 & 4.368\\times10^{+11} & 0.0 & -4.249\\times10^{+10}\\\\0.0 & 0.0 & -3.932 & 0.0 & 53.123 & \\cdots & 0.0 & -2.235\\times10^{+10} & 0.0 & 4.523\\times10^{+11} & 0.0\\\\0.0 & 0.166 & 0.0 & -6.946 & 0.0 & \\cdots & 1.852\\times10^{+10} & 0.0 & -4.249\\times10^{+10} & 0.0 & 5.320\\times10^{+11}\\\\\\end{matrix}\\right)$"
      ],
      "text/plain": [
       "Quantum object: dims = [[5, 10], [5, 10]], shape = (50, 50), type = oper, isherm = True\n",
       "Qobj data =\n",
       "[[4.9e+10 0.0e+00 -1.7e+10 ... 0.0e+00 0.0e+00 0.0e+00]\n",
       " [0.0e+00 6.5e+10 0.0e+00 ... -2.1e+00 0.0e+00 1.7e-01]\n",
       " [-1.7e+10 0.0e+00 8.7e+10 ... 0.0e+00 -3.9e+00 0.0e+00]\n",
       " ...\n",
       " [0.0e+00 -2.1e+00 0.0e+00 ... 4.4e+11 0.0e+00 -4.2e+10]\n",
       " [0.0e+00 0.0e+00 -3.9e+00 ... 0.0e+00 4.5e+11 0.0e+00]\n",
       " [0.0e+00 1.7e-01 0.0e+00 ... -4.2e+10 0.0e+00 5.3e+11]]"
      ]
     },
     "execution_count": 159,
     "metadata": {},
     "output_type": "execute_result"
    }
   ],
   "source": [
    "H = qubit.hamiltonian()\n",
    "H_r = resonator.hamiltonian()\n",
    "H_f = fluxonium.hamiltonian()\n",
    "H"
   ]
  },
  {
   "cell_type": "code",
   "execution_count": 160,
   "metadata": {
    "ExecuteTime": {
     "end_time": "2023-09-19T12:24:47.787867762Z",
     "start_time": "2023-09-19T12:24:47.732971462Z"
    }
   },
   "outputs": [
    {
     "data": {
      "text/latex": [
       "Quantum object: dims = [[5, 10], [5, 10]], shape = (50, 50), type = oper, isherm = True $ \\\\ \\left(\\begin{matrix}4.938\\times10^{+10} & 0.0 & -1.683\\times10^{+10} & 0.0 & 2.342\\times10^{+09} & \\cdots & 0.0 & 0.0 & 0.0 & 0.0 & 0.0\\\\0.0 & 6.518\\times10^{+10} & 0.0 & -2.447\\times10^{+10} & 0.0 & \\cdots & 0.0 & 0.0 & 0.0 & 0.0 & 0.0\\\\-1.683\\times10^{+10} & 0.0 & 8.672\\times10^{+10} & 0.0 & -2.877\\times10^{+10} & \\cdots & 0.0 & 0.0 & 0.0 & 0.0 & 0.0\\\\0.0 & -2.447\\times10^{+10} & 0.0 & 1.131\\times10^{+11} & 0.0 & \\cdots & 0.0 & 0.0 & 0.0 & 0.0 & 0.0\\\\2.342\\times10^{+09} & 0.0 & -2.877\\times10^{+10} & 0.0 & 1.434\\times10^{+11} & \\cdots & 0.0 & 0.0 & 0.0 & 0.0 & 0.0\\\\\\vdots & \\vdots & \\vdots & \\vdots & \\vdots & \\ddots & \\vdots & \\vdots & \\vdots & \\vdots & \\vdots\\\\0.0 & 0.0 & 0.0 & 0.0 & 0.0 & \\cdots & 3.583\\times10^{+11} & 0.0 & -2.897\\times10^{+10} & 0.0 & 1.853\\times10^{+10}\\\\0.0 & 0.0 & 0.0 & 0.0 & 0.0 & \\cdots & 0.0 & 3.943\\times10^{+11} & 0.0 & -2.235\\times10^{+10} & 0.0\\\\0.0 & 0.0 & 0.0 & 0.0 & 0.0 & \\cdots & -2.897\\times10^{+10} & 0.0 & 4.368\\times10^{+11} & 0.0 & -4.250\\times10^{+10}\\\\0.0 & 0.0 & 0.0 & 0.0 & 0.0 & \\cdots & 0.0 & -2.235\\times10^{+10} & 0.0 & 4.523\\times10^{+11} & 0.0\\\\0.0 & 0.0 & 0.0 & 0.0 & 0.0 & \\cdots & 1.853\\times10^{+10} & 0.0 & -4.250\\times10^{+10} & 0.0 & 5.320\\times10^{+11}\\\\\\end{matrix}\\right)$"
      ],
      "text/plain": [
       "Quantum object: dims = [[5, 10], [5, 10]], shape = (50, 50), type = oper, isherm = True\n",
       "Qobj data =\n",
       "[[4.9e+10 0.0e+00 -1.7e+10 ... 0.0e+00 0.0e+00 0.0e+00]\n",
       " [0.0e+00 6.5e+10 0.0e+00 ... 0.0e+00 0.0e+00 0.0e+00]\n",
       " [-1.7e+10 0.0e+00 8.7e+10 ... 0.0e+00 0.0e+00 0.0e+00]\n",
       " ...\n",
       " [0.0e+00 0.0e+00 0.0e+00 ... 4.4e+11 0.0e+00 -4.2e+10]\n",
       " [0.0e+00 0.0e+00 0.0e+00 ... 0.0e+00 4.5e+11 0.0e+00]\n",
       " [0.0e+00 0.0e+00 0.0e+00 ... -4.2e+10 0.0e+00 5.3e+11]]"
      ]
     },
     "execution_count": 160,
     "metadata": {},
     "output_type": "execute_result"
    }
   ],
   "source": [
    "H_u = qt.tensor(H_r, qt.qeye(fluxonium.m )) + qt.tensor(qt.qeye(resonator.m), H_f)\n",
    "H_u"
   ]
  },
  {
   "cell_type": "code",
   "execution_count": 183,
   "metadata": {
    "ExecuteTime": {
     "end_time": "2023-09-19T13:00:18.733152147Z",
     "start_time": "2023-09-19T13:00:18.674037717Z"
    }
   },
   "outputs": [
    {
     "data": {
      "text/plain": "Quantum object: dims = [[5, 10], [5, 10]], shape = (50, 50), type = oper, isherm = True\nQobj data =\n[[-7.2e+09 0.0e+00 1.7e+10 ... 6.0e-01 -5.4e+01 0.0e+00]\n [0.0e+00 -1.1e+10 0.0e+00 ... 0.0e+00 0.0e+00 8.3e-01]\n [1.7e+10 0.0e+00 -5.9e+09 ... -3.3e+00 -5.6e+02 0.0e+00]\n ...\n [6.0e-01 0.0e+00 -3.3e+00 ... 2.7e+10 -7.9e+08 4.2e+10]\n [-5.4e+01 0.0e+00 -5.6e+02 ... -7.9e+08 5.5e+10 0.0e+00]\n [0.0e+00 8.3e-01 0.0e+00 ... 4.2e+10 0.0e+00 2.1e+10]]",
      "text/latex": "Quantum object: dims = [[5, 10], [5, 10]], shape = (50, 50), type = oper, isherm = True $ \\\\ \\left(\\begin{matrix}-7.229\\times10^{+09} & 0.0 & 1.683\\times10^{+10} & 0.0 & -2.875\\times10^{+09} & \\cdots & 0.0 & 0.0 & 0.603 & -53.555 & 0.0\\\\0.0 & -1.081\\times10^{+10} & 0.0 & 2.393\\times10^{+10} & 0.0 & \\cdots & 5.099 & 2.014\\times10^{+04} & 0.0 & 0.0 & 0.832\\\\1.683\\times10^{+10} & 0.0 & -5.873\\times10^{+09} & 0.0 & 2.846\\times10^{+10} & \\cdots & 0.0 & 0.0 & -3.348 & -564.568 & 0.0\\\\0.0 & 2.393\\times10^{+10} & 0.0 & -2.565\\times10^{+10} & 0.0 & \\cdots & 757.278 & -1.296\\times10^{+06} & 0.0 & 0.0 & -107.111\\\\-2.875\\times10^{+09} & 0.0 & 2.846\\times10^{+10} & 0.0 & -4.377\\times10^{+10} & \\cdots & 0.0 & 0.0 & -992.313 & -3.488\\times10^{+04} & 0.0\\\\\\vdots & \\vdots & \\vdots & \\vdots & \\vdots & \\ddots & \\vdots & \\vdots & \\vdots & \\vdots & \\vdots\\\\0.0 & 5.099 & 0.0 & 757.278 & 0.0 & \\cdots & 7.025\\times10^{+10} & 8.394\\times10^{+06} & 2.897\\times10^{+10} & 0.0 & -1.854\\times10^{+10}\\\\0.0 & 2.014\\times10^{+04} & 0.0 & -1.296\\times10^{+06} & 0.0 & \\cdots & 8.394\\times10^{+06} & 6.765\\times10^{+10} & 0.0 & 2.235\\times10^{+10} & 7.460\\times10^{+06}\\\\0.603 & 0.0 & -3.348 & 0.0 & -992.313 & \\cdots & 2.897\\times10^{+10} & 0.0 & 2.707\\times10^{+10} & -7.909\\times10^{+08} & 4.250\\times10^{+10}\\\\-53.555 & 0.0 & -564.568 & 0.0 & -3.488\\times10^{+04} & \\cdots & 0.0 & 2.235\\times10^{+10} & -7.909\\times10^{+08} & 5.497\\times10^{+10} & 0.0\\\\0.0 & 0.832 & 0.0 & -107.111 & 0.0 & \\cdots & -1.854\\times10^{+10} & 7.460\\times10^{+06} & 4.250\\times10^{+10} & 0.0 & 2.060\\times10^{+10}\\\\\\end{matrix}\\right)$"
     },
     "execution_count": 183,
     "metadata": {},
     "output_type": "execute_result"
    }
   ],
   "source": [
    "H_c = H.transform(H_u.eigenstates()[1]) - H_u\n",
    "H_c"
   ]
  },
  {
   "cell_type": "code",
   "execution_count": 235,
   "outputs": [],
   "source": [
    "eigs_H_u = np.array( [ eig.__array__()[:,0] for eig in H_u.eigenstates()[1] ] ) \n",
    "eigs_H_c = np.array( [ eig.__array__()[:,0] for eig in H_c.eigenstates()[1] ] )\n"
   ],
   "metadata": {
    "collapsed": false,
    "ExecuteTime": {
     "end_time": "2023-09-19T13:16:13.771781029Z",
     "start_time": "2023-09-19T13:16:13.712904613Z"
    }
   }
  },
  {
   "cell_type": "code",
   "execution_count": 238,
   "outputs": [
    {
     "data": {
      "text/plain": "array([[ 1.64015940e+11+0.j,  2.52574204e+09+0.j, -4.53846984e+10+0.j, ...,  2.23568213e+06+0.j, -3.45352578e+07+0.j, -1.57727046e+07+0.j],\n       [ 2.52574204e+09+0.j,  2.05411262e+11+0.j,  1.18271095e+09+0.j, ..., -3.32548658e+07+0.j, -5.32696592e+05+0.j,  4.16558641e+07+0.j],\n       [-4.53846984e+10+0.j,  1.18271095e+09+0.j,  2.34211510e+11+0.j, ..., -9.10821563e+07+0.j,  1.10619557e+08+0.j,  5.12603011e+07+0.j],\n       ...,\n       [ 2.23568213e+06+0.j, -3.32548658e+07+0.j, -9.10821563e+07+0.j, ...,  2.95973897e+11+0.j,  3.92431775e+09+0.j, -3.28691960e+10+0.j],\n       [-3.45352578e+07+0.j, -5.32696592e+05+0.j,  1.10619557e+08+0.j, ...,  3.92431775e+09+0.j,  3.66482801e+11+0.j, -9.16278169e+09+0.j],\n       [-1.57727046e+07+0.j,  4.16558641e+07+0.j,  5.12603011e+07+0.j, ..., -3.28691960e+10+0.j, -9.16278169e+09+0.j,  3.75972566e+11+0.j]])"
     },
     "execution_count": 238,
     "metadata": {},
     "output_type": "execute_result"
    }
   ],
   "source": [
    "sq_ext.H_eff_SWT_eigs(eigs_H_u, eigs_H_c, H_u.eigenenergies())"
   ],
   "metadata": {
    "collapsed": false,
    "ExecuteTime": {
     "end_time": "2023-09-19T13:17:17.774766081Z",
     "start_time": "2023-09-19T13:17:17.707169997Z"
    }
   }
  }
 ],
 "metadata": {
  "kernelspec": {
   "display_name": "Python 3 (ipykernel)",
   "language": "python",
   "name": "python3"
  },
  "language_info": {
   "codemirror_mode": {
    "name": "ipython",
    "version": 3
   },
   "file_extension": ".py",
   "mimetype": "text/x-python",
   "name": "python",
   "nbconvert_exporter": "python",
   "pygments_lexer": "ipython3",
   "version": "3.8.18"
  }
 },
 "nbformat": 4,
 "nbformat_minor": 1
}
