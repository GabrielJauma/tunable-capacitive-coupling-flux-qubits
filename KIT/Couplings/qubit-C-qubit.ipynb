{
 "cells": [
  {
   "cell_type": "code",
   "execution_count": 1,
   "outputs": [],
   "source": [
    "import Modules.SQcircuit_extensions as sq_ext\n",
    "import Modules.figures as figs\n",
    "import SQcircuit as sq\n",
    "import numpy as np\n",
    "import matplotlib.pyplot as plt\n",
    "import importlib\n",
    "import qutip as qt\n",
    "\n",
    "%matplotlib ipympl\n",
    "plt.rcParams['text.usetex'] = False\n",
    "importlib.reload(sq_ext)\n",
    "importlib.reload(sq)\n",
    "importlib.reload(figs)\n",
    "np.set_printoptions(linewidth=300, formatter={'float': '{:.12f}'.format})\n",
    "# np.set_printoptions(linewidth=200, formatter={'float': '{:.1e}'.format})"
   ],
   "metadata": {
    "collapsed": false,
    "ExecuteTime": {
     "end_time": "2024-01-30T11:29:16.857422820Z",
     "start_time": "2024-01-30T11:29:16.506226137Z"
    }
   },
   "id": "2dc572c9a0671950"
  },
  {
   "cell_type": "code",
   "execution_count": 2,
   "outputs": [],
   "source": [
    "# Fundamental constants\n",
    "h    = 6.626e-34\n",
    "GHz = 1e9\n",
    "e0   = 1.602e-19\n",
    "Φ_0 = h/(2*e0)\n",
    "\n",
    "# Circuit parameters\n",
    "Csh = 15\n",
    "C   = 15\n",
    "Cg  = 10\n",
    "CJ  = 3\n",
    "Lq  = 25\n",
    "Lr  = 10\n",
    "Δ   = 0.1\n",
    "EJ  = 10.0\n",
    "l = Lq*(Lq+4*Lr) - 4*Δ**2\n",
    "\n",
    "Cc = 10"
   ],
   "metadata": {
    "collapsed": false,
    "ExecuteTime": {
     "end_time": "2024-01-30T11:29:17.264992999Z",
     "start_time": "2024-01-30T11:29:17.260166770Z"
    }
   },
   "id": "4e990ee21e8d01c2"
  },
  {
   "cell_type": "code",
   "execution_count": 3,
   "outputs": [],
   "source": [
    "nmax_r = 10\n",
    "nmax_f = 10"
   ],
   "metadata": {
    "collapsed": false,
    "ExecuteTime": {
     "end_time": "2024-01-30T11:29:18.033823586Z",
     "start_time": "2024-01-30T11:29:18.030379829Z"
    }
   },
   "id": "3fb0929126c04476"
  },
  {
   "cell_type": "markdown",
   "source": [
    "# Symmetric Cc coupling\n",
    "That is, the inner nodes of the qubits are coupled with Cc, and the outer nodes of the qubits are coupled with Cc to their respective readout lines.\n",
    "As a result, the renormalization induced by Cc ensures that the qubit and resonator modes are still the symmetric and atisymmetric combination of the fluxes of the upper nodes."
   ],
   "metadata": {
    "collapsed": false
   },
   "id": "ea25895065fd4e4f"
  },
  {
   "cell_type": "markdown",
   "source": [
    "## Composing the circuit with fluxoniums and resonatrs"
   ],
   "metadata": {
    "collapsed": false
   },
   "id": "8952d1d69ad26801"
  },
  {
   "cell_type": "code",
   "execution_count": 14,
   "outputs": [],
   "source": [
    "def hamiltonian_qubit_C_qubit(nmax_r, nmax_f, Cc, C = 15, CJ = 3, Csh= 15, Lq = 25, Lr = 10, Δ = 0.1, coupling='Yes', factor=1):\n",
    "    fF = 1e-15\n",
    "    \n",
    "    resonator = sq_ext.KIT_resonator(C = C+Cc,                     Lq = Lq, Lr = Lr, Δ = Δ, trunc_res =nmax_r)\n",
    "    fluxonium = sq_ext.KIT_fluxonium(C = C+Cc, CJ = CJ, Csh = Csh, Lq = Lq, Lr = Lr, Δ = Δ, trunc_flux=nmax_f)\n",
    "    \n",
    "    H_left  = sq_ext.hamiltonian_frc(fluxonium, resonator,Δ)\n",
    "    H_right = sq_ext.hamiltonian_frc(fluxonium, resonator,Δ)\n",
    "    \n",
    "    I_r       = qt.identity(nmax_r)\n",
    "    I_f       = qt.identity(nmax_f)\n",
    "    I_H_left  = qt.identity(H_left .dims[0])\n",
    "    I_H_right = qt.identity(H_right.dims[0])\n",
    "    \n",
    "    q_r = qt.tensor(resonator.charge_op(0), I_f)\n",
    "    q_f = qt.tensor(I_r, fluxonium.charge_op(0))\n",
    "    \n",
    "    g = factor/(4*Cc*fF)\n",
    "    \n",
    "    if coupling == 'Yes':\n",
    "        H = qt.tensor(H_left, I_H_right) + qt.tensor(I_H_left, H_right) + g * (  qt.tensor(q_f,q_f) - qt.tensor(q_r,q_r) + qt.tensor(q_f,q_r) - qt.tensor(q_r,q_f) ) \n",
    "        \n",
    "    elif coupling == 'No':\n",
    "        H = qt.tensor(H_left, I_H_right) + qt.tensor(I_H_left, H_right)\n",
    "        \n",
    "    elif coupling == 'Only':\n",
    "        H = g * (  qt.tensor(q_f,q_f) - qt.tensor(q_r,q_r) + qt.tensor(q_f,q_r) - qt.tensor(q_r,q_f) ) \n",
    "        \n",
    "    return H\n"
   ],
   "metadata": {
    "collapsed": false,
    "ExecuteTime": {
     "end_time": "2024-01-30T11:33:21.771885490Z",
     "start_time": "2024-01-30T11:33:21.769372405Z"
    }
   },
   "id": "fc89e2fe3ac18768"
  },
  {
   "cell_type": "markdown",
   "source": [
    "## Creating the full circuits with sqcircuits to check that the energies are the same\n",
    "### Circuit elements"
   ],
   "metadata": {
    "collapsed": false
   },
   "id": "8a574132ffa304f4"
  },
  {
   "cell_type": "code",
   "execution_count": 5,
   "outputs": [],
   "source": [
    "# Initialize loops\n",
    "loop_qubit = sq.Loop(0.5)\n",
    "loop1_qubit_C_qubit= sq.Loop(0.5)\n",
    "loop2_qubit_C_qubit = sq.Loop(0.5)\n",
    "\n",
    "# Circuit components\n",
    "C_01, C_01_rc, C_02, C_02_rc, C_12, L_03, L_31, L_23, JJ_12 = [[] for _ in range(9)]\n",
    "for loop in [loop_qubit, loop1_qubit_C_qubit, loop2_qubit_C_qubit]:\n",
    "    C_01       .append(sq.Capacitor(C,          'fF'))\n",
    "    C_01_rc    .append(sq.Capacitor(C+Cc,       'fF')) # With extra Cc for redout or coupling\n",
    "    C_02       .append(sq.Capacitor(C,          'fF'))\n",
    "    C_02_rc    .append(sq.Capacitor(C+Cc,       'fF')) # With extra Cc for redout or coupling\n",
    "    C_12 .append(sq.Capacitor(CJ+Csh,  'fF'))\n",
    "    L_03 .append(sq.Inductor(Lr,       'nH'))\n",
    "    L_31 .append(sq.Inductor(Lq/2 - Δ, 'nH',  loops=[loop]))\n",
    "    L_23 .append(sq.Inductor(Lq/2 + Δ, 'nH',  loops=[loop]))\n",
    "    JJ_12.append(sq.Junction(EJ,       'GHz', loops=[loop]))\n",
    "C_24 = sq.Capacitor(Cc, 'fF')\n"
   ],
   "metadata": {
    "collapsed": false,
    "ExecuteTime": {
     "end_time": "2024-01-30T11:29:27.010343612Z",
     "start_time": "2024-01-30T11:29:27.004413819Z"
    }
   },
   "id": "68e8a193b2b72d67"
  },
  {
   "cell_type": "markdown",
   "source": [
    "### Two uncoupled qubits with capacitances for coupling and readout"
   ],
   "metadata": {
    "collapsed": false
   },
   "id": "dadafaf4a64aebbe"
  },
  {
   "cell_type": "code",
   "execution_count": 6,
   "outputs": [
    {
     "data": {
      "text/plain": "<IPython.core.display.Latex object>",
      "text/latex": "$\\hat{H} =~\\omega_1\\hat a^\\dagger_1\\hat a_1~+~\\omega_2\\hat a^\\dagger_2\\hat a_2~+~\\omega_3\\hat a^\\dagger_3\\hat a_3~+~\\omega_4\\hat a^\\dagger_4\\hat a_4~~-~E_{J_{1}}\\cos(\\hat{\\varphi}_1-\\hat{\\varphi}_3+\\varphi_{\\text{ext}_{1}})~-~E_{J_{2}}\\cos(\\hat{\\varphi}_2-\\hat{\\varphi}_4+\\varphi_{\\text{ext}_{2}})$"
     },
     "metadata": {},
     "output_type": "display_data"
    },
    {
     "data": {
      "text/plain": "<IPython.core.display.Latex object>",
      "text/latex": "$------------------------------------------------------------$"
     },
     "metadata": {},
     "output_type": "display_data"
    },
    {
     "data": {
      "text/plain": "<IPython.core.display.Latex object>",
      "text/latex": "$\\text{mode}~1:~~~~~~~~~~~\\text{harmonic}~~~~~~~~~~~\\hat{\\varphi}_1~=~\\varphi_{zp_{1}}(\\hat a_1+\\hat a^\\dagger_1)~~~~~~~~~~~\\omega_1/2\\pi~=~5.76483~~~~~~~~~~~\\varphi_{zp_{1}}~=~6.62e-01$"
     },
     "metadata": {},
     "output_type": "display_data"
    },
    {
     "data": {
      "text/plain": "<IPython.core.display.Latex object>",
      "text/latex": "$\\text{mode}~2:~~~~~~~~~~~\\text{harmonic}~~~~~~~~~~~\\hat{\\varphi}_2~=~\\varphi_{zp_{2}}(\\hat a_2+\\hat a^\\dagger_2)~~~~~~~~~~~\\omega_2/2\\pi~=~5.76483~~~~~~~~~~~\\varphi_{zp_{2}}~=~6.62e-01$"
     },
     "metadata": {},
     "output_type": "display_data"
    },
    {
     "data": {
      "text/plain": "<IPython.core.display.Latex object>",
      "text/latex": "$\\text{mode}~3:~~~~~~~~~~~\\text{harmonic}~~~~~~~~~~~\\hat{\\varphi}_3~=~\\varphi_{zp_{3}}(\\hat a_3+\\hat a^\\dagger_3)~~~~~~~~~~~\\omega_3/2\\pi~=~5.58248~~~~~~~~~~~\\varphi_{zp_{3}}~=~5.22e-02$"
     },
     "metadata": {},
     "output_type": "display_data"
    },
    {
     "data": {
      "text/plain": "<IPython.core.display.Latex object>",
      "text/latex": "$\\text{mode}~4:~~~~~~~~~~~\\text{harmonic}~~~~~~~~~~~\\hat{\\varphi}_4~=~\\varphi_{zp_{4}}(\\hat a_4+\\hat a^\\dagger_4)~~~~~~~~~~~\\omega_4/2\\pi~=~5.58248~~~~~~~~~~~\\varphi_{zp_{4}}~=~5.22e-02$"
     },
     "metadata": {},
     "output_type": "display_data"
    },
    {
     "data": {
      "text/plain": "<IPython.core.display.Latex object>",
      "text/latex": "$------------------------------------------------------------$"
     },
     "metadata": {},
     "output_type": "display_data"
    },
    {
     "data": {
      "text/plain": "<IPython.core.display.Latex object>",
      "text/latex": "$\\text{parameters}:~~~~~~~~~~~E_{J_{1}}~=~10.0~~~~~~~~~~~E_{J_{2}}~=~10.0~~~~~~~~~~~$"
     },
     "metadata": {},
     "output_type": "display_data"
    },
    {
     "data": {
      "text/plain": "<IPython.core.display.Latex object>",
      "text/latex": "$\\text{loops}:~~~~~~~~~~~~~~~~~~~~\\varphi_{\\text{ext}_{1}}/2\\pi~=~0.5~~~~~~~~~~~\\varphi_{\\text{ext}_{2}}/2\\pi~=~0.5~~~~~~~~~~~$"
     },
     "metadata": {},
     "output_type": "display_data"
    }
   ],
   "source": [
    "# Two qubits\n",
    "elements_qubit_qubit = {\n",
    "    # qubit 1, nodes [0, 1, 2, 3]\n",
    "    (0, 3): [L_03[1]],\n",
    "    (0, 1): [C_01_rc[1]],\n",
    "    (0, 2): [C_02_rc[1]],\n",
    "    (3, 1): [L_31[1]],\n",
    "    (1, 2): [C_12[1], JJ_12[1]],\n",
    "    (2, 3): [L_23[1]],\n",
    "    # qubit 2, nodes [0, 4, 5, 6]\n",
    "    (0, 6): [L_03[2]],\n",
    "    (0, 4): [C_01_rc[2]],\n",
    "    (0, 5): [C_02_rc[2]],\n",
    "    (6, 4): [L_31[2]],\n",
    "    (4, 5): [C_12[2], JJ_12[2]],\n",
    "    (5, 6): [L_23[2]],\n",
    "}\n",
    "\n",
    "qubit_qubit = sq.Circuit(elements_qubit_qubit)\n",
    "qubit_qubit.set_trunc_nums([nmax_r, nmax_r, nmax_f, nmax_f])\n",
    "qubit_qubit.description()"
   ],
   "metadata": {
    "collapsed": false,
    "ExecuteTime": {
     "end_time": "2024-01-30T11:29:29.059775257Z",
     "start_time": "2024-01-30T11:29:28.954355818Z"
    }
   },
   "id": "6be6f3d33c181742"
  },
  {
   "cell_type": "code",
   "execution_count": 7,
   "outputs": [
    {
     "data": {
      "text/plain": "array([0.000000000000, 1.622883487916, 1.622883487917, 3.245766975833, 5.359173489340, 5.359173489341])"
     },
     "execution_count": 7,
     "metadata": {},
     "output_type": "execute_result"
    }
   ],
   "source": [
    "_ = qubit_qubit.diag(6)\n",
    "qubit_qubit.efreqs-qubit_qubit.efreqs[0]"
   ],
   "metadata": {
    "collapsed": false,
    "ExecuteTime": {
     "end_time": "2024-01-30T11:29:35.100055107Z",
     "start_time": "2024-01-30T11:29:34.360244510Z"
    }
   },
   "id": "419019541d87a2f7"
  },
  {
   "cell_type": "code",
   "outputs": [
    {
     "data": {
      "text/plain": "array([0.000000000000, 1.622871714335, 1.622871714336, 3.245743428671, 5.359121039181, 5.359121039181])"
     },
     "execution_count": 8,
     "metadata": {},
     "output_type": "execute_result"
    }
   ],
   "source": [
    "H_0 = hamiltonian_qubit_C_qubit(nmax_r, nmax_f, Cc=Cc, coupling='No')\n",
    "E_0 = sq_ext.diag(H_0, n_eig=6, out='GHz')[0]\n",
    "E_0 - E_0[0]"
   ],
   "metadata": {
    "collapsed": false,
    "ExecuteTime": {
     "end_time": "2024-01-30T11:29:36.493720539Z",
     "start_time": "2024-01-30T11:29:36.219422402Z"
    }
   },
   "id": "ebfacebdf2e3d462",
   "execution_count": 8
  },
  {
   "cell_type": "markdown",
   "source": [
    "### Two qubits capacitively coupled"
   ],
   "metadata": {
    "collapsed": false
   },
   "id": "f2fcc92e6754573f"
  },
  {
   "cell_type": "code",
   "execution_count": 9,
   "outputs": [
    {
     "data": {
      "text/plain": "<IPython.core.display.Latex object>",
      "text/latex": "$\\hat{H} =~\\omega_1\\hat a^\\dagger_1\\hat a_1~+~\\omega_2\\hat a^\\dagger_2\\hat a_2~+~\\omega_3\\hat a^\\dagger_3\\hat a_3~+~\\omega_4\\hat a^\\dagger_4\\hat a_4~~-~E_{J_{1}}\\cos(0.974824\\hat{\\varphi}_1+\\hat{\\varphi}_2-0.226446\\hat{\\varphi}_3-\\hat{\\varphi}_4+\\varphi_{\\text{ext}_{1}})~-~E_{J_{2}}\\cos(-\\hat{\\varphi}_1+0.34315\\hat{\\varphi}_2+\\hat{\\varphi}_3-0.942963\\hat{\\varphi}_4+\\varphi_{\\text{ext}_{2}})$"
     },
     "metadata": {},
     "output_type": "display_data"
    },
    {
     "data": {
      "text/plain": "<IPython.core.display.Latex object>",
      "text/latex": "$------------------------------------------------------------$"
     },
     "metadata": {},
     "output_type": "display_data"
    },
    {
     "data": {
      "text/plain": "<IPython.core.display.Latex object>",
      "text/latex": "$\\text{mode}~1:~~~~~~~~~~~\\text{harmonic}~~~~~~~~~~~\\hat{\\varphi}_1~=~\\varphi_{zp_{1}}(\\hat a_1+\\hat a^\\dagger_1)~~~~~~~~~~~\\omega_1/2\\pi~=~6.65966~~~~~~~~~~~\\varphi_{zp_{1}}~=~3.15e-01$"
     },
     "metadata": {},
     "output_type": "display_data"
    },
    {
     "data": {
      "text/plain": "<IPython.core.display.Latex object>",
      "text/latex": "$\\text{mode}~2:~~~~~~~~~~~\\text{harmonic}~~~~~~~~~~~\\hat{\\varphi}_2~=~\\varphi_{zp_{2}}(\\hat a_2+\\hat a^\\dagger_2)~~~~~~~~~~~\\omega_2/2\\pi~=~5.72636~~~~~~~~~~~\\varphi_{zp_{2}}~=~5.44e-01$"
     },
     "metadata": {},
     "output_type": "display_data"
    },
    {
     "data": {
      "text/plain": "<IPython.core.display.Latex object>",
      "text/latex": "$\\text{mode}~3:~~~~~~~~~~~\\text{harmonic}~~~~~~~~~~~\\hat{\\varphi}_3~=~\\varphi_{zp_{3}}(\\hat a_3+\\hat a^\\dagger_3)~~~~~~~~~~~\\omega_3/2\\pi~=~5.69599~~~~~~~~~~~\\varphi_{zp_{3}}~=~5.24e-01$"
     },
     "metadata": {},
     "output_type": "display_data"
    },
    {
     "data": {
      "text/plain": "<IPython.core.display.Latex object>",
      "text/latex": "$\\text{mode}~4:~~~~~~~~~~~\\text{harmonic}~~~~~~~~~~~\\hat{\\varphi}_4~=~\\varphi_{zp_{4}}(\\hat a_4+\\hat a^\\dagger_4)~~~~~~~~~~~\\omega_4/2\\pi~=~4.96956~~~~~~~~~~~\\varphi_{zp_{4}}~=~2.01e-01$"
     },
     "metadata": {},
     "output_type": "display_data"
    },
    {
     "data": {
      "text/plain": "<IPython.core.display.Latex object>",
      "text/latex": "$------------------------------------------------------------$"
     },
     "metadata": {},
     "output_type": "display_data"
    },
    {
     "data": {
      "text/plain": "<IPython.core.display.Latex object>",
      "text/latex": "$\\text{parameters}:~~~~~~~~~~~E_{J_{1}}~=~10.0~~~~~~~~~~~E_{J_{2}}~=~10.0~~~~~~~~~~~$"
     },
     "metadata": {},
     "output_type": "display_data"
    },
    {
     "data": {
      "text/plain": "<IPython.core.display.Latex object>",
      "text/latex": "$\\text{loops}:~~~~~~~~~~~~~~~~~~~~\\varphi_{\\text{ext}_{1}}/2\\pi~=~0.5~~~~~~~~~~~\\varphi_{\\text{ext}_{2}}/2\\pi~=~0.5~~~~~~~~~~~$"
     },
     "metadata": {},
     "output_type": "display_data"
    }
   ],
   "source": [
    "elements_qubit_C_qubit = { \n",
    "    # qubit 1, nodes [0, 1, 2, 3]\n",
    "    (0, 3): [L_03[1]],\n",
    "    (0, 1): [C_01_rc[1]],\n",
    "    (0, 2): [C_02[1]],\n",
    "    (3, 1): [L_31[1]],\n",
    "    (1, 2): [C_12[1], JJ_12[1]],\n",
    "    (2, 3): [L_23[1]],\n",
    "    # qubit 2, nodes [0, 4, 5, 6]\n",
    "    (0, 6): [L_03[2]],\n",
    "    (0, 4): [C_01[2]],\n",
    "    (0, 5): [C_02_rc[2]],\n",
    "    (6, 4): [L_31[2]],\n",
    "    (4, 5): [C_12[2], JJ_12[2]],\n",
    "    (5, 6): [L_23[2]],\n",
    "    # capacitive coupling\n",
    "    (2, 4): [C_24]\n",
    "}\n",
    "\n",
    "qubit_C_qubit = sq.Circuit(elements_qubit_C_qubit)\n",
    "qubit_C_qubit.set_trunc_nums([nmax_r, nmax_r, nmax_f, nmax_f])\n",
    "qubit_C_qubit.description()"
   ],
   "metadata": {
    "collapsed": false,
    "ExecuteTime": {
     "end_time": "2024-01-30T11:29:48.516747477Z",
     "start_time": "2024-01-30T11:29:46.026334376Z"
    }
   },
   "id": "d7e0569e3fba75c5"
  },
  {
   "cell_type": "code",
   "execution_count": 10,
   "outputs": [
    {
     "data": {
      "text/plain": "array([0.000000000000, 1.578269956114, 1.700356928555, 3.258542302825, 5.128956302174, 5.339888960372])"
     },
     "execution_count": 10,
     "metadata": {},
     "output_type": "execute_result"
    }
   ],
   "source": [
    "_ = qubit_C_qubit.diag(6)\n",
    "qubit_C_qubit.efreqs-qubit_C_qubit.efreqs[0]"
   ],
   "metadata": {
    "collapsed": false,
    "ExecuteTime": {
     "end_time": "2024-01-30T11:30:19.335045842Z",
     "start_time": "2024-01-30T11:29:49.005491418Z"
    }
   },
   "id": "fa69675d3ba73f80"
  },
  {
   "cell_type": "code",
   "outputs": [
    {
     "data": {
      "text/plain": "array([0.000000000000, 1.561203320314, 1.673699731787, 3.217689012380, 5.333686916955, 5.355816029045])"
     },
     "execution_count": 28,
     "metadata": {},
     "output_type": "execute_result"
    }
   ],
   "source": [
    "H   = hamiltonian_qubit_C_qubit(nmax_r, nmax_f, Cc=Cc, coupling='Yes', factor =1e-1)\n",
    "E = sq_ext.diag(H, n_eig=6, out='GHz')[0]\n",
    "E - E[0]"
   ],
   "metadata": {
    "collapsed": false,
    "ExecuteTime": {
     "end_time": "2024-01-30T11:35:43.953815123Z",
     "start_time": "2024-01-30T11:35:43.677729185Z"
    }
   },
   "id": "8051059294b5af4f",
   "execution_count": 28
  },
  {
   "cell_type": "code",
   "outputs": [
    {
     "data": {
      "text/plain": "array([0.000000000000, 1.578266806567, 0.961545536131, 0.596165504325, 1.262182469477, 1.470929154539])"
     },
     "execution_count": 12,
     "metadata": {},
     "output_type": "execute_result"
    }
   ],
   "source": [
    "np.abs(E - E[0] - (qubit_C_qubit.efreqs-qubit_C_qubit.efreqs[0]))"
   ],
   "metadata": {
    "collapsed": false,
    "ExecuteTime": {
     "end_time": "2024-01-23T10:10:30.551091800Z",
     "start_time": "2024-01-23T10:10:30.523346100Z"
    }
   },
   "id": "891aa49a579d78eb",
   "execution_count": 12
  },
  {
   "cell_type": "markdown",
   "source": [
    "# Effective hamiltonians"
   ],
   "metadata": {
    "collapsed": false
   },
   "id": "3b945c04a3474245"
  },
  {
   "cell_type": "code",
   "outputs": [],
   "source": [
    "H_0_full_circ = qubit_qubit  .hamiltonian()\n",
    "H_full_circ   = qubit_C_qubit.hamiltonian()\n",
    "n_eig = 6"
   ],
   "metadata": {
    "collapsed": false,
    "ExecuteTime": {
     "end_time": "2024-01-18T10:07:00.750679300Z",
     "start_time": "2024-01-18T10:06:59.890426600Z"
    }
   },
   "id": "33b73ae20eed0f66",
   "execution_count": 24
  },
  {
   "cell_type": "code",
   "outputs": [
    {
     "data": {
      "text/plain": "array([[16.6174-0.j    ,  0.    +0.j    ,  0.    +0.j    , -1.8897-0.j    ,  0.    -0.j    , -0.    -0.j    ],\n       [ 0.    -0.j    , 19.3011-0.j    , -1.9619-0.1163j, -0.    -0.j    ,  1.7693-0.4776j,  0.4345+0.6346j],\n       [ 0.    -0.j    , -1.9619+0.1163j, 21.0948+0.j    , -0.    +0.j    , -1.3807+1.3158j,  1.1329-0.5085j],\n       [-1.8897+0.j    , -0.    +0.j    , -0.    -0.j    , 24.2079-0.j    ,  0.    +0.j    ,  0.    +0.j    ],\n       [ 0.    +0.j    ,  1.7693+0.4776j, -1.3807-1.3158j,  0.    -0.j    , 20.6425-0.j    ,  0.4935-0.0442j],\n       [-0.    +0.j    ,  0.4345-0.6346j,  1.1329+0.5085j,  0.    -0.j    ,  0.4935+0.0442j, 21.2882+0.j    ]])"
     },
     "execution_count": 25,
     "metadata": {},
     "output_type": "execute_result"
    }
   ],
   "source": [
    "H_eff_full_circ = sq_ext.H_eff_p1(H_0_full_circ, H_full_circ, n_eig)\n",
    "np.round(H_eff_full_circ,4)"
   ],
   "metadata": {
    "collapsed": false,
    "ExecuteTime": {
     "end_time": "2024-01-18T10:07:01.309883Z",
     "start_time": "2024-01-18T10:07:01.168154Z"
    }
   },
   "id": "f8c921f7121c6300",
   "execution_count": 25
  },
  {
   "cell_type": "code",
   "execution_count": 49,
   "outputs": [
    {
     "data": {
      "text/plain": "array([[ 1.34492e+01+0.j    ,  0.00000e+00+0.j    , -0.00000e+00+0.j    , -0.00000e+00+0.j    , -0.00000e+00-0.j    ,  0.00000e+00+0.j    ],\n       [ 0.00000e+00-0.j    ,  1.53573e+01+0.j    , -9.13000e-02+0.019j ,  0.00000e+00-0.j    , -0.00000e+00+0.j    ,  0.00000e+00+0.j    ],\n       [-0.00000e+00-0.j    , -9.13000e-02-0.019j ,  1.53573e+01+0.j    ,  0.00000e+00+0.j    , -0.00000e+00+0.j    , -0.00000e+00+0.j    ],\n       [-0.00000e+00-0.j    ,  0.00000e+00+0.j    ,  0.00000e+00-0.j    ,  1.72654e+01-0.j    ,  0.00000e+00-0.j    , -0.00000e+00+0.j    ],\n       [-0.00000e+00+0.j    , -0.00000e+00-0.j    , -0.00000e+00-0.j    ,  0.00000e+00+0.j    ,  1.95169e+01-0.j    , -9.20000e-03+0.0829j],\n       [ 0.00000e+00-0.j    ,  0.00000e+00-0.j    , -0.00000e+00-0.j    , -0.00000e+00-0.j    , -9.20000e-03-0.0829j,  1.95169e+01+0.j    ]])"
     },
     "execution_count": 49,
     "metadata": {},
     "output_type": "execute_result"
    }
   ],
   "source": [
    "np.round(sq_ext.H_eff_p1(H_0, H, n_eig),4)"
   ],
   "metadata": {
    "collapsed": false,
    "ExecuteTime": {
     "end_time": "2024-01-17T13:58:05.901176150Z",
     "start_time": "2024-01-17T13:58:05.399839530Z"
    }
   },
   "id": "28d272fedb712c56"
  },
  {
   "cell_type": "code",
   "execution_count": 50,
   "outputs": [
    {
     "data": {
      "text/plain": "array([[13.449200000000, -0.000000000000, -0.000000000000, -0.000000000000, -0.000000000000, -0.000000000000],\n       [-0.000000000000, 15.357300000000, 0.000000000000, -0.000000000000, 0.000000000000, 0.000000000000],\n       [-0.000000000000, 0.000000000000, 15.357300000000, -0.000000000000, -0.000000000000, -0.000000000000],\n       [-0.000000000000, -0.000000000000, -0.000000000000, 17.265400000000, 0.000000000000, 0.000000000000],\n       [-0.000000000000, 0.000000000000, -0.000000000000, 0.000000000000, 19.516900000000, 0.000000000000],\n       [-0.000000000000, 0.000000000000, -0.000000000000, 0.000000000000, 0.000000000000, 19.516900000000]])"
     },
     "execution_count": 50,
     "metadata": {},
     "output_type": "execute_result"
    }
   ],
   "source": [
    "np.round(sq_ext.H_eff_SWT(H_0, H, n_eig),4)"
   ],
   "metadata": {
    "collapsed": false,
    "ExecuteTime": {
     "end_time": "2024-01-17T13:58:12.664400427Z",
     "start_time": "2024-01-17T13:58:12.193134366Z"
    }
   },
   "id": "3a0ae900778777ce"
  },
  {
   "cell_type": "code",
   "outputs": [],
   "source": [],
   "metadata": {
    "collapsed": false
   },
   "id": "59e433e9568207dc"
  }
 ],
 "metadata": {
  "kernelspec": {
   "display_name": "Python 3",
   "language": "python",
   "name": "python3"
  },
  "language_info": {
   "codemirror_mode": {
    "name": "ipython",
    "version": 2
   },
   "file_extension": ".py",
   "mimetype": "text/x-python",
   "name": "python",
   "nbconvert_exporter": "python",
   "pygments_lexer": "ipython2",
   "version": "2.7.6"
  }
 },
 "nbformat": 4,
 "nbformat_minor": 5
}
