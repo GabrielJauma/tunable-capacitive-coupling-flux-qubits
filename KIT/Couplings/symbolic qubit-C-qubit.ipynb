{
 "cells": [
  {
   "cell_type": "code",
   "execution_count": 2,
   "metadata": {
    "collapsed": true,
    "ExecuteTime": {
     "end_time": "2024-04-26T09:43:35.910757Z",
     "start_time": "2024-04-26T09:43:35.908966Z"
    }
   },
   "outputs": [],
   "source": [
    "import sympy as sym\n",
    "import numpy as np\n",
    "np.set_printoptions(linewidth=200, formatter={'float': '{:.3e}'.format})\n",
    "import matplotlib.pyplot as plt"
   ]
  },
  {
   "cell_type": "code",
   "outputs": [],
   "source": [
    "def neglect_terms(expr, N):\n",
    "    # Function to neglect terms of order N and higher in a polynomial\n",
    "    # Split the expression into numerator and denominator\n",
    "    num, denom = expr.as_numer_denom()\n",
    "    # Process numerator and denominator to remove terms of order N and higher\n",
    "    num_neglected = sum(coeff * term for term, coeff in num.as_coefficients_dict().items() if all(pow < N for var, pow in term.as_powers_dict().items()))\n",
    "    denom_neglected = sum(coeff * term for term, coeff in denom.as_coefficients_dict().items() if all(pow < N for var, pow in term.as_powers_dict().items()))\n",
    "    # Reconstruct the fraction\n",
    "    return num_neglected / denom_neglected\n",
    "\n",
    "def neglect_terms_in_matrix(matrix, N):\n",
    "    # Process each element in the matrix\n",
    "    processed_matrix = matrix.applyfunc(lambda x: neglect_terms(x, N))\n",
    "\n",
    "    return processed_matrix"
   ],
   "metadata": {
    "collapsed": false,
    "ExecuteTime": {
     "end_time": "2024-04-26T09:43:36.870601Z",
     "start_time": "2024-04-26T09:43:36.867130Z"
    }
   },
   "execution_count": 3
  },
  {
   "cell_type": "code",
   "execution_count": 4,
   "outputs": [],
   "source": [
    "C_R, C_F, C_C = sym.symbols('C_R, C_F, C_C', real=True, positive=True, nonzero=True)"
   ],
   "metadata": {
    "collapsed": false,
    "ExecuteTime": {
     "end_time": "2024-04-26T09:43:37.670480Z",
     "start_time": "2024-04-26T09:43:37.668573Z"
    }
   }
  },
  {
   "cell_type": "code",
   "execution_count": 5,
   "outputs": [],
   "source": [
    "C_mat = sym.Matrix([[C_R+C_C/2 , 0         , -C_C/2    , +C_C/2     ],\n",
    "                    [0         , C_F+C_C/2 , -C_C/2    , +C_C/2     ],\n",
    "                    [-C_C/2    , +C_C/2    , C_R+C_C/2 , 0          ],\n",
    "                    [-C_C/2    , +C_C/2    , 0         , C_F+C_C/2  ] ])"
   ],
   "metadata": {
    "collapsed": false,
    "ExecuteTime": {
     "end_time": "2024-04-26T09:43:38.814170Z",
     "start_time": "2024-04-26T09:43:38.794641Z"
    }
   }
  },
  {
   "cell_type": "code",
   "outputs": [],
   "source": [
    "C_mat = sym.Matrix([[C_R+C_C/2 , 0         , -C_C/2    , 0         ],\n",
    "                     [0        , C_F+C_C/2 , 0         , +C_C/2    ],\n",
    "                     [-C_C/2   , 0         , C_R+C_C/2 , 0         ],\n",
    "                     [0        , +C_C/2    , 0         , C_F+C_C/2 ] ])"
   ],
   "metadata": {
    "collapsed": false,
    "ExecuteTime": {
     "end_time": "2024-04-25T08:33:14.449299800Z",
     "start_time": "2024-04-25T08:33:14.429867500Z"
    }
   },
   "execution_count": 14
  },
  {
   "cell_type": "code",
   "execution_count": 38,
   "outputs": [],
   "source": [
    "C_inv = C_mat**-1"
   ],
   "metadata": {
    "collapsed": false,
    "ExecuteTime": {
     "end_time": "2024-04-25T08:47:53.369241300Z",
     "start_time": "2024-04-25T08:47:48.570268200Z"
    }
   }
  },
  {
   "cell_type": "code",
   "outputs": [
    {
     "data": {
      "text/plain": "Matrix([\n[2*(C_C**3 + 6*C_C**2*C_F + 4*C_C*C_F**2 + 8*C_C*C_F*C_R + 8*C_F**2*C_R)/(C_C**4 + 4*C_C**3*C_F + 4*C_C**3*C_R + 24*C_C**2*C_F*C_R + 16*C_C*C_F**2*C_R + 16*C_C*C_F*C_R**2 + 16*C_F**2*C_R**2),                                                   4*C_C**2*(-C_F + C_R)/(C_C**4 + 4*C_C**3*C_F + 4*C_C**3*C_R + 24*C_C**2*C_F*C_R + 16*C_C*C_F**2*C_R + 16*C_C*C_F*C_R**2 + 16*C_F**2*C_R**2),                                   2*C_C*(C_C**2 + 4*C_C*C_F + 4*C_F**2)/(C_C**4 + 4*C_C**3*C_F + 4*C_C**3*C_R + 24*C_C**2*C_F*C_R + 16*C_C*C_F**2*C_R + 16*C_C*C_F*C_R**2 + 16*C_F**2*C_R**2),                     2*C_C*(-C_C**2 - 2*C_C*C_F - 2*C_C*C_R - 4*C_F*C_R)/(C_C**4 + 4*C_C**3*C_F + 4*C_C**3*C_R + 24*C_C**2*C_F*C_R + 16*C_C*C_F**2*C_R + 16*C_C*C_F*C_R**2 + 16*C_F**2*C_R**2)],\n[                                                   4*C_C**2*(C_F - C_R)/(C_C**4 + 4*C_C**3*C_F + 4*C_C**3*C_R + 24*C_C**2*C_F*C_R + 16*C_C*C_F**2*C_R + 16*C_C*C_F*C_R**2 + 16*C_F**2*C_R**2), 2*(C_C**3 + 6*C_C**2*C_R + 8*C_C*C_F*C_R + 4*C_C*C_R**2 + 8*C_F*C_R**2)/(C_C**4 + 4*C_C**3*C_F + 4*C_C**3*C_R + 24*C_C**2*C_F*C_R + 16*C_C*C_F**2*C_R + 16*C_C*C_F*C_R**2 + 16*C_F**2*C_R**2),                      2*C_C*(C_C**2 + 2*C_C*C_F + 2*C_C*C_R + 4*C_F*C_R)/(C_C**4 + 4*C_C**3*C_F + 4*C_C**3*C_R + 24*C_C**2*C_F*C_R + 16*C_C*C_F**2*C_R + 16*C_C*C_F*C_R**2 + 16*C_F**2*C_R**2),                                  2*C_C*(-C_C**2 - 4*C_C*C_R - 4*C_R**2)/(C_C**4 + 4*C_C**3*C_F + 4*C_C**3*C_R + 24*C_C**2*C_F*C_R + 16*C_C*C_F**2*C_R + 16*C_C*C_F*C_R**2 + 16*C_F**2*C_R**2)],\n[                                  2*C_C*(C_C**2 + 4*C_C*C_F + 4*C_F**2)/(C_C**4 + 4*C_C**3*C_F + 4*C_C**3*C_R + 24*C_C**2*C_F*C_R + 16*C_C*C_F**2*C_R + 16*C_C*C_F*C_R**2 + 16*C_F**2*C_R**2),                     2*C_C*(-C_C**2 - 2*C_C*C_F - 2*C_C*C_R - 4*C_F*C_R)/(C_C**4 + 4*C_C**3*C_F + 4*C_C**3*C_R + 24*C_C**2*C_F*C_R + 16*C_C*C_F**2*C_R + 16*C_C*C_F*C_R**2 + 16*C_F**2*C_R**2), 2*(C_C**3 + 6*C_C**2*C_F + 4*C_C*C_F**2 + 8*C_C*C_F*C_R + 8*C_F**2*C_R)/(C_C**4 + 4*C_C**3*C_F + 4*C_C**3*C_R + 24*C_C**2*C_F*C_R + 16*C_C*C_F**2*C_R + 16*C_C*C_F*C_R**2 + 16*C_F**2*C_R**2),                                                   4*C_C**2*(-C_F + C_R)/(C_C**4 + 4*C_C**3*C_F + 4*C_C**3*C_R + 24*C_C**2*C_F*C_R + 16*C_C*C_F**2*C_R + 16*C_C*C_F*C_R**2 + 16*C_F**2*C_R**2)],\n[                     2*C_C*(C_C**2 + 2*C_C*C_F + 2*C_C*C_R + 4*C_F*C_R)/(C_C**4 + 4*C_C**3*C_F + 4*C_C**3*C_R + 24*C_C**2*C_F*C_R + 16*C_C*C_F**2*C_R + 16*C_C*C_F*C_R**2 + 16*C_F**2*C_R**2),                                  2*C_C*(-C_C**2 - 4*C_C*C_R - 4*C_R**2)/(C_C**4 + 4*C_C**3*C_F + 4*C_C**3*C_R + 24*C_C**2*C_F*C_R + 16*C_C*C_F**2*C_R + 16*C_C*C_F*C_R**2 + 16*C_F**2*C_R**2),                                                    4*C_C**2*(C_F - C_R)/(C_C**4 + 4*C_C**3*C_F + 4*C_C**3*C_R + 24*C_C**2*C_F*C_R + 16*C_C*C_F**2*C_R + 16*C_C*C_F*C_R**2 + 16*C_F**2*C_R**2), 2*(C_C**3 + 6*C_C**2*C_R + 8*C_C*C_F*C_R + 4*C_C*C_R**2 + 8*C_F*C_R**2)/(C_C**4 + 4*C_C**3*C_F + 4*C_C**3*C_R + 24*C_C**2*C_F*C_R + 16*C_C*C_F**2*C_R + 16*C_C*C_F*C_R**2 + 16*C_F**2*C_R**2)]])",
      "text/latex": "$\\displaystyle \\left[\\begin{matrix}\\frac{2 \\left(C_{C}^{3} + 6 C_{C}^{2} C_{F} + 4 C_{C} C_{F}^{2} + 8 C_{C} C_{F} C_{R} + 8 C_{F}^{2} C_{R}\\right)}{C_{C}^{4} + 4 C_{C}^{3} C_{F} + 4 C_{C}^{3} C_{R} + 24 C_{C}^{2} C_{F} C_{R} + 16 C_{C} C_{F}^{2} C_{R} + 16 C_{C} C_{F} C_{R}^{2} + 16 C_{F}^{2} C_{R}^{2}} & \\frac{4 C_{C}^{2} \\left(- C_{F} + C_{R}\\right)}{C_{C}^{4} + 4 C_{C}^{3} C_{F} + 4 C_{C}^{3} C_{R} + 24 C_{C}^{2} C_{F} C_{R} + 16 C_{C} C_{F}^{2} C_{R} + 16 C_{C} C_{F} C_{R}^{2} + 16 C_{F}^{2} C_{R}^{2}} & \\frac{2 C_{C} \\left(C_{C}^{2} + 4 C_{C} C_{F} + 4 C_{F}^{2}\\right)}{C_{C}^{4} + 4 C_{C}^{3} C_{F} + 4 C_{C}^{3} C_{R} + 24 C_{C}^{2} C_{F} C_{R} + 16 C_{C} C_{F}^{2} C_{R} + 16 C_{C} C_{F} C_{R}^{2} + 16 C_{F}^{2} C_{R}^{2}} & \\frac{2 C_{C} \\left(- C_{C}^{2} - 2 C_{C} C_{F} - 2 C_{C} C_{R} - 4 C_{F} C_{R}\\right)}{C_{C}^{4} + 4 C_{C}^{3} C_{F} + 4 C_{C}^{3} C_{R} + 24 C_{C}^{2} C_{F} C_{R} + 16 C_{C} C_{F}^{2} C_{R} + 16 C_{C} C_{F} C_{R}^{2} + 16 C_{F}^{2} C_{R}^{2}}\\\\\\frac{4 C_{C}^{2} \\left(C_{F} - C_{R}\\right)}{C_{C}^{4} + 4 C_{C}^{3} C_{F} + 4 C_{C}^{3} C_{R} + 24 C_{C}^{2} C_{F} C_{R} + 16 C_{C} C_{F}^{2} C_{R} + 16 C_{C} C_{F} C_{R}^{2} + 16 C_{F}^{2} C_{R}^{2}} & \\frac{2 \\left(C_{C}^{3} + 6 C_{C}^{2} C_{R} + 8 C_{C} C_{F} C_{R} + 4 C_{C} C_{R}^{2} + 8 C_{F} C_{R}^{2}\\right)}{C_{C}^{4} + 4 C_{C}^{3} C_{F} + 4 C_{C}^{3} C_{R} + 24 C_{C}^{2} C_{F} C_{R} + 16 C_{C} C_{F}^{2} C_{R} + 16 C_{C} C_{F} C_{R}^{2} + 16 C_{F}^{2} C_{R}^{2}} & \\frac{2 C_{C} \\left(C_{C}^{2} + 2 C_{C} C_{F} + 2 C_{C} C_{R} + 4 C_{F} C_{R}\\right)}{C_{C}^{4} + 4 C_{C}^{3} C_{F} + 4 C_{C}^{3} C_{R} + 24 C_{C}^{2} C_{F} C_{R} + 16 C_{C} C_{F}^{2} C_{R} + 16 C_{C} C_{F} C_{R}^{2} + 16 C_{F}^{2} C_{R}^{2}} & \\frac{2 C_{C} \\left(- C_{C}^{2} - 4 C_{C} C_{R} - 4 C_{R}^{2}\\right)}{C_{C}^{4} + 4 C_{C}^{3} C_{F} + 4 C_{C}^{3} C_{R} + 24 C_{C}^{2} C_{F} C_{R} + 16 C_{C} C_{F}^{2} C_{R} + 16 C_{C} C_{F} C_{R}^{2} + 16 C_{F}^{2} C_{R}^{2}}\\\\\\frac{2 C_{C} \\left(C_{C}^{2} + 4 C_{C} C_{F} + 4 C_{F}^{2}\\right)}{C_{C}^{4} + 4 C_{C}^{3} C_{F} + 4 C_{C}^{3} C_{R} + 24 C_{C}^{2} C_{F} C_{R} + 16 C_{C} C_{F}^{2} C_{R} + 16 C_{C} C_{F} C_{R}^{2} + 16 C_{F}^{2} C_{R}^{2}} & \\frac{2 C_{C} \\left(- C_{C}^{2} - 2 C_{C} C_{F} - 2 C_{C} C_{R} - 4 C_{F} C_{R}\\right)}{C_{C}^{4} + 4 C_{C}^{3} C_{F} + 4 C_{C}^{3} C_{R} + 24 C_{C}^{2} C_{F} C_{R} + 16 C_{C} C_{F}^{2} C_{R} + 16 C_{C} C_{F} C_{R}^{2} + 16 C_{F}^{2} C_{R}^{2}} & \\frac{2 \\left(C_{C}^{3} + 6 C_{C}^{2} C_{F} + 4 C_{C} C_{F}^{2} + 8 C_{C} C_{F} C_{R} + 8 C_{F}^{2} C_{R}\\right)}{C_{C}^{4} + 4 C_{C}^{3} C_{F} + 4 C_{C}^{3} C_{R} + 24 C_{C}^{2} C_{F} C_{R} + 16 C_{C} C_{F}^{2} C_{R} + 16 C_{C} C_{F} C_{R}^{2} + 16 C_{F}^{2} C_{R}^{2}} & \\frac{4 C_{C}^{2} \\left(- C_{F} + C_{R}\\right)}{C_{C}^{4} + 4 C_{C}^{3} C_{F} + 4 C_{C}^{3} C_{R} + 24 C_{C}^{2} C_{F} C_{R} + 16 C_{C} C_{F}^{2} C_{R} + 16 C_{C} C_{F} C_{R}^{2} + 16 C_{F}^{2} C_{R}^{2}}\\\\\\frac{2 C_{C} \\left(C_{C}^{2} + 2 C_{C} C_{F} + 2 C_{C} C_{R} + 4 C_{F} C_{R}\\right)}{C_{C}^{4} + 4 C_{C}^{3} C_{F} + 4 C_{C}^{3} C_{R} + 24 C_{C}^{2} C_{F} C_{R} + 16 C_{C} C_{F}^{2} C_{R} + 16 C_{C} C_{F} C_{R}^{2} + 16 C_{F}^{2} C_{R}^{2}} & \\frac{2 C_{C} \\left(- C_{C}^{2} - 4 C_{C} C_{R} - 4 C_{R}^{2}\\right)}{C_{C}^{4} + 4 C_{C}^{3} C_{F} + 4 C_{C}^{3} C_{R} + 24 C_{C}^{2} C_{F} C_{R} + 16 C_{C} C_{F}^{2} C_{R} + 16 C_{C} C_{F} C_{R}^{2} + 16 C_{F}^{2} C_{R}^{2}} & \\frac{4 C_{C}^{2} \\left(C_{F} - C_{R}\\right)}{C_{C}^{4} + 4 C_{C}^{3} C_{F} + 4 C_{C}^{3} C_{R} + 24 C_{C}^{2} C_{F} C_{R} + 16 C_{C} C_{F}^{2} C_{R} + 16 C_{C} C_{F} C_{R}^{2} + 16 C_{F}^{2} C_{R}^{2}} & \\frac{2 \\left(C_{C}^{3} + 6 C_{C}^{2} C_{R} + 8 C_{C} C_{F} C_{R} + 4 C_{C} C_{R}^{2} + 8 C_{F} C_{R}^{2}\\right)}{C_{C}^{4} + 4 C_{C}^{3} C_{F} + 4 C_{C}^{3} C_{R} + 24 C_{C}^{2} C_{F} C_{R} + 16 C_{C} C_{F}^{2} C_{R} + 16 C_{C} C_{F} C_{R}^{2} + 16 C_{F}^{2} C_{R}^{2}}\\end{matrix}\\right]$"
     },
     "execution_count": 39,
     "metadata": {},
     "output_type": "execute_result"
    }
   ],
   "source": [
    "sym.simplify(C_inv)"
   ],
   "metadata": {
    "collapsed": false,
    "ExecuteTime": {
     "end_time": "2024-04-25T08:47:54.171899300Z",
     "start_time": "2024-04-25T08:47:53.369241300Z"
    }
   },
   "execution_count": 39
  },
  {
   "cell_type": "code",
   "outputs": [],
   "source": [
    "Csh = 15\n",
    "C   = 15\n",
    "CJ  = 3\n",
    "Cc  = 0.1"
   ],
   "metadata": {
    "collapsed": false,
    "ExecuteTime": {
     "end_time": "2024-04-26T09:43:55.158185Z",
     "start_time": "2024-04-26T09:43:55.156514Z"
    }
   },
   "execution_count": 9
  },
  {
   "cell_type": "code",
   "outputs": [
    {
     "ename": "NameError",
     "evalue": "name 'C_inv' is not defined",
     "output_type": "error",
     "traceback": [
      "\u001B[0;31m---------------------------------------------------------------------------\u001B[0m",
      "\u001B[0;31mNameError\u001B[0m                                 Traceback (most recent call last)",
      "Cell \u001B[0;32mIn[10], line 2\u001B[0m\n\u001B[1;32m      1\u001B[0m C_R, C_F, C_C \u001B[38;5;241m=\u001B[39m sym\u001B[38;5;241m.\u001B[39msymbols(\u001B[38;5;124m'\u001B[39m\u001B[38;5;124mC_R, C_F, C_C\u001B[39m\u001B[38;5;124m'\u001B[39m, real\u001B[38;5;241m=\u001B[39m\u001B[38;5;28;01mTrue\u001B[39;00m, positive\u001B[38;5;241m=\u001B[39m\u001B[38;5;28;01mTrue\u001B[39;00m, nonzero\u001B[38;5;241m=\u001B[39m\u001B[38;5;28;01mTrue\u001B[39;00m)\n\u001B[0;32m----> 2\u001B[0m C_inv_sym_to_num \u001B[38;5;241m=\u001B[39m np\u001B[38;5;241m.\u001B[39marray( \u001B[43mC_inv\u001B[49m\u001B[38;5;241m.\u001B[39msubs({C_C:Cc, C_R:C\u001B[38;5;241m/\u001B[39m\u001B[38;5;241m2\u001B[39m, C_F:C\u001B[38;5;241m/\u001B[39m\u001B[38;5;241m2\u001B[39m \u001B[38;5;241m+\u001B[39m Csh \u001B[38;5;241m+\u001B[39m CJ})\u001B[38;5;241m.\u001B[39mevalf() )\n",
      "\u001B[0;31mNameError\u001B[0m: name 'C_inv' is not defined"
     ]
    }
   ],
   "source": [
    "C_R, C_F, C_C = sym.symbols('C_R, C_F, C_C', real=True, positive=True, nonzero=True)\n",
    "C_inv_sym_to_num = np.array( C_inv.subs({C_C:Cc, C_R:C/2, C_F:C/2 + Csh + CJ}).evalf() )"
   ],
   "metadata": {
    "collapsed": false,
    "ExecuteTime": {
     "end_time": "2024-04-26T09:43:55.364157Z",
     "start_time": "2024-04-26T09:43:55.354969Z"
    }
   },
   "execution_count": 10
  },
  {
   "cell_type": "code",
   "outputs": [],
   "source": [
    "C_R = C/2\n",
    "C_C = Cc\n",
    "C_F = C/2 + Csh + CJ\n",
    "\n",
    "𐌲_R = C / (C_R+C_C/2)\n",
    "𐌲_F = C / (C_F+C_C/2)\n",
    "ε = C_C/2 / C\n",
    "\n",
    "C_inv_approx = 1/C * np.array([[ 𐌲_R    ,   0       ,  ε*𐌲_R**2,  -ε*𐌲_R**2],\n",
    "                               [0       ,   𐌲_F     ,  ε*𐌲_F**2,  -ε*𐌲_F**2],\n",
    "                               [ε*𐌲_R**2,  -ε*𐌲_R**2,   𐌲_R    ,   0       ],\n",
    "                               [ε*𐌲_F**2,  -ε*𐌲_F**2,   0      ,   𐌲_F     ]])\n",
    "\n",
    "# C_inv_approx = 1/C * np.array([[ 𐌲_R    ,   0       ,  ε*𐌲_R**2,   0         ],\n",
    "#                                [0       ,   𐌲_F     ,      0  ,  -ε*𐌲_F**2  ],\n",
    "#                                [ε*𐌲_R**2,   0       ,   𐌲_R    ,   0         ],\n",
    "#                                [0       ,  -ε*𐌲_F**2,   0      ,   𐌲_F       ]])"
   ],
   "metadata": {
    "collapsed": false,
    "ExecuteTime": {
     "end_time": "2024-04-26T09:58:09.329172Z",
     "start_time": "2024-04-26T09:58:09.326683Z"
    }
   },
   "execution_count": 16
  },
  {
   "cell_type": "code",
   "outputs": [
    {
     "data": {
      "text/plain": "3.4"
     },
     "execution_count": 17,
     "metadata": {},
     "output_type": "execute_result"
    }
   ],
   "source": [
    "C_F / C_R"
   ],
   "metadata": {
    "collapsed": false,
    "ExecuteTime": {
     "end_time": "2024-04-26T09:58:09.665544Z",
     "start_time": "2024-04-26T09:58:09.662865Z"
    }
   },
   "execution_count": 17
  },
  {
   "cell_type": "code",
   "outputs": [],
   "source": [
    "C_num = np.array  ([[C_R+C_C/2, 0      , -C_C/2 , +C_C/2   ],\n",
    "                    [0      , C_F+C_C/2, -C_C/2 , +C_C/2   ],\n",
    "                    [-C_C/2 , +C_C/2 , C_R+C_C/2, 0        ],\n",
    "                    [-C_C/2 , +C_C/2 , 0      , C_F+C_C/2] ])\n",
    "# C_num = np.array  ([[C_R+C_C/2, 0      , -C_C/2 ,0       ],\n",
    "#                     [0      , C_F+C_C/2, 0      , +C_C/2 ],\n",
    "#                     [-C_C/2 , 0      , C_R+C_C/2, 0      ],\n",
    "#                     [0      , +C_C/2 , 0      , C_F+C_C/2] ])"
   ],
   "metadata": {
    "collapsed": false,
    "ExecuteTime": {
     "end_time": "2024-04-26T09:58:10.019593Z",
     "start_time": "2024-04-26T09:58:10.017316Z"
    }
   },
   "execution_count": 18
  },
  {
   "cell_type": "code",
   "outputs": [
    {
     "data": {
      "text/plain": "array([[1.325e-01, -1.209e-06, 8.772e-04, -2.592e-04],\n       [1.209e-06, 3.914e-02, 2.592e-04, -7.659e-05],\n       [8.772e-04, -2.592e-04, 1.325e-01, -1.209e-06],\n       [2.592e-04, -7.659e-05, 1.209e-06, 3.914e-02]])"
     },
     "execution_count": 19,
     "metadata": {},
     "output_type": "execute_result"
    }
   ],
   "source": [
    "np.linalg.inv(C_num)"
   ],
   "metadata": {
    "collapsed": false,
    "ExecuteTime": {
     "end_time": "2024-04-26T09:58:10.469223Z",
     "start_time": "2024-04-26T09:58:10.466742Z"
    }
   },
   "execution_count": 19
  },
  {
   "cell_type": "code",
   "outputs": [
    {
     "data": {
      "text/plain": "0.11666666666666667"
     },
     "execution_count": 20,
     "metadata": {},
     "output_type": "execute_result"
    }
   ],
   "source": [
    "(1 + (1 - C_R/C) + (1 - C_R/C)**2)/C"
   ],
   "metadata": {
    "collapsed": false,
    "ExecuteTime": {
     "end_time": "2024-04-26T09:58:10.969824Z",
     "start_time": "2024-04-26T09:58:10.967177Z"
    }
   },
   "execution_count": 20
  },
  {
   "cell_type": "code",
   "outputs": [
    {
     "data": {
      "text/plain": "0.05266666666666667"
     },
     "execution_count": 21,
     "metadata": {},
     "output_type": "execute_result"
    }
   ],
   "source": [
    "(1 + (1 - C_F/C) + (1 - C_F/C)**2)/C"
   ],
   "metadata": {
    "collapsed": false,
    "ExecuteTime": {
     "end_time": "2024-04-26T09:58:11.681404Z",
     "start_time": "2024-04-26T09:58:11.679115Z"
    }
   },
   "execution_count": 21
  },
  {
   "cell_type": "code",
   "outputs": [
    {
     "data": {
      "text/plain": "-0.00011111111111111112"
     },
     "execution_count": 23,
     "metadata": {},
     "output_type": "execute_result"
    }
   ],
   "source": [
    "-2*ε*(1-C_R/C)**2 /C"
   ],
   "metadata": {
    "collapsed": false,
    "ExecuteTime": {
     "end_time": "2024-04-26T09:59:25.415533Z",
     "start_time": "2024-04-26T09:59:25.413441Z"
    }
   },
   "execution_count": 23
  },
  {
   "cell_type": "code",
   "outputs": [
    {
     "data": {
      "text/plain": "-4.444444444444445e-05"
     },
     "execution_count": 27,
     "metadata": {},
     "output_type": "execute_result"
    }
   ],
   "source": [
    "(ε*(1-C_R/C) + ε*(1-C_F/C) )/C"
   ],
   "metadata": {
    "collapsed": false,
    "ExecuteTime": {
     "end_time": "2024-04-26T10:00:41.696401Z",
     "start_time": "2024-04-26T10:00:41.694160Z"
    }
   },
   "execution_count": 27
  },
  {
   "cell_type": "code",
   "outputs": [
    {
     "data": {
      "text/plain": "array([[1.325e-01, 0.000e+00, 8.772e-04, -8.772e-04],\n       [0.000e+00, 1.325e-01, 8.772e-04, -8.772e-04],\n       [8.772e-04, -8.772e-04, 1.325e-01, 0.000e+00],\n       [8.772e-04, -8.772e-04, 0.000e+00, 1.325e-01]])"
     },
     "execution_count": 222,
     "metadata": {},
     "output_type": "execute_result"
    }
   ],
   "source": [
    "C_inv_approx"
   ],
   "metadata": {
    "collapsed": false,
    "ExecuteTime": {
     "end_time": "2024-04-25T10:02:10.881168900Z",
     "start_time": "2024-04-25T10:02:10.871060300Z"
    }
   },
   "execution_count": 222
  },
  {
   "cell_type": "code",
   "outputs": [
    {
     "data": {
      "text/plain": "1.1111111111111113e-05"
     },
     "execution_count": 214,
     "metadata": {},
     "output_type": "execute_result"
    }
   ],
   "source": [
    "ε**2"
   ],
   "metadata": {
    "collapsed": false,
    "ExecuteTime": {
     "end_time": "2024-04-25T10:00:06.748552500Z",
     "start_time": "2024-04-25T10:00:06.730541Z"
    }
   },
   "execution_count": 214
  },
  {
   "cell_type": "code",
   "outputs": [
    {
     "data": {
      "text/plain": "1e-06"
     },
     "execution_count": 217,
     "metadata": {},
     "output_type": "execute_result"
    }
   ],
   "source": [
    "0.001**2"
   ],
   "metadata": {
    "collapsed": false,
    "ExecuteTime": {
     "end_time": "2024-04-25T10:00:26.100371300Z",
     "start_time": "2024-04-25T10:00:26.070036200Z"
    }
   },
   "execution_count": 217
  },
  {
   "cell_type": "code",
   "outputs": [
    {
     "data": {
      "text/plain": "Matrix([\n[1, 0, 0, 0, 1, 0],\n[0, 1, 0, 0, 0, 1],\n[0, 0, 2, 0, 0, 0],\n[0, 0, 0, 2, 0, 0],\n[1, 0, 0, 0, 1, 0],\n[0, 1, 0, 0, 0, 1]])",
      "text/latex": "$\\displaystyle \\left[\\begin{matrix}1 & 0 & 0 & 0 & 1 & 0\\\\0 & 1 & 0 & 0 & 0 & 1\\\\0 & 0 & 2 & 0 & 0 & 0\\\\0 & 0 & 0 & 2 & 0 & 0\\\\1 & 0 & 0 & 0 & 1 & 0\\\\0 & 1 & 0 & 0 & 0 & 1\\end{matrix}\\right]$"
     },
     "execution_count": 10,
     "metadata": {},
     "output_type": "execute_result"
    }
   ],
   "source": [
    "# Define the symbols\n",
    "alpha= sym.symbols('\\\\alpha', real=True, positive = True, nonzero=True)\n",
    "N=6\n",
    "C_mat = sym.Matrix(N,N, lambda i, j: -1 if abs(i-j) == 2 else 0)\n",
    "C_mat**2"
   ],
   "metadata": {
    "collapsed": false,
    "ExecuteTime": {
     "end_time": "2024-04-25T08:28:21.984767100Z",
     "start_time": "2024-04-25T08:28:21.958445Z"
    }
   },
   "execution_count": 10
  },
  {
   "cell_type": "code",
   "outputs": [
    {
     "data": {
      "text/plain": "Matrix([\n[\\alpha + 1,          0,    -\\alpha,     \\alpha],\n[         0, \\alpha + 2,    -\\alpha,     \\alpha],\n[   -\\alpha,     \\alpha, \\alpha + 1,          0],\n[   -\\alpha,     \\alpha,          0, \\alpha + 2]])",
      "text/latex": "$\\displaystyle \\left[\\begin{matrix}\\alpha + 1 & 0 & - \\alpha & \\alpha\\\\0 & \\alpha + 2 & - \\alpha & \\alpha\\\\- \\alpha & \\alpha & \\alpha + 1 & 0\\\\- \\alpha & \\alpha & 0 & \\alpha + 2\\end{matrix}\\right]$"
     },
     "execution_count": 149,
     "metadata": {},
     "output_type": "execute_result"
    }
   ],
   "source": [
    "# Define the symbols\n",
    "alpha= sym.symbols('\\\\alpha', real=True, positive = True, nonzero=True)\n",
    "N=6\n",
    "C_mat = sym.Matrix(N,N, lambda i, j: 1+alpha if i == j else -alpha if abs(i-j) == 2 else -alpha if ((i==N-1 and j==0) or (i==0 and j==N-1) )  else 0)\n",
    "# C_mat = sym.Matrix(N,N, lambda i, j: 1+alpha if i == j else -alpha if abs(i-j) == 2 else -alpha if abs(i-j) == 1 else -alpha if ((i==N-1 and j==0) or (i==0 and j==N-1) )  else 0)\n",
    "# C_mat = sym.Matrix(N,N, lambda i, j: 1+alpha if i == j else -alpha if abs(i-j) == 2  else 0)\n",
    "\n",
    "C_mat = sym.Matrix([[1+alpha, 0      , -alpha , +alpha ],\n",
    "                    [0      , 2+alpha, -alpha , +alpha ],\n",
    "                    [-alpha , +alpha ,1+alpha, 0      ],\n",
    "                    [-alpha , +alpha , 0      , 2+alpha] ])\n",
    "\n",
    "C_mat"
   ],
   "metadata": {
    "collapsed": false,
    "ExecuteTime": {
     "end_time": "2024-04-25T09:17:34.659990800Z",
     "start_time": "2024-04-25T09:17:34.631715Z"
    }
   },
   "execution_count": 149
  },
  {
   "cell_type": "code",
   "outputs": [],
   "source": [
    "C_inv = C_mat **-1\n",
    "# C_inv = sym.simplify(C_inv)"
   ],
   "metadata": {
    "collapsed": false,
    "ExecuteTime": {
     "end_time": "2024-04-25T09:17:35.181536200Z",
     "start_time": "2024-04-25T09:17:34.884556900Z"
    }
   },
   "execution_count": 150
  },
  {
   "cell_type": "code",
   "outputs": [
    {
     "data": {
      "text/plain": "Matrix([\n[(\\alpha**3 + 6*\\alpha**2 + 8*\\alpha + 4)/(\\alpha**4 + 6*\\alpha**3 + 12*\\alpha**2 + 12*\\alpha + 4),                               -\\alpha**2/(\\alpha**4 + 6*\\alpha**3 + 12*\\alpha**2 + 12*\\alpha + 4),     (\\alpha**3 + 4*\\alpha**2 + 4*\\alpha)/(\\alpha**4 + 6*\\alpha**3 + 12*\\alpha**2 + 12*\\alpha + 4),    (-\\alpha**3 - 3*\\alpha**2 - 2*\\alpha)/(\\alpha**4 + 6*\\alpha**3 + 12*\\alpha**2 + 12*\\alpha + 4)],\n[                               \\alpha**2/(\\alpha**4 + 6*\\alpha**3 + 12*\\alpha**2 + 12*\\alpha + 4), (\\alpha**3 + 3*\\alpha**2 + 5*\\alpha + 2)/(\\alpha**4 + 6*\\alpha**3 + 12*\\alpha**2 + 12*\\alpha + 4),     (\\alpha**3 + 3*\\alpha**2 + 2*\\alpha)/(\\alpha**4 + 6*\\alpha**3 + 12*\\alpha**2 + 12*\\alpha + 4),      (-\\alpha**3 - 2*\\alpha**2 - \\alpha)/(\\alpha**4 + 6*\\alpha**3 + 12*\\alpha**2 + 12*\\alpha + 4)],\n[    (\\alpha**3 + 4*\\alpha**2 + 4*\\alpha)/(\\alpha**4 + 6*\\alpha**3 + 12*\\alpha**2 + 12*\\alpha + 4),    (-\\alpha**3 - 3*\\alpha**2 - 2*\\alpha)/(\\alpha**4 + 6*\\alpha**3 + 12*\\alpha**2 + 12*\\alpha + 4), (\\alpha**3 + 6*\\alpha**2 + 8*\\alpha + 4)/(\\alpha**4 + 6*\\alpha**3 + 12*\\alpha**2 + 12*\\alpha + 4),                               -\\alpha**2/(\\alpha**4 + 6*\\alpha**3 + 12*\\alpha**2 + 12*\\alpha + 4)],\n[    (\\alpha**3 + 3*\\alpha**2 + 2*\\alpha)/(\\alpha**4 + 6*\\alpha**3 + 12*\\alpha**2 + 12*\\alpha + 4),      (-\\alpha**3 - 2*\\alpha**2 - \\alpha)/(\\alpha**4 + 6*\\alpha**3 + 12*\\alpha**2 + 12*\\alpha + 4),                                \\alpha**2/(\\alpha**4 + 6*\\alpha**3 + 12*\\alpha**2 + 12*\\alpha + 4), (\\alpha**3 + 3*\\alpha**2 + 5*\\alpha + 2)/(\\alpha**4 + 6*\\alpha**3 + 12*\\alpha**2 + 12*\\alpha + 4)]])",
      "text/latex": "$\\displaystyle \\left[\\begin{matrix}\\frac{\\alpha^{3} + 6 \\alpha^{2} + 8 \\alpha + 4}{\\alpha^{4} + 6 \\alpha^{3} + 12 \\alpha^{2} + 12 \\alpha + 4} & - \\frac{\\alpha^{2}}{\\alpha^{4} + 6 \\alpha^{3} + 12 \\alpha^{2} + 12 \\alpha + 4} & \\frac{\\alpha^{3} + 4 \\alpha^{2} + 4 \\alpha}{\\alpha^{4} + 6 \\alpha^{3} + 12 \\alpha^{2} + 12 \\alpha + 4} & \\frac{- \\alpha^{3} - 3 \\alpha^{2} - 2 \\alpha}{\\alpha^{4} + 6 \\alpha^{3} + 12 \\alpha^{2} + 12 \\alpha + 4}\\\\\\frac{\\alpha^{2}}{\\alpha^{4} + 6 \\alpha^{3} + 12 \\alpha^{2} + 12 \\alpha + 4} & \\frac{\\alpha^{3} + 3 \\alpha^{2} + 5 \\alpha + 2}{\\alpha^{4} + 6 \\alpha^{3} + 12 \\alpha^{2} + 12 \\alpha + 4} & \\frac{\\alpha^{3} + 3 \\alpha^{2} + 2 \\alpha}{\\alpha^{4} + 6 \\alpha^{3} + 12 \\alpha^{2} + 12 \\alpha + 4} & \\frac{- \\alpha^{3} - 2 \\alpha^{2} - \\alpha}{\\alpha^{4} + 6 \\alpha^{3} + 12 \\alpha^{2} + 12 \\alpha + 4}\\\\\\frac{\\alpha^{3} + 4 \\alpha^{2} + 4 \\alpha}{\\alpha^{4} + 6 \\alpha^{3} + 12 \\alpha^{2} + 12 \\alpha + 4} & \\frac{- \\alpha^{3} - 3 \\alpha^{2} - 2 \\alpha}{\\alpha^{4} + 6 \\alpha^{3} + 12 \\alpha^{2} + 12 \\alpha + 4} & \\frac{\\alpha^{3} + 6 \\alpha^{2} + 8 \\alpha + 4}{\\alpha^{4} + 6 \\alpha^{3} + 12 \\alpha^{2} + 12 \\alpha + 4} & - \\frac{\\alpha^{2}}{\\alpha^{4} + 6 \\alpha^{3} + 12 \\alpha^{2} + 12 \\alpha + 4}\\\\\\frac{\\alpha^{3} + 3 \\alpha^{2} + 2 \\alpha}{\\alpha^{4} + 6 \\alpha^{3} + 12 \\alpha^{2} + 12 \\alpha + 4} & \\frac{- \\alpha^{3} - 2 \\alpha^{2} - \\alpha}{\\alpha^{4} + 6 \\alpha^{3} + 12 \\alpha^{2} + 12 \\alpha + 4} & \\frac{\\alpha^{2}}{\\alpha^{4} + 6 \\alpha^{3} + 12 \\alpha^{2} + 12 \\alpha + 4} & \\frac{\\alpha^{3} + 3 \\alpha^{2} + 5 \\alpha + 2}{\\alpha^{4} + 6 \\alpha^{3} + 12 \\alpha^{2} + 12 \\alpha + 4}\\end{matrix}\\right]$"
     },
     "execution_count": 151,
     "metadata": {},
     "output_type": "execute_result"
    }
   ],
   "source": [
    "C_inv"
   ],
   "metadata": {
    "collapsed": false,
    "ExecuteTime": {
     "end_time": "2024-04-25T09:17:35.261273600Z",
     "start_time": "2024-04-25T09:17:35.223016300Z"
    }
   },
   "execution_count": 151
  },
  {
   "cell_type": "code",
   "outputs": [
    {
     "data": {
      "text/plain": "Matrix([\n[(8*\\alpha + 4)/(12*\\alpha + 4),                              0,       4*\\alpha/(12*\\alpha + 4),      -2*\\alpha/(12*\\alpha + 4)],\n[                             0, (5*\\alpha + 2)/(12*\\alpha + 4),       2*\\alpha/(12*\\alpha + 4),        -\\alpha/(12*\\alpha + 4)],\n[      4*\\alpha/(12*\\alpha + 4),      -2*\\alpha/(12*\\alpha + 4), (8*\\alpha + 4)/(12*\\alpha + 4),                              0],\n[      2*\\alpha/(12*\\alpha + 4),        -\\alpha/(12*\\alpha + 4),                              0, (5*\\alpha + 2)/(12*\\alpha + 4)]])",
      "text/latex": "$\\displaystyle \\left[\\begin{matrix}\\frac{8 \\alpha + 4}{12 \\alpha + 4} & 0 & \\frac{4 \\alpha}{12 \\alpha + 4} & - \\frac{2 \\alpha}{12 \\alpha + 4}\\\\0 & \\frac{5 \\alpha + 2}{12 \\alpha + 4} & \\frac{2 \\alpha}{12 \\alpha + 4} & - \\frac{\\alpha}{12 \\alpha + 4}\\\\\\frac{4 \\alpha}{12 \\alpha + 4} & - \\frac{2 \\alpha}{12 \\alpha + 4} & \\frac{8 \\alpha + 4}{12 \\alpha + 4} & 0\\\\\\frac{2 \\alpha}{12 \\alpha + 4} & - \\frac{\\alpha}{12 \\alpha + 4} & 0 & \\frac{5 \\alpha + 2}{12 \\alpha + 4}\\end{matrix}\\right]$"
     },
     "execution_count": 152,
     "metadata": {},
     "output_type": "execute_result"
    }
   ],
   "source": [
    "neglect_terms_in_matrix(C_inv,2)"
   ],
   "metadata": {
    "collapsed": false,
    "ExecuteTime": {
     "end_time": "2024-04-25T09:17:35.886224200Z",
     "start_time": "2024-04-25T09:17:35.859770400Z"
    }
   },
   "execution_count": 152
  },
  {
   "cell_type": "code",
   "outputs": [],
   "source": [
    "U_0   = sym.polys.orthopolys.chebyshevu_poly(0,   x=(alpha+1)/(2*alpha)).simplify()\n",
    "U_N   = sym.polys.orthopolys.chebyshevu_poly(N,   x=(alpha+1)/(2*alpha)).simplify()\n",
    "U_Np1 = sym.polys.orthopolys.chebyshevu_poly(N+1, x=(alpha+1)/(2*alpha)).simplify()\n",
    "U_Np2 = sym.polys.orthopolys.chebyshevu_poly(N+2, x=(alpha+1)/(2*alpha)).simplify()"
   ],
   "metadata": {
    "collapsed": false,
    "ExecuteTime": {
     "end_time": "2024-02-23T10:37:20.954326500Z",
     "start_time": "2024-02-23T10:37:20.452080400Z"
    }
   },
   "execution_count": 9
  },
  {
   "cell_type": "code",
   "outputs": [
    {
     "data": {
      "text/plain": "(-2*\\alpha**4 + \\alpha**3 + 7*\\alpha**2 + 5*\\alpha + 1)/(\\alpha**6 - 2*\\alpha**5 - 9*\\alpha**4 + 10*\\alpha**2 + 6*\\alpha + 1)",
      "text/latex": "$\\displaystyle \\frac{- 2 \\alpha^{4} + \\alpha^{3} + 7 \\alpha^{2} + 5 \\alpha + 1}{\\alpha^{6} - 2 \\alpha^{5} - 9 \\alpha^{4} + 10 \\alpha^{2} + 6 \\alpha + 1}$"
     },
     "execution_count": 17,
     "metadata": {},
     "output_type": "execute_result"
    }
   ],
   "source": [
    "C_inv[0,0]"
   ],
   "metadata": {
    "collapsed": false,
    "ExecuteTime": {
     "end_time": "2024-02-23T10:38:28.768743300Z",
     "start_time": "2024-02-23T10:38:28.755861400Z"
    }
   },
   "execution_count": 17
  },
  {
   "cell_type": "code",
   "outputs": [
    {
     "data": {
      "text/plain": "(\\alpha**7 + 3*\\alpha**6 - 9*\\alpha**5 - 15*\\alpha**4 + 5*\\alpha**3 + 15*\\alpha**2 + 7*\\alpha + 1)/(6*\\alpha**7 + 3*\\alpha**6 - 24*\\alpha**5 - 20*\\alpha**4 + 14*\\alpha**3 + 21*\\alpha**2 + 8*\\alpha + 1)",
      "text/latex": "$\\displaystyle \\frac{\\alpha^{7} + 3 \\alpha^{6} - 9 \\alpha^{5} - 15 \\alpha^{4} + 5 \\alpha^{3} + 15 \\alpha^{2} + 7 \\alpha + 1}{6 \\alpha^{7} + 3 \\alpha^{6} - 24 \\alpha^{5} - 20 \\alpha^{4} + 14 \\alpha^{3} + 21 \\alpha^{2} + 8 \\alpha + 1}$"
     },
     "execution_count": 10,
     "metadata": {},
     "output_type": "execute_result"
    }
   ],
   "source": [
    "C_inv_diag = U_Np2**-1 * alpha ** -1 * U_0 * U_Np1\n",
    "C_inv_diag.expand().simplify()"
   ],
   "metadata": {
    "collapsed": false,
    "ExecuteTime": {
     "end_time": "2024-02-23T10:37:21.108898500Z",
     "start_time": "2024-02-23T10:37:20.956326800Z"
    }
   },
   "execution_count": 10
  },
  {
   "cell_type": "code",
   "outputs": [
    {
     "data": {
      "text/plain": "\\alpha*(\\alpha**6 - 2*\\alpha**5 - 9*\\alpha**4 + 10*\\alpha**2 + 6*\\alpha + 1)/(6*\\alpha**7 + 3*\\alpha**6 - 24*\\alpha**5 - 20*\\alpha**4 + 14*\\alpha**3 + 21*\\alpha**2 + 8*\\alpha + 1)",
      "text/latex": "$\\displaystyle \\frac{\\alpha \\left(\\alpha^{6} - 2 \\alpha^{5} - 9 \\alpha^{4} + 10 \\alpha^{2} + 6 \\alpha + 1\\right)}{6 \\alpha^{7} + 3 \\alpha^{6} - 24 \\alpha^{5} - 20 \\alpha^{4} + 14 \\alpha^{3} + 21 \\alpha^{2} + 8 \\alpha + 1}$"
     },
     "execution_count": 11,
     "metadata": {},
     "output_type": "execute_result"
    }
   ],
   "source": [
    "C_inv_sub_diag = U_Np2**-1 * alpha ** -1 * U_0 * U_N\n",
    "C_inv_sub_diag.expand().simplify()"
   ],
   "metadata": {
    "collapsed": false,
    "ExecuteTime": {
     "end_time": "2024-02-23T10:37:27.876040700Z",
     "start_time": "2024-02-23T10:37:27.828783700Z"
    }
   },
   "execution_count": 11
  },
  {
   "cell_type": "code",
   "outputs": [
    {
     "data": {
      "text/plain": "Matrix([\n[C_C/2 + C_R,           0,      -C_C/2,           0],\n[          0, C_C/2 + C_F,           0,       C_C/2],\n[     -C_C/2,           0, C_C/2 + C_R,           0],\n[          0,       C_C/2,           0, C_C/2 + C_F]])",
      "text/latex": "$\\displaystyle \\left[\\begin{matrix}\\frac{C_{C}}{2} + C_{R} & 0 & - \\frac{C_{C}}{2} & 0\\\\0 & \\frac{C_{C}}{2} + C_{F} & 0 & \\frac{C_{C}}{2}\\\\- \\frac{C_{C}}{2} & 0 & \\frac{C_{C}}{2} + C_{R} & 0\\\\0 & \\frac{C_{C}}{2} & 0 & \\frac{C_{C}}{2} + C_{F}\\end{matrix}\\right]$"
     },
     "execution_count": 6,
     "metadata": {},
     "output_type": "execute_result"
    }
   ],
   "source": [
    "# Define the symbols\n",
    "C_R, C_F, C_C = sym.symbols('C_R, C_F, C_C', real=True, positive=True, nonzero=True)\n",
    "\n",
    "# Create a 6x6 matrix based on the given pattern\n",
    "C_mat = sym.Matrix(4,4, lambda i, j: C_R+C_C/2 if (i == j and np.mod(i,2)==0) else C_F+C_C/2 if (i == j and np.mod(i,2)!=0)  else -C_C/2 if abs(i-j) == 2 else 0)\n",
    "C_mat[1,-1] *=-1\n",
    "C_mat[-1,1] *=-1\n",
    "C_mat"
   ],
   "metadata": {
    "collapsed": false,
    "ExecuteTime": {
     "end_time": "2024-04-23T12:57:06.575483Z",
     "start_time": "2024-04-23T12:57:06.505420Z"
    }
   },
   "execution_count": 6
  },
  {
   "cell_type": "code",
   "outputs": [],
   "source": [
    "C_inv = C_mat **-1"
   ],
   "metadata": {
    "collapsed": false,
    "ExecuteTime": {
     "end_time": "2024-04-23T12:57:07.261331Z",
     "start_time": "2024-04-23T12:57:07.222453Z"
    }
   },
   "execution_count": 7
  },
  {
   "cell_type": "code",
   "outputs": [
    {
     "data": {
      "text/plain": "Matrix([\n[(C_C/2 + C_R)/(C_R*(C_C + C_R)),                               0,         C_C/(2*C_R*(C_C + C_R)),                               0],\n[                              0, (C_C/2 + C_F)/(C_F*(C_C + C_F)),                               0,        -C_C/(2*C_F*(C_C + C_F))],\n[        C_C/(2*C_R*(C_C + C_R)),                               0, (C_C/2 + C_R)/(C_R*(C_C + C_R)),                               0],\n[                              0,        -C_C/(2*C_F*(C_C + C_F)),                               0, (C_C/2 + C_F)/(C_F*(C_C + C_F))]])",
      "text/latex": "$\\displaystyle \\left[\\begin{matrix}\\frac{\\frac{C_{C}}{2} + C_{R}}{C_{R} \\left(C_{C} + C_{R}\\right)} & 0 & \\frac{C_{C}}{2 C_{R} \\left(C_{C} + C_{R}\\right)} & 0\\\\0 & \\frac{\\frac{C_{C}}{2} + C_{F}}{C_{F} \\left(C_{C} + C_{F}\\right)} & 0 & - \\frac{C_{C}}{2 C_{F} \\left(C_{C} + C_{F}\\right)}\\\\\\frac{C_{C}}{2 C_{R} \\left(C_{C} + C_{R}\\right)} & 0 & \\frac{\\frac{C_{C}}{2} + C_{R}}{C_{R} \\left(C_{C} + C_{R}\\right)} & 0\\\\0 & - \\frac{C_{C}}{2 C_{F} \\left(C_{C} + C_{F}\\right)} & 0 & \\frac{\\frac{C_{C}}{2} + C_{F}}{C_{F} \\left(C_{C} + C_{F}\\right)}\\end{matrix}\\right]$"
     },
     "execution_count": 8,
     "metadata": {},
     "output_type": "execute_result"
    }
   ],
   "source": [
    "sym.simplify(C_inv)"
   ],
   "metadata": {
    "collapsed": false,
    "ExecuteTime": {
     "end_time": "2024-04-23T12:57:16.758045Z",
     "start_time": "2024-04-23T12:57:16.704067Z"
    }
   },
   "execution_count": 8
  },
  {
   "cell_type": "code",
   "outputs": [
    {
     "name": "stdout",
     "output_type": "stream",
     "text": [
      "\\left[\\begin{matrix}\\frac{\\frac{C_{C}}{2} + C_{R}}{C_{R} \\left(C_{C} + C_{R}\\right)} & 0 & \\frac{C_{C}}{2 C_{R} \\left(C_{C} + C_{R}\\right)} & 0\\\\0 & \\frac{\\frac{C_{C}}{2} + C_{F}}{C_{F} \\left(C_{C} + C_{F}\\right)} & 0 & \\frac{C_{C}}{2 C_{F} \\left(C_{C} + C_{F}\\right)}\\\\\\frac{C_{C}}{2 C_{R} \\left(C_{C} + C_{R}\\right)} & 0 & \\frac{\\frac{C_{C}}{2} + C_{R}}{C_{R} \\left(C_{C} + C_{R}\\right)} & 0\\\\0 & \\frac{C_{C}}{2 C_{F} \\left(C_{C} + C_{F}\\right)} & 0 & \\frac{\\frac{C_{C}}{2} + C_{F}}{C_{F} \\left(C_{C} + C_{F}\\right)}\\end{matrix}\\right]\n"
     ]
    }
   ],
   "source": [
    "sym.print_latex(sym.simplify(C_inv))"
   ],
   "metadata": {
    "collapsed": false
   },
   "execution_count": 30
  },
  {
   "cell_type": "code",
   "outputs": [],
   "source": [],
   "metadata": {
    "collapsed": false
   }
  },
  {
   "cell_type": "code",
   "outputs": [
    {
     "data": {
      "text/plain": "Matrix([\n[C_C/2 + C_R,           0,      -C_C/2,           0,           0,           0,           0,           0,           0,           0],\n[          0, C_C/2 + C_F,           0,      -C_C/2,           0,           0,           0,           0,           0,           0],\n[     -C_C/2,           0, C_C/2 + C_R,           0,      -C_C/2,           0,           0,           0,           0,           0],\n[          0,      -C_C/2,           0, C_C/2 + C_F,           0,      -C_C/2,           0,           0,           0,           0],\n[          0,           0,      -C_C/2,           0, C_C/2 + C_R,           0,      -C_C/2,           0,           0,           0],\n[          0,           0,           0,      -C_C/2,           0, C_C/2 + C_F,           0,      -C_C/2,           0,           0],\n[          0,           0,           0,           0,      -C_C/2,           0, C_C/2 + C_R,           0,      -C_C/2,           0],\n[          0,           0,           0,           0,           0,      -C_C/2,           0, C_C/2 + C_F,           0,      -C_C/2],\n[          0,           0,           0,           0,           0,           0,      -C_C/2,           0, C_C/2 + C_R,           0],\n[          0,           0,           0,           0,           0,           0,           0,      -C_C/2,           0, C_C/2 + C_F]])",
      "text/latex": "$\\displaystyle \\left[\\begin{matrix}\\frac{C_{C}}{2} + C_{R} & 0 & - \\frac{C_{C}}{2} & 0 & 0 & 0 & 0 & 0 & 0 & 0\\\\0 & \\frac{C_{C}}{2} + C_{F} & 0 & - \\frac{C_{C}}{2} & 0 & 0 & 0 & 0 & 0 & 0\\\\- \\frac{C_{C}}{2} & 0 & \\frac{C_{C}}{2} + C_{R} & 0 & - \\frac{C_{C}}{2} & 0 & 0 & 0 & 0 & 0\\\\0 & - \\frac{C_{C}}{2} & 0 & \\frac{C_{C}}{2} + C_{F} & 0 & - \\frac{C_{C}}{2} & 0 & 0 & 0 & 0\\\\0 & 0 & - \\frac{C_{C}}{2} & 0 & \\frac{C_{C}}{2} + C_{R} & 0 & - \\frac{C_{C}}{2} & 0 & 0 & 0\\\\0 & 0 & 0 & - \\frac{C_{C}}{2} & 0 & \\frac{C_{C}}{2} + C_{F} & 0 & - \\frac{C_{C}}{2} & 0 & 0\\\\0 & 0 & 0 & 0 & - \\frac{C_{C}}{2} & 0 & \\frac{C_{C}}{2} + C_{R} & 0 & - \\frac{C_{C}}{2} & 0\\\\0 & 0 & 0 & 0 & 0 & - \\frac{C_{C}}{2} & 0 & \\frac{C_{C}}{2} + C_{F} & 0 & - \\frac{C_{C}}{2}\\\\0 & 0 & 0 & 0 & 0 & 0 & - \\frac{C_{C}}{2} & 0 & \\frac{C_{C}}{2} + C_{R} & 0\\\\0 & 0 & 0 & 0 & 0 & 0 & 0 & - \\frac{C_{C}}{2} & 0 & \\frac{C_{C}}{2} + C_{F}\\end{matrix}\\right]$"
     },
     "execution_count": 18,
     "metadata": {},
     "output_type": "execute_result"
    }
   ],
   "source": [
    "# Define the symbols\n",
    "C_R, C_F, C_C = sym.symbols('C_R, C_F, C_C', real=True, positive=True, nonzero=True)\n",
    "\n",
    "# Create a 6x6 matrix based on the given pattern\n",
    "C_mat = sym.Matrix(10,10, lambda i, j: C_R+C_C/2 if (i == j and np.mod(i,2)==0) else C_F+C_C/2 if (i == j and np.mod(i,2)!=0)  else -C_C/2 if abs(i-j) == 2 else 0)\n",
    "\n",
    "C_mat"
   ],
   "metadata": {
    "collapsed": false,
    "ExecuteTime": {
     "end_time": "2024-02-20T09:57:33.918184185Z",
     "start_time": "2024-02-20T09:57:33.875248039Z"
    }
   },
   "execution_count": 18
  },
  {
   "cell_type": "code",
   "outputs": [],
   "source": [
    "C_inv = C_mat **-1"
   ],
   "metadata": {
    "collapsed": false,
    "ExecuteTime": {
     "end_time": "2024-02-20T09:57:36.068163841Z",
     "start_time": "2024-02-20T09:57:35.319145880Z"
    }
   },
   "execution_count": 19
  },
  {
   "cell_type": "code",
   "outputs": [
    {
     "data": {
      "text/plain": "Matrix([\n[(-C_C**4/4 - C_C**3*C_R + 3*C_C**2*C_R**2 + 8*C_C*C_R**3 + 4*C_R**4)/(C_R*(-C_C**4 - C_C**3*C_R + 6*C_C**2*C_R**2 + 10*C_C*C_R**3 + 4*C_R**4)),                                                                                                                                              0,                C_C*(-C_C**2 + 4*C_C*C_R + 4*C_R**2)/(4*C_R*(-C_C**3 + C_C**2*C_R + 4*C_C*C_R**2 + 2*C_R**3)),                                                                                                            0,            C_C**2/(-C_C**3 + 6*C_C*C_R**2 + 4*C_R**3),                                                     0,                                              C_C**3/(4*C_R*(-C_C**3 + C_C**2*C_R + 4*C_C*C_R**2 + 2*C_R**3)),                                                                                                            0,                                                             C_C**4/(4*C_R*(-C_C**4 - C_C**3*C_R + 6*C_C**2*C_R**2 + 10*C_C*C_R**3 + 4*C_R**4)),                                                                                                                                              0],\n[                                                                                                                                             0, (-C_C**4/4 - C_C**3*C_F + 3*C_C**2*C_F**2 + 8*C_C*C_F**3 + 4*C_F**4)/(C_F*(-C_C**4 - C_C**3*C_F + 6*C_C**2*C_F**2 + 10*C_C*C_F**3 + 4*C_F**4)),                                                                                                            0,                C_C*(-C_C**2 + 4*C_C*C_F + 4*C_F**2)/(4*C_F*(-C_C**3 + C_C**2*C_F + 4*C_C*C_F**2 + 2*C_F**3)),                                                     0,            C_C**2/(-C_C**3 + 6*C_C*C_F**2 + 4*C_F**3),                                                                                                            0,                                              C_C**3/(4*C_F*(-C_C**3 + C_C**2*C_F + 4*C_C*C_F**2 + 2*C_F**3)),                                                                                                                                              0,                                                             C_C**4/(4*C_F*(-C_C**4 - C_C**3*C_F + 6*C_C**2*C_F**2 + 10*C_C*C_F**3 + 4*C_F**4))],\n[                                                 C_C*(-C_C**2 + 4*C_C*C_R + 4*C_R**2)/(4*C_R*(-C_C**3 + C_C**2*C_R + 4*C_C*C_R**2 + 2*C_R**3)),                                                                                                                                              0, (-C_C**3 + 2*C_C**2*C_R + 12*C_C*C_R**2 + 8*C_R**3)/(4*C_R*(-C_C**3 + C_C**2*C_R + 4*C_C*C_R**2 + 2*C_R**3)),                                                                                                            0,                  C_C/(-C_C**2 + 2*C_C*C_R + 2*C_R**2),                                                     0,                                C_C**2*(C_C + 2*C_R)/(4*C_R*(-C_C**3 + C_C**2*C_R + 4*C_C*C_R**2 + 2*C_R**3)),                                                                                                            0,                                                                                C_C**3/(4*C_R*(-C_C**3 + C_C**2*C_R + 4*C_C*C_R**2 + 2*C_R**3)),                                                                                                                                              0],\n[                                                                                                                                             0,                                                  C_C*(-C_C**2 + 4*C_C*C_F + 4*C_F**2)/(4*C_F*(-C_C**3 + C_C**2*C_F + 4*C_C*C_F**2 + 2*C_F**3)),                                                                                                            0, (-C_C**3 + 2*C_C**2*C_F + 12*C_C*C_F**2 + 8*C_F**3)/(4*C_F*(-C_C**3 + C_C**2*C_F + 4*C_C*C_F**2 + 2*C_F**3)),                                                     0,                  C_C/(-C_C**2 + 2*C_C*C_F + 2*C_F**2),                                                                                                            0,                                C_C**2*(C_C + 2*C_F)/(4*C_F*(-C_C**3 + C_C**2*C_F + 4*C_C*C_F**2 + 2*C_F**3)),                                                                                                                                              0,                                                                                C_C**3/(4*C_F*(-C_C**3 + C_C**2*C_F + 4*C_C*C_F**2 + 2*C_F**3))],\n[                                                                                                    C_C**2/(-C_C**3 + 6*C_C*C_R**2 + 4*C_R**3),                                                                                                                                              0,                                                                         C_C/(-C_C**2 + 2*C_C*C_R + 2*C_R**2),                                                                                                            0, 4*C_R*(C_C + C_R)/(-C_C**3 + 6*C_C*C_R**2 + 4*C_R**3),                                                     0,                                                                         C_C/(-C_C**2 + 2*C_C*C_R + 2*C_R**2),                                                                                                            0,                                                                                                     C_C**2/(-C_C**3 + 6*C_C*C_R**2 + 4*C_R**3),                                                                                                                                              0],\n[                                                                                                                                             0,                                                                                                     C_C**2/(-C_C**3 + 6*C_C*C_F**2 + 4*C_F**3),                                                                                                            0,                                                                         C_C/(-C_C**2 + 2*C_C*C_F + 2*C_F**2),                                                     0, 4*C_F*(C_C + C_F)/(-C_C**3 + 6*C_C*C_F**2 + 4*C_F**3),                                                                                                            0,                                                                         C_C/(-C_C**2 + 2*C_C*C_F + 2*C_F**2),                                                                                                                                              0,                                                                                                     C_C**2/(-C_C**3 + 6*C_C*C_F**2 + 4*C_F**3)],\n[                                                                               C_C**3/(4*C_R*(-C_C**3 + C_C**2*C_R + 4*C_C*C_R**2 + 2*C_R**3)),                                                                                                                                              0,                                C_C**2*(C_C + 2*C_R)/(4*C_R*(-C_C**3 + C_C**2*C_R + 4*C_C*C_R**2 + 2*C_R**3)),                                                                                                            0,                  C_C/(-C_C**2 + 2*C_C*C_R + 2*C_R**2),                                                     0, (-C_C**3 + 2*C_C**2*C_R + 12*C_C*C_R**2 + 8*C_R**3)/(4*C_R*(-C_C**3 + C_C**2*C_R + 4*C_C*C_R**2 + 2*C_R**3)),                                                                                                            0,                                                  C_C*(-C_C**2 + 4*C_C*C_R + 4*C_R**2)/(4*C_R*(-C_C**3 + C_C**2*C_R + 4*C_C*C_R**2 + 2*C_R**3)),                                                                                                                                              0],\n[                                                                                                                                             0,                                                                                C_C**3/(4*C_F*(-C_C**3 + C_C**2*C_F + 4*C_C*C_F**2 + 2*C_F**3)),                                                                                                            0,                                C_C**2*(C_C + 2*C_F)/(4*C_F*(-C_C**3 + C_C**2*C_F + 4*C_C*C_F**2 + 2*C_F**3)),                                                     0,                  C_C/(-C_C**2 + 2*C_C*C_F + 2*C_F**2),                                                                                                            0, (-C_C**3 + 2*C_C**2*C_F + 12*C_C*C_F**2 + 8*C_F**3)/(4*C_F*(-C_C**3 + C_C**2*C_F + 4*C_C*C_F**2 + 2*C_F**3)),                                                                                                                                              0,                                                  C_C*(-C_C**2 + 4*C_C*C_F + 4*C_F**2)/(4*C_F*(-C_C**3 + C_C**2*C_F + 4*C_C*C_F**2 + 2*C_F**3))],\n[                                                            C_C**4/(4*C_R*(-C_C**4 - C_C**3*C_R + 6*C_C**2*C_R**2 + 10*C_C*C_R**3 + 4*C_R**4)),                                                                                                                                              0,                                              C_C**3/(4*C_R*(-C_C**3 + C_C**2*C_R + 4*C_C*C_R**2 + 2*C_R**3)),                                                                                                            0,            C_C**2/(-C_C**3 + 6*C_C*C_R**2 + 4*C_R**3),                                                     0,                C_C*(-C_C**2 + 4*C_C*C_R + 4*C_R**2)/(4*C_R*(-C_C**3 + C_C**2*C_R + 4*C_C*C_R**2 + 2*C_R**3)),                                                                                                            0, (-C_C**4/4 - C_C**3*C_R + 3*C_C**2*C_R**2 + 8*C_C*C_R**3 + 4*C_R**4)/(C_R*(-C_C**4 - C_C**3*C_R + 6*C_C**2*C_R**2 + 10*C_C*C_R**3 + 4*C_R**4)),                                                                                                                                              0],\n[                                                                                                                                             0,                                                             C_C**4/(4*C_F*(-C_C**4 - C_C**3*C_F + 6*C_C**2*C_F**2 + 10*C_C*C_F**3 + 4*C_F**4)),                                                                                                            0,                                              C_C**3/(4*C_F*(-C_C**3 + C_C**2*C_F + 4*C_C*C_F**2 + 2*C_F**3)),                                                     0,            C_C**2/(-C_C**3 + 6*C_C*C_F**2 + 4*C_F**3),                                                                                                            0,                C_C*(-C_C**2 + 4*C_C*C_F + 4*C_F**2)/(4*C_F*(-C_C**3 + C_C**2*C_F + 4*C_C*C_F**2 + 2*C_F**3)),                                                                                                                                              0, (-C_C**4/4 - C_C**3*C_F + 3*C_C**2*C_F**2 + 8*C_C*C_F**3 + 4*C_F**4)/(C_F*(-C_C**4 - C_C**3*C_F + 6*C_C**2*C_F**2 + 10*C_C*C_F**3 + 4*C_F**4))]])",
      "text/latex": "$\\displaystyle \\left[\\begin{matrix}\\frac{- \\frac{C_{C}^{4}}{4} - C_{C}^{3} C_{R} + 3 C_{C}^{2} C_{R}^{2} + 8 C_{C} C_{R}^{3} + 4 C_{R}^{4}}{C_{R} \\left(- C_{C}^{4} - C_{C}^{3} C_{R} + 6 C_{C}^{2} C_{R}^{2} + 10 C_{C} C_{R}^{3} + 4 C_{R}^{4}\\right)} & 0 & \\frac{C_{C} \\left(- C_{C}^{2} + 4 C_{C} C_{R} + 4 C_{R}^{2}\\right)}{4 C_{R} \\left(- C_{C}^{3} + C_{C}^{2} C_{R} + 4 C_{C} C_{R}^{2} + 2 C_{R}^{3}\\right)} & 0 & \\frac{C_{C}^{2}}{- C_{C}^{3} + 6 C_{C} C_{R}^{2} + 4 C_{R}^{3}} & 0 & \\frac{C_{C}^{3}}{4 C_{R} \\left(- C_{C}^{3} + C_{C}^{2} C_{R} + 4 C_{C} C_{R}^{2} + 2 C_{R}^{3}\\right)} & 0 & \\frac{C_{C}^{4}}{4 C_{R} \\left(- C_{C}^{4} - C_{C}^{3} C_{R} + 6 C_{C}^{2} C_{R}^{2} + 10 C_{C} C_{R}^{3} + 4 C_{R}^{4}\\right)} & 0\\\\0 & \\frac{- \\frac{C_{C}^{4}}{4} - C_{C}^{3} C_{F} + 3 C_{C}^{2} C_{F}^{2} + 8 C_{C} C_{F}^{3} + 4 C_{F}^{4}}{C_{F} \\left(- C_{C}^{4} - C_{C}^{3} C_{F} + 6 C_{C}^{2} C_{F}^{2} + 10 C_{C} C_{F}^{3} + 4 C_{F}^{4}\\right)} & 0 & \\frac{C_{C} \\left(- C_{C}^{2} + 4 C_{C} C_{F} + 4 C_{F}^{2}\\right)}{4 C_{F} \\left(- C_{C}^{3} + C_{C}^{2} C_{F} + 4 C_{C} C_{F}^{2} + 2 C_{F}^{3}\\right)} & 0 & \\frac{C_{C}^{2}}{- C_{C}^{3} + 6 C_{C} C_{F}^{2} + 4 C_{F}^{3}} & 0 & \\frac{C_{C}^{3}}{4 C_{F} \\left(- C_{C}^{3} + C_{C}^{2} C_{F} + 4 C_{C} C_{F}^{2} + 2 C_{F}^{3}\\right)} & 0 & \\frac{C_{C}^{4}}{4 C_{F} \\left(- C_{C}^{4} - C_{C}^{3} C_{F} + 6 C_{C}^{2} C_{F}^{2} + 10 C_{C} C_{F}^{3} + 4 C_{F}^{4}\\right)}\\\\\\frac{C_{C} \\left(- C_{C}^{2} + 4 C_{C} C_{R} + 4 C_{R}^{2}\\right)}{4 C_{R} \\left(- C_{C}^{3} + C_{C}^{2} C_{R} + 4 C_{C} C_{R}^{2} + 2 C_{R}^{3}\\right)} & 0 & \\frac{- C_{C}^{3} + 2 C_{C}^{2} C_{R} + 12 C_{C} C_{R}^{2} + 8 C_{R}^{3}}{4 C_{R} \\left(- C_{C}^{3} + C_{C}^{2} C_{R} + 4 C_{C} C_{R}^{2} + 2 C_{R}^{3}\\right)} & 0 & \\frac{C_{C}}{- C_{C}^{2} + 2 C_{C} C_{R} + 2 C_{R}^{2}} & 0 & \\frac{C_{C}^{2} \\left(C_{C} + 2 C_{R}\\right)}{4 C_{R} \\left(- C_{C}^{3} + C_{C}^{2} C_{R} + 4 C_{C} C_{R}^{2} + 2 C_{R}^{3}\\right)} & 0 & \\frac{C_{C}^{3}}{4 C_{R} \\left(- C_{C}^{3} + C_{C}^{2} C_{R} + 4 C_{C} C_{R}^{2} + 2 C_{R}^{3}\\right)} & 0\\\\0 & \\frac{C_{C} \\left(- C_{C}^{2} + 4 C_{C} C_{F} + 4 C_{F}^{2}\\right)}{4 C_{F} \\left(- C_{C}^{3} + C_{C}^{2} C_{F} + 4 C_{C} C_{F}^{2} + 2 C_{F}^{3}\\right)} & 0 & \\frac{- C_{C}^{3} + 2 C_{C}^{2} C_{F} + 12 C_{C} C_{F}^{2} + 8 C_{F}^{3}}{4 C_{F} \\left(- C_{C}^{3} + C_{C}^{2} C_{F} + 4 C_{C} C_{F}^{2} + 2 C_{F}^{3}\\right)} & 0 & \\frac{C_{C}}{- C_{C}^{2} + 2 C_{C} C_{F} + 2 C_{F}^{2}} & 0 & \\frac{C_{C}^{2} \\left(C_{C} + 2 C_{F}\\right)}{4 C_{F} \\left(- C_{C}^{3} + C_{C}^{2} C_{F} + 4 C_{C} C_{F}^{2} + 2 C_{F}^{3}\\right)} & 0 & \\frac{C_{C}^{3}}{4 C_{F} \\left(- C_{C}^{3} + C_{C}^{2} C_{F} + 4 C_{C} C_{F}^{2} + 2 C_{F}^{3}\\right)}\\\\\\frac{C_{C}^{2}}{- C_{C}^{3} + 6 C_{C} C_{R}^{2} + 4 C_{R}^{3}} & 0 & \\frac{C_{C}}{- C_{C}^{2} + 2 C_{C} C_{R} + 2 C_{R}^{2}} & 0 & \\frac{4 C_{R} \\left(C_{C} + C_{R}\\right)}{- C_{C}^{3} + 6 C_{C} C_{R}^{2} + 4 C_{R}^{3}} & 0 & \\frac{C_{C}}{- C_{C}^{2} + 2 C_{C} C_{R} + 2 C_{R}^{2}} & 0 & \\frac{C_{C}^{2}}{- C_{C}^{3} + 6 C_{C} C_{R}^{2} + 4 C_{R}^{3}} & 0\\\\0 & \\frac{C_{C}^{2}}{- C_{C}^{3} + 6 C_{C} C_{F}^{2} + 4 C_{F}^{3}} & 0 & \\frac{C_{C}}{- C_{C}^{2} + 2 C_{C} C_{F} + 2 C_{F}^{2}} & 0 & \\frac{4 C_{F} \\left(C_{C} + C_{F}\\right)}{- C_{C}^{3} + 6 C_{C} C_{F}^{2} + 4 C_{F}^{3}} & 0 & \\frac{C_{C}}{- C_{C}^{2} + 2 C_{C} C_{F} + 2 C_{F}^{2}} & 0 & \\frac{C_{C}^{2}}{- C_{C}^{3} + 6 C_{C} C_{F}^{2} + 4 C_{F}^{3}}\\\\\\frac{C_{C}^{3}}{4 C_{R} \\left(- C_{C}^{3} + C_{C}^{2} C_{R} + 4 C_{C} C_{R}^{2} + 2 C_{R}^{3}\\right)} & 0 & \\frac{C_{C}^{2} \\left(C_{C} + 2 C_{R}\\right)}{4 C_{R} \\left(- C_{C}^{3} + C_{C}^{2} C_{R} + 4 C_{C} C_{R}^{2} + 2 C_{R}^{3}\\right)} & 0 & \\frac{C_{C}}{- C_{C}^{2} + 2 C_{C} C_{R} + 2 C_{R}^{2}} & 0 & \\frac{- C_{C}^{3} + 2 C_{C}^{2} C_{R} + 12 C_{C} C_{R}^{2} + 8 C_{R}^{3}}{4 C_{R} \\left(- C_{C}^{3} + C_{C}^{2} C_{R} + 4 C_{C} C_{R}^{2} + 2 C_{R}^{3}\\right)} & 0 & \\frac{C_{C} \\left(- C_{C}^{2} + 4 C_{C} C_{R} + 4 C_{R}^{2}\\right)}{4 C_{R} \\left(- C_{C}^{3} + C_{C}^{2} C_{R} + 4 C_{C} C_{R}^{2} + 2 C_{R}^{3}\\right)} & 0\\\\0 & \\frac{C_{C}^{3}}{4 C_{F} \\left(- C_{C}^{3} + C_{C}^{2} C_{F} + 4 C_{C} C_{F}^{2} + 2 C_{F}^{3}\\right)} & 0 & \\frac{C_{C}^{2} \\left(C_{C} + 2 C_{F}\\right)}{4 C_{F} \\left(- C_{C}^{3} + C_{C}^{2} C_{F} + 4 C_{C} C_{F}^{2} + 2 C_{F}^{3}\\right)} & 0 & \\frac{C_{C}}{- C_{C}^{2} + 2 C_{C} C_{F} + 2 C_{F}^{2}} & 0 & \\frac{- C_{C}^{3} + 2 C_{C}^{2} C_{F} + 12 C_{C} C_{F}^{2} + 8 C_{F}^{3}}{4 C_{F} \\left(- C_{C}^{3} + C_{C}^{2} C_{F} + 4 C_{C} C_{F}^{2} + 2 C_{F}^{3}\\right)} & 0 & \\frac{C_{C} \\left(- C_{C}^{2} + 4 C_{C} C_{F} + 4 C_{F}^{2}\\right)}{4 C_{F} \\left(- C_{C}^{3} + C_{C}^{2} C_{F} + 4 C_{C} C_{F}^{2} + 2 C_{F}^{3}\\right)}\\\\\\frac{C_{C}^{4}}{4 C_{R} \\left(- C_{C}^{4} - C_{C}^{3} C_{R} + 6 C_{C}^{2} C_{R}^{2} + 10 C_{C} C_{R}^{3} + 4 C_{R}^{4}\\right)} & 0 & \\frac{C_{C}^{3}}{4 C_{R} \\left(- C_{C}^{3} + C_{C}^{2} C_{R} + 4 C_{C} C_{R}^{2} + 2 C_{R}^{3}\\right)} & 0 & \\frac{C_{C}^{2}}{- C_{C}^{3} + 6 C_{C} C_{R}^{2} + 4 C_{R}^{3}} & 0 & \\frac{C_{C} \\left(- C_{C}^{2} + 4 C_{C} C_{R} + 4 C_{R}^{2}\\right)}{4 C_{R} \\left(- C_{C}^{3} + C_{C}^{2} C_{R} + 4 C_{C} C_{R}^{2} + 2 C_{R}^{3}\\right)} & 0 & \\frac{- \\frac{C_{C}^{4}}{4} - C_{C}^{3} C_{R} + 3 C_{C}^{2} C_{R}^{2} + 8 C_{C} C_{R}^{3} + 4 C_{R}^{4}}{C_{R} \\left(- C_{C}^{4} - C_{C}^{3} C_{R} + 6 C_{C}^{2} C_{R}^{2} + 10 C_{C} C_{R}^{3} + 4 C_{R}^{4}\\right)} & 0\\\\0 & \\frac{C_{C}^{4}}{4 C_{F} \\left(- C_{C}^{4} - C_{C}^{3} C_{F} + 6 C_{C}^{2} C_{F}^{2} + 10 C_{C} C_{F}^{3} + 4 C_{F}^{4}\\right)} & 0 & \\frac{C_{C}^{3}}{4 C_{F} \\left(- C_{C}^{3} + C_{C}^{2} C_{F} + 4 C_{C} C_{F}^{2} + 2 C_{F}^{3}\\right)} & 0 & \\frac{C_{C}^{2}}{- C_{C}^{3} + 6 C_{C} C_{F}^{2} + 4 C_{F}^{3}} & 0 & \\frac{C_{C} \\left(- C_{C}^{2} + 4 C_{C} C_{F} + 4 C_{F}^{2}\\right)}{4 C_{F} \\left(- C_{C}^{3} + C_{C}^{2} C_{F} + 4 C_{C} C_{F}^{2} + 2 C_{F}^{3}\\right)} & 0 & \\frac{- \\frac{C_{C}^{4}}{4} - C_{C}^{3} C_{F} + 3 C_{C}^{2} C_{F}^{2} + 8 C_{C} C_{F}^{3} + 4 C_{F}^{4}}{C_{F} \\left(- C_{C}^{4} - C_{C}^{3} C_{F} + 6 C_{C}^{2} C_{F}^{2} + 10 C_{C} C_{F}^{3} + 4 C_{F}^{4}\\right)}\\end{matrix}\\right]$"
     },
     "execution_count": 20,
     "metadata": {},
     "output_type": "execute_result"
    }
   ],
   "source": [
    "sym.simplify(C_inv)"
   ],
   "metadata": {
    "collapsed": false,
    "ExecuteTime": {
     "end_time": "2024-02-20T09:57:37.758804875Z",
     "start_time": "2024-02-20T09:57:37.057541966Z"
    }
   },
   "execution_count": 20
  },
  {
   "cell_type": "code",
   "outputs": [],
   "source": [],
   "metadata": {
    "collapsed": false
   }
  }
 ],
 "metadata": {
  "kernelspec": {
   "display_name": "Python 3",
   "language": "python",
   "name": "python3"
  },
  "language_info": {
   "codemirror_mode": {
    "name": "ipython",
    "version": 2
   },
   "file_extension": ".py",
   "mimetype": "text/x-python",
   "name": "python",
   "nbconvert_exporter": "python",
   "pygments_lexer": "ipython2",
   "version": "2.7.6"
  }
 },
 "nbformat": 4,
 "nbformat_minor": 0
}
