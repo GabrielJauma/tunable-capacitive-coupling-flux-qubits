{
 "cells": [
  {
   "cell_type": "code",
   "id": "6d04c102b4d54971",
   "metadata": {
    "collapsed": false,
    "ExecuteTime": {
     "end_time": "2024-05-14T13:57:16.566980Z",
     "start_time": "2024-05-14T13:57:16.561438Z"
    }
   },
   "source": [
    "import Modules.SQcircuit_extensions as sq_ext\n",
    "import Modules.figures as figs\n",
    "import SQcircuit as sq\n",
    "import numpy as np\n",
    "import matplotlib.pyplot as plt\n",
    "import importlib\n",
    "import qutip as qt\n",
    "\n",
    "plt.rcParams['text.usetex'] = False\n",
    "importlib.reload(sq_ext)\n",
    "importlib.reload(sq)\n",
    "importlib.reload(figs)\n",
    "np.set_printoptions(linewidth=200, formatter={'float': '{:.5f}'.format})"
   ],
   "outputs": [
    {
     "data": {
      "text/plain": [
       "<Figure size 640x480 with 0 Axes>"
      ]
     },
     "metadata": {},
     "output_type": "display_data"
    }
   ],
   "execution_count": 10
  },
  {
   "metadata": {
    "ExecuteTime": {
     "end_time": "2024-05-14T13:57:16.753561Z",
     "start_time": "2024-05-14T13:57:16.748056Z"
    }
   },
   "cell_type": "code",
   "source": [
    "def resonator_C_resonator(Cc, C_val, L_val):\n",
    "    Cc = sq.Capacitor(Cc, 'fF')\n",
    "    C = sq.Capacitor(C_val,   'fF')\n",
    "    L = sq.Inductor (L_val,   'nH')\n",
    "    elements = {(0, 1): [L, C],\n",
    "                (0, 2): [L, C],\n",
    "                (1, 2): [Cc], }\n",
    "    return sq.Circuit(elements)\n",
    "\n",
    "def resonator_resonator(C_val, L_val, connected=True ):\n",
    "    C = sq.Capacitor(C_val, 'fF')\n",
    "    L = sq.Inductor (L_val,  'nH')\n",
    "    if connected:\n",
    "        elements = {(0, 1): [L, C, L, C], }\n",
    "    else:\n",
    "        elements = {(0, 1): [L, C],\n",
    "                    (0, 2): [L, C], }\n",
    "    return sq.Circuit(elements)\n",
    "\n",
    "def resonator_resonator_eq(C_val, L_val, connected=True):\n",
    "    if connected:\n",
    "        C = sq.Capacitor(C_val+C_val, 'fF')\n",
    "        L = sq.Inductor ((1/L_val+1/L_val)**-1, 'nH')\n",
    "        elements = {(0, 1): [L, C], }\n",
    "    else:\n",
    "        C = sq.Capacitor(C_val, 'fF')\n",
    "        L = sq.Inductor (L_val,  'nH')\n",
    "        elements = {(0, 1): [L, C],\n",
    "                    (0, 2): [L, C], }\n",
    "    return sq.Circuit(elements)\n",
    "\n",
    "def resonator(Cc, C_val, L_val):\n",
    "    # CC = sq.Capacitor(Cc, 'fF')\n",
    "    # C = sq.Capacitor(C_val, 'fF')\n",
    "    # L = sq.Inductor(L_val,  'nH')\n",
    "    # elements = {(0, 2): [L],\n",
    "    #             (0, 1): [C],\n",
    "    #             (1, 2): [CC]}\n",
    "    # return sq.Circuit(elements)\n",
    "    \n",
    "    if Cc == 0:\n",
    "        C = sq.Capacitor(C_val, 'fF')\n",
    "        L = sq.Inductor(L_val,  'nH')\n",
    "        elements = {(0, 1): [L, C], }\n",
    "        return sq.Circuit(elements)\n",
    "    else:\n",
    "        C = sq.Capacitor(1/(1/C_val+1/Cc), 'fF')\n",
    "        L = sq.Inductor (L_val, 'nH')\n",
    "        elements = {(0, 1): [L, C], }\n",
    "    return sq.Circuit(elements)\n",
    "    \n",
    "def shutned_resonator(Cc, C_val, L_val):\n",
    "    Cc = sq.Capacitor(Cc, 'fF')\n",
    "    C = sq.Capacitor(C_val,   'fF')\n",
    "    L = sq.Inductor (L_val,   'nH')\n",
    "    elements = {(0, 1): [L, C, Cc], }\n",
    "    return sq.Circuit(elements)"
   ],
   "id": "64be2d87e1189800",
   "outputs": [],
   "execution_count": 11
  },
  {
   "cell_type": "code",
   "source": [
    "fF = 1e-15\n",
    "nH = 1e-9\n",
    "C_val = 10\n",
    "L_val = 1"
   ],
   "metadata": {
    "collapsed": false,
    "ExecuteTime": {
     "end_time": "2024-05-14T13:57:17.183199Z",
     "start_time": "2024-05-14T13:57:17.181150Z"
    }
   },
   "id": "49a6981b66be1cd4",
   "outputs": [],
   "execution_count": 12
  },
  {
   "cell_type": "code",
   "source": [
    "n_eig = 8\n",
    "trunc_num = 60\n",
    "Cc = 5"
   ],
   "metadata": {
    "collapsed": false,
    "ExecuteTime": {
     "end_time": "2024-05-14T13:57:17.442505Z",
     "start_time": "2024-05-14T13:57:17.440553Z"
    }
   },
   "id": "78a7539935b6c8d3",
   "outputs": [],
   "execution_count": 13
  },
  {
   "cell_type": "code",
   "source": [
    "coupled_res = resonator_C_resonator(Cc=Cc, C_val=C_val, L_val=L_val)\n",
    "res = resonator(Cc=Cc, C_val=C_val, L_val=L_val)\n",
    "\n",
    "uncoupled_res = resonator_C_resonator(Cc=0, C_val=C_val, L_val=L_val)\n",
    "res_0 = resonator(Cc=0, C_val=C_val, L_val=L_val)\n",
    "\n",
    "uncoupled_renormalized_res = resonator_C_resonator(Cc=0, C_val=(1/C_val+1/Cc)**-1, L_val=L_val)\n",
    "renormalized_res = resonator(Cc=Cc, C_val=C_val, L_val=L_val)\n",
    "\n",
    "coupled_res.set_trunc_nums([trunc_num, trunc_num])\n",
    "uncoupled_res.set_trunc_nums([trunc_num, trunc_num])\n",
    "uncoupled_renormalized_res.set_trunc_nums([trunc_num, trunc_num])\n",
    "res.set_trunc_nums([trunc_num  ])\n",
    "res_0.set_trunc_nums([trunc_num])\n",
    "renormalized_res.set_trunc_nums([trunc_num])\n",
    "\n",
    "_ = coupled_res.diag(n_eig)\n",
    "_ = uncoupled_res.diag(n_eig)\n",
    "_ = uncoupled_renormalized_res.diag(n_eig)\n",
    "_ = res.diag(n_eig)\n",
    "_ = res_0.diag(n_eig)\n",
    "_ = renormalized_res.diag(n_eig)"
   ],
   "metadata": {
    "collapsed": false,
    "ExecuteTime": {
     "end_time": "2024-05-14T13:57:18.310029Z",
     "start_time": "2024-05-14T13:57:17.752002Z"
    }
   },
   "id": "bc0ed99296e2f0ba",
   "outputs": [],
   "execution_count": 14
  },
  {
   "cell_type": "code",
   "source": [
    "Q_0 = res_0._charge_op_isolated(0)\n",
    "Φ_0 = res_0._flux_op_isolated(0)\n",
    "\n",
    "Q = res._charge_op_isolated(0)\n",
    "Φ = res._flux_op_isolated(0)"
   ],
   "metadata": {
    "collapsed": false,
    "ExecuteTime": {
     "end_time": "2024-05-14T13:57:18.416142Z",
     "start_time": "2024-05-14T13:57:18.413156Z"
    }
   },
   "id": "81ac023d1f9f38df",
   "outputs": [],
   "execution_count": 15
  },
  {
   "metadata": {
    "ExecuteTime": {
     "end_time": "2024-05-14T14:01:03.012659Z",
     "start_time": "2024-05-14T14:01:03.010058Z"
    }
   },
   "cell_type": "code",
   "source": [
    "C_mat = np.array([[C_val, -Cc],\n",
    "                  [-Cc, C_val]])\n",
    "C_inv = np.linalg.inv(C_mat)\n",
    "C_inv"
   ],
   "id": "54347f5f66c5f30e",
   "outputs": [
    {
     "data": {
      "text/plain": [
       "array([[0.13333, 0.06667],\n",
       "       [0.06667, 0.13333]])"
      ]
     },
     "execution_count": 32,
     "metadata": {},
     "output_type": "execute_result"
    }
   ],
   "execution_count": 32
  },
  {
   "metadata": {
    "ExecuteTime": {
     "end_time": "2024-05-14T14:01:01.743399Z",
     "start_time": "2024-05-14T14:01:01.740852Z"
    }
   },
   "cell_type": "code",
   "source": [
    "\n",
    "C1_tilde = C_inv[0,0]**-1\n",
    "C2_tilde = C_inv[1,1]**-1\n",
    "C_coup = C_inv[0,1]**-1 /3\n",
    "C_coup, Cc"
   ],
   "id": "3d142583e6643e86",
   "outputs": [
    {
     "data": {
      "text/plain": [
       "(5.0, 5)"
      ]
     },
     "execution_count": 31,
     "metadata": {},
     "output_type": "execute_result"
    }
   ],
   "execution_count": 31
  },
  {
   "metadata": {},
   "cell_type": "code",
   "outputs": [],
   "execution_count": null,
   "source": "C",
   "id": "627435cd8be111cd"
  },
  {
   "metadata": {
    "ExecuteTime": {
     "end_time": "2024-05-14T13:57:19.075134Z",
     "start_time": "2024-05-14T13:57:19.072992Z"
    }
   },
   "cell_type": "code",
   "source": "C_coup = Cc",
   "id": "cdd980ca461778b",
   "outputs": [],
   "execution_count": 17
  },
  {
   "cell_type": "code",
   "source": [
    "# H_res_0 = 1 / 2 * (1/fF)               * Q_0 ** 2  + 1 / 2 * (1/nH) * Φ_0 ** 2\n",
    "H_res_0 = res_0.hamiltonian()\n",
    "# H_res   = 1 / 2 * (1/fF) * (1 + 1/Cc)  * Q ** 2    + 1 / 2 * (1/nH) * Φ   ** 2# \n",
    "H_res   = res.hamiltonian()\n",
    "\n",
    "I = qt.identity(H_res.shape[0])\n",
    "\n",
    "H_unc_res = qt.tensor(H_res_0, I) + qt.tensor(I, H_res_0)\n",
    "\n",
    "H_unc_renorm = qt.tensor(H_res, I) + qt.tensor(I, H_res)\n",
    "\n",
    "H_coup_res = qt.tensor(H_res, I) + qt.tensor(I, H_res) -  (0.5 / (C_coup*fF)) * qt.tensor(Q, Q)"
   ],
   "metadata": {
    "collapsed": true,
    "ExecuteTime": {
     "end_time": "2024-05-14T13:58:01.904862Z",
     "start_time": "2024-05-14T13:58:01.900555Z"
    }
   },
   "id": "initial_id",
   "outputs": [],
   "execution_count": 26
  },
  {
   "cell_type": "code",
   "source": [
    "E = sq_ext.diag(H_coup_res,n_eig=n_eig, out='GHz')[0]\n",
    "E -= E[0]\n",
    "E/2"
   ],
   "metadata": {
    "collapsed": false,
    "ExecuteTime": {
     "end_time": "2024-05-14T13:58:02.362329Z",
     "start_time": "2024-05-14T13:58:02.241999Z"
    }
   },
   "id": "27a91c35a8818de0",
   "outputs": [
    {
     "data": {
      "text/plain": [
       "array([0.00000, 35.58813, 50.32921, 71.17625, 85.91734, 100.65842, 106.76438, 121.50547])"
      ]
     },
     "execution_count": 27,
     "metadata": {},
     "output_type": "execute_result"
    }
   ],
   "execution_count": 27
  },
  {
   "cell_type": "markdown",
   "source": [],
   "metadata": {
    "collapsed": false
   },
   "id": "8e00ea4ed983c289"
  },
  {
   "cell_type": "code",
   "source": "# E/E[1]",
   "metadata": {
    "collapsed": false,
    "ExecuteTime": {
     "end_time": "2024-05-14T13:58:03.043517Z",
     "start_time": "2024-05-14T13:58:03.041930Z"
    }
   },
   "id": "ed04b5e5ce00ddeb",
   "outputs": [],
   "execution_count": 28
  },
  {
   "cell_type": "code",
   "source": [
    "E = coupled_res.efreqs - coupled_res.efreqs[0]\n",
    "E"
   ],
   "metadata": {
    "collapsed": false,
    "ExecuteTime": {
     "end_time": "2024-05-14T13:58:03.320008Z",
     "start_time": "2024-05-14T13:58:03.317617Z"
    }
   },
   "id": "b097b5af6815bedc",
   "outputs": [
    {
     "data": {
      "text/plain": [
       "array([0.00000, 35.58813, 50.32921, 71.17625, 85.91734, 100.65842, 106.76438, 121.50547])"
      ]
     },
     "execution_count": 29,
     "metadata": {},
     "output_type": "execute_result"
    }
   ],
   "execution_count": 29
  },
  {
   "cell_type": "code",
   "source": "# E/E[1]",
   "metadata": {
    "collapsed": false,
    "ExecuteTime": {
     "end_time": "2024-05-14T13:57:21.322691Z",
     "start_time": "2024-05-14T13:57:21.321033Z"
    }
   },
   "id": "4c42fec2cce49ce0",
   "outputs": [],
   "execution_count": 22
  },
  {
   "metadata": {},
   "cell_type": "markdown",
   "source": "# Other things",
   "id": "310b1f84d1f46bfe"
  },
  {
   "cell_type": "code",
   "source": [
    "E_0 = sq_ext.diag(H_unc_renorm,n_eig=n_eig, out='GHz')[0]\n",
    "E_0 - E_0[0]"
   ],
   "metadata": {
    "collapsed": false,
    "ExecuteTime": {
     "end_time": "2024-05-14T13:57:22.923665Z",
     "start_time": "2024-05-14T13:57:22.734903Z"
    }
   },
   "id": "19fe2225dd570ddd",
   "outputs": [
    {
     "data": {
      "text/plain": [
       "array([0.00000, 87.17275, 87.17275, 174.34550, 174.34550, 174.34550, 261.51826, 261.51826])"
      ]
     },
     "execution_count": 23,
     "metadata": {},
     "output_type": "execute_result"
    }
   ],
   "execution_count": 23
  },
  {
   "cell_type": "code",
   "source": [
    "uncoupled_renormalized_res.efreqs - uncoupled_renormalized_res.efreqs[0]"
   ],
   "metadata": {
    "collapsed": false,
    "ExecuteTime": {
     "end_time": "2024-05-14T13:43:19.111509Z",
     "start_time": "2024-05-14T13:43:19.109156Z"
    }
   },
   "id": "45eb0d88abcf09a",
   "outputs": [
    {
     "data": {
      "text/plain": [
       "array([0.00000, 177.94064, 177.94064, 355.88127, 355.88127, 355.88127, 533.82191, 533.82191])"
      ]
     },
     "execution_count": 100,
     "metadata": {},
     "output_type": "execute_result"
    }
   ],
   "execution_count": 100
  },
  {
   "cell_type": "code",
   "source": [
    "import numpy as np\n",
    "from scipy.linalg import eigh\n",
    "\n",
    "# Parameters\n",
    "hbar = 1   # Planck constant (can be set to 1 for simplicity)\n",
    "C = (1/C_val+1/Cc)**-1 * fF\n",
    "L = L_val * nH\n",
    "omega = 1/np.sqrt(L*C) # Resonant frequency of the LC circuits\n",
    "g = 3/2*np.sqrt(C/L)/(Cc*fF)    # Coupling strength\n",
    "\n",
    "# Creation and annihilation operators for a single quantum state\n",
    "def create(n):\n",
    "    return np.diag(np.sqrt(np.arange(1, n)), -1)\n",
    "\n",
    "def annihilate(n):\n",
    "    return np.diag(np.sqrt(np.arange(1, n)), 1)\n",
    "\n",
    "# Size of the matrix (for 2 quanta in each mode)\n",
    "n = 3  # Number of states for each mode (0, 1, 2)\n",
    "\n",
    "# Create operators for each mode\n",
    "a1 = np.kron(create(n), np.eye(n))\n",
    "a1_dagger = np.kron(annihilate(n), np.eye(n))\n",
    "a2 = np.kron(np.eye(n), create(n))\n",
    "a2_dagger = np.kron(np.eye(n), annihilate(n))\n",
    "\n",
    "# Construct the Hamiltonian\n",
    "H = hbar * omega * (np.dot(a1_dagger, a1) + np.dot(a2_dagger, a2)) + hbar * g * (np.dot(a1_dagger, a2) + np.dot(a1, a2_dagger))\n",
    "\n",
    "# Find the eigenvalues (energy levels)\n",
    "energies = eigh(H, eigvals_only=True)\n",
    "\n",
    "# Print the energy levels\n",
    "E = energies/ 2 / np.pi / 1e9\n",
    "E -= E[0]\n",
    "E"
   ],
   "metadata": {
    "collapsed": false,
    "ExecuteTime": {
     "end_time": "2024-05-14T13:37:06.729774Z",
     "start_time": "2024-05-14T13:37:06.723224Z"
    }
   },
   "id": "d12a0499a3127d2b",
   "outputs": [
    {
     "data": {
      "text/plain": [
       "array([0.00000, 0.00000, 0.00000, 137.83222, 275.66445, 275.66445, 551.32890, 551.32890, 689.16112])"
      ]
     },
     "execution_count": 14,
     "metadata": {},
     "output_type": "execute_result"
    }
   ],
   "execution_count": 14
  },
  {
   "cell_type": "code",
   "source": [
    "E/E[1]"
   ],
   "metadata": {
    "collapsed": false,
    "ExecuteTime": {
     "end_time": "2024-05-14T13:37:07.043919Z",
     "start_time": "2024-05-14T13:37:07.041446Z"
    }
   },
   "id": "419c1cabb6bea67",
   "outputs": [
    {
     "data": {
      "text/plain": [
       "array([0.00000, 1.00000, 2.96889, 13968237781629446.00000, 27936475563258892.00000, 27936475563258904.00000, 55872951126517800.00000, 55872951126517808.00000, 69841188908147248.00000])"
      ]
     },
     "execution_count": 15,
     "metadata": {},
     "output_type": "execute_result"
    }
   ],
   "execution_count": 15
  },
  {
   "cell_type": "code",
   "source": [
    "g/omega"
   ],
   "metadata": {
    "collapsed": false,
    "ExecuteTime": {
     "end_time": "2024-05-14T13:37:07.391842Z",
     "start_time": "2024-05-14T13:37:07.389620Z"
    }
   },
   "id": "8954cedb838c2a6a",
   "outputs": [
    {
     "data": {
      "text/plain": [
       "1.0"
      ]
     },
     "execution_count": 16,
     "metadata": {},
     "output_type": "execute_result"
    }
   ],
   "execution_count": 16
  },
  {
   "cell_type": "code",
   "outputs": [],
   "source": [],
   "metadata": {
    "collapsed": false
   },
   "id": "3efdfbc3ee65649f",
   "execution_count": null
  }
 ],
 "metadata": {
  "kernelspec": {
   "display_name": "Python 3",
   "language": "python",
   "name": "python3"
  },
  "language_info": {
   "codemirror_mode": {
    "name": "ipython",
    "version": 2
   },
   "file_extension": ".py",
   "mimetype": "text/x-python",
   "name": "python",
   "nbconvert_exporter": "python",
   "pygments_lexer": "ipython2",
   "version": "2.7.6"
  }
 },
 "nbformat": 4,
 "nbformat_minor": 5
}
