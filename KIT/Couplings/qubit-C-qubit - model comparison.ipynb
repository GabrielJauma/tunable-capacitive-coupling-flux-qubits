{
 "cells": [
  {
   "cell_type": "code",
   "id": "5ef0e7158198c0cf",
   "metadata": {
    "ExecuteTime": {
     "end_time": "2024-05-17T09:20:41.834385200Z",
     "start_time": "2024-05-17T09:20:40.546988Z"
    }
   },
   "source": [
    "import Modules.SQcircuit_extensions as sq_ext\n",
    "import Modules.figures as figs\n",
    "import SQcircuit as sq\n",
    "import numpy as np\n",
    "import matplotlib.pyplot as plt\n",
    "import importlib\n",
    "from scipy.linalg import eigh\n",
    "import qutip as qt\n",
    "import sympy as sym\n",
    "from joblib import Parallel, delayed, cpu_count\n",
    "\n",
    "%matplotlib ipympl\n",
    "plt.rcParams.update({\n",
    "    \"text.usetex\": True,\n",
    "    \"font.family\": \"serif\",\n",
    "    \"font.serif\": [\"Palatino\"],\n",
    "})\n",
    "# plt.rcParams['text.usetex'] = False\n",
    "importlib.reload(sq_ext)\n",
    "importlib.reload(sq)\n",
    "importlib.reload(figs)\n",
    "np.set_printoptions(linewidth=300, formatter={'float': '{:.12f}'.format})"
   ],
   "execution_count": 1,
   "outputs": []
  },
  {
   "cell_type": "markdown",
   "id": "ebe59b76782aa022",
   "metadata": {},
   "source": [
    "# Comparison of sqcircuit composite vs full circuit model"
   ]
  },
  {
   "cell_type": "code",
   "id": "fd4689efec6e4f48",
   "metadata": {
    "ExecuteTime": {
     "end_time": "2024-05-15T11:33:26.109986300Z",
     "start_time": "2024-05-15T11:33:26.097863800Z"
    }
   },
   "source": [
    "fF  = 1e-15\n",
    "nH  = 1e-9\n",
    "GHz = 1e9"
   ],
   "execution_count": 2,
   "outputs": []
  },
  {
   "cell_type": "code",
   "id": "602d610e5a0ffe49",
   "metadata": {
    "ExecuteTime": {
     "end_time": "2024-05-15T11:33:26.129604400Z",
     "start_time": "2024-05-15T11:33:26.111099300Z"
    }
   },
   "source": [
    "\n",
    "# Csh = 9\n",
    "# C   = 15 \n",
    "# CJ  = 9\n",
    "# Lq  = 25\n",
    "# Lr  = 10\n",
    "# Δ   = 0.1\n",
    "# EJ  = 10.0\n",
    "\n",
    "# Csh_prime = Csh -1\n",
    "# C_prime   = C   +15\n",
    "# CJ_prime  = CJ  +3\n",
    "# Lq_prime  = Lq  +12\n",
    "# Lr_prime  = Lr  +14\n",
    "# Δ_prime   = Δ   +0.1\n",
    "# EJ_prime  = EJ  +6\n",
    "\n",
    "# CF, CR = sq_ext.C_CJ_Csh_to_CF_CR_eff(C=C, CJ=CJ, Csh=Csh)\n",
    "# LF, LR = sq_ext.Lq_Lr_to_LF_LR_eff(Lq=Lq, Lr=Lr, Δ=Δ)\n",
    "\n",
    "# CF_prime, CR_prime = sq_ext.C_CJ_Csh_to_CF_CR_eff(C=C_prime, CJ=CJ_prime, Csh=Csh_prime)\n",
    "# LF_prime, LR_prime = sq_ext.Lq_Lr_to_LF_LR_eff(Lq=Lq_prime, Lr=Lr_prime, Δ=Δ_prime)"
   ],
   "execution_count": 3,
   "outputs": []
  },
  {
   "cell_type": "code",
   "id": "8107dd0287a83245",
   "metadata": {
    "ExecuteTime": {
     "end_time": "2024-05-15T11:33:26.141463500Z",
     "start_time": "2024-05-15T11:33:26.126350600Z"
    }
   },
   "source": [
    "Δ  = 0.1\n",
    "LF = 26.5\n",
    "CF = 26.9\n",
    "EJ = 5.4\n",
    "ω_r= 6.46\n",
    "LR = 140\n",
    "CR = 1/ (LR* nH)  /(ω_r*2*np.pi*GHz)**2/fF\n",
    "Lq, Lr = sq_ext.LF_LR_eff_to_Lq_Lr(LF=LF, LR=LR, Δ=Δ)\n",
    "C, CJ, Csh = sq_ext.CF_CR_eff_to_C_CJ_Csh(CF=CF, CR=CR)\n",
    "\n",
    "Δ_prime = 0.1\n",
    "LF_prime = 20.4\n",
    "CF_prime = 22.4\n",
    "EJ_prime = 9.5\n",
    "ω_r_prime = 6.274\n",
    "LR_prime = 100\n",
    "CR_prime = 1/ (LR_prime* nH)  /(ω_r_prime*2*np.pi*GHz)**2/fF\n",
    "Lq_prime, Lr_prime = sq_ext.LF_LR_eff_to_Lq_Lr(LF=LF_prime, LR=LR_prime, Δ=Δ_prime)\n",
    "C_prime, CJ_prime, Csh_prime = sq_ext.CF_CR_eff_to_C_CJ_Csh(CF=CF_prime, CR=CR_prime)"
   ],
   "execution_count": 4,
   "outputs": []
  },
  {
   "cell_type": "code",
   "id": "aa0e2c010b638351",
   "metadata": {
    "ExecuteTime": {
     "end_time": "2024-05-15T11:33:26.161028400Z",
     "start_time": "2024-05-15T11:33:26.142544Z"
    }
   },
   "source": [
    "nmax_r = 10\n",
    "nmax_f = 10\n",
    "CC = 10\n",
    "only_inner = True\n",
    "compensate_extra_cap = False\n",
    "only_renormalization = False\n",
    "n_eig = 5\n",
    "φ_ext = 1"
   ],
   "execution_count": 5,
   "outputs": []
  },
  {
   "cell_type": "code",
   "id": "588c36df58aa849a",
   "metadata": {
    "ExecuteTime": {
     "end_time": "2024-05-15T11:33:28.339353200Z",
     "start_time": "2024-05-15T11:33:28.318434400Z"
    }
   },
   "source": [
    "omega_q_exp = [3.7001944890642844, 3.4505095260121497, 3.0342472605322786]\n",
    "ω_r_exp = [6.46, 6.274, 5.22] \n"
   ],
   "execution_count": 6,
   "outputs": []
  },
  {
   "cell_type": "code",
   "source": [
    "experiment_colors = ['b', 'g', 'r']\n",
    "experiment_labels = ['Unit cell 1', 'Coupler', 'Unit cell 2']\n",
    "colors = figs.generate_colors_from_colormap(n_eig, 'tab10')"
   ],
   "metadata": {
    "collapsed": false,
    "ExecuteTime": {
     "end_time": "2024-05-15T11:34:33.613745400Z",
     "start_time": "2024-05-15T11:34:33.542359300Z"
    }
   },
   "id": "e9264387a226c09d",
   "execution_count": 14,
   "outputs": []
  },
  {
   "cell_type": "code",
   "id": "c473f75c404666ea",
   "metadata": {
    "ExecuteTime": {
     "end_time": "2024-05-15T11:33:29.174406900Z",
     "start_time": "2024-05-15T11:33:28.687272700Z"
    }
   },
   "source": [
    "H_composite = sq_ext.hamiltonian_qubit_C_qubit(CC=CC, CR=CR, CF=CF, LF=LF, LR=LR, EJ=EJ, Δ=Δ, φ_ext=φ_ext, CR_prime=CR_prime, CF_prime=CF_prime, LF_prime=LF_prime, LR_prime=LR_prime, EJ_prime=EJ_prime, Δ_prime=Δ_prime, φ_ext_prime=φ_ext, nmax_r=nmax_r, nmax_f=nmax_f, only_inner=only_inner, compensate_extra_cap=compensate_extra_cap, only_renormalization=only_renormalization)\n",
    "E_composite = sq_ext.diag(H_composite, n_eig,   remove_ground=True)[0]"
   ],
   "execution_count": 7,
   "outputs": []
  },
  {
   "cell_type": "code",
   "id": "60db57af8c33dfe1",
   "metadata": {
    "ExecuteTime": {
     "end_time": "2024-05-14T08:27:26.261952Z",
     "start_time": "2024-05-14T08:27:10.140970Z"
    }
   },
   "source": [
    "circ_full = sq_ext.sq_qubit_C_qubit(CC=CC, C=C, CJ=CJ, Csh=Csh, Lq=Lq, Lr=Lr, Δ=Δ, EJ=EJ, φ_ext=φ_ext,\n",
    "                                      C_prime=C_prime, CJ_prime=CJ_prime, Csh_prime=Csh_prime, Lq_prime=Lq_prime, Lr_prime=Lr_prime, Δ_prime=Δ_prime, EJ_prime=EJ_prime, φ_ext_prime=φ_ext,\n",
    "                                      nmax_r=nmax_r, nmax_f=nmax_f, only_inner=only_inner, compensate_extra_cap=compensate_extra_cap, only_renormalization=only_renormalization)\n",
    "circ_full.diag(n_eig)\n",
    "E_full = circ_full.efreqs\n",
    "E_full  = E_full-E_full[0]"
   ],
   "execution_count": 36,
   "outputs": []
  },
  {
   "cell_type": "code",
   "id": "8f9c4bf162ab65aa",
   "metadata": {
    "ExecuteTime": {
     "end_time": "2024-05-14T08:27:26.265202Z",
     "start_time": "2024-05-14T08:27:26.262841Z"
    }
   },
   "source": [
    "E_composite"
   ],
   "execution_count": 37,
   "outputs": []
  },
  {
   "cell_type": "code",
   "id": "79821237eeaf4eb6",
   "metadata": {
    "ExecuteTime": {
     "end_time": "2024-05-14T08:27:26.267787Z",
     "start_time": "2024-05-14T08:27:26.265756Z"
    }
   },
   "source": [
    "E_full"
   ],
   "execution_count": 38,
   "outputs": []
  },
  {
   "cell_type": "code",
   "id": "f6d7bda701cad7b1",
   "metadata": {
    "ExecuteTime": {
     "end_time": "2024-05-15T11:33:33.452357100Z",
     "start_time": "2024-05-15T11:33:33.426617900Z"
    }
   },
   "source": [
    "def comp_spectrum_Q_c_Q_vs_φ_ext(CC, CR, CF, LF, LR, EJ, Δ, φ_ext, CR_prime, CF_prime, LF_prime, LR_prime, EJ_prime, Δ_prime, φ_ext_prime, nmax_r, nmax_f, only_inner, compensate_extra_cap,only_renormalization):\n",
    "    H_composite = sq_ext.hamiltonian_qubit_C_qubit(CC=CC, CR=CR, CF=CF, LF=LF, LR=LR, EJ=EJ, Δ=Δ, φ_ext=φ_ext, \n",
    "                                               CR_prime=CR_prime, CF_prime=CF_prime, LF_prime=LF_prime, LR_prime=LR_prime, EJ_prime=EJ_prime, Δ_prime=Δ_prime, φ_ext_prime=φ_ext_prime, \n",
    "                                               nmax_r=nmax_r, nmax_f=nmax_f, only_inner=only_inner, compensate_extra_cap=compensate_extra_cap, only_renormalization=only_renormalization)\n",
    "    return sq_ext.diag(H_composite, n_eig,   remove_ground=True)[0] \n"
   ],
   "execution_count": 8,
   "outputs": []
  },
  {
   "cell_type": "code",
   "id": "48d6158ea3ce0d66",
   "metadata": {
    "ExecuteTime": {
     "end_time": "2024-05-15T11:33:33.862275600Z",
     "start_time": "2024-05-15T11:33:33.828973Z"
    }
   },
   "source": [
    "def full_spectrum_Q_c_Q_vs_φ_ext(CC, C, CJ, Csh, Lq, Lr, Δ, EJ, φ_ext, C_prime, CJ_prime, Csh_prime, Lq_prime, Lr_prime, Δ_prime, EJ_prime, φ_ext_prime, nmax_r, nmax_f, only_inner, compensate_extra_cap,only_renormalization):\n",
    "    circ_full = sq_ext.sq_qubit_C_qubit(CC=CC, C=C, CJ=CJ, Csh=Csh, Lq=Lq, Lr=Lr, Δ=Δ, EJ=EJ, φ_ext=φ_ext,\n",
    "                                          C_prime=C_prime, CJ_prime=CJ_prime, Csh_prime=Csh_prime, Lq_prime=Lq_prime, Lr_prime=Lr_prime, Δ_prime=Δ_prime, EJ_prime=EJ_prime, φ_ext_prime=φ_ext_prime,\n",
    "                                          nmax_r=nmax_r, nmax_f=nmax_f, only_inner=only_inner, compensate_extra_cap=compensate_extra_cap,only_renormalization=only_renormalization)\n",
    "    circ_full.diag(n_eig)\n",
    "    E = circ_full.efreqs\n",
    "    return E-E[0]"
   ],
   "execution_count": 9,
   "outputs": []
  },
  {
   "metadata": {
    "ExecuteTime": {
     "end_time": "2024-05-15T11:34:45.422020200Z",
     "start_time": "2024-05-15T11:34:45.310671700Z"
    }
   },
   "cell_type": "code",
   "source": [
    "nmax_r = 5\n",
    "nmax_f = 10\n",
    "CC = 10\n",
    "only_inner = True\n",
    "compensate_extra_cap = False\n",
    "only_renormalization = False \n",
    "\n",
    "φ_ext_values = np.linspace(0.5, 1, 50)\n",
    "# φ_ext_values_full = np.array([0.5, 0.522, 0.55, 0.58, 0.625, 0.67, 0.75])\n",
    "φ_ext_values_full = np.array([0.5, 0.522, 0.58, 0.67, 0.75, 1])"
   ],
   "id": "5b22e3fa133f251b",
   "execution_count": 16,
   "outputs": []
  },
  {
   "cell_type": "code",
   "id": "dfe512a42f149b73",
   "metadata": {
    "ExecuteTime": {
     "end_time": "2024-05-15T11:34:49.755134600Z",
     "start_time": "2024-05-15T11:34:46.415546900Z"
    }
   },
   "source": [
    "E_composite = np.array(Parallel(n_jobs=10)( delayed(comp_spectrum_Q_c_Q_vs_φ_ext)(CC, CR, CF, LF, LR, EJ, Δ, φ_ext,\n",
    "                                                                                  CR_prime, CF_prime, LF_prime, LR_prime, EJ_prime, Δ_prime, φ_ext,\n",
    "                                                                                  nmax_r, nmax_f, only_inner, compensate_extra_cap,only_renormalization) for φ_ext in φ_ext_values))"
   ],
   "execution_count": 17,
   "outputs": []
  },
  {
   "cell_type": "code",
   "id": "b3faa2d8a14bfb13",
   "metadata": {
    "ExecuteTime": {
     "end_time": "2024-05-15T11:35:00.370212800Z",
     "start_time": "2024-05-15T11:34:50.259123300Z"
    }
   },
   "source": [
    "E_full  = np.array(Parallel(n_jobs=len(φ_ext_values_full))( delayed(full_spectrum_Q_c_Q_vs_φ_ext)(CC, C, CJ, Csh, Lq, Lr, Δ, EJ, φ_ext, \n",
    "                                                                              C_prime, CJ_prime, Csh_prime, Lq_prime, Lr_prime, Δ_prime, EJ_prime, φ_ext,\n",
    "                                                                              nmax_r, nmax_f, only_inner, compensate_extra_cap,only_renormalization) for φ_ext in φ_ext_values_full))"
   ],
   "execution_count": 18,
   "outputs": []
  },
  {
   "cell_type": "code",
   "id": "baf71646a2e496bb",
   "metadata": {
    "ExecuteTime": {
     "end_time": "2024-05-15T11:35:00.957035500Z",
     "start_time": "2024-05-15T11:35:00.836752600Z"
    }
   },
   "source": [
    "fig, ax = plt.subplots(figsize=[4,3], dpi=250)\n",
    "# fig, ax = plt.subplots()\n",
    "[ax.plot(φ_ext_values, E_composite[:,i], linewidth=0.8, color=colors[i]) for i in range(n_eig)]\n",
    "[ax.plot(φ_ext_values_full, E_full[:,i],'o', color=colors[i], markersize=2) for i in range(5)]\n",
    "# [ax.hlines(ω_r, φ_ext_values.min(), φ_ext_values.max(), linestyle=':'  , color=experiment_colors[i]) for i, ω_r in enumerate(ω_r_exp) ]\n",
    "ax.set_ylim([2.5, 10])\n",
    "# ax.set_xlim([0.5, 0.75])\n",
    "#ax.set_ylabel(r'$')\n",
    "#ax.set_xlabel(r'$')\n",
    "#ax.set_title(r'$')\n",
    "ax.set_title(f'$C_C={CC}\\\\,fF$')\n",
    "fig.tight_layout()\n",
    "fig.show()"
   ],
   "execution_count": 19,
   "outputs": []
  },
  {
   "metadata": {},
   "cell_type": "code",
   "execution_count": 29,
   "source": [
    "fig, ax = plt.subplots(figsize=[4,3], dpi=250)\n",
    "# fig, ax = plt.subplots()\n",
    "[ax.plot(φ_ext_values, E_composite[:,i], linewidth=0.8, color=colors[i]) for i in range(n_eig)]\n",
    "[ax.plot(φ_ext_values_full, E_full[:,i],'o', color=colors[i], markersize=2) for i in range(n_eig)]\n",
    "# [ax.hlines(ω_r, φ_ext_values.min(), φ_ext_values.max(), linestyle=':'  , color=experiment_colors[i]) for i, ω_r in enumerate(ω_r_exp) ]\n",
    "ax.set_ylim([2.5, 10])\n",
    "ax.set_xlim([0.5, 0.75])\n",
    "#ax.set_ylabel(r'$')\n",
    "#ax.set_xlabel(r'$')\n",
    "#ax.set_title(r'$')\n",
    "ax.set_title(f'$C_C={CC}\\\\,fF$')\n",
    "fig.tight_layout()\n",
    "fig.show()"
   ],
   "id": "f59a54ce3df63e28",
   "outputs": []
  },
  {
   "cell_type": "code",
   "id": "9e5fe1099aa69dcb",
   "metadata": {
    "ExecuteTime": {
     "end_time": "2024-05-13T16:15:57.833149Z",
     "start_time": "2024-05-13T16:15:57.829398Z"
    }
   },
   "source": [
    "plt.close('all')"
   ],
   "execution_count": 38,
   "outputs": []
  },
  {
   "cell_type": "code",
   "id": "136501e85e48a7c8",
   "metadata": {
    "ExecuteTime": {
     "end_time": "2024-05-14T08:28:40.841140Z",
     "start_time": "2024-05-14T08:28:26.064354Z"
    }
   },
   "source": [
    "E_composite_vs_CC_φ_ext = []\n",
    "only_inner = True\n",
    "compensate_extra_cap = False\n",
    "only_renormalization = False \n",
    "CC_values = [0.1, 1, 10]\n",
    "nmax_r = 5\n",
    "nmax_f = 15\n",
    "φ_ext_values  = np.linspace(0.5, 1, 100)\n",
    "for CC in CC_values:\n",
    "    E_composite_vs_CC_φ_ext.append( np.array(Parallel(n_jobs=100)( delayed(comp_spectrum_Q_c_Q_vs_φ_ext)(CC, CR, CF, LF, LR, EJ, Δ, φ_ext,\n",
    "                                                                                  CR_prime, CF_prime, LF_prime, LR_prime, EJ_prime, Δ_prime, φ_ext,\n",
    "                                                                                  nmax_r, nmax_f, only_inner, compensate_extra_cap, only_renormalization) for φ_ext in φ_ext_values)) )"
   ],
   "execution_count": 41,
   "outputs": []
  },
  {
   "cell_type": "code",
   "id": "f50098b883ce4f52",
   "metadata": {
    "ExecuteTime": {
     "end_time": "2024-05-14T08:28:42.395901Z",
     "start_time": "2024-05-14T08:28:42.206925Z"
    }
   },
   "source": [
    "fig, axs = plt.subplots(ncols = len(CC_values), figsize=np.array([3*len(CC_values),3]), dpi=250)\n",
    "\n",
    "[axs[0].hlines(ω_r, φ_ext_values.min(), φ_ext_values.max(), linestyle=':'  , color=experiment_colors[i]) for i, ω_r in enumerate(ω_r_exp) ]\n",
    "\n",
    "for ax, CC, E_composite_vs_φ_ext in zip(axs, CC_values, E_composite_vs_CC_φ_ext):\n",
    "    [ax.plot(φ_ext_values, E_composite_vs_φ_ext[:,i], linewidth=0.8, color=colors[i]) for i in range(n_eig)]\n",
    "    ax.set_ylim([2.5, 10])\n",
    "    ax.set_xlim([0.5, 0.75])\n",
    "    #ax.set_ylabel(r'$')\n",
    "    #ax.set_xlabel(r'$')\n",
    "    #ax.set_title(r'$')\n",
    "    ax.set_title(f'$C_C={CC}\\\\,fF$')\n",
    "fig.tight_layout()\n",
    "fig.show()"
   ],
   "execution_count": 42,
   "outputs": []
  },
  {
   "cell_type": "code",
   "id": "b7966ad1956b5730",
   "metadata": {
    "ExecuteTime": {
     "end_time": "2024-05-14T08:29:31.448898Z",
     "start_time": "2024-05-14T08:29:31.446239Z"
    }
   },
   "source": [
    "E_full_vs_CC_φ_ext = []\n",
    "only_inner = True\n",
    "compensate_extra_cap = False\n",
    "only_renormalization = False \n",
    "CC_values = [0.1, 1, 10]\n",
    "nmax_r = 5\n",
    "nmax_f = 10\n",
    "n_eig=5\n",
    "φ_ext_values_full = np.linspace(0.5, 1, 50)"
   ],
   "execution_count": 43,
   "outputs": []
  },
  {
   "metadata": {
    "ExecuteTime": {
     "end_time": "2024-05-14T08:31:31.581649Z",
     "start_time": "2024-05-14T08:29:31.858052Z"
    }
   },
   "cell_type": "code",
   "source": [
    "for CC in CC_values:\n",
    "    print(CC)\n",
    "    E_full_vs_CC_φ_ext.append( np.array(Parallel(n_jobs=10)( delayed(full_spectrum_Q_c_Q_vs_φ_ext)(CC, C, CJ, Csh, Lq, Lr, Δ, EJ, φ_ext, \n",
    "                                                                              C_prime, CJ_prime, Csh_prime, Lq_prime, Lr_prime, Δ_prime, EJ_prime, φ_ext,\n",
    "                                                                              nmax_r, nmax_f, only_inner, compensate_extra_cap,only_renormalization) for φ_ext in φ_ext_values_full)) )"
   ],
   "id": "6f1802522f19bec6",
   "execution_count": 44,
   "outputs": []
  },
  {
   "metadata": {
    "ExecuteTime": {
     "end_time": "2024-05-14T08:31:31.855856Z",
     "start_time": "2024-05-14T08:31:31.582528Z"
    }
   },
   "cell_type": "code",
   "source": [
    "fig, axs = plt.subplots(ncols = len(CC_values), figsize=np.array([3*len(CC_values),3]), dpi=250)\n",
    "\n",
    "[axs[0].hlines(ω_r, φ_ext_values_full.min(), φ_ext_values_full.max(), linestyle=':'  , color=experiment_colors[i]) for i, ω_r in enumerate(ω_r_exp) ]\n",
    "\n",
    "for ax, CC, E_full_vs_φ_ext in zip(axs, CC_values, E_full_vs_CC_φ_ext):\n",
    "    [ax.plot(φ_ext_values_full, E_full_vs_φ_ext[:,i], linewidth=0.8, color=colors[i]) for i in range(n_eig)]\n",
    "    ax.set_ylim([2.5, 10])\n",
    "    ax.set_xlim([0.5, 1])\n",
    "    #ax.set_ylabel(r'$')\n",
    "    #ax.set_xlabel(r'$')\n",
    "    #ax.set_title(r'$')\n",
    "    ax.set_title(f'$C_C={CC}\\\\,fF$')\n",
    "fig.tight_layout()\n",
    "# figs.export('Spectrum_vs_CC.pdf', fig)\n",
    "fig.show()"
   ],
   "id": "202e5bb60d9a5ad9",
   "execution_count": 45,
   "outputs": []
  },
  {
   "metadata": {},
   "cell_type": "code",
   "execution_count": 43,
   "source": [
    "fig, axs = plt.subplots(ncols = len(CC_values), figsize=np.array([3*len(CC_values),3]), dpi=250)\n",
    "\n",
    "[axs[0].hlines(ω_r, φ_ext_values.min(), φ_ext_values.max(), linestyle=':'  , color=experiment_colors[i]) for i, ω_r in enumerate(ω_r_exp) ]\n",
    "\n",
    "for ax, CC, E_full_vs_φ_ext in zip(axs, CC_values, E_full_vs_CC_φ_ext):\n",
    "    [ax.plot(φ_ext_values_full, E_full_vs_φ_ext[:,i], linewidth=0.8, color=colors[i]) for i in range(n_eig)]\n",
    "    ax.set_ylim([2.5, 10])\n",
    "    ax.set_xlim([0.5, 1])\n",
    "    #ax.set_ylabel(r'$')\n",
    "    #ax.set_xlabel(r'$')\n",
    "    #ax.set_title(r'$')\n",
    "    ax.set_title(f'$C_C={CC}\\\\,fF$')\n",
    "fig.tight_layout()\n",
    "fig.show()"
   ],
   "id": "88f287f5b1519b71",
   "outputs": []
  },
  {
   "metadata": {},
   "cell_type": "code",
   "execution_count": null,
   "source": "",
   "id": "3718c2cdf9cfde71",
   "outputs": []
  }
 ],
 "metadata": {
  "kernelspec": {
   "display_name": "Python 3 (ipykernel)",
   "language": "python",
   "name": "python3"
  },
  "language_info": {
   "codemirror_mode": {
    "name": "ipython",
    "version": 3
   },
   "file_extension": ".py",
   "mimetype": "text/x-python",
   "name": "python",
   "nbconvert_exporter": "python",
   "pygments_lexer": "ipython3",
   "version": "3.8.18"
  }
 },
 "nbformat": 4,
 "nbformat_minor": 5
}
