{
 "cells": [
  {
   "cell_type": "code",
   "source": [
    "import Modules.SQcircuit_extensions as sq_ext\n",
    "import Modules.figures as figs\n",
    "import SQcircuit as sq\n",
    "import numpy as np\n",
    "import matplotlib.pyplot as plt\n",
    "import importlib\n",
    "import scipy as sp\n",
    "\n",
    "%matplotlib ipympl\n",
    "plt.rcParams['text.usetex'] = False\n",
    "importlib.reload(sq_ext)\n",
    "importlib.reload(sq)\n",
    "importlib.reload(figs)\n",
    "np.set_printoptions(linewidth=300, formatter={'float': '{:.12f}'.format})\n",
    "# np.set_printoptions(linewidth=200, formatter={'float': '{:.1e}'.format})"
   ],
   "metadata": {
    "collapsed": false,
    "ExecuteTime": {
     "end_time": "2024-05-07T13:54:13.054133Z",
     "start_time": "2024-05-07T13:54:13.045933Z"
    }
   },
   "id": "3a7e59d9d6b2fbdc",
   "execution_count": 15,
   "outputs": []
  },
  {
   "cell_type": "code",
   "source": [
    "nH  = 1e-9\n",
    "fF  = 1e-15\n",
    "GHz = 1e9"
   ],
   "metadata": {
    "collapsed": false,
    "ExecuteTime": {
     "end_time": "2024-05-07T13:54:13.229511Z",
     "start_time": "2024-05-07T13:54:13.227329Z"
    }
   },
   "id": "2417dcf6e78c9b35",
   "execution_count": 16,
   "outputs": []
  },
  {
   "cell_type": "code",
   "source": [
    "h    = 6.626e-34\n",
    "GHz = 1e9\n",
    "e0   = 1.602e-19\n",
    "Φ_0 = h/(2*e0)"
   ],
   "metadata": {
    "collapsed": false,
    "ExecuteTime": {
     "end_time": "2024-05-07T13:54:13.384700Z",
     "start_time": "2024-05-07T13:54:13.382255Z"
    }
   },
   "id": "1a84c471d82fcca9",
   "execution_count": 17,
   "outputs": []
  },
  {
   "cell_type": "code",
   "source": [
    "# Circuit parameters\n",
    "Csh = 15\n",
    "C   = 15\n",
    "CJ  = 3\n",
    "Lq  = 25\n",
    "Lr  = 10\n",
    "Δ   = 0.1\n",
    "EJ  = 10\n",
    "l = Lq*(Lq+4*Lr) - 4*Δ**2"
   ],
   "metadata": {
    "collapsed": false,
    "ExecuteTime": {
     "end_time": "2024-05-07T13:54:13.534597Z",
     "start_time": "2024-05-07T13:54:13.532067Z"
    }
   },
   "id": "69948b88f2c2ce03",
   "execution_count": 18,
   "outputs": []
  },
  {
   "cell_type": "code",
   "source": [
    "n_eig  = 4"
   ],
   "metadata": {
    "collapsed": false,
    "ExecuteTime": {
     "end_time": "2024-05-07T13:54:13.679727Z",
     "start_time": "2024-05-07T13:54:13.677468Z"
    }
   },
   "id": "a9f9be8bdea1c208",
   "execution_count": 19,
   "outputs": []
  },
  {
   "cell_type": "code",
   "source": [
    "param_name = '\\\\Delta'\n",
    "param_values = np.geomspace(1e-2, 1e0, 10)\n",
    "Δ_values = param_values\n",
    "# H_qubit_list = sq_ext.KIT_qubit_vs_param(EJ=EJ, Δ=param_values )\n",
    "# H_0 = sq_ext.KIT_qubit_vs_param(EJ=EJ, Δ=0 )[0]\n"
   ],
   "metadata": {
    "collapsed": false,
    "ExecuteTime": {
     "end_time": "2024-05-07T13:54:13.850998Z",
     "start_time": "2024-05-07T13:54:13.848493Z"
    }
   },
   "id": "263474f98385dbc1",
   "execution_count": 20,
   "outputs": []
  },
  {
   "metadata": {
    "ExecuteTime": {
     "end_time": "2024-05-07T13:54:14.327104Z",
     "start_time": "2024-05-07T13:54:14.225289Z"
    }
   },
   "cell_type": "code",
   "source": [
    "H_0_list = []\n",
    "H_00_list = []\n",
    "H_list = []\n",
    "for Δ in Δ_values:\n",
    "    fluxonium = sq_ext.sq_fluxonium(Csh=Csh, C=C, CJ=CJ, Lq=Lq, Lr=Lr, EJ=EJ, Δ=Δ)\n",
    "    resonator = sq_ext.sq_resonator(Csh=Csh, C=C, CJ=CJ, Lq=Lq, Lr=Lr, EJ=EJ, Δ=Δ)\n",
    "    \n",
    "    fluxonium_0 = sq_ext.sq_fluxonium(Csh=Csh, C=C, CJ=CJ, Lq=Lq, Lr=Lr, EJ=EJ, Δ=0)\n",
    "    resonator_0 = sq_ext.sq_resonator(Csh=Csh, C=C, CJ=CJ, Lq=Lq, Lr=Lr, EJ=EJ, Δ=0)\n",
    "    \n",
    "    H_00_list.append( sq_ext.hamiltonian_qubit(fluxonium = fluxonium_0, resonator = resonator_0, Δ=0) )\n",
    "    H_0_list.append( sq_ext.hamiltonian_qubit(fluxonium = fluxonium, resonator = resonator, Δ=0) )\n",
    "    H_list  .append( sq_ext.hamiltonian_qubit(fluxonium = fluxonium, resonator = resonator, Δ=Δ) )"
   ],
   "id": "ac311125fc639a73",
   "execution_count": 21,
   "outputs": []
  },
  {
   "cell_type": "code",
   "source": [
    "H_eff_p1_00 = sq_ext.H_eff_p1(H_00_list[0], H_00_list[0], n_eig, real = False)\n",
    "H_eff_p1_00_vs_params = np.array([sq_ext.H_eff_p1(H_0=H_0, H=H, n_eig=n_eig, real = False) for H_0, H in zip(H_00_list, H_list)])\n",
    "\n",
    "H_eff_p1_0 = sq_ext.H_eff_p1(H_0_list[0], H_0_list[0], n_eig, real = False)\n",
    "H_eff_p1_0_vs_params = np.array([sq_ext.H_eff_p1(H_0=H_0, H=H, n_eig=n_eig, real = False) for H_0, H in zip(H_0_list, H_list)])"
   ],
   "metadata": {
    "collapsed": false,
    "ExecuteTime": {
     "end_time": "2024-05-07T13:54:14.660481Z",
     "start_time": "2024-05-07T13:54:14.402974Z"
    }
   },
   "id": "96aff206f42d17db",
   "execution_count": 22,
   "outputs": []
  },
  {
   "metadata": {
    "ExecuteTime": {
     "end_time": "2024-05-07T13:54:15.028454Z",
     "start_time": "2024-05-07T13:54:14.661538Z"
    }
   },
   "cell_type": "code",
   "source": [
    "H_eff_SWT_00 = sq_ext.H_eff_SWT(H_00_list[0], H_00_list[0], n_eig, real = False)\n",
    "H_eff_SWT_00_vs_params = np.array([sq_ext.H_eff_SWT(H_0=H_0, H=H, n_eig=n_eig, real = False) for H_0, H in zip(H_00_list, H_list)])\n",
    "\n",
    "H_eff_SWT_0 = sq_ext.H_eff_SWT(H_0_list[0], H_0_list[0], n_eig, real = False)\n",
    "H_eff_SWT_0_vs_params = np.array([sq_ext.H_eff_SWT(H_0=H_0, H=H, n_eig=n_eig, real = False) for H_0, H in zip(H_0_list, H_list)])"
   ],
   "id": "29241f46dd80210f",
   "execution_count": 23,
   "outputs": []
  },
  {
   "metadata": {
    "ExecuteTime": {
     "end_time": "2024-05-07T13:54:15.031051Z",
     "start_time": "2024-05-07T13:54:15.029324Z"
    }
   },
   "cell_type": "code",
   "source": [
    "plt.close('all')"
   ],
   "id": "9d2c652727e3a57b",
   "execution_count": 24,
   "outputs": []
  },
  {
   "cell_type": "code",
   "source": [
    "N_f, N_r = sq_ext.sq_get_energy_indices(sq_ext.sq_qubit(), sq_ext.sq_fluxonium(), sq_ext.sq_resonator())\n",
    "fig1, ax1, ax2 = sq_ext.plot_H_eff_vs_param(H_eff_p1_0_vs_params, H_eff_p1_0, param_values, param_name, N_f, N_r, threshold=1e-3, scale='log')\n",
    "figs.export('H_eff_p1_phi_ext=0.5.pdf')"
   ],
   "metadata": {
    "collapsed": false,
    "ExecuteTime": {
     "end_time": "2024-05-07T13:54:15.452866Z",
     "start_time": "2024-05-07T13:54:15.031495Z"
    }
   },
   "id": "ada9f297be1fd0eb",
   "execution_count": 25,
   "outputs": []
  },
  {
   "metadata": {
    "ExecuteTime": {
     "end_time": "2024-05-07T13:54:15.761347Z",
     "start_time": "2024-05-07T13:54:15.453575Z"
    }
   },
   "cell_type": "code",
   "source": [
    "\n",
    "fig2, ax1, ax2 = sq_ext.plot_H_eff_vs_param(H_eff_p1_00_vs_params, H_eff_p1_0, param_values, param_name, N_f, N_r, threshold=1e-3, scale='log')\n",
    "fig1.show()\n",
    "fig2.show()\n",
    "\n",
    "# ax2.set_ylim([1e-6,1e-2])\n",
    "# plt.close('all')"
   ],
   "id": "36e6d67dff5f15bd",
   "execution_count": 26,
   "outputs": []
  },
  {
   "metadata": {
    "ExecuteTime": {
     "end_time": "2024-05-07T13:54:16.593015Z",
     "start_time": "2024-05-07T13:54:15.765617Z"
    }
   },
   "cell_type": "code",
   "source": [
    "N_f, N_r = sq_ext.sq_get_energy_indices(sq_ext.sq_qubit(), sq_ext.sq_fluxonium(), sq_ext.sq_resonator())\n",
    "fig1, ax1, ax2 = sq_ext.plot_H_eff_vs_param(H_eff_SWT_0_vs_params, H_eff_SWT_0, param_values, param_name, N_f, N_r, threshold=1e-3, scale='log')\n",
    "fig2, ax1, ax2 = sq_ext.plot_H_eff_vs_param(H_eff_SWT_00_vs_params, H_eff_SWT_00, param_values, param_name, N_f, N_r, threshold=1e-3, scale='log')\n",
    "\n",
    "fig1.show()\n",
    "fig2.show()\n",
    "ax2.set_ylim([1e-6,1e-2])\n",
    "# plt.close('all')"
   ],
   "id": "d7b6fce29a784d84",
   "execution_count": 27,
   "outputs": []
  },
  {
   "metadata": {
    "ExecuteTime": {
     "end_time": "2024-05-07T13:54:16.641076Z",
     "start_time": "2024-05-07T13:54:16.593484Z"
    }
   },
   "cell_type": "code",
   "source": [
    "N_f, N_r = sq_ext.sq_get_energy_indices(sq_ext.sq_qubit(), sq_ext.sq_fluxonium(), sq_ext.sq_resonator())\n",
    "fig1, ax1, ax2 = sq_ext.plot_H_eff_vs_param(H_eff_SWT_00_vs_params-H_eff_SWT_vs_params, H_eff_p1_0, param_values, param_name, N_f, N_r, threshold=1e-3, scale='log')\n",
    "ax2.set_ylim([1e-6,1e-2])\n",
    "# plt.close('all')"
   ],
   "id": "8d2b27566fdc988",
   "execution_count": 28,
   "outputs": []
  },
  {
   "cell_type": "code",
   "source": [
    "Cf = C/2 + Csh + CJ\n",
    "Cr = C/2 \n",
    "Lf = l/(Lq+4*Lr) \n",
    "\n",
    "C_f = Cf * fF\n",
    "C_r = Cr * fF\n",
    "L_f = Lf * nH\n",
    "E_J = EJ * GHz"
   ],
   "metadata": {
    "collapsed": false
   },
   "id": "30f2999468bd2df7",
   "execution_count": null,
   "outputs": []
  },
  {
   "cell_type": "code",
   "source": [
    "E_L_f = (Φ_0/(2*np.pi))**2/L_f / h\n",
    "E_L_f / GHz"
   ],
   "metadata": {
    "collapsed": false
   },
   "id": "e4eaba0007690514",
   "execution_count": null,
   "outputs": []
  },
  {
   "cell_type": "code",
   "source": [
    "E_C_f = e0**2 / (2*C_f) / h\n",
    "E_C_f / GHz\n"
   ],
   "metadata": {
    "collapsed": false
   },
   "id": "42313d930af8a5ad",
   "execution_count": null,
   "outputs": []
  },
  {
   "cell_type": "code",
   "source": [
    "g_r_limit=np.zeros(len(Δ_values))\n",
    "g_fq_limit=np.zeros(len(Δ_values))\n",
    "\n",
    "for i, Δ in enumerate(Δ_values):\n",
    "    l = Lq*(Lq+4*Lr) - 4*Δ**2\n",
    "    \n",
    "    Lf = l/(Lq+4*Lr)\n",
    "    Lres = l/Lq\n",
    "    L_f = Lf * nH\n",
    "    L_r = Lres * nH\n",
    "    E_L_f = (Φ_0/(2*np.pi))**2/L_f / h\n",
    "\n",
    "    V =  lambda φ: E_L_f*φ**2/2 - EJ*GHz*np.cos(φ+np.pi)\n",
    "    φ_min = sp.optimize.minimize_scalar(V).x\n",
    "\n",
    "    Φ_f_fq_limit_01= (Φ_0 / (2 * np.pi)) * φ_min / np.sqrt(sq.hbar) \n",
    "    Φ_f_r_limit_01 = np.sqrt(0.5*np.sqrt(L_f/C_f))\n",
    "\n",
    "    Φ_r_01 = np.sqrt(0.5*np.sqrt(L_r/C_r))\n",
    "\n",
    "    g_fq_limit[i] = 2 * Δ / (l * nH) * Φ_f_fq_limit_01 * Φ_r_01  /2 / np.pi / GHz\n",
    "    g_r_limit[i] = 2 * Δ / (l * nH) * Φ_f_r_limit_01 * Φ_r_01 /2 / np.pi / GHz\n",
    "\n",
    "\n",
    "    "
   ],
   "metadata": {
    "collapsed": false,
    "ExecuteTime": {
     "end_time": "2024-05-07T13:54:16.683721Z",
     "start_time": "2024-05-07T13:54:16.678688Z"
    }
   },
   "id": "3a3330feeaf21d3c",
   "execution_count": 29,
   "outputs": []
  },
  {
   "cell_type": "code",
   "source": [
    "fig, ax = plt.subplots()\n",
    "\n",
    "ax.plot(Δ_values, H_eff_vs_params[:,1,3]-H_eff_0[1,3], ':k')\n",
    "ax.plot(Δ_values, g_fq_limit, label='FQ limit')\n",
    "ax.plot(Δ_values, g_r_limit, label='Resonator limit')\n",
    "ax.set_xscale('log')\n",
    "ax.set_yscale('log')\n",
    "ax.legend()\n",
    "fig.show()"
   ],
   "metadata": {
    "collapsed": false,
    "ExecuteTime": {
     "end_time": "2024-05-07T13:54:16.858347Z",
     "start_time": "2024-05-07T13:54:16.840417Z"
    }
   },
   "id": "48374e8ec445b492",
   "execution_count": 30,
   "outputs": []
  },
  {
   "cell_type": "code",
   "source": [
    "EJ_values = np.geomspace(1,100,50)\n",
    "g_r_limit = np.zeros(len(EJ_values))\n",
    "g_fq_limit = np.zeros(len(EJ_values))\n",
    "Δ=1\n",
    "g_numeric = np.zeros([len(EJ_values),4,4])\n",
    "\n",
    "for i, EJ in enumerate(EJ_values):\n",
    "    l = Lq*(Lq+4*Lr) - 4*Δ**2\n",
    "    \n",
    "    Lf = l/(Lq+4*Lr)\n",
    "    Lres = l/Lq\n",
    "    L_f = Lf * nH\n",
    "    L_r = Lres * nH\n",
    "    E_L_f = (Φ_0/(2*np.pi))**2/L_f / h /GHz\n",
    "\n",
    "    V =  lambda φ: E_L_f*φ**2/2 - EJ*np.cos(φ+np.pi)\n",
    "    φ_min = sp.optimize.minimize_scalar(V).x\n",
    "\n",
    "    Φ_f_fq_limit_01= (Φ_0 / (2 * np.pi)) * φ_min / np.sqrt(sq.hbar) \n",
    "    Φ_f_r_limit_01 = np.sqrt(0.5*np.sqrt(L_f/C_f))\n",
    "\n",
    "    Φ_r_01 = np.sqrt(0.5*np.sqrt(L_r/C_r))\n",
    "\n",
    "    g_fq_limit[i] = 2 * Δ / (l * nH) * Φ_f_fq_limit_01 * Φ_r_01  /2 / np.pi / GHz\n",
    "    g_r_limit[i] = 2 * Δ / (l * nH) * Φ_f_r_limit_01 * Φ_r_01 /2 / np.pi / GHz\n",
    "    \n",
    "    H   = sq_ext.hamiltonian_qubit(EJ=EJ, Δ=Δ)\n",
    "    H_0 = sq_ext.hamiltonian_qubit(EJ=EJ, Δ=0)\n",
    "    \n",
    "    H_eff_0 = sq_ext.H_eff_SWT(H_0, H_0, n_eig, real=False)\n",
    "    H_eff = sq_ext.H_eff_SWT(H_0, H , n_eig, real=False)\n",
    "    # g_numeric[i] = H_eff[1,3]\n",
    "    g_numeric[i,:] = H_eff\n",
    "    "
   ],
   "metadata": {
    "collapsed": false,
    "ExecuteTime": {
     "end_time": "2024-05-07T13:54:19.500780Z",
     "start_time": "2024-05-07T13:54:17.018739Z"
    }
   },
   "id": "c1378c26cf9b0643",
   "execution_count": 31,
   "outputs": []
  },
  {
   "cell_type": "code",
   "source": [
    "fig, ax = plt.subplots()\n",
    "ax.plot(EJ_values, np.abs(np.reshape(g_numeric, [len(EJ_values), 16])),'.k')\n",
    "ax.plot(EJ_values[25:], g_fq_limit[25:], 'r')\n",
    "ax.plot(EJ_values, g_r_limit,'b')\n",
    "#ax.set_ylabel(r'$')\n",
    "#ax.set_xlabel(r'$')\n",
    "#ax.set_title(r'$')\n",
    "ax.set_xscale('log')\n",
    "ax.set_ylim([0.1,0.75])\n",
    "fig.tight_layout()\n",
    "fig.show()\n",
    "plt.close('all')"
   ],
   "metadata": {
    "collapsed": false,
    "ExecuteTime": {
     "end_time": "2024-05-07T13:54:19.601099Z",
     "start_time": "2024-05-07T13:54:19.501440Z"
    }
   },
   "id": "ec9cb6ee74418469",
   "execution_count": 32,
   "outputs": []
  },
  {
   "cell_type": "code",
   "source": [],
   "metadata": {
    "collapsed": false
   },
   "id": "59d3a40200b16cb8",
   "execution_count": null,
   "outputs": []
  }
 ],
 "metadata": {
  "kernelspec": {
   "display_name": "Python 3",
   "language": "python",
   "name": "python3"
  },
  "language_info": {
   "codemirror_mode": {
    "name": "ipython",
    "version": 2
   },
   "file_extension": ".py",
   "mimetype": "text/x-python",
   "name": "python",
   "nbconvert_exporter": "python",
   "pygments_lexer": "ipython2",
   "version": "2.7.6"
  }
 },
 "nbformat": 4,
 "nbformat_minor": 5
}
