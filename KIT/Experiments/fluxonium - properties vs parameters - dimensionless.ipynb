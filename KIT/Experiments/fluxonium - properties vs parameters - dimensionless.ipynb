{
 "cells": [
  {
   "cell_type": "code",
   "source": [
    "import Modules.SQcircuit_extensions as sq_ext\n",
    "import Modules.figures as figs\n",
    "import SQcircuit as sq\n",
    "import scipy as sp\n",
    "import numpy as np\n",
    "import matplotlib.pyplot as plt\n",
    "import importlib\n",
    "from joblib import Parallel, delayed, cpu_count\n",
    "\n",
    "%matplotlib ipympl\n",
    "plt.rcParams.update({\n",
    "    \"text.usetex\": True,\n",
    "    \"font.family\": \"serif\",\n",
    "    \"font.serif\": [\"Palatino\"],\n",
    "})\n",
    "# plt.rcParams['text.usetex'] = False\n",
    "importlib.reload(sq_ext)\n",
    "importlib.reload(sq)\n",
    "importlib.reload(figs)\n",
    "np.set_printoptions(linewidth=300, formatter={'float': '{:.12f}'.format})\n",
    "# np.set_printoptions(linewidth=200, formatter={'float': '{:.1e}'.format})"
   ],
   "metadata": {
    "collapsed": false,
    "ExecuteTime": {
     "end_time": "2024-05-20T09:44:36.994508Z",
     "start_time": "2024-05-20T09:44:36.489250Z"
    }
   },
   "id": "265d9bbba1bcf059",
   "execution_count": 1,
   "outputs": []
  },
  {
   "cell_type": "code",
   "source": [
    "GHz = 1e9\n",
    "nH = 1e-9\n",
    "fF = 1e-15\n",
    "h    = 6.626e-34\n",
    "e0   = 1.602e-19\n",
    "Φ_0 = h/(2*e0)"
   ],
   "metadata": {
    "collapsed": false,
    "ExecuteTime": {
     "end_time": "2024-05-20T09:44:36.996839Z",
     "start_time": "2024-05-20T09:44:36.995157Z"
    }
   },
   "id": "11be90a8dfffdcd7",
   "execution_count": 2,
   "outputs": []
  },
  {
   "metadata": {},
   "cell_type": "code",
   "execution_count": null,
   "source": "",
   "id": "daefb4110f39bf83",
   "outputs": []
  },
  {
   "cell_type": "markdown",
   "source": [
    "# Experimental parameters for the actual qubits"
   ],
   "metadata": {
    "collapsed": false
   },
   "id": "4acf409131cbe85"
  },
  {
   "cell_type": "code",
   "source": [
    "L_F_eff_1 = 26.5\n",
    "L_F_eff_2 = 20.4\n",
    "L_F_eff_3 = 32.2\n",
    "\n",
    "C_F_eff_1 = 26.9\n",
    "C_F_eff_2 = 22.4\n",
    "C_F_eff_3 = 24.8\n",
    "\n",
    "EJ_1 = 5.4\n",
    "EJ_2 = 9.5\n",
    "EJ_3 = 5.6\n",
    "\n",
    "E_L_1 = sq_ext.L_to_EL(L_F_eff_1)\n",
    "E_L_2 = sq_ext.L_to_EL(L_F_eff_2)\n",
    "E_L_3 = sq_ext.L_to_EL(L_F_eff_3)\n",
    "\n",
    "E_C_1 = sq_ext.C_to_EC(C_F_eff_1)\n",
    "E_C_2 = sq_ext.C_to_EC(C_F_eff_2)\n",
    "E_C_3 = sq_ext.C_to_EC(C_F_eff_3)\n",
    "\n",
    "experiment_coords = [ (EJ_1/E_L_1, E_C_1/E_L_1),\n",
    "                      (EJ_2/E_L_2, E_C_2/E_L_2),\n",
    "                      (EJ_3/E_L_3, E_C_3/E_L_3)]\n",
    "\n",
    "omega_q_exp = [3.7001944890642844, 3.4505095260121497, 3.0342472605322786]\n",
    "experiment_colors = ['b', 'g', 'r']\n",
    "experiment_labels = ['Unit cell 1', 'Coupler', 'Unit cell 2']\n",
    "ω_r_exp = [6.46, 6.274, 5.22] \n",
    "ω_r_1 = 6.46\n",
    "ω_r_2 = 6.274\n",
    "ω_r_3 = 5.22"
   ],
   "metadata": {
    "collapsed": false,
    "ExecuteTime": {
     "end_time": "2024-05-10T09:08:01.047976300Z",
     "start_time": "2024-05-10T09:08:01.027356400Z"
    }
   },
   "id": "a9b05371878b7abb",
   "execution_count": 49,
   "outputs": []
  },
  {
   "metadata": {},
   "cell_type": "markdown",
   "source": [
    "0# $\\omega_{01}^-$ vs experimental parameters"
   ],
   "id": "b4c2b3d3817e183c"
  },
  {
   "cell_type": "code",
   "source": [
    "n_plot              = 40\n",
    "EJ_by_EL_F_values   = np.linspace(0.01,2,n_plot)\n",
    "EC_F_by_EL_F_values = np.linspace(0.05, 0.2,n_plot+3)"
   ],
   "metadata": {
    "collapsed": false,
    "ExecuteTime": {
     "end_time": "2024-05-10T08:21:59.837738300Z",
     "start_time": "2024-05-10T08:21:59.815146Z"
    }
   },
   "id": "c599b59f199536a3",
   "execution_count": 4,
   "outputs": []
  },
  {
   "cell_type": "code",
   "source": [
    "def gap_vs_EJ_EC(EJ_by_EL_F, EC_F_by_EL_F_values):\n",
    "    ω01_by_EL_F_vs_params = np.zeros([len(EC_F_by_EL_F_values)])\n",
    "    ω12_by_EL_F_vs_params = np.zeros([len(EC_F_by_EL_F_values)])\n",
    "\n",
    "    for j, EC_F_by_EL_F in enumerate(EC_F_by_EL_F_values):\n",
    "        fluxonium = sq_ext.sq_fluxonium(EJ=EJ_by_EL_F, E_C=EC_F_by_EL_F, E_L=1)\n",
    "        fluxonium.diag(3)\n",
    "        ω01_by_EL_F_vs_params[j] = fluxonium.efreqs[1] - fluxonium.efreqs[0]\n",
    "        ω12_by_EL_F_vs_params[j] = fluxonium.efreqs[2] - fluxonium.efreqs[1]\n",
    "\n",
    "    return ω01_by_EL_F_vs_params, ω12_by_EL_F_vs_params"
   ],
   "metadata": {
    "collapsed": false,
    "ExecuteTime": {
     "end_time": "2024-05-10T08:21:59.854708400Z",
     "start_time": "2024-05-10T08:21:59.831380800Z"
    }
   },
   "id": "c87b140e5ecff52a",
   "execution_count": 5,
   "outputs": []
  },
  {
   "cell_type": "code",
   "source": [
    "Data = Parallel(n_jobs=min(cpu_count(), n_plot))(delayed(gap_vs_EJ_EC)(EJ_by_EL_F, EC_F_by_EL_F_values) for EJ_by_EL_F in EJ_by_EL_F_values)"
   ],
   "metadata": {
    "collapsed": false,
    "ExecuteTime": {
     "end_time": "2024-05-10T08:22:07.537524200Z",
     "start_time": "2024-05-10T08:21:59.848943200Z"
    }
   },
   "id": "b1bceac0c1a7836f",
   "execution_count": 6,
   "outputs": []
  },
  {
   "cell_type": "code",
   "source": [
    "ω01_by_EL_F_vs_params = []\n",
    "ω12_by_EL_F_vs_params = []\n",
    "for i, (Data_i) in enumerate(zip(Data)):\n",
    "    ω01, ω12 = Data_i[0]\n",
    "    ω01_by_EL_F_vs_params.append(ω01)\n",
    "    ω12_by_EL_F_vs_params.append(ω12)\n",
    "\n",
    "ω01_by_EL_F_vs_params = np.array(ω01_by_EL_F_vs_params).T\n",
    "ω12_by_EL_F_vs_params = np.array(ω12_by_EL_F_vs_params).T"
   ],
   "metadata": {
    "collapsed": false,
    "ExecuteTime": {
     "end_time": "2024-05-10T08:22:07.539611300Z",
     "start_time": "2024-05-10T08:22:07.527433200Z"
    }
   },
   "id": "7c3c48ebe05af071",
   "execution_count": 7,
   "outputs": []
  },
  {
   "cell_type": "markdown",
   "source": [
    "# Gap and anh"
   ],
   "metadata": {
    "collapsed": false
   },
   "id": "36eb3f4d0a3b849"
  },
  {
   "cell_type": "code",
   "source": [
    "fig, [ax1, ax2] = plt.subplots(ncols=2, figsize=[8,3],dpi=150)\n",
    "x = EJ_by_EL_F_values   \n",
    "y = EC_F_by_EL_F_values \n",
    "\n",
    "ω = ω01_by_EL_F_vs_params\n",
    "contour_plot = ax1.contourf(x, y, ω, levels=7, cmap='plasma_r') \n",
    "cb = fig.colorbar(contour_plot)\n",
    "ax1.set_title(r'$\\omega^{01}_-/E_{L_-}$')\n",
    "ax1.set_xlabel('$E_J/E_{L_-}$')\n",
    "ax1.set_ylabel('$E_{C_-}/E_{L_-}$')\n",
    "\n",
    "\n",
    "α = np.log10(ω12_by_EL_F_vs_params / ω01_by_EL_F_vs_params - 1)\n",
    "contour_plot = ax2.contourf(x, y, α, levels=7, cmap='plasma_r') \n",
    "cb = fig.colorbar(contour_plot)\n",
    "ax2.set_title(r'$\\log(\\alpha)$')\n",
    "ax2.set_yticks([])\n",
    "ax2.set_xlabel('$E_J/E_{L_-}$')\n",
    "\n",
    "for ax in [ax1,ax2]:\n",
    "    for i, (EJ_by_EL_exp, EC_by_EL_exp) in enumerate(experiment_coords):\n",
    "        if i == 1:\n",
    "            ax.plot(EJ_by_EL_exp, EC_by_EL_exp, 'o', color=experiment_colors[i], markerfacecolor='none')\n",
    "        else:\n",
    "            ax.plot(EJ_by_EL_exp, EC_by_EL_exp, 'o', color=experiment_colors[i])\n",
    "\n",
    "fig.tight_layout()\n",
    "fig.show()\n",
    "# figs.export('gap_and_anh_by_EL_vs_EC_EJ_by_EL.pdf', fig=fig)"
   ],
   "metadata": {
    "collapsed": false,
    "ExecuteTime": {
     "end_time": "2024-05-10T08:22:12.507610400Z",
     "start_time": "2024-05-10T08:22:10.922483500Z"
    }
   },
   "id": "947d5a845ff72233",
   "execution_count": 8,
   "outputs": []
  },
  {
   "cell_type": "markdown",
   "source": [
    "# Separated spectrum"
   ],
   "metadata": {
    "collapsed": false
   },
   "id": "af597d5d97d9a72d"
  },
  {
   "cell_type": "code",
   "source": [
    "n_plot = 201\n",
    "φ_ext_values = np.linspace(0.5, 1, n_plot)\n",
    "\n",
    "def E_fluxonium_vs_φ_ext(φ_ext, EJ, EC, EL):\n",
    "    fluxonium = sq_ext.sq_fluxonium(EJ=EJ, E_C=EC, E_L=EL, φ_ext=φ_ext)\n",
    "    fluxonium.diag(4)\n",
    "    E = fluxonium.efreqs-fluxonium.efreqs[0]\n",
    "    return E\n",
    "\n",
    "E_fluxonium_vs_φ_ext_1 = np.array(Parallel(n_jobs=min(cpu_count(), n_plot))( delayed(E_fluxonium_vs_φ_ext)(φ_ext, EJ_1, E_C_1, E_L_1) for φ_ext in φ_ext_values))\n",
    "E_fluxonium_vs_φ_ext_2 = np.array(Parallel(n_jobs=min(cpu_count(), n_plot))( delayed(E_fluxonium_vs_φ_ext)(φ_ext, EJ_2, E_C_2, E_L_2) for φ_ext in φ_ext_values))\n",
    "E_fluxonium_vs_φ_ext_3 = np.array(Parallel(n_jobs=min(cpu_count(), n_plot))( delayed(E_fluxonium_vs_φ_ext)(φ_ext, EJ_3, E_C_3, E_L_3) for φ_ext in φ_ext_values))"
   ],
   "metadata": {
    "collapsed": false,
    "ExecuteTime": {
     "end_time": "2024-05-10T09:30:45.788483Z",
     "start_time": "2024-05-10T09:30:45.055703400Z"
    }
   },
   "id": "df830699bdeefbbb",
   "execution_count": 133,
   "outputs": []
  },
  {
   "cell_type": "code",
   "source": [
    "fig, ax = plt.subplots(figsize=[5,4], dpi=150)\n",
    "[ ax.plot([0,0], color=experiment_colors[i], label=experiment_labels[i] ) for i in range(len(experiment_colors))]\n",
    "[ax.plot(φ_ext_values, E_vs_φ_ext, color=experiment_colors[i]) for i, E_vs_φ_ext in enumerate([E_fluxonium_vs_φ_ext_1, E_fluxonium_vs_φ_ext_2, E_fluxonium_vs_φ_ext_3]) ]\n",
    "[ax.hlines(ω_r, φ_ext_values.min(), φ_ext_values.max(), linestyle=':'  , color=experiment_colors[i]) for i, ω_r in enumerate(ω_r_exp) ]\n",
    "[ax.hlines(2*ω_r, φ_ext_values.min(), φ_ext_values.max(), linestyle=':', color=experiment_colors[i]) for i, ω_r in enumerate(ω_r_exp) ]\n",
    "[ax.hlines(3*ω_r, φ_ext_values.min(), φ_ext_values.max(), linestyle=':', color=experiment_colors[i]) for i, ω_r in enumerate(ω_r_exp) ]\n",
    "ax.set_ylabel(r'$E$')\n",
    "ax.set_xlabel(r'$\\varphi_{ext}$')\n",
    "#ax.set_title(r'$')\n",
    "ax.set_ylim([0,25])\n",
    "ax.set_xlim([0.5,1])\n",
    "# ax.legend(loc='center left', bbox_to_anchor=(1,0.85))\n",
    "fig.tight_layout()\n",
    "figs.export('Experiment_spectrum.pdf')\n",
    "fig.show()"
   ],
   "metadata": {
    "collapsed": false,
    "ExecuteTime": {
     "end_time": "2024-05-10T09:34:34.011417100Z",
     "start_time": "2024-05-10T09:34:33.776140800Z"
    }
   },
   "id": "eaa9589442c1b7d9",
   "execution_count": 150,
   "outputs": []
  },
  {
   "cell_type": "markdown",
   "source": [
    "# Full spectrum"
   ],
   "metadata": {
    "collapsed": false
   },
   "id": "85e71d782182850e"
  },
  {
   "cell_type": "code",
   "source": [
    "L_R_eff=200\n",
    "Δ= 0\n",
    "C_R_eff = 1/ (L_R_eff* nH)  /(ω_r_2*2*np.pi*GHz)**2/fF\n",
    "C_R_eff"
   ],
   "metadata": {
    "collapsed": false,
    "ExecuteTime": {
     "end_time": "2024-05-10T09:30:51.036922Z",
     "start_time": "2024-05-10T09:30:51.021023700Z"
    }
   },
   "id": "deb749cbc9703bcf",
   "execution_count": 135,
   "outputs": []
  },
  {
   "cell_type": "code",
   "source": [
    "Lr = (L_R_eff - L_F_eff_2)/4\n",
    "Lr = (L_R_eff - L_F_eff_2 + Δ**2/L_F_eff_2)/4\n",
    "Lr"
   ],
   "metadata": {
    "collapsed": false,
    "ExecuteTime": {
     "end_time": "2024-05-10T09:30:51.490949100Z",
     "start_time": "2024-05-10T09:30:51.458855600Z"
    }
   },
   "id": "3ecd5346e4e7938b",
   "execution_count": 136,
   "outputs": []
  },
  {
   "cell_type": "code",
   "source": [
    "\n",
    "resonator = sq_ext.sq_resonator(Lr=Lr, C_R_eff=C_R_eff, Δ=Δ)\n",
    "# resonator = sq_ext.sq_resonator(L_R_eff=L_R_eff, C_R_eff=C_R_eff, Δ=Δ)"
   ],
   "metadata": {
    "collapsed": false,
    "ExecuteTime": {
     "end_time": "2024-05-10T09:30:52.069122300Z",
     "start_time": "2024-05-10T09:30:52.037758400Z"
    }
   },
   "id": "56a4c00b857b1f5a",
   "execution_count": 137,
   "outputs": []
  },
  {
   "cell_type": "code",
   "source": [
    "resonator.diag(4)[0]"
   ],
   "metadata": {
    "collapsed": false,
    "ExecuteTime": {
     "end_time": "2024-05-10T09:30:52.403627800Z",
     "start_time": "2024-05-10T09:30:52.381786200Z"
    }
   },
   "id": "a2ff0b83348c3520",
   "execution_count": 138,
   "outputs": []
  },
  {
   "cell_type": "code",
   "source": [
    "n_plot = 201\n",
    "neig = 10\n",
    "φ_ext_values = np.linspace(0.5, 1, n_plot)\n",
    "\n",
    "def E_qubit_vs_φ_ext(φ_ext, EJ, L_F_eff, C_F_eff, ω_r, L_R_eff=40, Δ=0.5, neig=10):\n",
    "    Lr = (L_R_eff - L_F_eff + Δ**2/L_F_eff)/4\n",
    "    C_R_eff = 1/ (L_R_eff* nH)  /(ω_r*2*np.pi*GHz)**2/fF\n",
    "    \n",
    "    fluxonium = sq_ext.sq_fluxonium(EJ=EJ, C_F_eff=C_F_eff, Lq=L_F_eff, Δ=Δ, φ_ext=φ_ext)\n",
    "    resonator = sq_ext.sq_resonator(L_R_eff=L_R_eff, C_R_eff=C_R_eff, Δ=Δ)\n",
    "    \n",
    "    H   = sq_ext.hamiltonian_qubit(Lq=L_F_eff, Lr=Lr, fluxonium = fluxonium, resonator = resonator, Δ=Δ) \n",
    "    E = sq_ext.diag(H, neig, remove_ground=True)[0]\n",
    "    \n",
    "    return E\n",
    "\n",
    "E_qubit_vs_φ_ext_1 = np.array(Parallel(n_jobs=min(cpu_count(), n_plot))( delayed(E_qubit_vs_φ_ext)(φ_ext, EJ_1, L_F_eff_1, C_F_eff_1, ω_r_1, neig=neig) for φ_ext in φ_ext_values))\n",
    "E_qubit_vs_φ_ext_2 = np.array(Parallel(n_jobs=min(cpu_count(), n_plot))( delayed(E_qubit_vs_φ_ext)(φ_ext, EJ_2, L_F_eff_2, C_F_eff_2, ω_r_2, neig=neig) for φ_ext in φ_ext_values))\n",
    "E_qubit_vs_φ_ext_3 = np.array(Parallel(n_jobs=min(cpu_count(), n_plot))( delayed(E_qubit_vs_φ_ext)(φ_ext, EJ_3, L_F_eff_3, C_F_eff_3, ω_r_3, neig=neig) for φ_ext in φ_ext_values))"
   ],
   "metadata": {
    "collapsed": false,
    "ExecuteTime": {
     "end_time": "2024-05-10T09:33:57.161532Z",
     "start_time": "2024-05-10T09:33:55.531353Z"
    }
   },
   "id": "5be9c0cd50e12943",
   "execution_count": 147,
   "outputs": []
  },
  {
   "cell_type": "code",
   "source": [
    "fig, ax = plt.subplots(figsize=[5,3], dpi=150)\n",
    "[ ax.plot([0,0], color=experiment_colors[i], label=experiment_labels[i] ) for i in range(len(experiment_colors))]\n",
    "[ax.plot(φ_ext_values, E_vs_φ_ext, color=experiment_colors[i], linewidth=0.8) for i, E_vs_φ_ext in enumerate([E_qubit_vs_φ_ext_1, E_qubit_vs_φ_ext_2, E_qubit_vs_φ_ext_3]) ]\n",
    "# [ax.plot(φ_ext_values, E_vs_φ_ext, color=experiment_colors[i], linewidth=0.5, linestyle='--' ) for i, E_vs_φ_ext in enumerate([E_fluxonium_vs_φ_ext_1, E_fluxonium_vs_φ_ext_2, E_fluxonium_vs_φ_ext_3]) ]\n",
    "# [ax.hlines(ω_r, φ_ext_values.min(), φ_ext_values.max(), linestyle=':'  , color=experiment_colors[i]) for i, ω_r in enumerate(ω_r_exp) ]\n",
    "# [ax.hlines(2*ω_r, φ_ext_values.min(), φ_ext_values.max(), linestyle=':', color=experiment_colors[i]) for i, ω_r in enumerate(ω_r_exp) ]\n",
    "# [ax.hlines(3*ω_r, φ_ext_values.min(), φ_ext_values.max(), linestyle=':', color=experiment_colors[i]) for i, ω_r in enumerate(ω_r_exp) ]\n",
    "ax.set_ylabel(r'$E$')\n",
    "ax.set_xlabel(r'$\\varphi_{ext}$')\n",
    "#ax.set_title(r'$')\n",
    "ax.set_ylim([0,15])\n",
    "ax.set_xlim([0.5,1])\n",
    "ax.legend(loc='center left', bbox_to_anchor=(1,0.85))\n",
    "fig.tight_layout()\n",
    "figs.export('Experiment_spectrum.pdf')\n",
    "fig.show()"
   ],
   "metadata": {
    "collapsed": false,
    "ExecuteTime": {
     "end_time": "2024-05-10T09:33:58.035810200Z",
     "start_time": "2024-05-10T09:33:57.794248200Z"
    }
   },
   "id": "319165c3fc5ae6a8",
   "execution_count": 148,
   "outputs": []
  },
  {
   "cell_type": "code",
   "source": [
    "fig, [ax1, ax2] = plt.subplots(ncols=2, figsize=np.array([8,3])*0.8, dpi=150)\n",
    "\n",
    "[ax1.plot(φ_ext_values, E_vs_φ_ext, color=experiment_colors[i], linewidth=0.8) for i, E_vs_φ_ext in enumerate([E_fluxonium_vs_φ_ext_1, E_fluxonium_vs_φ_ext_2, E_fluxonium_vs_φ_ext_3]) ]\n",
    "[ax1.hlines(ω_r, φ_ext_values.min(), φ_ext_values.max(), linestyle=':'  , linewidth=0.8, color=experiment_colors[i]) for i, ω_r in enumerate(ω_r_exp) ]\n",
    "[ax1.hlines(2*ω_r, φ_ext_values.min(), φ_ext_values.max(), linestyle=':', linewidth=0.8, color=experiment_colors[i]) for i, ω_r in enumerate(ω_r_exp) ]\n",
    "[ax1.hlines(3*ω_r, φ_ext_values.min(), φ_ext_values.max(), linestyle=':', linewidth=0.8, color=experiment_colors[i]) for i, ω_r in enumerate(ω_r_exp) ]\n",
    "\n",
    "\n",
    "[ax2.plot([0,0], color=experiment_colors[i], label=experiment_labels[i] ) for i in range(len(experiment_colors))]\n",
    "[ax2.plot(φ_ext_values, E_vs_φ_ext, color=experiment_colors[i], linewidth=0.8) for i, E_vs_φ_ext in enumerate([E_qubit_vs_φ_ext_1, E_qubit_vs_φ_ext_2, E_qubit_vs_φ_ext_3]) ]\n",
    "ax2.legend(loc='center left', bbox_to_anchor=(1,0.85), fontsize =8)\n",
    "\n",
    "ax1.set_ylabel(r'$E$')\n",
    "ax2.set_yticks([])\n",
    "for ax in [ax1, ax2]:\n",
    "    ax.set_xlabel(r'$\\varphi_{ext}$')\n",
    "    ax.set_ylim([2.5,16])\n",
    "    ax.set_xlim([0.5,1])\n",
    "fig.tight_layout()\n",
    "figs.export('Experiment_spectrum.pdf', fig=fig)\n",
    "fig.show()"
   ],
   "metadata": {
    "collapsed": false,
    "ExecuteTime": {
     "end_time": "2024-05-10T09:43:22.084068300Z",
     "start_time": "2024-05-10T09:43:21.564846700Z"
    }
   },
   "id": "5d45f732bc971e19",
   "execution_count": 162,
   "outputs": []
  },
  {
   "cell_type": "code",
   "source": [
    "plt.close('all')"
   ],
   "metadata": {
    "collapsed": false,
    "ExecuteTime": {
     "end_time": "2024-05-10T09:33:45.275968400Z",
     "start_time": "2024-05-10T09:33:45.255406900Z"
    }
   },
   "id": "b7320e0eb9e5d604",
   "execution_count": 146,
   "outputs": []
  },
  {
   "cell_type": "code",
   "source": [
    "E = E_vs_φ_ext_3[0]\n",
    "E01 = E[1]- E[0]\n",
    "E12 = E[2]- E[1]\n",
    "E12/E01-1"
   ],
   "metadata": {
    "collapsed": false,
    "ExecuteTime": {
     "end_time": "2024-05-10T08:48:11.867287600Z",
     "start_time": "2024-05-10T08:48:11.849621200Z"
    }
   },
   "id": "76f1278733fc613b",
   "execution_count": 29,
   "outputs": []
  },
  {
   "cell_type": "code",
   "source": [
    "resonator = sq_ext.sq_resonator(L_R_eff=1,C_R_eff=2)\n",
    "# resonator = sq_ext.sq_resonator(L_R_eff=2,C_R_eff=1)\n",
    "resonator.diag(2)\n",
    "resonator.efreqs[1]- resonator.efreqs[0]\n",
    "resonator.flux_op(0)[0,1]"
   ],
   "metadata": {
    "collapsed": false,
    "ExecuteTime": {
     "end_time": "2024-05-09T11:40:15.103298500Z",
     "start_time": "2024-05-09T11:40:15.082240400Z"
    }
   },
   "id": "1db2ea11af8e55b",
   "execution_count": 25,
   "outputs": []
  },
  {
   "cell_type": "code",
   "source": [
    "# # Potentially useless\n",
    "# def gap_vs_EJ(EJ_by_EL_F, EC_F_by_EL_F_values, EL_R_by_EL_F_values, EC_R_by_EL_F_values, Δ_by_Lq_values):\n",
    "#     ω01_vs_params   = np.zeros([len(EC_F_by_EL_F_values)])\n",
    "#     ω12_vs_params   = np.zeros([len(EC_F_by_EL_F_values)])\n",
    "#     ω_r_vs_params   = np.zeros([len(EL_R_by_EL_F_values), len(EC_R_by_EL_F_values) ])\n",
    "#     ω01_q_vs_params = np.zeros([len(EC_F_by_EL_F_values), len(EL_R_by_EL_F_values), len(EC_R_by_EL_F_values), len(Δ_by_Lq_values)  ])\n",
    "#     ω12_q_vs_params = np.zeros([len(EC_F_by_EL_F_values), len(EL_R_by_EL_F_values), len(EC_R_by_EL_F_values), len(Δ_by_Lq_values)  ])\n",
    "#     g_vs_params     = np.zeros([len(EC_F_by_EL_F_values), len(EL_R_by_EL_F_values), len(EC_R_by_EL_F_values), len(Δ_by_Lq_values) ])\n",
    "#     \n",
    "#     for j, EC_F_by_EL_F in enumerate(EC_F_by_EL_F_values):    \n",
    "#         fluxonium = sq_ext.sq_fluxonium(EJ=EJ_by_EL_F, E_C=EC_F_by_EL_F, E_L=1)  \n",
    "#         fluxonium.diag(3) \n",
    "#         ω01_vs_params[j] = fluxonium.efreqs[1]-fluxonium.efreqs[0]\n",
    "#         ω12_vs_params[j] = fluxonium.efreqs[2]-fluxonium.efreqs[1]\n",
    "#         \n",
    "#         for k, EL_R_by_EL_F  in enumerate(EL_R_by_EL_F_values):\n",
    "#             for l, EC_R_by_EL_F in enumerate(EC_R_by_EL_F_values):\n",
    "#                 \n",
    "#                 if j == 0:\n",
    "#                     resonator = sq_ext.sq_resonator(E_C=EC_R_by_EL_F, E_L=EL_R_by_EL_F)\n",
    "#                     resonator.diag(2) \n",
    "#                     ω_r_vs_params[k,l] = resonator.efreqs[1]-resonator.efreqs[0]\n",
    "#             \n",
    "#                 for m, Δ_by_Lq in enumerate(Δ_by_Lq_values):\n",
    "# \n",
    "#                     E_q = sq_ext.diag(sq_ext.hamiltonian_qubit(fluxonium=fluxonium, resonator=resonator, Δ=Δ_by_Lq))[0]\n",
    "#                     ω01_q_vs_params[j,k,l,m] = E_q[1]-E_q[0]\n",
    "#                     ω12_q_vs_params[j,k,l,m] = E_q[2]-E_q[1]\n",
    "#                     \n",
    "#                     Φf = fluxonium.flux_op(0, basis='eig')[0,1]\n",
    "#                     Φr = resonator.flux_op(0, basis='eig')[0,1]\n",
    "#                     g_vs_params[j,k,l,m] =  2 * Δ_by_Lq * Φf * Φr * ( (2*np.pi)/Φ_0 )**2 * nH * GHz * h \n",
    "#                     \n",
    "#     return ω01_vs_params, ω12_vs_params, ω01_q_vs_params, ω12_q_vs_params, ω_r_vs_params, g_vs_params\n",
    "#     \n",
    "# Data = Parallel(n_jobs=min(cpu_count(), n_plot))(delayed(gap_vs_EJ)(EJ_by_EL_F, EC_F_by_EL_F_values, EL_R_by_EL_F_values, EC_R_by_EL_F_values, Δ_by_Lq_values) for EJ_by_EL_F in EJ_by_EL_F_values)\n",
    "# ω01_vs_params   = []\n",
    "# ω12_vs_params   = []\n",
    "# ω01_q_vs_params = []\n",
    "# ω12_q_vs_params = []\n",
    "# g_vs_params     = []\n",
    "# \n",
    "# for i, (Data_i) in enumerate(zip(Data)):\n",
    "#     ω01, ω12, ω01_q, ω12_q, ω_r, g= Data_i[0]\n",
    "#     ω01_vs_params  .append( ω01   )\n",
    "#     ω12_vs_params  .append( ω12   )\n",
    "#     ω01_q_vs_params.append( ω01_q )\n",
    "#     ω12_q_vs_params.append( ω12_q )\n",
    "#     if i == 0:\n",
    "#         ω_r_vs_params = ω_r\n",
    "#     g_vs_params    .append( g     )\n",
    "# \n",
    "# ω01_vs_params  = np.array(ω01_vs_params  )\n",
    "# ω12_vs_params  = np.array(ω12_vs_params  )\n",
    "# ω01_q_vs_params= np.array(ω01_q_vs_params)\n",
    "# ω12_q_vs_params= np.array(ω12_q_vs_params)\n",
    "# # ω_r_vs_params  = np.array(ω_r_vs_params  )\n",
    "# g_vs_params    = np.array(g_vs_params    )"
   ],
   "metadata": {
    "collapsed": false
   },
   "id": "fbaa273a4d05b03d",
   "execution_count": 24,
   "outputs": []
  }
 ],
 "metadata": {
  "kernelspec": {
   "display_name": "Python 3",
   "language": "python",
   "name": "python3"
  },
  "language_info": {
   "codemirror_mode": {
    "name": "ipython",
    "version": 2
   },
   "file_extension": ".py",
   "mimetype": "text/x-python",
   "name": "python",
   "nbconvert_exporter": "python",
   "pygments_lexer": "ipython2",
   "version": "2.7.6"
  }
 },
 "nbformat": 4,
 "nbformat_minor": 5
}
