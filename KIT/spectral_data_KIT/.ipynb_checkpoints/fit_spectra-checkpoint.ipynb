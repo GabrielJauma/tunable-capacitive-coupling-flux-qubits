{
 "cells": [
  {
   "cell_type": "code",
   "execution_count": 1,
   "id": "ddbd3b1c2a9b6dd0",
   "metadata": {
    "ExecuteTime": {
     "end_time": "2024-05-27T09:17:47.067532Z",
     "start_time": "2024-05-27T09:17:46.624952Z"
    }
   },
   "source": [
    "import numpy as np\n",
    "import matplotlib.pyplot as plt\n",
    "import Modules.SQcircuit_extensions as sq_ext\n",
    "import Modules.Fits as fits\n",
    "from scipy.optimize import minimize\n",
    "import os\n",
    "import importlib\n",
    "import pickle\n",
    "import qutip as qt\n",
    "\n",
    "importlib.reload(sq_ext)\n",
    "importlib.reload(fits)\n",
    "\n",
    "data_dir = r'/data'\n",
    "opt_dir = r'/opt_results/'"
   ],
   "outputs": []
  },
  {
   "cell_type": "code",
   "execution_count": 2,
   "id": "9be8225a36d23f9c",
   "metadata": {
    "ExecuteTime": {
     "end_time": "2024-05-27T09:17:47.070432Z",
     "start_time": "2024-05-27T09:17:47.068567Z"
    }
   },
   "source": [
    "GHz     =   1e9\n",
    "fF      =   1e-15\n",
    "nH      =   1e-9\n",
    "nmax_r  =   5\n",
    "nmax_f  =   15"
   ],
   "outputs": []
  },
  {
   "cell_type": "markdown",
   "id": "ad08daafdb0f112e",
   "metadata": {},
   "source": [
    "# Single circuit"
   ]
  },
  {
   "cell_type": "markdown",
   "id": "7e8675a28ac2d94d",
   "metadata": {},
   "source": [
    "## Qubit 1 [ Cooldown 1 ]"
   ]
  },
  {
   "cell_type": "code",
   "execution_count": 245,
   "id": "bb4a283757dd3e0e",
   "metadata": {
    "ExecuteTime": {
     "end_time": "2024-05-26T11:17:42.599700600Z",
     "start_time": "2024-05-26T11:17:42.476100100Z"
    }
   },
   "source": [
    "experiment_name = 'qubit_1_single_1'\n",
    "load = False\n",
    "method = 'SLSQP'\n",
    "# method = 'Nedler-Mead'\n",
    "# method = 'L-BFGS-B'\n",
    "# method = 'TNC'\n",
    "# method = 'Powell'\n",
    "# method = 'COBYLA'"
   ],
   "outputs": []
  },
  {
   "cell_type": "markdown",
   "id": "20f4f55562175952",
   "metadata": {},
   "source": [
    "\n",
    "### Load spectral data and theoretical model"
   ]
  },
  {
   "cell_type": "code",
   "execution_count": 169,
   "id": "9b753bfc03563570",
   "metadata": {
    "ExecuteTime": {
     "end_time": "2024-05-26T10:38:35.552738800Z",
     "start_time": "2024-05-26T10:38:35.493958100Z"
    }
   },
   "source": [
    "φ_ext_exp, ω_exp, I_exp, I0, Iss = fits.get_experimental_spectrum(experiment_name)"
   ],
   "outputs": []
  },
  {
   "cell_type": "code",
   "execution_count": 170,
   "id": "28463ba479a8a17e",
   "metadata": {
    "ExecuteTime": {
     "end_time": "2024-05-26T10:38:36.069954300Z",
     "start_time": "2024-05-26T10:38:36.017636Z"
    }
   },
   "source": [
    "theoretical_spectrum = fits.get_theoretical_spectrum(experiment_name)"
   ],
   "outputs": []
  },
  {
   "cell_type": "markdown",
   "id": "cf58ce68b12ca322",
   "metadata": {},
   "source": [
    "### Guess parameters and set bounds"
   ]
  },
  {
   "cell_type": "code",
   "execution_count": 171,
   "id": "fec6a035f627ba4e",
   "metadata": {
    "ExecuteTime": {
     "end_time": "2024-05-26T10:38:36.930524100Z",
     "start_time": "2024-05-26T10:38:36.887788Z"
    }
   },
   "source": [
    "CR_1, CF_1, LF_1, LR_1, EJ_1, Δ_1, ω_r_1 = sq_ext.get_experimental_parameters('qubit 1')\n",
    "I0_guess = I0\n",
    "I_origin_guess = Iss - I0/2\n",
    "parameters_guess = [CF_1, LF_1, EJ_1, I0_guess, I_origin_guess]\n",
    "\n",
    "parameter_names = ['CF_1', 'LF_1', 'EJ_1', 'I0', 'I_origin']\n",
    "bounds = ((20,30), (20,30), (4,15), (I0_guess*0.9, I0_guess*1.1), (I_origin_guess*1.1, I_origin_guess*0.9))\n",
    "data_set = ([I_exp, ω_exp])"
   ],
   "outputs": []
  },
  {
   "cell_type": "markdown",
   "id": "99697d23612d6fa4",
   "metadata": {},
   "source": [
    "### Plot guess to check"
   ]
  },
  {
   "cell_type": "code",
   "execution_count": 172,
   "id": "8755d3d1c81c8747",
   "metadata": {
    "ExecuteTime": {
     "end_time": "2024-05-26T10:38:40.049686300Z",
     "start_time": "2024-05-26T10:38:39.820528Z"
    }
   },
   "source": [
    "φ_ext_guess, ω_guess = theoretical_spectrum(parameters_guess, data_set, out='spectrum')\n",
    "fig, ax1 = plt.subplots(dpi=150)\n",
    "ax1.plot(φ_ext_exp, ω_exp, 'x')\n",
    "ax1.plot(φ_ext_guess, ω_guess, 'r.')\n",
    "ax1.set_ylabel('Frequency (Hz)')\n",
    "ax1.set_xlabel(r'$\\phi_{ext}$ ($\\phi_0$)')\n"
   ],
   "outputs": []
  },
  {
   "cell_type": "markdown",
   "id": "d03eb117152d4565",
   "metadata": {},
   "source": [
    "### Optimize or load previous optimization"
   ]
  },
  {
   "cell_type": "code",
   "execution_count": 173,
   "id": "3d519ad3a1155fe6",
   "metadata": {
    "ExecuteTime": {
     "end_time": "2024-05-26T10:39:32.077771800Z",
     "start_time": "2024-05-26T10:38:40.968987400Z"
    }
   },
   "source": [
    "if load:\n",
    "    parameters_opt, parameters_guess, bounds = fits.load_optimization_results(experiment_name)\n",
    "else:\n",
    "    parameters_opt = minimize(theoretical_spectrum, parameters_guess, data_set, bounds=bounds, method=method).x\n",
    "    np.savez(os.getcwd() + opt_dir + experiment_name + '.npz', parameters_opt=parameters_opt,\n",
    "             parameters_guess = np.array(parameters_guess), bounds=np.array(bounds))"
   ],
   "outputs": []
  },
  {
   "cell_type": "code",
   "execution_count": 174,
   "id": "93f9bd42bc8d4ac1",
   "metadata": {
    "ExecuteTime": {
     "end_time": "2024-05-26T10:39:32.128414600Z",
     "start_time": "2024-05-26T10:39:32.006575100Z"
    }
   },
   "source": [
    "print('Guessed parameters \\n')\n",
    "[print(name + f' = {value:.4e}') for name, value in zip(parameter_names, parameters_guess)];\n",
    "print('\\n')\n",
    "print('Optimized parameters \\n')\n",
    "[print(name + f' = {value:.4e}') for name, value in zip(parameter_names, parameters_opt)];"
   ],
   "outputs": []
  },
  {
   "cell_type": "markdown",
   "id": "7ff656b3522f972a",
   "metadata": {},
   "source": [
    "### Plot fits and errors"
   ]
  },
  {
   "cell_type": "code",
   "execution_count": 175,
   "id": "d066bf3e014eaf94",
   "metadata": {
    "ExecuteTime": {
     "end_time": "2024-05-26T10:39:32.572999400Z",
     "start_time": "2024-05-26T10:39:32.021225900Z"
    }
   },
   "source": [
    "φ_ext_opt, ω_opt   = theoretical_spectrum(parameters_opt  , data_set,  out = 'spectrum')\n",
    "\n",
    "fig, (ax1, ax2 )= plt.subplots(ncols=2, dpi=200, figsize=[8,4])\n",
    "ax1.plot(φ_ext_exp  , ω_exp     , 'x')\n",
    "ax1.plot(φ_ext_guess, ω_guess   , 'r.', markersize=4, label='Guess')\n",
    "ax1.plot(φ_ext_opt  , ω_opt     , 'g.', markersize=4, label='Optimized')\n",
    "ax1.set_ylabel('Frequency (Hz)')\n",
    "ax1.set_xlabel('$\\phi_{ext}$ ($\\phi_0$)')\n",
    "ax1.set_title('Spectrum')\n",
    "ax1.legend()\n",
    "ax2.set_title('Error')\n",
    "\n",
    "ax2.plot(φ_ext_exp, np.abs(ω_guess-ω_exp), 'r.' , label = f'Total error = {np.abs(ω_guess-ω_exp).sum()/1e9:.2f} GHz' )\n",
    "ax2.plot(φ_ext_exp, np.abs(ω_opt-ω_exp), 'g.'   , label = f'Total error = {np.abs(ω_opt-ω_exp).sum()/1e9:.2f} GHz'  )\n",
    "ax2.legend()"
   ],
   "outputs": []
  },
  {
   "cell_type": "markdown",
   "id": "97fc4a06035a8dcb",
   "metadata": {},
   "source": [
    "## Resonator 1 [ Cooldown 1 ]"
   ]
  },
  {
   "cell_type": "code",
   "execution_count": 178,
   "id": "107565385313da38",
   "metadata": {
    "ExecuteTime": {
     "end_time": "2024-05-26T10:40:00.186457700Z",
     "start_time": "2024-05-26T10:39:59.999866900Z"
    }
   },
   "source": [
    "experiment_name = 'resonator_1_single_1'\n",
    "load = False\n",
    "method = 'SLSQP'"
   ],
   "outputs": []
  },
  {
   "cell_type": "markdown",
   "id": "d0ce8df206958dc2",
   "metadata": {},
   "source": [
    "\n",
    "### Load spectral data and theoretical model"
   ]
  },
  {
   "cell_type": "code",
   "execution_count": 179,
   "id": "f5e8e925f7045b09",
   "metadata": {
    "ExecuteTime": {
     "end_time": "2024-05-26T10:40:01.209445600Z",
     "start_time": "2024-05-26T10:40:01.166072200Z"
    }
   },
   "source": [
    "φ_ext_exp, ω_exp, I_exp, I0, Iss = fits.get_experimental_spectrum(experiment_name)\n",
    "theoretical_spectrum = fits.get_theoretical_spectrum(experiment_name)"
   ],
   "outputs": []
  },
  {
   "cell_type": "markdown",
   "id": "5ebb6452810efff9",
   "metadata": {},
   "source": [
    "### Guess parameters and set bounds"
   ]
  },
  {
   "cell_type": "code",
   "execution_count": 183,
   "id": "6b12855527ff9557",
   "metadata": {
    "ExecuteTime": {
     "end_time": "2024-05-26T10:41:25.434509Z",
     "start_time": "2024-05-26T10:41:25.257908900Z"
    }
   },
   "source": [
    "CF_1, LF_1, EJ_1, I0_guess, I_origin_guess = np.load(os.getcwd() + opt_dir +  'qubit_1_single_1' + '.npz')['parameters_opt']\n",
    "_, _, _, LR_1, _, Δ_1, ω_r_1 = sq_ext.get_experimental_parameters('qubit 1')\n",
    "\n",
    "\n",
    "LR_1, CR_1 = sq_ext.ωR_to_LR_CR(6.625, LR=LR_1)\n",
    "\n",
    "crossing_index_1 = 11\n",
    "crossing_index_2 = 10\n",
    "nmax_r=5\n",
    "nmax_f=15\n",
    "\n",
    "data_set = ([I_exp, ω_exp, crossing_index_1, crossing_index_2, CF_1, LF_1, EJ_1, nmax_r, nmax_f ])\n",
    "parameters_guess = [CR_1, LR_1, Δ_1, I0_guess, I_origin_guess]\n",
    "\n",
    "parameter_names = ['CR_1', 'LR_1', 'Delta', 'I0', 'I_origin']\n",
    "bounds = ((2,25), (30,170), (0,2), (I0_guess*0.9, I0_guess*1.1), (I_origin_guess*1.1, I_origin_guess*0.9))"
   ],
   "outputs": []
  },
  {
   "cell_type": "markdown",
   "id": "157269dca22f7bb1",
   "metadata": {},
   "source": [
    "### Plot guess to check"
   ]
  },
  {
   "cell_type": "code",
   "execution_count": 184,
   "id": "8bddc2390506d1f0",
   "metadata": {
    "ExecuteTime": {
     "end_time": "2024-05-26T10:41:26.378146Z",
     "start_time": "2024-05-26T10:41:26.030179400Z"
    }
   },
   "source": [
    "φ_ext_guess, ω_guess = theoretical_spectrum(parameters_guess, data_set, out='spectrum')\n",
    "\n",
    "fig, ax = plt.subplots(dpi=150)\n",
    "ax.plot(φ_ext_exp, ω_exp, marker='x', ls='', label='Resonator 1')\n",
    "ax.plot(φ_ext_guess, ω_guess, '.r')\n",
    "\n",
    "ax.set_ylabel('Frequency (Hz)')\n",
    "ax.set_xlabel('$\\phi_{ext}$ ($\\phi_0$)')\n",
    "ax.legend()\n",
    "fig.tight_layout()"
   ],
   "outputs": []
  },
  {
   "cell_type": "markdown",
   "id": "19464d0d44ee61a9",
   "metadata": {},
   "source": [
    "### Optimize or load previous optimization"
   ]
  },
  {
   "cell_type": "code",
   "execution_count": 185,
   "id": "e67ae6fec3742a82",
   "metadata": {
    "ExecuteTime": {
     "end_time": "2024-05-26T10:41:55.834057700Z",
     "start_time": "2024-05-26T10:41:38.776611200Z"
    }
   },
   "source": [
    "if load:\n",
    "    parameters_opt, parameters_guess, bounds = fits.load_optimization_results(experiment_name)\n",
    "else:\n",
    "    parameters_opt = minimize(theoretical_spectrum, parameters_guess, data_set, bounds=bounds, method=method).x\n",
    "    np.savez(os.getcwd() + opt_dir + experiment_name + '.npz', parameters_opt=parameters_opt,\n",
    "             parameters_guess = np.array(parameters_guess), bounds=np.array(bounds))"
   ],
   "outputs": []
  },
  {
   "cell_type": "code",
   "execution_count": 186,
   "id": "14264bb998d87acf",
   "metadata": {
    "ExecuteTime": {
     "end_time": "2024-05-26T10:41:55.867641200Z",
     "start_time": "2024-05-26T10:41:55.836058Z"
    }
   },
   "source": [
    "print('Guessed parameters \\n')\n",
    "[print(name + f' = {value:.4e}') for name, value in zip(parameter_names, parameters_guess)];\n",
    "print('\\n')\n",
    "print('Optimized parameters \\n')\n",
    "[print(name + f' = {value:.4e}') for name, value in zip(parameter_names, parameters_opt)];"
   ],
   "outputs": []
  },
  {
   "cell_type": "markdown",
   "id": "4fccbef09ce51b36",
   "metadata": {},
   "source": [
    "### Plot fits and errors"
   ]
  },
  {
   "cell_type": "code",
   "execution_count": 187,
   "id": "cd444f1d33e0b39",
   "metadata": {
    "ExecuteTime": {
     "end_time": "2024-05-26T10:41:56.271152700Z",
     "start_time": "2024-05-26T10:41:55.856132900Z"
    }
   },
   "source": [
    "φ_ext_opt, ω_opt = theoretical_spectrum(parameters_opt, data_set, out='spectrum')\n",
    "\n",
    "fig, (ax1, ax2 )= plt.subplots(ncols=2, dpi=200, figsize=[8,4])\n",
    "ax1.plot(φ_ext_exp  , ω_exp, marker='x', ls='', label='Resonator 1')\n",
    "ax1.plot(φ_ext_guess, ω_guess, '.r', markersize=3)\n",
    "ax1.plot(φ_ext_opt  , ω_opt, 'g.', markersize=3)\n",
    "ax1.set_ylabel('Frequency (Hz)')\n",
    "ax1.set_xlabel('$\\phi_{ext}$ ($\\phi_0$)')\n",
    "\n",
    "ax2.plot(φ_ext_exp, np.abs(ω_guess - ω_exp), 'r.', label = f'Total error = {np.abs(ω_guess-ω_exp).sum()/1e9:.2f} GHz' )\n",
    "ax2.plot(φ_ext_exp, np.abs(ω_opt   - ω_exp), 'g.', label = f'Total error = {np.abs(ω_opt-ω_exp).sum()/1e9:.2f} GHz'  )\n",
    "ax2.legend()"
   ],
   "outputs": []
  },
  {
   "cell_type": "markdown",
   "id": "408a976074f3a6a2",
   "metadata": {},
   "source": [
    "## Qubit 1 and Resonator 1 [Cooldown 1]"
   ]
  },
  {
   "cell_type": "code",
   "execution_count": 207,
   "id": "fe97d5e63a722a97",
   "metadata": {
    "ExecuteTime": {
     "end_time": "2024-05-26T10:45:29.175000800Z",
     "start_time": "2024-05-26T10:45:29.117417500Z"
    }
   },
   "source": [
    "experiment_name = 'resonator_and_qubit_1_single_1'\n",
    "load = False"
   ],
   "outputs": []
  },
  {
   "cell_type": "markdown",
   "id": "c833419e567358a1",
   "metadata": {},
   "source": [
    "\n",
    "### Load spectral data and theoretical model"
   ]
  },
  {
   "cell_type": "code",
   "execution_count": 208,
   "id": "7f5f769d9b5d7e6a",
   "metadata": {
    "ExecuteTime": {
     "end_time": "2024-05-26T10:45:29.644406900Z",
     "start_time": "2024-05-26T10:45:29.600825300Z"
    }
   },
   "source": [
    "φ_ext_exp_F, ω_exp_F, I_exp_F, I0_F, Iss_F, φ_ext_exp_R, ω_exp_R, I_exp_R, I0_R, Iss_R = (\n",
    "    fits.get_experimental_spectrum(experiment_name))"
   ],
   "outputs": []
  },
  {
   "cell_type": "code",
   "execution_count": 209,
   "id": "8793c82073dfe085",
   "metadata": {
    "ExecuteTime": {
     "end_time": "2024-05-26T10:45:30.361566Z",
     "start_time": "2024-05-26T10:45:30.329059900Z"
    }
   },
   "source": [
    "theoretical_spectrum = fits.get_theoretical_spectrum(experiment_name)"
   ],
   "outputs": []
  },
  {
   "cell_type": "markdown",
   "id": "b79ddc98ce9fa4b0",
   "metadata": {},
   "source": [
    "### Guess parameters and set bounds"
   ]
  },
  {
   "cell_type": "code",
   "execution_count": 210,
   "id": "51669933872f9685",
   "metadata": {
    "ExecuteTime": {
     "end_time": "2024-05-26T10:45:31.420718Z",
     "start_time": "2024-05-26T10:45:31.376653400Z"
    }
   },
   "source": [
    "CF_1, LF_1, EJ_1, I0_F_1, I_origin_F_1= np.load(os.getcwd() + opt_dir +  'qubit_1_single_1' + '.npz')['parameters_opt']\n",
    "CR_1, LR_1, Δ_1, I0_R_1, I_origin_R_1 = np.load(os.getcwd() + opt_dir +  'resonator_1_single_1' + '.npz')['parameters_opt']\n",
    "\n",
    "crossing_index_1_F = 15\n",
    "crossing_index_1_R = 11\n",
    "crossing_index_2_R = 10\n",
    "nmax_r = 5\n",
    "nmax_f = 15\n",
    "\n",
    "data_set = ([I_exp_F, ω_exp_F, I_exp_R, ω_exp_R, crossing_index_1_F, crossing_index_1_R, crossing_index_2_R, nmax_r, nmax_f])\n",
    "parameters_guess = [CF_1, LF_1, EJ_1, I0_F_1, I_origin_F_1, CR_1, LR_1, Δ_1, I0_R_1, I_origin_R_1]\n",
    "\n",
    "parameter_names = ['CF_1', 'LF_1', 'EJ_1', 'I0_F_1', 'I_origin_F_1',\n",
    "                   'CR_1', 'LR_1', 'Δ_1', 'I0_R_1', 'I_origin_R_1']\n",
    "\n",
    "bounds = ((20,30), (20,30), (4,15), (I0_F_1*0.9, I0_F_1*1.1), (I_origin_F_1*1.1, I_origin_F_1*0.9), \n",
    "          (2,25), (30,170), (0,2), (I0_R_1*0.9, I0_R_1*1.1), (I_origin_R_1*1.1, I_origin_R_1*0.9))"
   ],
   "outputs": []
  },
  {
   "cell_type": "markdown",
   "id": "94aeb15d6f1a890d",
   "metadata": {},
   "source": [
    "### Plot guess to check"
   ]
  },
  {
   "cell_type": "code",
   "execution_count": 211,
   "id": "5e6d0a09e2d86754",
   "metadata": {
    "ExecuteTime": {
     "end_time": "2024-05-26T10:45:36.788447300Z",
     "start_time": "2024-05-26T10:45:35.789804100Z"
    }
   },
   "source": [
    "φ_ext_F_guess, ωF_vs_φ_ext_guess, φ_ext_R_guess, ωR_vs_φ_ext_guess = theoretical_spectrum(parameters_guess, data_set, out='spectrum')\n",
    "\n",
    "fig, (ax1, ax2) = plt.subplots(ncols=2, figsize=[8,4], dpi=200)\n",
    "for ax in (ax1, ax2):\n",
    "    ax.plot(φ_ext_exp_F, ω_exp_F, 'x')\n",
    "    ax.plot(φ_ext_exp_R, ω_exp_R, 'x')\n",
    "    ax.plot(φ_ext_F_guess, ωF_vs_φ_ext_guess, '.r')\n",
    "    ax.plot(φ_ext_R_guess, ωR_vs_φ_ext_guess, '.r')\n",
    "    \n",
    "ax2.set_ylim([6.5e9,6.7e9])\n",
    "fig.tight_layout()"
   ],
   "outputs": []
  },
  {
   "cell_type": "markdown",
   "id": "dd0f96b657cd844b",
   "metadata": {},
   "source": [
    "### Optimize or load previous optimization"
   ]
  },
  {
   "cell_type": "code",
   "execution_count": 198,
   "id": "c7206afa97390d96",
   "metadata": {
    "ExecuteTime": {
     "end_time": "2024-05-26T10:43:27.552812100Z",
     "start_time": "2024-05-26T10:42:36.534499600Z"
    }
   },
   "source": [
    "if load:\n",
    "    parameters_opt, parameters_guess, bounds = fits.load_optimization_results(experiment_name)\n",
    "else:\n",
    "    parameters_opt = minimize(theoretical_spectrum, parameters_guess, data_set, bounds=bounds, method=method).x\n",
    "    np.savez(os.getcwd() + opt_dir + experiment_name + '.npz', parameters_opt=parameters_opt,\n",
    "             parameters_guess = np.array(parameters_guess), bounds=np.array(bounds))"
   ],
   "outputs": []
  },
  {
   "cell_type": "code",
   "execution_count": 199,
   "id": "954a580d7612858e",
   "metadata": {
    "ExecuteTime": {
     "end_time": "2024-05-26T10:43:27.586865500Z",
     "start_time": "2024-05-26T10:43:27.551812100Z"
    }
   },
   "source": [
    "print('Guessed parameters \\n')\n",
    "[print(name + f' = {value:.3f}') for name, value in zip(parameter_names, parameters_guess)];\n",
    "print('\\n')\n",
    "print('Optimized parameters \\n')\n",
    "[print(name + f' = {value:.3f}') for name, value in zip(parameter_names, parameters_opt)];"
   ],
   "outputs": []
  },
  {
   "cell_type": "markdown",
   "id": "4c14be41eaa6795d",
   "metadata": {},
   "source": [
    "### Plot fits and errors"
   ]
  },
  {
   "cell_type": "code",
   "execution_count": 212,
   "id": "d3138986a9c7fa44",
   "metadata": {
    "ExecuteTime": {
     "end_time": "2024-05-26T10:45:43.616263800Z",
     "start_time": "2024-05-26T10:45:42.328789500Z"
    }
   },
   "source": [
    "φ_ext_F_opt, ωF_vs_φ_ext_opt, φ_ext_R_opt, ωR_vs_φ_ext_opt = theoretical_spectrum(parameters_opt, data_set, out='spectrum')\n",
    "\n",
    "fig, (ax1, ax2, ax3) = plt.subplots(ncols=3, figsize=[4*3,4], dpi=200)\n",
    "for ax in (ax1, ax2):\n",
    "    ax.plot(φ_ext_exp_F     , ω_exp_F   , 'x')\n",
    "    ax.plot(φ_ext_exp_R     , ω_exp_R   , 'x')\n",
    "    ax.plot(φ_ext_F_guess   , ωF_vs_φ_ext_guess , '.r')\n",
    "    ax.plot(φ_ext_R_guess   , ωR_vs_φ_ext_guess , '.r')\n",
    "    ax.plot(φ_ext_F_opt     , ωF_vs_φ_ext_opt   , '.g')\n",
    "    ax.plot(φ_ext_R_opt     , ωR_vs_φ_ext_opt   , '.g')\n",
    "    ax.set_xlabel('$\\phi_{ext}$ ($\\phi_0$)')\n",
    "\n",
    "ax3.plot(φ_ext_exp_F, np.abs(ωF_vs_φ_ext_guess - ω_exp_F), 'r.' , label = f'Total error = {np.abs(ωF_vs_φ_ext_guess-ω_exp_F).sum()/1e9:.2f} GHz' )\n",
    "ax3.plot(φ_ext_exp_R, np.abs(ωR_vs_φ_ext_guess - ω_exp_R), 'r.' , label = f'Total error = {np.abs(ωR_vs_φ_ext_guess-ω_exp_R).sum()/1e9:.2f} GHz'  )\n",
    "ax3.plot(φ_ext_exp_F, np.abs(ωF_vs_φ_ext_opt   - ω_exp_F), 'g.' , label = f'Total error = {np.abs(ωF_vs_φ_ext_opt   - ω_exp_F).sum()/1e9:.2f} GHz' )\n",
    "ax3.plot(φ_ext_exp_R, np.abs(ωR_vs_φ_ext_opt   - ω_exp_R), 'g.' , label = f'Total error = {np.abs(ωR_vs_φ_ext_opt   - ω_exp_R).sum()/1e9:.2f} GHz'  )\n",
    "ax3. legend()\n",
    "ax1.set_title('Frequency (Hz)')\n",
    "ax2.set_title('Frequency (Hz)')\n",
    "ax3.set_title('Error (Hz)')\n",
    "ax2.set_ylim([6.55e9,6.65e9])\n"
   ],
   "outputs": []
  },
  {
   "cell_type": "markdown",
   "id": "b9b9cba6d98d92e9",
   "metadata": {},
   "source": [
    "## Qubit 1 and Resonator 1 [Cooldown 2]"
   ]
  },
  {
   "cell_type": "code",
   "execution_count": 213,
   "id": "2a7843c62fb6d3f3",
   "metadata": {
    "ExecuteTime": {
     "end_time": "2024-05-26T10:45:55.527409700Z",
     "start_time": "2024-05-26T10:45:55.478832600Z"
    }
   },
   "source": [
    "experiment_name = 'resonator_and_qubit_1_single_2'\n",
    "load = False"
   ],
   "outputs": []
  },
  {
   "cell_type": "markdown",
   "id": "afd9526a816a587d",
   "metadata": {},
   "source": [
    "\n",
    "### Load spectral data and theoretical model"
   ]
  },
  {
   "cell_type": "code",
   "execution_count": 214,
   "id": "d2a42da09e0ce735",
   "metadata": {
    "ExecuteTime": {
     "end_time": "2024-05-26T10:45:56.360386100Z",
     "start_time": "2024-05-26T10:45:56.318752900Z"
    }
   },
   "source": [
    "φ_ext_exp_F, ω_exp_F, I_exp_F, I0_F, Iss_F, φ_ext_exp_R, ω_exp_R, I_exp_R, I0_R, Iss_R = (\n",
    "    fits.get_experimental_spectrum(experiment_name))"
   ],
   "outputs": []
  },
  {
   "cell_type": "code",
   "execution_count": 215,
   "id": "4e0971847892e2e",
   "metadata": {
    "ExecuteTime": {
     "end_time": "2024-05-26T10:45:56.957292900Z",
     "start_time": "2024-05-26T10:45:56.907207200Z"
    }
   },
   "source": [
    "theoretical_spectrum = fits.get_theoretical_spectrum(experiment_name)"
   ],
   "outputs": []
  },
  {
   "cell_type": "markdown",
   "id": "dca5e7be1d93fc92",
   "metadata": {},
   "source": [
    "### Guess parameters and set bounds"
   ]
  },
  {
   "cell_type": "code",
   "execution_count": 216,
   "id": "e19cd093c58297bc",
   "metadata": {
    "ExecuteTime": {
     "end_time": "2024-05-26T10:45:57.491765800Z",
     "start_time": "2024-05-26T10:45:57.444264600Z"
    }
   },
   "source": [
    "CF_1, LF_1, EJ_1, _, _, CR_1, LR_1, Δ_1, _, _ = np.load(os.getcwd() + opt_dir +  'resonator_and_qubit_1_single_1' + '.npz')['parameters_opt']\n",
    "\n",
    "I0_F_1 = I0_F\n",
    "I_origin_F_1 = Iss_F - I0_F/2\n",
    "\n",
    "I0_R_1 = I0_R\n",
    "I_origin_R_1 = Iss_R - I0_R/2\n",
    "\n",
    "crossing_index_1_F = 30\n",
    "crossing_index_1_R = 11\n",
    "crossing_index_2_R = 10\n",
    "nmax_r = 5\n",
    "nmax_f = 15\n",
    "\n",
    "data_set = ([I_exp_F, ω_exp_F, I_exp_R, ω_exp_R, crossing_index_1_F, crossing_index_1_R, crossing_index_2_R, nmax_r, nmax_f])\n",
    "parameters_guess = [CF_1, LF_1, EJ_1, I0_F_1, I_origin_F_1, CR_1, LR_1, Δ_1, I0_R_1, I_origin_R_1]\n",
    "\n",
    "parameter_names = ['CF_1', 'LF_1', 'EJ_1', 'I0_F_1', 'I_origin_F_1',\n",
    "                   'CR_1', 'LR_1', 'Δ_1', 'I0_R_1', 'I_origin_R_1']\n",
    "\n",
    "bounds = ((20,30), (20,30), (4,15), (I0_F_1*0.8, I0_F_1*1.2), (I_origin_F_1*1.2, I_origin_F_1*0.8), \n",
    "          (2,25), (30,170), (0,2), (I0_R_1*0.8, I0_R_1*1.2), (I_origin_R_1*1.2, I_origin_R_1*0.8))"
   ],
   "outputs": []
  },
  {
   "cell_type": "markdown",
   "id": "2a4ddf6527635e04",
   "metadata": {},
   "source": [
    "### Plot guess to check"
   ]
  },
  {
   "cell_type": "markdown",
   "id": "c2066a990f7d785b",
   "metadata": {},
   "source": []
  },
  {
   "cell_type": "code",
   "execution_count": 217,
   "id": "bead9334139abe77",
   "metadata": {
    "ExecuteTime": {
     "end_time": "2024-05-26T10:46:00.017263900Z",
     "start_time": "2024-05-26T10:45:59.193116100Z"
    }
   },
   "source": [
    "φ_ext_F_guess, ωF_vs_φ_ext_guess, φ_ext_R_guess, ωR_vs_φ_ext_guess = theoretical_spectrum(parameters_guess, data_set, out='spectrum')\n",
    "\n",
    "fig, (ax1, ax2) = plt.subplots(ncols=2, figsize=[8,4], dpi=200)\n",
    "for ax in (ax1, ax2):\n",
    "    ax.plot(φ_ext_exp_F, ω_exp_F, 'x')\n",
    "    ax.plot(φ_ext_F_guess, ωF_vs_φ_ext_guess, '.r')\n",
    "    ax.plot(φ_ext_exp_R, ω_exp_R, 'x')\n",
    "    ax.plot(φ_ext_R_guess, ωR_vs_φ_ext_guess, '.r')\n",
    "    \n",
    "ax2.set_ylim([6.5e9,6.7e9])\n",
    "#ax.set_ylabel(r'$')\n",
    "#ax.set_xlabel(r'$')\n",
    "#ax.set_title(r'$')\n",
    "fig.tight_layout()"
   ],
   "outputs": []
  },
  {
   "cell_type": "markdown",
   "id": "5c00c440ac600bcd",
   "metadata": {},
   "source": [
    "### Optimize or load previous optimization"
   ]
  },
  {
   "cell_type": "code",
   "execution_count": 218,
   "id": "fd3e1ef3badd2c2a",
   "metadata": {
    "ExecuteTime": {
     "end_time": "2024-05-26T10:50:25.077544700Z",
     "start_time": "2024-05-26T10:46:06.952244100Z"
    }
   },
   "source": [
    "if load:\n",
    "    parameters_opt, parameters_guess, bounds = fits.load_optimization_results(experiment_name)\n",
    "else:\n",
    "    parameters_opt = minimize(theoretical_spectrum, parameters_guess, data_set, bounds=bounds).x\n",
    "    np.savez(os.getcwd() + opt_dir + experiment_name + '.npz', parameters_opt=parameters_opt,\n",
    "             parameters_guess = np.array(parameters_guess), bounds=np.array(bounds))"
   ],
   "outputs": []
  },
  {
   "cell_type": "code",
   "execution_count": 219,
   "id": "bb2a01de1487f879",
   "metadata": {
    "ExecuteTime": {
     "end_time": "2024-05-26T10:50:25.111053300Z",
     "start_time": "2024-05-26T10:50:25.078545300Z"
    }
   },
   "source": [
    "print('Guessed parameters \\n')\n",
    "[print(name + f' = {value:.3f}') for name, value in zip(parameter_names, parameters_guess)];\n",
    "print('\\n')\n",
    "print('Optimized parameters \\n')\n",
    "[print(name + f' = {value:.3f}') for name, value in zip(parameter_names, parameters_opt)];"
   ],
   "outputs": []
  },
  {
   "cell_type": "markdown",
   "id": "3e4afc855f7c0b4a",
   "metadata": {},
   "source": [
    "### Plot fits and errors"
   ]
  },
  {
   "cell_type": "code",
   "execution_count": 220,
   "id": "1647ac8cb315e835",
   "metadata": {
    "ExecuteTime": {
     "end_time": "2024-05-26T10:50:25.846955100Z",
     "start_time": "2024-05-26T10:50:25.105052800Z"
    }
   },
   "source": [
    "φ_ext_F_opt, ωF_vs_φ_ext_opt, φ_ext_R_opt, ωR_vs_φ_ext_opt = theoretical_spectrum(parameters_opt, data_set, out='spectrum')\n",
    "\n",
    "fig, (ax1, ax2, ax3) = plt.subplots(ncols=3, figsize=[4*3,4], dpi=200)\n",
    "for ax in (ax1, ax2):\n",
    "    ax.plot(φ_ext_exp_F     , ω_exp_F   , 'x')\n",
    "    ax.plot(φ_ext_exp_R     , ω_exp_R   , 'x')\n",
    "    ax.plot(φ_ext_F_guess   , ωF_vs_φ_ext_guess , '.r')\n",
    "    ax.plot(φ_ext_R_guess   , ωR_vs_φ_ext_guess , '.r')\n",
    "    ax.plot(φ_ext_F_opt     , ωF_vs_φ_ext_opt   , '.g')\n",
    "    ax.plot(φ_ext_R_opt     , ωR_vs_φ_ext_opt   , '.g')\n",
    "    ax.set_xlabel('$\\phi_{ext}$ ($\\phi_0$)')\n",
    "\n",
    "ax3.plot(φ_ext_exp_F, np.abs(ωF_vs_φ_ext_guess - ω_exp_F), 'r.', label = f'Total error = {np.abs(ωF_vs_φ_ext_guess-ω_exp_F).sum()/1e9:.2f} GHz' )\n",
    "ax3.plot(φ_ext_exp_R, np.abs(ωR_vs_φ_ext_guess - ω_exp_R), 'r.', label = f'Total error = {np.abs(ωR_vs_φ_ext_guess-ω_exp_R).sum()/1e9:.2f} GHz'  )\n",
    "ax3.plot(φ_ext_exp_F, np.abs(ωF_vs_φ_ext_opt   - ω_exp_F), 'g.', label = f'Total error = {np.abs(ωF_vs_φ_ext_opt   - ω_exp_F).sum()/1e9:.2f} GHz' )\n",
    "ax3.plot(φ_ext_exp_R, np.abs(ωR_vs_φ_ext_opt   - ω_exp_R), 'g.', label = f'Total error = {np.abs(ωR_vs_φ_ext_opt   - ω_exp_R).sum()/1e9:.2f} GHz'  )\n",
    "    \n",
    "ax1.set_title('Frequency (Hz)')\n",
    "ax2.set_title('Frequency (Hz)')\n",
    "ax3.set_title('Error (Hz)')\n",
    "ax2.set_ylim([6.5e9,6.7e9])\n",
    "ax3.legend()"
   ],
   "outputs": []
  },
  {
   "cell_type": "markdown",
   "id": "83740d6700fbff60",
   "metadata": {},
   "source": [
    "# Qubit 1"
   ]
  },
  {
   "cell_type": "code",
   "execution_count": 223,
   "id": "43c55ef3396072a6",
   "metadata": {
    "ExecuteTime": {
     "end_time": "2024-05-26T11:06:12.638960800Z",
     "start_time": "2024-05-26T11:06:12.527343600Z"
    }
   },
   "source": [
    "experiment_name = 'qubit_1'\n",
    "load = False"
   ],
   "outputs": []
  },
  {
   "cell_type": "markdown",
   "id": "c430e6e9041006a5",
   "metadata": {},
   "source": [
    "\n",
    "### Load spectral data and theoretical model"
   ]
  },
  {
   "cell_type": "code",
   "execution_count": 224,
   "id": "d660845455d5b550",
   "metadata": {
    "ExecuteTime": {
     "end_time": "2024-05-26T11:06:13.176425700Z",
     "start_time": "2024-05-26T11:06:13.127371600Z"
    }
   },
   "source": [
    "φ_ext_exp, ω_exp, I_exp, I0, Iss = fits.get_experimental_spectrum(experiment_name)"
   ],
   "outputs": []
  },
  {
   "cell_type": "code",
   "execution_count": 225,
   "id": "e3d8fe34fd7d62e1",
   "metadata": {
    "ExecuteTime": {
     "end_time": "2024-05-26T11:06:13.603041900Z",
     "start_time": "2024-05-26T11:06:13.550683100Z"
    }
   },
   "source": [
    "theoretical_spectrum = fits.get_theoretical_spectrum(experiment_name)"
   ],
   "outputs": []
  },
  {
   "cell_type": "markdown",
   "id": "dd6f49bd548d534f",
   "metadata": {},
   "source": [
    "## Guess parameters and set bounds"
   ]
  },
  {
   "cell_type": "code",
   "execution_count": 226,
   "id": "3ad3e10c37074d85",
   "metadata": {
    "ExecuteTime": {
     "end_time": "2024-05-26T11:06:14.236707500Z",
     "start_time": "2024-05-26T11:06:14.193044800Z"
    }
   },
   "source": [
    "CF_1, LF_1, EJ_1, _, _ = np.load(os.getcwd() + opt_dir +  'qubit_1_single_1' + '.npz')['parameters_opt']\n",
    "I0_guess = I0\n",
    "I_origin_guess = Iss - I0/2\n",
    "# LF_1= 22.06 #nH\n",
    "# CF_1= 32.15 #fF\n",
    "# EJ_1= 6.19 #GHz\n",
    "\n",
    "parameters_guess = [CF_1, LF_1, EJ_1, I0_guess, I_origin_guess]\n",
    "\n",
    "parameter_names = ['CF_1', 'LF_1', 'EJ_1', 'I0', 'I_origin']\n",
    "bounds = ((20,30), (20,30), (4,15), (I0_guess*0.9, I0_guess*1.1), (I_origin_guess*1.1, I_origin_guess*0.9))\n",
    "data_set = ([I_exp, ω_exp])"
   ],
   "outputs": []
  },
  {
   "cell_type": "code",
   "execution_count": 227,
   "id": "61cd3ac3cd33dd70",
   "metadata": {
    "ExecuteTime": {
     "end_time": "2024-05-26T11:06:15.284351100Z",
     "start_time": "2024-05-26T11:06:14.902374500Z"
    }
   },
   "source": [
    "φ_ext_guess, ω_guess = theoretical_spectrum(parameters_guess, data_set, out='spectrum')\n",
    "fig, (ax1, ax2) = plt.subplots(dpi=150, ncols=2, figsize=[8,4])\n",
    "for ax in (ax1, ax2):\n",
    "    ax.plot(φ_ext_exp, ω_exp, 'x')\n",
    "    ax.plot(φ_ext_exp, ω_guess, 'r.')\n",
    "    ax.set_ylabel('Frequency (Hz)')\n",
    "    ax.set_xlabel(r'$\\phi_{ext}$ ($\\phi_0$)')\n",
    "ax1.set_ylim([7.5e9,8e9])\n",
    "ax1.set_xlim([-0.15,0.1])\n",
    "ax2.set_ylim([3.5e9,4e9])\n",
    "ax2.set_xlim([0.45,0.55])"
   ],
   "outputs": []
  },
  {
   "cell_type": "markdown",
   "id": "4437ff3776ae95eb",
   "metadata": {},
   "source": [
    "## Optimize or load previous optimization"
   ]
  },
  {
   "cell_type": "code",
   "execution_count": 228,
   "id": "15f9a0fa80d134a2",
   "metadata": {
    "ExecuteTime": {
     "end_time": "2024-05-26T11:06:31.985980600Z",
     "start_time": "2024-05-26T11:06:18.706695500Z"
    }
   },
   "source": [
    "if load:\n",
    "    parameters_opt, parameters_guess, bounds = fits.load_optimization_results(experiment_name)\n",
    "else:\n",
    "    parameters_opt = minimize(theoretical_spectrum, parameters_guess, data_set, bounds=bounds, method=method).x\n",
    "    np.savez(os.getcwd() + opt_dir + experiment_name + '.npz', parameters_opt=parameters_opt,\n",
    "             parameters_guess = np.array(parameters_guess), bounds=np.array(bounds))"
   ],
   "outputs": []
  },
  {
   "cell_type": "code",
   "execution_count": 229,
   "id": "9a4e1aec5cb4f0c1",
   "metadata": {
    "ExecuteTime": {
     "end_time": "2024-05-26T11:06:32.038532500Z",
     "start_time": "2024-05-26T11:06:31.918121800Z"
    }
   },
   "source": [
    "print('Guessed parameters \\n')\n",
    "[print(name + f' = {value:.3f}') for name, value in zip(parameter_names, parameters_guess)];\n",
    "print('\\n')\n",
    "print('Optimized parameters \\n')\n",
    "[print(name + f' = {value:.3f}') for name, value in zip(parameter_names, parameters_opt)];"
   ],
   "outputs": []
  },
  {
   "cell_type": "markdown",
   "id": "d269d9b3fce30bf",
   "metadata": {},
   "source": [
    "## Plot fits and errors"
   ]
  },
  {
   "cell_type": "code",
   "execution_count": 230,
   "id": "9e89563dc71e93ba",
   "metadata": {
    "ExecuteTime": {
     "end_time": "2024-05-26T11:06:32.529389200Z",
     "start_time": "2024-05-26T11:06:31.934954700Z"
    }
   },
   "source": [
    "φ_ext_opt, ω_opt = theoretical_spectrum(parameters_opt  , data_set,  out = 'spectrum')\n",
    "\n",
    "fig, (ax1, ax2, ax3 )= plt.subplots(ncols=3, dpi=200, figsize=[4*3,4])\n",
    "for ax in (ax1, ax2):\n",
    "    ax.plot(φ_ext_exp, ω_exp, 'x')\n",
    "    ax.plot(φ_ext_guess, ω_guess, 'r.', markersize=4)\n",
    "    ax.plot(φ_ext_opt, ω_opt, 'g.', markersize=4)\n",
    "    ax.set_ylabel('Frequency (Hz)')\n",
    "    ax.set_xlabel('$\\phi_{ext}$ ($\\phi_0$)')\n",
    "    ax.set_title('Spectrum')\n",
    "ax1.set_ylim([7.6e9, 7.9e9])\n",
    "ax1.set_xlim([-0.15,0.1])\n",
    "ax2.set_ylim([3.6e9, 4.1e9])\n",
    "ax2.set_xlim([0.45, 0.55])\n",
    "ax3.set_title('Error')\n",
    "ax3.plot(φ_ext_exp, np.abs(ω_guess-ω_exp), 'r.' , label = f'Total error = {np.abs(ω_guess-ω_exp).sum()/1e9:.2f} GHz' )\n",
    "ax3.plot(φ_ext_exp, np.abs(ω_opt-ω_exp), 'g.'   , label = f'Total error = {np.abs(ω_opt-ω_exp).sum()/1e9:.2f} GHz'  )\n",
    "ax3.legend()"
   ],
   "outputs": []
  },
  {
   "cell_type": "code",
   "execution_count": 230,
   "id": "602ec1d8c1c33738",
   "metadata": {
    "ExecuteTime": {
     "end_time": "2024-05-26T11:06:32.581928800Z",
     "start_time": "2024-05-26T11:06:32.528387700Z"
    }
   },
   "source": [],
   "outputs": []
  },
  {
   "cell_type": "markdown",
   "id": "34df6d8b41e31e32",
   "metadata": {},
   "source": [
    "# Resonator 1 "
   ]
  },
  {
   "cell_type": "code",
   "execution_count": 231,
   "id": "5a8cda6318d970c4",
   "metadata": {
    "ExecuteTime": {
     "end_time": "2024-05-26T11:06:32.584936100Z",
     "start_time": "2024-05-26T11:06:32.543907900Z"
    }
   },
   "source": [
    "experiment_name = 'resonator_1'\n",
    "load = False"
   ],
   "outputs": []
  },
  {
   "cell_type": "markdown",
   "id": "6c4d7884355e4968",
   "metadata": {},
   "source": [
    "### Load data"
   ]
  },
  {
   "cell_type": "code",
   "execution_count": 232,
   "id": "1ffd77f568299ed8",
   "metadata": {
    "ExecuteTime": {
     "end_time": "2024-05-26T11:06:32.602938300Z",
     "start_time": "2024-05-26T11:06:32.561426Z"
    }
   },
   "source": [
    "φ_ext_exp, ω_exp, I_exp, I0, Iss = fits.get_experimental_spectrum(experiment_name)"
   ],
   "outputs": []
  },
  {
   "cell_type": "markdown",
   "id": "2dc2ddfe501e2a5e",
   "metadata": {},
   "source": [
    "## Define cost function"
   ]
  },
  {
   "cell_type": "code",
   "execution_count": 233,
   "id": "6d320f060afaaef0",
   "metadata": {
    "ExecuteTime": {
     "end_time": "2024-05-26T11:06:32.777543400Z",
     "start_time": "2024-05-26T11:06:32.573420800Z"
    }
   },
   "source": [
    "theoretical_spectrum = fits.get_theoretical_spectrum(experiment_name)"
   ],
   "outputs": []
  },
  {
   "cell_type": "markdown",
   "id": "76d3f637f80f8f0f",
   "metadata": {},
   "source": [
    "## Guess parameters and set bounds"
   ]
  },
  {
   "cell_type": "code",
   "execution_count": 234,
   "id": "5efc1ffbbea949db",
   "metadata": {
    "ExecuteTime": {
     "end_time": "2024-05-26T11:06:32.798065Z",
     "start_time": "2024-05-26T11:06:32.592940700Z"
    }
   },
   "source": [
    "CF_1, LF_1, EJ_1, _, _ = np.load(os.getcwd() + opt_dir +  'qubit_1' + '.npz')['parameters_opt']\n",
    "_, _, _, _, _, CR_1, LR_1, Δ_1, _, _ = np.load(os.getcwd() + opt_dir +  'resonator_and_qubit_1_single_1' + '.npz')['parameters_opt']\n",
    "\n",
    "C_int = 500\n",
    "I0_guess = I0\n",
    "I_origin_guess = Iss - I0/2\n",
    "crossing_index_1  = 13\n",
    "crossing_index_2  = 10\n",
    "LR_1, CR_1 = sq_ext.ωR_to_LR_CR(6.495, LR=LR_1)\n",
    "\n",
    "parameter_names = ['C_int', 'CR_1', 'LR_1', 'I0_guess', 'I_origin_guess' ]\n",
    "\n",
    "parameters_guess = [C_int, CR_1, LR_1 ,I0_guess, I_origin_guess ]\n",
    "data_set = ([I_exp, ω_exp, crossing_index_1, crossing_index_2, CF_1, LF_1, EJ_1, Δ_1,  nmax_r, nmax_f ])\n",
    "bounds= ((10,1000), (2,25),(30,170) ,(I0_guess*0.9, I0_guess*1.1), (I_origin_guess*1.1, I_origin_guess*0.9))"
   ],
   "outputs": []
  },
  {
   "cell_type": "code",
   "execution_count": 235,
   "id": "6c15ded793f880d2",
   "metadata": {
    "ExecuteTime": {
     "end_time": "2024-05-26T11:06:33.019415200Z",
     "start_time": "2024-05-26T11:06:32.608940900Z"
    }
   },
   "source": [
    "φ_ext_guess, ω_guess = theoretical_spectrum(parameters_guess, data_set, out='spectrum')\n",
    "\n",
    "fig, ax = plt.subplots(dpi=150)\n",
    "ax.plot(φ_ext_exp, ω_exp, marker='x', ls='', label='Resonator 1')\n",
    "ax.plot(φ_ext_guess, ω_guess, '.r')\n",
    "\n",
    "ax.set_ylabel('Frequency (Hz)')\n",
    "ax.set_xlabel('$\\phi_{ext}$ ($\\phi_0$)')\n",
    "ax.legend()\n",
    "fig.tight_layout()"
   ],
   "outputs": []
  },
  {
   "cell_type": "markdown",
   "id": "ea64dc574295742",
   "metadata": {},
   "source": [
    "## Optimize or load previous optimization"
   ]
  },
  {
   "cell_type": "code",
   "execution_count": 236,
   "id": "88bb50c064065cd0",
   "metadata": {
    "ExecuteTime": {
     "end_time": "2024-05-26T11:10:31.771151900Z",
     "start_time": "2024-05-26T11:06:33.015728500Z"
    }
   },
   "source": [
    "if load:\n",
    "    parameters_opt, parameters_guess, bounds = fits.load_optimization_results(experiment_name)\n",
    "else:\n",
    "    parameters_opt = minimize(theoretical_spectrum, parameters_guess, data_set, bounds=bounds, method = method).x\n",
    "    np.savez(os.getcwd() + opt_dir + experiment_name + '.npz', parameters_opt=parameters_opt,\n",
    "             parameters_guess = np.array(parameters_guess), bounds=np.array(bounds))"
   ],
   "outputs": []
  },
  {
   "cell_type": "code",
   "execution_count": 237,
   "id": "77a82da3b6198a79",
   "metadata": {
    "ExecuteTime": {
     "end_time": "2024-05-26T11:10:31.787659100Z",
     "start_time": "2024-05-26T11:10:31.770151600Z"
    }
   },
   "source": [
    "print('Guessed parameters \\n')\n",
    "[print(name + f' = {value:.3f}') for name, value in zip(parameter_names, parameters_guess)];\n",
    "print('\\n')\n",
    "print('Optimized parameters \\n')\n",
    "[print(name + f' = {value:.3f}') for name, value in zip(parameter_names, parameters_opt)];"
   ],
   "outputs": []
  },
  {
   "cell_type": "markdown",
   "id": "a381fea5b2b1cb34",
   "metadata": {},
   "source": [
    "## Plot fits and errors"
   ]
  },
  {
   "cell_type": "code",
   "execution_count": 238,
   "id": "d39ac98f21dcfc7c",
   "metadata": {
    "ExecuteTime": {
     "end_time": "2024-05-26T11:10:32.238188100Z",
     "start_time": "2024-05-26T11:10:31.788660600Z"
    }
   },
   "source": [
    "φ_ext_opt , ω_opt = theoretical_spectrum(parameters_opt, data_set, out='spectrum')\n",
    "\n",
    "fig, (ax1, ax2 )= plt.subplots(ncols=2, dpi=200, figsize=[8,4])\n",
    "ax1.plot(φ_ext_exp, ω_exp, marker='x', ls='', label='Resonator 1')\n",
    "ax1.plot(φ_ext_guess, ω_guess, '.r')\n",
    "ax1.plot(φ_ext_opt, ω_opt, 'g.', markersize=4)\n",
    "ax1.set_ylabel('Frequency (Hz)')\n",
    "ax1.set_xlabel('$\\phi_{ext}$ ($\\phi_0$)')\n",
    "\n",
    "ax2.plot(φ_ext_guess, np.abs(ω_guess - ω_exp), 'r.' , label = f'Total error = {np.abs(ω_guess-ω_exp).sum()/1e9:.2f} GHz' )\n",
    "ax2.plot(φ_ext_opt, np.abs(ω_opt   - ω_exp), 'g.'   , label = f'Total error = {np.abs(ω_opt-ω_exp).sum()/1e9:.2f} GHz'  )\n",
    "ax2.legend()"
   ],
   "outputs": []
  },
  {
   "cell_type": "markdown",
   "id": "61973717e5a562ce",
   "metadata": {},
   "source": [
    "# Qubit 1 and Resonator 1"
   ]
  },
  {
   "cell_type": "code",
   "execution_count": 246,
   "id": "905ae5786118861d",
   "metadata": {
    "ExecuteTime": {
     "end_time": "2024-05-26T11:17:56.834695Z",
     "start_time": "2024-05-26T11:17:56.713201100Z"
    }
   },
   "source": [
    "experiment_name = 'resonator_and_qubit_1'\n",
    "load = False"
   ],
   "outputs": []
  },
  {
   "cell_type": "markdown",
   "id": "82973e3501934cba",
   "metadata": {},
   "source": [
    "\n",
    "### Load spectral data and theoretical model"
   ]
  },
  {
   "cell_type": "code",
   "execution_count": 247,
   "id": "519193088df4d6f5",
   "metadata": {
    "ExecuteTime": {
     "end_time": "2024-05-26T11:17:57.622695800Z",
     "start_time": "2024-05-26T11:17:57.587094400Z"
    }
   },
   "source": [
    "φ_ext_exp_F, ω_exp_F, I_exp_F, I0_F, Iss_F = fits.get_experimental_spectrum('qubit_1')\n",
    "φ_ext_exp_R, ω_exp_R, I_exp_R, I0_R, Iss_R = fits.get_experimental_spectrum('resonator_1')"
   ],
   "outputs": []
  },
  {
   "cell_type": "code",
   "execution_count": 248,
   "id": "9c52079da0d2957",
   "metadata": {
    "ExecuteTime": {
     "end_time": "2024-05-26T11:17:58.905647700Z",
     "start_time": "2024-05-26T11:17:58.860856700Z"
    }
   },
   "source": [
    "theoretical_spectrum = fits.get_theoretical_spectrum(experiment_name)"
   ],
   "outputs": []
  },
  {
   "cell_type": "markdown",
   "id": "b5e459005408c015",
   "metadata": {},
   "source": [
    "### Guess parameters and set bounds"
   ]
  },
  {
   "cell_type": "code",
   "execution_count": 250,
   "id": "55ecd54cd9beec98",
   "metadata": {
    "ExecuteTime": {
     "end_time": "2024-05-26T11:18:05.967522300Z",
     "start_time": "2024-05-26T11:18:05.920016Z"
    }
   },
   "source": [
    "CF_1, LF_1, EJ_1, I0_F_1, I_origin_F_1= np.load(os.getcwd() + opt_dir +  'qubit_1' + '.npz')['parameters_opt']\n",
    "C_int, CR_1, LR_1, I0_R_1, I_origin_R_1 = np.load(os.getcwd() + opt_dir +  'resonator_1' + '.npz')['parameters_opt']\n",
    "\n",
    "crossing_index_1_F = 22\n",
    "crossing_index_1_R = 13\n",
    "crossing_index_2_R = 10\n",
    "nmax_r = 5\n",
    "nmax_f = 15\n",
    "# C_int = 500\n",
    "\n",
    "data_set = ([I_exp_F, ω_exp_F, I_exp_R, ω_exp_R, Δ_1, crossing_index_1_F, crossing_index_1_R, crossing_index_2_R, nmax_r, nmax_f])\n",
    "parameters_guess = [CF_1, LF_1, EJ_1, I0_F_1, I_origin_F_1, C_int, CR_1, LR_1, I0_R_1, I_origin_R_1]\n",
    "\n",
    "parameter_names = ['CF_1', 'LF_1', 'EJ_1', 'I0_F_1', 'I_origin_F_1',\n",
    "                   'C_int', 'CR_1', 'LR_1', 'I0_R_1', 'I_origin_R_1']\n",
    "\n",
    "bounds = ((20,30), (20,30), (4,15), (I0_F_1*0.9, I0_F_1*1.1), (I_origin_F_1*1.1, I_origin_F_1*0.9),\n",
    "          (10, 1000), (2,25), (30,170), (I0_R_1*0.9, I0_R_1*1.1), (I_origin_R_1*1.1, I_origin_R_1*0.9))"
   ],
   "outputs": []
  },
  {
   "cell_type": "code",
   "execution_count": 251,
   "id": "730ab9fd1a13ce81",
   "metadata": {
    "ExecuteTime": {
     "end_time": "2024-05-26T11:18:06.869377500Z",
     "start_time": "2024-05-26T11:18:06.219195600Z"
    }
   },
   "source": [
    "φ_ext_F_guess, ωF_vs_φ_ext_guess, φ_ext_R_guess, ωR_vs_φ_ext_guess = theoretical_spectrum(parameters_guess, data_set, out='spectrum')\n",
    "\n",
    "fig, (ax1, ax2) = plt.subplots(ncols=2, figsize=[8,4], dpi=200)\n",
    "for ax in (ax1, ax2):\n",
    "    ax.plot(φ_ext_exp_F, ω_exp_F, 'x')\n",
    "    ax.plot(φ_ext_exp_R, ω_exp_R, 'x')\n",
    "    ax.plot(φ_ext_F_guess, ωF_vs_φ_ext_guess, '.r')\n",
    "    ax.plot(φ_ext_R_guess, ωR_vs_φ_ext_guess, '.r')\n",
    "    \n",
    "ax2.set_ylim([6.35e9,6.6e9])\n",
    "fig.tight_layout()"
   ],
   "outputs": []
  },
  {
   "cell_type": "markdown",
   "id": "4c2ab2d4f57b9b07",
   "metadata": {},
   "source": [
    "### Optimize or load previous optimization"
   ]
  },
  {
   "cell_type": "code",
   "execution_count": 252,
   "id": "e7d8c86c7978883",
   "metadata": {
    "ExecuteTime": {
     "end_time": "2024-05-26T11:19:04.180458700Z",
     "start_time": "2024-05-26T11:18:08.393678900Z"
    }
   },
   "source": [
    "if load:\n",
    "    parameters_opt, parameters_guess, bounds = fits.load_optimization_results(experiment_name)\n",
    "else:\n",
    "    parameters_opt = minimize(theoretical_spectrum, parameters_guess, data_set, bounds=bounds, method=method).x\n",
    "    np.savez(os.getcwd() + opt_dir + experiment_name + '.npz', parameters_opt=parameters_opt,\n",
    "             parameters_guess = np.array(parameters_guess), bounds=np.array(bounds))"
   ],
   "outputs": []
  },
  {
   "cell_type": "code",
   "execution_count": 254,
   "id": "456a40b8790bbdc7",
   "metadata": {
    "ExecuteTime": {
     "end_time": "2024-05-26T11:19:45.443207800Z",
     "start_time": "2024-05-26T11:19:45.333295500Z"
    }
   },
   "source": [
    "print('Guessed parameters \\n')\n",
    "[print(name + f' = {value:.3f}') for name, value in zip(parameter_names, parameters_guess)];\n",
    "print('\\n')\n",
    "print('Optimized parameters \\n')\n",
    "[print(name + f' = {value:.3f}') for name, value in zip(parameter_names, parameters_opt)];"
   ],
   "outputs": []
  },
  {
   "cell_type": "markdown",
   "id": "a90e1262a450080",
   "metadata": {},
   "source": [
    "### Plot fits and errors"
   ]
  },
  {
   "cell_type": "code",
   "execution_count": 255,
   "id": "2b0045e5499ca0f2",
   "metadata": {
    "ExecuteTime": {
     "end_time": "2024-05-26T11:19:47.682614500Z",
     "start_time": "2024-05-26T11:19:46.793878700Z"
    }
   },
   "source": [
    "φ_ext_F_opt, ωF_vs_φ_ext_opt, φ_ext_R_opt, ωR_vs_φ_ext_opt = theoretical_spectrum(parameters_opt, data_set, out='spectrum')\n",
    "\n",
    "fig, (ax1, ax2, ax3) = plt.subplots(ncols=3, figsize=[4*3,4], dpi=200)\n",
    "for ax in (ax1, ax2):\n",
    "    ax.plot(φ_ext_exp_F     , ω_exp_F   , 'x')\n",
    "    ax.plot(φ_ext_exp_R     , ω_exp_R   , 'x')\n",
    "    ax.plot(φ_ext_F_guess   , ωF_vs_φ_ext_guess , '.r')\n",
    "    ax.plot(φ_ext_R_guess   , ωR_vs_φ_ext_guess , '.r')\n",
    "    ax.plot(φ_ext_F_opt     , ωF_vs_φ_ext_opt   , '.g')\n",
    "    ax.plot(φ_ext_R_opt     , ωR_vs_φ_ext_opt   , '.g')\n",
    "    ax.set_xlabel('$\\phi_{ext}$ ($\\phi_0$)')\n",
    "\n",
    "ax3.plot(φ_ext_exp_F, np.abs(ωF_vs_φ_ext_guess - ω_exp_F), 'r.', label = f'Total error = {np.abs(ωF_vs_φ_ext_guess-ω_exp_F).sum()/1e9:.2f} GHz' )\n",
    "ax3.plot(φ_ext_exp_R, np.abs(ωR_vs_φ_ext_guess - ω_exp_R), 'r.', label = f'Total error = {np.abs(ωR_vs_φ_ext_guess-ω_exp_R).sum()/1e9:.2f} GHz'  )\n",
    "ax3.plot(φ_ext_exp_F, np.abs(ωF_vs_φ_ext_opt   - ω_exp_F), 'g.', label = f'Total error = {np.abs(ωF_vs_φ_ext_opt   - ω_exp_F).sum()/1e9:.2f} GHz' )\n",
    "ax3.plot(φ_ext_exp_R, np.abs(ωR_vs_φ_ext_opt   - ω_exp_R), 'g.', label = f'Total error = {np.abs(ωR_vs_φ_ext_opt   - ω_exp_R).sum()/1e9:.2f} GHz'  )\n",
    "ax3.legend()\n",
    "ax1.set_title('Frequency (Hz)')\n",
    "ax2.set_title('Frequency (Hz)')\n",
    "ax3.set_title('Error (Hz)')\n",
    "ax2.set_ylim([6.35e9,6.6e9])\n"
   ],
   "outputs": []
  },
  {
   "cell_type": "markdown",
   "id": "f803170fa22ddf5",
   "metadata": {},
   "source": [
    "# Qubit 2"
   ]
  },
  {
   "cell_type": "code",
   "execution_count": 257,
   "id": "c414ecac1afd9b6f",
   "metadata": {
    "ExecuteTime": {
     "end_time": "2024-05-26T11:19:56.807940800Z",
     "start_time": "2024-05-26T11:19:56.767733900Z"
    }
   },
   "source": [
    "experiment_name = 'qubit_2'\n",
    "load = False"
   ],
   "outputs": []
  },
  {
   "cell_type": "markdown",
   "id": "6d8b3c599aa76524",
   "metadata": {},
   "source": [
    "\n",
    "### Load spectral data and theoretical model"
   ]
  },
  {
   "cell_type": "code",
   "execution_count": 258,
   "id": "32fde7903077f641",
   "metadata": {
    "ExecuteTime": {
     "end_time": "2024-05-26T11:19:57.465618400Z",
     "start_time": "2024-05-26T11:19:57.422090600Z"
    }
   },
   "source": [
    "φ_ext_exp, ω_exp, I_exp, I0, Iss = fits.get_experimental_spectrum(experiment_name)"
   ],
   "outputs": []
  },
  {
   "cell_type": "code",
   "execution_count": 259,
   "id": "2aae041cf9aabb85",
   "metadata": {
    "ExecuteTime": {
     "end_time": "2024-05-26T11:19:57.805528700Z",
     "start_time": "2024-05-26T11:19:57.761001400Z"
    }
   },
   "source": [
    "theoretical_spectrum = fits.get_theoretical_spectrum(experiment_name)"
   ],
   "outputs": []
  },
  {
   "cell_type": "markdown",
   "id": "aca32667c12ea41e",
   "metadata": {},
   "source": [
    "## Guess parameters and set bounds"
   ]
  },
  {
   "cell_type": "code",
   "execution_count": 260,
   "id": "278ee223c3fdf3a7",
   "metadata": {
    "ExecuteTime": {
     "end_time": "2024-05-26T11:19:58.417518400Z",
     "start_time": "2024-05-26T11:19:58.378483800Z"
    }
   },
   "source": [
    "CR_2, CF_2, LF_2, LR_2, EJ_2, Δ_2, ω_r_2 = sq_ext.get_experimental_parameters('qubit 2')\n",
    "# CF_1, LF_1, EJ_1, _, _ = np.load(os.getcwd() + opt_dir +  'qubit_1_single_1' + '.npz')['parameters_opt']\n",
    "I0_guess = I0\n",
    "I_origin_guess = Iss - I0/2\n",
    "# LF_1= 22.06 #nH\n",
    "# CF_1= 32.15 #fF\n",
    "# EJ_1= 6.19 #GHz\n",
    "\n",
    "parameters_guess = [CF_2, LF_2, EJ_2, I0_guess, I_origin_guess]\n",
    "\n",
    "parameter_names = ['CF_2', 'LF_2', 'EJ_2', 'I0', 'I_origin']\n",
    "bounds = ((20,30), (20,30), (4,15), (I0_guess*0.9, I0_guess*1.1), (I_origin_guess*1.1, I_origin_guess*0.9))\n",
    "data_set = ([I_exp, ω_exp])"
   ],
   "outputs": []
  },
  {
   "cell_type": "code",
   "execution_count": 261,
   "id": "37af9a54367ecee2",
   "metadata": {
    "ExecuteTime": {
     "end_time": "2024-05-26T11:19:59.248015300Z",
     "start_time": "2024-05-26T11:19:58.946139900Z"
    }
   },
   "source": [
    "φ_ext_guess, ω_guess = theoretical_spectrum(parameters_guess, data_set, out='spectrum')\n",
    "fig, (ax1, ax2) = plt.subplots(dpi=150, ncols=2, figsize=[8,4])\n",
    "for ax in (ax1, ax2):\n",
    "    ax.plot(φ_ext_exp, ω_exp, 'x')\n",
    "    ax.plot(φ_ext_exp, ω_guess, 'r.')\n",
    "    ax.set_ylabel('Frequency (Hz)')\n",
    "    ax.set_xlabel(r'$\\phi_{ext}$ ($\\phi_0$)')\n",
    "ax1.set_ylim([6.5e9,8e9])\n",
    "ax1.set_xlim([0.35,0.405])\n",
    "ax2.set_ylim([3.4e9,4e9])\n",
    "ax2.set_xlim([0.45,0.55])"
   ],
   "outputs": []
  },
  {
   "cell_type": "markdown",
   "id": "10fd810c03497384",
   "metadata": {},
   "source": [
    "## Optimize or load previous optimization"
   ]
  },
  {
   "cell_type": "code",
   "execution_count": 262,
   "id": "c5ead22251e0d7ab",
   "metadata": {
    "ExecuteTime": {
     "end_time": "2024-05-26T11:20:06.213409700Z",
     "start_time": "2024-05-26T11:20:01.801848300Z"
    }
   },
   "source": [
    "if load:\n",
    "    parameters_opt, parameters_guess, bounds = fits.load_optimization_results(experiment_name)\n",
    "else:\n",
    "    parameters_opt = minimize(theoretical_spectrum, parameters_guess, data_set, bounds=bounds, method=method).x\n",
    "    np.savez(os.getcwd() + opt_dir + experiment_name + '.npz', parameters_opt=parameters_opt,\n",
    "             parameters_guess = np.array(parameters_guess), bounds=np.array(bounds))"
   ],
   "outputs": []
  },
  {
   "cell_type": "code",
   "execution_count": 263,
   "id": "d3db3050497e48d5",
   "metadata": {
    "ExecuteTime": {
     "end_time": "2024-05-26T11:20:06.217426200Z",
     "start_time": "2024-05-26T11:20:06.187894900Z"
    }
   },
   "source": [
    "print('Guessed parameters \\n')\n",
    "[print(name + f' = {value:.3f}') for name, value in zip(parameter_names, parameters_guess)];\n",
    "print('\\n')\n",
    "print('Optimized parameters \\n')\n",
    "[print(name + f' = {value:.3f}') for name, value in zip(parameter_names, parameters_opt)];"
   ],
   "outputs": []
  },
  {
   "cell_type": "markdown",
   "id": "8bbe0cd8a7904749",
   "metadata": {},
   "source": [
    "## Plot fits and errors"
   ]
  },
  {
   "cell_type": "code",
   "execution_count": 264,
   "id": "4d220a26fa31849e",
   "metadata": {
    "ExecuteTime": {
     "end_time": "2024-05-26T11:20:06.775097900Z",
     "start_time": "2024-05-26T11:20:06.204893200Z"
    }
   },
   "source": [
    "φ_ext_opt, ω_opt = theoretical_spectrum(parameters_opt  , data_set,  out = 'spectrum')\n",
    "\n",
    "fig, (ax1, ax2, ax3 )= plt.subplots(ncols=3, dpi=200, figsize=[4*3,4])\n",
    "for ax in (ax1, ax2):\n",
    "    ax.plot(φ_ext_exp, ω_exp, 'x')\n",
    "    ax.plot(φ_ext_guess, ω_guess, 'r.', markersize=4)\n",
    "    ax.plot(φ_ext_opt, ω_opt, 'g.', markersize=4)\n",
    "    ax.set_ylabel('Frequency (Hz)')\n",
    "    ax.set_xlabel('$\\phi_{ext}$ ($\\phi_0$)')\n",
    "    ax.set_title('Spectrum')\n",
    "ax1.set_ylim([6.5e9,8e9])\n",
    "ax1.set_xlim([0.35,0.405])\n",
    "ax2.set_ylim([3.4e9,4e9])\n",
    "ax2.set_xlim([0.45,0.55])\n",
    "ax3.set_title('Error')\n",
    "ax3.plot(φ_ext_exp, np.abs(ω_guess-ω_exp), 'r.' , label = f'Total error = {np.abs(ω_guess-ω_exp).sum()/1e9:.2f} GHz' )\n",
    "ax3.plot(φ_ext_exp, np.abs(ω_opt-ω_exp), 'g.'   , label = f'Total error = {np.abs(ω_opt-ω_exp).sum()/1e9:.2f} GHz'  )\n",
    "ax3.legend()"
   ],
   "outputs": []
  },
  {
   "cell_type": "markdown",
   "id": "12b91ada4d5b4bc1",
   "metadata": {},
   "source": [
    "# Resonator 2"
   ]
  },
  {
   "cell_type": "code",
   "execution_count": 265,
   "id": "d1f04cb432dcdff7",
   "metadata": {
    "ExecuteTime": {
     "end_time": "2024-05-26T11:20:06.777655600Z",
     "start_time": "2024-05-26T11:20:06.738542200Z"
    }
   },
   "source": [
    "experiment_name = 'resonator_2'\n",
    "load = False"
   ],
   "outputs": []
  },
  {
   "cell_type": "markdown",
   "id": "b72b58b722950504",
   "metadata": {},
   "source": [
    "## Load spectral data and theoretical model"
   ]
  },
  {
   "cell_type": "code",
   "execution_count": 266,
   "id": "6fe4dca876adb201",
   "metadata": {
    "ExecuteTime": {
     "end_time": "2024-05-26T11:20:06.844766400Z",
     "start_time": "2024-05-26T11:20:06.752540400Z"
    }
   },
   "source": [
    "φ_ext_exp, ω_exp, I_exp, I0, Iss = fits.get_experimental_spectrum(experiment_name)"
   ],
   "outputs": []
  },
  {
   "cell_type": "code",
   "execution_count": 267,
   "id": "f1549bbd372d7033",
   "metadata": {
    "ExecuteTime": {
     "end_time": "2024-05-26T11:20:06.998333400Z",
     "start_time": "2024-05-26T11:20:06.769096900Z"
    }
   },
   "source": [
    "theoretical_spectrum = fits.get_theoretical_spectrum(experiment_name)"
   ],
   "outputs": []
  },
  {
   "cell_type": "markdown",
   "id": "ef5c5f77728b8cdc",
   "metadata": {},
   "source": [
    "## Guess parameters and set bounds"
   ]
  },
  {
   "cell_type": "code",
   "execution_count": 268,
   "id": "7b41cc7e5922b4c1",
   "metadata": {
    "ExecuteTime": {
     "end_time": "2024-05-26T11:20:07.014331100Z",
     "start_time": "2024-05-26T11:20:06.786650Z"
    }
   },
   "source": [
    "CR_2, CF_2, LF_2, LR_2, EJ_2, Δ_2, ω_r_2 = sq_ext.get_experimental_parameters('qubit 2')\n",
    "\n",
    "I0_guess = I0\n",
    "I_origin_guess = Iss - I0/2\n",
    "crossing_index_1  = 11\n",
    "crossing_index_2  = 9\n",
    "LR_2, CR_2 = sq_ext.ωR_to_LR_CR(6.2745, LR=LR_2)\n",
    "\n",
    "nmax_r = 10\n",
    "nmax_f = 15 \n",
    "\n",
    "data_set = ([I_exp, ω_exp, crossing_index_1, crossing_index_2, CF_2, LF_2, EJ_2, nmax_r, nmax_f ])\n",
    "parameters_guess = [CR_2, LR_2, Δ_2, I0_guess, I_origin_guess]\n",
    "parameter_names = ['CR_2', 'LR_2', 'Delta', 'I0', 'I_origin']\n",
    "bounds = ((2,25), (30,170), (0,2), (I0_guess*0.9, I0_guess*1.1), (I_origin_guess*0.9, I_origin_guess*1.1))"
   ],
   "outputs": []
  },
  {
   "cell_type": "code",
   "execution_count": 269,
   "id": "e8d189ab0b57a5d9",
   "metadata": {
    "ExecuteTime": {
     "end_time": "2024-05-26T11:20:07.171445200Z",
     "start_time": "2024-05-26T11:20:06.802641Z"
    }
   },
   "source": [
    "φ_ext_guess, ω_guess = theoretical_spectrum(parameters_guess, data_set, out='spectrum')\n",
    "fig, ax = plt.subplots(dpi=100)\n",
    "ax.plot(φ_ext_exp, ω_exp, marker='x', ls='', label='Resonator 1')\n",
    "ax.plot(φ_ext_guess, ω_guess, '.r')\n",
    "\n",
    "ax.set_ylabel('Frequency (Hz)')\n",
    "ax.set_xlabel('$\\phi_{ext}$ ($\\phi_0$)')\n",
    "ax.set_ylim([6.25e9, 6.28e9])\n",
    "fig.tight_layout()"
   ],
   "outputs": []
  },
  {
   "cell_type": "markdown",
   "id": "4aa355d49f33a02f",
   "metadata": {},
   "source": [
    "## Optimize or load previous optimization"
   ]
  },
  {
   "cell_type": "code",
   "execution_count": 270,
   "id": "18ff594d53735c7f",
   "metadata": {
    "ExecuteTime": {
     "end_time": "2024-05-26T11:20:09.027789600Z",
     "start_time": "2024-05-26T11:20:07.148936400Z"
    }
   },
   "source": [
    "if load:\n",
    "    parameters_opt, parameters_guess, bounds = fits.load_optimization_results(experiment_name)\n",
    "else:\n",
    "    parameters_opt = minimize(theoretical_spectrum, parameters_guess, data_set, bounds=bounds, method = method).x\n",
    "    np.savez(os.getcwd() + opt_dir + experiment_name + '.npz', parameters_opt=parameters_opt,\n",
    "             parameters_guess = np.array(parameters_guess), bounds=np.array(bounds))"
   ],
   "outputs": []
  },
  {
   "cell_type": "code",
   "execution_count": 271,
   "id": "7eaf6776fc730e3",
   "metadata": {
    "ExecuteTime": {
     "end_time": "2024-05-26T11:20:09.038496300Z",
     "start_time": "2024-05-26T11:20:09.022695200Z"
    }
   },
   "source": [
    "print('Guessed parameters \\n')\n",
    "[print(name + f' = {value:.3f}') for name, value in zip(parameter_names, parameters_guess)];\n",
    "print('\\n')\n",
    "print('Optimized parameters \\n')\n",
    "[print(name + f' = {value:.3f}') for name, value in zip(parameter_names, parameters_opt)];"
   ],
   "outputs": []
  },
  {
   "cell_type": "markdown",
   "id": "fc319ac0a1f2ca76",
   "metadata": {},
   "source": [
    "## Plot fits and errors"
   ]
  },
  {
   "cell_type": "code",
   "execution_count": 272,
   "id": "c4837bd49827440e",
   "metadata": {
    "ExecuteTime": {
     "end_time": "2024-05-26T11:20:09.679738800Z",
     "start_time": "2024-05-26T11:20:09.223538Z"
    }
   },
   "source": [
    "φ_ext_opt , ω_opt = theoretical_spectrum(parameters_opt, data_set, out='spectrum')\n",
    "\n",
    "fig, (ax1, ax2 )= plt.subplots(ncols=2, dpi=200, figsize=[8,4])\n",
    "ax1.plot(φ_ext_exp, ω_exp, marker='x', ls='', label='Resonator 1')\n",
    "ax1.plot(φ_ext_guess, ω_guess, '.r')\n",
    "ax1.plot(φ_ext_opt, ω_opt, 'g.', markersize=4)\n",
    "ax1.set_ylabel('Frequency (Hz)')\n",
    "ax1.set_xlabel('$\\phi_{ext}$ ($\\phi_0$)')\n",
    "\n",
    "ax2.plot(φ_ext_guess, np.abs(ω_guess - ω_exp), 'r.' , label = f'Total error = {np.abs(ω_guess-ω_exp).sum()/1e9:.2f} GHz' )\n",
    "ax2.plot(φ_ext_opt, np.abs(ω_opt   - ω_exp), 'g.'   , label = f'Total error = {np.abs(ω_opt-ω_exp).sum()/1e9:.2f} GHz'  )\n",
    "ax2.legend()"
   ],
   "outputs": []
  },
  {
   "cell_type": "markdown",
   "id": "d2bbdd9bfd77d603",
   "metadata": {},
   "source": [
    "# Qubit 2 and Resonator 2"
   ]
  },
  {
   "cell_type": "code",
   "execution_count": 288,
   "id": "6df9cb112f925ee4",
   "metadata": {
    "ExecuteTime": {
     "end_time": "2024-05-26T11:23:49.634266800Z",
     "start_time": "2024-05-26T11:23:49.585505700Z"
    }
   },
   "source": [
    "experiment_name = 'resonator_and_qubit_2'\n",
    "load = False"
   ],
   "outputs": []
  },
  {
   "cell_type": "markdown",
   "id": "11c26f86a8e8add7",
   "metadata": {},
   "source": [
    "\n",
    "### Load spectral data and theoretical model"
   ]
  },
  {
   "cell_type": "code",
   "execution_count": 289,
   "id": "ca017000f34390e2",
   "metadata": {
    "ExecuteTime": {
     "end_time": "2024-05-26T11:23:50.204573200Z",
     "start_time": "2024-05-26T11:23:50.152030Z"
    }
   },
   "source": [
    "φ_ext_exp_F, ω_exp_F, I_exp_F, I0_F, Iss_F = fits.get_experimental_spectrum('qubit_2')\n",
    "φ_ext_exp_R, ω_exp_R, I_exp_R, I0_R, Iss_R = fits.get_experimental_spectrum('resonator_2')"
   ],
   "outputs": []
  },
  {
   "cell_type": "code",
   "execution_count": 290,
   "id": "f24301bb2e420f95",
   "metadata": {
    "ExecuteTime": {
     "end_time": "2024-05-26T11:23:50.768112900Z",
     "start_time": "2024-05-26T11:23:50.692445300Z"
    }
   },
   "source": [
    "theoretical_spectrum = fits.get_theoretical_spectrum(experiment_name)"
   ],
   "outputs": []
  },
  {
   "cell_type": "markdown",
   "id": "8a6e99da99de7d78",
   "metadata": {},
   "source": [
    "### Guess parameters and set bounds"
   ]
  },
  {
   "cell_type": "code",
   "execution_count": 304,
   "id": "2706cdbba9e25ce4",
   "metadata": {
    "ExecuteTime": {
     "end_time": "2024-05-26T11:30:37.002793900Z",
     "start_time": "2024-05-26T11:30:36.850249200Z"
    }
   },
   "source": [
    "CF_2, LF_2, EJ_2, I0_F_2, I_origin_F_2= np.load(os.getcwd() + opt_dir +  'qubit_2' + '.npz')['parameters_opt']\n",
    "CR_2, LR_2, Δ_2, I0_R_2, I_origin_R_2 = np.load(os.getcwd() + opt_dir +  'resonator_2' + '.npz')['parameters_opt']\n",
    "\n",
    "crossing_index_1_F = 20\n",
    "crossing_index_1_R = 11\n",
    "crossing_index_2_R = 9\n",
    "nmax_r = 5\n",
    "nmax_f = 15\n",
    "\n",
    "data_set = ([I_exp_F, ω_exp_F, I_exp_R, ω_exp_R, crossing_index_1_F, crossing_index_1_R, crossing_index_2_R, nmax_r, nmax_f])\n",
    "parameters_guess = [CF_2, LF_2, EJ_2, I0_F_2, I_origin_F_2, CR_2, LR_2, Δ_2,  I0_R_2, I_origin_R_2]\n",
    "parameter_names = ['CF_2', 'LF_2', 'EJ_2', 'I0_F_2', 'I_origin_F_2',\n",
    "                   'CR_2', 'LR_2', 'Δ_2', 'I0_R_2', 'I_origin_R_2']\n",
    "\n",
    "bounds = ((20,30), (20,30), (4,15), (I0_F_2*0.9, I0_F_2*1.1), (I_origin_F_2*1.1, I_origin_F_2*0.9),\n",
    "          (2,25), (30,170), (0, 2), (I0_R_2*0.9, I0_R_2*1.1), (I_origin_R_2*0.9, I_origin_R_2*1.1))"
   ],
   "outputs": []
  },
  {
   "cell_type": "code",
   "execution_count": 305,
   "id": "fcfe8c7c00292193",
   "metadata": {
    "ExecuteTime": {
     "end_time": "2024-05-26T11:30:38.604192100Z",
     "start_time": "2024-05-26T11:30:37.305251300Z"
    }
   },
   "source": [
    "φ_ext_F_guess, ωF_vs_φ_ext_guess, φ_ext_R_guess, ωR_vs_φ_ext_guess = theoretical_spectrum(parameters_guess, data_set, out='spectrum')\n",
    "\n",
    "fig, (ax1, ax2) = plt.subplots(ncols=2, figsize=[8,4], dpi=200)\n",
    "for ax in (ax1, ax2):\n",
    "    ax.plot(φ_ext_exp_F, ω_exp_F, 'x')\n",
    "    ax.plot(φ_ext_exp_R, ω_exp_R, 'x')\n",
    "    ax.plot(φ_ext_F_guess, ωF_vs_φ_ext_guess, '.r')\n",
    "    ax.plot(φ_ext_R_guess, ωR_vs_φ_ext_guess, '.r')\n",
    "    \n",
    "ax2.set_ylim([6.26e9,6.28e9])\n",
    "fig.tight_layout()"
   ],
   "outputs": []
  },
  {
   "cell_type": "markdown",
   "id": "23bec7d74cd002e6",
   "metadata": {},
   "source": [
    "### Optimize or load previous optimization"
   ]
  },
  {
   "cell_type": "code",
   "execution_count": 306,
   "id": "b97876b8a6b0e4cd",
   "metadata": {
    "ExecuteTime": {
     "end_time": "2024-05-26T11:31:48.578830700Z",
     "start_time": "2024-05-26T11:30:40.906510600Z"
    }
   },
   "source": [
    "if load:\n",
    "    parameters_opt, parameters_guess, bounds = fits.load_optimization_results(experiment_name)\n",
    "else:\n",
    "    parameters_opt = minimize(theoretical_spectrum, parameters_guess, data_set, bounds=bounds, method=method).x\n",
    "    np.savez(os.getcwd() + opt_dir + experiment_name + '.npz', parameters_opt=parameters_opt,\n",
    "             parameters_guess = np.array(parameters_guess), bounds=np.array(bounds))"
   ],
   "outputs": []
  },
  {
   "cell_type": "code",
   "execution_count": 307,
   "id": "b811a4b6ec665834",
   "metadata": {
    "ExecuteTime": {
     "end_time": "2024-05-26T11:32:35.985201900Z",
     "start_time": "2024-05-26T11:32:35.938776400Z"
    }
   },
   "source": [
    "print('Guessed parameters \\n')\n",
    "[print(name + f' = {value:.3f}') for name, value in zip(parameter_names, parameters_guess)];\n",
    "print('\\n')\n",
    "print('Optimized parameters \\n')\n",
    "[print(name + f' = {value:.3f}') for name, value in zip(parameter_names, parameters_opt)];"
   ],
   "outputs": []
  },
  {
   "cell_type": "markdown",
   "id": "bc49e6622695e4c1",
   "metadata": {},
   "source": [
    "### Plot fits and errors"
   ]
  },
  {
   "cell_type": "code",
   "execution_count": 308,
   "id": "fb4e4677b915839",
   "metadata": {
    "ExecuteTime": {
     "end_time": "2024-05-26T11:32:47.118467800Z",
     "start_time": "2024-05-26T11:32:46.425330300Z"
    }
   },
   "source": [
    "φ_ext_F_opt, ωF_vs_φ_ext_opt, φ_ext_R_opt, ωR_vs_φ_ext_opt = theoretical_spectrum(parameters_opt, data_set, out='spectrum')\n",
    "\n",
    "fig, (ax1, ax2, ax3) = plt.subplots(ncols=3, figsize=[4*3,4], dpi=200)\n",
    "for ax in (ax1, ax2):\n",
    "    ax.plot(φ_ext_exp_F     , ω_exp_F   , 'x')\n",
    "    ax.plot(φ_ext_exp_R     , ω_exp_R   , 'x')\n",
    "    ax.plot(φ_ext_F_guess   , ωF_vs_φ_ext_guess , '.r')\n",
    "    ax.plot(φ_ext_R_guess   , ωR_vs_φ_ext_guess , '.r')\n",
    "    ax.plot(φ_ext_F_opt     , ωF_vs_φ_ext_opt   , '.g')\n",
    "    ax.plot(φ_ext_R_opt     , ωR_vs_φ_ext_opt   , '.g')\n",
    "    ax.set_xlabel('$\\phi_{ext}$ ($\\phi_0$)')\n",
    "\n",
    "ax3.plot(φ_ext_exp_F, np.abs(ωF_vs_φ_ext_guess - ω_exp_F), 'r.', label = f'Total error = {np.abs(ωF_vs_φ_ext_guess-ω_exp_F).sum()/1e9:.2f} GHz' )\n",
    "ax3.plot(φ_ext_exp_R, np.abs(ωR_vs_φ_ext_guess - ω_exp_R), 'r.', label = f'Total error = {np.abs(ωR_vs_φ_ext_guess-ω_exp_R).sum()/1e9:.2f} GHz'  )\n",
    "ax3.plot(φ_ext_exp_F, np.abs(ωF_vs_φ_ext_opt   - ω_exp_F), 'g.', label = f'Total error = {np.abs(ωF_vs_φ_ext_opt   - ω_exp_F).sum()/1e9:.2f} GHz' )\n",
    "ax3.plot(φ_ext_exp_R, np.abs(ωR_vs_φ_ext_opt   - ω_exp_R), 'g.', label = f'Total error = {np.abs(ωR_vs_φ_ext_opt   - ω_exp_R).sum()/1e9:.2f} GHz'  )\n",
    "ax3.legend()\n",
    "ax1.set_title('Frequency (Hz)')\n",
    "ax2.set_title('Frequency (Hz)')\n",
    "ax3.set_title('Error (Hz)')\n",
    "ax2.set_ylim([6.35e9,6.6e9])\n"
   ],
   "outputs": []
  },
  {
   "cell_type": "markdown",
   "id": "6d0ebb438cf4d16e",
   "metadata": {},
   "source": [
    "# Qubit 3"
   ]
  },
  {
   "cell_type": "code",
   "execution_count": 310,
   "id": "1e8c0361e82ce00b",
   "metadata": {
    "ExecuteTime": {
     "end_time": "2024-05-26T11:32:57.030535300Z",
     "start_time": "2024-05-26T11:32:56.887804400Z"
    }
   },
   "source": [
    "experiment_name = 'qubit_3'\n",
    "load = False"
   ],
   "outputs": []
  },
  {
   "cell_type": "markdown",
   "id": "35ab1f565268b208",
   "metadata": {},
   "source": [
    "\n",
    "### Load spectral data and theoretical model"
   ]
  },
  {
   "cell_type": "code",
   "execution_count": 311,
   "id": "669ba57e58cc1744",
   "metadata": {
    "ExecuteTime": {
     "end_time": "2024-05-26T11:32:57.467537400Z",
     "start_time": "2024-05-26T11:32:57.432974100Z"
    }
   },
   "source": [
    "φ_ext_exp, ω_exp, I_exp, I0, Iss = fits.get_experimental_spectrum(experiment_name)"
   ],
   "outputs": []
  },
  {
   "cell_type": "code",
   "execution_count": 312,
   "id": "9bb01e31e18ea28e",
   "metadata": {
    "ExecuteTime": {
     "end_time": "2024-05-26T11:32:57.975479600Z",
     "start_time": "2024-05-26T11:32:57.929094500Z"
    }
   },
   "source": [
    "theoretical_spectrum = fits.get_theoretical_spectrum(experiment_name)"
   ],
   "outputs": []
  },
  {
   "cell_type": "markdown",
   "id": "ea636f99161fc9b4",
   "metadata": {},
   "source": [
    "## Guess parameters and set bounds"
   ]
  },
  {
   "cell_type": "code",
   "execution_count": 313,
   "id": "42769dd4c6b8fee",
   "metadata": {
    "ExecuteTime": {
     "end_time": "2024-05-26T11:32:58.758802100Z",
     "start_time": "2024-05-26T11:32:58.713200200Z"
    }
   },
   "source": [
    "CR_3, CF_3, LF_3, LR_3, EJ_3, Δ_3, ω_r_3 = sq_ext.get_experimental_parameters('qubit 3')\n",
    "I0_guess = I0\n",
    "I_origin_guess = Iss - I0/2\n",
    "# LF_1= 22.06 #nH\n",
    "# CF_1= 32.15 #fF\n",
    "# EJ_1= 6.19 #GHz\n",
    "\n",
    "parameters_guess = [CF_3, LF_3, EJ_3, I0_guess, I_origin_guess]\n",
    "\n",
    "parameter_names = ['CF_3', 'LF_3', 'EJ_3', 'I0', 'I_origin']\n",
    "bounds = ((20,30), (20,30), (4,15), (I0_guess*0.9, I0_guess*1.1), (I_origin_guess*1.1, I_origin_guess*0.9))\n",
    "data_set = ([I_exp, ω_exp])"
   ],
   "outputs": []
  },
  {
   "cell_type": "code",
   "execution_count": 317,
   "id": "ee7faa86a3c8c483",
   "metadata": {
    "ExecuteTime": {
     "end_time": "2024-05-26T11:33:55.394453800Z",
     "start_time": "2024-05-26T11:33:55.041214300Z"
    }
   },
   "source": [
    "φ_ext_guess, ω_guess = theoretical_spectrum(parameters_guess, data_set, out='spectrum')\n",
    "fig, (ax1, ax2) = plt.subplots(dpi=150, ncols=2, figsize=[8,4])\n",
    "for ax in (ax1, ax2):\n",
    "    ax.plot(φ_ext_exp, ω_exp, 'x')\n",
    "    ax.plot(φ_ext_exp, ω_guess, 'r.')\n",
    "    ax.set_ylabel('Frequency (Hz)')\n",
    "    ax.set_xlabel(r'$\\phi_{ext}$ ($\\phi_0$)')\n",
    "ax1.set_ylim([7.5e9,7.8e9])\n",
    "ax1.set_xlim([-0.2,0.2])\n",
    "ax2.set_ylim([2.9e9,4e9])\n",
    "ax2.set_xlim([0.45,0.55])"
   ],
   "outputs": []
  },
  {
   "cell_type": "markdown",
   "id": "953e09c1d03685f7",
   "metadata": {},
   "source": [
    "## Optimize or load previous optimization"
   ]
  },
  {
   "cell_type": "code",
   "execution_count": 318,
   "id": "7ce14f25b4438d4b",
   "metadata": {
    "ExecuteTime": {
     "end_time": "2024-05-26T11:34:16.786100500Z",
     "start_time": "2024-05-26T11:34:02.558998800Z"
    }
   },
   "source": [
    "if load:\n",
    "    parameters_opt, parameters_guess, bounds = fits.load_optimization_results(experiment_name)\n",
    "else:\n",
    "    parameters_opt = minimize(theoretical_spectrum, parameters_guess, data_set, bounds=bounds, method=method).x\n",
    "    np.savez(os.getcwd() + opt_dir + experiment_name + '.npz', parameters_opt=parameters_opt,\n",
    "             parameters_guess = np.array(parameters_guess), bounds=np.array(bounds))"
   ],
   "outputs": []
  },
  {
   "cell_type": "code",
   "execution_count": 319,
   "id": "e1ad4957c4a4a66e",
   "metadata": {
    "ExecuteTime": {
     "end_time": "2024-05-26T11:35:08.393138200Z",
     "start_time": "2024-05-26T11:35:08.348867600Z"
    }
   },
   "source": [
    "print('Guessed parameters \\n')\n",
    "[print(name + f' = {value:.3f}') for name, value in zip(parameter_names, parameters_guess)];\n",
    "print('\\n')\n",
    "print('Optimized parameters \\n')\n",
    "[print(name + f' = {value:.3f}') for name, value in zip(parameter_names, parameters_opt)];"
   ],
   "outputs": []
  },
  {
   "cell_type": "markdown",
   "id": "cef6e78044bc5bce",
   "metadata": {},
   "source": [
    "## Plot fits and errors"
   ]
  },
  {
   "cell_type": "code",
   "execution_count": 321,
   "id": "9be4b6852ed6b736",
   "metadata": {
    "ExecuteTime": {
     "end_time": "2024-05-26T11:35:31.949031400Z",
     "start_time": "2024-05-26T11:35:31.427434400Z"
    }
   },
   "source": [
    "φ_ext_opt, ω_opt = theoretical_spectrum(parameters_opt  , data_set,  out = 'spectrum')\n",
    "\n",
    "fig, (ax1, ax2, ax3 )= plt.subplots(ncols=3, dpi=200, figsize=[4*3,4])\n",
    "for ax in (ax1, ax2):\n",
    "    ax.plot(φ_ext_exp, ω_exp, 'x')\n",
    "    ax.plot(φ_ext_guess, ω_guess, 'r.', markersize=4)\n",
    "    ax.plot(φ_ext_opt, ω_opt, 'g.', markersize=4)\n",
    "    ax.set_ylabel('Frequency (Hz)')\n",
    "    ax.set_xlabel('$\\phi_{ext}$ ($\\phi_0$)')\n",
    "    ax.set_title('Spectrum')\n",
    "ax1.set_ylim([7.5e9,7.8e9])\n",
    "ax1.set_xlim([-0.2,0.2])\n",
    "ax2.set_ylim([2.9e9,4e9])\n",
    "ax2.set_xlim([0.45,0.55])\n",
    "ax3.set_title('Error')\n",
    "ax3.plot(φ_ext_exp, np.abs(ω_guess-ω_exp), 'r.' , label = f'Total error = {np.abs(ω_guess-ω_exp).sum()/1e9:.2f} GHz' )\n",
    "ax3.plot(φ_ext_exp, np.abs(ω_opt-ω_exp), 'g.'   , label = f'Total error = {np.abs(ω_opt-ω_exp).sum()/1e9:.2f} GHz'  )\n",
    "ax3.legend()"
   ],
   "outputs": []
  },
  {
   "cell_type": "markdown",
   "id": "86d8c3b55c489895",
   "metadata": {},
   "source": [
    "# Resonator 3"
   ]
  },
  {
   "cell_type": "code",
   "execution_count": 368,
   "id": "e68feeef65e46159",
   "metadata": {
    "ExecuteTime": {
     "end_time": "2024-05-26T12:20:32.641695100Z",
     "start_time": "2024-05-26T12:20:32.589040700Z"
    }
   },
   "source": [
    "experiment_name = 'resonator_3'\n",
    "load = False"
   ],
   "outputs": []
  },
  {
   "cell_type": "markdown",
   "id": "1d86417e4643888c",
   "metadata": {},
   "source": [
    "### Load data"
   ]
  },
  {
   "cell_type": "code",
   "execution_count": 369,
   "id": "6fa14816624ebad1",
   "metadata": {
    "ExecuteTime": {
     "end_time": "2024-05-26T12:20:33.150458800Z",
     "start_time": "2024-05-26T12:20:33.098940400Z"
    }
   },
   "source": [
    "φ_ext_exp, ω_exp, I_exp, I0, Iss = fits.get_experimental_spectrum(experiment_name)"
   ],
   "outputs": []
  },
  {
   "cell_type": "markdown",
   "id": "7867620a11376095",
   "metadata": {},
   "source": [
    "## Define cost function"
   ]
  },
  {
   "cell_type": "code",
   "execution_count": 370,
   "id": "d458c06fa945b124",
   "metadata": {
    "ExecuteTime": {
     "end_time": "2024-05-26T12:20:34.346002500Z",
     "start_time": "2024-05-26T12:20:34.289375600Z"
    }
   },
   "source": [
    "theoretical_spectrum = fits.get_theoretical_spectrum(experiment_name)"
   ],
   "outputs": []
  },
  {
   "cell_type": "markdown",
   "id": "8222adcc1151ce4a",
   "metadata": {},
   "source": [
    "## Guess parameters and set bounds"
   ]
  },
  {
   "cell_type": "code",
   "execution_count": 371,
   "id": "bd60097aae324951",
   "metadata": {
    "ExecuteTime": {
     "end_time": "2024-05-26T12:20:36.106064500Z",
     "start_time": "2024-05-26T12:20:36.061875200Z"
    }
   },
   "source": [
    "CF_3, LF_3, EJ_3, _, _ = np.load(os.getcwd() + opt_dir +  'qubit_3' + '.npz')['parameters_opt']\n",
    "CR_3, _, _, LR_3, _, Δ_3, ω_r_3 = sq_ext.get_experimental_parameters('qubit 3')\n",
    "\n",
    "C_int = 1300\n",
    "I0_guess = I0\n",
    "I_origin_guess = Iss - I0/2\n",
    "crossing_index_1  = 10\n",
    "crossing_index_2  = 8\n",
    "LR_3, CR_3 = sq_ext.ωR_to_LR_CR(5.221, LR=LR_3)\n",
    "\n",
    "parameter_names = ['C_int', 'CR_3', 'LR_3', 'I0_guess', 'I_origin_guess' ]\n",
    "\n",
    "parameters_guess = [C_int, CR_3, LR_3 ,I0_guess, I_origin_guess ]\n",
    "data_set = ([I_exp, ω_exp, crossing_index_1, crossing_index_2, CF_3, LF_3, EJ_3, Δ_3,  nmax_r, nmax_f ])\n",
    "bounds= ((10,2000), (2,25),(30,170) ,(I0_guess*0.9, I0_guess*1.1), (I_origin_guess*1.1, I_origin_guess*0.9))"
   ],
   "outputs": []
  },
  {
   "cell_type": "code",
   "execution_count": 372,
   "id": "3d1cdfd00960f2e",
   "metadata": {
    "ExecuteTime": {
     "end_time": "2024-05-26T12:20:37.781602200Z",
     "start_time": "2024-05-26T12:20:37.484917400Z"
    }
   },
   "source": [
    "φ_ext_guess, ω_guess = theoretical_spectrum(parameters_guess, data_set, out='spectrum')\n",
    "\n",
    "fig, ax = plt.subplots(dpi=150)\n",
    "ax.plot(φ_ext_exp, ω_exp, marker='x', ls='')\n",
    "ax.plot(φ_ext_guess, ω_guess, '.r')\n",
    "\n",
    "ax.set_ylabel('Frequency (Hz)')\n",
    "ax.set_xlabel('$\\phi_{ext}$ ($\\phi_0$)')\n",
    "fig.tight_layout()"
   ],
   "outputs": []
  },
  {
   "cell_type": "markdown",
   "id": "b35af9a192c64c90",
   "metadata": {},
   "source": [
    "## Optimize or load previous optimization"
   ]
  },
  {
   "cell_type": "code",
   "execution_count": 361,
   "id": "8ea162e5724dc8dd",
   "metadata": {
    "ExecuteTime": {
     "end_time": "2024-05-26T12:12:30.535111600Z",
     "start_time": "2024-05-26T12:12:23.336638700Z"
    }
   },
   "source": [
    "if load:\n",
    "    parameters_opt, parameters_guess, bounds = fits.load_optimization_results(experiment_name)\n",
    "else:\n",
    "    parameters_opt = minimize(theoretical_spectrum, parameters_guess, data_set, bounds=bounds, method = method).x\n",
    "    np.savez(os.getcwd() + opt_dir + experiment_name + '.npz', parameters_opt=parameters_opt,\n",
    "             parameters_guess = np.array(parameters_guess), bounds=np.array(bounds))"
   ],
   "outputs": []
  },
  {
   "cell_type": "code",
   "execution_count": 362,
   "id": "a0e003380ffae22d",
   "metadata": {
    "ExecuteTime": {
     "end_time": "2024-05-26T12:12:34.156700300Z",
     "start_time": "2024-05-26T12:12:34.089228400Z"
    }
   },
   "source": [
    "print('Guessed parameters \\n')\n",
    "[print(name + f' = {value:.3f}') for name, value in zip(parameter_names, parameters_guess)];\n",
    "print('\\n')\n",
    "print('Optimized parameters \\n')\n",
    "[print(name + f' = {value:.3f}') for name, value in zip(parameter_names, parameters_opt)];"
   ],
   "outputs": []
  },
  {
   "cell_type": "markdown",
   "id": "2fc1736268fa8af5",
   "metadata": {},
   "source": [
    "## Plot fits and errors"
   ]
  },
  {
   "cell_type": "code",
   "execution_count": 363,
   "id": "1fc3953a5d002085",
   "metadata": {
    "ExecuteTime": {
     "end_time": "2024-05-26T12:12:55.554921900Z",
     "start_time": "2024-05-26T12:12:55.194229900Z"
    }
   },
   "source": [
    "φ_ext_opt , ω_opt = theoretical_spectrum(parameters_opt, data_set, out='spectrum')\n",
    "\n",
    "fig, (ax1, ax2 )= plt.subplots(ncols=2, dpi=200, figsize=[8,4])\n",
    "ax1.plot(φ_ext_exp, ω_exp, marker='x', ls='', label='Resonator 1')\n",
    "ax1.plot(φ_ext_guess, ω_guess, '.r')\n",
    "ax1.plot(φ_ext_opt, ω_opt, 'g.', markersize=4)\n",
    "ax1.set_ylabel('Frequency (Hz)')\n",
    "ax1.set_xlabel('$\\phi_{ext}$ ($\\phi_0$)')\n",
    "\n",
    "ax2.plot(φ_ext_guess, np.abs(ω_guess - ω_exp), 'r.' , label = f'Total error = {np.abs(ω_guess-ω_exp).sum()/1e9:.2f} GHz' )\n",
    "ax2.plot(φ_ext_opt, np.abs(ω_opt   - ω_exp), 'g.'   , label = f'Total error = {np.abs(ω_opt-ω_exp).sum()/1e9:.2f} GHz'  )\n",
    "ax2.legend()"
   ],
   "outputs": []
  },
  {
   "cell_type": "markdown",
   "id": "70bcbb89234c6f95",
   "metadata": {},
   "source": [
    "# Qubit 3 and Resonator 3"
   ]
  },
  {
   "cell_type": "code",
   "execution_count": 380,
   "id": "f3f350347ec35a64",
   "metadata": {
    "ExecuteTime": {
     "end_time": "2024-05-26T12:22:13.253296700Z",
     "start_time": "2024-05-26T12:22:13.193471500Z"
    }
   },
   "source": [
    "experiment_name = 'resonator_and_qubit_3'\n",
    "load = False"
   ],
   "outputs": []
  },
  {
   "cell_type": "markdown",
   "id": "9294de7c5300c462",
   "metadata": {},
   "source": [
    "\n",
    "### Load spectral data and theoretical model"
   ]
  },
  {
   "cell_type": "code",
   "execution_count": 381,
   "id": "c85221b7b270a6e9",
   "metadata": {
    "ExecuteTime": {
     "end_time": "2024-05-26T12:22:13.643950400Z",
     "start_time": "2024-05-26T12:22:13.578223900Z"
    }
   },
   "source": [
    "φ_ext_exp_F, ω_exp_F, I_exp_F, I0_F, Iss_F = fits.get_experimental_spectrum('qubit_3')\n",
    "φ_ext_exp_R, ω_exp_R, I_exp_R, I0_R, Iss_R = fits.get_experimental_spectrum('resonator_3')"
   ],
   "outputs": []
  },
  {
   "cell_type": "code",
   "execution_count": 382,
   "id": "37ebb2cb769151d1",
   "metadata": {
    "ExecuteTime": {
     "end_time": "2024-05-26T12:22:14.194469900Z",
     "start_time": "2024-05-26T12:22:14.132015100Z"
    }
   },
   "source": [
    "theoretical_spectrum = fits.get_theoretical_spectrum(experiment_name)"
   ],
   "outputs": []
  },
  {
   "cell_type": "markdown",
   "id": "8a7ea9fe974df286",
   "metadata": {},
   "source": [
    "### Guess parameters and set bounds"
   ]
  },
  {
   "cell_type": "code",
   "execution_count": 399,
   "id": "98c6f1822cc8610a",
   "metadata": {
    "ExecuteTime": {
     "end_time": "2024-05-26T12:24:52.811879300Z",
     "start_time": "2024-05-26T12:24:52.587782800Z"
    }
   },
   "source": [
    "CF_3, LF_3, EJ_3, I0_F_3, I_origin_F_3= np.load(os.getcwd() + opt_dir +  'qubit_3' + '.npz')['parameters_opt']\n",
    "C_int, CR_3, LR_3, I0_R_3, I_origin_R_3 = np.load(os.getcwd() + opt_dir +  'resonator_3' + '.npz')['parameters_opt']\n",
    "\n",
    "crossing_index_1_F = 22\n",
    "crossing_index_1_F = 24\n",
    "crossing_index_1_R = 10\n",
    "crossing_index_2_R = 8\n",
    "nmax_r = 5\n",
    "nmax_f = 15\n",
    "# C_int = 500\n",
    "\n",
    "data_set = ([I_exp_F, ω_exp_F, I_exp_R, ω_exp_R, Δ_3, crossing_index_1_F, crossing_index_1_R, crossing_index_2_R, nmax_r, nmax_f])\n",
    "parameters_guess = [CF_3, LF_3, EJ_3, I0_F_3, I_origin_F_3, C_int, CR_3, LR_3, I0_R_3, I_origin_R_3]\n",
    "\n",
    "parameter_names = ['CF_3', 'LF_3', 'EJ_3', 'I0_F_3', 'I_origin_F_3',\n",
    "                   'C_int', 'CR_3', 'LR_3', 'I0_R_3', 'I_origin_R_3']\n",
    "\n",
    "bounds = ((20,30), (20,30), (4,15), (I0_F_3*0.9, I0_F_3*1.1), (I_origin_F_3*1.1, I_origin_F_3*0.9),\n",
    "          (10, 1000), (2,25), (30,170), (I0_R_3*0.9, I0_R_3*1.1), (I_origin_R_3*1.1, I_origin_R_3*0.9))"
   ],
   "outputs": []
  },
  {
   "cell_type": "code",
   "execution_count": 400,
   "id": "228733ef60c7ce18",
   "metadata": {
    "ExecuteTime": {
     "end_time": "2024-05-26T12:24:54.185027Z",
     "start_time": "2024-05-26T12:24:53.095795800Z"
    }
   },
   "source": [
    "φ_ext_F_guess, ωF_vs_φ_ext_guess, φ_ext_R_guess, ωR_vs_φ_ext_guess = theoretical_spectrum(parameters_guess, data_set, out='spectrum')\n",
    "\n",
    "fig, (ax1, ax2) = plt.subplots(ncols=2, figsize=[8,4], dpi=200)\n",
    "for ax in (ax1, ax2):\n",
    "    ax.plot(φ_ext_exp_F, ω_exp_F, 'x')\n",
    "    ax.plot(φ_ext_exp_R, ω_exp_R, 'x')\n",
    "    ax.plot(φ_ext_F_guess, ωF_vs_φ_ext_guess, '.r')\n",
    "    ax.plot(φ_ext_R_guess, ωR_vs_φ_ext_guess, '.r')\n",
    "    \n",
    "ax2.set_ylim([5.175e9,5.25e9])\n",
    "fig.tight_layout()"
   ],
   "outputs": []
  },
  {
   "cell_type": "markdown",
   "id": "5569726ca6958477",
   "metadata": {},
   "source": [
    "### Optimize or load previous optimization"
   ]
  },
  {
   "cell_type": "code",
   "execution_count": 401,
   "id": "2ddcf07307e0465b",
   "metadata": {
    "ExecuteTime": {
     "end_time": "2024-05-26T12:25:42.768901300Z",
     "start_time": "2024-05-26T12:24:56.537908100Z"
    }
   },
   "source": [
    "if load:\n",
    "    parameters_opt, parameters_guess, bounds = fits.load_optimization_results(experiment_name)\n",
    "else:\n",
    "    parameters_opt = minimize(theoretical_spectrum, parameters_guess, data_set, bounds=bounds, method=method).x\n",
    "    np.savez(os.getcwd() + opt_dir + experiment_name + '.npz', parameters_opt=parameters_opt,\n",
    "             parameters_guess = np.array(parameters_guess), bounds=np.array(bounds))"
   ],
   "outputs": []
  },
  {
   "cell_type": "code",
   "execution_count": 402,
   "id": "cdd7025dd155d81b",
   "metadata": {
    "ExecuteTime": {
     "end_time": "2024-05-26T12:27:21.244695200Z",
     "start_time": "2024-05-26T12:27:21.171468100Z"
    }
   },
   "source": [
    "print('Guessed parameters \\n')\n",
    "[print(name + f' = {value:.3f}') for name, value in zip(parameter_names, parameters_guess)];\n",
    "print('\\n')\n",
    "print('Optimized parameters \\n')\n",
    "[print(name + f' = {value:.3f}') for name, value in zip(parameter_names, parameters_opt)];"
   ],
   "outputs": []
  },
  {
   "cell_type": "markdown",
   "id": "18f975bda562f844",
   "metadata": {},
   "source": [
    "### Plot fits and errors"
   ]
  },
  {
   "cell_type": "code",
   "execution_count": 404,
   "id": "124eb0f643fe4d",
   "metadata": {
    "ExecuteTime": {
     "end_time": "2024-05-26T12:27:54.774201900Z",
     "start_time": "2024-05-26T12:27:54.015948600Z"
    }
   },
   "source": [
    "φ_ext_F_opt, ωF_vs_φ_ext_opt, φ_ext_R_opt, ωR_vs_φ_ext_opt = theoretical_spectrum(parameters_opt, data_set, out='spectrum')\n",
    "\n",
    "fig, (ax1, ax2, ax3) = plt.subplots(ncols=3, figsize=[4*3,4], dpi=200)\n",
    "for ax in (ax1, ax2):\n",
    "    ax.plot(φ_ext_exp_F     , ω_exp_F   , 'x')\n",
    "    ax.plot(φ_ext_exp_R     , ω_exp_R   , 'x')\n",
    "    ax.plot(φ_ext_F_guess   , ωF_vs_φ_ext_guess , '.r')\n",
    "    ax.plot(φ_ext_R_guess   , ωR_vs_φ_ext_guess , '.r')\n",
    "    ax.plot(φ_ext_F_opt     , ωF_vs_φ_ext_opt   , '.g')\n",
    "    ax.plot(φ_ext_R_opt     , ωR_vs_φ_ext_opt   , '.g')\n",
    "    ax.set_xlabel('$\\phi_{ext}$ ($\\phi_0$)')\n",
    "\n",
    "ax3.plot(φ_ext_exp_F, np.abs(ωF_vs_φ_ext_guess - ω_exp_F), 'r.', label = f'Total error = {np.abs(ωF_vs_φ_ext_guess-ω_exp_F).sum()/1e9:.2f} GHz' )\n",
    "ax3.plot(φ_ext_exp_R, np.abs(ωR_vs_φ_ext_guess - ω_exp_R), 'r.', label = f'Total error = {np.abs(ωR_vs_φ_ext_guess-ω_exp_R).sum()/1e9:.2f} GHz'  )\n",
    "ax3.plot(φ_ext_exp_F, np.abs(ωF_vs_φ_ext_opt   - ω_exp_F), 'g.', label = f'Total error = {np.abs(ωF_vs_φ_ext_opt   - ω_exp_F).sum()/1e9:.2f} GHz' )\n",
    "ax3.plot(φ_ext_exp_R, np.abs(ωR_vs_φ_ext_opt   - ω_exp_R), 'g.', label = f'Total error = {np.abs(ωR_vs_φ_ext_opt   - ω_exp_R).sum()/1e9:.2f} GHz'  )\n",
    "ax3.legend()\n",
    "ax1.set_title('Frequency (Hz)')\n",
    "ax2.set_title('Frequency (Hz)')\n",
    "ax3.set_title('Error (Hz)')\n",
    "ax2.set_ylim([5.175e9,5.25e9])\n"
   ],
   "outputs": []
  },
  {
   "cell_type": "markdown",
   "id": "b7cea935ea0890c6",
   "metadata": {},
   "source": [
    "# Qubit 1 - Qubit 2 avoided crossing while Qubit 3 is off-resonant"
   ]
  },
  {
   "cell_type": "markdown",
   "id": "e4f925df855632ac",
   "metadata": {},
   "source": [
    "Move q2 through q1 which is at half-flux"
   ]
  },
  {
   "cell_type": "code",
   "execution_count": 37,
   "id": "aff635fb85a99989",
   "metadata": {
    "ExecuteTime": {
     "end_time": "2024-05-27T09:31:51.839440Z",
     "start_time": "2024-05-27T09:31:51.836746Z"
    }
   },
   "source": [
    "with open(os.getcwd() + data_dir + r'/x__tt_q1_q2.pkl', 'rb') as f:\n",
    "    x__tt_q1_q2 = pickle.load(f)\n",
    "with open(os.getcwd() + data_dir + r'/y__tt_q1_q2.pkl', 'rb') as f:\n",
    "    y__tt_q1_q2 = pickle.load(f)\n",
    "x__tt_q1_q2 = np.concatenate([x__tt_q1_q2[0], x__tt_q1_q2[1] ])\n",
    "y__tt_q1_q2 = np.concatenate([y__tt_q1_q2[0], y__tt_q1_q2[1] ])"
   ],
   "outputs": []
  },
  {
   "cell_type": "code",
   "execution_count": 76,
   "id": "f5e06ee0bbeadc8c",
   "metadata": {
    "ExecuteTime": {
     "end_time": "2024-05-27T09:36:57.658647Z",
     "start_time": "2024-05-27T09:36:57.654003Z"
    }
   },
   "source": [
    "def qubit_spectrum(parameters, data_set, out='error'):\n",
    "    C_int_12, C_int_23, C_int_13 = parameters\n",
    "    CF_1, LF_1, EJ_1, CF_2, LF_2, EJ_2, CF_3, LF_3, EJ_3, φ_ext_values, y__tt_q1_q2, nmax_f  = data_set\n",
    "\n",
    "    qubit_1 = sq_ext.sq_fluxonium(C_F_eff=CF_1, L_F_eff=LF_1, EJ=EJ_1, nmax_f=nmax_f)\n",
    "    H_1 = qubit_1.hamiltonian()\n",
    "    Q_1 = qubit_1.charge_op(0)\n",
    "    I = qt.identity(H_1.shape[0])\n",
    "    \n",
    "    # I have checked that it we assume that qubit_3 is off resonance we can neglect its contribution\n",
    "    qubit_3 = sq_ext.sq_fluxonium(C_F_eff=CF_3, L_F_eff=LF_3, EJ=EJ_3, nmax_f=nmax_f, φ_ext=1)\n",
    "    H_3 = qubit_3.hamiltonian()\n",
    "    Q_3 = qubit_3.charge_op(0)\n",
    "    print(sq_ext.diag(H_3,2,remove_ground=True)[0][1])\n",
    "    \n",
    "    qubit_2 = sq_ext.sq_fluxonium(C_F_eff=CF_2, L_F_eff=LF_2, EJ=EJ_2, nmax_f=nmax_f)\n",
    "    loop = qubit_2.loops[0]\n",
    "    \n",
    "    ω_vs_φ_ext = np.zeros([len(φ_ext_values),2])\n",
    "    for i, φ_ext in enumerate(φ_ext_values):\n",
    "        loop.set_flux(φ_ext)\n",
    "        H_2 = qubit_2.hamiltonian()\n",
    "        Q_2 = qubit_2.charge_op(0)\n",
    "        H = qt.tensor(H_1, I) + qt.tensor(I,H_2) + C_int_12 **-1 * fF ** -1 * qt.tensor(Q_1, Q_2)\n",
    "        H = (qt.tensor(H_1, I, I) + qt.tensor(I, H_2, I) + qt.tensor(I, I, H_3) + \n",
    "             C_int_12 **-1 * fF ** -1 * qt.tensor(Q_1, Q_2, I) + \n",
    "             C_int_23 **-1 * fF ** -1 * qt.tensor(I, Q_2, Q_3) + \n",
    "             C_int_13 **-1 * fF ** -1 * qt.tensor(Q_1, I, Q_3))\n",
    "        ω_vs_φ_ext[i] = sq_ext.diag(H, 3, remove_ground=True)[0][1:]\n",
    "\n",
    "    if out == 'error':\n",
    "        error = np.sum((ω_vs_φ_ext - ω_exp * 1e-9) ** 2)\n",
    "        print(error)\n",
    "        return error\n",
    "\n",
    "    elif out == 'spectrum':\n",
    "        return φ_ext_values, ω_vs_φ_ext * 1e9\n",
    "    \n"
   ],
   "outputs": []
  },
  {
   "cell_type": "code",
   "execution_count": 77,
   "id": "7de7f19a4f03841f",
   "metadata": {
    "ExecuteTime": {
     "end_time": "2024-05-27T09:36:58.649029Z",
     "start_time": "2024-05-27T09:36:58.646096Z"
    }
   },
   "source": [
    "CF_1, LF_1, EJ_1, I0_F_1, I_origin_F_1= np.load(os.getcwd() + opt_dir +  'qubit_1' + '.npz')['parameters_opt']\n",
    "CF_2, LF_2, EJ_2, I0_F_2, I_origin_F_2= np.load(os.getcwd() + opt_dir +  'qubit_2' + '.npz')['parameters_opt']\n",
    "CF_3, LF_3, EJ_3, I0_F_3, I_origin_F_3= np.load(os.getcwd() + opt_dir +  'qubit_3' + '.npz')['parameters_opt']\n",
    "LF_1-=0.045\n"
   ],
   "outputs": []
  },
  {
   "cell_type": "code",
   "execution_count": 78,
   "id": "e99a59a0a2a709ef",
   "metadata": {
    "ExecuteTime": {
     "end_time": "2024-05-27T09:37:03.591192Z",
     "start_time": "2024-05-27T09:36:59.177654Z"
    }
   },
   "source": [
    "φ_ext_values = np.linspace(0.5, 0.5325, 50)\n",
    "C_int_12 = 4500\n",
    "C_int_23 = C_int_12 \n",
    "C_int_13 = C_int_12 \n",
    "nmax_f=15\n",
    "data_set = [CF_1, LF_1, EJ_1, CF_2, LF_2, EJ_2, CF_3, LF_3, EJ_3, φ_ext_values, y__tt_q1_q2, nmax_f]\n",
    "parameters = [C_int_12, C_int_23, C_int_13]\n",
    "\n",
    "# C_int = 1200\n",
    "φ_ext_values, ω_vs_φ_ext = qubit_spectrum(parameters, data_set, out='spectrum')"
   ],
   "outputs": []
  },
  {
   "cell_type": "code",
   "execution_count": 79,
   "id": "f6f5d2caa10a7a10",
   "metadata": {
    "ExecuteTime": {
     "end_time": "2024-05-27T09:37:04.074547Z",
     "start_time": "2024-05-27T09:37:04.004333Z"
    }
   },
   "source": [
    "fig, ax = plt.subplots()\n",
    "\n",
    "\n",
    "# ax.plot((x__tt_q1_q2-x__tt_q1_q2.min())/(x__tt_q1_q2.max()-x__tt_q1_q2.min())/2+0.5, y__tt_q1_q2*1e9, 'x')\n",
    "ax.plot((x__tt_q1_q2-x__tt_q1_q2.min())/(x__tt_q1_q2.max()-x__tt_q1_q2.min()) * (φ_ext_values.max()- φ_ext_values.min())+0.5, y__tt_q1_q2*1e9, 'x')\n",
    "ax.plot(φ_ext_values, ω_vs_φ_ext, 'k')\n",
    "# ax.plot(φ_ext_values, (ω_vs_φ_ext-3.701e9)*0.085+3.701e9, '.k')\n",
    "ax.set_ylim([3.675e9,3.725e9])\n",
    "ax.set_ylabel('Frequency (GHz)')\n",
    "ax.set_xlabel('Sweep parameter (a.u.)')\n",
    "\n",
    "fig.tight_layout()"
   ],
   "outputs": []
  },
  {
   "cell_type": "code",
   "execution_count": 42,
   "id": "91191e49011a31bd",
   "metadata": {
    "ExecuteTime": {
     "end_time": "2024-05-27T09:31:58.987931Z",
     "start_time": "2024-05-27T09:31:58.920217Z"
    }
   },
   "source": [
    "fig, ax = plt.subplots()\n",
    "\n",
    "\n",
    "# ax.plot((x__tt_q1_q2-x__tt_q1_q2.min())/(x__tt_q1_q2.max()-x__tt_q1_q2.min())/2+0.5, y__tt_q1_q2*1e9, 'x')\n",
    "ax.plot((x__tt_q1_q2-x__tt_q1_q2.min())/(x__tt_q1_q2.max()-x__tt_q1_q2.min()) * (φ_ext_values.max()- φ_ext_values.min())+0.5, y__tt_q1_q2*1e9, 'x')\n",
    "ax.plot(φ_ext_values, ω_vs_φ_ext, 'k')\n",
    "# ax.plot(φ_ext_values, (ω_vs_φ_ext-3.701e9)*0.085+3.701e9, '.k')\n",
    "ax.set_ylim([3.675e9,3.725e9])\n",
    "ax.set_ylabel('Frequency (GHz)')\n",
    "ax.set_xlabel('Sweep parameter (a.u.)')\n",
    "\n",
    "fig.tight_layout()"
   ],
   "outputs": []
  },
  {
   "cell_type": "code",
   "execution_count": 573,
   "id": "f72fcfe5794fc92",
   "metadata": {
    "ExecuteTime": {
     "end_time": "2024-05-26T17:54:40.682264600Z",
     "start_time": "2024-05-26T17:54:39.969802700Z"
    }
   },
   "source": [
    "φ_ext_values = np.linspace(0.5, 0.5325, 100)\n",
    "CF_1, LF_1, EJ_1, I0_F_1, I_origin_F_1= np.load(os.getcwd() + opt_dir +  'qubit_1' + '.npz')['parameters_opt']\n",
    "LF_1-=0.045\n",
    "data_set = [CF_1, LF_1, EJ_1, CF_2, LF_2, EJ_2, φ_ext_values, y__tt_q1_q2, nmax_f]\n",
    "C_int = 1200\n",
    "φ_ext_values, ω_vs_φ_ext = qubit_spectrum(C_int, data_set, out='spectrum')"
   ],
   "outputs": []
  },
  {
   "cell_type": "code",
   "execution_count": 575,
   "id": "5ed9b83d7a24e711",
   "metadata": {
    "ExecuteTime": {
     "end_time": "2024-05-26T17:54:56.617772900Z",
     "start_time": "2024-05-26T17:54:56.421363900Z"
    }
   },
   "source": [
    "fig, ax = plt.subplots()\n",
    "# ax.plot((x__tt_q1_q2-x__tt_q1_q2.min())/(x__tt_q1_q2.max()-x__tt_q1_q2.min())/2+0.5, y__tt_q1_q2*1e9, 'x')\n",
    "ax.plot((x__tt_q1_q2-x__tt_q1_q2.min())/(x__tt_q1_q2.max()-x__tt_q1_q2.min()) * (φ_ext_values.max()- φ_ext_values.min())+0.5, y__tt_q1_q2*1e9, 'x')\n",
    "# ax.plot(φ_ext_values, ω_vs_φ_ext, '.k')\n",
    "ax.plot(φ_ext_values, (ω_vs_φ_ext-3.701e9)*0.085+3.701e9, 'k')\n",
    "ax.set_ylim([3.675e9,3.725e9])\n",
    "ax.set_ylabel('Frequency (GHz)')\n",
    "ax.set_xlabel('Sweep parameter (a.u.)')\n",
    "\n",
    "fig.tight_layout()"
   ],
   "outputs": []
  },
  {
   "cell_type": "code",
   "execution_count": null,
   "id": "7f8e76d968c8f029",
   "metadata": {},
   "source": [],
   "outputs": []
  }
 ],
 "metadata": {
  "kernelspec": {
   "display_name": "Python 3 (ipykernel)",
   "language": "python",
   "name": "python3"
  },
  "language_info": {
   "codemirror_mode": {
    "name": "ipython",
    "version": 3
   },
   "file_extension": ".py",
   "mimetype": "text/x-python",
   "name": "python",
   "nbconvert_exporter": "python",
   "pygments_lexer": "ipython3",
   "version": "3.8.18"
  }
 },
 "nbformat": 4,
 "nbformat_minor": 5
}
