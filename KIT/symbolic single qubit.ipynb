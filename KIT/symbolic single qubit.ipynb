{
 "cells": [
  {
   "cell_type": "code",
   "execution_count": 1,
   "metadata": {
    "collapsed": true,
    "ExecuteTime": {
     "end_time": "2023-11-13T18:19:32.443297200Z",
     "start_time": "2023-11-13T18:19:31.581045600Z"
    }
   },
   "outputs": [],
   "source": [
    "from sympy import *\n",
    "import numpy as np\n",
    "import matplotlib.pyplot as plt\n",
    "import scipy as sp"
   ]
  },
  {
   "cell_type": "markdown",
   "source": [
    "# Hamiltonian transformation to fluxonium and resonator modes"
   ],
   "metadata": {
    "collapsed": false
   }
  },
  {
   "cell_type": "code",
   "execution_count": 2,
   "outputs": [],
   "source": [
    "# Fundamental constants\n",
    "h    = 6.62607015e-34\n",
    "GHz  = 1e9\n",
    "e0   = 1.602176634e-19\n",
    "Φ_0 = h/(2*e0)"
   ],
   "metadata": {
    "collapsed": false,
    "ExecuteTime": {
     "end_time": "2023-11-07T12:15:58.528644100Z",
     "start_time": "2023-11-07T12:15:58.517065900Z"
    }
   }
  },
  {
   "cell_type": "code",
   "execution_count": 3,
   "outputs": [
    {
     "data": {
      "text/plain": "-4*Delta**2 + L_q**2 + 4*L_q*L_r",
      "text/latex": "$\\displaystyle - 4 \\Delta^{2} + L_{q}^{2} + 4 L_{q} L_{r}$"
     },
     "execution_count": 3,
     "metadata": {},
     "output_type": "execute_result"
    }
   ],
   "source": [
    "c, cJ, Lq, Lr, Δ = symbols('C, C_J^{\\'}, L_q, L_r, Delta', real=True, positive=True, nonzero=True)\n",
    "Lp = Lq/2 + Δ\n",
    "Lm = Lq/2 - Δ\n",
    "γ = simplify( 1/(Lp*Lm) / (1/Lr + 1/Lp + 1/Lm) )\n",
    "# print_latex(γ)\n",
    "γ\n",
    "l = 4*Lr/γ\n",
    "l"
   ],
   "metadata": {
    "collapsed": false,
    "ExecuteTime": {
     "end_time": "2023-11-07T12:15:58.803791300Z",
     "start_time": "2023-11-07T12:15:58.531339500Z"
    }
   }
  },
  {
   "cell_type": "code",
   "execution_count": 4,
   "outputs": [],
   "source": [
    "L = Matrix([[ 1/Lm,      0,  -1/Lm             ],\n",
    "            [    0,   1/Lp,  -1/Lp             ],\n",
    "            [-1/Lm,  -1/Lp,  1/Lr + 1/Lp + 1/Lm]])\n",
    "\n",
    "P1 = Matrix([[ 1,        0,  0],\n",
    "             [ 0,        1,  0],\n",
    "             [ γ*Lp,  γ*Lm,  0]])\n",
    "\n",
    "C = Matrix([[c+cJ,   -cJ],\n",
    "            [ -cJ,  c+cJ]])\n",
    "\n",
    "P2 = 0.5 * Matrix([[ 1,   1],\n",
    "                   [ 1,  -1]])"
   ],
   "metadata": {
    "collapsed": false,
    "ExecuteTime": {
     "end_time": "2023-11-07T12:15:58.813641300Z",
     "start_time": "2023-11-07T12:15:58.812122600Z"
    }
   }
  },
  {
   "cell_type": "code",
   "execution_count": 5,
   "outputs": [],
   "source": [
    "C1 = C"
   ],
   "metadata": {
    "collapsed": false,
    "ExecuteTime": {
     "end_time": "2023-11-07T12:16:08.614024500Z",
     "start_time": "2023-11-07T12:16:08.573903100Z"
    }
   }
  },
  {
   "cell_type": "code",
   "execution_count": 6,
   "outputs": [
    {
     "data": {
      "text/plain": "Matrix([\n[2*(-2*Delta - L_q - 2*L_r)/(4*Delta**2 - L_q**2 - 4*L_q*L_r),                     4*L_r/(4*Delta**2 - L_q**2 - 4*L_q*L_r)],\n[                     4*L_r/(4*Delta**2 - L_q**2 - 4*L_q*L_r), 2*(2*Delta - L_q - 2*L_r)/(4*Delta**2 - L_q**2 - 4*L_q*L_r)]])",
      "text/latex": "$\\displaystyle \\left[\\begin{matrix}\\frac{2 \\left(- 2 \\Delta - L_{q} - 2 L_{r}\\right)}{4 \\Delta^{2} - L_{q}^{2} - 4 L_{q} L_{r}} & \\frac{4 L_{r}}{4 \\Delta^{2} - L_{q}^{2} - 4 L_{q} L_{r}}\\\\\\frac{4 L_{r}}{4 \\Delta^{2} - L_{q}^{2} - 4 L_{q} L_{r}} & \\frac{2 \\cdot \\left(2 \\Delta - L_{q} - 2 L_{r}\\right)}{4 \\Delta^{2} - L_{q}^{2} - 4 L_{q} L_{r}}\\end{matrix}\\right]$"
     },
     "execution_count": 6,
     "metadata": {},
     "output_type": "execute_result"
    }
   ],
   "source": [
    "L1 = nsimplify(simplify( P1.T * L * P1) )\n",
    "L1 = L1[0:2,0:2]\n",
    "L1"
   ],
   "metadata": {
    "collapsed": false,
    "ExecuteTime": {
     "end_time": "2023-11-07T12:16:09.497302500Z",
     "start_time": "2023-11-07T12:16:09.242444100Z"
    }
   }
  },
  {
   "cell_type": "code",
   "execution_count": 7,
   "outputs": [
    {
     "data": {
      "text/plain": "Matrix([\n[C/2,             0],\n[  0, C/2 + C_J^{'}]])",
      "text/latex": "$\\displaystyle \\left[\\begin{matrix}\\frac{C}{2} & 0\\\\0 & \\frac{C}{2} + C_J^{'}\\end{matrix}\\right]$"
     },
     "execution_count": 7,
     "metadata": {},
     "output_type": "execute_result"
    }
   ],
   "source": [
    "C2 = nsimplify(simplify( P2.T * C1 * P2) )\n",
    "C2"
   ],
   "metadata": {
    "collapsed": false,
    "ExecuteTime": {
     "end_time": "2023-11-07T12:16:40.137883800Z",
     "start_time": "2023-11-07T12:16:40.118926600Z"
    }
   }
  },
  {
   "cell_type": "code",
   "execution_count": 8,
   "outputs": [
    {
     "data": {
      "text/plain": "Matrix([\n[    L_q/(-4*Delta**2 + L_q**2 + 4*L_q*L_r),       2*Delta/(-4*Delta**2 + L_q**2 + 4*L_q*L_r)],\n[2*Delta/(-4*Delta**2 + L_q**2 + 4*L_q*L_r), (L_q + 4*L_r)/(-4*Delta**2 + L_q**2 + 4*L_q*L_r)]])",
      "text/latex": "$\\displaystyle \\left[\\begin{matrix}\\frac{L_{q}}{- 4 \\Delta^{2} + L_{q}^{2} + 4 L_{q} L_{r}} & \\frac{2 \\Delta}{- 4 \\Delta^{2} + L_{q}^{2} + 4 L_{q} L_{r}}\\\\\\frac{2 \\Delta}{- 4 \\Delta^{2} + L_{q}^{2} + 4 L_{q} L_{r}} & \\frac{L_{q} + 4 L_{r}}{- 4 \\Delta^{2} + L_{q}^{2} + 4 L_{q} L_{r}}\\end{matrix}\\right]$"
     },
     "execution_count": 8,
     "metadata": {},
     "output_type": "execute_result"
    }
   ],
   "source": [
    "L2 = nsimplify(simplify( P2.T * L1 * P2) )\n",
    "L2"
   ],
   "metadata": {
    "collapsed": false,
    "ExecuteTime": {
     "end_time": "2023-11-07T12:17:01.931100800Z",
     "start_time": "2023-11-07T12:17:01.353839800Z"
    }
   }
  },
  {
   "cell_type": "code",
   "execution_count": 9,
   "outputs": [
    {
     "data": {
      "text/plain": "(0.00720838819651165, 0.00630355261686479)"
     },
     "execution_count": 9,
     "metadata": {},
     "output_type": "execute_result"
    }
   ],
   "source": [
    "w1 = 1/sqrt(C2[0,0]*L2[0,0]**-1)\n",
    "w2 = 1/sqrt(C2[1,1]*L2[1,1]**-1)\n",
    "(w1/2/np.pi).subs({c:15, cJ:18, Lq:25, Lr:10, Δ:0.1}).evalf(), (w2/2/np.pi).subs({c:15, cJ:18, Lq:25, Lr:10, Δ:0.1}).evalf()"
   ],
   "metadata": {
    "collapsed": false,
    "ExecuteTime": {
     "end_time": "2023-11-07T12:18:15.053958700Z",
     "start_time": "2023-11-07T12:18:15.004470100Z"
    }
   }
  },
  {
   "cell_type": "code",
   "execution_count": 13,
   "outputs": [],
   "source": [
    "P3, D = (C2**-1 * L2 ).diagonalize()"
   ],
   "metadata": {
    "collapsed": false,
    "ExecuteTime": {
     "end_time": "2023-08-11T08:20:48.943361800Z",
     "start_time": "2023-08-11T08:20:48.205703700Z"
    }
   }
  },
  {
   "cell_type": "code",
   "execution_count": 14,
   "outputs": [
    {
     "data": {
      "text/plain": "Matrix([\n[C/2 + C_J^{'} + (-2*C*L_r + C_J^{'}*L_q + sqrt(4*C**2*Delta**2 + 4*C**2*L_r**2 + 8*C*C_J^{'}*Delta**2 - 4*C*C_J^{'}*L_q*L_r + C_J^{'}**2*L_q**2))**2/(8*C*Delta**2),                                                                                                                                                                  0],\n[                                                                                                                                                                  0, C/2 + C_J^{'} + (2*C*L_r - C_J^{'}*L_q + sqrt(4*C**2*Delta**2 + 4*C**2*L_r**2 + 8*C*C_J^{'}*Delta**2 - 4*C*C_J^{'}*L_q*L_r + C_J^{'}**2*L_q**2))**2/(8*C*Delta**2)]])",
      "text/latex": "$\\displaystyle \\left[\\begin{matrix}\\frac{C}{2} + C_J^{'} + \\frac{\\left(- 2 C L_{r} + C_J^{'} L_{q} + \\sqrt{4 C^{2} \\Delta^{2} + 4 C^{2} L_{r}^{2} + 8 C C_J^{'} \\Delta^{2} - 4 C C_J^{'} L_{q} L_{r} + \\left(C_J^{'}\\right)^{2} L_{q}^{2}}\\right)^{2}}{8 C \\Delta^{2}} & 0\\\\0 & \\frac{C}{2} + C_J^{'} + \\frac{\\left(2 C L_{r} - C_J^{'} L_{q} + \\sqrt{4 C^{2} \\Delta^{2} + 4 C^{2} L_{r}^{2} + 8 C C_J^{'} \\Delta^{2} - 4 C C_J^{'} L_{q} L_{r} + \\left(C_J^{'}\\right)^{2} L_{q}^{2}}\\right)^{2}}{8 C \\Delta^{2}}\\end{matrix}\\right]$"
     },
     "execution_count": 14,
     "metadata": {},
     "output_type": "execute_result"
    }
   ],
   "source": [
    "C3 = nsimplify(simplify( P3.T * C2 * P3 ) )\n",
    "C3"
   ],
   "metadata": {
    "collapsed": false,
    "ExecuteTime": {
     "end_time": "2023-08-11T08:20:49.163072800Z",
     "start_time": "2023-08-11T08:20:48.943361800Z"
    }
   }
  },
  {
   "cell_type": "code",
   "execution_count": 15,
   "outputs": [
    {
     "data": {
      "text/plain": "Matrix([\n[(4*C**2*Delta**2*(L_q + 4*L_r) + 4*C*Delta**2*(-2*C*L_r + C_J^{'}*L_q + sqrt(4*C**2*Delta**2 + 4*C**2*L_r**2 + 8*C*C_J^{'}*Delta**2 - 4*C*C_J^{'}*L_q*L_r + C_J^{'}**2*L_q**2)) + (4*C*Delta**2 + L_q*(-2*C*L_r + C_J^{'}*L_q + sqrt(4*C**2*Delta**2 + 4*C**2*L_r**2 + 8*C*C_J^{'}*Delta**2 - 4*C*C_J^{'}*L_q*L_r + C_J^{'}**2*L_q**2)))*(-2*C*L_r + C_J^{'}*L_q + sqrt(4*C**2*Delta**2 + 4*C**2*L_r**2 + 8*C*C_J^{'}*Delta**2 - 4*C*C_J^{'}*L_q*L_r + C_J^{'}**2*L_q**2)))/(4*C**2*Delta**2*(-4*Delta**2 + L_q**2 + 4*L_q*L_r)),                                                                                                                                                                                                                                                                                                                                                                                                                                                                                                                              0],\n[                                                                                                                                                                                                                                                                                                                                                                                                                                                                                                                               0, (4*C**2*Delta**2*(L_q + 4*L_r) + 4*C*Delta**2*(-2*C*L_r + C_J^{'}*L_q - sqrt(4*C**2*Delta**2 + 4*C**2*L_r**2 + 8*C*C_J^{'}*Delta**2 - 4*C*C_J^{'}*L_q*L_r + C_J^{'}**2*L_q**2)) - (4*C*Delta**2 - L_q*(2*C*L_r - C_J^{'}*L_q + sqrt(4*C**2*Delta**2 + 4*C**2*L_r**2 + 8*C*C_J^{'}*Delta**2 - 4*C*C_J^{'}*L_q*L_r + C_J^{'}**2*L_q**2)))*(2*C*L_r - C_J^{'}*L_q + sqrt(4*C**2*Delta**2 + 4*C**2*L_r**2 + 8*C*C_J^{'}*Delta**2 - 4*C*C_J^{'}*L_q*L_r + C_J^{'}**2*L_q**2)))/(4*C**2*Delta**2*(-4*Delta**2 + L_q**2 + 4*L_q*L_r))]])",
      "text/latex": "$\\displaystyle \\left[\\begin{matrix}\\frac{4 C^{2} \\Delta^{2} \\left(L_{q} + 4 L_{r}\\right) + 4 C \\Delta^{2} \\left(- 2 C L_{r} + C_J^{'} L_{q} + \\sqrt{4 C^{2} \\Delta^{2} + 4 C^{2} L_{r}^{2} + 8 C C_J^{'} \\Delta^{2} - 4 C C_J^{'} L_{q} L_{r} + \\left(C_J^{'}\\right)^{2} L_{q}^{2}}\\right) + \\left(4 C \\Delta^{2} + L_{q} \\left(- 2 C L_{r} + C_J^{'} L_{q} + \\sqrt{4 C^{2} \\Delta^{2} + 4 C^{2} L_{r}^{2} + 8 C C_J^{'} \\Delta^{2} - 4 C C_J^{'} L_{q} L_{r} + \\left(C_J^{'}\\right)^{2} L_{q}^{2}}\\right)\\right) \\left(- 2 C L_{r} + C_J^{'} L_{q} + \\sqrt{4 C^{2} \\Delta^{2} + 4 C^{2} L_{r}^{2} + 8 C C_J^{'} \\Delta^{2} - 4 C C_J^{'} L_{q} L_{r} + \\left(C_J^{'}\\right)^{2} L_{q}^{2}}\\right)}{4 C^{2} \\Delta^{2} \\left(- 4 \\Delta^{2} + L_{q}^{2} + 4 L_{q} L_{r}\\right)} & 0\\\\0 & \\frac{4 C^{2} \\Delta^{2} \\left(L_{q} + 4 L_{r}\\right) + 4 C \\Delta^{2} \\left(- 2 C L_{r} + C_J^{'} L_{q} - \\sqrt{4 C^{2} \\Delta^{2} + 4 C^{2} L_{r}^{2} + 8 C C_J^{'} \\Delta^{2} - 4 C C_J^{'} L_{q} L_{r} + \\left(C_J^{'}\\right)^{2} L_{q}^{2}}\\right) - \\left(4 C \\Delta^{2} - L_{q} \\left(2 C L_{r} - C_J^{'} L_{q} + \\sqrt{4 C^{2} \\Delta^{2} + 4 C^{2} L_{r}^{2} + 8 C C_J^{'} \\Delta^{2} - 4 C C_J^{'} L_{q} L_{r} + \\left(C_J^{'}\\right)^{2} L_{q}^{2}}\\right)\\right) \\left(2 C L_{r} - C_J^{'} L_{q} + \\sqrt{4 C^{2} \\Delta^{2} + 4 C^{2} L_{r}^{2} + 8 C C_J^{'} \\Delta^{2} - 4 C C_J^{'} L_{q} L_{r} + \\left(C_J^{'}\\right)^{2} L_{q}^{2}}\\right)}{4 C^{2} \\Delta^{2} \\left(- 4 \\Delta^{2} + L_{q}^{2} + 4 L_{q} L_{r}\\right)}\\end{matrix}\\right]$"
     },
     "execution_count": 15,
     "metadata": {},
     "output_type": "execute_result"
    }
   ],
   "source": [
    "L3 = nsimplify(simplify( P3.T * L2 * P3 ) )\n",
    "L3"
   ],
   "metadata": {
    "collapsed": false,
    "ExecuteTime": {
     "end_time": "2023-08-11T08:20:49.950503900Z",
     "start_time": "2023-08-11T08:20:49.346862900Z"
    }
   }
  },
  {
   "cell_type": "markdown",
   "source": [],
   "metadata": {
    "collapsed": false
   }
  },
  {
   "cell_type": "code",
   "execution_count": 16,
   "outputs": [
    {
     "data": {
      "text/plain": "(0.00720867642830948, 0.00630322299598601)"
     },
     "execution_count": 16,
     "metadata": {},
     "output_type": "execute_result"
    }
   ],
   "source": [
    "w1 = 1/sqrt(C3[0,0]*L3[0,0]**-1)\n",
    "w2 = 1/sqrt(C3[1,1]*L3[1,1]**-1)\n",
    "(w1/2/np.pi).subs({c:15, cJ:18, Lq:25, Lr:10, Δ:0.1}).evalf(),  (w2/2/np.pi).subs({c:15, cJ:18, Lq:25, Lr:10, Δ:0.1}).evalf()"
   ],
   "metadata": {
    "collapsed": false,
    "ExecuteTime": {
     "end_time": "2023-08-11T08:20:51.392705Z",
     "start_time": "2023-08-11T08:20:51.168842300Z"
    }
   }
  },
  {
   "cell_type": "code",
   "execution_count": 31,
   "outputs": [
    {
     "data": {
      "text/plain": "(sqrt(3060*Delta**2 + 22500) + 150)/(30*Delta)",
      "text/latex": "$\\displaystyle \\frac{\\sqrt{3060 \\Delta^{2} + 22500} + 150}{30 \\Delta}$"
     },
     "execution_count": 31,
     "metadata": {},
     "output_type": "execute_result"
    }
   ],
   "source": [
    "(P3[0,0]).subs({c:15, cJ:18, Lq:25, Lr:10, Δ:0.1}).evalf()\n",
    "(P3[0,0]).subs({c:15, cJ:18, Lq:25, Lr:10})"
   ],
   "metadata": {
    "collapsed": false,
    "ExecuteTime": {
     "end_time": "2023-08-11T08:52:10.223627300Z",
     "start_time": "2023-08-11T08:52:10.207992300Z"
    }
   }
  },
  {
   "cell_type": "code",
   "execution_count": 32,
   "outputs": [
    {
     "data": {
      "text/plain": "30*Delta/(150 - sqrt(3060*Delta**2 + 22500))",
      "text/latex": "$\\displaystyle \\frac{30 \\Delta}{150 - \\sqrt{3060 \\Delta^{2} + 22500}}$"
     },
     "execution_count": 32,
     "metadata": {},
     "output_type": "execute_result"
    }
   ],
   "source": [
    "(P3[0,1]**-1).subs({c:15, cJ:18, Lq:25, Lr:10, Δ:0.1}).evalf()\n",
    "(P3[0,1]**-1).subs({c:15, cJ:18, Lq:25, Lr:10})"
   ],
   "metadata": {
    "collapsed": false,
    "ExecuteTime": {
     "end_time": "2023-08-11T08:52:19.437774500Z",
     "start_time": "2023-08-11T08:52:19.421984900Z"
    }
   }
  },
  {
   "cell_type": "code",
   "execution_count": 4,
   "outputs": [],
   "source": [
    "Φ_1, Φ_2, Φ_3 = symbols('Phi_1,Phi_2,Phi_3', real=True, positive=True, nonzero=True)\n"
   ],
   "metadata": {
    "collapsed": false,
    "ExecuteTime": {
     "end_time": "2023-08-14T09:21:25.156395700Z",
     "start_time": "2023-08-14T09:21:25.140645Z"
    }
   }
  },
  {
   "cell_type": "code",
   "execution_count": 11,
   "outputs": [
    {
     "data": {
      "text/plain": "2*L_r*(Phi_1*(2*Delta + L_q) - Phi_2*(2*Delta - L_q))/(-4*Delta**2 + L_q**2 + 4*L_q*L_r)",
      "text/latex": "$\\displaystyle \\frac{2 L_{r} \\left(\\Phi_{1} \\cdot \\left(2 \\Delta + L_{q}\\right) - \\Phi_{2} \\cdot \\left(2 \\Delta - L_{q}\\right)\\right)}{- 4 \\Delta^{2} + L_{q}^{2} + 4 L_{q} L_{r}}$"
     },
     "execution_count": 11,
     "metadata": {},
     "output_type": "execute_result"
    }
   ],
   "source": [
    "simplify( 4*Lr/l*(Lp*Φ_1 + Lm*Φ_2) )"
   ],
   "metadata": {
    "collapsed": false,
    "ExecuteTime": {
     "end_time": "2023-08-14T09:25:43.749894Z",
     "start_time": "2023-08-14T09:25:43.699605300Z"
    }
   }
  },
  {
   "cell_type": "code",
   "execution_count": 10,
   "outputs": [
    {
     "data": {
      "text/plain": "2*L_r*(2*Delta*(Phi_1 - Phi_2) + L_q*(Phi_1 + Phi_2))/(-4*Delta**2 + L_q**2 + 4*L_q*L_r)",
      "text/latex": "$\\displaystyle \\frac{2 L_{r} \\left(2 \\Delta \\left(\\Phi_{1} - \\Phi_{2}\\right) + L_{q} \\left(\\Phi_{1} + \\Phi_{2}\\right)\\right)}{- 4 \\Delta^{2} + L_{q}^{2} + 4 L_{q} L_{r}}$"
     },
     "execution_count": 10,
     "metadata": {},
     "output_type": "execute_result"
    }
   ],
   "source": [
    "simplify( 2*Lr*Lq/l *(Φ_1 + Φ_2) + 4*Lr/l*Δ*(Φ_1 - Φ_2))"
   ],
   "metadata": {
    "collapsed": false,
    "ExecuteTime": {
     "end_time": "2023-08-14T09:25:41.199607800Z",
     "start_time": "2023-08-14T09:25:41.118475700Z"
    }
   }
  },
  {
   "cell_type": "code",
   "execution_count": 38,
   "outputs": [],
   "source": [
    "m = 1/2 * (c*2*Lr*Lq/l)**-1\n",
    "m = 1/2 * (c*4*Lr/l*Δ)**-1"
   ],
   "metadata": {
    "collapsed": false,
    "ExecuteTime": {
     "end_time": "2023-08-14T11:28:01.798087900Z",
     "start_time": "2023-08-14T11:28:01.785960800Z"
    }
   }
  },
  {
   "cell_type": "code",
   "execution_count": 39,
   "outputs": [],
   "source": [
    "k = 2 / Lr"
   ],
   "metadata": {
    "collapsed": false,
    "ExecuteTime": {
     "end_time": "2023-08-14T11:28:02.269959900Z",
     "start_time": "2023-08-14T11:28:02.259453500Z"
    }
   }
  },
  {
   "cell_type": "code",
   "execution_count": 44,
   "outputs": [
    {
     "data": {
      "text/plain": "0.790826887582724*I",
      "text/latex": "$\\displaystyle 0.790826887582724 i$"
     },
     "execution_count": 44,
     "metadata": {},
     "output_type": "execute_result"
    }
   ],
   "source": [
    "sqrt(k/m).subs({c:15, cJ:18, Lq:25, Lr:10, Δ:0.1}).evalf()"
   ],
   "metadata": {
    "collapsed": false,
    "ExecuteTime": {
     "end_time": "2023-08-14T11:28:17.097530300Z",
     "start_time": "2023-08-14T11:28:17.084178900Z"
    }
   }
  },
  {
   "cell_type": "code",
   "execution_count": 31,
   "outputs": [
    {
     "data": {
      "text/plain": "6.79374582071531",
      "text/latex": "$\\displaystyle 6.79374582071531$"
     },
     "execution_count": 31,
     "metadata": {},
     "output_type": "execute_result"
    }
   ],
   "source": [
    "sqrt(Lr * c*2*Lr*Lq/l).subs({c:15, cJ:18, Lq:25, Lr:10, Δ:0.1}).evalf()"
   ],
   "metadata": {
    "collapsed": false,
    "ExecuteTime": {
     "end_time": "2023-08-14T09:39:19.925485Z",
     "start_time": "2023-08-14T09:39:19.906663Z"
    }
   }
  },
  {
   "cell_type": "markdown",
   "source": [
    "# Perturbation theory of the inductive coupling between the resonator and the fluxonium"
   ],
   "metadata": {
    "collapsed": false
   }
  },
  {
   "cell_type": "code",
   "execution_count": 42,
   "outputs": [],
   "source": [
    "# Circuit parameters\n",
    "Csh = 15\n",
    "C = 15\n",
    "Cg = 10\n",
    "CJ = 3\n",
    "Lq = 25\n",
    "Lr = 10\n",
    "Δ = 0.1\n",
    "EJ = 10.0\n",
    "l = Lq * (Lq + 4 * Lr) - 4 * Δ ** 2\n",
    "\n",
    "E_J = EJ * 1e9\n",
    "L_r = l / Lq * 1e-9\n",
    "E_L_r = (Φ_0 / (2 * np.pi)) ** 2 / L_r / h\n",
    "Cf = C / 2 + Csh + CJ\n",
    "Lf = l / (Lq + 4 * Lr)\n",
    "C_f = Cf * 1e-15\n",
    "L_f = Lf * 1e-9\n",
    "Z_f = np.sqrt(L_f / C_f)\n",
    "\n",
    "mf = Lf\n",
    "m_f = L_f\n",
    "ωf = 1/np.sqrt(Lf * Cf)\n",
    "ω_f = 1/np.sqrt(L_f * C_f)\n",
    "\n",
    "Lr = l / Lq\n",
    "L_r = l / Lq * 1e-9\n",
    "Cr = C / 2\n",
    "C_r = C / 2 * 1e-15\n",
    "Z_r = np.sqrt(L_r / C_r)\n",
    "\n",
    "mr = Lr\n",
    "m_r = L_r\n",
    "ωr = 1/np.sqrt(Lr * Cr)\n",
    "ω_r = 1/np.sqrt(L_r * C_r)\n",
    "\n",
    "l_Δ = Lq*(Lq+4*Lr) - 4*Δ**2\n",
    "L_q = l_Δ / (Lq + 4 * Lr) * 1e-9\n",
    "E_L_f = (Φ_0 / (2 * np.pi)) ** 2 / L_q / h"
   ],
   "metadata": {
    "collapsed": false,
    "ExecuteTime": {
     "end_time": "2023-10-26T11:17:50.137595400Z",
     "start_time": "2023-10-26T11:17:50.124510200Z"
    }
   }
  },
  {
   "cell_type": "code",
   "execution_count": 43,
   "outputs": [],
   "source": [
    "φ_ext = 0.5"
   ],
   "metadata": {
    "collapsed": false,
    "ExecuteTime": {
     "end_time": "2023-10-26T11:17:50.643336600Z",
     "start_time": "2023-10-26T11:17:50.627509500Z"
    }
   }
  },
  {
   "cell_type": "code",
   "execution_count": 84,
   "outputs": [
    {
     "data": {
      "text/plain": "1.5280032757128938"
     },
     "execution_count": 84,
     "metadata": {},
     "output_type": "execute_result"
    }
   ],
   "source": [
    "dVdφ =  lambda φ: E_L_f*φ + E_J*np.sin(φ+np.pi)\n",
    "φ_min = sp.optimize.fsolve(dVdφ, 1)[0]\n",
    "φ_min"
   ],
   "metadata": {
    "collapsed": false,
    "ExecuteTime": {
     "end_time": "2023-10-26T11:23:26.525517700Z",
     "start_time": "2023-10-26T11:23:26.509855200Z"
    }
   }
  },
  {
   "cell_type": "code",
   "execution_count": 85,
   "outputs": [],
   "source": [
    "# Symbolic independent variable\n",
    "φ_f = symbols('varphi_f') # Phase of the fluxonium\n",
    "φ_r = symbols('varphi_r') # Phase of the fluxonium\n",
    "\n",
    "# Symbolic functions\n",
    "V_f  = Function('V_f')(φ_f)  # Fluxonium potential\n",
    "V_r  = Function('V_f')(φ_r)  # Resonator potential\n",
    "\n",
    "L = Function('L')(φ_f)    # Left and right gaussian states for the fluxonium\n",
    "R  = Function('R')(φ_f)\n",
    "\n",
    "Φ_f_0 = Function('Phi_f^0')(φ_f)  # Eigenstates of te qubit\n",
    "Φ_f_1 = Function('Phi_f^1')(φ_f)  # Eigenstates of te qubit\n",
    "Φ_r_0 = Function('Phi_r^0')(φ_r)  # Eigenstates of te qubit\n",
    "Φ_r_1 = Function('Phi_r^1')(φ_r)  # Eigenstates of te qubit"
   ],
   "metadata": {
    "collapsed": false,
    "ExecuteTime": {
     "end_time": "2023-10-26T11:23:26.759518Z",
     "start_time": "2023-10-26T11:23:26.731663900Z"
    }
   }
  },
  {
   "cell_type": "code",
   "execution_count": 86,
   "outputs": [],
   "source": [
    "# Potentials\n",
    "V_f = 0.5 * E_L_f * (φ_f) ** 2 - E_J * cos(φ_f - φ_ext * 2 * np.pi)\n",
    "V_r = 0.5 * E_L_r * φ_r **2"
   ],
   "metadata": {
    "collapsed": false,
    "ExecuteTime": {
     "end_time": "2023-10-26T11:23:27.096194500Z",
     "start_time": "2023-10-26T11:23:27.078462700Z"
    }
   }
  },
  {
   "cell_type": "code",
   "execution_count": 87,
   "outputs": [],
   "source": [
    "# Harmonic approximation wave functions of the fluxonium\n",
    "L = (m_r * ω_r * 1e-3 / pi) ** (1 / 4) * exp(-m_r * ω_r * 1e-3 * (φ_f + φ_min) ** 2 / 2)\n",
    "R = (m_r * ω_r * 1e-3 / pi) ** (1 / 4) * exp(-m_r * ω_r * 1e-3 * (φ_f - φ_min) ** 2 / 2)\n",
    "Φ_f_0 = L + R\n",
    "Φ_f_1 = L - R"
   ],
   "metadata": {
    "collapsed": false,
    "ExecuteTime": {
     "end_time": "2023-10-26T11:23:27.500916200Z",
     "start_time": "2023-10-26T11:23:27.485274Z"
    }
   }
  },
  {
   "cell_type": "code",
   "execution_count": 93,
   "outputs": [],
   "source": [
    "# Symbolic to numpy for plots\n",
    "φ_f_np = np.linspace(-2.5,2.5,100)\n",
    "\n",
    "V_f_np  = np.array([ V_f.subs([(φ_f,φ_f_np[i])]).evalf() for i in range(len(φ_f_np)) ])\n",
    "\n",
    "L_np  = np.array([ L.subs([(φ_f,φ_f_np[i])]).evalf() for i in range(len(φ_f_np)) ])\n",
    "R_np  = np.array([ R.subs([(φ_f,φ_f_np[i])]).evalf() for i in range(len(φ_f_np)) ])\n",
    "\n",
    "Φ_f_0_np = np.array([ Φ_f_0.subs([(φ_f,φ_f_np[i])]).evalf() for i in range(len(φ_f_np)) ])\n",
    "Φ_f_1_np = np.array([ Φ_f_1.subs([(φ_f,φ_f_np[i])]).evalf() for i in range(len(φ_f_np)) ])\n"
   ],
   "metadata": {
    "collapsed": false,
    "ExecuteTime": {
     "end_time": "2023-10-26T12:46:36.734131900Z",
     "start_time": "2023-10-26T12:46:36.140932Z"
    }
   }
  },
  {
   "cell_type": "code",
   "execution_count": 94,
   "outputs": [
    {
     "data": {
      "text/plain": "<Figure size 900x675 with 1 Axes>",
      "image/png": "[encoded data removed]"
     },
     "metadata": {},
     "output_type": "display_data"
    }
   ],
   "source": [
    "# Potential plots\n",
    "fig, ax = plt.subplots(ncols=1, nrows=1,figsize=(6*1.5, 4.5*1.5))\n",
    "ax.set_xlabel(r'$\\varphi$ ')\n",
    "ax.set_ylabel(r'$V_f(\\varphi)$ ')\n",
    "\n",
    "ax.plot( φ_f_np, (V_f_np-V_f_np.min())/1e9,  color = 'k', linewidth = 2 )\n",
    "ax.plot( φ_f_np, Φ_f_0_np**2,  color = 'r', linewidth = 2 )\n",
    "ax.plot( φ_f_np, Φ_f_1_np**2,  color = 'b', linewidth = 2 )\n",
    "plt.show()"
   ],
   "metadata": {
    "collapsed": false,
    "ExecuteTime": {
     "end_time": "2023-10-26T12:46:37.194130800Z",
     "start_time": "2023-10-26T12:46:37.067351700Z"
    }
   }
  },
  {
   "cell_type": "code",
   "execution_count": 32,
   "outputs": [],
   "source": [
    "Lq, Lr, Lq_prime, Lr_prime, Δ, x, y = symbols('Lq Lr Lq\\' Lr\\' \\Delta x y')"
   ],
   "metadata": {
    "collapsed": false,
    "ExecuteTime": {
     "end_time": "2023-11-13T19:22:32.697459300Z",
     "start_time": "2023-11-13T19:22:32.665673Z"
    }
   }
  },
  {
   "cell_type": "code",
   "execution_count": 33,
   "outputs": [],
   "source": [
    "eq1 = Eq( Lq*(Lq+4*Lr) / (Lq+4*Lr), (Lq_prime*(Lq_prime+4*Lr_prime)-4*Δ**2)/(Lq_prime+4*Lr_prime))\n",
    "eq2 = Eq( Lq*(Lq+4*Lr) / Lq,        (Lq_prime*(Lq_prime+4*Lr_prime)-4*Δ**2)/(Lq_prime))\n",
    "\n",
    "# Solve the equations\n",
    "solution = solve((eq1, eq2), (Lq_prime, Lr_prime))"
   ],
   "metadata": {
    "collapsed": false,
    "ExecuteTime": {
     "end_time": "2023-11-13T19:22:41.452951600Z",
     "start_time": "2023-11-13T19:22:40.443323400Z"
    }
   }
  },
  {
   "cell_type": "code",
   "execution_count": 36,
   "outputs": [
    {
     "data": {
      "text/plain": "-0.000615369468201621",
      "text/latex": "$\\displaystyle -0.000615369468201621$"
     },
     "execution_count": 36,
     "metadata": {},
     "output_type": "execute_result"
    }
   ],
   "source": [
    "solution[0][0].subs({Lq:25, Lr:10, Δ:0.1})"
   ],
   "metadata": {
    "collapsed": false,
    "ExecuteTime": {
     "end_time": "2023-11-13T19:22:57.988578500Z",
     "start_time": "2023-11-13T19:22:57.972723300Z"
    }
   }
  },
  {
   "cell_type": "code",
   "execution_count": 45,
   "outputs": [
    {
     "data": {
      "text/plain": "((Lq*(Lq + 4*Lr) + sqrt(Lq*(Lq + 4*Lr)*(Lq**2 + 4*Lq*Lr + 16*\\Delta**2)))/(2*(Lq + 4*Lr)),\n Lr*(Lq*(Lq + 4*Lr) + sqrt(Lq*(Lq + 4*Lr)*(Lq**2 + 4*Lq*Lr + 16*\\Delta**2)))/(2*Lq*(Lq + 4*Lr)))"
     },
     "execution_count": 45,
     "metadata": {},
     "output_type": "execute_result"
    }
   ],
   "source": [
    "solution[1]#[1].subs({Lq:25, Lr:10, Δ:0.1})"
   ],
   "metadata": {
    "collapsed": false,
    "ExecuteTime": {
     "end_time": "2023-11-13T19:24:40.976582500Z",
     "start_time": "2023-11-13T19:24:40.945433100Z"
    }
   }
  },
  {
   "cell_type": "code",
   "execution_count": null,
   "outputs": [],
   "source": [],
   "metadata": {
    "collapsed": false
   }
  }
 ],
 "metadata": {
  "kernelspec": {
   "display_name": "Python 3",
   "language": "python",
   "name": "python3"
  },
  "language_info": {
   "codemirror_mode": {
    "name": "ipython",
    "version": 2
   },
   "file_extension": ".py",
   "mimetype": "text/x-python",
   "name": "python",
   "nbconvert_exporter": "python",
   "pygments_lexer": "ipython2",
   "version": "2.7.6"
  }
 },
 "nbformat": 4,
 "nbformat_minor": 0
}
