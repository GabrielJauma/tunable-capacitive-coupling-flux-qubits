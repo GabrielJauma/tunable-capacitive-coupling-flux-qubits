{
 "cells": [
  {
   "cell_type": "code",
   "execution_count": 23,
   "id": "initial_id",
   "metadata": {
    "collapsed": true,
    "ExecuteTime": {
     "end_time": "2024-03-06T19:59:24.472813700Z",
     "start_time": "2024-03-06T19:59:24.457523400Z"
    }
   },
   "outputs": [],
   "source": [
    "import Modules.SQcircuit_extensions as sq_ext\n",
    "import Modules.figures as figs\n",
    "import SQcircuit as sq\n",
    "import numpy as np\n",
    "import matplotlib.pyplot as plt\n",
    "import importlib\n",
    "import qutip as qt\n",
    "import scipy as sp\n",
    "import sympy as sym\n",
    "\n",
    "\n",
    "%matplotlib ipympl\n",
    "plt.rcParams['text.usetex'] = False\n",
    "importlib.reload(sq_ext)\n",
    "importlib.reload(sq)\n",
    "importlib.reload(figs)\n",
    "np.set_printoptions(linewidth=300, formatter={'float': '{:.4f}'.format})\n",
    "GHz = 1e9"
   ]
  },
  {
   "cell_type": "code",
   "outputs": [],
   "source": [],
   "metadata": {
    "collapsed": false
   },
   "id": "ec523e15f9d46a9a"
  },
  {
   "cell_type": "code",
   "outputs": [
    {
     "data": {
      "text/plain": "array([[0, 0, 0],\n       [1, 0, 0],\n       [0, 1, 0],\n       [2, 0, 0],\n       [0, 2, 0],\n       [0, 0, 1]])"
     },
     "execution_count": 55,
     "metadata": {},
     "output_type": "execute_result"
    }
   ],
   "source": [
    "def get_unique_energy_indices_generalized(E_combined, E_elements):\n",
    "    indices_combinations = list(product(*[range(len(e)) for e in E_elements]))\n",
    "    \n",
    "    total_energies = [sum(E_elements[i][indices[i]] for i in range(len(E_elements))) for indices in indices_combinations]\n",
    "    \n",
    "    # Dictionary to store already found index combinations for each energy level\n",
    "    used_combinations = {E: [] for E in set(E_combined)}\n",
    "    \n",
    "    matched_indices = []\n",
    "    for E in E_combined:\n",
    "        differences = np.abs(np.array(total_energies) - E)\n",
    "        sorted_diff_indices = np.argsort(differences)\n",
    "        \n",
    "        # Find the closest match that has not been used yet\n",
    "        for idx in sorted_diff_indices:\n",
    "            if indices_combinations[idx] not in used_combinations[E]:\n",
    "                matched_indices.append(indices_combinations[idx])\n",
    "                used_combinations[E].append(indices_combinations[idx])\n",
    "                break\n",
    "        else:\n",
    "            # If all combinations have been used or no match found within tolerance\n",
    "            matched_indices.append(tuple([-123] * len(E_elements)))\n",
    "\n",
    "    return np.array(matched_indices)\n",
    "\n",
    "\n",
    "def correctly_reorganize_matched_indices(E_combined, matched_indices):\n",
    "    # Identify degenerate energy levels and their indices\n",
    "    unique, counts = np.unique(E_combined, return_counts=True)\n",
    "    degenerate_levels = unique[counts > 1]\n",
    "\n",
    "    for level in degenerate_levels:\n",
    "        degenerate_indices = np.where(E_combined == level)[0]\n",
    "        # Extract the matched indices for these degenerate levels\n",
    "        degenerate_matched_indices = matched_indices[degenerate_indices]\n",
    "        \n",
    "        # Define a custom sort function that prioritizes the first non-zero index\n",
    "        def sort_key(x):\n",
    "            for i, xi in enumerate(x):\n",
    "                if xi > 0:\n",
    "                    return (i, xi)\n",
    "            return (len(x), 0)  # Handle the case where all elements are zero\n",
    "\n",
    "        # Sort based on the custom key\n",
    "        sorted_indices = sorted(range(len(degenerate_matched_indices)), key=lambda i: sort_key(degenerate_matched_indices[i]))\n",
    "        \n",
    "        # Reassign sorted matched indices back to the original array\n",
    "        matched_indices[degenerate_indices] = degenerate_matched_indices[sorted_indices]\n",
    "\n",
    "    return matched_indices\n",
    "\n",
    "\n",
    "E_combined = np.array([0, 1, 1, 2, 2, 2])\n",
    "E_elements = [np.array([0, 1, 2]), np.array([0, 1, 2]), np.array([0, 2, 4])]\n",
    "\n",
    "# First, obtain matched indices using the existing approach\n",
    "matched_indices = get_unique_energy_indices_generalized(E_combined, E_elements)\n",
    "\n",
    "# Then, reorganize matched indices for degenerate energy levels\n",
    "reorganized_matched_indices = correctly_reorganize_matched_indices(E_combined, matched_indices)\n",
    "reorganized_matched_indices"
   ],
   "metadata": {
    "collapsed": false,
    "ExecuteTime": {
     "end_time": "2024-03-06T23:12:17.444251800Z",
     "start_time": "2024-03-06T23:12:17.415012400Z"
    }
   },
   "id": "312ca12fdca60464",
   "execution_count": 55
  },
  {
   "cell_type": "code",
   "outputs": [
    {
     "data": {
      "text/plain": "array([0.0000, 1.9454, 6.1611, 7.2085, 9.1539, 10.7929])"
     },
     "execution_count": 26,
     "metadata": {},
     "output_type": "execute_result"
    }
   ],
   "source": [
    "sq_ext.diag(sq_ext.hamiltonian_qubit(), 6, out='GHz', remove_ground=True)[0]"
   ],
   "metadata": {
    "collapsed": false,
    "ExecuteTime": {
     "end_time": "2024-03-06T20:01:11.922517900Z",
     "start_time": "2024-03-06T20:01:11.887631Z"
    }
   },
   "id": "698663eb8c669c4f",
   "execution_count": 26
  },
  {
   "cell_type": "code",
   "outputs": [
    {
     "data": {
      "text/plain": "array([0.0000, 1.9452, 1.9452, 3.8905, 6.1597, 6.1597, 7.2085, 7.2085])"
     },
     "execution_count": 27,
     "metadata": {},
     "output_type": "execute_result"
    }
   ],
   "source": [
    "sq_ext.diag(sq_ext.hamiltonian_qubit_C_qubit(nmax_r=5, nmax_f=10, Cc=0), 8, out='GHz', remove_ground=True)[0]"
   ],
   "metadata": {
    "collapsed": false,
    "ExecuteTime": {
     "end_time": "2024-03-06T20:01:32.579351300Z",
     "start_time": "2024-03-06T20:01:32.414854100Z"
    }
   },
   "id": "3217e21f0991fe7f",
   "execution_count": 27
  },
  {
   "cell_type": "code",
   "outputs": [],
   "source": [
    "E_f = sq_ext.diag(sq_ext.sq_fluxonium().hamiltonian(),4, out='GHz')[0]\n",
    "E_f -= E_f[0]\n",
    "E_r = sq_ext.diag(sq_ext.sq_resonator().hamiltonian(),4, out='GHz')[0]\n",
    "E_r -= E_r[0]"
   ],
   "metadata": {
    "collapsed": false,
    "ExecuteTime": {
     "end_time": "2024-03-06T19:45:24.938151700Z",
     "start_time": "2024-03-06T19:45:24.913551300Z"
    }
   },
   "id": "22b69594c544b204",
   "execution_count": 10
  },
  {
   "cell_type": "code",
   "outputs": [
    {
     "data": {
      "text/plain": "array([[0.0000, 7.2084, 14.4168, 21.6252],\n       [1.9455, 9.1539, 16.3623, 23.5707],\n       [6.1613, 13.3697, 20.5781, 27.7865],\n       [10.7934, 18.0018, 25.2101, 32.4185]])"
     },
     "execution_count": 11,
     "metadata": {},
     "output_type": "execute_result"
    }
   ],
   "source": [
    "E_matrix = E_f[:, np.newaxis] + E_r\n",
    "E_matrix"
   ],
   "metadata": {
    "collapsed": false,
    "ExecuteTime": {
     "end_time": "2024-03-06T19:45:26.441495700Z",
     "start_time": "2024-03-06T19:45:26.438095400Z"
    }
   },
   "id": "b1e42b094b088ecf",
   "execution_count": 11
  },
  {
   "cell_type": "code",
   "outputs": [
    {
     "data": {
      "text/plain": "array([[0.0000],\n       [1.9455],\n       [6.1613],\n       [10.7934]])"
     },
     "execution_count": 12,
     "metadata": {},
     "output_type": "execute_result"
    }
   ],
   "source": [
    "E_f[:, np.newaxis]"
   ],
   "metadata": {
    "collapsed": false,
    "ExecuteTime": {
     "end_time": "2024-03-06T19:45:30.432704Z",
     "start_time": "2024-03-06T19:45:30.413728200Z"
    }
   },
   "id": "195c8598ae5bae83",
   "execution_count": 12
  },
  {
   "cell_type": "code",
   "outputs": [],
   "source": [
    "fluxonium = sq_ext.sq_fluxonium()\n",
    "H_0_f = fluxonium.hamiltonian() \n",
    "H_0 = qt.tensor( H_0_f, qt.qeye(H_0_f.shape[0]) ) + qt.tensor(qt.qeye(H_0_f.shape[0]), H_0_f ) #+ 0.00001*qt.tensor(fluxonium.flux_op(0), fluxonium.flux_op(0))\n",
    "H = qt.tensor( H_0_f, qt.qeye(H_0_f.shape[0]) ) + qt.tensor(qt.qeye(H_0_f.shape[0]), H_0_f  )+ 1e5*qt.tensor(fluxonium.flux_op(0), fluxonium.flux_op(0))"
   ],
   "metadata": {
    "collapsed": false,
    "ExecuteTime": {
     "end_time": "2024-03-05T15:47:11.203944Z",
     "start_time": "2024-03-05T15:47:11.195686Z"
    }
   },
   "id": "149f8014237706c3",
   "execution_count": 1182
  },
  {
   "cell_type": "code",
   "outputs": [],
   "source": [
    "E, ψ_0_f = np.linalg.eigh(H_0_f.__array__() )\n",
    "# E, ψ_0_f = sp.sparse.linalg.eigsh(H_0_f.data, 2, which='SA')\n",
    "E, ψ_0_f = sq_ext.eigs_sorted(E, ψ_0_f)\n",
    "ψ_0 = np.array([np.kron(ψ_0_f[:,0],ψ_0_f[:,0]), np.kron(ψ_0_f[:,1],ψ_0_f[:,0]), np.kron(ψ_0_f[:,0],ψ_0_f[:,1]), np.kron(ψ_0_f[:,1],ψ_0_f[:,1]) ]).T"
   ],
   "metadata": {
    "collapsed": false,
    "ExecuteTime": {
     "end_time": "2024-03-05T15:57:05.775226Z",
     "start_time": "2024-03-05T15:57:05.772745Z"
    }
   },
   "id": "a924933e477b97f1",
   "execution_count": 1266
  },
  {
   "cell_type": "code",
   "outputs": [],
   "source": [
    "E, ψ_0 = sp.sparse.linalg.eigsh(H_0.data, 2, which='SA')\n",
    "E, ψ_0 = sq_ext.eigs_sorted(E, ψ_0)\n",
    "ψ_0 = np.linalg.qr(ψ_0)[0]"
   ],
   "metadata": {
    "collapsed": false,
    "ExecuteTime": {
     "end_time": "2024-03-05T15:50:54.532951Z",
     "start_time": "2024-03-05T15:50:54.518253Z"
    }
   },
   "id": "fa9a94fb1fe8abc2",
   "execution_count": 1219
  },
  {
   "cell_type": "code",
   "outputs": [],
   "source": [
    "E, ψ_0 = np.linalg.eigh(H_0.__array__())\n",
    "ψ_0 =  ψ_0[:,:4]"
   ],
   "metadata": {
    "collapsed": false,
    "ExecuteTime": {
     "end_time": "2024-03-05T15:55:41.118906Z",
     "start_time": "2024-03-05T15:55:41.082282Z"
    }
   },
   "id": "4a99f1bdd48884ff",
   "execution_count": 1256
  },
  {
   "cell_type": "code",
   "outputs": [
    {
     "data": {
      "text/plain": "array([[1.+0.j, 0.+0.j, 0.+0.j, 0.+0.j],\n       [0.-0.j, 1.+0.j, 0.+0.j, 0.+0.j],\n       [0.-0.j, 0.-0.j, 1.+0.j, 0.+0.j],\n       [0.-0.j, 0.-0.j, 0.-0.j, 1.+0.j]])"
     },
     "execution_count": 1262,
     "metadata": {},
     "output_type": "execute_result"
    }
   ],
   "source": [
    "np.round(ψ_0.T.conj() @ ψ_0,4)"
   ],
   "metadata": {
    "collapsed": false,
    "ExecuteTime": {
     "end_time": "2024-03-05T15:56:08.007165Z",
     "start_time": "2024-03-05T15:56:08.004493Z"
    }
   },
   "id": "40d4272f036f93e3",
   "execution_count": 1262
  },
  {
   "cell_type": "code",
   "outputs": [
    {
     "name": "stdout",
     "output_type": "stream",
     "text": [
      " (15.3596+0j)\t*\t I ⨂I \n",
      " (-0.9727+0j)\t*\t I ⨂σz \n",
      " (0.0235+0j)\t*\t σx ⨂σx \n",
      " (-0.9727+0j)\t*\t σz ⨂I \n"
     ]
    }
   ],
   "source": [
    "H_eff = ψ_0.T.conj() @ H.__array__() @ ψ_0 / 2 / np.pi / GHz\n",
    "sq_ext.decomposition_in_pauli_4x4(H_eff, 4);"
   ],
   "metadata": {
    "collapsed": false,
    "ExecuteTime": {
     "end_time": "2024-03-05T15:57:19.220412Z",
     "start_time": "2024-03-05T15:57:19.215331Z"
    }
   },
   "id": "546023bd870ea28c",
   "execution_count": 1267
  },
  {
   "cell_type": "code",
   "outputs": [
    {
     "name": "stdout",
     "output_type": "stream",
     "text": [
      " (15.3596+0j)\t*\t I ⨂I \n",
      " (-0.961+0j)\t*\t I ⨂σz \n",
      " (0.0125+0j)\t*\t σx ⨂σx \n",
      " (-0.011+0j)\t*\t σy ⨂σy \n",
      " (-0.9845+0j)\t*\t σz ⨂I \n"
     ]
    }
   ],
   "source": [
    "H_eff = sq_ext.H_eff_p1(H_0, H, out= 'GHz', n_eig=4, solver='numpy')\n",
    "# H_eff = sq_ext.H_eff_p1(H_0, H, out= 'GHz', n_eig=4)\n",
    "sq_ext.decomposition_in_pauli_4x4(H_eff, 4);"
   ],
   "metadata": {
    "collapsed": false,
    "ExecuteTime": {
     "end_time": "2024-03-05T15:38:23.312043Z",
     "start_time": "2024-03-05T15:38:23.274610Z"
    }
   },
   "id": "9ab7ed556ad125f4",
   "execution_count": 1161
  },
  {
   "cell_type": "code",
   "outputs": [
    {
     "ename": "ValueError",
     "evalue": "shapes (4,4) and (625,625) not aligned: 4 (dim 1) != 625 (dim 0)",
     "output_type": "error",
     "traceback": [
      "\u001B[0;31m---------------------------------------------------------------------------\u001B[0m",
      "\u001B[0;31mValueError\u001B[0m                                Traceback (most recent call last)",
      "Cell \u001B[0;32mIn[1106], line 3\u001B[0m\n\u001B[1;32m      1\u001B[0m ψ_0[:,\u001B[38;5;241m2\u001B[39m] \u001B[38;5;241m/\u001B[39m\u001B[38;5;241m=\u001B[39m np\u001B[38;5;241m.\u001B[39mexp(\u001B[38;5;241m1\u001B[39mj\u001B[38;5;241m*\u001B[39m\u001B[38;5;241m0.1\u001B[39m)\n\u001B[1;32m      2\u001B[0m H_eff \u001B[38;5;241m=\u001B[39m ψ_0\u001B[38;5;241m.\u001B[39mconj()\u001B[38;5;241m.\u001B[39mT \u001B[38;5;241m@\u001B[39m H\u001B[38;5;241m.\u001B[39m__array__() \u001B[38;5;241m@\u001B[39m ψ_0 \u001B[38;5;241m/\u001B[39m \u001B[38;5;241m2\u001B[39m \u001B[38;5;241m/\u001B[39m np\u001B[38;5;241m.\u001B[39mpi \u001B[38;5;241m/\u001B[39m GHz\n\u001B[0;32m----> 3\u001B[0m \u001B[43msq_ext\u001B[49m\u001B[38;5;241;43m.\u001B[39;49m\u001B[43mdecomposition_in_pauli_4x4\u001B[49m\u001B[43m(\u001B[49m\u001B[43mH_eff\u001B[49m\u001B[43m,\u001B[49m\u001B[43m \u001B[49m\u001B[38;5;241;43m4\u001B[39;49m\u001B[43m)\u001B[49m\n",
      "File \u001B[0;32m~/PycharmProjects/tunable-capacitive-coupling-flux-qubits/Modules/SQcircuit_extensions.py:1177\u001B[0m, in \u001B[0;36mdecomposition_in_pauli_4x4\u001B[0;34m(A, rd, Print)\u001B[0m\n\u001B[1;32m   1175\u001B[0m label \u001B[38;5;241m=\u001B[39m labels[i] \u001B[38;5;241m+\u001B[39m \u001B[38;5;124m'\u001B[39m\u001B[38;5;124m \u001B[39m\u001B[38;5;130;01m\\U00002A02\u001B[39;00m\u001B[38;5;124m'\u001B[39m \u001B[38;5;241m+\u001B[39m labels[j]\n\u001B[1;32m   1176\u001B[0m S \u001B[38;5;241m=\u001B[39m np\u001B[38;5;241m.\u001B[39mkron(s[i], s[j])  \u001B[38;5;66;03m# S_ij=σ_i /otimes σ_j.\u001B[39;00m\n\u001B[0;32m-> 1177\u001B[0m P[i, j] \u001B[38;5;241m=\u001B[39m np\u001B[38;5;241m.\u001B[39mround(\u001B[38;5;241m0.25\u001B[39m \u001B[38;5;241m*\u001B[39m (\u001B[43mnp\u001B[49m\u001B[38;5;241;43m.\u001B[39;49m\u001B[43mdot\u001B[49m\u001B[43m(\u001B[49m\u001B[43mS\u001B[49m\u001B[38;5;241;43m.\u001B[39;49m\u001B[43mT\u001B[49m\u001B[38;5;241;43m.\u001B[39;49m\u001B[43mconjugate\u001B[49m\u001B[43m(\u001B[49m\u001B[43m)\u001B[49m\u001B[43m,\u001B[49m\u001B[43m \u001B[49m\u001B[43mA\u001B[49m\u001B[43m)\u001B[49m)\u001B[38;5;241m.\u001B[39mtrace(), rd)  \u001B[38;5;66;03m# P[i,j]=(1/4)tr(S_ij^t*A)\u001B[39;00m\n\u001B[1;32m   1178\u001B[0m \u001B[38;5;28;01mif\u001B[39;00m P[i, j] \u001B[38;5;241m!=\u001B[39m \u001B[38;5;241m0.0\u001B[39m \u001B[38;5;129;01mand\u001B[39;00m Print \u001B[38;5;241m==\u001B[39m \u001B[38;5;28;01mTrue\u001B[39;00m:\n\u001B[1;32m   1179\u001B[0m     \u001B[38;5;28mprint\u001B[39m(\u001B[38;5;124m\"\u001B[39m\u001B[38;5;124m \u001B[39m\u001B[38;5;132;01m%s\u001B[39;00m\u001B[38;5;130;01m\\t\u001B[39;00m\u001B[38;5;124m*\u001B[39m\u001B[38;5;130;01m\\t\u001B[39;00m\u001B[38;5;124m \u001B[39m\u001B[38;5;132;01m%s\u001B[39;00m\u001B[38;5;124m \u001B[39m\u001B[38;5;124m\"\u001B[39m \u001B[38;5;241m%\u001B[39m (P[i, j], label))\n",
      "File \u001B[0;32m<__array_function__ internals>:200\u001B[0m, in \u001B[0;36mdot\u001B[0;34m(*args, **kwargs)\u001B[0m\n",
      "\u001B[0;31mValueError\u001B[0m: shapes (4,4) and (625,625) not aligned: 4 (dim 1) != 625 (dim 0)"
     ]
    }
   ],
   "source": [
    "ψ_0[:,2] /= np.exp(1j*0.1)\n",
    "H_eff = ψ_0.conj().T @ H.__array__() @ ψ_0 / 2 / np.pi / GHz\n",
    "sq_ext.decomposition_in_pauli_4x4(H_eff, 4);"
   ],
   "metadata": {
    "collapsed": false,
    "ExecuteTime": {
     "end_time": "2024-03-05T15:37:46.849607Z",
     "start_time": "2024-03-05T15:37:46.812682Z"
    }
   },
   "id": "930d1d40ed3e0efb",
   "execution_count": 1106
  }
 ],
 "metadata": {
  "kernelspec": {
   "display_name": "Python 3",
   "language": "python",
   "name": "python3"
  },
  "language_info": {
   "codemirror_mode": {
    "name": "ipython",
    "version": 2
   },
   "file_extension": ".py",
   "mimetype": "text/x-python",
   "name": "python",
   "nbconvert_exporter": "python",
   "pygments_lexer": "ipython2",
   "version": "2.7.6"
  }
 },
 "nbformat": 4,
 "nbformat_minor": 5
}
