{
 "cells": [
  {
   "cell_type": "code",
   "execution_count": 10,
   "metadata": {
    "ExecuteTime": {
     "end_time": "2023-11-24T17:18:17.404508700Z",
     "start_time": "2023-11-24T17:18:17.393299800Z"
    }
   },
   "source": [
    "import SQcircuit_extensions as sq_ext\n",
    "import numpy as np\n",
    "import matplotlib.pyplot as plt\n",
    "\n",
    "%matplotlib ipympl"
   ],
   "outputs": []
  },
  {
   "cell_type": "markdown",
   "metadata": {},
   "source": [
    "## KIT's qubit\n",
    "\n",
    "This notebook studies the qubit proposed by KIT. It's lumped element model is:\n",
    "<img src='Single qubit 4 nodes CC coupled to ground.jpg' width='500'>\n"
   ]
  },
  {
   "cell_type": "markdown",
   "source": [
    "## Parameters"
   ],
   "metadata": {
    "collapsed": false
   }
  },
  {
   "cell_type": "code",
   "execution_count": 11,
   "source": [
    "n_max_resonator = 50\n",
    "n_max_fluxonium = 50\n",
    "\n",
    "trunc_nums_resonator = [n_max_resonator]\n",
    "trunc_nums_fluxonium = [n_max_fluxonium]\n",
    "\n",
    "trunc_nums = [1, n_max_resonator, n_max_fluxonium]\n",
    "trunc_nums_Δ_0 = [ n_max_resonator, n_max_fluxonium]\n",
    "φ_ext = 0.5\n",
    "Δ_values = np.array([1e-10, 1e-3, 1e-1])\n",
    "n_eig = 2"
   ],
   "metadata": {
    "collapsed": false,
    "ExecuteTime": {
     "end_time": "2023-11-24T17:18:18.088060100Z",
     "start_time": "2023-11-24T17:18:18.079041800Z"
    }
   },
   "outputs": []
  },
  {
   "cell_type": "markdown",
   "source": [
    "## Circuit vs Δ study"
   ],
   "metadata": {
    "collapsed": false
   }
  },
  {
   "cell_type": "code",
   "execution_count": 12,
   "source": [
    "qubit_vs_Δ =     [ ]\n",
    "resonator_vs_Δ = [ ]\n",
    "fluxonium_vs_Δ = [ ]\n",
    "H_frc_vs_Δ = [ ]\n",
    "\n",
    "for Δ in Δ_values:\n",
    "\n",
    "    qubit     = sq_ext.KIT_qubit_no_JJ    (Δ=Δ)\n",
    "    fluxonium = sq_ext.KIT_fluxonium_no_JJ(Δ=Δ)\n",
    "    # qubit     = sq_ext.sq_qubit    (Δ=Δ)\n",
    "    # fluxonium = sq_ext.sq_fluxonium(Δ=Δ)\n",
    "    resonator = sq_ext.sq_resonator(Δ=Δ)\n",
    "\n",
    "    resonator.set_trunc_nums(trunc_nums_resonator)\n",
    "    fluxonium.set_trunc_nums(trunc_nums_fluxonium)\n",
    "\n",
    "    try:\n",
    "        qubit.set_trunc_nums(trunc_nums)\n",
    "    except:\n",
    "        try:\n",
    "            qubit.set_trunc_nums(trunc_nums_Δ_0)\n",
    "        except:\n",
    "            qubit.set_trunc_nums([trunc_nums_resonator[0]*trunc_nums_fluxonium[0]])\n",
    "\n",
    "    #This try and except structure is because if you use the \"no_JJ\" circuits there is no loop.\n",
    "    try:\n",
    "        fluxonium.loops[0].set_flux(φ_ext)\n",
    "        qubit.loops[0].set_flux(φ_ext)\n",
    "    except:\n",
    "        pass\n",
    "\n",
    "    _, _ = resonator.diag(n_eig)\n",
    "    _, _ = fluxonium.diag(n_eig)\n",
    "    _, _ = qubit.diag(n_eig)\n",
    "\n",
    "    qubit_vs_Δ    .append(qubit)\n",
    "    fluxonium_vs_Δ.append(fluxonium)\n",
    "    resonator_vs_Δ.append(resonator)\n",
    "    H_frc_vs_Δ    .append(sq_ext.hamiltonian_qubit(fluxonium, resonator, Δ))"
   ],
   "metadata": {
    "collapsed": false,
    "ExecuteTime": {
     "end_time": "2023-11-24T17:18:19.329097500Z",
     "start_time": "2023-11-24T17:18:18.725568600Z"
    }
   },
   "outputs": []
  },
  {
   "cell_type": "code",
   "execution_count": 13,
   "source": [
    "qubit_vs_Δ[0].description(), sq_ext.print_flux_transformation(qubit_vs_Δ[0])"
   ],
   "metadata": {
    "collapsed": false,
    "ExecuteTime": {
     "end_time": "2023-11-24T17:18:19.345089300Z",
     "start_time": "2023-11-24T17:18:19.329097500Z"
    }
   },
   "outputs": []
  },
  {
   "cell_type": "code",
   "execution_count": 15,
   "source": [
    "H_eff_full = sq_ext.H_eff_p1(qubit_vs_Δ[0], qubit_vs_Δ[-1], real='True')\n",
    "H_eff_full -= np.eye(len(H_eff_full)) * H_eff_full[0,0]\n",
    "H_eff_full"
   ],
   "metadata": {
    "collapsed": false,
    "ExecuteTime": {
     "end_time": "2023-11-24T17:18:20.496478100Z",
     "start_time": "2023-11-24T17:18:20.451776Z"
    }
   },
   "outputs": []
  },
  {
   "cell_type": "code",
   "execution_count": 14,
   "source": [
    "qubit_vs_Δ[-1].description(), sq_ext.print_flux_transformation(qubit_vs_Δ[-1])"
   ],
   "metadata": {
    "collapsed": false,
    "ExecuteTime": {
     "end_time": "2023-11-24T17:18:20.001662200Z",
     "start_time": "2023-11-24T17:18:19.938372300Z"
    }
   },
   "outputs": []
  },
  {
   "cell_type": "code",
   "execution_count": 16,
   "source": [
    "H_eff_frc = sq_ext.H_eff_p1_hamil(H_frc_vs_Δ[0],H_frc_vs_Δ[-1],n_eig , real='True')\n",
    "H_eff_frc -= np.eye(len(H_eff_frc)) * H_eff_frc[0,0]\n",
    "H_eff_frc"
   ],
   "metadata": {
    "collapsed": false,
    "ExecuteTime": {
     "end_time": "2023-11-24T17:18:21.165703700Z",
     "start_time": "2023-11-24T17:18:20.964423200Z"
    }
   },
   "outputs": []
  }
 ],
 "metadata": {
  "kernelspec": {
   "display_name": "Python 3 (ipykernel)",
   "language": "python",
   "name": "python3"
  },
  "language_info": {
   "codemirror_mode": {
    "name": "ipython",
    "version": 3
   },
   "file_extension": ".py",
   "mimetype": "text/x-python",
   "name": "python",
   "nbconvert_exporter": "python",
   "pygments_lexer": "ipython3",
   "version": "3.8.18"
  }
 },
 "nbformat": 4,
 "nbformat_minor": 1
}
