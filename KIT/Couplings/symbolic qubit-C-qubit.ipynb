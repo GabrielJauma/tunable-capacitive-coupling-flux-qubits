{
 "cells": [
  {
   "cell_type": "code",
   "execution_count": 2,
   "metadata": {
    "collapsed": true,
    "ExecuteTime": {
     "end_time": "2024-02-01T15:01:57.377408857Z",
     "start_time": "2024-02-01T15:01:57.065700747Z"
    }
   },
   "outputs": [],
   "source": [
    "import sympy as sym\n",
    "import numpy as np\n",
    "import matplotlib.pyplot as plt"
   ]
  },
  {
   "cell_type": "code",
   "execution_count": 3,
   "outputs": [],
   "source": [
    "C_R, C_F, C_C = sym.symbols('C_R, C_F, C_C', real=True, positive=True, nonzero=True)"
   ],
   "metadata": {
    "collapsed": false,
    "ExecuteTime": {
     "end_time": "2024-02-01T15:01:57.385043204Z",
     "start_time": "2024-02-01T15:01:57.378160776Z"
    }
   }
  },
  {
   "cell_type": "code",
   "execution_count": 4,
   "outputs": [],
   "source": [
    "C = sym.Matrix([[C_R+C_C, 0      , -C_C/4 , -C_C/4 ],\n",
    "                [0      , C_F+C_C, -C_C/4 , -C_C/4 ],\n",
    "                [-C_C/4 , -C_C/4 , C_R+C_C, 0      ],\n",
    "                [-C_C/4 , -C_C/4 , 0      , C_F+C_C] ])"
   ],
   "metadata": {
    "collapsed": false,
    "ExecuteTime": {
     "end_time": "2024-02-01T15:01:57.435343455Z",
     "start_time": "2024-02-01T15:01:57.434848503Z"
    }
   }
  },
  {
   "cell_type": "code",
   "execution_count": 5,
   "outputs": [],
   "source": [
    "C_inv = C**-1"
   ],
   "metadata": {
    "collapsed": false,
    "ExecuteTime": {
     "end_time": "2024-02-01T15:02:00.982617895Z",
     "start_time": "2024-02-01T15:01:57.535499679Z"
    }
   }
  },
  {
   "cell_type": "code",
   "outputs": [
    {
     "data": {
      "text/plain": "Matrix([\n[(14*C_C**3 + 31*C_C**2*C_F + 15*C_C**2*C_R + 16*C_C*C_F**2 + 32*C_C*C_F*C_R + 16*C_F**2*C_R)/(12*C_C**4 + 28*C_C**3*C_F + 28*C_C**3*C_R + 15*C_C**2*C_F**2 + 62*C_C**2*C_F*C_R + 15*C_C**2*C_R**2 + 32*C_C*C_F**2*C_R + 32*C_C*C_F*C_R**2 + 16*C_F**2*C_R**2),                                                                   C_C**2*(2*C_C + C_F + C_R)/(12*C_C**4 + 28*C_C**3*C_F + 28*C_C**3*C_R + 15*C_C**2*C_F**2 + 62*C_C**2*C_F*C_R + 15*C_C**2*C_R**2 + 32*C_C*C_F**2*C_R + 32*C_C*C_F*C_R**2 + 16*C_F**2*C_R**2),                                                          4*C_C*(C_C**2 + 2*C_C*C_F + C_F**2)/(12*C_C**4 + 28*C_C**3*C_F + 28*C_C**3*C_R + 15*C_C**2*C_F**2 + 62*C_C**2*C_F*C_R + 15*C_C**2*C_R**2 + 32*C_C*C_F**2*C_R + 32*C_C*C_F*C_R**2 + 16*C_F**2*C_R**2),                                                 4*C_C*(C_C**2 + C_C*C_F + C_C*C_R + C_F*C_R)/(12*C_C**4 + 28*C_C**3*C_F + 28*C_C**3*C_R + 15*C_C**2*C_F**2 + 62*C_C**2*C_F*C_R + 15*C_C**2*C_R**2 + 32*C_C*C_F**2*C_R + 32*C_C*C_F*C_R**2 + 16*C_F**2*C_R**2)],\n[                                                                  C_C**2*(2*C_C + C_F + C_R)/(12*C_C**4 + 28*C_C**3*C_F + 28*C_C**3*C_R + 15*C_C**2*C_F**2 + 62*C_C**2*C_F*C_R + 15*C_C**2*C_R**2 + 32*C_C*C_F**2*C_R + 32*C_C*C_F*C_R**2 + 16*C_F**2*C_R**2), (14*C_C**3 + 15*C_C**2*C_F + 31*C_C**2*C_R + 32*C_C*C_F*C_R + 16*C_C*C_R**2 + 16*C_F*C_R**2)/(12*C_C**4 + 28*C_C**3*C_F + 28*C_C**3*C_R + 15*C_C**2*C_F**2 + 62*C_C**2*C_F*C_R + 15*C_C**2*C_R**2 + 32*C_C*C_F**2*C_R + 32*C_C*C_F*C_R**2 + 16*C_F**2*C_R**2),                                                 4*C_C*(C_C**2 + C_C*C_F + C_C*C_R + C_F*C_R)/(12*C_C**4 + 28*C_C**3*C_F + 28*C_C**3*C_R + 15*C_C**2*C_F**2 + 62*C_C**2*C_F*C_R + 15*C_C**2*C_R**2 + 32*C_C*C_F**2*C_R + 32*C_C*C_F*C_R**2 + 16*C_F**2*C_R**2),                                                          4*C_C*(C_C**2 + 2*C_C*C_R + C_R**2)/(12*C_C**4 + 28*C_C**3*C_F + 28*C_C**3*C_R + 15*C_C**2*C_F**2 + 62*C_C**2*C_F*C_R + 15*C_C**2*C_R**2 + 32*C_C*C_F**2*C_R + 32*C_C*C_F*C_R**2 + 16*C_F**2*C_R**2)],\n[                                                         4*C_C*(C_C**2 + 2*C_C*C_F + C_F**2)/(12*C_C**4 + 28*C_C**3*C_F + 28*C_C**3*C_R + 15*C_C**2*C_F**2 + 62*C_C**2*C_F*C_R + 15*C_C**2*C_R**2 + 32*C_C*C_F**2*C_R + 32*C_C*C_F*C_R**2 + 16*C_F**2*C_R**2),                                                 4*C_C*(C_C**2 + C_C*C_F + C_C*C_R + C_F*C_R)/(12*C_C**4 + 28*C_C**3*C_F + 28*C_C**3*C_R + 15*C_C**2*C_F**2 + 62*C_C**2*C_F*C_R + 15*C_C**2*C_R**2 + 32*C_C*C_F**2*C_R + 32*C_C*C_F*C_R**2 + 16*C_F**2*C_R**2), (14*C_C**3 + 31*C_C**2*C_F + 15*C_C**2*C_R + 16*C_C*C_F**2 + 32*C_C*C_F*C_R + 16*C_F**2*C_R)/(12*C_C**4 + 28*C_C**3*C_F + 28*C_C**3*C_R + 15*C_C**2*C_F**2 + 62*C_C**2*C_F*C_R + 15*C_C**2*C_R**2 + 32*C_C*C_F**2*C_R + 32*C_C*C_F*C_R**2 + 16*C_F**2*C_R**2),                                                                   C_C**2*(2*C_C + C_F + C_R)/(12*C_C**4 + 28*C_C**3*C_F + 28*C_C**3*C_R + 15*C_C**2*C_F**2 + 62*C_C**2*C_F*C_R + 15*C_C**2*C_R**2 + 32*C_C*C_F**2*C_R + 32*C_C*C_F*C_R**2 + 16*C_F**2*C_R**2)],\n[                                                4*C_C*(C_C**2 + C_C*C_F + C_C*C_R + C_F*C_R)/(12*C_C**4 + 28*C_C**3*C_F + 28*C_C**3*C_R + 15*C_C**2*C_F**2 + 62*C_C**2*C_F*C_R + 15*C_C**2*C_R**2 + 32*C_C*C_F**2*C_R + 32*C_C*C_F*C_R**2 + 16*C_F**2*C_R**2),                                                          4*C_C*(C_C**2 + 2*C_C*C_R + C_R**2)/(12*C_C**4 + 28*C_C**3*C_F + 28*C_C**3*C_R + 15*C_C**2*C_F**2 + 62*C_C**2*C_F*C_R + 15*C_C**2*C_R**2 + 32*C_C*C_F**2*C_R + 32*C_C*C_F*C_R**2 + 16*C_F**2*C_R**2),                                                                   C_C**2*(2*C_C + C_F + C_R)/(12*C_C**4 + 28*C_C**3*C_F + 28*C_C**3*C_R + 15*C_C**2*C_F**2 + 62*C_C**2*C_F*C_R + 15*C_C**2*C_R**2 + 32*C_C*C_F**2*C_R + 32*C_C*C_F*C_R**2 + 16*C_F**2*C_R**2), (14*C_C**3 + 15*C_C**2*C_F + 31*C_C**2*C_R + 32*C_C*C_F*C_R + 16*C_C*C_R**2 + 16*C_F*C_R**2)/(12*C_C**4 + 28*C_C**3*C_F + 28*C_C**3*C_R + 15*C_C**2*C_F**2 + 62*C_C**2*C_F*C_R + 15*C_C**2*C_R**2 + 32*C_C*C_F**2*C_R + 32*C_C*C_F*C_R**2 + 16*C_F**2*C_R**2)]])",
      "text/latex": "$\\displaystyle \\left[\\begin{matrix}\\frac{14 C_{C}^{3} + 31 C_{C}^{2} C_{F} + 15 C_{C}^{2} C_{R} + 16 C_{C} C_{F}^{2} + 32 C_{C} C_{F} C_{R} + 16 C_{F}^{2} C_{R}}{12 C_{C}^{4} + 28 C_{C}^{3} C_{F} + 28 C_{C}^{3} C_{R} + 15 C_{C}^{2} C_{F}^{2} + 62 C_{C}^{2} C_{F} C_{R} + 15 C_{C}^{2} C_{R}^{2} + 32 C_{C} C_{F}^{2} C_{R} + 32 C_{C} C_{F} C_{R}^{2} + 16 C_{F}^{2} C_{R}^{2}} & \\frac{C_{C}^{2} \\cdot \\left(2 C_{C} + C_{F} + C_{R}\\right)}{12 C_{C}^{4} + 28 C_{C}^{3} C_{F} + 28 C_{C}^{3} C_{R} + 15 C_{C}^{2} C_{F}^{2} + 62 C_{C}^{2} C_{F} C_{R} + 15 C_{C}^{2} C_{R}^{2} + 32 C_{C} C_{F}^{2} C_{R} + 32 C_{C} C_{F} C_{R}^{2} + 16 C_{F}^{2} C_{R}^{2}} & \\frac{4 C_{C} \\left(C_{C}^{2} + 2 C_{C} C_{F} + C_{F}^{2}\\right)}{12 C_{C}^{4} + 28 C_{C}^{3} C_{F} + 28 C_{C}^{3} C_{R} + 15 C_{C}^{2} C_{F}^{2} + 62 C_{C}^{2} C_{F} C_{R} + 15 C_{C}^{2} C_{R}^{2} + 32 C_{C} C_{F}^{2} C_{R} + 32 C_{C} C_{F} C_{R}^{2} + 16 C_{F}^{2} C_{R}^{2}} & \\frac{4 C_{C} \\left(C_{C}^{2} + C_{C} C_{F} + C_{C} C_{R} + C_{F} C_{R}\\right)}{12 C_{C}^{4} + 28 C_{C}^{3} C_{F} + 28 C_{C}^{3} C_{R} + 15 C_{C}^{2} C_{F}^{2} + 62 C_{C}^{2} C_{F} C_{R} + 15 C_{C}^{2} C_{R}^{2} + 32 C_{C} C_{F}^{2} C_{R} + 32 C_{C} C_{F} C_{R}^{2} + 16 C_{F}^{2} C_{R}^{2}}\\\\\\frac{C_{C}^{2} \\cdot \\left(2 C_{C} + C_{F} + C_{R}\\right)}{12 C_{C}^{4} + 28 C_{C}^{3} C_{F} + 28 C_{C}^{3} C_{R} + 15 C_{C}^{2} C_{F}^{2} + 62 C_{C}^{2} C_{F} C_{R} + 15 C_{C}^{2} C_{R}^{2} + 32 C_{C} C_{F}^{2} C_{R} + 32 C_{C} C_{F} C_{R}^{2} + 16 C_{F}^{2} C_{R}^{2}} & \\frac{14 C_{C}^{3} + 15 C_{C}^{2} C_{F} + 31 C_{C}^{2} C_{R} + 32 C_{C} C_{F} C_{R} + 16 C_{C} C_{R}^{2} + 16 C_{F} C_{R}^{2}}{12 C_{C}^{4} + 28 C_{C}^{3} C_{F} + 28 C_{C}^{3} C_{R} + 15 C_{C}^{2} C_{F}^{2} + 62 C_{C}^{2} C_{F} C_{R} + 15 C_{C}^{2} C_{R}^{2} + 32 C_{C} C_{F}^{2} C_{R} + 32 C_{C} C_{F} C_{R}^{2} + 16 C_{F}^{2} C_{R}^{2}} & \\frac{4 C_{C} \\left(C_{C}^{2} + C_{C} C_{F} + C_{C} C_{R} + C_{F} C_{R}\\right)}{12 C_{C}^{4} + 28 C_{C}^{3} C_{F} + 28 C_{C}^{3} C_{R} + 15 C_{C}^{2} C_{F}^{2} + 62 C_{C}^{2} C_{F} C_{R} + 15 C_{C}^{2} C_{R}^{2} + 32 C_{C} C_{F}^{2} C_{R} + 32 C_{C} C_{F} C_{R}^{2} + 16 C_{F}^{2} C_{R}^{2}} & \\frac{4 C_{C} \\left(C_{C}^{2} + 2 C_{C} C_{R} + C_{R}^{2}\\right)}{12 C_{C}^{4} + 28 C_{C}^{3} C_{F} + 28 C_{C}^{3} C_{R} + 15 C_{C}^{2} C_{F}^{2} + 62 C_{C}^{2} C_{F} C_{R} + 15 C_{C}^{2} C_{R}^{2} + 32 C_{C} C_{F}^{2} C_{R} + 32 C_{C} C_{F} C_{R}^{2} + 16 C_{F}^{2} C_{R}^{2}}\\\\\\frac{4 C_{C} \\left(C_{C}^{2} + 2 C_{C} C_{F} + C_{F}^{2}\\right)}{12 C_{C}^{4} + 28 C_{C}^{3} C_{F} + 28 C_{C}^{3} C_{R} + 15 C_{C}^{2} C_{F}^{2} + 62 C_{C}^{2} C_{F} C_{R} + 15 C_{C}^{2} C_{R}^{2} + 32 C_{C} C_{F}^{2} C_{R} + 32 C_{C} C_{F} C_{R}^{2} + 16 C_{F}^{2} C_{R}^{2}} & \\frac{4 C_{C} \\left(C_{C}^{2} + C_{C} C_{F} + C_{C} C_{R} + C_{F} C_{R}\\right)}{12 C_{C}^{4} + 28 C_{C}^{3} C_{F} + 28 C_{C}^{3} C_{R} + 15 C_{C}^{2} C_{F}^{2} + 62 C_{C}^{2} C_{F} C_{R} + 15 C_{C}^{2} C_{R}^{2} + 32 C_{C} C_{F}^{2} C_{R} + 32 C_{C} C_{F} C_{R}^{2} + 16 C_{F}^{2} C_{R}^{2}} & \\frac{14 C_{C}^{3} + 31 C_{C}^{2} C_{F} + 15 C_{C}^{2} C_{R} + 16 C_{C} C_{F}^{2} + 32 C_{C} C_{F} C_{R} + 16 C_{F}^{2} C_{R}}{12 C_{C}^{4} + 28 C_{C}^{3} C_{F} + 28 C_{C}^{3} C_{R} + 15 C_{C}^{2} C_{F}^{2} + 62 C_{C}^{2} C_{F} C_{R} + 15 C_{C}^{2} C_{R}^{2} + 32 C_{C} C_{F}^{2} C_{R} + 32 C_{C} C_{F} C_{R}^{2} + 16 C_{F}^{2} C_{R}^{2}} & \\frac{C_{C}^{2} \\cdot \\left(2 C_{C} + C_{F} + C_{R}\\right)}{12 C_{C}^{4} + 28 C_{C}^{3} C_{F} + 28 C_{C}^{3} C_{R} + 15 C_{C}^{2} C_{F}^{2} + 62 C_{C}^{2} C_{F} C_{R} + 15 C_{C}^{2} C_{R}^{2} + 32 C_{C} C_{F}^{2} C_{R} + 32 C_{C} C_{F} C_{R}^{2} + 16 C_{F}^{2} C_{R}^{2}}\\\\\\frac{4 C_{C} \\left(C_{C}^{2} + C_{C} C_{F} + C_{C} C_{R} + C_{F} C_{R}\\right)}{12 C_{C}^{4} + 28 C_{C}^{3} C_{F} + 28 C_{C}^{3} C_{R} + 15 C_{C}^{2} C_{F}^{2} + 62 C_{C}^{2} C_{F} C_{R} + 15 C_{C}^{2} C_{R}^{2} + 32 C_{C} C_{F}^{2} C_{R} + 32 C_{C} C_{F} C_{R}^{2} + 16 C_{F}^{2} C_{R}^{2}} & \\frac{4 C_{C} \\left(C_{C}^{2} + 2 C_{C} C_{R} + C_{R}^{2}\\right)}{12 C_{C}^{4} + 28 C_{C}^{3} C_{F} + 28 C_{C}^{3} C_{R} + 15 C_{C}^{2} C_{F}^{2} + 62 C_{C}^{2} C_{F} C_{R} + 15 C_{C}^{2} C_{R}^{2} + 32 C_{C} C_{F}^{2} C_{R} + 32 C_{C} C_{F} C_{R}^{2} + 16 C_{F}^{2} C_{R}^{2}} & \\frac{C_{C}^{2} \\cdot \\left(2 C_{C} + C_{F} + C_{R}\\right)}{12 C_{C}^{4} + 28 C_{C}^{3} C_{F} + 28 C_{C}^{3} C_{R} + 15 C_{C}^{2} C_{F}^{2} + 62 C_{C}^{2} C_{F} C_{R} + 15 C_{C}^{2} C_{R}^{2} + 32 C_{C} C_{F}^{2} C_{R} + 32 C_{C} C_{F} C_{R}^{2} + 16 C_{F}^{2} C_{R}^{2}} & \\frac{14 C_{C}^{3} + 15 C_{C}^{2} C_{F} + 31 C_{C}^{2} C_{R} + 32 C_{C} C_{F} C_{R} + 16 C_{C} C_{R}^{2} + 16 C_{F} C_{R}^{2}}{12 C_{C}^{4} + 28 C_{C}^{3} C_{F} + 28 C_{C}^{3} C_{R} + 15 C_{C}^{2} C_{F}^{2} + 62 C_{C}^{2} C_{F} C_{R} + 15 C_{C}^{2} C_{R}^{2} + 32 C_{C} C_{F}^{2} C_{R} + 32 C_{C} C_{F} C_{R}^{2} + 16 C_{F}^{2} C_{R}^{2}}\\end{matrix}\\right]$"
     },
     "execution_count": 6,
     "metadata": {},
     "output_type": "execute_result"
    }
   ],
   "source": [
    "sym.simplify(C_inv)"
   ],
   "metadata": {
    "collapsed": false,
    "ExecuteTime": {
     "end_time": "2024-02-01T15:02:01.594605542Z",
     "start_time": "2024-02-01T15:02:01.015872212Z"
    }
   },
   "execution_count": 6
  },
  {
   "cell_type": "code",
   "outputs": [
    {
     "data": {
      "text/plain": "Matrix([\n[(14*C_C**3 + 31*C_C**2*C_F + 15*C_C**2*C_R + 16*C_C*C_F**2 + 32*C_C*C_F*C_R + 16*C_F**2*C_R)/(12*C_C**4 + 28*C_C**3*C_F + 28*C_C**3*C_R + 15*C_C**2*C_F**2 + 62*C_C**2*C_F*C_R + 15*C_C**2*C_R**2 + 32*C_C*C_F**2*C_R + 32*C_C*C_F*C_R**2 + 16*C_F**2*C_R**2),                                                                   C_C**2*(2*C_C + C_F + C_R)/(12*C_C**4 + 28*C_C**3*C_F + 28*C_C**3*C_R + 15*C_C**2*C_F**2 + 62*C_C**2*C_F*C_R + 15*C_C**2*C_R**2 + 32*C_C*C_F**2*C_R + 32*C_C*C_F*C_R**2 + 16*C_F**2*C_R**2),                                                          4*C_C*(C_C**2 + 2*C_C*C_F + C_F**2)/(12*C_C**4 + 28*C_C**3*C_F + 28*C_C**3*C_R + 15*C_C**2*C_F**2 + 62*C_C**2*C_F*C_R + 15*C_C**2*C_R**2 + 32*C_C*C_F**2*C_R + 32*C_C*C_F*C_R**2 + 16*C_F**2*C_R**2),                                                 4*C_C*(C_C**2 + C_C*C_F + C_C*C_R + C_F*C_R)/(12*C_C**4 + 28*C_C**3*C_F + 28*C_C**3*C_R + 15*C_C**2*C_F**2 + 62*C_C**2*C_F*C_R + 15*C_C**2*C_R**2 + 32*C_C*C_F**2*C_R + 32*C_C*C_F*C_R**2 + 16*C_F**2*C_R**2)],\n[                                                                  C_C**2*(2*C_C + C_F + C_R)/(12*C_C**4 + 28*C_C**3*C_F + 28*C_C**3*C_R + 15*C_C**2*C_F**2 + 62*C_C**2*C_F*C_R + 15*C_C**2*C_R**2 + 32*C_C*C_F**2*C_R + 32*C_C*C_F*C_R**2 + 16*C_F**2*C_R**2), (14*C_C**3 + 15*C_C**2*C_F + 31*C_C**2*C_R + 32*C_C*C_F*C_R + 16*C_C*C_R**2 + 16*C_F*C_R**2)/(12*C_C**4 + 28*C_C**3*C_F + 28*C_C**3*C_R + 15*C_C**2*C_F**2 + 62*C_C**2*C_F*C_R + 15*C_C**2*C_R**2 + 32*C_C*C_F**2*C_R + 32*C_C*C_F*C_R**2 + 16*C_F**2*C_R**2),                                                 4*C_C*(C_C**2 + C_C*C_F + C_C*C_R + C_F*C_R)/(12*C_C**4 + 28*C_C**3*C_F + 28*C_C**3*C_R + 15*C_C**2*C_F**2 + 62*C_C**2*C_F*C_R + 15*C_C**2*C_R**2 + 32*C_C*C_F**2*C_R + 32*C_C*C_F*C_R**2 + 16*C_F**2*C_R**2),                                                          4*C_C*(C_C**2 + 2*C_C*C_R + C_R**2)/(12*C_C**4 + 28*C_C**3*C_F + 28*C_C**3*C_R + 15*C_C**2*C_F**2 + 62*C_C**2*C_F*C_R + 15*C_C**2*C_R**2 + 32*C_C*C_F**2*C_R + 32*C_C*C_F*C_R**2 + 16*C_F**2*C_R**2)],\n[                                                         4*C_C*(C_C**2 + 2*C_C*C_F + C_F**2)/(12*C_C**4 + 28*C_C**3*C_F + 28*C_C**3*C_R + 15*C_C**2*C_F**2 + 62*C_C**2*C_F*C_R + 15*C_C**2*C_R**2 + 32*C_C*C_F**2*C_R + 32*C_C*C_F*C_R**2 + 16*C_F**2*C_R**2),                                                 4*C_C*(C_C**2 + C_C*C_F + C_C*C_R + C_F*C_R)/(12*C_C**4 + 28*C_C**3*C_F + 28*C_C**3*C_R + 15*C_C**2*C_F**2 + 62*C_C**2*C_F*C_R + 15*C_C**2*C_R**2 + 32*C_C*C_F**2*C_R + 32*C_C*C_F*C_R**2 + 16*C_F**2*C_R**2), (14*C_C**3 + 31*C_C**2*C_F + 15*C_C**2*C_R + 16*C_C*C_F**2 + 32*C_C*C_F*C_R + 16*C_F**2*C_R)/(12*C_C**4 + 28*C_C**3*C_F + 28*C_C**3*C_R + 15*C_C**2*C_F**2 + 62*C_C**2*C_F*C_R + 15*C_C**2*C_R**2 + 32*C_C*C_F**2*C_R + 32*C_C*C_F*C_R**2 + 16*C_F**2*C_R**2),                                                                   C_C**2*(2*C_C + C_F + C_R)/(12*C_C**4 + 28*C_C**3*C_F + 28*C_C**3*C_R + 15*C_C**2*C_F**2 + 62*C_C**2*C_F*C_R + 15*C_C**2*C_R**2 + 32*C_C*C_F**2*C_R + 32*C_C*C_F*C_R**2 + 16*C_F**2*C_R**2)],\n[                                                4*C_C*(C_C**2 + C_C*C_F + C_C*C_R + C_F*C_R)/(12*C_C**4 + 28*C_C**3*C_F + 28*C_C**3*C_R + 15*C_C**2*C_F**2 + 62*C_C**2*C_F*C_R + 15*C_C**2*C_R**2 + 32*C_C*C_F**2*C_R + 32*C_C*C_F*C_R**2 + 16*C_F**2*C_R**2),                                                          4*C_C*(C_C**2 + 2*C_C*C_R + C_R**2)/(12*C_C**4 + 28*C_C**3*C_F + 28*C_C**3*C_R + 15*C_C**2*C_F**2 + 62*C_C**2*C_F*C_R + 15*C_C**2*C_R**2 + 32*C_C*C_F**2*C_R + 32*C_C*C_F*C_R**2 + 16*C_F**2*C_R**2),                                                                   C_C**2*(2*C_C + C_F + C_R)/(12*C_C**4 + 28*C_C**3*C_F + 28*C_C**3*C_R + 15*C_C**2*C_F**2 + 62*C_C**2*C_F*C_R + 15*C_C**2*C_R**2 + 32*C_C*C_F**2*C_R + 32*C_C*C_F*C_R**2 + 16*C_F**2*C_R**2), (14*C_C**3 + 15*C_C**2*C_F + 31*C_C**2*C_R + 32*C_C*C_F*C_R + 16*C_C*C_R**2 + 16*C_F*C_R**2)/(12*C_C**4 + 28*C_C**3*C_F + 28*C_C**3*C_R + 15*C_C**2*C_F**2 + 62*C_C**2*C_F*C_R + 15*C_C**2*C_R**2 + 32*C_C*C_F**2*C_R + 32*C_C*C_F*C_R**2 + 16*C_F**2*C_R**2)]])",
      "text/latex": "$\\displaystyle \\left[\\begin{matrix}\\frac{14 C_{C}^{3} + 31 C_{C}^{2} C_{F} + 15 C_{C}^{2} C_{R} + 16 C_{C} C_{F}^{2} + 32 C_{C} C_{F} C_{R} + 16 C_{F}^{2} C_{R}}{12 C_{C}^{4} + 28 C_{C}^{3} C_{F} + 28 C_{C}^{3} C_{R} + 15 C_{C}^{2} C_{F}^{2} + 62 C_{C}^{2} C_{F} C_{R} + 15 C_{C}^{2} C_{R}^{2} + 32 C_{C} C_{F}^{2} C_{R} + 32 C_{C} C_{F} C_{R}^{2} + 16 C_{F}^{2} C_{R}^{2}} & \\frac{C_{C}^{2} \\cdot \\left(2 C_{C} + C_{F} + C_{R}\\right)}{12 C_{C}^{4} + 28 C_{C}^{3} C_{F} + 28 C_{C}^{3} C_{R} + 15 C_{C}^{2} C_{F}^{2} + 62 C_{C}^{2} C_{F} C_{R} + 15 C_{C}^{2} C_{R}^{2} + 32 C_{C} C_{F}^{2} C_{R} + 32 C_{C} C_{F} C_{R}^{2} + 16 C_{F}^{2} C_{R}^{2}} & \\frac{4 C_{C} \\left(C_{C}^{2} + 2 C_{C} C_{F} + C_{F}^{2}\\right)}{12 C_{C}^{4} + 28 C_{C}^{3} C_{F} + 28 C_{C}^{3} C_{R} + 15 C_{C}^{2} C_{F}^{2} + 62 C_{C}^{2} C_{F} C_{R} + 15 C_{C}^{2} C_{R}^{2} + 32 C_{C} C_{F}^{2} C_{R} + 32 C_{C} C_{F} C_{R}^{2} + 16 C_{F}^{2} C_{R}^{2}} & \\frac{4 C_{C} \\left(C_{C}^{2} + C_{C} C_{F} + C_{C} C_{R} + C_{F} C_{R}\\right)}{12 C_{C}^{4} + 28 C_{C}^{3} C_{F} + 28 C_{C}^{3} C_{R} + 15 C_{C}^{2} C_{F}^{2} + 62 C_{C}^{2} C_{F} C_{R} + 15 C_{C}^{2} C_{R}^{2} + 32 C_{C} C_{F}^{2} C_{R} + 32 C_{C} C_{F} C_{R}^{2} + 16 C_{F}^{2} C_{R}^{2}}\\\\\\frac{C_{C}^{2} \\cdot \\left(2 C_{C} + C_{F} + C_{R}\\right)}{12 C_{C}^{4} + 28 C_{C}^{3} C_{F} + 28 C_{C}^{3} C_{R} + 15 C_{C}^{2} C_{F}^{2} + 62 C_{C}^{2} C_{F} C_{R} + 15 C_{C}^{2} C_{R}^{2} + 32 C_{C} C_{F}^{2} C_{R} + 32 C_{C} C_{F} C_{R}^{2} + 16 C_{F}^{2} C_{R}^{2}} & \\frac{14 C_{C}^{3} + 15 C_{C}^{2} C_{F} + 31 C_{C}^{2} C_{R} + 32 C_{C} C_{F} C_{R} + 16 C_{C} C_{R}^{2} + 16 C_{F} C_{R}^{2}}{12 C_{C}^{4} + 28 C_{C}^{3} C_{F} + 28 C_{C}^{3} C_{R} + 15 C_{C}^{2} C_{F}^{2} + 62 C_{C}^{2} C_{F} C_{R} + 15 C_{C}^{2} C_{R}^{2} + 32 C_{C} C_{F}^{2} C_{R} + 32 C_{C} C_{F} C_{R}^{2} + 16 C_{F}^{2} C_{R}^{2}} & \\frac{4 C_{C} \\left(C_{C}^{2} + C_{C} C_{F} + C_{C} C_{R} + C_{F} C_{R}\\right)}{12 C_{C}^{4} + 28 C_{C}^{3} C_{F} + 28 C_{C}^{3} C_{R} + 15 C_{C}^{2} C_{F}^{2} + 62 C_{C}^{2} C_{F} C_{R} + 15 C_{C}^{2} C_{R}^{2} + 32 C_{C} C_{F}^{2} C_{R} + 32 C_{C} C_{F} C_{R}^{2} + 16 C_{F}^{2} C_{R}^{2}} & \\frac{4 C_{C} \\left(C_{C}^{2} + 2 C_{C} C_{R} + C_{R}^{2}\\right)}{12 C_{C}^{4} + 28 C_{C}^{3} C_{F} + 28 C_{C}^{3} C_{R} + 15 C_{C}^{2} C_{F}^{2} + 62 C_{C}^{2} C_{F} C_{R} + 15 C_{C}^{2} C_{R}^{2} + 32 C_{C} C_{F}^{2} C_{R} + 32 C_{C} C_{F} C_{R}^{2} + 16 C_{F}^{2} C_{R}^{2}}\\\\\\frac{4 C_{C} \\left(C_{C}^{2} + 2 C_{C} C_{F} + C_{F}^{2}\\right)}{12 C_{C}^{4} + 28 C_{C}^{3} C_{F} + 28 C_{C}^{3} C_{R} + 15 C_{C}^{2} C_{F}^{2} + 62 C_{C}^{2} C_{F} C_{R} + 15 C_{C}^{2} C_{R}^{2} + 32 C_{C} C_{F}^{2} C_{R} + 32 C_{C} C_{F} C_{R}^{2} + 16 C_{F}^{2} C_{R}^{2}} & \\frac{4 C_{C} \\left(C_{C}^{2} + C_{C} C_{F} + C_{C} C_{R} + C_{F} C_{R}\\right)}{12 C_{C}^{4} + 28 C_{C}^{3} C_{F} + 28 C_{C}^{3} C_{R} + 15 C_{C}^{2} C_{F}^{2} + 62 C_{C}^{2} C_{F} C_{R} + 15 C_{C}^{2} C_{R}^{2} + 32 C_{C} C_{F}^{2} C_{R} + 32 C_{C} C_{F} C_{R}^{2} + 16 C_{F}^{2} C_{R}^{2}} & \\frac{14 C_{C}^{3} + 31 C_{C}^{2} C_{F} + 15 C_{C}^{2} C_{R} + 16 C_{C} C_{F}^{2} + 32 C_{C} C_{F} C_{R} + 16 C_{F}^{2} C_{R}}{12 C_{C}^{4} + 28 C_{C}^{3} C_{F} + 28 C_{C}^{3} C_{R} + 15 C_{C}^{2} C_{F}^{2} + 62 C_{C}^{2} C_{F} C_{R} + 15 C_{C}^{2} C_{R}^{2} + 32 C_{C} C_{F}^{2} C_{R} + 32 C_{C} C_{F} C_{R}^{2} + 16 C_{F}^{2} C_{R}^{2}} & \\frac{C_{C}^{2} \\cdot \\left(2 C_{C} + C_{F} + C_{R}\\right)}{12 C_{C}^{4} + 28 C_{C}^{3} C_{F} + 28 C_{C}^{3} C_{R} + 15 C_{C}^{2} C_{F}^{2} + 62 C_{C}^{2} C_{F} C_{R} + 15 C_{C}^{2} C_{R}^{2} + 32 C_{C} C_{F}^{2} C_{R} + 32 C_{C} C_{F} C_{R}^{2} + 16 C_{F}^{2} C_{R}^{2}}\\\\\\frac{4 C_{C} \\left(C_{C}^{2} + C_{C} C_{F} + C_{C} C_{R} + C_{F} C_{R}\\right)}{12 C_{C}^{4} + 28 C_{C}^{3} C_{F} + 28 C_{C}^{3} C_{R} + 15 C_{C}^{2} C_{F}^{2} + 62 C_{C}^{2} C_{F} C_{R} + 15 C_{C}^{2} C_{R}^{2} + 32 C_{C} C_{F}^{2} C_{R} + 32 C_{C} C_{F} C_{R}^{2} + 16 C_{F}^{2} C_{R}^{2}} & \\frac{4 C_{C} \\left(C_{C}^{2} + 2 C_{C} C_{R} + C_{R}^{2}\\right)}{12 C_{C}^{4} + 28 C_{C}^{3} C_{F} + 28 C_{C}^{3} C_{R} + 15 C_{C}^{2} C_{F}^{2} + 62 C_{C}^{2} C_{F} C_{R} + 15 C_{C}^{2} C_{R}^{2} + 32 C_{C} C_{F}^{2} C_{R} + 32 C_{C} C_{F} C_{R}^{2} + 16 C_{F}^{2} C_{R}^{2}} & \\frac{C_{C}^{2} \\cdot \\left(2 C_{C} + C_{F} + C_{R}\\right)}{12 C_{C}^{4} + 28 C_{C}^{3} C_{F} + 28 C_{C}^{3} C_{R} + 15 C_{C}^{2} C_{F}^{2} + 62 C_{C}^{2} C_{F} C_{R} + 15 C_{C}^{2} C_{R}^{2} + 32 C_{C} C_{F}^{2} C_{R} + 32 C_{C} C_{F} C_{R}^{2} + 16 C_{F}^{2} C_{R}^{2}} & \\frac{14 C_{C}^{3} + 15 C_{C}^{2} C_{F} + 31 C_{C}^{2} C_{R} + 32 C_{C} C_{F} C_{R} + 16 C_{C} C_{R}^{2} + 16 C_{F} C_{R}^{2}}{12 C_{C}^{4} + 28 C_{C}^{3} C_{F} + 28 C_{C}^{3} C_{R} + 15 C_{C}^{2} C_{F}^{2} + 62 C_{C}^{2} C_{F} C_{R} + 15 C_{C}^{2} C_{R}^{2} + 32 C_{C} C_{F}^{2} C_{R} + 32 C_{C} C_{F} C_{R}^{2} + 16 C_{F}^{2} C_{R}^{2}}\\end{matrix}\\right]$"
     },
     "execution_count": 7,
     "metadata": {},
     "output_type": "execute_result"
    }
   ],
   "source": [
    "sym.simplify(C_inv )"
   ],
   "metadata": {
    "collapsed": false,
    "ExecuteTime": {
     "end_time": "2024-02-01T15:02:02.055018103Z",
     "start_time": "2024-02-01T15:02:01.591665470Z"
    }
   },
   "execution_count": 7
  },
  {
   "cell_type": "code",
   "outputs": [
    {
     "data": {
      "text/plain": "(14*C_C**3 + 31*C_C**2*C_F + 15*C_C**2*C_R + 16*C_C*C_F**2 + 32*C_C*C_F*C_R + 16*C_F**2*C_R)/((2*C_C**2 + 3*C_C*C_F + 3*C_C*C_R + 4*C_F*C_R)*(6*C_C**2 + 5*C_C*C_F + 5*C_C*C_R + 4*C_F*C_R))",
      "text/latex": "$\\displaystyle \\frac{14 C_{C}^{3} + 31 C_{C}^{2} C_{F} + 15 C_{C}^{2} C_{R} + 16 C_{C} C_{F}^{2} + 32 C_{C} C_{F} C_{R} + 16 C_{F}^{2} C_{R}}{\\left(2 C_{C}^{2} + 3 C_{C} C_{F} + 3 C_{C} C_{R} + 4 C_{F} C_{R}\\right) \\left(6 C_{C}^{2} + 5 C_{C} C_{F} + 5 C_{C} C_{R} + 4 C_{F} C_{R}\\right)}$"
     },
     "execution_count": 8,
     "metadata": {},
     "output_type": "execute_result"
    }
   ],
   "source": [
    "sym.factor(C_inv[0,0])"
   ],
   "metadata": {
    "collapsed": false,
    "ExecuteTime": {
     "end_time": "2024-02-01T15:02:02.105166721Z",
     "start_time": "2024-02-01T15:02:02.062488866Z"
    }
   },
   "execution_count": 8
  },
  {
   "cell_type": "code",
   "outputs": [
    {
     "data": {
      "text/plain": "0",
      "text/latex": "$\\displaystyle 0$"
     },
     "execution_count": 9,
     "metadata": {},
     "output_type": "execute_result"
    }
   ],
   "source": [
    "C_inv[0,0] - C_inv[2,2]"
   ],
   "metadata": {
    "collapsed": false,
    "ExecuteTime": {
     "end_time": "2024-02-01T15:02:02.105656272Z",
     "start_time": "2024-02-01T15:02:02.105006733Z"
    }
   },
   "execution_count": 9
  },
  {
   "cell_type": "code",
   "outputs": [],
   "source": [
    "Csh = 15\n",
    "C   = 15\n",
    "Cg  = 10\n",
    "CJ  = 3\n",
    "Cc  = 10"
   ],
   "metadata": {
    "collapsed": false,
    "ExecuteTime": {
     "end_time": "2024-02-01T15:02:02.105800581Z",
     "start_time": "2024-02-01T15:02:02.105082004Z"
    }
   },
   "execution_count": 10
  },
  {
   "cell_type": "code",
   "outputs": [],
   "source": [
    "a=np.array( C_inv.subs({C_C:Cc, C_R:C/2, C_F:C/2 + Csh + CJ}).evalf() )"
   ],
   "metadata": {
    "collapsed": false,
    "ExecuteTime": {
     "end_time": "2024-02-01T15:02:02.105927687Z",
     "start_time": "2024-02-01T15:02:02.105114554Z"
    }
   },
   "execution_count": 11
  },
  {
   "cell_type": "code",
   "outputs": [
    {
     "data": {
      "text/plain": "array([[1.00000000000000, 0.0152487268751618, 0.145035532410737,\n        0.0714963892165607],\n       [0.0152487268751618, 0.485225997640763, 0.0714963892165607,\n        0.0352446989095722],\n       [0.145035532410737, 0.0714963892165607, 1.00000000000000,\n        0.0152487268751618],\n       [0.0714963892165607, 0.0352446989095722, 0.0152487268751618,\n        0.485225997640763]], dtype=object)"
     },
     "execution_count": 12,
     "metadata": {},
     "output_type": "execute_result"
    }
   ],
   "source": [
    "a/a[0,0]"
   ],
   "metadata": {
    "collapsed": false,
    "ExecuteTime": {
     "end_time": "2024-02-01T15:02:02.106099788Z",
     "start_time": "2024-02-01T15:02:02.105157634Z"
    }
   },
   "execution_count": 12
  },
  {
   "cell_type": "code",
   "outputs": [],
   "source": [
    "C_R = C/2\n",
    "C_C = Cc\n",
    "C_F = C/2 + Csh + CJ\n",
    "C   = np.array([  [C_R + C_C, 0, -C_C / 4, -C_C / 4],\n",
    "                  [0, C_F + C_C, -C_C / 4, -C_C / 4],\n",
    "                  [-C_C / 4, -C_C / 4, C_R + C_C, 0],\n",
    "                  [-C_C / 4, -C_C / 4, 0, C_F + C_C]])"
   ],
   "metadata": {
    "collapsed": false,
    "ExecuteTime": {
     "end_time": "2024-02-01T15:02:02.106334715Z",
     "start_time": "2024-02-01T15:02:02.105192309Z"
    }
   },
   "execution_count": 13
  },
  {
   "cell_type": "code",
   "outputs": [
    {
     "data": {
      "text/plain": "array([[17.5,  0. , -2.5, -2.5],\n       [ 0. , 35.5, -2.5, -2.5],\n       [-2.5, -2.5, 17.5,  0. ],\n       [-2.5, -2.5,  0. , 35.5]])"
     },
     "execution_count": 14,
     "metadata": {},
     "output_type": "execute_result"
    }
   ],
   "source": [
    "C"
   ],
   "metadata": {
    "collapsed": false,
    "ExecuteTime": {
     "end_time": "2024-02-01T15:02:02.106489733Z",
     "start_time": "2024-02-01T15:02:02.105254244Z"
    }
   },
   "execution_count": 14
  },
  {
   "cell_type": "code",
   "outputs": [
    {
     "data": {
      "text/plain": "array([[  16.9586702 , 1112.13679245,  116.92769292,  237.19617706],\n       [1112.13679245,   34.95004447,  237.19617706,  481.16938776],\n       [ 116.92769292,  237.19617706,   16.9586702 , 1112.13679245],\n       [ 237.19617706,  481.16938776, 1112.13679245,   34.95004447]])"
     },
     "execution_count": 20,
     "metadata": {},
     "output_type": "execute_result"
    }
   ],
   "source": [
    "np.linalg.inv(C)**-1"
   ],
   "metadata": {
    "collapsed": false,
    "ExecuteTime": {
     "end_time": "2024-02-01T15:02:36.015045798Z",
     "start_time": "2024-02-01T15:02:35.974401850Z"
    }
   },
   "execution_count": 20
  },
  {
   "cell_type": "code",
   "outputs": [
    {
     "data": {
      "text/plain": "35.5"
     },
     "execution_count": 23,
     "metadata": {},
     "output_type": "execute_result"
    }
   ],
   "source": [
    "C_F + C_C"
   ],
   "metadata": {
    "collapsed": false,
    "ExecuteTime": {
     "end_time": "2024-02-01T15:03:33.628535329Z",
     "start_time": "2024-02-01T15:03:33.586211426Z"
    }
   },
   "execution_count": 23
  },
  {
   "cell_type": "code",
   "outputs": [
    {
     "data": {
      "text/plain": "17.5"
     },
     "execution_count": 24,
     "metadata": {},
     "output_type": "execute_result"
    }
   ],
   "source": [
    "C_R + C_C"
   ],
   "metadata": {
    "collapsed": false,
    "ExecuteTime": {
     "end_time": "2024-02-01T15:03:39.502575147Z",
     "start_time": "2024-02-01T15:03:39.500106533Z"
    }
   },
   "execution_count": 24
  },
  {
   "cell_type": "code",
   "outputs": [],
   "source": [],
   "metadata": {
    "collapsed": false
   }
  }
 ],
 "metadata": {
  "kernelspec": {
   "display_name": "Python 3",
   "language": "python",
   "name": "python3"
  },
  "language_info": {
   "codemirror_mode": {
    "name": "ipython",
    "version": 2
   },
   "file_extension": ".py",
   "mimetype": "text/x-python",
   "name": "python",
   "nbconvert_exporter": "python",
   "pygments_lexer": "ipython2",
   "version": "2.7.6"
  }
 },
 "nbformat": 4,
 "nbformat_minor": 0
}
