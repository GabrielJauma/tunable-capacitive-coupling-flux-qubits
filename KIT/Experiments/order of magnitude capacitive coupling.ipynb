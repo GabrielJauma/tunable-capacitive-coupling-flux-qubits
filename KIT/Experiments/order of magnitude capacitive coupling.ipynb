{
 "cells": [
  {
   "cell_type": "code",
   "id": "6c901434381dddfe",
   "metadata": {
    "collapsed": true,
    "ExecuteTime": {
     "end_time": "2024-05-13T16:51:42.293227Z",
     "start_time": "2024-05-13T16:51:41.106043Z"
    }
   },
   "source": [
    "import Modules.SQcircuit_extensions as sq_ext\n",
    "import Modules.figures as figs\n",
    "import SQcircuit as sq\n",
    "import numpy as np\n",
    "import matplotlib.pyplot as plt\n",
    "import importlib\n",
    "from scipy.linalg import eigh\n",
    "import qutip as qt\n",
    "import sympy as sym\n",
    "from joblib import Parallel, delayed, cpu_count\n",
    "\n",
    "%matplotlib ipympl\n",
    "plt.rcParams['text.usetex'] = False\n",
    "importlib.reload(sq_ext)\n",
    "importlib.reload(sq)\n",
    "importlib.reload(figs)\n",
    "np.set_printoptions(linewidth=300, formatter={'float': '{:.12f}'.format})\n",
    "\n",
    "fF = 1e-15\n",
    "nH = 1e-9\n",
    "GHz = 1e9"
   ],
   "outputs": [],
   "execution_count": 1
  },
  {
   "metadata": {
    "ExecuteTime": {
     "end_time": "2024-05-13T16:51:42.305819Z",
     "start_time": "2024-05-13T16:51:42.296207Z"
    }
   },
   "cell_type": "code",
   "source": [
    "Δ = 0.1\n",
    "LF = 26.5\n",
    "CF = 26.9\n",
    "EJ = 5.4\n",
    "ω_r = 6.46\n",
    "LR = 140\n",
    "CR = 1 / (LR * nH) / (ω_r * 2 * np.pi * GHz) ** 2 / fF\n",
    "Lq, Lr = sq_ext.LF_LR_eff_to_Lq_Lr(LF=LF, LR=LR, Δ=Δ)\n",
    "C, Csh, CJ = sq_ext.CF_CR_eff_to_C_CJ_Csh(CF=CF, CR=CR)\n",
    "C, Csh, CJ "
   ],
   "id": "61a56317e8b9c469",
   "outputs": [
    {
     "data": {
      "text/plain": [
       "(8.671159748277237, 11.282210062930691, 11.282210062930691)"
      ]
     },
     "execution_count": 2,
     "metadata": {},
     "output_type": "execute_result"
    }
   ],
   "execution_count": 2
  },
  {
   "metadata": {
    "ExecuteTime": {
     "end_time": "2024-05-13T16:55:38.202878Z",
     "start_time": "2024-05-13T16:55:38.196109Z"
    }
   },
   "cell_type": "code",
   "source": [
    "\n",
    "Δ_prime = 0.1\n",
    "LF_prime = 20.4\n",
    "CF_prime = 22.4\n",
    "EJ_prime = 9.5\n",
    "ω_r_prime = 6.274\n",
    "# LR_prime = 100\n",
    "LR_prime = 190\n",
    "CR_prime = 1 / (LR_prime * nH) / (ω_r_prime * 2 * np.pi * GHz) ** 2 / fF\n",
    "Lq_prime, Lr_prime = sq_ext.LF_LR_eff_to_Lq_Lr(LF=LF_prime, LR=LR_prime, Δ=Δ_prime)\n",
    "C_prime, Csh_prime, CJ_prime = sq_ext.CF_CR_eff_to_C_CJ_Csh(CF=CF_prime, CR=CR_prime)\n",
    "C_prime, Csh_prime, CJ_prime "
   ],
   "id": "10cd3267fc284992",
   "outputs": [
    {
     "data": {
      "text/plain": [
       "(6.773726062354115, 9.50656848441147, 9.50656848441147)"
      ]
     },
     "execution_count": 29,
     "metadata": {},
     "output_type": "execute_result"
    }
   ],
   "execution_count": 29
  },
  {
   "metadata": {
    "ExecuteTime": {
     "end_time": "2024-05-13T16:55:38.378716Z",
     "start_time": "2024-05-13T16:55:38.374426Z"
    }
   },
   "cell_type": "code",
   "source": [
    "nmax_r = 10\n",
    "nmax_f = 10\n",
    "CC = 10\n",
    "only_inner = True\n",
    "compensate_extra_cap = False\n",
    "only_renormalization = False\n",
    "n_eig = 5\n",
    "φ_ext = 0.5"
   ],
   "id": "initial_id",
   "outputs": [],
   "execution_count": 30
  },
  {
   "metadata": {
    "ExecuteTime": {
     "end_time": "2024-05-13T16:55:38.541271Z",
     "start_time": "2024-05-13T16:55:38.534391Z"
    }
   },
   "cell_type": "code",
   "source": [
    "C_mat = sq_ext.C_mat_qubit_C_qubit(CC, CR, CF, CR_prime, CF_prime, only_inner, compensate_extra_cap, only_renormalization)\n",
    "C_mat"
   ],
   "id": "a947cb788e147921",
   "outputs": [
    {
     "data": {
      "text/plain": [
       "array([[29.400000000000, -2.500000000000, 2.500000000000, 2.500000000000],\n",
       "       [-2.500000000000, 6.835579874139, -2.500000000000, -2.500000000000],\n",
       "       [2.500000000000, -2.500000000000, 24.900000000000, 2.500000000000],\n",
       "       [2.500000000000, -2.500000000000, 2.500000000000, 5.886863031177]])"
      ]
     },
     "execution_count": 31,
     "metadata": {},
     "output_type": "execute_result"
    }
   ],
   "execution_count": 31
  },
  {
   "metadata": {
    "ExecuteTime": {
     "end_time": "2024-05-13T16:55:38.741323Z",
     "start_time": "2024-05-13T16:55:38.736164Z"
    }
   },
   "cell_type": "code",
   "source": [
    "C_inv = np.linalg.inv(C_mat)\n",
    "C_inv"
   ],
   "id": "3945cb5625265ae7",
   "outputs": [
    {
     "data": {
      "text/plain": [
       "array([[0.035803356055, 0.008508601662, -0.001646862595, -0.010892002949],\n",
       "       [0.008508601662, 0.177858242191, 0.010217918960, 0.067579167685],\n",
       "       [-0.001646862595, 0.010217918960, 0.042665151616, -0.013080128541],\n",
       "       [-0.010892002949, 0.067579167685, -0.013080128541, 0.208749250905]])"
      ]
     },
     "execution_count": 32,
     "metadata": {},
     "output_type": "execute_result"
    }
   ],
   "execution_count": 32
  },
  {
   "metadata": {
    "ExecuteTime": {
     "end_time": "2024-05-13T16:55:39.039416Z",
     "start_time": "2024-05-13T16:55:39.010039Z"
    }
   },
   "cell_type": "code",
   "source": [
    "CF_tilde = C_inv[0, 0] ** -1\n",
    "CR_tilde = C_inv[1, 1] ** -1\n",
    "CF_prime_tilde = C_inv[2, 2] ** -1\n",
    "CR_prime_tilde = C_inv[3, 3] ** -1\n",
    "fluxonium       = sq_ext.sq_fluxonium(C_F_eff=CF_tilde,       L_F_eff=LF,       Δ=Δ,       EJ=EJ,       nmax_f=nmax_f, φ_ext=φ_ext)\n",
    "resonator       = sq_ext.sq_resonator(C_R_eff=CR_tilde,       L_R_eff=LR,       Δ=Δ,       EJ=EJ,       nmax_r=nmax_r)\n",
    "fluxonium_prime = sq_ext.sq_fluxonium(C_F_eff=CF_prime_tilde, L_F_eff=LF_prime, Δ=Δ_prime, EJ=EJ_prime, nmax_f=nmax_f, φ_ext=φ_ext)\n",
    "resonator_prime = sq_ext.sq_resonator(C_R_eff=CR_prime_tilde, L_R_eff=LR_prime, Δ=Δ_prime, EJ=EJ_prime, nmax_r=nmax_r)\n",
    "fluxonium      .diag(2); \n",
    "resonator      .diag(2);\n",
    "fluxonium_prime.diag(2);\n",
    "resonator_prime.diag(2);"
   ],
   "id": "52f12938d3c37e38",
   "outputs": [],
   "execution_count": 33
  },
  {
   "metadata": {
    "ExecuteTime": {
     "end_time": "2024-05-13T16:55:39.271453Z",
     "start_time": "2024-05-13T16:55:39.266173Z"
    }
   },
   "cell_type": "code",
   "source": [
    "# 0=F    1=R    2=Fp    3=Rp\n",
    "C_FR_inv    = C_inv[0,1] * fF**-1\n",
    "C_FFp_inv   = C_inv[0,2] * fF**-1\n",
    "C_FRp_inv   = C_inv[0,3] * fF**-1\n",
    "C_RRp_inv   = C_inv[1,3] * fF**-1\n",
    "C_FpRp_inv  = C_inv[2,3] * fF**-1"
   ],
   "id": "b57ccb6772d8649d",
   "outputs": [],
   "execution_count": 34
  },
  {
   "metadata": {
    "ExecuteTime": {
     "end_time": "2024-05-13T16:55:39.617635Z",
     "start_time": "2024-05-13T16:55:39.613078Z"
    }
   },
   "cell_type": "code",
   "source": [
    "qF  = np.abs( fluxonium       . charge_op(0,basis='eig')[0,1] )\n",
    "qR  = np.abs( resonator       . charge_op(0,basis='eig')[0,1] )\n",
    "qFp = np.abs( fluxonium_prime . charge_op(0,basis='eig')[0,1] )\n",
    "qRp = np.abs( resonator_prime . charge_op(0,basis='eig')[0,1] )"
   ],
   "id": "f1ec04ffc24cdc32",
   "outputs": [],
   "execution_count": 35
  },
  {
   "metadata": {
    "ExecuteTime": {
     "end_time": "2024-05-13T16:55:40.021356Z",
     "start_time": "2024-05-13T16:55:40.016574Z"
    }
   },
   "cell_type": "code",
   "source": [
    "E_FR   = 0.5 * C_FR_inv   * qF  * qR  / 2 / np.pi / GHz\n",
    "E_FFp  = 0.5 * C_FFp_inv  * qF  * qFp / 2 / np.pi / GHz\n",
    "E_FRp  = 0.5 * C_FRp_inv  * qF  * qRp / 2 / np.pi / GHz\n",
    "E_RRp  = 0.5 * C_RRp_inv  * qR  * qRp / 2 / np.pi / GHz\n",
    "E_FpRp = 0.5 * C_FpRp_inv * qFp * qFp / 2 / np.pi / GHz"
   ],
   "id": "eb537914134ef57d",
   "outputs": [],
   "execution_count": 36
  },
  {
   "metadata": {
    "ExecuteTime": {
     "end_time": "2024-05-13T16:55:40.376457Z",
     "start_time": "2024-05-13T16:55:40.373149Z"
    }
   },
   "cell_type": "code",
   "source": "E_FR  , E_FFp , E_FRp , E_RRp , E_FpRp",
   "id": "99b7d032b8e12c3",
   "outputs": [
    {
     "data": {
      "text/plain": [
       "(0.12041551424938861,\n",
       " -0.03610801263348697,\n",
       " -0.13721066808212132,\n",
       " 0.4796537447296824,\n",
       " -0.25033125231123254)"
      ]
     },
     "execution_count": 37,
     "metadata": {},
     "output_type": "execute_result"
    }
   ],
   "execution_count": 37
  },
  {
   "metadata": {},
   "cell_type": "code",
   "outputs": [],
   "execution_count": null,
   "source": "",
   "id": "1cca72577f5afcf0"
  }
 ],
 "metadata": {
  "kernelspec": {
   "display_name": "Python 3",
   "language": "python",
   "name": "python3"
  },
  "language_info": {
   "codemirror_mode": {
    "name": "ipython",
    "version": 2
   },
   "file_extension": ".py",
   "mimetype": "text/x-python",
   "name": "python",
   "nbconvert_exporter": "python",
   "pygments_lexer": "ipython2",
   "version": "2.7.6"
  }
 },
 "nbformat": 4,
 "nbformat_minor": 5
}
