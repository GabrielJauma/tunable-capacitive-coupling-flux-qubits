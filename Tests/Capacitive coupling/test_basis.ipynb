{
 "cells": [
  {
   "cell_type": "code",
   "outputs": [],
   "source": [
    "import Modules.SQcircuit_extensions as sq_ext\n",
    "import Modules.figures as figs\n",
    "import SQcircuit as sq\n",
    "import numpy as np\n",
    "import matplotlib.pyplot as plt\n",
    "import importlib\n",
    "from scipy.linalg import eigh\n",
    "import qutip as qt\n",
    "import sympy as sym\n",
    "from joblib import Parallel, delayed, cpu_count\n",
    "\n",
    "%matplotlib ipympl\n",
    "# plt.rcParams.update({\n",
    "#     \"text.usetex\": True,\n",
    "#     \"font.family\": \"serif\",\n",
    "#     \"font.serif\": [\"Palatino\"],\n",
    "# })\n",
    "plt.rcParams['text.usetex'] = False\n",
    "importlib.reload(sq_ext)\n",
    "importlib.reload(sq)\n",
    "importlib.reload(figs)\n",
    "np.set_printoptions(linewidth=300, formatter={'float': '{:.12f}'.format})"
   ],
   "metadata": {
    "collapsed": false,
    "ExecuteTime": {
     "end_time": "2024-07-18T14:22:53.799383100Z",
     "start_time": "2024-07-18T14:22:53.771851900Z"
    }
   },
   "id": "341642e44cab1c34",
   "execution_count": 63
  },
  {
   "cell_type": "code",
   "outputs": [],
   "source": [
    "fF  = 1e-15\n",
    "nH  = 1e-9\n",
    "GHz = 1e9"
   ],
   "metadata": {
    "collapsed": false,
    "ExecuteTime": {
     "end_time": "2024-07-18T14:22:53.969190400Z",
     "start_time": "2024-07-18T14:22:53.965508Z"
    }
   },
   "id": "e7a2dd541f8ea1ef",
   "execution_count": 64
  },
  {
   "cell_type": "code",
   "outputs": [],
   "source": [
    "nmax_r = 10\n",
    "nmax_f = 15\n",
    "\n",
    "only_inner = True\n",
    "compensate_extra_cap = False"
   ],
   "metadata": {
    "collapsed": false,
    "ExecuteTime": {
     "end_time": "2024-07-18T14:22:54.266445500Z",
     "start_time": "2024-07-18T14:22:54.257722900Z"
    }
   },
   "id": "151bb76c3e9461ce",
   "execution_count": 65
  },
  {
   "cell_type": "code",
   "outputs": [],
   "source": [
    "CR_1, CF_1, LF_1, LR_1, EJ_1, Δ_1, ω_r_1 = sq_ext.get_experimental_parameters('qubit_1')\n",
    "CR_2, CF_2, LF_2, LR_2, EJ_2, Δ_2, ω_r_2 = sq_ext.get_experimental_parameters('qubit_2')\n",
    "CR_3, CF_3, LF_3, LR_3, EJ_3, Δ_3, ω_r_3 = sq_ext.get_experimental_parameters('qubit_3')"
   ],
   "metadata": {
    "collapsed": false,
    "ExecuteTime": {
     "end_time": "2024-07-18T14:22:54.649178Z",
     "start_time": "2024-07-18T14:22:54.634936400Z"
    }
   },
   "id": "12daef23d84f692e",
   "execution_count": 66
  },
  {
   "cell_type": "markdown",
   "source": [
    "## Single qubit"
   ],
   "metadata": {
    "collapsed": false
   },
   "id": "caae7cc53a2ebb57"
  },
  {
   "cell_type": "code",
   "outputs": [],
   "source": [
    "## Testings\n",
    "Δ=0\n",
    "fluxonium = sq_ext.sq_fluxonium(C_F_eff=CF_1, L_F_eff=LF_1, EJ=EJ_1, Δ=Δ_1, nmax_f=nmax_f)\n",
    "resonator = sq_ext.sq_resonator(C_R_eff=CR_1, L_R_eff=LR_1, Δ=Δ_1, nmax_f=nmax_f)\n",
    "\n",
    "H_0 = sq_ext.hamiltonian_qubit(fluxonium = fluxonium, resonator = resonator, Δ=0) \n",
    "H   = sq_ext.hamiltonian_qubit(fluxonium = fluxonium, resonator = resonator, Δ=Δ) \n",
    "\n",
    "H1 = fluxonium.hamiltonian()\n",
    "H2 = resonator.hamiltonian()\n",
    "\n",
    "ψ_0_f  = qt.Qobj(sq_ext.diag(H1, n_eig=2,solver='numpy')[1][:,0])\n",
    "ψ_1_f  = qt.Qobj(sq_ext.diag(H1, n_eig=2,solver='numpy')[1][:,1])\n",
    "ψ_0_r  = qt.Qobj(sq_ext.diag(H2, n_eig=2,solver='numpy')[1][:,0])\n",
    "ψ_1_r  = qt.Qobj(sq_ext.diag(H2, n_eig=2,solver='numpy')[1][:,1])\n",
    "\n",
    "ψ_0 = [qt.tensor(ψ_0_f, ψ_0_r), qt.tensor(ψ_1_f,ψ_0_r), qt.tensor(ψ_0_f,ψ_1_r), qt.tensor(ψ_1_f,ψ_1_r)]"
   ],
   "metadata": {
    "collapsed": false,
    "ExecuteTime": {
     "end_time": "2024-07-18T14:24:01.019223600Z",
     "start_time": "2024-07-18T14:24:00.984000500Z"
    }
   },
   "id": "8f40db5abe92abe9",
   "execution_count": 78
  },
  {
   "cell_type": "code",
   "outputs": [],
   "source": [
    "ψ_0 = None"
   ],
   "metadata": {
    "collapsed": false,
    "ExecuteTime": {
     "end_time": "2024-07-18T14:23:51.560910500Z",
     "start_time": "2024-07-18T14:23:51.553562700Z"
    }
   },
   "id": "b6511928c2438f2c",
   "execution_count": 75
  },
  {
   "cell_type": "code",
   "outputs": [],
   "source": [
    "# def H_eff_SWT(H_0, H, n_eig, out='GHz', real=False, remove_ground=False, return_transformation=False,ψ_0=None ):\n",
    "n_eig = 6\n",
    "out='GHz'\n",
    "if ψ_0 is None:\n",
    "    ψ_0 = sq_ext.diag(H_0, n_eig, real=True, solver='numpy')[1]\n",
    "    E, ψ = sq_ext.diag(H, n_eig, real=False, solver='scipy', out=out)\n",
    "\n",
    "    Q = np.zeros((n_eig, n_eig), dtype=complex)\n",
    "    for i in range(n_eig):\n",
    "        for j in range(n_eig):\n",
    "            Q[i, j] = ψ_0[:,i].conj().T @ ψ[:,j]\n",
    "else:\n",
    "    n_eig=len(ψ_0)\n",
    "    E, ψ = sq_ext.diag(H, n_eig, real=False, solver='Qutip', out=out, qObj=True)\n",
    "\n",
    "    Q = np.zeros((n_eig, n_eig), dtype=complex)\n",
    "    for i in range(n_eig):\n",
    "        for j in range(n_eig):\n",
    "            Q[i, j] = (ψ_0[i].dag() * ψ[j]).data[0,0]\n",
    "\n",
    "\n",
    "U, s, Vh = np.linalg.svd(Q)\n",
    "A = U @ Vh\n",
    "\n",
    "H_eff_SWT = A @ np.diag(E) @ A.T.conj()"
   ],
   "metadata": {
    "collapsed": false,
    "ExecuteTime": {
     "end_time": "2024-07-18T14:24:03.266513200Z",
     "start_time": "2024-07-18T14:24:03.250981400Z"
    }
   },
   "id": "5583ba62630303b",
   "execution_count": 79
  },
  {
   "cell_type": "code",
   "outputs": [
    {
     "name": "stdout",
     "output_type": "stream",
     "text": [
      " 9.885596502069895\t*\t I ⨂I \n",
      " -1.8443489399068576\t*\t I ⨂σz \n",
      " -3.229999999999823\t*\t σz ⨂I \n"
     ]
    }
   ],
   "source": [
    "Nf, Nr = sq_ext.sq_get_energy_indices_hamiltonian(H_qubit = H_0, H_fluxonium=H1, H_resonator=H2, n_eig=5)\n",
    "subspace_indices = np.intersect1d(np.where(Nf<=1), np.where(Nr<=1)).tolist()\n",
    "\n",
    "H_eff_SWT_subspace  = H_eff_SWT [subspace_indices][:, subspace_indices]\n",
    "P = sq_ext.decomposition_in_pauli_4x4(H_eff_SWT_subspace, print_pretty=True)"
   ],
   "metadata": {
    "collapsed": false,
    "ExecuteTime": {
     "end_time": "2024-07-18T14:23:52.511842800Z",
     "start_time": "2024-07-18T14:23:52.488519100Z"
    }
   },
   "id": "9746c93dde8f53c1",
   "execution_count": 77
  },
  {
   "cell_type": "code",
   "outputs": [
    {
     "name": "stdout",
     "output_type": "stream",
     "text": [
      " 9.372109825309492\t*\t I ⨂I \n",
      " -1.3308622631464644\t*\t I ⨂σz \n",
      " -2.7165133232394267\t*\t σz ⨂I \n",
      " -0.5134866767604\t*\t σz ⨂σz \n"
     ]
    }
   ],
   "source": [
    "sq_ext.decomposition_in_pauli_4x4(H_eff_SWT, print_pretty=True);"
   ],
   "metadata": {
    "collapsed": false,
    "ExecuteTime": {
     "end_time": "2024-07-18T14:24:05.161189500Z",
     "start_time": "2024-07-18T14:24:05.153519Z"
    }
   },
   "id": "4cddcc68ac40a744",
   "execution_count": 80
  },
  {
   "cell_type": "code",
   "outputs": [
    {
     "name": "stdout",
     "output_type": "stream",
     "text": [
      " 9.372109825309533\t*\t I ⨂I \n",
      " -1.3308622631464646\t*\t I ⨂σz \n",
      " -2.7165133232394796\t*\t σz ⨂I \n",
      " -0.5134866767603896\t*\t σz ⨂σz \n"
     ]
    }
   ],
   "source": [
    "sq_ext.decomposition_in_pauli_4x4(sq_ext.H_eff_SWT(H_0, H, n_eig, ψ_0=ψ_0), print_pretty=True);"
   ],
   "metadata": {
    "collapsed": false,
    "ExecuteTime": {
     "end_time": "2024-07-18T14:27:50.280835Z",
     "start_time": "2024-07-18T14:27:50.262927800Z"
    }
   },
   "id": "36d20c78cebf272e",
   "execution_count": 82
  },
  {
   "cell_type": "code",
   "outputs": [],
   "source": [],
   "metadata": {
    "collapsed": false
   },
   "id": "a4d4ebbcdcf79365"
  }
 ],
 "metadata": {
  "kernelspec": {
   "display_name": "Python 3",
   "language": "python",
   "name": "python3"
  },
  "language_info": {
   "codemirror_mode": {
    "name": "ipython",
    "version": 2
   },
   "file_extension": ".py",
   "mimetype": "text/x-python",
   "name": "python",
   "nbconvert_exporter": "python",
   "pygments_lexer": "ipython2",
   "version": "2.7.6"
  }
 },
 "nbformat": 4,
 "nbformat_minor": 5
}
