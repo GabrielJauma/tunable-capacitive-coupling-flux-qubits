{
 "cells": [
  {
   "cell_type": "code",
   "source": [
    "import Modules.SQcircuit_extensions as sq_ext\n",
    "import Modules.figures as figs\n",
    "import SQcircuit as sq\n",
    "import qutip as qt\n",
    "import numpy as np\n",
    "import matplotlib.pyplot as plt\n",
    "import importlib\n",
    "import scipy as sp\n",
    "\n",
    "%matplotlib ipympl\n",
    "# plt.rcParams.update({\n",
    "#     \"text.usetex\": True,\n",
    "#     \"font.family\": \"serif\",\n",
    "#     \"font.serif\": [\"Palatino\"],\n",
    "# })\n",
    "plt.rcParams['text.usetex'] = False\n",
    "importlib.reload(sq_ext)\n",
    "importlib.reload(sq)\n",
    "importlib.reload(figs)\n",
    "np.set_printoptions(linewidth=300, formatter={'float': '{:.12f}'.format})\n",
    "# np.set_printoptions(linewidth=200, formatter={'float': '{:.1e}'.format})"
   ],
   "metadata": {
    "collapsed": false,
    "ExecuteTime": {
     "end_time": "2024-05-28T13:33:49.944942Z",
     "start_time": "2024-05-28T13:33:49.940266Z"
    }
   },
   "id": "3a7e59d9d6b2fbdc",
   "execution_count": 10,
   "outputs": []
  },
  {
   "cell_type": "code",
   "source": [
    "nH = 1e-9\n",
    "fF = 1e-15\n",
    "GHz = 1e9\n",
    "h    = 6.626e-34\n",
    "e0   = 1.602e-19\n",
    "Φ_0 = h/(2*e0)"
   ],
   "metadata": {
    "collapsed": false,
    "ExecuteTime": {
     "end_time": "2024-05-28T13:33:50.153664Z",
     "start_time": "2024-05-28T13:33:50.151334Z"
    }
   },
   "id": "2417dcf6e78c9b35",
   "execution_count": 11,
   "outputs": []
  },
  {
   "cell_type": "markdown",
   "source": [
    "# Experimental parameters for the actual qubits"
   ],
   "metadata": {
    "collapsed": false
   },
   "id": "d8c62219037730d7"
  },
  {
   "cell_type": "code",
   "source": [
    "L_F_eff_1 = 26.5\n",
    "L_F_eff_2 = 20.4\n",
    "L_F_eff_3 = 32.2\n",
    "\n",
    "C_F_eff_1 = 26.9\n",
    "C_F_eff_2 = 22.4\n",
    "C_F_eff_3 = 24.8\n",
    "\n",
    "EJ_1 = 5.4\n",
    "EJ_2 = 9.5\n",
    "EJ_3 = 5.6\n",
    "\n",
    "E_L_1 = sq_ext.L_to_EL(L_F_eff_1)\n",
    "E_L_2 = sq_ext.L_to_EL(L_F_eff_2)\n",
    "E_L_3 = sq_ext.L_to_EL(L_F_eff_3)\n",
    "\n",
    "E_C_1 = sq_ext.C_to_EC(C_F_eff_1)\n",
    "E_C_2 = sq_ext.C_to_EC(C_F_eff_2)\n",
    "E_C_3 = sq_ext.C_to_EC(C_F_eff_3)\n",
    "\n",
    "experiment_coords = [ (EJ_1/E_L_1, E_C_1/E_L_1),\n",
    "                      (EJ_2/E_L_2, E_C_2/E_L_2),\n",
    "                      (EJ_3/E_L_3, E_C_3/E_L_3)]\n",
    "\n",
    "omega_q_exp = [3.7001944890642844, 3.4505095260121497, 3.0342472605322786]\n",
    "experiment_colors = ['b', 'g', 'r']\n",
    "ω_r_1 = 6.46\n",
    "ω_r_2 = 6.274\n",
    "ω_r_3 = 5.22\n",
    "ω_r_exp = [6.46, 6.274, 5.22] "
   ],
   "metadata": {
    "collapsed": false,
    "ExecuteTime": {
     "end_time": "2024-05-28T13:33:50.793836Z",
     "start_time": "2024-05-28T13:33:50.790592Z"
    }
   },
   "id": "d1da4be3ec2ce1e2",
   "execution_count": 12,
   "outputs": []
  },
  {
   "cell_type": "code",
   "source": [
    "n_eig  = 5\n",
    "n_plot = 50\n",
    "param_name = '\\\\Delta'\n",
    "param_values = np.geomspace(1e-4, 2, n_plot)\n",
    "Δ_values = param_values"
   ],
   "metadata": {
    "collapsed": false,
    "ExecuteTime": {
     "end_time": "2024-05-28T13:37:40.871405Z",
     "start_time": "2024-05-28T13:37:40.869321Z"
    }
   },
   "id": "a9f9be8bdea1c208",
   "execution_count": 28,
   "outputs": []
  },
  {
   "cell_type": "code",
   "source": [
    "L_R_eff = 40\n",
    "C_R_eff = 1/ (L_R_eff* nH)  /(ω_r*2*np.pi*GHz)**2/fF"
   ],
   "metadata": {
    "collapsed": false,
    "ExecuteTime": {
     "end_time": "2024-05-28T13:37:41.830181Z",
     "start_time": "2024-05-28T13:37:41.827952Z"
    }
   },
   "id": "a0733dbea6fde1e7",
   "execution_count": 29,
   "outputs": []
  },
  {
   "metadata": {
    "ExecuteTime": {
     "end_time": "2024-05-28T13:37:42.102871Z",
     "start_time": "2024-05-28T13:37:42.100614Z"
    }
   },
   "cell_type": "code",
   "source": [
    "C_R_eff, C_F_eff, L_F_eff, L_R_eff, EJ, Δ, ω_r = sq_ext.get_experimental_parameters('qubit 2')\n",
    "φ_ext=0.5185"
   ],
   "id": "714e12c1743d789b",
   "execution_count": 30,
   "outputs": []
  },
  {
   "metadata": {
    "ExecuteTime": {
     "end_time": "2024-05-28T13:37:46.224240Z",
     "start_time": "2024-05-28T13:37:42.645141Z"
    }
   },
   "cell_type": "code",
   "source": [
    "Pauli_p1 = []\n",
    "Pauli_p2 = []\n",
    "Pauli_SWT = []\n",
    "ω_f_minus_ω_r = [] \n",
    "g_r_limit=np.zeros(len(Δ_values))\n",
    "g_fq_limit=np.zeros(len(Δ_values))\n",
    "\n",
    "for i, Δ in enumerate(Δ_values):\n",
    "    Lr = (L_R_eff - L_F_eff + Δ**2/L_F_eff)/4\n",
    "    fluxonium = sq_ext.sq_fluxonium(EJ=EJ, C_F_eff=C_F_eff, Lq=L_F_eff, Δ=Δ, φ_ext=φ_ext)\n",
    "    resonator = sq_ext.sq_resonator(L_R_eff=L_R_eff, C_R_eff=C_R_eff, Δ=Δ)\n",
    "    H_0 = sq_ext.hamiltonian_qubit(Lq=L_F_eff, Lr=Lr, fluxonium = fluxonium, resonator = resonator, Δ=0) \n",
    "    H   = sq_ext.hamiltonian_qubit(Lq=L_F_eff, Lr=Lr, fluxonium = fluxonium, resonator = resonator, Δ=Δ) \n",
    "    H_eff_p1  = sq_ext.H_eff_p1 (H_0, H, n_eig, real = True, remove_ground=True)\n",
    "    H_eff_p2  = sq_ext.H_eff_p2 (H_0, H, n_eig, real = True, remove_ground=True)\n",
    "    H_eff_SWT = sq_ext.H_eff_SWT(H_0, H, n_eig, real = True, remove_ground=True)\n",
    "    \n",
    "    if i ==0:\n",
    "        Nf, Nr = sq_ext.sq_get_energy_indices_hamiltonian(H_qubit = H_0, H_fluxonium=fluxonium.hamiltonian(), H_resonator=resonator.hamiltonian(), n_eig=5)\n",
    "        subspace_indices = np.intersect1d(np.where(Nf<=1), np.where(Nr<=1)).tolist()\n",
    "    \n",
    "    H_eff_p1_subspace   = H_eff_p1  [subspace_indices][:, subspace_indices]\n",
    "    H_eff_p2_subspace   = H_eff_p2  [subspace_indices][:, subspace_indices]\n",
    "    H_eff_SWT_subspace  = H_eff_SWT [subspace_indices][:, subspace_indices]\n",
    "    \n",
    "    Pauli_p1.append(sq_ext.decomposition_in_pauli_4x4   (H_eff_p1_subspace, print_pretty=False))\n",
    "    Pauli_p2.append(sq_ext.decomposition_in_pauli_4x4   (H_eff_p2_subspace, print_pretty=False))\n",
    "    Pauli_SWT.append(sq_ext.decomposition_in_pauli_4x4  (H_eff_SWT_subspace, print_pretty=False))\n",
    "    ω_f_minus_ω_r.append(H_eff_p1_subspace[2,2]-H_eff_p1_subspace[1,1])\n",
    "    \n",
    "    # Analytic estimation of coupling\n",
    "    Lq = L_F_eff\n",
    "    # Lr = L_R_eff\n",
    "    C_f = C_F_eff_1 * fF\n",
    "    C_r = C_R_eff * fF  \n",
    "    l = Lq*(Lq+4*Lr) - 4*Δ**2\n",
    "    Lf = l/(Lq+4*Lr)\n",
    "    Lres = l/Lq\n",
    "    L_f = Lf * nH\n",
    "    L_r = Lres * nH\n",
    "    E_L_f = sq_ext.L_to_EL(Lf)\n",
    "    V =  lambda φ: E_L_f*φ**2/2 - EJ*GHz*np.cos(φ+np.pi)\n",
    "    φ_min = sp.optimize.minimize_scalar(V).x\n",
    "    Φ_f_fq_limit_01 = (Φ_0 / (2 * np.pi)) * φ_min / np.sqrt(sq.hbar) \n",
    "    Φ_f_r_limit_01  = np.sqrt(0.5*np.sqrt(L_f/C_f))\n",
    "    Φ_r_01 = np.sqrt(0.5*np.sqrt(L_r/C_r))\n",
    "    g_fq_limit[i] = 2 * Δ / (l * nH) * Φ_f_fq_limit_01 * Φ_r_01  /2 / np.pi / GHz\n",
    "    g_r_limit[i] = 2 * Δ / (l * nH) * Φ_f_r_limit_01 * Φ_r_01 /2 / np.pi / GHz\n",
    "    \n",
    "    \n",
    "Pauli_p1 = np.array(Pauli_p1)\n",
    "Pauli_p1 = Pauli_p1- Pauli_p1[0,:]\n",
    "\n",
    "Pauli_p2 = np.array(Pauli_p2)\n",
    "Pauli_p2 = Pauli_p2- Pauli_p2[0,:]\n",
    "\n",
    "Pauli_SWT = np.array(Pauli_SWT)\n",
    "Pauli_SWT = Pauli_SWT- Pauli_SWT[0,:]\n",
    "\n",
    "ω_f_minus_ω_r = np.array(ω_f_minus_ω_r)"
   ],
   "id": "ac311125fc639a73",
   "execution_count": 31,
   "outputs": []
  },
  {
   "cell_type": "code",
   "source": [
    "fig, [ax1, ax2] = plt.subplots(ncols=2, figsize =[7,3.5], dpi=150)\n",
    "linestyles = ['-', '--',':' ]\n",
    "colors = figs.generate_colors_from_colormap(10, 'tab10')\n",
    "\n",
    "for i, Pauli in enumerate([Pauli_p1, Pauli_p2, Pauli_SWT]):\n",
    "# for i, Pauli in enumerate([Pauli_SWT]):\n",
    "    # energies_0 = Pauli[:, :,0]\n",
    "    # energies_1 = Pauli[:, 0,:]\n",
    "    # couplings  = np.abs(Pauli[:, 1:,1:])\n",
    "    # ax1.plot(Δ_values, couplings.reshape(n_plot,9), linestyle=linestyles[i])\n",
    "    # ax2.plot(Δ_values, np.abs(energies_0)         , linestyle=linestyles[i])\n",
    "    # ax2.plot(Δ_values, np.abs(energies_1)         , linestyle=linestyles[i])\n",
    "    \n",
    "    σxσx = np.abs(Pauli[:, 1,1])\n",
    "    σyσy = np.abs(Pauli[:, 2,2])\n",
    "    σzσz = np.abs(Pauli[:, 3,3])\n",
    "    ωf = np.abs(Pauli[:, 0,-1])\n",
    "    ωr = np.abs(Pauli[:, -1,0])\n",
    "\n",
    "    ax1.plot(Δ_values, σxσx, color = colors[0], linestyle=linestyles[i], label = r'$\\sigma^x\\sigma^x$')\n",
    "    ax1.plot(Δ_values, σyσy, color = colors[1], linestyle=linestyles[i], label = r'$\\sigma^y\\sigma^y$')\n",
    "    ax1.plot(Δ_values, σzσz, color = colors[2], linestyle=linestyles[i], label = r'$\\sigma^z\\sigma^z$')\n",
    "    ax1.plot(Δ_values, ω_f_minus_ω_r/10 , color = colors[3], linestyle=linestyles[i], label = r'$(\\omega_+-\\omega_-)/10$')\n",
    "\n",
    "    ax1.plot(Δ_values, g_fq_limit, 'x', color = colors[0], label = 'Fluxon limit', markersize='2')\n",
    "    ax1.plot(Δ_values, g_r_limit , 's', color = colors[0], label = 'Plasmon limit', markersize='2')\n",
    "\n",
    "    \n",
    "    ax2.plot(Δ_values, ωf, color = colors[4], linestyle=linestyles[i], label = r'$\\omega_-$')\n",
    "    ax2.plot(Δ_values, ωr, color = colors[9], linestyle=linestyles[i], label = r'$\\omega_+$')\n",
    "\n",
    "    if i ==0:\n",
    "        ax1.legend(ncol=2, fontsize=9)\n",
    "        ax2.legend(        fontsize=9)\n",
    "\n",
    "\n",
    "ax1.set_yscale('log')\n",
    "ax1.set_xscale('log')\n",
    "ax1.set_ylim([1e-6,1e3])\n",
    "ax1.set_xlim([1e-3,2])\n",
    "ax1.set_ylabel('$g$')\n",
    "ax1.set_xlabel('$\\Delta$')\n",
    "\n",
    "ax2.set_ylim([1e-8,1e-2])\n",
    "ax2.set_xlim([1e-3,2])\n",
    "ax2.set_yscale('log')\n",
    "ax2.set_xscale('log')\n",
    "ax2.set_ylabel('$E(\\Delta)-E(0)$')\n",
    "ax2.set_xlabel('$\\Delta$')\n",
    "fig.suptitle(r' --- P1 $\\quad$ - - P2 $\\quad$ $\\cdots$ SWT')\n",
    "fig.tight_layout()\n",
    "figs.export('g_and_E_vs_delta_qubit_2_phi_ext_0.518.pdf', fig)\n",
    "fig.show()"
   ],
   "metadata": {
    "collapsed": false,
    "ExecuteTime": {
     "end_time": "2024-05-28T13:38:56.520197Z",
     "start_time": "2024-05-28T13:38:55.671533Z"
    }
   },
   "id": "941028cfc2c2a102",
   "execution_count": 35,
   "outputs": []
  },
  {
   "metadata": {
    "ExecuteTime": {
     "end_time": "2024-05-16T10:48:19.939241Z",
     "start_time": "2024-05-16T10:48:19.936804Z"
    }
   },
   "cell_type": "code",
   "source": [
    "Pauli_p1[-1]"
   ],
   "id": "6d6f32fa834320c4",
   "execution_count": 14,
   "outputs": []
  },
  {
   "metadata": {
    "ExecuteTime": {
     "end_time": "2024-05-16T10:48:15.083126Z",
     "start_time": "2024-05-16T10:48:15.080635Z"
    }
   },
   "cell_type": "code",
   "source": [
    "Pauli_SWT[-1]"
   ],
   "id": "2e5fb3072a3d6cd6",
   "execution_count": 13,
   "outputs": []
  },
  {
   "cell_type": "code",
   "source": [
    "plt.close('all')"
   ],
   "metadata": {
    "collapsed": false,
    "ExecuteTime": {
     "end_time": "2024-05-09T21:24:49.728993300Z",
     "start_time": "2024-05-09T21:24:49.719068800Z"
    }
   },
   "id": "8282da7222f66d77",
   "execution_count": 232,
   "outputs": []
  },
  {
   "cell_type": "code",
   "source": [
    "g_r_limit=np.zeros(len(Δ_values))\n",
    "g_fq_limit=np.zeros(len(Δ_values))\n",
    "\n",
    "Lq = L_F_eff_1\n",
    "Lr = L_R_eff\n",
    "C_f = C_F_eff_1 * fF\n",
    "C_r = C_R_eff * fF\n",
    "EJ = EJ_1\n",
    "\n",
    "for i, Δ in enumerate(Δ_values):\n",
    "    l = Lq*(Lq+4*Lr) - 4*Δ**2\n",
    "    \n",
    "    Lf = l/(Lq+4*Lr)\n",
    "    Lres = l/Lq\n",
    "    L_f = Lf * nH\n",
    "    L_r = Lres * nH\n",
    "    E_L_f = sq_ext.L_to_EL(Lf)\n",
    "\n",
    "    V =  lambda φ: E_L_f*φ**2/2 - EJ*GHz*np.cos(φ+np.pi)\n",
    "    φ_min = sp.optimize.minimize_scalar(V).x\n",
    "\n",
    "    Φ_f_fq_limit_01 = (Φ_0 / (2 * np.pi)) * φ_min / np.sqrt(sq.hbar) \n",
    "    Φ_f_r_limit_01  = np.sqrt(0.5*np.sqrt(L_f/C_f))\n",
    "\n",
    "    Φ_r_01 = np.sqrt(0.5*np.sqrt(L_r/C_r))\n",
    "\n",
    "    g_fq_limit[i] = 2 * Δ / (l * nH) * Φ_f_fq_limit_01 * Φ_r_01  /2 / np.pi / GHz\n",
    "    g_r_limit[i] = 2 * Δ / (l * nH) * Φ_f_r_limit_01 * Φ_r_01 /2 / np.pi / GHz\n",
    "    "
   ],
   "metadata": {
    "collapsed": false,
    "ExecuteTime": {
     "end_time": "2024-05-09T21:16:54.941354600Z",
     "start_time": "2024-05-09T21:16:54.913462400Z"
    }
   },
   "id": "3a3330feeaf21d3c",
   "execution_count": 221,
   "outputs": []
  },
  {
   "cell_type": "code",
   "source": [
    "EJ_values = np.geomspace(1,100,50)\n",
    "g_r_limit = np.zeros(len(EJ_values))\n",
    "g_fq_limit = np.zeros(len(EJ_values))\n",
    "Δ=1\n",
    "g_numeric = np.zeros([len(EJ_values),4,4])\n",
    "\n",
    "for i, EJ in enumerate(EJ_values):\n",
    "    l = Lq*(Lq+4*Lr) - 4*Δ**2\n",
    "    \n",
    "    Lf = l/(Lq+4*Lr)\n",
    "    Lres = l/Lq\n",
    "    L_f = Lf * nH\n",
    "    L_r = Lres * nH\n",
    "    E_L_f = sq_ext.L_to_EL(Lf)\n",
    "\n",
    "    V =  lambda φ: E_L_f*φ**2/2 - EJ*np.cos(φ+np.pi)\n",
    "    φ_min = sp.optimize.minimize_scalar(V).x\n",
    "\n",
    "    Φ_f_fq_limit_01= (Φ_0 / (2 * np.pi)) * φ_min / np.sqrt(sq.hbar) \n",
    "    Φ_f_r_limit_01 = np.sqrt(0.5*np.sqrt(L_f/C_f))\n",
    "\n",
    "    Φ_r_01 = np.sqrt(0.5*np.sqrt(L_r/C_r))\n",
    "\n",
    "    g_fq_limit[i] = 2 * Δ / (l * nH) * Φ_f_fq_limit_01 * Φ_r_01  /2 / np.pi / GHz\n",
    "    g_r_limit[i] = 2 * Δ / (l * nH) * Φ_f_r_limit_01 * Φ_r_01 /2 / np.pi / GHz\n",
    "    \n",
    "    H   = sq_ext.hamiltonian_qubit(EJ=EJ, Δ=Δ)\n",
    "    H_0 = sq_ext.hamiltonian_qubit(EJ=EJ, Δ=0)\n",
    "    \n",
    "    H_eff_0 = sq_ext.H_eff_SWT(H_0, H_0, n_eig, real=False)\n",
    "    H_eff = sq_ext.H_eff_SWT(H_0, H , n_eig, real=False)\n",
    "    # g_numeric[i] = H_eff[1,3]\n",
    "    g_numeric[i,:] = H_eff\n",
    "    "
   ],
   "metadata": {
    "collapsed": false,
    "ExecuteTime": {
     "end_time": "2024-05-09T21:16:24.648162Z",
     "start_time": "2024-05-09T21:16:24.464707400Z"
    }
   },
   "id": "c1378c26cf9b0643",
   "execution_count": 220,
   "outputs": []
  },
  {
   "cell_type": "code",
   "source": [
    "E_L_f"
   ],
   "metadata": {
    "collapsed": false,
    "ExecuteTime": {
     "end_time": "2024-05-09T21:15:54.555304300Z",
     "start_time": "2024-05-09T21:15:54.537380800Z"
    }
   },
   "id": "c752cd5a8773edb6",
   "execution_count": 219,
   "outputs": []
  },
  {
   "cell_type": "code",
   "source": [
    "fig, ax = plt.subplots()\n",
    "ax.plot(EJ_values, np.abs(np.reshape(g_numeric, [len(EJ_values), 16])),'.k')\n",
    "ax.plot(EJ_values[25:], g_fq_limit[25:], 'r')\n",
    "ax.plot(EJ_values, g_r_limit,'b')\n",
    "#ax.set_ylabel(r'$')\n",
    "#ax.set_xlabel(r'$')\n",
    "#ax.set_title(r'$')\n",
    "ax.set_xscale('log')\n",
    "ax.set_ylim([0.1,0.75])\n",
    "fig.tight_layout()\n",
    "fig.show()\n",
    "plt.close('all')"
   ],
   "metadata": {
    "collapsed": false,
    "ExecuteTime": {
     "end_time": "2024-05-07T13:54:19.601099Z",
     "start_time": "2024-05-07T13:54:19.501440Z"
    }
   },
   "id": "ec9cb6ee74418469",
   "execution_count": 32,
   "outputs": []
  },
  {
   "cell_type": "code",
   "source": [],
   "metadata": {
    "collapsed": false
   },
   "id": "59d3a40200b16cb8",
   "execution_count": null,
   "outputs": []
  },
  {
   "cell_type": "code",
   "source": [
    "## Testings\n",
    "Δ=1\n",
    "fluxonium = sq_ext.sq_fluxonium(Csh=Csh, C=C, CJ=CJ, Lq=Lq, Lr=Lr, EJ=EJ, Δ=Δ)\n",
    "resonator = sq_ext.sq_resonator(Csh=Csh, C=C, CJ=CJ, Lq=Lq, Lr=Lr, EJ=EJ, Δ=Δ)\n",
    "\n",
    "H_0 = sq_ext.hamiltonian_qubit(fluxonium = fluxonium, resonator = resonator, Δ=0) \n",
    "H   = sq_ext.hamiltonian_qubit(fluxonium = fluxonium, resonator = resonator, Δ=Δ) \n",
    "\n",
    "H_eff_p1 = sq_ext.H_eff_p1(H_0, H, 5, real = True, remove_ground=True)\n",
    "H_eff_p1"
   ],
   "metadata": {
    "collapsed": false,
    "ExecuteTime": {
     "end_time": "2024-05-09T16:28:58.180976900Z",
     "start_time": "2024-05-09T16:28:58.093397Z"
    }
   },
   "id": "f22d492056ca8d5c",
   "execution_count": 209,
   "outputs": []
  },
  {
   "cell_type": "code",
   "source": [],
   "metadata": {
    "collapsed": false
   },
   "id": "96caeed1bf5bb113",
   "execution_count": null,
   "outputs": []
  }
 ],
 "metadata": {
  "kernelspec": {
   "display_name": "Python 3",
   "language": "python",
   "name": "python3"
  },
  "language_info": {
   "codemirror_mode": {
    "name": "ipython",
    "version": 2
   },
   "file_extension": ".py",
   "mimetype": "text/x-python",
   "name": "python",
   "nbconvert_exporter": "python",
   "pygments_lexer": "ipython2",
   "version": "2.7.6"
  }
 },
 "nbformat": 4,
 "nbformat_minor": 5
}
