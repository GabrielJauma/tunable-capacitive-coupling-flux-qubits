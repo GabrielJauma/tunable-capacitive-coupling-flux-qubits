{
 "cells": [
  {
   "cell_type": "code",
   "metadata": {
    "ExecuteTime": {
     "end_time": "2024-05-20T09:47:13.643455Z",
     "start_time": "2024-05-20T09:47:13.351457Z"
    }
   },
   "source": [
    "import Modules.SQcircuit_extensions as sq_ext\n",
    "import Modules.figures as figs\n",
    "import SQcircuit as sq\n",
    "import numpy as np\n",
    "import scipy as sp\n",
    "import matplotlib.pyplot as plt\n",
    "import matplotlib.patches as patches\n",
    "import importlib\n",
    "from IPython.display import HTML\n",
    "\n",
    "%matplotlib ipympl\n",
    "plt.rcParams['text.usetex'] = False\n",
    "importlib.reload(sq_ext)\n",
    "importlib.reload(sq)\n",
    "importlib.reload(figs)\n",
    "np.set_printoptions(linewidth=200, formatter={'float': '{:.3e}'.format})\n",
    "# np.set_printoptions(linewidth=200, formatter={'float': '{:.1f}'.format})"
   ],
   "execution_count": 1,
   "outputs": []
  },
  {
   "cell_type": "code",
   "metadata": {
    "ExecuteTime": {
     "end_time": "2024-05-20T09:47:13.645799Z",
     "start_time": "2024-05-20T09:47:13.644119Z"
    }
   },
   "source": [
    "# Fundamental constants\n",
    "h    = 6.62607015e-34\n",
    "GHz  = 1e9\n",
    "e0   = 1.602176634e-19\n",
    "Φ_0 = h/(2*e0)"
   ],
   "execution_count": 2,
   "outputs": []
  },
  {
   "cell_type": "markdown",
   "metadata": {},
   "source": [
    "# KIT's qubit\n",
    "\n",
    "This notebook studies the qubit proposed by KIT. It's lumped element model is:\n",
    "<img src='../Other/Single qubit 4 nodes CC coupled to ground.jpg' width='500'>\n"
   ]
  },
  {
   "cell_type": "markdown",
   "metadata": {},
   "source": [
    "# Circuit definitions\n",
    "## Qubit"
   ]
  },
  {
   "cell_type": "code",
   "metadata": {
    "ExecuteTime": {
     "end_time": "2024-05-20T09:47:14.587477Z",
     "start_time": "2024-05-20T09:47:14.585306Z"
    }
   },
   "source": [
    "# Circuit parameters\n",
    "Csh = 15\n",
    "C   = 15\n",
    "Cg  = 10\n",
    "CJ  = 3\n",
    "Lq  = 25\n",
    "Lr  = 10\n",
    "Δ   = 0.1\n",
    "# Δ   = 2\n",
    "EJ  = 10.0\n",
    "l = Lq*(Lq+4*Lr) - 4*Δ**2"
   ],
   "execution_count": 3,
   "outputs": []
  },
  {
   "cell_type": "code",
   "source": [
    "Cf = C/2 + Csh + CJ\n",
    "Lf = l/(Lq+4*Lr)\n",
    "C_f = Cf * 1e-15\n",
    "L_f = Lf * 1e-9\n",
    "Z_f = np.sqrt(L_f/C_f)\n",
    "\n",
    "L_r = l/Lq * 1e-9\n",
    "C_r = C/2 * 1e-15\n",
    "Z_r = np.sqrt(L_r/C_r)"
   ],
   "metadata": {
    "collapsed": false,
    "ExecuteTime": {
     "end_time": "2024-05-20T09:47:14.895175Z",
     "start_time": "2024-05-20T09:47:14.892515Z"
    }
   },
   "execution_count": 4,
   "outputs": []
  },
  {
   "cell_type": "markdown",
   "source": [],
   "metadata": {
    "collapsed": false
   }
  },
  {
   "cell_type": "code",
   "metadata": {
    "ExecuteTime": {
     "end_time": "2024-05-20T09:47:15.562490Z",
     "start_time": "2024-05-20T09:47:15.546129Z"
    }
   },
   "source": [
    "qubit = sq_ext.sq_qubit(C = C, CJ = CJ, Csh= Csh , Lq = Lq, Lr = Lr, Δ = Δ, EJ = EJ)\n",
    "loop = qubit.loops[0]\n",
    "qubit.description()"
   ],
   "execution_count": 5,
   "outputs": []
  },
  {
   "cell_type": "code",
   "metadata": {
    "ExecuteTime": {
     "end_time": "2024-05-20T09:47:15.768897Z",
     "start_time": "2024-05-20T09:47:15.766919Z"
    }
   },
   "source": [
    "sq_ext.print_flux_transformation(qubit)"
   ],
   "execution_count": 6,
   "outputs": []
  },
  {
   "cell_type": "markdown",
   "metadata": {},
   "source": [
    "# Equivalent circuits"
   ]
  },
  {
   "cell_type": "markdown",
   "metadata": {},
   "source": [
    "### Resonator"
   ]
  },
  {
   "cell_type": "code",
   "metadata": {
    "ExecuteTime": {
     "end_time": "2024-05-20T09:47:16.354904Z",
     "start_time": "2024-05-20T09:47:16.349815Z"
    }
   },
   "source": [
    "resonator_elements = {\n",
    "    # (0, 1): [sq.Capacitor(C/2, 'fF'), sq.Inductor (l/Lq, 'nH')],\n",
    "    (0, 1): [sq.Capacitor(C/2 * 1e-15, 'F'), sq.Inductor (l/Lq * 1e-9, 'H')],\n",
    "}\n",
    "resonator = sq.Circuit(resonator_elements )\n",
    "resonator.description()"
   ],
   "execution_count": 7,
   "outputs": []
  },
  {
   "cell_type": "markdown",
   "metadata": {},
   "source": [
    "### Fluxonium"
   ]
  },
  {
   "cell_type": "code",
   "metadata": {
    "ExecuteTime": {
     "end_time": "2024-05-20T09:47:16.794213Z",
     "start_time": "2024-05-20T09:47:16.788130Z"
    }
   },
   "source": [
    "Cf = C/2 + Csh + CJ\n",
    "Lf = l/(Lq+4*Lr)\n",
    "\n",
    "C_f = Cf * 1e-15\n",
    "L_f = Lf * 1e-9\n",
    "loop_fluxonium = sq.Loop(0.5)\n",
    "fluxonium_elements = {\n",
    "    (0, 1): [sq.Capacitor(C/2 + Csh + CJ, 'fF'), \n",
    "             sq.Inductor(Lf, 'nH', loops=[loop_fluxonium]),\n",
    "             sq.Junction(EJ, 'GHz', loops=[loop_fluxonium])],\n",
    "}\n",
    "fluxonium = sq.Circuit(fluxonium_elements)\n",
    "fluxonium.description()"
   ],
   "execution_count": 8,
   "outputs": []
  },
  {
   "cell_type": "markdown",
   "metadata": {},
   "source": [
    "# Spectrum"
   ]
  },
  {
   "cell_type": "markdown",
   "metadata": {},
   "source": [
    "## Resonator spectrum"
   ]
  },
  {
   "cell_type": "code",
   "metadata": {
    "collapsed": true,
    "ExecuteTime": {
     "end_time": "2024-05-20T09:47:17.689507Z",
     "start_time": "2024-05-20T09:47:17.686868Z"
    }
   },
   "source": [
    "L_r = l/Lq * 1e-9\n",
    "C_r = C/2 * 1e-15\n",
    "w_r = 1/np.sqrt(L_r*C_r) / 2 / np.pi / GHz\n",
    "E_harm = w_r * np.arange(0,8)\n",
    "E_harm"
   ],
   "execution_count": 9,
   "outputs": []
  },
  {
   "cell_type": "code",
   "source": [
    "resonator.set_trunc_nums([10])\n",
    "_ = resonator.diag(6)\n",
    "resonator._efreqs"
   ],
   "metadata": {
    "collapsed": false,
    "ExecuteTime": {
     "end_time": "2024-05-20T09:47:18.462290Z",
     "start_time": "2024-05-20T09:47:18.456780Z"
    }
   },
   "execution_count": 10,
   "outputs": []
  },
  {
   "cell_type": "markdown",
   "metadata": {},
   "source": [
    "## Spectrum vs external flux"
   ]
  },
  {
   "cell_type": "code",
   "metadata": {
    "ExecuteTime": {
     "end_time": "2024-05-20T09:47:20.693592Z",
     "start_time": "2024-05-20T09:47:19.091299Z"
    }
   },
   "source": [
    "qubit.set_trunc_nums([5, 15])\n",
    "fluxonium.set_trunc_nums([15])\n",
    "\n",
    "# spectrum of the qubit\n",
    "# phi = np.linspace(0,1,200)\n",
    "#\n",
    "phi = np.concatenate((np.linspace(0,0.36,50),np.linspace(0.36,0.38,50), np.linspace(0.38,0.46,10), np.linspace(0.46,0.47,50), np.linspace(0.5,0.6,20), np.linspace(0.6,1,20)))\n",
    "n_eig=10\n",
    "E_circuit = np.zeros((n_eig, len(phi)))\n",
    "E_fluxonium = np.zeros((n_eig//2, len(phi)))\n",
    "\n",
    "eig_colors = plt.get_cmap('viridis_r')(np.linspace(0, 255, n_eig).astype('int'))\n",
    "for i in range(len(phi)):\n",
    "    # set the external flux for the loop\n",
    "    loop_fluxonium.set_flux(phi[i])\n",
    "    loop.set_flux(phi[i])\n",
    "    # diagonalize the qubit\n",
    "    E_circuit[:, i] = qubit.diag(n_eig)[0]\n",
    "    E_fluxonium[:, i] = fluxonium.diag(n_eig//2)[0]"
   ],
   "execution_count": 11,
   "outputs": []
  },
  {
   "cell_type": "code",
   "metadata": {
    "ExecuteTime": {
     "end_time": "2024-05-20T09:47:22.131242Z",
     "start_time": "2024-05-20T09:47:21.721790Z"
    }
   },
   "source": [
    "fig, axs = plt.subplots(dpi=400, ncols=3, figsize = [8,4])\n",
    "\n",
    "for ax in axs:\n",
    "    for i in range(n_eig):\n",
    "        if i ==1:\n",
    "            ax.plot(phi, E_circuit[i,:]- E_circuit[0,:], color=eig_colors[i], linewidth=1, label='Full circuit')\n",
    "        else:\n",
    "            ax.plot(phi, E_circuit[i,:]- E_circuit[0,:], color=eig_colors[i], linewidth=1)\n",
    "    for i in range(n_eig//2):\n",
    "        if i ==0:\n",
    "            ax.plot([phi[0],phi[-1]], [E_harm[i],E_harm[i]], ':k' , label='Resonator')\n",
    "            ax.plot(phi, E_fluxonium[i,:]- E_fluxonium[0,:], color='r', linestyle = ':', label='Fluxonium')\n",
    "        else:\n",
    "            ax.plot([phi[0],phi[-1]], [E_harm[i],E_harm[i]], ':k' )\n",
    "            ax.plot(phi, E_fluxonium[i,:]- E_fluxonium[0,:], color='r', linestyle = ':')\n",
    "\n",
    "    ax.set_box_aspect(1)\n",
    "    ax.set_xlabel(r\"$\\Phi_{ext}/\\Phi_0$\", fontsize=13)\n",
    "    if ax == axs[0]:\n",
    "        rect = patches.Rectangle((0.34, 6.5), 0.06, 1.5, linewidth=1, edgecolor='b', facecolor='none')\n",
    "        ax.add_patch(rect)\n",
    "        ax.set_title('(a)')\n",
    "        ax.set_ylabel(r\"$E_i-E_0$\", fontsize=13)\n",
    "    elif ax == axs[1]:\n",
    "        ax.set_title('(b)')\n",
    "        ax.set_xlim(0.36,0.38)\n",
    "        ax.set_ylim(7,7.5)\n",
    "\n",
    "    else :\n",
    "        ax.set_title('(c)')\n",
    "        ax.set_xlim(0.46,0.47)\n",
    "        ax.set_ylim(7,7.5)\n",
    "        ax.set_xticks([0.46, 0.465, 0.47])\n",
    "        ax.legend()\n",
    "fig.tight_layout()\n",
    "fig.show()\n",
    "figs.export('Spectrum.pdf')"
   ],
   "execution_count": 12,
   "outputs": []
  },
  {
   "cell_type": "markdown",
   "metadata": {},
   "source": [
    "# Eigenstates"
   ]
  },
  {
   "cell_type": "code",
   "execution_count": 16,
   "metadata": {
    "ExecuteTime": {
     "end_time": "2024-01-17T11:54:08.062120864Z",
     "start_time": "2024-01-17T11:54:08.035894189Z"
    }
   },
   "source": [
    "fig_eigs, axs_eigs = plt.subplots(nrows=2, ncols=2)\n",
    "axs_eigs[0,0].set_title('(a)')\n",
    "axs_eigs[0,1].set_title('(b)')\n",
    "axs_eigs[1,0].set_title('(c)')\n",
    "axs_eigs[1,1].set_title('(d)')"
   ],
   "outputs": []
  },
  {
   "cell_type": "markdown",
   "metadata": {},
   "source": [
    "## Potential energy and eigenstates resoantor"
   ]
  },
  {
   "cell_type": "code",
   "execution_count": 10,
   "metadata": {
    "collapsed": true,
    "ExecuteTime": {
     "end_time": "2024-01-29T12:31:27.457252872Z",
     "start_time": "2024-01-29T12:31:27.169491722Z"
    }
   },
   "source": [
    "E_L_r = (Φ_0/(2*np.pi))**2/L_r / h\n",
    "\n",
    "φ_r = np.linspace(-3,3,200)\n",
    "n_eig = 2\n",
    "\n",
    "V_r = 0.5 * E_L_r * (φ_r)**2\n",
    "\n",
    "resonator.set_trunc_nums([20])\n",
    "_, _ = resonator.diag(n_eig)\n",
    "\n",
    "states_r = [resonator.eig_phase_coord(k=i, grid=[φ_r/2/np.pi]) for i in range(n_eig)]\n",
    "labels_r = [r'$\\psi_R^0$', r'$\\psi_R^1$']\n",
    "\n",
    "fig, ax_r = plt.subplots()\n",
    "for ax in [ax_r, axs_eigs[0,0]]:\n",
    "    ax.plot(φ_r, (V_r-V_r.min())/1e9, 'k:')#, label = r'$\\frac{1}{2}E_{L_{R}}\\varphi_R^2$')\n",
    "    [ax.plot(φ_r, np.abs(state)**2, label = label) for state, label in zip(states_r, labels_r)]\n",
    "    ax.set_ylim([-.1,3])\n",
    "    ax.set_xlabel(r'$\\varphi_R$')\n",
    "    ax.legend()\n",
    "fig.show()"
   ],
   "outputs": []
  },
  {
   "cell_type": "markdown",
   "metadata": {},
   "source": [
    "## Potential energy and eigenstates of the fluxonium\n"
   ]
  },
  {
   "cell_type": "code",
   "execution_count": 11,
   "metadata": {
    "ExecuteTime": {
     "end_time": "2024-01-29T12:31:28.189385204Z",
     "start_time": "2024-01-29T12:31:28.172638421Z"
    }
   },
   "source": [
    "L_q = l / (Lq + 4*Lr) * 1e-9\n",
    "E_J = EJ * 1e9"
   ],
   "outputs": []
  },
  {
   "cell_type": "code",
   "execution_count": 12,
   "metadata": {
    "ExecuteTime": {
     "end_time": "2024-01-29T12:31:28.480261999Z",
     "start_time": "2024-01-29T12:31:28.473146902Z"
    }
   },
   "source": [
    "E_L_f = (Φ_0/(2*np.pi))**2/L_q / h\n",
    "E_C = e0**2 / (2*(C/2 + Csh + CJ)*1e-15) / h"
   ],
   "outputs": []
  },
  {
   "cell_type": "code",
   "execution_count": 13,
   "metadata": {
    "ExecuteTime": {
     "end_time": "2024-01-29T12:31:28.821804576Z",
     "start_time": "2024-01-29T12:31:28.814305453Z"
    }
   },
   "source": [
    "print(E_L_f/GHz, E_C/GHz, E_J/GHz)"
   ],
   "outputs": []
  },
  {
   "cell_type": "code",
   "source": [
    "E_J / E_L_f"
   ],
   "metadata": {
    "collapsed": false,
    "ExecuteTime": {
     "end_time": "2024-01-29T12:31:29.774703126Z",
     "start_time": "2024-01-29T12:31:29.766888446Z"
    }
   },
   "execution_count": 14,
   "outputs": []
  },
  {
   "cell_type": "code",
   "source": [
    "# φ_f = np.linspace(-4, 4, 200)\n",
    "# φ_ext = np.pi\n",
    "# # φ_ext = 0\n",
    "# V_f = 0.5 * E_L_f * (φ_f) ** 2 - E_J * np.cos(φ_f - φ_ext)\n",
    "# \n",
    "# n_eig = 3\n",
    "# _, _ = fluxonium_qutrit.diag(n_eig, real=True)\n",
    "# states_f = [fluxonium_qutrit.eig_phase_coord(k=i, grid=[φ_f / 2 / np.pi]) for i in range(n_eig)]\n",
    "# # states_f = [fluxonium_qutrit.eig_phase_coord(k=i, grid=[φ_f]) for i in range(n_eig)]\n",
    "# labels_f = [r'$\\psi_F^0$', r'$\\psi_F^1$', r'$\\psi_F^2$']\n",
    "# colors_f = ['r', 'g', 'b']\n",
    "# fig, ax_f = plt.subplots()\n",
    "# \n",
    "# ax_f.plot(φ_f, (V_f - V_f.min()) / GHz,\n",
    "#           'k:')  #, label = r'$\\frac{1}{2}E_{L_{F}}\\varphi_F^2 - E_J\\cos(\\varphi_F-\\varphi_{ext})$')\n",
    "# # [ax_f.plot(φ_f, np.abs(state)**2, label = label) for state, label in zip(states_f, labels_f)]\n",
    "# [ax_f.plot(φ_f, np.real(state), label=label, color=color) for state, label, color in zip(states_f, labels_f, colors_f)]\n",
    "# [ax_f.plot(φ_f, np.imag(state), '--', label=label, color=color) for state, label, color in\n",
    "#  zip(states_f, labels_f, colors_f)]\n",
    "# ax_f.set_ylim([-2, 3])\n",
    "# # ax_f.set_xlim([-4,4])\n",
    "# ax_f.set_xlabel(r'$\\varphi_F$')\n",
    "# ax_f.legend(loc=1, framealpha=1)\n",
    "# \n",
    "# fig.show()"
   ],
   "metadata": {
    "collapsed": false,
    "ExecuteTime": {
     "end_time": "2024-01-29T12:31:30.132076999Z",
     "start_time": "2024-01-29T12:31:30.125427040Z"
    }
   },
   "execution_count": 15,
   "outputs": []
  },
  {
   "cell_type": "code",
   "execution_count": 18,
   "metadata": {
    "collapsed": true,
    "ExecuteTime": {
     "end_time": "2024-01-24T13:31:04.158709800Z",
     "start_time": "2024-01-24T13:31:04.063358800Z"
    }
   },
   "source": [
    "φ_f = np.linspace(-3,3,200)\n",
    "φ_ext = np.pi\n",
    "φ_ext = 0\n",
    "V_f = 0.5 * E_L_f * (φ_f)**2 - E_J * np.cos(φ_f-φ_ext)\n",
    "\n",
    "n_eig = 3\n",
    "fluxonium.set_trunc_nums([20])\n",
    "loop_fluxonium.set_flux(φ_ext/2/np.pi)\n",
    "_, _ = fluxonium.diag(n_eig)\n",
    "states_f = [fluxonium.eig_phase_coord(k=i, grid=[φ_f/2/np.pi]) for i in range(n_eig)]\n",
    "# states_f = [fluxonium.eig_phase_coord(k=i, grid=[φ_q]) for i in range(n_eig)]\n",
    "labels_f = [r'$\\psi_F^0$', r'$\\psi_F^1$', r'$\\psi_F^2$']\n",
    "colors_f = ['r', 'g', 'b']\n",
    "fig, ax_f = plt.subplots()\n",
    "for ax in [ax_f, axs_eigs[0,1]]:\n",
    "    ax.plot(φ_r, (V_f-V_f.min())/1e9, 'k:')#, label = r'$\\frac{1}{2}E_{L_{F}}\\varphi_F^2 - E_J\\cos(\\varphi_F-\\varphi_{ext})$')\n",
    "    # [ax.plot(φ_f, np.abs(state)**2, label = label) for state, label in zip(states_f, labels_f)]\n",
    "    [ax.plot(φ_f, np.real(state), label = label, color=color) for state, label, color in zip(states_f, labels_f, colors_f)]\n",
    "    [ax.plot(φ_f, np.imag(state), '--', label = label, color=color) for state, label, color in zip(states_f, labels_f, colors_f)]\n",
    "    ax.set_ylim([-2,4])\n",
    "    ax.set_xlabel(r'$\\varphi_F$')\n",
    "    ax.legend(loc=1, framealpha=1)\n",
    "\n",
    "fig.show()"
   ],
   "outputs": []
  },
  {
   "cell_type": "markdown",
   "metadata": {},
   "source": [
    "## Eigenstates of the qubit in phase base"
   ]
  },
  {
   "cell_type": "code",
   "execution_count": 23,
   "metadata": {
    "ExecuteTime": {
     "end_time": "2024-01-17T11:54:20.568022980Z",
     "start_time": "2024-01-17T11:54:20.253909170Z"
    }
   },
   "source": [
    "qubit.set_trunc_nums([5,10])\n",
    "\n",
    "# creat the phase grid\n",
    "phi1 = 0\n",
    "phi2 = np.linspace(-.03, .03, 100)\n",
    "phi3 = np.linspace(-3, 3 , 100)\n",
    "grid = [phi1, phi2/2/np.pi, phi3/2/np.pi]\n",
    "\n",
    "state0_vs_ext_flux = []\n",
    "state1_vs_ext_flux = []\n",
    "state2_vs_ext_flux = []\n",
    "state3_vs_ext_flux = []\n",
    "\n",
    "ext_flux_list = [0.5, 0.55, 0.65, 1]\n",
    "# loop thorugh several values of external flux\n",
    "for ext_flux in ext_flux_list:\n",
    "    loop.set_flux(ext_flux)\n",
    "    _, _ = qubit.diag(n_eig=5)\n",
    "\n",
    "    # Calculate eigenstates in phase coord\n",
    "    state0_vs_ext_flux.append(qubit.eig_phase_coord(0, grid=grid))\n",
    "    state1_vs_ext_flux.append(qubit.eig_phase_coord(1, grid=grid))\n",
    "    state2_vs_ext_flux.append(qubit.eig_phase_coord(2, grid=grid))\n",
    "    state3_vs_ext_flux.append(qubit.eig_phase_coord(3, grid=grid))"
   ],
   "outputs": []
  },
  {
   "cell_type": "code",
   "execution_count": 24,
   "metadata": {
    "collapsed": true,
    "ExecuteTime": {
     "end_time": "2024-01-17T11:54:21.658229219Z",
     "start_time": "2024-01-17T11:54:21.212658480Z"
    }
   },
   "source": [
    "fig, axs = plt.subplots(4, 4, figsize=(4*4, 4*4), sharey='row', sharex = 'col', dpi=150)\n",
    "\n",
    "for i, ext_flux in enumerate(ext_flux_list):\n",
    "    axs[i, 0].contourf(phi3, phi2, np.abs(state0_vs_ext_flux[i].T) ** 2, cmap=\"Blues\" )\n",
    "    axs[i, 1].contourf(phi3, phi2, np.abs(state1_vs_ext_flux[i].T) ** 2, cmap=\"Oranges\" )\n",
    "    axs[i, 2].contourf(phi3, phi2, np.abs(state2_vs_ext_flux[i].T) ** 2, cmap=\"Greens\")\n",
    "    axs[i, 3].contourf(phi3, phi2, np.abs(state3_vs_ext_flux[i].T) ** 2, cmap=\"Reds\"   )\n",
    "    if i == 0:\n",
    "        axs_eigs[1, 0].contourf(phi3, phi2, np.abs(state0_vs_ext_flux[i].T) ** 2, cmap=\"Blues\")\n",
    "        axs_eigs[1, 0]. set_ylabel(r'$\\tilde{\\varphi}_R$')\n",
    "        axs_eigs[1, 0]. set_xlabel(r'$\\tilde{\\varphi}_F$')\n",
    "        axs_eigs[1, 0].text(.9,.9, r'$\\psi^0$', transform=axs_eigs[1, 0].transAxes, ha=\"center\", va=\"center\")\n",
    "        axs_eigs[1, 1].contourf(phi3, phi2, np.abs(state1_vs_ext_flux[i].T) ** 2, cmap=\"Oranges\")\n",
    "        axs_eigs[1, 1]. set_ylabel(r'$\\tilde{\\varphi}_R$')\n",
    "        axs_eigs[1, 1]. set_xlabel(r'$\\tilde{\\varphi}_F$')\n",
    "        axs_eigs[1, 1].text(.9,.9, r'$\\psi^1$', transform=axs_eigs[1, 1].transAxes, ha=\"center\", va=\"center\")\n",
    "    for j in range(4):\n",
    "        axs[-1, j].set_xlabel(r\"$\\varphi_2$\", fontsize=13)\n",
    "    axs[i, 0].set_ylabel(r\"$\\varphi_3$\", fontsize=13)\n",
    "    axs[i, 0].set_title('$\\phi_{ext}/\\phi_{0}$ ='+f'{ext_flux}', fontsize=13, y=0.9 )\n",
    "fig.suptitle('Eigenstates 0, 1, 2 and 3 (from left to right) in phase base')\n",
    "plt.subplots_adjust(wspace=0)\n",
    "plt.subplots_adjust(hspace=0)\n",
    "plt.show()"
   ],
   "outputs": []
  },
  {
   "cell_type": "markdown",
   "metadata": {},
   "source": [
    "# Eigenstates of the separate and combined systems"
   ]
  },
  {
   "cell_type": "code",
   "execution_count": 22,
   "metadata": {
    "collapsed": true,
    "ExecuteTime": {
     "end_time": "2023-10-19T10:03:58.920782Z",
     "start_time": "2023-10-19T10:03:58.300955200Z"
    }
   },
   "source": [
    "figs.export('Eigenstates.pdf', fig_eigs, hspace=.5, wspace=.3)\n",
    "fig_eigs.show()"
   ],
   "outputs": []
  },
  {
   "cell_type": "markdown",
   "metadata": {},
   "source": [
    "# Fluxonium-Resonator internal coupling in KIT's qubit"
   ]
  },
  {
   "cell_type": "markdown",
   "metadata": {},
   "source": [
    "### Approach 1: Numerical evaluation of the coupling that has been deduced from the Hamiltonian."
   ]
  },
  {
   "cell_type": "markdown",
   "metadata": {},
   "source": [
    "### Approach 1a: Using the fluxonium and resonator circuits."
   ]
  },
  {
   "cell_type": "code",
   "execution_count": 86,
   "source": [
    "n_eig=5\n",
    "n_max=40\n",
    "\n",
    "fluxonium_0 = sq_ext.sq_fluxonium(Δ=0)\n",
    "resonator_0 = sq_ext.sq_resonator(Δ=0)\n",
    "fluxonium = sq_ext.sq_fluxonium()\n",
    "resonator = sq_ext.sq_resonator()\n",
    "\n",
    "resonator_0.set_trunc_nums([n_max])\n",
    "fluxonium_0.set_trunc_nums([n_max])\n",
    "resonator.set_trunc_nums  ([n_max])\n",
    "fluxonium.set_trunc_nums  ([n_max])\n",
    "\n",
    "_ = fluxonium.diag(n_eig)\n",
    "_ = resonator.diag(n_eig)\n",
    "_ = fluxonium_0.diag(n_eig)\n",
    "_ = resonator_0.diag(n_eig)"
   ],
   "metadata": {
    "collapsed": false,
    "ExecuteTime": {
     "end_time": "2023-12-20T09:48:21.987521Z",
     "start_time": "2023-12-20T09:48:21.945956Z"
    }
   },
   "outputs": []
  },
  {
   "cell_type": "code",
   "execution_count": 87,
   "source": [
    "H_frc = sq_ext.hamiltonian_qubit(fluxonium,resonator,Δ)\n",
    "H_frc_0 = sq_ext.hamiltonian_qubit(fluxonium_0,resonator_0,Δ=0)"
   ],
   "metadata": {
    "collapsed": false,
    "ExecuteTime": {
     "end_time": "2023-12-20T09:48:22.319626800Z",
     "start_time": "2023-12-20T09:48:22.304138300Z"
    }
   },
   "outputs": []
  },
  {
   "cell_type": "code",
   "execution_count": 90,
   "source": [
    "H_eff_p1 = sq_ext.H_eff_p1(H_frc_0,H_frc,n_eig)\n",
    "print(np.round(H_eff_p1,4))"
   ],
   "metadata": {
    "collapsed": false,
    "ExecuteTime": {
     "end_time": "2023-12-20T09:48:37.643475300Z",
     "start_time": "2023-12-20T09:48:37.532903500Z"
    }
   },
   "outputs": []
  },
  {
   "cell_type": "code",
   "execution_count": 91,
   "source": [
    "H_eff_SWT = sq_ext.H_eff_SWT(H_frc_0,H_frc,n_eig)\n",
    "print(np.round(H_eff_SWT,4))"
   ],
   "metadata": {
    "collapsed": false,
    "ExecuteTime": {
     "end_time": "2023-12-20T09:48:59.617103300Z",
     "start_time": "2023-12-20T09:48:59.441194600Z"
    }
   },
   "outputs": []
  },
  {
   "cell_type": "code",
   "execution_count": 122,
   "metadata": {
    "ExecuteTime": {
     "end_time": "2023-12-20T10:26:12.780706Z",
     "start_time": "2023-12-20T10:26:12.749469700Z"
    }
   },
   "source": [
    "# Δ01 = qubit.efreqs[1]- qubit.efreqs[0]\n",
    "# Δ01"
   ],
   "outputs": []
  },
  {
   "cell_type": "code",
   "execution_count": 123,
   "source": [
    "E = sq_ext.diag(H_frc, out='GHz')[0]"
   ],
   "metadata": {
    "collapsed": false,
    "ExecuteTime": {
     "end_time": "2023-12-20T10:26:13.169319Z",
     "start_time": "2023-12-20T10:26:13.056537300Z"
    }
   },
   "outputs": []
  },
  {
   "cell_type": "code",
   "execution_count": 124,
   "source": [
    "Δ01 = E[1]-E[0]"
   ],
   "metadata": {
    "collapsed": false,
    "ExecuteTime": {
     "end_time": "2023-12-20T10:26:13.684168400Z",
     "start_time": "2023-12-20T10:26:13.658360900Z"
    }
   },
   "outputs": []
  },
  {
   "cell_type": "code",
   "execution_count": 103,
   "source": [
    "Φ_f = np.real(fluxonium.flux_op(0, basis='eig').__array__())[0,1]\n",
    "Φ_f"
   ],
   "metadata": {
    "collapsed": false,
    "ExecuteTime": {
     "end_time": "2023-12-20T10:08:04.917498500Z",
     "start_time": "2023-12-20T10:08:04.899382300Z"
    }
   },
   "outputs": []
  },
  {
   "cell_type": "code",
   "execution_count": 104,
   "source": [
    "Φ_r = np.real(resonator.flux_op(0, basis='eig').__array__())[0,1]\n",
    "Φ_r"
   ],
   "metadata": {
    "collapsed": false,
    "ExecuteTime": {
     "end_time": "2023-12-20T10:08:05.378678700Z",
     "start_time": "2023-12-20T10:08:05.338688100Z"
    }
   },
   "outputs": []
  },
  {
   "cell_type": "code",
   "execution_count": 107,
   "source": [
    "g_H_eff_p1  = H_eff_p1 [0, 4]\n",
    "g_H_eff_SWT = H_eff_SWT[0, 4]\n",
    "print(g_H_eff_p1)\n",
    "print(g_H_eff_SWT)"
   ],
   "metadata": {
    "collapsed": false,
    "ExecuteTime": {
     "end_time": "2023-12-20T10:08:06.709119300Z",
     "start_time": "2023-12-20T10:08:06.690302700Z"
    }
   },
   "outputs": []
  },
  {
   "cell_type": "code",
   "execution_count": 125,
   "metadata": {
    "ExecuteTime": {
     "end_time": "2023-12-20T10:26:20.439733600Z",
     "start_time": "2023-12-20T10:26:20.424094100Z"
    }
   },
   "source": [
    "g = Φ_r * Φ_f * 2 * Δ / l / 1e-9 / 2 / np.pi / GHz\n",
    "print(g)"
   ],
   "outputs": []
  },
  {
   "cell_type": "code",
   "execution_count": 129,
   "metadata": {
    "ExecuteTime": {
     "end_time": "2023-12-20T10:27:19.596864100Z",
     "start_time": "2023-12-20T10:27:19.579922100Z"
    }
   },
   "source": [
    "g / Δ01"
   ],
   "outputs": []
  },
  {
   "cell_type": "markdown",
   "metadata": {},
   "source": [
    "### Approach 2: Analytical approximation of the coupling that has been deduced from the Hamiltonian."
   ]
  },
  {
   "cell_type": "code",
   "execution_count": 130,
   "metadata": {
    "ExecuteTime": {
     "end_time": "2023-12-20T10:28:39.174506900Z",
     "start_time": "2023-12-20T10:28:39.166692800Z"
    }
   },
   "source": [
    "dVdφ =  lambda φ: E_L_f*φ + E_J*np.sin(φ+np.pi)\n",
    "φ_min = sp.optimize.fsolve(dVdφ, 1)[0]\n",
    "φ_min"
   ],
   "outputs": []
  },
  {
   "cell_type": "code",
   "execution_count": 131,
   "metadata": {
    "ExecuteTime": {
     "end_time": "2023-12-20T10:28:39.682050500Z",
     "start_time": "2023-12-20T10:28:39.636048Z"
    }
   },
   "source": [
    "Φ_f_an =(Φ_0 / (2*np.pi)) * φ_min / np.sqrt(sq.hbar)\n",
    "Φ_f_an"
   ],
   "outputs": []
  },
  {
   "cell_type": "code",
   "execution_count": 132,
   "metadata": {
    "ExecuteTime": {
     "end_time": "2023-12-20T10:28:40.124642300Z",
     "start_time": "2023-12-20T10:28:40.096995300Z"
    }
   },
   "source": [
    "# This should be the same as that calculated numerically\n",
    "Φ_r_an = np.sqrt(1/2 * np.sqrt(L_r/C_r))\n",
    "Φ_r_an"
   ],
   "outputs": []
  },
  {
   "cell_type": "code",
   "execution_count": 133,
   "source": [
    "# This should be the same as that calculated numerically\n",
    "Φ_f_r_an = np.sqrt(1/2 * np.sqrt(L_f/C_f))\n",
    "Φ_f_r_an"
   ],
   "metadata": {
    "collapsed": false,
    "ExecuteTime": {
     "end_time": "2023-12-20T10:28:41.070539100Z",
     "start_time": "2023-12-20T10:28:41.059880100Z"
    }
   },
   "outputs": []
  },
  {
   "cell_type": "code",
   "execution_count": 137,
   "source": [
    "# g_an = Φ_f_an * Φ_r_an /L_c  /GHz/2/np.pi\n",
    "g_an = Φ_f_an * Φ_r_an * 2 * Δ / l / 1e-9 / 2 / np.pi / GHz\n",
    "g_an"
   ],
   "metadata": {
    "collapsed": false,
    "ExecuteTime": {
     "end_time": "2023-12-20T10:28:55.606774Z",
     "start_time": "2023-12-20T10:28:55.559651700Z"
    }
   },
   "outputs": []
  },
  {
   "cell_type": "code",
   "execution_count": 138,
   "source": [
    "g_an / Δ01 * 100"
   ],
   "metadata": {
    "collapsed": false,
    "ExecuteTime": {
     "end_time": "2023-12-20T10:28:56.243522900Z",
     "start_time": "2023-12-20T10:28:56.174552300Z"
    }
   },
   "outputs": []
  },
  {
   "cell_type": "markdown",
   "source": [
    "## Analytical approximation of the charge operator of the fluxonium\n"
   ],
   "metadata": {
    "collapsed": false
   }
  },
  {
   "cell_type": "code",
   "source": [
    "dVdφ =  lambda φ: E_L_f*φ + E_J*np.sin(φ+np.pi)\n",
    "φ_min = sp.optimize.fsolve(dVdφ, 1)[0]\n",
    "φ_min"
   ],
   "metadata": {
    "collapsed": false,
    "ExecuteTime": {
     "end_time": "2024-01-29T12:31:40.303755189Z",
     "start_time": "2024-01-29T12:31:40.295793775Z"
    }
   },
   "execution_count": 16,
   "outputs": []
  },
  {
   "cell_type": "code",
   "source": [
    "Φ_f_an =(Φ_0 / (2*np.pi)) * φ_min / np.sqrt(sq.hbar)\n",
    "Φ_f_an"
   ],
   "metadata": {
    "collapsed": false,
    "ExecuteTime": {
     "end_time": "2024-01-24T13:40:57.126189200Z",
     "start_time": "2024-01-24T13:40:57.007408900Z"
    }
   },
   "execution_count": 39,
   "outputs": []
  },
  {
   "cell_type": "code",
   "source": [
    "ω_f = fluxonium._efreqs[1]-fluxonium._efreqs[0]\n",
    "ω_f"
   ],
   "metadata": {
    "collapsed": false,
    "ExecuteTime": {
     "end_time": "2024-01-24T13:40:57.409121700Z",
     "start_time": "2024-01-24T13:40:57.382098200Z"
    }
   },
   "execution_count": 40,
   "outputs": []
  },
  {
   "cell_type": "code",
   "source": [
    "q_f_an = Φ_f_an * ω_f * C_f\n",
    "q_f_an"
   ],
   "metadata": {
    "collapsed": false,
    "ExecuteTime": {
     "end_time": "2024-01-24T13:41:00.508927700Z",
     "start_time": "2024-01-24T13:41:00.490213Z"
    }
   },
   "execution_count": 41,
   "outputs": []
  },
  {
   "cell_type": "code",
   "source": [
    "q_f_num = np.abs(fluxonium.charge_op(0, basis='eig')[0,1])\n",
    "q_f_num"
   ],
   "metadata": {
    "collapsed": false,
    "ExecuteTime": {
     "end_time": "2024-01-24T13:37:12.956433900Z",
     "start_time": "2024-01-24T13:37:12.875283100Z"
    }
   },
   "execution_count": 34,
   "outputs": []
  },
  {
   "cell_type": "code",
   "source": [
    "q_f_an / q_f_num"
   ],
   "metadata": {
    "collapsed": false,
    "ExecuteTime": {
     "end_time": "2024-01-24T13:37:18.565106800Z",
     "start_time": "2024-01-24T13:37:18.460993700Z"
    }
   },
   "execution_count": 35,
   "outputs": []
  },
  {
   "cell_type": "code",
   "source": [],
   "metadata": {
    "collapsed": false
   },
   "execution_count": null,
   "outputs": []
  }
 ],
 "metadata": {
  "kernelspec": {
   "display_name": "Python 3 (ipykernel)",
   "language": "python",
   "name": "python3"
  },
  "language_info": {
   "codemirror_mode": {
    "name": "ipython",
    "version": 3
   },
   "file_extension": ".py",
   "mimetype": "text/x-python",
   "name": "python",
   "nbconvert_exporter": "python",
   "pygments_lexer": "ipython3",
   "version": "3.8.18"
  }
 },
 "nbformat": 4,
 "nbformat_minor": 1
}
