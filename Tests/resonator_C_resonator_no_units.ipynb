{
 "cells": [
  {
   "cell_type": "code",
   "execution_count": 90,
   "id": "6d04c102b4d54971",
   "metadata": {
    "collapsed": false,
    "ExecuteTime": {
     "end_time": "2024-01-30T14:40:56.320945280Z",
     "start_time": "2024-01-30T14:40:56.278775819Z"
    }
   },
   "outputs": [
    {
     "data": {
      "text/plain": "<Figure size 640x480 with 0 Axes>"
     },
     "metadata": {},
     "output_type": "display_data"
    }
   ],
   "source": [
    "import Modules.SQcircuit_extensions as sq_ext\n",
    "import Modules.figures as figs\n",
    "import SQcircuit as sq\n",
    "import numpy as np\n",
    "import matplotlib.pyplot as plt\n",
    "import importlib\n",
    "import qutip as qt\n",
    "\n",
    "plt.rcParams['text.usetex'] = False\n",
    "importlib.reload(sq_ext)\n",
    "importlib.reload(sq)\n",
    "importlib.reload(figs)\n",
    "np.set_printoptions(linewidth=200, formatter={'float': '{:.5f}'.format})"
   ]
  },
  {
   "cell_type": "code",
   "outputs": [],
   "source": [
    "fF=1\n",
    "nH=1\n",
    "C_val = 1/2\n",
    "L_val = 1"
   ],
   "metadata": {
    "collapsed": false,
    "ExecuteTime": {
     "end_time": "2024-01-30T14:45:23.625100500Z",
     "start_time": "2024-01-30T14:45:23.622568309Z"
    }
   },
   "id": "e43fa43894895d53",
   "execution_count": 140
  },
  {
   "cell_type": "code",
   "outputs": [],
   "source": [
    "def resonator_C_resonator(Cc, C_val=C_val, L_val=L_val):\n",
    "    Cc = sq.Capacitor(Cc,   'F')\n",
    "    C = sq.Capacitor(C_val, 'F')\n",
    "    L = sq.Inductor (L_val, 'H')\n",
    "    elements = {(0, 1): [L, C],\n",
    "                (0, 2): [L, C],\n",
    "                (1, 2): [Cc], }\n",
    "    return sq.Circuit(elements)\n",
    "\n",
    "def resonator_resonator(connected=True):\n",
    "    C = sq.Capacitor(C_val, 'F')\n",
    "    L = sq.Inductor (L_val, 'H')\n",
    "    if connected:\n",
    "        elements = {(0, 1): [L, C, L, C], }\n",
    "    else:\n",
    "        elements = {(0, 1): [L, C],\n",
    "                    (0, 2): [L, C], }\n",
    "    return sq.Circuit(elements)\n",
    "\n",
    "def resonator_resonator_eq(connected=True):\n",
    "    if connected:\n",
    "        C = sq.Capacitor(C_val+C_val, 'F')\n",
    "        L = sq.Inductor ((1/L_val+1/L_val)**-1, 'H')\n",
    "        elements = {(0, 1): [L, C], }\n",
    "    else:\n",
    "        C = sq.Capacitor(C_val, 'F')\n",
    "        L = sq.Inductor (L_val, 'H')\n",
    "        elements = {(0, 1): [L, C],\n",
    "                    (0, 2): [L, C], }\n",
    "    return sq.Circuit(elements)\n",
    "\n",
    "def resonator(Cc):\n",
    "    # CC = sq.Capacitor(Cc, 'fF')\n",
    "    # C = sq.Capacitor(C_val, 'fF')\n",
    "    # L = sq.Inductor(L_val,  'nH')\n",
    "    # elements = {(0, 2): [L],\n",
    "    #             (0, 1): [C],\n",
    "    #             (1, 2): [CC]}\n",
    "    # return sq.Circuit(elements)\n",
    "    \n",
    "    if Cc == 0:\n",
    "        C = sq.Capacitor(C_val, 'F')\n",
    "        L = sq.Inductor(L_val,  'H')\n",
    "        elements = {(0, 1): [L, C], }\n",
    "        return sq.Circuit(elements)\n",
    "    else:\n",
    "        C = sq.Capacitor(1/(1/C_val+1/Cc), 'F')\n",
    "        L = sq.Inductor (L_val, 'H')\n",
    "        elements = {(0, 1): [L, C], }\n",
    "    return sq.Circuit(elements)\n",
    "    \n",
    "def shutned_resonator(Cc):\n",
    "    Cc = sq.Capacitor(Cc, 'F')\n",
    "    C = sq.Capacitor(C_val, 'F')\n",
    "    L = sq.Inductor (L_val, 'H')\n",
    "    elements = {(0, 1): [L, C, Cc], }\n",
    "    return sq.Circuit(elements)"
   ],
   "metadata": {
    "collapsed": false,
    "ExecuteTime": {
     "end_time": "2024-01-30T14:45:23.943659619Z",
     "start_time": "2024-01-30T14:45:23.942164888Z"
    }
   },
   "id": "d2650785fb7b3ad1",
   "execution_count": 141
  },
  {
   "cell_type": "code",
   "outputs": [],
   "source": [
    "n_eig = 8\n",
    "trunc_num = 60\n",
    "Cc = 1/2"
   ],
   "metadata": {
    "collapsed": false,
    "ExecuteTime": {
     "end_time": "2024-01-30T14:45:24.320913351Z",
     "start_time": "2024-01-30T14:45:24.280366653Z"
    }
   },
   "id": "78a7539935b6c8d3",
   "execution_count": 142
  },
  {
   "cell_type": "code",
   "outputs": [],
   "source": [
    "coupled_res = resonator_C_resonator(Cc=Cc)\n",
    "res = resonator(Cc=Cc)\n",
    "\n",
    "uncoupled_res = resonator_C_resonator(Cc=0)\n",
    "res_0 = resonator(Cc=0)\n",
    "\n",
    "uncoupled_renormalized_res = resonator_C_resonator(Cc=0, C_val=(1/C_val+1/Cc)**-1, L_val=L_val)\n",
    "renormalized_res = resonator(Cc=Cc)\n",
    "\n",
    "coupled_res.set_trunc_nums([trunc_num, trunc_num])\n",
    "uncoupled_res.set_trunc_nums([trunc_num, trunc_num])\n",
    "uncoupled_renormalized_res.set_trunc_nums([trunc_num, trunc_num])\n",
    "res.set_trunc_nums([trunc_num  ])\n",
    "res_0.set_trunc_nums([trunc_num])\n",
    "renormalized_res.set_trunc_nums([trunc_num])\n",
    "\n",
    "_ = coupled_res.diag(n_eig)\n",
    "_ = uncoupled_res.diag(n_eig)\n",
    "_ = uncoupled_renormalized_res.diag(n_eig)\n",
    "_ = res.diag(n_eig)\n",
    "_ = res_0.diag(n_eig)\n",
    "_ = renormalized_res.diag(n_eig)"
   ],
   "metadata": {
    "collapsed": false,
    "ExecuteTime": {
     "end_time": "2024-01-30T14:45:24.931682105Z",
     "start_time": "2024-01-30T14:45:24.622009139Z"
    }
   },
   "id": "bc0ed99296e2f0ba",
   "execution_count": 143
  },
  {
   "cell_type": "code",
   "outputs": [],
   "source": [
    "Q_0 = res_0._charge_op_isolated(0)\n",
    "Φ_0 = res_0._flux_op_isolated(0)\n",
    "\n",
    "Q = res._charge_op_isolated(0)\n",
    "Φ = res._flux_op_isolated(0)"
   ],
   "metadata": {
    "collapsed": false,
    "ExecuteTime": {
     "end_time": "2024-01-30T14:45:25.147478370Z",
     "start_time": "2024-01-30T14:45:25.105239494Z"
    }
   },
   "id": "81ac023d1f9f38df",
   "execution_count": 144
  },
  {
   "cell_type": "code",
   "outputs": [],
   "source": [
    "# H_res_0 = 1 / 2 * (1/fF)               * Q_0 ** 2  + 1 / 2 * (1/nH) * Φ_0 ** 2\n",
    "# H_res   = 1 / 2 * (1/fF) * (1 + 1/Cc)  * Q ** 2    + 1 / 2 * (1/nH) * Φ   ** 2# \n",
    "H_res_0 = res_0.hamiltonian()\n",
    "H_res   = res.hamiltonian()\n",
    "\n",
    "I = qt.identity(H_res.shape[0])\n",
    "\n",
    "H_unc_res = qt.tensor(H_res_0, I) + qt.tensor(I, H_res_0)\n",
    "\n",
    "H_unc_renorm = qt.tensor(H_res, I) + qt.tensor(I, H_res)\n",
    "\n",
    "H_coup_res = qt.tensor(H_res, I) + qt.tensor(I, H_res) -  (1 / (Cc*fF)) * qt.tensor(Q, Q)\n",
    "# H_coup_res = 0*qt.tensor(H_res, I) + 0*qt.tensor(I, H_res) +  (1 / (Cc*fF)) * qt.tensor(Q, Q)"
   ],
   "metadata": {
    "collapsed": true,
    "ExecuteTime": {
     "end_time": "2024-01-30T14:45:25.441560118Z",
     "start_time": "2024-01-30T14:45:25.438130828Z"
    }
   },
   "id": "initial_id",
   "execution_count": 145
  },
  {
   "cell_type": "code",
   "outputs": [
    {
     "data": {
      "text/plain": "array([0.00000, 1.41421, 2.44949, 2.82843, 3.86370, 4.24264, 4.89898, 5.27792])"
     },
     "execution_count": 146,
     "metadata": {},
     "output_type": "execute_result"
    }
   ],
   "source": [
    "E = sq_ext.diag(H_coup_res,n_eig=n_eig)[0]\n",
    "E -= E[0]\n",
    "E"
   ],
   "metadata": {
    "collapsed": false,
    "ExecuteTime": {
     "end_time": "2024-01-30T14:45:26.173547533Z",
     "start_time": "2024-01-30T14:45:26.065100605Z"
    }
   },
   "id": "27a91c35a8818de0",
   "execution_count": 146
  },
  {
   "cell_type": "code",
   "outputs": [
    {
     "data": {
      "text/plain": "array([0.00000, 1.00000, 1.73205, 2.00000, 2.73205, 3.00000, 3.46410, 3.73205])"
     },
     "execution_count": 147,
     "metadata": {},
     "output_type": "execute_result"
    }
   ],
   "source": [
    "E/E[1]"
   ],
   "metadata": {
    "collapsed": false,
    "ExecuteTime": {
     "end_time": "2024-01-30T14:45:29.463958237Z",
     "start_time": "2024-01-30T14:45:29.461729600Z"
    }
   },
   "id": "ed04b5e5ce00ddeb",
   "execution_count": 147
  },
  {
   "cell_type": "code",
   "outputs": [
    {
     "data": {
      "text/plain": "array([0.00000, 0.81650, 1.41421, 1.63299, 2.23071, 2.44949, 2.82843, 3.04721])"
     },
     "execution_count": 148,
     "metadata": {},
     "output_type": "execute_result"
    }
   ],
   "source": [
    "E = coupled_res._efreqs - coupled_res._efreqs[0]\n",
    "E"
   ],
   "metadata": {
    "collapsed": false,
    "ExecuteTime": {
     "end_time": "2024-01-30T14:45:30.393020037Z",
     "start_time": "2024-01-30T14:45:30.391940558Z"
    }
   },
   "id": "b097b5af6815bedc",
   "execution_count": 148
  },
  {
   "cell_type": "code",
   "outputs": [
    {
     "data": {
      "text/plain": "array([0.00000, 1.00000, 1.73205, 2.00000, 2.73205, 3.00000, 3.46410, 3.73205])"
     },
     "execution_count": 149,
     "metadata": {},
     "output_type": "execute_result"
    }
   ],
   "source": [
    "E/E[1]"
   ],
   "metadata": {
    "collapsed": false,
    "ExecuteTime": {
     "end_time": "2024-01-30T14:45:31.682503604Z",
     "start_time": "2024-01-30T14:45:31.679260209Z"
    }
   },
   "id": "4c42fec2cce49ce0",
   "execution_count": 149
  },
  {
   "cell_type": "code",
   "outputs": [
    {
     "data": {
      "text/plain": "array([0.00000, 1.41421, 1.41421, 2.82843, 2.82843, 2.82843, 4.24264, 4.24264])"
     },
     "execution_count": 125,
     "metadata": {},
     "output_type": "execute_result"
    }
   ],
   "source": [
    "E_0 = sq_ext.diag(H_unc_renorm,n_eig=n_eig)[0]\n",
    "E_0 - E_0[0]"
   ],
   "metadata": {
    "collapsed": false,
    "ExecuteTime": {
     "end_time": "2024-01-30T14:42:41.814020616Z",
     "start_time": "2024-01-30T14:42:41.722535353Z"
    }
   },
   "id": "19fe2225dd570ddd",
   "execution_count": 125
  },
  {
   "cell_type": "code",
   "outputs": [
    {
     "data": {
      "text/plain": "array([0.00000, 1.41421, 1.41421, 2.82843, 2.82843, 2.82843, 4.24264, 4.24264])"
     },
     "execution_count": 126,
     "metadata": {},
     "output_type": "execute_result"
    }
   ],
   "source": [
    "uncoupled_renormalized_res._efreqs - uncoupled_renormalized_res._efreqs[0]"
   ],
   "metadata": {
    "collapsed": false,
    "ExecuteTime": {
     "end_time": "2024-01-30T14:42:47.148995203Z",
     "start_time": "2024-01-30T14:42:47.145236741Z"
    }
   },
   "id": "45eb0d88abcf09a",
   "execution_count": 126
  },
  {
   "cell_type": "code",
   "outputs": [
    {
     "data": {
      "text/plain": "array([0.00000, 1.29947, 1.41421, 2.12132, 2.82843, 3.53553, 3.88909, 4.59619, 5.77160])"
     },
     "execution_count": 138,
     "metadata": {},
     "output_type": "execute_result"
    }
   ],
   "source": [
    "import numpy as np\n",
    "from scipy.linalg import eigh\n",
    "\n",
    "# Parameters\n",
    "hbar = 1   # Planck constant (can be set to 1 for simplicity)\n",
    "C = (1/C_val+1/Cc)**-1 * fF\n",
    "L = L_val * nH\n",
    "omega = 1/np.sqrt(L*C) # Resonant frequency of the LC circuits\n",
    "g = 0.5*np.sqrt(C/L)/(Cc*fF)    # Coupling strength\n",
    "\n",
    "# Creation and annihilation operators for a single quantum state\n",
    "def create(n):\n",
    "    return np.diag(np.sqrt(np.arange(1, n)), -1)\n",
    "\n",
    "def annihilate(n):\n",
    "    return np.diag(np.sqrt(np.arange(1, n)), 1)\n",
    "\n",
    "# Size of the matrix (for 2 quanta in each mode)\n",
    "n = 3  # Number of states for each mode (0, 1, 2)\n",
    "\n",
    "# Create operators for each mode\n",
    "a1 = np.kron(create(n), np.eye(n))\n",
    "a1_dagger = np.kron(annihilate(n), np.eye(n))\n",
    "a2 = np.kron(np.eye(n), create(n))\n",
    "a2_dagger = np.kron(np.eye(n), annihilate(n))\n",
    "\n",
    "# Construct the Hamiltonian\n",
    "H = hbar * omega * (np.dot(a1_dagger, a1) + np.dot(a2_dagger, a2)) + hbar * g * (np.dot(a1_dagger, a2) + np.dot(a1, a2_dagger)+\n",
    "                                                                                 0*np.dot(a1_dagger, a2_dagger)+0*np.dot(a1, a2))\n",
    "\n",
    "# Find the eigenvalues (energy levels)\n",
    "energies = eigh(H, eigvals_only=True)\n",
    "\n",
    "# Print the energy levels\n",
    "E = energies#/ 2 / np.pi #/ 1e9\n",
    "E -= E[0]\n",
    "E"
   ],
   "metadata": {
    "collapsed": false,
    "ExecuteTime": {
     "end_time": "2024-01-30T14:44:46.350924651Z",
     "start_time": "2024-01-30T14:44:46.310659206Z"
    }
   },
   "id": "d12a0499a3127d2b",
   "execution_count": 138
  },
  {
   "cell_type": "code",
   "outputs": [
    {
     "data": {
      "text/plain": "array([0.00000, 1.00000, 1.08830, 1.63246, 2.17661, 2.72076, 2.99284, 3.53699, 4.44152])"
     },
     "execution_count": 139,
     "metadata": {},
     "output_type": "execute_result"
    }
   ],
   "source": [
    "E/E[1]"
   ],
   "metadata": {
    "collapsed": false,
    "ExecuteTime": {
     "end_time": "2024-01-30T14:44:56.334239811Z",
     "start_time": "2024-01-30T14:44:56.291582206Z"
    }
   },
   "id": "419c1cabb6bea67",
   "execution_count": 139
  },
  {
   "cell_type": "code",
   "outputs": [
    {
     "data": {
      "text/plain": "0.25000000000000006"
     },
     "execution_count": 129,
     "metadata": {},
     "output_type": "execute_result"
    }
   ],
   "source": [
    "g/omega"
   ],
   "metadata": {
    "collapsed": false,
    "ExecuteTime": {
     "end_time": "2024-01-30T14:43:08.490375710Z",
     "start_time": "2024-01-30T14:43:08.486974933Z"
    }
   },
   "id": "8954cedb838c2a6a",
   "execution_count": 129
  },
  {
   "cell_type": "code",
   "outputs": [],
   "source": [],
   "metadata": {
    "collapsed": false
   },
   "id": "3efdfbc3ee65649f"
  }
 ],
 "metadata": {
  "kernelspec": {
   "display_name": "Python 3",
   "language": "python",
   "name": "python3"
  },
  "language_info": {
   "codemirror_mode": {
    "name": "ipython",
    "version": 2
   },
   "file_extension": ".py",
   "mimetype": "text/x-python",
   "name": "python",
   "nbconvert_exporter": "python",
   "pygments_lexer": "ipython2",
   "version": "2.7.6"
  }
 },
 "nbformat": 4,
 "nbformat_minor": 5
}
