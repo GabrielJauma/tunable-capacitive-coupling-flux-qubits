{
 "cells": [
  {
   "cell_type": "markdown",
   "id": "23a8f19f",
   "metadata": {},
   "source": [
    "# Import"
   ]
  },
  {
   "cell_type": "code",
   "execution_count": 1,
   "id": "305d8659",
   "metadata": {},
   "source": [
    "import numpy as np\n",
    "import matplotlib as mpl\n",
    "import matplotlib.pyplot as plt\n",
    "from IPython.display import Image\n",
    "import pickle\n",
    "import os"
   ],
   "outputs": []
  },
  {
   "cell_type": "code",
   "execution_count": 2,
   "id": "2cb32662",
   "metadata": {},
   "source": [
    "data_dir = r'\\data'"
   ],
   "outputs": []
  },
  {
   "cell_type": "markdown",
   "id": "031203a0",
   "metadata": {},
   "source": [
    "# Setup\n",
    "\n",
    "<img src='./img/coupled_qubits_sketch.png'> "
   ]
  },
  {
   "cell_type": "markdown",
   "id": "e292e3dc",
   "metadata": {},
   "source": [
    "In the following experiments, we probe the resonators' and qubits' spectra by measuring in reflection at the readout and drive ports $R_1$ to $R_3$ and applying one or more currents \n",
    "\n",
    "\\begin{equation*}\n",
    "\\vec{I} = (I_1, I_2, I_3)^{\\intercal}\n",
    "\\end{equation*}\n",
    "\n",
    "through the global bias coils. From the emerging avoided level crossings we extract the periodicities and flux offsets\n",
    "\n",
    "\\begin{equation*}\n",
    "\\vec{\\Phi}^{\\mathrm{ext}}_{\\mathrm{offset}}\n",
    "\\end{equation*}\n",
    "\n",
    "at each unit cell. Because of the cross-talk of the \"big\" bias coils, all coils influence each unit cell, such that we have to set up the inductance matrix\n",
    "\n",
    "\\begin{equation*}\n",
    "\\mathbf{L} = \n",
    "\\begin{pmatrix}\n",
    " L_{11} & L_{12} & L_{13}  \\\\ \n",
    " L_{21} & L_{22} & L_{23}  \\\\\n",
    " L_{31} & L_{32} & L_{33}\n",
    "\\end{pmatrix}.\n",
    "\\end{equation*}\n",
    "\n",
    "The fluxes are then given by\n",
    "\n",
    "\n",
    "\\begin{equation*}\n",
    "\\vec{\\Phi}^{\\mathrm{ext}} = \\mathbf{L}\\vec{I} + \\vec{\\Phi}^{\\mathrm{ext}}_{\\mathrm{offset}}\n",
    "\\end{equation*}\n",
    "\n",
    "with\n",
    "\n",
    "\\begin{equation*}\n",
    "\\vec{\\Phi}^{\\mathrm{ext}} = (\\Phi^{\\mathrm{ext}}_1, \\Phi^{\\mathrm{ext}}_2, \\Phi^{\\mathrm{ext}}_3)^{\\intercal}\n",
    "\\end{equation*}\n",
    "\n",
    "In the following, we want to observe the avoided crossings between all modes. For that, we sweep the flux with all coils for each resonator. Looking at resonator 1 and sweeping the flux with coil 1 gives us the flux-periodicity of qubit 1. But because qubit 2 is further away from coil 1, qubit 2 might not have moved through resonator 1 and we don't see the crossing. Because of that, we do the same experiment with coil 2 until we see one period of qubit 1. Then we can be sure that we have moved qubit 2 through resonator 1 several times because $L_{22}$ is much bigger than $L_{21}$.\n",
    "\n",
    "The same logic applies to all measurements.\n",
    "\n",
    "It might actually be that with this procedure, we don't resolve small crossings because we move qubit 2 through resonator 1 too fast. The resolution of these measurements is therefore not optimal"
   ]
  },
  {
   "cell_type": "markdown",
   "id": "8dc8d997",
   "metadata": {},
   "source": [
    "# Single circuit"
   ]
  },
  {
   "cell_type": "markdown",
   "id": "a80d8994",
   "metadata": {},
   "source": [
    "We measure qubit 1 (qR7) without a coupler chip (enclosure is empty) in two consecutive cooldowns within a few days (June 2023). There is another chip in enclosure 3, but enclosure 2 is always empty. The chip in enclosure 3 has been changed inbetween cooldown 1 and 2."
   ]
  },
  {
   "cell_type": "markdown",
   "id": "bcfd897a",
   "metadata": {},
   "source": [
    "## Cooldown 1 "
   ]
  },
  {
   "cell_type": "markdown",
   "id": "4269c699",
   "metadata": {},
   "source": [
    "### Resonator Spectroscopy"
   ]
  },
  {
   "cell_type": "code",
   "execution_count": 3,
   "id": "eb32cb5a",
   "metadata": {},
   "source": [
    "with open(os.getcwd() + data_dir + r'\\f_vna__fs_q1_single_circuit_1.pkl', 'rb') as f:\n",
    "    f_vna__fs_q1_single_circuit_1 = pickle.load(f)\n",
    "with open(os.getcwd() + data_dir + r'\\current__fs_q1_single_circuit_1.pkl', 'rb') as f:\n",
    "    current__fs_q1_single_circuit_1 = pickle.load(f)\n",
    "with open(os.getcwd() + data_dir + r'\\phase__fs_q1_single_circuit_1.pkl', 'rb') as f:\n",
    "    phase__fs_q1_single_circuit_1 = pickle.load(f)"
   ],
   "outputs": []
  },
  {
   "cell_type": "code",
   "execution_count": 4,
   "id": "08d14805",
   "metadata": {},
   "source": [
    "%matplotlib inline\n",
    "#%matplotlib widget\n",
    "\n",
    "fig,ax = plt.subplots(1,1,figsize = (14,7))\n",
    "\n",
    "ax.pcolor(current__fs_q1_single_circuit_1, f_vna__fs_q1_single_circuit_1*1e-9, phase__fs_q1_single_circuit_1.T, shading = 'auto')\n",
    "\n",
    "\n",
    "ax.set_xlabel(r'$I_{yoko}$ (A)')\n",
    "ax.set_ylabel(r'$f_{vna}$ (GHz)')\n",
    "ax.tick_params(axis='both', which='major')\n",
    "\n",
    "ax.axvline(-0.008275, color = 'red')\n",
    "ax.axvline(0.007575, color = 'red')\n",
    "\n",
    "plt.show()"
   ],
   "outputs": []
  },
  {
   "cell_type": "code",
   "execution_count": 5,
   "id": "8cc4386c",
   "metadata": {},
   "source": [
    "I0 = (0.008275 + 0.007575)/5\n",
    "print(I0)"
   ],
   "outputs": []
  },
  {
   "cell_type": "code",
   "execution_count": 6,
   "id": "df1c0e52",
   "metadata": {
    "code_folding": [
     8
    ]
   },
   "source": [
    "with open(os.getcwd() + data_dir + r'\\f_vna__fs_q1_single_circuit_1_crossings.pkl', 'rb') as f:\n",
    "    f_vna__fs_q1_single_circuit_1_crossings = pickle.load(f)\n",
    "with open(os.getcwd() + data_dir + r'\\current__fs_q1_single_circuit_1_crossings.pkl', 'rb') as f:\n",
    "    current__fs_q1_single_circuit_1_crossings = pickle.load(f)\n",
    "with open(os.getcwd() + data_dir + r'\\phase__fs_q1_single_circuit_1_crossings.pkl', 'rb') as f:\n",
    "    phase__fs_q1_single_circuit_1_crossings = pickle.load(f)\n",
    "with open(os.getcwd() + data_dir + r'\\current_q1_single_circuit_1_crossings.pkl', 'rb') as f:\n",
    "    current_q1_single_circuit_1_crossings = pickle.load(f)\n",
    "with open(os.getcwd() + data_dir + r'\\freq_q1_single_circuit_1_crossings.pkl', 'rb') as f:\n",
    "    freq_q1_single_circuit_1_crossings = pickle.load(f)"
   ],
   "outputs": []
  },
  {
   "cell_type": "code",
   "execution_count": 7,
   "id": "8be93220",
   "metadata": {},
   "source": [
    "%matplotlib inline\n",
    "#%matplotlib widget\n",
    "\n",
    "fig,ax = plt.subplots(1,1,figsize = (14,7))\n",
    "\n",
    "ax.pcolor(current__fs_q1_single_circuit_1_crossings, f_vna__fs_q1_single_circuit_1_crossings*1e-9, phase__fs_q1_single_circuit_1_crossings.T, shading = 'auto')\n",
    "\n",
    "ax.plot(current_q1_single_circuit_1_crossings, freq_q1_single_circuit_1_crossings*1e-9, 'o', color = 'white')\n",
    "\n",
    "ax.set_xlabel(r'$I_{yoko}$ (A)')\n",
    "ax.set_ylabel(r'$f_{vna}$ (GHz)')\n",
    "ax.tick_params(axis='both', which='major')\n",
    "\n",
    "Iss = -0.00035\n",
    "ax.axvline(Iss, color = 'red')\n",
    "\n",
    "plt.show()"
   ],
   "outputs": []
  },
  {
   "cell_type": "code",
   "execution_count": 8,
   "id": "b390bdcd",
   "metadata": {},
   "source": [
    "phase_q1_crossings_CD1 = (current_q1_single_circuit_1_crossings - Iss + I0/2)/I0"
   ],
   "outputs": []
  },
  {
   "cell_type": "code",
   "execution_count": 9,
   "id": "f66a49bf",
   "metadata": {},
   "source": [
    "plt.plot(phase_q1_crossings_CD1, freq_q1_single_circuit_1_crossings*1e-9, 'x')"
   ],
   "outputs": []
  },
  {
   "cell_type": "markdown",
   "id": "de4efbc7",
   "metadata": {},
   "source": [
    "### Qubit spectroscopy "
   ]
  },
  {
   "cell_type": "code",
   "execution_count": 10,
   "id": "24053246",
   "metadata": {
    "code_folding": []
   },
   "source": [
    "with open(os.getcwd() + data_dir + r'\\mw_freq__tt_q1_single_circuit_1_up.pkl', 'rb') as f:\n",
    "    mw_freq__tt_q1_single_circuit_1_up = pickle.load(f)\n",
    "with open(os.getcwd() + data_dir + r'\\current__tt_q1_single_circuit_1_up.pkl', 'rb') as f:\n",
    "    current__tt_q1_single_circuit_1_up = pickle.load(f)\n",
    "with open(os.getcwd() + data_dir + r'\\phase__tt_q1_single_circuit_1_up.pkl', 'rb') as f:\n",
    "    phase__tt_q1_single_circuit_1_up = pickle.load(f)\n",
    "with open(os.getcwd() + data_dir + r'\\current_extracted__tt_q1_single_circuit_1_up.pkl', 'rb') as f:\n",
    "    current_extracted__tt_q1_single_circuit_1_up = pickle.load(f)\n",
    "with open(os.getcwd() + data_dir + r'\\mw_freq_extracted__tt_q1_single_circuit_1_up.pkl', 'rb') as f:\n",
    "    mw_freq_extracted__tt_q1_single_circuit_1_up = pickle.load(f)"
   ],
   "outputs": []
  },
  {
   "cell_type": "code",
   "execution_count": 11,
   "id": "f184f2c6",
   "metadata": {},
   "source": [
    "%matplotlib inline\n",
    "#%matplotlib widget\n",
    "\n",
    "fig,ax = plt.subplots(1,1,figsize = (14,7))\n",
    "\n",
    "ax.pcolor(current__tt_q1_single_circuit_1_up, mw_freq__tt_q1_single_circuit_1_up*1e-9, phase__tt_q1_single_circuit_1_up[:,:,2].T)\n",
    "ax.plot(current_extracted__tt_q1_single_circuit_1_up, mw_freq_extracted__tt_q1_single_circuit_1_up*1e-9, 'o', color = 'white')\n",
    "\n",
    "ax.set_xlabel(r'$I_{yoko}$ (A)')\n",
    "ax.set_ylabel(r'$f_{drive}$ (GHz)')\n",
    "ax.tick_params(axis='both', which='major')\n",
    "\n",
    "ax.axvline(-0.00192, color = 'red')\n",
    "\n",
    "plt.show()"
   ],
   "outputs": []
  },
  {
   "cell_type": "code",
   "execution_count": 12,
   "id": "15d4d350",
   "metadata": {
    "code_folding": []
   },
   "source": [
    "with open(os.getcwd() + data_dir + r'\\mw_freq__tt_q1_single_circuit_1_down.pkl', 'rb') as f:\n",
    "    mw_freq__tt_q1_single_circuit_1_down = pickle.load(f)\n",
    "with open(os.getcwd() + data_dir + r'\\current__tt_q1_single_circuit_1_down.pkl', 'rb') as f:\n",
    "    current__tt_q1_single_circuit_1_down = pickle.load(f)\n",
    "with open(os.getcwd() + data_dir + r'\\phase__tt_q1_single_circuit_1_down.pkl', 'rb') as f:\n",
    "    phase__tt_q1_single_circuit_1_down = pickle.load(f)\n",
    "with open(os.getcwd() + data_dir + r'\\current_extracted__tt_q1_single_circuit_1_down.pkl', 'rb') as f:\n",
    "    current_extracted__tt_q1_single_circuit_1_down = pickle.load(f)\n",
    "with open(os.getcwd() + data_dir + r'\\mw_freq_extracted__tt_q1_single_circuit_1_down.pkl', 'rb') as f:\n",
    "    mw_freq_extracted__tt_q1_single_circuit_1_down = pickle.load(f)"
   ],
   "outputs": []
  },
  {
   "cell_type": "code",
   "execution_count": 13,
   "id": "e52cd80d",
   "metadata": {},
   "source": [
    "%matplotlib inline\n",
    "#%matplotlib widget\n",
    "\n",
    "fig,ax = plt.subplots(1,1,figsize = (14,7))\n",
    "\n",
    "ax.pcolor(current__tt_q1_single_circuit_1_down, mw_freq__tt_q1_single_circuit_1_down*1e-9, phase__tt_q1_single_circuit_1_down[:,:,2].T)\n",
    "ax.plot(current_extracted__tt_q1_single_circuit_1_down, mw_freq_extracted__tt_q1_single_circuit_1_down*1e-9, 'o', color = 'white')\n",
    "\n",
    "ax.set_xlabel(r'$I_{yoko}$ (A)')\n",
    "ax.set_ylabel(r'$f_{drive}$ (GHz)')\n",
    "ax.tick_params(axis='both', which='major')\n",
    "\n",
    "Iss = -0.000355\n",
    "ax.axvline(Iss, color = 'red')\n",
    "\n",
    "\n",
    "plt.show()"
   ],
   "outputs": []
  },
  {
   "cell_type": "code",
   "execution_count": 14,
   "id": "60a61b08",
   "metadata": {},
   "source": [
    "current_extracted__tt_q1_single_circuit_1 = np.concatenate([current_extracted__tt_q1_single_circuit_1_down, current_extracted__tt_q1_single_circuit_1_up])\n",
    "mw_freq_extracted__tt_q1_single_circuit_1 = np.concatenate([mw_freq_extracted__tt_q1_single_circuit_1_down, mw_freq_extracted__tt_q1_single_circuit_1_up])\n",
    "\n",
    "phase__tt_q1_single_circuit_1  = (current_extracted__tt_q1_single_circuit_1 - Iss + I0/2)/I0"
   ],
   "outputs": []
  },
  {
   "cell_type": "code",
   "execution_count": 15,
   "id": "f150a9f5",
   "metadata": {},
   "source": [
    "plt.plot(phase_q1_crossings_CD1, freq_q1_single_circuit_1_crossings*1e-9, 'x', label = 'resonator')\n",
    "plt.plot(phase__tt_q1_single_circuit_1, mw_freq_extracted__tt_q1_single_circuit_1*1e-9, 'x', label = 'qubit')\n",
    "\n",
    "plt.ylabel('Frequency (GHz)')\n",
    "plt.xlabel('$\\phi_{ext}$ ($\\phi_0$)')\n",
    "\n",
    "plt.legend()"
   ],
   "outputs": []
  },
  {
   "cell_type": "markdown",
   "id": "c2d69171",
   "metadata": {},
   "source": [
    "### Fit results (only qubit mode)"
   ]
  },
  {
   "cell_type": "code",
   "execution_count": 102,
   "id": "5dcbeaf1",
   "metadata": {},
   "source": [
    "Lq = 27.64 # nH\n",
    "Cq = 24.47 # fF\n",
    "Ej = 5.06 # GHz --> E/h\n",
    "fq= 3.913 # GHz"
   ],
   "outputs": []
  },
  {
   "cell_type": "markdown",
   "id": "183dd62a",
   "metadata": {},
   "source": [
    "### Estimate resonator inductance from geometry"
   ]
  },
  {
   "cell_type": "code",
   "execution_count": 103,
   "id": "d0b4e861",
   "metadata": {},
   "source": [
    "# length of qubit loop inductance in um\n",
    "l_q = 36.7 + 39.3\n",
    "\n",
    "# asymmetry of qubit loop in um\n",
    "l_delta = (39.3 - 36.7)/2\n",
    "\n",
    "#length of readout inductance in um\n",
    "l_r = 50\n",
    "\n",
    "#inductance per length (nH/um)\n",
    "L_um = Lq/l_q\n",
    "\n",
    "# asymmetry in nH\n",
    "Delta = l_delta*L_um\n",
    "# readout inductance in nH\n",
    "L_r = l_r*L_um\n",
    "\n",
    "print('Delta = ' + str(Delta))\n",
    "print('Lr = ' + str(L_r))\n",
    "\n",
    "# a good estimate for the effective resonator inductance is then\n",
    "L_R = L_r + Lq/4 # or factor of 4 bigger for you\n",
    "print('L_R = ' + str(L_R))"
   ],
   "outputs": []
  },
  {
   "cell_type": "markdown",
   "id": "028adcc9",
   "metadata": {},
   "source": [
    "## Cooldown 2"
   ]
  },
  {
   "cell_type": "markdown",
   "id": "fef5673d",
   "metadata": {},
   "source": [
    "### Resonator Spectroscopy"
   ]
  },
  {
   "cell_type": "code",
   "execution_count": 16,
   "id": "e2b7561d",
   "metadata": {},
   "source": [
    "with open(os.getcwd() + data_dir + r'\\f_vna__fs_q1_single_circuit_2.pkl', 'rb') as f:\n",
    "    f_vna__fs_q1_single_circuit_2 = pickle.load(f)\n",
    "with open(os.getcwd() + data_dir + r'\\current__fs_q1_single_circuit_2.pkl', 'rb') as f:\n",
    "    current__fs_q1_single_circuit_2 = pickle.load(f)\n",
    "with open(os.getcwd() + data_dir + r'\\phase__fs_q1_single_circuit_2.pkl', 'rb') as f:\n",
    "    phase__fs_q1_single_circuit_2 = pickle.load(f)"
   ],
   "outputs": []
  },
  {
   "cell_type": "code",
   "execution_count": 17,
   "id": "c74fa742",
   "metadata": {},
   "source": [
    "%matplotlib inline\n",
    "#%matplotlib widget\n",
    "\n",
    "fig,ax = plt.subplots(1,1,figsize = (14,7))\n",
    "\n",
    "ax.pcolor(current__fs_q1_single_circuit_2, f_vna__fs_q1_single_circuit_2*1e-9, phase__fs_q1_single_circuit_2.T, shading = 'auto')\n",
    "\n",
    "\n",
    "ax.set_xlabel(r'$I_{yoko}$ (A)')\n",
    "ax.set_ylabel(r'$f_{vna}$ (GHz)')\n",
    "ax.tick_params(axis='both', which='major')\n",
    "\n",
    "\n",
    "ax.axvline(-0.00825, color = 'red')\n",
    "ax.axvline(0.00762, color = 'red')\n",
    "\n",
    "\n",
    "plt.show()"
   ],
   "outputs": []
  },
  {
   "cell_type": "code",
   "execution_count": 18,
   "id": "a62aab17",
   "metadata": {},
   "source": [
    "I0 = (0.00825 + 0.00762)/5\n",
    "print(I0)"
   ],
   "outputs": []
  },
  {
   "cell_type": "code",
   "execution_count": 19,
   "id": "39913205",
   "metadata": {
    "code_folding": []
   },
   "source": [
    "with open(os.getcwd() + data_dir + r'\\f_vna__fs_q1_single_circuit_2_crossings.pkl', 'rb') as f:\n",
    "    f_vna__fs_q1_single_circuit_2_crossings = pickle.load(f)\n",
    "with open(os.getcwd() + data_dir + r'\\current__fs_q1_single_circuit_2_crossings.pkl', 'rb') as f:\n",
    "    current__fs_q1_single_circuit_2_crossings = pickle.load(f)\n",
    "with open(os.getcwd() + data_dir + r'\\phase__fs_q1_single_circuit_2_crossings.pkl', 'rb') as f:\n",
    "    phase__fs_q1_single_circuit_2_crossings = pickle.load(f)\n",
    "with open(os.getcwd() + data_dir + r'\\current_q1_single_circuit_2_crossings.pkl', 'rb') as f:\n",
    "    current_q1_single_circuit_2_crossings = pickle.load(f)\n",
    "with open(os.getcwd() + data_dir + r'\\freq_q1_single_circuit_2_crossings.pkl', 'rb') as f:\n",
    "    freq_q1_single_circuit_2_crossings = pickle.load(f)"
   ],
   "outputs": []
  },
  {
   "cell_type": "code",
   "execution_count": 20,
   "id": "082951cd",
   "metadata": {},
   "source": [
    "%matplotlib inline\n",
    "#%matplotlib widget\n",
    "\n",
    "fig,ax = plt.subplots(1,1,figsize = (14,7))\n",
    "\n",
    "ax.pcolor(current__fs_q1_single_circuit_2_crossings, f_vna__fs_q1_single_circuit_2_crossings*1e-9, phase__fs_q1_single_circuit_2_crossings.T, shading = 'auto')\n",
    "\n",
    "ax.plot(current_q1_single_circuit_2_crossings, freq_q1_single_circuit_2_crossings*1e-9, 'o', color = 'white')\n",
    "\n",
    "ax.set_xlabel(r'$I_{yoko}$ (A)')\n",
    "ax.set_ylabel(r'$f_{vna}$ (GHz)')\n",
    "ax.tick_params(axis='both', which='major')\n",
    "\n",
    "Iss = 0.0013\n",
    "ax.axvline(Iss, color = 'red')\n",
    "\n",
    "plt.show()"
   ],
   "outputs": []
  },
  {
   "cell_type": "code",
   "execution_count": 21,
   "id": "5f374ad4",
   "metadata": {},
   "source": [
    "phase_q1_crossings_CD2 = (current_q1_single_circuit_2_crossings - Iss + I0/2)/I0"
   ],
   "outputs": []
  },
  {
   "cell_type": "code",
   "execution_count": 22,
   "id": "fe4b6fbf",
   "metadata": {},
   "source": [
    "plt.plot(phase_q1_crossings_CD2, freq_q1_single_circuit_2_crossings*1e-9, 'x')"
   ],
   "outputs": []
  },
  {
   "cell_type": "markdown",
   "id": "63892bf7",
   "metadata": {},
   "source": [
    "### Qubit spectroscopy "
   ]
  },
  {
   "cell_type": "code",
   "execution_count": 23,
   "id": "a21997a0",
   "metadata": {
    "code_folding": []
   },
   "source": [
    "with open(os.getcwd() + data_dir + r'\\mw_freq__tt_q1_single_circuit_2.pkl', 'rb') as f:\n",
    "    mw_freq__tt_q1_single_circuit_2 = pickle.load(f)\n",
    "with open(os.getcwd() + data_dir + r'\\current__tt_q1_single_circuit_2.pkl', 'rb') as f:\n",
    "    current__tt_q1_single_circuit_2 = pickle.load(f)\n",
    "with open(os.getcwd() + data_dir + r'\\phase__tt_q1_single_circuit_2.pkl', 'rb') as f:\n",
    "    phase__tt_q1_single_circuit_2 = pickle.load(f)\n",
    "with open(os.getcwd() + data_dir + r'\\current_extracted__tt_q1_single_circuit_2.pkl', 'rb') as f:\n",
    "    current_extracted__tt_q1_single_circuit_2 = pickle.load(f)\n",
    "with open(os.getcwd() + data_dir + r'\\mw_freq_extracted__tt_q1_single_circuit_2.pkl', 'rb') as f:\n",
    "    mw_freq_extracted__tt_q1_single_circuit_2 = pickle.load(f)"
   ],
   "outputs": []
  },
  {
   "cell_type": "code",
   "execution_count": 24,
   "id": "61753426",
   "metadata": {},
   "source": [
    "%matplotlib inline\n",
    "#%matplotlib widget\n",
    "\n",
    "fig,ax = plt.subplots(1,1,figsize = (14,7))\n",
    "\n",
    "ax.pcolor(current__tt_q1_single_circuit_2, mw_freq__tt_q1_single_circuit_2*1e-9, phase__tt_q1_single_circuit_2[:,:,2].T)\n",
    "ax.plot(current_extracted__tt_q1_single_circuit_2, mw_freq_extracted__tt_q1_single_circuit_2*1e-9, 'o', color = 'white')\n",
    "\n",
    "ax.set_xlabel(r'$I_{yoko}$ (A)')\n",
    "ax.set_ylabel(r'$f_{drive}$ (GHz)')\n",
    "ax.tick_params(axis='both', which='major')\n",
    "\n",
    "Iss = 0.001285\n",
    "ax.axvline(Iss, color = 'red')\n",
    "\n",
    "plt.show()"
   ],
   "outputs": []
  },
  {
   "cell_type": "code",
   "execution_count": 25,
   "id": "7803c202",
   "metadata": {},
   "source": [
    "phase__tt_q1_single_circuit_2  = (current_extracted__tt_q1_single_circuit_2 - Iss + I0/2)/I0"
   ],
   "outputs": []
  },
  {
   "cell_type": "code",
   "execution_count": 26,
   "id": "244524c6",
   "metadata": {},
   "source": [
    "plt.plot(phase_q1_crossings_CD2, freq_q1_single_circuit_2_crossings*1e-9, 'x', label = 'resonator')\n",
    "plt.plot(phase__tt_q1_single_circuit_2, mw_freq_extracted__tt_q1_single_circuit_2*1e-9, 'x', label = 'qubit')\n",
    "\n",
    "plt.ylabel('Frequency (GHz)')\n",
    "plt.xlabel('$\\phi_{ext}$ ($\\phi_0$)')\n",
    "\n",
    "plt.legend()"
   ],
   "outputs": []
  },
  {
   "cell_type": "markdown",
   "id": "1d27a3fc",
   "metadata": {},
   "source": [
    "### Fit results (only qubit mode)"
   ]
  },
  {
   "cell_type": "code",
   "execution_count": 100,
   "id": "05a1d9f1",
   "metadata": {},
   "source": [
    "Lq =  25.80 # nH\n",
    "Cq = 26.39 # fF\n",
    "Ej = 5.27 # GHz --> E/h\n",
    "fq= 3.907 # GHz"
   ],
   "outputs": []
  },
  {
   "cell_type": "markdown",
   "id": "705316c8",
   "metadata": {},
   "source": [
    "### Estimate resonator inductance from geometry"
   ]
  },
  {
   "cell_type": "code",
   "execution_count": 101,
   "id": "f6f9a037",
   "metadata": {},
   "source": [
    "# length of qubit loop inductance in um\n",
    "l_q = 36.7 + 39.3\n",
    "\n",
    "# asymmetry of qubit loop in um\n",
    "l_delta = (39.3 - 36.7)/2\n",
    "\n",
    "#length of readout inductance in um\n",
    "l_r = 50\n",
    "\n",
    "#inductance per length (nH/um)\n",
    "L_um = Lq/l_q\n",
    "\n",
    "# asymmetry in nH\n",
    "Delta = l_delta*L_um\n",
    "# readout inductance in nH\n",
    "L_r = l_r*L_um\n",
    "\n",
    "print('Delta = ' + str(Delta))\n",
    "print('Lr = ' + str(L_r))\n",
    "\n",
    "# a good estimate for the effective resonator inductance is then\n",
    "L_R = L_r + Lq/4 # or factor of 4 bigger for you\n",
    "print('L_R = ' + str(L_R))"
   ],
   "outputs": []
  },
  {
   "cell_type": "markdown",
   "id": "b08ca7c1",
   "metadata": {},
   "source": [
    "### Dispersive Shift"
   ]
  },
  {
   "cell_type": "markdown",
   "id": "aa457fd0",
   "metadata": {},
   "source": [
    "We measure the dispersive shift by measuring the resonator response in time domain at low power (close to single photon) and resolving the 2 pointer states of the resonator belonging to the qubit in ground and excited, respectively. The two responses are fitted with a gaussian-mixture model and the angles of the center point of the pointer states are extracted and plotted below. So what you see are the 2 distinct phase rolls of the 2 resonances for either qubit in ground or excited. The shift should coincide with the energy difference in the spectrum\n",
    "\n",
    "\\begin{equation}\n",
    "\\chi = \\frac{  (E_{11} - E_{10}) - (E_{01} - E_{00})  }{h},\n",
    "\\end{equation}\n",
    "\n",
    "where $E_{ij}$ are the sorted energy levels with qubit (i) and resonator (j) photon numbers."
   ]
  },
  {
   "cell_type": "code",
   "execution_count": 27,
   "id": "12194ad2",
   "metadata": {},
   "source": [
    "with open(os.getcwd() + data_dir + r'\\freq__disp_shift_q1_single_circuit_2.pkl', 'rb') as f:\n",
    "    freq__disp_shift_q1_single_circuit_2 = pickle.load(f)\n",
    "with open(os.getcwd() + data_dir + r'\\phase_0__disp_shift_q1_single_circuit_2.pkl', 'rb') as f:\n",
    "    phase_0__disp_shift_q1_single_circuit_2 = pickle.load(f)\n",
    "with open(os.getcwd() + data_dir + r'\\phase_1__disp_shift_q1_single_circuit_2.pkl', 'rb') as f:\n",
    "    phase_1__disp_shift_q1_single_circuit_2 = pickle.load(f)"
   ],
   "outputs": []
  },
  {
   "cell_type": "code",
   "execution_count": 28,
   "id": "9fdd3b0e",
   "metadata": {},
   "source": [
    "plt.plot(freq__disp_shift_q1_single_circuit_2*1e-9, phase_0__disp_shift_q1_single_circuit_2%(2*np.pi), 'o', color = 'blue')\n",
    "plt.plot(freq__disp_shift_q1_single_circuit_2*1e-9, phase_1__disp_shift_q1_single_circuit_2%(2*np.pi), 'o', color = 'red')\n",
    "plt.axvline(6.6285, color = 'black')\n",
    "plt.axvline(6.6345, color = 'black')"
   ],
   "outputs": []
  },
  {
   "cell_type": "markdown",
   "id": "4f150e85",
   "metadata": {},
   "source": [
    "$\\chi \\approx 6$ MHz"
   ]
  },
  {
   "cell_type": "markdown",
   "id": "a88992f0",
   "metadata": {},
   "source": [
    "## Compare cooldown 1 and cooldown 2"
   ]
  },
  {
   "cell_type": "code",
   "execution_count": 29,
   "id": "8259c551",
   "metadata": {},
   "source": [
    "plt.plot(phase_q1_crossings_CD1, freq_q1_single_circuit_1_crossings*1e-9, 's', mfc = 'white', label = 'resonator CD 1')\n",
    "plt.plot(phase__tt_q1_single_circuit_1, mw_freq_extracted__tt_q1_single_circuit_1*1e-9, 's', mfc = 'white', label = 'qubit CD 1')\n",
    "\n",
    "plt.plot(phase_q1_crossings_CD2, freq_q1_single_circuit_2_crossings*1e-9, 'x', label = 'resonator CD 2')\n",
    "plt.plot(phase__tt_q1_single_circuit_2, mw_freq_extracted__tt_q1_single_circuit_2*1e-9, 'x', label = 'qubit CD 2')\n",
    "\n",
    "plt.ylabel('Frequency (GHz)')\n",
    "plt.xlabel('$\\phi_{ext}$ ($\\phi_0$)')\n",
    "\n",
    "plt.legend()"
   ],
   "outputs": []
  },
  {
   "cell_type": "code",
   "execution_count": 30,
   "id": "07056886",
   "metadata": {},
   "source": [
    "plt.plot(phase_q1_crossings_CD1, freq_q1_single_circuit_1_crossings*1e-9, 's', mfc = 'white', label = 'resonator CD 1')\n",
    "plt.plot(phase__tt_q1_single_circuit_1, mw_freq_extracted__tt_q1_single_circuit_1*1e-9, 's', label = 'qubit CD 1')\n",
    "\n",
    "plt.plot(phase_q1_crossings_CD2, freq_q1_single_circuit_2_crossings*1e-9, 'x', label = 'resonator CD 2')\n",
    "plt.plot(phase__tt_q1_single_circuit_2, mw_freq_extracted__tt_q1_single_circuit_2*1e-9, 'x', label = 'qubit CD 2')\n",
    "\n",
    "plt.ylabel('Frequency (GHz)')\n",
    "plt.xlabel('$\\phi_{ext}$ ($\\phi_0$)')\n",
    "\n",
    "plt.ylim([6.5, 6.7])\n",
    "\n",
    "plt.legend()"
   ],
   "outputs": []
  },
  {
   "cell_type": "code",
   "execution_count": null,
   "id": "d63e28a5",
   "metadata": {},
   "source": [],
   "outputs": []
  },
  {
   "cell_type": "markdown",
   "id": "48d8fbd7",
   "metadata": {},
   "source": [
    "# Resonator 1"
   ]
  },
  {
   "cell_type": "markdown",
   "id": "e09687a0",
   "metadata": {},
   "source": [
    "## Coil 1: Sweep $I_1$"
   ]
  },
  {
   "cell_type": "code",
   "execution_count": 31,
   "id": "43365f81",
   "metadata": {},
   "source": [
    "with open(os.getcwd() + data_dir + r'\\f_vna__fs_rough_q1_coil1.pkl', 'rb') as f:\n",
    "    f_vna__fs_rough_q1_coil1 = pickle.load(f)\n",
    "with open(os.getcwd() + data_dir + r'\\current__fs_rough_q1_coil1.pkl', 'rb') as f:\n",
    "    current__fs_rough_q1_coil1 = pickle.load(f)\n",
    "with open(os.getcwd() + data_dir + r'\\phase__fs_rough_q1_coil1.pkl', 'rb') as f:\n",
    "    phase__fs_rough_q1_coil1 = pickle.load(f)"
   ],
   "outputs": []
  },
  {
   "cell_type": "code",
   "execution_count": 32,
   "id": "ce06a5dd",
   "metadata": {},
   "source": [
    "fig,ax = plt.subplots(1,1,figsize = (14,7))\n",
    "\n",
    "ax.pcolor(current__fs_rough_q1_coil1, f_vna__fs_rough_q1_coil1*1e-9, phase__fs_rough_q1_coil1.T, shading = 'auto')\n",
    "\n",
    "I_ss_low__fs = -0.00375\n",
    "ax.axvline(x=I_ss_low__fs,color='red',ls='--',lw=2)\n",
    "ax.text(s=' {} mA'.format(round(I_ss_low__fs*1e3,3)), x=I_ss_low__fs, y=ax.get_ylim()[0], ha='left', va='bottom', color ='red',\n",
    "        size=20)\n",
    "\n",
    "I_ss_up__fs = 0.00267\n",
    "ax.axvline(x=I_ss_up__fs,color='red',ls='--',lw=2)\n",
    "ax.text(s=' {} mA '.format(round(I_ss_up__fs*1e3,3)), x=I_ss_up__fs, y=ax.get_ylim()[0], ha='right', va='bottom', color ='red',\n",
    "        size=20)\n",
    "\n",
    "Anzahl_Perioden = 2\n",
    "I0_q1 = (I_ss_up__fs - I_ss_low__fs)/Anzahl_Perioden\n",
    "\n",
    "\n",
    "ax.annotate(xy=(I_ss_low__fs,np.mean(ax.get_ylim())),xytext=(I_ss_up__fs,np.mean(ax.get_ylim())), text='', arrowprops=dict(arrowstyle='<->,head_length=1.8,head_width=0.9',\n",
    "                                        lw=3,color='red'))\n",
    "ax.text(s=' {} mA'.format(round(I0_q1*1e3*Anzahl_Perioden,5)), x=I_ss_low__fs+I0_q1/2*Anzahl_Perioden, y=np.mean(ax.get_ylim()), ha='center', va='top', color ='red',\n",
    "        size=20)\n",
    "\n",
    "ax.set_xlabel(r'$I_1$ (A)')\n",
    "ax.set_ylabel(r'$f_{\\rm vna}$ (GHz)')\n",
    "plt.show()\n",
    "\n",
    "print('I0__q1 = {} mA'.format(I0_q1*1e3))"
   ],
   "outputs": []
  },
  {
   "cell_type": "code",
   "execution_count": 33,
   "id": "b3c26401",
   "metadata": {},
   "source": [
    "with open(os.getcwd() + data_dir + r'\\f_vna__fs_q1_coil1.pkl', 'rb') as f:\n",
    "    f_vna__fs_q1_coil1 = pickle.load(f)[0]\n",
    "with open(os.getcwd() + data_dir + r'\\current__fs_q1_coil1.pkl', 'rb') as f:\n",
    "    current__fs_q1_coil1 = pickle.load(f)[0]\n",
    "with open(os.getcwd() + data_dir + r'\\phase__fs_q1_coil1.pkl', 'rb') as f:\n",
    "    phase__fs_q1_coil1 = pickle.load(f)[0]\n",
    "with open(os.getcwd() + data_dir + r'\\current__fres_q1_coil1.pkl', 'rb') as f:\n",
    "    current_q1_coil1 = pickle.load(f)\n",
    "with open(os.getcwd() + data_dir + r'\\fres__fres_q1_coil1.pkl', 'rb') as f:\n",
    "    fres_q1_coil1 = pickle.load(f)\n",
    "    \n",
    "current_q1_coil1 = np.concatenate([current_q1_coil1[0], current_q1_coil1[1], current_q1_coil1[2]])\n",
    "fres_q1_coil1 = np.concatenate([fres_q1_coil1[0], fres_q1_coil1[1], fres_q1_coil1[2]])"
   ],
   "outputs": []
  },
  {
   "cell_type": "code",
   "execution_count": 34,
   "id": "087ee6eb",
   "metadata": {},
   "source": [
    "fig, ax = plt.subplots(1,1, figsize = (14,7))\n",
    "\n",
    "ax.pcolor(current__fs_q1_coil1, f_vna__fs_q1_coil1, phase__fs_q1_coil1.T,shading='auto')\n",
    "\n",
    "I_ss__q1_fs = 1.12*1e-5\n",
    "ax.axvline(x=I_ss__q1_fs,ls='--',color='red')\n",
    "ax.text(s=' {} mA'.format(round(I_ss__q1_fs*1e3,5)),x=I_ss__q1_fs, y=ax.get_ylim()[0], ha='left', va='bottom', size=20,color='red')\n",
    "print('I_ss__q1_fs= {} mA'.format(round(I_ss__q1_fs*1e3,5)))\n",
    "\n",
    "ax.axvline(x=-0.000541, ls='--', color='blue')\n",
    "ax.axvline(x=0.000565, ls='--', color='blue')    \n",
    "\n",
    "ax.set_xlim([-0.002,0.002])\n",
    "if True:\n",
    "    fr_ss__q1=6.5086*1e9\n",
    "    ax.axhline(y=fr_ss__q1, ls='--', color='red')\n",
    "    ax.text(s=' {} GHz'.format(round(fr_ss__q1*1e-9,5)),x=ax.get_xlim()[0],y=fr_ss__q1, ha='left', va='bottom', size=20,color='red')\n",
    "    print('fr_ss__q1= {} GHz'.format(round(fr_ss__q1*1e-9,5)))\n",
    "\n",
    "ax.plot(current_q1_coil1, fres_q1_coil1, marker='x',color='red',ls='')\n",
    "\n",
    "ax.set_xlabel('Current (A)')\n",
    "ax.set_ylabel('Frequency (Hz)')\n",
    "\n",
    "\n",
    "fig.tight_layout()\n",
    "plt.show()"
   ],
   "outputs": []
  },
  {
   "cell_type": "code",
   "execution_count": 35,
   "id": "6f41acd2",
   "metadata": {},
   "source": [
    "phi_q1_coil1 = (current_q1_coil1 - I_ss__q1_fs + I0_q1/2  ) /I0_q1\n",
    "plt.plot(phi_q1_coil1, fres_q1_coil1, marker='x',color='red',ls='', label = 'Resonator 1')\n",
    "\n",
    "plt.ylabel('Frequency (Hz)')\n",
    "plt.xlabel('$\\phi_{ext}$ ($\\phi_0$)')\n",
    "plt.legend()"
   ],
   "outputs": []
  },
  {
   "cell_type": "markdown",
   "id": "cbda407e",
   "metadata": {},
   "source": [
    "## Coil 2: Sweep $I_2$"
   ]
  },
  {
   "cell_type": "code",
   "execution_count": 36,
   "id": "6b4a3619",
   "metadata": {},
   "source": [
    "with open(os.getcwd() + data_dir + r'\\f_vna__fs_q1_coil2.pkl', 'rb') as f:\n",
    "    f_vna__fs_q1_coil2 = pickle.load(f)\n",
    "with open(os.getcwd() + data_dir + r'\\current__fs_q1_coil2.pkl', 'rb') as f:\n",
    "    current__fs_q1_coil2 = pickle.load(f)\n",
    "with open(os.getcwd() + data_dir + r'\\phase__fs_q1_coil2.pkl', 'rb') as f:\n",
    "    phase__fs_q1_coil2 = pickle.load(f)"
   ],
   "outputs": []
  },
  {
   "cell_type": "code",
   "execution_count": 37,
   "id": "1ee04a4c",
   "metadata": {},
   "source": [
    "fig, ax = plt.subplots(1,1, figsize = (14,7))\n",
    "\n",
    "ax.pcolor(current__fs_q1_coil2, f_vna__fs_q1_coil2, phase__fs_q1_coil2.T,shading='auto')\n",
    "\n",
    "\n",
    "ax.set_xlabel('Current (A)')\n",
    "ax.set_ylabel('Frequency (Hz)')\n",
    "\n",
    "\n",
    "fig.tight_layout()\n",
    "plt.show()"
   ],
   "outputs": []
  },
  {
   "cell_type": "markdown",
   "id": "dca54950",
   "metadata": {},
   "source": [
    "No additional crossings"
   ]
  },
  {
   "cell_type": "markdown",
   "id": "39620dc8",
   "metadata": {},
   "source": [
    "## Coil 3: Sweep $I_3$"
   ]
  },
  {
   "cell_type": "code",
   "execution_count": 38,
   "id": "3f8b3d34",
   "metadata": {},
   "source": [
    "with open(os.getcwd() + data_dir + r'\\f_vna__fs_q1_coil3.pkl', 'rb') as f:\n",
    "    f_vna__fs_q1_coil3 = pickle.load(f)\n",
    "with open(os.getcwd() + data_dir + r'\\current__fs_q1_coil3.pkl', 'rb') as f:\n",
    "    current__fs_q1_coil3 = pickle.load(f)\n",
    "with open(os.getcwd() + data_dir + r'\\phase__fs_q1_coil3.pkl', 'rb') as f:\n",
    "    phase__fs_q1_coil3 = pickle.load(f)"
   ],
   "outputs": []
  },
  {
   "cell_type": "code",
   "execution_count": 39,
   "id": "212cbdaa",
   "metadata": {},
   "source": [
    "fig, ax = plt.subplots(1,1, figsize = (14,7))\n",
    "\n",
    "ax.pcolor(current__fs_q1_coil3, f_vna__fs_q1_coil3, phase__fs_q1_coil3.T,shading='auto')\n",
    "\n",
    "\n",
    "ax.set_xlabel('Current (A)')\n",
    "ax.set_ylabel('Frequency (Hz)')\n",
    "\n",
    "\n",
    "fig.tight_layout()\n",
    "plt.show()"
   ],
   "outputs": []
  },
  {
   "cell_type": "markdown",
   "id": "e5ef8fc3",
   "metadata": {},
   "source": [
    "No additional crossings"
   ]
  },
  {
   "cell_type": "markdown",
   "id": "d698db2c",
   "metadata": {},
   "source": [
    "# Resonator 3"
   ]
  },
  {
   "cell_type": "markdown",
   "id": "48ae4837",
   "metadata": {},
   "source": [
    "## Coil 3: Sweep $I_3$"
   ]
  },
  {
   "cell_type": "code",
   "execution_count": 40,
   "id": "8b9d86e8",
   "metadata": {},
   "source": [
    "with open(os.getcwd() + data_dir + r'\\f_vna__fs_rough_q3_coil3.pkl', 'rb') as f:\n",
    "    f_vna__fs_rough_q3_coil3 = pickle.load(f)\n",
    "with open(os.getcwd() + data_dir + r'\\current__fs_rough_q3_coil3.pkl', 'rb') as f:\n",
    "    current__fs_rough_q3_coil3 = pickle.load(f)\n",
    "with open(os.getcwd() + data_dir + r'\\phase__fs_rough_q3_coil3.pkl', 'rb') as f:\n",
    "    phase__fs_rough_q3_coil3 = pickle.load(f)"
   ],
   "outputs": []
  },
  {
   "cell_type": "code",
   "execution_count": 41,
   "id": "754ef4c4",
   "metadata": {},
   "source": [
    "fig,ax = plt.subplots(1,1,figsize = (14,7))\n",
    "\n",
    "ax.pcolor(current__fs_rough_q3_coil3, f_vna__fs_rough_q3_coil3, phase__fs_rough_q3_coil3.T, shading = 'auto')\n",
    "\n",
    "I_ss_low__fs = -0.002335\n",
    "ax.axvline(x=I_ss_low__fs,color='red',ls='--',lw=2)\n",
    "ax.text(s=' {} mA'.format(round(I_ss_low__fs*1e3,3)), x=I_ss_low__fs, y=ax.get_ylim()[0], ha='left', va='bottom', color ='red',\n",
    "        size=20)\n",
    "\n",
    "I_ss_up__fs = 0.0024648\n",
    "ax.axvline(x=I_ss_up__fs,color='red',ls='--',lw=2)\n",
    "ax.text(s=' {} mA '.format(round(I_ss_up__fs*1e3,3)), x=I_ss_up__fs, y=ax.get_ylim()[0], ha='right', va='bottom', color ='red',\n",
    "        size=20)\n",
    "\n",
    "Anzahl_Perioden = 2\n",
    "I0_q3 = (I_ss_up__fs - I_ss_low__fs)/Anzahl_Perioden\n",
    "\n",
    "\n",
    "ax.annotate(xy=(I_ss_low__fs,np.mean(ax.get_ylim())),xytext=(I_ss_up__fs,np.mean(ax.get_ylim())), text='', arrowprops=dict(arrowstyle='<->,head_length=1.8,head_width=0.9',\n",
    "                                        lw=3,color='red'))\n",
    "ax.text(s=' {} mA'.format(round(I0_q3*1e3*Anzahl_Perioden,5)), x=I_ss_low__fs+I0_q3/2*Anzahl_Perioden, y=np.mean(ax.get_ylim()), ha='center', va='top', color ='red',\n",
    "        size=20)\n",
    "\n",
    "#ax.set_xlim([0,0.34*1e-3])\n",
    "\n",
    "ax.set_xlabel(r'$I_{\\rm yoko}$ (A)')\n",
    "ax.set_ylabel(r'$f_{\\rm vna}$ (GHz)')\n",
    "plt.show()\n",
    "\n",
    "print('I0__q3 = {} mA'.format(I0_q3*1e3))"
   ],
   "outputs": []
  },
  {
   "cell_type": "code",
   "execution_count": 42,
   "id": "bdc91e4f",
   "metadata": {},
   "source": [
    "with open(os.getcwd() + data_dir + r'\\f_vna__fs_q3_coil3.pkl', 'rb') as f:\n",
    "    f_vna__fs_q3_coil3 = pickle.load(f)[0]\n",
    "with open(os.getcwd() + data_dir + r'\\current__fs_q3_coil3.pkl', 'rb') as f:\n",
    "    current__fs_q3_coil3 = pickle.load(f)[0]\n",
    "with open(os.getcwd() + data_dir + r'\\phase__fs_q3_coil3.pkl', 'rb') as f:\n",
    "    phase__fs_q3_coil3 = pickle.load(f)[0]\n",
    "with open(os.getcwd() + data_dir + r'\\current__fres_q3_coil3.pkl', 'rb') as f:\n",
    "    current_q3_coil3 = pickle.load(f)\n",
    "with open(os.getcwd() + data_dir + r'\\fres__fres_q3_coil3.pkl', 'rb') as f:\n",
    "    fres_q3_coil3 = pickle.load(f)\n",
    "    \n",
    "current_q3_coil3 = np.concatenate([current_q3_coil3[0], current_q3_coil3[1], current_q3_coil3[2]])\n",
    "fres_q3_coil3 = np.concatenate([fres_q3_coil3[0], fres_q3_coil3[1], fres_q3_coil3[2]])"
   ],
   "outputs": []
  },
  {
   "cell_type": "code",
   "execution_count": 43,
   "id": "384b9732",
   "metadata": {},
   "source": [
    "fig, ax = plt.subplots(1,1, figsize = (14,7))\n",
    "\n",
    "ax.pcolor(current__fs_q3_coil3, f_vna__fs_q3_coil3, phase__fs_q3_coil3.T,shading='auto')\n",
    "\n",
    "\n",
    "if True:\n",
    "    I_ss__q3_fs = 0.00029\n",
    "    ax.axvline(x=I_ss__q3_fs,ls='--',color='red')\n",
    "    ax.text(s=' {} mA'.format(round(I_ss__q3_fs*1e3,5)),x=I_ss__q3_fs, y=ax.get_ylim()[0], ha='left', va='bottom', size=20,color='red')\n",
    "    print('I_ss__q3_fs= {} mA'.format(round(I_ss__q3_fs*1e3,5)))\n",
    "    \n",
    "    ax.axvline(x=6.505*1e-5, ls='--', color='blue')\n",
    "    ax.axvline(x=0.000514, ls='--', color='blue')    \n",
    "    #print((-0.000541+0.000565)/2)\n",
    "\n",
    "ax.set_xlim([-0.0004,0.001])\n",
    "\n",
    "if True:\n",
    "    fr_ss__q3=5.22635*1e9\n",
    "    ax.axhline(y=fr_ss__q3, ls='--', color='red')\n",
    "    ax.text(s=' {} GHz'.format(round(fr_ss__q3*1e-9,5)),x=ax.get_xlim()[0],y=fr_ss__q3, ha='left', va='bottom', size=20,color='red')\n",
    "    print('fr_ss__q3= {} GHz'.format(round(fr_ss__q3*1e-9,5)))\n",
    "\n",
    "ax.plot(current_q3_coil3, fres_q3_coil3, marker='x',color='red',ls='')\n",
    "\n",
    "ax.set_xlabel('Current (A)')\n",
    "ax.set_ylabel('Frequency (Hz)')\n",
    "\n",
    "\n",
    "fig.tight_layout()\n",
    "plt.show()"
   ],
   "outputs": []
  },
  {
   "cell_type": "code",
   "execution_count": 44,
   "id": "e048ebcc",
   "metadata": {},
   "source": [
    "phi_q3_coil3 = (current_q3_coil3 - I_ss__q3_fs + I0_q3/2  ) /I0_q3\n",
    "plt.plot(phi_q3_coil3, fres_q3_coil3, marker='x',color='blue',ls='', label = 'Resonator 3')\n",
    "\n",
    "plt.ylabel('Frequency (Hz)')\n",
    "plt.xlabel('$\\phi_{ext}$ ($\\phi_0$)')\n",
    "plt.legend()"
   ],
   "outputs": []
  },
  {
   "cell_type": "markdown",
   "id": "c3aa77fb",
   "metadata": {},
   "source": [
    "## Coil 1: Sweep $I_1$"
   ]
  },
  {
   "cell_type": "code",
   "execution_count": 45,
   "id": "0aed467c",
   "metadata": {},
   "source": [
    "with open(os.getcwd() + data_dir + r'\\f_vna__fs_q3_coil1.pkl', 'rb') as f:\n",
    "    f_vna__fs_q3_coil1 = pickle.load(f)\n",
    "with open(os.getcwd() + data_dir + r'\\current__fs_q3_coil1.pkl', 'rb') as f:\n",
    "    current__fs_q3_coil1 = pickle.load(f)\n",
    "with open(os.getcwd() + data_dir + r'\\phase__fs_q3_coil1.pkl', 'rb') as f:\n",
    "    phase__fs_q3_coil1 = pickle.load(f)"
   ],
   "outputs": []
  },
  {
   "cell_type": "code",
   "execution_count": 46,
   "id": "c50f9f70",
   "metadata": {},
   "source": [
    "fig, ax = plt.subplots(1,1, figsize = (14,7))\n",
    "\n",
    "ax.pcolor(current__fs_q3_coil1, f_vna__fs_q3_coil1, phase__fs_q3_coil1.T,shading='auto')\n",
    "\n",
    "\n",
    "ax.set_xlabel('Current (A)')\n",
    "ax.set_ylabel('Frequency (Hz)')\n",
    "\n",
    "\n",
    "fig.tight_layout()\n",
    "plt.show()"
   ],
   "outputs": []
  },
  {
   "cell_type": "markdown",
   "id": "7e173723",
   "metadata": {},
   "source": [
    "No additional crossings"
   ]
  },
  {
   "cell_type": "markdown",
   "id": "27b219f6",
   "metadata": {},
   "source": [
    "## Coil 2: Sweep $I_2$"
   ]
  },
  {
   "cell_type": "code",
   "execution_count": 47,
   "id": "9fce052e",
   "metadata": {},
   "source": [
    "with open(os.getcwd() + data_dir + r'\\f_vna__fs_q3_coil2.pkl', 'rb') as f:\n",
    "    f_vna__fs_q3_coil2 = pickle.load(f)\n",
    "with open(os.getcwd() + data_dir + r'\\current__fs_q3_coil2.pkl', 'rb') as f:\n",
    "    current__fs_q3_coil2 = pickle.load(f)\n",
    "with open(os.getcwd() + data_dir + r'\\phase__fs_q3_coil2.pkl', 'rb') as f:\n",
    "    phase__fs_q3_coil2 = pickle.load(f)"
   ],
   "outputs": []
  },
  {
   "cell_type": "code",
   "execution_count": 48,
   "id": "9c08889f",
   "metadata": {},
   "source": [
    "fig, ax = plt.subplots(1,1, figsize = (14,7))\n",
    "\n",
    "ax.pcolor(current__fs_q3_coil2, f_vna__fs_q3_coil2, phase__fs_q3_coil2.T,shading='auto')\n",
    "\n",
    "\n",
    "ax.set_xlabel('Current (A)')\n",
    "ax.set_ylabel('Frequency (Hz)')\n",
    "\n",
    "\n",
    "fig.tight_layout()\n",
    "plt.show()"
   ],
   "outputs": []
  },
  {
   "cell_type": "markdown",
   "id": "529089a9",
   "metadata": {},
   "source": [
    "tiny feature at ~7mA"
   ]
  },
  {
   "cell_type": "markdown",
   "id": "fda5f3fd",
   "metadata": {},
   "source": [
    "# Resonator 2"
   ]
  },
  {
   "cell_type": "markdown",
   "id": "ce5a5daa",
   "metadata": {},
   "source": [
    "## Coil 2: Sweep $I_2$"
   ]
  },
  {
   "cell_type": "code",
   "execution_count": 49,
   "id": "17ee5267",
   "metadata": {},
   "source": [
    "with open(os.getcwd() + data_dir + r'\\f_vna__fs_rough_q2_coil2.pkl', 'rb') as f:\n",
    "    f_vna__fs_rough_q2_coil2 = pickle.load(f)\n",
    "with open(os.getcwd() + data_dir + r'\\current__fs_rough_q2_coil2.pkl', 'rb') as f:\n",
    "    current__fs_rough_q2_coil2 = pickle.load(f)\n",
    "with open(os.getcwd() + data_dir + r'\\phase__fs_rough_q2_coil2.pkl', 'rb') as f:\n",
    "    phase__fs_rough_q2_coil2 = pickle.load(f)"
   ],
   "outputs": []
  },
  {
   "cell_type": "code",
   "execution_count": 50,
   "id": "e2b41e0c",
   "metadata": {},
   "source": [
    "fig,ax = plt.subplots(1,1,figsize = (14,7))\n",
    "\n",
    "ax.pcolor(current__fs_rough_q2_coil2, f_vna__fs_rough_q2_coil2*1e-9, phase__fs_rough_q2_coil2.T, shading = 'auto')\n",
    "\n",
    "I_ss_low__fs = -0.0018375\n",
    "ax.axvline(x=I_ss_low__fs,color='red',ls='--',lw=2)\n",
    "ax.text(s=' {} mA'.format(round(I_ss_low__fs*1e3,3)), x=I_ss_low__fs, y=ax.get_ylim()[0], ha='left', va='bottom', color ='red',\n",
    "        size=20)\n",
    "\n",
    "I_ss_up__fs = 0.0029075\n",
    "ax.axvline(x=I_ss_up__fs,color='red',ls='--',lw=2)\n",
    "ax.text(s=' {} mA '.format(round(I_ss_up__fs*1e3,3)), x=I_ss_up__fs, y=ax.get_ylim()[0], ha='right', va='bottom', color ='red',\n",
    "        size=20)\n",
    "\n",
    "Anzahl_Perioden = 1\n",
    "I0_c2 = (I_ss_up__fs - I_ss_low__fs)/Anzahl_Perioden\n",
    "\n",
    "\n",
    "ax.annotate(xy=(I_ss_low__fs,np.mean(ax.get_ylim())),xytext=(I_ss_up__fs,np.mean(ax.get_ylim())), text='', arrowprops=dict(arrowstyle='<->,head_length=1.8,head_width=0.9',\n",
    "                                        lw=3,color='red'))\n",
    "ax.text(s=' {} mA'.format(round(I0_c2*1e3*Anzahl_Perioden,5)), x=I_ss_low__fs+I0_c2/2*Anzahl_Perioden, y=np.mean(ax.get_ylim()), ha='center', va='top', color ='red',\n",
    "        size=20)\n",
    "\n",
    "#ax.set_xlim([0,0.34*1e-3])\n",
    "\n",
    "ax.set_xlabel(r'$I_{\\rm yoko}$ (A)')\n",
    "ax.set_ylabel(r'$f_{\\rm vna}$ (GHz)')\n",
    "plt.show()\n",
    "\n",
    "print('I0__q2 = {} mA'.format(I0_c2*1e3))"
   ],
   "outputs": []
  },
  {
   "cell_type": "code",
   "execution_count": 51,
   "id": "1b1bd2dd",
   "metadata": {},
   "source": [
    "with open(os.getcwd() + data_dir + r'\\f_vna__fs_q2_coil2.pkl', 'rb') as f:\n",
    "    f_vna__fs_q2_coil2 = pickle.load(f)[0]\n",
    "with open(os.getcwd() + data_dir + r'\\current__fs_q2_coil2.pkl', 'rb') as f:\n",
    "    current__fs_q2_coil2 = pickle.load(f)[0]\n",
    "with open(os.getcwd() + data_dir + r'\\phase__fs_q2_coil2.pkl', 'rb') as f:\n",
    "    phase__fs_q2_coil2 = pickle.load(f)[0]\n",
    "with open(os.getcwd() + data_dir + r'\\current__fres_q2_coil2.pkl', 'rb') as f:\n",
    "    current_q2_coil2 = pickle.load(f)\n",
    "with open(os.getcwd() + data_dir + r'\\fres__fres_q2_coil2.pkl', 'rb') as f:\n",
    "    fres_q2_coil2 = pickle.load(f)\n",
    "    \n",
    "current_q2_coil2 = np.concatenate([current_q2_coil2[0], current_q2_coil2[1], current_q2_coil2[2]])\n",
    "fres_q2_coil2 = np.concatenate([fres_q2_coil2[0], fres_q2_coil2[1], fres_q2_coil2[2]])"
   ],
   "outputs": []
  },
  {
   "cell_type": "code",
   "execution_count": 52,
   "id": "fe722598",
   "metadata": {},
   "source": [
    "fig, ax = plt.subplots(1,1, figsize = (14,7))\n",
    "\n",
    "ax.pcolor(current__fs_q2_coil2, f_vna__fs_q2_coil2, phase__fs_q2_coil2.T,shading='auto')\n",
    "\n",
    "\n",
    "if True:\n",
    "    I_ss__c2_fs = 0.00254\n",
    "    ax.axvline(x=I_ss__c2_fs,ls='--',color='red')\n",
    "    ax.text(s=' {} mA'.format(round(I_ss__c2_fs*1e3,5)),x=I_ss__c2_fs, y=ax.get_ylim()[0], ha='left', va='bottom', size=20,color='red')\n",
    "    print('I_ss__c2_fs= {} mA'.format(round(I_ss__c2_fs*1e3,5)))\n",
    "    \n",
    "    ax.axvline(x=0.00217, ls='--', color='blue')\n",
    "    ax.axvline(x=0.00291, ls='--', color='blue')    \n",
    "    #print((-0.000541+0.000565)/2)\n",
    "\n",
    "ax.set_xlim([0.0015,0.0035])\n",
    "if True:\n",
    "    fr_ss__c2=6.27544*1e9\n",
    "    ax.axhline(y=fr_ss__c2, ls='--', color='red')\n",
    "    ax.text(s=' {} GHz'.format(round(fr_ss__c2*1e-9,5)),x=ax.get_xlim()[0],y=fr_ss__c2, ha='left', va='bottom', size=20,color='red')\n",
    "    print('fr_ss__c2= {} GHz'.format(round(fr_ss__c2*1e-9,5)))\n",
    "\n",
    "ax.plot(current_q2_coil2, fres_q2_coil2, marker='x',color='red',ls='')\n",
    "\n",
    "ax.set_xlabel('Current (A)')\n",
    "ax.set_ylabel('Frequency (Hz)')\n",
    "\n",
    "\n",
    "fig.tight_layout()\n",
    "plt.show()"
   ],
   "outputs": []
  },
  {
   "cell_type": "code",
   "execution_count": 53,
   "id": "35ff8970",
   "metadata": {},
   "source": [
    "phi_q2_coil2 = (current_q2_coil2 - I_ss__c2_fs + I0_c2/2  ) /I0_c2\n",
    "plt.plot(phi_q2_coil2, fres_q2_coil2, marker='x',color='blue',ls='', label = 'Resonator 2')\n",
    "\n",
    "plt.ylabel('Frequency (Hz)')\n",
    "plt.xlabel('$\\phi_{ext}$ ($\\phi_0$)')\n",
    "plt.legend()"
   ],
   "outputs": []
  },
  {
   "cell_type": "markdown",
   "id": "a9fa8ec7",
   "metadata": {},
   "source": [
    "## Coil 1: Sweep $I_1$"
   ]
  },
  {
   "cell_type": "code",
   "execution_count": 54,
   "id": "74e77592",
   "metadata": {},
   "source": [
    "with open(os.getcwd() + data_dir + r'\\f_vna__fs_q2_coil1.pkl', 'rb') as f:\n",
    "    f_vna__fs_q2_coil1 = pickle.load(f)[0]\n",
    "with open(os.getcwd() + data_dir + r'\\current__fs_q2_coil1.pkl', 'rb') as f:\n",
    "    current__fs_q2_coil1 = pickle.load(f)[0]\n",
    "with open(os.getcwd() + data_dir + r'\\phase__fs_q2_coil1.pkl', 'rb') as f:\n",
    "    phase__fs_q2_coil1 = pickle.load(f)[0]\n",
    "with open(os.getcwd() + data_dir + r'\\current__fres_q2_coil1.pkl', 'rb') as f:\n",
    "    current_q2_coil1 = pickle.load(f)\n",
    "with open(os.getcwd() + data_dir + r'\\fres__fres_q2_coil1.pkl', 'rb') as f:\n",
    "    fres_q2_coil1 = pickle.load(f)"
   ],
   "outputs": []
  },
  {
   "cell_type": "code",
   "execution_count": 55,
   "id": "8049e68c",
   "metadata": {},
   "source": [
    "fig, ax = plt.subplots(1,1, figsize = (14,7))\n",
    "\n",
    "ax.pcolor(current__fs_q2_coil1, f_vna__fs_q2_coil1, phase__fs_q2_coil1.T,shading='auto')\n",
    "\n",
    "\n",
    "if True:\n",
    "    #I_ss__c2_fs = 0.00254\n",
    "    #ax.axvline(x=I_ss__c2_fs,ls='--',color='red')\n",
    "    #ax.text(s=' {} mA'.format(round(I_ss__c2_fs*1e3,5)),x=I_ss__c2_fs, y=ax.get_ylim()[0], ha='left', va='bottom', size=20,color='red')\n",
    "    #print('I_ss__c2_fs= {} mA'.format(round(I_ss__c2_fs*1e3,5)))\n",
    "    \n",
    "    #ax.axvline(x=0.00217, ls='--', color='blue')\n",
    "    #ax.axvline(x=0.00291, ls='--', color='blue')    \n",
    "    print((-0.000541+0.000565)/2)\n",
    "\n",
    "#ax.set_xlim([0.0015,0.0035])\n",
    "if True:\n",
    "    #fr_ss__c2=6.27544*1e9\n",
    "    #ax.axhline(y=fr_ss__c2, ls='--', color='red')\n",
    "    #ax.text(s=' {} GHz'.format(round(fr_ss__c2*1e-9,5)),x=ax.get_xlim()[0],y=fr_ss__c2, ha='left', va='bottom', size=20,color='red')\n",
    "    print('fr_ss__c2= {} GHz'.format(round(fr_ss__c2*1e-9,5)))\n",
    "\n",
    "ax.plot(current_q2_coil1, fres_q2_coil1, marker='x',color='red',ls='')\n",
    "\n",
    "ax.set_xlabel('Current (A)')\n",
    "ax.set_ylabel('Frequency (Hz)')\n",
    "\n",
    "\n",
    "fig.tight_layout()\n",
    "plt.show()"
   ],
   "outputs": []
  },
  {
   "cell_type": "code",
   "execution_count": 56,
   "id": "c6834cc9",
   "metadata": {},
   "source": [
    "plt.plot(current_q2_coil1, fres_q2_coil1, marker='x',color='red',ls='', label = 'Resonator 2 crossing with what?')\n",
    "\n",
    "plt.ylabel('Frequency (Hz)')\n",
    "plt.xlabel('Current 1 (A)')\n",
    "plt.legend()"
   ],
   "outputs": []
  },
  {
   "cell_type": "markdown",
   "id": "fba58126",
   "metadata": {},
   "source": [
    "If this was qubit 1, we would see it crossing several times with periodicity 3.21 mA\n",
    "\n",
    "If this was qubit 3, we would see a periodicity of 100 mA which is the width of the window. But there is only one crossing.\n",
    "\n",
    "Both is not the case ..."
   ]
  },
  {
   "cell_type": "markdown",
   "id": "6c54d28d",
   "metadata": {},
   "source": [
    "## Coil 3: Sweep $I_3$"
   ]
  },
  {
   "cell_type": "code",
   "execution_count": 57,
   "id": "8da5089b",
   "metadata": {},
   "source": [
    "with open(os.getcwd() + data_dir + r'\\f_vna__fs_q2_coil3.pkl', 'rb') as f:\n",
    "    f_vna__fs_q2_coil3 = pickle.load(f)\n",
    "with open(os.getcwd() + data_dir + r'\\current__fs_q2_coil3.pkl', 'rb') as f:\n",
    "    current__fs_q2_coil3 = pickle.load(f)\n",
    "with open(os.getcwd() + data_dir + r'\\phase__fs_q2_coil3.pkl', 'rb') as f:\n",
    "    phase__fs_q2_coil3 = pickle.load(f)"
   ],
   "outputs": []
  },
  {
   "cell_type": "code",
   "execution_count": 58,
   "id": "244905d0",
   "metadata": {},
   "source": [
    "fig, ax = plt.subplots(1,1, figsize = (14,7))\n",
    "\n",
    "ax.pcolor(current__fs_q2_coil3, f_vna__fs_q2_coil3, phase__fs_q2_coil3.T,shading='auto')\n",
    "\n",
    "\n",
    "ax.set_xlabel('Current (A)')\n",
    "ax.set_ylabel('Frequency (Hz)')\n",
    "\n",
    "\n",
    "fig.tight_layout()\n",
    "plt.show()"
   ],
   "outputs": []
  },
  {
   "cell_type": "markdown",
   "id": "86d75f43",
   "metadata": {},
   "source": [
    "It is 10 mA between the crossings\n",
    "\n",
    "qubit 3 would have a periodicity of 2.4 mA\n",
    "qubit 1 would have a periodicity of 150 mA\n",
    "\n",
    "Not sure what the extra crossings are ..."
   ]
  },
  {
   "cell_type": "markdown",
   "id": "4c28e5c6",
   "metadata": {},
   "source": [
    "# Summary resonator spectroscopy"
   ]
  },
  {
   "cell_type": "markdown",
   "id": "ef28f449",
   "metadata": {},
   "source": [
    "Be aware that the x axis is in a sense artificial, because we don't align all three external fluxes. All curves are shifted with respect to each other depending on the experiment \n",
    "\n",
    "You can also see that the crossings are very small for resonator 2. This is because we didnt take care of engineering the readout of this qubit as it is supposed to be the coupler qubit. Also the measurements are very noisy as you may have moticed. This is because we used our \"worst\" output line for the readout of the coupler qubit to save the good lines for the actual qubits 1 and 3."
   ]
  },
  {
   "cell_type": "markdown",
   "id": "0973a97c",
   "metadata": {},
   "source": [
    "## compare resonators 1 to 3 of coupled system"
   ]
  },
  {
   "cell_type": "code",
   "execution_count": 59,
   "id": "eeb07d8d",
   "metadata": {},
   "source": [
    "plt.plot(phi_q1_coil1, fres_q1_coil1, marker='x',color='red',ls='', label = 'Resonator 1')\n",
    "plt.plot(phi_q2_coil2, fres_q2_coil2, marker='x',color='blue',ls='', label = 'Resonator 2')\n",
    "plt.plot(phi_q3_coil3, fres_q3_coil3, marker='x',color='green',ls='', label = 'Resonator 3')\n",
    "\n",
    "\n",
    "#plt.ylim([6.2e9, 6.33e9])\n",
    "plt.ylabel('Frequency (Hz)')\n",
    "plt.xlabel('$\\phi_{ext}$ ($\\phi_0$)')\n",
    "plt.legend()"
   ],
   "outputs": []
  },
  {
   "cell_type": "markdown",
   "id": "8e81d4db",
   "metadata": {},
   "source": [
    "## Compare coupled circuit resonator 1 to single circuit resonator 1"
   ]
  },
  {
   "cell_type": "code",
   "execution_count": 60,
   "id": "d228dabb",
   "metadata": {},
   "source": [
    "plt.plot(phi_q1_coil1, fres_q1_coil1*1e-9, marker='o',color='red',ls='', mfc = 'white', label = 'Resonator 1 (coupled)')\n",
    "\n",
    "plt.plot(phase_q1_crossings_CD1, freq_q1_single_circuit_1_crossings*1e-9, 's', mfc = 'white', label = 'resonator CD 1 (single circuit)')\n",
    "\n",
    "plt.plot(phase_q1_crossings_CD2, freq_q1_single_circuit_2_crossings*1e-9, 'x', label = 'resonator CD 2 (single circuit)')\n",
    "\n",
    "plt.ylabel('Frequency (GHz)')\n",
    "plt.xlabel('$\\phi_{ext}$ ($\\phi_0$)')\n",
    "\n",
    "plt.legend()"
   ],
   "outputs": []
  },
  {
   "cell_type": "markdown",
   "id": "a760d457",
   "metadata": {},
   "source": [
    "# Qubit 1"
   ]
  },
  {
   "cell_type": "code",
   "execution_count": 61,
   "id": "c5646086",
   "metadata": {},
   "source": [
    "with open(os.getcwd() + data_dir + r'\\x__q1_tt_low_q1.pkl', 'rb') as f:\n",
    "    x__q1_tt_low = pickle.load(f)[0]\n",
    "with open(os.getcwd() + data_dir + r'\\y__q1_tt_low_q1.pkl', 'rb') as f:\n",
    "    y__q1_tt_low = pickle.load(f)[0]\n",
    "    \n",
    "with open(os.getcwd() + data_dir + r'\\x__q1_tt_up_q1.pkl', 'rb') as f:\n",
    "    x__q1_tt_up = pickle.load(f)\n",
    "with open(os.getcwd() + data_dir + r'\\y__q1_tt_up_q1.pkl', 'rb') as f:\n",
    "    y__q1_tt_up = pickle.load(f)"
   ],
   "outputs": []
  },
  {
   "cell_type": "code",
   "execution_count": 62,
   "id": "90909d08",
   "metadata": {},
   "source": [
    "fig, ax = plt.subplots(1, 2, figsize = (8,4))\n",
    "ax[0].plot(x__q1_tt_low, y__q1_tt_low )\n",
    "ax[0].axvline(1e-5)\n",
    "I_ss__q1_tt_low = 1e-5\n",
    "\n",
    "ax[1].plot(x__q1_tt_up, y__q1_tt_up )\n",
    "\n",
    "ax[0].set_ylabel('Frequency (Hz)')\n",
    "ax[1].set_ylabel('Frequency (Hz)')\n",
    "\n",
    "ax[0].set_xlabel('Current (A)')\n",
    "ax[1].set_xlabel('Current (A)')\n",
    "\n",
    "fig.tight_layout()"
   ],
   "outputs": []
  },
  {
   "cell_type": "code",
   "execution_count": 63,
   "id": "17f1c29f",
   "metadata": {},
   "source": [
    "x__q1_tt = np.concatenate([x__q1_tt_low, x__q1_tt_up])\n",
    "y__q1_tt = np.concatenate([y__q1_tt_low, y__q1_tt_up])"
   ],
   "outputs": []
  },
  {
   "cell_type": "code",
   "execution_count": 64,
   "id": "0a059a48",
   "metadata": {},
   "source": [
    "phi_q1_tt = (x__q1_tt - I_ss__q1_tt_low + I0_q1/2  ) /I0_q1"
   ],
   "outputs": []
  },
  {
   "cell_type": "code",
   "execution_count": 65,
   "id": "7f726ebf",
   "metadata": {},
   "source": [
    "plt.plot(phi_q1_tt, y__q1_tt, 'x')\n",
    "plt.ylabel('Frequency (Hz)')\n",
    "plt.xlabel('$\\phi_{ext}$ ($\\phi_0$)')"
   ],
   "outputs": []
  },
  {
   "cell_type": "markdown",
   "id": "c3b39fc1",
   "metadata": {},
   "source": [
    "## Fit results (only qubit mode)"
   ]
  },
  {
   "cell_type": "code",
   "execution_count": 109,
   "id": "78c7665a",
   "metadata": {},
   "source": [
    "Lq_q1_fit= 22.06 #nH\n",
    "Cq_q1_fit= 32.15 #fF\n",
    "Ej_q1_fit= 6.19 #GHz\n",
    "\n",
    "fq_q1_fit = 3.699  #GHz"
   ],
   "outputs": []
  },
  {
   "cell_type": "markdown",
   "id": "6b5efd27",
   "metadata": {},
   "source": [
    "## Estimate resonator inductance from geometry"
   ]
  },
  {
   "cell_type": "code",
   "execution_count": 110,
   "id": "75f92da3",
   "metadata": {},
   "source": [
    "# length of qubit loop inductance in um\n",
    "l_q = 36.7 + 39.3\n",
    "\n",
    "# asymmetry of qubit loop in um\n",
    "l_delta = (39.3 - 36.7)/2\n",
    "\n",
    "#length of readout inductance in um\n",
    "l_r = 50\n",
    "\n",
    "#inductance per length (nH/um)\n",
    "L_um = Lq_q1_fit/l_q\n",
    "\n",
    "# asymmetry in nH\n",
    "Delta = l_delta*L_um\n",
    "# readout inductance in nH\n",
    "L_r = l_r*L_um\n",
    "\n",
    "print('Delta = ' + str(Delta))\n",
    "print('Lr = ' + str(L_r))\n",
    "\n",
    "# a good estimate for the effective resonator inductance is then\n",
    "L_R = L_r + Lq_q1_fit/4 # or factor of 4 bigger for you\n",
    "print('L_R = ' + str(L_R))"
   ],
   "outputs": []
  },
  {
   "cell_type": "markdown",
   "id": "f6701589",
   "metadata": {},
   "source": [
    "# Qubit 2"
   ]
  },
  {
   "cell_type": "code",
   "execution_count": 66,
   "id": "d6c6ae17",
   "metadata": {},
   "source": [
    "with open(os.getcwd() + data_dir + r'\\x__q2_tt_low_q2.pkl', 'rb') as f:\n",
    "    x__q2_tt_low = pickle.load(f)\n",
    "with open(os.getcwd() + data_dir + r'\\y__q2_tt_low_q2.pkl', 'rb') as f:\n",
    "    y__q2_tt_low = pickle.load(f)\n",
    "    \n",
    "with open(os.getcwd() + data_dir + r'\\x__q2_tt_up_q2.pkl', 'rb') as f:\n",
    "    x__q2_tt_up = pickle.load(f)\n",
    "with open(os.getcwd() + data_dir + r'\\y__q2_tt_up_q2.pkl', 'rb') as f:\n",
    "    y__q2_tt_up = pickle.load(f)"
   ],
   "outputs": []
  },
  {
   "cell_type": "code",
   "execution_count": 67,
   "id": "68b8141a",
   "metadata": {},
   "source": [
    "fig, ax = plt.subplots(1, 2, figsize = (8,4))\n",
    "ax[0].plot(x__q2_tt_low, y__q2_tt_low )\n",
    "ax[0].axvline(-2.2e-3)\n",
    "I_ss__q2_tt_low = -2.2e-3\n",
    "\n",
    "ax[1].plot(x__q2_tt_up, y__q2_tt_up , 'x')\n",
    "\n",
    "ax[0].set_ylabel('Frequency (Hz)')\n",
    "ax[1].set_ylabel('Frequency (Hz)')\n",
    "\n",
    "ax[0].set_xlabel('Current (A)')\n",
    "ax[1].set_xlabel('Current (A)')\n",
    "\n",
    "fig.tight_layout()"
   ],
   "outputs": []
  },
  {
   "cell_type": "code",
   "execution_count": 68,
   "id": "7eeaf7a1",
   "metadata": {},
   "source": [
    "x__q2_tt = np.concatenate([x__q2_tt_low, x__q2_tt_up])\n",
    "y__q2_tt = np.concatenate([y__q2_tt_low, y__q2_tt_up])"
   ],
   "outputs": []
  },
  {
   "cell_type": "code",
   "execution_count": 69,
   "id": "e3fd7225",
   "metadata": {},
   "source": [
    "phi_q2_tt = (x__q2_tt - I_ss__q2_tt_low + I0_c2/2  ) /I0_c2"
   ],
   "outputs": []
  },
  {
   "cell_type": "code",
   "execution_count": 70,
   "id": "0d91a5fe",
   "metadata": {},
   "source": [
    "plt.plot(phi_q2_tt, y__q2_tt, 'x')\n",
    "plt.ylabel('Frequency (Hz)')\n",
    "plt.xlabel('$\\phi_{ext}$ ($\\phi_0$)')"
   ],
   "outputs": []
  },
  {
   "cell_type": "markdown",
   "id": "0667ca47",
   "metadata": {},
   "source": [
    "## Fit results (only qubit mode)"
   ]
  },
  {
   "cell_type": "code",
   "execution_count": 107,
   "id": "bdd664b5",
   "metadata": {},
   "source": [
    "Lq_c2_fit= 20.21 #nH\n",
    "Cq_c2_fit= 22.70 #fF\n",
    "Ej_c2_fit= 9.57 #GHz\n",
    "\n",
    "fq_c2_fit = 3.437  #GHz"
   ],
   "outputs": []
  },
  {
   "cell_type": "markdown",
   "id": "1cccccdc",
   "metadata": {},
   "source": [
    "## Estimate resonator inductance from geometry"
   ]
  },
  {
   "cell_type": "code",
   "execution_count": 108,
   "id": "ce64b338",
   "metadata": {},
   "source": [
    "# length of qubit loop inductance in um\n",
    "l_q = 27.6 + 28.4\n",
    "\n",
    "# asymmetry of qubit loop in um\n",
    "l_delta = (28.4 - 27.6)/2\n",
    "\n",
    "#length of readout inductance in um\n",
    "l_r = 56\n",
    "\n",
    "#inductance per length (nH/um)\n",
    "L_um = Lq_c2_fit/l_q\n",
    "\n",
    "# asymmetry in nH\n",
    "Delta = l_delta*L_um\n",
    "# readout inductance in nH\n",
    "L_r = l_r*L_um\n",
    "\n",
    "print('Delta = ' + str(Delta))\n",
    "print('Lr = ' + str(L_r))\n",
    "\n",
    "# a good estimate for the effective resonator inductance is then\n",
    "L_R = L_r + Lq_c2_fit/4 # or factor of 4 bigger for you\n",
    "print('L_R = ' + str(L_R))"
   ],
   "outputs": []
  },
  {
   "cell_type": "markdown",
   "id": "2bc5c5c6",
   "metadata": {},
   "source": [
    "# Qubit 3"
   ]
  },
  {
   "cell_type": "code",
   "execution_count": 71,
   "id": "71bff56e",
   "metadata": {},
   "source": [
    "with open(os.getcwd() + data_dir + r'\\x__q3_tt_low_q3.pkl', 'rb') as f:\n",
    "    x__q3_tt_low = pickle.load(f)\n",
    "with open(os.getcwd() + data_dir + r'\\y__q3_tt_low_q3.pkl', 'rb') as f:\n",
    "    y__q3_tt_low = pickle.load(f)\n",
    "    \n",
    "with open(os.getcwd() + data_dir + r'\\x__q3_tt_up_q3.pkl', 'rb') as f:\n",
    "    x__q3_tt_up = pickle.load(f)\n",
    "with open(os.getcwd() + data_dir + r'\\y__q3_tt_up_q3.pkl', 'rb') as f:\n",
    "    y__q3_tt_up = pickle.load(f)"
   ],
   "outputs": []
  },
  {
   "cell_type": "code",
   "execution_count": 72,
   "id": "33b24833",
   "metadata": {},
   "source": [
    "fig, ax = plt.subplots(1, 2, figsize = (8,4))\n",
    "ax[0].plot(-x__q3_tt_low, y__q3_tt_low )\n",
    "ax[0].axvline(-2.85e-4)\n",
    "I_ss__q3_tt_low = -2.85e-4\n",
    "\n",
    "ax[1].plot(x__q3_tt_up, y__q3_tt_up , 'x')\n",
    "\n",
    "ax[0].set_ylabel('Frequency (Hz)')\n",
    "ax[1].set_ylabel('Frequency (Hz)')\n",
    "\n",
    "ax[0].set_xlabel('Current (A)')\n",
    "ax[1].set_xlabel('Current (A)')\n",
    "\n",
    "fig.tight_layout()"
   ],
   "outputs": []
  },
  {
   "cell_type": "code",
   "execution_count": 73,
   "id": "5e6e5a44",
   "metadata": {},
   "source": [
    "x__q3_tt = np.concatenate([x__q3_tt_low, x__q3_tt_up])\n",
    "y__q3_tt = np.concatenate([y__q3_tt_low, y__q3_tt_up])"
   ],
   "outputs": []
  },
  {
   "cell_type": "code",
   "execution_count": 74,
   "id": "d06e1743",
   "metadata": {},
   "source": [
    "phi_q3_tt = (-x__q3_tt - I_ss__q3_tt_low + I0_q3/2  ) /I0_q3"
   ],
   "outputs": []
  },
  {
   "cell_type": "code",
   "execution_count": 75,
   "id": "7947dc32",
   "metadata": {},
   "source": [
    "plt.plot(phi_q3_tt, y__q3_tt, 'x')\n",
    "plt.ylabel('Frequency (Hz)')\n",
    "plt.xlabel('$\\phi_{ext}$ ($\\phi_0$)')"
   ],
   "outputs": []
  },
  {
   "cell_type": "markdown",
   "id": "638fb8e3",
   "metadata": {},
   "source": [
    "## Fit results (only qubit mode)"
   ]
  },
  {
   "cell_type": "code",
   "execution_count": 111,
   "id": "c606a1b1",
   "metadata": {},
   "source": [
    "Lq_q3_fit= 31.59 #nH\n",
    "Cq_q3_fit= 25.20 #fF\n",
    "Ej_q3_fit= 5.58 #GHz\n",
    "\n",
    "fq_q3_fit = 3.08 #GHz"
   ],
   "outputs": []
  },
  {
   "cell_type": "markdown",
   "id": "7fc9672b",
   "metadata": {},
   "source": [
    "## Estimate resonator inductance from geometry"
   ]
  },
  {
   "cell_type": "code",
   "execution_count": 112,
   "id": "54f3b8be",
   "metadata": {},
   "source": [
    "# length of qubit loop inductance in um\n",
    "l_q = 47 + 51\n",
    "\n",
    "# asymmetry of qubit loop in um\n",
    "l_delta = (51 - 47)/2\n",
    "\n",
    "#length of readout inductance in um\n",
    "l_r = 39.6\n",
    "\n",
    "#inductance per length (nH/um)\n",
    "L_um = Lq_q3_fit/l_q\n",
    "\n",
    "# asymmetry in nH\n",
    "Delta = l_delta*L_um\n",
    "# readout inductance in nH\n",
    "L_r = l_r*L_um\n",
    "\n",
    "print('Delta = ' + str(Delta))\n",
    "print('Lr = ' + str(L_r))\n",
    "\n",
    "# a good estimate for the effective resonator inductance is then\n",
    "L_R = L_r + Lq_q3_fit/4 # or factor of 4 bigger for you\n",
    "print('L_R = ' + str(L_R))"
   ],
   "outputs": []
  },
  {
   "cell_type": "markdown",
   "id": "d8aeb9bc",
   "metadata": {},
   "source": [
    "# Summary qubit and resonator spectroscopy"
   ]
  },
  {
   "cell_type": "code",
   "execution_count": 76,
   "id": "9a00c101",
   "metadata": {},
   "source": [
    "fig, ax = plt.subplots(1, 3, figsize = (10, 4))\n",
    "\n",
    "ax[0].plot(phi_q1_coil1, fres_q1_coil1, marker='x',color='red',ls='', label = 'Resonator 1')\n",
    "ax[0].plot(phi_q1_tt, y__q1_tt, marker='.',color='red',ls='', label = 'Qubit 1')\n",
    "ax[0].set_ylabel('Frequency (Hz)')\n",
    "ax[0].set_xlabel('$\\phi_{ext}$ ($\\phi_0$)')\n",
    "ax[0].legend()\n",
    "\n",
    "ax[1].plot(phi_q2_coil2, fres_q2_coil2, marker='x',color='blue',ls='', label = 'Resonator 2')\n",
    "ax[1].plot(phi_q2_tt, y__q2_tt, marker='.',color='blue',ls='', label = 'Qubit 2')\n",
    "ax[1].set_ylabel('Frequency (Hz)')\n",
    "ax[1].set_xlabel('$\\phi_{ext}$ ($\\phi_0$)')\n",
    "ax[1].legend()\n",
    "\n",
    "ax[2].plot(phi_q3_coil3, fres_q3_coil3, marker='x',color='green',ls='', label = 'Resonator 3')\n",
    "ax[2].plot(phi_q3_tt, y__q3_tt, marker='.',color='green',ls='', label = 'Qubit 3')\n",
    "ax[2].set_ylabel('Frequency (Hz)')\n",
    "ax[2].set_xlabel('$\\phi_{ext}$ ($\\phi_0$)')\n",
    "ax[2].legend()\n",
    "\n",
    "fig.tight_layout()"
   ],
   "outputs": []
  },
  {
   "cell_type": "markdown",
   "id": "a8173c0b",
   "metadata": {},
   "source": [
    "# Estimate fit uncertainties"
   ]
  },
  {
   "cell_type": "markdown",
   "id": "6e21f94b",
   "metadata": {},
   "source": [
    "Below, we tabulate 4 sets of fit results from 3 different cooldowns for qubit 1 in the coupled configuration"
   ]
  },
  {
   "cell_type": "code",
   "execution_count": 115,
   "id": "5ea2185b",
   "metadata": {},
   "source": [
    "Lq = np.array([26.98, 25.05, 24, 22.06]) # nH\n",
    "Cq = np.array([26.5, 28.41, 29.5, 32.15]) # fF\n",
    "Ej = np.array([5.39, 5.61, 5.8, 6.19]) # GHz"
   ],
   "outputs": []
  },
  {
   "cell_type": "code",
   "execution_count": 118,
   "id": "94d64648",
   "metadata": {},
   "source": [
    "plt.plot(Lq)\n",
    "plt.plot(Cq)\n",
    "plt.plot(Ej)"
   ],
   "outputs": []
  },
  {
   "cell_type": "code",
   "execution_count": 119,
   "id": "67297747",
   "metadata": {},
   "source": [
    "np.std(Lq)"
   ],
   "outputs": []
  },
  {
   "cell_type": "code",
   "execution_count": 120,
   "id": "30d5034d",
   "metadata": {},
   "source": [
    "np.std(Cq)"
   ],
   "outputs": []
  },
  {
   "cell_type": "code",
   "execution_count": 121,
   "id": "cfc2754f",
   "metadata": {},
   "source": [
    "np.std(Ej)"
   ],
   "outputs": []
  },
  {
   "cell_type": "markdown",
   "id": "93e76e6d",
   "metadata": {},
   "source": [
    "# q1-q2-q3 avoided crossing"
   ]
  },
  {
   "cell_type": "markdown",
   "id": "1c533cfb",
   "metadata": {},
   "source": [
    "Below, we fix q1 at its half-flux point around 3.7 GHz, move q2 on resonance, and then sweep q3 through 3.7 GHz.\n",
    "\n",
    "In the background, we have a flux calibration which converts a set of desired qubit frequencies into a set of currents through the coils. As a result, the x axis corrsponds to a change of $\\vec{I}$ along all components. So what is important is only the y axis that gives the measured energies. "
   ]
  },
  {
   "cell_type": "code",
   "execution_count": 77,
   "id": "bbdc9e02",
   "metadata": {},
   "source": [
    "with open(os.getcwd() + data_dir + r'\\x__tt_3LevAC.pkl', 'rb') as f:\n",
    "    x__tt_3LevAC = pickle.load(f)\n",
    "with open(os.getcwd() + data_dir + r'\\y__tt_3LevAC.pkl', 'rb') as f:\n",
    "    y__tt_3LevAC = pickle.load(f)"
   ],
   "outputs": []
  },
  {
   "cell_type": "code",
   "execution_count": 78,
   "id": "8b7a01e4",
   "metadata": {},
   "source": [
    "for i in range(len(x__tt_3LevAC)):\n",
    "    plt.plot(x__tt_3LevAC[i], y__tt_3LevAC[i], 'x')\n",
    "    \n",
    "plt.ylabel('Frequency (GHz)')\n",
    "plt.xlabel('Sweep parameters (a.u.)')"
   ],
   "outputs": []
  },
  {
   "cell_type": "markdown",
   "id": "447b007f",
   "metadata": {},
   "source": [
    "# q1 - q3 avoided crossing while q2 is off-resonant"
   ]
  },
  {
   "cell_type": "markdown",
   "id": "c0b82320",
   "metadata": {},
   "source": [
    "We keep q1 at its half-flux point ~ 3.7 GHz and move q2 to its half-flux point ~3.4 GHz such that they are 100's Mhz detuned. Then we sweep q3 through q1 and try to measure the frequency of qubit 1 as precisely as possible via Ramsey interferometry. Notice the different scale of the y axis which is now showing kHz differences. It is not possible to measure clear anticrossings but we observe a change of f_q1 once q3 moves through q1 which indicates the \"small\" cross-talk"
   ]
  },
  {
   "cell_type": "code",
   "execution_count": 79,
   "id": "630c6651",
   "metadata": {},
   "source": [
    "with open(os.getcwd() + data_dir + r'\\curr_vec_Ramsey_offres_q1.pkl', 'rb') as f:\n",
    "    curr_vec_Ramsey_offres_q1 = pickle.load(f)\n",
    "with open(os.getcwd() + data_dir + r'\\f_vec_Ramsey_offres_q1.pkl', 'rb') as f:\n",
    "    f_vec_Ramsey_offres_q1 = pickle.load(f)[0]"
   ],
   "outputs": []
  },
  {
   "cell_type": "code",
   "execution_count": 80,
   "id": "913da40b",
   "metadata": {},
   "source": [
    "plt.plot(curr_vec_Ramsey_offres_q1, f_vec_Ramsey_offres_q1)\n",
    "plt.ylabel('Ramsey detuning qubit 1 (MHz)')\n",
    "plt.xlabel('Sweep parameter (a.u.)')"
   ],
   "outputs": []
  },
  {
   "cell_type": "markdown",
   "id": "368b2e53",
   "metadata": {},
   "source": [
    "Now we check the frequency of qubit 3 versus the sweep parameter to verify that q3 crosses q1"
   ]
  },
  {
   "cell_type": "code",
   "execution_count": 81,
   "id": "f192f52d",
   "metadata": {},
   "source": [
    "with open(os.getcwd() + data_dir + r'\\curr_vec_tt_offres_q3.pkl', 'rb') as f:\n",
    "    curr_vec_tt_offres_q3 = pickle.load(f)\n",
    "with open(os.getcwd() + data_dir + r'\\f_vec_tt_offres_q3.pkl', 'rb') as f:\n",
    "    f_vec_tt_offres_q3 = pickle.load(f)"
   ],
   "outputs": []
  },
  {
   "cell_type": "code",
   "execution_count": 82,
   "id": "5fbf4870",
   "metadata": {},
   "source": [
    "plt.plot(curr_vec_tt_offres_q3, f_vec_tt_offres_q3 - 200e6)\n",
    "# 200 MHz IF frequency is set to match q1 frequency\n",
    "plt.ylabel('Qubit 3 detuning from qubit 1 (Hz)')\n",
    "plt.xlabel('Sweep parameter (a.u.)')"
   ],
   "outputs": []
  },
  {
   "cell_type": "markdown",
   "id": "174c73a4",
   "metadata": {},
   "source": [
    "# q1 - q2 avoided crossing while q3 is off-resonant"
   ]
  },
  {
   "cell_type": "markdown",
   "id": "3f9fb9c8",
   "metadata": {},
   "source": [
    "Move q2 through q1 which is at half-flux"
   ]
  },
  {
   "cell_type": "code",
   "execution_count": 83,
   "id": "72867a1b",
   "metadata": {},
   "source": [
    "with open(os.getcwd() + data_dir + r'\\x__tt_q1_q2.pkl', 'rb') as f:\n",
    "    x__tt_q1_q2 = pickle.load(f)\n",
    "with open(os.getcwd() + data_dir + r'\\y__tt_q1_q2.pkl', 'rb') as f:\n",
    "    y__tt_q1_q2 = pickle.load(f)\n",
    "x__tt_q1_q2 = np.concatenate([x__tt_q1_q2[0], x__tt_q1_q2[1] ])\n",
    "y__tt_q1_q2 = np.concatenate([y__tt_q1_q2[0], y__tt_q1_q2[1] ])"
   ],
   "outputs": []
  },
  {
   "cell_type": "code",
   "execution_count": 84,
   "id": "72218f47",
   "metadata": {},
   "source": [
    "plt.plot(x__tt_q1_q2, y__tt_q1_q2, 'x')\n",
    "plt.ylabel('Frequency (GHz)')\n",
    "plt.xlabel('Sweep parameter (a.u.)')"
   ],
   "outputs": []
  },
  {
   "cell_type": "code",
   "execution_count": null,
   "id": "2475451b",
   "metadata": {},
   "source": [],
   "outputs": []
  }
 ],
 "metadata": {
  "kernelspec": {
   "display_name": "Python 3 (ipykernel)",
   "language": "python",
   "name": "python3"
  },
  "language_info": {
   "codemirror_mode": {
    "name": "ipython",
    "version": 3
   },
   "file_extension": ".py",
   "mimetype": "text/x-python",
   "name": "python",
   "nbconvert_exporter": "python",
   "pygments_lexer": "ipython3",
   "version": "3.9.5"
  },
  "latex_envs": {
   "LaTeX_envs_menu_present": true,
   "autoclose": false,
   "autocomplete": true,
   "bibliofile": "biblio.bib",
   "cite_by": "apalike",
   "current_citInitial": 1,
   "eqLabelWithNumbers": true,
   "eqNumInitial": 1,
   "hotkeys": {
    "equation": "Ctrl-E",
    "itemize": "Ctrl-I"
   },
   "labels_anchors": false,
   "latex_user_defs": false,
   "report_style_numbering": false,
   "user_envs_cfg": false
  },
  "toc": {
   "base_numbering": 1,
   "nav_menu": {},
   "number_sections": true,
   "sideBar": true,
   "skip_h1_title": false,
   "title_cell": "Table of Contents",
   "title_sidebar": "Contents",
   "toc_cell": false,
   "toc_position": {
    "height": "calc(100% - 180px)",
    "left": "10px",
    "top": "150px",
    "width": "307.2px"
   },
   "toc_section_display": true,
   "toc_window_display": true
  }
 },
 "nbformat": 4,
 "nbformat_minor": 5
}
