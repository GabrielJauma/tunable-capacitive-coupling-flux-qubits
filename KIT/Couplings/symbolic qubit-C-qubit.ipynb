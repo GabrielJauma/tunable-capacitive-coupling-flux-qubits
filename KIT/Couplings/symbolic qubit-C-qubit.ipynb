{
 "cells": [
  {
   "cell_type": "code",
   "execution_count": 2,
   "metadata": {
    "collapsed": true,
    "ExecuteTime": {
     "end_time": "2024-02-06T11:25:32.239185698Z",
     "start_time": "2024-02-06T11:25:31.839333733Z"
    }
   },
   "outputs": [],
   "source": [
    "import sympy as sym\n",
    "import numpy as np\n",
    "import matplotlib.pyplot as plt"
   ]
  },
  {
   "cell_type": "code",
   "execution_count": 3,
   "outputs": [],
   "source": [
    "C_R, C_F, C_C = sym.symbols('C_R, C_F, C_C', real=True, positive=True, nonzero=True)"
   ],
   "metadata": {
    "collapsed": false,
    "ExecuteTime": {
     "end_time": "2024-02-06T11:25:32.246250703Z",
     "start_time": "2024-02-06T11:25:32.239842861Z"
    }
   }
  },
  {
   "cell_type": "code",
   "execution_count": 4,
   "outputs": [],
   "source": [
    "C = sym.Matrix([[C_R+C_C, 0      , -C_C/4 , -C_C/4 ],\n",
    "                [0      , C_F+C_C, -C_C/4 , -C_C/4 ],\n",
    "                [-C_C/4 , -C_C/4 , C_R+C_C, 0      ],\n",
    "                [-C_C/4 , -C_C/4 , 0      , C_F+C_C] ])"
   ],
   "metadata": {
    "collapsed": false,
    "ExecuteTime": {
     "end_time": "2024-02-01T15:01:57.435343455Z",
     "start_time": "2024-02-01T15:01:57.434848503Z"
    }
   }
  },
  {
   "cell_type": "code",
   "execution_count": 5,
   "outputs": [],
   "source": [
    "C_inv = C**-1"
   ],
   "metadata": {
    "collapsed": false,
    "ExecuteTime": {
     "end_time": "2024-02-01T15:02:00.982617895Z",
     "start_time": "2024-02-01T15:01:57.535499679Z"
    }
   }
  },
  {
   "cell_type": "code",
   "outputs": [
    {
     "data": {
      "text/plain": "Matrix([\n[(14*C_C**3 + 31*C_C**2*C_F + 15*C_C**2*C_R + 16*C_C*C_F**2 + 32*C_C*C_F*C_R + 16*C_F**2*C_R)/(12*C_C**4 + 28*C_C**3*C_F + 28*C_C**3*C_R + 15*C_C**2*C_F**2 + 62*C_C**2*C_F*C_R + 15*C_C**2*C_R**2 + 32*C_C*C_F**2*C_R + 32*C_C*C_F*C_R**2 + 16*C_F**2*C_R**2),                                                                   C_C**2*(2*C_C + C_F + C_R)/(12*C_C**4 + 28*C_C**3*C_F + 28*C_C**3*C_R + 15*C_C**2*C_F**2 + 62*C_C**2*C_F*C_R + 15*C_C**2*C_R**2 + 32*C_C*C_F**2*C_R + 32*C_C*C_F*C_R**2 + 16*C_F**2*C_R**2),                                                          4*C_C*(C_C**2 + 2*C_C*C_F + C_F**2)/(12*C_C**4 + 28*C_C**3*C_F + 28*C_C**3*C_R + 15*C_C**2*C_F**2 + 62*C_C**2*C_F*C_R + 15*C_C**2*C_R**2 + 32*C_C*C_F**2*C_R + 32*C_C*C_F*C_R**2 + 16*C_F**2*C_R**2),                                                 4*C_C*(C_C**2 + C_C*C_F + C_C*C_R + C_F*C_R)/(12*C_C**4 + 28*C_C**3*C_F + 28*C_C**3*C_R + 15*C_C**2*C_F**2 + 62*C_C**2*C_F*C_R + 15*C_C**2*C_R**2 + 32*C_C*C_F**2*C_R + 32*C_C*C_F*C_R**2 + 16*C_F**2*C_R**2)],\n[                                                                  C_C**2*(2*C_C + C_F + C_R)/(12*C_C**4 + 28*C_C**3*C_F + 28*C_C**3*C_R + 15*C_C**2*C_F**2 + 62*C_C**2*C_F*C_R + 15*C_C**2*C_R**2 + 32*C_C*C_F**2*C_R + 32*C_C*C_F*C_R**2 + 16*C_F**2*C_R**2), (14*C_C**3 + 15*C_C**2*C_F + 31*C_C**2*C_R + 32*C_C*C_F*C_R + 16*C_C*C_R**2 + 16*C_F*C_R**2)/(12*C_C**4 + 28*C_C**3*C_F + 28*C_C**3*C_R + 15*C_C**2*C_F**2 + 62*C_C**2*C_F*C_R + 15*C_C**2*C_R**2 + 32*C_C*C_F**2*C_R + 32*C_C*C_F*C_R**2 + 16*C_F**2*C_R**2),                                                 4*C_C*(C_C**2 + C_C*C_F + C_C*C_R + C_F*C_R)/(12*C_C**4 + 28*C_C**3*C_F + 28*C_C**3*C_R + 15*C_C**2*C_F**2 + 62*C_C**2*C_F*C_R + 15*C_C**2*C_R**2 + 32*C_C*C_F**2*C_R + 32*C_C*C_F*C_R**2 + 16*C_F**2*C_R**2),                                                          4*C_C*(C_C**2 + 2*C_C*C_R + C_R**2)/(12*C_C**4 + 28*C_C**3*C_F + 28*C_C**3*C_R + 15*C_C**2*C_F**2 + 62*C_C**2*C_F*C_R + 15*C_C**2*C_R**2 + 32*C_C*C_F**2*C_R + 32*C_C*C_F*C_R**2 + 16*C_F**2*C_R**2)],\n[                                                         4*C_C*(C_C**2 + 2*C_C*C_F + C_F**2)/(12*C_C**4 + 28*C_C**3*C_F + 28*C_C**3*C_R + 15*C_C**2*C_F**2 + 62*C_C**2*C_F*C_R + 15*C_C**2*C_R**2 + 32*C_C*C_F**2*C_R + 32*C_C*C_F*C_R**2 + 16*C_F**2*C_R**2),                                                 4*C_C*(C_C**2 + C_C*C_F + C_C*C_R + C_F*C_R)/(12*C_C**4 + 28*C_C**3*C_F + 28*C_C**3*C_R + 15*C_C**2*C_F**2 + 62*C_C**2*C_F*C_R + 15*C_C**2*C_R**2 + 32*C_C*C_F**2*C_R + 32*C_C*C_F*C_R**2 + 16*C_F**2*C_R**2), (14*C_C**3 + 31*C_C**2*C_F + 15*C_C**2*C_R + 16*C_C*C_F**2 + 32*C_C*C_F*C_R + 16*C_F**2*C_R)/(12*C_C**4 + 28*C_C**3*C_F + 28*C_C**3*C_R + 15*C_C**2*C_F**2 + 62*C_C**2*C_F*C_R + 15*C_C**2*C_R**2 + 32*C_C*C_F**2*C_R + 32*C_C*C_F*C_R**2 + 16*C_F**2*C_R**2),                                                                   C_C**2*(2*C_C + C_F + C_R)/(12*C_C**4 + 28*C_C**3*C_F + 28*C_C**3*C_R + 15*C_C**2*C_F**2 + 62*C_C**2*C_F*C_R + 15*C_C**2*C_R**2 + 32*C_C*C_F**2*C_R + 32*C_C*C_F*C_R**2 + 16*C_F**2*C_R**2)],\n[                                                4*C_C*(C_C**2 + C_C*C_F + C_C*C_R + C_F*C_R)/(12*C_C**4 + 28*C_C**3*C_F + 28*C_C**3*C_R + 15*C_C**2*C_F**2 + 62*C_C**2*C_F*C_R + 15*C_C**2*C_R**2 + 32*C_C*C_F**2*C_R + 32*C_C*C_F*C_R**2 + 16*C_F**2*C_R**2),                                                          4*C_C*(C_C**2 + 2*C_C*C_R + C_R**2)/(12*C_C**4 + 28*C_C**3*C_F + 28*C_C**3*C_R + 15*C_C**2*C_F**2 + 62*C_C**2*C_F*C_R + 15*C_C**2*C_R**2 + 32*C_C*C_F**2*C_R + 32*C_C*C_F*C_R**2 + 16*C_F**2*C_R**2),                                                                   C_C**2*(2*C_C + C_F + C_R)/(12*C_C**4 + 28*C_C**3*C_F + 28*C_C**3*C_R + 15*C_C**2*C_F**2 + 62*C_C**2*C_F*C_R + 15*C_C**2*C_R**2 + 32*C_C*C_F**2*C_R + 32*C_C*C_F*C_R**2 + 16*C_F**2*C_R**2), (14*C_C**3 + 15*C_C**2*C_F + 31*C_C**2*C_R + 32*C_C*C_F*C_R + 16*C_C*C_R**2 + 16*C_F*C_R**2)/(12*C_C**4 + 28*C_C**3*C_F + 28*C_C**3*C_R + 15*C_C**2*C_F**2 + 62*C_C**2*C_F*C_R + 15*C_C**2*C_R**2 + 32*C_C*C_F**2*C_R + 32*C_C*C_F*C_R**2 + 16*C_F**2*C_R**2)]])",
      "text/latex": "$\\displaystyle \\left[\\begin{matrix}\\frac{14 C_{C}^{3} + 31 C_{C}^{2} C_{F} + 15 C_{C}^{2} C_{R} + 16 C_{C} C_{F}^{2} + 32 C_{C} C_{F} C_{R} + 16 C_{F}^{2} C_{R}}{12 C_{C}^{4} + 28 C_{C}^{3} C_{F} + 28 C_{C}^{3} C_{R} + 15 C_{C}^{2} C_{F}^{2} + 62 C_{C}^{2} C_{F} C_{R} + 15 C_{C}^{2} C_{R}^{2} + 32 C_{C} C_{F}^{2} C_{R} + 32 C_{C} C_{F} C_{R}^{2} + 16 C_{F}^{2} C_{R}^{2}} & \\frac{C_{C}^{2} \\cdot \\left(2 C_{C} + C_{F} + C_{R}\\right)}{12 C_{C}^{4} + 28 C_{C}^{3} C_{F} + 28 C_{C}^{3} C_{R} + 15 C_{C}^{2} C_{F}^{2} + 62 C_{C}^{2} C_{F} C_{R} + 15 C_{C}^{2} C_{R}^{2} + 32 C_{C} C_{F}^{2} C_{R} + 32 C_{C} C_{F} C_{R}^{2} + 16 C_{F}^{2} C_{R}^{2}} & \\frac{4 C_{C} \\left(C_{C}^{2} + 2 C_{C} C_{F} + C_{F}^{2}\\right)}{12 C_{C}^{4} + 28 C_{C}^{3} C_{F} + 28 C_{C}^{3} C_{R} + 15 C_{C}^{2} C_{F}^{2} + 62 C_{C}^{2} C_{F} C_{R} + 15 C_{C}^{2} C_{R}^{2} + 32 C_{C} C_{F}^{2} C_{R} + 32 C_{C} C_{F} C_{R}^{2} + 16 C_{F}^{2} C_{R}^{2}} & \\frac{4 C_{C} \\left(C_{C}^{2} + C_{C} C_{F} + C_{C} C_{R} + C_{F} C_{R}\\right)}{12 C_{C}^{4} + 28 C_{C}^{3} C_{F} + 28 C_{C}^{3} C_{R} + 15 C_{C}^{2} C_{F}^{2} + 62 C_{C}^{2} C_{F} C_{R} + 15 C_{C}^{2} C_{R}^{2} + 32 C_{C} C_{F}^{2} C_{R} + 32 C_{C} C_{F} C_{R}^{2} + 16 C_{F}^{2} C_{R}^{2}}\\\\\\frac{C_{C}^{2} \\cdot \\left(2 C_{C} + C_{F} + C_{R}\\right)}{12 C_{C}^{4} + 28 C_{C}^{3} C_{F} + 28 C_{C}^{3} C_{R} + 15 C_{C}^{2} C_{F}^{2} + 62 C_{C}^{2} C_{F} C_{R} + 15 C_{C}^{2} C_{R}^{2} + 32 C_{C} C_{F}^{2} C_{R} + 32 C_{C} C_{F} C_{R}^{2} + 16 C_{F}^{2} C_{R}^{2}} & \\frac{14 C_{C}^{3} + 15 C_{C}^{2} C_{F} + 31 C_{C}^{2} C_{R} + 32 C_{C} C_{F} C_{R} + 16 C_{C} C_{R}^{2} + 16 C_{F} C_{R}^{2}}{12 C_{C}^{4} + 28 C_{C}^{3} C_{F} + 28 C_{C}^{3} C_{R} + 15 C_{C}^{2} C_{F}^{2} + 62 C_{C}^{2} C_{F} C_{R} + 15 C_{C}^{2} C_{R}^{2} + 32 C_{C} C_{F}^{2} C_{R} + 32 C_{C} C_{F} C_{R}^{2} + 16 C_{F}^{2} C_{R}^{2}} & \\frac{4 C_{C} \\left(C_{C}^{2} + C_{C} C_{F} + C_{C} C_{R} + C_{F} C_{R}\\right)}{12 C_{C}^{4} + 28 C_{C}^{3} C_{F} + 28 C_{C}^{3} C_{R} + 15 C_{C}^{2} C_{F}^{2} + 62 C_{C}^{2} C_{F} C_{R} + 15 C_{C}^{2} C_{R}^{2} + 32 C_{C} C_{F}^{2} C_{R} + 32 C_{C} C_{F} C_{R}^{2} + 16 C_{F}^{2} C_{R}^{2}} & \\frac{4 C_{C} \\left(C_{C}^{2} + 2 C_{C} C_{R} + C_{R}^{2}\\right)}{12 C_{C}^{4} + 28 C_{C}^{3} C_{F} + 28 C_{C}^{3} C_{R} + 15 C_{C}^{2} C_{F}^{2} + 62 C_{C}^{2} C_{F} C_{R} + 15 C_{C}^{2} C_{R}^{2} + 32 C_{C} C_{F}^{2} C_{R} + 32 C_{C} C_{F} C_{R}^{2} + 16 C_{F}^{2} C_{R}^{2}}\\\\\\frac{4 C_{C} \\left(C_{C}^{2} + 2 C_{C} C_{F} + C_{F}^{2}\\right)}{12 C_{C}^{4} + 28 C_{C}^{3} C_{F} + 28 C_{C}^{3} C_{R} + 15 C_{C}^{2} C_{F}^{2} + 62 C_{C}^{2} C_{F} C_{R} + 15 C_{C}^{2} C_{R}^{2} + 32 C_{C} C_{F}^{2} C_{R} + 32 C_{C} C_{F} C_{R}^{2} + 16 C_{F}^{2} C_{R}^{2}} & \\frac{4 C_{C} \\left(C_{C}^{2} + C_{C} C_{F} + C_{C} C_{R} + C_{F} C_{R}\\right)}{12 C_{C}^{4} + 28 C_{C}^{3} C_{F} + 28 C_{C}^{3} C_{R} + 15 C_{C}^{2} C_{F}^{2} + 62 C_{C}^{2} C_{F} C_{R} + 15 C_{C}^{2} C_{R}^{2} + 32 C_{C} C_{F}^{2} C_{R} + 32 C_{C} C_{F} C_{R}^{2} + 16 C_{F}^{2} C_{R}^{2}} & \\frac{14 C_{C}^{3} + 31 C_{C}^{2} C_{F} + 15 C_{C}^{2} C_{R} + 16 C_{C} C_{F}^{2} + 32 C_{C} C_{F} C_{R} + 16 C_{F}^{2} C_{R}}{12 C_{C}^{4} + 28 C_{C}^{3} C_{F} + 28 C_{C}^{3} C_{R} + 15 C_{C}^{2} C_{F}^{2} + 62 C_{C}^{2} C_{F} C_{R} + 15 C_{C}^{2} C_{R}^{2} + 32 C_{C} C_{F}^{2} C_{R} + 32 C_{C} C_{F} C_{R}^{2} + 16 C_{F}^{2} C_{R}^{2}} & \\frac{C_{C}^{2} \\cdot \\left(2 C_{C} + C_{F} + C_{R}\\right)}{12 C_{C}^{4} + 28 C_{C}^{3} C_{F} + 28 C_{C}^{3} C_{R} + 15 C_{C}^{2} C_{F}^{2} + 62 C_{C}^{2} C_{F} C_{R} + 15 C_{C}^{2} C_{R}^{2} + 32 C_{C} C_{F}^{2} C_{R} + 32 C_{C} C_{F} C_{R}^{2} + 16 C_{F}^{2} C_{R}^{2}}\\\\\\frac{4 C_{C} \\left(C_{C}^{2} + C_{C} C_{F} + C_{C} C_{R} + C_{F} C_{R}\\right)}{12 C_{C}^{4} + 28 C_{C}^{3} C_{F} + 28 C_{C}^{3} C_{R} + 15 C_{C}^{2} C_{F}^{2} + 62 C_{C}^{2} C_{F} C_{R} + 15 C_{C}^{2} C_{R}^{2} + 32 C_{C} C_{F}^{2} C_{R} + 32 C_{C} C_{F} C_{R}^{2} + 16 C_{F}^{2} C_{R}^{2}} & \\frac{4 C_{C} \\left(C_{C}^{2} + 2 C_{C} C_{R} + C_{R}^{2}\\right)}{12 C_{C}^{4} + 28 C_{C}^{3} C_{F} + 28 C_{C}^{3} C_{R} + 15 C_{C}^{2} C_{F}^{2} + 62 C_{C}^{2} C_{F} C_{R} + 15 C_{C}^{2} C_{R}^{2} + 32 C_{C} C_{F}^{2} C_{R} + 32 C_{C} C_{F} C_{R}^{2} + 16 C_{F}^{2} C_{R}^{2}} & \\frac{C_{C}^{2} \\cdot \\left(2 C_{C} + C_{F} + C_{R}\\right)}{12 C_{C}^{4} + 28 C_{C}^{3} C_{F} + 28 C_{C}^{3} C_{R} + 15 C_{C}^{2} C_{F}^{2} + 62 C_{C}^{2} C_{F} C_{R} + 15 C_{C}^{2} C_{R}^{2} + 32 C_{C} C_{F}^{2} C_{R} + 32 C_{C} C_{F} C_{R}^{2} + 16 C_{F}^{2} C_{R}^{2}} & \\frac{14 C_{C}^{3} + 15 C_{C}^{2} C_{F} + 31 C_{C}^{2} C_{R} + 32 C_{C} C_{F} C_{R} + 16 C_{C} C_{R}^{2} + 16 C_{F} C_{R}^{2}}{12 C_{C}^{4} + 28 C_{C}^{3} C_{F} + 28 C_{C}^{3} C_{R} + 15 C_{C}^{2} C_{F}^{2} + 62 C_{C}^{2} C_{F} C_{R} + 15 C_{C}^{2} C_{R}^{2} + 32 C_{C} C_{F}^{2} C_{R} + 32 C_{C} C_{F} C_{R}^{2} + 16 C_{F}^{2} C_{R}^{2}}\\end{matrix}\\right]$"
     },
     "execution_count": 6,
     "metadata": {},
     "output_type": "execute_result"
    }
   ],
   "source": [
    "sym.simplify(C_inv)"
   ],
   "metadata": {
    "collapsed": false,
    "ExecuteTime": {
     "end_time": "2024-02-01T15:02:01.594605542Z",
     "start_time": "2024-02-01T15:02:01.015872212Z"
    }
   },
   "execution_count": 6
  },
  {
   "cell_type": "code",
   "outputs": [
    {
     "data": {
      "text/plain": "Matrix([\n[(14*C_C**3 + 31*C_C**2*C_F + 15*C_C**2*C_R + 16*C_C*C_F**2 + 32*C_C*C_F*C_R + 16*C_F**2*C_R)/(12*C_C**4 + 28*C_C**3*C_F + 28*C_C**3*C_R + 15*C_C**2*C_F**2 + 62*C_C**2*C_F*C_R + 15*C_C**2*C_R**2 + 32*C_C*C_F**2*C_R + 32*C_C*C_F*C_R**2 + 16*C_F**2*C_R**2),                                                                   C_C**2*(2*C_C + C_F + C_R)/(12*C_C**4 + 28*C_C**3*C_F + 28*C_C**3*C_R + 15*C_C**2*C_F**2 + 62*C_C**2*C_F*C_R + 15*C_C**2*C_R**2 + 32*C_C*C_F**2*C_R + 32*C_C*C_F*C_R**2 + 16*C_F**2*C_R**2),                                                          4*C_C*(C_C**2 + 2*C_C*C_F + C_F**2)/(12*C_C**4 + 28*C_C**3*C_F + 28*C_C**3*C_R + 15*C_C**2*C_F**2 + 62*C_C**2*C_F*C_R + 15*C_C**2*C_R**2 + 32*C_C*C_F**2*C_R + 32*C_C*C_F*C_R**2 + 16*C_F**2*C_R**2),                                                 4*C_C*(C_C**2 + C_C*C_F + C_C*C_R + C_F*C_R)/(12*C_C**4 + 28*C_C**3*C_F + 28*C_C**3*C_R + 15*C_C**2*C_F**2 + 62*C_C**2*C_F*C_R + 15*C_C**2*C_R**2 + 32*C_C*C_F**2*C_R + 32*C_C*C_F*C_R**2 + 16*C_F**2*C_R**2)],\n[                                                                  C_C**2*(2*C_C + C_F + C_R)/(12*C_C**4 + 28*C_C**3*C_F + 28*C_C**3*C_R + 15*C_C**2*C_F**2 + 62*C_C**2*C_F*C_R + 15*C_C**2*C_R**2 + 32*C_C*C_F**2*C_R + 32*C_C*C_F*C_R**2 + 16*C_F**2*C_R**2), (14*C_C**3 + 15*C_C**2*C_F + 31*C_C**2*C_R + 32*C_C*C_F*C_R + 16*C_C*C_R**2 + 16*C_F*C_R**2)/(12*C_C**4 + 28*C_C**3*C_F + 28*C_C**3*C_R + 15*C_C**2*C_F**2 + 62*C_C**2*C_F*C_R + 15*C_C**2*C_R**2 + 32*C_C*C_F**2*C_R + 32*C_C*C_F*C_R**2 + 16*C_F**2*C_R**2),                                                 4*C_C*(C_C**2 + C_C*C_F + C_C*C_R + C_F*C_R)/(12*C_C**4 + 28*C_C**3*C_F + 28*C_C**3*C_R + 15*C_C**2*C_F**2 + 62*C_C**2*C_F*C_R + 15*C_C**2*C_R**2 + 32*C_C*C_F**2*C_R + 32*C_C*C_F*C_R**2 + 16*C_F**2*C_R**2),                                                          4*C_C*(C_C**2 + 2*C_C*C_R + C_R**2)/(12*C_C**4 + 28*C_C**3*C_F + 28*C_C**3*C_R + 15*C_C**2*C_F**2 + 62*C_C**2*C_F*C_R + 15*C_C**2*C_R**2 + 32*C_C*C_F**2*C_R + 32*C_C*C_F*C_R**2 + 16*C_F**2*C_R**2)],\n[                                                         4*C_C*(C_C**2 + 2*C_C*C_F + C_F**2)/(12*C_C**4 + 28*C_C**3*C_F + 28*C_C**3*C_R + 15*C_C**2*C_F**2 + 62*C_C**2*C_F*C_R + 15*C_C**2*C_R**2 + 32*C_C*C_F**2*C_R + 32*C_C*C_F*C_R**2 + 16*C_F**2*C_R**2),                                                 4*C_C*(C_C**2 + C_C*C_F + C_C*C_R + C_F*C_R)/(12*C_C**4 + 28*C_C**3*C_F + 28*C_C**3*C_R + 15*C_C**2*C_F**2 + 62*C_C**2*C_F*C_R + 15*C_C**2*C_R**2 + 32*C_C*C_F**2*C_R + 32*C_C*C_F*C_R**2 + 16*C_F**2*C_R**2), (14*C_C**3 + 31*C_C**2*C_F + 15*C_C**2*C_R + 16*C_C*C_F**2 + 32*C_C*C_F*C_R + 16*C_F**2*C_R)/(12*C_C**4 + 28*C_C**3*C_F + 28*C_C**3*C_R + 15*C_C**2*C_F**2 + 62*C_C**2*C_F*C_R + 15*C_C**2*C_R**2 + 32*C_C*C_F**2*C_R + 32*C_C*C_F*C_R**2 + 16*C_F**2*C_R**2),                                                                   C_C**2*(2*C_C + C_F + C_R)/(12*C_C**4 + 28*C_C**3*C_F + 28*C_C**3*C_R + 15*C_C**2*C_F**2 + 62*C_C**2*C_F*C_R + 15*C_C**2*C_R**2 + 32*C_C*C_F**2*C_R + 32*C_C*C_F*C_R**2 + 16*C_F**2*C_R**2)],\n[                                                4*C_C*(C_C**2 + C_C*C_F + C_C*C_R + C_F*C_R)/(12*C_C**4 + 28*C_C**3*C_F + 28*C_C**3*C_R + 15*C_C**2*C_F**2 + 62*C_C**2*C_F*C_R + 15*C_C**2*C_R**2 + 32*C_C*C_F**2*C_R + 32*C_C*C_F*C_R**2 + 16*C_F**2*C_R**2),                                                          4*C_C*(C_C**2 + 2*C_C*C_R + C_R**2)/(12*C_C**4 + 28*C_C**3*C_F + 28*C_C**3*C_R + 15*C_C**2*C_F**2 + 62*C_C**2*C_F*C_R + 15*C_C**2*C_R**2 + 32*C_C*C_F**2*C_R + 32*C_C*C_F*C_R**2 + 16*C_F**2*C_R**2),                                                                   C_C**2*(2*C_C + C_F + C_R)/(12*C_C**4 + 28*C_C**3*C_F + 28*C_C**3*C_R + 15*C_C**2*C_F**2 + 62*C_C**2*C_F*C_R + 15*C_C**2*C_R**2 + 32*C_C*C_F**2*C_R + 32*C_C*C_F*C_R**2 + 16*C_F**2*C_R**2), (14*C_C**3 + 15*C_C**2*C_F + 31*C_C**2*C_R + 32*C_C*C_F*C_R + 16*C_C*C_R**2 + 16*C_F*C_R**2)/(12*C_C**4 + 28*C_C**3*C_F + 28*C_C**3*C_R + 15*C_C**2*C_F**2 + 62*C_C**2*C_F*C_R + 15*C_C**2*C_R**2 + 32*C_C*C_F**2*C_R + 32*C_C*C_F*C_R**2 + 16*C_F**2*C_R**2)]])",
      "text/latex": "$\\displaystyle \\left[\\begin{matrix}\\frac{14 C_{C}^{3} + 31 C_{C}^{2} C_{F} + 15 C_{C}^{2} C_{R} + 16 C_{C} C_{F}^{2} + 32 C_{C} C_{F} C_{R} + 16 C_{F}^{2} C_{R}}{12 C_{C}^{4} + 28 C_{C}^{3} C_{F} + 28 C_{C}^{3} C_{R} + 15 C_{C}^{2} C_{F}^{2} + 62 C_{C}^{2} C_{F} C_{R} + 15 C_{C}^{2} C_{R}^{2} + 32 C_{C} C_{F}^{2} C_{R} + 32 C_{C} C_{F} C_{R}^{2} + 16 C_{F}^{2} C_{R}^{2}} & \\frac{C_{C}^{2} \\cdot \\left(2 C_{C} + C_{F} + C_{R}\\right)}{12 C_{C}^{4} + 28 C_{C}^{3} C_{F} + 28 C_{C}^{3} C_{R} + 15 C_{C}^{2} C_{F}^{2} + 62 C_{C}^{2} C_{F} C_{R} + 15 C_{C}^{2} C_{R}^{2} + 32 C_{C} C_{F}^{2} C_{R} + 32 C_{C} C_{F} C_{R}^{2} + 16 C_{F}^{2} C_{R}^{2}} & \\frac{4 C_{C} \\left(C_{C}^{2} + 2 C_{C} C_{F} + C_{F}^{2}\\right)}{12 C_{C}^{4} + 28 C_{C}^{3} C_{F} + 28 C_{C}^{3} C_{R} + 15 C_{C}^{2} C_{F}^{2} + 62 C_{C}^{2} C_{F} C_{R} + 15 C_{C}^{2} C_{R}^{2} + 32 C_{C} C_{F}^{2} C_{R} + 32 C_{C} C_{F} C_{R}^{2} + 16 C_{F}^{2} C_{R}^{2}} & \\frac{4 C_{C} \\left(C_{C}^{2} + C_{C} C_{F} + C_{C} C_{R} + C_{F} C_{R}\\right)}{12 C_{C}^{4} + 28 C_{C}^{3} C_{F} + 28 C_{C}^{3} C_{R} + 15 C_{C}^{2} C_{F}^{2} + 62 C_{C}^{2} C_{F} C_{R} + 15 C_{C}^{2} C_{R}^{2} + 32 C_{C} C_{F}^{2} C_{R} + 32 C_{C} C_{F} C_{R}^{2} + 16 C_{F}^{2} C_{R}^{2}}\\\\\\frac{C_{C}^{2} \\cdot \\left(2 C_{C} + C_{F} + C_{R}\\right)}{12 C_{C}^{4} + 28 C_{C}^{3} C_{F} + 28 C_{C}^{3} C_{R} + 15 C_{C}^{2} C_{F}^{2} + 62 C_{C}^{2} C_{F} C_{R} + 15 C_{C}^{2} C_{R}^{2} + 32 C_{C} C_{F}^{2} C_{R} + 32 C_{C} C_{F} C_{R}^{2} + 16 C_{F}^{2} C_{R}^{2}} & \\frac{14 C_{C}^{3} + 15 C_{C}^{2} C_{F} + 31 C_{C}^{2} C_{R} + 32 C_{C} C_{F} C_{R} + 16 C_{C} C_{R}^{2} + 16 C_{F} C_{R}^{2}}{12 C_{C}^{4} + 28 C_{C}^{3} C_{F} + 28 C_{C}^{3} C_{R} + 15 C_{C}^{2} C_{F}^{2} + 62 C_{C}^{2} C_{F} C_{R} + 15 C_{C}^{2} C_{R}^{2} + 32 C_{C} C_{F}^{2} C_{R} + 32 C_{C} C_{F} C_{R}^{2} + 16 C_{F}^{2} C_{R}^{2}} & \\frac{4 C_{C} \\left(C_{C}^{2} + C_{C} C_{F} + C_{C} C_{R} + C_{F} C_{R}\\right)}{12 C_{C}^{4} + 28 C_{C}^{3} C_{F} + 28 C_{C}^{3} C_{R} + 15 C_{C}^{2} C_{F}^{2} + 62 C_{C}^{2} C_{F} C_{R} + 15 C_{C}^{2} C_{R}^{2} + 32 C_{C} C_{F}^{2} C_{R} + 32 C_{C} C_{F} C_{R}^{2} + 16 C_{F}^{2} C_{R}^{2}} & \\frac{4 C_{C} \\left(C_{C}^{2} + 2 C_{C} C_{R} + C_{R}^{2}\\right)}{12 C_{C}^{4} + 28 C_{C}^{3} C_{F} + 28 C_{C}^{3} C_{R} + 15 C_{C}^{2} C_{F}^{2} + 62 C_{C}^{2} C_{F} C_{R} + 15 C_{C}^{2} C_{R}^{2} + 32 C_{C} C_{F}^{2} C_{R} + 32 C_{C} C_{F} C_{R}^{2} + 16 C_{F}^{2} C_{R}^{2}}\\\\\\frac{4 C_{C} \\left(C_{C}^{2} + 2 C_{C} C_{F} + C_{F}^{2}\\right)}{12 C_{C}^{4} + 28 C_{C}^{3} C_{F} + 28 C_{C}^{3} C_{R} + 15 C_{C}^{2} C_{F}^{2} + 62 C_{C}^{2} C_{F} C_{R} + 15 C_{C}^{2} C_{R}^{2} + 32 C_{C} C_{F}^{2} C_{R} + 32 C_{C} C_{F} C_{R}^{2} + 16 C_{F}^{2} C_{R}^{2}} & \\frac{4 C_{C} \\left(C_{C}^{2} + C_{C} C_{F} + C_{C} C_{R} + C_{F} C_{R}\\right)}{12 C_{C}^{4} + 28 C_{C}^{3} C_{F} + 28 C_{C}^{3} C_{R} + 15 C_{C}^{2} C_{F}^{2} + 62 C_{C}^{2} C_{F} C_{R} + 15 C_{C}^{2} C_{R}^{2} + 32 C_{C} C_{F}^{2} C_{R} + 32 C_{C} C_{F} C_{R}^{2} + 16 C_{F}^{2} C_{R}^{2}} & \\frac{14 C_{C}^{3} + 31 C_{C}^{2} C_{F} + 15 C_{C}^{2} C_{R} + 16 C_{C} C_{F}^{2} + 32 C_{C} C_{F} C_{R} + 16 C_{F}^{2} C_{R}}{12 C_{C}^{4} + 28 C_{C}^{3} C_{F} + 28 C_{C}^{3} C_{R} + 15 C_{C}^{2} C_{F}^{2} + 62 C_{C}^{2} C_{F} C_{R} + 15 C_{C}^{2} C_{R}^{2} + 32 C_{C} C_{F}^{2} C_{R} + 32 C_{C} C_{F} C_{R}^{2} + 16 C_{F}^{2} C_{R}^{2}} & \\frac{C_{C}^{2} \\cdot \\left(2 C_{C} + C_{F} + C_{R}\\right)}{12 C_{C}^{4} + 28 C_{C}^{3} C_{F} + 28 C_{C}^{3} C_{R} + 15 C_{C}^{2} C_{F}^{2} + 62 C_{C}^{2} C_{F} C_{R} + 15 C_{C}^{2} C_{R}^{2} + 32 C_{C} C_{F}^{2} C_{R} + 32 C_{C} C_{F} C_{R}^{2} + 16 C_{F}^{2} C_{R}^{2}}\\\\\\frac{4 C_{C} \\left(C_{C}^{2} + C_{C} C_{F} + C_{C} C_{R} + C_{F} C_{R}\\right)}{12 C_{C}^{4} + 28 C_{C}^{3} C_{F} + 28 C_{C}^{3} C_{R} + 15 C_{C}^{2} C_{F}^{2} + 62 C_{C}^{2} C_{F} C_{R} + 15 C_{C}^{2} C_{R}^{2} + 32 C_{C} C_{F}^{2} C_{R} + 32 C_{C} C_{F} C_{R}^{2} + 16 C_{F}^{2} C_{R}^{2}} & \\frac{4 C_{C} \\left(C_{C}^{2} + 2 C_{C} C_{R} + C_{R}^{2}\\right)}{12 C_{C}^{4} + 28 C_{C}^{3} C_{F} + 28 C_{C}^{3} C_{R} + 15 C_{C}^{2} C_{F}^{2} + 62 C_{C}^{2} C_{F} C_{R} + 15 C_{C}^{2} C_{R}^{2} + 32 C_{C} C_{F}^{2} C_{R} + 32 C_{C} C_{F} C_{R}^{2} + 16 C_{F}^{2} C_{R}^{2}} & \\frac{C_{C}^{2} \\cdot \\left(2 C_{C} + C_{F} + C_{R}\\right)}{12 C_{C}^{4} + 28 C_{C}^{3} C_{F} + 28 C_{C}^{3} C_{R} + 15 C_{C}^{2} C_{F}^{2} + 62 C_{C}^{2} C_{F} C_{R} + 15 C_{C}^{2} C_{R}^{2} + 32 C_{C} C_{F}^{2} C_{R} + 32 C_{C} C_{F} C_{R}^{2} + 16 C_{F}^{2} C_{R}^{2}} & \\frac{14 C_{C}^{3} + 15 C_{C}^{2} C_{F} + 31 C_{C}^{2} C_{R} + 32 C_{C} C_{F} C_{R} + 16 C_{C} C_{R}^{2} + 16 C_{F} C_{R}^{2}}{12 C_{C}^{4} + 28 C_{C}^{3} C_{F} + 28 C_{C}^{3} C_{R} + 15 C_{C}^{2} C_{F}^{2} + 62 C_{C}^{2} C_{F} C_{R} + 15 C_{C}^{2} C_{R}^{2} + 32 C_{C} C_{F}^{2} C_{R} + 32 C_{C} C_{F} C_{R}^{2} + 16 C_{F}^{2} C_{R}^{2}}\\end{matrix}\\right]$"
     },
     "execution_count": 7,
     "metadata": {},
     "output_type": "execute_result"
    }
   ],
   "source": [
    "sym.simplify(C_inv )"
   ],
   "metadata": {
    "collapsed": false,
    "ExecuteTime": {
     "end_time": "2024-02-01T15:02:02.055018103Z",
     "start_time": "2024-02-01T15:02:01.591665470Z"
    }
   },
   "execution_count": 7
  },
  {
   "cell_type": "code",
   "outputs": [
    {
     "data": {
      "text/plain": "(14*C_C**3 + 31*C_C**2*C_F + 15*C_C**2*C_R + 16*C_C*C_F**2 + 32*C_C*C_F*C_R + 16*C_F**2*C_R)/((2*C_C**2 + 3*C_C*C_F + 3*C_C*C_R + 4*C_F*C_R)*(6*C_C**2 + 5*C_C*C_F + 5*C_C*C_R + 4*C_F*C_R))",
      "text/latex": "$\\displaystyle \\frac{14 C_{C}^{3} + 31 C_{C}^{2} C_{F} + 15 C_{C}^{2} C_{R} + 16 C_{C} C_{F}^{2} + 32 C_{C} C_{F} C_{R} + 16 C_{F}^{2} C_{R}}{\\left(2 C_{C}^{2} + 3 C_{C} C_{F} + 3 C_{C} C_{R} + 4 C_{F} C_{R}\\right) \\left(6 C_{C}^{2} + 5 C_{C} C_{F} + 5 C_{C} C_{R} + 4 C_{F} C_{R}\\right)}$"
     },
     "execution_count": 8,
     "metadata": {},
     "output_type": "execute_result"
    }
   ],
   "source": [
    "sym.factor(C_inv[0,0])"
   ],
   "metadata": {
    "collapsed": false,
    "ExecuteTime": {
     "end_time": "2024-02-01T15:02:02.105166721Z",
     "start_time": "2024-02-01T15:02:02.062488866Z"
    }
   },
   "execution_count": 8
  },
  {
   "cell_type": "code",
   "outputs": [
    {
     "data": {
      "text/plain": "0",
      "text/latex": "$\\displaystyle 0$"
     },
     "execution_count": 9,
     "metadata": {},
     "output_type": "execute_result"
    }
   ],
   "source": [
    "C_inv[0,0] - C_inv[2,2]"
   ],
   "metadata": {
    "collapsed": false,
    "ExecuteTime": {
     "end_time": "2024-02-01T15:02:02.105656272Z",
     "start_time": "2024-02-01T15:02:02.105006733Z"
    }
   },
   "execution_count": 9
  },
  {
   "cell_type": "code",
   "outputs": [],
   "source": [
    "Csh = 15\n",
    "C   = 15\n",
    "Cg  = 10\n",
    "CJ  = 3\n",
    "Cc  = 10"
   ],
   "metadata": {
    "collapsed": false,
    "ExecuteTime": {
     "end_time": "2024-02-01T15:02:02.105800581Z",
     "start_time": "2024-02-01T15:02:02.105082004Z"
    }
   },
   "execution_count": 10
  },
  {
   "cell_type": "code",
   "outputs": [],
   "source": [
    "a=np.array( C_inv.subs({C_C:Cc, C_R:C/2, C_F:C/2 + Csh + CJ}).evalf() )"
   ],
   "metadata": {
    "collapsed": false,
    "ExecuteTime": {
     "end_time": "2024-02-01T15:02:02.105927687Z",
     "start_time": "2024-02-01T15:02:02.105114554Z"
    }
   },
   "execution_count": 11
  },
  {
   "cell_type": "code",
   "outputs": [
    {
     "data": {
      "text/plain": "array([[1.00000000000000, 0.0152487268751618, 0.145035532410737,\n        0.0714963892165607],\n       [0.0152487268751618, 0.485225997640763, 0.0714963892165607,\n        0.0352446989095722],\n       [0.145035532410737, 0.0714963892165607, 1.00000000000000,\n        0.0152487268751618],\n       [0.0714963892165607, 0.0352446989095722, 0.0152487268751618,\n        0.485225997640763]], dtype=object)"
     },
     "execution_count": 12,
     "metadata": {},
     "output_type": "execute_result"
    }
   ],
   "source": [
    "a/a[0,0]"
   ],
   "metadata": {
    "collapsed": false,
    "ExecuteTime": {
     "end_time": "2024-02-01T15:02:02.106099788Z",
     "start_time": "2024-02-01T15:02:02.105157634Z"
    }
   },
   "execution_count": 12
  },
  {
   "cell_type": "code",
   "outputs": [],
   "source": [
    "C_R = C/2\n",
    "C_C = Cc\n",
    "C_F = C/2 + Csh + CJ\n",
    "C   = np.array([  [C_R + C_C, 0, -C_C / 4, -C_C / 4],\n",
    "                  [0, C_F + C_C, -C_C / 4, -C_C / 4],\n",
    "                  [-C_C / 4, -C_C / 4, C_R + C_C, 0],\n",
    "                  [-C_C / 4, -C_C / 4, 0, C_F + C_C]])"
   ],
   "metadata": {
    "collapsed": false,
    "ExecuteTime": {
     "end_time": "2024-02-01T15:02:02.106334715Z",
     "start_time": "2024-02-01T15:02:02.105192309Z"
    }
   },
   "execution_count": 13
  },
  {
   "cell_type": "code",
   "outputs": [
    {
     "data": {
      "text/plain": "array([[17.5,  0. , -2.5, -2.5],\n       [ 0. , 35.5, -2.5, -2.5],\n       [-2.5, -2.5, 17.5,  0. ],\n       [-2.5, -2.5,  0. , 35.5]])"
     },
     "execution_count": 14,
     "metadata": {},
     "output_type": "execute_result"
    }
   ],
   "source": [
    "C"
   ],
   "metadata": {
    "collapsed": false,
    "ExecuteTime": {
     "end_time": "2024-02-01T15:02:02.106489733Z",
     "start_time": "2024-02-01T15:02:02.105254244Z"
    }
   },
   "execution_count": 14
  },
  {
   "cell_type": "code",
   "outputs": [
    {
     "data": {
      "text/plain": "array([[  16.9586702 , 1112.13679245,  116.92769292,  237.19617706],\n       [1112.13679245,   34.95004447,  237.19617706,  481.16938776],\n       [ 116.92769292,  237.19617706,   16.9586702 , 1112.13679245],\n       [ 237.19617706,  481.16938776, 1112.13679245,   34.95004447]])"
     },
     "execution_count": 20,
     "metadata": {},
     "output_type": "execute_result"
    }
   ],
   "source": [
    "np.linalg.inv(C)**-1"
   ],
   "metadata": {
    "collapsed": false,
    "ExecuteTime": {
     "end_time": "2024-02-01T15:02:36.015045798Z",
     "start_time": "2024-02-01T15:02:35.974401850Z"
    }
   },
   "execution_count": 20
  },
  {
   "cell_type": "code",
   "outputs": [
    {
     "data": {
      "text/plain": "35.5"
     },
     "execution_count": 23,
     "metadata": {},
     "output_type": "execute_result"
    }
   ],
   "source": [
    "C_F + C_C"
   ],
   "metadata": {
    "collapsed": false,
    "ExecuteTime": {
     "end_time": "2024-02-01T15:03:33.628535329Z",
     "start_time": "2024-02-01T15:03:33.586211426Z"
    }
   },
   "execution_count": 23
  },
  {
   "cell_type": "code",
   "outputs": [
    {
     "data": {
      "text/plain": "17.5"
     },
     "execution_count": 24,
     "metadata": {},
     "output_type": "execute_result"
    }
   ],
   "source": [
    "C_R + C_C"
   ],
   "metadata": {
    "collapsed": false,
    "ExecuteTime": {
     "end_time": "2024-02-01T15:03:39.502575147Z",
     "start_time": "2024-02-01T15:03:39.500106533Z"
    }
   },
   "execution_count": 24
  },
  {
   "cell_type": "code",
   "outputs": [
    {
     "data": {
      "text/plain": "Matrix([\n[     1,      0, \\alpha,      0,      0,      0,      0,      0,      0,      0,      0,      0],\n[     0,      1,      0, \\alpha,      0,      0,      0,      0,      0,      0,      0,      0],\n[\\alpha,      0,      1,      0, \\alpha,      0,      0,      0,      0,      0,      0,      0],\n[     0, \\alpha,      0,      1,      0, \\alpha,      0,      0,      0,      0,      0,      0],\n[     0,      0, \\alpha,      0,      1,      0, \\alpha,      0,      0,      0,      0,      0],\n[     0,      0,      0, \\alpha,      0,      1,      0, \\alpha,      0,      0,      0,      0],\n[     0,      0,      0,      0, \\alpha,      0,      1,      0, \\alpha,      0,      0,      0],\n[     0,      0,      0,      0,      0, \\alpha,      0,      1,      0, \\alpha,      0,      0],\n[     0,      0,      0,      0,      0,      0, \\alpha,      0,      1,      0, \\alpha,      0],\n[     0,      0,      0,      0,      0,      0,      0, \\alpha,      0,      1,      0, \\alpha],\n[     0,      0,      0,      0,      0,      0,      0,      0, \\alpha,      0,      1,      0],\n[     0,      0,      0,      0,      0,      0,      0,      0,      0, \\alpha,      0,      1]])",
      "text/latex": "$\\displaystyle \\left[\\begin{array}{cccccccccccc}1 & 0 & \\alpha & 0 & 0 & 0 & 0 & 0 & 0 & 0 & 0 & 0\\\\0 & 1 & 0 & \\alpha & 0 & 0 & 0 & 0 & 0 & 0 & 0 & 0\\\\\\alpha & 0 & 1 & 0 & \\alpha & 0 & 0 & 0 & 0 & 0 & 0 & 0\\\\0 & \\alpha & 0 & 1 & 0 & \\alpha & 0 & 0 & 0 & 0 & 0 & 0\\\\0 & 0 & \\alpha & 0 & 1 & 0 & \\alpha & 0 & 0 & 0 & 0 & 0\\\\0 & 0 & 0 & \\alpha & 0 & 1 & 0 & \\alpha & 0 & 0 & 0 & 0\\\\0 & 0 & 0 & 0 & \\alpha & 0 & 1 & 0 & \\alpha & 0 & 0 & 0\\\\0 & 0 & 0 & 0 & 0 & \\alpha & 0 & 1 & 0 & \\alpha & 0 & 0\\\\0 & 0 & 0 & 0 & 0 & 0 & \\alpha & 0 & 1 & 0 & \\alpha & 0\\\\0 & 0 & 0 & 0 & 0 & 0 & 0 & \\alpha & 0 & 1 & 0 & \\alpha\\\\0 & 0 & 0 & 0 & 0 & 0 & 0 & 0 & \\alpha & 0 & 1 & 0\\\\0 & 0 & 0 & 0 & 0 & 0 & 0 & 0 & 0 & \\alpha & 0 & 1\\end{array}\\right]$"
     },
     "execution_count": 18,
     "metadata": {},
     "output_type": "execute_result"
    }
   ],
   "source": [
    "# Define the symbols\n",
    "alpha = sym.symbols('\\\\alpha', real=True, positive = True, nonzero=True)\n",
    "\n",
    "# Create a 6x6 matrix based on the given pattern\n",
    "C_mat = sym.Matrix(12,12, lambda i, j: 1 if i == j else alpha if abs(i-j) == 2 else 0)\n",
    "\n",
    "C_mat"
   ],
   "metadata": {
    "collapsed": false,
    "ExecuteTime": {
     "end_time": "2024-02-06T11:52:50.388332115Z",
     "start_time": "2024-02-06T11:52:50.344997949Z"
    }
   },
   "execution_count": 18
  },
  {
   "cell_type": "code",
   "outputs": [],
   "source": [
    "C_inv = C_mat **-1"
   ],
   "metadata": {
    "collapsed": false,
    "ExecuteTime": {
     "end_time": "2024-02-06T11:52:55.438222835Z",
     "start_time": "2024-02-06T11:52:55.070386887Z"
    }
   },
   "execution_count": 19
  },
  {
   "cell_type": "code",
   "outputs": [
    {
     "data": {
      "text/plain": "Matrix([\n[    -1/(\\alpha**2 - 1),                      0, \\alpha/(\\alpha**2 - 1),                      0],\n[                     0,     -1/(\\alpha**2 - 1),                      0, \\alpha/(\\alpha**2 - 1)],\n[\\alpha/(\\alpha**2 - 1),                      0,     -1/(\\alpha**2 - 1),                      0],\n[                     0, \\alpha/(\\alpha**2 - 1),                      0,     -1/(\\alpha**2 - 1)]])",
      "text/latex": "$\\displaystyle \\left[\\begin{matrix}- \\frac{1}{\\alpha^{2} - 1} & 0 & \\frac{\\alpha}{\\alpha^{2} - 1} & 0\\\\0 & - \\frac{1}{\\alpha^{2} - 1} & 0 & \\frac{\\alpha}{\\alpha^{2} - 1}\\\\\\frac{\\alpha}{\\alpha^{2} - 1} & 0 & - \\frac{1}{\\alpha^{2} - 1} & 0\\\\0 & \\frac{\\alpha}{\\alpha^{2} - 1} & 0 & - \\frac{1}{\\alpha^{2} - 1}\\end{matrix}\\right]$"
     },
     "execution_count": 13,
     "metadata": {},
     "output_type": "execute_result"
    }
   ],
   "source": [
    "sym.simplify(C_inv)"
   ],
   "metadata": {
    "collapsed": false,
    "ExecuteTime": {
     "end_time": "2024-02-06T11:38:22.731875277Z",
     "start_time": "2024-02-06T11:38:22.691082251Z"
    }
   },
   "execution_count": 13
  },
  {
   "cell_type": "code",
   "outputs": [
    {
     "data": {
      "text/plain": "Matrix([\n[(\\alpha**2 - 1)/(2*\\alpha**2 - 1),                                 0, \\alpha/(2*\\alpha**2 - 1),                        0,      -\\alpha**2/(2*\\alpha**2 - 1),                                 0],\n[                                0, (\\alpha**2 - 1)/(2*\\alpha**2 - 1),                        0, \\alpha/(2*\\alpha**2 - 1),                                 0,      -\\alpha**2/(2*\\alpha**2 - 1)],\n[         \\alpha/(2*\\alpha**2 - 1),                                 0,     -1/(2*\\alpha**2 - 1),                        0,          \\alpha/(2*\\alpha**2 - 1),                                 0],\n[                                0,          \\alpha/(2*\\alpha**2 - 1),                        0,     -1/(2*\\alpha**2 - 1),                                 0,          \\alpha/(2*\\alpha**2 - 1)],\n[     -\\alpha**2/(2*\\alpha**2 - 1),                                 0, \\alpha/(2*\\alpha**2 - 1),                        0, (\\alpha**2 - 1)/(2*\\alpha**2 - 1),                                 0],\n[                                0,      -\\alpha**2/(2*\\alpha**2 - 1),                        0, \\alpha/(2*\\alpha**2 - 1),                                 0, (\\alpha**2 - 1)/(2*\\alpha**2 - 1)]])",
      "text/latex": "$\\displaystyle \\left[\\begin{matrix}\\frac{\\alpha^{2} - 1}{2 \\alpha^{2} - 1} & 0 & \\frac{\\alpha}{2 \\alpha^{2} - 1} & 0 & - \\frac{\\alpha^{2}}{2 \\alpha^{2} - 1} & 0\\\\0 & \\frac{\\alpha^{2} - 1}{2 \\alpha^{2} - 1} & 0 & \\frac{\\alpha}{2 \\alpha^{2} - 1} & 0 & - \\frac{\\alpha^{2}}{2 \\alpha^{2} - 1}\\\\\\frac{\\alpha}{2 \\alpha^{2} - 1} & 0 & - \\frac{1}{2 \\alpha^{2} - 1} & 0 & \\frac{\\alpha}{2 \\alpha^{2} - 1} & 0\\\\0 & \\frac{\\alpha}{2 \\alpha^{2} - 1} & 0 & - \\frac{1}{2 \\alpha^{2} - 1} & 0 & \\frac{\\alpha}{2 \\alpha^{2} - 1}\\\\- \\frac{\\alpha^{2}}{2 \\alpha^{2} - 1} & 0 & \\frac{\\alpha}{2 \\alpha^{2} - 1} & 0 & \\frac{\\alpha^{2} - 1}{2 \\alpha^{2} - 1} & 0\\\\0 & - \\frac{\\alpha^{2}}{2 \\alpha^{2} - 1} & 0 & \\frac{\\alpha}{2 \\alpha^{2} - 1} & 0 & \\frac{\\alpha^{2} - 1}{2 \\alpha^{2} - 1}\\end{matrix}\\right]$"
     },
     "execution_count": 17,
     "metadata": {},
     "output_type": "execute_result"
    }
   ],
   "source": [
    "sym.simplify(C_inv)"
   ],
   "metadata": {
    "collapsed": false,
    "ExecuteTime": {
     "end_time": "2024-02-06T11:38:42.127480700Z",
     "start_time": "2024-02-06T11:38:42.072449151Z"
    }
   },
   "execution_count": 17
  },
  {
   "cell_type": "code",
   "outputs": [
    {
     "data": {
      "text/plain": "Matrix([\n[  (-3*\\alpha**4 + 4*\\alpha**2 - 1)/(\\alpha**6 - 6*\\alpha**4 + 5*\\alpha**2 - 1),                                                                              0, (\\alpha**5 - 3*\\alpha**3 + \\alpha)/(\\alpha**6 - 6*\\alpha**4 + 5*\\alpha**2 - 1),                                                                              0,          (2*\\alpha**4 - \\alpha**2)/(\\alpha**6 - 6*\\alpha**4 + 5*\\alpha**2 - 1),                                                                              0,           (-\\alpha**5 + \\alpha**3)/(\\alpha**6 - 6*\\alpha**4 + 5*\\alpha**2 - 1),                                                                              0,                         -\\alpha**4/(\\alpha**6 - 6*\\alpha**4 + 5*\\alpha**2 - 1),                                                                              0,                          \\alpha**5/(\\alpha**6 - 6*\\alpha**4 + 5*\\alpha**2 - 1),                                                                              0],\n[                                                                             0,   (-3*\\alpha**4 + 4*\\alpha**2 - 1)/(\\alpha**6 - 6*\\alpha**4 + 5*\\alpha**2 - 1),                                                                              0, (\\alpha**5 - 3*\\alpha**3 + \\alpha)/(\\alpha**6 - 6*\\alpha**4 + 5*\\alpha**2 - 1),                                                                              0,          (2*\\alpha**4 - \\alpha**2)/(\\alpha**6 - 6*\\alpha**4 + 5*\\alpha**2 - 1),                                                                              0,           (-\\alpha**5 + \\alpha**3)/(\\alpha**6 - 6*\\alpha**4 + 5*\\alpha**2 - 1),                                                                              0,                         -\\alpha**4/(\\alpha**6 - 6*\\alpha**4 + 5*\\alpha**2 - 1),                                                                              0,                          \\alpha**5/(\\alpha**6 - 6*\\alpha**4 + 5*\\alpha**2 - 1)],\n[(\\alpha**5 - 3*\\alpha**3 + \\alpha)/(\\alpha**6 - 6*\\alpha**4 + 5*\\alpha**2 - 1),                                                                              0,     (-\\alpha**4 + 3*\\alpha**2 - 1)/(\\alpha**6 - 6*\\alpha**4 + 5*\\alpha**2 - 1),                                                                              0,            (-2*\\alpha**3 + \\alpha)/(\\alpha**6 - 6*\\alpha**4 + 5*\\alpha**2 - 1),                                                                              0,            (\\alpha**4 - \\alpha**2)/(\\alpha**6 - 6*\\alpha**4 + 5*\\alpha**2 - 1),                                                                              0,                          \\alpha**3/(\\alpha**6 - 6*\\alpha**4 + 5*\\alpha**2 - 1),                                                                              0,                         -\\alpha**4/(\\alpha**6 - 6*\\alpha**4 + 5*\\alpha**2 - 1),                                                                              0],\n[                                                                             0, (\\alpha**5 - 3*\\alpha**3 + \\alpha)/(\\alpha**6 - 6*\\alpha**4 + 5*\\alpha**2 - 1),                                                                              0,     (-\\alpha**4 + 3*\\alpha**2 - 1)/(\\alpha**6 - 6*\\alpha**4 + 5*\\alpha**2 - 1),                                                                              0,            (-2*\\alpha**3 + \\alpha)/(\\alpha**6 - 6*\\alpha**4 + 5*\\alpha**2 - 1),                                                                              0,            (\\alpha**4 - \\alpha**2)/(\\alpha**6 - 6*\\alpha**4 + 5*\\alpha**2 - 1),                                                                              0,                          \\alpha**3/(\\alpha**6 - 6*\\alpha**4 + 5*\\alpha**2 - 1),                                                                              0,                         -\\alpha**4/(\\alpha**6 - 6*\\alpha**4 + 5*\\alpha**2 - 1)],\n[         (2*\\alpha**4 - \\alpha**2)/(\\alpha**6 - 6*\\alpha**4 + 5*\\alpha**2 - 1),                                                                              0,            (-2*\\alpha**3 + \\alpha)/(\\alpha**6 - 6*\\alpha**4 + 5*\\alpha**2 - 1),                                                                              0,   (-2*\\alpha**4 + 3*\\alpha**2 - 1)/(\\alpha**6 - 6*\\alpha**4 + 5*\\alpha**2 - 1),                                                                              0, (\\alpha**5 - 2*\\alpha**3 + \\alpha)/(\\alpha**6 - 6*\\alpha**4 + 5*\\alpha**2 - 1),                                                                              0,            (\\alpha**4 - \\alpha**2)/(\\alpha**6 - 6*\\alpha**4 + 5*\\alpha**2 - 1),                                                                              0,           (-\\alpha**5 + \\alpha**3)/(\\alpha**6 - 6*\\alpha**4 + 5*\\alpha**2 - 1),                                                                              0],\n[                                                                             0,          (2*\\alpha**4 - \\alpha**2)/(\\alpha**6 - 6*\\alpha**4 + 5*\\alpha**2 - 1),                                                                              0,            (-2*\\alpha**3 + \\alpha)/(\\alpha**6 - 6*\\alpha**4 + 5*\\alpha**2 - 1),                                                                              0,   (-2*\\alpha**4 + 3*\\alpha**2 - 1)/(\\alpha**6 - 6*\\alpha**4 + 5*\\alpha**2 - 1),                                                                              0, (\\alpha**5 - 2*\\alpha**3 + \\alpha)/(\\alpha**6 - 6*\\alpha**4 + 5*\\alpha**2 - 1),                                                                              0,            (\\alpha**4 - \\alpha**2)/(\\alpha**6 - 6*\\alpha**4 + 5*\\alpha**2 - 1),                                                                              0,           (-\\alpha**5 + \\alpha**3)/(\\alpha**6 - 6*\\alpha**4 + 5*\\alpha**2 - 1)],\n[          (-\\alpha**5 + \\alpha**3)/(\\alpha**6 - 6*\\alpha**4 + 5*\\alpha**2 - 1),                                                                              0,            (\\alpha**4 - \\alpha**2)/(\\alpha**6 - 6*\\alpha**4 + 5*\\alpha**2 - 1),                                                                              0, (\\alpha**5 - 2*\\alpha**3 + \\alpha)/(\\alpha**6 - 6*\\alpha**4 + 5*\\alpha**2 - 1),                                                                              0,   (-2*\\alpha**4 + 3*\\alpha**2 - 1)/(\\alpha**6 - 6*\\alpha**4 + 5*\\alpha**2 - 1),                                                                              0,            (-2*\\alpha**3 + \\alpha)/(\\alpha**6 - 6*\\alpha**4 + 5*\\alpha**2 - 1),                                                                              0,          (2*\\alpha**4 - \\alpha**2)/(\\alpha**6 - 6*\\alpha**4 + 5*\\alpha**2 - 1),                                                                              0],\n[                                                                             0,           (-\\alpha**5 + \\alpha**3)/(\\alpha**6 - 6*\\alpha**4 + 5*\\alpha**2 - 1),                                                                              0,            (\\alpha**4 - \\alpha**2)/(\\alpha**6 - 6*\\alpha**4 + 5*\\alpha**2 - 1),                                                                              0, (\\alpha**5 - 2*\\alpha**3 + \\alpha)/(\\alpha**6 - 6*\\alpha**4 + 5*\\alpha**2 - 1),                                                                              0,   (-2*\\alpha**4 + 3*\\alpha**2 - 1)/(\\alpha**6 - 6*\\alpha**4 + 5*\\alpha**2 - 1),                                                                              0,            (-2*\\alpha**3 + \\alpha)/(\\alpha**6 - 6*\\alpha**4 + 5*\\alpha**2 - 1),                                                                              0,          (2*\\alpha**4 - \\alpha**2)/(\\alpha**6 - 6*\\alpha**4 + 5*\\alpha**2 - 1)],\n[                        -\\alpha**4/(\\alpha**6 - 6*\\alpha**4 + 5*\\alpha**2 - 1),                                                                              0,                          \\alpha**3/(\\alpha**6 - 6*\\alpha**4 + 5*\\alpha**2 - 1),                                                                              0,            (\\alpha**4 - \\alpha**2)/(\\alpha**6 - 6*\\alpha**4 + 5*\\alpha**2 - 1),                                                                              0,            (-2*\\alpha**3 + \\alpha)/(\\alpha**6 - 6*\\alpha**4 + 5*\\alpha**2 - 1),                                                                              0,     (-\\alpha**4 + 3*\\alpha**2 - 1)/(\\alpha**6 - 6*\\alpha**4 + 5*\\alpha**2 - 1),                                                                              0, (\\alpha**5 - 3*\\alpha**3 + \\alpha)/(\\alpha**6 - 6*\\alpha**4 + 5*\\alpha**2 - 1),                                                                              0],\n[                                                                             0,                         -\\alpha**4/(\\alpha**6 - 6*\\alpha**4 + 5*\\alpha**2 - 1),                                                                              0,                          \\alpha**3/(\\alpha**6 - 6*\\alpha**4 + 5*\\alpha**2 - 1),                                                                              0,            (\\alpha**4 - \\alpha**2)/(\\alpha**6 - 6*\\alpha**4 + 5*\\alpha**2 - 1),                                                                              0,            (-2*\\alpha**3 + \\alpha)/(\\alpha**6 - 6*\\alpha**4 + 5*\\alpha**2 - 1),                                                                              0,     (-\\alpha**4 + 3*\\alpha**2 - 1)/(\\alpha**6 - 6*\\alpha**4 + 5*\\alpha**2 - 1),                                                                              0, (\\alpha**5 - 3*\\alpha**3 + \\alpha)/(\\alpha**6 - 6*\\alpha**4 + 5*\\alpha**2 - 1)],\n[                         \\alpha**5/(\\alpha**6 - 6*\\alpha**4 + 5*\\alpha**2 - 1),                                                                              0,                         -\\alpha**4/(\\alpha**6 - 6*\\alpha**4 + 5*\\alpha**2 - 1),                                                                              0,           (-\\alpha**5 + \\alpha**3)/(\\alpha**6 - 6*\\alpha**4 + 5*\\alpha**2 - 1),                                                                              0,          (2*\\alpha**4 - \\alpha**2)/(\\alpha**6 - 6*\\alpha**4 + 5*\\alpha**2 - 1),                                                                              0, (\\alpha**5 - 3*\\alpha**3 + \\alpha)/(\\alpha**6 - 6*\\alpha**4 + 5*\\alpha**2 - 1),                                                                              0,   (-3*\\alpha**4 + 4*\\alpha**2 - 1)/(\\alpha**6 - 6*\\alpha**4 + 5*\\alpha**2 - 1),                                                                              0],\n[                                                                             0,                          \\alpha**5/(\\alpha**6 - 6*\\alpha**4 + 5*\\alpha**2 - 1),                                                                              0,                         -\\alpha**4/(\\alpha**6 - 6*\\alpha**4 + 5*\\alpha**2 - 1),                                                                              0,           (-\\alpha**5 + \\alpha**3)/(\\alpha**6 - 6*\\alpha**4 + 5*\\alpha**2 - 1),                                                                              0,          (2*\\alpha**4 - \\alpha**2)/(\\alpha**6 - 6*\\alpha**4 + 5*\\alpha**2 - 1),                                                                              0, (\\alpha**5 - 3*\\alpha**3 + \\alpha)/(\\alpha**6 - 6*\\alpha**4 + 5*\\alpha**2 - 1),                                                                              0,   (-3*\\alpha**4 + 4*\\alpha**2 - 1)/(\\alpha**6 - 6*\\alpha**4 + 5*\\alpha**2 - 1)]])",
      "text/latex": "$\\displaystyle \\left[\\begin{array}{cccccccccccc}\\frac{- 3 \\alpha^{4} + 4 \\alpha^{2} - 1}{\\alpha^{6} - 6 \\alpha^{4} + 5 \\alpha^{2} - 1} & 0 & \\frac{\\alpha^{5} - 3 \\alpha^{3} + \\alpha}{\\alpha^{6} - 6 \\alpha^{4} + 5 \\alpha^{2} - 1} & 0 & \\frac{2 \\alpha^{4} - \\alpha^{2}}{\\alpha^{6} - 6 \\alpha^{4} + 5 \\alpha^{2} - 1} & 0 & \\frac{- \\alpha^{5} + \\alpha^{3}}{\\alpha^{6} - 6 \\alpha^{4} + 5 \\alpha^{2} - 1} & 0 & - \\frac{\\alpha^{4}}{\\alpha^{6} - 6 \\alpha^{4} + 5 \\alpha^{2} - 1} & 0 & \\frac{\\alpha^{5}}{\\alpha^{6} - 6 \\alpha^{4} + 5 \\alpha^{2} - 1} & 0\\\\0 & \\frac{- 3 \\alpha^{4} + 4 \\alpha^{2} - 1}{\\alpha^{6} - 6 \\alpha^{4} + 5 \\alpha^{2} - 1} & 0 & \\frac{\\alpha^{5} - 3 \\alpha^{3} + \\alpha}{\\alpha^{6} - 6 \\alpha^{4} + 5 \\alpha^{2} - 1} & 0 & \\frac{2 \\alpha^{4} - \\alpha^{2}}{\\alpha^{6} - 6 \\alpha^{4} + 5 \\alpha^{2} - 1} & 0 & \\frac{- \\alpha^{5} + \\alpha^{3}}{\\alpha^{6} - 6 \\alpha^{4} + 5 \\alpha^{2} - 1} & 0 & - \\frac{\\alpha^{4}}{\\alpha^{6} - 6 \\alpha^{4} + 5 \\alpha^{2} - 1} & 0 & \\frac{\\alpha^{5}}{\\alpha^{6} - 6 \\alpha^{4} + 5 \\alpha^{2} - 1}\\\\\\frac{\\alpha^{5} - 3 \\alpha^{3} + \\alpha}{\\alpha^{6} - 6 \\alpha^{4} + 5 \\alpha^{2} - 1} & 0 & \\frac{- \\alpha^{4} + 3 \\alpha^{2} - 1}{\\alpha^{6} - 6 \\alpha^{4} + 5 \\alpha^{2} - 1} & 0 & \\frac{- 2 \\alpha^{3} + \\alpha}{\\alpha^{6} - 6 \\alpha^{4} + 5 \\alpha^{2} - 1} & 0 & \\frac{\\alpha^{4} - \\alpha^{2}}{\\alpha^{6} - 6 \\alpha^{4} + 5 \\alpha^{2} - 1} & 0 & \\frac{\\alpha^{3}}{\\alpha^{6} - 6 \\alpha^{4} + 5 \\alpha^{2} - 1} & 0 & - \\frac{\\alpha^{4}}{\\alpha^{6} - 6 \\alpha^{4} + 5 \\alpha^{2} - 1} & 0\\\\0 & \\frac{\\alpha^{5} - 3 \\alpha^{3} + \\alpha}{\\alpha^{6} - 6 \\alpha^{4} + 5 \\alpha^{2} - 1} & 0 & \\frac{- \\alpha^{4} + 3 \\alpha^{2} - 1}{\\alpha^{6} - 6 \\alpha^{4} + 5 \\alpha^{2} - 1} & 0 & \\frac{- 2 \\alpha^{3} + \\alpha}{\\alpha^{6} - 6 \\alpha^{4} + 5 \\alpha^{2} - 1} & 0 & \\frac{\\alpha^{4} - \\alpha^{2}}{\\alpha^{6} - 6 \\alpha^{4} + 5 \\alpha^{2} - 1} & 0 & \\frac{\\alpha^{3}}{\\alpha^{6} - 6 \\alpha^{4} + 5 \\alpha^{2} - 1} & 0 & - \\frac{\\alpha^{4}}{\\alpha^{6} - 6 \\alpha^{4} + 5 \\alpha^{2} - 1}\\\\\\frac{2 \\alpha^{4} - \\alpha^{2}}{\\alpha^{6} - 6 \\alpha^{4} + 5 \\alpha^{2} - 1} & 0 & \\frac{- 2 \\alpha^{3} + \\alpha}{\\alpha^{6} - 6 \\alpha^{4} + 5 \\alpha^{2} - 1} & 0 & \\frac{- 2 \\alpha^{4} + 3 \\alpha^{2} - 1}{\\alpha^{6} - 6 \\alpha^{4} + 5 \\alpha^{2} - 1} & 0 & \\frac{\\alpha^{5} - 2 \\alpha^{3} + \\alpha}{\\alpha^{6} - 6 \\alpha^{4} + 5 \\alpha^{2} - 1} & 0 & \\frac{\\alpha^{4} - \\alpha^{2}}{\\alpha^{6} - 6 \\alpha^{4} + 5 \\alpha^{2} - 1} & 0 & \\frac{- \\alpha^{5} + \\alpha^{3}}{\\alpha^{6} - 6 \\alpha^{4} + 5 \\alpha^{2} - 1} & 0\\\\0 & \\frac{2 \\alpha^{4} - \\alpha^{2}}{\\alpha^{6} - 6 \\alpha^{4} + 5 \\alpha^{2} - 1} & 0 & \\frac{- 2 \\alpha^{3} + \\alpha}{\\alpha^{6} - 6 \\alpha^{4} + 5 \\alpha^{2} - 1} & 0 & \\frac{- 2 \\alpha^{4} + 3 \\alpha^{2} - 1}{\\alpha^{6} - 6 \\alpha^{4} + 5 \\alpha^{2} - 1} & 0 & \\frac{\\alpha^{5} - 2 \\alpha^{3} + \\alpha}{\\alpha^{6} - 6 \\alpha^{4} + 5 \\alpha^{2} - 1} & 0 & \\frac{\\alpha^{4} - \\alpha^{2}}{\\alpha^{6} - 6 \\alpha^{4} + 5 \\alpha^{2} - 1} & 0 & \\frac{- \\alpha^{5} + \\alpha^{3}}{\\alpha^{6} - 6 \\alpha^{4} + 5 \\alpha^{2} - 1}\\\\\\frac{- \\alpha^{5} + \\alpha^{3}}{\\alpha^{6} - 6 \\alpha^{4} + 5 \\alpha^{2} - 1} & 0 & \\frac{\\alpha^{4} - \\alpha^{2}}{\\alpha^{6} - 6 \\alpha^{4} + 5 \\alpha^{2} - 1} & 0 & \\frac{\\alpha^{5} - 2 \\alpha^{3} + \\alpha}{\\alpha^{6} - 6 \\alpha^{4} + 5 \\alpha^{2} - 1} & 0 & \\frac{- 2 \\alpha^{4} + 3 \\alpha^{2} - 1}{\\alpha^{6} - 6 \\alpha^{4} + 5 \\alpha^{2} - 1} & 0 & \\frac{- 2 \\alpha^{3} + \\alpha}{\\alpha^{6} - 6 \\alpha^{4} + 5 \\alpha^{2} - 1} & 0 & \\frac{2 \\alpha^{4} - \\alpha^{2}}{\\alpha^{6} - 6 \\alpha^{4} + 5 \\alpha^{2} - 1} & 0\\\\0 & \\frac{- \\alpha^{5} + \\alpha^{3}}{\\alpha^{6} - 6 \\alpha^{4} + 5 \\alpha^{2} - 1} & 0 & \\frac{\\alpha^{4} - \\alpha^{2}}{\\alpha^{6} - 6 \\alpha^{4} + 5 \\alpha^{2} - 1} & 0 & \\frac{\\alpha^{5} - 2 \\alpha^{3} + \\alpha}{\\alpha^{6} - 6 \\alpha^{4} + 5 \\alpha^{2} - 1} & 0 & \\frac{- 2 \\alpha^{4} + 3 \\alpha^{2} - 1}{\\alpha^{6} - 6 \\alpha^{4} + 5 \\alpha^{2} - 1} & 0 & \\frac{- 2 \\alpha^{3} + \\alpha}{\\alpha^{6} - 6 \\alpha^{4} + 5 \\alpha^{2} - 1} & 0 & \\frac{2 \\alpha^{4} - \\alpha^{2}}{\\alpha^{6} - 6 \\alpha^{4} + 5 \\alpha^{2} - 1}\\\\- \\frac{\\alpha^{4}}{\\alpha^{6} - 6 \\alpha^{4} + 5 \\alpha^{2} - 1} & 0 & \\frac{\\alpha^{3}}{\\alpha^{6} - 6 \\alpha^{4} + 5 \\alpha^{2} - 1} & 0 & \\frac{\\alpha^{4} - \\alpha^{2}}{\\alpha^{6} - 6 \\alpha^{4} + 5 \\alpha^{2} - 1} & 0 & \\frac{- 2 \\alpha^{3} + \\alpha}{\\alpha^{6} - 6 \\alpha^{4} + 5 \\alpha^{2} - 1} & 0 & \\frac{- \\alpha^{4} + 3 \\alpha^{2} - 1}{\\alpha^{6} - 6 \\alpha^{4} + 5 \\alpha^{2} - 1} & 0 & \\frac{\\alpha^{5} - 3 \\alpha^{3} + \\alpha}{\\alpha^{6} - 6 \\alpha^{4} + 5 \\alpha^{2} - 1} & 0\\\\0 & - \\frac{\\alpha^{4}}{\\alpha^{6} - 6 \\alpha^{4} + 5 \\alpha^{2} - 1} & 0 & \\frac{\\alpha^{3}}{\\alpha^{6} - 6 \\alpha^{4} + 5 \\alpha^{2} - 1} & 0 & \\frac{\\alpha^{4} - \\alpha^{2}}{\\alpha^{6} - 6 \\alpha^{4} + 5 \\alpha^{2} - 1} & 0 & \\frac{- 2 \\alpha^{3} + \\alpha}{\\alpha^{6} - 6 \\alpha^{4} + 5 \\alpha^{2} - 1} & 0 & \\frac{- \\alpha^{4} + 3 \\alpha^{2} - 1}{\\alpha^{6} - 6 \\alpha^{4} + 5 \\alpha^{2} - 1} & 0 & \\frac{\\alpha^{5} - 3 \\alpha^{3} + \\alpha}{\\alpha^{6} - 6 \\alpha^{4} + 5 \\alpha^{2} - 1}\\\\\\frac{\\alpha^{5}}{\\alpha^{6} - 6 \\alpha^{4} + 5 \\alpha^{2} - 1} & 0 & - \\frac{\\alpha^{4}}{\\alpha^{6} - 6 \\alpha^{4} + 5 \\alpha^{2} - 1} & 0 & \\frac{- \\alpha^{5} + \\alpha^{3}}{\\alpha^{6} - 6 \\alpha^{4} + 5 \\alpha^{2} - 1} & 0 & \\frac{2 \\alpha^{4} - \\alpha^{2}}{\\alpha^{6} - 6 \\alpha^{4} + 5 \\alpha^{2} - 1} & 0 & \\frac{\\alpha^{5} - 3 \\alpha^{3} + \\alpha}{\\alpha^{6} - 6 \\alpha^{4} + 5 \\alpha^{2} - 1} & 0 & \\frac{- 3 \\alpha^{4} + 4 \\alpha^{2} - 1}{\\alpha^{6} - 6 \\alpha^{4} + 5 \\alpha^{2} - 1} & 0\\\\0 & \\frac{\\alpha^{5}}{\\alpha^{6} - 6 \\alpha^{4} + 5 \\alpha^{2} - 1} & 0 & - \\frac{\\alpha^{4}}{\\alpha^{6} - 6 \\alpha^{4} + 5 \\alpha^{2} - 1} & 0 & \\frac{- \\alpha^{5} + \\alpha^{3}}{\\alpha^{6} - 6 \\alpha^{4} + 5 \\alpha^{2} - 1} & 0 & \\frac{2 \\alpha^{4} - \\alpha^{2}}{\\alpha^{6} - 6 \\alpha^{4} + 5 \\alpha^{2} - 1} & 0 & \\frac{\\alpha^{5} - 3 \\alpha^{3} + \\alpha}{\\alpha^{6} - 6 \\alpha^{4} + 5 \\alpha^{2} - 1} & 0 & \\frac{- 3 \\alpha^{4} + 4 \\alpha^{2} - 1}{\\alpha^{6} - 6 \\alpha^{4} + 5 \\alpha^{2} - 1}\\end{array}\\right]$"
     },
     "execution_count": 20,
     "metadata": {},
     "output_type": "execute_result"
    }
   ],
   "source": [
    "sym.simplify(C_inv)"
   ],
   "metadata": {
    "collapsed": false,
    "ExecuteTime": {
     "end_time": "2024-02-06T11:52:59.256478669Z",
     "start_time": "2024-02-06T11:52:58.620451470Z"
    }
   },
   "execution_count": 20
  },
  {
   "cell_type": "code",
   "outputs": [
    {
     "data": {
      "text/plain": "Matrix([\n[C_C/2 + C_R,           0,      -C_C/2,           0],\n[          0, C_C/2 + C_F,           0,      -C_C/2],\n[     -C_C/2,           0, C_C/2 + C_R,           0],\n[          0,      -C_C/2,           0, C_C/2 + C_F]])",
      "text/latex": "$\\displaystyle \\left[\\begin{matrix}\\frac{C_{C}}{2} + C_{R} & 0 & - \\frac{C_{C}}{2} & 0\\\\0 & \\frac{C_{C}}{2} + C_{F} & 0 & - \\frac{C_{C}}{2}\\\\- \\frac{C_{C}}{2} & 0 & \\frac{C_{C}}{2} + C_{R} & 0\\\\0 & - \\frac{C_{C}}{2} & 0 & \\frac{C_{C}}{2} + C_{F}\\end{matrix}\\right]$"
     },
     "execution_count": 25,
     "metadata": {},
     "output_type": "execute_result"
    }
   ],
   "source": [
    "# Define the symbols\n",
    "C_R, C_F, C_C = sym.symbols('C_R, C_F, C_C', real=True, positive=True, nonzero=True)\n",
    "\n",
    "# Create a 6x6 matrix based on the given pattern\n",
    "C_mat = sym.Matrix(4,4, lambda i, j: C_R+C_C/2 if (i == j and np.mod(i,2)==0) else C_F+C_C/2 if (i == j and np.mod(i,2)!=0)  else -C_C/2 if abs(i-j) == 2 else 0)\n",
    "\n",
    "C_mat"
   ],
   "metadata": {
    "collapsed": false,
    "ExecuteTime": {
     "end_time": "2024-02-06T14:12:13.870752554Z",
     "start_time": "2024-02-06T14:12:13.828477593Z"
    }
   },
   "execution_count": 25
  },
  {
   "cell_type": "code",
   "outputs": [],
   "source": [
    "C_inv = C_mat **-1"
   ],
   "metadata": {
    "collapsed": false,
    "ExecuteTime": {
     "end_time": "2024-02-06T14:12:15.760353225Z",
     "start_time": "2024-02-06T14:12:15.732362757Z"
    }
   },
   "execution_count": 26
  },
  {
   "cell_type": "code",
   "outputs": [
    {
     "data": {
      "text/plain": "Matrix([\n[(C_C/2 + C_R)/(C_R*(C_C + C_R)),                               0,         C_C/(2*C_R*(C_C + C_R)),                               0],\n[                              0, (C_C/2 + C_F)/(C_F*(C_C + C_F)),                               0,         C_C/(2*C_F*(C_C + C_F))],\n[        C_C/(2*C_R*(C_C + C_R)),                               0, (C_C/2 + C_R)/(C_R*(C_C + C_R)),                               0],\n[                              0,         C_C/(2*C_F*(C_C + C_F)),                               0, (C_C/2 + C_F)/(C_F*(C_C + C_F))]])",
      "text/latex": "$\\displaystyle \\left[\\begin{matrix}\\frac{\\frac{C_{C}}{2} + C_{R}}{C_{R} \\left(C_{C} + C_{R}\\right)} & 0 & \\frac{C_{C}}{2 C_{R} \\left(C_{C} + C_{R}\\right)} & 0\\\\0 & \\frac{\\frac{C_{C}}{2} + C_{F}}{C_{F} \\left(C_{C} + C_{F}\\right)} & 0 & \\frac{C_{C}}{2 C_{F} \\left(C_{C} + C_{F}\\right)}\\\\\\frac{C_{C}}{2 C_{R} \\left(C_{C} + C_{R}\\right)} & 0 & \\frac{\\frac{C_{C}}{2} + C_{R}}{C_{R} \\left(C_{C} + C_{R}\\right)} & 0\\\\0 & \\frac{C_{C}}{2 C_{F} \\left(C_{C} + C_{F}\\right)} & 0 & \\frac{\\frac{C_{C}}{2} + C_{F}}{C_{F} \\left(C_{C} + C_{F}\\right)}\\end{matrix}\\right]$"
     },
     "execution_count": 31,
     "metadata": {},
     "output_type": "execute_result"
    }
   ],
   "source": [
    "sym.simplify(C_inv)"
   ],
   "metadata": {
    "collapsed": false,
    "ExecuteTime": {
     "end_time": "2024-02-06T14:21:29.597045544Z",
     "start_time": "2024-02-06T14:21:29.556040294Z"
    }
   },
   "execution_count": 31
  },
  {
   "cell_type": "code",
   "outputs": [
    {
     "name": "stdout",
     "output_type": "stream",
     "text": [
      "\\left[\\begin{matrix}\\frac{\\frac{C_{C}}{2} + C_{R}}{C_{R} \\left(C_{C} + C_{R}\\right)} & 0 & \\frac{C_{C}}{2 C_{R} \\left(C_{C} + C_{R}\\right)} & 0\\\\0 & \\frac{\\frac{C_{C}}{2} + C_{F}}{C_{F} \\left(C_{C} + C_{F}\\right)} & 0 & \\frac{C_{C}}{2 C_{F} \\left(C_{C} + C_{F}\\right)}\\\\\\frac{C_{C}}{2 C_{R} \\left(C_{C} + C_{R}\\right)} & 0 & \\frac{\\frac{C_{C}}{2} + C_{R}}{C_{R} \\left(C_{C} + C_{R}\\right)} & 0\\\\0 & \\frac{C_{C}}{2 C_{F} \\left(C_{C} + C_{F}\\right)} & 0 & \\frac{\\frac{C_{C}}{2} + C_{F}}{C_{F} \\left(C_{C} + C_{F}\\right)}\\end{matrix}\\right]\n"
     ]
    }
   ],
   "source": [
    "sym.print_latex(sym.simplify(C_inv))"
   ],
   "metadata": {
    "collapsed": false
   },
   "execution_count": 30
  },
  {
   "cell_type": "code",
   "outputs": [],
   "source": [],
   "metadata": {
    "collapsed": false
   }
  }
 ],
 "metadata": {
  "kernelspec": {
   "display_name": "Python 3",
   "language": "python",
   "name": "python3"
  },
  "language_info": {
   "codemirror_mode": {
    "name": "ipython",
    "version": 2
   },
   "file_extension": ".py",
   "mimetype": "text/x-python",
   "name": "python",
   "nbconvert_exporter": "python",
   "pygments_lexer": "ipython2",
   "version": "2.7.6"
  }
 },
 "nbformat": 4,
 "nbformat_minor": 0
}
