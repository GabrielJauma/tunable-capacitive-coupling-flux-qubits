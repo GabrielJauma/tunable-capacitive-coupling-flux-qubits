{
 "cells": [
  {
   "cell_type": "code",
   "execution_count": 3,
   "outputs": [],
   "source": [
    "import Modules.SQcircuit_extensions as sq_ext\n",
    "import Modules.figures as figs\n",
    "import SQcircuit as sq\n",
    "import numpy as np\n",
    "import matplotlib.pyplot as plt\n",
    "import importlib\n",
    "import qutip as qt\n",
    "from IPython.display import HTML\n",
    "import scipy as sp\n",
    "\n",
    "%matplotlib ipympl\n",
    "plt.rcParams['text.usetex'] = False\n",
    "importlib.reload(sq_ext)\n",
    "importlib.reload(sq)\n",
    "importlib.reload(figs)\n",
    "np.set_printoptions(linewidth=300, formatter={'float': '{:.12f}'.format})\n",
    "# np.set_printoptions(linewidth=200, formatter={'float': '{:.1e}'.format})"
   ],
   "metadata": {
    "collapsed": false,
    "ExecuteTime": {
     "end_time": "2023-12-19T10:37:36.856594Z",
     "start_time": "2023-12-19T10:37:35.891718400Z"
    }
   },
   "id": "2dc572c9a0671950"
  },
  {
   "cell_type": "code",
   "execution_count": 64,
   "outputs": [],
   "source": [
    "# Fundamental constants\n",
    "h    = 6.626e-34\n",
    "GHz = 1e9\n",
    "e0   = 1.602e-19\n",
    "Φ_0 = h/(2*e0)\n",
    "\n",
    "# Circuit parameters\n",
    "Csh = 15\n",
    "C   = 15\n",
    "Cg  = 10\n",
    "CJ  = 3\n",
    "Lq  = 25\n",
    "Lr  = 10\n",
    "Δ   = 0.1\n",
    "EJ  = 10.0\n",
    "l = Lq*(Lq+4*Lr) - 4*Δ**2\n",
    "\n",
    "Cc = 1"
   ],
   "metadata": {
    "collapsed": false,
    "ExecuteTime": {
     "end_time": "2023-12-19T11:11:28.634633900Z",
     "start_time": "2023-12-19T11:11:28.625936900Z"
    }
   }
  },
  {
   "cell_type": "code",
   "execution_count": 66,
   "outputs": [],
   "source": [
    "nmax_r = 10\n",
    "nmax_f = 10"
   ],
   "metadata": {
    "collapsed": false,
    "ExecuteTime": {
     "end_time": "2023-12-19T11:11:33.116022Z",
     "start_time": "2023-12-19T11:11:33.100478700Z"
    }
   },
   "id": "3fb0929126c04476"
  },
  {
   "cell_type": "markdown",
   "source": [
    "# Symmetric Cc coupling\n",
    "That is, the inner nodes of the qubits are coupled with Cc, and the outer nodes of the qubits are coupled with Cc to their respective readout lines.\n",
    "As a result, the renormalization induced by Cc ensures that the qubit and resonator modes are still the symmetric and atisymmetric combination of the fluxes of the upper nodes."
   ],
   "metadata": {
    "collapsed": false
   },
   "id": "ea25895065fd4e4f"
  },
  {
   "cell_type": "markdown",
   "source": [
    "## Composing the circuit with fluxoniums and resonatrs"
   ],
   "metadata": {
    "collapsed": false
   }
  },
  {
   "cell_type": "code",
   "execution_count": 67,
   "outputs": [],
   "source": [
    "def hamiltonian_qubit_C_qubit(nmax_r, nmax_f, Cc, C = 15, CJ = 3, Csh= 15, Lq = 25, Lr = 10, Δ = 0.1 ):\n",
    "    \n",
    "    resonator = sq_ext.KIT_resonator(C = C+Cc,                     Lq = Lq, Lr = Lr, Δ = Δ)\n",
    "    fluxonium = sq_ext.KIT_fluxonium(C = C+Cc, CJ = CJ, Csh = Csh, Lq = Lq, Lr = Lr, Δ = Δ)\n",
    "    \n",
    "    resonator.set_trunc_nums([nmax_r])\n",
    "    fluxonium.set_trunc_nums([nmax_f])\n",
    "    \n",
    "    H_left  = sq_ext.hamiltonian_frc(fluxonium, resonator,Δ)\n",
    "    H_right = sq_ext.hamiltonian_frc(fluxonium, resonator,Δ)\n",
    "    \n",
    "    I_r       = qt.identity(nmax_r)\n",
    "    I_f       = qt.identity(nmax_f)\n",
    "    I_H_left  = qt.identity(H_left .dims[0])\n",
    "    I_H_right = qt.identity(H_right.dims[0])\n",
    "    \n",
    "    q_r = qt.tensor(resonator.charge_op(0), I_f)\n",
    "    q_f = qt.tensor(I_r, fluxonium.charge_op(0))\n",
    "    \n",
    "    if Cc>0:\n",
    "        H = qt.tensor(H_left, I_H_right) + qt.tensor(I_H_left, H_right) + 1/Cc * (qt.tensor(q_r,q_r) + \n",
    "                                                                                  qt.tensor(q_f,q_f) + \n",
    "                                                                                  qt.tensor(q_r,q_f) + \n",
    "                                                                                  qt.tensor(q_f,q_r) )\n",
    "    else:\n",
    "        H = qt.tensor(H_left, I_H_right) + qt.tensor(I_H_left, H_right)\n",
    "        \n",
    "    return H\n"
   ],
   "metadata": {
    "collapsed": false,
    "ExecuteTime": {
     "end_time": "2023-12-19T11:11:34.063114500Z",
     "start_time": "2023-12-19T11:11:34.047421800Z"
    }
   },
   "id": "fc89e2fe3ac18768"
  },
  {
   "cell_type": "code",
   "execution_count": 68,
   "outputs": [],
   "source": [
    "H_0 = hamiltonian_qubit_C_qubit(nmax_r, nmax_f, Cc=Cc)"
   ],
   "metadata": {
    "collapsed": false,
    "ExecuteTime": {
     "end_time": "2023-12-19T11:11:35.104826700Z",
     "start_time": "2023-12-19T11:11:35.060570600Z"
    }
   },
   "id": "82519311baaf4d5e"
  },
  {
   "cell_type": "code",
   "execution_count": 69,
   "outputs": [],
   "source": [
    "H   = hamiltonian_qubit_C_qubit(nmax_r, nmax_f, Cc=Cc)"
   ],
   "metadata": {
    "collapsed": false,
    "ExecuteTime": {
     "end_time": "2023-12-19T11:11:35.356911100Z",
     "start_time": "2023-12-19T11:11:35.326735200Z"
    }
   },
   "id": "6f1b7bd23a4be9c7"
  },
  {
   "cell_type": "markdown",
   "source": [
    "## Creating the full circuits with sqcircuits to check that the energies are the same"
   ],
   "metadata": {
    "collapsed": false
   }
  },
  {
   "cell_type": "code",
   "execution_count": 70,
   "outputs": [],
   "source": [
    "# Initialize loops\n",
    "loop_qubit = sq.Loop(0.5)\n",
    "loop1_qubit_C_qubit= sq.Loop(0.5)\n",
    "loop2_qubit_C_qubit = sq.Loop(0.5)\n",
    "\n",
    "# Circuit components\n",
    "C_01, C_01_rc, C_02, C_02_rc, C_12, L_03, L_31, L_23, JJ_12 = [[] for _ in range(9)]\n",
    "for loop in [loop_qubit, loop1_qubit_C_qubit, loop2_qubit_C_qubit]:\n",
    "    C_01       .append(sq.Capacitor(C,          'fF'))\n",
    "    C_01_rc    .append(sq.Capacitor(C+Cc,       'fF')) # With extra Cc for redout or coupling\n",
    "    C_02       .append(sq.Capacitor(C,          'fF'))\n",
    "    C_02_rc    .append(sq.Capacitor(C+Cc,       'fF')) # With extra Cc for redout or coupling\n",
    "    C_12 .append(sq.Capacitor(CJ+Csh,  'fF'))\n",
    "    L_03 .append(sq.Inductor(Lr,       'nH'))\n",
    "    L_31 .append(sq.Inductor(Lq/2 - Δ, 'nH',  loops=[loop]))\n",
    "    L_23 .append(sq.Inductor(Lq/2 + Δ, 'nH',  loops=[loop]))\n",
    "    JJ_12.append(sq.Junction(EJ,       'GHz', loops=[loop]))\n",
    "C_24 = sq.Capacitor(Cc, 'fF')\n"
   ],
   "metadata": {
    "collapsed": false,
    "ExecuteTime": {
     "end_time": "2023-12-19T11:11:36.424800300Z",
     "start_time": "2023-12-19T11:11:36.410316600Z"
    }
   }
  },
  {
   "cell_type": "markdown",
   "source": [
    "### Two uncoupled qubits with capacitances for coupling and readout"
   ],
   "metadata": {
    "collapsed": false
   }
  },
  {
   "cell_type": "code",
   "execution_count": 71,
   "outputs": [
    {
     "data": {
      "text/plain": "<IPython.core.display.Latex object>",
      "text/latex": "$\\hat{H} =~\\omega_1\\hat a^\\dagger_1\\hat a_1~+~\\omega_2\\hat a^\\dagger_2\\hat a_2~+~\\omega_3\\hat a^\\dagger_3\\hat a_3~+~\\omega_4\\hat a^\\dagger_4\\hat a_4~~-~E_{J_{1}}\\cos(\\hat{\\varphi}_1-\\hat{\\varphi}_3+\\varphi_{\\text{ext}_{1}})~-~E_{J_{2}}\\cos(\\hat{\\varphi}_2-\\hat{\\varphi}_4+\\varphi_{\\text{ext}_{2}})$"
     },
     "metadata": {},
     "output_type": "display_data"
    },
    {
     "data": {
      "text/plain": "<IPython.core.display.Latex object>",
      "text/latex": "$------------------------------------------------------------$"
     },
     "metadata": {},
     "output_type": "display_data"
    },
    {
     "data": {
      "text/plain": "<IPython.core.display.Latex object>",
      "text/latex": "$\\text{mode}~1:~~~~~~~~~~~\\text{harmonic}~~~~~~~~~~~\\hat{\\varphi}_1~=~\\varphi_{zp_{1}}(\\hat a_1+\\hat a^\\dagger_1)~~~~~~~~~~~\\omega_1/2\\pi~=~6.97984~~~~~~~~~~~\\varphi_{zp_{1}}~=~1.45e-02$"
     },
     "metadata": {},
     "output_type": "display_data"
    },
    {
     "data": {
      "text/plain": "<IPython.core.display.Latex object>",
      "text/latex": "$\\text{mode}~2:~~~~~~~~~~~\\text{harmonic}~~~~~~~~~~~\\hat{\\varphi}_2~=~\\varphi_{zp_{2}}(\\hat a_2+\\hat a^\\dagger_2)~~~~~~~~~~~\\omega_2/2\\pi~=~6.97984~~~~~~~~~~~\\varphi_{zp_{2}}~=~1.45e-02$"
     },
     "metadata": {},
     "output_type": "display_data"
    },
    {
     "data": {
      "text/plain": "<IPython.core.display.Latex object>",
      "text/latex": "$\\text{mode}~3:~~~~~~~~~~~\\text{harmonic}~~~~~~~~~~~\\hat{\\varphi}_3~=~\\varphi_{zp_{3}}(\\hat a_3+\\hat a^\\dagger_3)~~~~~~~~~~~\\omega_3/2\\pi~=~6.24226~~~~~~~~~~~\\varphi_{zp_{3}}~=~6.91e-01$"
     },
     "metadata": {},
     "output_type": "display_data"
    },
    {
     "data": {
      "text/plain": "<IPython.core.display.Latex object>",
      "text/latex": "$\\text{mode}~4:~~~~~~~~~~~\\text{harmonic}~~~~~~~~~~~\\hat{\\varphi}_4~=~\\varphi_{zp_{4}}(\\hat a_4+\\hat a^\\dagger_4)~~~~~~~~~~~\\omega_4/2\\pi~=~6.24226~~~~~~~~~~~\\varphi_{zp_{4}}~=~6.91e-01$"
     },
     "metadata": {},
     "output_type": "display_data"
    },
    {
     "data": {
      "text/plain": "<IPython.core.display.Latex object>",
      "text/latex": "$------------------------------------------------------------$"
     },
     "metadata": {},
     "output_type": "display_data"
    },
    {
     "data": {
      "text/plain": "<IPython.core.display.Latex object>",
      "text/latex": "$\\text{parameters}:~~~~~~~~~~~E_{J_{1}}~=~10.0~~~~~~~~~~~E_{J_{2}}~=~10.0~~~~~~~~~~~$"
     },
     "metadata": {},
     "output_type": "display_data"
    },
    {
     "data": {
      "text/plain": "<IPython.core.display.Latex object>",
      "text/latex": "$\\text{loops}:~~~~~~~~~~~~~~~~~~~~\\varphi_{\\text{ext}_{1}}/2\\pi~=~0.5~~~~~~~~~~~\\varphi_{\\text{ext}_{2}}/2\\pi~=~0.5~~~~~~~~~~~$"
     },
     "metadata": {},
     "output_type": "display_data"
    }
   ],
   "source": [
    "# Two qubits\n",
    "elements_qubit_qubit = {\n",
    "    # qubit 1, nodes [0, 1, 2, 3]\n",
    "    (0, 3): [L_03[1]],\n",
    "    (0, 1): [C_01_rc[1]],\n",
    "    (0, 2): [C_02_rc[1]],\n",
    "    (3, 1): [L_31[1]],\n",
    "    (1, 2): [C_12[1], JJ_12[1]],\n",
    "    (2, 3): [L_23[1]],\n",
    "    # qubit 2, nodes [0, 4, 5, 6]\n",
    "    (0, 6): [L_03[2]],\n",
    "    (0, 4): [C_01_rc[2]],\n",
    "    (0, 5): [C_02_rc[2]],\n",
    "    (6, 4): [L_31[2]],\n",
    "    (4, 5): [C_12[2], JJ_12[2]],\n",
    "    (5, 6): [L_23[2]],\n",
    "}\n",
    "\n",
    "qubit_qubit = sq.Circuit(elements_qubit_qubit)\n",
    "qubit_qubit.description()"
   ],
   "metadata": {
    "collapsed": false,
    "ExecuteTime": {
     "end_time": "2023-12-19T11:11:37.402637200Z",
     "start_time": "2023-12-19T11:11:37.344209200Z"
    }
   }
  },
  {
   "cell_type": "code",
   "execution_count": 72,
   "outputs": [],
   "source": [
    "qubit_qubit.set_trunc_nums([nmax_r, nmax_r, nmax_f, nmax_f])\n",
    "_ = qubit_qubit.diag(6)"
   ],
   "metadata": {
    "collapsed": false,
    "ExecuteTime": {
     "end_time": "2023-12-19T11:11:40.218216600Z",
     "start_time": "2023-12-19T11:11:38.933060600Z"
    }
   }
  },
  {
   "cell_type": "code",
   "execution_count": 73,
   "outputs": [
    {
     "data": {
      "text/plain": "array([0.000000000000, 1.908100125774, 1.908100125774, 3.816200251549, 6.067760048314, 6.067760048314])"
     },
     "execution_count": 73,
     "metadata": {},
     "output_type": "execute_result"
    }
   ],
   "source": [
    "qubit_qubit.efreqs-qubit_qubit.efreqs[0]"
   ],
   "metadata": {
    "collapsed": false,
    "ExecuteTime": {
     "end_time": "2023-12-19T11:11:40.233842400Z",
     "start_time": "2023-12-19T11:11:40.218216600Z"
    }
   }
  },
  {
   "cell_type": "code",
   "execution_count": 74,
   "outputs": [],
   "source": [
    "E_0 = sq_ext.diag(H_0,6, out='GHz')[0]"
   ],
   "metadata": {
    "collapsed": false,
    "ExecuteTime": {
     "end_time": "2023-12-19T11:11:41.168667Z",
     "start_time": "2023-12-19T11:11:40.486367100Z"
    }
   }
  },
  {
   "cell_type": "code",
   "execution_count": 75,
   "outputs": [
    {
     "data": {
      "text/plain": "array([0.000000000000, 1.908099440162, 1.908099440163, 3.816198880325, 6.067754862726, 6.067754862726])"
     },
     "execution_count": 75,
     "metadata": {},
     "output_type": "execute_result"
    }
   ],
   "source": [
    "E_0-E_0[0]"
   ],
   "metadata": {
    "collapsed": false,
    "ExecuteTime": {
     "end_time": "2023-12-19T11:11:41.184315300Z",
     "start_time": "2023-12-19T11:11:41.168667Z"
    }
   }
  },
  {
   "cell_type": "markdown",
   "source": [
    "### Two qubits capacitively coupled"
   ],
   "metadata": {
    "collapsed": false
   }
  },
  {
   "cell_type": "code",
   "execution_count": 76,
   "outputs": [
    {
     "data": {
      "text/plain": "<IPython.core.display.Latex object>",
      "text/latex": "$\\hat{H} =~\\omega_1\\hat a^\\dagger_1\\hat a_1~+~\\omega_2\\hat a^\\dagger_2\\hat a_2~+~\\omega_3\\hat a^\\dagger_3\\hat a_3~+~\\omega_4\\hat a^\\dagger_4\\hat a_4~~-~E_{J_{1}}\\cos(-0.630002\\hat{\\varphi}_1-\\hat{\\varphi}_2+0.989239\\hat{\\varphi}_3+\\hat{\\varphi}_4+\\varphi_{\\text{ext}_{1}})~-~E_{J_{2}}\\cos(\\hat{\\varphi}_1-0.546778\\hat{\\varphi}_2-\\hat{\\varphi}_3+0.990946\\hat{\\varphi}_4+\\varphi_{\\text{ext}_{2}})$"
     },
     "metadata": {},
     "output_type": "display_data"
    },
    {
     "data": {
      "text/plain": "<IPython.core.display.Latex object>",
      "text/latex": "$------------------------------------------------------------$"
     },
     "metadata": {},
     "output_type": "display_data"
    },
    {
     "data": {
      "text/plain": "<IPython.core.display.Latex object>",
      "text/latex": "$\\text{mode}~1:~~~~~~~~~~~\\text{harmonic}~~~~~~~~~~~\\hat{\\varphi}_1~=~\\varphi_{zp_{1}}(\\hat a_1+\\hat a^\\dagger_1)~~~~~~~~~~~\\omega_1/2\\pi~=~7.09654~~~~~~~~~~~\\varphi_{zp_{1}}~=~4.56e-02$"
     },
     "metadata": {},
     "output_type": "display_data"
    },
    {
     "data": {
      "text/plain": "<IPython.core.display.Latex object>",
      "text/latex": "$\\text{mode}~2:~~~~~~~~~~~\\text{harmonic}~~~~~~~~~~~\\hat{\\varphi}_2~=~\\varphi_{zp_{2}}(\\hat a_2+\\hat a^\\dagger_2)~~~~~~~~~~~\\omega_2/2\\pi~=~6.87874~~~~~~~~~~~\\varphi_{zp_{2}}~=~5.51e-02$"
     },
     "metadata": {},
     "output_type": "display_data"
    },
    {
     "data": {
      "text/plain": "<IPython.core.display.Latex object>",
      "text/latex": "$\\text{mode}~3:~~~~~~~~~~~\\text{harmonic}~~~~~~~~~~~\\hat{\\varphi}_3~=~\\varphi_{zp_{3}}(\\hat a_3+\\hat a^\\dagger_3)~~~~~~~~~~~\\omega_3/2\\pi~=~6.26891~~~~~~~~~~~\\varphi_{zp_{3}}~=~4.91e-01$"
     },
     "metadata": {},
     "output_type": "display_data"
    },
    {
     "data": {
      "text/plain": "<IPython.core.display.Latex object>",
      "text/latex": "$\\text{mode}~4:~~~~~~~~~~~\\text{harmonic}~~~~~~~~~~~\\hat{\\varphi}_4~=~\\varphi_{zp_{4}}(\\hat a_4+\\hat a^\\dagger_4)~~~~~~~~~~~\\omega_4/2\\pi~=~6.20855~~~~~~~~~~~\\varphi_{zp_{4}}~=~4.88e-01$"
     },
     "metadata": {},
     "output_type": "display_data"
    },
    {
     "data": {
      "text/plain": "<IPython.core.display.Latex object>",
      "text/latex": "$------------------------------------------------------------$"
     },
     "metadata": {},
     "output_type": "display_data"
    },
    {
     "data": {
      "text/plain": "<IPython.core.display.Latex object>",
      "text/latex": "$\\text{parameters}:~~~~~~~~~~~E_{J_{1}}~=~10.0~~~~~~~~~~~E_{J_{2}}~=~10.0~~~~~~~~~~~$"
     },
     "metadata": {},
     "output_type": "display_data"
    },
    {
     "data": {
      "text/plain": "<IPython.core.display.Latex object>",
      "text/latex": "$\\text{loops}:~~~~~~~~~~~~~~~~~~~~\\varphi_{\\text{ext}_{1}}/2\\pi~=~0.5~~~~~~~~~~~\\varphi_{\\text{ext}_{2}}/2\\pi~=~0.5~~~~~~~~~~~$"
     },
     "metadata": {},
     "output_type": "display_data"
    }
   ],
   "source": [
    "elements_qubit_C_qubit = {\n",
    "    # qubit 1, nodes [0, 1, 2, 3]\n",
    "    (0, 3): [L_03[1]],\n",
    "    (0, 1): [C_01_rc[1]],\n",
    "    (0, 2): [C_02[1]],\n",
    "    (3, 1): [L_31[1]],\n",
    "    (1, 2): [C_12[1], JJ_12[1]],\n",
    "    (2, 3): [L_23[1]],\n",
    "    # qubit 2, nodes [0, 4, 5, 6]\n",
    "    (0, 6): [L_03[2]],\n",
    "    (0, 4): [C_01[2]],\n",
    "    (0, 5): [C_02_rc[2]],\n",
    "    (6, 4): [L_31[2]],\n",
    "    (4, 5): [C_12[2], JJ_12[2]],\n",
    "    (5, 6): [L_23[2]],\n",
    "    # capacitive coupling\n",
    "    (2, 4): [C_24]\n",
    "}\n",
    "\n",
    "qubit_C_qubit = sq.Circuit(elements_qubit_C_qubit)\n",
    "qubit_C_qubit.description()"
   ],
   "metadata": {
    "collapsed": false,
    "ExecuteTime": {
     "end_time": "2023-12-19T11:11:46.425573700Z",
     "start_time": "2023-12-19T11:11:46.342662Z"
    }
   }
  },
  {
   "cell_type": "code",
   "execution_count": 84,
   "outputs": [],
   "source": [
    "qubit_C_qubit.set_trunc_nums([nmax_r, nmax_r, nmax_f, nmax_f])\n",
    "_ = qubit_C_qubit.diag(6)"
   ],
   "metadata": {
    "collapsed": false,
    "ExecuteTime": {
     "end_time": "2023-12-19T11:18:11.439655300Z",
     "start_time": "2023-12-19T11:17:19.590733100Z"
    }
   }
  },
  {
   "cell_type": "code",
   "execution_count": 85,
   "outputs": [
    {
     "data": {
      "text/plain": "array([0.000000000000, 1.899945398596, 1.916838573655, 3.815695110445, 6.066045699127, 6.068870504464])"
     },
     "execution_count": 85,
     "metadata": {},
     "output_type": "execute_result"
    }
   ],
   "source": [
    "qubit_C_qubit.efreqs-qubit_C_qubit.efreqs[0]"
   ],
   "metadata": {
    "collapsed": false,
    "ExecuteTime": {
     "end_time": "2023-12-19T11:18:14.143311Z",
     "start_time": "2023-12-19T11:18:14.129819Z"
    }
   }
  },
  {
   "cell_type": "code",
   "execution_count": 82,
   "outputs": [],
   "source": [
    "E = sq_ext.diag(H,6, out='GHz')[0]"
   ],
   "metadata": {
    "collapsed": false,
    "ExecuteTime": {
     "end_time": "2023-12-19T11:17:06.878892600Z",
     "start_time": "2023-12-19T11:17:06.230816400Z"
    }
   }
  },
  {
   "cell_type": "code",
   "execution_count": 83,
   "outputs": [
    {
     "data": {
      "text/plain": "array([0.000000000000, 1.908099440162, 1.908099440163, 3.816198880325, 6.067754862725, 6.067754862726])"
     },
     "execution_count": 83,
     "metadata": {},
     "output_type": "execute_result"
    }
   ],
   "source": [
    "E-E[0]"
   ],
   "metadata": {
    "collapsed": false,
    "ExecuteTime": {
     "end_time": "2023-12-19T11:17:07.289437400Z",
     "start_time": "2023-12-19T11:17:07.280719600Z"
    }
   }
  },
  {
   "cell_type": "markdown",
   "source": [
    "# Effective hamiltonians"
   ],
   "metadata": {
    "collapsed": false
   }
  },
  {
   "cell_type": "code",
   "execution_count": 92,
   "outputs": [],
   "source": [
    "n_eig = 6"
   ],
   "metadata": {
    "collapsed": false,
    "ExecuteTime": {
     "end_time": "2023-12-19T11:37:14.245760300Z",
     "start_time": "2023-12-19T11:37:14.230078500Z"
    }
   }
  },
  {
   "cell_type": "code",
   "execution_count": 93,
   "outputs": [
    {
     "data": {
      "text/plain": "array([[13.4492+0.j    , -0.    +0.j    ,  0.    +0.j    , -0.    -0.j    ,  0.    +0.j    ,  0.    -0.j    ],\n       [-0.    -0.j    , 15.3573-0.j    ,  0.5077-0.0639j,  0.    +0.j    ,  0.    +0.j    , -0.    +0.j    ],\n       [ 0.    -0.j    ,  0.5077+0.0639j, 15.3573-0.j    ,  0.    -0.j    ,  0.    +0.j    , -0.    +0.j    ],\n       [-0.    +0.j    ,  0.    -0.j    ,  0.    +0.j    , 17.2654+0.j    ,  0.    -0.j    , -0.    -0.j    ],\n       [ 0.    -0.j    ,  0.    -0.j    ,  0.    -0.j    ,  0.    +0.j    , 19.5169+0.j    , -0.0603+0.016j ],\n       [ 0.    +0.j    , -0.    -0.j    , -0.    -0.j    , -0.    +0.j    , -0.0603-0.016j , 19.5169-0.j    ]])"
     },
     "execution_count": 93,
     "metadata": {},
     "output_type": "execute_result"
    }
   ],
   "source": [
    "np.round(sq_ext.H_eff_p1(H_0, H, n_eig),4)"
   ],
   "metadata": {
    "collapsed": false,
    "ExecuteTime": {
     "end_time": "2023-12-19T11:37:15.647653900Z",
     "start_time": "2023-12-19T11:37:14.575093100Z"
    }
   }
  },
  {
   "cell_type": "code",
   "execution_count": 94,
   "outputs": [
    {
     "data": {
      "text/plain": "array([[13.449156877160, -0.000000000000, -0.000000000000, -0.000000000000, 0.000000000000, 0.000000000000],\n       [-0.000000000000, 15.357256317323, 0.000000000000, -0.000000000000, -0.000000000000, 0.000000000000],\n       [-0.000000000000, 0.000000000000, 15.357256317323, 0.000000000000, 0.000000000000, -0.000000000000],\n       [-0.000000000000, -0.000000000000, 0.000000000000, 17.265355757485, -0.000000000000, 0.000000000000],\n       [0.000000000000, -0.000000000000, 0.000000000000, -0.000000000000, 19.516911739886, -0.000000000000],\n       [0.000000000000, 0.000000000000, -0.000000000000, 0.000000000000, -0.000000000000, 19.516911739886]])"
     },
     "execution_count": 94,
     "metadata": {},
     "output_type": "execute_result"
    }
   ],
   "source": [
    "sq_ext.H_eff_SWT(H_0, H, n_eig)"
   ],
   "metadata": {
    "collapsed": false,
    "ExecuteTime": {
     "end_time": "2023-12-19T11:37:18.675322200Z",
     "start_time": "2023-12-19T11:37:17.380239500Z"
    }
   }
  },
  {
   "cell_type": "code",
   "execution_count": null,
   "outputs": [],
   "source": [],
   "metadata": {
    "collapsed": false
   }
  }
 ],
 "metadata": {
  "kernelspec": {
   "display_name": "Python 3",
   "language": "python",
   "name": "python3"
  },
  "language_info": {
   "codemirror_mode": {
    "name": "ipython",
    "version": 2
   },
   "file_extension": ".py",
   "mimetype": "text/x-python",
   "name": "python",
   "nbconvert_exporter": "python",
   "pygments_lexer": "ipython2",
   "version": "2.7.6"
  }
 },
 "nbformat": 4,
 "nbformat_minor": 5
}
