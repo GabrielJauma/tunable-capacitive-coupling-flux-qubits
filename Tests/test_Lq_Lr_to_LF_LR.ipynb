{
 "cells": [
  {
   "cell_type": "code",
   "execution_count": 23,
   "id": "initial_id",
   "metadata": {
    "collapsed": true,
    "ExecuteTime": {
     "end_time": "2024-05-12T12:58:19.735405200Z",
     "start_time": "2024-05-12T12:58:19.709970900Z"
    }
   },
   "source": [
    "import Modules.SQcircuit_extensions as sq_ext\n",
    "import importlib\n",
    "importlib.reload(sq_ext)"
   ],
   "outputs": []
  },
  {
   "cell_type": "code",
   "source": [
    "Lq = 25.154; Lr = 32.654; Δ= 10"
   ],
   "metadata": {
    "collapsed": false,
    "ExecuteTime": {
     "end_time": "2024-05-12T12:58:44.752189400Z",
     "start_time": "2024-05-12T12:58:44.734232900Z"
    }
   },
   "id": "3d3d6e5692dd0e2b",
   "execution_count": 33,
   "outputs": []
  },
  {
   "cell_type": "code",
   "source": [
    "LF, LR = sq_ext.Lq_Lr_to_LF_LR_eff(Lq=Lq, Lr=Lr, Δ=Δ)\n",
    "print(LF, LR)"
   ],
   "metadata": {
    "collapsed": false,
    "ExecuteTime": {
     "end_time": "2024-05-12T12:58:44.929524700Z",
     "start_time": "2024-05-12T12:58:44.924678900Z"
    }
   },
   "id": "6d3161ea6b4a66bf",
   "execution_count": 34,
   "outputs": []
  },
  {
   "cell_type": "code",
   "source": [
    "Lq, Lr = sq_ext.LF_LR_eff_to_Lq_Lr(LF=LF, LR=LR, Δ=Δ)\n",
    "print(Lq, Lr)"
   ],
   "metadata": {
    "collapsed": false,
    "ExecuteTime": {
     "end_time": "2024-05-12T12:58:45.292160Z",
     "start_time": "2024-05-12T12:58:45.284550600Z"
    }
   },
   "id": "66a97c5f4b1e8e27",
   "execution_count": 35,
   "outputs": []
  },
  {
   "cell_type": "code",
   "source": [],
   "metadata": {
    "collapsed": false
   },
   "id": "9ee8f6ee094bd329",
   "execution_count": null,
   "outputs": []
  }
 ],
 "metadata": {
  "kernelspec": {
   "display_name": "Python 3",
   "language": "python",
   "name": "python3"
  },
  "language_info": {
   "codemirror_mode": {
    "name": "ipython",
    "version": 2
   },
   "file_extension": ".py",
   "mimetype": "text/x-python",
   "name": "python",
   "nbconvert_exporter": "python",
   "pygments_lexer": "ipython2",
   "version": "2.7.6"
  }
 },
 "nbformat": 4,
 "nbformat_minor": 5
}
