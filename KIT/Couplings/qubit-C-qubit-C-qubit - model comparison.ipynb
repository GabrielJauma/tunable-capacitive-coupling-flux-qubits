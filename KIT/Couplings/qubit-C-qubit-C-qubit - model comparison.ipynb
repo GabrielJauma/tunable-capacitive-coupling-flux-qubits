{
 "cells": [
  {
   "cell_type": "code",
   "outputs": [],
   "source": [
    "import Modules.SQcircuit_extensions as sq_ext\n",
    "import Modules.figures as figs\n",
    "import SQcircuit as sq\n",
    "import numpy as np\n",
    "import matplotlib.pyplot as plt\n",
    "from importlib import reload\n",
    "from scipy.linalg import eigh\n",
    "import qutip as qt\n",
    "import sympy as sym\n",
    "\n",
    "%matplotlib ipympl\n",
    "plt.rcParams['text.usetex'] = False\n",
    "reload(sq_ext)\n",
    "reload(sq)\n",
    "reload(figs)\n",
    "np.set_printoptions(linewidth=300, formatter={'float': '{:.12f}'.format})"
   ],
   "metadata": {
    "collapsed": false,
    "ExecuteTime": {
     "end_time": "2024-03-04T11:02:45.005144250Z",
     "start_time": "2024-03-04T11:02:44.660080066Z"
    }
   },
   "id": "5ef0e7158198c0cf",
   "execution_count": 1
  },
  {
   "cell_type": "markdown",
   "source": [
    "# Comparison of sqcircuit, numeric and spin-boson models vs truncation"
   ],
   "metadata": {
    "collapsed": false
   },
   "id": "ebe59b76782aa022"
  },
  {
   "cell_type": "code",
   "outputs": [
    {
     "name": "stdout",
     "output_type": "stream",
     "text": [
      "5\n",
      "6\n"
     ]
    },
    {
     "ename": "KeyboardInterrupt",
     "evalue": "",
     "output_type": "error",
     "traceback": [
      "\u001B[0;31m---------------------------------------------------------------------------\u001B[0m",
      "\u001B[0;31mKeyboardInterrupt\u001B[0m                         Traceback (most recent call last)",
      "Cell \u001B[0;32mIn[2], line 24\u001B[0m\n\u001B[1;32m     21\u001B[0m \u001B[38;5;28;01melse\u001B[39;00m:\n\u001B[1;32m     22\u001B[0m     \u001B[38;5;66;03m# H_sq = sq_ext.sq_qubit_C_qubit_C_qubit(Cc, nmax_r=nmax_r, nmax_f=nmax_f)\u001B[39;00m\n\u001B[1;32m     23\u001B[0m     H_sq \u001B[38;5;241m=\u001B[39m sq_ext\u001B[38;5;241m.\u001B[39msq_qubit_C_qubit_C_qubit_not_periodic(Cc, nmax_r\u001B[38;5;241m=\u001B[39mnmax_r, nmax_f\u001B[38;5;241m=\u001B[39mnmax_f)\n\u001B[0;32m---> 24\u001B[0m     \u001B[43mH_sq\u001B[49m\u001B[38;5;241;43m.\u001B[39;49m\u001B[43mdiag\u001B[49m\u001B[43m(\u001B[49m\u001B[43mn_eig\u001B[49m\u001B[43m)\u001B[49m\n\u001B[1;32m     25\u001B[0m     E_sq\u001B[38;5;241m.\u001B[39mappend(H_sq\u001B[38;5;241m.\u001B[39mefreqs\u001B[38;5;241m-\u001B[39mH_sq\u001B[38;5;241m.\u001B[39mefreqs[\u001B[38;5;241m0\u001B[39m])\n\u001B[1;32m     26\u001B[0m     \u001B[38;5;28;01mdel\u001B[39;00m(H_sq)\n",
      "File \u001B[0;32m~/anaconda3/envs/tunable-cc/lib/python3.8/site-packages/SQcircuit/circuit.py:1561\u001B[0m, in \u001B[0;36mCircuit.diag\u001B[0;34m(self, n_eig, solver, real)\u001B[0m\n\u001B[1;32m   1558\u001B[0m error2 \u001B[38;5;241m=\u001B[39m \u001B[38;5;124m\"\u001B[39m\u001B[38;5;124mn_eig (number of eigenvalues) should be an integer.\u001B[39m\u001B[38;5;124m\"\u001B[39m\n\u001B[1;32m   1559\u001B[0m \u001B[38;5;28;01massert\u001B[39;00m \u001B[38;5;28misinstance\u001B[39m(n_eig, \u001B[38;5;28mint\u001B[39m), error2\n\u001B[0;32m-> 1561\u001B[0m H \u001B[38;5;241m=\u001B[39m \u001B[38;5;28;43mself\u001B[39;49m\u001B[38;5;241;43m.\u001B[39;49m\u001B[43mhamiltonian\u001B[49m\u001B[43m(\u001B[49m\u001B[43m)\u001B[49m\n\u001B[1;32m   1563\u001B[0m \u001B[38;5;66;03m# get the data out of qutip variable and use sparse scipy eigen\u001B[39;00m\n\u001B[1;32m   1564\u001B[0m \u001B[38;5;66;03m# solver which is faster.\u001B[39;00m\n\u001B[1;32m   1565\u001B[0m \u001B[38;5;28;01mif\u001B[39;00m solver \u001B[38;5;241m==\u001B[39m \u001B[38;5;124m'\u001B[39m\u001B[38;5;124mscipy\u001B[39m\u001B[38;5;124m'\u001B[39m:\n",
      "File \u001B[0;32m~/anaconda3/envs/tunable-cc/lib/python3.8/site-packages/SQcircuit/circuit.py:1624\u001B[0m, in \u001B[0;36mCircuit.hamiltonian\u001B[0;34m(self)\u001B[0m\n\u001B[1;32m   1621\u001B[0m error \u001B[38;5;241m=\u001B[39m \u001B[38;5;124m\"\u001B[39m\u001B[38;5;124mPlease specify the truncation number for each mode.\u001B[39m\u001B[38;5;124m\"\u001B[39m\n\u001B[1;32m   1622\u001B[0m \u001B[38;5;28;01massert\u001B[39;00m \u001B[38;5;28mlen\u001B[39m(\u001B[38;5;28mself\u001B[39m\u001B[38;5;241m.\u001B[39mm) \u001B[38;5;241m!=\u001B[39m \u001B[38;5;241m0\u001B[39m, error\n\u001B[0;32m-> 1624\u001B[0m Hind \u001B[38;5;241m=\u001B[39m \u001B[38;5;28;43mself\u001B[39;49m\u001B[38;5;241;43m.\u001B[39;49m\u001B[43m_get_inductive_hamil\u001B[49m\u001B[43m(\u001B[49m\u001B[43m)\u001B[49m\n\u001B[1;32m   1626\u001B[0m H \u001B[38;5;241m=\u001B[39m Hind \u001B[38;5;241m+\u001B[39m \u001B[38;5;28mself\u001B[39m\u001B[38;5;241m.\u001B[39m_LC_hamil\n\u001B[1;32m   1628\u001B[0m \u001B[38;5;28;01mreturn\u001B[39;00m H\n",
      "File \u001B[0;32m~/anaconda3/envs/tunable-cc/lib/python3.8/site-packages/SQcircuit/circuit.py:1366\u001B[0m, in \u001B[0;36mCircuit._get_inductive_hamil\u001B[0;34m(self)\u001B[0m\n\u001B[1;32m   1363\u001B[0m EJ \u001B[38;5;241m=\u001B[39m el\u001B[38;5;241m.\u001B[39mvalue(\u001B[38;5;28mself\u001B[39m\u001B[38;5;241m.\u001B[39mrandom)\n\u001B[1;32m   1365\u001B[0m exp \u001B[38;5;241m=\u001B[39m np\u001B[38;5;241m.\u001B[39mexp(\u001B[38;5;241m1\u001B[39mj \u001B[38;5;241m*\u001B[39m phi) \u001B[38;5;241m*\u001B[39m \u001B[38;5;28mself\u001B[39m\u001B[38;5;241m.\u001B[39m_memory_ops[\u001B[38;5;124m\"\u001B[39m\u001B[38;5;124mexp\u001B[39m\u001B[38;5;124m\"\u001B[39m][W_idx]\n\u001B[0;32m-> 1366\u001B[0m root_exp \u001B[38;5;241m=\u001B[39m \u001B[43mnp\u001B[49m\u001B[38;5;241;43m.\u001B[39;49m\u001B[43mexp\u001B[49m\u001B[43m(\u001B[49m\u001B[38;5;241;43m1\u001B[39;49m\u001B[43mj\u001B[49m\u001B[43m \u001B[49m\u001B[38;5;241;43m*\u001B[39;49m\u001B[43m \u001B[49m\u001B[43mphi\u001B[49m\u001B[43m \u001B[49m\u001B[38;5;241;43m/\u001B[39;49m\u001B[43m \u001B[49m\u001B[38;5;241;43m2\u001B[39;49m\u001B[43m)\u001B[49m\u001B[43m \u001B[49m\u001B[38;5;241;43m*\u001B[39;49m\u001B[43m \u001B[49m\u001B[38;5;28;43mself\u001B[39;49m\u001B[38;5;241;43m.\u001B[39;49m\u001B[43m_memory_ops\u001B[49m\u001B[43m[\u001B[49m\u001B[38;5;124;43m\"\u001B[39;49m\u001B[38;5;124;43mroot_exp\u001B[39;49m\u001B[38;5;124;43m\"\u001B[39;49m\u001B[43m]\u001B[49m\u001B[43m[\u001B[49m\n\u001B[1;32m   1367\u001B[0m \u001B[43m    \u001B[49m\u001B[43mW_idx\u001B[49m\u001B[43m]\u001B[49m\n\u001B[1;32m   1369\u001B[0m cos \u001B[38;5;241m=\u001B[39m (exp \u001B[38;5;241m+\u001B[39m exp\u001B[38;5;241m.\u001B[39mdag()) \u001B[38;5;241m/\u001B[39m \u001B[38;5;241m2\u001B[39m\n\u001B[1;32m   1370\u001B[0m sin \u001B[38;5;241m=\u001B[39m (exp \u001B[38;5;241m-\u001B[39m exp\u001B[38;5;241m.\u001B[39mdag()) \u001B[38;5;241m/\u001B[39m \u001B[38;5;241m2\u001B[39mj\n",
      "File \u001B[0;32m~/anaconda3/envs/tunable-cc/lib/python3.8/site-packages/qutip/qobj.py:614\u001B[0m, in \u001B[0;36mQobj.__rmul__\u001B[0;34m(self, other)\u001B[0m\n\u001B[1;32m    612\u001B[0m \u001B[38;5;28;01melif\u001B[39;00m \u001B[38;5;28misinstance\u001B[39m(other, numbers\u001B[38;5;241m.\u001B[39mNumber):\n\u001B[1;32m    613\u001B[0m     out \u001B[38;5;241m=\u001B[39m Qobj()\n\u001B[0;32m--> 614\u001B[0m     out\u001B[38;5;241m.\u001B[39mdata \u001B[38;5;241m=\u001B[39m \u001B[43mother\u001B[49m\u001B[43m \u001B[49m\u001B[38;5;241;43m*\u001B[39;49m\u001B[43m \u001B[49m\u001B[38;5;28;43mself\u001B[39;49m\u001B[38;5;241;43m.\u001B[39;49m\u001B[43mdata\u001B[49m\n\u001B[1;32m    615\u001B[0m     out\u001B[38;5;241m.\u001B[39mdims \u001B[38;5;241m=\u001B[39m \u001B[38;5;28mself\u001B[39m\u001B[38;5;241m.\u001B[39mdims\n\u001B[1;32m    616\u001B[0m     out\u001B[38;5;241m.\u001B[39msuperrep \u001B[38;5;241m=\u001B[39m \u001B[38;5;28mself\u001B[39m\u001B[38;5;241m.\u001B[39msuperrep\n",
      "File \u001B[0;32m~/anaconda3/envs/tunable-cc/lib/python3.8/site-packages/scipy/sparse/_base.py:620\u001B[0m, in \u001B[0;36mspmatrix.__rmul__\u001B[0;34m(self, other)\u001B[0m\n\u001B[1;32m    619\u001B[0m \u001B[38;5;28;01mdef\u001B[39;00m \u001B[38;5;21m__rmul__\u001B[39m(\u001B[38;5;28mself\u001B[39m, other):  \u001B[38;5;66;03m# other * self\u001B[39;00m\n\u001B[0;32m--> 620\u001B[0m     \u001B[38;5;28;01mreturn\u001B[39;00m \u001B[38;5;28;43mself\u001B[39;49m\u001B[38;5;241;43m.\u001B[39;49m\u001B[43m_rmul_dispatch\u001B[49m\u001B[43m(\u001B[49m\u001B[43mother\u001B[49m\u001B[43m)\u001B[49m\n",
      "File \u001B[0;32m~/anaconda3/envs/tunable-cc/lib/python3.8/site-packages/scipy/sparse/_base.py:607\u001B[0m, in \u001B[0;36mspmatrix._rmul_dispatch\u001B[0;34m(self, other)\u001B[0m\n\u001B[1;32m    605\u001B[0m \u001B[38;5;28;01mdef\u001B[39;00m \u001B[38;5;21m_rmul_dispatch\u001B[39m(\u001B[38;5;28mself\u001B[39m, other):\n\u001B[1;32m    606\u001B[0m     \u001B[38;5;28;01mif\u001B[39;00m isscalarlike(other):\n\u001B[0;32m--> 607\u001B[0m         \u001B[38;5;28;01mreturn\u001B[39;00m \u001B[38;5;28;43mself\u001B[39;49m\u001B[38;5;241;43m.\u001B[39;49m\u001B[43m_mul_scalar\u001B[49m\u001B[43m(\u001B[49m\u001B[43mother\u001B[49m\u001B[43m)\u001B[49m\n\u001B[1;32m    608\u001B[0m     \u001B[38;5;28;01melse\u001B[39;00m:\n\u001B[1;32m    609\u001B[0m         \u001B[38;5;66;03m# Don't use asarray unless we have to\u001B[39;00m\n\u001B[1;32m    610\u001B[0m         \u001B[38;5;28;01mtry\u001B[39;00m:\n",
      "File \u001B[0;32m~/anaconda3/envs/tunable-cc/lib/python3.8/site-packages/scipy/sparse/_data.py:124\u001B[0m, in \u001B[0;36m_data_matrix._mul_scalar\u001B[0;34m(self, other)\u001B[0m\n\u001B[1;32m    123\u001B[0m \u001B[38;5;28;01mdef\u001B[39;00m \u001B[38;5;21m_mul_scalar\u001B[39m(\u001B[38;5;28mself\u001B[39m, other):\n\u001B[0;32m--> 124\u001B[0m     \u001B[38;5;28;01mreturn\u001B[39;00m \u001B[38;5;28mself\u001B[39m\u001B[38;5;241m.\u001B[39m_with_data(\u001B[38;5;28;43mself\u001B[39;49m\u001B[38;5;241;43m.\u001B[39;49m\u001B[43mdata\u001B[49m\u001B[43m \u001B[49m\u001B[38;5;241;43m*\u001B[39;49m\u001B[43m \u001B[49m\u001B[43mother\u001B[49m)\n",
      "\u001B[0;31mKeyboardInterrupt\u001B[0m: "
     ]
    }
   ],
   "source": [
    "Cc = 0.1\n",
    "n_eig = 3\n",
    "# nmax_r_values = np.array([7, 7, 9,  9, 11, 11, 13, 13, 15])\n",
    "# nmax_f_values = np.array([7, 9, 9, 11, 11, 13, 13, 15, 15])\n",
    "nmax_r_values = np.array([3, 3, 3, 3, 3])\n",
    "nmax_f_values = np.array([5, 6, 7, 8, 9])\n",
    "\n",
    "E_sq = []\n",
    "E_n  = []\n",
    "\n",
    "for nmax_r, nmax_f in zip(nmax_r_values, nmax_f_values):\n",
    "    print(nmax_f)\n",
    "    \n",
    "    H_n = sq_ext.hamiltonian_qubit_C_qubit_C_qubit(nmax_r=nmax_r, nmax_f=nmax_f, Cc=Cc, periodic=False)\n",
    "    E = sq_ext.diag(H_n, n_eig, out='GHz')[0]\n",
    "    E_n.append(E-E[0])\n",
    "    del(H_n)\n",
    "    \n",
    "    if nmax_f >= 9:\n",
    "        continue\n",
    "    else:\n",
    "        # H_sq = sq_ext.sq_qubit_C_qubit_C_qubit(Cc, nmax_r=nmax_r, nmax_f=nmax_f)\n",
    "        H_sq = sq_ext.sq_qubit_C_qubit_C_qubit_not_periodic(Cc, nmax_r=nmax_r, nmax_f=nmax_f)\n",
    "        H_sq.diag(n_eig)\n",
    "        E_sq.append(H_sq.efreqs-H_sq.efreqs[0])\n",
    "        del(H_sq)\n",
    "    \n",
    "E_sq = np.array(E_sq )\n",
    "E_n  = np.array(E_n  )"
   ],
   "metadata": {
    "collapsed": false,
    "ExecuteTime": {
     "end_time": "2024-03-04T11:02:38.691060100Z",
     "start_time": "2024-03-04T11:02:29.206157612Z"
    }
   },
   "id": "185f95e9f6f02945",
   "execution_count": 2
  },
  {
   "cell_type": "code",
   "outputs": [],
   "source": [
    "fig, [ax1,ax2] = plt.subplots(ncols=2)\n",
    "\n",
    "for i, ax in enumerate([ax1,ax2]):\n",
    "    ax.plot(E_sq[:,i+1], 'r')\n",
    "    ax.plot(E_n [:,i+1], 'g')\n",
    "\n",
    "fig.show()"
   ],
   "metadata": {
    "collapsed": false,
    "ExecuteTime": {
     "end_time": "2024-03-04T11:02:38.691680563Z",
     "start_time": "2024-03-04T11:02:38.691488256Z"
    }
   },
   "id": "e8244991068eb037",
   "execution_count": null
  },
  {
   "cell_type": "code",
   "outputs": [],
   "source": [
    "Cc_values = np.geomspace( 1e-3, 1, 10)\n",
    "n_eig = 3\n",
    "nmax_r = 4\n",
    "nmax_f = 12 \n",
    "\n",
    "E_sq = []\n",
    "E_n  = []\n",
    "E_sb = []\n",
    "\n",
    "for Cc in Cc_values:\n",
    "    print(Cc)\n",
    "    \n",
    "    H_n = sq_ext.hamiltonian_qubit_C_qubit(nmax_r=nmax_r, nmax_f=nmax_f, Cc=Cc)\n",
    "    E = sq_ext.diag(H_n, n_eig, out='GHz')[0]\n",
    "    E_n.append(E-E[0])\n",
    "    del(H_n)\n",
    "\n",
    "    H_sb = sq_ext.spin_boson_qubit_C_qubit(nmax_r=nmax_r, nmax_f=nmax_f, Cc=Cc)\n",
    "    E = eigh(H_sb, eigvals_only=True)\n",
    "    E_sb.append(E-E[0])\n",
    "    del(H_sb)\n",
    "    \n",
    "    H_sq = sq_ext.sq_qubit_C_qubit(Cc, nmax_r=nmax_r, nmax_f=nmax_f)\n",
    "    H_sq.diag(n_eig)\n",
    "    E_sq.append(H_sq.efreqs-H_sq.efreqs[0])\n",
    "    del(H_sq)\n",
    "    \n",
    "E_sq = np.array(E_sq )\n",
    "E_n  = np.array(E_n  )\n",
    "E_sb = np.array(E_sb )   "
   ],
   "metadata": {
    "collapsed": false,
    "ExecuteTime": {
     "end_time": "2024-03-04T11:02:38.693141700Z",
     "start_time": "2024-03-04T11:02:38.691929546Z"
    }
   },
   "id": "540e073adeb69b6c",
   "execution_count": null
  },
  {
   "cell_type": "code",
   "outputs": [],
   "source": [
    "fig, [ax1, ax2] = plt.subplots(ncols=2, dpi =200)\n",
    "\n",
    "for i, ax in enumerate([ax1, ax2]):\n",
    "    ax.plot(Cc_values, E_sq[:, i + 1], 'r')\n",
    "    ax.plot(Cc_values, E_n[:, i + 1], '--g')\n",
    "    ax.plot(Cc_values, E_sb[:, i + 1], 'b')\n",
    "    \n",
    "ax.set_xscale('log')\n",
    "fig.tight_layout()\n",
    "fig.show()"
   ],
   "metadata": {
    "collapsed": false,
    "ExecuteTime": {
     "start_time": "2024-03-04T11:02:38.692534792Z"
    }
   },
   "id": "1ccf0d6e7380edb5",
   "execution_count": null
  },
  {
   "cell_type": "code",
   "outputs": [],
   "source": [
    "sq_ext = reload(sq_ext)\n",
    "Cc = 1e-1\n",
    "nmax_r = 4\n",
    "nmax_f = 12 \n",
    "H_0 = sq_ext.hamiltonian_qubit_C_qubit_C_qubit(Cc=0 , nmax_r=nmax_r, nmax_f=nmax_f, only_outer=True)\n",
    "H = sq_ext.hamiltonian_qubit_C_qubit_C_qubit(Cc=0 , nmax_r=nmax_r, nmax_f=nmax_f, only_outer=True)\n",
    "# H   = sq_ext.hamiltonian_qubit_C_qubit_C_qubit(Cc=Cc, nmax_r=nmax_r, nmax_f=nmax_f)"
   ],
   "metadata": {
    "collapsed": false,
    "ExecuteTime": {
     "end_time": "2024-03-04T11:21:16.121063666Z",
     "start_time": "2024-03-04T11:21:16.077166809Z"
    }
   },
   "id": "7cf1596da4f3519f",
   "execution_count": 31
  },
  {
   "cell_type": "code",
   "outputs": [],
   "source": [
    "ψ_0 = qt.Qobj(H).eigenstates(sparse=True, eigvals=4, phase_fix=0)[1]"
   ],
   "metadata": {
    "collapsed": false,
    "ExecuteTime": {
     "end_time": "2024-03-04T11:25:57.147366393Z",
     "start_time": "2024-03-04T11:25:51.596733092Z"
    }
   },
   "id": "2b819051f1783ce4",
   "execution_count": 38
  },
  {
   "cell_type": "code",
   "outputs": [
    {
     "data": {
      "text/plain": "array([Quantum object: dims = [[4, 12, 4, 12, 4, 12], [1, 1, 1, 1, 1, 1]], shape = (110592, 1), type = ket\n       Qobj data =\n         (0, 0)\t(0.006875353105680666+0j)\n         (2, 0)\t(0.003054374746410276+0j)\n         (4, 0)\t(0.0007115585332827918+0j)\n         (6, 0)\t(-1.5213440643590097e-06+0j)\n         (8, 0)\t(-2.5613754432700424e-05+0j)\n         (10, 0)\t(3.3792457837270778e-06+0j)\n         (13, 0)\t(-2.1030943691910853e-05+0j)\n         (15, 0)\t(-1.1097930832716464e-05+0j)\n         (17, 0)\t(-2.2321861219466753e-06+0j)\n         (19, 0)\t(1.9011336563957796e-07+0j)\n         (21, 0)\t(8.503138672957329e-08+0j)\n         (23, 0)\t(-2.032549462929722e-08+0j)\n         (24, 0)\t(4.2478273937235394e-08+0j)\n         (26, 0)\t(6.548990682608252e-08+0j)\n         (28, 0)\t(3.113797853740747e-08+0j)\n         (30, 0)\t(4.524821303383063e-09+0j)\n         (32, 0)\t(-1.0089368551665342e-09+0j)\n         (34, 0)\t(-1.4397000925621668e-10+0j)\n         (37, 0)\t(-1.8126812952176564e-10+0j)\n         (39, 0)\t(-1.8652845938266497e-10+0j)\n         (41, 0)\t(-7.286740647827369e-11+0j)\n         (43, 0)\t(-5.442966935452468e-12+0j)\n         (45, 0)\t(3.169106552063959e-12+0j)\n         (48, 0)\t(-0.10578918933850842+0.24342735471053187j)\n         (50, 0)\t(-0.04699683396504806+0.10814257149919694j)\n         :\t:\n         (109634, 0)\t1.5534811624463797e-12j\n         (109680, 0)\t(-2.971317711390546e-12-4.000050975506183e-12j)\n         (109682, 0)\t(-1.3200075406420019e-12-1.7770221188446005e-12j)\n         (109776, 0)\t1.2052970844947404e-12j\n         (109872, 0)\t(-1.1321727834058665e-12+3.2978221122296967e-12j)\n         (109874, 0)\t1.4650570329445034e-12j\n         (109920, 0)\t(2.6563795031191775e-12+3.1089984262506212e-12j)\n         (109922, 0)\t(1.4798486175908865e-12+0j)\n         (109968, 0)\t(2.6280202384306433e-12+0j)\n         (109970, 0)\t(1.1674977106958265e-12+0j)\n         (110016, 0)\t(5.757759565009415e-12+4.3127418659170394e-12j)\n         (110018, 0)\t(2.876602195880424e-12+0j)\n         (110064, 0)\t(2.34625735926574e-12+2.1433319093550628e-12j)\n         (110066, 0)\t(1.2248524434556244e-12+0j)\n         (110160, 0)\t(-1.7579240142914746e-12+5.120526452252445e-12j)\n         (110162, 0)\t2.2747932620349223e-12j\n         (110256, 0)\t(-1.0112925746537765e-12+0j)\n         (110304, 0)\t-1.2881053706027664e-12j\n         (110352, 0)\t-2.0335187345834905e-12j\n         (110400, 0)\t(-2.6599924214838196e-12-4.157432245543002e-12j)\n         (110402, 0)\t(-1.1817012714505151e-12-1.8469388430981366e-12j)\n         (110448, 0)\t(2.4728000043188705e-12+0j)\n         (110450, 0)\t(1.0985411669474306e-12+0j)\n         (110496, 0)\t1.119938013385791e-12j\n         (110544, 0)\t(1.1365896320478204e-12+0j)                                                          , Quantum object: dims = [[4, 12, 4, 12, 4, 12], [1, 1, 1, 1, 1, 1]], shape = (110592, 1), type = ket\n                                                                                                            Qobj data =\n                                                                                                              (0, 0)\t(0.007282120804000962+0j)\n                                                                                                              (2, 0)\t(0.0032350812448703734+0j)\n                                                                                                              (4, 0)\t(0.0007536565931721322+0j)\n                                                                                                              (6, 0)\t(-1.6113516049026726e-06+0j)\n                                                                                                              (8, 0)\t(-2.712914539164762e-05+0j)\n                                                                                                              (10, 0)\t(3.579172683244353e-06+0j)\n                                                                                                              (13, 0)\t(-2.227520103079776e-05+0j)\n                                                                                                              (15, 0)\t(-1.1754519623331081e-05+0j)\n                                                                                                              (17, 0)\t(-2.364249333387334e-06+0j)\n                                                                                                              (19, 0)\t(2.0136107539026795e-07+0j)\n                                                                                                              (21, 0)\t(9.006211328619365e-08+0j)\n                                                                                                              (23, 0)\t(-2.1528015368075114e-08+0j)\n                                                                                                              (24, 0)\t(4.4991423363665154e-08+0j)\n                                                                                                              (26, 0)\t(6.936449744704643e-08+0j)\n                                                                                                              (28, 0)\t(3.298020011620195e-08+0j)\n                                                                                                              (30, 0)\t(4.792524083480787e-09+0j)\n                                                                                                              (32, 0)\t(-1.068628759494132e-09+0j)\n                                                                                                              (34, 0)\t(-1.5248773141791982e-10+0j)\n                                                                                                              (37, 0)\t(-1.9199252693731436e-10+0j)\n                                                                                                              (39, 0)\t(-1.9756407446755536e-10+0j)\n                                                                                                              (41, 0)\t(-7.71784733453152e-11+0j)\n                                                                                                              (43, 0)\t(-5.764990436773701e-12+0j)\n                                                                                                              (45, 0)\t(3.356600911329891e-12+0j)\n                                                                                                              (48, 0)\t(-0.12855829858459322+0.04390392025101422j)\n                                                                                                              (50, 0)\t(-0.05711200786383087+0.019504311010922492j)\n                                                                                                              :\t:\n                                                                                                              (109154, 0)\t(2.252186524246632e-12+0j)\n                                                                                                              (109200, 0)\t(3.475560150729046e-12-2.654434543952313e-12j)\n                                                                                                              (109202, 0)\t(1.5440171586373912e-12-1.179232211383962e-12j)\n                                                                                                              (109392, 0)\t(3.3326712310049517e-12+1.7218848416252518e-12j)\n                                                                                                              (109394, 0)\t1.197305774115139e-12j\n                                                                                                              (109440, 0)\t(-3.3812780574059815e-12+0j)\n                                                                                                              (109442, 0)\t(-1.5021323617151649e-12+0j)\n                                                                                                              (109536, 0)\t2.3931454550764514e-12j\n                                                                                                              (109632, 0)\t1.7241391695217794e-12j\n                                                                                                              (109680, 0)\t(-1.4167778267575158e-12-1.8550453874757076e-12j)\n                                                                                                              (109920, 0)\t(-1.6884737390745285e-12-2.210788002458022e-12j)\n                                                                                                              (109968, 0)\t(-1.3468158681322137e-11-1.3195743027623429e-11j)\n                                                                                                              (109970, 0)\t(-5.983227800194675e-12-5.862207174918405e-12j)\n                                                                                                              (109972, 0)\t(-1.1722843052963373e-12-1.5349199798863938e-12j)\n                                                                                                              (110016, 0)\t(-1.0010801482905845e-12+0j)\n                                                                                                              (110064, 0)\t(3.944627591365307e-12-3.0126814923203378e-12j)\n                                                                                                              (110066, 0)\t(1.752400299614675e-12-1.3383833650969423e-12j)\n                                                                                                              (110160, 0)\t(6.499808827082298e-12-6.8051298197447325e-12j)\n                                                                                                              (110162, 0)\t(3.282043450700476e-12-2.5066375296265093e-12j)\n                                                                                                              (110256, 0)\t-2.286685453967424e-12j\n                                                                                                              (110304, 0)\t(-1.6039507263244883e-12-2.100118550991269e-12j)\n                                                                                                              (110352, 0)\t(2.4568480795891387e-12-1.8764003869523965e-12j)\n                                                                                                              (110354, 0)\t(1.0914544414665858e-12+0j)\n                                                                                                              (110448, 0)\t(-2.047927285868973e-12-2.6814352919620397e-12j)\n                                                                                                              (110450, 0)\t-1.1912272639405272e-12j                                                             ,\n       Quantum object: dims = [[4, 12, 4, 12, 4, 12], [1, 1, 1, 1, 1, 1]], shape = (110592, 1), type = ket\n       Qobj data =\n         (0, 0)\t(0.03160803631182958+0j)\n         (2, 0)\t(0.014041866128257797+0j)\n         (4, 0)\t(0.0032712455072905406+0j)\n         (6, 0)\t(-6.994069641214846e-06+0j)\n         (8, 0)\t(-0.00011775402190211186+0j)\n         (10, 0)\t(1.553539458946266e-05+0j)\n         (13, 0)\t(-9.66854824280342e-05+0j)\n         (15, 0)\t(-5.102047783652518e-05+0j)\n         (17, 0)\t(-1.0262021297343447e-05+0j)\n         (19, 0)\t(8.740074978141748e-07+0j)\n         (21, 0)\t(3.909144909499809e-07+0j)\n         (23, 0)\t(-9.344232398489361e-08+0j)\n         (24, 0)\t(1.9528521729703358e-07+0j)\n         (26, 0)\t(3.0107651509301073e-07+0j)\n         (28, 0)\t(1.4315051767185833e-07+0j)\n         (30, 0)\t(2.0801944842876638e-08+0j)\n         (32, 0)\t(-4.638381802236875e-09+0j)\n         (34, 0)\t(-6.61872809849587e-10+0j)\n         (37, 0)\t(-8.333433259648337e-10+0j)\n         (39, 0)\t(-8.575266253857582e-10+0j)\n         (41, 0)\t(-3.3499307039816197e-10+0j)\n         (43, 0)\t(-2.5022932579520343e-11+0j)\n         (45, 0)\t(1.4569322547156944e-11+0j)\n         (47, 0)\t(1.0449049156739794e-12+0j)\n         (48, 0)\t(0.011893265814308565-0.041184145164733926j)\n         :\t:\n         (109872, 0)\t(-4.820388816494792e-12-1.388164332849604e-12j)\n         (109874, 0)\t(-2.024784113372438e-12+0j)\n         (109920, 0)\t(4.465566728789705e-12-3.05508442530389e-12j)\n         (109922, 0)\t(1.9838273571521333e-12-1.357220902233706e-12j)\n         (109968, 0)\t(-1.7481494174376425e-12+0j)\n         (110016, 0)\t(6.388506524132654e-12+0j)\n         (110018, 0)\t(2.7660806305207438e-12+0j)\n         (110064, 0)\t(-4.64454751473809e-12-2.6898716060184666e-12j)\n         (110066, 0)\t(-2.063338018807101e-12-1.1949753673349755e-12j)\n         (110112, 0)\t(-1.6870614115630896e-12+1.4836601012690203e-12j)\n         (110160, 0)\t(-2.9778768345661633e-12+3.913336200971354e-12j)\n         (110162, 0)\t(-1.3229205141032918e-12+1.738500861068714e-12j)\n         (110256, 0)\t-3.1608459399143785e-12j\n         (110258, 0)\t-1.4042061718652702e-12j\n         (110304, 0)\t(-3.549172972635011e-12+0j)\n         (110306, 0)\t(-1.5125595727435665e-12+0j)\n         (110352, 0)\t(6.074367547128825e-12-3.9118877509630815e-12j)\n         (110354, 0)\t(2.6985363674545274e-12-1.7378545623128816e-12j)\n         (110400, 0)\t1.4829992888396118e-12j\n         (110448, 0)\t4.22734820497376e-12j\n         (110450, 0)\t1.87799864446617e-12j\n         (110496, 0)\t-3.3640268217282025e-12j\n         (110498, 0)\t-1.4944677241108334e-12j\n         (110544, 0)\t(1.14222724617175e-12-3.1296134615401696e-12j)\n         (110546, 0)\t-1.3006937546764768e-12j                                                             , Quantum object: dims = [[4, 12, 4, 12, 4, 12], [1, 1, 1, 1, 1, 1]], shape = (110592, 1), type = ket\n                                                                                                            Qobj data =\n                                                                                                              (0, 0)\t(0.03041344603537948+0j)\n                                                                                                              (2, 0)\t(0.013511169549244112+0j)\n                                                                                                              (4, 0)\t(0.003147612452824978+0j)\n                                                                                                              (6, 0)\t(-6.729736624644383e-06+0j)\n                                                                                                              (8, 0)\t(-0.00011330364073355772+0j)\n                                                                                                              (10, 0)\t(1.4948251777606381e-05+0j)\n                                                                                                              (13, 0)\t(-9.303136307551771e-05+0j)\n                                                                                                              (15, 0)\t(-4.9092216108337406e-05+0j)\n                                                                                                              (17, 0)\t(-9.874179713718767e-06+0j)\n                                                                                                              (19, 0)\t(8.409753648412028e-07+0j)\n                                                                                                              (21, 0)\t(3.761403162685059e-07+0j)\n                                                                                                              (23, 0)\t(-8.99107761687189e-08+0j)\n                                                                                                              (24, 0)\t(1.879046315419555e-07+0j)\n                                                                                                              (26, 0)\t(2.896976659246536e-07+0j)\n                                                                                                              (28, 0)\t(1.3774030443526178e-07+0j)\n                                                                                                              (30, 0)\t(2.0015758665864284e-08+0j)\n                                                                                                              (32, 0)\t(-4.463079367131507e-09+0j)\n                                                                                                              (34, 0)\t(-6.368580693718764e-10+0j)\n                                                                                                              (37, 0)\t(-8.018480488705103e-10+0j)\n                                                                                                              (39, 0)\t(-8.251173624416378e-10+0j)\n                                                                                                              (41, 0)\t(-3.2233238079069607e-10+0j)\n                                                                                                              (43, 0)\t(-2.4077220421438593e-11+0j)\n                                                                                                              (45, 0)\t(1.4018690955278782e-11+0j)\n                                                                                                              (48, 0)\t(0.2130258253125871+0.22753790729905146j)\n                                                                                                              (50, 0)\t(0.09463669591462368+0.10108368649910264j)\n                                                                                                              :\t:\n                                                                                                              (109682, 0)\t-1.4393495598058904e-12j\n                                                                                                              (109728, 0)\t-1.043449952406366e-12j\n                                                                                                              (109776, 0)\t1.0417649682564444e-12j\n                                                                                                              (109920, 0)\t-1.9536897028550258e-12j\n                                                                                                              (109968, 0)\t(5.539451718792948e-12-6.244270539011919e-12j)\n                                                                                                              (109970, 0)\t(2.4609007372860884e-12-2.7740163894833984e-12j)\n                                                                                                              (110016, 0)\t(-2.323073838428456e-12+0j)\n                                                                                                              (110018, 0)\t(-1.0320252930744577e-12+0j)\n                                                                                                              (110064, 0)\t(1.2978115056747506e-12+3.7022281741848695e-12j)\n                                                                                                              (110066, 0)\t1.6447144261562073e-12j\n                                                                                                              (110112, 0)\t-1.1351555757672026e-12j\n                                                                                                              (110160, 0)\t(-8.271783539912062e-12-4.831883307337949e-12j)\n                                                                                                              (110162, 0)\t(-3.674738826055521e-12-2.146563540377874e-12j)\n                                                                                                              (110208, 0)\t(-3.2489720904686636e-12-1.4417433694075769e-12j)\n                                                                                                              (110210, 0)\t(-1.4433554501625648e-12+0j)\n                                                                                                              (110256, 0)\t(4.42426865307409e-12+1.6045788951989304e-12j)\n                                                                                                              (110258, 0)\t(1.9654808080317572e-12+0j)\n                                                                                                              (110304, 0)\t(3.7598211322137996e-12+0j)\n                                                                                                              (110306, 0)\t(1.4745395948957906e-12+0j)\n                                                                                                              (110400, 0)\t(-2.3564480037616125e-12+3.835705290717013e-12j)\n                                                                                                              (110402, 0)\t(-1.0468517404268638e-12+1.7040116342382692e-12j)\n                                                                                                              (110448, 0)\t(-2.0183360792215092e-12+3.733293015577507e-12j)\n                                                                                                              (110450, 0)\t1.6585149464304832e-12j\n                                                                                                              (110496, 0)\t(-1.0877634190294705e-12+0j)\n                                                                                                              (110544, 0)\t(1.1870487475591229e-12+0j)                                                          ], dtype=object)"
     },
     "execution_count": 39,
     "metadata": {},
     "output_type": "execute_result"
    }
   ],
   "source": [
    "ψ_0"
   ],
   "metadata": {
    "collapsed": false,
    "ExecuteTime": {
     "end_time": "2024-03-04T11:25:58.026560234Z",
     "start_time": "2024-03-04T11:25:58.019508762Z"
    }
   },
   "id": "af63f85bf83fe872",
   "execution_count": 39
  },
  {
   "cell_type": "code",
   "outputs": [],
   "source": [
    "n_eig = 4\n",
    "\n",
    "H_eff = np.zeros((n_eig, n_eig), dtype=complex)\n",
    "\n",
    "for i in range(n_eig):\n",
    "    for j in range(n_eig):\n",
    "        H_eff[i, j] = (ψ_0[i].dag()\n",
    "                       * H * ψ_0 [j]).data[0, 0]"
   ],
   "metadata": {
    "collapsed": false,
    "ExecuteTime": {
     "end_time": "2024-03-04T11:22:10.216942180Z",
     "start_time": "2024-03-04T11:22:10.212668363Z"
    }
   },
   "id": "6efaa19c906ab585",
   "execution_count": 36
  },
  {
   "cell_type": "code",
   "outputs": [
    {
     "data": {
      "text/plain": "array([[ 1.34138723e+01-4.27213812e-16j,  4.52497578e-03+2.88174911e-01j, -2.24220859e-01+7.29161469e-02j,  7.77474645e-02+5.56983489e-02j],\n       [ 4.52497578e-03-2.88174911e-01j,  1.34138723e+01+4.11595312e-16j, -8.16947244e-02+6.42166788e-01j,  2.61531017e-01+1.32199271e-01j],\n       [-2.24220859e-01-7.29161469e-02j, -8.16947244e-02-6.42166788e-01j,  1.34138723e+01+1.23634159e-16j,  4.33855370e-02+5.36287566e-02j],\n       [ 7.77474645e-02-5.56983489e-02j,  2.61531017e-01-1.32199271e-01j,  4.33855370e-02-5.36287566e-02j,  1.34138723e+01-6.70086970e-16j]])"
     },
     "execution_count": 37,
     "metadata": {},
     "output_type": "execute_result"
    }
   ],
   "source": [
    "H_eff/2/np.pi/1e9"
   ],
   "metadata": {
    "collapsed": false,
    "ExecuteTime": {
     "end_time": "2024-03-04T11:22:10.705318129Z",
     "start_time": "2024-03-04T11:22:10.702584947Z"
    }
   },
   "id": "438ecac164cb127b",
   "execution_count": 37
  },
  {
   "cell_type": "code",
   "outputs": [
    {
     "ename": "AttributeError",
     "evalue": "'numpy.ndarray' object has no attribute 'dag'",
     "output_type": "error",
     "traceback": [
      "\u001B[0;31m---------------------------------------------------------------------------\u001B[0m",
      "\u001B[0;31mAttributeError\u001B[0m                            Traceback (most recent call last)",
      "Cell \u001B[0;32mIn[24], line 1\u001B[0m\n\u001B[0;32m----> 1\u001B[0m \u001B[43mψ_0\u001B[49m\u001B[38;5;241;43m.\u001B[39;49m\u001B[43mdag\u001B[49m() \u001B[38;5;241m*\u001B[39m qt\u001B[38;5;241m.\u001B[39mQobj(H) \u001B[38;5;241m*\u001B[39m ψ_0\n",
      "\u001B[0;31mAttributeError\u001B[0m: 'numpy.ndarray' object has no attribute 'dag'"
     ]
    }
   ],
   "source": [
    "ψ_0.dag() * qt.Qobj(H) * ψ_0"
   ],
   "metadata": {
    "collapsed": false,
    "ExecuteTime": {
     "end_time": "2024-03-04T11:14:26.946646724Z",
     "start_time": "2024-03-04T11:14:26.906015548Z"
    }
   },
   "id": "d2147c8ab11a5a29",
   "execution_count": 24
  },
  {
   "cell_type": "code",
   "outputs": [
    {
     "ename": "MemoryError",
     "evalue": "Unable to allocate 182. GiB for an array with shape (110592, 110592) and data type complex128",
     "output_type": "error",
     "traceback": [
      "\u001B[0;31m---------------------------------------------------------------------------\u001B[0m",
      "\u001B[0;31mMemoryError\u001B[0m                               Traceback (most recent call last)",
      "Cell \u001B[0;32mIn[3], line 1\u001B[0m\n\u001B[0;32m----> 1\u001B[0m H_eff \u001B[38;5;241m=\u001B[39m \u001B[43msq_ext\u001B[49m\u001B[38;5;241;43m.\u001B[39;49m\u001B[43mH_eff_p1\u001B[49m\u001B[43m(\u001B[49m\u001B[43mH_0\u001B[49m\u001B[43m,\u001B[49m\u001B[43m \u001B[49m\u001B[43mH\u001B[49m\u001B[43m,\u001B[49m\u001B[43m \u001B[49m\u001B[38;5;241;43m4\u001B[39;49m\u001B[43m)\u001B[49m\n",
      "File \u001B[0;32m~/PycharmProjects/tunable-capacitive-coupling-flux-qubits/Modules/SQcircuit_extensions.py:739\u001B[0m, in \u001B[0;36mH_eff_p1\u001B[0;34m(H_0, H, n_eig, out, real, remove_ground, solver)\u001B[0m\n\u001B[1;32m    735\u001B[0m \u001B[38;5;28;01mdef\u001B[39;00m \u001B[38;5;21mH_eff_p1\u001B[39m(H_0, H, n_eig, out\u001B[38;5;241m=\u001B[39m\u001B[38;5;124m'\u001B[39m\u001B[38;5;124mGHz\u001B[39m\u001B[38;5;124m'\u001B[39m, real\u001B[38;5;241m=\u001B[39m\u001B[38;5;28;01mTrue\u001B[39;00m, remove_ground \u001B[38;5;241m=\u001B[39m \u001B[38;5;28;01mFalse\u001B[39;00m, solver\u001B[38;5;241m=\u001B[39m\u001B[38;5;124m'\u001B[39m\u001B[38;5;124mscipy\u001B[39m\u001B[38;5;124m'\u001B[39m):\n\u001B[1;32m    737\u001B[0m     ψ_0 \u001B[38;5;241m=\u001B[39m diag(H_0, n_eig, real\u001B[38;5;241m=\u001B[39mreal, solver\u001B[38;5;241m=\u001B[39msolver)[\u001B[38;5;241m1\u001B[39m]\n\u001B[0;32m--> 739\u001B[0m     H_eff \u001B[38;5;241m=\u001B[39m ψ_0\u001B[38;5;241m.\u001B[39mconj()\u001B[38;5;241m.\u001B[39mT \u001B[38;5;241m@\u001B[39m \u001B[43mH\u001B[49m\u001B[38;5;241;43m.\u001B[39;49m\u001B[43m__array__\u001B[49m\u001B[43m(\u001B[49m\u001B[43m)\u001B[49m \u001B[38;5;241m@\u001B[39m ψ_0\n\u001B[1;32m    741\u001B[0m     \u001B[38;5;28;01mif\u001B[39;00m out \u001B[38;5;241m==\u001B[39m \u001B[38;5;124m'\u001B[39m\u001B[38;5;124mGHz\u001B[39m\u001B[38;5;124m'\u001B[39m:\n\u001B[1;32m    742\u001B[0m         H_eff \u001B[38;5;241m/\u001B[39m\u001B[38;5;241m=\u001B[39m GHz \u001B[38;5;241m*\u001B[39m \u001B[38;5;241m2\u001B[39m \u001B[38;5;241m*\u001B[39m np\u001B[38;5;241m.\u001B[39mpi\n",
      "File \u001B[0;32m~/anaconda3/envs/tunable-cc/lib/python3.8/site-packages/qutip/qobj.py:1098\u001B[0m, in \u001B[0;36mQobj.__array__\u001B[0;34m(self, *arg, **kwarg)\u001B[0m\n\u001B[1;32m   1094\u001B[0m \u001B[38;5;28;01mdef\u001B[39;00m \u001B[38;5;21m__array__\u001B[39m(\u001B[38;5;28mself\u001B[39m, \u001B[38;5;241m*\u001B[39marg, \u001B[38;5;241m*\u001B[39m\u001B[38;5;241m*\u001B[39mkwarg):\n\u001B[1;32m   1095\u001B[0m \u001B[38;5;250m    \u001B[39m\u001B[38;5;124;03m\"\"\"Numpy array from Qobj\u001B[39;00m\n\u001B[1;32m   1096\u001B[0m \u001B[38;5;124;03m    For compatibility with np.array\u001B[39;00m\n\u001B[1;32m   1097\u001B[0m \u001B[38;5;124;03m    \"\"\"\u001B[39;00m\n\u001B[0;32m-> 1098\u001B[0m     \u001B[38;5;28;01mreturn\u001B[39;00m \u001B[38;5;28;43mself\u001B[39;49m\u001B[38;5;241;43m.\u001B[39;49m\u001B[43mfull\u001B[49m\u001B[43m(\u001B[49m\u001B[43m)\u001B[49m\n",
      "File \u001B[0;32m~/anaconda3/envs/tunable-cc/lib/python3.8/site-packages/qutip/qobj.py:1092\u001B[0m, in \u001B[0;36mQobj.full\u001B[0;34m(self, order, squeeze)\u001B[0m\n\u001B[1;32m   1090\u001B[0m     \u001B[38;5;28;01mreturn\u001B[39;00m \u001B[38;5;28mself\u001B[39m\u001B[38;5;241m.\u001B[39mdata\u001B[38;5;241m.\u001B[39mtoarray(order\u001B[38;5;241m=\u001B[39morder)\u001B[38;5;241m.\u001B[39msqueeze()\n\u001B[1;32m   1091\u001B[0m \u001B[38;5;28;01melse\u001B[39;00m:\n\u001B[0;32m-> 1092\u001B[0m     \u001B[38;5;28;01mreturn\u001B[39;00m \u001B[38;5;28;43mself\u001B[39;49m\u001B[38;5;241;43m.\u001B[39;49m\u001B[43mdata\u001B[49m\u001B[38;5;241;43m.\u001B[39;49m\u001B[43mtoarray\u001B[49m\u001B[43m(\u001B[49m\u001B[43morder\u001B[49m\u001B[38;5;241;43m=\u001B[39;49m\u001B[43morder\u001B[49m\u001B[43m)\u001B[49m\n",
      "File \u001B[0;32m~/anaconda3/envs/tunable-cc/lib/python3.8/site-packages/scipy/sparse/_compressed.py:1051\u001B[0m, in \u001B[0;36m_cs_matrix.toarray\u001B[0;34m(self, order, out)\u001B[0m\n\u001B[1;32m   1049\u001B[0m \u001B[38;5;28;01mif\u001B[39;00m out \u001B[38;5;129;01mis\u001B[39;00m \u001B[38;5;28;01mNone\u001B[39;00m \u001B[38;5;129;01mand\u001B[39;00m order \u001B[38;5;129;01mis\u001B[39;00m \u001B[38;5;28;01mNone\u001B[39;00m:\n\u001B[1;32m   1050\u001B[0m     order \u001B[38;5;241m=\u001B[39m \u001B[38;5;28mself\u001B[39m\u001B[38;5;241m.\u001B[39m_swap(\u001B[38;5;124m'\u001B[39m\u001B[38;5;124mcf\u001B[39m\u001B[38;5;124m'\u001B[39m)[\u001B[38;5;241m0\u001B[39m]\n\u001B[0;32m-> 1051\u001B[0m out \u001B[38;5;241m=\u001B[39m \u001B[38;5;28;43mself\u001B[39;49m\u001B[38;5;241;43m.\u001B[39;49m\u001B[43m_process_toarray_args\u001B[49m\u001B[43m(\u001B[49m\u001B[43morder\u001B[49m\u001B[43m,\u001B[49m\u001B[43m \u001B[49m\u001B[43mout\u001B[49m\u001B[43m)\u001B[49m\n\u001B[1;32m   1052\u001B[0m \u001B[38;5;28;01mif\u001B[39;00m \u001B[38;5;129;01mnot\u001B[39;00m (out\u001B[38;5;241m.\u001B[39mflags\u001B[38;5;241m.\u001B[39mc_contiguous \u001B[38;5;129;01mor\u001B[39;00m out\u001B[38;5;241m.\u001B[39mflags\u001B[38;5;241m.\u001B[39mf_contiguous):\n\u001B[1;32m   1053\u001B[0m     \u001B[38;5;28;01mraise\u001B[39;00m \u001B[38;5;167;01mValueError\u001B[39;00m(\u001B[38;5;124m'\u001B[39m\u001B[38;5;124mOutput array must be C or F contiguous\u001B[39m\u001B[38;5;124m'\u001B[39m)\n",
      "File \u001B[0;32m~/anaconda3/envs/tunable-cc/lib/python3.8/site-packages/scipy/sparse/_base.py:1298\u001B[0m, in \u001B[0;36mspmatrix._process_toarray_args\u001B[0;34m(self, order, out)\u001B[0m\n\u001B[1;32m   1296\u001B[0m     \u001B[38;5;28;01mreturn\u001B[39;00m out\n\u001B[1;32m   1297\u001B[0m \u001B[38;5;28;01melse\u001B[39;00m:\n\u001B[0;32m-> 1298\u001B[0m     \u001B[38;5;28;01mreturn\u001B[39;00m \u001B[43mnp\u001B[49m\u001B[38;5;241;43m.\u001B[39;49m\u001B[43mzeros\u001B[49m\u001B[43m(\u001B[49m\u001B[38;5;28;43mself\u001B[39;49m\u001B[38;5;241;43m.\u001B[39;49m\u001B[43mshape\u001B[49m\u001B[43m,\u001B[49m\u001B[43m \u001B[49m\u001B[43mdtype\u001B[49m\u001B[38;5;241;43m=\u001B[39;49m\u001B[38;5;28;43mself\u001B[39;49m\u001B[38;5;241;43m.\u001B[39;49m\u001B[43mdtype\u001B[49m\u001B[43m,\u001B[49m\u001B[43m \u001B[49m\u001B[43morder\u001B[49m\u001B[38;5;241;43m=\u001B[39;49m\u001B[43morder\u001B[49m\u001B[43m)\u001B[49m\n",
      "\u001B[0;31mMemoryError\u001B[0m: Unable to allocate 182. GiB for an array with shape (110592, 110592) and data type complex128"
     ]
    }
   ],
   "source": [
    "H_eff = sq_ext.H_eff_p1a(H_0, H, 4)"
   ],
   "metadata": {
    "collapsed": false,
    "ExecuteTime": {
     "end_time": "2024-03-04T11:03:35.858142584Z",
     "start_time": "2024-03-04T11:03:32.068683802Z"
    }
   },
   "id": "e1085848a4559320",
   "execution_count": 3
  },
  {
   "cell_type": "code",
   "outputs": [
    {
     "data": {
      "text/plain": "array([[ 2.757515e+03-0.j   ,  0.000000e+00-0.j   ,  0.000000e+00+0.j   , -8.400000e-02-0.j   ],\n       [ 0.000000e+00+0.j   ,  2.850696e+03-0.j   ,  8.200000e-02-0.014j,  0.000000e+00-0.j   ],\n       [ 0.000000e+00-0.j   ,  8.200000e-02+0.014j,  2.850727e+03-0.j   , -0.000000e+00+0.j   ],\n       [-8.400000e-02+0.j   ,  0.000000e+00+0.j   , -0.000000e+00-0.j   ,  2.943908e+03-0.j   ]])"
     },
     "execution_count": 18,
     "metadata": {},
     "output_type": "execute_result"
    }
   ],
   "source": [
    "np.round(H_eff,3)"
   ],
   "metadata": {
    "collapsed": false,
    "ExecuteTime": {
     "end_time": "2024-03-01T11:28:07.982670600Z",
     "start_time": "2024-03-01T11:28:07.966183900Z"
    }
   },
   "id": "cf030c8f8e0c974",
   "execution_count": 18
  },
  {
   "cell_type": "code",
   "outputs": [
    {
     "data": {
      "text/plain": "array([20.120808502260, 22.066170039274])"
     },
     "execution_count": 22,
     "metadata": {},
     "output_type": "execute_result"
    }
   ],
   "source": [
    "sq_ext.diag(H_0, 2, out='GHz')[0]"
   ],
   "metadata": {
    "collapsed": false,
    "ExecuteTime": {
     "end_time": "2024-03-01T11:29:41.190110200Z",
     "start_time": "2024-03-01T11:29:38.437152100Z"
    }
   },
   "id": "a04d9216ff884dc9",
   "execution_count": 22
  },
  {
   "cell_type": "code",
   "outputs": [
    {
     "data": {
      "text/plain": "array([20.126025274038, 22.065877303801])"
     },
     "execution_count": 23,
     "metadata": {},
     "output_type": "execute_result"
    }
   ],
   "source": [
    "sq_ext.diag(H, 2, out='GHz')[0]"
   ],
   "metadata": {
    "collapsed": false,
    "ExecuteTime": {
     "end_time": "2024-03-01T11:29:58.487667900Z",
     "start_time": "2024-03-01T11:29:52.761821300Z"
    }
   },
   "id": "799b5bff90918976",
   "execution_count": 23
  },
  {
   "cell_type": "code",
   "outputs": [
    {
     "data": {
      "text/plain": "array([20.126025274038, 22.065877303801])"
     },
     "execution_count": 36,
     "metadata": {},
     "output_type": "execute_result"
    }
   ],
   "source": [
    "sq_ext.diag(H, 2, out='GHz')[0]"
   ],
   "metadata": {
    "collapsed": false,
    "ExecuteTime": {
     "end_time": "2024-03-01T11:36:39.933486600Z",
     "start_time": "2024-03-01T11:36:33.491814300Z"
    }
   },
   "id": "eaeb3c543596c3e2",
   "execution_count": 36
  },
  {
   "cell_type": "code",
   "outputs": [],
   "source": [
    "H_eff = sq_ext.H_eff_SWT(H_0, H, 4)"
   ],
   "metadata": {
    "collapsed": false,
    "ExecuteTime": {
     "end_time": "2024-03-01T11:33:12.598533Z",
     "start_time": "2024-03-01T11:33:01.238179300Z"
    }
   },
   "id": "a48eb48652125dcb",
   "execution_count": 32
  },
  {
   "cell_type": "code",
   "outputs": [
    {
     "data": {
      "text/plain": "array([20.126025274038, 22.065877303801])"
     },
     "execution_count": 34,
     "metadata": {},
     "output_type": "execute_result"
    }
   ],
   "source": [
    "sq_ext.diag(H_eff, 2, out='GHz')[0]"
   ],
   "metadata": {
    "collapsed": false,
    "ExecuteTime": {
     "end_time": "2024-03-01T11:33:30.565846600Z",
     "start_time": "2024-03-01T11:33:30.543842900Z"
    }
   },
   "id": "1688db54e758fe1f",
   "execution_count": 34
  },
  {
   "cell_type": "code",
   "outputs": [],
   "source": [],
   "metadata": {
    "collapsed": false
   },
   "id": "56b53a21c76f95ac"
  }
 ],
 "metadata": {
  "kernelspec": {
   "display_name": "Python 3",
   "language": "python",
   "name": "python3"
  },
  "language_info": {
   "codemirror_mode": {
    "name": "ipython",
    "version": 2
   },
   "file_extension": ".py",
   "mimetype": "text/x-python",
   "name": "python",
   "nbconvert_exporter": "python",
   "pygments_lexer": "ipython2",
   "version": "2.7.6"
  }
 },
 "nbformat": 4,
 "nbformat_minor": 5
}
