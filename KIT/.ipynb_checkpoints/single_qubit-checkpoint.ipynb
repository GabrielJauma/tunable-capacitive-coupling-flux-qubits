{
 "cells": [
  {
   "cell_type": "code",
   "execution_count": 6,
   "metadata": {
    "ExecuteTime": {
     "end_time": "2023-09-19T08:57:03.726066187Z",
     "start_time": "2023-09-19T08:57:03.638065111Z"
    }
   },
   "source": [
    "import Modules.SQcircuit_extensions as sq_ext\n",
    "import SQcircuit as sq\n",
    "import qutip as qt\n",
    "import numpy as np\n",
    "import scipy as sp\n",
    "import matplotlib.pyplot as plt\n",
    "import importlib\n",
    "\n",
    "# %matplotlib ipympl\n",
    "\n",
    "importlib.reload(sq_ext)\n",
    "importlib.reload(sq)\n",
    "np.set_printoptions(linewidth=500, formatter={'float': '{:.1e}'.format})"
   ],
   "outputs": []
  },
  {
   "cell_type": "code",
   "execution_count": 7,
   "metadata": {
    "ExecuteTime": {
     "end_time": "2023-09-19T08:57:04.152944886Z",
     "start_time": "2023-09-19T08:57:04.148931885Z"
    }
   },
   "source": [
    "# Fundamental constants\n",
    "h    = 6.626e-34\n",
    "GHz = 1e9\n",
    "e0   = 1.602e-19\n",
    "Φ_0 = h/(2*e0)"
   ],
   "outputs": []
  },
  {
   "cell_type": "markdown",
   "metadata": {},
   "source": [
    "# Single qubit\n",
    "\n",
    "This notebook studies the qubit proposed by KIT. It's lumped element model is:\n",
    "<img src='Other/Single qubit 4 nodes CC coupled to ground.jpg' width='500'>\n"
   ]
  },
  {
   "cell_type": "markdown",
   "metadata": {},
   "source": [
    "## Define the circuit"
   ]
  },
  {
   "cell_type": "code",
   "execution_count": 14,
   "metadata": {
    "ExecuteTime": {
     "end_time": "2023-09-19T10:04:39.408386349Z",
     "start_time": "2023-09-19T10:04:39.366118387Z"
    }
   },
   "source": [
    "# Circuit parameters\n",
    "Csh = 15\n",
    "C   = 15\n",
    "Cg  = 10\n",
    "CJ  = 3\n",
    "Lq  = 25\n",
    "Lr  = 10\n",
    "Δ   = 0.1\n",
    "EJ  = 10.0\n",
    "l = Lq*(Lq+4*Lr) - 4*Δ**2\n",
    "\n",
    "# Initialize loop(s)\n",
    "loop = sq.Loop(0.0)\n",
    "\n",
    "# Circuit components\n",
    "C_01 = sq.Capacitor(C,       'fF')\n",
    "C_02 = sq.Capacitor(C,       'fF')\n",
    "C_12 = sq.Capacitor(CJ+Csh,  'fF')\n",
    "L_03 = sq.Inductor(Lr,       'nH')\n",
    "L_31 = sq.Inductor(Lq/2 - Δ, 'nH',  loops=[loop])\n",
    "L_23 = sq.Inductor(Lq/2 + Δ, 'nH',  loops=[loop])\n",
    "JJ_12= sq.Junction(EJ,       'GHz', loops=[loop])\n",
    "\n",
    "elements = {\n",
    "    # Without ground node\n",
    "    (0, 3): [L_03],\n",
    "    (0, 1): [C_01],\n",
    "    (0, 2): [C_02],\n",
    "    (3, 1): [L_31],\n",
    "    (1, 2): [C_12, JJ_12],\n",
    "    (2, 3): [L_23],\n",
    "}\n",
    "# Create the circuits\n",
    "qubit = sq.Circuit(elements)\n",
    "qubit.description()"
   ],
   "outputs": []
  },
  {
   "cell_type": "code",
   "execution_count": 9,
   "metadata": {
    "ExecuteTime": {
     "end_time": "2023-09-19T08:57:06.627845545Z",
     "start_time": "2023-09-19T08:57:06.611417792Z"
    }
   },
   "source": [
    "sq_ext.print_transformation(qubit)"
   ],
   "outputs": []
  },
  {
   "cell_type": "code",
   "execution_count": 23,
   "metadata": {
    "ExecuteTime": {
     "end_time": "2023-09-19T10:05:34.504479628Z",
     "start_time": "2023-09-19T10:05:34.413575576Z"
    }
   },
   "source": [
    "qubit.set_trunc_nums([1, 3, 10])\n",
    "_ = qubit.diag(2)"
   ],
   "outputs": []
  },
  {
   "cell_type": "code",
   "execution_count": 34,
   "metadata": {
    "ExecuteTime": {
     "end_time": "2023-09-19T10:06:51.554282393Z",
     "start_time": "2023-09-19T10:06:51.505990831Z"
    }
   },
   "source": [
    "qubit._evecs[0]"
   ],
   "outputs": []
  },
  {
   "cell_type": "markdown",
   "metadata": {},
   "source": [
    "# Equivalent circuits"
   ]
  },
  {
   "cell_type": "code",
   "execution_count": 10,
   "metadata": {
    "ExecuteTime": {
     "end_time": "2023-09-19T08:57:27.115040646Z",
     "start_time": "2023-09-19T08:57:27.054495323Z"
    }
   },
   "source": [
    "loop_eq_fluxonium = sq.Loop(0.0)\n",
    "loop_eq_ficticious = sq.Loop(0.0)\n",
    "\n",
    "C_r_eq = sq.Capacitor(C / 2, 'fF')\n",
    "L_r_eq = sq.Inductor(1 / (1 / (l / Lq) - 1 / (l / Δ)), 'nH')\n",
    "\n",
    "C_f_eq = sq.Capacitor(C / 2 + Csh + CJ, 'fF')\n",
    "L_f_eq = sq.Inductor(1 / (1 / (l / (Lq + 4 * Lr)) - 1 / (l / Δ)), 'nH', loops=[loop_eq_fluxonium, loop_eq_ficticious])\n",
    "JJ_f_eq = sq.Junction(EJ, 'GHz', loops=[loop_eq_fluxonium])\n",
    "\n",
    "L_c_eq = sq.Inductor(l / Δ, 'nH')\n",
    "\n",
    "equiv_elements = {\n",
    "    (0, 1): [C_r_eq, L_r_eq],\n",
    "    (1, 2): [L_c_eq],\n",
    "    (0, 2): [C_f_eq, L_f_eq, JJ_f_eq],\n",
    "}\n",
    "qubit_equiv = sq.Circuit(equiv_elements)\n",
    "qubit_equiv.description()"
   ],
   "outputs": []
  },
  {
   "cell_type": "code",
   "execution_count": 11,
   "metadata": {
    "ExecuteTime": {
     "end_time": "2023-09-19T08:58:11.037535416Z",
     "start_time": "2023-09-19T08:58:10.940653066Z"
    }
   },
   "source": [
    "loop_uncoupled = sq.Loop(0.0)\n",
    "uncoupled_elements = {\n",
    "    (0, 1): [sq.Capacitor(C/2, 'fF'), sq.Inductor ( 1/(  1/(l/Lq) -  1/(l/Δ)  ), 'nH')],\n",
    "    (0, 2): [sq.Capacitor(C/2 + Csh + CJ, 'fF'), sq.Inductor ( 1/(  1/(l/(Lq+4*Lr)) -  1/(l/Δ)  ), 'nH',  loops=[loop_uncoupled]), sq.Junction (EJ, 'GHz', loops=[loop_uncoupled])],\n",
    "}\n",
    "qubit_uncoupled = sq.Circuit(uncoupled_elements )\n",
    "qubit_uncoupled.description()"
   ],
   "outputs": []
  },
  {
   "cell_type": "code",
   "execution_count": 12,
   "metadata": {
    "ExecuteTime": {
     "end_time": "2023-09-19T08:58:13.315055949Z",
     "start_time": "2023-09-19T08:58:13.269015643Z"
    }
   },
   "source": [
    "resonator_elements = {\n",
    "    (0, 1): [sq.Capacitor(C/2, 'fF'), sq.Inductor (l/Lq, 'nH')],\n",
    "}\n",
    "resonator = sq.Circuit(resonator_elements )\n",
    "resonator.description()"
   ],
   "outputs": []
  },
  {
   "cell_type": "code",
   "execution_count": 13,
   "metadata": {
    "ExecuteTime": {
     "end_time": "2023-09-19T08:58:13.898681148Z",
     "start_time": "2023-09-19T08:58:13.892899549Z"
    }
   },
   "source": [
    "loop_fluxonium = sq.Loop(0.0)\n",
    "fluxonium_elements = {\n",
    "    (0, 1): [sq.Capacitor(C/2 + Csh + CJ, 'fF'), sq.Inductor(l/(Lq+4*Lr), 'nH', loops=[loop_fluxonium]), sq.Junction(EJ, 'GHz', loops=[loop_fluxonium])],\n",
    "    # (0, 1): [sq.Inductor(l/(Lq+4*Lr), 'nH', loops=[loop_fluxonium]), sq.Junction(EJ, 'GHz', loops=[loop_fluxonium], cap=sq.Capacitor(C/2 + Csh + CJ, 'fF'))],\n",
    "}\n",
    "fluxonium = sq.Circuit(fluxonium_elements)\n",
    "fluxonium.description()"
   ],
   "outputs": []
  },
  {
   "cell_type": "markdown",
   "metadata": {},
   "source": [
    "## Resonator spectrum"
   ]
  },
  {
   "cell_type": "code",
   "execution_count": 30,
   "metadata": {
    "ExecuteTime": {
     "end_time": "2023-09-14T11:58:45.658944Z",
     "start_time": "2023-09-14T11:58:45.646927300Z"
    }
   },
   "source": [
    "L_r = l/Lq * 1e-9\n",
    "C_r = C/2 * 1e-15\n",
    "w_r = 1/np.sqrt(L_r*C_r) / 2 / np.pi / 1e9\n",
    "E_harm = w_r * np.arange(0,8)\n",
    "E_harm"
   ],
   "outputs": []
  },
  {
   "cell_type": "markdown",
   "metadata": {},
   "source": [
    "## Potential energy and eigenstates resoantor"
   ]
  },
  {
   "cell_type": "code",
   "execution_count": 31,
   "metadata": {
    "ExecuteTime": {
     "end_time": "2023-09-14T11:58:47.069825500Z",
     "start_time": "2023-09-14T11:58:46.991275600Z"
    }
   },
   "source": [
    "E_L_r = (Φ_0/(2*np.pi))**2/L_r / h\n",
    "\n",
    "φ_r = np.linspace(-3,3,200)\n",
    "n_eig = 2\n",
    "\n",
    "V_r = 0.5 * E_L_r * (φ_r)**2\n",
    "\n",
    "resonator.set_trunc_nums([20])\n",
    "_, _ = resonator.diag(n_eig)\n",
    "\n",
    "states_r = [resonator.eig_phase_coord(k=i, grid=[φ_r/2/np.pi]) for i in range(n_eig)]\n",
    "\n",
    "fig, ax = plt.subplots()\n",
    "ax.plot(φ_r, (V_r-V_r.min())/1e9, 'k:' )\n",
    "[ax.plot(φ_r, np.abs(state)**2) for state in states_r]\n",
    "ax.set_ylim([-.1,3])\n",
    "fig.show()"
   ],
   "outputs": []
  },
  {
   "cell_type": "markdown",
   "metadata": {},
   "source": [
    "## Potential energy and eigenstates of the fluxonium\n"
   ]
  },
  {
   "cell_type": "code",
   "execution_count": 32,
   "metadata": {
    "ExecuteTime": {
     "end_time": "2023-09-14T11:58:48.696807Z",
     "start_time": "2023-09-14T11:58:48.677982Z"
    }
   },
   "source": [
    "L_q = l / (Lq + 4*Lr) * 1e-9\n",
    "E_J = EJ * 1e9"
   ],
   "outputs": []
  },
  {
   "cell_type": "code",
   "execution_count": 33,
   "metadata": {
    "ExecuteTime": {
     "end_time": "2023-09-14T11:58:49.028586700Z",
     "start_time": "2023-09-14T11:58:49.011972500Z"
    }
   },
   "source": [
    "E_L_f = (Φ_0/(2*np.pi))**2/L_q / h\n",
    "E_C = e0**2 / (2*(C/2 + Csh + CJ)*1e-15) / h"
   ],
   "outputs": []
  },
  {
   "cell_type": "code",
   "execution_count": 34,
   "metadata": {
    "ExecuteTime": {
     "end_time": "2023-09-14T11:58:49.221207600Z",
     "start_time": "2023-09-14T11:58:49.189561500Z"
    }
   },
   "source": [
    "print(E_L_f/GHz, E_C/GHz, E_J/GHz)"
   ],
   "outputs": []
  },
  {
   "cell_type": "code",
   "execution_count": 35,
   "metadata": {
    "ExecuteTime": {
     "end_time": "2023-09-14T11:58:49.400322300Z",
     "start_time": "2023-09-14T11:58:49.315939900Z"
    }
   },
   "source": [
    "φ_q = np.linspace(-3,3,200)\n",
    "φ_ext = np.pi\n",
    "# V = 0.5 * 1/L_q * (Φ_q)**2 - E_J * np.cos((Φ_q-Φ_ext)*2*np.pi)\n",
    "V = 0.5 * E_L_f * (φ_q)**2 - E_J * np.cos(φ_q-φ_ext)\n",
    "\n",
    "n_eig = 2\n",
    "fluxonium.set_trunc_nums([20])\n",
    "loop_fluxonium.set_flux(φ_ext/2/np.pi)\n",
    "_, _ = fluxonium.diag(n_eig)\n",
    "states_f = [fluxonium.eig_phase_coord(k=i, grid=[φ_q/2/np.pi]) for i in range(n_eig)]\n",
    "\n",
    "\n",
    "fig, ax = plt.subplots()\n",
    "ax.plot(φ_q, (V-V.min())/1e9, 'k:' )\n",
    "\n",
    "[ax.plot(φ_q, np.abs(state)**2) for state in states_f]\n",
    "# ax.vlines(φ_min,-.1,3)\n",
    "ax.set_ylim([-.1,3])\n",
    "fig.show()"
   ],
   "outputs": []
  },
  {
   "cell_type": "markdown",
   "metadata": {},
   "source": [
    "## Spectrum vs external flux"
   ]
  },
  {
   "cell_type": "code",
   "execution_count": 36,
   "metadata": {
    "ExecuteTime": {
     "end_time": "2023-09-14T11:58:52.081306900Z",
     "start_time": "2023-09-14T11:58:50.199734500Z"
    }
   },
   "source": [
    "qubit.set_trunc_nums([1, 15, 15])\n",
    "fluxonium.set_trunc_nums([10])\n",
    "\n",
    "# spectrum of the qubit\n",
    "phi = np.linspace(0,1,100)\n",
    "# phi = np.linspace(0.36,0.38,500)\n",
    "n_eig=8\n",
    "spec = np.zeros((n_eig, len(phi)))\n",
    "E_qubit = np.zeros((n_eig, len(phi)))\n",
    "\n",
    "eig_colors = plt.get_cmap('viridis_r')(np.linspace(0, 255, n_eig).astype('int'))\n",
    "for i in range(len(phi)):\n",
    "    # set the external flux for the loop\n",
    "    loop_fluxonium.set_flux(phi[i])\n",
    "    loop.set_flux(phi[i])\n",
    "    # diagonalize the qubit\n",
    "    spec[:, i] = qubit.diag(n_eig)[0]\n",
    "    E_qubit[:, i] = fluxonium.diag(n_eig)[0]\n",
    "\n",
    "fig, ax = plt.subplots(dpi=150)\n",
    "for i in range(n_eig):\n",
    "    ax.plot(phi, spec[i,:]- spec[0,:], color=eig_colors[i], linewidth=1)\n",
    "for i in range(n_eig//2):\n",
    "    ax.plot([phi[0],phi[-1]], [E_harm[i],E_harm[i]], ':k' )\n",
    "    ax.plot(phi, E_qubit[i,:]- E_qubit[0,:], color='r', linestyle = ':')\n",
    "\n",
    "ax.set_xlabel(r\"$\\Phi_{ext}/\\Phi_0$\", fontsize=13)\n",
    "ax.set_ylabel(r\"$f_i-f_0$[GHz]\", fontsize=13)\n",
    "# ax.set_ylim(7,7.5)\n",
    "fig.show()"
   ],
   "outputs": []
  },
  {
   "cell_type": "markdown",
   "metadata": {},
   "source": [
    "## Eigenstates of the qubit in phase base"
   ]
  },
  {
   "cell_type": "code",
   "execution_count": 37,
   "metadata": {
    "ExecuteTime": {
     "end_time": "2023-09-14T11:59:00.854244900Z",
     "start_time": "2023-09-14T11:58:58.409684300Z"
    }
   },
   "source": [
    "qubit.set_trunc_nums([1,15,15])\n",
    "\n",
    "# creat the phase grid\n",
    "phi1 = 0\n",
    "phi2 = np.linspace(-0.005, 0.005, 100)\n",
    "phi3 = np.linspace(-0.5, 0.5  , 100)\n",
    "grid = [phi1, phi2, phi3]\n",
    "\n",
    "state0_vs_ext_flux = []\n",
    "state1_vs_ext_flux = []\n",
    "state2_vs_ext_flux = []\n",
    "state3_vs_ext_flux = []\n",
    "\n",
    "ext_flux_list = [0.5, 0.55, 0.65, 1]\n",
    "# loop thorugh several values of external flux\n",
    "for ext_flux in ext_flux_list:\n",
    "    loop.set_flux(ext_flux)\n",
    "    _, _ = qubit.diag(n_eig=5)\n",
    "\n",
    "    # Calculate eigenstates in phase coord\n",
    "    state0_vs_ext_flux.append(qubit.eig_phase_coord(0, grid=grid))\n",
    "    state1_vs_ext_flux.append(qubit.eig_phase_coord(1, grid=grid))\n",
    "    state2_vs_ext_flux.append(qubit.eig_phase_coord(2, grid=grid))\n",
    "    state3_vs_ext_flux.append(qubit.eig_phase_coord(3, grid=grid))"
   ],
   "outputs": []
  },
  {
   "cell_type": "code",
   "execution_count": 38,
   "metadata": {
    "ExecuteTime": {
     "end_time": "2023-09-14T11:59:02.233367300Z",
     "start_time": "2023-09-14T11:59:01.381682300Z"
    }
   },
   "source": [
    "fig, axs = plt.subplots(4, 4, figsize=(4*4, 4*4), sharey='row', sharex = 'col', dpi=150)\n",
    "\n",
    "for i, ext_flux in enumerate(ext_flux_list):\n",
    "    axs[i, 0].contourf(phi3, phi2, np.abs(state0_vs_ext_flux[i].T) ** 2, cmap=\"Blues\", )\n",
    "    axs[i, 1].contourf(phi3, phi2, np.abs(state1_vs_ext_flux[i].T) ** 2, cmap=\"Greens\" )\n",
    "    axs[i, 2].contourf(phi3, phi2, np.abs(state2_vs_ext_flux[i].T) ** 2, cmap=\"Oranges\")\n",
    "    axs[i, 3].contourf(phi3, phi2, np.abs(state3_vs_ext_flux[i].T) ** 2, cmap=\"Reds\"   )\n",
    "    for j in range(4):\n",
    "        axs[-1, j].set_xlabel(r\"$\\varphi_2$\", fontsize=13)\n",
    "    axs[i, 0].set_ylabel(r\"$\\varphi_3$\", fontsize=13)\n",
    "    axs[i, 0].set_title('$\\phi_{ext}/\\phi_{0}$ ='+f'{ext_flux}', fontsize=13, y=0.9 )\n",
    "fig.suptitle('Eigenstates 0, 1, 2 and 3 (from left to right) in phase base')\n",
    "plt.subplots_adjust(wspace=0)\n",
    "plt.subplots_adjust(hspace=0)\n",
    "plt.show()"
   ],
   "outputs": []
  },
  {
   "cell_type": "markdown",
   "metadata": {},
   "source": [
    "# Fluxonium-Resonator internal coupling in KIT's qubit"
   ]
  },
  {
   "cell_type": "code",
   "execution_count": 39,
   "metadata": {
    "ExecuteTime": {
     "end_time": "2023-09-14T11:59:06.918723700Z",
     "start_time": "2023-09-14T11:59:06.887443300Z"
    }
   },
   "source": [
    "fluxonium.set_trunc_nums([15])\n",
    "resonator.set_trunc_nums([15])\n",
    "loop_fluxonium.set_flux(0.5)\n",
    "loop.set_flux(0.5)\n",
    "_ = qubit.diag(2)\n",
    "_ = fluxonium.diag(2)\n",
    "_ = resonator.diag(2)"
   ],
   "outputs": []
  },
  {
   "cell_type": "code",
   "execution_count": 40,
   "metadata": {
    "ExecuteTime": {
     "end_time": "2023-09-14T11:59:07.518956200Z",
     "start_time": "2023-09-14T11:59:07.503354800Z"
    }
   },
   "source": [
    "Δ01 = (qubit.efreqs[1]-qubit.efreqs[0])\n",
    "Δ01"
   ],
   "outputs": []
  },
  {
   "cell_type": "code",
   "execution_count": 41,
   "metadata": {
    "ExecuteTime": {
     "end_time": "2023-09-14T11:59:08.073495800Z",
     "start_time": "2023-09-14T11:59:08.037584500Z"
    }
   },
   "source": [
    "L_c = l / Δ * 1e-9\n",
    "E_L_c = (Φ_0/(2*np.pi))**2/L_c / h / GHz\n",
    "E_L_c"
   ],
   "outputs": []
  },
  {
   "cell_type": "code",
   "execution_count": 42,
   "metadata": {
    "ExecuteTime": {
     "end_time": "2023-09-14T11:59:13.205582800Z",
     "start_time": "2023-09-14T11:59:13.189770800Z"
    }
   },
   "source": [
    "Φ_f = sq_ext.decomposition_in_pauli_2x2(fluxonium.flux_op(0, basis='eig').__array__())[1]\n",
    "Φ_f"
   ],
   "outputs": []
  },
  {
   "cell_type": "code",
   "execution_count": 43,
   "metadata": {
    "ExecuteTime": {
     "end_time": "2023-09-14T11:59:17.349258300Z",
     "start_time": "2023-09-14T11:59:17.318009Z"
    }
   },
   "source": [
    "Φ_r = sq_ext.decomposition_in_pauli_2x2(resonator.flux_op(0, basis='eig').__array__())[1]\n",
    "Φ_r"
   ],
   "outputs": []
  },
  {
   "cell_type": "code",
   "execution_count": 72,
   "metadata": {
    "ExecuteTime": {
     "end_time": "2023-09-14T08:45:35.233864500Z",
     "start_time": "2023-09-14T08:45:35.218233100Z"
    }
   },
   "source": [
    "g = Φ_r * Φ_f / L_c / GHz\n",
    "g"
   ],
   "outputs": []
  },
  {
   "cell_type": "code",
   "execution_count": 73,
   "metadata": {
    "ExecuteTime": {
     "end_time": "2023-09-14T08:45:35.886271200Z",
     "start_time": "2023-09-14T08:45:35.859554900Z"
    }
   },
   "source": [
    "g / Δ01 * 100"
   ],
   "outputs": []
  },
  {
   "cell_type": "markdown",
   "metadata": {},
   "source": [
    "### Analytical approximation of the fluxonim-resonator coupling"
   ]
  },
  {
   "cell_type": "code",
   "execution_count": 74,
   "metadata": {
    "ExecuteTime": {
     "end_time": "2023-09-14T08:45:37.589234500Z",
     "start_time": "2023-09-14T08:45:37.573216700Z"
    }
   },
   "source": [
    "dVdφ =  lambda φ: E_L_f*φ + E_J*np.sin(φ+np.pi)\n",
    "φ_min = sp.optimize.fsolve(dVdφ, 1)[0]\n",
    "φ_min"
   ],
   "outputs": []
  },
  {
   "cell_type": "code",
   "execution_count": 80,
   "metadata": {
    "ExecuteTime": {
     "end_time": "2023-09-14T08:46:15.034409700Z",
     "start_time": "2023-09-14T08:46:15.018786400Z"
    }
   },
   "source": [
    "Φ_f_an =(Φ_0 / 2*np.pi) * φ_min\n",
    "Φ_f_an"
   ],
   "outputs": []
  },
  {
   "cell_type": "code",
   "execution_count": 81,
   "metadata": {
    "ExecuteTime": {
     "end_time": "2023-09-14T08:46:19.012577800Z",
     "start_time": "2023-09-14T08:46:18.986561900Z"
    }
   },
   "source": [
    "Φ_r_an = np.sqrt(sq.hbar/2 * np.sqrt(L_r/C_r))\n",
    "Φ_r_an"
   ],
   "outputs": []
  },
  {
   "cell_type": "code",
   "execution_count": 83,
   "metadata": {
    "ExecuteTime": {
     "end_time": "2023-09-14T08:46:23.114487100Z",
     "start_time": "2023-09-14T08:46:23.082758900Z"
    }
   },
   "source": [
    "g_an = Φ_f_an * Φ_r_an /L_c / h /GHz\n",
    "g_an"
   ],
   "outputs": []
  },
  {
   "cell_type": "code",
   "execution_count": 84,
   "metadata": {
    "ExecuteTime": {
     "end_time": "2023-09-14T08:46:24.149706300Z",
     "start_time": "2023-09-14T08:46:24.133969100Z"
    }
   },
   "source": [
    "g_an / Δ01 * 100"
   ],
   "outputs": []
  },
  {
   "cell_type": "code",
   "execution_count": null,
   "metadata": {},
   "source": [],
   "outputs": []
  }
 ],
 "metadata": {
  "kernelspec": {
   "display_name": "Python 3 (ipykernel)",
   "language": "python",
   "name": "python3"
  },
  "language_info": {
   "codemirror_mode": {
    "name": "ipython",
    "version": 3
   },
   "file_extension": ".py",
   "mimetype": "text/x-python",
   "name": "python",
   "nbconvert_exporter": "python",
   "pygments_lexer": "ipython3",
   "version": "3.8.18"
  }
 },
 "nbformat": 4,
 "nbformat_minor": 1
}
