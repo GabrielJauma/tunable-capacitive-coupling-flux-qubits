{
 "cells": [
  {
   "cell_type": "code",
   "execution_count": 164,
   "outputs": [],
   "source": [
    "import Modules.SQcircuit_extensions as sq_ext\n",
    "import Modules.figures as figs\n",
    "import SQcircuit as sq\n",
    "import numpy as np\n",
    "import matplotlib.pyplot as plt\n",
    "import importlib\n",
    "import qutip as qt\n",
    "import scipy as sp\n",
    "\n",
    "plt.rcParams['text.usetex'] = False\n",
    "importlib.reload(sq_ext)\n",
    "importlib.reload(sq)\n",
    "importlib.reload(figs)\n",
    "np.set_printoptions(linewidth=200, formatter={'float': '{:.3f}'.format})"
   ],
   "metadata": {
    "collapsed": false,
    "ExecuteTime": {
     "end_time": "2023-11-28T20:34:30.435204300Z",
     "start_time": "2023-11-28T20:34:30.408491600Z"
    }
   }
  },
  {
   "cell_type": "code",
   "execution_count": 99,
   "outputs": [],
   "source": [
    "def premade_coupled_resonators(Δ):\n",
    "    if Δ == 0:\n",
    "        C   = sq.Capacitor(1, 'fF')\n",
    "        L   = sq.Inductor(1, 'nH')\n",
    "        elements = {(0, 1): [L, C],\n",
    "                    (0, 2): [L, C], }\n",
    "        return sq.Circuit(elements)\n",
    "\n",
    "    else:\n",
    "        C = sq.Capacitor(1, 'fF')\n",
    "        L = sq.Inductor(1, 'nH')\n",
    "        L_Δ = sq.Inductor(Δ, 'nH')\n",
    "        elements = {(0, 1): [L, C],\n",
    "                    (0, 2): [L, C],\n",
    "                    (1, 2): [L_Δ], }\n",
    "        return sq.Circuit(elements)\n",
    "\n",
    "def premade_single_resonator(Δ):\n",
    "    if Δ == 0:\n",
    "        C   = sq.Capacitor(1, 'fF')\n",
    "        L   = sq.Inductor(1,  'nH')\n",
    "        elements = {(0, 1): [L, C],}\n",
    "        return sq.Circuit(elements)\n",
    "\n",
    "    else:\n",
    "        C   = sq.Capacitor(1, 'fF')\n",
    "        L   = sq.Inductor(1/(1+1/Δ), 'nH')\n",
    "        elements = {(0, 1): [L, C],}\n",
    "        return sq.Circuit(elements)\n",
    "\n"
   ],
   "metadata": {
    "collapsed": false,
    "ExecuteTime": {
     "end_time": "2023-11-28T20:21:40.294093500Z",
     "start_time": "2023-11-28T20:21:40.286372300Z"
    }
   }
  },
  {
   "cell_type": "code",
   "execution_count": 112,
   "outputs": [],
   "source": [
    "n_eig = 3\n",
    "trunc_num = 45\n",
    "Δ=0.1\n",
    "\n",
    "coupled_res     = premade_coupled_resonators    (Δ=Δ)\n",
    "res             = premade_single_resonator      (Δ=Δ)\n",
    "\n",
    "uncoupled_res   = premade_coupled_resonators    (Δ=0)\n",
    "res_0           = premade_single_resonator      (Δ=0)\n",
    "\n",
    "coupled_res     .set_trunc_nums([trunc_num, trunc_num])\n",
    "uncoupled_res   .set_trunc_nums([trunc_num, trunc_num])\n",
    "res             .set_trunc_nums([trunc_num])\n",
    "res_0           .set_trunc_nums([trunc_num])\n",
    "\n",
    "_ = coupled_res     .diag(n_eig)\n",
    "_ = uncoupled_res   .diag(n_eig)\n",
    "_ = res             .diag(n_eig)\n",
    "_ = res_0           .diag(n_eig)\n"
   ],
   "metadata": {
    "collapsed": false,
    "ExecuteTime": {
     "end_time": "2023-11-28T20:23:39.744464400Z",
     "start_time": "2023-11-28T20:23:39.570074200Z"
    }
   }
  },
  {
   "cell_type": "code",
   "execution_count": 113,
   "outputs": [],
   "source": [
    "Q = res.charge_op(0)\n",
    "Φ = res.flux_op(0)\n",
    "\n",
    "Q_0 = res_0.charge_op(0)\n",
    "Φ_0 = res_0.flux_op(0)\n"
   ],
   "metadata": {
    "collapsed": false,
    "ExecuteTime": {
     "end_time": "2023-11-28T20:23:41.492904800Z",
     "start_time": "2023-11-28T20:23:41.476879500Z"
    }
   }
  },
  {
   "cell_type": "code",
   "execution_count": 114,
   "outputs": [],
   "source": [
    "H_res_0 = 1/2 * Q_0**2/1e-15 + 1/2 * Φ_0**2/1e-9\n",
    "# H_res_0 = 1/2 * Q_0**2 + 1/2 * Φ_0**2\n",
    "H_res   = 1/2 * Q**2/1e-15 + 1/2 * (1+1/Δ) * Φ**2/1e-9\n",
    "# H_res   = 1/2 * Q**2+ 1/2 * (1+1/Δ) * Φ**2\n",
    "\n",
    "H_res_0 = res_0.hamiltonian()\n",
    "H_res   = res.hamiltonian()\n",
    "\n",
    "I = qt.identity(H_res.shape[0])\n",
    "\n",
    "H_unc_res = qt.tensor(H_res_0,I) + qt.tensor(I,H_res_0)\n",
    "\n",
    "H_coup_res = qt.tensor(H_res,I) + qt.tensor(I,H_res) + (1/Δ/1e-9) * qt.tensor(Φ,Φ)\n",
    "# H_coup_res = qt.tensor(H_res,I) + qt.tensor(I,H_res) + (1/Δ) * qt.tensor(Φ,Φ)\n"
   ],
   "metadata": {
    "collapsed": false,
    "ExecuteTime": {
     "end_time": "2023-11-28T20:23:41.734275900Z",
     "start_time": "2023-11-28T20:23:41.718641Z"
    }
   }
  },
  {
   "cell_type": "code",
   "execution_count": 115,
   "outputs": [],
   "source": [
    "Φ_unc, Q = sq_ext.get_node_variables(uncoupled_res, 'FC', True)\n"
   ],
   "metadata": {
    "collapsed": false,
    "ExecuteTime": {
     "end_time": "2023-11-28T20:23:42.157026400Z",
     "start_time": "2023-11-28T20:23:42.141323200Z"
    }
   }
  },
  {
   "cell_type": "code",
   "execution_count": 163,
   "outputs": [
    {
     "name": "stdout",
     "output_type": "stream",
     "text": [
      "[[  0.   +0.j      0.   +0.j     -0.   -0.j   ]\n",
      " [  0.   -0.j    159.155-0.j      1.972-2.833j]\n",
      " [ -0.   +0.j      1.972+2.833j 159.155-0.j   ]]\n",
      "[[  0.   +0.j      0.   +0.j      0.   -0.j   ]\n",
      " [  0.   -0.j    159.155+0.j     -9.38 -2.735j]\n",
      " [  0.   +0.j     -9.38 +2.735j 159.155+0.j   ]]\n",
      "[[0.000 0.000 0.000]\n",
      " [0.000 -0.000 -6.319]\n",
      " [0.000 -6.319 0.000]]\n"
     ]
    }
   ],
   "source": [
    "H_eff_full = sq_ext.H_eff_p1(uncoupled_res,uncoupled_res, out='GHz', real=True)\n",
    "H_eff_full -= H_eff_full[0,0]*np.eye(n_eig)\n",
    "\n",
    "H_eff_frc = sq_ext.H_eff_p1_hamil(H_unc_res, H_unc_res, n_eig, out='GHz', real=True)\n",
    "H_eff_frc -= H_eff_frc[0,0]*np.eye(n_eig)\n",
    "\n",
    "print(np.round(H_eff_full,3))\n",
    "print(np.round(H_eff_frc, 3))\n",
    "print(np.round(np.abs(H_eff_full)-np.abs(H_eff_frc),4))"
   ],
   "metadata": {
    "collapsed": false,
    "ExecuteTime": {
     "end_time": "2023-11-28T20:33:45.050205100Z",
     "start_time": "2023-11-28T20:33:44.940113200Z"
    }
   }
  },
  {
   "cell_type": "code",
   "execution_count": 89,
   "outputs": [
    {
     "name": "stdout",
     "output_type": "stream",
     "text": [
      "[[0.000 0.003 0.002]\n",
      " [0.003 999999999999.507 54891.861]\n",
      " [0.002 54891.861 1000000009998.506]]\n",
      "[[525336942860.141 0.004 0.005]\n",
      " [0.004 474663058019.876 0.003]\n",
      " [0.005 0.003 1474663079600.596]]\n",
      "[[525336942860.141 0.007 0.004]\n",
      " [0.007 525336941979.631 54891.858]\n",
      " [0.004 54891.858 474663069602.090]]\n"
     ]
    }
   ],
   "source": [
    "H_eff_full = sq_ext.H_eff_p1(coupled_res,coupled_res, out=None)\n",
    "# H_eff_full -= H_eff_full[0,0]*np.eye(n_eig)\n",
    "\n",
    "H_eff_frc = sq_ext.H_eff_p1_hamil(H_coup_res, H_coup_res, n_eig, out=None)\n",
    "# H_eff_frc -= H_eff_frc[0,0]*np.eye(n_eig)\n",
    "\n",
    "print(np.abs(H_eff_full))\n",
    "print(np.abs(H_eff_frc))\n",
    "print(np.round(np.abs(H_eff_full-H_eff_frc),4))"
   ],
   "metadata": {
    "collapsed": false,
    "ExecuteTime": {
     "end_time": "2023-11-28T20:20:33.615581900Z",
     "start_time": "2023-11-28T20:20:33.583793600Z"
    }
   }
  },
  {
   "cell_type": "code",
   "execution_count": 90,
   "outputs": [
    {
     "name": "stdout",
     "output_type": "stream",
     "text": [
      "[[0.000 0.000 0.000]\n",
      " [0.000 999999999999.504 0.002]\n",
      " [0.000 0.002 1999999999999.011]]\n"
     ]
    }
   ],
   "source": [
    "ψ_full = np.array([ψ_i.__array__()[:, 0] for ψ_i in res_0._evecs]).T\n",
    "H_full = res_0.hamiltonian().__array__()\n",
    "\n",
    "print(np.abs(ψ_full.conj().T @ H_full @ ψ_full))\n"
   ],
   "metadata": {
    "collapsed": false,
    "ExecuteTime": {
     "end_time": "2023-11-28T20:20:34.543205300Z",
     "start_time": "2023-11-28T20:20:34.533069100Z"
    }
   }
  },
  {
   "cell_type": "code",
   "execution_count": 91,
   "outputs": [
    {
     "name": "stdout",
     "output_type": "stream",
     "text": [
      "[[0.000 0.003 0.001]\n",
      " [0.003 999999999999.508 210520400652.359]\n",
      " [0.001 210520400652.359 999999999999.504]]\n"
     ]
    }
   ],
   "source": [
    "ψ_full = np.array([ψ_i.__array__()[:, 0] for ψ_i in uncoupled_res._evecs]).T\n",
    "H_full = uncoupled_res.hamiltonian().__array__()\n",
    "\n",
    "print(np.abs(ψ_full.conj().T @ H_full @ ψ_full))\n"
   ],
   "metadata": {
    "collapsed": false,
    "ExecuteTime": {
     "end_time": "2023-11-28T20:20:35.243418500Z",
     "start_time": "2023-11-28T20:20:35.237411600Z"
    }
   }
  },
  {
   "cell_type": "code",
   "execution_count": 92,
   "outputs": [
    {
     "name": "stdout",
     "output_type": "stream",
     "text": [
      "[[0.000 0.000 0.000 ... 0.000 0.000 0.000]\n",
      " [0.000 999999999999.500 0.000 ... 0.000 0.000 0.000]\n",
      " [0.000 0.000 999999999999.500 ... 0.000 0.000 0.000]\n",
      " ...\n",
      " [0.000 0.000 0.000 ... 46999999999976.500 0.000 0.000]\n",
      " [0.000 0.000 0.000 ... 0.000 46999999999976.500 0.000]\n",
      " [0.000 0.000 0.000 ... 0.000 0.000 47999999999976.000]]\n"
     ]
    }
   ],
   "source": [
    "# ψ_frc = sq_ext.diag(H_unc_res,n_eig)[1]\n",
    "ψ_frc = np.linalg.eigh(H_unc_res)[1]\n",
    "print(np.abs(ψ_frc.conj().T @ H_unc_res.__array__() @ ψ_frc))\n"
   ],
   "metadata": {
    "collapsed": false,
    "ExecuteTime": {
     "end_time": "2023-11-28T20:20:38.341063100Z",
     "start_time": "2023-11-28T20:20:38.166713Z"
    }
   }
  },
  {
   "cell_type": "code",
   "execution_count": 93,
   "outputs": [
    {
     "data": {
      "text/plain": "array([[0.000, 0.003, 0.001],\n       [0.003, 999999999999.507, 210520400652.359],\n       [0.001, 210520400652.359, 999999999999.504]])"
     },
     "execution_count": 93,
     "metadata": {},
     "output_type": "execute_result"
    }
   ],
   "source": [
    "np.abs(uncoupled_res.hamiltonian_op('eig').__array__())"
   ],
   "metadata": {
    "collapsed": false,
    "ExecuteTime": {
     "end_time": "2023-11-28T20:20:39.693478300Z",
     "start_time": "2023-11-28T20:20:39.680149800Z"
    }
   }
  },
  {
   "cell_type": "code",
   "execution_count": 94,
   "outputs": [
    {
     "name": "stdout",
     "output_type": "stream",
     "text": [
      "[[0.000 0.010 0.005]\n",
      " [0.010 0.000 0.008]\n",
      " [0.005 0.008 0.029]]\n"
     ]
    }
   ],
   "source": [
    "H_eff_full = sq_ext.H_eff_p1(res,res, out=None)\n",
    "# H_eff_full -= H_eff_full[0,0]*np.eye(n_eig)\n",
    "\n",
    "H_eff_frc = sq_ext.H_eff_p1_hamil(H_res, H_res, n_eig, out=None)\n",
    "# H_eff_frc -= H_eff_frc[0,0]*np.eye(n_eig)\n",
    "\n",
    "# print(np.abs(H_eff_full))\n",
    "# print(np.abs(H_eff_frc))\n",
    "print(np.round(np.abs(H_eff_full-H_eff_frc),4))\n"
   ],
   "metadata": {
    "collapsed": false,
    "ExecuteTime": {
     "end_time": "2023-11-28T20:20:40.690770Z",
     "start_time": "2023-11-28T20:20:40.676190400Z"
    }
   }
  },
  {
   "cell_type": "code",
   "execution_count": 116,
   "outputs": [
    {
     "name": "stdout",
     "output_type": "stream",
     "text": [
      "[0.000 159.155 318.310]\n",
      "[0.000 159.155 318.310]\n",
      "159.15494309182884\n",
      "159.15494309182222\n"
     ]
    }
   ],
   "source": [
    "E = sq_ext.diag(H_coup_res , n_eig, out='GHz')[0]\n",
    "\n",
    "print( (E-E[0]))\n",
    "print( coupled_res.efreqs )\n",
    "\n",
    "print( (E-E[0])[1])\n",
    "print( coupled_res.efreqs[1] )\n"
   ],
   "metadata": {
    "collapsed": false,
    "ExecuteTime": {
     "end_time": "2023-11-28T20:23:47.220416800Z",
     "start_time": "2023-11-28T20:23:47.102907900Z"
    }
   }
  },
  {
   "cell_type": "code",
   "execution_count": 108,
   "outputs": [
    {
     "name": "stdout",
     "output_type": "stream",
     "text": [
      "[0.000 999999999999.494 999999999999.510]\n",
      "[-0.004 999999999999.507 999999999999.515]\n",
      "999999999999.4935\n",
      "999999999999.5068\n"
     ]
    }
   ],
   "source": [
    "E = sq_ext.diag(H_unc_res , n_eig, out=None)[0]\n",
    "\n",
    "print( (E-E[0]))\n",
    "print( uncoupled_res._efreqs )\n",
    "\n",
    "print( (E-E[0])[1])\n",
    "print( uncoupled_res._efreqs[1] )\n"
   ],
   "metadata": {
    "collapsed": false,
    "ExecuteTime": {
     "end_time": "2023-11-28T20:22:27.455275200Z",
     "start_time": "2023-11-28T20:22:27.444339600Z"
    }
   }
  },
  {
   "cell_type": "code",
   "execution_count": 107,
   "outputs": [
    {
     "name": "stdout",
     "output_type": "stream",
     "text": [
      "3316624790353.7407\n",
      "3316624790353.767\n"
     ]
    }
   ],
   "source": [
    "E = sq_ext.diag(H_res , n_eig, out=None)[0]\n",
    "print( (E-E[0])[1])\n",
    "print( res._efreqs[1] )\n"
   ],
   "metadata": {
    "collapsed": false,
    "ExecuteTime": {
     "end_time": "2023-11-28T20:22:24.272615200Z",
     "start_time": "2023-11-28T20:22:24.256988400Z"
    }
   }
  },
  {
   "cell_type": "code",
   "execution_count": 106,
   "outputs": [
    {
     "name": "stdout",
     "output_type": "stream",
     "text": [
      "[0.000 999999999999.508 1999999999999.008]\n",
      "[0.002 999999999999.502 1999999999999.011]\n"
     ]
    }
   ],
   "source": [
    "E = sq_ext.diag(H_res_0 , n_eig, out=None)[0]\n",
    "print( E )\n",
    "print( res_0._efreqs )\n"
   ],
   "metadata": {
    "collapsed": false,
    "ExecuteTime": {
     "end_time": "2023-11-28T20:22:22.506341700Z",
     "start_time": "2023-11-28T20:22:22.490309400Z"
    }
   }
  },
  {
   "cell_type": "code",
   "execution_count": 3,
   "outputs": [],
   "source": [
    "Csh = 15\n",
    "C   = 15\n",
    "CJ  = 3\n",
    "Lq  = 25\n",
    "Lr  = 10\n",
    "\n",
    "Cf = C/2 + Csh + CJ\n",
    "C_f = Cf * 1e-15\n",
    "C_r = C/2 * 1e-15"
   ],
   "metadata": {
    "collapsed": false
   }
  },
  {
   "cell_type": "code",
   "execution_count": null,
   "outputs": [],
   "source": [
    "def KIT_resonator(C=15, Lq=25, Lr=10, Δ=0.1):\n",
    "    l = Lq * (Lq + 4 * Lr) - 4 * Δ ** 2\n",
    "    resonator_elements = {\n",
    "        (0, 1): [sq.Capacitor(C / 2, 'fF'), sq.Inductor(l / Lq, 'nH')],\n",
    "    }\n",
    "    return sq.Circuit(resonator_elements)\n",
    "\n",
    "\n",
    "def KIT_fluxonium_no_JJ(C=15, CJ=3, Csh=15, Lq=25, Lr=10, Δ=0.1):\n",
    "    l = Lq * (Lq + 4 * Lr) - 4 * Δ ** 2\n",
    "    fluxonium_elements = {\n",
    "        (0, 1): [sq.Capacitor(C / 2 + Csh + CJ, 'fF'),\n",
    "                 sq.Inductor(l / (Lq + 4 * Lr), 'nH')],\n",
    "    }\n",
    "    return sq.Circuit(fluxonium_elements)\n",
    "\n",
    "def KIT_qubit_no_JJ(C = 15, CJ = 3, Csh= 15 , Lq = 25, Lr = 10, Δ = 0.1, φ_ext=0.5):\n",
    "\n",
    "    # Initialize loop(s)\n",
    "    # loop = sq.Loop(φ_ext)\n",
    "\n",
    "    # Circuit components\n",
    "    C_01 = sq.Capacitor(C,       'fF')\n",
    "    C_02 = sq.Capacitor(C,       'fF')\n",
    "    C_12 = sq.Capacitor(CJ+Csh,  'fF')\n",
    "    L_03 = sq.Inductor(Lr,       'nH')\n",
    "    L_31 = sq.Inductor(Lq/2 - Δ, 'nH')#,  loops=[loop])\n",
    "    L_23 = sq.Inductor(Lq/2 + Δ, 'nH')#,  loops=[loop])\n",
    "\n",
    "    elements = {\n",
    "        (0, 3): [L_03],\n",
    "        (0, 1): [C_01],\n",
    "        (0, 2): [C_02],\n",
    "        (3, 1): [L_31],\n",
    "        (1, 2): [C_12],\n",
    "        (2, 3): [L_23],\n",
    "    }\n",
    "\n",
    "    # Create and return the circuit\n",
    "    return sq.Circuit(elements)\n",
    "\n",
    "def KIT_fluxonium(C = 15, CJ = 3, Csh= 15, Lq = 25, Lr = 10, Δ = 0.1, EJ = 10.0, φ_ext=0.5):\n",
    "    l = Lq * (Lq + 4 * Lr) - 4 * Δ ** 2\n",
    "    loop_fluxonium = sq.Loop(φ_ext)\n",
    "    fluxonium_elements = {\n",
    "        (0, 1): [sq.Capacitor(C / 2 + Csh + CJ, 'fF'),\n",
    "                 sq.Inductor(l / (Lq + 4 * Lr), 'nH', loops=[loop_fluxonium]),\n",
    "                 sq.Junction(EJ, 'GHz', loops=[loop_fluxonium])],\n",
    "    }\n",
    "    return sq.Circuit(fluxonium_elements)\n",
    "\n",
    "def KIT_qubit(C = 15, CJ = 3, Csh= 15 , Lq = 25, Lr = 10, Δ = 0.1, EJ = 10.0, φ_ext=0.5):\n",
    "\n",
    "    # Initialize loop(s)\n",
    "    loop = sq.Loop(φ_ext)\n",
    "\n",
    "    # Circuit components\n",
    "    C_01 = sq.Capacitor(C,       'fF')\n",
    "    C_02 = sq.Capacitor(C,       'fF')\n",
    "    C_12 = sq.Capacitor(CJ+Csh,  'fF')\n",
    "    L_03 = sq.Inductor(Lr,       'nH')\n",
    "    L_31 = sq.Inductor(Lq/2 - Δ, 'nH',  loops=[loop])\n",
    "    L_23 = sq.Inductor(Lq/2 + Δ, 'nH',  loops=[loop])\n",
    "    JJ_12= sq.Junction(EJ,       'GHz', loops=[loop])\n",
    "\n",
    "    elements = {\n",
    "        (0, 3): [L_03],\n",
    "        (0, 1): [C_01],\n",
    "        (0, 2): [C_02],\n",
    "        (3, 1): [L_31],\n",
    "        (1, 2): [C_12, JJ_12],\n",
    "        (2, 3): [L_23],\n",
    "    }\n",
    "\n",
    "    # Create and return the circuit\n",
    "    return sq.Circuit(elements)\n"
   ],
   "metadata": {
    "collapsed": false
   }
  },
  {
   "cell_type": "code",
   "execution_count": null,
   "outputs": [],
   "source": [
    "n_eig = 4\n",
    "trunc_num = 20\n",
    "Δ=1\n",
    "\n",
    "res     = KIT_resonator          (Δ=Δ)\n",
    "# flu     = KIT_fluxonium   (Δ=Δ)\n",
    "# qubit   = KIT_qubit      (Δ=Δ)\n",
    "flu     = KIT_fluxonium_no_JJ    (Δ=Δ)\n",
    "qubit   = KIT_qubit_no_JJ        (Δ=Δ)\n",
    "\n",
    "res_0   = KIT_resonator          (Δ=0)\n",
    "# flu_0   = KIT_fluxonium    (Δ=0)\n",
    "# qubit_0 = KIT_qubit       (Δ=0)\n",
    "flu_0   = KIT_fluxonium_no_JJ    (Δ=0)\n",
    "qubit_0 = KIT_qubit_no_JJ        (Δ=0)\n",
    "#\n",
    "res     .set_trunc_nums([trunc_num])\n",
    "flu     .set_trunc_nums([trunc_num])\n",
    "qubit   .set_trunc_nums([1, trunc_num,trunc_num])\n",
    "# qubit   .set_trunc_nums( [trunc_num,trunc_num])\n",
    "res_0   .set_trunc_nums([trunc_num])\n",
    "flu_0   .set_trunc_nums([trunc_num])\n",
    "qubit_0 .set_trunc_nums([1, trunc_num,trunc_num])\n",
    "# qubit_0 .set_trunc_nums([trunc_num,trunc_num])\n",
    "\n",
    "_ = res     .diag(n_eig)\n",
    "_ = flu     .diag(n_eig)\n",
    "_ = qubit   .diag(n_eig)\n",
    "_ = res_0   .diag(n_eig)\n",
    "_ = flu_0   .diag(n_eig)\n",
    "_ = qubit_0 .diag(n_eig)\n"
   ],
   "metadata": {
    "collapsed": false
   }
  },
  {
   "cell_type": "code",
   "execution_count": null,
   "outputs": [],
   "source": [
    "l = Lq*(Lq+4*Lr) - 4*Δ**2\n",
    "L_r = l/Lq * 1e-9\n",
    "L_f = l/(Lq+4*Lr) * 1e-9\n",
    "L_c = l/Δ * 1e-9\n",
    "\n",
    "L_r_0 = (Lq+4*Lr) * 1e-9\n",
    "L_f_0 = Lq * 1e-9\n"
   ],
   "metadata": {
    "collapsed": false
   }
  },
  {
   "cell_type": "code",
   "execution_count": null,
   "outputs": [],
   "source": [
    "Q_res = res.charge_op(0)\n",
    "Φ_res = res.flux_op(0)\n",
    "\n",
    "Q_res_0 = res_0.charge_op(0)\n",
    "Φ_res_0 = res_0.flux_op(0)\n",
    "\n",
    "Q_flu = flu.charge_op(0)\n",
    "Φ_flu = flu.flux_op(0)\n",
    "\n",
    "Q_flu_0 = flu_0.charge_op(0)\n",
    "Φ_flu_0 = flu_0.flux_op(0)\n"
   ],
   "metadata": {
    "collapsed": false
   }
  },
  {
   "cell_type": "code",
   "execution_count": null,
   "outputs": [],
   "source": [
    "H_res_0 = 1/2 * Q_res_0**2 / C_r  + 1/2 * Φ_res_0**2 / L_r_0\n",
    "# H_res = 1/2 * Q_res**2 / C_r  + 1/2 * Φ_res**2 / L_r\n",
    "H_res = res.hamiltonian()\n",
    "\n",
    "H_flu_0 = 1/2 * Q_flu_0**2 / C_f + 1/2 * Φ_flu_0**2 / L_f_0\n",
    "# H_flu = 1/2 * Q_flu**2 / C_f + 1/2 * Φ_flu**2 / L_f\n",
    "H_flu = flu.hamiltonian()\n",
    "\n",
    "I_res = qt.identity(H_res.shape[0])\n",
    "I_flu = qt.identity(H_flu.shape[0])\n",
    "\n",
    "H_qubit_0 = qt.tensor(H_res_0,I_res) + qt.tensor(I_res,H_flu_0)\n",
    "H_qubit = qt.tensor(H_res,I_flu) + qt.tensor(I_res,H_flu) + qt.tensor(Φ_res,Φ_flu) * 2 * Δ / l / 1e-9\n"
   ],
   "metadata": {
    "collapsed": false
   }
  },
  {
   "cell_type": "code",
   "execution_count": null,
   "outputs": [],
   "source": [
    "Φ, Q = sq_ext.get_node_variables(qubit , 'FC', isolated='True')\n"
   ],
   "metadata": {
    "collapsed": false
   }
  },
  {
   "cell_type": "code",
   "execution_count": null,
   "outputs": [],
   "source": [
    "E, ψ = sq_ext.diag(H_qubit , n_eig, out='GHz')\n",
    "ψ_sq = np.array([ψ_i.__array__()[:, 0] for ψ_i in qubit._evecs])\n",
    "\n",
    "print( E-E[0])\n",
    "print( qubit.efreqs )\n",
    "for i in range(n_eig):\n",
    "    print(f'Energy error in state{i} = {np.abs((E-E[0])[i]- (qubit.efreqs[i]-qubit.efreqs[0]))}')\n",
    "    print(f'Wavefunction error in state{i} = {1 - np.abs(ψ[:,i].conj().T @ qubit._evecs[i].__array__())[0]}')\n",
    "\n"
   ],
   "metadata": {
    "collapsed": false
   }
  },
  {
   "cell_type": "code",
   "execution_count": null,
   "outputs": [],
   "source": [
    "E, ψ = sq_ext.diag(H_qubit , n_eig, out='GHz')\n",
    "ψ_sq = np.array([ψ_i.__array__()[:, 0] for ψ_i in qubit._evecs])\n",
    "\n",
    "print( E-E[0])\n",
    "print( qubit.efreqs )\n",
    "for i in range(n_eig):\n",
    "    print(f'Energy error in state{i} = {np.abs((E-E[0])[i]- (qubit.efreqs[i]-qubit.efreqs[0]))}')\n",
    "    print(f'Wavefunction error in state{i} = {1 - np.abs(ψ[:,i].conj().T @ qubit._evecs[i].__array__())[0]}')\n",
    "\n"
   ],
   "metadata": {
    "collapsed": false
   }
  },
  {
   "cell_type": "code",
   "execution_count": null,
   "outputs": [],
   "source": [
    "E = sq_ext.diag(H_qubit_0 , n_eig, out='GHz')[0]\n",
    "\n",
    "print( E-E [0])\n",
    "print( qubit_0.efreqs )\n",
    "\n",
    "print( (E-E[0])[1])\n",
    "print( qubit_0.efreqs[1] )\n"
   ],
   "metadata": {
    "collapsed": false
   }
  },
  {
   "cell_type": "code",
   "execution_count": null,
   "outputs": [],
   "source": [
    "E = sq_ext.diag(H_res , n_eig, out='GHz')[0]\n",
    "print(E-E[0] )\n",
    "print( res.efreqs )\n",
    "\n",
    "print( (E-E[0])[1])\n",
    "print( res.efreqs[1] )\n"
   ],
   "metadata": {
    "collapsed": false
   }
  },
  {
   "cell_type": "code",
   "execution_count": null,
   "outputs": [],
   "source": [
    "E = sq_ext.diag(H_flu_0, n_eig, out='GHz')[0]\n",
    "print(E-E[0])\n",
    "print( flu_0.efreqs )\n"
   ],
   "metadata": {
    "collapsed": false
   }
  },
  {
   "cell_type": "code",
   "execution_count": null,
   "outputs": [],
   "source": [
    "E = sq_ext.diag(H_res_0 , n_eig, out='GHz')[0]\n",
    "print(E-E[0] )\n",
    "print( res_0.efreqs )\n",
    "\n",
    "\n",
    "\n",
    "\n"
   ],
   "metadata": {
    "collapsed": false
   }
  }
 ],
 "metadata": {
  "kernelspec": {
   "display_name": "Python 3",
   "language": "python",
   "name": "python3"
  },
  "language_info": {
   "codemirror_mode": {
    "name": "ipython",
    "version": 2
   },
   "file_extension": ".py",
   "mimetype": "text/x-python",
   "name": "python",
   "nbconvert_exporter": "python",
   "pygments_lexer": "ipython2",
   "version": "2.7.6"
  }
 },
 "nbformat": 4,
 "nbformat_minor": 0
}
