{
 "cells": [
  {
   "cell_type": "code",
   "execution_count": 2,
   "metadata": {
    "ExecuteTime": {
     "end_time": "2023-11-29T15:39:33.817521500Z",
     "start_time": "2023-11-29T15:39:32.153196800Z"
    }
   },
   "source": [
    "import Modules.SQcircuit_extensions as sq_ext\n",
    "import Modules.figures as figs\n",
    "import SQcircuit as sq\n",
    "import numpy as np\n",
    "import matplotlib.pyplot as plt\n",
    "import importlib\n",
    "import qutip as qt\n",
    "import scipy as sp\n",
    "%matplotlib ipympl\n",
    "\n",
    "plt.rcParams['text.usetex'] = False\n",
    "importlib.reload(sq_ext)\n",
    "importlib.reload(sq)\n",
    "importlib.reload(figs)\n",
    "np.set_printoptions(linewidth=200, formatter={'float': '{:.6f}'.format})\n",
    "# np.set_printoptions(linewidth=200, formatter={'float': '{:.3e}'.format})"
   ],
   "outputs": []
  },
  {
   "cell_type": "code",
   "execution_count": 3,
   "metadata": {
    "ExecuteTime": {
     "end_time": "2023-11-29T11:14:53.908254302Z",
     "start_time": "2023-11-29T11:14:53.904954683Z"
    }
   },
   "source": [
    "GHz=1e9"
   ],
   "outputs": []
  },
  {
   "cell_type": "code",
   "execution_count": 4,
   "metadata": {
    "ExecuteTime": {
     "end_time": "2023-11-29T11:14:54.086131294Z",
     "start_time": "2023-11-29T11:14:54.076800157Z"
    }
   },
   "source": [
    "def premade_coupled_resonators(Δ):\n",
    "    if Δ == 0:\n",
    "        C   = sq.Capacitor(1, 'fF')\n",
    "        L   = sq.Inductor(1, 'nH')\n",
    "        elements = {(0, 1): [L, C],\n",
    "                    (0, 2): [L, C], }\n",
    "        return sq.Circuit(elements)\n",
    "\n",
    "    else:\n",
    "        C = sq.Capacitor(1, 'fF')\n",
    "        L = sq.Inductor(1, 'nH')\n",
    "        L_Δ = sq.Inductor(Δ, 'nH')\n",
    "        elements = {(0, 1): [L, C],\n",
    "                    (0, 2): [L, C],\n",
    "                    (1, 2): [L_Δ], }\n",
    "        return sq.Circuit(elements)\n",
    "\n",
    "def premade_single_resonator(Δ):\n",
    "    if Δ == 0:\n",
    "        C   = sq.Capacitor(1, 'fF')\n",
    "        L   = sq.Inductor(1,  'nH')\n",
    "        elements = {(0, 1): [L, C],}\n",
    "        return sq.Circuit(elements)\n",
    "\n",
    "    else:\n",
    "        C   = sq.Capacitor(1, 'fF')\n",
    "        L   = sq.Inductor(1/(1/1+1/Δ), 'nH')\n",
    "        elements = {(0, 1): [L, C],}\n",
    "        return sq.Circuit(elements)\n",
    "\n"
   ],
   "outputs": []
  },
  {
   "cell_type": "code",
   "execution_count": 99,
   "metadata": {
    "ExecuteTime": {
     "end_time": "2023-11-29T14:10:23.012470362Z",
     "start_time": "2023-11-29T14:10:22.955810044Z"
    }
   },
   "source": [
    "n_eig = 3\n",
    "trunc_num = 15\n",
    "Δ=1\n",
    "\n",
    "coupled_res     = premade_coupled_resonators    (Δ=Δ)\n",
    "res             = premade_single_resonator      (Δ=Δ)\n",
    "\n",
    "uncoupled_res   = premade_coupled_resonators    (Δ=0)\n",
    "res_0           = premade_single_resonator      (Δ=0)\n",
    "\n",
    "coupled_res     .set_trunc_nums([trunc_num, trunc_num])\n",
    "uncoupled_res   .set_trunc_nums([trunc_num, trunc_num])\n",
    "res             .set_trunc_nums([trunc_num])\n",
    "res_0           .set_trunc_nums([trunc_num])\n",
    "\n",
    "_ = coupled_res     .diag(n_eig)\n",
    "_ = uncoupled_res   .diag(n_eig)\n",
    "_ = res             .diag(n_eig)\n",
    "_ = res_0           .diag(n_eig)\n"
   ],
   "outputs": []
  },
  {
   "cell_type": "code",
   "execution_count": 100,
   "metadata": {
    "ExecuteTime": {
     "end_time": "2023-11-29T14:10:23.529192570Z",
     "start_time": "2023-11-29T14:10:23.485149583Z"
    }
   },
   "source": [
    "Q = res.charge_op(0)\n",
    "Φ = res.flux_op(0)\n",
    "\n",
    "Q_0 = res_0.charge_op(0)\n",
    "Φ_0 = res_0.flux_op(0)\n"
   ],
   "outputs": []
  },
  {
   "cell_type": "code",
   "execution_count": 101,
   "metadata": {
    "ExecuteTime": {
     "end_time": "2023-11-29T14:10:23.892518590Z",
     "start_time": "2023-11-29T14:10:23.850764091Z"
    }
   },
   "source": [
    "H_res_0 = 1/2 * Q_0**2/1e-15 + 1/2 * Φ_0**2/1e-9\n",
    "H_res   = 1/2 * Q**2/1e-15 + 1/2 * (1+1/Δ) * Φ**2/1e-9\n",
    "# H_res_0 = res_0.hamiltonian()\n",
    "# H_res   = res.hamiltonian()\n",
    "\n",
    "I = qt.identity(H_res.shape[0])\n",
    "\n",
    "H_unc_res  = qt.tensor(H_res_0,I) + qt.tensor(I,H_res_0)\n",
    "\n",
    "\n",
    "H_coup_res = qt.tensor(H_res,I)   + qt.tensor(I,H_res)   + (1/Δ/1e-9) * qt.tensor(Φ,Φ)\n",
    "# H_coup_res = qt.tensor(H_res,I) + qt.tensor(I,H_res) + (1/Δ) * qt.tensor(Φ,Φ)"
   ],
   "outputs": []
  },
  {
   "cell_type": "code",
   "execution_count": 155,
   "metadata": {},
   "source": [
    "E_sq = coupled_res.diag(n_eig=len(H), solver = 'numpy')[0]\n",
    "E_sq[:10]"
   ],
   "outputs": []
  },
  {
   "cell_type": "code",
   "execution_count": 157,
   "metadata": {},
   "source": [
    "E = sq_ext.diag(H_coup_res, n_eig=len(H), real=False,   solver='numpy')[0] /(2*np.pi*GHz)"
   ],
   "outputs": []
  },
  {
   "cell_type": "code",
   "execution_count": 159,
   "metadata": {},
   "source": [
    "E[:10]-E[0]"
   ],
   "outputs": []
  },
  {
   "cell_type": "code",
   "execution_count": 102,
   "metadata": {
    "ExecuteTime": {
     "end_time": "2023-11-29T14:10:25.582649767Z",
     "start_time": "2023-11-29T14:10:25.530098176Z"
    }
   },
   "source": [
    "_ = uncoupled_res   .diag(n_eig, solver = 'numpy')\n",
    "_ = coupled_res     .diag(n_eig, solver = 'numpy')\n",
    "# H_eff_full = sq_ext.H_eff_p1(uncoupled_res,coupled_res )\n",
    "H_eff_full = sq_ext.H_eff_p1_hamil(uncoupled_res.hamiltonian(), coupled_res.hamiltonian(), n_eig, solver='numpy' )\n",
    "\n",
    "\n",
    "# H_eff_full -= H_eff_full[0,0]*np.eye(n_eig)\n",
    "\n",
    "H_eff_frc = sq_ext.H_eff_p1_hamil(H_unc_res, H_coup_res, n_eig, solver='numpy')\n",
    "H_eff_frc -= H_eff_frc[0,0]*np.eye(n_eig)\n",
    "\n",
    "print(np.round(H_eff_full,8))\n",
    "print('\\n')\n",
    "print(np.round(H_eff_frc, 8))\n",
    "# print(np.round(np.abs(H_eff_full)-np.abs(H_eff_frc),4))"
   ],
   "outputs": []
  },
  {
   "cell_type": "code",
   "execution_count": 103,
   "metadata": {},
   "source": [
    "uncoupled_res.efreqs"
   ],
   "outputs": []
  },
  {
   "cell_type": "code",
   "execution_count": 104,
   "metadata": {
    "ExecuteTime": {
     "end_time": "2023-11-29T14:51:43.323085040Z",
     "start_time": "2023-11-29T14:51:43.210896666Z"
    }
   },
   "source": [
    "H_0 = H_unc_res.__array__()\n",
    "H = H_coup_res.__array__()\n",
    "fig, ax = plt.subplots(ncols=2, dpi=100)\n",
    "ax[0].matshow(np.abs(H_0))\n",
    "ax[1].matshow(np.abs(H))\n",
    "fig.suptitle('Resonator + resonator + coupling')\n",
    "fig.show()"
   ],
   "outputs": []
  },
  {
   "cell_type": "code",
   "execution_count": 105,
   "metadata": {
    "ExecuteTime": {
     "end_time": "2023-11-29T14:51:33.288464337Z",
     "start_time": "2023-11-29T14:51:33.215746809Z"
    }
   },
   "source": [
    "H_0 = uncoupled_res.hamiltonian().__array__()\n",
    "H = coupled_res.hamiltonian().__array__()\n",
    "fig, ax = plt.subplots(ncols=2,dpi=100)\n",
    "ax[0].matshow(np.abs(H_0))\n",
    "ax[1].matshow(np.abs(H))\n",
    "fig.suptitle('Full circuit in Sqcircuits')\n",
    "fig.show()"
   ],
   "outputs": []
  },
  {
   "cell_type": "code",
   "execution_count": 106,
   "metadata": {
    "ExecuteTime": {
     "start_time": "2023-11-29T14:47:32.376793965Z"
    }
   },
   "source": [
    "#H_0 = H_unc_res.__array__()\n",
    "#H = H_coup_res.__array__()\n",
    "H_0 = uncoupled_res.hamiltonian().__array__()\n",
    "H   = coupled_res.hamiltonian().__array__()\n",
    "\n",
    "ψ_0 = sq_ext.diag(H_0, n_eig=len(H_0), real=False, solver='numpy')[1].T\n",
    "ψ = sq_ext.diag(H, n_eig=len(H), real=False,   solver='numpy')[1].T\n"
   ],
   "outputs": []
  },
  {
   "cell_type": "code",
   "execution_count": 123,
   "metadata": {
    "ExecuteTime": {
     "end_time": "2023-11-29T14:12:27.982939069Z",
     "start_time": "2023-11-29T14:12:27.074572178Z"
    }
   },
   "source": [
    "H_eff = np.zeros([n_eig,n_eig], dtype='complex')\n",
    "\n",
    "for i in range(n_eig):\n",
    "    for j in range(n_eig):\n",
    "        for k in range(len(ψ)):\n",
    "            for l in range(len(ψ)):\n",
    "                H_eff[i,j] += (ψ_0[i].T.conj() @ ψ[k]) * (ψ[k].T.conj() @ H @ ψ[l]) * (ψ[l].T.conj() @ ψ_0[j])"
   ],
   "outputs": []
  },
  {
   "cell_type": "code",
   "execution_count": 140,
   "metadata": {},
   "source": [
    "U = ψ_0.conj().T @ ψ"
   ],
   "outputs": []
  },
  {
   "cell_type": "code",
   "execution_count": 142,
   "metadata": {},
   "source": [
    "np.round(np.real(H),3)[0:n_eig+1,0:n_eig+1]/( 2 * np.pi * GHz)"
   ],
   "outputs": []
  },
  {
   "cell_type": "code",
   "execution_count": 141,
   "metadata": {},
   "source": [
    "H2 = np.round(np.real(U.T @ H @ U),3)[0:n_eig+1,0:n_eig+1]/( 2 * np.pi * GHz)\n",
    "H2"
   ],
   "outputs": []
  },
  {
   "cell_type": "code",
   "execution_count": 47,
   "metadata": {
    "ExecuteTime": {
     "end_time": "2023-11-29T14:12:27.982939069Z",
     "start_time": "2023-11-29T14:12:27.074572178Z"
    }
   },
   "source": [
    "H_eff = np.zeros([n_eig,n_eig], dtype='complex')\n",
    "\n",
    "for i in range(n_eig):\n",
    "    for j in range(n_eig):\n",
    "        for k in range(len(ψ)):\n",
    "            H_eff[i,j] += (ψ_0[i].T.conj() @ ψ[k]) * (ψ[k].T.conj() @ H @ ψ[l]) * (ψ[l].T.conj() @ ψ_0[j])"
   ],
   "outputs": []
  },
  {
   "cell_type": "code",
   "execution_count": null,
   "metadata": {
    "ExecuteTime": {
     "end_time": "2023-11-29T14:12:27.983026531Z",
     "start_time": "2023-11-29T14:12:27.982486697Z"
    }
   },
   "source": [
    "H_eff /= 2 * np.pi * GHz\n",
    "#H_eff -= H_eff[0,0]*np.eye(n_eig)\n",
    "if np.allclose(np.imag(H_eff),0):\n",
    "    H_eff = np.real(H_eff)"
   ],
   "outputs": []
  },
  {
   "cell_type": "code",
   "execution_count": null,
   "metadata": {
    "ExecuteTime": {
     "end_time": "2023-11-29T14:12:27.983148909Z",
     "start_time": "2023-11-29T14:12:27.982621007Z"
    }
   },
   "source": [
    "H_eff"
   ],
   "outputs": []
  },
  {
   "cell_type": "code",
   "execution_count": 79,
   "metadata": {
    "ExecuteTime": {
     "end_time": "2023-11-29T13:19:16.196310144Z",
     "start_time": "2023-11-29T13:19:16.150906464Z"
    }
   },
   "source": [
    "ψ_0 = sq_ext.diag(H_unc_res, n_eig, real=False, solver='numpy')[1]\n",
    "# ψ_0 = qt.Qobj(H_unc_res).eigenstates(sparse=True, eigvals=n_eig)[1]\n",
    "# ψ_0 = np.array([ψ.__array__() for ψ in ψ_0])[:,:,0].T\n",
    "\n",
    "# ψ_0_real = sq_ext.real_eigenvectors(ψ_0)\n",
    "H_eff = ψ_0.conj().T @ H_coup_res.__array__() @ ψ_0 / GHz /2 /np.pi\n",
    "# H_eff =np.array( [ [(ψ_0_i.dag() * H_unc_res * ψ_0_j) [0,0] / GHz /2 /np.pi for ψ_0_i in ψ_0] for ψ_0_j in ψ_0])\n",
    "\n",
    "print(np.round(H_eff, 8))\n",
    "# print(np.round(np.abs(H_eff), 8))"
   ],
   "outputs": []
  },
  {
   "cell_type": "code",
   "execution_count": 89,
   "metadata": {
    "ExecuteTime": {
     "end_time": "2023-11-28T20:20:33.615581900Z",
     "start_time": "2023-11-28T20:20:33.583793600Z"
    }
   },
   "source": [
    "|H_eff_full = sq_ext.H_eff_p1(coupled_res,coupled_res, out=None)\n",
    "# H_eff_full -= H_eff_full[0,0]*np.eye(n_eig)\n",
    "\n",
    "H_eff_frc = sq_ext.H_eff_p1_hamil(H_coup_res, H_coup_res, n_eig, out=None)\n",
    "# H_eff_frc -= H_eff_frc[0,0]*np.eye(n_eig)\n",
    "\n",
    "print(np.abs(H_eff_full))\n",
    "print(np.abs(H_eff_frc))\n",
    "print(np.round(np.abs(H_eff_full-H_eff_frc),4))"
   ],
   "outputs": []
  },
  {
   "cell_type": "code",
   "execution_count": 90,
   "metadata": {
    "ExecuteTime": {
     "end_time": "2023-11-28T20:20:34.543205300Z",
     "start_time": "2023-11-28T20:20:34.533069100Z"
    }
   },
   "source": [
    "ψ_full = np.array([ψ_i.__array__()[:, 0] for ψ_i in res_0._evecs]).T\n",
    "H_full = res_0.hamiltonian().__array__()\n",
    "\n",
    "print(np.abs(ψ_full.conj().T @ H_full @ ψ_full))\n"
   ],
   "outputs": []
  },
  {
   "cell_type": "code",
   "execution_count": 91,
   "metadata": {
    "ExecuteTime": {
     "end_time": "2023-11-28T20:20:35.243418500Z",
     "start_time": "2023-11-28T20:20:35.237411600Z"
    }
   },
   "source": [
    "ψ_full = np.array([ψ_i.__array__()[:, 0] for ψ_i in uncoupled_res._evecs]).T\n",
    "H_full = uncoupled_res.hamiltonian().__array__()\n",
    "\n",
    "print(np.abs(ψ_full.conj().T @ H_full @ ψ_full))\n"
   ],
   "outputs": []
  },
  {
   "cell_type": "code",
   "execution_count": 92,
   "metadata": {
    "ExecuteTime": {
     "end_time": "2023-11-28T20:20:38.341063100Z",
     "start_time": "2023-11-28T20:20:38.166713Z"
    }
   },
   "source": [
    "# ψ_frc = sq_ext.diag(H_unc_res,n_eig)[1]\n",
    "ψ_frc = np.linalg.eigh(H_unc_res)[1]\n",
    "print(np.abs(ψ_frc.conj().T @ H_unc_res.__array__() @ ψ_frc))\n"
   ],
   "outputs": []
  },
  {
   "cell_type": "code",
   "execution_count": 93,
   "metadata": {
    "ExecuteTime": {
     "end_time": "2023-11-28T20:20:39.693478300Z",
     "start_time": "2023-11-28T20:20:39.680149800Z"
    }
   },
   "source": [
    "np.abs(uncoupled_res.hamiltonian_op('eig').__array__())"
   ],
   "outputs": []
  },
  {
   "cell_type": "code",
   "execution_count": 94,
   "metadata": {
    "ExecuteTime": {
     "end_time": "2023-11-28T20:20:40.690770Z",
     "start_time": "2023-11-28T20:20:40.676190400Z"
    }
   },
   "source": [
    "H_eff_full = sq_ext.H_eff_p1(res,res, out=None)\n",
    "# H_eff_full -= H_eff_full[0,0]*np.eye(n_eig)\n",
    "\n",
    "H_eff_frc = sq_ext.H_eff_p1_hamil(H_res, H_res, n_eig, out=None)\n",
    "# H_eff_frc -= H_eff_frc[0,0]*np.eye(n_eig)\n",
    "\n",
    "# print(np.abs(H_eff_full))\n",
    "# print(np.abs(H_eff_frc))\n",
    "print(np.round(np.abs(H_eff_full-H_eff_frc),4))\n"
   ],
   "outputs": []
  },
  {
   "cell_type": "code",
   "execution_count": 116,
   "metadata": {
    "ExecuteTime": {
     "end_time": "2023-11-28T20:23:47.220416800Z",
     "start_time": "2023-11-28T20:23:47.102907900Z"
    }
   },
   "source": [
    "E = sq_ext.diag(H_coup_res , n_eig, out='GHz')[0]\n",
    "\n",
    "print( (E-E[0]))\n",
    "print( coupled_res.efreqs )\n",
    "\n",
    "print( (E-E[0])[1])\n",
    "print( coupled_res.efreqs[1] )\n"
   ],
   "outputs": []
  },
  {
   "cell_type": "code",
   "execution_count": 108,
   "metadata": {
    "ExecuteTime": {
     "end_time": "2023-11-28T20:22:27.455275200Z",
     "start_time": "2023-11-28T20:22:27.444339600Z"
    }
   },
   "source": [
    "E = sq_ext.diag(H_unc_res , n_eig, out=None)[0]\n",
    "\n",
    "print( (E-E[0]))\n",
    "print( uncoupled_res._efreqs )\n",
    "\n",
    "print( (E-E[0])[1])\n",
    "print( uncoupled_res._efreqs[1] )\n"
   ],
   "outputs": []
  },
  {
   "cell_type": "code",
   "execution_count": 107,
   "metadata": {
    "ExecuteTime": {
     "end_time": "2023-11-28T20:22:24.272615200Z",
     "start_time": "2023-11-28T20:22:24.256988400Z"
    }
   },
   "source": [
    "E = sq_ext.diag(H_res , n_eig, out=None)[0]\n",
    "print( (E-E[0])[1])\n",
    "print( res._efreqs[1] )\n"
   ],
   "outputs": []
  },
  {
   "cell_type": "code",
   "execution_count": 106,
   "metadata": {
    "ExecuteTime": {
     "end_time": "2023-11-28T20:22:22.506341700Z",
     "start_time": "2023-11-28T20:22:22.490309400Z"
    }
   },
   "source": [
    "E = sq_ext.diag(H_res_0 , n_eig, out=None)[0]\n",
    "print( E )\n",
    "print( res_0._efreqs )\n"
   ],
   "outputs": []
  },
  {
   "cell_type": "code",
   "execution_count": 3,
   "metadata": {},
   "source": [
    "Csh = 15\n",
    "C   = 15\n",
    "CJ  = 3\n",
    "Lq  = 25\n",
    "Lr  = 10\n",
    "\n",
    "Cf = C/2 + Csh + CJ\n",
    "C_f = Cf * 1e-15\n",
    "C_r = C/2 * 1e-15"
   ],
   "outputs": []
  },
  {
   "cell_type": "code",
   "execution_count": null,
   "metadata": {},
   "source": [
    "def sq_resonator(C=15, Lq=25, Lr=10, Δ=0.1):\n",
    "    l = Lq * (Lq + 4 * Lr) - 4 * Δ ** 2\n",
    "    resonator_elements = {\n",
    "        (0, 1): [sq.Capacitor(C / 2, 'fF'), sq.Inductor(l / Lq, 'nH')],\n",
    "    }\n",
    "    return sq.Circuit(resonator_elements)\n",
    "\n",
    "\n",
    "def KIT_fluxonium_no_JJ(C=15, CJ=3, Csh=15, Lq=25, Lr=10, Δ=0.1):\n",
    "    l = Lq * (Lq + 4 * Lr) - 4 * Δ ** 2\n",
    "    fluxonium_elements = {\n",
    "        (0, 1): [sq.Capacitor(C / 2 + Csh + CJ, 'fF'),\n",
    "                 sq.Inductor(l / (Lq + 4 * Lr), 'nH')],\n",
    "    }\n",
    "    return sq.Circuit(fluxonium_elements)\n",
    "\n",
    "def KIT_qubit_no_JJ(C = 15, CJ = 3, Csh= 15 , Lq = 25, Lr = 10, Δ = 0.1, φ_ext=0.5):\n",
    "\n",
    "    # Initialize loop(s)\n",
    "    # loop = sq.Loop(φ_ext)\n",
    "\n",
    "    # Circuit components\n",
    "    C_01 = sq.Capacitor(C,       'fF')\n",
    "    C_02 = sq.Capacitor(C,       'fF')\n",
    "    C_12 = sq.Capacitor(CJ+Csh,  'fF')\n",
    "    L_03 = sq.Inductor(Lr,       'nH')\n",
    "    L_31 = sq.Inductor(Lq/2 - Δ, 'nH')#,  loops=[loop])\n",
    "    L_23 = sq.Inductor(Lq/2 + Δ, 'nH')#,  loops=[loop])\n",
    "\n",
    "    elements = {\n",
    "        (0, 3): [L_03],\n",
    "        (0, 1): [C_01],\n",
    "        (0, 2): [C_02],\n",
    "        (3, 1): [L_31],\n",
    "        (1, 2): [C_12],\n",
    "        (2, 3): [L_23],\n",
    "    }\n",
    "\n",
    "    # Create and return the circuit\n",
    "    return sq.Circuit(elements)\n",
    "\n",
    "def sq_fluxonium(C = 15, CJ = 3, Csh= 15, Lq = 25, Lr = 10, Δ = 0.1, EJ = 10.0, φ_ext=0.5):\n",
    "    l = Lq * (Lq + 4 * Lr) - 4 * Δ ** 2\n",
    "    loop_fluxonium = sq.Loop(φ_ext)\n",
    "    fluxonium_elements = {\n",
    "        (0, 1): [sq.Capacitor(C / 2 + Csh + CJ, 'fF'),\n",
    "                 sq.Inductor(l / (Lq + 4 * Lr), 'nH', loops=[loop_fluxonium]),\n",
    "                 sq.Junction(EJ, 'GHz', loops=[loop_fluxonium])],\n",
    "    }\n",
    "    return sq.Circuit(fluxonium_elements)\n",
    "\n",
    "def sq_qubit(C = 15, CJ = 3, Csh= 15 , Lq = 25, Lr = 10, Δ = 0.1, EJ = 10.0, φ_ext=0.5):\n",
    "\n",
    "    # Initialize loop(s)\n",
    "    loop = sq.Loop(φ_ext)\n",
    "\n",
    "    # Circuit components\n",
    "    C_01 = sq.Capacitor(C,       'fF')\n",
    "    C_02 = sq.Capacitor(C,       'fF')\n",
    "    C_12 = sq.Capacitor(CJ+Csh,  'fF')\n",
    "    L_03 = sq.Inductor(Lr,       'nH')\n",
    "    L_31 = sq.Inductor(Lq/2 - Δ, 'nH',  loops=[loop])\n",
    "    L_23 = sq.Inductor(Lq/2 + Δ, 'nH',  loops=[loop])\n",
    "    JJ_12= sq.Junction(EJ,       'GHz', loops=[loop])\n",
    "\n",
    "    elements = {\n",
    "        (0, 3): [L_03],\n",
    "        (0, 1): [C_01],\n",
    "        (0, 2): [C_02],\n",
    "        (3, 1): [L_31],\n",
    "        (1, 2): [C_12, JJ_12],\n",
    "        (2, 3): [L_23],\n",
    "    }\n",
    "\n",
    "    # Create and return the circuit\n",
    "    return sq.Circuit(elements)\n"
   ],
   "outputs": []
  },
  {
   "cell_type": "code",
   "execution_count": null,
   "metadata": {},
   "source": [
    "n_eig = 4\n",
    "trunc_num = 20\n",
    "Δ=1\n",
    "\n",
    "res     = sq_resonator          (Δ=Δ)\n",
    "# flu     = sq_fluxonium   (Δ=Δ)\n",
    "# qubit   = sq_qubit      (Δ=Δ)\n",
    "flu     = KIT_fluxonium_no_JJ    (Δ=Δ)\n",
    "qubit   = KIT_qubit_no_JJ        (Δ=Δ)\n",
    "\n",
    "res_0   = sq_resonator          (Δ=0)\n",
    "# flu_0   = sq_fluxonium    (Δ=0)\n",
    "# qubit_0 = sq_qubit       (Δ=0)\n",
    "flu_0   = KIT_fluxonium_no_JJ    (Δ=0)\n",
    "qubit_0 = KIT_qubit_no_JJ        (Δ=0)\n",
    "#\n",
    "res     .set_trunc_nums([trunc_num])\n",
    "flu     .set_trunc_nums([trunc_num])\n",
    "qubit   .set_trunc_nums([1, trunc_num,trunc_num])\n",
    "# qubit   .set_trunc_nums( [trunc_num,trunc_num])\n",
    "res_0   .set_trunc_nums([trunc_num])\n",
    "flu_0   .set_trunc_nums([trunc_num])\n",
    "qubit_0 .set_trunc_nums([1, trunc_num,trunc_num])\n",
    "# qubit_0 .set_trunc_nums([trunc_num,trunc_num])\n",
    "\n",
    "_ = res     .diag(n_eig)\n",
    "_ = flu     .diag(n_eig)\n",
    "_ = qubit   .diag(n_eig)\n",
    "_ = res_0   .diag(n_eig)\n",
    "_ = flu_0   .diag(n_eig)\n",
    "_ = qubit_0 .diag(n_eig)\n"
   ],
   "outputs": []
  },
  {
   "cell_type": "code",
   "execution_count": null,
   "metadata": {},
   "source": [
    "l = Lq*(Lq+4*Lr) - 4*Δ**2\n",
    "L_r = l/Lq * 1e-9\n",
    "L_f = l/(Lq+4*Lr) * 1e-9\n",
    "L_c = l/Δ * 1e-9\n",
    "\n",
    "L_r_0 = (Lq+4*Lr) * 1e-9\n",
    "L_f_0 = Lq * 1e-9\n"
   ],
   "outputs": []
  },
  {
   "cell_type": "code",
   "execution_count": null,
   "metadata": {},
   "source": [
    "Q_res = res.charge_op(0)\n",
    "Φ_res = res.flux_op(0)\n",
    "\n",
    "Q_res_0 = res_0.charge_op(0)\n",
    "Φ_res_0 = res_0.flux_op(0)\n",
    "\n",
    "Q_flu = flu.charge_op(0)\n",
    "Φ_flu = flu.flux_op(0)\n",
    "\n",
    "Q_flu_0 = flu_0.charge_op(0)\n",
    "Φ_flu_0 = flu_0.flux_op(0)\n"
   ],
   "outputs": []
  },
  {
   "cell_type": "code",
   "execution_count": null,
   "metadata": {},
   "source": [
    "H_res_0 = 1/2 * Q_res_0**2 / C_r  + 1/2 * Φ_res_0**2 / L_r_0\n",
    "# H_res = 1/2 * Q_res**2 / C_r  + 1/2 * Φ_res**2 / L_r\n",
    "H_res = res.hamiltonian()\n",
    "\n",
    "H_flu_0 = 1/2 * Q_flu_0**2 / C_f + 1/2 * Φ_flu_0**2 / L_f_0\n",
    "# H_flu = 1/2 * Q_flu**2 / C_f + 1/2 * Φ_flu**2 / L_f\n",
    "H_flu = flu.hamiltonian()\n",
    "\n",
    "I_res = qt.identity(H_res.shape[0])\n",
    "I_flu = qt.identity(H_flu.shape[0])\n",
    "\n",
    "H_qubit_0 = qt.tensor(H_res_0,I_res) + qt.tensor(I_res,H_flu_0)\n",
    "H_qubit = qt.tensor(H_res,I_flu) + qt.tensor(I_res,H_flu) + qt.tensor(Φ_res,Φ_flu) * 2 * Δ / l / 1e-9\n"
   ],
   "outputs": []
  },
  {
   "cell_type": "code",
   "execution_count": null,
   "metadata": {},
   "source": [
    "Φ, Q = sq_ext.get_node_variables(qubit , 'FC', isolated='True')\n"
   ],
   "outputs": []
  },
  {
   "cell_type": "code",
   "execution_count": null,
   "metadata": {},
   "source": [
    "E, ψ = sq_ext.diag(H_qubit , n_eig, out='GHz')\n",
    "ψ_sq = np.array([ψ_i.__array__()[:, 0] for ψ_i in qubit._evecs])\n",
    "\n",
    "print( E-E[0])\n",
    "print( qubit.efreqs )\n",
    "for i in range(n_eig):\n",
    "    print(f'Energy error in state{i} = {np.abs((E-E[0])[i]- (qubit.efreqs[i]-qubit.efreqs[0]))}')\n",
    "    print(f'Wavefunction error in state{i} = {1 - np.abs(ψ[:,i].conj().T @ qubit._evecs[i].__array__())[0]}')\n",
    "\n"
   ],
   "outputs": []
  },
  {
   "cell_type": "code",
   "execution_count": null,
   "metadata": {},
   "source": [
    "E, ψ = sq_ext.diag(H_qubit , n_eig, out='GHz')\n",
    "ψ_sq = np.array([ψ_i.__array__()[:, 0] for ψ_i in qubit._evecs])\n",
    "\n",
    "print( E-E[0])\n",
    "print( qubit.efreqs )\n",
    "for i in range(n_eig):\n",
    "    print(f'Energy error in state{i} = {np.abs((E-E[0])[i]- (qubit.efreqs[i]-qubit.efreqs[0]))}')\n",
    "    print(f'Wavefunction error in state{i} = {1 - np.abs(ψ[:,i].conj().T @ qubit._evecs[i].__array__())[0]}')\n",
    "\n"
   ],
   "outputs": []
  },
  {
   "cell_type": "code",
   "execution_count": null,
   "metadata": {},
   "source": [
    "E = sq_ext.diag(H_qubit_0 , n_eig, out='GHz')[0]\n",
    "\n",
    "print( E-E [0])\n",
    "print( qubit_0.efreqs )\n",
    "\n",
    "print( (E-E[0])[1])\n",
    "print( qubit_0.efreqs[1] )\n"
   ],
   "outputs": []
  },
  {
   "cell_type": "code",
   "execution_count": null,
   "metadata": {},
   "source": [
    "E = sq_ext.diag(H_res , n_eig, out='GHz')[0]\n",
    "print(E-E[0] )\n",
    "print( res.efreqs )\n",
    "\n",
    "print( (E-E[0])[1])\n",
    "print( res.efreqs[1] )\n"
   ],
   "outputs": []
  },
  {
   "cell_type": "code",
   "execution_count": null,
   "metadata": {},
   "source": [
    "E = sq_ext.diag(H_flu_0, n_eig, out='GHz')[0]\n",
    "print(E-E[0])\n",
    "print( flu_0.efreqs )\n"
   ],
   "outputs": []
  },
  {
   "cell_type": "code",
   "execution_count": null,
   "metadata": {},
   "source": [
    "E = sq_ext.diag(H_res_0 , n_eig, out='GHz')[0]\n",
    "print(E-E[0] )\n",
    "print( res_0.efreqs )\n",
    "\n",
    "\n",
    "\n",
    "\n"
   ],
   "outputs": []
  }
 ],
 "metadata": {
  "kernelspec": {
   "display_name": "Python 3 (ipykernel)",
   "language": "python",
   "name": "python3"
  },
  "language_info": {
   "codemirror_mode": {
    "name": "ipython",
    "version": 3
   },
   "file_extension": ".py",
   "mimetype": "text/x-python",
   "name": "python",
   "nbconvert_exporter": "python",
   "pygments_lexer": "ipython3",
   "version": "3.8.17"
  }
 },
 "nbformat": 4,
 "nbformat_minor": 1
}
