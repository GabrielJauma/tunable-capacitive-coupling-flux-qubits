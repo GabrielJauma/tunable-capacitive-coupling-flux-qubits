{
 "cells": [
  {
   "metadata": {
    "ExecuteTime": {
     "end_time": "2024-09-10T09:28:21.052957Z",
     "start_time": "2024-09-10T09:28:21.051156Z"
    }
   },
   "cell_type": "code",
   "source": [
    "import sympy as sym\n",
    "from sympy.physics.quantum import TensorProduct"
   ],
   "id": "beb7e29e5e9ea04c",
   "outputs": [],
   "execution_count": 33
  },
  {
   "metadata": {
    "ExecuteTime": {
     "end_time": "2024-09-10T09:28:21.228106Z",
     "start_time": "2024-09-10T09:28:21.226197Z"
    }
   },
   "cell_type": "code",
   "source": "ω, δ, hxx, hyy, hzz = sym.symbols('\\omega, \\delta, h_{xx}, h_{yy}, h_{zz}', real=True, positive=True, nonzero=True)",
   "id": "54e93f5f37834988",
   "outputs": [],
   "execution_count": 34
  },
  {
   "metadata": {
    "ExecuteTime": {
     "end_time": "2024-09-10T09:28:21.403168Z",
     "start_time": "2024-09-10T09:28:21.400731Z"
    }
   },
   "cell_type": "code",
   "source": [
    "I = sym.Matrix([[1, 0],\n",
    "                [0, 1]])\n",
    "\n",
    "σx = sym.Matrix([[0, 1],\n",
    "                 [1, 0]])\n",
    "\n",
    "σy = sym.Matrix([[ 0, sym.I],\n",
    "                 [-sym.I, 0 ]])\n",
    "\n",
    "σz = sym.Matrix([[1,  0],\n",
    "                 [0, -1]])"
   ],
   "id": "14e410f1db399078",
   "outputs": [],
   "execution_count": 35
  },
  {
   "metadata": {
    "ExecuteTime": {
     "end_time": "2024-09-10T09:28:21.631902Z",
     "start_time": "2024-09-10T09:28:21.629388Z"
    }
   },
   "cell_type": "code",
   "source": [
    "Iσz  = TensorProduct(I, σz)\n",
    "σzI  = TensorProduct(σz, I)\n",
    "σxσx = TensorProduct(σx,σx)\n",
    "σyσy = TensorProduct(σy,σy)\n",
    "σzσz = TensorProduct(σz,σz)"
   ],
   "id": "c43e523736450f95",
   "outputs": [],
   "execution_count": 36
  },
  {
   "metadata": {
    "ExecuteTime": {
     "end_time": "2024-09-10T09:34:13.049834Z",
     "start_time": "2024-09-10T09:34:13.047387Z"
    }
   },
   "cell_type": "code",
   "source": "H = ω * (σzI + Iσz) + δ/2 * (σzI - Iσz) + hxx * σxσx + hyy * σyσy  + hzz * σzσz ",
   "id": "66fb05f18bb6e467",
   "outputs": [],
   "execution_count": 58
  },
  {
   "metadata": {
    "ExecuteTime": {
     "end_time": "2024-09-10T09:34:13.256998Z",
     "start_time": "2024-09-10T09:34:13.255294Z"
    }
   },
   "cell_type": "code",
   "source": "# H = ω * (σzI + Iσz) + hxx * σxσx + hyy * σyσy  + hzz * σzσz ",
   "id": "a0c85816ac7ff7ea",
   "outputs": [],
   "execution_count": 59
  },
  {
   "metadata": {
    "ExecuteTime": {
     "end_time": "2024-09-10T09:34:13.428054Z",
     "start_time": "2024-09-10T09:34:13.426372Z"
    }
   },
   "cell_type": "code",
   "source": "# H = ω * σzI + δ * Iσz + hxx * σxσx + hyy * σyσy  + hzz * σzσz ",
   "id": "57d8d0e6fe5f4dad",
   "outputs": [],
   "execution_count": 60
  },
  {
   "metadata": {
    "ExecuteTime": {
     "end_time": "2024-09-10T09:34:13.581781Z",
     "start_time": "2024-09-10T09:34:13.577893Z"
    }
   },
   "cell_type": "code",
   "source": "H",
   "id": "4ee2e1d59f30336",
   "outputs": [
    {
     "data": {
      "text/plain": [
       "Matrix([\n",
       "[2*\\omega + h_{zz},               0,                0,    h_{xx} - h_{yy}],\n",
       "[                0, \\delta - h_{zz},  h_{xx} + h_{yy},                  0],\n",
       "[                0, h_{xx} + h_{yy}, -\\delta - h_{zz},                  0],\n",
       "[  h_{xx} - h_{yy},               0,                0, -2*\\omega + h_{zz}]])"
      ],
      "text/latex": "$\\displaystyle \\left[\\begin{matrix}2 \\omega + h_{zz} & 0 & 0 & h_{xx} - h_{yy}\\\\0 & \\delta - h_{zz} & h_{xx} + h_{yy} & 0\\\\0 & h_{xx} + h_{yy} & - \\delta - h_{zz} & 0\\\\h_{xx} - h_{yy} & 0 & 0 & - 2 \\omega + h_{zz}\\end{matrix}\\right]$"
     },
     "execution_count": 61,
     "metadata": {},
     "output_type": "execute_result"
    }
   ],
   "execution_count": 61
  },
  {
   "metadata": {
    "ExecuteTime": {
     "end_time": "2024-09-10T09:34:13.884078Z",
     "start_time": "2024-09-10T09:34:13.850629Z"
    }
   },
   "cell_type": "code",
   "source": "H.eigenvals()",
   "id": "90a09b5e58b0c664",
   "outputs": [
    {
     "data": {
      "text/plain": [
       "{h_{zz} - sqrt(4*\\omega**2 + h_{xx}**2 - 2*h_{xx}*h_{yy} + h_{yy}**2): 1,\n",
       " h_{zz} + sqrt(4*\\omega**2 + h_{xx}**2 - 2*h_{xx}*h_{yy} + h_{yy}**2): 1,\n",
       " -h_{zz} - sqrt(\\delta**2 + h_{xx}**2 + 2*h_{xx}*h_{yy} + h_{yy}**2): 1,\n",
       " -h_{zz} + sqrt(\\delta**2 + h_{xx}**2 + 2*h_{xx}*h_{yy} + h_{yy}**2): 1}"
      ]
     },
     "execution_count": 62,
     "metadata": {},
     "output_type": "execute_result"
    }
   ],
   "execution_count": 62
  },
  {
   "metadata": {
    "ExecuteTime": {
     "end_time": "2024-09-10T09:34:15.156847Z",
     "start_time": "2024-09-10T09:34:14.364615Z"
    }
   },
   "cell_type": "code",
   "source": "D = H.diagonalize()[1]",
   "id": "6e9ff453edac7a05",
   "outputs": [],
   "execution_count": 63
  },
  {
   "metadata": {
    "ExecuteTime": {
     "end_time": "2024-09-10T09:34:15.161350Z",
     "start_time": "2024-09-10T09:34:15.157532Z"
    }
   },
   "cell_type": "code",
   "source": "D",
   "id": "772c826f7a3651ef",
   "outputs": [
    {
     "data": {
      "text/plain": [
       "Matrix([\n",
       "[-h_{zz} - sqrt(\\delta**2 + h_{xx}**2 + 2*h_{xx}*h_{yy} + h_{yy}**2),                                                                   0,                                                                    0,                                                                    0],\n",
       "[                                                                  0, -h_{zz} + sqrt(\\delta**2 + h_{xx}**2 + 2*h_{xx}*h_{yy} + h_{yy}**2),                                                                    0,                                                                    0],\n",
       "[                                                                  0,                                                                   0, h_{zz} - sqrt(4*\\omega**2 + h_{xx}**2 - 2*h_{xx}*h_{yy} + h_{yy}**2),                                                                    0],\n",
       "[                                                                  0,                                                                   0,                                                                    0, h_{zz} + sqrt(4*\\omega**2 + h_{xx}**2 - 2*h_{xx}*h_{yy} + h_{yy}**2)]])"
      ],
      "text/latex": "$\\displaystyle \\left[\\begin{matrix}- h_{zz} - \\sqrt{\\delta^{2} + h_{xx}^{2} + 2 h_{xx} h_{yy} + h_{yy}^{2}} & 0 & 0 & 0\\\\0 & - h_{zz} + \\sqrt{\\delta^{2} + h_{xx}^{2} + 2 h_{xx} h_{yy} + h_{yy}^{2}} & 0 & 0\\\\0 & 0 & h_{zz} - \\sqrt{4 \\omega^{2} + h_{xx}^{2} - 2 h_{xx} h_{yy} + h_{yy}^{2}} & 0\\\\0 & 0 & 0 & h_{zz} + \\sqrt{4 \\omega^{2} + h_{xx}^{2} - 2 h_{xx} h_{yy} + h_{yy}^{2}}\\end{matrix}\\right]$"
     },
     "execution_count": 64,
     "metadata": {},
     "output_type": "execute_result"
    }
   ],
   "execution_count": 64
  },
  {
   "metadata": {
    "ExecuteTime": {
     "end_time": "2024-09-10T09:34:16.147245Z",
     "start_time": "2024-09-10T09:34:16.145077Z"
    }
   },
   "cell_type": "code",
   "source": [
    "E0 = D[0,0]\n",
    "E1 = D[1,1]\n",
    "E2 = D[2,2]\n",
    "E3 = D[3,3]"
   ],
   "id": "bd688944f5af8100",
   "outputs": [],
   "execution_count": 65
  },
  {
   "metadata": {
    "ExecuteTime": {
     "end_time": "2024-09-10T09:34:16.921135Z",
     "start_time": "2024-09-10T09:34:16.917809Z"
    }
   },
   "cell_type": "code",
   "source": "E1-E0",
   "id": "46b44201069ed769",
   "outputs": [
    {
     "data": {
      "text/plain": [
       "2*sqrt(\\delta**2 + h_{xx}**2 + 2*h_{xx}*h_{yy} + h_{yy}**2)"
      ],
      "text/latex": "$\\displaystyle 2 \\sqrt{\\delta^{2} + h_{xx}^{2} + 2 h_{xx} h_{yy} + h_{yy}^{2}}$"
     },
     "execution_count": 66,
     "metadata": {},
     "output_type": "execute_result"
    }
   ],
   "execution_count": 66
  },
  {
   "metadata": {
    "ExecuteTime": {
     "end_time": "2024-09-10T09:41:31.449733Z",
     "start_time": "2024-09-10T09:41:31.446377Z"
    }
   },
   "cell_type": "code",
   "source": "E2 - E1",
   "id": "d55deee2fe145849",
   "outputs": [
    {
     "data": {
      "text/plain": [
       "2*h_{zz} - sqrt(\\delta**2 + h_{xx}**2 + 2*h_{xx}*h_{yy} + h_{yy}**2) - sqrt(4*\\omega**2 + h_{xx}**2 - 2*h_{xx}*h_{yy} + h_{yy}**2)"
      ],
      "text/latex": "$\\displaystyle 2 h_{zz} - \\sqrt{\\delta^{2} + h_{xx}^{2} + 2 h_{xx} h_{yy} + h_{yy}^{2}} - \\sqrt{4 \\omega^{2} + h_{xx}^{2} - 2 h_{xx} h_{yy} + h_{yy}^{2}}$"
     },
     "execution_count": 68,
     "metadata": {},
     "output_type": "execute_result"
    }
   ],
   "execution_count": 68
  },
  {
   "metadata": {},
   "cell_type": "code",
   "outputs": [],
   "execution_count": null,
   "source": "",
   "id": "2975ef478d107979"
  }
 ],
 "metadata": {
  "kernelspec": {
   "display_name": "Python 3",
   "language": "python",
   "name": "python3"
  },
  "language_info": {
   "codemirror_mode": {
    "name": "ipython",
    "version": 2
   },
   "file_extension": ".py",
   "mimetype": "text/x-python",
   "name": "python",
   "nbconvert_exporter": "python",
   "pygments_lexer": "ipython2",
   "version": "2.7.6"
  }
 },
 "nbformat": 4,
 "nbformat_minor": 5
}
