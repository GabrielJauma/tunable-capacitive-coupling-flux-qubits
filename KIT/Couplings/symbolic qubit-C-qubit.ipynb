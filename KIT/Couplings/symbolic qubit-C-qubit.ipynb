{
 "cells": [
  {
   "cell_type": "code",
   "execution_count": 2,
   "metadata": {
    "collapsed": true,
    "ExecuteTime": {
     "end_time": "2024-02-20T09:43:50.018612687Z",
     "start_time": "2024-02-20T09:43:49.630480500Z"
    }
   },
   "outputs": [],
   "source": [
    "import sympy as sym\n",
    "import numpy as np\n",
    "import matplotlib.pyplot as plt"
   ]
  },
  {
   "cell_type": "code",
   "outputs": [],
   "source": [
    "def neglect_terms(expr, N):\n",
    "    # Function to neglect terms of order N and higher in a polynomial\n",
    "    # Split the expression into numerator and denominator\n",
    "    num, denom = expr.as_numer_denom()\n",
    "    # Process numerator and denominator to remove terms of order N and higher\n",
    "    num_neglected = sum(coeff * term for term, coeff in num.as_coefficients_dict().items() if all(pow < N for var, pow in term.as_powers_dict().items()))\n",
    "    denom_neglected = sum(coeff * term for term, coeff in denom.as_coefficients_dict().items() if all(pow < N for var, pow in term.as_powers_dict().items()))\n",
    "    # Reconstruct the fraction\n",
    "    return num_neglected / denom_neglected\n",
    "\n",
    "def neglect_terms_in_matrix(matrix, N):\n",
    "    # Process each element in the matrix\n",
    "    processed_matrix = matrix.applyfunc(lambda x: neglect_terms(x, N))\n",
    "\n",
    "    return processed_matrix"
   ],
   "metadata": {
    "collapsed": false,
    "ExecuteTime": {
     "end_time": "2024-02-20T09:43:50.026338018Z",
     "start_time": "2024-02-20T09:43:50.020166726Z"
    }
   },
   "execution_count": 3
  },
  {
   "cell_type": "code",
   "execution_count": 66,
   "outputs": [],
   "source": [
    "C_R, C_F, C_C = sym.symbols('C_R, C_F, C_C', real=True, positive=True, nonzero=True)"
   ],
   "metadata": {
    "collapsed": false,
    "ExecuteTime": {
     "end_time": "2024-02-08T12:23:22.372577100Z",
     "start_time": "2024-02-08T12:23:22.363836100Z"
    }
   }
  },
  {
   "cell_type": "code",
   "execution_count": 67,
   "outputs": [],
   "source": [
    "C = sym.Matrix([[C_R+C_C, 0      , -C_C/4 , -C_C/4 ],\n",
    "                [0      , C_F+C_C, -C_C/4 , -C_C/4 ],\n",
    "                [-C_C/4 , -C_C/4 , C_R+C_C, 0      ],\n",
    "                [-C_C/4 , -C_C/4 , 0      , C_F+C_C] ])"
   ],
   "metadata": {
    "collapsed": false,
    "ExecuteTime": {
     "end_time": "2024-02-08T12:23:22.895099200Z",
     "start_time": "2024-02-08T12:23:22.884708600Z"
    }
   }
  },
  {
   "cell_type": "code",
   "execution_count": 4,
   "outputs": [],
   "source": [
    "C_inv = C**-1"
   ],
   "metadata": {
    "collapsed": false,
    "ExecuteTime": {
     "end_time": "2024-02-08T11:26:33.531061600Z",
     "start_time": "2024-02-08T11:26:26.632243300Z"
    }
   }
  },
  {
   "cell_type": "code",
   "outputs": [
    {
     "data": {
      "text/plain": "Matrix([\n[(14*C_C**3 + 31*C_C**2*C_F + 15*C_C**2*C_R + 16*C_C*C_F**2 + 32*C_C*C_F*C_R + 16*C_F**2*C_R)/(12*C_C**4 + 28*C_C**3*C_F + 28*C_C**3*C_R + 15*C_C**2*C_F**2 + 62*C_C**2*C_F*C_R + 15*C_C**2*C_R**2 + 32*C_C*C_F**2*C_R + 32*C_C*C_F*C_R**2 + 16*C_F**2*C_R**2),                                                                   C_C**2*(2*C_C + C_F + C_R)/(12*C_C**4 + 28*C_C**3*C_F + 28*C_C**3*C_R + 15*C_C**2*C_F**2 + 62*C_C**2*C_F*C_R + 15*C_C**2*C_R**2 + 32*C_C*C_F**2*C_R + 32*C_C*C_F*C_R**2 + 16*C_F**2*C_R**2),                                                          4*C_C*(C_C**2 + 2*C_C*C_F + C_F**2)/(12*C_C**4 + 28*C_C**3*C_F + 28*C_C**3*C_R + 15*C_C**2*C_F**2 + 62*C_C**2*C_F*C_R + 15*C_C**2*C_R**2 + 32*C_C*C_F**2*C_R + 32*C_C*C_F*C_R**2 + 16*C_F**2*C_R**2),                                                 4*C_C*(C_C**2 + C_C*C_F + C_C*C_R + C_F*C_R)/(12*C_C**4 + 28*C_C**3*C_F + 28*C_C**3*C_R + 15*C_C**2*C_F**2 + 62*C_C**2*C_F*C_R + 15*C_C**2*C_R**2 + 32*C_C*C_F**2*C_R + 32*C_C*C_F*C_R**2 + 16*C_F**2*C_R**2)],\n[                                                                  C_C**2*(2*C_C + C_F + C_R)/(12*C_C**4 + 28*C_C**3*C_F + 28*C_C**3*C_R + 15*C_C**2*C_F**2 + 62*C_C**2*C_F*C_R + 15*C_C**2*C_R**2 + 32*C_C*C_F**2*C_R + 32*C_C*C_F*C_R**2 + 16*C_F**2*C_R**2), (14*C_C**3 + 15*C_C**2*C_F + 31*C_C**2*C_R + 32*C_C*C_F*C_R + 16*C_C*C_R**2 + 16*C_F*C_R**2)/(12*C_C**4 + 28*C_C**3*C_F + 28*C_C**3*C_R + 15*C_C**2*C_F**2 + 62*C_C**2*C_F*C_R + 15*C_C**2*C_R**2 + 32*C_C*C_F**2*C_R + 32*C_C*C_F*C_R**2 + 16*C_F**2*C_R**2),                                                 4*C_C*(C_C**2 + C_C*C_F + C_C*C_R + C_F*C_R)/(12*C_C**4 + 28*C_C**3*C_F + 28*C_C**3*C_R + 15*C_C**2*C_F**2 + 62*C_C**2*C_F*C_R + 15*C_C**2*C_R**2 + 32*C_C*C_F**2*C_R + 32*C_C*C_F*C_R**2 + 16*C_F**2*C_R**2),                                                          4*C_C*(C_C**2 + 2*C_C*C_R + C_R**2)/(12*C_C**4 + 28*C_C**3*C_F + 28*C_C**3*C_R + 15*C_C**2*C_F**2 + 62*C_C**2*C_F*C_R + 15*C_C**2*C_R**2 + 32*C_C*C_F**2*C_R + 32*C_C*C_F*C_R**2 + 16*C_F**2*C_R**2)],\n[                                                         4*C_C*(C_C**2 + 2*C_C*C_F + C_F**2)/(12*C_C**4 + 28*C_C**3*C_F + 28*C_C**3*C_R + 15*C_C**2*C_F**2 + 62*C_C**2*C_F*C_R + 15*C_C**2*C_R**2 + 32*C_C*C_F**2*C_R + 32*C_C*C_F*C_R**2 + 16*C_F**2*C_R**2),                                                 4*C_C*(C_C**2 + C_C*C_F + C_C*C_R + C_F*C_R)/(12*C_C**4 + 28*C_C**3*C_F + 28*C_C**3*C_R + 15*C_C**2*C_F**2 + 62*C_C**2*C_F*C_R + 15*C_C**2*C_R**2 + 32*C_C*C_F**2*C_R + 32*C_C*C_F*C_R**2 + 16*C_F**2*C_R**2), (14*C_C**3 + 31*C_C**2*C_F + 15*C_C**2*C_R + 16*C_C*C_F**2 + 32*C_C*C_F*C_R + 16*C_F**2*C_R)/(12*C_C**4 + 28*C_C**3*C_F + 28*C_C**3*C_R + 15*C_C**2*C_F**2 + 62*C_C**2*C_F*C_R + 15*C_C**2*C_R**2 + 32*C_C*C_F**2*C_R + 32*C_C*C_F*C_R**2 + 16*C_F**2*C_R**2),                                                                   C_C**2*(2*C_C + C_F + C_R)/(12*C_C**4 + 28*C_C**3*C_F + 28*C_C**3*C_R + 15*C_C**2*C_F**2 + 62*C_C**2*C_F*C_R + 15*C_C**2*C_R**2 + 32*C_C*C_F**2*C_R + 32*C_C*C_F*C_R**2 + 16*C_F**2*C_R**2)],\n[                                                4*C_C*(C_C**2 + C_C*C_F + C_C*C_R + C_F*C_R)/(12*C_C**4 + 28*C_C**3*C_F + 28*C_C**3*C_R + 15*C_C**2*C_F**2 + 62*C_C**2*C_F*C_R + 15*C_C**2*C_R**2 + 32*C_C*C_F**2*C_R + 32*C_C*C_F*C_R**2 + 16*C_F**2*C_R**2),                                                          4*C_C*(C_C**2 + 2*C_C*C_R + C_R**2)/(12*C_C**4 + 28*C_C**3*C_F + 28*C_C**3*C_R + 15*C_C**2*C_F**2 + 62*C_C**2*C_F*C_R + 15*C_C**2*C_R**2 + 32*C_C*C_F**2*C_R + 32*C_C*C_F*C_R**2 + 16*C_F**2*C_R**2),                                                                   C_C**2*(2*C_C + C_F + C_R)/(12*C_C**4 + 28*C_C**3*C_F + 28*C_C**3*C_R + 15*C_C**2*C_F**2 + 62*C_C**2*C_F*C_R + 15*C_C**2*C_R**2 + 32*C_C*C_F**2*C_R + 32*C_C*C_F*C_R**2 + 16*C_F**2*C_R**2), (14*C_C**3 + 15*C_C**2*C_F + 31*C_C**2*C_R + 32*C_C*C_F*C_R + 16*C_C*C_R**2 + 16*C_F*C_R**2)/(12*C_C**4 + 28*C_C**3*C_F + 28*C_C**3*C_R + 15*C_C**2*C_F**2 + 62*C_C**2*C_F*C_R + 15*C_C**2*C_R**2 + 32*C_C*C_F**2*C_R + 32*C_C*C_F*C_R**2 + 16*C_F**2*C_R**2)]])",
      "text/latex": "$\\displaystyle \\left[\\begin{matrix}\\frac{14 C_{C}^{3} + 31 C_{C}^{2} C_{F} + 15 C_{C}^{2} C_{R} + 16 C_{C} C_{F}^{2} + 32 C_{C} C_{F} C_{R} + 16 C_{F}^{2} C_{R}}{12 C_{C}^{4} + 28 C_{C}^{3} C_{F} + 28 C_{C}^{3} C_{R} + 15 C_{C}^{2} C_{F}^{2} + 62 C_{C}^{2} C_{F} C_{R} + 15 C_{C}^{2} C_{R}^{2} + 32 C_{C} C_{F}^{2} C_{R} + 32 C_{C} C_{F} C_{R}^{2} + 16 C_{F}^{2} C_{R}^{2}} & \\frac{C_{C}^{2} \\cdot \\left(2 C_{C} + C_{F} + C_{R}\\right)}{12 C_{C}^{4} + 28 C_{C}^{3} C_{F} + 28 C_{C}^{3} C_{R} + 15 C_{C}^{2} C_{F}^{2} + 62 C_{C}^{2} C_{F} C_{R} + 15 C_{C}^{2} C_{R}^{2} + 32 C_{C} C_{F}^{2} C_{R} + 32 C_{C} C_{F} C_{R}^{2} + 16 C_{F}^{2} C_{R}^{2}} & \\frac{4 C_{C} \\left(C_{C}^{2} + 2 C_{C} C_{F} + C_{F}^{2}\\right)}{12 C_{C}^{4} + 28 C_{C}^{3} C_{F} + 28 C_{C}^{3} C_{R} + 15 C_{C}^{2} C_{F}^{2} + 62 C_{C}^{2} C_{F} C_{R} + 15 C_{C}^{2} C_{R}^{2} + 32 C_{C} C_{F}^{2} C_{R} + 32 C_{C} C_{F} C_{R}^{2} + 16 C_{F}^{2} C_{R}^{2}} & \\frac{4 C_{C} \\left(C_{C}^{2} + C_{C} C_{F} + C_{C} C_{R} + C_{F} C_{R}\\right)}{12 C_{C}^{4} + 28 C_{C}^{3} C_{F} + 28 C_{C}^{3} C_{R} + 15 C_{C}^{2} C_{F}^{2} + 62 C_{C}^{2} C_{F} C_{R} + 15 C_{C}^{2} C_{R}^{2} + 32 C_{C} C_{F}^{2} C_{R} + 32 C_{C} C_{F} C_{R}^{2} + 16 C_{F}^{2} C_{R}^{2}}\\\\\\frac{C_{C}^{2} \\cdot \\left(2 C_{C} + C_{F} + C_{R}\\right)}{12 C_{C}^{4} + 28 C_{C}^{3} C_{F} + 28 C_{C}^{3} C_{R} + 15 C_{C}^{2} C_{F}^{2} + 62 C_{C}^{2} C_{F} C_{R} + 15 C_{C}^{2} C_{R}^{2} + 32 C_{C} C_{F}^{2} C_{R} + 32 C_{C} C_{F} C_{R}^{2} + 16 C_{F}^{2} C_{R}^{2}} & \\frac{14 C_{C}^{3} + 15 C_{C}^{2} C_{F} + 31 C_{C}^{2} C_{R} + 32 C_{C} C_{F} C_{R} + 16 C_{C} C_{R}^{2} + 16 C_{F} C_{R}^{2}}{12 C_{C}^{4} + 28 C_{C}^{3} C_{F} + 28 C_{C}^{3} C_{R} + 15 C_{C}^{2} C_{F}^{2} + 62 C_{C}^{2} C_{F} C_{R} + 15 C_{C}^{2} C_{R}^{2} + 32 C_{C} C_{F}^{2} C_{R} + 32 C_{C} C_{F} C_{R}^{2} + 16 C_{F}^{2} C_{R}^{2}} & \\frac{4 C_{C} \\left(C_{C}^{2} + C_{C} C_{F} + C_{C} C_{R} + C_{F} C_{R}\\right)}{12 C_{C}^{4} + 28 C_{C}^{3} C_{F} + 28 C_{C}^{3} C_{R} + 15 C_{C}^{2} C_{F}^{2} + 62 C_{C}^{2} C_{F} C_{R} + 15 C_{C}^{2} C_{R}^{2} + 32 C_{C} C_{F}^{2} C_{R} + 32 C_{C} C_{F} C_{R}^{2} + 16 C_{F}^{2} C_{R}^{2}} & \\frac{4 C_{C} \\left(C_{C}^{2} + 2 C_{C} C_{R} + C_{R}^{2}\\right)}{12 C_{C}^{4} + 28 C_{C}^{3} C_{F} + 28 C_{C}^{3} C_{R} + 15 C_{C}^{2} C_{F}^{2} + 62 C_{C}^{2} C_{F} C_{R} + 15 C_{C}^{2} C_{R}^{2} + 32 C_{C} C_{F}^{2} C_{R} + 32 C_{C} C_{F} C_{R}^{2} + 16 C_{F}^{2} C_{R}^{2}}\\\\\\frac{4 C_{C} \\left(C_{C}^{2} + 2 C_{C} C_{F} + C_{F}^{2}\\right)}{12 C_{C}^{4} + 28 C_{C}^{3} C_{F} + 28 C_{C}^{3} C_{R} + 15 C_{C}^{2} C_{F}^{2} + 62 C_{C}^{2} C_{F} C_{R} + 15 C_{C}^{2} C_{R}^{2} + 32 C_{C} C_{F}^{2} C_{R} + 32 C_{C} C_{F} C_{R}^{2} + 16 C_{F}^{2} C_{R}^{2}} & \\frac{4 C_{C} \\left(C_{C}^{2} + C_{C} C_{F} + C_{C} C_{R} + C_{F} C_{R}\\right)}{12 C_{C}^{4} + 28 C_{C}^{3} C_{F} + 28 C_{C}^{3} C_{R} + 15 C_{C}^{2} C_{F}^{2} + 62 C_{C}^{2} C_{F} C_{R} + 15 C_{C}^{2} C_{R}^{2} + 32 C_{C} C_{F}^{2} C_{R} + 32 C_{C} C_{F} C_{R}^{2} + 16 C_{F}^{2} C_{R}^{2}} & \\frac{14 C_{C}^{3} + 31 C_{C}^{2} C_{F} + 15 C_{C}^{2} C_{R} + 16 C_{C} C_{F}^{2} + 32 C_{C} C_{F} C_{R} + 16 C_{F}^{2} C_{R}}{12 C_{C}^{4} + 28 C_{C}^{3} C_{F} + 28 C_{C}^{3} C_{R} + 15 C_{C}^{2} C_{F}^{2} + 62 C_{C}^{2} C_{F} C_{R} + 15 C_{C}^{2} C_{R}^{2} + 32 C_{C} C_{F}^{2} C_{R} + 32 C_{C} C_{F} C_{R}^{2} + 16 C_{F}^{2} C_{R}^{2}} & \\frac{C_{C}^{2} \\cdot \\left(2 C_{C} + C_{F} + C_{R}\\right)}{12 C_{C}^{4} + 28 C_{C}^{3} C_{F} + 28 C_{C}^{3} C_{R} + 15 C_{C}^{2} C_{F}^{2} + 62 C_{C}^{2} C_{F} C_{R} + 15 C_{C}^{2} C_{R}^{2} + 32 C_{C} C_{F}^{2} C_{R} + 32 C_{C} C_{F} C_{R}^{2} + 16 C_{F}^{2} C_{R}^{2}}\\\\\\frac{4 C_{C} \\left(C_{C}^{2} + C_{C} C_{F} + C_{C} C_{R} + C_{F} C_{R}\\right)}{12 C_{C}^{4} + 28 C_{C}^{3} C_{F} + 28 C_{C}^{3} C_{R} + 15 C_{C}^{2} C_{F}^{2} + 62 C_{C}^{2} C_{F} C_{R} + 15 C_{C}^{2} C_{R}^{2} + 32 C_{C} C_{F}^{2} C_{R} + 32 C_{C} C_{F} C_{R}^{2} + 16 C_{F}^{2} C_{R}^{2}} & \\frac{4 C_{C} \\left(C_{C}^{2} + 2 C_{C} C_{R} + C_{R}^{2}\\right)}{12 C_{C}^{4} + 28 C_{C}^{3} C_{F} + 28 C_{C}^{3} C_{R} + 15 C_{C}^{2} C_{F}^{2} + 62 C_{C}^{2} C_{F} C_{R} + 15 C_{C}^{2} C_{R}^{2} + 32 C_{C} C_{F}^{2} C_{R} + 32 C_{C} C_{F} C_{R}^{2} + 16 C_{F}^{2} C_{R}^{2}} & \\frac{C_{C}^{2} \\cdot \\left(2 C_{C} + C_{F} + C_{R}\\right)}{12 C_{C}^{4} + 28 C_{C}^{3} C_{F} + 28 C_{C}^{3} C_{R} + 15 C_{C}^{2} C_{F}^{2} + 62 C_{C}^{2} C_{F} C_{R} + 15 C_{C}^{2} C_{R}^{2} + 32 C_{C} C_{F}^{2} C_{R} + 32 C_{C} C_{F} C_{R}^{2} + 16 C_{F}^{2} C_{R}^{2}} & \\frac{14 C_{C}^{3} + 15 C_{C}^{2} C_{F} + 31 C_{C}^{2} C_{R} + 32 C_{C} C_{F} C_{R} + 16 C_{C} C_{R}^{2} + 16 C_{F} C_{R}^{2}}{12 C_{C}^{4} + 28 C_{C}^{3} C_{F} + 28 C_{C}^{3} C_{R} + 15 C_{C}^{2} C_{F}^{2} + 62 C_{C}^{2} C_{F} C_{R} + 15 C_{C}^{2} C_{R}^{2} + 32 C_{C} C_{F}^{2} C_{R} + 32 C_{C} C_{F} C_{R}^{2} + 16 C_{F}^{2} C_{R}^{2}}\\end{matrix}\\right]$"
     },
     "execution_count": 5,
     "metadata": {},
     "output_type": "execute_result"
    }
   ],
   "source": [
    "sym.simplify(C_inv)"
   ],
   "metadata": {
    "collapsed": false,
    "ExecuteTime": {
     "end_time": "2024-02-08T11:26:34.719963800Z",
     "start_time": "2024-02-08T11:26:33.533142600Z"
    }
   },
   "execution_count": 5
  },
  {
   "cell_type": "code",
   "outputs": [
    {
     "data": {
      "text/plain": "Matrix([\n[(14*C_C**3 + 31*C_C**2*C_F + 15*C_C**2*C_R + 16*C_C*C_F**2 + 32*C_C*C_F*C_R + 16*C_F**2*C_R)/(12*C_C**4 + 28*C_C**3*C_F + 28*C_C**3*C_R + 15*C_C**2*C_F**2 + 62*C_C**2*C_F*C_R + 15*C_C**2*C_R**2 + 32*C_C*C_F**2*C_R + 32*C_C*C_F*C_R**2 + 16*C_F**2*C_R**2),                                                                   C_C**2*(2*C_C + C_F + C_R)/(12*C_C**4 + 28*C_C**3*C_F + 28*C_C**3*C_R + 15*C_C**2*C_F**2 + 62*C_C**2*C_F*C_R + 15*C_C**2*C_R**2 + 32*C_C*C_F**2*C_R + 32*C_C*C_F*C_R**2 + 16*C_F**2*C_R**2),                                                          4*C_C*(C_C**2 + 2*C_C*C_F + C_F**2)/(12*C_C**4 + 28*C_C**3*C_F + 28*C_C**3*C_R + 15*C_C**2*C_F**2 + 62*C_C**2*C_F*C_R + 15*C_C**2*C_R**2 + 32*C_C*C_F**2*C_R + 32*C_C*C_F*C_R**2 + 16*C_F**2*C_R**2),                                                 4*C_C*(C_C**2 + C_C*C_F + C_C*C_R + C_F*C_R)/(12*C_C**4 + 28*C_C**3*C_F + 28*C_C**3*C_R + 15*C_C**2*C_F**2 + 62*C_C**2*C_F*C_R + 15*C_C**2*C_R**2 + 32*C_C*C_F**2*C_R + 32*C_C*C_F*C_R**2 + 16*C_F**2*C_R**2)],\n[                                                                  C_C**2*(2*C_C + C_F + C_R)/(12*C_C**4 + 28*C_C**3*C_F + 28*C_C**3*C_R + 15*C_C**2*C_F**2 + 62*C_C**2*C_F*C_R + 15*C_C**2*C_R**2 + 32*C_C*C_F**2*C_R + 32*C_C*C_F*C_R**2 + 16*C_F**2*C_R**2), (14*C_C**3 + 15*C_C**2*C_F + 31*C_C**2*C_R + 32*C_C*C_F*C_R + 16*C_C*C_R**2 + 16*C_F*C_R**2)/(12*C_C**4 + 28*C_C**3*C_F + 28*C_C**3*C_R + 15*C_C**2*C_F**2 + 62*C_C**2*C_F*C_R + 15*C_C**2*C_R**2 + 32*C_C*C_F**2*C_R + 32*C_C*C_F*C_R**2 + 16*C_F**2*C_R**2),                                                 4*C_C*(C_C**2 + C_C*C_F + C_C*C_R + C_F*C_R)/(12*C_C**4 + 28*C_C**3*C_F + 28*C_C**3*C_R + 15*C_C**2*C_F**2 + 62*C_C**2*C_F*C_R + 15*C_C**2*C_R**2 + 32*C_C*C_F**2*C_R + 32*C_C*C_F*C_R**2 + 16*C_F**2*C_R**2),                                                          4*C_C*(C_C**2 + 2*C_C*C_R + C_R**2)/(12*C_C**4 + 28*C_C**3*C_F + 28*C_C**3*C_R + 15*C_C**2*C_F**2 + 62*C_C**2*C_F*C_R + 15*C_C**2*C_R**2 + 32*C_C*C_F**2*C_R + 32*C_C*C_F*C_R**2 + 16*C_F**2*C_R**2)],\n[                                                         4*C_C*(C_C**2 + 2*C_C*C_F + C_F**2)/(12*C_C**4 + 28*C_C**3*C_F + 28*C_C**3*C_R + 15*C_C**2*C_F**2 + 62*C_C**2*C_F*C_R + 15*C_C**2*C_R**2 + 32*C_C*C_F**2*C_R + 32*C_C*C_F*C_R**2 + 16*C_F**2*C_R**2),                                                 4*C_C*(C_C**2 + C_C*C_F + C_C*C_R + C_F*C_R)/(12*C_C**4 + 28*C_C**3*C_F + 28*C_C**3*C_R + 15*C_C**2*C_F**2 + 62*C_C**2*C_F*C_R + 15*C_C**2*C_R**2 + 32*C_C*C_F**2*C_R + 32*C_C*C_F*C_R**2 + 16*C_F**2*C_R**2), (14*C_C**3 + 31*C_C**2*C_F + 15*C_C**2*C_R + 16*C_C*C_F**2 + 32*C_C*C_F*C_R + 16*C_F**2*C_R)/(12*C_C**4 + 28*C_C**3*C_F + 28*C_C**3*C_R + 15*C_C**2*C_F**2 + 62*C_C**2*C_F*C_R + 15*C_C**2*C_R**2 + 32*C_C*C_F**2*C_R + 32*C_C*C_F*C_R**2 + 16*C_F**2*C_R**2),                                                                   C_C**2*(2*C_C + C_F + C_R)/(12*C_C**4 + 28*C_C**3*C_F + 28*C_C**3*C_R + 15*C_C**2*C_F**2 + 62*C_C**2*C_F*C_R + 15*C_C**2*C_R**2 + 32*C_C*C_F**2*C_R + 32*C_C*C_F*C_R**2 + 16*C_F**2*C_R**2)],\n[                                                4*C_C*(C_C**2 + C_C*C_F + C_C*C_R + C_F*C_R)/(12*C_C**4 + 28*C_C**3*C_F + 28*C_C**3*C_R + 15*C_C**2*C_F**2 + 62*C_C**2*C_F*C_R + 15*C_C**2*C_R**2 + 32*C_C*C_F**2*C_R + 32*C_C*C_F*C_R**2 + 16*C_F**2*C_R**2),                                                          4*C_C*(C_C**2 + 2*C_C*C_R + C_R**2)/(12*C_C**4 + 28*C_C**3*C_F + 28*C_C**3*C_R + 15*C_C**2*C_F**2 + 62*C_C**2*C_F*C_R + 15*C_C**2*C_R**2 + 32*C_C*C_F**2*C_R + 32*C_C*C_F*C_R**2 + 16*C_F**2*C_R**2),                                                                   C_C**2*(2*C_C + C_F + C_R)/(12*C_C**4 + 28*C_C**3*C_F + 28*C_C**3*C_R + 15*C_C**2*C_F**2 + 62*C_C**2*C_F*C_R + 15*C_C**2*C_R**2 + 32*C_C*C_F**2*C_R + 32*C_C*C_F*C_R**2 + 16*C_F**2*C_R**2), (14*C_C**3 + 15*C_C**2*C_F + 31*C_C**2*C_R + 32*C_C*C_F*C_R + 16*C_C*C_R**2 + 16*C_F*C_R**2)/(12*C_C**4 + 28*C_C**3*C_F + 28*C_C**3*C_R + 15*C_C**2*C_F**2 + 62*C_C**2*C_F*C_R + 15*C_C**2*C_R**2 + 32*C_C*C_F**2*C_R + 32*C_C*C_F*C_R**2 + 16*C_F**2*C_R**2)]])",
      "text/latex": "$\\displaystyle \\left[\\begin{matrix}\\frac{14 C_{C}^{3} + 31 C_{C}^{2} C_{F} + 15 C_{C}^{2} C_{R} + 16 C_{C} C_{F}^{2} + 32 C_{C} C_{F} C_{R} + 16 C_{F}^{2} C_{R}}{12 C_{C}^{4} + 28 C_{C}^{3} C_{F} + 28 C_{C}^{3} C_{R} + 15 C_{C}^{2} C_{F}^{2} + 62 C_{C}^{2} C_{F} C_{R} + 15 C_{C}^{2} C_{R}^{2} + 32 C_{C} C_{F}^{2} C_{R} + 32 C_{C} C_{F} C_{R}^{2} + 16 C_{F}^{2} C_{R}^{2}} & \\frac{C_{C}^{2} \\cdot \\left(2 C_{C} + C_{F} + C_{R}\\right)}{12 C_{C}^{4} + 28 C_{C}^{3} C_{F} + 28 C_{C}^{3} C_{R} + 15 C_{C}^{2} C_{F}^{2} + 62 C_{C}^{2} C_{F} C_{R} + 15 C_{C}^{2} C_{R}^{2} + 32 C_{C} C_{F}^{2} C_{R} + 32 C_{C} C_{F} C_{R}^{2} + 16 C_{F}^{2} C_{R}^{2}} & \\frac{4 C_{C} \\left(C_{C}^{2} + 2 C_{C} C_{F} + C_{F}^{2}\\right)}{12 C_{C}^{4} + 28 C_{C}^{3} C_{F} + 28 C_{C}^{3} C_{R} + 15 C_{C}^{2} C_{F}^{2} + 62 C_{C}^{2} C_{F} C_{R} + 15 C_{C}^{2} C_{R}^{2} + 32 C_{C} C_{F}^{2} C_{R} + 32 C_{C} C_{F} C_{R}^{2} + 16 C_{F}^{2} C_{R}^{2}} & \\frac{4 C_{C} \\left(C_{C}^{2} + C_{C} C_{F} + C_{C} C_{R} + C_{F} C_{R}\\right)}{12 C_{C}^{4} + 28 C_{C}^{3} C_{F} + 28 C_{C}^{3} C_{R} + 15 C_{C}^{2} C_{F}^{2} + 62 C_{C}^{2} C_{F} C_{R} + 15 C_{C}^{2} C_{R}^{2} + 32 C_{C} C_{F}^{2} C_{R} + 32 C_{C} C_{F} C_{R}^{2} + 16 C_{F}^{2} C_{R}^{2}}\\\\\\frac{C_{C}^{2} \\cdot \\left(2 C_{C} + C_{F} + C_{R}\\right)}{12 C_{C}^{4} + 28 C_{C}^{3} C_{F} + 28 C_{C}^{3} C_{R} + 15 C_{C}^{2} C_{F}^{2} + 62 C_{C}^{2} C_{F} C_{R} + 15 C_{C}^{2} C_{R}^{2} + 32 C_{C} C_{F}^{2} C_{R} + 32 C_{C} C_{F} C_{R}^{2} + 16 C_{F}^{2} C_{R}^{2}} & \\frac{14 C_{C}^{3} + 15 C_{C}^{2} C_{F} + 31 C_{C}^{2} C_{R} + 32 C_{C} C_{F} C_{R} + 16 C_{C} C_{R}^{2} + 16 C_{F} C_{R}^{2}}{12 C_{C}^{4} + 28 C_{C}^{3} C_{F} + 28 C_{C}^{3} C_{R} + 15 C_{C}^{2} C_{F}^{2} + 62 C_{C}^{2} C_{F} C_{R} + 15 C_{C}^{2} C_{R}^{2} + 32 C_{C} C_{F}^{2} C_{R} + 32 C_{C} C_{F} C_{R}^{2} + 16 C_{F}^{2} C_{R}^{2}} & \\frac{4 C_{C} \\left(C_{C}^{2} + C_{C} C_{F} + C_{C} C_{R} + C_{F} C_{R}\\right)}{12 C_{C}^{4} + 28 C_{C}^{3} C_{F} + 28 C_{C}^{3} C_{R} + 15 C_{C}^{2} C_{F}^{2} + 62 C_{C}^{2} C_{F} C_{R} + 15 C_{C}^{2} C_{R}^{2} + 32 C_{C} C_{F}^{2} C_{R} + 32 C_{C} C_{F} C_{R}^{2} + 16 C_{F}^{2} C_{R}^{2}} & \\frac{4 C_{C} \\left(C_{C}^{2} + 2 C_{C} C_{R} + C_{R}^{2}\\right)}{12 C_{C}^{4} + 28 C_{C}^{3} C_{F} + 28 C_{C}^{3} C_{R} + 15 C_{C}^{2} C_{F}^{2} + 62 C_{C}^{2} C_{F} C_{R} + 15 C_{C}^{2} C_{R}^{2} + 32 C_{C} C_{F}^{2} C_{R} + 32 C_{C} C_{F} C_{R}^{2} + 16 C_{F}^{2} C_{R}^{2}}\\\\\\frac{4 C_{C} \\left(C_{C}^{2} + 2 C_{C} C_{F} + C_{F}^{2}\\right)}{12 C_{C}^{4} + 28 C_{C}^{3} C_{F} + 28 C_{C}^{3} C_{R} + 15 C_{C}^{2} C_{F}^{2} + 62 C_{C}^{2} C_{F} C_{R} + 15 C_{C}^{2} C_{R}^{2} + 32 C_{C} C_{F}^{2} C_{R} + 32 C_{C} C_{F} C_{R}^{2} + 16 C_{F}^{2} C_{R}^{2}} & \\frac{4 C_{C} \\left(C_{C}^{2} + C_{C} C_{F} + C_{C} C_{R} + C_{F} C_{R}\\right)}{12 C_{C}^{4} + 28 C_{C}^{3} C_{F} + 28 C_{C}^{3} C_{R} + 15 C_{C}^{2} C_{F}^{2} + 62 C_{C}^{2} C_{F} C_{R} + 15 C_{C}^{2} C_{R}^{2} + 32 C_{C} C_{F}^{2} C_{R} + 32 C_{C} C_{F} C_{R}^{2} + 16 C_{F}^{2} C_{R}^{2}} & \\frac{14 C_{C}^{3} + 31 C_{C}^{2} C_{F} + 15 C_{C}^{2} C_{R} + 16 C_{C} C_{F}^{2} + 32 C_{C} C_{F} C_{R} + 16 C_{F}^{2} C_{R}}{12 C_{C}^{4} + 28 C_{C}^{3} C_{F} + 28 C_{C}^{3} C_{R} + 15 C_{C}^{2} C_{F}^{2} + 62 C_{C}^{2} C_{F} C_{R} + 15 C_{C}^{2} C_{R}^{2} + 32 C_{C} C_{F}^{2} C_{R} + 32 C_{C} C_{F} C_{R}^{2} + 16 C_{F}^{2} C_{R}^{2}} & \\frac{C_{C}^{2} \\cdot \\left(2 C_{C} + C_{F} + C_{R}\\right)}{12 C_{C}^{4} + 28 C_{C}^{3} C_{F} + 28 C_{C}^{3} C_{R} + 15 C_{C}^{2} C_{F}^{2} + 62 C_{C}^{2} C_{F} C_{R} + 15 C_{C}^{2} C_{R}^{2} + 32 C_{C} C_{F}^{2} C_{R} + 32 C_{C} C_{F} C_{R}^{2} + 16 C_{F}^{2} C_{R}^{2}}\\\\\\frac{4 C_{C} \\left(C_{C}^{2} + C_{C} C_{F} + C_{C} C_{R} + C_{F} C_{R}\\right)}{12 C_{C}^{4} + 28 C_{C}^{3} C_{F} + 28 C_{C}^{3} C_{R} + 15 C_{C}^{2} C_{F}^{2} + 62 C_{C}^{2} C_{F} C_{R} + 15 C_{C}^{2} C_{R}^{2} + 32 C_{C} C_{F}^{2} C_{R} + 32 C_{C} C_{F} C_{R}^{2} + 16 C_{F}^{2} C_{R}^{2}} & \\frac{4 C_{C} \\left(C_{C}^{2} + 2 C_{C} C_{R} + C_{R}^{2}\\right)}{12 C_{C}^{4} + 28 C_{C}^{3} C_{F} + 28 C_{C}^{3} C_{R} + 15 C_{C}^{2} C_{F}^{2} + 62 C_{C}^{2} C_{F} C_{R} + 15 C_{C}^{2} C_{R}^{2} + 32 C_{C} C_{F}^{2} C_{R} + 32 C_{C} C_{F} C_{R}^{2} + 16 C_{F}^{2} C_{R}^{2}} & \\frac{C_{C}^{2} \\cdot \\left(2 C_{C} + C_{F} + C_{R}\\right)}{12 C_{C}^{4} + 28 C_{C}^{3} C_{F} + 28 C_{C}^{3} C_{R} + 15 C_{C}^{2} C_{F}^{2} + 62 C_{C}^{2} C_{F} C_{R} + 15 C_{C}^{2} C_{R}^{2} + 32 C_{C} C_{F}^{2} C_{R} + 32 C_{C} C_{F} C_{R}^{2} + 16 C_{F}^{2} C_{R}^{2}} & \\frac{14 C_{C}^{3} + 15 C_{C}^{2} C_{F} + 31 C_{C}^{2} C_{R} + 32 C_{C} C_{F} C_{R} + 16 C_{C} C_{R}^{2} + 16 C_{F} C_{R}^{2}}{12 C_{C}^{4} + 28 C_{C}^{3} C_{F} + 28 C_{C}^{3} C_{R} + 15 C_{C}^{2} C_{F}^{2} + 62 C_{C}^{2} C_{F} C_{R} + 15 C_{C}^{2} C_{R}^{2} + 32 C_{C} C_{F}^{2} C_{R} + 32 C_{C} C_{F} C_{R}^{2} + 16 C_{F}^{2} C_{R}^{2}}\\end{matrix}\\right]$"
     },
     "execution_count": 6,
     "metadata": {},
     "output_type": "execute_result"
    }
   ],
   "source": [
    "sym.simplify(C_inv )"
   ],
   "metadata": {
    "collapsed": false,
    "ExecuteTime": {
     "end_time": "2024-02-08T11:26:35.683655900Z",
     "start_time": "2024-02-08T11:26:34.717862900Z"
    }
   },
   "execution_count": 6
  },
  {
   "cell_type": "code",
   "outputs": [
    {
     "data": {
      "text/plain": "(14*C_C**3 + 31*C_C**2*C_F + 15*C_C**2*C_R + 16*C_C*C_F**2 + 32*C_C*C_F*C_R + 16*C_F**2*C_R)/((2*C_C**2 + 3*C_C*C_F + 3*C_C*C_R + 4*C_F*C_R)*(6*C_C**2 + 5*C_C*C_F + 5*C_C*C_R + 4*C_F*C_R))",
      "text/latex": "$\\displaystyle \\frac{14 C_{C}^{3} + 31 C_{C}^{2} C_{F} + 15 C_{C}^{2} C_{R} + 16 C_{C} C_{F}^{2} + 32 C_{C} C_{F} C_{R} + 16 C_{F}^{2} C_{R}}{\\left(2 C_{C}^{2} + 3 C_{C} C_{F} + 3 C_{C} C_{R} + 4 C_{F} C_{R}\\right) \\left(6 C_{C}^{2} + 5 C_{C} C_{F} + 5 C_{C} C_{R} + 4 C_{F} C_{R}\\right)}$"
     },
     "execution_count": 7,
     "metadata": {},
     "output_type": "execute_result"
    }
   ],
   "source": [
    "sym.factor(C_inv[0,0])"
   ],
   "metadata": {
    "collapsed": false,
    "ExecuteTime": {
     "end_time": "2024-02-08T11:26:35.724861900Z",
     "start_time": "2024-02-08T11:26:35.678496900Z"
    }
   },
   "execution_count": 7
  },
  {
   "cell_type": "code",
   "outputs": [
    {
     "data": {
      "text/plain": "0",
      "text/latex": "$\\displaystyle 0$"
     },
     "execution_count": 8,
     "metadata": {},
     "output_type": "execute_result"
    }
   ],
   "source": [
    "C_inv[0,0] - C_inv[2,2]"
   ],
   "metadata": {
    "collapsed": false,
    "ExecuteTime": {
     "end_time": "2024-02-08T11:26:35.747670100Z",
     "start_time": "2024-02-08T11:26:35.725922500Z"
    }
   },
   "execution_count": 8
  },
  {
   "cell_type": "code",
   "outputs": [],
   "source": [
    "Csh = 15\n",
    "C   = 15\n",
    "Cg  = 10\n",
    "CJ  = 3\n",
    "Cc  = 10"
   ],
   "metadata": {
    "collapsed": false,
    "ExecuteTime": {
     "end_time": "2024-02-08T11:26:35.754832900Z",
     "start_time": "2024-02-08T11:26:35.737988100Z"
    }
   },
   "execution_count": 9
  },
  {
   "cell_type": "code",
   "outputs": [],
   "source": [
    "a=np.array( C_inv.subs({C_C:Cc, C_R:C/2, C_F:C/2 + Csh + CJ}).evalf() )"
   ],
   "metadata": {
    "collapsed": false,
    "ExecuteTime": {
     "end_time": "2024-02-08T11:26:35.799426300Z",
     "start_time": "2024-02-08T11:26:35.754832900Z"
    }
   },
   "execution_count": 10
  },
  {
   "cell_type": "code",
   "outputs": [
    {
     "data": {
      "text/plain": "array([[1.00000000000000, 0.0152487268751618, 0.145035532410737,\n        0.0714963892165607],\n       [0.0152487268751618, 0.485225997640763, 0.0714963892165607,\n        0.0352446989095722],\n       [0.145035532410737, 0.0714963892165607, 1.00000000000000,\n        0.0152487268751618],\n       [0.0714963892165607, 0.0352446989095722, 0.0152487268751618,\n        0.485225997640763]], dtype=object)"
     },
     "execution_count": 11,
     "metadata": {},
     "output_type": "execute_result"
    }
   ],
   "source": [
    "a/a[0,0]"
   ],
   "metadata": {
    "collapsed": false,
    "ExecuteTime": {
     "end_time": "2024-02-08T11:26:35.816021900Z",
     "start_time": "2024-02-08T11:26:35.800445400Z"
    }
   },
   "execution_count": 11
  },
  {
   "cell_type": "code",
   "outputs": [],
   "source": [
    "C_R = C/2\n",
    "C_C = Cc\n",
    "C_F = C/2 + Csh + CJ\n",
    "C   = np.array([  [C_R + C_C, 0, -C_C / 4, -C_C / 4],\n",
    "                  [0, C_F + C_C, -C_C / 4, -C_C / 4],\n",
    "                  [-C_C / 4, -C_C / 4, C_R + C_C, 0],\n",
    "                  [-C_C / 4, -C_C / 4, 0, C_F + C_C]])"
   ],
   "metadata": {
    "collapsed": false,
    "ExecuteTime": {
     "end_time": "2024-02-08T11:26:35.842868Z",
     "start_time": "2024-02-08T11:26:35.818319800Z"
    }
   },
   "execution_count": 12
  },
  {
   "cell_type": "code",
   "outputs": [
    {
     "data": {
      "text/plain": "array([[17.5,  0. , -2.5, -2.5],\n       [ 0. , 35.5, -2.5, -2.5],\n       [-2.5, -2.5, 17.5,  0. ],\n       [-2.5, -2.5,  0. , 35.5]])"
     },
     "execution_count": 13,
     "metadata": {},
     "output_type": "execute_result"
    }
   ],
   "source": [
    "C"
   ],
   "metadata": {
    "collapsed": false,
    "ExecuteTime": {
     "end_time": "2024-02-08T11:26:35.853980800Z",
     "start_time": "2024-02-08T11:26:35.832721200Z"
    }
   },
   "execution_count": 13
  },
  {
   "cell_type": "code",
   "outputs": [
    {
     "data": {
      "text/plain": "array([[  16.9586702 , 1112.13679245,  116.92769292,  237.19617706],\n       [1112.13679245,   34.95004447,  237.19617706,  481.16938776],\n       [ 116.92769292,  237.19617706,   16.9586702 , 1112.13679245],\n       [ 237.19617706,  481.16938776, 1112.13679245,   34.95004447]])"
     },
     "execution_count": 14,
     "metadata": {},
     "output_type": "execute_result"
    }
   ],
   "source": [
    "np.linalg.inv(C)**-1"
   ],
   "metadata": {
    "collapsed": false,
    "ExecuteTime": {
     "end_time": "2024-02-08T11:26:35.880841500Z",
     "start_time": "2024-02-08T11:26:35.864813900Z"
    }
   },
   "execution_count": 14
  },
  {
   "cell_type": "code",
   "outputs": [
    {
     "data": {
      "text/plain": "35.5"
     },
     "execution_count": 15,
     "metadata": {},
     "output_type": "execute_result"
    }
   ],
   "source": [
    "C_F + C_C"
   ],
   "metadata": {
    "collapsed": false,
    "ExecuteTime": {
     "end_time": "2024-02-08T11:26:35.923286300Z",
     "start_time": "2024-02-08T11:26:35.878701200Z"
    }
   },
   "execution_count": 15
  },
  {
   "cell_type": "code",
   "outputs": [
    {
     "data": {
      "text/plain": "17.5"
     },
     "execution_count": 16,
     "metadata": {},
     "output_type": "execute_result"
    }
   ],
   "source": [
    "C_R + C_C"
   ],
   "metadata": {
    "collapsed": false,
    "ExecuteTime": {
     "end_time": "2024-02-08T11:26:35.924792Z",
     "start_time": "2024-02-08T11:26:35.896139900Z"
    }
   },
   "execution_count": 16
  },
  {
   "cell_type": "code",
   "outputs": [
    {
     "data": {
      "text/plain": "Matrix([\n[\\alpha + 1,          0,    -\\alpha,          0,          0,          0,          0,          0,          0,    -\\alpha],\n[         0, \\alpha + 1,          0,    -\\alpha,          0,          0,          0,          0,          0,          0],\n[   -\\alpha,          0, \\alpha + 1,          0,    -\\alpha,          0,          0,          0,          0,          0],\n[         0,    -\\alpha,          0, \\alpha + 1,          0,    -\\alpha,          0,          0,          0,          0],\n[         0,          0,    -\\alpha,          0, \\alpha + 1,          0,    -\\alpha,          0,          0,          0],\n[         0,          0,          0,    -\\alpha,          0, \\alpha + 1,          0,    -\\alpha,          0,          0],\n[         0,          0,          0,          0,    -\\alpha,          0, \\alpha + 1,          0,    -\\alpha,          0],\n[         0,          0,          0,          0,          0,    -\\alpha,          0, \\alpha + 1,          0,    -\\alpha],\n[         0,          0,          0,          0,          0,          0,    -\\alpha,          0, \\alpha + 1,          0],\n[   -\\alpha,          0,          0,          0,          0,          0,          0,    -\\alpha,          0, \\alpha + 1]])",
      "text/latex": "$\\displaystyle \\left[\\begin{matrix}\\alpha + 1 & 0 & - \\alpha & 0 & 0 & 0 & 0 & 0 & 0 & - \\alpha\\\\0 & \\alpha + 1 & 0 & - \\alpha & 0 & 0 & 0 & 0 & 0 & 0\\\\- \\alpha & 0 & \\alpha + 1 & 0 & - \\alpha & 0 & 0 & 0 & 0 & 0\\\\0 & - \\alpha & 0 & \\alpha + 1 & 0 & - \\alpha & 0 & 0 & 0 & 0\\\\0 & 0 & - \\alpha & 0 & \\alpha + 1 & 0 & - \\alpha & 0 & 0 & 0\\\\0 & 0 & 0 & - \\alpha & 0 & \\alpha + 1 & 0 & - \\alpha & 0 & 0\\\\0 & 0 & 0 & 0 & - \\alpha & 0 & \\alpha + 1 & 0 & - \\alpha & 0\\\\0 & 0 & 0 & 0 & 0 & - \\alpha & 0 & \\alpha + 1 & 0 & - \\alpha\\\\0 & 0 & 0 & 0 & 0 & 0 & - \\alpha & 0 & \\alpha + 1 & 0\\\\- \\alpha & 0 & 0 & 0 & 0 & 0 & 0 & - \\alpha & 0 & \\alpha + 1\\end{matrix}\\right]$"
     },
     "execution_count": 56,
     "metadata": {},
     "output_type": "execute_result"
    }
   ],
   "source": [
    "# Define the symbols\n",
    "alpha= sym.symbols('\\\\alpha', real=True, positive = True, nonzero=True)\n",
    "N=10\n",
    "C_mat = sym.Matrix(N,N, lambda i, j: 1+alpha if i == j else -alpha if abs(i-j) == 2 else -alpha if ((i==N-1 and j==0) or (i==0 and j==N-1) )  else 0)\n",
    "# C_mat = sym.Matrix(N,N, lambda i, j: 1+alpha if i == j else -alpha if abs(i-j) == 2  else 0)\n",
    "\n",
    "C_mat"
   ],
   "metadata": {
    "collapsed": false,
    "ExecuteTime": {
     "end_time": "2024-02-20T14:36:03.416789851Z",
     "start_time": "2024-02-20T14:36:03.402125871Z"
    }
   },
   "execution_count": 56
  },
  {
   "cell_type": "code",
   "outputs": [
    {
     "name": "stdout",
     "output_type": "stream",
     "text": [
      "\\left[\\begin{matrix}\\alpha + 1 & 0 & - \\alpha & 0 & 0 & 0 & 0 & 0 & 0 & - \\alpha\\\\0 & \\alpha + 1 & 0 & - \\alpha & 0 & 0 & 0 & 0 & 0 & 0\\\\- \\alpha & 0 & \\alpha + 1 & 0 & - \\alpha & 0 & 0 & 0 & 0 & 0\\\\0 & - \\alpha & 0 & \\alpha + 1 & 0 & - \\alpha & 0 & 0 & 0 & 0\\\\0 & 0 & - \\alpha & 0 & \\alpha + 1 & 0 & - \\alpha & 0 & 0 & 0\\\\0 & 0 & 0 & - \\alpha & 0 & \\alpha + 1 & 0 & - \\alpha & 0 & 0\\\\0 & 0 & 0 & 0 & - \\alpha & 0 & \\alpha + 1 & 0 & - \\alpha & 0\\\\0 & 0 & 0 & 0 & 0 & - \\alpha & 0 & \\alpha + 1 & 0 & - \\alpha\\\\0 & 0 & 0 & 0 & 0 & 0 & - \\alpha & 0 & \\alpha + 1 & 0\\\\- \\alpha & 0 & 0 & 0 & 0 & 0 & 0 & - \\alpha & 0 & \\alpha + 1\\end{matrix}\\right]\n"
     ]
    }
   ],
   "source": [
    "sym.print_latex(sym.simplify(C_mat))"
   ],
   "metadata": {
    "collapsed": false,
    "ExecuteTime": {
     "end_time": "2024-02-20T14:36:03.893158336Z",
     "start_time": "2024-02-20T14:36:03.873351439Z"
    }
   },
   "execution_count": 57
  },
  {
   "cell_type": "code",
   "outputs": [],
   "source": [
    "C_inv = C_mat **-1\n",
    "# C_inv = sym.simplify(C_inv)"
   ],
   "metadata": {
    "collapsed": false,
    "ExecuteTime": {
     "end_time": "2024-02-20T14:36:10.396953782Z",
     "start_time": "2024-02-20T14:36:04.679709695Z"
    }
   },
   "execution_count": 58
  },
  {
   "cell_type": "code",
   "outputs": [
    {
     "data": {
      "text/plain": "(-4*\\alpha**8 - 10*\\alpha**7 + 14*\\alpha**6 + 39*\\alpha**5 + 5*\\alpha**4 - 35*\\alpha**3 - 29*\\alpha**2 - 9*\\alpha - 1)/(\\alpha**10 + 4*\\alpha**9 - 18*\\alpha**8 - 36*\\alpha**7 + 35*\\alpha**6 + 84*\\alpha**5 + 14*\\alpha**4 - 48*\\alpha**3 - 36*\\alpha**2 - 10*\\alpha - 1)",
      "text/latex": "$\\displaystyle \\frac{- 4 \\alpha^{8} - 10 \\alpha^{7} + 14 \\alpha^{6} + 39 \\alpha^{5} + 5 \\alpha^{4} - 35 \\alpha^{3} - 29 \\alpha^{2} - 9 \\alpha - 1}{\\alpha^{10} + 4 \\alpha^{9} - 18 \\alpha^{8} - 36 \\alpha^{7} + 35 \\alpha^{6} + 84 \\alpha^{5} + 14 \\alpha^{4} - 48 \\alpha^{3} - 36 \\alpha^{2} - 10 \\alpha - 1}$"
     },
     "execution_count": 59,
     "metadata": {},
     "output_type": "execute_result"
    }
   ],
   "source": [
    "C_inv[0,0]"
   ],
   "metadata": {
    "collapsed": false,
    "ExecuteTime": {
     "end_time": "2024-02-20T14:36:10.411101241Z",
     "start_time": "2024-02-20T14:36:10.397531747Z"
    }
   },
   "execution_count": 59
  },
  {
   "cell_type": "code",
   "outputs": [
    {
     "data": {
      "text/plain": "Matrix([\n[    (-4*\\alpha**8 - 10*\\alpha**7 + 14*\\alpha**6 + 39*\\alpha**5 + 5*\\alpha**4 - 35*\\alpha**3 - 29*\\alpha**2 - 9*\\alpha - 1)/(\\alpha**10 + 4*\\alpha**9 - 18*\\alpha**8 - 36*\\alpha**7 + 35*\\alpha**6 + 84*\\alpha**5 + 14*\\alpha**4 - 48*\\alpha**3 - 36*\\alpha**2 - 10*\\alpha - 1),                                                                 (\\alpha**9 + 2*\\alpha**8 - 3*\\alpha**7 - 4*\\alpha**6 - \\alpha**5)/(\\alpha**10 + 4*\\alpha**9 - 18*\\alpha**8 - 36*\\alpha**7 + 35*\\alpha**6 + 84*\\alpha**5 + 14*\\alpha**4 - 48*\\alpha**3 - 36*\\alpha**2 - 10*\\alpha - 1),                    (-4*\\alpha**8 + 2*\\alpha**7 + 20*\\alpha**6 + 9*\\alpha**5 - 20*\\alpha**4 - 22*\\alpha**3 - 8*\\alpha**2 - \\alpha)/(\\alpha**10 + 4*\\alpha**9 - 18*\\alpha**8 - 36*\\alpha**7 + 35*\\alpha**6 + 84*\\alpha**5 + 14*\\alpha**4 - 48*\\alpha**3 - 36*\\alpha**2 - 10*\\alpha - 1),                                               (\\alpha**9 + 3*\\alpha**8 - \\alpha**7 - 7*\\alpha**6 - 5*\\alpha**5 - \\alpha**4)/(\\alpha**10 + 4*\\alpha**9 - 18*\\alpha**8 - 36*\\alpha**7 + 35*\\alpha**6 + 84*\\alpha**5 + 14*\\alpha**4 - 48*\\alpha**3 - 36*\\alpha**2 - 10*\\alpha - 1),                                         (8*\\alpha**7 + 8*\\alpha**6 - 10*\\alpha**5 - 16*\\alpha**4 - 7*\\alpha**3 - \\alpha**2)/(\\alpha**10 + 4*\\alpha**9 - 18*\\alpha**8 - 36*\\alpha**7 + 35*\\alpha**6 + 84*\\alpha**5 + 14*\\alpha**4 - 48*\\alpha**3 - 36*\\alpha**2 - 10*\\alpha - 1),                                          (2*\\alpha**8 + 5*\\alpha**7 - 4*\\alpha**6 - 11*\\alpha**5 - 6*\\alpha**4 - \\alpha**3)/(\\alpha**10 + 4*\\alpha**9 - 18*\\alpha**8 - 36*\\alpha**7 + 35*\\alpha**6 + 84*\\alpha**5 + 14*\\alpha**4 - 48*\\alpha**3 - 36*\\alpha**2 - 10*\\alpha - 1),                                          (4*\\alpha**8 + 6*\\alpha**7 - 4*\\alpha**6 - 11*\\alpha**5 - 6*\\alpha**4 - \\alpha**3)/(\\alpha**10 + 4*\\alpha**9 - 18*\\alpha**8 - 36*\\alpha**7 + 35*\\alpha**6 + 84*\\alpha**5 + 14*\\alpha**4 - 48*\\alpha**3 - 36*\\alpha**2 - 10*\\alpha - 1),                      (-\\alpha**9 - \\alpha**8 + 8*\\alpha**7 + 8*\\alpha**6 - 10*\\alpha**5 - 16*\\alpha**4 - 7*\\alpha**3 - \\alpha**2)/(\\alpha**10 + 4*\\alpha**9 - 18*\\alpha**8 - 36*\\alpha**7 + 35*\\alpha**6 + 84*\\alpha**5 + 14*\\alpha**4 - 48*\\alpha**3 - 36*\\alpha**2 - 10*\\alpha - 1),                                                               (4*\\alpha**8 + 2*\\alpha**7 - 6*\\alpha**6 - 5*\\alpha**5 - \\alpha**4)/(\\alpha**10 + 4*\\alpha**9 - 18*\\alpha**8 - 36*\\alpha**7 + 35*\\alpha**6 + 84*\\alpha**5 + 14*\\alpha**4 - 48*\\alpha**3 - 36*\\alpha**2 - 10*\\alpha - 1), (-\\alpha**9 - 4*\\alpha**8 + 2*\\alpha**7 + 20*\\alpha**6 + 9*\\alpha**5 - 20*\\alpha**4 - 22*\\alpha**3 - 8*\\alpha**2 - \\alpha)/(\\alpha**10 + 4*\\alpha**9 - 18*\\alpha**8 - 36*\\alpha**7 + 35*\\alpha**6 + 84*\\alpha**5 + 14*\\alpha**4 - 48*\\alpha**3 - 36*\\alpha**2 - 10*\\alpha - 1)],\n[                                                         (\\alpha**9 + 2*\\alpha**8 - 3*\\alpha**7 - 4*\\alpha**6 - \\alpha**5)/(\\alpha**10 + 4*\\alpha**9 - 18*\\alpha**8 - 36*\\alpha**7 + 35*\\alpha**6 + 84*\\alpha**5 + 14*\\alpha**4 - 48*\\alpha**3 - 36*\\alpha**2 - 10*\\alpha - 1), (\\alpha**9 - 3*\\alpha**8 - 18*\\alpha**7 + 6*\\alpha**6 + 49*\\alpha**5 + 21*\\alpha**4 - 28*\\alpha**3 - 28*\\alpha**2 - 9*\\alpha - 1)/(\\alpha**10 + 4*\\alpha**9 - 18*\\alpha**8 - 36*\\alpha**7 + 35*\\alpha**6 + 84*\\alpha**5 + 14*\\alpha**4 - 48*\\alpha**3 - 36*\\alpha**2 - 10*\\alpha - 1),                                                                                 (\\alpha**9 - \\alpha**8 - 3*\\alpha**7 - \\alpha**6)/(\\alpha**10 + 4*\\alpha**9 - 18*\\alpha**8 - 36*\\alpha**7 + 35*\\alpha**6 + 84*\\alpha**5 + 14*\\alpha**4 - 48*\\alpha**3 - 36*\\alpha**2 - 10*\\alpha - 1),             (-6*\\alpha**8 - 3*\\alpha**7 + 24*\\alpha**6 + 20*\\alpha**5 - 14*\\alpha**4 - 21*\\alpha**3 - 8*\\alpha**2 - \\alpha)/(\\alpha**10 + 4*\\alpha**9 - 18*\\alpha**8 - 36*\\alpha**7 + 35*\\alpha**6 + 84*\\alpha**5 + 14*\\alpha**4 - 48*\\alpha**3 - 36*\\alpha**2 - 10*\\alpha - 1),                                                                                                  (-2*\\alpha**8 - \\alpha**7)/(\\alpha**10 + 4*\\alpha**9 - 18*\\alpha**8 - 36*\\alpha**7 + 35*\\alpha**6 + 84*\\alpha**5 + 14*\\alpha**4 - 48*\\alpha**3 - 36*\\alpha**2 - 10*\\alpha - 1),              (-\\alpha**9 - 3*\\alpha**8 + 9*\\alpha**7 + 15*\\alpha**6 - 5*\\alpha**5 - 15*\\alpha**4 - 7*\\alpha**3 - \\alpha**2)/(\\alpha**10 + 4*\\alpha**9 - 18*\\alpha**8 - 36*\\alpha**7 + 35*\\alpha**6 + 84*\\alpha**5 + 14*\\alpha**4 - 48*\\alpha**3 - 36*\\alpha**2 - 10*\\alpha - 1),                                                                                                    (-\\alpha**9 - \\alpha**8)/(\\alpha**10 + 4*\\alpha**9 - 18*\\alpha**8 - 36*\\alpha**7 + 35*\\alpha**6 + 84*\\alpha**5 + 14*\\alpha**4 - 48*\\alpha**3 - 36*\\alpha**2 - 10*\\alpha - 1),                                                 (-\\alpha**9 + 2*\\alpha**8 + 9*\\alpha**7 - 10*\\alpha**5 - 6*\\alpha**4 - \\alpha**3)/(\\alpha**10 + 4*\\alpha**9 - 18*\\alpha**8 - 36*\\alpha**7 + 35*\\alpha**6 + 84*\\alpha**5 + 14*\\alpha**4 - 48*\\alpha**3 - 36*\\alpha**2 - 10*\\alpha - 1),                                                                                                                        -\\alpha**9/(\\alpha**10 + 4*\\alpha**9 - 18*\\alpha**8 - 36*\\alpha**7 + 35*\\alpha**6 + 84*\\alpha**5 + 14*\\alpha**4 - 48*\\alpha**3 - 36*\\alpha**2 - 10*\\alpha - 1),                                                        (4*\\alpha**8 + 2*\\alpha**7 - 6*\\alpha**6 - 5*\\alpha**5 - \\alpha**4)/(\\alpha**10 + 4*\\alpha**9 - 18*\\alpha**8 - 36*\\alpha**7 + 35*\\alpha**6 + 84*\\alpha**5 + 14*\\alpha**4 - 48*\\alpha**3 - 36*\\alpha**2 - 10*\\alpha - 1)],\n[            (-4*\\alpha**8 + 2*\\alpha**7 + 20*\\alpha**6 + 9*\\alpha**5 - 20*\\alpha**4 - 22*\\alpha**3 - 8*\\alpha**2 - \\alpha)/(\\alpha**10 + 4*\\alpha**9 - 18*\\alpha**8 - 36*\\alpha**7 + 35*\\alpha**6 + 84*\\alpha**5 + 14*\\alpha**4 - 48*\\alpha**3 - 36*\\alpha**2 - 10*\\alpha - 1),                                                                                 (\\alpha**9 - \\alpha**8 - 3*\\alpha**7 - \\alpha**6)/(\\alpha**10 + 4*\\alpha**9 - 18*\\alpha**8 - 36*\\alpha**7 + 35*\\alpha**6 + 84*\\alpha**5 + 14*\\alpha**4 - 48*\\alpha**3 - 36*\\alpha**2 - 10*\\alpha - 1), (\\alpha**9 - 3*\\alpha**8 - 10*\\alpha**7 + 14*\\alpha**6 + 39*\\alpha**5 + 5*\\alpha**4 - 35*\\alpha**3 - 29*\\alpha**2 - 9*\\alpha - 1)/(\\alpha**10 + 4*\\alpha**9 - 18*\\alpha**8 - 36*\\alpha**7 + 35*\\alpha**6 + 84*\\alpha**5 + 14*\\alpha**4 - 48*\\alpha**3 - 36*\\alpha**2 - 10*\\alpha - 1),                                                                         (\\alpha**9 - 4*\\alpha**7 - 4*\\alpha**6 - \\alpha**5)/(\\alpha**10 + 4*\\alpha**9 - 18*\\alpha**8 - 36*\\alpha**7 + 35*\\alpha**6 + 84*\\alpha**5 + 14*\\alpha**4 - 48*\\alpha**3 - 36*\\alpha**2 - 10*\\alpha - 1),              (-2*\\alpha**8 + 3*\\alpha**7 + 20*\\alpha**6 + 9*\\alpha**5 - 20*\\alpha**4 - 22*\\alpha**3 - 8*\\alpha**2 - \\alpha)/(\\alpha**10 + 4*\\alpha**9 - 18*\\alpha**8 - 36*\\alpha**7 + 35*\\alpha**6 + 84*\\alpha**5 + 14*\\alpha**4 - 48*\\alpha**3 - 36*\\alpha**2 - 10*\\alpha - 1),                                                           (2*\\alpha**8 - \\alpha**7 - 7*\\alpha**6 - 5*\\alpha**5 - \\alpha**4)/(\\alpha**10 + 4*\\alpha**9 - 18*\\alpha**8 - 36*\\alpha**7 + 35*\\alpha**6 + 84*\\alpha**5 + 14*\\alpha**4 - 48*\\alpha**3 - 36*\\alpha**2 - 10*\\alpha - 1),               (-\\alpha**9 + \\alpha**8 + 11*\\alpha**7 + 9*\\alpha**6 - 10*\\alpha**5 - 16*\\alpha**4 - 7*\\alpha**3 - \\alpha**2)/(\\alpha**10 + 4*\\alpha**9 - 18*\\alpha**8 - 36*\\alpha**7 + 35*\\alpha**6 + 84*\\alpha**5 + 14*\\alpha**4 - 48*\\alpha**3 - 36*\\alpha**2 - 10*\\alpha - 1),                                   (-\\alpha**9 + 2*\\alpha**8 + 5*\\alpha**7 - 4*\\alpha**6 - 11*\\alpha**5 - 6*\\alpha**4 - \\alpha**3)/(\\alpha**10 + 4*\\alpha**9 - 18*\\alpha**8 - 36*\\alpha**7 + 35*\\alpha**6 + 84*\\alpha**5 + 14*\\alpha**4 - 48*\\alpha**3 - 36*\\alpha**2 - 10*\\alpha - 1),                                                 (-\\alpha**9 + 2*\\alpha**8 + 9*\\alpha**7 - 10*\\alpha**5 - 6*\\alpha**4 - \\alpha**3)/(\\alpha**10 + 4*\\alpha**9 - 18*\\alpha**8 - 36*\\alpha**7 + 35*\\alpha**6 + 84*\\alpha**5 + 14*\\alpha**4 - 48*\\alpha**3 - 36*\\alpha**2 - 10*\\alpha - 1),               (-\\alpha**9 - \\alpha**8 + 8*\\alpha**7 + 8*\\alpha**6 - 10*\\alpha**5 - 16*\\alpha**4 - 7*\\alpha**3 - \\alpha**2)/(\\alpha**10 + 4*\\alpha**9 - 18*\\alpha**8 - 36*\\alpha**7 + 35*\\alpha**6 + 84*\\alpha**5 + 14*\\alpha**4 - 48*\\alpha**3 - 36*\\alpha**2 - 10*\\alpha - 1)],\n[                                             (\\alpha**9 + 3*\\alpha**8 - \\alpha**7 - 7*\\alpha**6 - 5*\\alpha**5 - \\alpha**4)/(\\alpha**10 + 4*\\alpha**9 - 18*\\alpha**8 - 36*\\alpha**7 + 35*\\alpha**6 + 84*\\alpha**5 + 14*\\alpha**4 - 48*\\alpha**3 - 36*\\alpha**2 - 10*\\alpha - 1),                   (-6*\\alpha**8 - 3*\\alpha**7 + 24*\\alpha**6 + 20*\\alpha**5 - 14*\\alpha**4 - 21*\\alpha**3 - 8*\\alpha**2 - \\alpha)/(\\alpha**10 + 4*\\alpha**9 - 18*\\alpha**8 - 36*\\alpha**7 + 35*\\alpha**6 + 84*\\alpha**5 + 14*\\alpha**4 - 48*\\alpha**3 - 36*\\alpha**2 - 10*\\alpha - 1),                                                                               (\\alpha**9 - 4*\\alpha**7 - 4*\\alpha**6 - \\alpha**5)/(\\alpha**10 + 4*\\alpha**9 - 18*\\alpha**8 - 36*\\alpha**7 + 35*\\alpha**6 + 84*\\alpha**5 + 14*\\alpha**4 - 48*\\alpha**3 - 36*\\alpha**2 - 10*\\alpha - 1),       (-6*\\alpha**8 - 9*\\alpha**7 + 21*\\alpha**6 + 44*\\alpha**5 + 6*\\alpha**4 - 35*\\alpha**3 - 29*\\alpha**2 - 9*\\alpha - 1)/(\\alpha**10 + 4*\\alpha**9 - 18*\\alpha**8 - 36*\\alpha**7 + 35*\\alpha**6 + 84*\\alpha**5 + 14*\\alpha**4 - 48*\\alpha**3 - 36*\\alpha**2 - 10*\\alpha - 1),                                                                                    (-2*\\alpha**8 - 3*\\alpha**7 - \\alpha**6)/(\\alpha**10 + 4*\\alpha**9 - 18*\\alpha**8 - 36*\\alpha**7 + 35*\\alpha**6 + 84*\\alpha**5 + 14*\\alpha**4 - 48*\\alpha**3 - 36*\\alpha**2 - 10*\\alpha - 1), (-\\alpha**9 - 4*\\alpha**8 + 6*\\alpha**7 + 24*\\alpha**6 + 10*\\alpha**5 - 20*\\alpha**4 - 22*\\alpha**3 - 8*\\alpha**2 - \\alpha)/(\\alpha**10 + 4*\\alpha**9 - 18*\\alpha**8 - 36*\\alpha**7 + 35*\\alpha**6 + 84*\\alpha**5 + 14*\\alpha**4 - 48*\\alpha**3 - 36*\\alpha**2 - 10*\\alpha - 1),                                                                                      (-\\alpha**9 - 2*\\alpha**8 - \\alpha**7)/(\\alpha**10 + 4*\\alpha**9 - 18*\\alpha**8 - 36*\\alpha**7 + 35*\\alpha**6 + 84*\\alpha**5 + 14*\\alpha**4 - 48*\\alpha**3 - 36*\\alpha**2 - 10*\\alpha - 1),                     (-\\alpha**9 + \\alpha**8 + 11*\\alpha**7 + 9*\\alpha**6 - 10*\\alpha**5 - 16*\\alpha**4 - 7*\\alpha**3 - \\alpha**2)/(\\alpha**10 + 4*\\alpha**9 - 18*\\alpha**8 - 36*\\alpha**7 + 35*\\alpha**6 + 84*\\alpha**5 + 14*\\alpha**4 - 48*\\alpha**3 - 36*\\alpha**2 - 10*\\alpha - 1),                                                                                                          (-\\alpha**9 - \\alpha**8)/(\\alpha**10 + 4*\\alpha**9 - 18*\\alpha**8 - 36*\\alpha**7 + 35*\\alpha**6 + 84*\\alpha**5 + 14*\\alpha**4 - 48*\\alpha**3 - 36*\\alpha**2 - 10*\\alpha - 1),                                         (4*\\alpha**8 + 6*\\alpha**7 - 4*\\alpha**6 - 11*\\alpha**5 - 6*\\alpha**4 - \\alpha**3)/(\\alpha**10 + 4*\\alpha**9 - 18*\\alpha**8 - 36*\\alpha**7 + 35*\\alpha**6 + 84*\\alpha**5 + 14*\\alpha**4 - 48*\\alpha**3 - 36*\\alpha**2 - 10*\\alpha - 1)],\n[                                       (8*\\alpha**7 + 8*\\alpha**6 - 10*\\alpha**5 - 16*\\alpha**4 - 7*\\alpha**3 - \\alpha**2)/(\\alpha**10 + 4*\\alpha**9 - 18*\\alpha**8 - 36*\\alpha**7 + 35*\\alpha**6 + 84*\\alpha**5 + 14*\\alpha**4 - 48*\\alpha**3 - 36*\\alpha**2 - 10*\\alpha - 1),                                                                                                        (-2*\\alpha**8 - \\alpha**7)/(\\alpha**10 + 4*\\alpha**9 - 18*\\alpha**8 - 36*\\alpha**7 + 35*\\alpha**6 + 84*\\alpha**5 + 14*\\alpha**4 - 48*\\alpha**3 - 36*\\alpha**2 - 10*\\alpha - 1),                    (-2*\\alpha**8 + 3*\\alpha**7 + 20*\\alpha**6 + 9*\\alpha**5 - 20*\\alpha**4 - 22*\\alpha**3 - 8*\\alpha**2 - \\alpha)/(\\alpha**10 + 4*\\alpha**9 - 18*\\alpha**8 - 36*\\alpha**7 + 35*\\alpha**6 + 84*\\alpha**5 + 14*\\alpha**4 - 48*\\alpha**3 - 36*\\alpha**2 - 10*\\alpha - 1),                                                                                    (-2*\\alpha**8 - 3*\\alpha**7 - \\alpha**6)/(\\alpha**10 + 4*\\alpha**9 - 18*\\alpha**8 - 36*\\alpha**7 + 35*\\alpha**6 + 84*\\alpha**5 + 14*\\alpha**4 - 48*\\alpha**3 - 36*\\alpha**2 - 10*\\alpha - 1),       (-2*\\alpha**8 - 7*\\alpha**7 + 15*\\alpha**6 + 39*\\alpha**5 + 5*\\alpha**4 - 35*\\alpha**3 - 29*\\alpha**2 - 9*\\alpha - 1)/(\\alpha**10 + 4*\\alpha**9 - 18*\\alpha**8 - 36*\\alpha**7 + 35*\\alpha**6 + 84*\\alpha**5 + 14*\\alpha**4 - 48*\\alpha**3 - 36*\\alpha**2 - 10*\\alpha - 1),                                                                                    (-4*\\alpha**7 - 4*\\alpha**6 - \\alpha**5)/(\\alpha**10 + 4*\\alpha**9 - 18*\\alpha**8 - 36*\\alpha**7 + 35*\\alpha**6 + 84*\\alpha**5 + 14*\\alpha**4 - 48*\\alpha**3 - 36*\\alpha**2 - 10*\\alpha - 1), (-\\alpha**9 - 4*\\alpha**8 + 6*\\alpha**7 + 24*\\alpha**6 + 10*\\alpha**5 - 20*\\alpha**4 - 22*\\alpha**3 - 8*\\alpha**2 - \\alpha)/(\\alpha**10 + 4*\\alpha**9 - 18*\\alpha**8 - 36*\\alpha**7 + 35*\\alpha**6 + 84*\\alpha**5 + 14*\\alpha**4 - 48*\\alpha**3 - 36*\\alpha**2 - 10*\\alpha - 1),                                                                 (2*\\alpha**8 - \\alpha**7 - 7*\\alpha**6 - 5*\\alpha**5 - \\alpha**4)/(\\alpha**10 + 4*\\alpha**9 - 18*\\alpha**8 - 36*\\alpha**7 + 35*\\alpha**6 + 84*\\alpha**5 + 14*\\alpha**4 - 48*\\alpha**3 - 36*\\alpha**2 - 10*\\alpha - 1),                    (-\\alpha**9 - 3*\\alpha**8 + 9*\\alpha**7 + 15*\\alpha**6 - 5*\\alpha**5 - 15*\\alpha**4 - 7*\\alpha**3 - \\alpha**2)/(\\alpha**10 + 4*\\alpha**9 - 18*\\alpha**8 - 36*\\alpha**7 + 35*\\alpha**6 + 84*\\alpha**5 + 14*\\alpha**4 - 48*\\alpha**3 - 36*\\alpha**2 - 10*\\alpha - 1),                                         (2*\\alpha**8 + 5*\\alpha**7 - 4*\\alpha**6 - 11*\\alpha**5 - 6*\\alpha**4 - \\alpha**3)/(\\alpha**10 + 4*\\alpha**9 - 18*\\alpha**8 - 36*\\alpha**7 + 35*\\alpha**6 + 84*\\alpha**5 + 14*\\alpha**4 - 48*\\alpha**3 - 36*\\alpha**2 - 10*\\alpha - 1)],\n[                                        (2*\\alpha**8 + 5*\\alpha**7 - 4*\\alpha**6 - 11*\\alpha**5 - 6*\\alpha**4 - \\alpha**3)/(\\alpha**10 + 4*\\alpha**9 - 18*\\alpha**8 - 36*\\alpha**7 + 35*\\alpha**6 + 84*\\alpha**5 + 14*\\alpha**4 - 48*\\alpha**3 - 36*\\alpha**2 - 10*\\alpha - 1),                    (-\\alpha**9 - 3*\\alpha**8 + 9*\\alpha**7 + 15*\\alpha**6 - 5*\\alpha**5 - 15*\\alpha**4 - 7*\\alpha**3 - \\alpha**2)/(\\alpha**10 + 4*\\alpha**9 - 18*\\alpha**8 - 36*\\alpha**7 + 35*\\alpha**6 + 84*\\alpha**5 + 14*\\alpha**4 - 48*\\alpha**3 - 36*\\alpha**2 - 10*\\alpha - 1),                                                                 (2*\\alpha**8 - \\alpha**7 - 7*\\alpha**6 - 5*\\alpha**5 - \\alpha**4)/(\\alpha**10 + 4*\\alpha**9 - 18*\\alpha**8 - 36*\\alpha**7 + 35*\\alpha**6 + 84*\\alpha**5 + 14*\\alpha**4 - 48*\\alpha**3 - 36*\\alpha**2 - 10*\\alpha - 1), (-\\alpha**9 - 4*\\alpha**8 + 6*\\alpha**7 + 24*\\alpha**6 + 10*\\alpha**5 - 20*\\alpha**4 - 22*\\alpha**3 - 8*\\alpha**2 - \\alpha)/(\\alpha**10 + 4*\\alpha**9 - 18*\\alpha**8 - 36*\\alpha**7 + 35*\\alpha**6 + 84*\\alpha**5 + 14*\\alpha**4 - 48*\\alpha**3 - 36*\\alpha**2 - 10*\\alpha - 1),                                                                                    (-4*\\alpha**7 - 4*\\alpha**6 - \\alpha**5)/(\\alpha**10 + 4*\\alpha**9 - 18*\\alpha**8 - 36*\\alpha**7 + 35*\\alpha**6 + 84*\\alpha**5 + 14*\\alpha**4 - 48*\\alpha**3 - 36*\\alpha**2 - 10*\\alpha - 1),       (-2*\\alpha**8 - 7*\\alpha**7 + 15*\\alpha**6 + 39*\\alpha**5 + 5*\\alpha**4 - 35*\\alpha**3 - 29*\\alpha**2 - 9*\\alpha - 1)/(\\alpha**10 + 4*\\alpha**9 - 18*\\alpha**8 - 36*\\alpha**7 + 35*\\alpha**6 + 84*\\alpha**5 + 14*\\alpha**4 - 48*\\alpha**3 - 36*\\alpha**2 - 10*\\alpha - 1),                                                                                    (-2*\\alpha**8 - 3*\\alpha**7 - \\alpha**6)/(\\alpha**10 + 4*\\alpha**9 - 18*\\alpha**8 - 36*\\alpha**7 + 35*\\alpha**6 + 84*\\alpha**5 + 14*\\alpha**4 - 48*\\alpha**3 - 36*\\alpha**2 - 10*\\alpha - 1),                    (-2*\\alpha**8 + 3*\\alpha**7 + 20*\\alpha**6 + 9*\\alpha**5 - 20*\\alpha**4 - 22*\\alpha**3 - 8*\\alpha**2 - \\alpha)/(\\alpha**10 + 4*\\alpha**9 - 18*\\alpha**8 - 36*\\alpha**7 + 35*\\alpha**6 + 84*\\alpha**5 + 14*\\alpha**4 - 48*\\alpha**3 - 36*\\alpha**2 - 10*\\alpha - 1),                                                                                                        (-2*\\alpha**8 - \\alpha**7)/(\\alpha**10 + 4*\\alpha**9 - 18*\\alpha**8 - 36*\\alpha**7 + 35*\\alpha**6 + 84*\\alpha**5 + 14*\\alpha**4 - 48*\\alpha**3 - 36*\\alpha**2 - 10*\\alpha - 1),                                        (8*\\alpha**7 + 8*\\alpha**6 - 10*\\alpha**5 - 16*\\alpha**4 - 7*\\alpha**3 - \\alpha**2)/(\\alpha**10 + 4*\\alpha**9 - 18*\\alpha**8 - 36*\\alpha**7 + 35*\\alpha**6 + 84*\\alpha**5 + 14*\\alpha**4 - 48*\\alpha**3 - 36*\\alpha**2 - 10*\\alpha - 1)],\n[                                        (4*\\alpha**8 + 6*\\alpha**7 - 4*\\alpha**6 - 11*\\alpha**5 - 6*\\alpha**4 - \\alpha**3)/(\\alpha**10 + 4*\\alpha**9 - 18*\\alpha**8 - 36*\\alpha**7 + 35*\\alpha**6 + 84*\\alpha**5 + 14*\\alpha**4 - 48*\\alpha**3 - 36*\\alpha**2 - 10*\\alpha - 1),                                                                                                          (-\\alpha**9 - \\alpha**8)/(\\alpha**10 + 4*\\alpha**9 - 18*\\alpha**8 - 36*\\alpha**7 + 35*\\alpha**6 + 84*\\alpha**5 + 14*\\alpha**4 - 48*\\alpha**3 - 36*\\alpha**2 - 10*\\alpha - 1),                     (-\\alpha**9 + \\alpha**8 + 11*\\alpha**7 + 9*\\alpha**6 - 10*\\alpha**5 - 16*\\alpha**4 - 7*\\alpha**3 - \\alpha**2)/(\\alpha**10 + 4*\\alpha**9 - 18*\\alpha**8 - 36*\\alpha**7 + 35*\\alpha**6 + 84*\\alpha**5 + 14*\\alpha**4 - 48*\\alpha**3 - 36*\\alpha**2 - 10*\\alpha - 1),                                                                                      (-\\alpha**9 - 2*\\alpha**8 - \\alpha**7)/(\\alpha**10 + 4*\\alpha**9 - 18*\\alpha**8 - 36*\\alpha**7 + 35*\\alpha**6 + 84*\\alpha**5 + 14*\\alpha**4 - 48*\\alpha**3 - 36*\\alpha**2 - 10*\\alpha - 1), (-\\alpha**9 - 4*\\alpha**8 + 6*\\alpha**7 + 24*\\alpha**6 + 10*\\alpha**5 - 20*\\alpha**4 - 22*\\alpha**3 - 8*\\alpha**2 - \\alpha)/(\\alpha**10 + 4*\\alpha**9 - 18*\\alpha**8 - 36*\\alpha**7 + 35*\\alpha**6 + 84*\\alpha**5 + 14*\\alpha**4 - 48*\\alpha**3 - 36*\\alpha**2 - 10*\\alpha - 1),                                                                                    (-2*\\alpha**8 - 3*\\alpha**7 - \\alpha**6)/(\\alpha**10 + 4*\\alpha**9 - 18*\\alpha**8 - 36*\\alpha**7 + 35*\\alpha**6 + 84*\\alpha**5 + 14*\\alpha**4 - 48*\\alpha**3 - 36*\\alpha**2 - 10*\\alpha - 1),       (-6*\\alpha**8 - 9*\\alpha**7 + 21*\\alpha**6 + 44*\\alpha**5 + 6*\\alpha**4 - 35*\\alpha**3 - 29*\\alpha**2 - 9*\\alpha - 1)/(\\alpha**10 + 4*\\alpha**9 - 18*\\alpha**8 - 36*\\alpha**7 + 35*\\alpha**6 + 84*\\alpha**5 + 14*\\alpha**4 - 48*\\alpha**3 - 36*\\alpha**2 - 10*\\alpha - 1),                                                                               (\\alpha**9 - 4*\\alpha**7 - 4*\\alpha**6 - \\alpha**5)/(\\alpha**10 + 4*\\alpha**9 - 18*\\alpha**8 - 36*\\alpha**7 + 35*\\alpha**6 + 84*\\alpha**5 + 14*\\alpha**4 - 48*\\alpha**3 - 36*\\alpha**2 - 10*\\alpha - 1),                   (-6*\\alpha**8 - 3*\\alpha**7 + 24*\\alpha**6 + 20*\\alpha**5 - 14*\\alpha**4 - 21*\\alpha**3 - 8*\\alpha**2 - \\alpha)/(\\alpha**10 + 4*\\alpha**9 - 18*\\alpha**8 - 36*\\alpha**7 + 35*\\alpha**6 + 84*\\alpha**5 + 14*\\alpha**4 - 48*\\alpha**3 - 36*\\alpha**2 - 10*\\alpha - 1),                                              (\\alpha**9 + 3*\\alpha**8 - \\alpha**7 - 7*\\alpha**6 - 5*\\alpha**5 - \\alpha**4)/(\\alpha**10 + 4*\\alpha**9 - 18*\\alpha**8 - 36*\\alpha**7 + 35*\\alpha**6 + 84*\\alpha**5 + 14*\\alpha**4 - 48*\\alpha**3 - 36*\\alpha**2 - 10*\\alpha - 1)],\n[              (-\\alpha**9 - \\alpha**8 + 8*\\alpha**7 + 8*\\alpha**6 - 10*\\alpha**5 - 16*\\alpha**4 - 7*\\alpha**3 - \\alpha**2)/(\\alpha**10 + 4*\\alpha**9 - 18*\\alpha**8 - 36*\\alpha**7 + 35*\\alpha**6 + 84*\\alpha**5 + 14*\\alpha**4 - 48*\\alpha**3 - 36*\\alpha**2 - 10*\\alpha - 1),                                                 (-\\alpha**9 + 2*\\alpha**8 + 9*\\alpha**7 - 10*\\alpha**5 - 6*\\alpha**4 - \\alpha**3)/(\\alpha**10 + 4*\\alpha**9 - 18*\\alpha**8 - 36*\\alpha**7 + 35*\\alpha**6 + 84*\\alpha**5 + 14*\\alpha**4 - 48*\\alpha**3 - 36*\\alpha**2 - 10*\\alpha - 1),                                   (-\\alpha**9 + 2*\\alpha**8 + 5*\\alpha**7 - 4*\\alpha**6 - 11*\\alpha**5 - 6*\\alpha**4 - \\alpha**3)/(\\alpha**10 + 4*\\alpha**9 - 18*\\alpha**8 - 36*\\alpha**7 + 35*\\alpha**6 + 84*\\alpha**5 + 14*\\alpha**4 - 48*\\alpha**3 - 36*\\alpha**2 - 10*\\alpha - 1),               (-\\alpha**9 + \\alpha**8 + 11*\\alpha**7 + 9*\\alpha**6 - 10*\\alpha**5 - 16*\\alpha**4 - 7*\\alpha**3 - \\alpha**2)/(\\alpha**10 + 4*\\alpha**9 - 18*\\alpha**8 - 36*\\alpha**7 + 35*\\alpha**6 + 84*\\alpha**5 + 14*\\alpha**4 - 48*\\alpha**3 - 36*\\alpha**2 - 10*\\alpha - 1),                                                           (2*\\alpha**8 - \\alpha**7 - 7*\\alpha**6 - 5*\\alpha**5 - \\alpha**4)/(\\alpha**10 + 4*\\alpha**9 - 18*\\alpha**8 - 36*\\alpha**7 + 35*\\alpha**6 + 84*\\alpha**5 + 14*\\alpha**4 - 48*\\alpha**3 - 36*\\alpha**2 - 10*\\alpha - 1),              (-2*\\alpha**8 + 3*\\alpha**7 + 20*\\alpha**6 + 9*\\alpha**5 - 20*\\alpha**4 - 22*\\alpha**3 - 8*\\alpha**2 - \\alpha)/(\\alpha**10 + 4*\\alpha**9 - 18*\\alpha**8 - 36*\\alpha**7 + 35*\\alpha**6 + 84*\\alpha**5 + 14*\\alpha**4 - 48*\\alpha**3 - 36*\\alpha**2 - 10*\\alpha - 1),                                                                         (\\alpha**9 - 4*\\alpha**7 - 4*\\alpha**6 - \\alpha**5)/(\\alpha**10 + 4*\\alpha**9 - 18*\\alpha**8 - 36*\\alpha**7 + 35*\\alpha**6 + 84*\\alpha**5 + 14*\\alpha**4 - 48*\\alpha**3 - 36*\\alpha**2 - 10*\\alpha - 1), (\\alpha**9 - 3*\\alpha**8 - 10*\\alpha**7 + 14*\\alpha**6 + 39*\\alpha**5 + 5*\\alpha**4 - 35*\\alpha**3 - 29*\\alpha**2 - 9*\\alpha - 1)/(\\alpha**10 + 4*\\alpha**9 - 18*\\alpha**8 - 36*\\alpha**7 + 35*\\alpha**6 + 84*\\alpha**5 + 14*\\alpha**4 - 48*\\alpha**3 - 36*\\alpha**2 - 10*\\alpha - 1),                                                                                 (\\alpha**9 - \\alpha**8 - 3*\\alpha**7 - \\alpha**6)/(\\alpha**10 + 4*\\alpha**9 - 18*\\alpha**8 - 36*\\alpha**7 + 35*\\alpha**6 + 84*\\alpha**5 + 14*\\alpha**4 - 48*\\alpha**3 - 36*\\alpha**2 - 10*\\alpha - 1),             (-4*\\alpha**8 + 2*\\alpha**7 + 20*\\alpha**6 + 9*\\alpha**5 - 20*\\alpha**4 - 22*\\alpha**3 - 8*\\alpha**2 - \\alpha)/(\\alpha**10 + 4*\\alpha**9 - 18*\\alpha**8 - 36*\\alpha**7 + 35*\\alpha**6 + 84*\\alpha**5 + 14*\\alpha**4 - 48*\\alpha**3 - 36*\\alpha**2 - 10*\\alpha - 1)],\n[                                                       (4*\\alpha**8 + 2*\\alpha**7 - 6*\\alpha**6 - 5*\\alpha**5 - \\alpha**4)/(\\alpha**10 + 4*\\alpha**9 - 18*\\alpha**8 - 36*\\alpha**7 + 35*\\alpha**6 + 84*\\alpha**5 + 14*\\alpha**4 - 48*\\alpha**3 - 36*\\alpha**2 - 10*\\alpha - 1),                                                                                                                        -\\alpha**9/(\\alpha**10 + 4*\\alpha**9 - 18*\\alpha**8 - 36*\\alpha**7 + 35*\\alpha**6 + 84*\\alpha**5 + 14*\\alpha**4 - 48*\\alpha**3 - 36*\\alpha**2 - 10*\\alpha - 1),                                                 (-\\alpha**9 + 2*\\alpha**8 + 9*\\alpha**7 - 10*\\alpha**5 - 6*\\alpha**4 - \\alpha**3)/(\\alpha**10 + 4*\\alpha**9 - 18*\\alpha**8 - 36*\\alpha**7 + 35*\\alpha**6 + 84*\\alpha**5 + 14*\\alpha**4 - 48*\\alpha**3 - 36*\\alpha**2 - 10*\\alpha - 1),                                                                                                    (-\\alpha**9 - \\alpha**8)/(\\alpha**10 + 4*\\alpha**9 - 18*\\alpha**8 - 36*\\alpha**7 + 35*\\alpha**6 + 84*\\alpha**5 + 14*\\alpha**4 - 48*\\alpha**3 - 36*\\alpha**2 - 10*\\alpha - 1),              (-\\alpha**9 - 3*\\alpha**8 + 9*\\alpha**7 + 15*\\alpha**6 - 5*\\alpha**5 - 15*\\alpha**4 - 7*\\alpha**3 - \\alpha**2)/(\\alpha**10 + 4*\\alpha**9 - 18*\\alpha**8 - 36*\\alpha**7 + 35*\\alpha**6 + 84*\\alpha**5 + 14*\\alpha**4 - 48*\\alpha**3 - 36*\\alpha**2 - 10*\\alpha - 1),                                                                                                  (-2*\\alpha**8 - \\alpha**7)/(\\alpha**10 + 4*\\alpha**9 - 18*\\alpha**8 - 36*\\alpha**7 + 35*\\alpha**6 + 84*\\alpha**5 + 14*\\alpha**4 - 48*\\alpha**3 - 36*\\alpha**2 - 10*\\alpha - 1),             (-6*\\alpha**8 - 3*\\alpha**7 + 24*\\alpha**6 + 20*\\alpha**5 - 14*\\alpha**4 - 21*\\alpha**3 - 8*\\alpha**2 - \\alpha)/(\\alpha**10 + 4*\\alpha**9 - 18*\\alpha**8 - 36*\\alpha**7 + 35*\\alpha**6 + 84*\\alpha**5 + 14*\\alpha**4 - 48*\\alpha**3 - 36*\\alpha**2 - 10*\\alpha - 1),                                                                                 (\\alpha**9 - \\alpha**8 - 3*\\alpha**7 - \\alpha**6)/(\\alpha**10 + 4*\\alpha**9 - 18*\\alpha**8 - 36*\\alpha**7 + 35*\\alpha**6 + 84*\\alpha**5 + 14*\\alpha**4 - 48*\\alpha**3 - 36*\\alpha**2 - 10*\\alpha - 1), (\\alpha**9 - 3*\\alpha**8 - 18*\\alpha**7 + 6*\\alpha**6 + 49*\\alpha**5 + 21*\\alpha**4 - 28*\\alpha**3 - 28*\\alpha**2 - 9*\\alpha - 1)/(\\alpha**10 + 4*\\alpha**9 - 18*\\alpha**8 - 36*\\alpha**7 + 35*\\alpha**6 + 84*\\alpha**5 + 14*\\alpha**4 - 48*\\alpha**3 - 36*\\alpha**2 - 10*\\alpha - 1),                                                          (\\alpha**9 + 2*\\alpha**8 - 3*\\alpha**7 - 4*\\alpha**6 - \\alpha**5)/(\\alpha**10 + 4*\\alpha**9 - 18*\\alpha**8 - 36*\\alpha**7 + 35*\\alpha**6 + 84*\\alpha**5 + 14*\\alpha**4 - 48*\\alpha**3 - 36*\\alpha**2 - 10*\\alpha - 1)],\n[(-\\alpha**9 - 4*\\alpha**8 + 2*\\alpha**7 + 20*\\alpha**6 + 9*\\alpha**5 - 20*\\alpha**4 - 22*\\alpha**3 - 8*\\alpha**2 - \\alpha)/(\\alpha**10 + 4*\\alpha**9 - 18*\\alpha**8 - 36*\\alpha**7 + 35*\\alpha**6 + 84*\\alpha**5 + 14*\\alpha**4 - 48*\\alpha**3 - 36*\\alpha**2 - 10*\\alpha - 1),                                                               (4*\\alpha**8 + 2*\\alpha**7 - 6*\\alpha**6 - 5*\\alpha**5 - \\alpha**4)/(\\alpha**10 + 4*\\alpha**9 - 18*\\alpha**8 - 36*\\alpha**7 + 35*\\alpha**6 + 84*\\alpha**5 + 14*\\alpha**4 - 48*\\alpha**3 - 36*\\alpha**2 - 10*\\alpha - 1),                      (-\\alpha**9 - \\alpha**8 + 8*\\alpha**7 + 8*\\alpha**6 - 10*\\alpha**5 - 16*\\alpha**4 - 7*\\alpha**3 - \\alpha**2)/(\\alpha**10 + 4*\\alpha**9 - 18*\\alpha**8 - 36*\\alpha**7 + 35*\\alpha**6 + 84*\\alpha**5 + 14*\\alpha**4 - 48*\\alpha**3 - 36*\\alpha**2 - 10*\\alpha - 1),                                          (4*\\alpha**8 + 6*\\alpha**7 - 4*\\alpha**6 - 11*\\alpha**5 - 6*\\alpha**4 - \\alpha**3)/(\\alpha**10 + 4*\\alpha**9 - 18*\\alpha**8 - 36*\\alpha**7 + 35*\\alpha**6 + 84*\\alpha**5 + 14*\\alpha**4 - 48*\\alpha**3 - 36*\\alpha**2 - 10*\\alpha - 1),                                          (2*\\alpha**8 + 5*\\alpha**7 - 4*\\alpha**6 - 11*\\alpha**5 - 6*\\alpha**4 - \\alpha**3)/(\\alpha**10 + 4*\\alpha**9 - 18*\\alpha**8 - 36*\\alpha**7 + 35*\\alpha**6 + 84*\\alpha**5 + 14*\\alpha**4 - 48*\\alpha**3 - 36*\\alpha**2 - 10*\\alpha - 1),                                         (8*\\alpha**7 + 8*\\alpha**6 - 10*\\alpha**5 - 16*\\alpha**4 - 7*\\alpha**3 - \\alpha**2)/(\\alpha**10 + 4*\\alpha**9 - 18*\\alpha**8 - 36*\\alpha**7 + 35*\\alpha**6 + 84*\\alpha**5 + 14*\\alpha**4 - 48*\\alpha**3 - 36*\\alpha**2 - 10*\\alpha - 1),                                               (\\alpha**9 + 3*\\alpha**8 - \\alpha**7 - 7*\\alpha**6 - 5*\\alpha**5 - \\alpha**4)/(\\alpha**10 + 4*\\alpha**9 - 18*\\alpha**8 - 36*\\alpha**7 + 35*\\alpha**6 + 84*\\alpha**5 + 14*\\alpha**4 - 48*\\alpha**3 - 36*\\alpha**2 - 10*\\alpha - 1),                    (-4*\\alpha**8 + 2*\\alpha**7 + 20*\\alpha**6 + 9*\\alpha**5 - 20*\\alpha**4 - 22*\\alpha**3 - 8*\\alpha**2 - \\alpha)/(\\alpha**10 + 4*\\alpha**9 - 18*\\alpha**8 - 36*\\alpha**7 + 35*\\alpha**6 + 84*\\alpha**5 + 14*\\alpha**4 - 48*\\alpha**3 - 36*\\alpha**2 - 10*\\alpha - 1),                                                                 (\\alpha**9 + 2*\\alpha**8 - 3*\\alpha**7 - 4*\\alpha**6 - \\alpha**5)/(\\alpha**10 + 4*\\alpha**9 - 18*\\alpha**8 - 36*\\alpha**7 + 35*\\alpha**6 + 84*\\alpha**5 + 14*\\alpha**4 - 48*\\alpha**3 - 36*\\alpha**2 - 10*\\alpha - 1),     (-4*\\alpha**8 - 10*\\alpha**7 + 14*\\alpha**6 + 39*\\alpha**5 + 5*\\alpha**4 - 35*\\alpha**3 - 29*\\alpha**2 - 9*\\alpha - 1)/(\\alpha**10 + 4*\\alpha**9 - 18*\\alpha**8 - 36*\\alpha**7 + 35*\\alpha**6 + 84*\\alpha**5 + 14*\\alpha**4 - 48*\\alpha**3 - 36*\\alpha**2 - 10*\\alpha - 1)]])",
      "text/latex": "$\\displaystyle \\left[\\begin{matrix}\\frac{- 4 \\alpha^{8} - 10 \\alpha^{7} + 14 \\alpha^{6} + 39 \\alpha^{5} + 5 \\alpha^{4} - 35 \\alpha^{3} - 29 \\alpha^{2} - 9 \\alpha - 1}{\\alpha^{10} + 4 \\alpha^{9} - 18 \\alpha^{8} - 36 \\alpha^{7} + 35 \\alpha^{6} + 84 \\alpha^{5} + 14 \\alpha^{4} - 48 \\alpha^{3} - 36 \\alpha^{2} - 10 \\alpha - 1} & \\frac{\\alpha^{9} + 2 \\alpha^{8} - 3 \\alpha^{7} - 4 \\alpha^{6} - \\alpha^{5}}{\\alpha^{10} + 4 \\alpha^{9} - 18 \\alpha^{8} - 36 \\alpha^{7} + 35 \\alpha^{6} + 84 \\alpha^{5} + 14 \\alpha^{4} - 48 \\alpha^{3} - 36 \\alpha^{2} - 10 \\alpha - 1} & \\frac{- 4 \\alpha^{8} + 2 \\alpha^{7} + 20 \\alpha^{6} + 9 \\alpha^{5} - 20 \\alpha^{4} - 22 \\alpha^{3} - 8 \\alpha^{2} - \\alpha}{\\alpha^{10} + 4 \\alpha^{9} - 18 \\alpha^{8} - 36 \\alpha^{7} + 35 \\alpha^{6} + 84 \\alpha^{5} + 14 \\alpha^{4} - 48 \\alpha^{3} - 36 \\alpha^{2} - 10 \\alpha - 1} & \\frac{\\alpha^{9} + 3 \\alpha^{8} - \\alpha^{7} - 7 \\alpha^{6} - 5 \\alpha^{5} - \\alpha^{4}}{\\alpha^{10} + 4 \\alpha^{9} - 18 \\alpha^{8} - 36 \\alpha^{7} + 35 \\alpha^{6} + 84 \\alpha^{5} + 14 \\alpha^{4} - 48 \\alpha^{3} - 36 \\alpha^{2} - 10 \\alpha - 1} & \\frac{8 \\alpha^{7} + 8 \\alpha^{6} - 10 \\alpha^{5} - 16 \\alpha^{4} - 7 \\alpha^{3} - \\alpha^{2}}{\\alpha^{10} + 4 \\alpha^{9} - 18 \\alpha^{8} - 36 \\alpha^{7} + 35 \\alpha^{6} + 84 \\alpha^{5} + 14 \\alpha^{4} - 48 \\alpha^{3} - 36 \\alpha^{2} - 10 \\alpha - 1} & \\frac{2 \\alpha^{8} + 5 \\alpha^{7} - 4 \\alpha^{6} - 11 \\alpha^{5} - 6 \\alpha^{4} - \\alpha^{3}}{\\alpha^{10} + 4 \\alpha^{9} - 18 \\alpha^{8} - 36 \\alpha^{7} + 35 \\alpha^{6} + 84 \\alpha^{5} + 14 \\alpha^{4} - 48 \\alpha^{3} - 36 \\alpha^{2} - 10 \\alpha - 1} & \\frac{4 \\alpha^{8} + 6 \\alpha^{7} - 4 \\alpha^{6} - 11 \\alpha^{5} - 6 \\alpha^{4} - \\alpha^{3}}{\\alpha^{10} + 4 \\alpha^{9} - 18 \\alpha^{8} - 36 \\alpha^{7} + 35 \\alpha^{6} + 84 \\alpha^{5} + 14 \\alpha^{4} - 48 \\alpha^{3} - 36 \\alpha^{2} - 10 \\alpha - 1} & \\frac{- \\alpha^{9} - \\alpha^{8} + 8 \\alpha^{7} + 8 \\alpha^{6} - 10 \\alpha^{5} - 16 \\alpha^{4} - 7 \\alpha^{3} - \\alpha^{2}}{\\alpha^{10} + 4 \\alpha^{9} - 18 \\alpha^{8} - 36 \\alpha^{7} + 35 \\alpha^{6} + 84 \\alpha^{5} + 14 \\alpha^{4} - 48 \\alpha^{3} - 36 \\alpha^{2} - 10 \\alpha - 1} & \\frac{4 \\alpha^{8} + 2 \\alpha^{7} - 6 \\alpha^{6} - 5 \\alpha^{5} - \\alpha^{4}}{\\alpha^{10} + 4 \\alpha^{9} - 18 \\alpha^{8} - 36 \\alpha^{7} + 35 \\alpha^{6} + 84 \\alpha^{5} + 14 \\alpha^{4} - 48 \\alpha^{3} - 36 \\alpha^{2} - 10 \\alpha - 1} & \\frac{- \\alpha^{9} - 4 \\alpha^{8} + 2 \\alpha^{7} + 20 \\alpha^{6} + 9 \\alpha^{5} - 20 \\alpha^{4} - 22 \\alpha^{3} - 8 \\alpha^{2} - \\alpha}{\\alpha^{10} + 4 \\alpha^{9} - 18 \\alpha^{8} - 36 \\alpha^{7} + 35 \\alpha^{6} + 84 \\alpha^{5} + 14 \\alpha^{4} - 48 \\alpha^{3} - 36 \\alpha^{2} - 10 \\alpha - 1}\\\\\\frac{\\alpha^{9} + 2 \\alpha^{8} - 3 \\alpha^{7} - 4 \\alpha^{6} - \\alpha^{5}}{\\alpha^{10} + 4 \\alpha^{9} - 18 \\alpha^{8} - 36 \\alpha^{7} + 35 \\alpha^{6} + 84 \\alpha^{5} + 14 \\alpha^{4} - 48 \\alpha^{3} - 36 \\alpha^{2} - 10 \\alpha - 1} & \\frac{\\alpha^{9} - 3 \\alpha^{8} - 18 \\alpha^{7} + 6 \\alpha^{6} + 49 \\alpha^{5} + 21 \\alpha^{4} - 28 \\alpha^{3} - 28 \\alpha^{2} - 9 \\alpha - 1}{\\alpha^{10} + 4 \\alpha^{9} - 18 \\alpha^{8} - 36 \\alpha^{7} + 35 \\alpha^{6} + 84 \\alpha^{5} + 14 \\alpha^{4} - 48 \\alpha^{3} - 36 \\alpha^{2} - 10 \\alpha - 1} & \\frac{\\alpha^{9} - \\alpha^{8} - 3 \\alpha^{7} - \\alpha^{6}}{\\alpha^{10} + 4 \\alpha^{9} - 18 \\alpha^{8} - 36 \\alpha^{7} + 35 \\alpha^{6} + 84 \\alpha^{5} + 14 \\alpha^{4} - 48 \\alpha^{3} - 36 \\alpha^{2} - 10 \\alpha - 1} & \\frac{- 6 \\alpha^{8} - 3 \\alpha^{7} + 24 \\alpha^{6} + 20 \\alpha^{5} - 14 \\alpha^{4} - 21 \\alpha^{3} - 8 \\alpha^{2} - \\alpha}{\\alpha^{10} + 4 \\alpha^{9} - 18 \\alpha^{8} - 36 \\alpha^{7} + 35 \\alpha^{6} + 84 \\alpha^{5} + 14 \\alpha^{4} - 48 \\alpha^{3} - 36 \\alpha^{2} - 10 \\alpha - 1} & \\frac{- 2 \\alpha^{8} - \\alpha^{7}}{\\alpha^{10} + 4 \\alpha^{9} - 18 \\alpha^{8} - 36 \\alpha^{7} + 35 \\alpha^{6} + 84 \\alpha^{5} + 14 \\alpha^{4} - 48 \\alpha^{3} - 36 \\alpha^{2} - 10 \\alpha - 1} & \\frac{- \\alpha^{9} - 3 \\alpha^{8} + 9 \\alpha^{7} + 15 \\alpha^{6} - 5 \\alpha^{5} - 15 \\alpha^{4} - 7 \\alpha^{3} - \\alpha^{2}}{\\alpha^{10} + 4 \\alpha^{9} - 18 \\alpha^{8} - 36 \\alpha^{7} + 35 \\alpha^{6} + 84 \\alpha^{5} + 14 \\alpha^{4} - 48 \\alpha^{3} - 36 \\alpha^{2} - 10 \\alpha - 1} & \\frac{- \\alpha^{9} - \\alpha^{8}}{\\alpha^{10} + 4 \\alpha^{9} - 18 \\alpha^{8} - 36 \\alpha^{7} + 35 \\alpha^{6} + 84 \\alpha^{5} + 14 \\alpha^{4} - 48 \\alpha^{3} - 36 \\alpha^{2} - 10 \\alpha - 1} & \\frac{- \\alpha^{9} + 2 \\alpha^{8} + 9 \\alpha^{7} - 10 \\alpha^{5} - 6 \\alpha^{4} - \\alpha^{3}}{\\alpha^{10} + 4 \\alpha^{9} - 18 \\alpha^{8} - 36 \\alpha^{7} + 35 \\alpha^{6} + 84 \\alpha^{5} + 14 \\alpha^{4} - 48 \\alpha^{3} - 36 \\alpha^{2} - 10 \\alpha - 1} & - \\frac{\\alpha^{9}}{\\alpha^{10} + 4 \\alpha^{9} - 18 \\alpha^{8} - 36 \\alpha^{7} + 35 \\alpha^{6} + 84 \\alpha^{5} + 14 \\alpha^{4} - 48 \\alpha^{3} - 36 \\alpha^{2} - 10 \\alpha - 1} & \\frac{4 \\alpha^{8} + 2 \\alpha^{7} - 6 \\alpha^{6} - 5 \\alpha^{5} - \\alpha^{4}}{\\alpha^{10} + 4 \\alpha^{9} - 18 \\alpha^{8} - 36 \\alpha^{7} + 35 \\alpha^{6} + 84 \\alpha^{5} + 14 \\alpha^{4} - 48 \\alpha^{3} - 36 \\alpha^{2} - 10 \\alpha - 1}\\\\\\frac{- 4 \\alpha^{8} + 2 \\alpha^{7} + 20 \\alpha^{6} + 9 \\alpha^{5} - 20 \\alpha^{4} - 22 \\alpha^{3} - 8 \\alpha^{2} - \\alpha}{\\alpha^{10} + 4 \\alpha^{9} - 18 \\alpha^{8} - 36 \\alpha^{7} + 35 \\alpha^{6} + 84 \\alpha^{5} + 14 \\alpha^{4} - 48 \\alpha^{3} - 36 \\alpha^{2} - 10 \\alpha - 1} & \\frac{\\alpha^{9} - \\alpha^{8} - 3 \\alpha^{7} - \\alpha^{6}}{\\alpha^{10} + 4 \\alpha^{9} - 18 \\alpha^{8} - 36 \\alpha^{7} + 35 \\alpha^{6} + 84 \\alpha^{5} + 14 \\alpha^{4} - 48 \\alpha^{3} - 36 \\alpha^{2} - 10 \\alpha - 1} & \\frac{\\alpha^{9} - 3 \\alpha^{8} - 10 \\alpha^{7} + 14 \\alpha^{6} + 39 \\alpha^{5} + 5 \\alpha^{4} - 35 \\alpha^{3} - 29 \\alpha^{2} - 9 \\alpha - 1}{\\alpha^{10} + 4 \\alpha^{9} - 18 \\alpha^{8} - 36 \\alpha^{7} + 35 \\alpha^{6} + 84 \\alpha^{5} + 14 \\alpha^{4} - 48 \\alpha^{3} - 36 \\alpha^{2} - 10 \\alpha - 1} & \\frac{\\alpha^{9} - 4 \\alpha^{7} - 4 \\alpha^{6} - \\alpha^{5}}{\\alpha^{10} + 4 \\alpha^{9} - 18 \\alpha^{8} - 36 \\alpha^{7} + 35 \\alpha^{6} + 84 \\alpha^{5} + 14 \\alpha^{4} - 48 \\alpha^{3} - 36 \\alpha^{2} - 10 \\alpha - 1} & \\frac{- 2 \\alpha^{8} + 3 \\alpha^{7} + 20 \\alpha^{6} + 9 \\alpha^{5} - 20 \\alpha^{4} - 22 \\alpha^{3} - 8 \\alpha^{2} - \\alpha}{\\alpha^{10} + 4 \\alpha^{9} - 18 \\alpha^{8} - 36 \\alpha^{7} + 35 \\alpha^{6} + 84 \\alpha^{5} + 14 \\alpha^{4} - 48 \\alpha^{3} - 36 \\alpha^{2} - 10 \\alpha - 1} & \\frac{2 \\alpha^{8} - \\alpha^{7} - 7 \\alpha^{6} - 5 \\alpha^{5} - \\alpha^{4}}{\\alpha^{10} + 4 \\alpha^{9} - 18 \\alpha^{8} - 36 \\alpha^{7} + 35 \\alpha^{6} + 84 \\alpha^{5} + 14 \\alpha^{4} - 48 \\alpha^{3} - 36 \\alpha^{2} - 10 \\alpha - 1} & \\frac{- \\alpha^{9} + \\alpha^{8} + 11 \\alpha^{7} + 9 \\alpha^{6} - 10 \\alpha^{5} - 16 \\alpha^{4} - 7 \\alpha^{3} - \\alpha^{2}}{\\alpha^{10} + 4 \\alpha^{9} - 18 \\alpha^{8} - 36 \\alpha^{7} + 35 \\alpha^{6} + 84 \\alpha^{5} + 14 \\alpha^{4} - 48 \\alpha^{3} - 36 \\alpha^{2} - 10 \\alpha - 1} & \\frac{- \\alpha^{9} + 2 \\alpha^{8} + 5 \\alpha^{7} - 4 \\alpha^{6} - 11 \\alpha^{5} - 6 \\alpha^{4} - \\alpha^{3}}{\\alpha^{10} + 4 \\alpha^{9} - 18 \\alpha^{8} - 36 \\alpha^{7} + 35 \\alpha^{6} + 84 \\alpha^{5} + 14 \\alpha^{4} - 48 \\alpha^{3} - 36 \\alpha^{2} - 10 \\alpha - 1} & \\frac{- \\alpha^{9} + 2 \\alpha^{8} + 9 \\alpha^{7} - 10 \\alpha^{5} - 6 \\alpha^{4} - \\alpha^{3}}{\\alpha^{10} + 4 \\alpha^{9} - 18 \\alpha^{8} - 36 \\alpha^{7} + 35 \\alpha^{6} + 84 \\alpha^{5} + 14 \\alpha^{4} - 48 \\alpha^{3} - 36 \\alpha^{2} - 10 \\alpha - 1} & \\frac{- \\alpha^{9} - \\alpha^{8} + 8 \\alpha^{7} + 8 \\alpha^{6} - 10 \\alpha^{5} - 16 \\alpha^{4} - 7 \\alpha^{3} - \\alpha^{2}}{\\alpha^{10} + 4 \\alpha^{9} - 18 \\alpha^{8} - 36 \\alpha^{7} + 35 \\alpha^{6} + 84 \\alpha^{5} + 14 \\alpha^{4} - 48 \\alpha^{3} - 36 \\alpha^{2} - 10 \\alpha - 1}\\\\\\frac{\\alpha^{9} + 3 \\alpha^{8} - \\alpha^{7} - 7 \\alpha^{6} - 5 \\alpha^{5} - \\alpha^{4}}{\\alpha^{10} + 4 \\alpha^{9} - 18 \\alpha^{8} - 36 \\alpha^{7} + 35 \\alpha^{6} + 84 \\alpha^{5} + 14 \\alpha^{4} - 48 \\alpha^{3} - 36 \\alpha^{2} - 10 \\alpha - 1} & \\frac{- 6 \\alpha^{8} - 3 \\alpha^{7} + 24 \\alpha^{6} + 20 \\alpha^{5} - 14 \\alpha^{4} - 21 \\alpha^{3} - 8 \\alpha^{2} - \\alpha}{\\alpha^{10} + 4 \\alpha^{9} - 18 \\alpha^{8} - 36 \\alpha^{7} + 35 \\alpha^{6} + 84 \\alpha^{5} + 14 \\alpha^{4} - 48 \\alpha^{3} - 36 \\alpha^{2} - 10 \\alpha - 1} & \\frac{\\alpha^{9} - 4 \\alpha^{7} - 4 \\alpha^{6} - \\alpha^{5}}{\\alpha^{10} + 4 \\alpha^{9} - 18 \\alpha^{8} - 36 \\alpha^{7} + 35 \\alpha^{6} + 84 \\alpha^{5} + 14 \\alpha^{4} - 48 \\alpha^{3} - 36 \\alpha^{2} - 10 \\alpha - 1} & \\frac{- 6 \\alpha^{8} - 9 \\alpha^{7} + 21 \\alpha^{6} + 44 \\alpha^{5} + 6 \\alpha^{4} - 35 \\alpha^{3} - 29 \\alpha^{2} - 9 \\alpha - 1}{\\alpha^{10} + 4 \\alpha^{9} - 18 \\alpha^{8} - 36 \\alpha^{7} + 35 \\alpha^{6} + 84 \\alpha^{5} + 14 \\alpha^{4} - 48 \\alpha^{3} - 36 \\alpha^{2} - 10 \\alpha - 1} & \\frac{- 2 \\alpha^{8} - 3 \\alpha^{7} - \\alpha^{6}}{\\alpha^{10} + 4 \\alpha^{9} - 18 \\alpha^{8} - 36 \\alpha^{7} + 35 \\alpha^{6} + 84 \\alpha^{5} + 14 \\alpha^{4} - 48 \\alpha^{3} - 36 \\alpha^{2} - 10 \\alpha - 1} & \\frac{- \\alpha^{9} - 4 \\alpha^{8} + 6 \\alpha^{7} + 24 \\alpha^{6} + 10 \\alpha^{5} - 20 \\alpha^{4} - 22 \\alpha^{3} - 8 \\alpha^{2} - \\alpha}{\\alpha^{10} + 4 \\alpha^{9} - 18 \\alpha^{8} - 36 \\alpha^{7} + 35 \\alpha^{6} + 84 \\alpha^{5} + 14 \\alpha^{4} - 48 \\alpha^{3} - 36 \\alpha^{2} - 10 \\alpha - 1} & \\frac{- \\alpha^{9} - 2 \\alpha^{8} - \\alpha^{7}}{\\alpha^{10} + 4 \\alpha^{9} - 18 \\alpha^{8} - 36 \\alpha^{7} + 35 \\alpha^{6} + 84 \\alpha^{5} + 14 \\alpha^{4} - 48 \\alpha^{3} - 36 \\alpha^{2} - 10 \\alpha - 1} & \\frac{- \\alpha^{9} + \\alpha^{8} + 11 \\alpha^{7} + 9 \\alpha^{6} - 10 \\alpha^{5} - 16 \\alpha^{4} - 7 \\alpha^{3} - \\alpha^{2}}{\\alpha^{10} + 4 \\alpha^{9} - 18 \\alpha^{8} - 36 \\alpha^{7} + 35 \\alpha^{6} + 84 \\alpha^{5} + 14 \\alpha^{4} - 48 \\alpha^{3} - 36 \\alpha^{2} - 10 \\alpha - 1} & \\frac{- \\alpha^{9} - \\alpha^{8}}{\\alpha^{10} + 4 \\alpha^{9} - 18 \\alpha^{8} - 36 \\alpha^{7} + 35 \\alpha^{6} + 84 \\alpha^{5} + 14 \\alpha^{4} - 48 \\alpha^{3} - 36 \\alpha^{2} - 10 \\alpha - 1} & \\frac{4 \\alpha^{8} + 6 \\alpha^{7} - 4 \\alpha^{6} - 11 \\alpha^{5} - 6 \\alpha^{4} - \\alpha^{3}}{\\alpha^{10} + 4 \\alpha^{9} - 18 \\alpha^{8} - 36 \\alpha^{7} + 35 \\alpha^{6} + 84 \\alpha^{5} + 14 \\alpha^{4} - 48 \\alpha^{3} - 36 \\alpha^{2} - 10 \\alpha - 1}\\\\\\frac{8 \\alpha^{7} + 8 \\alpha^{6} - 10 \\alpha^{5} - 16 \\alpha^{4} - 7 \\alpha^{3} - \\alpha^{2}}{\\alpha^{10} + 4 \\alpha^{9} - 18 \\alpha^{8} - 36 \\alpha^{7} + 35 \\alpha^{6} + 84 \\alpha^{5} + 14 \\alpha^{4} - 48 \\alpha^{3} - 36 \\alpha^{2} - 10 \\alpha - 1} & \\frac{- 2 \\alpha^{8} - \\alpha^{7}}{\\alpha^{10} + 4 \\alpha^{9} - 18 \\alpha^{8} - 36 \\alpha^{7} + 35 \\alpha^{6} + 84 \\alpha^{5} + 14 \\alpha^{4} - 48 \\alpha^{3} - 36 \\alpha^{2} - 10 \\alpha - 1} & \\frac{- 2 \\alpha^{8} + 3 \\alpha^{7} + 20 \\alpha^{6} + 9 \\alpha^{5} - 20 \\alpha^{4} - 22 \\alpha^{3} - 8 \\alpha^{2} - \\alpha}{\\alpha^{10} + 4 \\alpha^{9} - 18 \\alpha^{8} - 36 \\alpha^{7} + 35 \\alpha^{6} + 84 \\alpha^{5} + 14 \\alpha^{4} - 48 \\alpha^{3} - 36 \\alpha^{2} - 10 \\alpha - 1} & \\frac{- 2 \\alpha^{8} - 3 \\alpha^{7} - \\alpha^{6}}{\\alpha^{10} + 4 \\alpha^{9} - 18 \\alpha^{8} - 36 \\alpha^{7} + 35 \\alpha^{6} + 84 \\alpha^{5} + 14 \\alpha^{4} - 48 \\alpha^{3} - 36 \\alpha^{2} - 10 \\alpha - 1} & \\frac{- 2 \\alpha^{8} - 7 \\alpha^{7} + 15 \\alpha^{6} + 39 \\alpha^{5} + 5 \\alpha^{4} - 35 \\alpha^{3} - 29 \\alpha^{2} - 9 \\alpha - 1}{\\alpha^{10} + 4 \\alpha^{9} - 18 \\alpha^{8} - 36 \\alpha^{7} + 35 \\alpha^{6} + 84 \\alpha^{5} + 14 \\alpha^{4} - 48 \\alpha^{3} - 36 \\alpha^{2} - 10 \\alpha - 1} & \\frac{- 4 \\alpha^{7} - 4 \\alpha^{6} - \\alpha^{5}}{\\alpha^{10} + 4 \\alpha^{9} - 18 \\alpha^{8} - 36 \\alpha^{7} + 35 \\alpha^{6} + 84 \\alpha^{5} + 14 \\alpha^{4} - 48 \\alpha^{3} - 36 \\alpha^{2} - 10 \\alpha - 1} & \\frac{- \\alpha^{9} - 4 \\alpha^{8} + 6 \\alpha^{7} + 24 \\alpha^{6} + 10 \\alpha^{5} - 20 \\alpha^{4} - 22 \\alpha^{3} - 8 \\alpha^{2} - \\alpha}{\\alpha^{10} + 4 \\alpha^{9} - 18 \\alpha^{8} - 36 \\alpha^{7} + 35 \\alpha^{6} + 84 \\alpha^{5} + 14 \\alpha^{4} - 48 \\alpha^{3} - 36 \\alpha^{2} - 10 \\alpha - 1} & \\frac{2 \\alpha^{8} - \\alpha^{7} - 7 \\alpha^{6} - 5 \\alpha^{5} - \\alpha^{4}}{\\alpha^{10} + 4 \\alpha^{9} - 18 \\alpha^{8} - 36 \\alpha^{7} + 35 \\alpha^{6} + 84 \\alpha^{5} + 14 \\alpha^{4} - 48 \\alpha^{3} - 36 \\alpha^{2} - 10 \\alpha - 1} & \\frac{- \\alpha^{9} - 3 \\alpha^{8} + 9 \\alpha^{7} + 15 \\alpha^{6} - 5 \\alpha^{5} - 15 \\alpha^{4} - 7 \\alpha^{3} - \\alpha^{2}}{\\alpha^{10} + 4 \\alpha^{9} - 18 \\alpha^{8} - 36 \\alpha^{7} + 35 \\alpha^{6} + 84 \\alpha^{5} + 14 \\alpha^{4} - 48 \\alpha^{3} - 36 \\alpha^{2} - 10 \\alpha - 1} & \\frac{2 \\alpha^{8} + 5 \\alpha^{7} - 4 \\alpha^{6} - 11 \\alpha^{5} - 6 \\alpha^{4} - \\alpha^{3}}{\\alpha^{10} + 4 \\alpha^{9} - 18 \\alpha^{8} - 36 \\alpha^{7} + 35 \\alpha^{6} + 84 \\alpha^{5} + 14 \\alpha^{4} - 48 \\alpha^{3} - 36 \\alpha^{2} - 10 \\alpha - 1}\\\\\\frac{2 \\alpha^{8} + 5 \\alpha^{7} - 4 \\alpha^{6} - 11 \\alpha^{5} - 6 \\alpha^{4} - \\alpha^{3}}{\\alpha^{10} + 4 \\alpha^{9} - 18 \\alpha^{8} - 36 \\alpha^{7} + 35 \\alpha^{6} + 84 \\alpha^{5} + 14 \\alpha^{4} - 48 \\alpha^{3} - 36 \\alpha^{2} - 10 \\alpha - 1} & \\frac{- \\alpha^{9} - 3 \\alpha^{8} + 9 \\alpha^{7} + 15 \\alpha^{6} - 5 \\alpha^{5} - 15 \\alpha^{4} - 7 \\alpha^{3} - \\alpha^{2}}{\\alpha^{10} + 4 \\alpha^{9} - 18 \\alpha^{8} - 36 \\alpha^{7} + 35 \\alpha^{6} + 84 \\alpha^{5} + 14 \\alpha^{4} - 48 \\alpha^{3} - 36 \\alpha^{2} - 10 \\alpha - 1} & \\frac{2 \\alpha^{8} - \\alpha^{7} - 7 \\alpha^{6} - 5 \\alpha^{5} - \\alpha^{4}}{\\alpha^{10} + 4 \\alpha^{9} - 18 \\alpha^{8} - 36 \\alpha^{7} + 35 \\alpha^{6} + 84 \\alpha^{5} + 14 \\alpha^{4} - 48 \\alpha^{3} - 36 \\alpha^{2} - 10 \\alpha - 1} & \\frac{- \\alpha^{9} - 4 \\alpha^{8} + 6 \\alpha^{7} + 24 \\alpha^{6} + 10 \\alpha^{5} - 20 \\alpha^{4} - 22 \\alpha^{3} - 8 \\alpha^{2} - \\alpha}{\\alpha^{10} + 4 \\alpha^{9} - 18 \\alpha^{8} - 36 \\alpha^{7} + 35 \\alpha^{6} + 84 \\alpha^{5} + 14 \\alpha^{4} - 48 \\alpha^{3} - 36 \\alpha^{2} - 10 \\alpha - 1} & \\frac{- 4 \\alpha^{7} - 4 \\alpha^{6} - \\alpha^{5}}{\\alpha^{10} + 4 \\alpha^{9} - 18 \\alpha^{8} - 36 \\alpha^{7} + 35 \\alpha^{6} + 84 \\alpha^{5} + 14 \\alpha^{4} - 48 \\alpha^{3} - 36 \\alpha^{2} - 10 \\alpha - 1} & \\frac{- 2 \\alpha^{8} - 7 \\alpha^{7} + 15 \\alpha^{6} + 39 \\alpha^{5} + 5 \\alpha^{4} - 35 \\alpha^{3} - 29 \\alpha^{2} - 9 \\alpha - 1}{\\alpha^{10} + 4 \\alpha^{9} - 18 \\alpha^{8} - 36 \\alpha^{7} + 35 \\alpha^{6} + 84 \\alpha^{5} + 14 \\alpha^{4} - 48 \\alpha^{3} - 36 \\alpha^{2} - 10 \\alpha - 1} & \\frac{- 2 \\alpha^{8} - 3 \\alpha^{7} - \\alpha^{6}}{\\alpha^{10} + 4 \\alpha^{9} - 18 \\alpha^{8} - 36 \\alpha^{7} + 35 \\alpha^{6} + 84 \\alpha^{5} + 14 \\alpha^{4} - 48 \\alpha^{3} - 36 \\alpha^{2} - 10 \\alpha - 1} & \\frac{- 2 \\alpha^{8} + 3 \\alpha^{7} + 20 \\alpha^{6} + 9 \\alpha^{5} - 20 \\alpha^{4} - 22 \\alpha^{3} - 8 \\alpha^{2} - \\alpha}{\\alpha^{10} + 4 \\alpha^{9} - 18 \\alpha^{8} - 36 \\alpha^{7} + 35 \\alpha^{6} + 84 \\alpha^{5} + 14 \\alpha^{4} - 48 \\alpha^{3} - 36 \\alpha^{2} - 10 \\alpha - 1} & \\frac{- 2 \\alpha^{8} - \\alpha^{7}}{\\alpha^{10} + 4 \\alpha^{9} - 18 \\alpha^{8} - 36 \\alpha^{7} + 35 \\alpha^{6} + 84 \\alpha^{5} + 14 \\alpha^{4} - 48 \\alpha^{3} - 36 \\alpha^{2} - 10 \\alpha - 1} & \\frac{8 \\alpha^{7} + 8 \\alpha^{6} - 10 \\alpha^{5} - 16 \\alpha^{4} - 7 \\alpha^{3} - \\alpha^{2}}{\\alpha^{10} + 4 \\alpha^{9} - 18 \\alpha^{8} - 36 \\alpha^{7} + 35 \\alpha^{6} + 84 \\alpha^{5} + 14 \\alpha^{4} - 48 \\alpha^{3} - 36 \\alpha^{2} - 10 \\alpha - 1}\\\\\\frac{4 \\alpha^{8} + 6 \\alpha^{7} - 4 \\alpha^{6} - 11 \\alpha^{5} - 6 \\alpha^{4} - \\alpha^{3}}{\\alpha^{10} + 4 \\alpha^{9} - 18 \\alpha^{8} - 36 \\alpha^{7} + 35 \\alpha^{6} + 84 \\alpha^{5} + 14 \\alpha^{4} - 48 \\alpha^{3} - 36 \\alpha^{2} - 10 \\alpha - 1} & \\frac{- \\alpha^{9} - \\alpha^{8}}{\\alpha^{10} + 4 \\alpha^{9} - 18 \\alpha^{8} - 36 \\alpha^{7} + 35 \\alpha^{6} + 84 \\alpha^{5} + 14 \\alpha^{4} - 48 \\alpha^{3} - 36 \\alpha^{2} - 10 \\alpha - 1} & \\frac{- \\alpha^{9} + \\alpha^{8} + 11 \\alpha^{7} + 9 \\alpha^{6} - 10 \\alpha^{5} - 16 \\alpha^{4} - 7 \\alpha^{3} - \\alpha^{2}}{\\alpha^{10} + 4 \\alpha^{9} - 18 \\alpha^{8} - 36 \\alpha^{7} + 35 \\alpha^{6} + 84 \\alpha^{5} + 14 \\alpha^{4} - 48 \\alpha^{3} - 36 \\alpha^{2} - 10 \\alpha - 1} & \\frac{- \\alpha^{9} - 2 \\alpha^{8} - \\alpha^{7}}{\\alpha^{10} + 4 \\alpha^{9} - 18 \\alpha^{8} - 36 \\alpha^{7} + 35 \\alpha^{6} + 84 \\alpha^{5} + 14 \\alpha^{4} - 48 \\alpha^{3} - 36 \\alpha^{2} - 10 \\alpha - 1} & \\frac{- \\alpha^{9} - 4 \\alpha^{8} + 6 \\alpha^{7} + 24 \\alpha^{6} + 10 \\alpha^{5} - 20 \\alpha^{4} - 22 \\alpha^{3} - 8 \\alpha^{2} - \\alpha}{\\alpha^{10} + 4 \\alpha^{9} - 18 \\alpha^{8} - 36 \\alpha^{7} + 35 \\alpha^{6} + 84 \\alpha^{5} + 14 \\alpha^{4} - 48 \\alpha^{3} - 36 \\alpha^{2} - 10 \\alpha - 1} & \\frac{- 2 \\alpha^{8} - 3 \\alpha^{7} - \\alpha^{6}}{\\alpha^{10} + 4 \\alpha^{9} - 18 \\alpha^{8} - 36 \\alpha^{7} + 35 \\alpha^{6} + 84 \\alpha^{5} + 14 \\alpha^{4} - 48 \\alpha^{3} - 36 \\alpha^{2} - 10 \\alpha - 1} & \\frac{- 6 \\alpha^{8} - 9 \\alpha^{7} + 21 \\alpha^{6} + 44 \\alpha^{5} + 6 \\alpha^{4} - 35 \\alpha^{3} - 29 \\alpha^{2} - 9 \\alpha - 1}{\\alpha^{10} + 4 \\alpha^{9} - 18 \\alpha^{8} - 36 \\alpha^{7} + 35 \\alpha^{6} + 84 \\alpha^{5} + 14 \\alpha^{4} - 48 \\alpha^{3} - 36 \\alpha^{2} - 10 \\alpha - 1} & \\frac{\\alpha^{9} - 4 \\alpha^{7} - 4 \\alpha^{6} - \\alpha^{5}}{\\alpha^{10} + 4 \\alpha^{9} - 18 \\alpha^{8} - 36 \\alpha^{7} + 35 \\alpha^{6} + 84 \\alpha^{5} + 14 \\alpha^{4} - 48 \\alpha^{3} - 36 \\alpha^{2} - 10 \\alpha - 1} & \\frac{- 6 \\alpha^{8} - 3 \\alpha^{7} + 24 \\alpha^{6} + 20 \\alpha^{5} - 14 \\alpha^{4} - 21 \\alpha^{3} - 8 \\alpha^{2} - \\alpha}{\\alpha^{10} + 4 \\alpha^{9} - 18 \\alpha^{8} - 36 \\alpha^{7} + 35 \\alpha^{6} + 84 \\alpha^{5} + 14 \\alpha^{4} - 48 \\alpha^{3} - 36 \\alpha^{2} - 10 \\alpha - 1} & \\frac{\\alpha^{9} + 3 \\alpha^{8} - \\alpha^{7} - 7 \\alpha^{6} - 5 \\alpha^{5} - \\alpha^{4}}{\\alpha^{10} + 4 \\alpha^{9} - 18 \\alpha^{8} - 36 \\alpha^{7} + 35 \\alpha^{6} + 84 \\alpha^{5} + 14 \\alpha^{4} - 48 \\alpha^{3} - 36 \\alpha^{2} - 10 \\alpha - 1}\\\\\\frac{- \\alpha^{9} - \\alpha^{8} + 8 \\alpha^{7} + 8 \\alpha^{6} - 10 \\alpha^{5} - 16 \\alpha^{4} - 7 \\alpha^{3} - \\alpha^{2}}{\\alpha^{10} + 4 \\alpha^{9} - 18 \\alpha^{8} - 36 \\alpha^{7} + 35 \\alpha^{6} + 84 \\alpha^{5} + 14 \\alpha^{4} - 48 \\alpha^{3} - 36 \\alpha^{2} - 10 \\alpha - 1} & \\frac{- \\alpha^{9} + 2 \\alpha^{8} + 9 \\alpha^{7} - 10 \\alpha^{5} - 6 \\alpha^{4} - \\alpha^{3}}{\\alpha^{10} + 4 \\alpha^{9} - 18 \\alpha^{8} - 36 \\alpha^{7} + 35 \\alpha^{6} + 84 \\alpha^{5} + 14 \\alpha^{4} - 48 \\alpha^{3} - 36 \\alpha^{2} - 10 \\alpha - 1} & \\frac{- \\alpha^{9} + 2 \\alpha^{8} + 5 \\alpha^{7} - 4 \\alpha^{6} - 11 \\alpha^{5} - 6 \\alpha^{4} - \\alpha^{3}}{\\alpha^{10} + 4 \\alpha^{9} - 18 \\alpha^{8} - 36 \\alpha^{7} + 35 \\alpha^{6} + 84 \\alpha^{5} + 14 \\alpha^{4} - 48 \\alpha^{3} - 36 \\alpha^{2} - 10 \\alpha - 1} & \\frac{- \\alpha^{9} + \\alpha^{8} + 11 \\alpha^{7} + 9 \\alpha^{6} - 10 \\alpha^{5} - 16 \\alpha^{4} - 7 \\alpha^{3} - \\alpha^{2}}{\\alpha^{10} + 4 \\alpha^{9} - 18 \\alpha^{8} - 36 \\alpha^{7} + 35 \\alpha^{6} + 84 \\alpha^{5} + 14 \\alpha^{4} - 48 \\alpha^{3} - 36 \\alpha^{2} - 10 \\alpha - 1} & \\frac{2 \\alpha^{8} - \\alpha^{7} - 7 \\alpha^{6} - 5 \\alpha^{5} - \\alpha^{4}}{\\alpha^{10} + 4 \\alpha^{9} - 18 \\alpha^{8} - 36 \\alpha^{7} + 35 \\alpha^{6} + 84 \\alpha^{5} + 14 \\alpha^{4} - 48 \\alpha^{3} - 36 \\alpha^{2} - 10 \\alpha - 1} & \\frac{- 2 \\alpha^{8} + 3 \\alpha^{7} + 20 \\alpha^{6} + 9 \\alpha^{5} - 20 \\alpha^{4} - 22 \\alpha^{3} - 8 \\alpha^{2} - \\alpha}{\\alpha^{10} + 4 \\alpha^{9} - 18 \\alpha^{8} - 36 \\alpha^{7} + 35 \\alpha^{6} + 84 \\alpha^{5} + 14 \\alpha^{4} - 48 \\alpha^{3} - 36 \\alpha^{2} - 10 \\alpha - 1} & \\frac{\\alpha^{9} - 4 \\alpha^{7} - 4 \\alpha^{6} - \\alpha^{5}}{\\alpha^{10} + 4 \\alpha^{9} - 18 \\alpha^{8} - 36 \\alpha^{7} + 35 \\alpha^{6} + 84 \\alpha^{5} + 14 \\alpha^{4} - 48 \\alpha^{3} - 36 \\alpha^{2} - 10 \\alpha - 1} & \\frac{\\alpha^{9} - 3 \\alpha^{8} - 10 \\alpha^{7} + 14 \\alpha^{6} + 39 \\alpha^{5} + 5 \\alpha^{4} - 35 \\alpha^{3} - 29 \\alpha^{2} - 9 \\alpha - 1}{\\alpha^{10} + 4 \\alpha^{9} - 18 \\alpha^{8} - 36 \\alpha^{7} + 35 \\alpha^{6} + 84 \\alpha^{5} + 14 \\alpha^{4} - 48 \\alpha^{3} - 36 \\alpha^{2} - 10 \\alpha - 1} & \\frac{\\alpha^{9} - \\alpha^{8} - 3 \\alpha^{7} - \\alpha^{6}}{\\alpha^{10} + 4 \\alpha^{9} - 18 \\alpha^{8} - 36 \\alpha^{7} + 35 \\alpha^{6} + 84 \\alpha^{5} + 14 \\alpha^{4} - 48 \\alpha^{3} - 36 \\alpha^{2} - 10 \\alpha - 1} & \\frac{- 4 \\alpha^{8} + 2 \\alpha^{7} + 20 \\alpha^{6} + 9 \\alpha^{5} - 20 \\alpha^{4} - 22 \\alpha^{3} - 8 \\alpha^{2} - \\alpha}{\\alpha^{10} + 4 \\alpha^{9} - 18 \\alpha^{8} - 36 \\alpha^{7} + 35 \\alpha^{6} + 84 \\alpha^{5} + 14 \\alpha^{4} - 48 \\alpha^{3} - 36 \\alpha^{2} - 10 \\alpha - 1}\\\\\\frac{4 \\alpha^{8} + 2 \\alpha^{7} - 6 \\alpha^{6} - 5 \\alpha^{5} - \\alpha^{4}}{\\alpha^{10} + 4 \\alpha^{9} - 18 \\alpha^{8} - 36 \\alpha^{7} + 35 \\alpha^{6} + 84 \\alpha^{5} + 14 \\alpha^{4} - 48 \\alpha^{3} - 36 \\alpha^{2} - 10 \\alpha - 1} & - \\frac{\\alpha^{9}}{\\alpha^{10} + 4 \\alpha^{9} - 18 \\alpha^{8} - 36 \\alpha^{7} + 35 \\alpha^{6} + 84 \\alpha^{5} + 14 \\alpha^{4} - 48 \\alpha^{3} - 36 \\alpha^{2} - 10 \\alpha - 1} & \\frac{- \\alpha^{9} + 2 \\alpha^{8} + 9 \\alpha^{7} - 10 \\alpha^{5} - 6 \\alpha^{4} - \\alpha^{3}}{\\alpha^{10} + 4 \\alpha^{9} - 18 \\alpha^{8} - 36 \\alpha^{7} + 35 \\alpha^{6} + 84 \\alpha^{5} + 14 \\alpha^{4} - 48 \\alpha^{3} - 36 \\alpha^{2} - 10 \\alpha - 1} & \\frac{- \\alpha^{9} - \\alpha^{8}}{\\alpha^{10} + 4 \\alpha^{9} - 18 \\alpha^{8} - 36 \\alpha^{7} + 35 \\alpha^{6} + 84 \\alpha^{5} + 14 \\alpha^{4} - 48 \\alpha^{3} - 36 \\alpha^{2} - 10 \\alpha - 1} & \\frac{- \\alpha^{9} - 3 \\alpha^{8} + 9 \\alpha^{7} + 15 \\alpha^{6} - 5 \\alpha^{5} - 15 \\alpha^{4} - 7 \\alpha^{3} - \\alpha^{2}}{\\alpha^{10} + 4 \\alpha^{9} - 18 \\alpha^{8} - 36 \\alpha^{7} + 35 \\alpha^{6} + 84 \\alpha^{5} + 14 \\alpha^{4} - 48 \\alpha^{3} - 36 \\alpha^{2} - 10 \\alpha - 1} & \\frac{- 2 \\alpha^{8} - \\alpha^{7}}{\\alpha^{10} + 4 \\alpha^{9} - 18 \\alpha^{8} - 36 \\alpha^{7} + 35 \\alpha^{6} + 84 \\alpha^{5} + 14 \\alpha^{4} - 48 \\alpha^{3} - 36 \\alpha^{2} - 10 \\alpha - 1} & \\frac{- 6 \\alpha^{8} - 3 \\alpha^{7} + 24 \\alpha^{6} + 20 \\alpha^{5} - 14 \\alpha^{4} - 21 \\alpha^{3} - 8 \\alpha^{2} - \\alpha}{\\alpha^{10} + 4 \\alpha^{9} - 18 \\alpha^{8} - 36 \\alpha^{7} + 35 \\alpha^{6} + 84 \\alpha^{5} + 14 \\alpha^{4} - 48 \\alpha^{3} - 36 \\alpha^{2} - 10 \\alpha - 1} & \\frac{\\alpha^{9} - \\alpha^{8} - 3 \\alpha^{7} - \\alpha^{6}}{\\alpha^{10} + 4 \\alpha^{9} - 18 \\alpha^{8} - 36 \\alpha^{7} + 35 \\alpha^{6} + 84 \\alpha^{5} + 14 \\alpha^{4} - 48 \\alpha^{3} - 36 \\alpha^{2} - 10 \\alpha - 1} & \\frac{\\alpha^{9} - 3 \\alpha^{8} - 18 \\alpha^{7} + 6 \\alpha^{6} + 49 \\alpha^{5} + 21 \\alpha^{4} - 28 \\alpha^{3} - 28 \\alpha^{2} - 9 \\alpha - 1}{\\alpha^{10} + 4 \\alpha^{9} - 18 \\alpha^{8} - 36 \\alpha^{7} + 35 \\alpha^{6} + 84 \\alpha^{5} + 14 \\alpha^{4} - 48 \\alpha^{3} - 36 \\alpha^{2} - 10 \\alpha - 1} & \\frac{\\alpha^{9} + 2 \\alpha^{8} - 3 \\alpha^{7} - 4 \\alpha^{6} - \\alpha^{5}}{\\alpha^{10} + 4 \\alpha^{9} - 18 \\alpha^{8} - 36 \\alpha^{7} + 35 \\alpha^{6} + 84 \\alpha^{5} + 14 \\alpha^{4} - 48 \\alpha^{3} - 36 \\alpha^{2} - 10 \\alpha - 1}\\\\\\frac{- \\alpha^{9} - 4 \\alpha^{8} + 2 \\alpha^{7} + 20 \\alpha^{6} + 9 \\alpha^{5} - 20 \\alpha^{4} - 22 \\alpha^{3} - 8 \\alpha^{2} - \\alpha}{\\alpha^{10} + 4 \\alpha^{9} - 18 \\alpha^{8} - 36 \\alpha^{7} + 35 \\alpha^{6} + 84 \\alpha^{5} + 14 \\alpha^{4} - 48 \\alpha^{3} - 36 \\alpha^{2} - 10 \\alpha - 1} & \\frac{4 \\alpha^{8} + 2 \\alpha^{7} - 6 \\alpha^{6} - 5 \\alpha^{5} - \\alpha^{4}}{\\alpha^{10} + 4 \\alpha^{9} - 18 \\alpha^{8} - 36 \\alpha^{7} + 35 \\alpha^{6} + 84 \\alpha^{5} + 14 \\alpha^{4} - 48 \\alpha^{3} - 36 \\alpha^{2} - 10 \\alpha - 1} & \\frac{- \\alpha^{9} - \\alpha^{8} + 8 \\alpha^{7} + 8 \\alpha^{6} - 10 \\alpha^{5} - 16 \\alpha^{4} - 7 \\alpha^{3} - \\alpha^{2}}{\\alpha^{10} + 4 \\alpha^{9} - 18 \\alpha^{8} - 36 \\alpha^{7} + 35 \\alpha^{6} + 84 \\alpha^{5} + 14 \\alpha^{4} - 48 \\alpha^{3} - 36 \\alpha^{2} - 10 \\alpha - 1} & \\frac{4 \\alpha^{8} + 6 \\alpha^{7} - 4 \\alpha^{6} - 11 \\alpha^{5} - 6 \\alpha^{4} - \\alpha^{3}}{\\alpha^{10} + 4 \\alpha^{9} - 18 \\alpha^{8} - 36 \\alpha^{7} + 35 \\alpha^{6} + 84 \\alpha^{5} + 14 \\alpha^{4} - 48 \\alpha^{3} - 36 \\alpha^{2} - 10 \\alpha - 1} & \\frac{2 \\alpha^{8} + 5 \\alpha^{7} - 4 \\alpha^{6} - 11 \\alpha^{5} - 6 \\alpha^{4} - \\alpha^{3}}{\\alpha^{10} + 4 \\alpha^{9} - 18 \\alpha^{8} - 36 \\alpha^{7} + 35 \\alpha^{6} + 84 \\alpha^{5} + 14 \\alpha^{4} - 48 \\alpha^{3} - 36 \\alpha^{2} - 10 \\alpha - 1} & \\frac{8 \\alpha^{7} + 8 \\alpha^{6} - 10 \\alpha^{5} - 16 \\alpha^{4} - 7 \\alpha^{3} - \\alpha^{2}}{\\alpha^{10} + 4 \\alpha^{9} - 18 \\alpha^{8} - 36 \\alpha^{7} + 35 \\alpha^{6} + 84 \\alpha^{5} + 14 \\alpha^{4} - 48 \\alpha^{3} - 36 \\alpha^{2} - 10 \\alpha - 1} & \\frac{\\alpha^{9} + 3 \\alpha^{8} - \\alpha^{7} - 7 \\alpha^{6} - 5 \\alpha^{5} - \\alpha^{4}}{\\alpha^{10} + 4 \\alpha^{9} - 18 \\alpha^{8} - 36 \\alpha^{7} + 35 \\alpha^{6} + 84 \\alpha^{5} + 14 \\alpha^{4} - 48 \\alpha^{3} - 36 \\alpha^{2} - 10 \\alpha - 1} & \\frac{- 4 \\alpha^{8} + 2 \\alpha^{7} + 20 \\alpha^{6} + 9 \\alpha^{5} - 20 \\alpha^{4} - 22 \\alpha^{3} - 8 \\alpha^{2} - \\alpha}{\\alpha^{10} + 4 \\alpha^{9} - 18 \\alpha^{8} - 36 \\alpha^{7} + 35 \\alpha^{6} + 84 \\alpha^{5} + 14 \\alpha^{4} - 48 \\alpha^{3} - 36 \\alpha^{2} - 10 \\alpha - 1} & \\frac{\\alpha^{9} + 2 \\alpha^{8} - 3 \\alpha^{7} - 4 \\alpha^{6} - \\alpha^{5}}{\\alpha^{10} + 4 \\alpha^{9} - 18 \\alpha^{8} - 36 \\alpha^{7} + 35 \\alpha^{6} + 84 \\alpha^{5} + 14 \\alpha^{4} - 48 \\alpha^{3} - 36 \\alpha^{2} - 10 \\alpha - 1} & \\frac{- 4 \\alpha^{8} - 10 \\alpha^{7} + 14 \\alpha^{6} + 39 \\alpha^{5} + 5 \\alpha^{4} - 35 \\alpha^{3} - 29 \\alpha^{2} - 9 \\alpha - 1}{\\alpha^{10} + 4 \\alpha^{9} - 18 \\alpha^{8} - 36 \\alpha^{7} + 35 \\alpha^{6} + 84 \\alpha^{5} + 14 \\alpha^{4} - 48 \\alpha^{3} - 36 \\alpha^{2} - 10 \\alpha - 1}\\end{matrix}\\right]$"
     },
     "execution_count": 60,
     "metadata": {},
     "output_type": "execute_result"
    }
   ],
   "source": [
    "C_inv"
   ],
   "metadata": {
    "collapsed": false,
    "ExecuteTime": {
     "end_time": "2024-02-20T14:36:10.550175727Z",
     "start_time": "2024-02-20T14:36:10.402689272Z"
    }
   },
   "execution_count": 60
  },
  {
   "cell_type": "code",
   "outputs": [
    {
     "data": {
      "text/plain": "Matrix([\n[(-9*\\alpha - 1)/(-10*\\alpha - 1),                                0,         -\\alpha/(-10*\\alpha - 1),                                0,                                0,                                0,                                0,                                0,                                0,         -\\alpha/(-10*\\alpha - 1)],\n[                               0, (-9*\\alpha - 1)/(-10*\\alpha - 1),                                0,         -\\alpha/(-10*\\alpha - 1),                                0,                                0,                                0,                                0,                                0,                                0],\n[        -\\alpha/(-10*\\alpha - 1),                                0, (-9*\\alpha - 1)/(-10*\\alpha - 1),                                0,         -\\alpha/(-10*\\alpha - 1),                                0,                                0,                                0,                                0,                                0],\n[                               0,         -\\alpha/(-10*\\alpha - 1),                                0, (-9*\\alpha - 1)/(-10*\\alpha - 1),                                0,         -\\alpha/(-10*\\alpha - 1),                                0,                                0,                                0,                                0],\n[                               0,                                0,         -\\alpha/(-10*\\alpha - 1),                                0, (-9*\\alpha - 1)/(-10*\\alpha - 1),                                0,         -\\alpha/(-10*\\alpha - 1),                                0,                                0,                                0],\n[                               0,                                0,                                0,         -\\alpha/(-10*\\alpha - 1),                                0, (-9*\\alpha - 1)/(-10*\\alpha - 1),                                0,         -\\alpha/(-10*\\alpha - 1),                                0,                                0],\n[                               0,                                0,                                0,                                0,         -\\alpha/(-10*\\alpha - 1),                                0, (-9*\\alpha - 1)/(-10*\\alpha - 1),                                0,         -\\alpha/(-10*\\alpha - 1),                                0],\n[                               0,                                0,                                0,                                0,                                0,         -\\alpha/(-10*\\alpha - 1),                                0, (-9*\\alpha - 1)/(-10*\\alpha - 1),                                0,         -\\alpha/(-10*\\alpha - 1)],\n[                               0,                                0,                                0,                                0,                                0,                                0,         -\\alpha/(-10*\\alpha - 1),                                0, (-9*\\alpha - 1)/(-10*\\alpha - 1),                                0],\n[        -\\alpha/(-10*\\alpha - 1),                                0,                                0,                                0,                                0,                                0,                                0,         -\\alpha/(-10*\\alpha - 1),                                0, (-9*\\alpha - 1)/(-10*\\alpha - 1)]])",
      "text/latex": "$\\displaystyle \\left[\\begin{matrix}\\frac{- 9 \\alpha - 1}{- 10 \\alpha - 1} & 0 & - \\frac{\\alpha}{- 10 \\alpha - 1} & 0 & 0 & 0 & 0 & 0 & 0 & - \\frac{\\alpha}{- 10 \\alpha - 1}\\\\0 & \\frac{- 9 \\alpha - 1}{- 10 \\alpha - 1} & 0 & - \\frac{\\alpha}{- 10 \\alpha - 1} & 0 & 0 & 0 & 0 & 0 & 0\\\\- \\frac{\\alpha}{- 10 \\alpha - 1} & 0 & \\frac{- 9 \\alpha - 1}{- 10 \\alpha - 1} & 0 & - \\frac{\\alpha}{- 10 \\alpha - 1} & 0 & 0 & 0 & 0 & 0\\\\0 & - \\frac{\\alpha}{- 10 \\alpha - 1} & 0 & \\frac{- 9 \\alpha - 1}{- 10 \\alpha - 1} & 0 & - \\frac{\\alpha}{- 10 \\alpha - 1} & 0 & 0 & 0 & 0\\\\0 & 0 & - \\frac{\\alpha}{- 10 \\alpha - 1} & 0 & \\frac{- 9 \\alpha - 1}{- 10 \\alpha - 1} & 0 & - \\frac{\\alpha}{- 10 \\alpha - 1} & 0 & 0 & 0\\\\0 & 0 & 0 & - \\frac{\\alpha}{- 10 \\alpha - 1} & 0 & \\frac{- 9 \\alpha - 1}{- 10 \\alpha - 1} & 0 & - \\frac{\\alpha}{- 10 \\alpha - 1} & 0 & 0\\\\0 & 0 & 0 & 0 & - \\frac{\\alpha}{- 10 \\alpha - 1} & 0 & \\frac{- 9 \\alpha - 1}{- 10 \\alpha - 1} & 0 & - \\frac{\\alpha}{- 10 \\alpha - 1} & 0\\\\0 & 0 & 0 & 0 & 0 & - \\frac{\\alpha}{- 10 \\alpha - 1} & 0 & \\frac{- 9 \\alpha - 1}{- 10 \\alpha - 1} & 0 & - \\frac{\\alpha}{- 10 \\alpha - 1}\\\\0 & 0 & 0 & 0 & 0 & 0 & - \\frac{\\alpha}{- 10 \\alpha - 1} & 0 & \\frac{- 9 \\alpha - 1}{- 10 \\alpha - 1} & 0\\\\- \\frac{\\alpha}{- 10 \\alpha - 1} & 0 & 0 & 0 & 0 & 0 & 0 & - \\frac{\\alpha}{- 10 \\alpha - 1} & 0 & \\frac{- 9 \\alpha - 1}{- 10 \\alpha - 1}\\end{matrix}\\right]$"
     },
     "execution_count": 61,
     "metadata": {},
     "output_type": "execute_result"
    }
   ],
   "source": [
    "neglect_terms_in_matrix(C_inv,2)"
   ],
   "metadata": {
    "collapsed": false,
    "ExecuteTime": {
     "end_time": "2024-02-20T14:36:10.574284127Z",
     "start_time": "2024-02-20T14:36:10.570704387Z"
    }
   },
   "execution_count": 61
  },
  {
   "cell_type": "code",
   "outputs": [
    {
     "data": {
      "text/plain": "Matrix([\n[(-29*\\alpha**2 - 9*\\alpha - 1)/(-36*\\alpha**2 - 10*\\alpha - 1),                                                              0,        (-8*\\alpha**2 - \\alpha)/(-36*\\alpha**2 - 10*\\alpha - 1),                                                              0,                     -\\alpha**2/(-36*\\alpha**2 - 10*\\alpha - 1),                                                              0,                                                              0,                     -\\alpha**2/(-36*\\alpha**2 - 10*\\alpha - 1),                                                              0,        (-8*\\alpha**2 - \\alpha)/(-36*\\alpha**2 - 10*\\alpha - 1)],\n[                                                             0, (-28*\\alpha**2 - 9*\\alpha - 1)/(-36*\\alpha**2 - 10*\\alpha - 1),                                                              0,        (-8*\\alpha**2 - \\alpha)/(-36*\\alpha**2 - 10*\\alpha - 1),                                                              0,                     -\\alpha**2/(-36*\\alpha**2 - 10*\\alpha - 1),                                                              0,                                                              0,                                                              0,                                                              0],\n[       (-8*\\alpha**2 - \\alpha)/(-36*\\alpha**2 - 10*\\alpha - 1),                                                              0, (-29*\\alpha**2 - 9*\\alpha - 1)/(-36*\\alpha**2 - 10*\\alpha - 1),                                                              0,        (-8*\\alpha**2 - \\alpha)/(-36*\\alpha**2 - 10*\\alpha - 1),                                                              0,                     -\\alpha**2/(-36*\\alpha**2 - 10*\\alpha - 1),                                                              0,                                                              0,                     -\\alpha**2/(-36*\\alpha**2 - 10*\\alpha - 1)],\n[                                                             0,        (-8*\\alpha**2 - \\alpha)/(-36*\\alpha**2 - 10*\\alpha - 1),                                                              0, (-29*\\alpha**2 - 9*\\alpha - 1)/(-36*\\alpha**2 - 10*\\alpha - 1),                                                              0,        (-8*\\alpha**2 - \\alpha)/(-36*\\alpha**2 - 10*\\alpha - 1),                                                              0,                     -\\alpha**2/(-36*\\alpha**2 - 10*\\alpha - 1),                                                              0,                                                              0],\n[                    -\\alpha**2/(-36*\\alpha**2 - 10*\\alpha - 1),                                                              0,        (-8*\\alpha**2 - \\alpha)/(-36*\\alpha**2 - 10*\\alpha - 1),                                                              0, (-29*\\alpha**2 - 9*\\alpha - 1)/(-36*\\alpha**2 - 10*\\alpha - 1),                                                              0,        (-8*\\alpha**2 - \\alpha)/(-36*\\alpha**2 - 10*\\alpha - 1),                                                              0,                     -\\alpha**2/(-36*\\alpha**2 - 10*\\alpha - 1),                                                              0],\n[                                                             0,                     -\\alpha**2/(-36*\\alpha**2 - 10*\\alpha - 1),                                                              0,        (-8*\\alpha**2 - \\alpha)/(-36*\\alpha**2 - 10*\\alpha - 1),                                                              0, (-29*\\alpha**2 - 9*\\alpha - 1)/(-36*\\alpha**2 - 10*\\alpha - 1),                                                              0,        (-8*\\alpha**2 - \\alpha)/(-36*\\alpha**2 - 10*\\alpha - 1),                                                              0,                     -\\alpha**2/(-36*\\alpha**2 - 10*\\alpha - 1)],\n[                                                             0,                                                              0,                     -\\alpha**2/(-36*\\alpha**2 - 10*\\alpha - 1),                                                              0,        (-8*\\alpha**2 - \\alpha)/(-36*\\alpha**2 - 10*\\alpha - 1),                                                              0, (-29*\\alpha**2 - 9*\\alpha - 1)/(-36*\\alpha**2 - 10*\\alpha - 1),                                                              0,        (-8*\\alpha**2 - \\alpha)/(-36*\\alpha**2 - 10*\\alpha - 1),                                                              0],\n[                    -\\alpha**2/(-36*\\alpha**2 - 10*\\alpha - 1),                                                              0,                                                              0,                     -\\alpha**2/(-36*\\alpha**2 - 10*\\alpha - 1),                                                              0,        (-8*\\alpha**2 - \\alpha)/(-36*\\alpha**2 - 10*\\alpha - 1),                                                              0, (-29*\\alpha**2 - 9*\\alpha - 1)/(-36*\\alpha**2 - 10*\\alpha - 1),                                                              0,        (-8*\\alpha**2 - \\alpha)/(-36*\\alpha**2 - 10*\\alpha - 1)],\n[                                                             0,                                                              0,                                                              0,                                                              0,                     -\\alpha**2/(-36*\\alpha**2 - 10*\\alpha - 1),                                                              0,        (-8*\\alpha**2 - \\alpha)/(-36*\\alpha**2 - 10*\\alpha - 1),                                                              0, (-28*\\alpha**2 - 9*\\alpha - 1)/(-36*\\alpha**2 - 10*\\alpha - 1),                                                              0],\n[       (-8*\\alpha**2 - \\alpha)/(-36*\\alpha**2 - 10*\\alpha - 1),                                                              0,                     -\\alpha**2/(-36*\\alpha**2 - 10*\\alpha - 1),                                                              0,                                                              0,                     -\\alpha**2/(-36*\\alpha**2 - 10*\\alpha - 1),                                                              0,        (-8*\\alpha**2 - \\alpha)/(-36*\\alpha**2 - 10*\\alpha - 1),                                                              0, (-29*\\alpha**2 - 9*\\alpha - 1)/(-36*\\alpha**2 - 10*\\alpha - 1)]])",
      "text/latex": "$\\displaystyle \\left[\\begin{matrix}\\frac{- 29 \\alpha^{2} - 9 \\alpha - 1}{- 36 \\alpha^{2} - 10 \\alpha - 1} & 0 & \\frac{- 8 \\alpha^{2} - \\alpha}{- 36 \\alpha^{2} - 10 \\alpha - 1} & 0 & - \\frac{\\alpha^{2}}{- 36 \\alpha^{2} - 10 \\alpha - 1} & 0 & 0 & - \\frac{\\alpha^{2}}{- 36 \\alpha^{2} - 10 \\alpha - 1} & 0 & \\frac{- 8 \\alpha^{2} - \\alpha}{- 36 \\alpha^{2} - 10 \\alpha - 1}\\\\0 & \\frac{- 28 \\alpha^{2} - 9 \\alpha - 1}{- 36 \\alpha^{2} - 10 \\alpha - 1} & 0 & \\frac{- 8 \\alpha^{2} - \\alpha}{- 36 \\alpha^{2} - 10 \\alpha - 1} & 0 & - \\frac{\\alpha^{2}}{- 36 \\alpha^{2} - 10 \\alpha - 1} & 0 & 0 & 0 & 0\\\\\\frac{- 8 \\alpha^{2} - \\alpha}{- 36 \\alpha^{2} - 10 \\alpha - 1} & 0 & \\frac{- 29 \\alpha^{2} - 9 \\alpha - 1}{- 36 \\alpha^{2} - 10 \\alpha - 1} & 0 & \\frac{- 8 \\alpha^{2} - \\alpha}{- 36 \\alpha^{2} - 10 \\alpha - 1} & 0 & - \\frac{\\alpha^{2}}{- 36 \\alpha^{2} - 10 \\alpha - 1} & 0 & 0 & - \\frac{\\alpha^{2}}{- 36 \\alpha^{2} - 10 \\alpha - 1}\\\\0 & \\frac{- 8 \\alpha^{2} - \\alpha}{- 36 \\alpha^{2} - 10 \\alpha - 1} & 0 & \\frac{- 29 \\alpha^{2} - 9 \\alpha - 1}{- 36 \\alpha^{2} - 10 \\alpha - 1} & 0 & \\frac{- 8 \\alpha^{2} - \\alpha}{- 36 \\alpha^{2} - 10 \\alpha - 1} & 0 & - \\frac{\\alpha^{2}}{- 36 \\alpha^{2} - 10 \\alpha - 1} & 0 & 0\\\\- \\frac{\\alpha^{2}}{- 36 \\alpha^{2} - 10 \\alpha - 1} & 0 & \\frac{- 8 \\alpha^{2} - \\alpha}{- 36 \\alpha^{2} - 10 \\alpha - 1} & 0 & \\frac{- 29 \\alpha^{2} - 9 \\alpha - 1}{- 36 \\alpha^{2} - 10 \\alpha - 1} & 0 & \\frac{- 8 \\alpha^{2} - \\alpha}{- 36 \\alpha^{2} - 10 \\alpha - 1} & 0 & - \\frac{\\alpha^{2}}{- 36 \\alpha^{2} - 10 \\alpha - 1} & 0\\\\0 & - \\frac{\\alpha^{2}}{- 36 \\alpha^{2} - 10 \\alpha - 1} & 0 & \\frac{- 8 \\alpha^{2} - \\alpha}{- 36 \\alpha^{2} - 10 \\alpha - 1} & 0 & \\frac{- 29 \\alpha^{2} - 9 \\alpha - 1}{- 36 \\alpha^{2} - 10 \\alpha - 1} & 0 & \\frac{- 8 \\alpha^{2} - \\alpha}{- 36 \\alpha^{2} - 10 \\alpha - 1} & 0 & - \\frac{\\alpha^{2}}{- 36 \\alpha^{2} - 10 \\alpha - 1}\\\\0 & 0 & - \\frac{\\alpha^{2}}{- 36 \\alpha^{2} - 10 \\alpha - 1} & 0 & \\frac{- 8 \\alpha^{2} - \\alpha}{- 36 \\alpha^{2} - 10 \\alpha - 1} & 0 & \\frac{- 29 \\alpha^{2} - 9 \\alpha - 1}{- 36 \\alpha^{2} - 10 \\alpha - 1} & 0 & \\frac{- 8 \\alpha^{2} - \\alpha}{- 36 \\alpha^{2} - 10 \\alpha - 1} & 0\\\\- \\frac{\\alpha^{2}}{- 36 \\alpha^{2} - 10 \\alpha - 1} & 0 & 0 & - \\frac{\\alpha^{2}}{- 36 \\alpha^{2} - 10 \\alpha - 1} & 0 & \\frac{- 8 \\alpha^{2} - \\alpha}{- 36 \\alpha^{2} - 10 \\alpha - 1} & 0 & \\frac{- 29 \\alpha^{2} - 9 \\alpha - 1}{- 36 \\alpha^{2} - 10 \\alpha - 1} & 0 & \\frac{- 8 \\alpha^{2} - \\alpha}{- 36 \\alpha^{2} - 10 \\alpha - 1}\\\\0 & 0 & 0 & 0 & - \\frac{\\alpha^{2}}{- 36 \\alpha^{2} - 10 \\alpha - 1} & 0 & \\frac{- 8 \\alpha^{2} - \\alpha}{- 36 \\alpha^{2} - 10 \\alpha - 1} & 0 & \\frac{- 28 \\alpha^{2} - 9 \\alpha - 1}{- 36 \\alpha^{2} - 10 \\alpha - 1} & 0\\\\\\frac{- 8 \\alpha^{2} - \\alpha}{- 36 \\alpha^{2} - 10 \\alpha - 1} & 0 & - \\frac{\\alpha^{2}}{- 36 \\alpha^{2} - 10 \\alpha - 1} & 0 & 0 & - \\frac{\\alpha^{2}}{- 36 \\alpha^{2} - 10 \\alpha - 1} & 0 & \\frac{- 8 \\alpha^{2} - \\alpha}{- 36 \\alpha^{2} - 10 \\alpha - 1} & 0 & \\frac{- 29 \\alpha^{2} - 9 \\alpha - 1}{- 36 \\alpha^{2} - 10 \\alpha - 1}\\end{matrix}\\right]$"
     },
     "execution_count": 63,
     "metadata": {},
     "output_type": "execute_result"
    }
   ],
   "source": [
    "neglect_terms_in_matrix(C_inv,3)"
   ],
   "metadata": {
    "collapsed": false,
    "ExecuteTime": {
     "end_time": "2024-02-20T14:36:10.636527631Z",
     "start_time": "2024-02-20T14:36:10.635519686Z"
    }
   },
   "execution_count": 63
  },
  {
   "cell_type": "code",
   "outputs": [
    {
     "data": {
      "text/plain": "Matrix([\n[C_C/2 + C_R,           0,      -C_C/2,           0],\n[          0, C_C/2 + C_F,           0,      -C_C/2],\n[     -C_C/2,           0, C_C/2 + C_R,           0],\n[          0,      -C_C/2,           0, C_C/2 + C_F]])",
      "text/latex": "$\\displaystyle \\left[\\begin{matrix}\\frac{C_{C}}{2} + C_{R} & 0 & - \\frac{C_{C}}{2} & 0\\\\0 & \\frac{C_{C}}{2} + C_{F} & 0 & - \\frac{C_{C}}{2}\\\\- \\frac{C_{C}}{2} & 0 & \\frac{C_{C}}{2} + C_{R} & 0\\\\0 & - \\frac{C_{C}}{2} & 0 & \\frac{C_{C}}{2} + C_{F}\\end{matrix}\\right]$"
     },
     "execution_count": 25,
     "metadata": {},
     "output_type": "execute_result"
    }
   ],
   "source": [
    "# Define the symbols\n",
    "C_R, C_F, C_C = sym.symbols('C_R, C_F, C_C', real=True, positive=True, nonzero=True)\n",
    "\n",
    "# Create a 6x6 matrix based on the given pattern\n",
    "C_mat = sym.Matrix(4,4, lambda i, j: C_R+C_C/2 if (i == j and np.mod(i,2)==0) else C_F+C_C/2 if (i == j and np.mod(i,2)!=0)  else -C_C/2 if abs(i-j) == 2 else 0)\n",
    "\n",
    "C_mat"
   ],
   "metadata": {
    "collapsed": false,
    "ExecuteTime": {
     "end_time": "2024-02-06T14:12:13.870752554Z",
     "start_time": "2024-02-06T14:12:13.828477593Z"
    }
   },
   "execution_count": 25
  },
  {
   "cell_type": "code",
   "outputs": [],
   "source": [
    "C_inv = C_mat **-1"
   ],
   "metadata": {
    "collapsed": false,
    "ExecuteTime": {
     "end_time": "2024-02-06T14:12:15.760353225Z",
     "start_time": "2024-02-06T14:12:15.732362757Z"
    }
   },
   "execution_count": 26
  },
  {
   "cell_type": "code",
   "outputs": [
    {
     "data": {
      "text/plain": "Matrix([\n[(C_C/2 + C_R)/(C_R*(C_C + C_R)),                               0,         C_C/(2*C_R*(C_C + C_R)),                               0],\n[                              0, (C_C/2 + C_F)/(C_F*(C_C + C_F)),                               0,         C_C/(2*C_F*(C_C + C_F))],\n[        C_C/(2*C_R*(C_C + C_R)),                               0, (C_C/2 + C_R)/(C_R*(C_C + C_R)),                               0],\n[                              0,         C_C/(2*C_F*(C_C + C_F)),                               0, (C_C/2 + C_F)/(C_F*(C_C + C_F))]])",
      "text/latex": "$\\displaystyle \\left[\\begin{matrix}\\frac{\\frac{C_{C}}{2} + C_{R}}{C_{R} \\left(C_{C} + C_{R}\\right)} & 0 & \\frac{C_{C}}{2 C_{R} \\left(C_{C} + C_{R}\\right)} & 0\\\\0 & \\frac{\\frac{C_{C}}{2} + C_{F}}{C_{F} \\left(C_{C} + C_{F}\\right)} & 0 & \\frac{C_{C}}{2 C_{F} \\left(C_{C} + C_{F}\\right)}\\\\\\frac{C_{C}}{2 C_{R} \\left(C_{C} + C_{R}\\right)} & 0 & \\frac{\\frac{C_{C}}{2} + C_{R}}{C_{R} \\left(C_{C} + C_{R}\\right)} & 0\\\\0 & \\frac{C_{C}}{2 C_{F} \\left(C_{C} + C_{F}\\right)} & 0 & \\frac{\\frac{C_{C}}{2} + C_{F}}{C_{F} \\left(C_{C} + C_{F}\\right)}\\end{matrix}\\right]$"
     },
     "execution_count": 31,
     "metadata": {},
     "output_type": "execute_result"
    }
   ],
   "source": [
    "sym.simplify(C_inv)"
   ],
   "metadata": {
    "collapsed": false,
    "ExecuteTime": {
     "end_time": "2024-02-06T14:21:29.597045544Z",
     "start_time": "2024-02-06T14:21:29.556040294Z"
    }
   },
   "execution_count": 31
  },
  {
   "cell_type": "code",
   "outputs": [
    {
     "name": "stdout",
     "output_type": "stream",
     "text": [
      "\\left[\\begin{matrix}\\frac{\\frac{C_{C}}{2} + C_{R}}{C_{R} \\left(C_{C} + C_{R}\\right)} & 0 & \\frac{C_{C}}{2 C_{R} \\left(C_{C} + C_{R}\\right)} & 0\\\\0 & \\frac{\\frac{C_{C}}{2} + C_{F}}{C_{F} \\left(C_{C} + C_{F}\\right)} & 0 & \\frac{C_{C}}{2 C_{F} \\left(C_{C} + C_{F}\\right)}\\\\\\frac{C_{C}}{2 C_{R} \\left(C_{C} + C_{R}\\right)} & 0 & \\frac{\\frac{C_{C}}{2} + C_{R}}{C_{R} \\left(C_{C} + C_{R}\\right)} & 0\\\\0 & \\frac{C_{C}}{2 C_{F} \\left(C_{C} + C_{F}\\right)} & 0 & \\frac{\\frac{C_{C}}{2} + C_{F}}{C_{F} \\left(C_{C} + C_{F}\\right)}\\end{matrix}\\right]\n"
     ]
    }
   ],
   "source": [
    "sym.print_latex(sym.simplify(C_inv))"
   ],
   "metadata": {
    "collapsed": false
   },
   "execution_count": 30
  },
  {
   "cell_type": "code",
   "outputs": [],
   "source": [],
   "metadata": {
    "collapsed": false
   }
  },
  {
   "cell_type": "code",
   "outputs": [
    {
     "data": {
      "text/plain": "Matrix([\n[C_C/2 + C_R,           0,      -C_C/2,           0,           0,           0,           0,           0,           0,           0],\n[          0, C_C/2 + C_F,           0,      -C_C/2,           0,           0,           0,           0,           0,           0],\n[     -C_C/2,           0, C_C/2 + C_R,           0,      -C_C/2,           0,           0,           0,           0,           0],\n[          0,      -C_C/2,           0, C_C/2 + C_F,           0,      -C_C/2,           0,           0,           0,           0],\n[          0,           0,      -C_C/2,           0, C_C/2 + C_R,           0,      -C_C/2,           0,           0,           0],\n[          0,           0,           0,      -C_C/2,           0, C_C/2 + C_F,           0,      -C_C/2,           0,           0],\n[          0,           0,           0,           0,      -C_C/2,           0, C_C/2 + C_R,           0,      -C_C/2,           0],\n[          0,           0,           0,           0,           0,      -C_C/2,           0, C_C/2 + C_F,           0,      -C_C/2],\n[          0,           0,           0,           0,           0,           0,      -C_C/2,           0, C_C/2 + C_R,           0],\n[          0,           0,           0,           0,           0,           0,           0,      -C_C/2,           0, C_C/2 + C_F]])",
      "text/latex": "$\\displaystyle \\left[\\begin{matrix}\\frac{C_{C}}{2} + C_{R} & 0 & - \\frac{C_{C}}{2} & 0 & 0 & 0 & 0 & 0 & 0 & 0\\\\0 & \\frac{C_{C}}{2} + C_{F} & 0 & - \\frac{C_{C}}{2} & 0 & 0 & 0 & 0 & 0 & 0\\\\- \\frac{C_{C}}{2} & 0 & \\frac{C_{C}}{2} + C_{R} & 0 & - \\frac{C_{C}}{2} & 0 & 0 & 0 & 0 & 0\\\\0 & - \\frac{C_{C}}{2} & 0 & \\frac{C_{C}}{2} + C_{F} & 0 & - \\frac{C_{C}}{2} & 0 & 0 & 0 & 0\\\\0 & 0 & - \\frac{C_{C}}{2} & 0 & \\frac{C_{C}}{2} + C_{R} & 0 & - \\frac{C_{C}}{2} & 0 & 0 & 0\\\\0 & 0 & 0 & - \\frac{C_{C}}{2} & 0 & \\frac{C_{C}}{2} + C_{F} & 0 & - \\frac{C_{C}}{2} & 0 & 0\\\\0 & 0 & 0 & 0 & - \\frac{C_{C}}{2} & 0 & \\frac{C_{C}}{2} + C_{R} & 0 & - \\frac{C_{C}}{2} & 0\\\\0 & 0 & 0 & 0 & 0 & - \\frac{C_{C}}{2} & 0 & \\frac{C_{C}}{2} + C_{F} & 0 & - \\frac{C_{C}}{2}\\\\0 & 0 & 0 & 0 & 0 & 0 & - \\frac{C_{C}}{2} & 0 & \\frac{C_{C}}{2} + C_{R} & 0\\\\0 & 0 & 0 & 0 & 0 & 0 & 0 & - \\frac{C_{C}}{2} & 0 & \\frac{C_{C}}{2} + C_{F}\\end{matrix}\\right]$"
     },
     "execution_count": 18,
     "metadata": {},
     "output_type": "execute_result"
    }
   ],
   "source": [
    "# Define the symbols\n",
    "C_R, C_F, C_C = sym.symbols('C_R, C_F, C_C', real=True, positive=True, nonzero=True)\n",
    "\n",
    "# Create a 6x6 matrix based on the given pattern\n",
    "C_mat = sym.Matrix(10,10, lambda i, j: C_R+C_C/2 if (i == j and np.mod(i,2)==0) else C_F+C_C/2 if (i == j and np.mod(i,2)!=0)  else -C_C/2 if abs(i-j) == 2 else 0)\n",
    "\n",
    "C_mat"
   ],
   "metadata": {
    "collapsed": false,
    "ExecuteTime": {
     "end_time": "2024-02-20T09:57:33.918184185Z",
     "start_time": "2024-02-20T09:57:33.875248039Z"
    }
   },
   "execution_count": 18
  },
  {
   "cell_type": "code",
   "outputs": [],
   "source": [
    "C_inv = C_mat **-1"
   ],
   "metadata": {
    "collapsed": false,
    "ExecuteTime": {
     "end_time": "2024-02-20T09:57:36.068163841Z",
     "start_time": "2024-02-20T09:57:35.319145880Z"
    }
   },
   "execution_count": 19
  },
  {
   "cell_type": "code",
   "outputs": [
    {
     "data": {
      "text/plain": "Matrix([\n[(-C_C**4/4 - C_C**3*C_R + 3*C_C**2*C_R**2 + 8*C_C*C_R**3 + 4*C_R**4)/(C_R*(-C_C**4 - C_C**3*C_R + 6*C_C**2*C_R**2 + 10*C_C*C_R**3 + 4*C_R**4)),                                                                                                                                              0,                C_C*(-C_C**2 + 4*C_C*C_R + 4*C_R**2)/(4*C_R*(-C_C**3 + C_C**2*C_R + 4*C_C*C_R**2 + 2*C_R**3)),                                                                                                            0,            C_C**2/(-C_C**3 + 6*C_C*C_R**2 + 4*C_R**3),                                                     0,                                              C_C**3/(4*C_R*(-C_C**3 + C_C**2*C_R + 4*C_C*C_R**2 + 2*C_R**3)),                                                                                                            0,                                                             C_C**4/(4*C_R*(-C_C**4 - C_C**3*C_R + 6*C_C**2*C_R**2 + 10*C_C*C_R**3 + 4*C_R**4)),                                                                                                                                              0],\n[                                                                                                                                             0, (-C_C**4/4 - C_C**3*C_F + 3*C_C**2*C_F**2 + 8*C_C*C_F**3 + 4*C_F**4)/(C_F*(-C_C**4 - C_C**3*C_F + 6*C_C**2*C_F**2 + 10*C_C*C_F**3 + 4*C_F**4)),                                                                                                            0,                C_C*(-C_C**2 + 4*C_C*C_F + 4*C_F**2)/(4*C_F*(-C_C**3 + C_C**2*C_F + 4*C_C*C_F**2 + 2*C_F**3)),                                                     0,            C_C**2/(-C_C**3 + 6*C_C*C_F**2 + 4*C_F**3),                                                                                                            0,                                              C_C**3/(4*C_F*(-C_C**3 + C_C**2*C_F + 4*C_C*C_F**2 + 2*C_F**3)),                                                                                                                                              0,                                                             C_C**4/(4*C_F*(-C_C**4 - C_C**3*C_F + 6*C_C**2*C_F**2 + 10*C_C*C_F**3 + 4*C_F**4))],\n[                                                 C_C*(-C_C**2 + 4*C_C*C_R + 4*C_R**2)/(4*C_R*(-C_C**3 + C_C**2*C_R + 4*C_C*C_R**2 + 2*C_R**3)),                                                                                                                                              0, (-C_C**3 + 2*C_C**2*C_R + 12*C_C*C_R**2 + 8*C_R**3)/(4*C_R*(-C_C**3 + C_C**2*C_R + 4*C_C*C_R**2 + 2*C_R**3)),                                                                                                            0,                  C_C/(-C_C**2 + 2*C_C*C_R + 2*C_R**2),                                                     0,                                C_C**2*(C_C + 2*C_R)/(4*C_R*(-C_C**3 + C_C**2*C_R + 4*C_C*C_R**2 + 2*C_R**3)),                                                                                                            0,                                                                                C_C**3/(4*C_R*(-C_C**3 + C_C**2*C_R + 4*C_C*C_R**2 + 2*C_R**3)),                                                                                                                                              0],\n[                                                                                                                                             0,                                                  C_C*(-C_C**2 + 4*C_C*C_F + 4*C_F**2)/(4*C_F*(-C_C**3 + C_C**2*C_F + 4*C_C*C_F**2 + 2*C_F**3)),                                                                                                            0, (-C_C**3 + 2*C_C**2*C_F + 12*C_C*C_F**2 + 8*C_F**3)/(4*C_F*(-C_C**3 + C_C**2*C_F + 4*C_C*C_F**2 + 2*C_F**3)),                                                     0,                  C_C/(-C_C**2 + 2*C_C*C_F + 2*C_F**2),                                                                                                            0,                                C_C**2*(C_C + 2*C_F)/(4*C_F*(-C_C**3 + C_C**2*C_F + 4*C_C*C_F**2 + 2*C_F**3)),                                                                                                                                              0,                                                                                C_C**3/(4*C_F*(-C_C**3 + C_C**2*C_F + 4*C_C*C_F**2 + 2*C_F**3))],\n[                                                                                                    C_C**2/(-C_C**3 + 6*C_C*C_R**2 + 4*C_R**3),                                                                                                                                              0,                                                                         C_C/(-C_C**2 + 2*C_C*C_R + 2*C_R**2),                                                                                                            0, 4*C_R*(C_C + C_R)/(-C_C**3 + 6*C_C*C_R**2 + 4*C_R**3),                                                     0,                                                                         C_C/(-C_C**2 + 2*C_C*C_R + 2*C_R**2),                                                                                                            0,                                                                                                     C_C**2/(-C_C**3 + 6*C_C*C_R**2 + 4*C_R**3),                                                                                                                                              0],\n[                                                                                                                                             0,                                                                                                     C_C**2/(-C_C**3 + 6*C_C*C_F**2 + 4*C_F**3),                                                                                                            0,                                                                         C_C/(-C_C**2 + 2*C_C*C_F + 2*C_F**2),                                                     0, 4*C_F*(C_C + C_F)/(-C_C**3 + 6*C_C*C_F**2 + 4*C_F**3),                                                                                                            0,                                                                         C_C/(-C_C**2 + 2*C_C*C_F + 2*C_F**2),                                                                                                                                              0,                                                                                                     C_C**2/(-C_C**3 + 6*C_C*C_F**2 + 4*C_F**3)],\n[                                                                               C_C**3/(4*C_R*(-C_C**3 + C_C**2*C_R + 4*C_C*C_R**2 + 2*C_R**3)),                                                                                                                                              0,                                C_C**2*(C_C + 2*C_R)/(4*C_R*(-C_C**3 + C_C**2*C_R + 4*C_C*C_R**2 + 2*C_R**3)),                                                                                                            0,                  C_C/(-C_C**2 + 2*C_C*C_R + 2*C_R**2),                                                     0, (-C_C**3 + 2*C_C**2*C_R + 12*C_C*C_R**2 + 8*C_R**3)/(4*C_R*(-C_C**3 + C_C**2*C_R + 4*C_C*C_R**2 + 2*C_R**3)),                                                                                                            0,                                                  C_C*(-C_C**2 + 4*C_C*C_R + 4*C_R**2)/(4*C_R*(-C_C**3 + C_C**2*C_R + 4*C_C*C_R**2 + 2*C_R**3)),                                                                                                                                              0],\n[                                                                                                                                             0,                                                                                C_C**3/(4*C_F*(-C_C**3 + C_C**2*C_F + 4*C_C*C_F**2 + 2*C_F**3)),                                                                                                            0,                                C_C**2*(C_C + 2*C_F)/(4*C_F*(-C_C**3 + C_C**2*C_F + 4*C_C*C_F**2 + 2*C_F**3)),                                                     0,                  C_C/(-C_C**2 + 2*C_C*C_F + 2*C_F**2),                                                                                                            0, (-C_C**3 + 2*C_C**2*C_F + 12*C_C*C_F**2 + 8*C_F**3)/(4*C_F*(-C_C**3 + C_C**2*C_F + 4*C_C*C_F**2 + 2*C_F**3)),                                                                                                                                              0,                                                  C_C*(-C_C**2 + 4*C_C*C_F + 4*C_F**2)/(4*C_F*(-C_C**3 + C_C**2*C_F + 4*C_C*C_F**2 + 2*C_F**3))],\n[                                                            C_C**4/(4*C_R*(-C_C**4 - C_C**3*C_R + 6*C_C**2*C_R**2 + 10*C_C*C_R**3 + 4*C_R**4)),                                                                                                                                              0,                                              C_C**3/(4*C_R*(-C_C**3 + C_C**2*C_R + 4*C_C*C_R**2 + 2*C_R**3)),                                                                                                            0,            C_C**2/(-C_C**3 + 6*C_C*C_R**2 + 4*C_R**3),                                                     0,                C_C*(-C_C**2 + 4*C_C*C_R + 4*C_R**2)/(4*C_R*(-C_C**3 + C_C**2*C_R + 4*C_C*C_R**2 + 2*C_R**3)),                                                                                                            0, (-C_C**4/4 - C_C**3*C_R + 3*C_C**2*C_R**2 + 8*C_C*C_R**3 + 4*C_R**4)/(C_R*(-C_C**4 - C_C**3*C_R + 6*C_C**2*C_R**2 + 10*C_C*C_R**3 + 4*C_R**4)),                                                                                                                                              0],\n[                                                                                                                                             0,                                                             C_C**4/(4*C_F*(-C_C**4 - C_C**3*C_F + 6*C_C**2*C_F**2 + 10*C_C*C_F**3 + 4*C_F**4)),                                                                                                            0,                                              C_C**3/(4*C_F*(-C_C**3 + C_C**2*C_F + 4*C_C*C_F**2 + 2*C_F**3)),                                                     0,            C_C**2/(-C_C**3 + 6*C_C*C_F**2 + 4*C_F**3),                                                                                                            0,                C_C*(-C_C**2 + 4*C_C*C_F + 4*C_F**2)/(4*C_F*(-C_C**3 + C_C**2*C_F + 4*C_C*C_F**2 + 2*C_F**3)),                                                                                                                                              0, (-C_C**4/4 - C_C**3*C_F + 3*C_C**2*C_F**2 + 8*C_C*C_F**3 + 4*C_F**4)/(C_F*(-C_C**4 - C_C**3*C_F + 6*C_C**2*C_F**2 + 10*C_C*C_F**3 + 4*C_F**4))]])",
      "text/latex": "$\\displaystyle \\left[\\begin{matrix}\\frac{- \\frac{C_{C}^{4}}{4} - C_{C}^{3} C_{R} + 3 C_{C}^{2} C_{R}^{2} + 8 C_{C} C_{R}^{3} + 4 C_{R}^{4}}{C_{R} \\left(- C_{C}^{4} - C_{C}^{3} C_{R} + 6 C_{C}^{2} C_{R}^{2} + 10 C_{C} C_{R}^{3} + 4 C_{R}^{4}\\right)} & 0 & \\frac{C_{C} \\left(- C_{C}^{2} + 4 C_{C} C_{R} + 4 C_{R}^{2}\\right)}{4 C_{R} \\left(- C_{C}^{3} + C_{C}^{2} C_{R} + 4 C_{C} C_{R}^{2} + 2 C_{R}^{3}\\right)} & 0 & \\frac{C_{C}^{2}}{- C_{C}^{3} + 6 C_{C} C_{R}^{2} + 4 C_{R}^{3}} & 0 & \\frac{C_{C}^{3}}{4 C_{R} \\left(- C_{C}^{3} + C_{C}^{2} C_{R} + 4 C_{C} C_{R}^{2} + 2 C_{R}^{3}\\right)} & 0 & \\frac{C_{C}^{4}}{4 C_{R} \\left(- C_{C}^{4} - C_{C}^{3} C_{R} + 6 C_{C}^{2} C_{R}^{2} + 10 C_{C} C_{R}^{3} + 4 C_{R}^{4}\\right)} & 0\\\\0 & \\frac{- \\frac{C_{C}^{4}}{4} - C_{C}^{3} C_{F} + 3 C_{C}^{2} C_{F}^{2} + 8 C_{C} C_{F}^{3} + 4 C_{F}^{4}}{C_{F} \\left(- C_{C}^{4} - C_{C}^{3} C_{F} + 6 C_{C}^{2} C_{F}^{2} + 10 C_{C} C_{F}^{3} + 4 C_{F}^{4}\\right)} & 0 & \\frac{C_{C} \\left(- C_{C}^{2} + 4 C_{C} C_{F} + 4 C_{F}^{2}\\right)}{4 C_{F} \\left(- C_{C}^{3} + C_{C}^{2} C_{F} + 4 C_{C} C_{F}^{2} + 2 C_{F}^{3}\\right)} & 0 & \\frac{C_{C}^{2}}{- C_{C}^{3} + 6 C_{C} C_{F}^{2} + 4 C_{F}^{3}} & 0 & \\frac{C_{C}^{3}}{4 C_{F} \\left(- C_{C}^{3} + C_{C}^{2} C_{F} + 4 C_{C} C_{F}^{2} + 2 C_{F}^{3}\\right)} & 0 & \\frac{C_{C}^{4}}{4 C_{F} \\left(- C_{C}^{4} - C_{C}^{3} C_{F} + 6 C_{C}^{2} C_{F}^{2} + 10 C_{C} C_{F}^{3} + 4 C_{F}^{4}\\right)}\\\\\\frac{C_{C} \\left(- C_{C}^{2} + 4 C_{C} C_{R} + 4 C_{R}^{2}\\right)}{4 C_{R} \\left(- C_{C}^{3} + C_{C}^{2} C_{R} + 4 C_{C} C_{R}^{2} + 2 C_{R}^{3}\\right)} & 0 & \\frac{- C_{C}^{3} + 2 C_{C}^{2} C_{R} + 12 C_{C} C_{R}^{2} + 8 C_{R}^{3}}{4 C_{R} \\left(- C_{C}^{3} + C_{C}^{2} C_{R} + 4 C_{C} C_{R}^{2} + 2 C_{R}^{3}\\right)} & 0 & \\frac{C_{C}}{- C_{C}^{2} + 2 C_{C} C_{R} + 2 C_{R}^{2}} & 0 & \\frac{C_{C}^{2} \\left(C_{C} + 2 C_{R}\\right)}{4 C_{R} \\left(- C_{C}^{3} + C_{C}^{2} C_{R} + 4 C_{C} C_{R}^{2} + 2 C_{R}^{3}\\right)} & 0 & \\frac{C_{C}^{3}}{4 C_{R} \\left(- C_{C}^{3} + C_{C}^{2} C_{R} + 4 C_{C} C_{R}^{2} + 2 C_{R}^{3}\\right)} & 0\\\\0 & \\frac{C_{C} \\left(- C_{C}^{2} + 4 C_{C} C_{F} + 4 C_{F}^{2}\\right)}{4 C_{F} \\left(- C_{C}^{3} + C_{C}^{2} C_{F} + 4 C_{C} C_{F}^{2} + 2 C_{F}^{3}\\right)} & 0 & \\frac{- C_{C}^{3} + 2 C_{C}^{2} C_{F} + 12 C_{C} C_{F}^{2} + 8 C_{F}^{3}}{4 C_{F} \\left(- C_{C}^{3} + C_{C}^{2} C_{F} + 4 C_{C} C_{F}^{2} + 2 C_{F}^{3}\\right)} & 0 & \\frac{C_{C}}{- C_{C}^{2} + 2 C_{C} C_{F} + 2 C_{F}^{2}} & 0 & \\frac{C_{C}^{2} \\left(C_{C} + 2 C_{F}\\right)}{4 C_{F} \\left(- C_{C}^{3} + C_{C}^{2} C_{F} + 4 C_{C} C_{F}^{2} + 2 C_{F}^{3}\\right)} & 0 & \\frac{C_{C}^{3}}{4 C_{F} \\left(- C_{C}^{3} + C_{C}^{2} C_{F} + 4 C_{C} C_{F}^{2} + 2 C_{F}^{3}\\right)}\\\\\\frac{C_{C}^{2}}{- C_{C}^{3} + 6 C_{C} C_{R}^{2} + 4 C_{R}^{3}} & 0 & \\frac{C_{C}}{- C_{C}^{2} + 2 C_{C} C_{R} + 2 C_{R}^{2}} & 0 & \\frac{4 C_{R} \\left(C_{C} + C_{R}\\right)}{- C_{C}^{3} + 6 C_{C} C_{R}^{2} + 4 C_{R}^{3}} & 0 & \\frac{C_{C}}{- C_{C}^{2} + 2 C_{C} C_{R} + 2 C_{R}^{2}} & 0 & \\frac{C_{C}^{2}}{- C_{C}^{3} + 6 C_{C} C_{R}^{2} + 4 C_{R}^{3}} & 0\\\\0 & \\frac{C_{C}^{2}}{- C_{C}^{3} + 6 C_{C} C_{F}^{2} + 4 C_{F}^{3}} & 0 & \\frac{C_{C}}{- C_{C}^{2} + 2 C_{C} C_{F} + 2 C_{F}^{2}} & 0 & \\frac{4 C_{F} \\left(C_{C} + C_{F}\\right)}{- C_{C}^{3} + 6 C_{C} C_{F}^{2} + 4 C_{F}^{3}} & 0 & \\frac{C_{C}}{- C_{C}^{2} + 2 C_{C} C_{F} + 2 C_{F}^{2}} & 0 & \\frac{C_{C}^{2}}{- C_{C}^{3} + 6 C_{C} C_{F}^{2} + 4 C_{F}^{3}}\\\\\\frac{C_{C}^{3}}{4 C_{R} \\left(- C_{C}^{3} + C_{C}^{2} C_{R} + 4 C_{C} C_{R}^{2} + 2 C_{R}^{3}\\right)} & 0 & \\frac{C_{C}^{2} \\left(C_{C} + 2 C_{R}\\right)}{4 C_{R} \\left(- C_{C}^{3} + C_{C}^{2} C_{R} + 4 C_{C} C_{R}^{2} + 2 C_{R}^{3}\\right)} & 0 & \\frac{C_{C}}{- C_{C}^{2} + 2 C_{C} C_{R} + 2 C_{R}^{2}} & 0 & \\frac{- C_{C}^{3} + 2 C_{C}^{2} C_{R} + 12 C_{C} C_{R}^{2} + 8 C_{R}^{3}}{4 C_{R} \\left(- C_{C}^{3} + C_{C}^{2} C_{R} + 4 C_{C} C_{R}^{2} + 2 C_{R}^{3}\\right)} & 0 & \\frac{C_{C} \\left(- C_{C}^{2} + 4 C_{C} C_{R} + 4 C_{R}^{2}\\right)}{4 C_{R} \\left(- C_{C}^{3} + C_{C}^{2} C_{R} + 4 C_{C} C_{R}^{2} + 2 C_{R}^{3}\\right)} & 0\\\\0 & \\frac{C_{C}^{3}}{4 C_{F} \\left(- C_{C}^{3} + C_{C}^{2} C_{F} + 4 C_{C} C_{F}^{2} + 2 C_{F}^{3}\\right)} & 0 & \\frac{C_{C}^{2} \\left(C_{C} + 2 C_{F}\\right)}{4 C_{F} \\left(- C_{C}^{3} + C_{C}^{2} C_{F} + 4 C_{C} C_{F}^{2} + 2 C_{F}^{3}\\right)} & 0 & \\frac{C_{C}}{- C_{C}^{2} + 2 C_{C} C_{F} + 2 C_{F}^{2}} & 0 & \\frac{- C_{C}^{3} + 2 C_{C}^{2} C_{F} + 12 C_{C} C_{F}^{2} + 8 C_{F}^{3}}{4 C_{F} \\left(- C_{C}^{3} + C_{C}^{2} C_{F} + 4 C_{C} C_{F}^{2} + 2 C_{F}^{3}\\right)} & 0 & \\frac{C_{C} \\left(- C_{C}^{2} + 4 C_{C} C_{F} + 4 C_{F}^{2}\\right)}{4 C_{F} \\left(- C_{C}^{3} + C_{C}^{2} C_{F} + 4 C_{C} C_{F}^{2} + 2 C_{F}^{3}\\right)}\\\\\\frac{C_{C}^{4}}{4 C_{R} \\left(- C_{C}^{4} - C_{C}^{3} C_{R} + 6 C_{C}^{2} C_{R}^{2} + 10 C_{C} C_{R}^{3} + 4 C_{R}^{4}\\right)} & 0 & \\frac{C_{C}^{3}}{4 C_{R} \\left(- C_{C}^{3} + C_{C}^{2} C_{R} + 4 C_{C} C_{R}^{2} + 2 C_{R}^{3}\\right)} & 0 & \\frac{C_{C}^{2}}{- C_{C}^{3} + 6 C_{C} C_{R}^{2} + 4 C_{R}^{3}} & 0 & \\frac{C_{C} \\left(- C_{C}^{2} + 4 C_{C} C_{R} + 4 C_{R}^{2}\\right)}{4 C_{R} \\left(- C_{C}^{3} + C_{C}^{2} C_{R} + 4 C_{C} C_{R}^{2} + 2 C_{R}^{3}\\right)} & 0 & \\frac{- \\frac{C_{C}^{4}}{4} - C_{C}^{3} C_{R} + 3 C_{C}^{2} C_{R}^{2} + 8 C_{C} C_{R}^{3} + 4 C_{R}^{4}}{C_{R} \\left(- C_{C}^{4} - C_{C}^{3} C_{R} + 6 C_{C}^{2} C_{R}^{2} + 10 C_{C} C_{R}^{3} + 4 C_{R}^{4}\\right)} & 0\\\\0 & \\frac{C_{C}^{4}}{4 C_{F} \\left(- C_{C}^{4} - C_{C}^{3} C_{F} + 6 C_{C}^{2} C_{F}^{2} + 10 C_{C} C_{F}^{3} + 4 C_{F}^{4}\\right)} & 0 & \\frac{C_{C}^{3}}{4 C_{F} \\left(- C_{C}^{3} + C_{C}^{2} C_{F} + 4 C_{C} C_{F}^{2} + 2 C_{F}^{3}\\right)} & 0 & \\frac{C_{C}^{2}}{- C_{C}^{3} + 6 C_{C} C_{F}^{2} + 4 C_{F}^{3}} & 0 & \\frac{C_{C} \\left(- C_{C}^{2} + 4 C_{C} C_{F} + 4 C_{F}^{2}\\right)}{4 C_{F} \\left(- C_{C}^{3} + C_{C}^{2} C_{F} + 4 C_{C} C_{F}^{2} + 2 C_{F}^{3}\\right)} & 0 & \\frac{- \\frac{C_{C}^{4}}{4} - C_{C}^{3} C_{F} + 3 C_{C}^{2} C_{F}^{2} + 8 C_{C} C_{F}^{3} + 4 C_{F}^{4}}{C_{F} \\left(- C_{C}^{4} - C_{C}^{3} C_{F} + 6 C_{C}^{2} C_{F}^{2} + 10 C_{C} C_{F}^{3} + 4 C_{F}^{4}\\right)}\\end{matrix}\\right]$"
     },
     "execution_count": 20,
     "metadata": {},
     "output_type": "execute_result"
    }
   ],
   "source": [
    "sym.simplify(C_inv)"
   ],
   "metadata": {
    "collapsed": false,
    "ExecuteTime": {
     "end_time": "2024-02-20T09:57:37.758804875Z",
     "start_time": "2024-02-20T09:57:37.057541966Z"
    }
   },
   "execution_count": 20
  },
  {
   "cell_type": "code",
   "outputs": [],
   "source": [],
   "metadata": {
    "collapsed": false
   }
  }
 ],
 "metadata": {
  "kernelspec": {
   "display_name": "Python 3",
   "language": "python",
   "name": "python3"
  },
  "language_info": {
   "codemirror_mode": {
    "name": "ipython",
    "version": 2
   },
   "file_extension": ".py",
   "mimetype": "text/x-python",
   "name": "python",
   "nbconvert_exporter": "python",
   "pygments_lexer": "ipython2",
   "version": "2.7.6"
  }
 },
 "nbformat": 4,
 "nbformat_minor": 0
}
