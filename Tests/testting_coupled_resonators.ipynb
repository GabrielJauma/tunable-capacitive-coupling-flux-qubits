{
 "cells": [
  {
   "cell_type": "code",
   "metadata": {
    "ExecuteTime": {
     "end_time": "2024-05-14T13:27:52.022823Z",
     "start_time": "2024-05-14T13:27:52.018934Z"
    }
   },
   "source": [
    "import Modules.SQcircuit_extensions as sq_ext\n",
    "import Modules.figures as figs\n",
    "import SQcircuit as sq\n",
    "import numpy as np\n",
    "import matplotlib.pyplot as plt\n",
    "import importlib\n",
    "import qutip as qt\n",
    "import scipy as sp\n",
    "%matplotlib ipympl\n",
    "\n",
    "plt.rcParams['text.usetex'] = False\n",
    "importlib.reload(sq_ext)\n",
    "importlib.reload(sq)\n",
    "importlib.reload(figs)\n",
    "np.set_printoptions(linewidth=200, formatter={'float': '{:.6f}'.format})\n",
    "# np.set_printoptions(linewidth=200, formatter={'float': '{:.3e}'.format})"
   ],
   "outputs": [],
   "execution_count": 21
  },
  {
   "cell_type": "code",
   "metadata": {
    "ExecuteTime": {
     "end_time": "2024-05-14T13:27:52.185906Z",
     "start_time": "2024-05-14T13:27:52.183960Z"
    }
   },
   "source": [
    "GHz=1e9"
   ],
   "outputs": [],
   "execution_count": 22
  },
  {
   "cell_type": "code",
   "metadata": {
    "ExecuteTime": {
     "end_time": "2024-05-14T13:27:52.354318Z",
     "start_time": "2024-05-14T13:27:52.350848Z"
    }
   },
   "source": [
    "def premade_coupled_resonators(Δ):\n",
    "    if Δ == 0:\n",
    "        C   = sq.Capacitor(1, 'fF')\n",
    "        L   = sq.Inductor(1, 'nH')\n",
    "        elements = {(0, 1): [L, C],\n",
    "                    (0, 2): [L, C], }\n",
    "        return sq.Circuit(elements)\n",
    "\n",
    "    else:\n",
    "        C = sq.Capacitor(1, 'fF')\n",
    "        L = sq.Inductor(1, 'nH')\n",
    "        L_Δ = sq.Inductor(Δ, 'nH')\n",
    "        elements = {(0, 1): [L, C],\n",
    "                    (0, 2): [L, C],\n",
    "                    (1, 2): [L_Δ], }\n",
    "        return sq.Circuit(elements)\n",
    "\n",
    "def premade_single_resonator(Δ):\n",
    "    if Δ == 0:\n",
    "        C   = sq.Capacitor(1, 'fF')\n",
    "        L   = sq.Inductor(1,  'nH')\n",
    "        elements = {(0, 1): [L, C],}\n",
    "        return sq.Circuit(elements)\n",
    "\n",
    "    else:\n",
    "        C   = sq.Capacitor(1, 'fF')\n",
    "        L   = sq.Inductor(1/(1/1+1/Δ), 'nH')\n",
    "        elements = {(0, 1): [L, C],}\n",
    "        return sq.Circuit(elements)\n",
    "\n"
   ],
   "outputs": [],
   "execution_count": 23
  },
  {
   "cell_type": "code",
   "metadata": {
    "ExecuteTime": {
     "end_time": "2024-05-14T13:27:52.790674Z",
     "start_time": "2024-05-14T13:27:52.757335Z"
    }
   },
   "source": [
    "n_eig = 3\n",
    "trunc_num = 15\n",
    "Δ=0.001\n",
    "\n",
    "coupled_res     = premade_coupled_resonators    (Δ=Δ)\n",
    "res             = premade_single_resonator      (Δ=Δ)\n",
    "\n",
    "uncoupled_res   = premade_coupled_resonators    (Δ=0)\n",
    "res_0           = premade_single_resonator      (Δ=0)\n",
    "\n",
    "coupled_res     .set_trunc_nums([trunc_num, trunc_num])\n",
    "uncoupled_res   .set_trunc_nums([trunc_num, trunc_num])\n",
    "res             .set_trunc_nums([trunc_num])\n",
    "res_0           .set_trunc_nums([trunc_num])\n",
    "\n",
    "_ = coupled_res     .diag(n_eig)\n",
    "_ = uncoupled_res   .diag(n_eig)\n",
    "_ = res             .diag(n_eig)\n",
    "_ = res_0           .diag(n_eig)\n"
   ],
   "outputs": [],
   "execution_count": 24
  },
  {
   "cell_type": "code",
   "metadata": {
    "ExecuteTime": {
     "end_time": "2024-05-14T13:27:53.036065Z",
     "start_time": "2024-05-14T13:27:53.033955Z"
    }
   },
   "source": [
    "Q = res.charge_op(0)\n",
    "Φ = res.flux_op(0)\n",
    "\n",
    "Q_0 = res_0.charge_op(0)\n",
    "Φ_0 = res_0.flux_op(0)\n"
   ],
   "outputs": [],
   "execution_count": 25
  },
  {
   "cell_type": "code",
   "metadata": {
    "ExecuteTime": {
     "end_time": "2024-05-14T13:27:53.553716Z",
     "start_time": "2024-05-14T13:27:53.549844Z"
    }
   },
   "source": [
    "H_res_0 = 1/2 * Q_0**2/1e-15 + 1/2 * Φ_0**2/1e-9\n",
    "H_res   = 1/2 * Q**2/1e-15 + 1/2 * (1+1/Δ) * Φ**2/1e-9\n",
    "# H_res_0 = res_0.hamiltonian()\n",
    "# H_res   = res.hamiltonian()\n",
    "\n",
    "I = qt.identity(H_res.shape[0])\n",
    "\n",
    "H_unc_res  = qt.tensor(H_res_0,I) + qt.tensor(I,H_res_0)\n",
    "\n",
    "\n",
    "H_coup_res = qt.tensor(H_res,I)   + qt.tensor(I,H_res)   + (1/Δ/1e-9) * qt.tensor(Φ,Φ)\n",
    "# H_coup_res = qt.tensor(H_res,I) + qt.tensor(I,H_res) + (1/Δ) * qt.tensor(Φ,Φ)"
   ],
   "outputs": [],
   "execution_count": 26
  },
  {
   "cell_type": "code",
   "metadata": {
    "ExecuteTime": {
     "end_time": "2024-05-14T13:27:54.180881Z",
     "start_time": "2024-05-14T13:27:54.156304Z"
    }
   },
   "source": [
    "_ = uncoupled_res   .diag(n_eig, solver = 'numpy')\n",
    "_ = coupled_res     .diag(n_eig, solver = 'numpy')\n",
    "# H_eff_full = sq_ext.H_eff_p1(uncoupled_res,coupled_res )\n",
    "H_eff_full = sq_ext.H_eff_p1_hamil(uncoupled_res.hamiltonian(), coupled_res.hamiltonian(), n_eig, solver='numpy' )\n",
    "\n",
    "\n",
    "# H_eff_full -= H_eff_full[0,0]*np.eye(n_eig)\n",
    "\n",
    "H_eff_frc = sq_ext.H_eff_p1_hamil(H_unc_res, H_coup_res, n_eig, solver='numpy')\n",
    "H_eff_frc -= H_eff_frc[0,0]*np.eye(n_eig)\n",
    "\n",
    "print(np.round(H_eff_full,8))\n",
    "print('\\n')\n",
    "print(np.round(H_eff_frc, 8))\n",
    "# print(np.round(np.abs(H_eff_full)-np.abs(H_eff_frc),4))"
   ],
   "outputs": [
    {
     "ename": "AttributeError",
     "evalue": "module 'Modules.SQcircuit_extensions' has no attribute 'H_eff_p1_hamil'",
     "output_type": "error",
     "traceback": [
      "\u001B[0;31m---------------------------------------------------------------------------\u001B[0m",
      "\u001B[0;31mAttributeError\u001B[0m                            Traceback (most recent call last)",
      "Cell \u001B[0;32mIn[27], line 4\u001B[0m\n\u001B[1;32m      2\u001B[0m _ \u001B[38;5;241m=\u001B[39m coupled_res     \u001B[38;5;241m.\u001B[39mdiag(n_eig, solver \u001B[38;5;241m=\u001B[39m \u001B[38;5;124m'\u001B[39m\u001B[38;5;124mnumpy\u001B[39m\u001B[38;5;124m'\u001B[39m)\n\u001B[1;32m      3\u001B[0m \u001B[38;5;66;03m# H_eff_full = sq_ext.H_eff_p1(uncoupled_res,coupled_res )\u001B[39;00m\n\u001B[0;32m----> 4\u001B[0m H_eff_full \u001B[38;5;241m=\u001B[39m \u001B[43msq_ext\u001B[49m\u001B[38;5;241;43m.\u001B[39;49m\u001B[43mH_eff_p1_hamil\u001B[49m(uncoupled_res\u001B[38;5;241m.\u001B[39mhamiltonian(), coupled_res\u001B[38;5;241m.\u001B[39mhamiltonian(), n_eig, solver\u001B[38;5;241m=\u001B[39m\u001B[38;5;124m'\u001B[39m\u001B[38;5;124mnumpy\u001B[39m\u001B[38;5;124m'\u001B[39m )\n\u001B[1;32m      7\u001B[0m \u001B[38;5;66;03m# H_eff_full -= H_eff_full[0,0]*np.eye(n_eig)\u001B[39;00m\n\u001B[1;32m      9\u001B[0m H_eff_frc \u001B[38;5;241m=\u001B[39m sq_ext\u001B[38;5;241m.\u001B[39mH_eff_p1_hamil(H_unc_res, H_coup_res, n_eig, solver\u001B[38;5;241m=\u001B[39m\u001B[38;5;124m'\u001B[39m\u001B[38;5;124mnumpy\u001B[39m\u001B[38;5;124m'\u001B[39m)\n",
      "\u001B[0;31mAttributeError\u001B[0m: module 'Modules.SQcircuit_extensions' has no attribute 'H_eff_p1_hamil'"
     ]
    }
   ],
   "execution_count": 27
  },
  {
   "metadata": {
    "ExecuteTime": {
     "end_time": "2024-05-14T13:27:56.425559Z",
     "start_time": "2024-05-14T13:27:56.419127Z"
    }
   },
   "cell_type": "code",
   "source": "sq_ext.diag(H_unc_res, remove_ground=True)[0]",
   "outputs": [
    {
     "data": {
      "text/plain": [
       "array([0.000000, 159.154943, 159.154943, 318.309886])"
      ]
     },
     "execution_count": 28,
     "metadata": {},
     "output_type": "execute_result"
    }
   ],
   "execution_count": 28
  },
  {
   "metadata": {
    "ExecuteTime": {
     "end_time": "2024-05-14T13:27:57.366944Z",
     "start_time": "2024-05-14T13:27:57.359744Z"
    }
   },
   "cell_type": "code",
   "source": "sq_ext.diag(uncoupled_res.hamiltonian(), remove_ground=True)[0]",
   "outputs": [
    {
     "data": {
      "text/plain": [
       "array([0.000000, 159.154943, 159.154943, 318.309886])"
      ]
     },
     "execution_count": 29,
     "metadata": {},
     "output_type": "execute_result"
    }
   ],
   "execution_count": 29
  },
  {
   "cell_type": "code",
   "metadata": {
    "ExecuteTime": {
     "end_time": "2024-05-14T13:28:00.074816Z",
     "start_time": "2024-05-14T13:28:00.057832Z"
    }
   },
   "source": [
    "#H_0 = H_unc_res.__array__()\n",
    "#H = H_coup_res.__array__()\n",
    "H_0 = uncoupled_res.hamiltonian().__array__()\n",
    "H   = coupled_res.hamiltonian().__array__()\n",
    "\n",
    "ψ_0 = sq_ext.diag(H_0, n_eig=len(H_0), real=False, solver='numpy')[1].T\n",
    "ψ = sq_ext.diag(H, n_eig=len(H), real=False,   solver='numpy')[1].T\n"
   ],
   "outputs": [],
   "execution_count": 30
  },
  {
   "cell_type": "code",
   "metadata": {
    "ExecuteTime": {
     "end_time": "2024-05-14T13:28:09.183099Z",
     "start_time": "2024-05-14T13:28:01.148275Z"
    }
   },
   "source": [
    "H_eff = np.zeros([n_eig,n_eig], dtype='complex')\n",
    "\n",
    "for i in range(n_eig):\n",
    "    for j in range(n_eig):\n",
    "        for k in range(len(ψ)):\n",
    "            for l in range(len(ψ)):\n",
    "                H_eff[i,j] += (ψ_0[i].T.conj() @ ψ[k]) * (ψ[k].T.conj() @ H @ ψ[l]) * (ψ[l].T.conj() @ ψ_0[j])"
   ],
   "outputs": [
    {
     "ename": "KeyboardInterrupt",
     "evalue": "",
     "output_type": "error",
     "traceback": [
      "\u001B[0;31m---------------------------------------------------------------------------\u001B[0m",
      "\u001B[0;31mKeyboardInterrupt\u001B[0m                         Traceback (most recent call last)",
      "Cell \u001B[0;32mIn[31], line 7\u001B[0m\n\u001B[1;32m      5\u001B[0m \u001B[38;5;28;01mfor\u001B[39;00m k \u001B[38;5;129;01min\u001B[39;00m \u001B[38;5;28mrange\u001B[39m(\u001B[38;5;28mlen\u001B[39m(ψ)):\n\u001B[1;32m      6\u001B[0m     \u001B[38;5;28;01mfor\u001B[39;00m l \u001B[38;5;129;01min\u001B[39;00m \u001B[38;5;28mrange\u001B[39m(\u001B[38;5;28mlen\u001B[39m(ψ)):\n\u001B[0;32m----> 7\u001B[0m         H_eff[i,j] \u001B[38;5;241m+\u001B[39m\u001B[38;5;241m=\u001B[39m (ψ_0[i]\u001B[38;5;241m.\u001B[39mT\u001B[38;5;241m.\u001B[39mconj() \u001B[38;5;241m@\u001B[39m ψ[k]) \u001B[38;5;241m*\u001B[39m (\u001B[43mψ\u001B[49m\u001B[43m[\u001B[49m\u001B[43mk\u001B[49m\u001B[43m]\u001B[49m\u001B[38;5;241;43m.\u001B[39;49m\u001B[43mT\u001B[49m\u001B[38;5;241;43m.\u001B[39;49m\u001B[43mconj\u001B[49m\u001B[43m(\u001B[49m\u001B[43m)\u001B[49m\u001B[43m \u001B[49m\u001B[38;5;241;43m@\u001B[39;49m\u001B[43m \u001B[49m\u001B[43mH\u001B[49m \u001B[38;5;241m@\u001B[39m ψ[l]) \u001B[38;5;241m*\u001B[39m (ψ[l]\u001B[38;5;241m.\u001B[39mT\u001B[38;5;241m.\u001B[39mconj() \u001B[38;5;241m@\u001B[39m ψ_0[j])\n",
      "\u001B[0;31mKeyboardInterrupt\u001B[0m: "
     ]
    }
   ],
   "execution_count": 31
  },
  {
   "cell_type": "code",
   "metadata": {
    "ExecuteTime": {
     "end_time": "2024-05-14T13:28:09.183775Z",
     "start_time": "2024-05-14T13:28:09.183726Z"
    }
   },
   "source": [
    "U = ψ_0.conj().T @ ψ"
   ],
   "outputs": [],
   "execution_count": null
  },
  {
   "cell_type": "code",
   "metadata": {},
   "source": [
    "np.round(np.real(H),3)[0:n_eig+1,0:n_eig+1]/( 2 * np.pi * GHz)"
   ],
   "outputs": [],
   "execution_count": null
  },
  {
   "cell_type": "code",
   "metadata": {},
   "source": [
    "H2 = np.round(np.real(U.T @ H @ U),3)[0:n_eig+1,0:n_eig+1]/( 2 * np.pi * GHz)\n",
    "H2"
   ],
   "outputs": [],
   "execution_count": null
  },
  {
   "cell_type": "code",
   "execution_count": 47,
   "metadata": {
    "ExecuteTime": {
     "end_time": "2023-11-29T14:12:27.982939069Z",
     "start_time": "2023-11-29T14:12:27.074572178Z"
    }
   },
   "outputs": [],
   "source": [
    "H_eff = np.zeros([n_eig,n_eig], dtype='complex')\n",
    "\n",
    "for i in range(n_eig):\n",
    "    for j in range(n_eig):\n",
    "        for k in range(len(ψ)):\n",
    "            H_eff[i,j] += (ψ_0[i].T.conj() @ ψ[k]) * (ψ[k].T.conj() @ H @ ψ[l]) * (ψ[l].T.conj() @ ψ_0[j])"
   ]
  },
  {
   "cell_type": "code",
   "execution_count": null,
   "metadata": {
    "ExecuteTime": {
     "end_time": "2023-11-29T14:12:27.983026531Z",
     "start_time": "2023-11-29T14:12:27.982486697Z"
    }
   },
   "outputs": [],
   "source": [
    "H_eff /= 2 * np.pi * GHz\n",
    "#H_eff -= H_eff[0,0]*np.eye(n_eig)\n",
    "if np.allclose(np.imag(H_eff),0):\n",
    "    H_eff = np.real(H_eff)"
   ]
  },
  {
   "cell_type": "code",
   "execution_count": null,
   "metadata": {
    "ExecuteTime": {
     "end_time": "2023-11-29T14:12:27.983148909Z",
     "start_time": "2023-11-29T14:12:27.982621007Z"
    }
   },
   "outputs": [],
   "source": [
    "H_eff"
   ]
  },
  {
   "cell_type": "code",
   "execution_count": 79,
   "metadata": {
    "ExecuteTime": {
     "end_time": "2023-11-29T13:19:16.196310144Z",
     "start_time": "2023-11-29T13:19:16.150906464Z"
    }
   },
   "outputs": [
    {
     "name": "stdout",
     "output_type": "stream",
     "text": [
      "[[159.94873826+0.j  -0.        +0.j  -0.        +0.j]\n",
      " [ -0.        +0.j 319.89747651+0.j   0.79182544+0.j]\n",
      " [ -0.        +0.j   0.79182544+0.j 319.89747651+0.j]]\n"
     ]
    }
   ],
   "source": [
    "ψ_0 = sq_ext.diag(H_unc_res, n_eig, real=False, solver='numpy')[1]\n",
    "# ψ_0 = qt.Qobj(H_unc_res).eigenstates(sparse=True, eigvals=n_eig)[1]\n",
    "# ψ_0 = np.array([ψ.__array__() for ψ in ψ_0])[:,:,0].T\n",
    "\n",
    "# ψ_0_real = sq_ext.real_eigenvectors(ψ_0)\n",
    "H_eff = ψ_0.conj().T @ H_coup_res.__array__() @ ψ_0 / GHz /2 /np.pi\n",
    "# H_eff =np.array( [ [(ψ_0_i.dag() * H_unc_res * ψ_0_j) [0,0] / GHz /2 /np.pi for ψ_0_i in ψ_0] for ψ_0_j in ψ_0])\n",
    "\n",
    "print(np.round(H_eff, 8))\n",
    "# print(np.round(np.abs(H_eff), 8))"
   ]
  },
  {
   "cell_type": "code",
   "metadata": {
    "ExecuteTime": {
     "end_time": "2024-05-14T13:28:16.781689Z",
     "start_time": "2024-05-14T13:28:16.779269Z"
    }
   },
   "source": [
    "|H_eff_full = sq_ext.H_eff_p1(coupled_res,coupled_res, out=None)\n",
    "# H_eff_full -= H_eff_full[0,0]*np.eye(n_eig)\n",
    "\n",
    "H_eff_frc = sq_ext.H_eff_p1_hamil(H_coup_res, H_coup_res, n_eig, out=None)\n",
    "# H_eff_frc -= H_eff_frc[0,0]*np.eye(n_eig)\n",
    "\n",
    "print(np.abs(H_eff_full))\n",
    "print(np.abs(H_eff_frc))\n",
    "print(np.round(np.abs(H_eff_full-H_eff_frc),4))"
   ],
   "outputs": [
    {
     "ename": "SyntaxError",
     "evalue": "invalid syntax (2634790112.py, line 1)",
     "output_type": "error",
     "traceback": [
      "\u001B[0;36m  Cell \u001B[0;32mIn[32], line 1\u001B[0;36m\u001B[0m\n\u001B[0;31m    |H_eff_full = sq_ext.H_eff_p1(coupled_res,coupled_res, out=None)\u001B[0m\n\u001B[0m    ^\u001B[0m\n\u001B[0;31mSyntaxError\u001B[0m\u001B[0;31m:\u001B[0m invalid syntax\n"
     ]
    }
   ],
   "execution_count": 32
  },
  {
   "cell_type": "code",
   "metadata": {
    "ExecuteTime": {
     "end_time": "2024-05-14T13:28:24.127017Z",
     "start_time": "2024-05-14T13:28:24.123868Z"
    }
   },
   "source": [
    "ψ_full = np.array([ψ_i.__array__()[:, 0] for ψ_i in res_0._evecs]).T\n",
    "H_full = res_0.hamiltonian().__array__()\n",
    "\n",
    "print(np.abs(ψ_full.conj().T @ H_full @ ψ_full))\n"
   ],
   "outputs": [
    {
     "name": "stdout",
     "output_type": "stream",
     "text": [
      "[[0.000000 0.000421 0.000661]\n",
      " [0.000421 999999999999.999756 0.000185]\n",
      " [0.000661 0.000185 1999999999999.999023]]\n"
     ]
    }
   ],
   "execution_count": 33
  },
  {
   "cell_type": "code",
   "metadata": {
    "ExecuteTime": {
     "end_time": "2024-05-14T13:28:26.975821Z",
     "start_time": "2024-05-14T13:28:26.971701Z"
    }
   },
   "source": [
    "ψ_full = np.array([ψ_i.__array__()[:, 0] for ψ_i in uncoupled_res._evecs]).T\n",
    "H_full = uncoupled_res.hamiltonian().__array__()\n",
    "\n",
    "print(np.abs(ψ_full.conj().T @ H_full @ ψ_full))\n"
   ],
   "outputs": [
    {
     "name": "stdout",
     "output_type": "stream",
     "text": [
      "[[0.000000 0.000000 0.000000]\n",
      " [0.000000 999999999999.999512 0.000000]\n",
      " [0.000000 0.000000 999999999999.999512]]\n"
     ]
    }
   ],
   "execution_count": 34
  },
  {
   "cell_type": "code",
   "metadata": {
    "ExecuteTime": {
     "end_time": "2024-05-14T13:28:30.065369Z",
     "start_time": "2024-05-14T13:28:30.051604Z"
    }
   },
   "source": [
    "# ψ_frc = sq_ext.diag(H_unc_res,n_eig)[1]\n",
    "ψ_frc = np.linalg.eigh(H_unc_res)[1]\n",
    "print(np.abs(ψ_frc.conj().T @ H_unc_res.__array__() @ ψ_frc))\n"
   ],
   "outputs": [
    {
     "name": "stdout",
     "output_type": "stream",
     "text": [
      "[[999999999999.999878 0.000000 0.000000 ... 0.000000 0.000000 0.000000]\n",
      " [0.000000 2000000000000.000977 0.000069 ... 0.000000 0.000000 0.000000]\n",
      " [0.000000 0.000069 2000000000000.000977 ... 0.000000 0.000000 0.000000]\n",
      " ...\n",
      " [0.000000 0.000000 0.000000 ... 26000000000000.000000 0.000000 0.000000]\n",
      " [0.000000 0.000000 0.000000 ... 0.000000 25999999999999.921875 0.000000]\n",
      " [0.000000 0.000000 0.000000 ... 0.000000 0.000000 26999999999999.980469]]\n"
     ]
    }
   ],
   "execution_count": 35
  },
  {
   "cell_type": "code",
   "metadata": {
    "ExecuteTime": {
     "end_time": "2024-05-14T13:28:30.624566Z",
     "start_time": "2024-05-14T13:28:30.620641Z"
    }
   },
   "source": [
    "np.abs(uncoupled_res.hamiltonian_op('eig').__array__())"
   ],
   "outputs": [
    {
     "data": {
      "text/plain": [
       "array([[0.000000, 0.000000, 0.000000],\n",
       "       [0.000000, 999999999999.999512, 0.000000],\n",
       "       [0.000000, 0.000000, 999999999999.999512]])"
      ]
     },
     "execution_count": 36,
     "metadata": {},
     "output_type": "execute_result"
    }
   ],
   "execution_count": 36
  },
  {
   "cell_type": "code",
   "metadata": {
    "ExecuteTime": {
     "end_time": "2024-05-14T13:28:31.698717Z",
     "start_time": "2024-05-14T13:28:31.674796Z"
    }
   },
   "source": [
    "H_eff_full = sq_ext.H_eff_p1(res,res, out=None)\n",
    "# H_eff_full -= H_eff_full[0,0]*np.eye(n_eig)\n",
    "\n",
    "H_eff_frc = sq_ext.H_eff_p1_hamil(H_res, H_res, n_eig, out=None)\n",
    "# H_eff_frc -= H_eff_frc[0,0]*np.eye(n_eig)\n",
    "\n",
    "# print(np.abs(H_eff_full))\n",
    "# print(np.abs(H_eff_frc))\n",
    "print(np.round(np.abs(H_eff_full-H_eff_frc),4))\n"
   ],
   "outputs": [
    {
     "ename": "TypeError",
     "evalue": "H_eff_p1() missing 1 required positional argument: 'n_eig'",
     "output_type": "error",
     "traceback": [
      "\u001B[0;31m---------------------------------------------------------------------------\u001B[0m",
      "\u001B[0;31mTypeError\u001B[0m                                 Traceback (most recent call last)",
      "Cell \u001B[0;32mIn[37], line 1\u001B[0m\n\u001B[0;32m----> 1\u001B[0m H_eff_full \u001B[38;5;241m=\u001B[39m \u001B[43msq_ext\u001B[49m\u001B[38;5;241;43m.\u001B[39;49m\u001B[43mH_eff_p1\u001B[49m\u001B[43m(\u001B[49m\u001B[43mres\u001B[49m\u001B[43m,\u001B[49m\u001B[43mres\u001B[49m\u001B[43m,\u001B[49m\u001B[43m \u001B[49m\u001B[43mout\u001B[49m\u001B[38;5;241;43m=\u001B[39;49m\u001B[38;5;28;43;01mNone\u001B[39;49;00m\u001B[43m)\u001B[49m\n\u001B[1;32m      2\u001B[0m \u001B[38;5;66;03m# H_eff_full -= H_eff_full[0,0]*np.eye(n_eig)\u001B[39;00m\n\u001B[1;32m      4\u001B[0m H_eff_frc \u001B[38;5;241m=\u001B[39m sq_ext\u001B[38;5;241m.\u001B[39mH_eff_p1_hamil(H_res, H_res, n_eig, out\u001B[38;5;241m=\u001B[39m\u001B[38;5;28;01mNone\u001B[39;00m)\n",
      "\u001B[0;31mTypeError\u001B[0m: H_eff_p1() missing 1 required positional argument: 'n_eig'"
     ]
    }
   ],
   "execution_count": 37
  },
  {
   "cell_type": "code",
   "metadata": {
    "ExecuteTime": {
     "end_time": "2024-05-14T13:28:32.431700Z",
     "start_time": "2024-05-14T13:28:32.419512Z"
    }
   },
   "source": [
    "E = sq_ext.diag(H_coup_res , n_eig, out='GHz')[0]\n",
    "\n",
    "print( (E-E[0]))\n",
    "print( coupled_res.efreqs )\n",
    "\n",
    "print( (E-E[0])[1])\n",
    "print( coupled_res.efreqs[1] )\n"
   ],
   "outputs": [
    {
     "name": "stdout",
     "output_type": "stream",
     "text": [
      "[0.000000 336.106068 866.139479]\n",
      "[0.000000 159.154943 318.309886]\n",
      "336.10606840306264\n",
      "159.1549430918877\n"
     ]
    }
   ],
   "execution_count": 38
  },
  {
   "cell_type": "code",
   "metadata": {
    "ExecuteTime": {
     "end_time": "2024-05-14T13:28:32.951815Z",
     "start_time": "2024-05-14T13:28:32.945396Z"
    }
   },
   "source": [
    "E = sq_ext.diag(H_unc_res , n_eig, out=None)[0]\n",
    "\n",
    "print( (E-E[0]))\n",
    "print( uncoupled_res._efreqs )\n",
    "\n",
    "print( (E-E[0])[1])\n",
    "print( uncoupled_res._efreqs[1] )\n"
   ],
   "outputs": [
    {
     "name": "stdout",
     "output_type": "stream",
     "text": [
      "[0.000000 1000000000000.015015 1000000000000.019897]\n",
      "[0.000000 999999999999.999512 999999999999.999512]\n",
      "1000000000000.015\n",
      "999999999999.9995\n"
     ]
    }
   ],
   "execution_count": 39
  },
  {
   "cell_type": "code",
   "metadata": {
    "ExecuteTime": {
     "end_time": "2024-05-14T13:28:34.027333Z",
     "start_time": "2024-05-14T13:28:34.024546Z"
    }
   },
   "source": [
    "E = sq_ext.diag(H_res , n_eig, out=None)[0]\n",
    "print( (E-E[0])[1])\n",
    "print( res._efreqs[1] )\n"
   ],
   "outputs": [
    {
     "name": "stdout",
     "output_type": "stream",
     "text": [
      "31638584039112.855\n",
      "31638584039112.793\n"
     ]
    }
   ],
   "execution_count": 40
  },
  {
   "cell_type": "code",
   "metadata": {
    "ExecuteTime": {
     "end_time": "2024-05-14T13:28:36.825586Z",
     "start_time": "2024-05-14T13:28:36.822647Z"
    }
   },
   "source": [
    "E = sq_ext.diag(H_res_0 , n_eig, out=None)[0]\n",
    "print( E )\n",
    "print( res_0._efreqs )\n"
   ],
   "outputs": [
    {
     "name": "stdout",
     "output_type": "stream",
     "text": [
      "[500000000000.002197 1500000000000.001221 2500000000000.007812]\n",
      "[0.001296 1000000000000.005249 1999999999999.998047]\n"
     ]
    }
   ],
   "execution_count": 41
  },
  {
   "cell_type": "code",
   "metadata": {
    "ExecuteTime": {
     "end_time": "2024-05-14T13:28:37.153605Z",
     "start_time": "2024-05-14T13:28:37.151637Z"
    }
   },
   "source": [
    "Csh = 15\n",
    "C   = 15\n",
    "CJ  = 3\n",
    "Lq  = 25\n",
    "Lr  = 10\n",
    "\n",
    "Cf = C/2 + Csh + CJ\n",
    "C_f = Cf * 1e-15\n",
    "C_r = C/2 * 1e-15"
   ],
   "outputs": [],
   "execution_count": 42
  },
  {
   "cell_type": "code",
   "metadata": {
    "ExecuteTime": {
     "end_time": "2024-05-14T13:28:37.743047Z",
     "start_time": "2024-05-14T13:28:37.736309Z"
    }
   },
   "source": [
    "def sq_resonator(C=15, Lq=25, Lr=10, Δ=0.1):\n",
    "    l = Lq * (Lq + 4 * Lr) - 4 * Δ ** 2\n",
    "    resonator_elements = {\n",
    "        (0, 1): [sq.Capacitor(C / 2, 'fF'), sq.Inductor(l / Lq, 'nH')],\n",
    "    }\n",
    "    return sq.Circuit(resonator_elements)\n",
    "\n",
    "\n",
    "def KIT_fluxonium_no_JJ(C=15, CJ=3, Csh=15, Lq=25, Lr=10, Δ=0.1):\n",
    "    l = Lq * (Lq + 4 * Lr) - 4 * Δ ** 2\n",
    "    fluxonium_elements = {\n",
    "        (0, 1): [sq.Capacitor(C / 2 + Csh + CJ, 'fF'),\n",
    "                 sq.Inductor(l / (Lq + 4 * Lr), 'nH')],\n",
    "    }\n",
    "    return sq.Circuit(fluxonium_elements)\n",
    "\n",
    "def KIT_qubit_no_JJ(C = 15, CJ = 3, Csh= 15 , Lq = 25, Lr = 10, Δ = 0.1, φ_ext=0.5):\n",
    "\n",
    "    # Initialize loop(s)\n",
    "    # loop = sq.Loop(φ_ext)\n",
    "\n",
    "    # Circuit components\n",
    "    C_01 = sq.Capacitor(C,       'fF')\n",
    "    C_02 = sq.Capacitor(C,       'fF')\n",
    "    C_12 = sq.Capacitor(CJ+Csh,  'fF')\n",
    "    L_03 = sq.Inductor(Lr,       'nH')\n",
    "    L_31 = sq.Inductor(Lq/2 - Δ, 'nH')#,  loops=[loop])\n",
    "    L_23 = sq.Inductor(Lq/2 + Δ, 'nH')#,  loops=[loop])\n",
    "\n",
    "    elements = {\n",
    "        (0, 3): [L_03],\n",
    "        (0, 1): [C_01],\n",
    "        (0, 2): [C_02],\n",
    "        (3, 1): [L_31],\n",
    "        (1, 2): [C_12],\n",
    "        (2, 3): [L_23],\n",
    "    }\n",
    "\n",
    "    # Create and return the circuit\n",
    "    return sq.Circuit(elements)\n",
    "\n",
    "def sq_fluxonium(C = 15, CJ = 3, Csh= 15, Lq = 25, Lr = 10, Δ = 0.1, EJ = 10.0, φ_ext=0.5):\n",
    "    l = Lq * (Lq + 4 * Lr) - 4 * Δ ** 2\n",
    "    loop_fluxonium = sq.Loop(φ_ext)\n",
    "    fluxonium_elements = {\n",
    "        (0, 1): [sq.Capacitor(C / 2 + Csh + CJ, 'fF'),\n",
    "                 sq.Inductor(l / (Lq + 4 * Lr), 'nH', loops=[loop_fluxonium]),\n",
    "                 sq.Junction(EJ, 'GHz', loops=[loop_fluxonium])],\n",
    "    }\n",
    "    return sq.Circuit(fluxonium_elements)\n",
    "\n",
    "def sq_qubit(C = 15, CJ = 3, Csh= 15 , Lq = 25, Lr = 10, Δ = 0.1, EJ = 10.0, φ_ext=0.5):\n",
    "\n",
    "    # Initialize loop(s)\n",
    "    loop = sq.Loop(φ_ext)\n",
    "\n",
    "    # Circuit components\n",
    "    C_01 = sq.Capacitor(C,       'fF')\n",
    "    C_02 = sq.Capacitor(C,       'fF')\n",
    "    C_12 = sq.Capacitor(CJ+Csh,  'fF')\n",
    "    L_03 = sq.Inductor(Lr,       'nH')\n",
    "    L_31 = sq.Inductor(Lq/2 - Δ, 'nH',  loops=[loop])\n",
    "    L_23 = sq.Inductor(Lq/2 + Δ, 'nH',  loops=[loop])\n",
    "    JJ_12= sq.Junction(EJ,       'GHz', loops=[loop])\n",
    "\n",
    "    elements = {\n",
    "        (0, 3): [L_03],\n",
    "        (0, 1): [C_01],\n",
    "        (0, 2): [C_02],\n",
    "        (3, 1): [L_31],\n",
    "        (1, 2): [C_12, JJ_12],\n",
    "        (2, 3): [L_23],\n",
    "    }\n",
    "\n",
    "    # Create and return the circuit\n",
    "    return sq.Circuit(elements)\n"
   ],
   "outputs": [],
   "execution_count": 43
  },
  {
   "cell_type": "code",
   "metadata": {
    "ExecuteTime": {
     "end_time": "2024-05-14T13:30:56.346383Z",
     "start_time": "2024-05-14T13:30:56.252442Z"
    }
   },
   "source": [
    "n_eig = 4\n",
    "trunc_num = 20\n",
    "Δ=10\n",
    "\n",
    "res     = sq_resonator          (Δ=Δ)\n",
    "flu     = sq_fluxonium   (Δ=Δ)\n",
    "qubit   = sq_qubit      (Δ=Δ)\n",
    "# flu     = KIT_fluxonium_no_JJ    (Δ=Δ)\n",
    "# qubit   = KIT_qubit_no_JJ        (Δ=Δ)\n",
    "\n",
    "res_0   = sq_resonator          (Δ=0)\n",
    "flu_0   = sq_fluxonium    (Δ=0)\n",
    "qubit_0 = sq_qubit       (Δ=0)\n",
    "# flu_0   = KIT_fluxonium_no_JJ    (Δ=0)\n",
    "# qubit_0 = KIT_qubit_no_JJ        (Δ=0)\n",
    "#\n",
    "res     .set_trunc_nums([trunc_num])\n",
    "flu     .set_trunc_nums([trunc_num])\n",
    "# qubit   .set_trunc_nums([1, trunc_num,trunc_num])\n",
    "qubit   .set_trunc_nums( [trunc_num,trunc_num])\n",
    "res_0   .set_trunc_nums([trunc_num])\n",
    "flu_0   .set_trunc_nums([trunc_num])\n",
    "# qubit_0 .set_trunc_nums([1, trunc_num,trunc_num])\n",
    "qubit_0 .set_trunc_nums([trunc_num,trunc_num])\n",
    "\n",
    "_ = res     .diag(n_eig)\n",
    "_ = flu     .diag(n_eig)\n",
    "_ = qubit   .diag(n_eig)\n",
    "_ = res_0   .diag(n_eig)\n",
    "_ = flu_0   .diag(n_eig)\n",
    "_ = qubit_0 .diag(n_eig)\n"
   ],
   "outputs": [],
   "execution_count": 62
  },
  {
   "cell_type": "code",
   "metadata": {
    "ExecuteTime": {
     "end_time": "2024-05-14T13:30:56.550259Z",
     "start_time": "2024-05-14T13:30:56.548180Z"
    }
   },
   "source": [
    "l = Lq*(Lq+4*Lr) - 4*Δ**2\n",
    "L_r = l/Lq * 1e-9\n",
    "L_f = l/(Lq+4*Lr) * 1e-9\n",
    "L_c = l/Δ * 1e-9\n",
    "\n",
    "L_r_0 = (Lq+4*Lr) * 1e-9\n",
    "L_f_0 = Lq * 1e-9\n"
   ],
   "outputs": [],
   "execution_count": 63
  },
  {
   "cell_type": "code",
   "metadata": {
    "ExecuteTime": {
     "end_time": "2024-05-14T13:30:56.851887Z",
     "start_time": "2024-05-14T13:30:56.849504Z"
    }
   },
   "source": [
    "Q_res = res.charge_op(0)\n",
    "Φ_res = res.flux_op(0)\n",
    "\n",
    "Q_res_0 = res_0.charge_op(0)\n",
    "Φ_res_0 = res_0.flux_op(0)\n",
    "\n",
    "Q_flu = flu.charge_op(0)\n",
    "Φ_flu = flu.flux_op(0)\n",
    "\n",
    "Q_flu_0 = flu_0.charge_op(0)\n",
    "Φ_flu_0 = flu_0.flux_op(0)\n"
   ],
   "outputs": [],
   "execution_count": 64
  },
  {
   "cell_type": "code",
   "metadata": {
    "ExecuteTime": {
     "end_time": "2024-05-14T13:30:57.140283Z",
     "start_time": "2024-05-14T13:30:57.134221Z"
    }
   },
   "source": [
    "H_res_0 = 1/2 * Q_res_0**2 / C_r  + 1/2 * Φ_res_0**2 / L_r_0\n",
    "# H_res = 1/2 * Q_res**2 / C_r  + 1/2 * Φ_res**2 / L_r\n",
    "H_res = res.hamiltonian()\n",
    "\n",
    "H_flu_0 = 1/2 * Q_flu_0**2 / C_f + 1/2 * Φ_flu_0**2 / L_f_0\n",
    "# H_flu = 1/2 * Q_flu**2 / C_f + 1/2 * Φ_flu**2 / L_f\n",
    "H_flu = flu.hamiltonian()\n",
    "\n",
    "I_res = qt.identity(H_res.shape[0])\n",
    "I_flu = qt.identity(H_flu.shape[0])\n",
    "\n",
    "H_qubit_0 = qt.tensor(H_res_0,I_res) + qt.tensor(I_res,H_flu_0)\n",
    "H_qubit = qt.tensor(H_res,I_flu) + qt.tensor(I_res,H_flu) + qt.tensor(Φ_res,Φ_flu) * 2 * Δ / l / 1e-9\n"
   ],
   "outputs": [],
   "execution_count": 65
  },
  {
   "cell_type": "code",
   "metadata": {
    "ExecuteTime": {
     "end_time": "2024-05-14T13:30:57.518055Z",
     "start_time": "2024-05-14T13:30:57.514221Z"
    }
   },
   "source": [
    "Φ, Q = sq_ext.get_node_variables(qubit , 'FC', isolated='True')\n"
   ],
   "outputs": [],
   "execution_count": 66
  },
  {
   "cell_type": "code",
   "metadata": {
    "ExecuteTime": {
     "end_time": "2024-05-14T13:31:42.613917Z",
     "start_time": "2024-05-14T13:31:42.601528Z"
    }
   },
   "source": [
    "E, ψ = sq_ext.diag(H_qubit , n_eig, out='GHz')\n",
    "ψ_sq = np.array([ψ_i.__array__()[:, 0] for ψ_i in qubit._evecs])\n",
    "\n",
    "print( E-E[0])\n",
    "print( qubit.efreqs -qubit.efreqs[0] )\n",
    "for i in range(n_eig):\n",
    "    print(f'Energy error in state{i} = {np.abs((E-E[0])[i]- (qubit.efreqs[i]-qubit.efreqs[0]))}')\n",
    "    print(f'Wavefunction error in state{i} = {1 - np.abs(ψ[:,i].conj().T @ qubit._evecs[i].__array__())[0]}')\n",
    "\n"
   ],
   "outputs": [
    {
     "name": "stdout",
     "output_type": "stream",
     "text": [
      "[0.000000 1.699355 5.320950 8.641732]\n",
      "[0.000000 1.699355 5.320950 8.641732]\n",
      "Energy error in state0 = 0.0\n",
      "Wavefunction error in state0 = 0.012107992820037716\n",
      "Energy error in state1 = 3.1000439548733993e-08\n",
      "Wavefunction error in state1 = 0.04357105839814435\n",
      "Energy error in state2 = 2.565301571166856e-08\n",
      "Wavefunction error in state2 = 0.14309355272952817\n",
      "Energy error in state3 = 1.199621735281653e-09\n",
      "Wavefunction error in state3 = 0.7640292945706324\n"
     ]
    }
   ],
   "execution_count": 72
  },
  {
   "cell_type": "code",
   "metadata": {
    "ExecuteTime": {
     "end_time": "2024-05-14T13:32:06.774217Z",
     "start_time": "2024-05-14T13:32:06.761583Z"
    }
   },
   "source": [
    "E, ψ = sq_ext.diag(H_qubit , n_eig, out='GHz')\n",
    "ψ_sq = np.array([ψ_i.__array__()[:, 0] for ψ_i in qubit._evecs])\n",
    "\n",
    "print( E-E[0])\n",
    "print( qubit.efreqs -qubit.efreqs[0] )\n",
    "for i in range(n_eig):\n",
    "    print(f'Energy error in state{i} = {np.abs((E-E[0])[i]- (qubit.efreqs[i]-qubit.efreqs[0]))}')\n",
    "    print(f'Wavefunction error in state{i} = {1 - np.abs(ψ[:,i].conj().T @ qubit._evecs[i].__array__())[0]}')\n",
    "\n"
   ],
   "outputs": [
    {
     "name": "stdout",
     "output_type": "stream",
     "text": [
      "[0.000000 1.699355 5.320950 8.641732]\n",
      "[0.000000 1.699355 5.320950 8.641732]\n",
      "Energy error in state0 = 0.0\n",
      "Wavefunction error in state0 = 0.01210799282003927\n",
      "Energy error in state1 = 3.100059053906534e-08\n",
      "Wavefunction error in state1 = 0.043571058398148343\n",
      "Energy error in state2 = 2.5653076107801098e-08\n",
      "Wavefunction error in state2 = 0.14309355272953217\n",
      "Energy error in state3 = 1.199817134533987e-09\n",
      "Wavefunction error in state3 = 0.7640292945706321\n"
     ]
    }
   ],
   "execution_count": 74
  },
  {
   "cell_type": "code",
   "metadata": {
    "ExecuteTime": {
     "end_time": "2024-05-14T13:30:58.703830Z",
     "start_time": "2024-05-14T13:30:58.694795Z"
    }
   },
   "source": [
    "E = sq_ext.diag(H_qubit_0 , n_eig, out='GHz')[0]\n",
    "\n",
    "print( E-E [0])\n",
    "print( qubit_0.efreqs )\n",
    "\n",
    "print( (E-E[0])[1])\n",
    "print( qubit_0.efreqs[1] )\n"
   ],
   "outputs": [
    {
     "name": "stdout",
     "output_type": "stream",
     "text": [
      "[0.000000 6.303475 7.208299 12.606950]\n",
      "[6.706952 8.652341 12.868154 13.915251]\n",
      "6.303475034201443\n",
      "8.652340971053187\n"
     ]
    }
   ],
   "execution_count": 69
  },
  {
   "cell_type": "code",
   "metadata": {
    "ExecuteTime": {
     "end_time": "2024-05-14T13:30:59.026968Z",
     "start_time": "2024-05-14T13:30:59.023858Z"
    }
   },
   "source": [
    "E = sq_ext.diag(H_res , n_eig, out='GHz')[0]\n",
    "print(E-E[0] )\n",
    "print( res.efreqs )\n",
    "\n",
    "print( (E-E[0])[1])\n",
    "print( res.efreqs[1] )\n"
   ],
   "outputs": [
    {
     "name": "stdout",
     "output_type": "stream",
     "text": [
      "[0.000000 8.302167 16.604334 24.906501]\n",
      "[0.000000 8.302167 16.604334 24.906501]\n",
      "8.302166901893436\n",
      "8.302166901893532\n"
     ]
    }
   ],
   "execution_count": 70
  },
  {
   "cell_type": "code",
   "metadata": {
    "ExecuteTime": {
     "end_time": "2024-05-14T13:30:59.610431Z",
     "start_time": "2024-05-14T13:30:59.607384Z"
    }
   },
   "source": [
    "E = sq_ext.diag(H_flu_0, n_eig, out='GHz')[0]\n",
    "print(E-E[0])\n",
    "print( flu_0.efreqs )\n"
   ],
   "outputs": [
    {
     "name": "stdout",
     "output_type": "stream",
     "text": [
      "[0.000000 6.303475 12.606950 18.910425]\n",
      "[6.706952 8.652341 12.868154 17.500105]\n"
     ]
    }
   ],
   "execution_count": 71
  },
  {
   "cell_type": "code",
   "metadata": {
    "ExecuteTime": {
     "end_time": "2024-05-14T13:30:03.213919Z",
     "start_time": "2024-05-14T13:30:03.210813Z"
    }
   },
   "source": [
    "E = sq_ext.diag(H_res_0 , n_eig, out='GHz')[0]\n",
    "print(E-E[0] )\n",
    "print( res_0.efreqs )\n",
    "\n",
    "\n",
    "\n",
    "\n"
   ],
   "outputs": [
    {
     "name": "stdout",
     "output_type": "stream",
     "text": [
      "[0.000000 7.208299 14.416599 21.624898]\n",
      "[0.000000 7.208299 14.416599 21.624898]\n"
     ]
    }
   ],
   "execution_count": 61
  },
  {
   "metadata": {},
   "cell_type": "code",
   "outputs": [],
   "execution_count": null,
   "source": ""
  }
 ],
 "metadata": {
  "kernelspec": {
   "display_name": "Python 3 (ipykernel)",
   "language": "python",
   "name": "python3"
  },
  "language_info": {
   "codemirror_mode": {
    "name": "ipython",
    "version": 3
   },
   "file_extension": ".py",
   "mimetype": "text/x-python",
   "name": "python",
   "nbconvert_exporter": "python",
   "pygments_lexer": "ipython3",
   "version": "3.8.17"
  }
 },
 "nbformat": 4,
 "nbformat_minor": 1
}
