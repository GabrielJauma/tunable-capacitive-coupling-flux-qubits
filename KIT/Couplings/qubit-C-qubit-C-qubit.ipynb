{
 "cells": [
  {
   "cell_type": "code",
   "source": [
    "import Modules.SQcircuit_extensions as sq_ext\n",
    "import SQcircuit as sq\n",
    "import numpy as np\n",
    "import matplotlib.pyplot as plt\n",
    "%matplotlib ipympl\n",
    "import importlib\n",
    "import qutip as qt\n",
    "importlib.reload(sq_ext)"
   ],
   "metadata": {
    "collapsed": false,
    "ExecuteTime": {
     "end_time": "2024-06-26T09:12:30.152099Z",
     "start_time": "2024-06-26T09:12:29.824922Z"
    }
   },
   "outputs": [
    {
     "data": {
      "text/plain": [
       "<module 'Modules.SQcircuit_extensions' from '/home/gabriel/PycharmProjects/tunable-capacitive-coupling-flux-qubits/Modules/SQcircuit_extensions.py'>"
      ]
     },
     "execution_count": 1,
     "metadata": {},
     "output_type": "execute_result"
    }
   ],
   "execution_count": 1
  },
  {
   "cell_type": "markdown",
   "source": [
    "## Define the circuit"
   ],
   "metadata": {
    "collapsed": false
   }
  },
  {
   "cell_type": "code",
   "source": [
    "# Circuit parameters\n",
    "Csh = 15\n",
    "C   = 15\n",
    "CJ  = 3\n",
    "Lq  = 25\n",
    "Lr  = 10\n",
    "Δ   = 0.1\n",
    "EJ  = 10.0"
   ],
   "metadata": {
    "collapsed": false,
    "ExecuteTime": {
     "end_time": "2024-06-26T09:11:56.042468Z",
     "start_time": "2024-06-26T09:11:56.040495Z"
    }
   },
   "outputs": [],
   "execution_count": 2
  },
  {
   "cell_type": "code",
   "source": [
    "Cc = 1e-1"
   ],
   "metadata": {
    "collapsed": false,
    "ExecuteTime": {
     "end_time": "2024-06-26T09:11:56.044392Z",
     "start_time": "2024-06-26T09:11:56.042920Z"
    }
   },
   "outputs": [],
   "execution_count": 3
  },
  {
   "cell_type": "code",
   "source": [
    "nmax_r = 3\n",
    "nmax_f = 8"
   ],
   "metadata": {
    "collapsed": false,
    "ExecuteTime": {
     "end_time": "2024-06-26T09:11:56.046056Z",
     "start_time": "2024-06-26T09:11:56.044751Z"
    }
   },
   "outputs": [],
   "execution_count": 4
  },
  {
   "cell_type": "code",
   "source": [
    "# Initialize loop(s)\n",
    "loop1 = sq.Loop(0.5)  # \"Value\" corresponds to phiExt / phi0 threading the loop (can change later)\n",
    "loop2 = sq.Loop(0.5)\n",
    "loop3 = sq.Loop(0.5)\n",
    "\n",
    "# Circuit elements\n",
    "# Elements for the three qubits decoupled\n",
    "C_01, C_02, C_12, L_03, L_31, L_23, JJ = [[] for _ in range(7)]\n",
    "for loop in [loop1, loop2, loop3]:\n",
    "    C_01.append(sq.Capacitor(C,       'fF'))\n",
    "    C_02.append(sq.Capacitor(C,       'fF'))\n",
    "    C_12.append(sq.Capacitor(CJ+Csh,  'fF'))\n",
    "    L_03.append(sq.Inductor(Lr,       'nH'))\n",
    "    L_31.append(sq.Inductor(Lq/2 - Δ, 'nH', loops=[loop]))\n",
    "    L_23.append(sq.Inductor(Lq/2 + Δ, 'nH', loops=[loop]))\n",
    "    JJ  .append(sq.Junction(EJ,      'GHz', loops=[loop]))\n",
    "# Capacitors for coupling\n",
    "C_coupling = sq.Capacitor(Cc, 'fF')\n",
    "\n",
    "# Create the circuit\n",
    "elements = {\n",
    "    # qubit 1, nodes [0, 1, 2, 3]\n",
    "    (0, 3): [L_03[0]],\n",
    "    (0, 1): [C_01[0]],\n",
    "    (0, 2): [C_02[0]],\n",
    "    (3, 1): [L_31[0]],\n",
    "    (1, 2): [C_12[0], JJ[0]],\n",
    "    (2, 3): [L_23[0]],\n",
    "    # qubit 2, nodes [0, 4, 5, 6]\n",
    "    (0, 6): [L_03[1]],\n",
    "    (0, 4): [C_01[1]],\n",
    "    (0, 5): [C_02[1]],\n",
    "    (6, 4): [L_31[1]],\n",
    "    (4, 5): [C_12[1], JJ[1]],\n",
    "    (5, 6): [L_23[1]],\n",
    "    # qubit 3, nodes [0,7, 8, 9]\n",
    "    (0, 9): [L_03[2]],\n",
    "    (0, 7): [C_01[2]],\n",
    "    (0, 8): [C_02[2]],\n",
    "    (9, 7): [L_31[2]],\n",
    "    (7, 8): [C_12[2], JJ[2]],\n",
    "    (8, 9): [L_23[2]],\n",
    "    # capacitive coupling\n",
    "    (2, 4): [C_coupling],\n",
    "    (5, 7): [C_coupling],\n",
    "    (8, 1): [C_coupling],\n",
    "}\n",
    "\n",
    "qubit_qubit_qubit = sq.Circuit(elements)\n",
    "qubit_qubit_qubit.description()"
   ],
   "metadata": {
    "collapsed": false,
    "ExecuteTime": {
     "end_time": "2024-06-26T09:11:56.260426Z",
     "start_time": "2024-06-26T09:11:56.247894Z"
    }
   },
   "outputs": [
    {
     "data": {
      "text/plain": [
       "<IPython.core.display.Latex object>"
      ],
      "text/latex": "$\\hat{H} =~\\omega_1\\hat a^\\dagger_1\\hat a_1~+~\\omega_2\\hat a^\\dagger_2\\hat a_2~+~\\omega_3\\hat a^\\dagger_3\\hat a_3~+~\\omega_4\\hat a^\\dagger_4\\hat a_4~+~\\omega_5\\hat a^\\dagger_5\\hat a_5~+~\\omega_6\\hat a^\\dagger_6\\hat a_6~~-~E_{J_{1}}\\cos((1+1e-06j)\\hat{\\varphi}_1-(0.100339-0.481955j)\\hat{\\varphi}_2+(0.970964+0.239225j)\\hat{\\varphi}_3-(0.153289+0.004688j)\\hat{\\varphi}_4-(1-0.000577j)\\hat{\\varphi}_5+\\hat{\\varphi}_6+\\varphi_{\\text{ext}_{1}})~-~E_{J_{2}}\\cos((0.999999-0j)\\hat{\\varphi}_1-(0.543582+0.839356j)\\hat{\\varphi}_2-(0.163579+0.416628j)\\hat{\\varphi}_3-(0.785612+0.339503j)\\hat{\\varphi}_4+(0.616644+0.0418j)\\hat{\\varphi}_5+(0.999998-2e-06j)\\hat{\\varphi}_6+\\varphi_{\\text{ext}_{2}})~-~E_{J_{3}}\\cos((0.999999+1e-06j)\\hat{\\varphi}_1+(0.643921+0.357403j)\\hat{\\varphi}_2-(0.807382-0.177402j)\\hat{\\varphi}_3+(0.9389+0.344191j)\\hat{\\varphi}_4+(0.383358-0.042378j)\\hat{\\varphi}_5+(0.999999-1e-06j)\\hat{\\varphi}_6+\\varphi_{\\text{ext}_{3}})$"
     },
     "metadata": {},
     "output_type": "display_data"
    },
    {
     "data": {
      "text/plain": [
       "<IPython.core.display.Latex object>"
      ],
      "text/latex": "$------------------------------------------------------------$"
     },
     "metadata": {},
     "output_type": "display_data"
    },
    {
     "data": {
      "text/plain": [
       "<IPython.core.display.Latex object>"
      ],
      "text/latex": "$\\text{mode}~1:~~~~~~~~~~~\\text{harmonic}~~~~~~~~~~~\\hat{\\varphi}_1~=~\\varphi_{zp_{1}}(\\hat a_1+\\hat a^\\dagger_1)~~~~~~~~~~~\\omega_1/2\\pi~=~(12.85293-0j)~~~~~~~~~~~\\varphi_{zp_{1}}~=~5.09e-03-1.52e-09j$"
     },
     "metadata": {},
     "output_type": "display_data"
    },
    {
     "data": {
      "text/plain": [
       "<IPython.core.display.Latex object>"
      ],
      "text/latex": "$\\text{mode}~2:~~~~~~~~~~~\\text{harmonic}~~~~~~~~~~~\\hat{\\varphi}_2~=~\\varphi_{zp_{2}}(\\hat a_2+\\hat a^\\dagger_2)~~~~~~~~~~~\\omega_2/2\\pi~=~(5.43038-2.82003j)~~~~~~~~~~~\\varphi_{zp_{2}}~=~8.28e-03-6.67e-03j$"
     },
     "metadata": {},
     "output_type": "display_data"
    },
    {
     "data": {
      "text/plain": [
       "<IPython.core.display.Latex object>"
      ],
      "text/latex": "$\\text{mode}~3:~~~~~~~~~~~\\text{harmonic}~~~~~~~~~~~\\hat{\\varphi}_3~=~\\varphi_{zp_{3}}(\\hat a_3+\\hat a^\\dagger_3)~~~~~~~~~~~\\omega_3/2\\pi~=~(12.46895-1.22816j)~~~~~~~~~~~\\varphi_{zp_{3}}~=~7.22e-03-4.67e-04j$"
     },
     "metadata": {},
     "output_type": "display_data"
    },
    {
     "data": {
      "text/plain": [
       "<IPython.core.display.Latex object>"
      ],
      "text/latex": "$\\text{mode}~4:~~~~~~~~~~~\\text{harmonic}~~~~~~~~~~~\\hat{\\varphi}_4~=~\\varphi_{zp_{4}}(\\hat a_4+\\hat a^\\dagger_4)~~~~~~~~~~~\\omega_4/2\\pi~=~(6.27393-0.00027j)~~~~~~~~~~~\\varphi_{zp_{4}}~=~4.88e-01-1.90e-01j$"
     },
     "metadata": {},
     "output_type": "display_data"
    },
    {
     "data": {
      "text/plain": [
       "<IPython.core.display.Latex object>"
      ],
      "text/latex": "$\\text{mode}~5:~~~~~~~~~~~\\text{harmonic}~~~~~~~~~~~\\hat{\\varphi}_5~=~\\varphi_{zp_{5}}(\\hat a_5+\\hat a^\\dagger_5)~~~~~~~~~~~\\omega_5/2\\pi~=~(6.27425-0.00027j)~~~~~~~~~~~\\varphi_{zp_{5}}~=~5.61e-01-3.28e-03j$"
     },
     "metadata": {},
     "output_type": "display_data"
    },
    {
     "data": {
      "text/plain": [
       "<IPython.core.display.Latex object>"
      ],
      "text/latex": "$\\text{mode}~6:~~~~~~~~~~~\\text{harmonic}~~~~~~~~~~~\\hat{\\varphi}_6~=~\\varphi_{zp_{6}}(\\hat a_6+\\hat a^\\dagger_6)~~~~~~~~~~~\\omega_6/2\\pi~=~(6.29263+0j)~~~~~~~~~~~\\varphi_{zp_{6}}~=~4.00e-01+3.43e-07j$"
     },
     "metadata": {},
     "output_type": "display_data"
    },
    {
     "data": {
      "text/plain": [
       "<IPython.core.display.Latex object>"
      ],
      "text/latex": "$------------------------------------------------------------$"
     },
     "metadata": {},
     "output_type": "display_data"
    },
    {
     "data": {
      "text/plain": [
       "<IPython.core.display.Latex object>"
      ],
      "text/latex": "$\\text{parameters}:~~~~~~~~~~~E_{J_{1}}~=~10.0~~~~~~~~~~~E_{J_{2}}~=~10.0~~~~~~~~~~~E_{J_{3}}~=~10.0~~~~~~~~~~~$"
     },
     "metadata": {},
     "output_type": "display_data"
    },
    {
     "data": {
      "text/plain": [
       "<IPython.core.display.Latex object>"
      ],
      "text/latex": "$\\text{loops}:~~~~~~~~~~~~~~~~~~~~\\varphi_{\\text{ext}_{1}}/2\\pi~=~0.5~~~~~~~~~~~\\varphi_{\\text{ext}_{2}}/2\\pi~=~0.5~~~~~~~~~~~\\varphi_{\\text{ext}_{3}}/2\\pi~=~0.5~~~~~~~~~~~$"
     },
     "metadata": {},
     "output_type": "display_data"
    }
   ],
   "execution_count": 5
  },
  {
   "cell_type": "code",
   "source": [
    "qubit_qubit_qubit.set_trunc_nums([nmax_r, nmax_r, nmax_r, nmax_f, nmax_f, nmax_f])\n",
    "qubit_qubit_qubit.diag(4);"
   ],
   "metadata": {
    "collapsed": false,
    "ExecuteTime": {
     "end_time": "2024-06-26T09:12:02.919528Z",
     "start_time": "2024-06-26T09:11:56.522881Z"
    }
   },
   "outputs": [
    {
     "ename": "KeyboardInterrupt",
     "evalue": "",
     "output_type": "error",
     "traceback": [
      "\u001B[0;31m---------------------------------------------------------------------------\u001B[0m",
      "\u001B[0;31mKeyboardInterrupt\u001B[0m                         Traceback (most recent call last)",
      "Cell \u001B[0;32mIn[6], line 1\u001B[0m\n\u001B[0;32m----> 1\u001B[0m \u001B[43mqubit_qubit_qubit\u001B[49m\u001B[38;5;241;43m.\u001B[39;49m\u001B[43mset_trunc_nums\u001B[49m\u001B[43m(\u001B[49m\u001B[43m[\u001B[49m\u001B[43mnmax_r\u001B[49m\u001B[43m,\u001B[49m\u001B[43m \u001B[49m\u001B[43mnmax_r\u001B[49m\u001B[43m,\u001B[49m\u001B[43m \u001B[49m\u001B[43mnmax_r\u001B[49m\u001B[43m,\u001B[49m\u001B[43m \u001B[49m\u001B[43mnmax_f\u001B[49m\u001B[43m,\u001B[49m\u001B[43m \u001B[49m\u001B[43mnmax_f\u001B[49m\u001B[43m,\u001B[49m\u001B[43m \u001B[49m\u001B[43mnmax_f\u001B[49m\u001B[43m]\u001B[49m\u001B[43m)\u001B[49m\n\u001B[1;32m      2\u001B[0m qubit_qubit_qubit\u001B[38;5;241m.\u001B[39mdiag(\u001B[38;5;241m4\u001B[39m)\n",
      "File \u001B[0;32m~/anaconda3/envs/tunable-cc/lib/python3.8/site-packages/SQcircuit/circuit.py:968\u001B[0m, in \u001B[0;36mCircuit.set_trunc_nums\u001B[0;34m(self, nums)\u001B[0m\n\u001B[1;32m    964\u001B[0m \u001B[38;5;28mself\u001B[39m\u001B[38;5;241m.\u001B[39m_build_op_memory()\n\u001B[1;32m    966\u001B[0m \u001B[38;5;28mself\u001B[39m\u001B[38;5;241m.\u001B[39m_LC_hamil \u001B[38;5;241m=\u001B[39m \u001B[38;5;28mself\u001B[39m\u001B[38;5;241m.\u001B[39m_get_LC_hamil()\n\u001B[0;32m--> 968\u001B[0m \u001B[38;5;28;43mself\u001B[39;49m\u001B[38;5;241;43m.\u001B[39;49m\u001B[43m_build_exp_ops\u001B[49m\u001B[43m(\u001B[49m\u001B[43m)\u001B[49m\n",
      "File \u001B[0;32m~/anaconda3/envs/tunable-cc/lib/python3.8/site-packages/SQcircuit/circuit.py:1293\u001B[0m, in \u001B[0;36mCircuit._build_exp_ops\u001B[0;34m(self)\u001B[0m\n\u001B[1;32m   1290\u001B[0m             exp\u001B[38;5;241m.\u001B[39mappend(qt\u001B[38;5;241m.\u001B[39mdisplace(\u001B[38;5;28mself\u001B[39m\u001B[38;5;241m.\u001B[39mm[j], \u001B[38;5;28mself\u001B[39m\u001B[38;5;241m.\u001B[39malpha(i, j)))\n\u001B[1;32m   1291\u001B[0m             exp_h\u001B[38;5;241m.\u001B[39mappend(qt\u001B[38;5;241m.\u001B[39mdisplace(\u001B[38;5;28mself\u001B[39m\u001B[38;5;241m.\u001B[39mm[j], \u001B[38;5;28mself\u001B[39m\u001B[38;5;241m.\u001B[39malpha(i, j)\u001B[38;5;241m/\u001B[39m\u001B[38;5;241m2\u001B[39m))\n\u001B[0;32m-> 1293\u001B[0m     exp_ops\u001B[38;5;241m.\u001B[39mappend(\u001B[38;5;28;43mself\u001B[39;49m\u001B[38;5;241;43m.\u001B[39;49m\u001B[43m_squeeze_op\u001B[49m\u001B[43m(\u001B[49m\u001B[43mqt\u001B[49m\u001B[38;5;241;43m.\u001B[39;49m\u001B[43mtensor\u001B[49m\u001B[43m(\u001B[49m\u001B[38;5;241;43m*\u001B[39;49m\u001B[43mexp\u001B[49m\u001B[43m)\u001B[49m\u001B[43m)\u001B[49m)\n\u001B[1;32m   1294\u001B[0m     root_exp_ops\u001B[38;5;241m.\u001B[39mappend(\u001B[38;5;28mself\u001B[39m\u001B[38;5;241m.\u001B[39m_squeeze_op(qt\u001B[38;5;241m.\u001B[39mtensor(\u001B[38;5;241m*\u001B[39mexp_h)))\n\u001B[1;32m   1296\u001B[0m \u001B[38;5;28mself\u001B[39m\u001B[38;5;241m.\u001B[39m_memory_ops[\u001B[38;5;124m\"\u001B[39m\u001B[38;5;124mexp\u001B[39m\u001B[38;5;124m\"\u001B[39m] \u001B[38;5;241m=\u001B[39m exp_ops\n",
      "File \u001B[0;32m~/anaconda3/envs/tunable-cc/lib/python3.8/site-packages/SQcircuit/circuit.py:1022\u001B[0m, in \u001B[0;36mCircuit._squeeze_op\u001B[0;34m(self, op)\u001B[0m\n\u001B[1;32m   1012\u001B[0m \u001B[38;5;28;01mdef\u001B[39;00m \u001B[38;5;21m_squeeze_op\u001B[39m(\u001B[38;5;28mself\u001B[39m, op: Qobj) \u001B[38;5;241m-\u001B[39m\u001B[38;5;241m>\u001B[39m Qobj:\n\u001B[1;32m   1013\u001B[0m \u001B[38;5;250m    \u001B[39m\u001B[38;5;124;03m\"\"\"\u001B[39;00m\n\u001B[1;32m   1014\u001B[0m \u001B[38;5;124;03m    Return the same Quantum operator with squeezed dimensions.\u001B[39;00m\n\u001B[1;32m   1015\u001B[0m \n\u001B[0;32m   (...)\u001B[0m\n\u001B[1;32m   1019\u001B[0m \u001B[38;5;124;03m            Any quantum operator in qutip.Qobj format\u001B[39;00m\n\u001B[1;32m   1020\u001B[0m \u001B[38;5;124;03m    \"\"\"\u001B[39;00m\n\u001B[0;32m-> 1022\u001B[0m     op_sq \u001B[38;5;241m=\u001B[39m \u001B[43mop\u001B[49m\u001B[38;5;241;43m.\u001B[39;49m\u001B[43mcopy\u001B[49m\u001B[43m(\u001B[49m\u001B[43m)\u001B[49m\n\u001B[1;32m   1024\u001B[0m     op_sq\u001B[38;5;241m.\u001B[39mdims \u001B[38;5;241m=\u001B[39m [\u001B[38;5;28mself\u001B[39m\u001B[38;5;241m.\u001B[39mms, \u001B[38;5;28mself\u001B[39m\u001B[38;5;241m.\u001B[39mms]\n\u001B[1;32m   1026\u001B[0m     \u001B[38;5;28;01mreturn\u001B[39;00m op_sq\n",
      "File \u001B[0;32m~/anaconda3/envs/tunable-cc/lib/python3.8/site-packages/qutip/qobj.py:347\u001B[0m, in \u001B[0;36mQobj.copy\u001B[0;34m(self)\u001B[0m\n\u001B[1;32m    345\u001B[0m \u001B[38;5;28;01mdef\u001B[39;00m \u001B[38;5;21mcopy\u001B[39m(\u001B[38;5;28mself\u001B[39m):\n\u001B[1;32m    346\u001B[0m \u001B[38;5;250m    \u001B[39m\u001B[38;5;124;03m\"\"\"Create identical copy\"\"\"\u001B[39;00m\n\u001B[0;32m--> 347\u001B[0m     \u001B[38;5;28;01mreturn\u001B[39;00m \u001B[43mQobj\u001B[49m\u001B[43m(\u001B[49m\u001B[43minpt\u001B[49m\u001B[38;5;241;43m=\u001B[39;49m\u001B[38;5;28;43mself\u001B[39;49m\u001B[43m)\u001B[49m\n",
      "File \u001B[0;32m~/anaconda3/envs/tunable-cc/lib/python3.8/site-packages/qutip/qobj.py:217\u001B[0m, in \u001B[0;36mQobj.__init__\u001B[0;34m(self, inpt, dims, shape, type, isherm, copy, fast, superrep, isunitary)\u001B[0m\n\u001B[1;32m    212\u001B[0m     \u001B[38;5;28;01mreturn\u001B[39;00m\n\u001B[1;32m    214\u001B[0m \u001B[38;5;28;01mif\u001B[39;00m \u001B[38;5;28misinstance\u001B[39m(inpt, Qobj):\n\u001B[1;32m    215\u001B[0m     \u001B[38;5;66;03m# if input is already Qobj then return identical copy\u001B[39;00m\n\u001B[0;32m--> 217\u001B[0m     \u001B[38;5;28mself\u001B[39m\u001B[38;5;241m.\u001B[39m_data \u001B[38;5;241m=\u001B[39m \u001B[43mfast_csr_matrix\u001B[49m\u001B[43m(\u001B[49m\n\u001B[1;32m    218\u001B[0m \u001B[43m        \u001B[49m\u001B[43m(\u001B[49m\u001B[43minpt\u001B[49m\u001B[38;5;241;43m.\u001B[39;49m\u001B[43mdata\u001B[49m\u001B[38;5;241;43m.\u001B[39;49m\u001B[43mdata\u001B[49m\u001B[43m,\u001B[49m\u001B[43m \u001B[49m\u001B[43minpt\u001B[49m\u001B[38;5;241;43m.\u001B[39;49m\u001B[43mdata\u001B[49m\u001B[38;5;241;43m.\u001B[39;49m\u001B[43mindices\u001B[49m\u001B[43m,\u001B[49m\u001B[43m \u001B[49m\u001B[43minpt\u001B[49m\u001B[38;5;241;43m.\u001B[39;49m\u001B[43mdata\u001B[49m\u001B[38;5;241;43m.\u001B[39;49m\u001B[43mindptr\u001B[49m\u001B[43m)\u001B[49m\u001B[43m,\u001B[49m\n\u001B[1;32m    219\u001B[0m \u001B[43m        \u001B[49m\u001B[43mshape\u001B[49m\u001B[38;5;241;43m=\u001B[39;49m\u001B[43minpt\u001B[49m\u001B[38;5;241;43m.\u001B[39;49m\u001B[43mshape\u001B[49m\u001B[43m,\u001B[49m\u001B[43m \u001B[49m\u001B[43mcopy\u001B[49m\u001B[38;5;241;43m=\u001B[39;49m\u001B[43mcopy\u001B[49m\u001B[43m,\u001B[49m\n\u001B[1;32m    220\u001B[0m \u001B[43m    \u001B[49m\u001B[43m)\u001B[49m\n\u001B[1;32m    222\u001B[0m     \u001B[38;5;28;01mif\u001B[39;00m dims \u001B[38;5;129;01mis\u001B[39;00m \u001B[38;5;28;01mNone\u001B[39;00m:\n\u001B[1;32m    223\u001B[0m         \u001B[38;5;66;03m# Dimensions of quantum object used for keeping track of tensor\u001B[39;00m\n\u001B[1;32m    224\u001B[0m         \u001B[38;5;66;03m# components\u001B[39;00m\n\u001B[1;32m    225\u001B[0m         \u001B[38;5;28mself\u001B[39m\u001B[38;5;241m.\u001B[39mdims \u001B[38;5;241m=\u001B[39m inpt\u001B[38;5;241m.\u001B[39mdims\n",
      "File \u001B[0;32m~/anaconda3/envs/tunable-cc/lib/python3.8/site-packages/qutip/fastsparse.py:46\u001B[0m, in \u001B[0;36mfast_csr_matrix.__init__\u001B[0;34m(self, args, shape, dtype, copy)\u001B[0m\n\u001B[1;32m     44\u001B[0m \u001B[38;5;28;01mif\u001B[39;00m args[\u001B[38;5;241m2\u001B[39m]\u001B[38;5;241m.\u001B[39mshape[\u001B[38;5;241m0\u001B[39m] \u001B[38;5;129;01mand\u001B[39;00m args[\u001B[38;5;241m1\u001B[39m]\u001B[38;5;241m.\u001B[39mdtype \u001B[38;5;241m!=\u001B[39m np\u001B[38;5;241m.\u001B[39mint32:\n\u001B[1;32m     45\u001B[0m     \u001B[38;5;28;01mraise\u001B[39;00m \u001B[38;5;167;01mTypeError\u001B[39;00m(\u001B[38;5;124m'\u001B[39m\u001B[38;5;124mfast_csr_matrix allows only int32 indptr.\u001B[39m\u001B[38;5;124m'\u001B[39m)\n\u001B[0;32m---> 46\u001B[0m \u001B[38;5;28mself\u001B[39m\u001B[38;5;241m.\u001B[39mdata \u001B[38;5;241m=\u001B[39m \u001B[43mnp\u001B[49m\u001B[38;5;241;43m.\u001B[39;49m\u001B[43marray\u001B[49m\u001B[43m(\u001B[49m\u001B[43margs\u001B[49m\u001B[43m[\u001B[49m\u001B[38;5;241;43m0\u001B[39;49m\u001B[43m]\u001B[49m\u001B[43m,\u001B[49m\u001B[43m \u001B[49m\u001B[43mdtype\u001B[49m\u001B[38;5;241;43m=\u001B[39;49m\u001B[38;5;28;43mcomplex\u001B[39;49m\u001B[43m,\u001B[49m\u001B[43m \u001B[49m\u001B[43mcopy\u001B[49m\u001B[38;5;241;43m=\u001B[39;49m\u001B[43mcopy\u001B[49m\u001B[43m)\u001B[49m\n\u001B[1;32m     47\u001B[0m \u001B[38;5;28mself\u001B[39m\u001B[38;5;241m.\u001B[39mindices \u001B[38;5;241m=\u001B[39m np\u001B[38;5;241m.\u001B[39marray(args[\u001B[38;5;241m1\u001B[39m], dtype\u001B[38;5;241m=\u001B[39mnp\u001B[38;5;241m.\u001B[39mint32, copy\u001B[38;5;241m=\u001B[39mcopy)\n\u001B[1;32m     48\u001B[0m \u001B[38;5;28mself\u001B[39m\u001B[38;5;241m.\u001B[39mindptr \u001B[38;5;241m=\u001B[39m np\u001B[38;5;241m.\u001B[39marray(args[\u001B[38;5;241m2\u001B[39m], dtype\u001B[38;5;241m=\u001B[39mnp\u001B[38;5;241m.\u001B[39mint32, copy\u001B[38;5;241m=\u001B[39mcopy)\n",
      "\u001B[0;31mKeyboardInterrupt\u001B[0m: "
     ]
    }
   ],
   "execution_count": 6
  },
  {
   "cell_type": "code",
   "source": [
    "qubit_qubit_qubit.efreqs-qubit_qubit_qubit.efreqs[0]"
   ],
   "metadata": {
    "collapsed": false
   },
   "outputs": [],
   "execution_count": null
  },
  {
   "cell_type": "code",
   "source": [
    "Cc = 2\n",
    "C_R = C/2\n",
    "C_C = Cc\n",
    "CC = C_C\n",
    "C_F = C/2 + Csh + CJ"
   ],
   "metadata": {
    "collapsed": false,
    "ExecuteTime": {
     "end_time": "2024-06-26T09:13:00.718042Z",
     "start_time": "2024-06-26T09:13:00.709605Z"
    }
   },
   "outputs": [
    {
     "ename": "NameError",
     "evalue": "name 'C' is not defined",
     "output_type": "error",
     "traceback": [
      "\u001B[0;31m---------------------------------------------------------------------------\u001B[0m",
      "\u001B[0;31mNameError\u001B[0m                                 Traceback (most recent call last)",
      "Cell \u001B[0;32mIn[11], line 2\u001B[0m\n\u001B[1;32m      1\u001B[0m Cc \u001B[38;5;241m=\u001B[39m \u001B[38;5;241m2\u001B[39m\n\u001B[0;32m----> 2\u001B[0m C_R \u001B[38;5;241m=\u001B[39m \u001B[43mC\u001B[49m\u001B[38;5;241m/\u001B[39m\u001B[38;5;241m2\u001B[39m\n\u001B[1;32m      3\u001B[0m C_C \u001B[38;5;241m=\u001B[39m Cc\n\u001B[1;32m      4\u001B[0m CC \u001B[38;5;241m=\u001B[39m C_C\n",
      "\u001B[0;31mNameError\u001B[0m: name 'C' is not defined"
     ]
    }
   ],
   "execution_count": 11
  },
  {
   "cell_type": "code",
   "source": [
    "C_mat_2x2_outer = np.array([    [ CC / 4 ,-CC / 4, CC / 4, CC / 4],\n",
    "                                [-CC / 4 , CC / 4,-CC / 4,-CC / 4],\n",
    "                                [ CC / 4 ,-CC / 4, CC / 4, CC / 4],\n",
    "                                [ CC / 4 ,-CC / 4, CC / 4, CC / 4]])\n",
    "C_mat_2x2_inner = np.array([    [ CC / 2 ,0      , CC / 4, CC / 4],\n",
    "                                [0       , CC / 2,-CC / 4,-CC / 4],\n",
    "                                [ CC / 4 ,-CC / 4, CC / 2,0      ],\n",
    "                                [ CC / 4 ,-CC / 4,0      , CC / 2]])"
   ],
   "metadata": {
    "collapsed": false,
    "ExecuteTime": {
     "end_time": "2024-06-26T09:13:03.244424Z",
     "start_time": "2024-06-26T09:13:03.231146Z"
    }
   },
   "outputs": [
    {
     "ename": "NameError",
     "evalue": "name 'CC' is not defined",
     "output_type": "error",
     "traceback": [
      "\u001B[0;31m---------------------------------------------------------------------------\u001B[0m",
      "\u001B[0;31mNameError\u001B[0m                                 Traceback (most recent call last)",
      "Cell \u001B[0;32mIn[12], line 1\u001B[0m\n\u001B[0;32m----> 1\u001B[0m C_mat_2x2_outer \u001B[38;5;241m=\u001B[39m np\u001B[38;5;241m.\u001B[39marray([    [ \u001B[43mCC\u001B[49m \u001B[38;5;241m/\u001B[39m \u001B[38;5;241m4\u001B[39m ,\u001B[38;5;241m-\u001B[39mCC \u001B[38;5;241m/\u001B[39m \u001B[38;5;241m4\u001B[39m, CC \u001B[38;5;241m/\u001B[39m \u001B[38;5;241m4\u001B[39m, CC \u001B[38;5;241m/\u001B[39m \u001B[38;5;241m4\u001B[39m],\n\u001B[1;32m      2\u001B[0m                                 [\u001B[38;5;241m-\u001B[39mCC \u001B[38;5;241m/\u001B[39m \u001B[38;5;241m4\u001B[39m , CC \u001B[38;5;241m/\u001B[39m \u001B[38;5;241m4\u001B[39m,\u001B[38;5;241m-\u001B[39mCC \u001B[38;5;241m/\u001B[39m \u001B[38;5;241m4\u001B[39m,\u001B[38;5;241m-\u001B[39mCC \u001B[38;5;241m/\u001B[39m \u001B[38;5;241m4\u001B[39m],\n\u001B[1;32m      3\u001B[0m                                 [ CC \u001B[38;5;241m/\u001B[39m \u001B[38;5;241m4\u001B[39m ,\u001B[38;5;241m-\u001B[39mCC \u001B[38;5;241m/\u001B[39m \u001B[38;5;241m4\u001B[39m, CC \u001B[38;5;241m/\u001B[39m \u001B[38;5;241m4\u001B[39m, CC \u001B[38;5;241m/\u001B[39m \u001B[38;5;241m4\u001B[39m],\n\u001B[1;32m      4\u001B[0m                                 [ CC \u001B[38;5;241m/\u001B[39m \u001B[38;5;241m4\u001B[39m ,\u001B[38;5;241m-\u001B[39mCC \u001B[38;5;241m/\u001B[39m \u001B[38;5;241m4\u001B[39m, CC \u001B[38;5;241m/\u001B[39m \u001B[38;5;241m4\u001B[39m, CC \u001B[38;5;241m/\u001B[39m \u001B[38;5;241m4\u001B[39m]])\n\u001B[1;32m      5\u001B[0m C_mat_2x2_inner \u001B[38;5;241m=\u001B[39m np\u001B[38;5;241m.\u001B[39marray([    [ CC \u001B[38;5;241m/\u001B[39m \u001B[38;5;241m2\u001B[39m ,\u001B[38;5;241m0\u001B[39m      , CC \u001B[38;5;241m/\u001B[39m \u001B[38;5;241m4\u001B[39m, CC \u001B[38;5;241m/\u001B[39m \u001B[38;5;241m4\u001B[39m],\n\u001B[1;32m      6\u001B[0m                                 [\u001B[38;5;241m0\u001B[39m       , CC \u001B[38;5;241m/\u001B[39m \u001B[38;5;241m2\u001B[39m,\u001B[38;5;241m-\u001B[39mCC \u001B[38;5;241m/\u001B[39m \u001B[38;5;241m4\u001B[39m,\u001B[38;5;241m-\u001B[39mCC \u001B[38;5;241m/\u001B[39m \u001B[38;5;241m4\u001B[39m],\n\u001B[1;32m      7\u001B[0m                                 [ CC \u001B[38;5;241m/\u001B[39m \u001B[38;5;241m4\u001B[39m ,\u001B[38;5;241m-\u001B[39mCC \u001B[38;5;241m/\u001B[39m \u001B[38;5;241m4\u001B[39m, CC \u001B[38;5;241m/\u001B[39m \u001B[38;5;241m2\u001B[39m,\u001B[38;5;241m0\u001B[39m      ],\n\u001B[1;32m      8\u001B[0m                                 [ CC \u001B[38;5;241m/\u001B[39m \u001B[38;5;241m4\u001B[39m ,\u001B[38;5;241m-\u001B[39mCC \u001B[38;5;241m/\u001B[39m \u001B[38;5;241m4\u001B[39m,\u001B[38;5;241m0\u001B[39m      , CC \u001B[38;5;241m/\u001B[39m \u001B[38;5;241m2\u001B[39m]])\n",
      "\u001B[0;31mNameError\u001B[0m: name 'CC' is not defined"
     ]
    }
   ],
   "execution_count": 12
  },
  {
   "cell_type": "code",
   "source": [
    "C_mat_6x6 = np.zeros([6,6])"
   ],
   "metadata": {
    "collapsed": false,
    "ExecuteTime": {
     "end_time": "2024-06-26T09:12:57.532978Z",
     "start_time": "2024-06-26T09:12:57.531127Z"
    }
   },
   "outputs": [],
   "execution_count": 9
  },
  {
   "cell_type": "code",
   "source": [
    "C_mat_6x6[:4,:4] = C_mat_2x2_outer\n",
    "C_mat_6x6[2:,2:] = C_mat_2x2_outer\n",
    "C_mat_6x6[2,2] = CC / 2\n",
    "C_mat_6x6[3,3] = CC / 2\n",
    "C_mat_6x6[2,3] = 0\n",
    "C_mat_6x6[3,2] = 0\n",
    "C_mat_6x6"
   ],
   "metadata": {
    "collapsed": false,
    "ExecuteTime": {
     "end_time": "2024-06-26T09:12:58.000439Z",
     "start_time": "2024-06-26T09:12:57.979367Z"
    }
   },
   "outputs": [
    {
     "ename": "NameError",
     "evalue": "name 'C_mat_2x2_outer' is not defined",
     "output_type": "error",
     "traceback": [
      "\u001B[0;31m---------------------------------------------------------------------------\u001B[0m",
      "\u001B[0;31mNameError\u001B[0m                                 Traceback (most recent call last)",
      "Cell \u001B[0;32mIn[10], line 1\u001B[0m\n\u001B[0;32m----> 1\u001B[0m C_mat_6x6[:\u001B[38;5;241m4\u001B[39m,:\u001B[38;5;241m4\u001B[39m] \u001B[38;5;241m=\u001B[39m \u001B[43mC_mat_2x2_outer\u001B[49m\n\u001B[1;32m      2\u001B[0m C_mat_6x6[\u001B[38;5;241m2\u001B[39m:,\u001B[38;5;241m2\u001B[39m:] \u001B[38;5;241m=\u001B[39m C_mat_2x2_outer\n\u001B[1;32m      3\u001B[0m C_mat_6x6[\u001B[38;5;241m2\u001B[39m,\u001B[38;5;241m2\u001B[39m] \u001B[38;5;241m=\u001B[39m CC \u001B[38;5;241m/\u001B[39m \u001B[38;5;241m2\u001B[39m\n",
      "\u001B[0;31mNameError\u001B[0m: name 'C_mat_2x2_outer' is not defined"
     ]
    }
   ],
   "execution_count": 10
  },
  {
   "metadata": {
    "ExecuteTime": {
     "end_time": "2024-06-26T09:12:37.704143Z",
     "start_time": "2024-06-26T09:12:37.701642Z"
    }
   },
   "cell_type": "code",
   "source": "print(C_mat_6x6)",
   "outputs": [
    {
     "name": "stdout",
     "output_type": "stream",
     "text": [
      "[[0. 0. 0. 0. 0. 0.]\n",
      " [0. 0. 0. 0. 0. 0.]\n",
      " [0. 0. 0. 0. 0. 0.]\n",
      " [0. 0. 0. 0. 0. 0.]\n",
      " [0. 0. 0. 0. 0. 0.]\n",
      " [0. 0. 0. 0. 0. 0.]]\n"
     ]
    }
   ],
   "execution_count": 7
  },
  {
   "cell_type": "code",
   "source": [
    "C_eff_mat = np.diag(np.array([C_F, C_R, C_F, C_R, C_F, C_R]))"
   ],
   "metadata": {
    "collapsed": false,
    "ExecuteTime": {
     "end_time": "2024-06-26T09:11:33.524127Z",
     "start_time": "2024-06-26T09:11:33.521829Z"
    }
   },
   "outputs": [],
   "execution_count": 11
  },
  {
   "cell_type": "code",
   "source": [
    "np.set_printoptions(linewidth=200, formatter={'float': '{:.5f}'.format})\n",
    "matrix =np.linalg.inv(C_mat_6x6 + C_eff_mat)"
   ],
   "metadata": {
    "collapsed": false,
    "ExecuteTime": {
     "end_time": "2024-05-26T12:05:16.859031500Z",
     "start_time": "2024-05-26T12:05:16.845032300Z"
    }
   },
   "execution_count": 65,
   "outputs": []
  },
  {
   "cell_type": "code",
   "source": [
    "matrix[0,1] ** -1"
   ],
   "metadata": {
    "collapsed": false,
    "ExecuteTime": {
     "end_time": "2024-05-26T12:05:17.082940700Z",
     "start_time": "2024-05-26T12:05:17.059779300Z"
    }
   },
   "execution_count": 66,
   "outputs": []
  },
  {
   "cell_type": "code",
   "source": [
    "max_len = 0\n",
    "for row in matrix:\n",
    "    for num in row:\n",
    "        num_str = f\"{num:.5f}\"  # Using 4 significant digits for this example\n",
    "        if len(num_str) > max_len:\n",
    "            max_len = len(num_str)\n",
    "\n",
    "# Print the matrix with the numbers properly aligned\n",
    "for row in matrix:\n",
    "    for num in row:\n",
    "        print(f\"{num:>{max_len}.5f}\", end=' ')\n",
    "    print()  # New line at the end of each row"
   ],
   "metadata": {
    "collapsed": false,
    "ExecuteTime": {
     "end_time": "2024-05-26T12:05:18.918871Z",
     "start_time": "2024-05-26T12:05:18.899834700Z"
    }
   },
   "execution_count": 67,
   "outputs": []
  },
  {
   "cell_type": "code",
   "source": [
    "C_R = C/2\n",
    "C_C = Cc\n",
    "C_F = C/2 + Csh + CJ\n",
    "C_mat = np.array([[C_R + C_C/2  , 0             , -C_C / 2      ,        0      ,-C_C / 2       , 0             ],\n",
    "                  [0            , C_F + C_C/2   ,       0       , -C_C / 2      , 0             , -C_C / 2      ],\n",
    "                  [-C_C / 2     ,        0      , C_R + C_C/2   , 0             ,-C_C / 2       , 0             ],\n",
    "                  [            0, -C_C / 2      , 0             , C_F + C_C/2   , 0             ,-C_C / 2       ],\n",
    "                  [-C_C / 2     , 0             ,-C_C / 2       , 0             , C_R + C_C/2   , 0             ],\n",
    "                  [            0, -C_C / 2      , 0             ,-C_C / 2       , 0             , C_F + C_C/2   ]])\n",
    "\n",
    "C_inv = np.linalg.inv(C_mat)\n",
    "np.round(C_inv,4)"
   ],
   "metadata": {
    "collapsed": false,
    "ExecuteTime": {
     "end_time": "2024-05-26T11:44:53.168699100Z",
     "start_time": "2024-05-26T11:44:53.151172900Z"
    }
   },
   "execution_count": 4,
   "outputs": []
  },
  {
   "cell_type": "code",
   "source": [
    "def hamiltonian_qubit_C_qubit_C_qubit(nmax_r, nmax_f, Cc, C = 15, CJ = 3, Csh= 15, Lq = 25, Lr = 10, Δ = 0.1):\n",
    "    \n",
    "    C_R = C/2\n",
    "    C_C = Cc\n",
    "    C_F = C/2 + Csh + CJ\n",
    "    C_mat = np.array([[C_R + C_C/2  , 0             , -C_C / 2      ,        0      ,-C_C / 2       , 0             ],\n",
    "                      [0            , C_F + C_C/2   ,       0       , -C_C / 2      , 0             , -C_C / 2      ],\n",
    "                      [-C_C / 2     ,        0      , C_R + C_C/2   , 0             ,-C_C / 2       , 0             ],\n",
    "                      [            0, -C_C / 2      , 0             , C_F + C_C/2   , 0             ,-C_C / 2       ],\n",
    "                      [-C_C / 2     , 0             ,-C_C / 2       , 0             , C_R + C_C/2   , 0             ],\n",
    "                      [            0, -C_C / 2      , 0             ,-C_C / 2       , 0             , C_F + C_C/2   ]])\n",
    "    \n",
    "    C_inv = np.linalg.inv(C_mat)\n",
    "    fF = 1e-15\n",
    "    \n",
    "    resonator = sq_ext.sq_resonator(C_R_eff=C_inv[0,0]**-1, Lq = Lq, Lr = Lr, Δ = Δ, trunc_res =nmax_r)\n",
    "    fluxonium = sq_ext.sq_fluxonium(C_F_eff=C_inv[1,1]**-1, Lq = Lq, Lr = Lr, Δ = Δ, trunc_flux=nmax_f)\n",
    "    \n",
    "    H_qubit = sq_ext.hamiltonian_qubit(fluxonium, resonator, Δ)\n",
    "    \n",
    "    I_r      = qt.identity(nmax_r)\n",
    "    I_f      = qt.identity(nmax_f)\n",
    "    I_qubit  = qt.identity(H_qubit .dims[0])\n",
    "    \n",
    "    q_r = qt.tensor(resonator.charge_op(0), I_f)\n",
    "    q_f = qt.tensor(I_r, fluxonium.charge_op(0))\n",
    "    \n",
    "    H_0 = qt.tensor(H_qubit, I_qubit, I_qubit) + qt.tensor(I_qubit, H_qubit, I_qubit) + qt.tensor(I_qubit, I_qubit, H_qubit)\n",
    "    \n",
    "    C_RR = C_inv[0,2]**-1 * fF \n",
    "    C_FF = C_inv[1,3]**-1 * fF \n",
    "    H_coupling =    qt.tensor(q_r, q_r, I_qubit) / C_RR + qt.tensor(q_f, q_f, I_qubit) / C_FF + \\\n",
    "                    qt.tensor(I_qubit, q_r, q_r) / C_RR + qt.tensor(I_qubit, q_f, q_f) / C_FF + \\\n",
    "                    qt.tensor(q_r, I_qubit, q_r) / C_RR + qt.tensor(q_f, I_qubit, q_f) / C_FF\n",
    "            \n",
    "    return H_0 + H_coupling"
   ],
   "metadata": {
    "collapsed": false,
    "ExecuteTime": {
     "end_time": "2024-02-09T09:01:22.554364300Z",
     "start_time": "2024-02-09T09:01:22.518012600Z"
    }
   },
   "execution_count": 6,
   "outputs": []
  },
  {
   "cell_type": "code",
   "source": [
    "qubit_qubit_qubit.set_trunc_nums([nmax_r, nmax_r, nmax_r, nmax_f, nmax_f, nmax_f])"
   ],
   "metadata": {
    "collapsed": false,
    "ExecuteTime": {
     "end_time": "2024-02-09T09:03:43.443110600Z",
     "start_time": "2024-02-09T09:02:44.224325800Z"
    }
   },
   "execution_count": 12,
   "outputs": []
  },
  {
   "cell_type": "code",
   "source": [
    "qubit_qubit_qubit.hamiltonian().shape"
   ],
   "metadata": {
    "collapsed": false,
    "ExecuteTime": {
     "end_time": "2024-02-09T09:07:34.246367800Z",
     "start_time": "2024-02-09T09:03:43.428940800Z"
    }
   },
   "execution_count": 13,
   "outputs": []
  },
  {
   "cell_type": "code",
   "source": [
    "H = hamiltonian_qubit_C_qubit_C_qubit(nmax_r, nmax_f, Cc)"
   ],
   "metadata": {
    "collapsed": false,
    "ExecuteTime": {
     "end_time": "2024-02-09T09:01:24.642470600Z",
     "start_time": "2024-02-09T09:01:24.546911200Z"
    }
   },
   "execution_count": 7,
   "outputs": []
  },
  {
   "cell_type": "code",
   "source": [
    "E = sq_ext.diag(H, n_eig=4, out='GHz')[0]"
   ],
   "metadata": {
    "collapsed": false,
    "ExecuteTime": {
     "end_time": "2024-02-09T09:02:02.159034900Z",
     "start_time": "2024-02-09T09:02:01.249750100Z"
    }
   },
   "execution_count": 9,
   "outputs": []
  },
  {
   "cell_type": "code",
   "source": [
    "E-E[0]"
   ],
   "metadata": {
    "collapsed": false,
    "ExecuteTime": {
     "end_time": "2024-02-09T09:02:06.100244800Z",
     "start_time": "2024-02-09T09:02:06.072756700Z"
    }
   },
   "execution_count": 10,
   "outputs": []
  },
  {
   "cell_type": "code",
   "source": [
    "E-E[0]"
   ],
   "metadata": {
    "collapsed": false
   },
   "execution_count": 93,
   "outputs": []
  },
  {
   "cell_type": "code",
   "source": [
    "qubit_qubit_qubit.efreqs-qubit_qubit_qubit.efreqs[0]"
   ],
   "metadata": {
    "collapsed": false,
    "ExecuteTime": {
     "end_time": "2024-02-08T10:20:42.981071800Z",
     "start_time": "2024-02-08T10:20:42.907084300Z"
    }
   },
   "execution_count": 109,
   "outputs": []
  },
  {
   "cell_type": "code",
   "source": [
    "qubit_qubit_qubit.efreqs-qubit_qubit_qubit.efreqs[0]"
   ],
   "metadata": {
    "collapsed": false
   },
   "execution_count": 94,
   "outputs": []
  },
  {
   "cell_type": "code",
   "source": [],
   "metadata": {
    "collapsed": false
   },
   "execution_count": null,
   "outputs": []
  }
 ],
 "metadata": {
  "kernelspec": {
   "display_name": "Python 3",
   "language": "python",
   "name": "python3"
  },
  "language_info": {
   "codemirror_mode": {
    "name": "ipython",
    "version": 2
   },
   "file_extension": ".py",
   "mimetype": "text/x-python",
   "name": "python",
   "nbconvert_exporter": "python",
   "pygments_lexer": "ipython2",
   "version": "2.7.6"
  }
 },
 "nbformat": 4,
 "nbformat_minor": 0
}
