{
 "cells": [
  {
   "cell_type": "code",
   "execution_count": 2,
   "metadata": {
    "ExecuteTime": {
     "end_time": "2023-11-29T15:39:33.817521500Z",
     "start_time": "2023-11-29T15:39:32.153196800Z"
    }
   },
   "outputs": [],
   "source": [
    "import Modules.SQcircuit_extensions as sq_ext\n",
    "import Modules.figures as figs\n",
    "import SQcircuit as sq\n",
    "import numpy as np\n",
    "import matplotlib.pyplot as plt\n",
    "import importlib\n",
    "import qutip as qt\n",
    "import scipy as sp\n",
    "%matplotlib ipympl\n",
    "\n",
    "plt.rcParams['text.usetex'] = False\n",
    "importlib.reload(sq_ext)\n",
    "importlib.reload(sq)\n",
    "importlib.reload(figs)\n",
    "np.set_printoptions(linewidth=200, formatter={'float': '{:.6f}'.format})\n",
    "# np.set_printoptions(linewidth=200, formatter={'float': '{:.3e}'.format})"
   ]
  },
  {
   "cell_type": "code",
   "execution_count": 3,
   "metadata": {
    "ExecuteTime": {
     "end_time": "2023-11-29T11:14:53.908254302Z",
     "start_time": "2023-11-29T11:14:53.904954683Z"
    }
   },
   "outputs": [],
   "source": [
    "GHz=1e9"
   ]
  },
  {
   "cell_type": "code",
   "execution_count": 4,
   "metadata": {
    "ExecuteTime": {
     "end_time": "2023-11-29T11:14:54.086131294Z",
     "start_time": "2023-11-29T11:14:54.076800157Z"
    }
   },
   "outputs": [],
   "source": [
    "def premade_coupled_resonators(Δ):\n",
    "    if Δ == 0:\n",
    "        C   = sq.Capacitor(1, 'fF')\n",
    "        L   = sq.Inductor(1, 'nH')\n",
    "        elements = {(0, 1): [L, C],\n",
    "                    (0, 2): [L, C], }\n",
    "        return sq.Circuit(elements)\n",
    "\n",
    "    else:\n",
    "        C = sq.Capacitor(1, 'fF')\n",
    "        L = sq.Inductor(1, 'nH')\n",
    "        L_Δ = sq.Inductor(Δ, 'nH')\n",
    "        elements = {(0, 1): [L, C],\n",
    "                    (0, 2): [L, C],\n",
    "                    (1, 2): [L_Δ], }\n",
    "        return sq.Circuit(elements)\n",
    "\n",
    "def premade_single_resonator(Δ):\n",
    "    if Δ == 0:\n",
    "        C   = sq.Capacitor(1, 'fF')\n",
    "        L   = sq.Inductor(1,  'nH')\n",
    "        elements = {(0, 1): [L, C],}\n",
    "        return sq.Circuit(elements)\n",
    "\n",
    "    else:\n",
    "        C   = sq.Capacitor(1, 'fF')\n",
    "        L   = sq.Inductor(1/(1/1+1/Δ), 'nH')\n",
    "        elements = {(0, 1): [L, C],}\n",
    "        return sq.Circuit(elements)\n",
    "\n"
   ]
  },
  {
   "cell_type": "code",
   "execution_count": 99,
   "metadata": {
    "ExecuteTime": {
     "end_time": "2023-11-29T14:10:23.012470362Z",
     "start_time": "2023-11-29T14:10:22.955810044Z"
    }
   },
   "outputs": [],
   "source": [
    "n_eig = 3\n",
    "trunc_num = 15\n",
    "Δ=1\n",
    "\n",
    "coupled_res     = premade_coupled_resonators    (Δ=Δ)\n",
    "res             = premade_single_resonator      (Δ=Δ)\n",
    "\n",
    "uncoupled_res   = premade_coupled_resonators    (Δ=0)\n",
    "res_0           = premade_single_resonator      (Δ=0)\n",
    "\n",
    "coupled_res     .set_trunc_nums([trunc_num, trunc_num])\n",
    "uncoupled_res   .set_trunc_nums([trunc_num, trunc_num])\n",
    "res             .set_trunc_nums([trunc_num])\n",
    "res_0           .set_trunc_nums([trunc_num])\n",
    "\n",
    "_ = coupled_res     .diag(n_eig)\n",
    "_ = uncoupled_res   .diag(n_eig)\n",
    "_ = res             .diag(n_eig)\n",
    "_ = res_0           .diag(n_eig)\n"
   ]
  },
  {
   "cell_type": "code",
   "execution_count": 100,
   "metadata": {
    "ExecuteTime": {
     "end_time": "2023-11-29T14:10:23.529192570Z",
     "start_time": "2023-11-29T14:10:23.485149583Z"
    }
   },
   "outputs": [],
   "source": [
    "Q = res.charge_op(0)\n",
    "Φ = res.flux_op(0)\n",
    "\n",
    "Q_0 = res_0.charge_op(0)\n",
    "Φ_0 = res_0.flux_op(0)\n"
   ]
  },
  {
   "cell_type": "code",
   "execution_count": 101,
   "metadata": {
    "ExecuteTime": {
     "end_time": "2023-11-29T14:10:23.892518590Z",
     "start_time": "2023-11-29T14:10:23.850764091Z"
    }
   },
   "outputs": [],
   "source": [
    "H_res_0 = 1/2 * Q_0**2/1e-15 + 1/2 * Φ_0**2/1e-9\n",
    "H_res   = 1/2 * Q**2/1e-15 + 1/2 * (1+1/Δ) * Φ**2/1e-9\n",
    "# H_res_0 = res_0.hamiltonian()\n",
    "# H_res   = res.hamiltonian()\n",
    "\n",
    "I = qt.identity(H_res.shape[0])\n",
    "\n",
    "H_unc_res  = qt.tensor(H_res_0,I) + qt.tensor(I,H_res_0)\n",
    "\n",
    "\n",
    "H_coup_res = qt.tensor(H_res,I)   + qt.tensor(I,H_res)   + (1/Δ/1e-9) * qt.tensor(Φ,Φ)\n",
    "# H_coup_res = qt.tensor(H_res,I) + qt.tensor(I,H_res) + (1/Δ) * qt.tensor(Φ,Φ)"
   ]
  },
  {
   "cell_type": "code",
   "execution_count": 155,
   "metadata": {},
   "outputs": [
    {
     "data": {
      "text/plain": [
       "array([-0.000000, 159.154943, 275.664448, 318.309886, 434.819391, 477.464829, 551.328895, 593.974334, 636.619772, 710.483839])"
      ]
     },
     "execution_count": 155,
     "metadata": {},
     "output_type": "execute_result"
    }
   ],
   "source": [
    "E_sq = coupled_res.diag(n_eig=len(H), solver = 'numpy')[0]\n",
    "E_sq[:10]"
   ]
  },
  {
   "cell_type": "code",
   "execution_count": 157,
   "metadata": {},
   "outputs": [],
   "source": [
    "E = sq_ext.diag(H_coup_res, n_eig=len(H), real=False,   solver='numpy')[0] /(2*np.pi*GHz)"
   ]
  },
  {
   "cell_type": "code",
   "execution_count": 159,
   "metadata": {},
   "outputs": [
    {
     "data": {
      "text/plain": [
       "array([0.000000, 159.154943, 275.664448, 318.309886, 434.819391, 477.464829, 551.328895, 593.974334, 636.619772, 710.483839])"
      ]
     },
     "execution_count": 159,
     "metadata": {},
     "output_type": "execute_result"
    }
   ],
   "source": [
    "E[:10]-E[0]"
   ]
  },
  {
   "cell_type": "code",
   "execution_count": 102,
   "metadata": {
    "ExecuteTime": {
     "end_time": "2023-11-29T14:10:25.582649767Z",
     "start_time": "2023-11-29T14:10:25.530098176Z"
    }
   },
   "outputs": [
    {
     "name": "stdout",
     "output_type": "stream",
     "text": [
      "[[0.000000 0.000000 0.000000]\n",
      " [0.000000 159.154943 -0.000000]\n",
      " [0.000000 -0.000000 275.664448]]\n",
      "\n",
      "\n",
      "[[0.000000 -0.000000 -0.000000]\n",
      " [-0.000000 225.079079 56.269770]\n",
      " [-0.000000 56.269770 225.079079]]\n"
     ]
    }
   ],
   "source": [
    "_ = uncoupled_res   .diag(n_eig, solver = 'numpy')\n",
    "_ = coupled_res     .diag(n_eig, solver = 'numpy')\n",
    "# H_eff_full = sq_ext.H_eff_p1(uncoupled_res,coupled_res )\n",
    "H_eff_full = sq_ext.H_eff_p1_hamil(uncoupled_res.hamiltonian(), coupled_res.hamiltonian(), n_eig, solver='numpy' )\n",
    "\n",
    "\n",
    "# H_eff_full -= H_eff_full[0,0]*np.eye(n_eig)\n",
    "\n",
    "H_eff_frc = sq_ext.H_eff_p1_hamil(H_unc_res, H_coup_res, n_eig, solver='numpy')\n",
    "H_eff_frc -= H_eff_frc[0,0]*np.eye(n_eig)\n",
    "\n",
    "print(np.round(H_eff_full,8))\n",
    "print('\\n')\n",
    "print(np.round(H_eff_frc, 8))\n",
    "# print(np.round(np.abs(H_eff_full)-np.abs(H_eff_frc),4))"
   ]
  },
  {
   "cell_type": "code",
   "execution_count": 103,
   "metadata": {},
   "outputs": [
    {
     "data": {
      "text/plain": [
       "array([0.000000, 159.154943, 159.154943])"
      ]
     },
     "execution_count": 103,
     "metadata": {},
     "output_type": "execute_result"
    }
   ],
   "source": [
    "uncoupled_res.efreqs"
   ]
  },
  {
   "cell_type": "code",
   "execution_count": 104,
   "metadata": {
    "ExecuteTime": {
     "end_time": "2023-11-29T14:51:43.323085040Z",
     "start_time": "2023-11-29T14:51:43.210896666Z"
    }
   },
   "outputs": [
    {
     "data": {
      "application/vnd.jupyter.widget-view+json": {
       "model_id": "d36ded9c488f43f3b99f1d100e790aa6",
       "version_major": 2,
       "version_minor": 0
      },
      "image/png": "[encoded data removed]",
      "text/html": [
       "\n",
       "            <div style=\"display: inline-block;\">\n",
       "                <div class=\"jupyter-widgets widget-label\" style=\"text-align: center;\">\n",
       "                    Figure\n",
       "                </div>\n",
       "                <img src='data:image/png;base64,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' width=640.0/>\n",
       "            </div>\n",
       "        "
      ],
      "text/plain": [
       "Canvas(toolbar=Toolbar(toolitems=[('Home', 'Reset original view', 'home', 'home'), ('Back', 'Back to previous …"
      ]
     },
     "metadata": {},
     "output_type": "display_data"
    }
   ],
   "source": [
    "H_0 = H_unc_res.__array__()\n",
    "H = H_coup_res.__array__()\n",
    "fig, ax = plt.subplots(ncols=2, dpi=100)\n",
    "ax[0].matshow(np.abs(H_0))\n",
    "ax[1].matshow(np.abs(H))\n",
    "fig.suptitle('Resonator + resonator + coupling')\n",
    "fig.show()"
   ]
  },
  {
   "cell_type": "code",
   "execution_count": 105,
   "metadata": {
    "ExecuteTime": {
     "end_time": "2023-11-29T14:51:33.288464337Z",
     "start_time": "2023-11-29T14:51:33.215746809Z"
    }
   },
   "outputs": [
    {
     "data": {
      "application/vnd.jupyter.widget-view+json": {
       "model_id": "e830451ad03240b7a463038d4e19a50d",
       "version_major": 2,
       "version_minor": 0
      },
      "image/png": "[encoded data removed]",
      "text/html": [
       "\n",
       "            <div style=\"display: inline-block;\">\n",
       "                <div class=\"jupyter-widgets widget-label\" style=\"text-align: center;\">\n",
       "                    Figure\n",
       "                </div>\n",
       "                <img src='data:image/png;base64,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' width=640.0/>\n",
       "            </div>\n",
       "        "
      ],
      "text/plain": [
       "Canvas(toolbar=Toolbar(toolitems=[('Home', 'Reset original view', 'home', 'home'), ('Back', 'Back to previous …"
      ]
     },
     "metadata": {},
     "output_type": "display_data"
    }
   ],
   "source": [
    "H_0 = uncoupled_res.hamiltonian().__array__()\n",
    "H = coupled_res.hamiltonian().__array__()\n",
    "fig, ax = plt.subplots(ncols=2,dpi=100)\n",
    "ax[0].matshow(np.abs(H_0))\n",
    "ax[1].matshow(np.abs(H))\n",
    "fig.suptitle('Full circuit in Sqcircuits')\n",
    "fig.show()"
   ]
  },
  {
   "cell_type": "code",
   "execution_count": 106,
   "metadata": {
    "ExecuteTime": {
     "start_time": "2023-11-29T14:47:32.376793965Z"
    }
   },
   "outputs": [],
   "source": [
    "#H_0 = H_unc_res.__array__()\n",
    "#H = H_coup_res.__array__()\n",
    "H_0 = uncoupled_res.hamiltonian().__array__()\n",
    "H   = coupled_res.hamiltonian().__array__()\n",
    "\n",
    "ψ_0 = sq_ext.diag(H_0, n_eig=len(H_0), real=False, solver='numpy')[1].T\n",
    "ψ = sq_ext.diag(H, n_eig=len(H), real=False,   solver='numpy')[1].T\n"
   ]
  },
  {
   "cell_type": "code",
   "execution_count": 123,
   "metadata": {
    "ExecuteTime": {
     "end_time": "2023-11-29T14:12:27.982939069Z",
     "start_time": "2023-11-29T14:12:27.074572178Z"
    }
   },
   "outputs": [
    {
     "ename": "KeyboardInterrupt",
     "evalue": "",
     "output_type": "error",
     "traceback": [
      "\u001b[1;31m---------------------------------------------------------------------------\u001b[0m",
      "\u001b[1;31mKeyboardInterrupt\u001b[0m                         Traceback (most recent call last)",
      "Cell \u001b[1;32mIn[123], line 7\u001b[0m\n\u001b[0;32m      5\u001b[0m \u001b[38;5;28;01mfor\u001b[39;00m k \u001b[38;5;129;01min\u001b[39;00m \u001b[38;5;28mrange\u001b[39m(\u001b[38;5;28mlen\u001b[39m(ψ)):\n\u001b[0;32m      6\u001b[0m     \u001b[38;5;28;01mfor\u001b[39;00m l \u001b[38;5;129;01min\u001b[39;00m \u001b[38;5;28mrange\u001b[39m(\u001b[38;5;28mlen\u001b[39m(ψ)):\n\u001b[1;32m----> 7\u001b[0m         H_eff[i,j] \u001b[38;5;241m+\u001b[39m\u001b[38;5;241m=\u001b[39m (ψ_0[i]\u001b[38;5;241m.\u001b[39mT\u001b[38;5;241m.\u001b[39mconj() \u001b[38;5;241m@\u001b[39m ψ[k]) \u001b[38;5;241m*\u001b[39m (ψ[k]\u001b[38;5;241m.\u001b[39mT\u001b[38;5;241m.\u001b[39mconj() \u001b[38;5;241m@\u001b[39m H \u001b[38;5;241m@\u001b[39m \u001b[43mψ\u001b[49m[l]) \u001b[38;5;241m*\u001b[39m (ψ[l]\u001b[38;5;241m.\u001b[39mT\u001b[38;5;241m.\u001b[39mconj() \u001b[38;5;241m@\u001b[39m ψ_0[j])\n",
      "\u001b[1;31mKeyboardInterrupt\u001b[0m: "
     ]
    }
   ],
   "source": [
    "H_eff = np.zeros([n_eig,n_eig], dtype='complex')\n",
    "\n",
    "for i in range(n_eig):\n",
    "    for j in range(n_eig):\n",
    "        for k in range(len(ψ)):\n",
    "            for l in range(len(ψ)):\n",
    "                H_eff[i,j] += (ψ_0[i].T.conj() @ ψ[k]) * (ψ[k].T.conj() @ H @ ψ[l]) * (ψ[l].T.conj() @ ψ_0[j])"
   ]
  },
  {
   "cell_type": "code",
   "execution_count": 140,
   "metadata": {},
   "outputs": [],
   "source": [
    "U = ψ_0.conj().T @ ψ"
   ]
  },
  {
   "cell_type": "code",
   "execution_count": 142,
   "metadata": {},
   "outputs": [
    {
     "data": {
      "text/plain": [
       "array([[0.000000, 0.000000, 0.000000, 0.000000],\n",
       "       [0.000000, 159.154943, 0.000000, 0.000000],\n",
       "       [0.000000, 0.000000, 318.309886, 0.000000],\n",
       "       [0.000000, 0.000000, 0.000000, 477.464829]])"
      ]
     },
     "execution_count": 142,
     "metadata": {},
     "output_type": "execute_result"
    }
   ],
   "source": [
    "np.round(np.real(H),3)[0:n_eig+1,0:n_eig+1]/( 2 * np.pi * GHz)"
   ]
  },
  {
   "cell_type": "code",
   "execution_count": 141,
   "metadata": {},
   "outputs": [
    {
     "data": {
      "text/plain": [
       "array([[-0.000000, 0.000000, 0.000000, -0.000000],\n",
       "       [0.000000, 159.154943, 0.000000, -0.000000],\n",
       "       [0.000000, 0.000000, 318.309886, 0.000000],\n",
       "       [-0.000000, -0.000000, 0.000000, 551.328895]])"
      ]
     },
     "execution_count": 141,
     "metadata": {},
     "output_type": "execute_result"
    }
   ],
   "source": [
    "H2 = np.round(np.real(U.T @ H @ U),3)[0:n_eig+1,0:n_eig+1]/( 2 * np.pi * GHz)\n",
    "H2"
   ]
  },
  {
   "cell_type": "code",
   "execution_count": 47,
   "metadata": {
    "ExecuteTime": {
     "end_time": "2023-11-29T14:12:27.982939069Z",
     "start_time": "2023-11-29T14:12:27.074572178Z"
    }
   },
   "outputs": [],
   "source": [
    "H_eff = np.zeros([n_eig,n_eig], dtype='complex')\n",
    "\n",
    "for i in range(n_eig):\n",
    "    for j in range(n_eig):\n",
    "        for k in range(len(ψ)):\n",
    "            H_eff[i,j] += (ψ_0[i].T.conj() @ ψ[k]) * (ψ[k].T.conj() @ H @ ψ[l]) * (ψ[l].T.conj() @ ψ_0[j])"
   ]
  },
  {
   "cell_type": "code",
   "execution_count": null,
   "metadata": {
    "ExecuteTime": {
     "end_time": "2023-11-29T14:12:27.983026531Z",
     "start_time": "2023-11-29T14:12:27.982486697Z"
    }
   },
   "outputs": [],
   "source": [
    "H_eff /= 2 * np.pi * GHz\n",
    "#H_eff -= H_eff[0,0]*np.eye(n_eig)\n",
    "if np.allclose(np.imag(H_eff),0):\n",
    "    H_eff = np.real(H_eff)"
   ]
  },
  {
   "cell_type": "code",
   "execution_count": null,
   "metadata": {
    "ExecuteTime": {
     "end_time": "2023-11-29T14:12:27.983148909Z",
     "start_time": "2023-11-29T14:12:27.982621007Z"
    }
   },
   "outputs": [],
   "source": [
    "H_eff"
   ]
  },
  {
   "cell_type": "code",
   "execution_count": 79,
   "metadata": {
    "ExecuteTime": {
     "end_time": "2023-11-29T13:19:16.196310144Z",
     "start_time": "2023-11-29T13:19:16.150906464Z"
    }
   },
   "outputs": [
    {
     "name": "stdout",
     "output_type": "stream",
     "text": [
      "[[159.94873826+0.j  -0.        +0.j  -0.        +0.j]\n",
      " [ -0.        +0.j 319.89747651+0.j   0.79182544+0.j]\n",
      " [ -0.        +0.j   0.79182544+0.j 319.89747651+0.j]]\n"
     ]
    }
   ],
   "source": [
    "ψ_0 = sq_ext.diag(H_unc_res, n_eig, real=False, solver='numpy')[1]\n",
    "# ψ_0 = qt.Qobj(H_unc_res).eigenstates(sparse=True, eigvals=n_eig)[1]\n",
    "# ψ_0 = np.array([ψ.__array__() for ψ in ψ_0])[:,:,0].T\n",
    "\n",
    "# ψ_0_real = sq_ext.real_eigenvectors(ψ_0)\n",
    "H_eff = ψ_0.conj().T @ H_coup_res.__array__() @ ψ_0 / GHz /2 /np.pi\n",
    "# H_eff =np.array( [ [(ψ_0_i.dag() * H_unc_res * ψ_0_j) [0,0] / GHz /2 /np.pi for ψ_0_i in ψ_0] for ψ_0_j in ψ_0])\n",
    "\n",
    "print(np.round(H_eff, 8))\n",
    "# print(np.round(np.abs(H_eff), 8))"
   ]
  },
  {
   "cell_type": "code",
   "execution_count": 89,
   "metadata": {
    "ExecuteTime": {
     "end_time": "2023-11-28T20:20:33.615581900Z",
     "start_time": "2023-11-28T20:20:33.583793600Z"
    }
   },
   "outputs": [
    {
     "name": "stdout",
     "output_type": "stream",
     "text": [
      "[[0.000 0.003 0.002]\n",
      " [0.003 999999999999.507 54891.861]\n",
      " [0.002 54891.861 1000000009998.506]]\n",
      "[[525336942860.141 0.004 0.005]\n",
      " [0.004 474663058019.876 0.003]\n",
      " [0.005 0.003 1474663079600.596]]\n",
      "[[525336942860.141 0.007 0.004]\n",
      " [0.007 525336941979.631 54891.858]\n",
      " [0.004 54891.858 474663069602.090]]\n"
     ]
    }
   ],
   "source": [
    "|H_eff_full = sq_ext.H_eff_p1(coupled_res,coupled_res, out=None)\n",
    "# H_eff_full -= H_eff_full[0,0]*np.eye(n_eig)\n",
    "\n",
    "H_eff_frc = sq_ext.H_eff_p1_hamil(H_coup_res, H_coup_res, n_eig, out=None)\n",
    "# H_eff_frc -= H_eff_frc[0,0]*np.eye(n_eig)\n",
    "\n",
    "print(np.abs(H_eff_full))\n",
    "print(np.abs(H_eff_frc))\n",
    "print(np.round(np.abs(H_eff_full-H_eff_frc),4))"
   ]
  },
  {
   "cell_type": "code",
   "execution_count": 90,
   "metadata": {
    "ExecuteTime": {
     "end_time": "2023-11-28T20:20:34.543205300Z",
     "start_time": "2023-11-28T20:20:34.533069100Z"
    }
   },
   "outputs": [
    {
     "name": "stdout",
     "output_type": "stream",
     "text": [
      "[[0.000 0.000 0.000]\n",
      " [0.000 999999999999.504 0.002]\n",
      " [0.000 0.002 1999999999999.011]]\n"
     ]
    }
   ],
   "source": [
    "ψ_full = np.array([ψ_i.__array__()[:, 0] for ψ_i in res_0._evecs]).T\n",
    "H_full = res_0.hamiltonian().__array__()\n",
    "\n",
    "print(np.abs(ψ_full.conj().T @ H_full @ ψ_full))\n"
   ]
  },
  {
   "cell_type": "code",
   "execution_count": 91,
   "metadata": {
    "ExecuteTime": {
     "end_time": "2023-11-28T20:20:35.243418500Z",
     "start_time": "2023-11-28T20:20:35.237411600Z"
    }
   },
   "outputs": [
    {
     "name": "stdout",
     "output_type": "stream",
     "text": [
      "[[0.000 0.003 0.001]\n",
      " [0.003 999999999999.508 210520400652.359]\n",
      " [0.001 210520400652.359 999999999999.504]]\n"
     ]
    }
   ],
   "source": [
    "ψ_full = np.array([ψ_i.__array__()[:, 0] for ψ_i in uncoupled_res._evecs]).T\n",
    "H_full = uncoupled_res.hamiltonian().__array__()\n",
    "\n",
    "print(np.abs(ψ_full.conj().T @ H_full @ ψ_full))\n"
   ]
  },
  {
   "cell_type": "code",
   "execution_count": 92,
   "metadata": {
    "ExecuteTime": {
     "end_time": "2023-11-28T20:20:38.341063100Z",
     "start_time": "2023-11-28T20:20:38.166713Z"
    }
   },
   "outputs": [
    {
     "name": "stdout",
     "output_type": "stream",
     "text": [
      "[[0.000 0.000 0.000 ... 0.000 0.000 0.000]\n",
      " [0.000 999999999999.500 0.000 ... 0.000 0.000 0.000]\n",
      " [0.000 0.000 999999999999.500 ... 0.000 0.000 0.000]\n",
      " ...\n",
      " [0.000 0.000 0.000 ... 46999999999976.500 0.000 0.000]\n",
      " [0.000 0.000 0.000 ... 0.000 46999999999976.500 0.000]\n",
      " [0.000 0.000 0.000 ... 0.000 0.000 47999999999976.000]]\n"
     ]
    }
   ],
   "source": [
    "# ψ_frc = sq_ext.diag(H_unc_res,n_eig)[1]\n",
    "ψ_frc = np.linalg.eigh(H_unc_res)[1]\n",
    "print(np.abs(ψ_frc.conj().T @ H_unc_res.__array__() @ ψ_frc))\n"
   ]
  },
  {
   "cell_type": "code",
   "execution_count": 93,
   "metadata": {
    "ExecuteTime": {
     "end_time": "2023-11-28T20:20:39.693478300Z",
     "start_time": "2023-11-28T20:20:39.680149800Z"
    }
   },
   "outputs": [
    {
     "data": {
      "text/plain": [
       "array([[0.000, 0.003, 0.001],\n",
       "       [0.003, 999999999999.507, 210520400652.359],\n",
       "       [0.001, 210520400652.359, 999999999999.504]])"
      ]
     },
     "execution_count": 93,
     "metadata": {},
     "output_type": "execute_result"
    }
   ],
   "source": [
    "np.abs(uncoupled_res.hamiltonian_op('eig').__array__())"
   ]
  },
  {
   "cell_type": "code",
   "execution_count": 94,
   "metadata": {
    "ExecuteTime": {
     "end_time": "2023-11-28T20:20:40.690770Z",
     "start_time": "2023-11-28T20:20:40.676190400Z"
    }
   },
   "outputs": [
    {
     "name": "stdout",
     "output_type": "stream",
     "text": [
      "[[0.000 0.010 0.005]\n",
      " [0.010 0.000 0.008]\n",
      " [0.005 0.008 0.029]]\n"
     ]
    }
   ],
   "source": [
    "H_eff_full = sq_ext.H_eff_p1(res,res, out=None)\n",
    "# H_eff_full -= H_eff_full[0,0]*np.eye(n_eig)\n",
    "\n",
    "H_eff_frc = sq_ext.H_eff_p1_hamil(H_res, H_res, n_eig, out=None)\n",
    "# H_eff_frc -= H_eff_frc[0,0]*np.eye(n_eig)\n",
    "\n",
    "# print(np.abs(H_eff_full))\n",
    "# print(np.abs(H_eff_frc))\n",
    "print(np.round(np.abs(H_eff_full-H_eff_frc),4))\n"
   ]
  },
  {
   "cell_type": "code",
   "execution_count": 116,
   "metadata": {
    "ExecuteTime": {
     "end_time": "2023-11-28T20:23:47.220416800Z",
     "start_time": "2023-11-28T20:23:47.102907900Z"
    }
   },
   "outputs": [
    {
     "name": "stdout",
     "output_type": "stream",
     "text": [
      "[0.000 159.155 318.310]\n",
      "[0.000 159.155 318.310]\n",
      "159.15494309182884\n",
      "159.15494309182222\n"
     ]
    }
   ],
   "source": [
    "E = sq_ext.diag(H_coup_res , n_eig, out='GHz')[0]\n",
    "\n",
    "print( (E-E[0]))\n",
    "print( coupled_res.efreqs )\n",
    "\n",
    "print( (E-E[0])[1])\n",
    "print( coupled_res.efreqs[1] )\n"
   ]
  },
  {
   "cell_type": "code",
   "execution_count": 108,
   "metadata": {
    "ExecuteTime": {
     "end_time": "2023-11-28T20:22:27.455275200Z",
     "start_time": "2023-11-28T20:22:27.444339600Z"
    }
   },
   "outputs": [
    {
     "name": "stdout",
     "output_type": "stream",
     "text": [
      "[0.000 999999999999.494 999999999999.510]\n",
      "[-0.004 999999999999.507 999999999999.515]\n",
      "999999999999.4935\n",
      "999999999999.5068\n"
     ]
    }
   ],
   "source": [
    "E = sq_ext.diag(H_unc_res , n_eig, out=None)[0]\n",
    "\n",
    "print( (E-E[0]))\n",
    "print( uncoupled_res._efreqs )\n",
    "\n",
    "print( (E-E[0])[1])\n",
    "print( uncoupled_res._efreqs[1] )\n"
   ]
  },
  {
   "cell_type": "code",
   "execution_count": 107,
   "metadata": {
    "ExecuteTime": {
     "end_time": "2023-11-28T20:22:24.272615200Z",
     "start_time": "2023-11-28T20:22:24.256988400Z"
    }
   },
   "outputs": [
    {
     "name": "stdout",
     "output_type": "stream",
     "text": [
      "3316624790353.7407\n",
      "3316624790353.767\n"
     ]
    }
   ],
   "source": [
    "E = sq_ext.diag(H_res , n_eig, out=None)[0]\n",
    "print( (E-E[0])[1])\n",
    "print( res._efreqs[1] )\n"
   ]
  },
  {
   "cell_type": "code",
   "execution_count": 106,
   "metadata": {
    "ExecuteTime": {
     "end_time": "2023-11-28T20:22:22.506341700Z",
     "start_time": "2023-11-28T20:22:22.490309400Z"
    }
   },
   "outputs": [
    {
     "name": "stdout",
     "output_type": "stream",
     "text": [
      "[0.000 999999999999.508 1999999999999.008]\n",
      "[0.002 999999999999.502 1999999999999.011]\n"
     ]
    }
   ],
   "source": [
    "E = sq_ext.diag(H_res_0 , n_eig, out=None)[0]\n",
    "print( E )\n",
    "print( res_0._efreqs )\n"
   ]
  },
  {
   "cell_type": "code",
   "execution_count": 3,
   "metadata": {},
   "outputs": [],
   "source": [
    "Csh = 15\n",
    "C   = 15\n",
    "CJ  = 3\n",
    "Lq  = 25\n",
    "Lr  = 10\n",
    "\n",
    "Cf = C/2 + Csh + CJ\n",
    "C_f = Cf * 1e-15\n",
    "C_r = C/2 * 1e-15"
   ]
  },
  {
   "cell_type": "code",
   "execution_count": null,
   "metadata": {},
   "outputs": [],
   "source": [
    "def KIT_resonator(C=15, Lq=25, Lr=10, Δ=0.1):\n",
    "    l = Lq * (Lq + 4 * Lr) - 4 * Δ ** 2\n",
    "    resonator_elements = {\n",
    "        (0, 1): [sq.Capacitor(C / 2, 'fF'), sq.Inductor(l / Lq, 'nH')],\n",
    "    }\n",
    "    return sq.Circuit(resonator_elements)\n",
    "\n",
    "\n",
    "def KIT_fluxonium_no_JJ(C=15, CJ=3, Csh=15, Lq=25, Lr=10, Δ=0.1):\n",
    "    l = Lq * (Lq + 4 * Lr) - 4 * Δ ** 2\n",
    "    fluxonium_elements = {\n",
    "        (0, 1): [sq.Capacitor(C / 2 + Csh + CJ, 'fF'),\n",
    "                 sq.Inductor(l / (Lq + 4 * Lr), 'nH')],\n",
    "    }\n",
    "    return sq.Circuit(fluxonium_elements)\n",
    "\n",
    "def KIT_qubit_no_JJ(C = 15, CJ = 3, Csh= 15 , Lq = 25, Lr = 10, Δ = 0.1, φ_ext=0.5):\n",
    "\n",
    "    # Initialize loop(s)\n",
    "    # loop = sq.Loop(φ_ext)\n",
    "\n",
    "    # Circuit components\n",
    "    C_01 = sq.Capacitor(C,       'fF')\n",
    "    C_02 = sq.Capacitor(C,       'fF')\n",
    "    C_12 = sq.Capacitor(CJ+Csh,  'fF')\n",
    "    L_03 = sq.Inductor(Lr,       'nH')\n",
    "    L_31 = sq.Inductor(Lq/2 - Δ, 'nH')#,  loops=[loop])\n",
    "    L_23 = sq.Inductor(Lq/2 + Δ, 'nH')#,  loops=[loop])\n",
    "\n",
    "    elements = {\n",
    "        (0, 3): [L_03],\n",
    "        (0, 1): [C_01],\n",
    "        (0, 2): [C_02],\n",
    "        (3, 1): [L_31],\n",
    "        (1, 2): [C_12],\n",
    "        (2, 3): [L_23],\n",
    "    }\n",
    "\n",
    "    # Create and return the circuit\n",
    "    return sq.Circuit(elements)\n",
    "\n",
    "def KIT_fluxonium(C = 15, CJ = 3, Csh= 15, Lq = 25, Lr = 10, Δ = 0.1, EJ = 10.0, φ_ext=0.5):\n",
    "    l = Lq * (Lq + 4 * Lr) - 4 * Δ ** 2\n",
    "    loop_fluxonium = sq.Loop(φ_ext)\n",
    "    fluxonium_elements = {\n",
    "        (0, 1): [sq.Capacitor(C / 2 + Csh + CJ, 'fF'),\n",
    "                 sq.Inductor(l / (Lq + 4 * Lr), 'nH', loops=[loop_fluxonium]),\n",
    "                 sq.Junction(EJ, 'GHz', loops=[loop_fluxonium])],\n",
    "    }\n",
    "    return sq.Circuit(fluxonium_elements)\n",
    "\n",
    "def KIT_qubit(C = 15, CJ = 3, Csh= 15 , Lq = 25, Lr = 10, Δ = 0.1, EJ = 10.0, φ_ext=0.5):\n",
    "\n",
    "    # Initialize loop(s)\n",
    "    loop = sq.Loop(φ_ext)\n",
    "\n",
    "    # Circuit components\n",
    "    C_01 = sq.Capacitor(C,       'fF')\n",
    "    C_02 = sq.Capacitor(C,       'fF')\n",
    "    C_12 = sq.Capacitor(CJ+Csh,  'fF')\n",
    "    L_03 = sq.Inductor(Lr,       'nH')\n",
    "    L_31 = sq.Inductor(Lq/2 - Δ, 'nH',  loops=[loop])\n",
    "    L_23 = sq.Inductor(Lq/2 + Δ, 'nH',  loops=[loop])\n",
    "    JJ_12= sq.Junction(EJ,       'GHz', loops=[loop])\n",
    "\n",
    "    elements = {\n",
    "        (0, 3): [L_03],\n",
    "        (0, 1): [C_01],\n",
    "        (0, 2): [C_02],\n",
    "        (3, 1): [L_31],\n",
    "        (1, 2): [C_12, JJ_12],\n",
    "        (2, 3): [L_23],\n",
    "    }\n",
    "\n",
    "    # Create and return the circuit\n",
    "    return sq.Circuit(elements)\n"
   ]
  },
  {
   "cell_type": "code",
   "execution_count": null,
   "metadata": {},
   "outputs": [],
   "source": [
    "n_eig = 4\n",
    "trunc_num = 20\n",
    "Δ=1\n",
    "\n",
    "res     = KIT_resonator          (Δ=Δ)\n",
    "# flu     = KIT_fluxonium   (Δ=Δ)\n",
    "# qubit   = KIT_qubit      (Δ=Δ)\n",
    "flu     = KIT_fluxonium_no_JJ    (Δ=Δ)\n",
    "qubit   = KIT_qubit_no_JJ        (Δ=Δ)\n",
    "\n",
    "res_0   = KIT_resonator          (Δ=0)\n",
    "# flu_0   = KIT_fluxonium    (Δ=0)\n",
    "# qubit_0 = KIT_qubit       (Δ=0)\n",
    "flu_0   = KIT_fluxonium_no_JJ    (Δ=0)\n",
    "qubit_0 = KIT_qubit_no_JJ        (Δ=0)\n",
    "#\n",
    "res     .set_trunc_nums([trunc_num])\n",
    "flu     .set_trunc_nums([trunc_num])\n",
    "qubit   .set_trunc_nums([1, trunc_num,trunc_num])\n",
    "# qubit   .set_trunc_nums( [trunc_num,trunc_num])\n",
    "res_0   .set_trunc_nums([trunc_num])\n",
    "flu_0   .set_trunc_nums([trunc_num])\n",
    "qubit_0 .set_trunc_nums([1, trunc_num,trunc_num])\n",
    "# qubit_0 .set_trunc_nums([trunc_num,trunc_num])\n",
    "\n",
    "_ = res     .diag(n_eig)\n",
    "_ = flu     .diag(n_eig)\n",
    "_ = qubit   .diag(n_eig)\n",
    "_ = res_0   .diag(n_eig)\n",
    "_ = flu_0   .diag(n_eig)\n",
    "_ = qubit_0 .diag(n_eig)\n"
   ]
  },
  {
   "cell_type": "code",
   "execution_count": null,
   "metadata": {},
   "outputs": [],
   "source": [
    "l = Lq*(Lq+4*Lr) - 4*Δ**2\n",
    "L_r = l/Lq * 1e-9\n",
    "L_f = l/(Lq+4*Lr) * 1e-9\n",
    "L_c = l/Δ * 1e-9\n",
    "\n",
    "L_r_0 = (Lq+4*Lr) * 1e-9\n",
    "L_f_0 = Lq * 1e-9\n"
   ]
  },
  {
   "cell_type": "code",
   "execution_count": null,
   "metadata": {},
   "outputs": [],
   "source": [
    "Q_res = res.charge_op(0)\n",
    "Φ_res = res.flux_op(0)\n",
    "\n",
    "Q_res_0 = res_0.charge_op(0)\n",
    "Φ_res_0 = res_0.flux_op(0)\n",
    "\n",
    "Q_flu = flu.charge_op(0)\n",
    "Φ_flu = flu.flux_op(0)\n",
    "\n",
    "Q_flu_0 = flu_0.charge_op(0)\n",
    "Φ_flu_0 = flu_0.flux_op(0)\n"
   ]
  },
  {
   "cell_type": "code",
   "execution_count": null,
   "metadata": {},
   "outputs": [],
   "source": [
    "H_res_0 = 1/2 * Q_res_0**2 / C_r  + 1/2 * Φ_res_0**2 / L_r_0\n",
    "# H_res = 1/2 * Q_res**2 / C_r  + 1/2 * Φ_res**2 / L_r\n",
    "H_res = res.hamiltonian()\n",
    "\n",
    "H_flu_0 = 1/2 * Q_flu_0**2 / C_f + 1/2 * Φ_flu_0**2 / L_f_0\n",
    "# H_flu = 1/2 * Q_flu**2 / C_f + 1/2 * Φ_flu**2 / L_f\n",
    "H_flu = flu.hamiltonian()\n",
    "\n",
    "I_res = qt.identity(H_res.shape[0])\n",
    "I_flu = qt.identity(H_flu.shape[0])\n",
    "\n",
    "H_qubit_0 = qt.tensor(H_res_0,I_res) + qt.tensor(I_res,H_flu_0)\n",
    "H_qubit = qt.tensor(H_res,I_flu) + qt.tensor(I_res,H_flu) + qt.tensor(Φ_res,Φ_flu) * 2 * Δ / l / 1e-9\n"
   ]
  },
  {
   "cell_type": "code",
   "execution_count": null,
   "metadata": {},
   "outputs": [],
   "source": [
    "Φ, Q = sq_ext.get_node_variables(qubit , 'FC', isolated='True')\n"
   ]
  },
  {
   "cell_type": "code",
   "execution_count": null,
   "metadata": {},
   "outputs": [],
   "source": [
    "E, ψ = sq_ext.diag(H_qubit , n_eig, out='GHz')\n",
    "ψ_sq = np.array([ψ_i.__array__()[:, 0] for ψ_i in qubit._evecs])\n",
    "\n",
    "print( E-E[0])\n",
    "print( qubit.efreqs )\n",
    "for i in range(n_eig):\n",
    "    print(f'Energy error in state{i} = {np.abs((E-E[0])[i]- (qubit.efreqs[i]-qubit.efreqs[0]))}')\n",
    "    print(f'Wavefunction error in state{i} = {1 - np.abs(ψ[:,i].conj().T @ qubit._evecs[i].__array__())[0]}')\n",
    "\n"
   ]
  },
  {
   "cell_type": "code",
   "execution_count": null,
   "metadata": {},
   "outputs": [],
   "source": [
    "E, ψ = sq_ext.diag(H_qubit , n_eig, out='GHz')\n",
    "ψ_sq = np.array([ψ_i.__array__()[:, 0] for ψ_i in qubit._evecs])\n",
    "\n",
    "print( E-E[0])\n",
    "print( qubit.efreqs )\n",
    "for i in range(n_eig):\n",
    "    print(f'Energy error in state{i} = {np.abs((E-E[0])[i]- (qubit.efreqs[i]-qubit.efreqs[0]))}')\n",
    "    print(f'Wavefunction error in state{i} = {1 - np.abs(ψ[:,i].conj().T @ qubit._evecs[i].__array__())[0]}')\n",
    "\n"
   ]
  },
  {
   "cell_type": "code",
   "execution_count": null,
   "metadata": {},
   "outputs": [],
   "source": [
    "E = sq_ext.diag(H_qubit_0 , n_eig, out='GHz')[0]\n",
    "\n",
    "print( E-E [0])\n",
    "print( qubit_0.efreqs )\n",
    "\n",
    "print( (E-E[0])[1])\n",
    "print( qubit_0.efreqs[1] )\n"
   ]
  },
  {
   "cell_type": "code",
   "execution_count": null,
   "metadata": {},
   "outputs": [],
   "source": [
    "E = sq_ext.diag(H_res , n_eig, out='GHz')[0]\n",
    "print(E-E[0] )\n",
    "print( res.efreqs )\n",
    "\n",
    "print( (E-E[0])[1])\n",
    "print( res.efreqs[1] )\n"
   ]
  },
  {
   "cell_type": "code",
   "execution_count": null,
   "metadata": {},
   "outputs": [],
   "source": [
    "E = sq_ext.diag(H_flu_0, n_eig, out='GHz')[0]\n",
    "print(E-E[0])\n",
    "print( flu_0.efreqs )\n"
   ]
  },
  {
   "cell_type": "code",
   "execution_count": null,
   "metadata": {},
   "outputs": [],
   "source": [
    "E = sq_ext.diag(H_res_0 , n_eig, out='GHz')[0]\n",
    "print(E-E[0] )\n",
    "print( res_0.efreqs )\n",
    "\n",
    "\n",
    "\n",
    "\n"
   ]
  }
 ],
 "metadata": {
  "kernelspec": {
   "display_name": "Python 3 (ipykernel)",
   "language": "python",
   "name": "python3"
  },
  "language_info": {
   "codemirror_mode": {
    "name": "ipython",
    "version": 3
   },
   "file_extension": ".py",
   "mimetype": "text/x-python",
   "name": "python",
   "nbconvert_exporter": "python",
   "pygments_lexer": "ipython3",
   "version": "3.8.17"
  }
 },
 "nbformat": 4,
 "nbformat_minor": 1
}
