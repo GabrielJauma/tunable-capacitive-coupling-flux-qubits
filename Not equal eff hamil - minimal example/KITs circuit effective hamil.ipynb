{
 "cells": [
  {
   "cell_type": "code",
   "execution_count": 1,
   "metadata": {
    "ExecuteTime": {
     "end_time": "2023-11-24T17:04:19.784642900Z",
     "start_time": "2023-11-24T17:04:18.870849200Z"
    }
   },
   "outputs": [],
   "source": [
    "import SQcircuit_extensions as sq_ext\n",
    "import numpy as np\n",
    "import matplotlib.pyplot as plt\n",
    "\n",
    "%matplotlib ipympl"
   ]
  },
  {
   "cell_type": "markdown",
   "metadata": {},
   "source": [
    "## KIT's qubit\n",
    "\n",
    "This notebook studies the qubit proposed by KIT. It's lumped element model is:\n",
    "<img src='Single qubit 4 nodes CC coupled to ground.jpg' width='500'>\n"
   ]
  },
  {
   "cell_type": "markdown",
   "source": [
    "## Parameters"
   ],
   "metadata": {
    "collapsed": false
   }
  },
  {
   "cell_type": "code",
   "execution_count": 3,
   "outputs": [],
   "source": [
    "n_max_resonator = 50\n",
    "n_max_fluxonium = 50\n",
    "\n",
    "trunc_nums_resonator = [n_max_resonator]\n",
    "trunc_nums_fluxonium = [n_max_fluxonium]\n",
    "\n",
    "trunc_nums = [1, n_max_resonator, n_max_fluxonium]\n",
    "trunc_nums_Δ_0 = [ n_max_resonator, n_max_fluxonium]\n",
    "φ_ext = 0.5\n",
    "Δ_values = np.array([1e-10, 1e-3, 1e-1])\n",
    "n_eig = 2"
   ],
   "metadata": {
    "collapsed": false,
    "ExecuteTime": {
     "end_time": "2023-11-24T17:04:19.818149600Z",
     "start_time": "2023-11-24T17:04:19.802356300Z"
    }
   }
  },
  {
   "cell_type": "markdown",
   "source": [
    "## Circuit vs Δ study"
   ],
   "metadata": {
    "collapsed": false
   }
  },
  {
   "cell_type": "code",
   "execution_count": 4,
   "outputs": [],
   "source": [
    "qubit_vs_Δ =     [ ]\n",
    "resonator_vs_Δ = [ ]\n",
    "fluxonium_vs_Δ = [ ]\n",
    "H_frc_vs_Δ = [ ]\n",
    "\n",
    "for Δ in Δ_values:\n",
    "\n",
    "    # qubit     = sq_ext.KIT_qubit_no_JJ    (Δ=Δ)\n",
    "    # fluxonium = sq_ext.KIT_fluxonium_no_JJ(Δ=Δ)\n",
    "    qubit     = sq_ext.KIT_qubit    (Δ=Δ)\n",
    "    fluxonium = sq_ext.KIT_fluxonium(Δ=Δ)\n",
    "    resonator = sq_ext.KIT_resonator(Δ=Δ)\n",
    "\n",
    "    resonator.set_trunc_nums(trunc_nums_resonator)\n",
    "    fluxonium.set_trunc_nums(trunc_nums_fluxonium)\n",
    "\n",
    "    try:\n",
    "        qubit.set_trunc_nums(trunc_nums)\n",
    "    except:\n",
    "        try:\n",
    "            qubit.set_trunc_nums(trunc_nums_Δ_0)\n",
    "        except:\n",
    "            qubit.set_trunc_nums([trunc_nums_resonator[0]*trunc_nums_fluxonium[0]])\n",
    "\n",
    "    #This try and except structure is because if you use the \"no_JJ\" circuits there is no loop.\n",
    "    try:\n",
    "        fluxonium.loops[0].set_flux(φ_ext)\n",
    "        qubit.loops[0].set_flux(φ_ext)\n",
    "    except:\n",
    "        pass\n",
    "\n",
    "    _, _ = resonator.diag(n_eig)\n",
    "    _, _ = fluxonium.diag(n_eig)\n",
    "    _, _ = qubit.diag(n_eig)\n",
    "\n",
    "    qubit_vs_Δ    .append(qubit)\n",
    "    fluxonium_vs_Δ.append(fluxonium)\n",
    "    resonator_vs_Δ.append(resonator)\n",
    "    H_frc_vs_Δ    .append(sq_ext.hamiltonian_frc(fluxonium, resonator, Δ))"
   ],
   "metadata": {
    "collapsed": false,
    "ExecuteTime": {
     "end_time": "2023-11-24T17:04:20.433781Z",
     "start_time": "2023-11-24T17:04:19.818149600Z"
    }
   }
  },
  {
   "cell_type": "code",
   "execution_count": 5,
   "outputs": [
    {
     "data": {
      "text/plain": "<IPython.core.display.Latex object>",
      "text/latex": "$\\hat{H} =~\\omega_1\\hat a^\\dagger_1\\hat a_1~+~\\omega_2\\hat a^\\dagger_2\\hat a_2~+~\\omega_3\\hat a^\\dagger_3\\hat a_3~$"
     },
     "metadata": {},
     "output_type": "display_data"
    },
    {
     "data": {
      "text/plain": "<IPython.core.display.Latex object>",
      "text/latex": "$------------------------------------------------------------$"
     },
     "metadata": {},
     "output_type": "display_data"
    },
    {
     "data": {
      "text/plain": "<IPython.core.display.Latex object>",
      "text/latex": "$\\text{mode}~1:~~~~~~~~~~~\\text{harmonic}~~~~~~~~~~~\\hat{\\varphi}_1~=~\\varphi_{zp_{1}}(\\hat a_1+\\hat a^\\dagger_1)~~~~~~~~~~~\\omega_1/2\\pi~=~46853946.60272~~~~~~~~~~~\\varphi_{zp_{1}}~=~7.42e+02$"
     },
     "metadata": {},
     "output_type": "display_data"
    },
    {
     "data": {
      "text/plain": "<IPython.core.display.Latex object>",
      "text/latex": "$\\text{mode}~2:~~~~~~~~~~~\\text{harmonic}~~~~~~~~~~~\\hat{\\varphi}_2~=~\\varphi_{zp_{2}}(\\hat a_2+\\hat a^\\dagger_2)~~~~~~~~~~~\\omega_2/2\\pi~=~7.2083~~~~~~~~~~~\\varphi_{zp_{2}}~=~5.99e-01$"
     },
     "metadata": {},
     "output_type": "display_data"
    },
    {
     "data": {
      "text/plain": "<IPython.core.display.Latex object>",
      "text/latex": "$\\text{mode}~3:~~~~~~~~~~~\\text{harmonic}~~~~~~~~~~~\\hat{\\varphi}_3~=~\\varphi_{zp_{3}}(\\hat a_3+\\hat a^\\dagger_3)~~~~~~~~~~~\\omega_3/2\\pi~=~6.30348~~~~~~~~~~~\\varphi_{zp_{3}}~=~3.47e-01$"
     },
     "metadata": {},
     "output_type": "display_data"
    },
    {
     "data": {
      "text/plain": "<IPython.core.display.Latex object>",
      "text/latex": "$------------------------------------------------------------$"
     },
     "metadata": {},
     "output_type": "display_data"
    },
    {
     "data": {
      "text/plain": "<IPython.core.display.Latex object>",
      "text/latex": "$\\text{parameters}:~~~~~~~~~~~$"
     },
     "metadata": {},
     "output_type": "display_data"
    },
    {
     "data": {
      "text/plain": "<IPython.core.display.Latex object>",
      "text/latex": "$\\text{loops}:~~~~~~~~~~~~~~~~~~~~$"
     },
     "metadata": {},
     "output_type": "display_data"
    },
    {
     "name": "stdout",
     "output_type": "stream",
     "text": [
      "Φ_1 = [0.000 0.000 1.000]\n",
      "Φ_2 = [1.000 1.000 0.615]\n",
      "Φ_3 = [-1.000 1.000 0.000]\n"
     ]
    },
    {
     "data": {
      "text/plain": "(None, None)"
     },
     "execution_count": 5,
     "metadata": {},
     "output_type": "execute_result"
    }
   ],
   "source": [
    "qubit_vs_Δ[0].description(), sq_ext.print_flux_transformation(qubit_vs_Δ[0])"
   ],
   "metadata": {
    "collapsed": false,
    "ExecuteTime": {
     "end_time": "2023-11-24T17:04:20.513817100Z",
     "start_time": "2023-11-24T17:04:20.433781Z"
    }
   }
  },
  {
   "cell_type": "code",
   "execution_count": 6,
   "outputs": [
    {
     "data": {
      "text/plain": "<IPython.core.display.Latex object>",
      "text/latex": "$\\hat{H} =~\\omega_1\\hat a^\\dagger_1\\hat a_1~+~\\omega_2\\hat a^\\dagger_2\\hat a_2~+~\\omega_3\\hat a^\\dagger_3\\hat a_3~$"
     },
     "metadata": {},
     "output_type": "display_data"
    },
    {
     "data": {
      "text/plain": "<IPython.core.display.Latex object>",
      "text/latex": "$------------------------------------------------------------$"
     },
     "metadata": {},
     "output_type": "display_data"
    },
    {
     "data": {
      "text/plain": "<IPython.core.display.Latex object>",
      "text/latex": "$\\text{mode}~1:~~~~~~~~~~~\\text{harmonic}~~~~~~~~~~~\\hat{\\varphi}_1~=~\\varphi_{zp_{1}}(\\hat a_1+\\hat a^\\dagger_1)~~~~~~~~~~~\\omega_1/2\\pi~=~46854869.31502~~~~~~~~~~~\\varphi_{zp_{1}}~=~7.42e+02$"
     },
     "metadata": {},
     "output_type": "display_data"
    },
    {
     "data": {
      "text/plain": "<IPython.core.display.Latex object>",
      "text/latex": "$\\text{mode}~2:~~~~~~~~~~~\\text{harmonic}~~~~~~~~~~~\\hat{\\varphi}_2~=~\\varphi_{zp_{2}}(\\hat a_2+\\hat a^\\dagger_2)~~~~~~~~~~~\\omega_2/2\\pi~=~7.20868~~~~~~~~~~~\\varphi_{zp_{2}}~=~6.04e-01$"
     },
     "metadata": {},
     "output_type": "display_data"
    },
    {
     "data": {
      "text/plain": "<IPython.core.display.Latex object>",
      "text/latex": "$\\text{mode}~3:~~~~~~~~~~~\\text{harmonic}~~~~~~~~~~~\\hat{\\varphi}_3~=~\\varphi_{zp_{3}}(\\hat a_3+\\hat a^\\dagger_3)~~~~~~~~~~~\\omega_3/2\\pi~=~6.30322~~~~~~~~~~~\\varphi_{zp_{3}}~=~3.59e-01$"
     },
     "metadata": {},
     "output_type": "display_data"
    },
    {
     "data": {
      "text/plain": "<IPython.core.display.Latex object>",
      "text/latex": "$------------------------------------------------------------$"
     },
     "metadata": {},
     "output_type": "display_data"
    },
    {
     "data": {
      "text/plain": "<IPython.core.display.Latex object>",
      "text/latex": "$\\text{parameters}:~~~~~~~~~~~$"
     },
     "metadata": {},
     "output_type": "display_data"
    },
    {
     "data": {
      "text/plain": "<IPython.core.display.Latex object>",
      "text/latex": "$\\text{loops}:~~~~~~~~~~~~~~~~~~~~$"
     },
     "metadata": {},
     "output_type": "display_data"
    },
    {
     "name": "stdout",
     "output_type": "stream",
     "text": [
      "Φ_1 = [0.000 0.000 1.000]\n",
      "Φ_2 = [1.000 0.980 0.609]\n",
      "Φ_3 = [-0.934 1.000 0.015]\n"
     ]
    },
    {
     "data": {
      "text/plain": "(None, None)"
     },
     "execution_count": 6,
     "metadata": {},
     "output_type": "execute_result"
    }
   ],
   "source": [
    "qubit_vs_Δ[-1].description(), sq_ext.print_flux_transformation(qubit_vs_Δ[-1])"
   ],
   "metadata": {
    "collapsed": false,
    "ExecuteTime": {
     "end_time": "2023-11-24T17:04:20.513817100Z",
     "start_time": "2023-11-24T17:04:20.462962800Z"
    }
   }
  },
  {
   "cell_type": "code",
   "execution_count": 7,
   "outputs": [
    {
     "data": {
      "text/plain": "array([[0.00000000e+00, 3.45081704e-16],\n       [3.45081704e-16, 6.30322300e+00]])"
     },
     "execution_count": 7,
     "metadata": {},
     "output_type": "execute_result"
    }
   ],
   "source": [
    "H_eff_full = sq_ext.H_eff_p1(qubit_vs_Δ[0], qubit_vs_Δ[-1], real='True')\n",
    "H_eff_full -= np.eye(len(H_eff_full)) * H_eff_full[0,0]\n",
    "H_eff_full"
   ],
   "metadata": {
    "collapsed": false,
    "ExecuteTime": {
     "end_time": "2023-11-24T17:04:20.581461200Z",
     "start_time": "2023-11-24T17:04:20.513817100Z"
    }
   }
  },
  {
   "cell_type": "code",
   "execution_count": 8,
   "outputs": [
    {
     "data": {
      "text/plain": "array([[ 0.00000000e+00, -3.75533902e-14],\n       [-3.75533902e-14,  6.30355262e+00]])"
     },
     "execution_count": 8,
     "metadata": {},
     "output_type": "execute_result"
    }
   ],
   "source": [
    "H_eff_frc = sq_ext.H_eff_p1_hamil(H_frc_vs_Δ[0],H_frc_vs_Δ[-1],n_eig , real='True')\n",
    "H_eff_frc -= np.eye(len(H_eff_frc)) * H_eff_frc[0,0]\n",
    "H_eff_frc"
   ],
   "metadata": {
    "collapsed": false,
    "ExecuteTime": {
     "end_time": "2023-11-24T17:04:20.770909800Z",
     "start_time": "2023-11-24T17:04:20.549408500Z"
    }
   }
  }
 ],
 "metadata": {
  "kernelspec": {
   "display_name": "Python 3 (ipykernel)",
   "language": "python",
   "name": "python3"
  },
  "language_info": {
   "codemirror_mode": {
    "name": "ipython",
    "version": 3
   },
   "file_extension": ".py",
   "mimetype": "text/x-python",
   "name": "python",
   "nbconvert_exporter": "python",
   "pygments_lexer": "ipython3",
   "version": "3.8.18"
  }
 },
 "nbformat": 4,
 "nbformat_minor": 1
}
