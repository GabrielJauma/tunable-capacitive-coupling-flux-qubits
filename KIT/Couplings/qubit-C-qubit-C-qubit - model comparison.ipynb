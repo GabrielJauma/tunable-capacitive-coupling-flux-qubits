{
 "cells": [
  {
   "cell_type": "code",
   "source": [
    "import Modules.SQcircuit_extensions as sq_ext\n",
    "import Modules.figures as figs\n",
    "import SQcircuit as sq\n",
    "import numpy as np\n",
    "import matplotlib.pyplot as plt\n",
    "from importlib import reload\n",
    "from scipy.linalg import eigh\n",
    "import qutip as qt\n",
    "import sympy as sym\n",
    "\n",
    "%matplotlib ipympl\n",
    "plt.rcParams['text.usetex'] = False\n",
    "reload(sq_ext)\n",
    "reload(sq)\n",
    "reload(figs)\n",
    "np.set_printoptions(linewidth=300, formatter={'float': '{:.12f}'.format})"
   ],
   "metadata": {
    "collapsed": false,
    "ExecuteTime": {
     "end_time": "2024-03-04T11:02:45.005144250Z",
     "start_time": "2024-03-04T11:02:44.660080066Z"
    }
   },
   "id": "5ef0e7158198c0cf",
   "execution_count": 1,
   "outputs": []
  },
  {
   "cell_type": "markdown",
   "source": [
    "# Comparison of sqcircuit, numeric and spin-boson models vs truncation"
   ],
   "metadata": {
    "collapsed": false
   },
   "id": "ebe59b76782aa022"
  },
  {
   "cell_type": "code",
   "source": [
    "Cc = 0.1\n",
    "n_eig = 3\n",
    "# nmax_r_values = np.array([7, 7, 9,  9, 11, 11, 13, 13, 15])\n",
    "# nmax_f_values = np.array([7, 9, 9, 11, 11, 13, 13, 15, 15])\n",
    "nmax_r_values = np.array([3, 3, 3, 3, 3])\n",
    "nmax_f_values = np.array([5, 6, 7, 8, 9])\n",
    "\n",
    "E_sq = []\n",
    "E_n  = []\n",
    "\n",
    "for nmax_r, nmax_f in zip(nmax_r_values, nmax_f_values):\n",
    "    print(nmax_f)\n",
    "    \n",
    "    H_n = sq_ext.hamiltonian_qubit_C_qubit_C_qubit(nmax_r=nmax_r, nmax_f=nmax_f, Cc=Cc, periodic=False)\n",
    "    E = sq_ext.diag(H_n, n_eig, out='GHz')[0]\n",
    "    E_n.append(E-E[0])\n",
    "    del(H_n)\n",
    "    \n",
    "    if nmax_f >= 9:\n",
    "        continue\n",
    "    else:\n",
    "        # H_sq = sq_ext.sq_qubit_C_qubit_C_qubit(Cc, nmax_r=nmax_r, nmax_f=nmax_f)\n",
    "        H_sq = sq_ext.sq_qubit_C_qubit_C_qubit_not_periodic(Cc, nmax_r=nmax_r, nmax_f=nmax_f)\n",
    "        H_sq.diag(n_eig)\n",
    "        E_sq.append(H_sq.efreqs-H_sq.efreqs[0])\n",
    "        del(H_sq)\n",
    "    \n",
    "E_sq = np.array(E_sq )\n",
    "E_n  = np.array(E_n  )"
   ],
   "metadata": {
    "collapsed": false,
    "ExecuteTime": {
     "end_time": "2024-03-04T11:02:38.691060100Z",
     "start_time": "2024-03-04T11:02:29.206157612Z"
    }
   },
   "id": "185f95e9f6f02945",
   "execution_count": 2,
   "outputs": []
  },
  {
   "cell_type": "code",
   "source": [
    "fig, [ax1,ax2] = plt.subplots(ncols=2)\n",
    "\n",
    "for i, ax in enumerate([ax1,ax2]):\n",
    "    ax.plot(E_sq[:,i+1], 'r')\n",
    "    ax.plot(E_n [:,i+1], 'g')\n",
    "\n",
    "fig.show()"
   ],
   "metadata": {
    "collapsed": false,
    "ExecuteTime": {
     "end_time": "2024-03-04T11:02:38.691680563Z",
     "start_time": "2024-03-04T11:02:38.691488256Z"
    }
   },
   "id": "e8244991068eb037",
   "execution_count": null,
   "outputs": []
  },
  {
   "cell_type": "code",
   "source": [
    "Cc_values = np.geomspace( 1e-3, 1, 10)\n",
    "n_eig = 3\n",
    "nmax_r = 4\n",
    "nmax_f = 12 \n",
    "\n",
    "E_sq = []\n",
    "E_n  = []\n",
    "E_sb = []\n",
    "\n",
    "for Cc in Cc_values:\n",
    "    print(Cc)\n",
    "    \n",
    "    H_n = sq_ext.hamiltonian_qubit_C_qubit(nmax_r=nmax_r, nmax_f=nmax_f, Cc=Cc)\n",
    "    E = sq_ext.diag(H_n, n_eig, out='GHz')[0]\n",
    "    E_n.append(E-E[0])\n",
    "    del(H_n)\n",
    "\n",
    "    H_sb = sq_ext.spin_boson_qubit_C_qubit(nmax_r=nmax_r, nmax_f=nmax_f, Cc=Cc)\n",
    "    E = eigh(H_sb, eigvals_only=True)\n",
    "    E_sb.append(E-E[0])\n",
    "    del(H_sb)\n",
    "    \n",
    "    H_sq = sq_ext.sq_qubit_C_qubit(Cc, nmax_r=nmax_r, nmax_f=nmax_f)\n",
    "    H_sq.diag(n_eig)\n",
    "    E_sq.append(H_sq.efreqs-H_sq.efreqs[0])\n",
    "    del(H_sq)\n",
    "    \n",
    "E_sq = np.array(E_sq )\n",
    "E_n  = np.array(E_n  )\n",
    "E_sb = np.array(E_sb )   "
   ],
   "metadata": {
    "collapsed": false,
    "ExecuteTime": {
     "end_time": "2024-03-04T11:02:38.693141700Z",
     "start_time": "2024-03-04T11:02:38.691929546Z"
    }
   },
   "id": "540e073adeb69b6c",
   "execution_count": null,
   "outputs": []
  },
  {
   "cell_type": "code",
   "source": [
    "fig, [ax1, ax2] = plt.subplots(ncols=2, dpi =200)\n",
    "\n",
    "for i, ax in enumerate([ax1, ax2]):\n",
    "    ax.plot(Cc_values, E_sq[:, i + 1], 'r')\n",
    "    ax.plot(Cc_values, E_n[:, i + 1], '--g')\n",
    "    ax.plot(Cc_values, E_sb[:, i + 1], 'b')\n",
    "    \n",
    "ax.set_xscale('log')\n",
    "fig.tight_layout()\n",
    "fig.show()"
   ],
   "metadata": {
    "collapsed": false,
    "ExecuteTime": {
     "start_time": "2024-03-04T11:02:38.692534792Z"
    }
   },
   "id": "1ccf0d6e7380edb5",
   "execution_count": null,
   "outputs": []
  },
  {
   "cell_type": "code",
   "source": [
    "sq_ext = reload(sq_ext)\n",
    "Cc = 1e-1\n",
    "nmax_r = 4\n",
    "nmax_f = 12 \n",
    "H_0 = sq_ext.hamiltonian_qubit_C_qubit_C_qubit(Cc=0 , nmax_r=nmax_r, nmax_f=nmax_f, only_outer=True)\n",
    "H = sq_ext.hamiltonian_qubit_C_qubit_C_qubit(Cc=0 , nmax_r=nmax_r, nmax_f=nmax_f, only_outer=True)\n",
    "# H   = sq_ext.hamiltonian_qubit_C_qubit_C_qubit(Cc=Cc, nmax_r=nmax_r, nmax_f=nmax_f)"
   ],
   "metadata": {
    "collapsed": false,
    "ExecuteTime": {
     "end_time": "2024-03-04T11:21:16.121063666Z",
     "start_time": "2024-03-04T11:21:16.077166809Z"
    }
   },
   "id": "7cf1596da4f3519f",
   "execution_count": 31,
   "outputs": []
  },
  {
   "cell_type": "code",
   "source": [
    "ψ_0 = qt.Qobj(H).eigenstates(sparse=True, eigvals=4, phase_fix=0)[1]"
   ],
   "metadata": {
    "collapsed": false,
    "ExecuteTime": {
     "end_time": "2024-03-04T11:25:57.147366393Z",
     "start_time": "2024-03-04T11:25:51.596733092Z"
    }
   },
   "id": "2b819051f1783ce4",
   "execution_count": 38,
   "outputs": []
  },
  {
   "cell_type": "code",
   "source": [
    "ψ_0"
   ],
   "metadata": {
    "collapsed": false,
    "ExecuteTime": {
     "end_time": "2024-03-04T11:25:58.026560234Z",
     "start_time": "2024-03-04T11:25:58.019508762Z"
    }
   },
   "id": "af63f85bf83fe872",
   "execution_count": 39,
   "outputs": []
  },
  {
   "cell_type": "code",
   "source": [
    "n_eig = 4\n",
    "\n",
    "H_eff = np.zeros((n_eig, n_eig), dtype=complex)\n",
    "\n",
    "for i in range(n_eig):\n",
    "    for j in range(n_eig):\n",
    "        H_eff[i, j] = (ψ_0[i].dag()\n",
    "                       * H * ψ_0 [j]).data[0, 0]"
   ],
   "metadata": {
    "collapsed": false,
    "ExecuteTime": {
     "end_time": "2024-03-04T11:22:10.216942180Z",
     "start_time": "2024-03-04T11:22:10.212668363Z"
    }
   },
   "id": "6efaa19c906ab585",
   "execution_count": 36,
   "outputs": []
  },
  {
   "cell_type": "code",
   "source": [
    "H_eff/2/np.pi/1e9"
   ],
   "metadata": {
    "collapsed": false,
    "ExecuteTime": {
     "end_time": "2024-03-04T11:22:10.705318129Z",
     "start_time": "2024-03-04T11:22:10.702584947Z"
    }
   },
   "id": "438ecac164cb127b",
   "execution_count": 37,
   "outputs": []
  },
  {
   "cell_type": "code",
   "source": [
    "ψ_0.dag() * qt.Qobj(H) * ψ_0"
   ],
   "metadata": {
    "collapsed": false,
    "ExecuteTime": {
     "end_time": "2024-03-04T11:14:26.946646724Z",
     "start_time": "2024-03-04T11:14:26.906015548Z"
    }
   },
   "id": "d2147c8ab11a5a29",
   "execution_count": 24,
   "outputs": []
  },
  {
   "cell_type": "code",
   "source": [
    "H_eff = sq_ext.H_eff_p1a(H_0, H, 4)"
   ],
   "metadata": {
    "collapsed": false,
    "ExecuteTime": {
     "end_time": "2024-03-04T11:03:35.858142584Z",
     "start_time": "2024-03-04T11:03:32.068683802Z"
    }
   },
   "id": "e1085848a4559320",
   "execution_count": 3,
   "outputs": []
  },
  {
   "cell_type": "code",
   "source": [
    "np.round(H_eff,3)"
   ],
   "metadata": {
    "collapsed": false,
    "ExecuteTime": {
     "end_time": "2024-03-01T11:28:07.982670600Z",
     "start_time": "2024-03-01T11:28:07.966183900Z"
    }
   },
   "id": "cf030c8f8e0c974",
   "execution_count": 18,
   "outputs": []
  },
  {
   "cell_type": "code",
   "source": [
    "sq_ext.diag(H_0, 2, out='GHz')[0]"
   ],
   "metadata": {
    "collapsed": false,
    "ExecuteTime": {
     "end_time": "2024-03-01T11:29:41.190110200Z",
     "start_time": "2024-03-01T11:29:38.437152100Z"
    }
   },
   "id": "a04d9216ff884dc9",
   "execution_count": 22,
   "outputs": []
  },
  {
   "cell_type": "code",
   "source": [
    "sq_ext.diag(H, 2, out='GHz')[0]"
   ],
   "metadata": {
    "collapsed": false,
    "ExecuteTime": {
     "end_time": "2024-03-01T11:29:58.487667900Z",
     "start_time": "2024-03-01T11:29:52.761821300Z"
    }
   },
   "id": "799b5bff90918976",
   "execution_count": 23,
   "outputs": []
  },
  {
   "cell_type": "code",
   "source": [
    "sq_ext.diag(H, 2, out='GHz')[0]"
   ],
   "metadata": {
    "collapsed": false,
    "ExecuteTime": {
     "end_time": "2024-03-01T11:36:39.933486600Z",
     "start_time": "2024-03-01T11:36:33.491814300Z"
    }
   },
   "id": "eaeb3c543596c3e2",
   "execution_count": 36,
   "outputs": []
  },
  {
   "cell_type": "code",
   "source": [
    "H_eff = sq_ext.H_eff_SWT(H_0, H, 4)"
   ],
   "metadata": {
    "collapsed": false,
    "ExecuteTime": {
     "end_time": "2024-03-01T11:33:12.598533Z",
     "start_time": "2024-03-01T11:33:01.238179300Z"
    }
   },
   "id": "a48eb48652125dcb",
   "execution_count": 32,
   "outputs": []
  },
  {
   "cell_type": "code",
   "source": [
    "sq_ext.diag(H_eff, 2, out='GHz')[0]"
   ],
   "metadata": {
    "collapsed": false,
    "ExecuteTime": {
     "end_time": "2024-03-01T11:33:30.565846600Z",
     "start_time": "2024-03-01T11:33:30.543842900Z"
    }
   },
   "id": "1688db54e758fe1f",
   "execution_count": 34,
   "outputs": []
  },
  {
   "cell_type": "code",
   "source": [],
   "metadata": {
    "collapsed": false
   },
   "id": "56b53a21c76f95ac",
   "execution_count": null,
   "outputs": []
  }
 ],
 "metadata": {
  "kernelspec": {
   "display_name": "Python 3",
   "language": "python",
   "name": "python3"
  },
  "language_info": {
   "codemirror_mode": {
    "name": "ipython",
    "version": 2
   },
   "file_extension": ".py",
   "mimetype": "text/x-python",
   "name": "python",
   "nbconvert_exporter": "python",
   "pygments_lexer": "ipython2",
   "version": "2.7.6"
  }
 },
 "nbformat": 4,
 "nbformat_minor": 5
}
