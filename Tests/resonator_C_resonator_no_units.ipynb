{
 "cells": [
  {
   "cell_type": "code",
   "execution_count": 1,
   "id": "6d04c102b4d54971",
   "metadata": {
    "collapsed": false,
    "ExecuteTime": {
     "end_time": "2024-01-31T17:41:49.930227800Z",
     "start_time": "2024-01-31T17:41:48.600350100Z"
    }
   },
   "outputs": [
    {
     "data": {
      "text/plain": "<Figure size 640x480 with 0 Axes>"
     },
     "metadata": {},
     "output_type": "display_data"
    }
   ],
   "source": [
    "import Modules.SQcircuit_extensions as sq_ext\n",
    "import Modules.figures as figs\n",
    "import SQcircuit as sq\n",
    "import numpy as np\n",
    "import matplotlib.pyplot as plt\n",
    "import importlib\n",
    "import qutip as qt\n",
    "\n",
    "plt.rcParams['text.usetex'] = False\n",
    "importlib.reload(sq_ext)\n",
    "importlib.reload(sq)\n",
    "importlib.reload(figs)\n",
    "np.set_printoptions(linewidth=200, formatter={'float': '{:.5f}'.format})"
   ]
  },
  {
   "cell_type": "code",
   "outputs": [],
   "source": [
    "fF=1\n",
    "nH=1\n",
    "C_val = 1/2\n",
    "L_val = 1"
   ],
   "metadata": {
    "collapsed": false,
    "ExecuteTime": {
     "end_time": "2024-01-31T17:41:49.976364400Z",
     "start_time": "2024-01-31T17:41:49.930227800Z"
    }
   },
   "id": "e43fa43894895d53",
   "execution_count": 2
  },
  {
   "cell_type": "code",
   "outputs": [],
   "source": [
    "def resonator_C_resonator(Cc, C_val=C_val, L_val=L_val):\n",
    "    Cc = sq.Capacitor(Cc,   'F')\n",
    "    C = sq.Capacitor(C_val, 'F')\n",
    "    L = sq.Inductor (L_val, 'H')\n",
    "    elements = {(0, 1): [L, C],\n",
    "                (0, 2): [L, C],\n",
    "                (1, 2): [Cc], }\n",
    "    return sq.Circuit(elements)\n",
    "\n",
    "def resonator_resonator(connected=True):\n",
    "    C = sq.Capacitor(C_val, 'F')\n",
    "    L = sq.Inductor (L_val, 'H')\n",
    "    if connected:\n",
    "        elements = {(0, 1): [L, C, L, C], }\n",
    "    else:\n",
    "        elements = {(0, 1): [L, C],\n",
    "                    (0, 2): [L, C], }\n",
    "    return sq.Circuit(elements)\n",
    "\n",
    "def resonator_resonator_eq(connected=True):\n",
    "    if connected:\n",
    "        C = sq.Capacitor(C_val+C_val, 'F')\n",
    "        L = sq.Inductor ((1/L_val+1/L_val)**-1, 'H')\n",
    "        elements = {(0, 1): [L, C], }\n",
    "    else:\n",
    "        C = sq.Capacitor(C_val, 'F')\n",
    "        L = sq.Inductor (L_val, 'H')\n",
    "        elements = {(0, 1): [L, C],\n",
    "                    (0, 2): [L, C], }\n",
    "    return sq.Circuit(elements)\n",
    "\n",
    "def resonator(Cc):\n",
    "    # CC = sq.Capacitor(Cc, 'fF')\n",
    "    # C = sq.Capacitor(C_val, 'fF')\n",
    "    # L = sq.Inductor(L_val,  'nH')\n",
    "    # elements = {(0, 2): [L],\n",
    "    #             (0, 1): [C],\n",
    "    #             (1, 2): [CC]}\n",
    "    # return sq.Circuit(elements)\n",
    "    \n",
    "    if Cc == 0:\n",
    "        C = sq.Capacitor(C_val, 'F')\n",
    "        L = sq.Inductor(L_val,  'H')\n",
    "        elements = {(0, 1): [L, C], }\n",
    "        return sq.Circuit(elements)\n",
    "    else:\n",
    "        # C = sq.Capacitor(1/(1/C_val+1/Cc), 'F')\n",
    "        C = sq.Capacitor(((C_val+Cc)/(C_val**2+2*C_val*Cc))**-1, 'F')\n",
    "        L = sq.Inductor (L_val, 'H')\n",
    "        elements = {(0, 1): [L, C], }\n",
    "    return sq.Circuit(elements)\n",
    "    \n",
    "def shutned_resonator(Cc):\n",
    "    Cc = sq.Capacitor(Cc, 'F')\n",
    "    C = sq.Capacitor(C_val, 'F')\n",
    "    L = sq.Inductor (L_val, 'H')\n",
    "    elements = {(0, 1): [L, C, Cc], }\n",
    "    return sq.Circuit(elements)"
   ],
   "metadata": {
    "collapsed": false,
    "ExecuteTime": {
     "end_time": "2024-01-31T18:01:56.482874500Z",
     "start_time": "2024-01-31T18:01:56.477918800Z"
    }
   },
   "id": "d2650785fb7b3ad1",
   "execution_count": 43
  },
  {
   "cell_type": "code",
   "outputs": [],
   "source": [
    "n_eig = 8\n",
    "trunc_num = 60\n",
    "Cc = 1/5"
   ],
   "metadata": {
    "collapsed": false,
    "ExecuteTime": {
     "end_time": "2024-01-31T18:01:56.956408Z",
     "start_time": "2024-01-31T18:01:56.945603200Z"
    }
   },
   "id": "78a7539935b6c8d3",
   "execution_count": 44
  },
  {
   "cell_type": "code",
   "outputs": [],
   "source": [
    "coupled_res = resonator_C_resonator(Cc=Cc)\n",
    "res = resonator(Cc=Cc)\n",
    "\n",
    "uncoupled_res = resonator_C_resonator(Cc=0)\n",
    "res_0 = resonator(Cc=0)\n",
    "\n",
    "uncoupled_renormalized_res = resonator_C_resonator(Cc=0, C_val=((C_val+Cc)/(C_val**2+2*C_val*Cc))**-1, L_val=L_val)\n",
    "renormalized_res = resonator(Cc=Cc)\n",
    "\n",
    "coupled_res.set_trunc_nums([trunc_num, trunc_num])\n",
    "uncoupled_res.set_trunc_nums([trunc_num, trunc_num])\n",
    "uncoupled_renormalized_res.set_trunc_nums([trunc_num, trunc_num])\n",
    "res.set_trunc_nums([trunc_num  ])\n",
    "res_0.set_trunc_nums([trunc_num])\n",
    "renormalized_res.set_trunc_nums([trunc_num])\n",
    "\n",
    "_ = coupled_res.diag(n_eig)\n",
    "_ = uncoupled_res.diag(n_eig)\n",
    "_ = uncoupled_renormalized_res.diag(n_eig)\n",
    "_ = res.diag(n_eig)\n",
    "_ = res_0.diag(n_eig)\n",
    "_ = renormalized_res.diag(n_eig)"
   ],
   "metadata": {
    "collapsed": false,
    "ExecuteTime": {
     "end_time": "2024-01-31T18:10:56.918121100Z",
     "start_time": "2024-01-31T18:10:55.917362100Z"
    }
   },
   "id": "bc0ed99296e2f0ba",
   "execution_count": 71
  },
  {
   "cell_type": "code",
   "outputs": [],
   "source": [
    "Q_0 = res_0._charge_op_isolated(0)\n",
    "Φ_0 = res_0._flux_op_isolated(0)\n",
    "\n",
    "Q = res._charge_op_isolated(0)\n",
    "Φ = res._flux_op_isolated(0)"
   ],
   "metadata": {
    "collapsed": false,
    "ExecuteTime": {
     "end_time": "2024-01-31T18:10:56.927233300Z",
     "start_time": "2024-01-31T18:10:56.906974300Z"
    }
   },
   "id": "81ac023d1f9f38df",
   "execution_count": 72
  },
  {
   "cell_type": "code",
   "outputs": [],
   "source": [
    "# H_res_0 = 1 / 2 * (1/fF)               * Q_0 ** 2  + 1 / 2 * (1/nH) * Φ_0 ** 2\n",
    "# H_res   = 1 / 2 * (1/fF) * (1 + 1/Cc)  * Q ** 2    + 1 / 2 * (1/nH) * Φ   ** 2# \n",
    "H_res_0 = res_0.hamiltonian()\n",
    "H_res   = res.hamiltonian()\n",
    "\n",
    "I = qt.identity(H_res.shape[0])\n",
    "\n",
    "H_unc_res = qt.tensor(H_res_0, I) + qt.tensor(I, H_res_0)\n",
    "\n",
    "H_unc_renorm = qt.tensor(H_res, I) + qt.tensor(I, H_res)\n",
    "\n",
    "H_coup_res = qt.tensor(H_res, I) + qt.tensor(I, H_res) +  (Cc/ ((C_val**2+2*Cc*C_val)*fF)) * qt.tensor(Q, Q)"
   ],
   "metadata": {
    "collapsed": true,
    "ExecuteTime": {
     "end_time": "2024-01-31T18:10:56.959824Z",
     "start_time": "2024-01-31T18:10:56.923641600Z"
    }
   },
   "id": "initial_id",
   "execution_count": 73
  },
  {
   "cell_type": "code",
   "outputs": [
    {
     "data": {
      "text/plain": "array([0.00000, 1.05409, 1.41421, 2.10819, 2.46831, 2.82843, 3.16228, 3.52240])"
     },
     "execution_count": 74,
     "metadata": {},
     "output_type": "execute_result"
    }
   ],
   "source": [
    "E = sq_ext.diag(H_coup_res,n_eig=n_eig)[0]\n",
    "E -= E[0]\n",
    "E"
   ],
   "metadata": {
    "collapsed": false,
    "ExecuteTime": {
     "end_time": "2024-01-31T18:10:57.189207500Z",
     "start_time": "2024-01-31T18:10:56.938515300Z"
    }
   },
   "id": "27a91c35a8818de0",
   "execution_count": 74
  },
  {
   "cell_type": "code",
   "outputs": [
    {
     "data": {
      "text/plain": "array([0.00000, 1.05409, 1.41421, 2.10819, 2.46831, 2.82843, 3.16228, 3.52240])"
     },
     "execution_count": 75,
     "metadata": {},
     "output_type": "execute_result"
    }
   ],
   "source": [
    "E = coupled_res._efreqs - coupled_res._efreqs[0]\n",
    "E"
   ],
   "metadata": {
    "collapsed": false,
    "ExecuteTime": {
     "end_time": "2024-01-31T18:10:57.342348500Z",
     "start_time": "2024-01-31T18:10:57.331055500Z"
    }
   },
   "id": "b097b5af6815bedc",
   "execution_count": 75
  },
  {
   "cell_type": "code",
   "outputs": [
    {
     "data": {
      "text/plain": "array([0.00000, 1.24722, 1.24722, 2.49444, 2.49444, 2.49444, 3.74166, 3.74166])"
     },
     "execution_count": 76,
     "metadata": {},
     "output_type": "execute_result"
    }
   ],
   "source": [
    "E_0 = sq_ext.diag(H_unc_renorm,n_eig=n_eig)[0]\n",
    "E_0 - E_0[0]"
   ],
   "metadata": {
    "collapsed": false,
    "ExecuteTime": {
     "end_time": "2024-01-31T18:10:57.885500800Z",
     "start_time": "2024-01-31T18:10:57.485992900Z"
    }
   },
   "id": "19fe2225dd570ddd",
   "execution_count": 76
  },
  {
   "cell_type": "code",
   "outputs": [
    {
     "data": {
      "text/plain": "array([0.00000, 1.24722, 1.24722, 2.49444, 2.49444, 2.49444, 3.74166, 3.74166])"
     },
     "execution_count": 77,
     "metadata": {},
     "output_type": "execute_result"
    }
   ],
   "source": [
    "uncoupled_renormalized_res._efreqs - uncoupled_renormalized_res._efreqs[0]"
   ],
   "metadata": {
    "collapsed": false,
    "ExecuteTime": {
     "end_time": "2024-01-31T18:10:57.899075200Z",
     "start_time": "2024-01-31T18:10:57.884786400Z"
    }
   },
   "id": "45eb0d88abcf09a",
   "execution_count": 77
  },
  {
   "cell_type": "code",
   "outputs": [
    {
     "data": {
      "text/plain": "array([0.00000, 1.11606, 1.24722, 1.78174, 2.49444, 3.20713, 3.38531, 4.09801, 5.12003])"
     },
     "execution_count": 87,
     "metadata": {},
     "output_type": "execute_result"
    }
   ],
   "source": [
    "import numpy as np\n",
    "from scipy.linalg import eigh\n",
    "\n",
    "# Parameters\n",
    "hbar = 1   # Planck constant (can be set to 1 for simplicity)\n",
    "C = ((C_val+Cc)/(C_val**2+2*C_val*Cc))**-1 * fF\n",
    "L = L_val * nH\n",
    "omega = 1/np.sqrt(L*C) # Resonant frequency of the LC circuits\n",
    "g = 2* 0.5*np.sqrt(C/L)*(Cc/((C_val**2+2*Cc*C_val)*fF))    # Coupling strength\n",
    "\n",
    "# Creation and annihilation operators for a single quantum state\n",
    "def create(n):\n",
    "    return np.diag(np.sqrt(np.arange(1, n)), -1)\n",
    "\n",
    "def annihilate(n):\n",
    "    return np.diag(np.sqrt(np.arange(1, n)), 1)\n",
    "\n",
    "# Size of the matrix (for 2 quanta in each mode)\n",
    "n = 3  # Number of states for each mode (0, 1, 2)\n",
    "\n",
    "# Create operators for each mode\n",
    "a1 = np.kron(create(n), np.eye(n))\n",
    "a1_dagger = np.kron(annihilate(n), np.eye(n))\n",
    "a2 = np.kron(np.eye(n), create(n))\n",
    "a2_dagger = np.kron(np.eye(n), annihilate(n))\n",
    "\n",
    "# Construct the Hamiltonian\n",
    "H = hbar * omega * (np.dot(a1_dagger, a1) + np.dot(a2_dagger, a2)) + hbar * g * (np.dot(a1_dagger, a2) + np.dot(a1, a2_dagger)+\n",
    "                                                                                 0*np.dot(a1_dagger, a2_dagger)+0*np.dot(a1, a2))\n",
    "\n",
    "# Find the eigenvalues (energy levels)\n",
    "energies = eigh(H, eigvals_only=True)\n",
    "\n",
    "# Print the energy levels\n",
    "E = energies#/ 2 / np.pi #/ 1e9\n",
    "# E -= E[0]\n",
    "E"
   ],
   "metadata": {
    "collapsed": false,
    "ExecuteTime": {
     "end_time": "2024-01-31T18:17:27.351504200Z",
     "start_time": "2024-01-31T18:17:27.338565300Z"
    }
   },
   "id": "d12a0499a3127d2b",
   "execution_count": 87
  },
  {
   "cell_type": "code",
   "outputs": [
    {
     "data": {
      "text/plain": "array([0.00000, 1.05409, 1.41421, 2.10819, 2.46831, 2.82843, 3.16228, 3.52240])"
     },
     "execution_count": 63,
     "metadata": {},
     "output_type": "execute_result"
    }
   ],
   "source": [
    "E"
   ],
   "metadata": {
    "collapsed": false,
    "ExecuteTime": {
     "end_time": "2024-01-31T18:08:47.277689500Z",
     "start_time": "2024-01-31T18:08:47.260859100Z"
    }
   },
   "id": "3efdfbc3ee65649f",
   "execution_count": 63
  },
  {
   "cell_type": "code",
   "outputs": [],
   "source": [],
   "metadata": {
    "collapsed": false
   },
   "id": "497a067429ec016"
  }
 ],
 "metadata": {
  "kernelspec": {
   "display_name": "Python 3",
   "language": "python",
   "name": "python3"
  },
  "language_info": {
   "codemirror_mode": {
    "name": "ipython",
    "version": 2
   },
   "file_extension": ".py",
   "mimetype": "text/x-python",
   "name": "python",
   "nbconvert_exporter": "python",
   "pygments_lexer": "ipython2",
   "version": "2.7.6"
  }
 },
 "nbformat": 4,
 "nbformat_minor": 5
}
