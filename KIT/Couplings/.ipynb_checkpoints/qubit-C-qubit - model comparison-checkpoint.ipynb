{
 "cells": [
  {
   "cell_type": "code",
   "execution_count": 1,
   "id": "5ef0e7158198c0cf",
   "metadata": {
    "ExecuteTime": {
     "end_time": "2024-05-13T14:08:53.054658Z",
     "start_time": "2024-05-13T14:08:52.566481Z"
    }
   },
   "source": [
    "import Modules.SQcircuit_extensions as sq_ext\n",
    "import Modules.figures as figs\n",
    "import SQcircuit as sq\n",
    "import numpy as np\n",
    "import matplotlib.pyplot as plt\n",
    "import importlib\n",
    "from scipy.linalg import eigh\n",
    "import qutip as qt\n",
    "import sympy as sym\n",
    "from joblib import Parallel, delayed, cpu_count\n",
    "\n",
    "%matplotlib ipympl\n",
    "plt.rcParams['text.usetex'] = False\n",
    "importlib.reload(sq_ext)\n",
    "importlib.reload(sq)\n",
    "importlib.reload(figs)\n",
    "np.set_printoptions(linewidth=300, formatter={'float': '{:.12f}'.format})"
   ],
   "outputs": []
  },
  {
   "cell_type": "markdown",
   "id": "ebe59b76782aa022",
   "metadata": {},
   "source": [
    "# Comparison of sqcircuit composite vs full circuit model"
   ]
  },
  {
   "cell_type": "code",
   "execution_count": 2,
   "id": "fd4689efec6e4f48",
   "metadata": {
    "ExecuteTime": {
     "end_time": "2024-05-13T14:08:53.057008Z",
     "start_time": "2024-05-13T14:08:53.055439Z"
    }
   },
   "source": [
    "fF  = 1e-15\n",
    "nH  = 1e-9\n",
    "GHz = 1e9"
   ],
   "outputs": []
  },
  {
   "cell_type": "code",
   "execution_count": 3,
   "id": "602d610e5a0ffe49",
   "metadata": {
    "ExecuteTime": {
     "end_time": "2024-05-13T14:08:53.059092Z",
     "start_time": "2024-05-13T14:08:53.057372Z"
    }
   },
   "source": [
    "\n",
    "# Csh = 9\n",
    "# C   = 15 \n",
    "# CJ  = 9\n",
    "# Lq  = 25\n",
    "# Lr  = 10\n",
    "# Δ   = 0.1\n",
    "# EJ  = 10.0\n",
    "\n",
    "# Csh_prime = Csh -1\n",
    "# C_prime   = C   +15\n",
    "# CJ_prime  = CJ  +3\n",
    "# Lq_prime  = Lq  +12\n",
    "# Lr_prime  = Lr  +14\n",
    "# Δ_prime   = Δ   +0.1\n",
    "# EJ_prime  = EJ  +6\n",
    "\n",
    "# CF, CR = sq_ext.C_CJ_Csh_to_CF_CR_eff(C=C, CJ=CJ, Csh=Csh)\n",
    "# LF, LR = sq_ext.Lq_Lr_to_LF_LR_eff(Lq=Lq, Lr=Lr, Δ=Δ)\n",
    "\n",
    "# CF_prime, CR_prime = sq_ext.C_CJ_Csh_to_CF_CR_eff(C=C_prime, CJ=CJ_prime, Csh=Csh_prime)\n",
    "# LF_prime, LR_prime = sq_ext.Lq_Lr_to_LF_LR_eff(Lq=Lq_prime, Lr=Lr_prime, Δ=Δ_prime)"
   ],
   "outputs": []
  },
  {
   "cell_type": "code",
   "execution_count": 4,
   "id": "8107dd0287a83245",
   "metadata": {
    "ExecuteTime": {
     "end_time": "2024-05-13T14:08:53.112129Z",
     "start_time": "2024-05-13T14:08:53.109058Z"
    }
   },
   "source": [
    "Δ  = 0.1\n",
    "LF = 26.5\n",
    "CF = 26.9\n",
    "EJ = 5.4\n",
    "ω_r= 6.46\n",
    "LR = 140\n",
    "CR = 1/ (LR* nH)  /(ω_r*2*np.pi*GHz)**2/fF\n",
    "Lq, Lr = sq_ext.LF_LR_eff_to_Lq_Lr(LF=LF, LR=LR, Δ=Δ)\n",
    "C, Csh, CJ = sq_ext.CF_CR_eff_to_C_CJ_Csh(CF=CF, CR=CR)\n",
    "\n",
    "Δ_prime = 0.1\n",
    "LF_prime = 20.4\n",
    "CF_prime = 22.4\n",
    "EJ_prime = 9.5\n",
    "ω_r_prime = 6.274\n",
    "LR_prime = 100\n",
    "CR_prime = 1/ (LR_prime* nH)  /(ω_r_prime*2*np.pi*GHz)**2/fF\n",
    "Lq_prime, Lr_prime = sq_ext.LF_LR_eff_to_Lq_Lr(LF=LF_prime, LR=LR_prime, Δ=Δ_prime)\n",
    "C_prime, Csh_prime, CJ_prime = sq_ext.CF_CR_eff_to_C_CJ_Csh(CF=CF_prime, CR=CR_prime)"
   ],
   "outputs": []
  },
  {
   "cell_type": "code",
   "execution_count": 17,
   "id": "aa0e2c010b638351",
   "metadata": {
    "ExecuteTime": {
     "end_time": "2024-05-13T14:09:37.320797Z",
     "start_time": "2024-05-13T14:09:37.318866Z"
    }
   },
   "source": [
    "nmax_r = 10\n",
    "nmax_f = 10\n",
    "CC = 10\n",
    "only_inner = True\n",
    "compensate_extra_cap = False\n",
    "only_renormalization = False\n",
    "n_eig = 5\n",
    "φ_ext = 1"
   ],
   "outputs": []
  },
  {
   "cell_type": "code",
   "execution_count": 18,
   "id": "588c36df58aa849a",
   "metadata": {
    "ExecuteTime": {
     "end_time": "2024-05-13T14:09:38.575563Z",
     "start_time": "2024-05-13T14:09:38.573598Z"
    }
   },
   "source": [
    "omega_q_exp = [3.7001944890642844, 3.4505095260121497, 3.0342472605322786]\n",
    "ω_r_exp = [6.46, 6.274, 5.22] \n"
   ],
   "outputs": []
  },
  {
   "cell_type": "code",
   "execution_count": 19,
   "id": "c473f75c404666ea",
   "metadata": {
    "ExecuteTime": {
     "end_time": "2024-05-13T14:09:39.058302Z",
     "start_time": "2024-05-13T14:09:38.850092Z"
    }
   },
   "source": [
    "H_composite = sq_ext.hamiltonian_qubit_C_qubit(CC=CC, CR=CR, CF=CF, LF=LF, LR=LR, EJ=EJ, Δ=Δ, φ_ext=φ_ext, CR_prime=CR_prime, CF_prime=CF_prime, LF_prime=LF_prime, LR_prime=LR_prime, EJ_prime=EJ_prime, Δ_prime=Δ_prime, φ_ext_prime=φ_ext, nmax_r=nmax_r, nmax_f=nmax_f, only_inner=only_inner, compensate_extra_cap=compensate_extra_cap, only_renormalization=only_renormalization)\n",
    "E_composite = sq_ext.diag(H_composite, n_eig,   remove_ground=True)[0]"
   ],
   "outputs": []
  },
  {
   "cell_type": "code",
   "execution_count": 53,
   "id": "b87f49a2a3f41529",
   "metadata": {
    "ExecuteTime": {
     "end_time": "2024-05-13T14:40:58.892718Z",
     "start_time": "2024-05-13T14:40:58.888899Z"
    }
   },
   "source": [
    "resonator       = sq_ext.sq_resonator(C_R_eff=CR,       L_R_eff=LR,       Δ=Δ,       EJ=EJ,       nmax_r=nmax_r)"
   ],
   "outputs": []
  },
  {
   "cell_type": "code",
   "execution_count": null,
   "id": "496789507a58feb7",
   "metadata": {},
   "source": [
    "resonator.charge_op(0)"
   ],
   "outputs": []
  },
  {
   "cell_type": "code",
   "execution_count": 20,
   "id": "60db57af8c33dfe1",
   "metadata": {
    "ExecuteTime": {
     "end_time": "2024-05-13T14:09:53.264040Z",
     "start_time": "2024-05-13T14:09:39.351814Z"
    }
   },
   "source": [
    "circ_full = sq_ext.sq_qubit_C_qubit(CC=CC, C=C, CJ=CJ, Csh=Csh, Lq=Lq, Lr=Lr, Δ=Δ, EJ=EJ, φ_ext=φ_ext,\n",
    "                                      C_prime=C_prime, CJ_prime=CJ_prime, Csh_prime=Csh_prime, Lq_prime=Lq_prime, Lr_prime=Lr_prime, Δ_prime=Δ_prime, EJ_prime=EJ_prime, φ_ext_prime=φ_ext,\n",
    "                                      nmax_r=nmax_r, nmax_f=nmax_f, only_inner=only_inner, compensate_extra_cap=compensate_extra_cap, only_renormalization=only_renormalization)\n",
    "circ_full.diag(n_eig)\n",
    "E_full = circ_full.efreqs\n",
    "E_full  = E_full-E_full[0]"
   ],
   "outputs": []
  },
  {
   "cell_type": "code",
   "execution_count": 21,
   "id": "8f9c4bf162ab65aa",
   "metadata": {
    "ExecuteTime": {
     "end_time": "2024-05-13T14:09:53.266749Z",
     "start_time": "2024-05-13T14:09:53.264778Z"
    }
   },
   "source": [
    "E_composite"
   ],
   "outputs": []
  },
  {
   "cell_type": "code",
   "execution_count": 22,
   "id": "79821237eeaf4eb6",
   "metadata": {
    "ExecuteTime": {
     "end_time": "2024-05-13T14:09:53.268819Z",
     "start_time": "2024-05-13T14:09:53.267118Z"
    }
   },
   "source": [
    "E_full"
   ],
   "outputs": []
  },
  {
   "cell_type": "code",
   "execution_count": 57,
   "id": "c6a095050d9805",
   "metadata": {
    "ExecuteTime": {
     "end_time": "2024-05-13T15:18:41.537137Z",
     "start_time": "2024-05-13T15:18:41.533945Z"
    }
   },
   "source": [
    "CC_mat =   np.array([[ CC / 4 ,  -CC / 4,  CC / 4,  CC / 4],\n",
    "                    [ -CC / 4 ,   CC / 4, -CC / 4, -CC / 4],\n",
    "                    [  CC / 4 ,  -CC / 4,  CC / 4,  CC / 4],\n",
    "                    [  CC / 4 ,  -CC / 4,  CC / 4,  CC / 4]])\n",
    "C0_mat =  np.array([[ CF     , 0       , 0       , 0        ],\n",
    "                    [ 0      ,  CR     , 0       , 0        ],\n",
    "                    [ 0      , 0       , CF_prime, 0        ],\n",
    "                    [ 0      , 0       , 0       , CR_prime ] ])\n",
    "Cmat = C0_mat + CC_mat"
   ],
   "outputs": []
  },
  {
   "cell_type": "code",
   "execution_count": 60,
   "id": "d751874a9e88303c",
   "metadata": {
    "ExecuteTime": {
     "end_time": "2024-05-13T15:18:50.357204Z",
     "start_time": "2024-05-13T15:18:50.354756Z"
    }
   },
   "source": [
    "Cinv = np.linalg.inv(Cmat)\n",
    "Cinv"
   ],
   "outputs": []
  },
  {
   "cell_type": "code",
   "execution_count": 62,
   "id": "82433258",
   "metadata": {},
   "source": [
    "Cinv[0,2]**-1"
   ],
   "outputs": []
  },
  {
   "cell_type": "code",
   "execution_count": 46,
   "id": "8571f5883f3a917f",
   "metadata": {
    "ExecuteTime": {
     "end_time": "2024-05-13T14:26:35.432432Z",
     "start_time": "2024-05-13T14:26:35.429800Z"
    }
   },
   "source": [
    "nmax_r = 10\n",
    "nmax_f = 10\n",
    "CC = 10\n",
    "only_inner = True\n",
    "compensate_extra_cap = False\n",
    "only_renormalization = False \n",
    "\n",
    "φ_ext_values = np.linspace(0.5, 1, 100)\n",
    "# φ_ext_values_full = np.array([0.5, 0.522, 0.55, 0.58, 0.625, 0.67, 0.75])\n",
    "φ_ext_values_full = np.array([0.5, 0.522, 0.58, 0.67, 0.75, 1])"
   ],
   "outputs": []
  },
  {
   "cell_type": "code",
   "execution_count": 47,
   "id": "f6d7bda701cad7b1",
   "metadata": {
    "ExecuteTime": {
     "end_time": "2024-05-13T14:26:35.783312Z",
     "start_time": "2024-05-13T14:26:35.780170Z"
    }
   },
   "source": [
    "def comp_spectrum_Q_c_Q_vs_φ_ext(CC, CR, CF, LF, LR, EJ, Δ, φ_ext, CR_prime, CF_prime, LF_prime, LR_prime, EJ_prime, Δ_prime, φ_ext_prime, nmax_r, nmax_f, only_inner, compensate_extra_cap,only_renormalization):\n",
    "    H_composite = sq_ext.hamiltonian_qubit_C_qubit(CC=CC, CR=CR, CF=CF, LF=LF, LR=LR, EJ=EJ, Δ=Δ, φ_ext=φ_ext, \n",
    "                                               CR_prime=CR_prime, CF_prime=CF_prime, LF_prime=LF_prime, LR_prime=LR_prime, EJ_prime=EJ_prime, Δ_prime=Δ_prime, φ_ext_prime=φ_ext_prime, \n",
    "                                               nmax_r=nmax_r, nmax_f=nmax_f, only_inner=only_inner, compensate_extra_cap=compensate_extra_cap, only_renormalization=only_renormalization)\n",
    "    return sq_ext.diag(H_composite, n_eig,   remove_ground=True)[0] \n"
   ],
   "outputs": []
  },
  {
   "cell_type": "code",
   "execution_count": 48,
   "id": "48d6158ea3ce0d66",
   "metadata": {
    "ExecuteTime": {
     "end_time": "2024-05-13T14:26:36.074439Z",
     "start_time": "2024-05-13T14:26:36.070979Z"
    }
   },
   "source": [
    "def full_spectrum_Q_c_Q_vs_φ_ext(CC, C, CJ, Csh, Lq, Lr, Δ, EJ, φ_ext, C_prime, CJ_prime, Csh_prime, Lq_prime, Lr_prime, Δ_prime, EJ_prime, φ_ext_prime, nmax_r, nmax_f, only_inner, compensate_extra_cap,only_renormalization):\n",
    "    circ_full = sq_ext.sq_qubit_C_qubit(CC=CC, C=C, CJ=CJ, Csh=Csh, Lq=Lq, Lr=Lr, Δ=Δ, EJ=EJ, φ_ext=φ_ext,\n",
    "                                          C_prime=C_prime, CJ_prime=CJ_prime, Csh_prime=Csh_prime, Lq_prime=Lq_prime, Lr_prime=Lr_prime, Δ_prime=Δ_prime, EJ_prime=EJ_prime, φ_ext_prime=φ_ext_prime,\n",
    "                                          nmax_r=nmax_r, nmax_f=nmax_f, only_inner=only_inner, compensate_extra_cap=compensate_extra_cap,only_renormalization=only_renormalization)\n",
    "    circ_full.diag(n_eig)\n",
    "    E = circ_full.efreqs\n",
    "    return E-E[0]"
   ],
   "outputs": []
  },
  {
   "cell_type": "code",
   "execution_count": 49,
   "id": "dfe512a42f149b73",
   "metadata": {
    "ExecuteTime": {
     "end_time": "2024-05-13T14:26:41.272849Z",
     "start_time": "2024-05-13T14:26:36.479640Z"
    }
   },
   "source": [
    "E_composite = np.array(Parallel(n_jobs=10)( delayed(comp_spectrum_Q_c_Q_vs_φ_ext)(CC, CR, CF, LF, LR, EJ, Δ, φ_ext,\n",
    "                                                                                  CR_prime, CF_prime, LF_prime, LR_prime, EJ_prime, Δ_prime, φ_ext,\n",
    "                                                                                  nmax_r, nmax_f, only_inner, compensate_extra_cap,only_renormalization) for φ_ext in φ_ext_values))"
   ],
   "outputs": []
  },
  {
   "cell_type": "code",
   "execution_count": 50,
   "id": "b3faa2d8a14bfb13",
   "metadata": {
    "ExecuteTime": {
     "end_time": "2024-05-13T14:27:56.423514Z",
     "start_time": "2024-05-13T14:26:41.273627Z"
    }
   },
   "source": [
    "E_full  = np.array(Parallel(n_jobs=len(φ_ext_values_full))( delayed(full_spectrum_Q_c_Q_vs_φ_ext)(CC, C, CJ, Csh, Lq, Lr, Δ, EJ, φ_ext, \n",
    "                                                                              C_prime, CJ_prime, Csh_prime, Lq_prime, Lr_prime, Δ_prime, EJ_prime, φ_ext,\n",
    "                                                                              nmax_r, nmax_f, only_inner, compensate_extra_cap,only_renormalization) for φ_ext in φ_ext_values_full))"
   ],
   "outputs": []
  },
  {
   "cell_type": "code",
   "execution_count": 51,
   "id": "2f44bb815e37000c",
   "metadata": {
    "ExecuteTime": {
     "end_time": "2024-05-13T14:27:56.427580Z",
     "start_time": "2024-05-13T14:27:56.424531Z"
    }
   },
   "source": [
    "experiment_colors = ['b', 'g', 'r']\n",
    "experiment_labels = ['Unit cell 1', 'Coupler', 'Unit cell 2']\n",
    "colors = figs.generate_colors_from_colormap(n_eig, 'tab10')\n",
    "ω_r_exp = [6.46, 6.274]#, 5.22] "
   ],
   "outputs": []
  },
  {
   "cell_type": "code",
   "execution_count": 52,
   "id": "baf71646a2e496bb",
   "metadata": {
    "ExecuteTime": {
     "end_time": "2024-05-13T14:27:56.507012Z",
     "start_time": "2024-05-13T14:27:56.429559Z"
    }
   },
   "source": [
    "fig, ax = plt.subplots(figsize=[4,3], dpi=250)\n",
    "[ax.plot(φ_ext_values, E_composite[:,i], linewidth=0.8, color=colors[i]) for i in range(n_eig)]\n",
    "[ax.plot(φ_ext_values_full, E_full[:,i],'o', color=colors[i], markersize=2) for i in range(n_eig)]\n",
    "# [ax.hlines(ω_r, φ_ext_values.min(), φ_ext_values.max(), linestyle=':'  , color=experiment_colors[i]) for i, ω_r in enumerate(ω_r_exp) ]\n",
    "ax.set_ylim([2.5, 10])\n",
    "ax.set_xlim([0.5, 0.75])\n",
    "#ax.set_ylabel(r'$')\n",
    "#ax.set_xlabel(r'$')\n",
    "#ax.set_title(r'$')\n",
    "ax.set_title(f'$C_C={CC}\\\\,fF$')\n",
    "fig.tight_layout()\n",
    "fig.show()"
   ],
   "outputs": []
  },
  {
   "cell_type": "code",
   "execution_count": 15,
   "id": "9e5fe1099aa69dcb",
   "metadata": {
    "ExecuteTime": {
     "end_time": "2024-05-13T13:39:51.910553Z",
     "start_time": "2024-05-13T13:39:51.908362Z"
    }
   },
   "source": [
    "plt.close('all')"
   ],
   "outputs": []
  },
  {
   "cell_type": "code",
   "execution_count": 44,
   "id": "136501e85e48a7c8",
   "metadata": {
    "ExecuteTime": {
     "end_time": "2024-05-13T14:26:17.519564Z",
     "start_time": "2024-05-13T14:26:07.435184Z"
    }
   },
   "source": [
    "E_composite_vs_CC_φ_ext = []\n",
    "only_inner = True\n",
    "compensate_extra_cap = True\n",
    "only_renormalization = False \n",
    "CC_values = [0, 0.1, 1, 10]\n",
    "nmax_r = 5\n",
    "nmax_f = 15\n",
    "for CC in CC_values:\n",
    "    E_composite_vs_CC_φ_ext.append( np.array(Parallel(n_jobs=10)( delayed(comp_spectrum_Q_c_Q_vs_φ_ext)(CC, CR, CF, LF, LR, EJ, Δ, φ_ext,\n",
    "                                                                                  CR_prime, CF_prime, LF_prime, LR_prime, EJ_prime, Δ_prime, φ_ext,\n",
    "                                                                                  nmax_r, nmax_f, only_inner, compensate_extra_cap, only_renormalization) for φ_ext in φ_ext_values)) )"
   ],
   "outputs": []
  },
  {
   "cell_type": "code",
   "execution_count": 45,
   "id": "f50098b883ce4f52",
   "metadata": {
    "ExecuteTime": {
     "end_time": "2024-05-13T14:26:17.727968Z",
     "start_time": "2024-05-13T14:26:17.520438Z"
    }
   },
   "source": [
    "fig, axs = plt.subplots(ncols = len(CC_values), figsize=np.array([3*len(CC_values),3]), dpi=250)\n",
    "\n",
    "[axs[0].hlines(ω_r, φ_ext_values.min(), φ_ext_values.max(), linestyle=':'  , color=experiment_colors[i]) for i, ω_r in enumerate(ω_r_exp) ]\n",
    "\n",
    "for ax, CC, E_composite_vs_φ_ext in zip(axs, CC_values, E_composite_vs_CC_φ_ext):\n",
    "    [ax.plot(φ_ext_values, E_composite_vs_φ_ext[:,i], linewidth=0.8, color=colors[i]) for i in range(n_eig)]\n",
    "    ax.set_ylim([2.5, 10])\n",
    "    ax.set_xlim([0.5, 0.75])\n",
    "    #ax.set_ylabel(r'$')\n",
    "    #ax.set_xlabel(r'$')\n",
    "    #ax.set_title(r'$')\n",
    "    ax.set_title(f'$C_C={CC}\\\\,fF$')\n",
    "fig.tight_layout()\n",
    "fig.show()"
   ],
   "outputs": []
  },
  {
   "cell_type": "code",
   "execution_count": null,
   "id": "6f1802522f19bec6",
   "metadata": {},
   "source": [],
   "outputs": []
  }
 ],
 "metadata": {
  "kernelspec": {
   "display_name": "Python 3 (ipykernel)",
   "language": "python",
   "name": "python3"
  },
  "language_info": {
   "codemirror_mode": {
    "name": "ipython",
    "version": 3
   },
   "file_extension": ".py",
   "mimetype": "text/x-python",
   "name": "python",
   "nbconvert_exporter": "python",
   "pygments_lexer": "ipython3",
   "version": "3.8.18"
  }
 },
 "nbformat": 4,
 "nbformat_minor": 5
}
