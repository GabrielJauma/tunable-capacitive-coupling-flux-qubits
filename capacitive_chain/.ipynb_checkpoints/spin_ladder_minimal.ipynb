{
 "cells": [
  {
   "cell_type": "code",
   "outputs": [
    {
     "data": {
      "text/plain": "<Figure size 640x480 with 1 Axes>",
      "image/png": "[encoded data removed]"
     },
     "metadata": {},
     "output_type": "display_data"
    }
   ],
   "source": [
    "import numpy as np, scipy.linalg as la, scipy.sparse as sp\n",
    "import matplotlib.pyplot as plt\n",
    "\n",
    "# --- Pauli ------------------------------------------------------------\n",
    "σx = np.array([[0,1],[1,0]],complex)\n",
    "σy = np.array([[0,-1j],[1j,0]],complex)\n",
    "σz = np.array([[1,0],[0,-1]],complex)\n",
    "σp = (σx+1j*σy)/2 ; σm = σp.conj().T\n",
    "kron = np.kron\n",
    "\n",
    "# --- 2‑site Hamiltonian (vacuum = ground) -----------------------------\n",
    "ωc, ωq   = 5., 3.\n",
    "g_hyb    = 0.4                      # flip–flop  q↔c   (mixes sectors)\n",
    "H  = -(ωc/2)*kron(σz,     np.eye(2)) \\\n",
    "   -(ωq/2)*kron(np.eye(2),σz) \\\n",
    "   + g_hyb*(kron(σp,σm)+kron(σm,σp))\n",
    "\n",
    "# --- diagonalise full 4×4 space --------------------------------------\n",
    "E,V = la.eigh(H) ; GS = V[:,0]\n",
    "\n",
    "# --- linear‑response operators ---------------------------------------\n",
    "A = kron(σx, np.eye(2))            # drive first site   (σx₁)\n",
    "B = kron(np.eye(2),σz)             # probe second site  (σz₂)\n",
    "\n",
    "# --- Kubo Im χ(ω) -----------------------------------------------------\n",
    "γ  = 1e-2\n",
    "ω  = np.linspace(-2,2,2001)\n",
    "Imχ = np.zeros_like(ω)\n",
    "for m in range(1,4):\n",
    "    Δ = E[m]-E[0]\n",
    "    M = (GS.conj()@B@V[:,m])*(V[:,m].conj()@A@GS)   # complex in general\n",
    "    Imχ += (-2*M.real*γ)/((ω-Δ)**2+γ**2) + (2*M.real*γ)/((ω+Δ)**2+γ**2)\n",
    "\n",
    "plt.plot(ω,Imχ) ; plt.axhline(0,c='k',lw=.5)\n",
    "plt.xlabel('ω'); plt.ylabel('Im χ'); plt.tight_layout(); plt.show()\n"
   ],
   "metadata": {
    "collapsed": false,
    "ExecuteTime": {
     "end_time": "2025-07-22T19:08:48.978717Z",
     "start_time": "2025-07-22T19:08:48.664143Z"
    }
   },
   "id": "f3cae73bd60cd4c9",
   "execution_count": 15
  },
  {
   "cell_type": "code",
   "outputs": [],
   "source": [],
   "metadata": {
    "collapsed": false
   },
   "id": "7944144bb54ef2a8"
  }
 ],
 "metadata": {
  "kernelspec": {
   "display_name": "Python 3",
   "language": "python",
   "name": "python3"
  },
  "language_info": {
   "codemirror_mode": {
    "name": "ipython",
    "version": 2
   },
   "file_extension": ".py",
   "mimetype": "text/x-python",
   "name": "python",
   "nbconvert_exporter": "python",
   "pygments_lexer": "ipython2",
   "version": "2.7.6"
  }
 },
 "nbformat": 4,
 "nbformat_minor": 5
}
