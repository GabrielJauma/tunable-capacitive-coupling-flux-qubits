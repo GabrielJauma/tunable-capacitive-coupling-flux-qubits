{
 "cells": [
  {
   "cell_type": "code",
   "source": [
    "import Modules.SQcircuit_extensions as sq_ext\n",
    "import Modules.figures as figs\n",
    "import SQcircuit as sq\n",
    "import numpy as np\n",
    "import matplotlib.pyplot as plt\n",
    "import importlib\n",
    "\n",
    "%matplotlib ipympl\n",
    "plt.rcParams['text.usetex'] = False\n",
    "importlib.reload(sq_ext)\n",
    "importlib.reload(sq)\n",
    "importlib.reload(figs)\n",
    "np.set_printoptions(linewidth=200, formatter={'float': '{:.3e}'.format})\n",
    "# np.set_printoptions(linewidth=200, formatter={'float': '{:.1f}'.format})"
   ],
   "metadata": {
    "collapsed": false,
    "ExecuteTime": {
     "end_time": "2024-03-15T11:19:01.487424200Z",
     "start_time": "2024-03-15T11:19:00.607059900Z"
    }
   },
   "id": "fb7fd5e610af63dd",
   "execution_count": 2,
   "outputs": []
  },
  {
   "cell_type": "code",
   "source": [
    "# Fundamental constants\n",
    "h   = 6.62607015e-34\n",
    "e0  = 1.602176634e-19\n",
    "Φ_0 = h/(2*e0)"
   ],
   "metadata": {
    "collapsed": false,
    "ExecuteTime": {
     "end_time": "2024-03-15T11:19:01.487424200Z",
     "start_time": "2024-03-15T11:19:01.467490900Z"
    }
   },
   "id": "9699ee4a9d9af24",
   "execution_count": 3,
   "outputs": []
  },
  {
   "cell_type": "code",
   "source": [
    "GHz = 1e9\n",
    "fF  = 1e-15\n",
    "nH  = 1e-9"
   ],
   "metadata": {
    "collapsed": false,
    "ExecuteTime": {
     "end_time": "2024-03-15T11:19:01.504278400Z",
     "start_time": "2024-03-15T11:19:01.484199200Z"
    }
   },
   "id": "a851972488a4c530",
   "execution_count": 4,
   "outputs": []
  },
  {
   "cell_type": "code",
   "source": [
    "# Circuit parameters\n",
    "Csh = 15\n",
    "# Csh = 2\n",
    "C   = 15\n",
    "# C   = 2\n",
    "Cg  = 10\n",
    "CJ  = 3\n",
    "# CJ  = 2\n",
    "Lq  = 25\n",
    "Lr  = 10\n",
    "Δ   = 0.1\n",
    "EJ  = 20.0\n",
    "l = Lq*(Lq+4*Lr) - 4*Δ**2\n",
    "Cf = C/2 + Csh + CJ\n",
    "Lf = l/(Lq+4*Lr)\n",
    "C_f = Cf * fF\n",
    "L_f = Lf * nH\n",
    "Z_f = np.sqrt(L_f/C_f)\n",
    "\n",
    "L_r = l/Lq * nH\n",
    "C_r = C/2 * fF\n",
    "Z_r = np.sqrt(L_r/C_r)\n",
    "L_q = l / (Lq + 4*Lr) * nH\n",
    "E_J = EJ * GHz\n",
    "E_L_f = (Φ_0/(2*np.pi))**2/L_q / h\n",
    "E_C_f = e0**2 / (2*C_f) / h\n",
    "print(E_L_f/GHz, E_C_f/GHz, E_J/GHz)"
   ],
   "metadata": {
    "collapsed": false,
    "ExecuteTime": {
     "end_time": "2024-03-15T11:22:04.274912500Z",
     "start_time": "2024-03-15T11:22:04.253991Z"
    }
   },
   "id": "2743f985b3cc0ac1",
   "execution_count": 28,
   "outputs": []
  },
  {
   "cell_type": "code",
   "source": [
    "fluxonium_qutrit = sq_ext.sq_fluxonium(C = C, CJ = CJ, Csh= Csh , Lq = Lq, Lr = Lr, Δ =Δ ,φ_ext=0.5, EJ=EJ, nmax_r=30, nmax_f=30)\n",
    "# fluxonium_qutrit = sq_ext.sq_fluxonium(C = C, CJ = CJ, Csh= Csh , Lq = Lq, Lr = Lr, Δ =Δ ,φ_ext=0, EJ=EJ, nmax_r=30, nmax_f=30)"
   ],
   "metadata": {
    "collapsed": false,
    "ExecuteTime": {
     "end_time": "2024-03-15T11:22:04.454652900Z",
     "start_time": "2024-03-15T11:22:04.433036400Z"
    }
   },
   "id": "f6249ecbf4962d65",
   "execution_count": 29,
   "outputs": []
  },
  {
   "cell_type": "code",
   "source": [
    "fluxonium_qutrit_resonator_eq = sq_ext.sq_resonator(L_R_eff = Lf, C_R_eff = Cf, nmax_r=30, nmax_f=30)"
   ],
   "metadata": {
    "collapsed": false,
    "ExecuteTime": {
     "end_time": "2024-03-15T11:22:04.735690600Z",
     "start_time": "2024-03-15T11:22:04.721807100Z"
    }
   },
   "id": "f3157bb5d11a6b4",
   "execution_count": 30,
   "outputs": []
  },
  {
   "cell_type": "code",
   "source": [
    "φ_f = np.linspace(-20,20,200)\n",
    "φ_ext = np.pi\n",
    "# φ_ext = 0\n",
    "V_f = 0.5 * E_L_f * φ_f ** 2 - E_J * np.cos(φ_f-φ_ext)\n",
    "# V_f_q = 0.5 * E_L_f * (φ_f)**2 \n",
    "# V_f_c =-E_J * np.cos(φ_f-φ_ext)\n",
    "\n",
    "n_eig = 2\n",
    "k=0\n",
    "grid_φ = [φ_f/2/np.pi]\n",
    "_, _ = fluxonium_qutrit.diag(n_eig, real=True)\n",
    "_, _ = fluxonium_qutrit_resonator_eq.diag(n_eig, real=True)\n",
    "states_f = [fluxonium_qutrit.eig_phase_coord(k=i, grid=grid_φ) for i in range(n_eig)]\n",
    "states_f_resonator_eq = [fluxonium_qutrit_resonator_eq.eig_phase_coord(k=i, grid=grid_φ) for i in range(n_eig)]\n",
    "# states_f = [fluxonium_qutrit.eig_phase_coord(k=i, grid=[φ_f]) for i in range(n_eig)]\n",
    "labels_f = [r'$\\psi_F^0$', r'$\\psi_F^1$', r'$\\psi_F^2$']\n",
    "colors_f = ['r', 'g', 'b']\n",
    "\n",
    "fig, ax_f = plt.subplots(dpi=150)\n",
    "ax_f.plot(φ_f, (V_f-V_f.min())/GHz,   'k:', label='V')\n",
    "# ax_f.plot(φ_f, (V_f_q-V_f_q.min())/GHz, 'r:', label = r'$\\frac{1}{2}E_{L_{F}}\\varphi_F^2$')\n",
    "# ax_f.plot(φ_f, (V_f_c-V_f.min())/GHz,   'g:', label = r'$ -E_J\\cos(\\varphi_F-\\varphi_{ext})$')\n",
    "ax_ψ = plt.twinx(ax_f)\n",
    "# [ax_ψ.plot(φ_f, np.abs(state)**2, label = fr'$\\psi_F^{k+i}$') for i, state in enumerate(states_f[k:])]\n",
    "[ax_ψ.plot(φ_f, np.real(state), label = fr'$\\psi_F^{k+i}$') for i, state in enumerate(states_f[k:])]\n",
    "# [ax_ψ.plot(φ_f, np.real(state), '.', markersize=0.5) for i, state in enumerate(states_f_resonator_eq[k:])]\n",
    "\n",
    "# [ax_ψ.plot(φ_f, np.imag(state), '.', color=color, markersize=0.5) for state, label, color in zip(states_f, labels_f, colors_f)]\n",
    "# [ax_ψ.plot(φ_f, np.imag(state)) for i, state in enumerate(states_f)]\n",
    "ax_f.set_xlabel(r'$\\varphi_F$')\n",
    "# ax_f.set_xlim([-10/np.pi, 10/np.pi])\n",
    "ax_ψ.legend(loc=1, framealpha=1)\n",
    "\n",
    "fig.show()"
   ],
   "metadata": {
    "collapsed": false,
    "ExecuteTime": {
     "end_time": "2024-03-15T11:22:05.341281700Z",
     "start_time": "2024-03-15T11:22:05.196836900Z"
    }
   },
   "id": "b4ccefc854adfa63",
   "execution_count": 31,
   "outputs": []
  },
  {
   "cell_type": "code",
   "source": [
    "fluxonium_qutrit = sq_ext.KIT_fluxonium_no_JJ()"
   ],
   "metadata": {
    "collapsed": false,
    "ExecuteTime": {
     "end_time": "2024-02-21T13:06:43.609697400Z",
     "start_time": "2024-02-21T13:06:43.599349Z"
    }
   },
   "id": "45d9c2d0dfa01416",
   "execution_count": 98,
   "outputs": []
  },
  {
   "cell_type": "code",
   "source": [
    "φ_f = np.linspace(-4,4,200)\n",
    "# φ_ext = np.pi\n",
    "φ_ext = 0\n",
    "V_f = 0.5 * E_L_f * (φ_f)**2 - E_J * np.cos(φ_f-φ_ext)\n",
    "\n",
    "n_eig = 3\n",
    "_, _ = fluxonium_qutrit.diag(n_eig, real=True)\n",
    "states_f = [fluxonium_qutrit.eig_phase_coord(k=i, grid=[φ_f/2/np.pi]) for i in range(n_eig)]\n",
    "# states_f = [fluxonium_qutrit.eig_phase_coord(k=i, grid=[φ_f]) for i in range(n_eig)]\n",
    "labels_f = [r'$\\psi_F^0$', r'$\\psi_F^1$', r'$\\psi_F^2$']\n",
    "colors_f = ['r', 'g', 'b']\n",
    "fig, ax_f = plt.subplots()\n",
    "\n",
    "ax_f.plot(φ_f, (V_f-V_f.min())/GHz, 'k:')#, label = r'$\\frac{1}{2}E_{L_{F}}\\varphi_F^2 - E_J\\cos(\\varphi_F-\\varphi_{ext})$')\n",
    "# [ax_f.plot(φ_f, np.abs(state)**2, label = label) for state, label in zip(states_f, labels_f)]\n",
    "[ax_f.plot(φ_f, np.real(state), label = label, color=color) for state, label, color in zip(states_f, labels_f, colors_f)]\n",
    "[ax_f.plot(φ_f, np.imag(state), '--', label = label, color=color) for state, label, color in zip(states_f, labels_f, colors_f)]\n",
    "ax_f.set_ylim([-2,3])\n",
    "# ax_f.set_xlim([-4,4])\n",
    "ax_f.set_xlabel(r'$\\varphi_F$')\n",
    "ax_f.legend(loc=1, framealpha=1)\n",
    "\n",
    "fig.show()"
   ],
   "metadata": {
    "collapsed": false,
    "ExecuteTime": {
     "end_time": "2024-01-25T15:14:45.162255054Z",
     "start_time": "2024-01-25T15:14:45.067593054Z"
    }
   },
   "id": "8129dac0da68f45f",
   "execution_count": 45,
   "outputs": []
  }
 ],
 "metadata": {
  "kernelspec": {
   "display_name": "Python 3",
   "language": "python",
   "name": "python3"
  },
  "language_info": {
   "codemirror_mode": {
    "name": "ipython",
    "version": 2
   },
   "file_extension": ".py",
   "mimetype": "text/x-python",
   "name": "python",
   "nbconvert_exporter": "python",
   "pygments_lexer": "ipython2",
   "version": "2.7.6"
  }
 },
 "nbformat": 4,
 "nbformat_minor": 5
}
