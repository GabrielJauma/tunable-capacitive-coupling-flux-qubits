{
 "cells": [
  {
   "cell_type": "code",
   "id": "6d04c102b4d54971",
   "metadata": {
    "collapsed": false,
    "ExecuteTime": {
     "end_time": "2024-05-14T14:08:46.554366Z",
     "start_time": "2024-05-14T14:08:46.549113Z"
    }
   },
   "source": [
    "import Modules.SQcircuit_extensions as sq_ext\n",
    "import Modules.figures as figs\n",
    "import SQcircuit as sq\n",
    "import numpy as np\n",
    "import matplotlib.pyplot as plt\n",
    "import importlib\n",
    "import qutip as qt\n",
    "\n",
    "plt.rcParams['text.usetex'] = False\n",
    "importlib.reload(sq_ext)\n",
    "importlib.reload(sq)\n",
    "importlib.reload(figs)\n",
    "np.set_printoptions(linewidth=200, formatter={'float': '{:.5f}'.format})"
   ],
   "outputs": [
    {
     "data": {
      "text/plain": [
       "<Figure size 640x480 with 0 Axes>"
      ]
     },
     "metadata": {},
     "output_type": "display_data"
    }
   ],
   "execution_count": 21
  },
  {
   "metadata": {
    "ExecuteTime": {
     "end_time": "2024-05-14T14:08:46.716610Z",
     "start_time": "2024-05-14T14:08:46.714800Z"
    }
   },
   "cell_type": "code",
   "source": [
    "GHz = 1e9\n",
    "fF  = 1e-15\n",
    "nH  = 1e-9"
   ],
   "id": "5f4bdd208ceaa787",
   "outputs": [],
   "execution_count": 22
  },
  {
   "metadata": {
    "ExecuteTime": {
     "end_time": "2024-05-14T14:08:47.004195Z",
     "start_time": "2024-05-14T14:08:47.001046Z"
    }
   },
   "cell_type": "code",
   "source": [
    "def resonator_C_resonator(Cc, C_val, L_val):\n",
    "    Cc = sq.Capacitor(Cc, 'fF')\n",
    "    C = sq.Capacitor(C_val,   'fF')\n",
    "    L = sq.Inductor (L_val,   'nH')\n",
    "    elements = {(0, 1): [L, C],\n",
    "                (0, 2): [L, C],\n",
    "                (1, 2): [Cc], }\n",
    "    return sq.Circuit(elements)\n",
    "\n",
    "def resonator(Cc, C_val, L_val):\n",
    "    if Cc == 0:\n",
    "        C = sq.Capacitor(C_val, 'fF')\n",
    "        L = sq.Inductor(L_val,  'nH')\n",
    "        elements = {(0, 1): [L, C], }\n",
    "        return sq.Circuit(elements)\n",
    "    else:\n",
    "        C = sq.Capacitor(1/(1/C_val+1/Cc), 'fF')\n",
    "        L = sq.Inductor (L_val, 'nH')\n",
    "        elements = {(0, 1): [L, C], }\n",
    "    return sq.Circuit(elements)\n",
    "    "
   ],
   "id": "64be2d87e1189800",
   "outputs": [],
   "execution_count": 23
  },
  {
   "cell_type": "code",
   "source": [
    "n_eig = 8\n",
    "trunc_num = 25"
   ],
   "metadata": {
    "collapsed": false,
    "ExecuteTime": {
     "end_time": "2024-05-14T14:09:07.506481Z",
     "start_time": "2024-05-14T14:09:07.504533Z"
    }
   },
   "id": "49a6981b66be1cd4",
   "outputs": [],
   "execution_count": 24
  },
  {
   "cell_type": "code",
   "source": [
    "C_val = 2\n",
    "L_val = 1\n",
    "Cc = 51"
   ],
   "metadata": {
    "collapsed": false,
    "ExecuteTime": {
     "end_time": "2024-05-14T14:05:51.157489Z",
     "start_time": "2024-05-14T14:05:51.155472Z"
    }
   },
   "id": "78a7539935b6c8d3",
   "outputs": [],
   "execution_count": 4
  },
  {
   "cell_type": "code",
   "source": [
    "coupled_res = resonator_C_resonator(Cc=Cc, C_val=C_val, L_val=L_val)\n",
    "res = resonator(Cc=Cc, C_val=C_val, L_val=L_val)\n",
    "\n",
    "coupled_res.set_trunc_nums([trunc_num, trunc_num])\n",
    "res.set_trunc_nums([trunc_num  ])\n",
    "\n",
    "_ = coupled_res.diag(n_eig)\n",
    "_ = res.diag(n_eig)"
   ],
   "metadata": {
    "collapsed": false,
    "ExecuteTime": {
     "end_time": "2024-05-14T14:05:51.708908Z",
     "start_time": "2024-05-14T14:05:51.575825Z"
    }
   },
   "id": "bc0ed99296e2f0ba",
   "outputs": [],
   "execution_count": 5
  },
  {
   "cell_type": "code",
   "source": [
    "Q = res.charge_op(0)\n",
    "Φ = res.flux_op(0)"
   ],
   "metadata": {
    "collapsed": false,
    "ExecuteTime": {
     "end_time": "2024-05-14T14:05:52.243542Z",
     "start_time": "2024-05-14T14:05:52.241603Z"
    }
   },
   "id": "81ac023d1f9f38df",
   "outputs": [],
   "execution_count": 6
  },
  {
   "metadata": {
    "ExecuteTime": {
     "end_time": "2024-05-14T14:05:52.636992Z",
     "start_time": "2024-05-14T14:05:52.634177Z"
    }
   },
   "cell_type": "code",
   "source": [
    "C_mat = np.array([[C_val, -Cc],\n",
    "                  [-Cc, C_val]])\n",
    "C_inv = np.linalg.inv(C_mat)\n",
    "C_inv"
   ],
   "id": "54347f5f66c5f30e",
   "outputs": [
    {
     "data": {
      "text/plain": [
       "array([[0.13333, 0.06667],\n",
       "       [0.06667, 0.13333]])"
      ]
     },
     "execution_count": 7,
     "metadata": {},
     "output_type": "execute_result"
    }
   ],
   "execution_count": 7
  },
  {
   "metadata": {
    "ExecuteTime": {
     "end_time": "2024-05-14T14:05:53.546763Z",
     "start_time": "2024-05-14T14:05:53.543760Z"
    }
   },
   "cell_type": "code",
   "source": [
    "\n",
    "C1_tilde = C_inv[0,0]**-1\n",
    "C2_tilde = C_inv[1,1]**-1\n",
    "C_coup = C_inv[0,1]**-1 /3\n",
    "C_coup, Cc"
   ],
   "id": "3d142583e6643e86",
   "outputs": [
    {
     "data": {
      "text/plain": [
       "(5.0, 5)"
      ]
     },
     "execution_count": 8,
     "metadata": {},
     "output_type": "execute_result"
    }
   ],
   "execution_count": 8
  },
  {
   "metadata": {
    "ExecuteTime": {
     "end_time": "2024-05-14T14:05:53.705971Z",
     "start_time": "2024-05-14T14:05:53.703889Z"
    }
   },
   "cell_type": "code",
   "source": "C_coup = Cc",
   "id": "cdd980ca461778b",
   "outputs": [],
   "execution_count": 9
  },
  {
   "cell_type": "code",
   "source": [
    "H_res   = res.hamiltonian()\n",
    "I = qt.identity(H_res.shape[0])\n",
    "\n",
    "H_coup_res = qt.tensor(H_res, I) + qt.tensor(I, H_res) -  (0.5 / (C_coup*fF)) * qt.tensor(Q, Q)"
   ],
   "metadata": {
    "collapsed": true,
    "ExecuteTime": {
     "end_time": "2024-05-14T14:05:54.316932Z",
     "start_time": "2024-05-14T14:05:54.312355Z"
    }
   },
   "id": "initial_id",
   "outputs": [],
   "execution_count": 10
  },
  {
   "cell_type": "code",
   "source": [
    "E = sq_ext.diag(H_coup_res,n_eig=n_eig, out='GHz')[0]\n",
    "E -= E[0]\n",
    "E/2"
   ],
   "metadata": {
    "collapsed": false,
    "ExecuteTime": {
     "end_time": "2024-05-14T14:06:12.402478Z",
     "start_time": "2024-05-14T14:06:12.267799Z"
    }
   },
   "id": "27a91c35a8818de0",
   "outputs": [
    {
     "data": {
      "text/plain": [
       "array([0.00000, 35.58813, 50.32921, 71.17625, 85.91734, 100.65842, 106.76438, 121.50547])"
      ]
     },
     "execution_count": 14,
     "metadata": {},
     "output_type": "execute_result"
    }
   ],
   "execution_count": 14
  },
  {
   "cell_type": "markdown",
   "source": [],
   "metadata": {
    "collapsed": false
   },
   "id": "8e00ea4ed983c289"
  },
  {
   "cell_type": "code",
   "source": [
    "E = coupled_res.efreqs - coupled_res.efreqs[0]\n",
    "E"
   ],
   "metadata": {
    "collapsed": false,
    "ExecuteTime": {
     "end_time": "2024-05-14T14:06:13.089252Z",
     "start_time": "2024-05-14T14:06:13.086805Z"
    }
   },
   "id": "b097b5af6815bedc",
   "outputs": [
    {
     "data": {
      "text/plain": [
       "array([0.00000, 35.58813, 50.32921, 71.17625, 85.91734, 100.65842, 106.76438, 121.50547])"
      ]
     },
     "execution_count": 15,
     "metadata": {},
     "output_type": "execute_result"
    }
   ],
   "execution_count": 15
  },
  {
   "metadata": {},
   "cell_type": "code",
   "outputs": [],
   "execution_count": null,
   "source": "",
   "id": "a57d6289a7c4f946"
  }
 ],
 "metadata": {
  "kernelspec": {
   "display_name": "Python 3",
   "language": "python",
   "name": "python3"
  },
  "language_info": {
   "codemirror_mode": {
    "name": "ipython",
    "version": 2
   },
   "file_extension": ".py",
   "mimetype": "text/x-python",
   "name": "python",
   "nbconvert_exporter": "python",
   "pygments_lexer": "ipython2",
   "version": "2.7.6"
  }
 },
 "nbformat": 4,
 "nbformat_minor": 5
}
