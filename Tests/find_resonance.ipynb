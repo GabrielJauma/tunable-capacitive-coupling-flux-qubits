{
 "cells": [
  {
   "cell_type": "code",
   "outputs": [],
   "source": [
    "import Modules.SQcircuit_extensions as sq_ext\n",
    "import Modules.figures as figs\n",
    "import SQcircuit as sq\n",
    "import numpy as np\n",
    "import matplotlib.pyplot as plt\n",
    "import importlib\n",
    "from scipy.optimize import minimize_scalar\n",
    "from scipy.linalg import eigh\n",
    "import qutip as qt\n",
    "import sympy as sym\n",
    "from joblib import Parallel, delayed, cpu_count\n",
    "\n",
    "%matplotlib ipympl\n",
    "plt.rcParams.update({\n",
    "    \"text.usetex\": True,\n",
    "    \"font.family\": \"serif\",\n",
    "    \"font.serif\": [\"Palatino\"],\n",
    "})\n",
    "# plt.rcParams['text.usetex'] = False\n",
    "importlib.reload(sq_ext)\n",
    "importlib.reload(sq)\n",
    "importlib.reload(figs)\n",
    "np.set_printoptions(linewidth=300, formatter={'float': '{:.12f}'.format})"
   ],
   "metadata": {
    "collapsed": false,
    "ExecuteTime": {
     "end_time": "2024-05-19T19:11:32.589294100Z",
     "start_time": "2024-05-19T19:11:32.563785700Z"
    }
   },
   "id": "96fb26009e4f5b44",
   "execution_count": 7
  },
  {
   "cell_type": "code",
   "outputs": [],
   "source": [
    "fF  = 1e-15\n",
    "nH  = 1e-9\n",
    "GHz = 1e9"
   ],
   "metadata": {
    "collapsed": false,
    "ExecuteTime": {
     "end_time": "2024-05-19T19:11:32.919458600Z",
     "start_time": "2024-05-19T19:11:32.900946400Z"
    }
   },
   "id": "7fb186c7abede57a",
   "execution_count": 8
  },
  {
   "cell_type": "code",
   "outputs": [],
   "source": [],
   "metadata": {
    "collapsed": false
   },
   "id": "b0b1353713cb5dc7"
  },
  {
   "cell_type": "code",
   "outputs": [],
   "source": [
    "CR_1, CF_1, LF_1, LR_1, EJ_1, Δ_1, ω_r_1 = sq_ext.get_experimental_parameters('qubit_A', Δ=0.1, LR=100)\n",
    "CR_2, CF_2, LF_2, LR_2, EJ_2, Δ_2, ω_r_2 = sq_ext.get_experimental_parameters('qubit_B', Δ=0.1, LR=140)"
   ],
   "metadata": {
    "collapsed": false,
    "ExecuteTime": {
     "end_time": "2024-05-19T19:15:50.016189Z",
     "start_time": "2024-05-19T19:15:49.999168200Z"
    }
   },
   "id": "f10cc3048338e50a",
   "execution_count": 30
  },
  {
   "cell_type": "code",
   "outputs": [
    {
     "data": {
      "text/plain": "3.0342472605322754"
     },
     "execution_count": 31,
     "metadata": {},
     "output_type": "execute_result"
    }
   ],
   "source": [
    "input_circuit = sq_ext.sq_fluxonium(C_F_eff=CF_2, L_F_eff=LF_2, Δ=Δ_2, EJ=EJ_2)\n",
    "sq_ext.diag(input_circuit.hamiltonian(), n_eig=2, remove_ground=True)[0][1]\n"
   ],
   "metadata": {
    "collapsed": false,
    "ExecuteTime": {
     "end_time": "2024-05-19T19:15:50.562074700Z",
     "start_time": "2024-05-19T19:15:50.533470300Z"
    }
   },
   "id": "1ca6c3f299b75b48",
   "execution_count": 31
  },
  {
   "cell_type": "code",
   "outputs": [],
   "source": [
    "H_target = sq_ext.sq_fluxonium(C_F_eff=CF_1, L_F_eff=LF_1, Δ=Δ_1, EJ=EJ_1).hamiltonian()"
   ],
   "metadata": {
    "collapsed": false,
    "ExecuteTime": {
     "end_time": "2024-05-19T19:15:53.404326800Z",
     "start_time": "2024-05-19T19:15:53.379736400Z"
    }
   },
   "id": "2fb98651379e136",
   "execution_count": 32
  },
  {
   "cell_type": "code",
   "outputs": [
    {
     "data": {
      "text/plain": "3.700194489064325"
     },
     "execution_count": 33,
     "metadata": {},
     "output_type": "execute_result"
    }
   ],
   "source": [
    "ω_target = sq_ext.diag(H_target, n_eig=2, remove_ground=True)[0][1]\n",
    "ω_target"
   ],
   "metadata": {
    "collapsed": false,
    "ExecuteTime": {
     "end_time": "2024-05-19T19:15:53.640967700Z",
     "start_time": "2024-05-19T19:15:53.622962900Z"
    }
   },
   "id": "bb9d160587d659a1",
   "execution_count": 33
  },
  {
   "cell_type": "code",
   "outputs": [],
   "source": [
    "def find_resonance(H_target, input_circuit):\n",
    "    # Step 1: Calculate the target gap ω_target\n",
    "    ω_target = sq_ext.diag(H_target, n_eig=2, remove_ground=True)[0][1]\n",
    "    \n",
    "    # Step 2: Define the objective function to minimize the difference between ω_target and ω_input\n",
    "    def objective(φ_ext):\n",
    "        # Set the external flux of the input circuit\n",
    "        loop = input_circuit.loops[0]\n",
    "        loop.set_flux(φ_ext)\n",
    "        \n",
    "        # Diagonalize the input circuit Hamiltonian\n",
    "        E_input = input_circuit.diag(n_eig=2)[0]\n",
    "        ω_input = E_input[1] - E_input[0]\n",
    "        \n",
    "        # Return the absolute difference between ω_target and ω_input\n",
    "        return np.abs(ω_target - ω_input)\n",
    "    \n",
    "    # Step 3: Use an optimization method to find the optimal φ_ext\n",
    "    result = minimize_scalar(objective, bounds=(0.5, 1), method='bounded')\n",
    "    \n",
    "    # Return the optimal φ_ext and the corresponding gap\n",
    "    optimal_φ_ext = result.x\n",
    "    optimal_gap = ω_target\n",
    "    \n",
    "    return optimal_φ_ext, optimal_gap"
   ],
   "metadata": {
    "collapsed": false,
    "ExecuteTime": {
     "end_time": "2024-05-19T19:15:54.029178100Z",
     "start_time": "2024-05-19T19:15:54.011177600Z"
    }
   },
   "id": "25068952de2e3858",
   "execution_count": 34
  },
  {
   "cell_type": "code",
   "outputs": [
    {
     "data": {
      "text/plain": "(0.5500060147953606, 3.7001944890643346)"
     },
     "execution_count": 35,
     "metadata": {},
     "output_type": "execute_result"
    }
   ],
   "source": [
    "find_resonance(H_target, input_circuit)"
   ],
   "metadata": {
    "collapsed": false,
    "ExecuteTime": {
     "end_time": "2024-05-19T19:15:55.288208900Z",
     "start_time": "2024-05-19T19:15:55.211685900Z"
    }
   },
   "id": "f00db4e3231d71ed",
   "execution_count": 35
  },
  {
   "cell_type": "code",
   "outputs": [],
   "source": [],
   "metadata": {
    "collapsed": false
   },
   "id": "fc4ef4a4daabcf21"
  }
 ],
 "metadata": {
  "kernelspec": {
   "display_name": "Python 3",
   "language": "python",
   "name": "python3"
  },
  "language_info": {
   "codemirror_mode": {
    "name": "ipython",
    "version": 2
   },
   "file_extension": ".py",
   "mimetype": "text/x-python",
   "name": "python",
   "nbconvert_exporter": "python",
   "pygments_lexer": "ipython2",
   "version": "2.7.6"
  }
 },
 "nbformat": 4,
 "nbformat_minor": 5
}
