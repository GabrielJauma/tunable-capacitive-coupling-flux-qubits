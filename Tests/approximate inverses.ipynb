{
 "cells": [
  {
   "cell_type": "code",
   "source": [
    "import sympy as sym\n",
    "import numpy as np\n",
    "import matplotlib.pyplot as plt"
   ],
   "metadata": {
    "collapsed": false,
    "ExecuteTime": {
     "end_time": "2024-02-27T14:42:24.795692738Z",
     "start_time": "2024-02-27T14:42:24.793603392Z"
    }
   },
   "id": "4942f20c88272870",
   "execution_count": 13,
   "outputs": []
  },
  {
   "cell_type": "code",
   "source": [
    "def neglect_terms(expr, N):\n",
    "    # Function to neglect terms of order N and higher in a polynomial\n",
    "    # Split the expression into numerator and denominator\n",
    "    num, denom = expr.as_numer_denom()\n",
    "    # Process numerator and denominator to remove terms of order N and higher\n",
    "    num_neglected = sum(coeff * term for term, coeff in num.as_coefficients_dict().items() if all(pow < N for var, pow in term.as_powers_dict().items()))\n",
    "    denom_neglected = sum(coeff * term for term, coeff in denom.as_coefficients_dict().items() if all(pow < N for var, pow in term.as_powers_dict().items()))\n",
    "    # Reconstruct the fraction\n",
    "    return num_neglected / denom_neglected\n",
    "\n",
    "def neglect_terms_in_matrix(matrix, N):\n",
    "    # Process each element in the matrix\n",
    "    processed_matrix = matrix.applyfunc(lambda x: neglect_terms(x, N))\n",
    "\n",
    "    return processed_matrix"
   ],
   "metadata": {
    "collapsed": false,
    "ExecuteTime": {
     "end_time": "2024-02-27T14:42:25.086182959Z",
     "start_time": "2024-02-27T14:42:25.082674384Z"
    }
   },
   "id": "342b5839cf818b06",
   "execution_count": 14,
   "outputs": []
  },
  {
   "cell_type": "code",
   "execution_count": 51,
   "id": "initial_id",
   "metadata": {
    "collapsed": true,
    "ExecuteTime": {
     "end_time": "2024-02-27T15:27:27.349634624Z",
     "start_time": "2024-02-27T15:27:27.346653771Z"
    }
   },
   "source": [
    "# Define the symbols\n",
    "alpha= sym.symbols('\\\\alpha', real=True, positive = True, nonzero=True)\n",
    "N=6\n",
    "C_mat = sym.Matrix(N,N, lambda i, j: -alpha if abs(i-j) == 1 else 1+alpha if i==j else 0)\n",
    "I = sym.Matrix(N,N, lambda i, j:  1 if i==j else 0)"
   ],
   "outputs": []
  },
  {
   "cell_type": "code",
   "source": [
    "C_mat"
   ],
   "metadata": {
    "collapsed": false,
    "ExecuteTime": {
     "end_time": "2024-02-27T15:27:27.510057987Z",
     "start_time": "2024-02-27T15:27:27.508151105Z"
    }
   },
   "id": "4697129116e977b",
   "execution_count": 52,
   "outputs": []
  },
  {
   "cell_type": "code",
   "source": [
    "C_inv = C_mat**-1\n",
    "C_inv"
   ],
   "metadata": {
    "collapsed": false,
    "ExecuteTime": {
     "end_time": "2024-02-27T14:43:13.357931192Z",
     "start_time": "2024-02-27T14:43:12.707280755Z"
    }
   },
   "id": "671164a3855794ac",
   "execution_count": 19,
   "outputs": []
  },
  {
   "cell_type": "code",
   "source": [
    "C_inv_neglect = neglect_terms_in_matrix(C_inv,2)\n",
    "C_inv_neglect"
   ],
   "metadata": {
    "collapsed": false,
    "ExecuteTime": {
     "end_time": "2024-02-27T14:43:16.200888194Z",
     "start_time": "2024-02-27T14:43:16.159440339Z"
    }
   },
   "id": "a6fe17ffdc3fcca3",
   "execution_count": 20,
   "outputs": []
  },
  {
   "cell_type": "code",
   "source": [
    "C_inv_approx = sum( [(I-C_mat)**n for n in range(2)],  sym.zeros(N))"
   ],
   "metadata": {
    "collapsed": false,
    "ExecuteTime": {
     "end_time": "2024-02-27T14:43:18.898146233Z",
     "start_time": "2024-02-27T14:43:18.897316805Z"
    }
   },
   "id": "dea794e4dc50665c",
   "execution_count": 21,
   "outputs": []
  },
  {
   "cell_type": "code",
   "source": [
    "C_inv_approx"
   ],
   "metadata": {
    "collapsed": false,
    "ExecuteTime": {
     "end_time": "2024-02-27T14:43:20.044966219Z",
     "start_time": "2024-02-27T14:43:20.035990796Z"
    }
   },
   "id": "6d664e02e3dc3de9",
   "execution_count": 22,
   "outputs": []
  },
  {
   "cell_type": "code",
   "source": [
    "C_R"
   ],
   "metadata": {
    "collapsed": false,
    "ExecuteTime": {
     "end_time": "2024-02-27T15:04:38.155585918Z",
     "start_time": "2024-02-27T15:04:38.151287502Z"
    }
   },
   "id": "88f7bc4e179f6b75",
   "execution_count": 42,
   "outputs": []
  },
  {
   "cell_type": "code",
   "source": [
    "C=15\n",
    "CJ=3\n",
    "Csh=15\n",
    "Cc = 1\n",
    "C_R = C / 2\n",
    "C_C = Cc\n",
    "C_F = C / 2 + Csh + CJ\n",
    "C_F = C / 2 + Cc\n",
    "\n",
    "C_mat = np.array([[C_R + C_C / 2, 0             , -C_C / 2      , -C_C / 2      , 0             ,        0      ],\n",
    "                  [0            , C_F + C_C / 2 , -C_C / 2      , -C_C / 2      , 0             , 0             ],\n",
    "                  [-C_C / 2     , -C_C / 2      , C_R + C_C / 2 , 0             , -C_C / 2      , -C_C / 2      ],\n",
    "                  [-C_C / 2     , -C_C / 2      , 0             , C_F + C_C / 2 , -C_C / 2      , -C_C / 2      ],\n",
    "                  [0            , 0             , -C_C / 2      , -C_C / 2      , C_R + C_C / 2 , 0             ],\n",
    "                  [0            , 0             , -C_C / 2      , -C_C / 2      , 0             , C_F + C_C / 2 ]])\n",
    "\n",
    "C_inv_a = (1/C_R)**2 * np.array([   [C_R  - C_C / 2, 0           , C_C / 2      , C_C / 2      , 0             ,        0      ],\n",
    "                                    [0              , C_F - C_C / 2 , C_C / 2      , C_C / 2      , 0             , 0             ],\n",
    "                                    [C_C / 2        , C_C / 2      , C_R  - C_C / 2 , 0             , C_C / 2      , C_C / 2      ],\n",
    "                                    [C_C / 2        , C_C / 2      , 0             , C_F - C_C / 2 , C_C / 2      , C_C / 2      ],\n",
    "                                    [0            , 0             , C_C / 2      , C_C / 2      , C_R  - C_C / 2 , 0             ],\n",
    "                                    [0            , 0             , C_C / 2      , C_C / 2      , 0             , C_F - C_C / 2 ]])\n",
    "C_mat"
   ],
   "metadata": {
    "collapsed": false,
    "ExecuteTime": {
     "end_time": "2024-02-27T15:34:55.550527897Z",
     "start_time": "2024-02-27T15:34:55.508679239Z"
    }
   },
   "id": "62ba04a45e93b848",
   "execution_count": 65,
   "outputs": []
  },
  {
   "cell_type": "code",
   "source": [
    "np.linalg.inv(C_mat)"
   ],
   "metadata": {
    "collapsed": false,
    "ExecuteTime": {
     "end_time": "2024-02-27T15:34:55.767527120Z",
     "start_time": "2024-02-27T15:34:55.766870446Z"
    }
   },
   "id": "b82e93fe575505e9",
   "execution_count": 66,
   "outputs": []
  },
  {
   "cell_type": "code",
   "source": [
    "C_inv_a"
   ],
   "metadata": {
    "collapsed": false,
    "ExecuteTime": {
     "end_time": "2024-02-27T15:34:56.127324208Z",
     "start_time": "2024-02-27T15:34:56.125200760Z"
    }
   },
   "id": "87fdd59446e75092",
   "execution_count": 67,
   "outputs": []
  },
  {
   "cell_type": "code",
   "source": [
    "B = sym.Matrix(N,N, lambda i, j: -1 if abs(i-j) == 1 else 0)"
   ],
   "metadata": {
    "collapsed": false,
    "ExecuteTime": {
     "end_time": "2024-02-27T15:26:19.367094650Z",
     "start_time": "2024-02-27T15:26:19.326914827Z"
    }
   },
   "id": "51abbc8bbfe7fbc",
   "execution_count": 47,
   "outputs": []
  },
  {
   "cell_type": "code",
   "source": [
    "B "
   ],
   "metadata": {
    "collapsed": false,
    "ExecuteTime": {
     "end_time": "2024-02-27T15:26:22.171463963Z",
     "start_time": "2024-02-27T15:26:22.167567195Z"
    }
   },
   "id": "4e807ae6ef868df4",
   "execution_count": 48,
   "outputs": []
  },
  {
   "cell_type": "code",
   "source": [
    "C_mat"
   ],
   "metadata": {
    "collapsed": false,
    "ExecuteTime": {
     "end_time": "2024-02-27T15:27:33.850586540Z",
     "start_time": "2024-02-27T15:27:33.849871477Z"
    }
   },
   "id": "4c088c5ff922ff4c",
   "execution_count": 53,
   "outputs": []
  },
  {
   "cell_type": "code",
   "source": [
    "B * C_inv_approx* B"
   ],
   "metadata": {
    "collapsed": false,
    "ExecuteTime": {
     "end_time": "2024-02-27T15:27:49.947318860Z",
     "start_time": "2024-02-27T15:27:49.906956112Z"
    }
   },
   "id": "d1c17d905a0d132b",
   "execution_count": 54,
   "outputs": []
  },
  {
   "cell_type": "code",
   "source": [],
   "metadata": {
    "collapsed": false
   },
   "id": "71ee9c7b36d9f206",
   "execution_count": null,
   "outputs": []
  }
 ],
 "metadata": {
  "kernelspec": {
   "display_name": "Python 3",
   "language": "python",
   "name": "python3"
  },
  "language_info": {
   "codemirror_mode": {
    "name": "ipython",
    "version": 2
   },
   "file_extension": ".py",
   "mimetype": "text/x-python",
   "name": "python",
   "nbconvert_exporter": "python",
   "pygments_lexer": "ipython2",
   "version": "2.7.6"
  }
 },
 "nbformat": 4,
 "nbformat_minor": 5
}
