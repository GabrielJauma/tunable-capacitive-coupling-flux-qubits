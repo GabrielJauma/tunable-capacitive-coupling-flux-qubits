{
 "cells": [
  {
   "cell_type": "code",
   "execution_count": 475,
   "id": "6d04c102b4d54971",
   "metadata": {
    "collapsed": false,
    "ExecuteTime": {
     "end_time": "2024-01-19T10:17:05.033993300Z",
     "start_time": "2024-01-19T10:17:05.012538800Z"
    }
   },
   "outputs": [
    {
     "data": {
      "text/plain": "<Figure size 640x480 with 0 Axes>"
     },
     "metadata": {},
     "output_type": "display_data"
    }
   ],
   "source": [
    "import Modules.SQcircuit_extensions as sq_ext\n",
    "import Modules.figures as figs\n",
    "import SQcircuit as sq\n",
    "import numpy as np\n",
    "import matplotlib.pyplot as plt\n",
    "import importlib\n",
    "import qutip as qt\n",
    "\n",
    "plt.rcParams['text.usetex'] = False\n",
    "importlib.reload(sq_ext)\n",
    "importlib.reload(sq)\n",
    "importlib.reload(figs)\n",
    "np.set_printoptions(linewidth=200, formatter={'float': '{:.5f}'.format})"
   ]
  },
  {
   "cell_type": "code",
   "outputs": [],
   "source": [
    "fF = 1e-15\n",
    "nH = 1e-9\n",
    "C_val = 2\n",
    "L_val = 2"
   ],
   "metadata": {
    "collapsed": false,
    "ExecuteTime": {
     "end_time": "2024-01-19T09:43:32.771992700Z",
     "start_time": "2024-01-19T09:43:32.752145900Z"
    }
   },
   "id": "49a6981b66be1cd4",
   "execution_count": 392
  },
  {
   "cell_type": "code",
   "outputs": [],
   "source": [
    "def resonator_C_resonator(Cc, C_val=C_val, L_val=L_val):\n",
    "    Cc = sq.Capacitor(Cc, 'fF')\n",
    "    C = sq.Capacitor(C_val,   'fF')\n",
    "    L = sq.Inductor (L_val,   'nH')\n",
    "    elements = {(0, 1): [L, C],\n",
    "                (0, 2): [L, C],\n",
    "                (1, 2): [Cc], }\n",
    "    return sq.Circuit(elements)\n",
    "\n",
    "def resonator_resonator(connected=True):\n",
    "    C = sq.Capacitor(C_val, 'fF')\n",
    "    L = sq.Inductor (L_val,  'nH')\n",
    "    if connected:\n",
    "        elements = {(0, 1): [L, C, L, C], }\n",
    "    else:\n",
    "        elements = {(0, 1): [L, C],\n",
    "                    (0, 2): [L, C], }\n",
    "    return sq.Circuit(elements)\n",
    "\n",
    "def resonator_resonator_eq(connected=True):\n",
    "    if connected:\n",
    "        C = sq.Capacitor(C_val+C_val, 'fF')\n",
    "        L = sq.Inductor ((1/L_val+1/L_val)**-1, 'nH')\n",
    "        elements = {(0, 1): [L, C], }\n",
    "    else:\n",
    "        C = sq.Capacitor(C_val, 'fF')\n",
    "        L = sq.Inductor (L_val,  'nH')\n",
    "        elements = {(0, 1): [L, C],\n",
    "                    (0, 2): [L, C], }\n",
    "    return sq.Circuit(elements)\n",
    "\n",
    "def resonator(Cc):\n",
    "    # CC = sq.Capacitor(Cc, 'fF')\n",
    "    # C = sq.Capacitor(C_val, 'fF')\n",
    "    # L = sq.Inductor(L_val,  'nH')\n",
    "    # elements = {(0, 2): [L],\n",
    "    #             (0, 1): [C],\n",
    "    #             (1, 2): [CC]}\n",
    "    # return sq.Circuit(elements)\n",
    "    \n",
    "    if Cc == 0:\n",
    "        C = sq.Capacitor(C_val, 'fF')\n",
    "        L = sq.Inductor(L_val,  'nH')\n",
    "        elements = {(0, 1): [L, C], }\n",
    "        return sq.Circuit(elements)\n",
    "    else:\n",
    "        C = sq.Capacitor(1/(1/C_val+1/Cc), 'fF')\n",
    "        L = sq.Inductor (L_val, 'nH')\n",
    "        elements = {(0, 1): [L, C], }\n",
    "    return sq.Circuit(elements)\n",
    "    \n",
    "def shutned_resonator(Cc):\n",
    "    Cc = sq.Capacitor(Cc, 'fF')\n",
    "    C = sq.Capacitor(C_val,   'fF')\n",
    "    L = sq.Inductor (L_val,   'nH')\n",
    "    elements = {(0, 1): [L, C, Cc], }\n",
    "    return sq.Circuit(elements)"
   ],
   "metadata": {
    "collapsed": false,
    "ExecuteTime": {
     "end_time": "2024-01-19T10:49:17.799748100Z",
     "start_time": "2024-01-19T10:49:17.791435100Z"
    }
   },
   "id": "d2650785fb7b3ad1",
   "execution_count": 499
  },
  {
   "cell_type": "code",
   "outputs": [],
   "source": [
    "n_eig = 8\n",
    "trunc_num = 60\n",
    "Cc = 1"
   ],
   "metadata": {
    "collapsed": false,
    "ExecuteTime": {
     "end_time": "2024-01-19T10:49:18.065264900Z",
     "start_time": "2024-01-19T10:49:18.049355300Z"
    }
   },
   "id": "78a7539935b6c8d3",
   "execution_count": 500
  },
  {
   "cell_type": "code",
   "outputs": [],
   "source": [
    "coupled_res = resonator_C_resonator(Cc=Cc)\n",
    "res = resonator(Cc=Cc)\n",
    "\n",
    "uncoupled_res = resonator_C_resonator(Cc=0)\n",
    "res_0 = resonator(Cc=0)\n",
    "\n",
    "uncoupled_renormalized_res = resonator_C_resonator(Cc=0, C_val=(1/C_val+1/Cc)**-1, L_val=L_val)\n",
    "renormalized_res = resonator(Cc=Cc)\n",
    "\n",
    "coupled_res.set_trunc_nums([trunc_num, trunc_num])\n",
    "uncoupled_res.set_trunc_nums([trunc_num, trunc_num])\n",
    "uncoupled_renormalized_res.set_trunc_nums([trunc_num, trunc_num])\n",
    "res.set_trunc_nums([trunc_num  ])\n",
    "res_0.set_trunc_nums([trunc_num])\n",
    "renormalized_res.set_trunc_nums([trunc_num])\n",
    "\n",
    "_ = coupled_res.diag(n_eig)\n",
    "_ = uncoupled_res.diag(n_eig)\n",
    "_ = uncoupled_renormalized_res.diag(n_eig)\n",
    "_ = res.diag(n_eig)\n",
    "_ = res_0.diag(n_eig)\n",
    "_ = renormalized_res.diag(n_eig)"
   ],
   "metadata": {
    "collapsed": false,
    "ExecuteTime": {
     "end_time": "2024-01-19T10:51:10.106592900Z",
     "start_time": "2024-01-19T10:51:09.323923700Z"
    }
   },
   "id": "bc0ed99296e2f0ba",
   "execution_count": 507
  },
  {
   "cell_type": "code",
   "outputs": [],
   "source": [
    "Q_0 = res_0._charge_op_isolated(0)\n",
    "Φ_0 = res_0._flux_op_isolated(0)\n",
    "\n",
    "Q = res._charge_op_isolated(0)\n",
    "Φ = res._flux_op_isolated(0)"
   ],
   "metadata": {
    "collapsed": false,
    "ExecuteTime": {
     "end_time": "2024-01-19T10:49:35.186425700Z",
     "start_time": "2024-01-19T10:49:35.177390200Z"
    }
   },
   "id": "81ac023d1f9f38df",
   "execution_count": 503
  },
  {
   "cell_type": "code",
   "outputs": [],
   "source": [
    "# H_res_0 = 1 / 2 * (1/fF)               * Q_0 ** 2  + 1 / 2 * (1/nH) * Φ_0 ** 2\n",
    "# H_res   = 1 / 2 * (1/fF) * (1 + 1/Cc)  * Q ** 2    + 1 / 2 * (1/nH) * Φ   ** 2# \n",
    "H_res_0 = res_0.hamiltonian()\n",
    "H_res   = res.hamiltonian()\n",
    "\n",
    "I = qt.identity(H_res.shape[0])\n",
    "\n",
    "H_unc_res = qt.tensor(H_res_0, I) + qt.tensor(I, H_res_0)\n",
    "\n",
    "H_unc_renorm = qt.tensor(H_res, I) + qt.tensor(I, H_res)\n",
    "\n",
    "H_coup_res = qt.tensor(H_res, I) + qt.tensor(I, H_res) - (1 / (Cc*fF)) * qt.tensor(Q, Q)"
   ],
   "metadata": {
    "collapsed": true,
    "ExecuteTime": {
     "end_time": "2024-01-19T10:50:29.014892700Z",
     "start_time": "2024-01-19T10:50:28.995580300Z"
    }
   },
   "id": "initial_id",
   "execution_count": 504
  },
  {
   "cell_type": "code",
   "outputs": [
    {
     "data": {
      "text/plain": "array([112.53954, 225.07908, 337.61862, ..., 13054.58658, 13167.12612, 13279.66566])"
     },
     "execution_count": 490,
     "metadata": {},
     "output_type": "execute_result"
    }
   ],
   "source": [
    "diag_H = np.real(np.diag(H_coup_res)/2/np.pi/1e9)[1:]\n",
    "diag_H"
   ],
   "metadata": {
    "collapsed": false,
    "ExecuteTime": {
     "end_time": "2024-01-19T10:19:30.986721900Z",
     "start_time": "2024-01-19T10:19:30.965691900Z"
    }
   },
   "id": "8d233a87164040c9",
   "execution_count": 490
  },
  {
   "cell_type": "code",
   "outputs": [
    {
     "data": {
      "text/plain": "array([45.94407, 91.88815, 137.83222, ..., 7313.88307, 7359.82715, 7405.77122])"
     },
     "execution_count": 491,
     "metadata": {},
     "output_type": "execute_result"
    }
   ],
   "source": [
    "diag_H_full = np.real(np.diag(coupled_res.hamiltonian())/2/np.pi/1e9)[1:]\n",
    "diag_H_full"
   ],
   "metadata": {
    "collapsed": false,
    "ExecuteTime": {
     "end_time": "2024-01-19T10:19:31.518752400Z",
     "start_time": "2024-01-19T10:19:31.492224500Z"
    }
   },
   "id": "8f93a55e19fff07a",
   "execution_count": 491
  },
  {
   "cell_type": "code",
   "outputs": [
    {
     "name": "stderr",
     "output_type": "stream",
     "text": [
      "C:\\Users\\gabri\\AppData\\Local\\Temp\\ipykernel_22224\\3983765610.py:3: UserWarning: Matplotlib is currently using QtAgg, which is a non-GUI backend, so cannot show the figure.\n",
      "  fig.show()\n"
     ]
    },
    {
     "data": {
      "text/plain": "<Figure size 640x480 with 1 Axes>",
      "image/png": "[encoded data removed]"
     },
     "metadata": {},
     "output_type": "display_data"
    }
   ],
   "source": [
    "fig, ax = plt.subplots()\n",
    "ax.plot(diag_H/diag_H_full, '.')\n",
    "fig.show()"
   ],
   "metadata": {
    "collapsed": false,
    "ExecuteTime": {
     "end_time": "2024-01-19T10:20:06.921063200Z",
     "start_time": "2024-01-19T10:20:06.816813600Z"
    }
   },
   "id": "7983ed4ccd31e18",
   "execution_count": 497
  },
  {
   "cell_type": "code",
   "outputs": [
    {
     "data": {
      "text/plain": "array([0.00000, 79.57747, 137.83222, 159.15494, 217.40970, 238.73241, 275.66445, 296.98717])"
     },
     "execution_count": 493,
     "metadata": {},
     "output_type": "execute_result"
    }
   ],
   "source": [
    "E_0 = sq_ext.diag(H_coup_res,n_eig=n_eig, out='GHz')[0]\n",
    "E_0 - E_0[0]"
   ],
   "metadata": {
    "collapsed": false,
    "ExecuteTime": {
     "end_time": "2024-01-19T10:19:36.199521400Z",
     "start_time": "2024-01-19T10:19:35.990245600Z"
    }
   },
   "id": "52118bca38bd7f50",
   "execution_count": 493
  },
  {
   "cell_type": "code",
   "outputs": [
    {
     "data": {
      "text/plain": "array([0.00000, 45.94407, 79.57747, 91.88815, 125.52155, 137.83222, 159.15494, 171.46562])"
     },
     "execution_count": 494,
     "metadata": {},
     "output_type": "execute_result"
    }
   ],
   "source": [
    "coupled_res.efreqs"
   ],
   "metadata": {
    "collapsed": false,
    "ExecuteTime": {
     "end_time": "2024-01-19T10:19:36.349722700Z",
     "start_time": "2024-01-19T10:19:36.334510700Z"
    }
   },
   "id": "9c85519cbdadb18f",
   "execution_count": 494
  },
  {
   "cell_type": "code",
   "outputs": [
    {
     "data": {
      "text/plain": "array([0.00000, 1.73205, 1.73205, 1.73205, 1.73205, 1.73205, 1.73205, 1.73205])"
     },
     "execution_count": 495,
     "metadata": {},
     "output_type": "execute_result"
    }
   ],
   "source": [
    "(E_0 - E_0[0]) / coupled_res.efreqs\n"
   ],
   "metadata": {
    "collapsed": false,
    "ExecuteTime": {
     "end_time": "2024-01-19T10:19:38.166482800Z",
     "start_time": "2024-01-19T10:19:38.158909700Z"
    }
   },
   "id": "d4ccdd1384a0d75e",
   "execution_count": 495
  },
  {
   "cell_type": "code",
   "outputs": [
    {
     "data": {
      "text/plain": "array([-0.000000000000, 1.414213562370, 1.999999999996, 1.581138830084, 1.757359312877, 1.618033988749])"
     },
     "execution_count": 406,
     "metadata": {},
     "output_type": "execute_result"
    }
   ],
   "source": [
    "(E_0 - E_0[0]) / coupled_res.efreqs\n"
   ],
   "metadata": {
    "collapsed": false,
    "ExecuteTime": {
     "end_time": "2024-01-19T09:54:02.491547Z",
     "start_time": "2024-01-19T09:54:02.469568100Z"
    }
   },
   "id": "6afc9d370401c53d",
   "execution_count": 406
  },
  {
   "cell_type": "code",
   "outputs": [
    {
     "data": {
      "text/plain": "array([0.000000000000, 91.888149236969, 159.154943091898, 183.776298473935, 251.043092328866, 275.664447710905])"
     },
     "execution_count": 198,
     "metadata": {},
     "output_type": "execute_result"
    }
   ],
   "source": [
    "(E_0 - E_0[0]) / np.sqrt(3)\n"
   ],
   "metadata": {
    "collapsed": false,
    "ExecuteTime": {
     "end_time": "2024-01-18T12:58:23.864821300Z",
     "start_time": "2024-01-18T12:58:23.844648300Z"
    }
   },
   "id": "67df1fd334aedc44",
   "execution_count": 198
  },
  {
   "cell_type": "code",
   "outputs": [],
   "source": [],
   "metadata": {
    "collapsed": false
   },
   "id": "129d7b6cc335df39"
  },
  {
   "cell_type": "code",
   "outputs": [
    {
     "data": {
      "text/plain": "array([0.00000, 112.53954, 112.53954, 225.07908, 225.07908, 225.07908, 337.61862, 337.61862])"
     },
     "execution_count": 505,
     "metadata": {},
     "output_type": "execute_result"
    }
   ],
   "source": [
    "E_0 = sq_ext.diag(H_unc_renorm,n_eig=n_eig, out='GHz')[0]\n",
    "E_0 - E_0[0]"
   ],
   "metadata": {
    "collapsed": false,
    "ExecuteTime": {
     "end_time": "2024-01-19T10:51:01.860967700Z",
     "start_time": "2024-01-19T10:51:01.663011200Z"
    }
   },
   "id": "19fe2225dd570ddd",
   "execution_count": 505
  },
  {
   "cell_type": "code",
   "outputs": [
    {
     "data": {
      "text/plain": "array([-0.00000, 112.53954, 112.53954, 225.07908, 225.07908, 225.07908, 337.61862, 337.61862])"
     },
     "execution_count": 509,
     "metadata": {},
     "output_type": "execute_result"
    }
   ],
   "source": [
    "uncoupled_renormalized_res.efreqs"
   ],
   "metadata": {
    "collapsed": false,
    "ExecuteTime": {
     "end_time": "2024-01-19T10:51:16.130662300Z",
     "start_time": "2024-01-19T10:51:16.120104700Z"
    }
   },
   "id": "45eb0d88abcf09a",
   "execution_count": 509
  },
  {
   "cell_type": "code",
   "outputs": [],
   "source": [],
   "metadata": {
    "collapsed": false
   },
   "id": "d12a0499a3127d2b"
  }
 ],
 "metadata": {
  "kernelspec": {
   "display_name": "Python 3",
   "language": "python",
   "name": "python3"
  },
  "language_info": {
   "codemirror_mode": {
    "name": "ipython",
    "version": 2
   },
   "file_extension": ".py",
   "mimetype": "text/x-python",
   "name": "python",
   "nbconvert_exporter": "python",
   "pygments_lexer": "ipython2",
   "version": "2.7.6"
  }
 },
 "nbformat": 4,
 "nbformat_minor": 5
}
