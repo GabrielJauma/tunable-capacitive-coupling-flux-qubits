{
 "cells": [
  {
   "cell_type": "code",
   "execution_count": 2,
   "metadata": {
    "ExecuteTime": {
     "end_time": "2023-11-30T11:35:11.047023400Z",
     "start_time": "2023-11-30T11:35:11.015428400Z"
    }
   },
   "outputs": [],
   "source": [
    "import Modules.SQcircuit_extensions as sq_ext\n",
    "import Modules.figures as figs\n",
    "import SQcircuit as sq\n",
    "import numpy as np\n",
    "import matplotlib.pyplot as plt\n",
    "import importlib\n",
    "import qutip as qt\n",
    "import scipy as sp\n",
    "%matplotlib ipympl\n",
    "\n",
    "plt.rcParams['text.usetex'] = False\n",
    "importlib.reload(sq_ext)\n",
    "importlib.reload(sq)\n",
    "importlib.reload(figs)\n",
    "np.set_printoptions(linewidth=200, formatter={'float': '{:.6f}'.format})\n",
    "# np.set_printoptions(linewidth=200, formatter={'float': '{:.3e}'.format})"
   ]
  },
  {
   "cell_type": "code",
   "execution_count": 3,
   "metadata": {
    "ExecuteTime": {
     "end_time": "2023-11-30T11:35:11.334820800Z",
     "start_time": "2023-11-30T11:35:11.317519700Z"
    }
   },
   "outputs": [],
   "source": [
    "GHz=1e9"
   ]
  },
  {
   "cell_type": "code",
   "execution_count": 6,
   "metadata": {
    "ExecuteTime": {
     "end_time": "2023-11-30T11:35:24.481164500Z",
     "start_time": "2023-11-30T11:35:24.465495700Z"
    }
   },
   "outputs": [],
   "source": [
    "def premade_coupled_resonators(Δ):\n",
    "    if Δ == 0:\n",
    "        C   = sq.Capacitor(1, 'nF')\n",
    "        L   = sq.Inductor(1, 'nH')\n",
    "        elements = {(0, 1): [L, C],\n",
    "                    (0, 2): [L, C], }\n",
    "        return sq.Circuit(elements)\n",
    "\n",
    "    else:\n",
    "        C = sq.Capacitor(1, 'nF')\n",
    "        L = sq.Inductor(1, 'nH')\n",
    "        L_Δ = sq.Inductor(Δ, 'nH')\n",
    "        elements = {(0, 1): [L, C],\n",
    "                    (0, 2): [L, C],\n",
    "                    (1, 2): [L_Δ], }\n",
    "        return sq.Circuit(elements)\n",
    "\n",
    "def premade_single_resonator(Δ):\n",
    "    if Δ == 0:\n",
    "        C   = sq.Capacitor(1, 'nF')\n",
    "        L   = sq.Inductor(1,  'nH')\n",
    "        elements = {(0, 1): [L, C],}\n",
    "        return sq.Circuit(elements)\n",
    "\n",
    "    else:\n",
    "        C   = sq.Capacitor(1, 'nF')\n",
    "        L   = sq.Inductor(1/(1/1+1/Δ), 'nH')\n",
    "        elements = {(0, 1): [L, C],}\n",
    "        return sq.Circuit(elements)\n",
    "\n"
   ]
  },
  {
   "cell_type": "code",
   "execution_count": 17,
   "metadata": {
    "ExecuteTime": {
     "end_time": "2023-11-30T11:36:57.812632800Z",
     "start_time": "2023-11-30T11:36:57.772564200Z"
    }
   },
   "outputs": [],
   "source": [
    "n_eig = 3\n",
    "trunc_num = 15\n",
    "Δ=0.001\n",
    "\n",
    "coupled_res     = premade_coupled_resonators    (Δ=Δ)\n",
    "res             = premade_single_resonator      (Δ=Δ)\n",
    "\n",
    "uncoupled_res   = premade_coupled_resonators    (Δ=0)\n",
    "res_0           = premade_single_resonator      (Δ=0)\n",
    "\n",
    "coupled_res     .set_trunc_nums([trunc_num, trunc_num])\n",
    "uncoupled_res   .set_trunc_nums([trunc_num, trunc_num])\n",
    "res             .set_trunc_nums([trunc_num])\n",
    "res_0           .set_trunc_nums([trunc_num])\n",
    "\n",
    "_ = coupled_res     .diag(n_eig)\n",
    "_ = uncoupled_res   .diag(n_eig)\n",
    "_ = res             .diag(n_eig)\n",
    "_ = res_0           .diag(n_eig)\n"
   ]
  },
  {
   "cell_type": "code",
   "execution_count": 18,
   "metadata": {
    "ExecuteTime": {
     "end_time": "2023-11-30T11:36:58.054614Z",
     "start_time": "2023-11-30T11:36:58.038233800Z"
    }
   },
   "outputs": [],
   "source": [
    "Q = res.charge_op(0)\n",
    "Φ = res.flux_op(0)\n",
    "\n",
    "Q_0 = res_0.charge_op(0)\n",
    "Φ_0 = res_0.flux_op(0)\n"
   ]
  },
  {
   "cell_type": "code",
   "execution_count": 19,
   "metadata": {
    "ExecuteTime": {
     "end_time": "2023-11-30T11:36:58.387603700Z",
     "start_time": "2023-11-30T11:36:58.371636Z"
    }
   },
   "outputs": [],
   "source": [
    "H_res_0 = 1/2 * Q_0**2/1e-9 + 1/2 * Φ_0**2/1e-9\n",
    "H_res   = 1/2 * Q**2/1e-9 + 1/2 * (1+1/Δ) * Φ**2/1e-9\n",
    "# H_res_0 = res_0.hamiltonian()\n",
    "# H_res   = res.hamiltonian()\n",
    "\n",
    "I = qt.identity(H_res.shape[0])\n",
    "\n",
    "H_unc_res  = qt.tensor(H_res_0,I) + qt.tensor(I,H_res_0)\n",
    "\n",
    "\n",
    "H_coup_res = qt.tensor(H_res,I)   + qt.tensor(I,H_res)   + (1/Δ/1e-9) * qt.tensor(Φ,Φ)\n",
    "# H_coup_res = qt.tensor(H_res,I) + qt.tensor(I,H_res) + (1/Δ) * qt.tensor(Φ,Φ)"
   ]
  },
  {
   "cell_type": "code",
   "execution_count": 20,
   "metadata": {
    "ExecuteTime": {
     "end_time": "2023-11-30T11:36:59.195152700Z",
     "start_time": "2023-11-30T11:36:59.068794500Z"
    }
   },
   "outputs": [
    {
     "name": "stdout",
     "output_type": "stream",
     "text": [
      "[[0.000000 0.000000 0.000000]\n",
      " [0.000000 0.159155 0.000000]\n",
      " [0.000000 0.000000 7.119405]]\n",
      "\n",
      "\n",
      "[[0.000000 0.000000 0.000000]\n",
      " [0.000000 5.035437 2.515203]\n",
      " [0.000000 2.515203 5.035437]]\n"
     ]
    }
   ],
   "source": [
    "_ = uncoupled_res   .diag(n_eig, solver = 'numpy')\n",
    "_ = coupled_res     .diag(n_eig, solver = 'numpy')\n",
    "# H_eff_full = sq_ext.H_eff_p1(uncoupled_res,coupled_res )\n",
    "H_eff_full = sq_ext.H_eff_p1_hamil(uncoupled_res.hamiltonian(), coupled_res.hamiltonian(), n_eig, solver='numpy' )\n",
    "\n",
    "\n",
    "# H_eff_full -= H_eff_full[0,0]*np.eye(n_eig)\n",
    "\n",
    "H_eff_frc = sq_ext.H_eff_p1_hamil(H_unc_res, H_coup_res, n_eig, solver='numpy')\n",
    "H_eff_frc -= H_eff_frc[0,0]*np.eye(n_eig)\n",
    "\n",
    "print(np.round(H_eff_full,8))\n",
    "print('\\n')\n",
    "print(np.round(H_eff_frc, 8))\n",
    "# print(np.round(np.abs(H_eff_full)-np.abs(H_eff_frc),4))"
   ]
  },
  {
   "cell_type": "code",
   "execution_count": 106,
   "metadata": {
    "ExecuteTime": {
     "start_time": "2023-11-29T14:47:32.376793965Z"
    }
   },
   "outputs": [],
   "source": [
    "#H_0 = H_unc_res.__array__()\n",
    "#H = H_coup_res.__array__()\n",
    "H_0 = uncoupled_res.hamiltonian().__array__()\n",
    "H   = coupled_res.hamiltonian().__array__()\n",
    "\n",
    "ψ_0 = sq_ext.diag(H_0, n_eig=len(H_0), real=False, solver='numpy')[1].T\n",
    "ψ = sq_ext.diag(H, n_eig=len(H), real=False,   solver='numpy')[1].T\n"
   ]
  },
  {
   "cell_type": "code",
   "execution_count": 123,
   "metadata": {
    "ExecuteTime": {
     "end_time": "2023-11-29T14:12:27.982939069Z",
     "start_time": "2023-11-29T14:12:27.074572178Z"
    }
   },
   "outputs": [
    {
     "ename": "KeyboardInterrupt",
     "evalue": "",
     "output_type": "error",
     "traceback": [
      "\u001B[1;31m---------------------------------------------------------------------------\u001B[0m",
      "\u001B[1;31mKeyboardInterrupt\u001B[0m                         Traceback (most recent call last)",
      "Cell \u001B[1;32mIn[123], line 7\u001B[0m\n\u001B[0;32m      5\u001B[0m \u001B[38;5;28;01mfor\u001B[39;00m k \u001B[38;5;129;01min\u001B[39;00m \u001B[38;5;28mrange\u001B[39m(\u001B[38;5;28mlen\u001B[39m(ψ)):\n\u001B[0;32m      6\u001B[0m     \u001B[38;5;28;01mfor\u001B[39;00m l \u001B[38;5;129;01min\u001B[39;00m \u001B[38;5;28mrange\u001B[39m(\u001B[38;5;28mlen\u001B[39m(ψ)):\n\u001B[1;32m----> 7\u001B[0m         H_eff[i,j] \u001B[38;5;241m+\u001B[39m\u001B[38;5;241m=\u001B[39m (ψ_0[i]\u001B[38;5;241m.\u001B[39mT\u001B[38;5;241m.\u001B[39mconj() \u001B[38;5;241m@\u001B[39m ψ[k]) \u001B[38;5;241m*\u001B[39m (ψ[k]\u001B[38;5;241m.\u001B[39mT\u001B[38;5;241m.\u001B[39mconj() \u001B[38;5;241m@\u001B[39m H \u001B[38;5;241m@\u001B[39m \u001B[43mψ\u001B[49m[l]) \u001B[38;5;241m*\u001B[39m (ψ[l]\u001B[38;5;241m.\u001B[39mT\u001B[38;5;241m.\u001B[39mconj() \u001B[38;5;241m@\u001B[39m ψ_0[j])\n",
      "\u001B[1;31mKeyboardInterrupt\u001B[0m: "
     ]
    }
   ],
   "source": [
    "H_eff = np.zeros([n_eig,n_eig], dtype='complex')\n",
    "\n",
    "for i in range(n_eig):\n",
    "    for j in range(n_eig):\n",
    "        for k in range(len(ψ)):\n",
    "            for l in range(len(ψ)):\n",
    "                H_eff[i,j] += (ψ_0[i].T.conj() @ ψ[k]) * (ψ[k].T.conj() @ H @ ψ[l]) * (ψ[l].T.conj() @ ψ_0[j])"
   ]
  },
  {
   "cell_type": "code",
   "execution_count": 140,
   "metadata": {},
   "outputs": [],
   "source": [
    "U = ψ_0.conj().T @ ψ"
   ]
  },
  {
   "cell_type": "code",
   "execution_count": 142,
   "metadata": {},
   "outputs": [
    {
     "data": {
      "text/plain": [
       "array([[0.000000, 0.000000, 0.000000, 0.000000],\n",
       "       [0.000000, 159.154943, 0.000000, 0.000000],\n",
       "       [0.000000, 0.000000, 318.309886, 0.000000],\n",
       "       [0.000000, 0.000000, 0.000000, 477.464829]])"
      ]
     },
     "execution_count": 142,
     "metadata": {},
     "output_type": "execute_result"
    }
   ],
   "source": [
    "np.round(np.real(H),3)[0:n_eig+1,0:n_eig+1]/( 2 * np.pi * GHz)"
   ]
  },
  {
   "cell_type": "code",
   "execution_count": 141,
   "metadata": {},
   "outputs": [
    {
     "data": {
      "text/plain": [
       "array([[-0.000000, 0.000000, 0.000000, -0.000000],\n",
       "       [0.000000, 159.154943, 0.000000, -0.000000],\n",
       "       [0.000000, 0.000000, 318.309886, 0.000000],\n",
       "       [-0.000000, -0.000000, 0.000000, 551.328895]])"
      ]
     },
     "execution_count": 141,
     "metadata": {},
     "output_type": "execute_result"
    }
   ],
   "source": [
    "H2 = np.round(np.real(U.T @ H @ U),3)[0:n_eig+1,0:n_eig+1]/( 2 * np.pi * GHz)\n",
    "H2"
   ]
  },
  {
   "cell_type": "code",
   "execution_count": 47,
   "metadata": {
    "ExecuteTime": {
     "end_time": "2023-11-29T14:12:27.982939069Z",
     "start_time": "2023-11-29T14:12:27.074572178Z"
    }
   },
   "outputs": [],
   "source": [
    "H_eff = np.zeros([n_eig,n_eig], dtype='complex')\n",
    "\n",
    "for i in range(n_eig):\n",
    "    for j in range(n_eig):\n",
    "        for k in range(len(ψ)):\n",
    "            H_eff[i,j] += (ψ_0[i].T.conj() @ ψ[k]) * (ψ[k].T.conj() @ H @ ψ[l]) * (ψ[l].T.conj() @ ψ_0[j])"
   ]
  },
  {
   "cell_type": "code",
   "execution_count": null,
   "metadata": {
    "ExecuteTime": {
     "end_time": "2023-11-29T14:12:27.983026531Z",
     "start_time": "2023-11-29T14:12:27.982486697Z"
    }
   },
   "outputs": [],
   "source": [
    "H_eff /= 2 * np.pi * GHz\n",
    "#H_eff -= H_eff[0,0]*np.eye(n_eig)\n",
    "if np.allclose(np.imag(H_eff),0):\n",
    "    H_eff = np.real(H_eff)"
   ]
  },
  {
   "cell_type": "code",
   "execution_count": null,
   "metadata": {
    "ExecuteTime": {
     "end_time": "2023-11-29T14:12:27.983148909Z",
     "start_time": "2023-11-29T14:12:27.982621007Z"
    }
   },
   "outputs": [],
   "source": [
    "H_eff"
   ]
  },
  {
   "cell_type": "code",
   "execution_count": 79,
   "metadata": {
    "ExecuteTime": {
     "end_time": "2023-11-29T13:19:16.196310144Z",
     "start_time": "2023-11-29T13:19:16.150906464Z"
    }
   },
   "outputs": [
    {
     "name": "stdout",
     "output_type": "stream",
     "text": [
      "[[159.94873826+0.j  -0.        +0.j  -0.        +0.j]\n",
      " [ -0.        +0.j 319.89747651+0.j   0.79182544+0.j]\n",
      " [ -0.        +0.j   0.79182544+0.j 319.89747651+0.j]]\n"
     ]
    }
   ],
   "source": [
    "ψ_0 = sq_ext.diag(H_unc_res, n_eig, real=False, solver='numpy')[1]\n",
    "# ψ_0 = qt.Qobj(H_unc_res).eigenstates(sparse=True, eigvals=n_eig)[1]\n",
    "# ψ_0 = np.array([ψ.__array__() for ψ in ψ_0])[:,:,0].T\n",
    "\n",
    "# ψ_0_real = sq_ext.real_eigenvectors(ψ_0)\n",
    "H_eff = ψ_0.conj().T @ H_coup_res.__array__() @ ψ_0 / GHz /2 /np.pi\n",
    "# H_eff =np.array( [ [(ψ_0_i.dag() * H_unc_res * ψ_0_j) [0,0] / GHz /2 /np.pi for ψ_0_i in ψ_0] for ψ_0_j in ψ_0])\n",
    "\n",
    "print(np.round(H_eff, 8))\n",
    "# print(np.round(np.abs(H_eff), 8))"
   ]
  },
  {
   "cell_type": "code",
   "execution_count": 89,
   "metadata": {
    "ExecuteTime": {
     "end_time": "2023-11-28T20:20:33.615581900Z",
     "start_time": "2023-11-28T20:20:33.583793600Z"
    }
   },
   "outputs": [
    {
     "name": "stdout",
     "output_type": "stream",
     "text": [
      "[[0.000 0.003 0.002]\n",
      " [0.003 999999999999.507 54891.861]\n",
      " [0.002 54891.861 1000000009998.506]]\n",
      "[[525336942860.141 0.004 0.005]\n",
      " [0.004 474663058019.876 0.003]\n",
      " [0.005 0.003 1474663079600.596]]\n",
      "[[525336942860.141 0.007 0.004]\n",
      " [0.007 525336941979.631 54891.858]\n",
      " [0.004 54891.858 474663069602.090]]\n"
     ]
    }
   ],
   "source": [
    "|H_eff_full = sq_ext.H_eff_p1(coupled_res,coupled_res, out=None)\n",
    "# H_eff_full -= H_eff_full[0,0]*np.eye(n_eig)\n",
    "\n",
    "H_eff_frc = sq_ext.H_eff_p1_hamil(H_coup_res, H_coup_res, n_eig, out=None)\n",
    "# H_eff_frc -= H_eff_frc[0,0]*np.eye(n_eig)\n",
    "\n",
    "print(np.abs(H_eff_full))\n",
    "print(np.abs(H_eff_frc))\n",
    "print(np.round(np.abs(H_eff_full-H_eff_frc),4))"
   ]
  },
  {
   "cell_type": "code",
   "execution_count": 90,
   "metadata": {
    "ExecuteTime": {
     "end_time": "2023-11-28T20:20:34.543205300Z",
     "start_time": "2023-11-28T20:20:34.533069100Z"
    }
   },
   "outputs": [
    {
     "name": "stdout",
     "output_type": "stream",
     "text": [
      "[[0.000 0.000 0.000]\n",
      " [0.000 999999999999.504 0.002]\n",
      " [0.000 0.002 1999999999999.011]]\n"
     ]
    }
   ],
   "source": [
    "ψ_full = np.array([ψ_i.__array__()[:, 0] for ψ_i in res_0._evecs]).T\n",
    "H_full = res_0.hamiltonian().__array__()\n",
    "\n",
    "print(np.abs(ψ_full.conj().T @ H_full @ ψ_full))\n"
   ]
  },
  {
   "cell_type": "code",
   "execution_count": 91,
   "metadata": {
    "ExecuteTime": {
     "end_time": "2023-11-28T20:20:35.243418500Z",
     "start_time": "2023-11-28T20:20:35.237411600Z"
    }
   },
   "outputs": [
    {
     "name": "stdout",
     "output_type": "stream",
     "text": [
      "[[0.000 0.003 0.001]\n",
      " [0.003 999999999999.508 210520400652.359]\n",
      " [0.001 210520400652.359 999999999999.504]]\n"
     ]
    }
   ],
   "source": [
    "ψ_full = np.array([ψ_i.__array__()[:, 0] for ψ_i in uncoupled_res._evecs]).T\n",
    "H_full = uncoupled_res.hamiltonian().__array__()\n",
    "\n",
    "print(np.abs(ψ_full.conj().T @ H_full @ ψ_full))\n"
   ]
  },
  {
   "cell_type": "code",
   "execution_count": 92,
   "metadata": {
    "ExecuteTime": {
     "end_time": "2023-11-28T20:20:38.341063100Z",
     "start_time": "2023-11-28T20:20:38.166713Z"
    }
   },
   "outputs": [
    {
     "name": "stdout",
     "output_type": "stream",
     "text": [
      "[[0.000 0.000 0.000 ... 0.000 0.000 0.000]\n",
      " [0.000 999999999999.500 0.000 ... 0.000 0.000 0.000]\n",
      " [0.000 0.000 999999999999.500 ... 0.000 0.000 0.000]\n",
      " ...\n",
      " [0.000 0.000 0.000 ... 46999999999976.500 0.000 0.000]\n",
      " [0.000 0.000 0.000 ... 0.000 46999999999976.500 0.000]\n",
      " [0.000 0.000 0.000 ... 0.000 0.000 47999999999976.000]]\n"
     ]
    }
   ],
   "source": [
    "# ψ_frc = sq_ext.diag(H_unc_res,n_eig)[1]\n",
    "ψ_frc = np.linalg.eigh(H_unc_res)[1]\n",
    "print(np.abs(ψ_frc.conj().T @ H_unc_res.__array__() @ ψ_frc))\n"
   ]
  },
  {
   "cell_type": "code",
   "execution_count": 93,
   "metadata": {
    "ExecuteTime": {
     "end_time": "2023-11-28T20:20:39.693478300Z",
     "start_time": "2023-11-28T20:20:39.680149800Z"
    }
   },
   "outputs": [
    {
     "data": {
      "text/plain": [
       "array([[0.000, 0.003, 0.001],\n",
       "       [0.003, 999999999999.507, 210520400652.359],\n",
       "       [0.001, 210520400652.359, 999999999999.504]])"
      ]
     },
     "execution_count": 93,
     "metadata": {},
     "output_type": "execute_result"
    }
   ],
   "source": [
    "np.abs(uncoupled_res.hamiltonian_op('eig').__array__())"
   ]
  },
  {
   "cell_type": "code",
   "execution_count": 94,
   "metadata": {
    "ExecuteTime": {
     "end_time": "2023-11-28T20:20:40.690770Z",
     "start_time": "2023-11-28T20:20:40.676190400Z"
    }
   },
   "outputs": [
    {
     "name": "stdout",
     "output_type": "stream",
     "text": [
      "[[0.000 0.010 0.005]\n",
      " [0.010 0.000 0.008]\n",
      " [0.005 0.008 0.029]]\n"
     ]
    }
   ],
   "source": [
    "H_eff_full = sq_ext.H_eff_p1(res,res, out=None)\n",
    "# H_eff_full -= H_eff_full[0,0]*np.eye(n_eig)\n",
    "\n",
    "H_eff_frc = sq_ext.H_eff_p1_hamil(H_res, H_res, n_eig, out=None)\n",
    "# H_eff_frc -= H_eff_frc[0,0]*np.eye(n_eig)\n",
    "\n",
    "# print(np.abs(H_eff_full))\n",
    "# print(np.abs(H_eff_frc))\n",
    "print(np.round(np.abs(H_eff_full-H_eff_frc),4))\n"
   ]
  },
  {
   "cell_type": "code",
   "execution_count": 116,
   "metadata": {
    "ExecuteTime": {
     "end_time": "2023-11-28T20:23:47.220416800Z",
     "start_time": "2023-11-28T20:23:47.102907900Z"
    }
   },
   "outputs": [
    {
     "name": "stdout",
     "output_type": "stream",
     "text": [
      "[0.000 159.155 318.310]\n",
      "[0.000 159.155 318.310]\n",
      "159.15494309182884\n",
      "159.15494309182222\n"
     ]
    }
   ],
   "source": [
    "E = sq_ext.diag(H_coup_res , n_eig, out='GHz')[0]\n",
    "\n",
    "print( (E-E[0]))\n",
    "print( coupled_res.efreqs )\n",
    "\n",
    "print( (E-E[0])[1])\n",
    "print( coupled_res.efreqs[1] )\n"
   ]
  },
  {
   "cell_type": "code",
   "execution_count": 108,
   "metadata": {
    "ExecuteTime": {
     "end_time": "2023-11-28T20:22:27.455275200Z",
     "start_time": "2023-11-28T20:22:27.444339600Z"
    }
   },
   "outputs": [
    {
     "name": "stdout",
     "output_type": "stream",
     "text": [
      "[0.000 999999999999.494 999999999999.510]\n",
      "[-0.004 999999999999.507 999999999999.515]\n",
      "999999999999.4935\n",
      "999999999999.5068\n"
     ]
    }
   ],
   "source": [
    "E = sq_ext.diag(H_unc_res , n_eig, out=None)[0]\n",
    "\n",
    "print( (E-E[0]))\n",
    "print( uncoupled_res._efreqs )\n",
    "\n",
    "print( (E-E[0])[1])\n",
    "print( uncoupled_res._efreqs[1] )\n"
   ]
  },
  {
   "cell_type": "code",
   "execution_count": 107,
   "metadata": {
    "ExecuteTime": {
     "end_time": "2023-11-28T20:22:24.272615200Z",
     "start_time": "2023-11-28T20:22:24.256988400Z"
    }
   },
   "outputs": [
    {
     "name": "stdout",
     "output_type": "stream",
     "text": [
      "3316624790353.7407\n",
      "3316624790353.767\n"
     ]
    }
   ],
   "source": [
    "E = sq_ext.diag(H_res , n_eig, out=None)[0]\n",
    "print( (E-E[0])[1])\n",
    "print( res._efreqs[1] )\n"
   ]
  },
  {
   "cell_type": "code",
   "execution_count": 106,
   "metadata": {
    "ExecuteTime": {
     "end_time": "2023-11-28T20:22:22.506341700Z",
     "start_time": "2023-11-28T20:22:22.490309400Z"
    }
   },
   "outputs": [
    {
     "name": "stdout",
     "output_type": "stream",
     "text": [
      "[0.000 999999999999.508 1999999999999.008]\n",
      "[0.002 999999999999.502 1999999999999.011]\n"
     ]
    }
   ],
   "source": [
    "E = sq_ext.diag(H_res_0 , n_eig, out=None)[0]\n",
    "print( E )\n",
    "print( res_0._efreqs )\n"
   ]
  },
  {
   "cell_type": "code",
   "execution_count": 3,
   "metadata": {},
   "outputs": [],
   "source": [
    "Csh = 15\n",
    "C   = 15\n",
    "CJ  = 3\n",
    "Lq  = 25\n",
    "Lr  = 10\n",
    "\n",
    "Cf = C/2 + Csh + CJ\n",
    "C_f = Cf * 1e-15\n",
    "C_r = C/2 * 1e-15"
   ]
  },
  {
   "cell_type": "code",
   "execution_count": null,
   "metadata": {},
   "outputs": [],
   "source": [
    "def KIT_resonator(C=15, Lq=25, Lr=10, Δ=0.1):\n",
    "    l = Lq * (Lq + 4 * Lr) - 4 * Δ ** 2\n",
    "    resonator_elements = {\n",
    "        (0, 1): [sq.Capacitor(C / 2, 'fF'), sq.Inductor(l / Lq, 'nH')],\n",
    "    }\n",
    "    return sq.Circuit(resonator_elements)\n",
    "\n",
    "\n",
    "def KIT_fluxonium_no_JJ(C=15, CJ=3, Csh=15, Lq=25, Lr=10, Δ=0.1):\n",
    "    l = Lq * (Lq + 4 * Lr) - 4 * Δ ** 2\n",
    "    fluxonium_elements = {\n",
    "        (0, 1): [sq.Capacitor(C / 2 + Csh + CJ, 'fF'),\n",
    "                 sq.Inductor(l / (Lq + 4 * Lr), 'nH')],\n",
    "    }\n",
    "    return sq.Circuit(fluxonium_elements)\n",
    "\n",
    "def KIT_qubit_no_JJ(C = 15, CJ = 3, Csh= 15 , Lq = 25, Lr = 10, Δ = 0.1, φ_ext=0.5):\n",
    "\n",
    "    # Initialize loop(s)\n",
    "    # loop = sq.Loop(φ_ext)\n",
    "\n",
    "    # Circuit components\n",
    "    C_01 = sq.Capacitor(C,       'fF')\n",
    "    C_02 = sq.Capacitor(C,       'fF')\n",
    "    C_12 = sq.Capacitor(CJ+Csh,  'fF')\n",
    "    L_03 = sq.Inductor(Lr,       'nH')\n",
    "    L_31 = sq.Inductor(Lq/2 - Δ, 'nH')#,  loops=[loop])\n",
    "    L_23 = sq.Inductor(Lq/2 + Δ, 'nH')#,  loops=[loop])\n",
    "\n",
    "    elements = {\n",
    "        (0, 3): [L_03],\n",
    "        (0, 1): [C_01],\n",
    "        (0, 2): [C_02],\n",
    "        (3, 1): [L_31],\n",
    "        (1, 2): [C_12],\n",
    "        (2, 3): [L_23],\n",
    "    }\n",
    "\n",
    "    # Create and return the circuit\n",
    "    return sq.Circuit(elements)\n",
    "\n",
    "def KIT_fluxonium(C = 15, CJ = 3, Csh= 15, Lq = 25, Lr = 10, Δ = 0.1, EJ = 10.0, φ_ext=0.5):\n",
    "    l = Lq * (Lq + 4 * Lr) - 4 * Δ ** 2\n",
    "    loop_fluxonium = sq.Loop(φ_ext)\n",
    "    fluxonium_elements = {\n",
    "        (0, 1): [sq.Capacitor(C / 2 + Csh + CJ, 'fF'),\n",
    "                 sq.Inductor(l / (Lq + 4 * Lr), 'nH', loops=[loop_fluxonium]),\n",
    "                 sq.Junction(EJ, 'GHz', loops=[loop_fluxonium])],\n",
    "    }\n",
    "    return sq.Circuit(fluxonium_elements)\n",
    "\n",
    "def KIT_qubit(C = 15, CJ = 3, Csh= 15 , Lq = 25, Lr = 10, Δ = 0.1, EJ = 10.0, φ_ext=0.5):\n",
    "\n",
    "    # Initialize loop(s)\n",
    "    loop = sq.Loop(φ_ext)\n",
    "\n",
    "    # Circuit components\n",
    "    C_01 = sq.Capacitor(C,       'fF')\n",
    "    C_02 = sq.Capacitor(C,       'nf')\n",
    "    C_12 = sq.Capacitor(CJ+Csh,  'fF')\n",
    "    L_03 = sq.Inductor(Lr,       'nH')\n",
    "    L_31 = sq.Inductor(Lq/2 - Δ, 'nH',  loops=[loop])\n",
    "    L_23 = sq.Inductor(Lq/2 + Δ, 'nH',  loops=[loop])\n",
    "    JJ_12= sq.Junction(EJ,       'GHz', loops=[loop])\n",
    "\n",
    "    elements = {\n",
    "        (0, 3): [L_03],\n",
    "        (0, 1): [C_01],\n",
    "        (0, 2): [C_02],\n",
    "        (3, 1): [L_31],\n",
    "        (1, 2): [C_12, JJ_12],\n",
    "        (2, 3): [L_23],\n",
    "    }\n",
    "\n",
    "    # Create and return the circuit\n",
    "    return sq.Circuit(elements)\n"
   ]
  },
  {
   "cell_type": "code",
   "execution_count": null,
   "metadata": {},
   "outputs": [],
   "source": [
    "n_eig = 4\n",
    "trunc_num = 20\n",
    "Δ=1\n",
    "\n",
    "res     = KIT_resonator          (Δ=Δ)\n",
    "# flu     = KIT_fluxonium   (Δ=Δ)\n",
    "# qubit   = KIT_qubit      (Δ=Δ)\n",
    "flu     = KIT_fluxonium_no_JJ    (Δ=Δ)\n",
    "qubit   = KIT_qubit_no_JJ        (Δ=Δ)\n",
    "\n",
    "res_0   = KIT_resonator          (Δ=0)\n",
    "# flu_0   = KIT_fluxonium    (Δ=0)\n",
    "# qubit_0 = KIT_qubit       (Δ=0)\n",
    "flu_0   = KIT_fluxonium_no_JJ    (Δ=0)\n",
    "qubit_0 = KIT_qubit_no_JJ        (Δ=0)\n",
    "#\n",
    "res     .set_trunc_nums([trunc_num])\n",
    "flu     .set_trunc_nums([trunc_num])\n",
    "qubit   .set_trunc_nums([1, trunc_num,trunc_num])\n",
    "# qubit   .set_trunc_nums( [trunc_num,trunc_num])\n",
    "res_0   .set_trunc_nums([trunc_num])\n",
    "flu_0   .set_trunc_nums([trunc_num])\n",
    "qubit_0 .set_trunc_nums([1, trunc_num,trunc_num])\n",
    "# qubit_0 .set_trunc_nums([trunc_num,trunc_num])\n",
    "\n",
    "_ = res     .diag(n_eig)\n",
    "_ = flu     .diag(n_eig)\n",
    "_ = qubit   .diag(n_eig)\n",
    "_ = res_0   .diag(n_eig)\n",
    "_ = flu_0   .diag(n_eig)\n",
    "_ = qubit_0 .diag(n_eig)\n"
   ]
  },
  {
   "cell_type": "code",
   "execution_count": null,
   "metadata": {},
   "outputs": [],
   "source": [
    "l = Lq*(Lq+4*Lr) - 4*Δ**2\n",
    "L_r = l/Lq * 1e-9\n",
    "L_f = l/(Lq+4*Lr) * 1e-9\n",
    "L_c = l/Δ * 1e-9\n",
    "\n",
    "L_r_0 = (Lq+4*Lr) * 1e-9\n",
    "L_f_0 = Lq * 1e-9\n"
   ]
  },
  {
   "cell_type": "code",
   "execution_count": null,
   "metadata": {},
   "outputs": [],
   "source": [
    "Q_res = res.charge_op(0)\n",
    "Φ_res = res.flux_op(0)\n",
    "\n",
    "Q_res_0 = res_0.charge_op(0)\n",
    "Φ_res_0 = res_0.flux_op(0)\n",
    "\n",
    "Q_flu = flu.charge_op(0)\n",
    "Φ_flu = flu.flux_op(0)\n",
    "\n",
    "Q_flu_0 = flu_0.charge_op(0)\n",
    "Φ_flu_0 = flu_0.flux_op(0)\n"
   ]
  },
  {
   "cell_type": "code",
   "execution_count": null,
   "metadata": {},
   "outputs": [],
   "source": [
    "H_res_0 = 1/2 * Q_res_0**2 / C_r  + 1/2 * Φ_res_0**2 / L_r_0\n",
    "# H_res = 1/2 * Q_res**2 / C_r  + 1/2 * Φ_res**2 / L_r\n",
    "H_res = res.hamiltonian()\n",
    "\n",
    "H_flu_0 = 1/2 * Q_flu_0**2 / C_f + 1/2 * Φ_flu_0**2 / L_f_0\n",
    "# H_flu = 1/2 * Q_flu**2 / C_f + 1/2 * Φ_flu**2 / L_f\n",
    "H_flu = flu.hamiltonian()\n",
    "\n",
    "I_res = qt.identity(H_res.shape[0])\n",
    "I_flu = qt.identity(H_flu.shape[0])\n",
    "\n",
    "H_qubit_0 = qt.tensor(H_res_0,I_res) + qt.tensor(I_res,H_flu_0)\n",
    "H_qubit = qt.tensor(H_res,I_flu) + qt.tensor(I_res,H_flu) + qt.tensor(Φ_res,Φ_flu) * 2 * Δ / l / 1e-9\n"
   ]
  },
  {
   "cell_type": "code",
   "execution_count": null,
   "metadata": {},
   "outputs": [],
   "source": [
    "Φ, Q = sq_ext.get_node_variables(qubit , 'FC', isolated='True')\n"
   ]
  },
  {
   "cell_type": "code",
   "execution_count": null,
   "metadata": {},
   "outputs": [],
   "source": [
    "E, ψ = sq_ext.diag(H_qubit , n_eig, out='GHz')\n",
    "ψ_sq = np.array([ψ_i.__array__()[:, 0] for ψ_i in qubit._evecs])\n",
    "\n",
    "print( E-E[0])\n",
    "print( qubit.efreqs )\n",
    "for i in range(n_eig):\n",
    "    print(f'Energy error in state{i} = {np.abs((E-E[0])[i]- (qubit.efreqs[i]-qubit.efreqs[0]))}')\n",
    "    print(f'Wavefunction error in state{i} = {1 - np.abs(ψ[:,i].conj().T @ qubit._evecs[i].__array__())[0]}')\n",
    "\n"
   ]
  },
  {
   "cell_type": "code",
   "execution_count": null,
   "metadata": {},
   "outputs": [],
   "source": [
    "E, ψ = sq_ext.diag(H_qubit , n_eig, out='GHz')\n",
    "ψ_sq = np.array([ψ_i.__array__()[:, 0] for ψ_i in qubit._evecs])\n",
    "\n",
    "print( E-E[0])\n",
    "print( qubit.efreqs )\n",
    "for i in range(n_eig):\n",
    "    print(f'Energy error in state{i} = {np.abs((E-E[0])[i]- (qubit.efreqs[i]-qubit.efreqs[0]))}')\n",
    "    print(f'Wavefunction error in state{i} = {1 - np.abs(ψ[:,i].conj().T @ qubit._evecs[i].__array__())[0]}')\n",
    "\n"
   ]
  },
  {
   "cell_type": "code",
   "execution_count": null,
   "metadata": {},
   "outputs": [],
   "source": [
    "E = sq_ext.diag(H_qubit_0 , n_eig, out='GHz')[0]\n",
    "\n",
    "print( E-E [0])\n",
    "print( qubit_0.efreqs )\n",
    "\n",
    "print( (E-E[0])[1])\n",
    "print( qubit_0.efreqs[1] )\n"
   ]
  },
  {
   "cell_type": "code",
   "execution_count": null,
   "metadata": {},
   "outputs": [],
   "source": [
    "E = sq_ext.diag(H_res , n_eig, out='GHz')[0]\n",
    "print(E-E[0] )\n",
    "print( res.efreqs )\n",
    "\n",
    "print( (E-E[0])[1])\n",
    "print( res.efreqs[1] )\n"
   ]
  },
  {
   "cell_type": "code",
   "execution_count": null,
   "metadata": {},
   "outputs": [],
   "source": [
    "E = sq_ext.diag(H_flu_0, n_eig, out='GHz')[0]\n",
    "print(E-E[0])\n",
    "print( flu_0.efreqs )\n"
   ]
  },
  {
   "cell_type": "code",
   "execution_count": null,
   "metadata": {},
   "outputs": [],
   "source": [
    "E = sq_ext.diag(H_res_0 , n_eig, out='GHz')[0]\n",
    "print(E-E[0] )\n",
    "print( res_0.efreqs )\n",
    "\n",
    "\n",
    "\n",
    "\n"
   ]
  }
 ],
 "metadata": {
  "kernelspec": {
   "display_name": "Python 3 (ipykernel)",
   "language": "python",
   "name": "python3"
  },
  "language_info": {
   "codemirror_mode": {
    "name": "ipython",
    "version": 3
   },
   "file_extension": ".py",
   "mimetype": "text/x-python",
   "name": "python",
   "nbconvert_exporter": "python",
   "pygments_lexer": "ipython3",
   "version": "3.8.17"
  }
 },
 "nbformat": 4,
 "nbformat_minor": 1
}
