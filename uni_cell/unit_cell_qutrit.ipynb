{
 "cells": [
  {
   "cell_type": "code",
   "outputs": [
    {
     "data": {
      "text/plain": "<Figure size 640x480 with 0 Axes>"
     },
     "metadata": {},
     "output_type": "display_data"
    }
   ],
   "source": [
    "import scipy.optimize\n",
    "\n",
    "import Modules.SQcircuit_extensions as sq_ext\n",
    "import Modules.perturbation_theory as pt\n",
    "import Modules.figures as figs\n",
    "import SQcircuit as sq\n",
    "import qutip as qt\n",
    "import numpy as np\n",
    "import matplotlib.pyplot as plt\n",
    "import matplotlib as mpl\n",
    "from importlib import reload \n",
    "import scipy as sp\n",
    "from scipy.optimize import curve_fit, minimize\n",
    "\n",
    "# %matplotlib ipympl\n",
    "# plt.rcParams.update({\n",
    "#     \"text.usetex\": True,\n",
    "#     \"font.family\": \"serif\",\n",
    "#     \"font.serif\": [\"Palatino\"],\n",
    "# })\n",
    "plt.rcParams['text.usetex'] = False\n",
    "reload(sq_ext)\n",
    "reload(sq)\n",
    "reload(figs)\n",
    "np.set_printoptions(linewidth=300, formatter={'float': '{:.12f}'.format})\n",
    "# np.set_printoptions(linewidth=200, formatter={'float': '{:.1e}'.format})"
   ],
   "metadata": {
    "collapsed": false,
    "ExecuteTime": {
     "end_time": "2025-02-24T13:28:32.149366Z",
     "start_time": "2025-02-24T13:28:30.897264Z"
    }
   },
   "id": "e6ca268a8e1ff271",
   "execution_count": 1
  },
  {
   "cell_type": "code",
   "outputs": [],
   "source": [
    "nH   = 1e-9\n",
    "fF   = 1e-15\n",
    "GHz  = 1e9\n",
    "h    = 6.626e-34\n",
    "e0   = 1.602e-19\n",
    "Φ_0  = h/(2*e0)"
   ],
   "metadata": {
    "collapsed": false,
    "ExecuteTime": {
     "end_time": "2025-02-24T13:28:32.165028Z",
     "start_time": "2025-02-24T13:28:32.150507Z"
    }
   },
   "id": "acdcc3ca4e87eb67",
   "execution_count": 2
  },
  {
   "cell_type": "markdown",
   "source": [
    "## Qubit - Cavity 2xN effective Hamiltonian - vs $\\varphi_{ext}$"
   ],
   "metadata": {
    "collapsed": false
   },
   "id": "d6eb6afd6bb4cd66"
  },
  {
   "cell_type": "code",
   "outputs": [],
   "source": [
    "C, CJ, Csh, Lq, Lr, Δ, EJ = sq_ext.get_experimental_parameters('qubit_2', return_effective=False)\n",
    "C_F_eff, C_R_eff = sq_ext.C_CJ_Csh_to_CF_CR_eff(C, CJ, Csh)\n",
    "L_F_eff, L_R_eff, L_C_eff = sq_ext.Lq_Lr_to_LF_LR_LC_eff(Lq, Lr, Δ)\n",
    "# L_C_eff = 1e100 "
   ],
   "metadata": {
    "collapsed": false,
    "ExecuteTime": {
     "end_time": "2025-02-24T13:34:14.273766Z",
     "start_time": "2025-02-24T13:34:14.266671Z"
    }
   },
   "id": "2b4fc1187dbf5897",
   "execution_count": 5
  },
  {
   "cell_type": "code",
   "outputs": [
    {
     "data": {
      "text/plain": "['(0,0)', '(0,1)', '(1,0)', '(1,1)', '(2,0)', '(2,1)']"
     },
     "execution_count": 38,
     "metadata": {},
     "output_type": "execute_result"
    }
   ],
   "source": [
    "n_eig  = 8\n",
    "\n",
    "nmax_f=15\n",
    "nmax_r=10\n",
    "\n",
    "# basis_states = []\n",
    "# N = 2\n",
    "# for i in range(N):\n",
    "#     basis_states.append((0,i))\n",
    "#     basis_states.append((1,i))\n",
    "\n",
    "basis_states = []\n",
    "N = 2\n",
    "for q in [0,1,2]:\n",
    "    for n in range(N):\n",
    "        basis_states.append((q, n))\n",
    "\n",
    "# basis_states = []\n",
    "# N = 2\n",
    "# for n in range(N):\n",
    "#     for q in [0,1,2]:\n",
    "#         basis_states.append((q, n))\n",
    "\n",
    "N_elements = 2\n",
    "max_excitations_mediating_states = 2\n",
    "mediating_states = sq_ext.generate_mediating_states(N_elements, basis_states, max_excitations_mediating_states)\n",
    "\n",
    "labels_low = [f'({i},{j})' for i, j in basis_states]\n",
    "labels_low\n",
    "# labels_high = [f'({i},{j})' for i, j in mediating_states]"
   ],
   "metadata": {
    "collapsed": false,
    "ExecuteTime": {
     "end_time": "2025-02-24T13:42:32.864658Z",
     "start_time": "2025-02-24T13:42:32.856179Z"
    }
   },
   "id": "3371c3674e525ab9",
   "execution_count": 38
  },
  {
   "cell_type": "code",
   "outputs": [
    {
     "name": "stdout",
     "output_type": "stream",
     "text": [
      "[0, 2, 1, 4, 3, 7]\n"
     ]
    }
   ],
   "source": [
    "reload(sq_ext)\n",
    "\n",
    "n_plot = 50\n",
    "param_name = '\\\\varphi_{ext}'\n",
    "param_values = np.linspace(0.5, 0.8, n_plot)\n",
    "φ_ext_values = param_values\n",
    "\n",
    "E_vs_φ_ext = np.zeros([len(φ_ext_values), len(basis_states)]) \n",
    "E_quantum_optics_vs_φ_ext = np.zeros([len(φ_ext_values), len(basis_states)]) \n",
    "E_full_vs_φ_ext = np.zeros([len(φ_ext_values), n_eig]) \n",
    "H_eff_SWT_vs_φ_ext = np.zeros([len(φ_ext_values),len(basis_states),len(basis_states)], dtype='complex')\n",
    "H_eff_p1_vs_φ_ext = np.zeros([len(φ_ext_values),len(basis_states),len(basis_states)], dtype='complex')\n",
    "\n",
    "fluxonium_0 = sq_ext.sq_fluxonium(EJ=EJ, C_F_eff=C_F_eff, L_F_eff =L_F_eff, Δ=Δ, φ_ext=0.5,nmax_f=nmax_f)\n",
    "resonator = sq_ext.sq_resonator(L_R_eff=L_R_eff, C_R_eff=C_R_eff, Δ=Δ,nmax_r=nmax_r)\n",
    "Hf = fluxonium_0.hamiltonian()\n",
    "Hr = resonator.hamiltonian()\n",
    "H_0_list =[Hf,Hr]\n",
    "\n",
    "H_0, E_0, ψ_0_basis, ψ_0_mediating = sq_ext.ψ_0_from_H_0(H_0_list, basis_states, mediating_states, n_eig)\n",
    "E_0_ψ_0_basis = [np.real((ψ_0_i.dag() * H_0 * ψ_0_i).data[0, 0]) / 2 / np.pi / GHz for ψ_0_i in ψ_0_basis]\n",
    "subspace_indices = sq_ext.find_close_indices_unique(E_0_ψ_0_basis, E_0)\n",
    "\n",
    "print(subspace_indices)\n",
    "for i, φ_ext in enumerate(φ_ext_values):\n",
    "    fluxonium = sq_ext.sq_fluxonium(EJ=EJ, C_F_eff=C_F_eff, L_F_eff=L_F_eff, Δ=Δ, φ_ext=φ_ext, nmax_f=nmax_f)\n",
    "    H = sq_ext.hamiltonian_qubit(fluxonium, resonator, L_C_eff )\n",
    "    \n",
    "    E, ψ = sq_ext.diag(H, n_eig, out='GHz', solver='Qutip', qObj=True)\n",
    "    # E, ψ = sq_ext.diag(H, n_eig, out='GHz', solver='numpy')\n",
    "    \n",
    "    \n",
    "    E_basis = E[subspace_indices]\n",
    "    ψ_basis = ψ[subspace_indices]\n",
    "    \n",
    "    # if i>0:\n",
    "    #     if np.abs(E_basis[1]-E_vs_φ_ext[i-1][1]) + np.abs(E_basis[2]-E_vs_φ_ext[i-1][2]) > np.abs(E_basis[1]-E_vs_φ_ext[i-1][2]) + np.abs(E_basis[2]-E_vs_φ_ext[i-1][1]):\n",
    "    #         aux = subspace_indices[1]\n",
    "    #         subspace_indices[1] = subspace_indices[2]\n",
    "    #         subspace_indices[2] = aux\n",
    "    \n",
    "    E_full_vs_φ_ext[i] = E\n",
    "    E_vs_φ_ext[i] = E_basis #-E_basis[0]\n",
    "    \n",
    "    H_eff_SWT_vs_φ_ext[i] = sq_ext.H_eff_SWT_large(ψ_0_basis, ψ_basis, E_basis )\n",
    "    # H_eff_SWT_vs_φ_ext[i] = sq_ext.H_eff_SWT(H_0, H, n_eig = len(basis_states), remove_ground=False)\n",
    "    H_eff_p1_vs_φ_ext[i] = sq_ext.H_eff_p1_large(ψ_0_basis, H, out='GHz', real=True, remove_ground=False)\n",
    "    \n",
    "   "
   ],
   "metadata": {
    "collapsed": false,
    "ExecuteTime": {
     "end_time": "2025-02-24T13:42:34.250282Z",
     "start_time": "2025-02-24T13:42:33.030085Z"
    }
   },
   "id": "d80c1f236c8a60df",
   "execution_count": 39
  },
  {
   "cell_type": "code",
   "outputs": [
    {
     "data": {
      "text/plain": "<module 'Modules.SQcircuit_extensions' from 'C:\\\\Users\\\\gabri\\\\PycharmProjects\\\\tunable-capacitive-coupling-flux-qubits\\\\Modules\\\\SQcircuit_extensions.py'>"
     },
     "execution_count": 40,
     "metadata": {},
     "output_type": "execute_result"
    }
   ],
   "source": [
    "reload(sq_ext)"
   ],
   "metadata": {
    "collapsed": false,
    "ExecuteTime": {
     "end_time": "2025-02-24T13:42:34.281308Z",
     "start_time": "2025-02-24T13:42:34.251459Z"
    }
   },
   "id": "72b85f442bf5ba83",
   "execution_count": 40
  },
  {
   "cell_type": "code",
   "outputs": [
    {
     "name": "stdout",
     "output_type": "stream",
     "text": [
      "10.9191+0.0000j\t*\tλ_0 ⊗ I\n",
      "6.2738+0.0000j\t*\tλ_0 ⊗ n\n",
      "0.0617+0.0000j\t*\tλ_1 ⊗ a†+a\n",
      "-1.7117-0.0000j\t*\tλ_3 ⊗ I\n",
      "0.0014+0.0000j\t*\tλ_3 ⊗ n\n",
      "-0.0039-0.0000j\t*\tλ_4 ⊗ n\n",
      "0.0715-0.0000j\t*\tλ_6 ⊗ a†+a\n",
      "-3.9301+0.0000j\t*\tλ_8 ⊗ I\n",
      "-0.0035+0.0000j\t*\tλ_8 ⊗ n\n",
      "\n",
      "Original eigenvalues:\n",
      "[0.000000000000 3.421970000000 6.274940000000 8.514880000000 9.698900000000 14.797510000000]\n",
      "Reconstructed eigenvalues:\n",
      "[0.000000000000 3.421970000000 6.274940000000 8.514880000000 9.698900000000 14.797510000000]\n",
      "Spectra match (within tolerance).\n"
     ]
    }
   ],
   "source": [
    "sq_ext.decomposition_in_pauli_3xN_qutrit_resonator(H_eff_SWT_vs_φ_ext[0], test_decomposition=True);"
   ],
   "metadata": {
    "collapsed": false
   },
   "id": "89f32aef494fdf75",
   "execution_count": 42
  },
  {
   "cell_type": "code",
   "outputs": [
    {
     "name": "stdout",
     "output_type": "stream",
     "text": [
      "10.9193+0.0000j\t*\tλ_0 ⊗ I\n",
      "6.2740+0.0000j\t*\tλ_0 ⊗ n\n",
      "0.0617+0.0000j\t*\tλ_1 ⊗ a†+a\n",
      "-1.7117+0.0000j\t*\tλ_3 ⊗ I\n",
      "0.0715+0.0000j\t*\tλ_6 ⊗ a†+a\n",
      "-3.9304+0.0000j\t*\tλ_8 ⊗ I\n",
      "\n",
      "Original eigenvalues:\n",
      "[0.000000000000 3.421970000000 6.275730000000 8.515450000000 9.702460000000 14.794230000000]\n",
      "Reconstructed eigenvalues:\n",
      "[0.000000000000 3.421970000000 6.275730000000 8.515450000000 9.702460000000 14.794230000000]\n",
      "Spectra match (within tolerance).\n"
     ]
    }
   ],
   "source": [
    "sq_ext.decomposition_in_pauli_3xN_qutrit_resonator(H_eff_p1_vs_φ_ext[0], test_decomposition=True);"
   ],
   "metadata": {
    "collapsed": false,
    "ExecuteTime": {
     "end_time": "2025-02-24T13:43:33.083449Z",
     "start_time": "2025-02-24T13:43:33.058778Z"
    }
   },
   "id": "e8eb195172226dbb",
   "execution_count": 43
  },
  {
   "cell_type": "code",
   "outputs": [],
   "source": [
    "fluxonium_0.diag(3);\n",
    "resonator.diag(3);"
   ],
   "metadata": {
    "collapsed": false,
    "ExecuteTime": {
     "end_time": "2025-02-24T13:45:04.949689Z",
     "start_time": "2025-02-24T13:45:04.926781Z"
    }
   },
   "id": "5ee53e48b457d426",
   "execution_count": 49
  },
  {
   "cell_type": "code",
   "outputs": [
    {
     "data": {
      "text/plain": "Quantum object: dims = [[3], [3]], shape = (3, 3), type = oper, isherm = True\nQobj data =\n[[ 5.74457128e-14+1.76309257e-29j  3.16564145e+01+2.31458961e-14j  1.67934174e-13+2.17992928e-14j]\n [ 3.16564145e+01-2.31458961e-14j -3.03154215e-13-2.58567891e-29j  3.66887856e+01-1.42335482e-14j]\n [ 1.67934174e-13-2.17992928e-14j  3.66887856e+01+1.42335482e-14j  2.77827506e-13-6.03971631e-31j]]",
      "text/latex": "Quantum object: dims = [[3], [3]], shape = (3, 3), type = oper, isherm = True $ \\\\ \\left(\\begin{matrix}5.745\\times10^{-14} & 31.656 & 1.679\\times10^{-13}\\\\31.656 & -3.032\\times10^{-13} & 36.689\\\\1.679\\times10^{-13} & 36.689 & 2.778\\times10^{-13}\\\\\\end{matrix}\\right)$"
     },
     "execution_count": 54,
     "metadata": {},
     "output_type": "execute_result"
    }
   ],
   "source": [
    "Φf = fluxonium_0.flux_op(0,'eig')\n",
    "Φf"
   ],
   "metadata": {
    "collapsed": false,
    "ExecuteTime": {
     "end_time": "2025-02-24T13:45:43.290665Z",
     "start_time": "2025-02-24T13:45:43.284649Z"
    }
   },
   "id": "6f3778156d5c277b",
   "execution_count": 54
  },
  {
   "cell_type": "code",
   "outputs": [
    {
     "data": {
      "text/plain": "Quantum object: dims = [[3], [3]], shape = (3, 3), type = oper, isherm = True\nQobj data =\n[[-1.07668768e-14+1.74128728e-30j  4.46266064e+01-3.13077834e-14j -2.88328904e-14+1.81922644e-14j]\n [ 4.46266064e+01+3.13077834e-14j  4.68715905e-14-5.56615588e-32j  6.31115520e+01+1.81553314e-14j]\n [-2.88328904e-14-1.81922644e-14j  6.31115520e+01-1.81553314e-14j  1.70643772e-13-2.20997806e-30j]]",
      "text/latex": "Quantum object: dims = [[3], [3]], shape = (3, 3), type = oper, isherm = True $ \\\\ \\left(\\begin{matrix}-1.077\\times10^{-14} & 44.627 & -2.883\\times10^{-14}\\\\44.627 & 4.687\\times10^{-14} & 63.112\\\\-2.883\\times10^{-14} & 63.112 & 1.706\\times10^{-13}\\\\\\end{matrix}\\right)$"
     },
     "execution_count": 55,
     "metadata": {},
     "output_type": "execute_result"
    }
   ],
   "source": [
    "Φr = resonator.flux_op(0,'eig')\n",
    "Φr"
   ],
   "metadata": {
    "collapsed": false,
    "ExecuteTime": {
     "end_time": "2025-02-24T13:45:43.444828Z",
     "start_time": "2025-02-24T13:45:43.435320Z"
    }
   },
   "id": "2fa8d4a79a0f28f8",
   "execution_count": 55
  },
  {
   "cell_type": "code",
   "outputs": [
    {
     "data": {
      "text/plain": "(0.06168113036063489+1.8263799265444887e-18j)"
     },
     "execution_count": 62,
     "metadata": {},
     "output_type": "execute_result"
    }
   ],
   "source": [
    "Φf[0,1] * Φr[0,1] / (L_C_eff * nH) / 2 / np.pi / GHz"
   ],
   "metadata": {
    "collapsed": false,
    "ExecuteTime": {
     "end_time": "2025-02-24T13:51:11.223873Z",
     "start_time": "2025-02-24T13:51:11.207839Z"
    }
   },
   "id": "4b6fb3912e92d8c0",
   "execution_count": 62
  },
  {
   "cell_type": "code",
   "outputs": [
    {
     "data": {
      "text/plain": "(0.07148648387376458-7.788476524912485e-17j)"
     },
     "execution_count": 74,
     "metadata": {},
     "output_type": "execute_result"
    }
   ],
   "source": [
    "Φf[1,2] * Φr[0,1] / (L_C_eff * nH) / 2 / np.pi / GHz"
   ],
   "metadata": {
    "collapsed": false,
    "ExecuteTime": {
     "end_time": "2025-02-24T13:54:05.783967Z",
     "start_time": "2025-02-24T13:54:05.773493Z"
    }
   },
   "id": "27e1f05c79fdc391",
   "execution_count": 74
  }
 ],
 "metadata": {
  "kernelspec": {
   "display_name": "Python 3",
   "language": "python",
   "name": "python3"
  },
  "language_info": {
   "codemirror_mode": {
    "name": "ipython",
    "version": 2
   },
   "file_extension": ".py",
   "mimetype": "text/x-python",
   "name": "python",
   "nbconvert_exporter": "python",
   "pygments_lexer": "ipython2",
   "version": "2.7.6"
  }
 },
 "nbformat": 4,
 "nbformat_minor": 5
}
