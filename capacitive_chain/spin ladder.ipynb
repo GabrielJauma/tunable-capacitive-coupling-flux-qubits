{
 "cells": [
  {
   "cell_type": "code",
   "outputs": [
    {
     "ename": "ImportError",
     "evalue": "DLL load failed while importing _multiarray_umath: No se puede encontrar el módulo especificado.",
     "output_type": "error",
     "traceback": [
      "\u001B[31m---------------------------------------------------------------------------\u001B[39m",
      "\u001B[31mImportError\u001B[39m                               Traceback (most recent call last)",
      "\u001B[31mImportError\u001B[39m: DLL load failed while importing _multiarray_umath: No se puede encontrar el módulo especificado."
     ]
    },
    {
     "ename": "ImportError",
     "evalue": "numpy._core.multiarray failed to import",
     "output_type": "error",
     "traceback": [
      "\u001B[31m---------------------------------------------------------------------------\u001B[39m",
      "\u001B[31mImportError\u001B[39m                               Traceback (most recent call last)",
      "\u001B[36mCell\u001B[39m\u001B[36m \u001B[39m\u001B[32mIn[7]\u001B[39m\u001B[32m, line 2\u001B[39m\n\u001B[32m      1\u001B[39m \u001B[38;5;28;01mimport\u001B[39;00m\u001B[38;5;250m \u001B[39m\u001B[34;01mnumpy\u001B[39;00m\u001B[38;5;250m \u001B[39m\u001B[38;5;28;01mas\u001B[39;00m\u001B[38;5;250m \u001B[39m\u001B[34;01mnp\u001B[39;00m\n\u001B[32m----> \u001B[39m\u001B[32m2\u001B[39m \u001B[38;5;28;01mimport\u001B[39;00m\u001B[38;5;250m \u001B[39m\u001B[34;01mscipy\u001B[39;00m\u001B[34;01m.\u001B[39;00m\u001B[34;01msparse\u001B[39;00m\u001B[38;5;250m \u001B[39m\u001B[38;5;28;01mas\u001B[39;00m\u001B[38;5;250m \u001B[39m\u001B[34;01msp\u001B[39;00m\n\u001B[32m      3\u001B[39m \u001B[38;5;28;01mimport\u001B[39;00m\u001B[38;5;250m \u001B[39m\u001B[34;01mscipy\u001B[39;00m\u001B[34;01m.\u001B[39;00m\u001B[34;01msparse\u001B[39;00m\u001B[34;01m.\u001B[39;00m\u001B[34;01mlinalg\u001B[39;00m\u001B[38;5;250m \u001B[39m\u001B[38;5;28;01mas\u001B[39;00m\u001B[38;5;250m \u001B[39m\u001B[34;01mspla\u001B[39;00m\n\u001B[32m      4\u001B[39m \u001B[38;5;28;01mimport\u001B[39;00m\u001B[38;5;250m \u001B[39m\u001B[34;01mmatplotlib\u001B[39;00m\u001B[34;01m.\u001B[39;00m\u001B[34;01mpyplot\u001B[39;00m\u001B[38;5;250m \u001B[39m\u001B[38;5;28;01mas\u001B[39;00m\u001B[38;5;250m \u001B[39m\u001B[34;01mplt\u001B[39;00m\n",
      "\u001B[36mFile \u001B[39m\u001B[32m~\\miniconda3\\envs\\spin_chain_dmrg\\Lib\\site-packages\\scipy\\sparse\\__init__.py:301\u001B[39m\n\u001B[32m    298\u001B[39m \u001B[38;5;28;01mimport\u001B[39;00m\u001B[38;5;250m \u001B[39m\u001B[34;01mwarnings\u001B[39;00m\u001B[38;5;250m \u001B[39m\u001B[38;5;28;01mas\u001B[39;00m\u001B[38;5;250m \u001B[39m\u001B[34;01m_warnings\u001B[39;00m\n\u001B[32m    300\u001B[39m \u001B[38;5;28;01mfrom\u001B[39;00m\u001B[38;5;250m \u001B[39m\u001B[34;01m.\u001B[39;00m\u001B[34;01m_base\u001B[39;00m\u001B[38;5;250m \u001B[39m\u001B[38;5;28;01mimport\u001B[39;00m *\n\u001B[32m--> \u001B[39m\u001B[32m301\u001B[39m \u001B[38;5;28;01mfrom\u001B[39;00m\u001B[38;5;250m \u001B[39m\u001B[34;01m.\u001B[39;00m\u001B[34;01m_csr\u001B[39;00m\u001B[38;5;250m \u001B[39m\u001B[38;5;28;01mimport\u001B[39;00m *\n\u001B[32m    302\u001B[39m \u001B[38;5;28;01mfrom\u001B[39;00m\u001B[38;5;250m \u001B[39m\u001B[34;01m.\u001B[39;00m\u001B[34;01m_csc\u001B[39;00m\u001B[38;5;250m \u001B[39m\u001B[38;5;28;01mimport\u001B[39;00m *\n\u001B[32m    303\u001B[39m \u001B[38;5;28;01mfrom\u001B[39;00m\u001B[38;5;250m \u001B[39m\u001B[34;01m.\u001B[39;00m\u001B[34;01m_lil\u001B[39;00m\u001B[38;5;250m \u001B[39m\u001B[38;5;28;01mimport\u001B[39;00m *\n",
      "\u001B[36mFile \u001B[39m\u001B[32m~\\miniconda3\\envs\\spin_chain_dmrg\\Lib\\site-packages\\scipy\\sparse\\_csr.py:11\u001B[39m\n\u001B[32m      9\u001B[39m \u001B[38;5;28;01mfrom\u001B[39;00m\u001B[38;5;250m \u001B[39m\u001B[34;01m.\u001B[39;00m\u001B[34;01m_matrix\u001B[39;00m\u001B[38;5;250m \u001B[39m\u001B[38;5;28;01mimport\u001B[39;00m spmatrix\n\u001B[32m     10\u001B[39m \u001B[38;5;28;01mfrom\u001B[39;00m\u001B[38;5;250m \u001B[39m\u001B[34;01m.\u001B[39;00m\u001B[34;01m_base\u001B[39;00m\u001B[38;5;250m \u001B[39m\u001B[38;5;28;01mimport\u001B[39;00m _spbase, sparray\n\u001B[32m---> \u001B[39m\u001B[32m11\u001B[39m \u001B[38;5;28;01mfrom\u001B[39;00m\u001B[38;5;250m \u001B[39m\u001B[34;01m.\u001B[39;00m\u001B[34;01m_sparsetools\u001B[39;00m\u001B[38;5;250m \u001B[39m\u001B[38;5;28;01mimport\u001B[39;00m (csr_tocsc, csr_tobsr, csr_count_blocks,\n\u001B[32m     12\u001B[39m                            get_csr_submatrix, csr_sample_values)\n\u001B[32m     13\u001B[39m \u001B[38;5;28;01mfrom\u001B[39;00m\u001B[38;5;250m \u001B[39m\u001B[34;01m.\u001B[39;00m\u001B[34;01m_sputils\u001B[39;00m\u001B[38;5;250m \u001B[39m\u001B[38;5;28;01mimport\u001B[39;00m upcast\n\u001B[32m     15\u001B[39m \u001B[38;5;28;01mfrom\u001B[39;00m\u001B[38;5;250m \u001B[39m\u001B[34;01m.\u001B[39;00m\u001B[34;01m_compressed\u001B[39;00m\u001B[38;5;250m \u001B[39m\u001B[38;5;28;01mimport\u001B[39;00m _cs_matrix\n",
      "\u001B[31mImportError\u001B[39m: numpy._core.multiarray failed to import"
     ]
    }
   ],
   "source": [
    "import numpy as np\n",
    "import scipy.sparse as sp\n",
    "import scipy.sparse.linalg as spla\n",
    "import matplotlib.pyplot as plt"
   ],
   "metadata": {
    "collapsed": false,
    "ExecuteTime": {
     "end_time": "2025-05-07T13:56:04.613584Z",
     "start_time": "2025-05-07T13:56:04.464631Z"
    }
   },
   "id": "82fa3ec12efdc42",
   "execution_count": 7
  },
  {
   "cell_type": "markdown",
   "source": [
    "# Brute force"
   ],
   "metadata": {
    "collapsed": false
   },
   "id": "51d6796e74d527ba"
  },
  {
   "cell_type": "code",
   "outputs": [],
   "source": [
    "# Pauli matrices\n",
    "σx = sp.csr_matrix([[0, 1], [1, 0]], dtype=complex)\n",
    "σy = sp.csr_matrix([[0, -1j], [1j, 0]], dtype=complex)\n",
    "σz = sp.csr_matrix([[1, 0], [0, -1]], dtype=complex)\n",
    "σp = (σx + 1j*σy) / 2  # raising\n",
    "σm = (σx - 1j*σy) / 2  # lowering\n",
    "\n",
    "def place(op, site, N):\n",
    "    \"\"\"\n",
    "    Place single-site operator `op` at position `site` in an N-site chain.\n",
    "    op: 2x2 sparse matrix\n",
    "    site: int, 0-based site index\n",
    "    N: total number of sites\n",
    "    \"\"\"\n",
    "    mats = []\n",
    "    for i in range(N):\n",
    "        mats.append(op if i == site else sp.eye(2, format='csr', dtype=complex))\n",
    "    # Tensor product\n",
    "    result = mats[0]\n",
    "    for m in mats[1:]:\n",
    "        result = sp.kron(result, m, format='csr')\n",
    "    return result\n",
    "\n",
    "# 1) Build spin-ladder Hamiltonian (open boundaries)\n",
    "def build_H_spin(L, omega_c, omega_q, g_Φ, g_c, g_q):\n",
    "    \"\"\"\n",
    "    Build the many-body Hamiltonian for an open spin ladder of L unit cells (2L sites).\n",
    "    \"\"\"\n",
    "    N_sites = 2 * L\n",
    "    g_qc = np.sqrt(g_q * g_c)\n",
    "    H = sp.csr_matrix((2**N_sites, 2**N_sites), dtype=complex)\n",
    "    \n",
    "    for n in range(L):\n",
    "        ia = 2*n      # cavity-leg site index\n",
    "        ib = ia + 1   # qubit-leg site index\n",
    "        \n",
    "        # Onsite sigma_z terms\n",
    "        H += (omega_c/2) * place(σz, ia, N_sites)\n",
    "        H += (omega_q/2) * place(σz, ib, N_sites)\n",
    "        \n",
    "        # Rung coupling g_Φ: flip-flop between a_n and b_n\n",
    "        H +=  g_Φ * (place(σp, ib, N_sites) @ place(σm, ia, N_sites) +\n",
    "                     place(σm, ib, N_sites) @ place(σp, ia, N_sites))\n",
    "        \n",
    "        # Only add inter-cell terms if not last cell (open BC)\n",
    "        if n < L-1:\n",
    "            ia_next = ia + 2\n",
    "            ib_next = ib + 2\n",
    "            # cavity leg hopping +g_c\n",
    "            H +=  g_c * (place(σp, ia, N_sites) @ place(σm, ia_next, N_sites) +\n",
    "                         place(σm, ia, N_sites) @ place(σp, ia_next, N_sites))\n",
    "            # qubit leg hopping -g_q\n",
    "            H += -g_q * (place(σp, ib, N_sites) @ place(σm, ib_next, N_sites) +\n",
    "                         place(σm, ib, N_sites) @ place(σp, ib_next, N_sites))\n",
    "            # diagonals sqrt(g_q g_c)\n",
    "            H += -g_qc * (place(σp, ib, N_sites) @ place(σm, ia_next, N_sites) +\n",
    "                          place(σm, ib, N_sites) @ place(σp, ia_next, N_sites))\n",
    "            H +=  g_qc * (place(σp, ia, N_sites) @ place(σm, ib_next, N_sites) +\n",
    "                          place(σm, ia, N_sites) @ place(σp, ib_next, N_sites))\n",
    "    return H\n",
    "\n",
    "\n",
    "def single_excitation_basis_matrix(N_sites):\n",
    "    \"\"\"\n",
    "    Returns a sparse rectangular matrix U with shape (2**N_sites, N_sites),\n",
    "    whose columns are computational basis states with exactly one excitation.\n",
    "    \"\"\"\n",
    "    dim_full = 2 ** N_sites\n",
    "    dim_subspace = N_sites  # single excitation dimension\n",
    "\n",
    "    data = []\n",
    "    rows = []\n",
    "    cols = []\n",
    "\n",
    "    col_idx = 0\n",
    "    for idx in range(dim_full):\n",
    "        state_bin = format(idx, f'0{N_sites}b')\n",
    "        if state_bin.count('1') == 1:\n",
    "            rows.append(idx)\n",
    "            cols.append(col_idx)\n",
    "            data.append(1.0)\n",
    "            col_idx += 1\n",
    "\n",
    "    U = sp.csr_matrix((data, (rows, cols)), shape=(dim_full, dim_subspace), dtype=complex)\n",
    "    return U"
   ],
   "metadata": {
    "collapsed": false,
    "ExecuteTime": {
     "start_time": "2025-05-07T13:55:28.097560Z"
    }
   },
   "id": "4fa6ef8ce12cc2fb",
   "execution_count": null
  },
  {
   "cell_type": "code",
   "outputs": [],
   "source": [
    "# Example parameters\n",
    "omega_c = 2\n",
    "omega_q = 1.0\n",
    "g_Φ = 0.0\n",
    "g_c = 1\n",
    "g_q = 1\n"
   ],
   "metadata": {
    "collapsed": false,
    "ExecuteTime": {
     "end_time": "2025-05-07T13:55:29.120451Z",
     "start_time": "2025-05-07T13:55:29.116325Z"
    }
   },
   "id": "8161fbb9e0fbe21f",
   "execution_count": 2
  },
  {
   "cell_type": "code",
   "outputs": [
    {
     "ename": "NameError",
     "evalue": "name 'build_H_spin' is not defined",
     "output_type": "error",
     "traceback": [
      "\u001B[31m---------------------------------------------------------------------------\u001B[39m",
      "\u001B[31mNameError\u001B[39m                                 Traceback (most recent call last)",
      "\u001B[36mCell\u001B[39m\u001B[36m \u001B[39m\u001B[32mIn[3]\u001B[39m\u001B[32m, line 4\u001B[39m\n\u001B[32m      2\u001B[39m N_sites = \u001B[32m2\u001B[39m * L\n\u001B[32m      3\u001B[39m \u001B[38;5;66;03m# Build and diagonalize\u001B[39;00m\n\u001B[32m----> \u001B[39m\u001B[32m4\u001B[39m H_spin = build_H_spin(L, omega_c, omega_q, g_Φ, g_c, g_q)\n",
      "\u001B[31mNameError\u001B[39m: name 'build_H_spin' is not defined"
     ]
    }
   ],
   "source": [
    "L = 5\n",
    "N_sites = 2 * L\n",
    "# Build and diagonalize\n",
    "H_spin = build_H_spin(L, omega_c, omega_q, g_Φ, g_c, g_q)"
   ],
   "metadata": {
    "collapsed": false,
    "ExecuteTime": {
     "end_time": "2025-05-07T13:55:30.039005Z",
     "start_time": "2025-05-07T13:55:29.956570Z"
    }
   },
   "id": "94d6b4e92fd84c23",
   "execution_count": 3
  },
  {
   "cell_type": "code",
   "outputs": [
    {
     "ename": "NameError",
     "evalue": "name 'spla' is not defined",
     "output_type": "error",
     "traceback": [
      "\u001B[31m---------------------------------------------------------------------------\u001B[39m",
      "\u001B[31mNameError\u001B[39m                                 Traceback (most recent call last)",
      "\u001B[36mCell\u001B[39m\u001B[36m \u001B[39m\u001B[32mIn[4]\u001B[39m\u001B[32m, line 4\u001B[39m\n\u001B[32m      2\u001B[39m k_eigs = \u001B[32m2\u001B[39m**(\u001B[32m2\u001B[39m*L)-\u001B[32m2\u001B[39m  \u001B[38;5;66;03m# how many eigenvalues\u001B[39;00m\n\u001B[32m      3\u001B[39m \u001B[38;5;66;03m# k_eigs = 1000  # how many eigenvalues\u001B[39;00m\n\u001B[32m----> \u001B[39m\u001B[32m4\u001B[39m eigvals, eigvecs = spla.eigsh(H_spin, k=k_eigs, which=\u001B[33m'\u001B[39m\u001B[33mSA\u001B[39m\u001B[33m'\u001B[39m)  \u001B[38;5;66;03m# smallest algebraic\u001B[39;00m\n\u001B[32m      5\u001B[39m \u001B[38;5;66;03m# eigvals, eigvecs = np.linalg.eigh(H_spin.toarray())  # smallest algebraic\u001B[39;00m\n\u001B[32m      6\u001B[39m \n\u001B[32m      7\u001B[39m \u001B[38;5;66;03m# Sort eigenvalues\u001B[39;00m\n\u001B[32m      8\u001B[39m idx = np.argsort(np.real(eigvals))\n",
      "\u001B[31mNameError\u001B[39m: name 'spla' is not defined"
     ]
    }
   ],
   "source": [
    "# Use sparse eigensolver to find lowest few eigenstates\n",
    "k_eigs = 2**(2*L)-2  # how many eigenvalues\n",
    "# k_eigs = 1000  # how many eigenvalues\n",
    "eigvals, eigvecs = spla.eigsh(H_spin, k=k_eigs, which='SA')  # smallest algebraic\n",
    "# eigvals, eigvecs = np.linalg.eigh(H_spin.toarray())  # smallest algebraic\n",
    "\n",
    "# Sort eigenvalues\n",
    "idx = np.argsort(np.real(eigvals))\n",
    "eigvals = eigvals[idx]\n",
    "eigvecs = eigvecs[idx]"
   ],
   "metadata": {
    "collapsed": false,
    "ExecuteTime": {
     "end_time": "2025-05-07T13:55:30.474845Z",
     "start_time": "2025-05-07T13:55:30.445030Z"
    }
   },
   "id": "32303ac6747eeba",
   "execution_count": 4
  },
  {
   "cell_type": "code",
   "outputs": [
    {
     "data": {
      "text/plain": "<Figure size 600x400 with 1 Axes>",
      "image/png": "[encoded data removed]"
     },
     "metadata": {},
     "output_type": "display_data"
    }
   ],
   "source": [
    "\n",
    "# Plot spectrum\n",
    "plt.figure(figsize=(6,4))\n",
    "plt.plot(np.arange(k_eigs), np.real(eigvals), '.-')\n",
    "plt.xlabel('Eigenstate index')\n",
    "plt.ylabel('Energy')\n",
    "plt.title(f'Spin-ladder spectrum, L={L}')\n",
    "plt.tight_layout()\n",
    "plt.show()\n"
   ],
   "metadata": {
    "collapsed": false,
    "ExecuteTime": {
     "end_time": "2025-05-05T10:43:47.771690Z",
     "start_time": "2025-05-05T10:43:47.550123Z"
    }
   },
   "id": "2d5ff6f167ca6ad2",
   "execution_count": 17
  },
  {
   "cell_type": "markdown",
   "source": [
    "## Single excitation subspace"
   ],
   "metadata": {
    "collapsed": false
   },
   "id": "b98758ba1b295b88"
  },
  {
   "cell_type": "code",
   "outputs": [],
   "source": [
    "L = 10\n",
    "N_sites = 2 * L\n",
    "# Build and diagonalize\n",
    "H_spin = build_H_spin(L, omega_c, omega_q, g_Φ, g_c, g_q)"
   ],
   "metadata": {
    "collapsed": false,
    "ExecuteTime": {
     "end_time": "2025-05-07T12:18:21.090910Z",
     "start_time": "2025-05-07T12:18:00.957043Z"
    }
   },
   "id": "64a88931d8383450",
   "execution_count": 25
  },
  {
   "cell_type": "code",
   "outputs": [],
   "source": [
    "U = single_excitation_basis_matrix(N_sites)\n",
    "H_single_exc_subspace = U.conj().T @ H_spin @ U"
   ],
   "metadata": {
    "collapsed": false,
    "ExecuteTime": {
     "end_time": "2025-05-07T12:18:22.369338Z",
     "start_time": "2025-05-07T12:18:21.092111Z"
    }
   },
   "id": "e619931207912e28",
   "execution_count": 26
  },
  {
   "cell_type": "code",
   "outputs": [],
   "source": [
    "E, ψ = np.linalg.eigh(H_single_exc_subspace.todense())"
   ],
   "metadata": {
    "collapsed": false,
    "ExecuteTime": {
     "end_time": "2025-05-07T12:18:22.384697Z",
     "start_time": "2025-05-07T12:18:22.370662Z"
    }
   },
   "id": "8b18260ecb820ad6",
   "execution_count": 27
  },
  {
   "cell_type": "code",
   "outputs": [
    {
     "data": {
      "text/plain": "<Figure size 640x480 with 1 Axes>",
      "image/png": "[encoded data removed]"
     },
     "metadata": {},
     "output_type": "display_data"
    }
   ],
   "source": [
    "fig, ax = plt.subplots()\n",
    "\n",
    "ax.plot(E,'.')\n",
    "\n",
    "fig.tight_layout()"
   ],
   "metadata": {
    "collapsed": false,
    "ExecuteTime": {
     "end_time": "2025-05-07T12:18:22.562956Z",
     "start_time": "2025-05-07T12:18:22.387080Z"
    }
   },
   "id": "4ad87d03ef20c840",
   "execution_count": 28
  },
  {
   "cell_type": "code",
   "outputs": [],
   "source": [
    "mid_index = len(E)//2\n",
    "eigenvector_of_interest = ψ[:, mid_index]  # column\n",
    "amplitudes_a = []\n",
    "amplitudes_b = []\n",
    "for n in range(L):\n",
    "    amp_a_n = eigenvector_of_interest[2*n]\n",
    "    amp_b_n = eigenvector_of_interest[2*n+1]\n",
    "    amplitudes_a.append(np.abs(amp_a_n)**2)\n",
    "    amplitudes_b.append(np.abs(amp_b_n)**2)\n",
    "amplitudes_a = np.array(amplitudes_a).flatten()\n",
    "amplitudes_b = np.array(amplitudes_b).flatten()\n"
   ],
   "metadata": {
    "collapsed": false,
    "ExecuteTime": {
     "end_time": "2025-05-07T12:18:22.578027Z",
     "start_time": "2025-05-07T12:18:22.567082Z"
    }
   },
   "id": "94dc69c9b98b4908",
   "execution_count": 29
  },
  {
   "cell_type": "code",
   "outputs": [
    {
     "data": {
      "text/plain": "<Figure size 640x480 with 1 Axes>",
      "image/png": "[encoded data removed]"
     },
     "metadata": {},
     "output_type": "display_data"
    }
   ],
   "source": [
    "fig, ax = plt.subplots()\n",
    "\n",
    "ax.plot(amplitudes_a,'.-')\n",
    "ax.plot(amplitudes_b,'.-')\n",
    "ax.set_title(f'$|\\Psi|^2$')\n",
    "fig.tight_layout()"
   ],
   "metadata": {
    "collapsed": false,
    "ExecuteTime": {
     "end_time": "2025-05-07T12:18:22.924276Z",
     "start_time": "2025-05-07T12:18:22.580349Z"
    }
   },
   "id": "de84ffdeff6e074f",
   "execution_count": 30
  }
 ],
 "metadata": {
  "kernelspec": {
   "display_name": "Python 3",
   "language": "python",
   "name": "python3"
  },
  "language_info": {
   "codemirror_mode": {
    "name": "ipython",
    "version": 2
   },
   "file_extension": ".py",
   "mimetype": "text/x-python",
   "name": "python",
   "nbconvert_exporter": "python",
   "pygments_lexer": "ipython2",
   "version": "2.7.6"
  }
 },
 "nbformat": 4,
 "nbformat_minor": 5
}
