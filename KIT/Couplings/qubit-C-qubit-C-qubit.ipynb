{
 "cells": [
  {
   "cell_type": "code",
   "source": [
    "import Modules.SQcircuit_extensions as sq_ext\n",
    "import SQcircuit as sq\n",
    "import numpy as np\n",
    "import matplotlib.pyplot as plt\n",
    "%matplotlib ipympl\n",
    "import importlib\n",
    "import qutip as qt\n",
    "importlib.reload(sq_ext)"
   ],
   "metadata": {
    "collapsed": false,
    "ExecuteTime": {
     "end_time": "2024-06-26T09:12:30.152099Z",
     "start_time": "2024-06-26T09:12:29.824922Z"
    }
   },
   "execution_count": 1,
   "outputs": []
  },
  {
   "cell_type": "markdown",
   "source": [
    "## Define the circuit"
   ],
   "metadata": {
    "collapsed": false
   }
  },
  {
   "cell_type": "code",
   "source": [
    "# Circuit parameters\n",
    "Csh = 15\n",
    "C   = 15\n",
    "CJ  = 3\n",
    "Lq  = 25\n",
    "Lr  = 10\n",
    "Δ   = 0.1\n",
    "EJ  = 10.0"
   ],
   "metadata": {
    "collapsed": false,
    "ExecuteTime": {
     "end_time": "2024-06-26T09:11:56.042468Z",
     "start_time": "2024-06-26T09:11:56.040495Z"
    }
   },
   "execution_count": 2,
   "outputs": []
  },
  {
   "cell_type": "code",
   "source": [
    "Cc = 1e-1"
   ],
   "metadata": {
    "collapsed": false,
    "ExecuteTime": {
     "end_time": "2024-06-26T09:11:56.044392Z",
     "start_time": "2024-06-26T09:11:56.042920Z"
    }
   },
   "execution_count": 3,
   "outputs": []
  },
  {
   "cell_type": "code",
   "source": [
    "nmax_r = 3\n",
    "nmax_f = 8"
   ],
   "metadata": {
    "collapsed": false,
    "ExecuteTime": {
     "end_time": "2024-06-26T09:11:56.046056Z",
     "start_time": "2024-06-26T09:11:56.044751Z"
    }
   },
   "execution_count": 4,
   "outputs": []
  },
  {
   "cell_type": "code",
   "source": [
    "# Initialize loop(s)\n",
    "loop1 = sq.Loop(0.5)  # \"Value\" corresponds to phiExt / phi0 threading the loop (can change later)\n",
    "loop2 = sq.Loop(0.5)\n",
    "loop3 = sq.Loop(0.5)\n",
    "\n",
    "# Circuit elements\n",
    "# Elements for the three qubits decoupled\n",
    "C_01, C_02, C_12, L_03, L_31, L_23, JJ = [[] for _ in range(7)]\n",
    "for loop in [loop1, loop2, loop3]:\n",
    "    C_01.append(sq.Capacitor(C,       'fF'))\n",
    "    C_02.append(sq.Capacitor(C,       'fF'))\n",
    "    C_12.append(sq.Capacitor(CJ+Csh,  'fF'))\n",
    "    L_03.append(sq.Inductor(Lr,       'nH'))\n",
    "    L_31.append(sq.Inductor(Lq/2 - Δ, 'nH', loops=[loop]))\n",
    "    L_23.append(sq.Inductor(Lq/2 + Δ, 'nH', loops=[loop]))\n",
    "    JJ  .append(sq.Junction(EJ,      'GHz', loops=[loop]))\n",
    "# Capacitors for coupling\n",
    "C_coupling = sq.Capacitor(Cc, 'fF')\n",
    "\n",
    "# Create the circuit\n",
    "elements = {\n",
    "    # qubit 1, nodes [0, 1, 2, 3]\n",
    "    (0, 3): [L_03[0]],\n",
    "    (0, 1): [C_01[0]],\n",
    "    (0, 2): [C_02[0]],\n",
    "    (3, 1): [L_31[0]],\n",
    "    (1, 2): [C_12[0], JJ[0]],\n",
    "    (2, 3): [L_23[0]],\n",
    "    # qubit 2, nodes [0, 4, 5, 6]\n",
    "    (0, 6): [L_03[1]],\n",
    "    (0, 4): [C_01[1]],\n",
    "    (0, 5): [C_02[1]],\n",
    "    (6, 4): [L_31[1]],\n",
    "    (4, 5): [C_12[1], JJ[1]],\n",
    "    (5, 6): [L_23[1]],\n",
    "    # qubit 3, nodes [0,7, 8, 9]\n",
    "    (0, 9): [L_03[2]],\n",
    "    (0, 7): [C_01[2]],\n",
    "    (0, 8): [C_02[2]],\n",
    "    (9, 7): [L_31[2]],\n",
    "    (7, 8): [C_12[2], JJ[2]],\n",
    "    (8, 9): [L_23[2]],\n",
    "    # capacitive coupling\n",
    "    (2, 4): [C_coupling],\n",
    "    (5, 7): [C_coupling],\n",
    "    (8, 1): [C_coupling],\n",
    "}\n",
    "\n",
    "qubit_qubit_qubit = sq.Circuit(elements)\n",
    "qubit_qubit_qubit.description()"
   ],
   "metadata": {
    "collapsed": false,
    "ExecuteTime": {
     "end_time": "2024-06-26T09:11:56.260426Z",
     "start_time": "2024-06-26T09:11:56.247894Z"
    }
   },
   "execution_count": 5,
   "outputs": []
  },
  {
   "cell_type": "code",
   "source": [
    "qubit_qubit_qubit.set_trunc_nums([nmax_r, nmax_r, nmax_r, nmax_f, nmax_f, nmax_f])\n",
    "qubit_qubit_qubit.diag(4);"
   ],
   "metadata": {
    "collapsed": false,
    "ExecuteTime": {
     "end_time": "2024-06-26T09:12:02.919528Z",
     "start_time": "2024-06-26T09:11:56.522881Z"
    }
   },
   "execution_count": 6,
   "outputs": []
  },
  {
   "cell_type": "code",
   "source": [
    "qubit_qubit_qubit.efreqs-qubit_qubit_qubit.efreqs[0]"
   ],
   "metadata": {
    "collapsed": false
   },
   "execution_count": null,
   "outputs": []
  },
  {
   "cell_type": "code",
   "source": [
    "Cc = 2\n",
    "C_R = C/2\n",
    "C_C = Cc\n",
    "CC = C_C\n",
    "C_F = C/2 + Csh + CJ"
   ],
   "metadata": {
    "collapsed": false,
    "ExecuteTime": {
     "end_time": "2024-06-26T09:13:00.718042Z",
     "start_time": "2024-06-26T09:13:00.709605Z"
    }
   },
   "execution_count": 11,
   "outputs": []
  },
  {
   "cell_type": "code",
   "source": [
    "C_mat_2x2_outer = np.array([    [ CC / 4 ,-CC / 4, CC / 4, CC / 4],\n",
    "                                [-CC / 4 , CC / 4,-CC / 4,-CC / 4],\n",
    "                                [ CC / 4 ,-CC / 4, CC / 4, CC / 4],\n",
    "                                [ CC / 4 ,-CC / 4, CC / 4, CC / 4]])\n",
    "C_mat_2x2_inner = np.array([    [ CC / 2 ,0      , CC / 4, CC / 4],\n",
    "                                [0       , CC / 2,-CC / 4,-CC / 4],\n",
    "                                [ CC / 4 ,-CC / 4, CC / 2,0      ],\n",
    "                                [ CC / 4 ,-CC / 4,0      , CC / 2]])"
   ],
   "metadata": {
    "collapsed": false,
    "ExecuteTime": {
     "end_time": "2024-06-26T09:13:03.244424Z",
     "start_time": "2024-06-26T09:13:03.231146Z"
    }
   },
   "execution_count": 12,
   "outputs": []
  },
  {
   "cell_type": "code",
   "source": [
    "C_mat_6x6 = np.zeros([6,6])"
   ],
   "metadata": {
    "collapsed": false,
    "ExecuteTime": {
     "end_time": "2024-06-26T09:12:57.532978Z",
     "start_time": "2024-06-26T09:12:57.531127Z"
    }
   },
   "execution_count": 9,
   "outputs": []
  },
  {
   "cell_type": "code",
   "source": [
    "C_mat_6x6[:4,:4] = C_mat_2x2_outer\n",
    "C_mat_6x6[2:,2:] = C_mat_2x2_outer\n",
    "C_mat_6x6[2,2] = CC / 2\n",
    "C_mat_6x6[3,3] = CC / 2\n",
    "C_mat_6x6[2,3] = 0\n",
    "C_mat_6x6[3,2] = 0\n",
    "C_mat_6x6"
   ],
   "metadata": {
    "collapsed": false,
    "ExecuteTime": {
     "end_time": "2024-06-26T09:12:58.000439Z",
     "start_time": "2024-06-26T09:12:57.979367Z"
    }
   },
   "execution_count": 10,
   "outputs": []
  },
  {
   "metadata": {
    "ExecuteTime": {
     "end_time": "2024-06-26T09:12:37.704143Z",
     "start_time": "2024-06-26T09:12:37.701642Z"
    }
   },
   "cell_type": "code",
   "source": "print(C_mat_6x6)",
   "execution_count": 7,
   "outputs": []
  },
  {
   "cell_type": "code",
   "source": [
    "C_eff_mat = np.diag(np.array([C_F, C_R, C_F, C_R, C_F, C_R]))"
   ],
   "metadata": {
    "collapsed": false,
    "ExecuteTime": {
     "end_time": "2024-06-26T09:11:33.524127Z",
     "start_time": "2024-06-26T09:11:33.521829Z"
    }
   },
   "execution_count": 11,
   "outputs": []
  },
  {
   "cell_type": "code",
   "source": [
    "np.set_printoptions(linewidth=200, formatter={'float': '{:.5f}'.format})\n",
    "matrix =np.linalg.inv(C_mat_6x6 + C_eff_mat)"
   ],
   "metadata": {
    "collapsed": false,
    "ExecuteTime": {
     "end_time": "2024-05-26T12:05:16.859031500Z",
     "start_time": "2024-05-26T12:05:16.845032300Z"
    }
   },
   "execution_count": 65,
   "outputs": []
  },
  {
   "cell_type": "code",
   "source": [
    "matrix[0,1] ** -1"
   ],
   "metadata": {
    "collapsed": false,
    "ExecuteTime": {
     "end_time": "2024-05-26T12:05:17.082940700Z",
     "start_time": "2024-05-26T12:05:17.059779300Z"
    }
   },
   "execution_count": 66,
   "outputs": []
  },
  {
   "cell_type": "code",
   "source": [
    "max_len = 0\n",
    "for row in matrix:\n",
    "    for num in row:\n",
    "        num_str = f\"{num:.5f}\"  # Using 4 significant digits for this example\n",
    "        if len(num_str) > max_len:\n",
    "            max_len = len(num_str)\n",
    "\n",
    "# Print the matrix with the numbers properly aligned\n",
    "for row in matrix:\n",
    "    for num in row:\n",
    "        print(f\"{num:>{max_len}.5f}\", end=' ')\n",
    "    print()  # New line at the end of each row"
   ],
   "metadata": {
    "collapsed": false,
    "ExecuteTime": {
     "end_time": "2024-05-26T12:05:18.918871Z",
     "start_time": "2024-05-26T12:05:18.899834700Z"
    }
   },
   "execution_count": 67,
   "outputs": []
  },
  {
   "cell_type": "code",
   "source": [
    "C_R = C/2\n",
    "C_C = Cc\n",
    "C_F = C/2 + Csh + CJ\n",
    "C_mat = np.array([[C_R + C_C/2  , 0             , -C_C / 2      ,        0      ,-C_C / 2       , 0             ],\n",
    "                  [0            , C_F + C_C/2   ,       0       , -C_C / 2      , 0             , -C_C / 2      ],\n",
    "                  [-C_C / 2     ,        0      , C_R + C_C/2   , 0             ,-C_C / 2       , 0             ],\n",
    "                  [            0, -C_C / 2      , 0             , C_F + C_C/2   , 0             ,-C_C / 2       ],\n",
    "                  [-C_C / 2     , 0             ,-C_C / 2       , 0             , C_R + C_C/2   , 0             ],\n",
    "                  [            0, -C_C / 2      , 0             ,-C_C / 2       , 0             , C_F + C_C/2   ]])\n",
    "\n",
    "C_inv = np.linalg.inv(C_mat)\n",
    "np.round(C_inv,4)"
   ],
   "metadata": {
    "collapsed": false,
    "ExecuteTime": {
     "end_time": "2024-05-26T11:44:53.168699100Z",
     "start_time": "2024-05-26T11:44:53.151172900Z"
    }
   },
   "execution_count": 4,
   "outputs": []
  },
  {
   "cell_type": "code",
   "source": [
    "def hamiltonian_qubit_C_qubit_C_qubit(nmax_r, nmax_f, Cc, C = 15, CJ = 3, Csh= 15, Lq = 25, Lr = 10, Δ = 0.1):\n",
    "    \n",
    "    C_R = C/2\n",
    "    C_C = Cc\n",
    "    C_F = C/2 + Csh + CJ\n",
    "    C_mat = np.array([[C_R + C_C/2  , 0             , -C_C / 2      ,        0      ,-C_C / 2       , 0             ],\n",
    "                      [0            , C_F + C_C/2   ,       0       , -C_C / 2      , 0             , -C_C / 2      ],\n",
    "                      [-C_C / 2     ,        0      , C_R + C_C/2   , 0             ,-C_C / 2       , 0             ],\n",
    "                      [            0, -C_C / 2      , 0             , C_F + C_C/2   , 0             ,-C_C / 2       ],\n",
    "                      [-C_C / 2     , 0             ,-C_C / 2       , 0             , C_R + C_C/2   , 0             ],\n",
    "                      [            0, -C_C / 2      , 0             ,-C_C / 2       , 0             , C_F + C_C/2   ]])\n",
    "    \n",
    "    C_inv = np.linalg.inv(C_mat)\n",
    "    fF = 1e-15\n",
    "    \n",
    "    resonator = sq_ext.sq_resonator(C_R_eff=C_inv[0,0]**-1, Lq = Lq, Lr = Lr, Δ = Δ, trunc_res =nmax_r)\n",
    "    fluxonium = sq_ext.sq_fluxonium(C_F_eff=C_inv[1,1]**-1, Lq = Lq, Lr = Lr, Δ = Δ, trunc_flux=nmax_f)\n",
    "    \n",
    "    H_qubit = sq_ext.hamiltonian_qubit(fluxonium, resonator, Δ)\n",
    "    \n",
    "    I_r      = qt.identity(nmax_r)\n",
    "    I_f      = qt.identity(nmax_f)\n",
    "    I_qubit  = qt.identity(H_qubit .dims[0])\n",
    "    \n",
    "    q_r = qt.tensor(resonator.charge_op(0), I_f)\n",
    "    q_f = qt.tensor(I_r, fluxonium.charge_op(0))\n",
    "    \n",
    "    H_0 = qt.tensor(H_qubit, I_qubit, I_qubit) + qt.tensor(I_qubit, H_qubit, I_qubit) + qt.tensor(I_qubit, I_qubit, H_qubit)\n",
    "    \n",
    "    C_RR = C_inv[0,2]**-1 * fF \n",
    "    C_FF = C_inv[1,3]**-1 * fF \n",
    "    H_coupling =    qt.tensor(q_r, q_r, I_qubit) / C_RR + qt.tensor(q_f, q_f, I_qubit) / C_FF + \\\n",
    "                    qt.tensor(I_qubit, q_r, q_r) / C_RR + qt.tensor(I_qubit, q_f, q_f) / C_FF + \\\n",
    "                    qt.tensor(q_r, I_qubit, q_r) / C_RR + qt.tensor(q_f, I_qubit, q_f) / C_FF\n",
    "            \n",
    "    return H_0 + H_coupling"
   ],
   "metadata": {
    "collapsed": false,
    "ExecuteTime": {
     "end_time": "2024-02-09T09:01:22.554364300Z",
     "start_time": "2024-02-09T09:01:22.518012600Z"
    }
   },
   "execution_count": 6,
   "outputs": []
  },
  {
   "cell_type": "code",
   "source": [
    "qubit_qubit_qubit.set_trunc_nums([nmax_r, nmax_r, nmax_r, nmax_f, nmax_f, nmax_f])"
   ],
   "metadata": {
    "collapsed": false,
    "ExecuteTime": {
     "end_time": "2024-02-09T09:03:43.443110600Z",
     "start_time": "2024-02-09T09:02:44.224325800Z"
    }
   },
   "execution_count": 12,
   "outputs": []
  },
  {
   "cell_type": "code",
   "source": [
    "qubit_qubit_qubit.hamiltonian().shape"
   ],
   "metadata": {
    "collapsed": false,
    "ExecuteTime": {
     "end_time": "2024-02-09T09:07:34.246367800Z",
     "start_time": "2024-02-09T09:03:43.428940800Z"
    }
   },
   "execution_count": 13,
   "outputs": []
  },
  {
   "cell_type": "code",
   "source": [
    "H = hamiltonian_qubit_C_qubit_C_qubit(nmax_r, nmax_f, Cc)"
   ],
   "metadata": {
    "collapsed": false,
    "ExecuteTime": {
     "end_time": "2024-02-09T09:01:24.642470600Z",
     "start_time": "2024-02-09T09:01:24.546911200Z"
    }
   },
   "execution_count": 7,
   "outputs": []
  },
  {
   "cell_type": "code",
   "source": [
    "E = sq_ext.diag(H, n_eig=4, out='GHz')[0]"
   ],
   "metadata": {
    "collapsed": false,
    "ExecuteTime": {
     "end_time": "2024-02-09T09:02:02.159034900Z",
     "start_time": "2024-02-09T09:02:01.249750100Z"
    }
   },
   "execution_count": 9,
   "outputs": []
  },
  {
   "cell_type": "code",
   "source": [
    "E-E[0]"
   ],
   "metadata": {
    "collapsed": false,
    "ExecuteTime": {
     "end_time": "2024-02-09T09:02:06.100244800Z",
     "start_time": "2024-02-09T09:02:06.072756700Z"
    }
   },
   "execution_count": 10,
   "outputs": []
  },
  {
   "cell_type": "code",
   "source": [
    "E-E[0]"
   ],
   "metadata": {
    "collapsed": false
   },
   "execution_count": 93,
   "outputs": []
  },
  {
   "cell_type": "code",
   "source": [
    "qubit_qubit_qubit.efreqs-qubit_qubit_qubit.efreqs[0]"
   ],
   "metadata": {
    "collapsed": false,
    "ExecuteTime": {
     "end_time": "2024-02-08T10:20:42.981071800Z",
     "start_time": "2024-02-08T10:20:42.907084300Z"
    }
   },
   "execution_count": 109,
   "outputs": []
  },
  {
   "cell_type": "code",
   "source": [
    "qubit_qubit_qubit.efreqs-qubit_qubit_qubit.efreqs[0]"
   ],
   "metadata": {
    "collapsed": false
   },
   "execution_count": 94,
   "outputs": []
  },
  {
   "cell_type": "code",
   "source": [],
   "metadata": {
    "collapsed": false
   },
   "execution_count": null,
   "outputs": []
  }
 ],
 "metadata": {
  "kernelspec": {
   "display_name": "Python 3",
   "language": "python",
   "name": "python3"
  },
  "language_info": {
   "codemirror_mode": {
    "name": "ipython",
    "version": 2
   },
   "file_extension": ".py",
   "mimetype": "text/x-python",
   "name": "python",
   "nbconvert_exporter": "python",
   "pygments_lexer": "ipython2",
   "version": "2.7.6"
  }
 },
 "nbformat": 4,
 "nbformat_minor": 0
}
