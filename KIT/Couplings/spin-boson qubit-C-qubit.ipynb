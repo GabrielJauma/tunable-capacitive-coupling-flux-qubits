{
 "cells": [
  {
   "cell_type": "code",
   "outputs": [],
   "source": [
    "import Modules.SQcircuit_extensions as sq_ext\n",
    "import Modules.figures as figs\n",
    "import SQcircuit as sq\n",
    "import numpy as np\n",
    "import scipy as sp\n",
    "import matplotlib.pyplot as plt\n",
    "import importlib\n",
    "import numpy as np\n",
    "from scipy.linalg import eigh\n",
    "\n",
    "%matplotlib ipympl\n",
    "plt.rcParams['text.usetex'] = False\n",
    "importlib.reload(sq_ext)\n",
    "importlib.reload(sq)\n",
    "importlib.reload(figs)\n",
    "# np.set_printoptions(linewidth=200, formatter={'float': '{:.3e}'.format})\n",
    "np.set_printoptions(linewidth=200, formatter={'float': '{:.6f}'.format})"
   ],
   "metadata": {
    "collapsed": false,
    "ExecuteTime": {
     "end_time": "2024-02-07T14:55:12.490221300Z",
     "start_time": "2024-02-07T14:55:12.475106900Z"
    }
   },
   "id": "6b6e6312c5165dd2",
   "execution_count": 58
  },
  {
   "cell_type": "code",
   "outputs": [],
   "source": [
    "# Fundamental constants\n",
    "h    = 6.62607015e-34\n",
    "GHz  = 1e9\n",
    "fF = 1e-15\n",
    "nH = 1e-9\n",
    "e0   = 1.602176634e-19\n",
    "Φ_0 = h/(2*e0)"
   ],
   "metadata": {
    "collapsed": false,
    "ExecuteTime": {
     "end_time": "2024-02-07T14:55:12.646818900Z",
     "start_time": "2024-02-07T14:55:12.633860Z"
    }
   },
   "id": "8e717aea3c090340",
   "execution_count": 59
  },
  {
   "cell_type": "code",
   "outputs": [],
   "source": [
    "# Circuit parameters\n",
    "Csh = 15\n",
    "C   = 15\n",
    "Cg  = 10\n",
    "CJ  = 3\n",
    "Lq  = 25\n",
    "Lr  = 10\n",
    "Δ   = 0.1\n",
    "EJ  = 10.0\n",
    "l = Lq*(Lq+4*Lr) - 4*Δ**2"
   ],
   "metadata": {
    "collapsed": false,
    "ExecuteTime": {
     "end_time": "2024-02-07T14:55:12.788749700Z",
     "start_time": "2024-02-07T14:55:12.772399600Z"
    }
   },
   "id": "8c788059812d14ed",
   "execution_count": 60
  },
  {
   "cell_type": "code",
   "outputs": [],
   "source": [
    "Cf = C/2 + Csh + CJ\n",
    "Lf = l/(Lq+4*Lr)\n",
    "C_f = Cf * 1e-15\n",
    "L_f = Lf * 1e-9\n",
    "Z_f = np.sqrt(L_f/C_f)\n",
    "\n",
    "L_r = l/Lq * 1e-9\n",
    "C_r = C/2 * 1e-15\n",
    "Z_r = np.sqrt(L_r/C_r)"
   ],
   "metadata": {
    "collapsed": false,
    "ExecuteTime": {
     "end_time": "2024-02-07T14:55:12.997933800Z",
     "start_time": "2024-02-07T14:55:12.979743400Z"
    }
   },
   "id": "2137edf0f20e1315",
   "execution_count": 61
  },
  {
   "cell_type": "code",
   "outputs": [],
   "source": [
    "nmax_r = 15\n",
    "nmax_f = 15\n",
    "Cc=10"
   ],
   "metadata": {
    "collapsed": false,
    "ExecuteTime": {
     "end_time": "2024-02-07T15:16:15.175366600Z",
     "start_time": "2024-02-07T15:16:15.168965200Z"
    }
   },
   "id": "ea65460d526ddf77",
   "execution_count": 145
  },
  {
   "cell_type": "code",
   "outputs": [],
   "source": [
    "C_R = C/2\n",
    "C_C = Cc\n",
    "C_F = C/2 + Csh + CJ\n",
    "C_mat = np.array([[C_R + C_C/2, 0, -C_C / 2,        0],\n",
    "                  [0, C_F + C_C/2,       0 , -C_C / 2],\n",
    "                  [-C_C / 2,        0, C_R + C_C/2, 0],\n",
    "                  [       0, -C_C / 2, 0, C_F + C_C/2]])\n",
    "\n",
    "C_inv = np.linalg.inv(C_mat)\n",
    "fF = 1e-15\n",
    "\n",
    "resonator = sq_ext.sq_resonator(C_R_eff=C_inv[0,0]**-1, Lq = Lq, Lr = Lr, Δ = Δ, trunc_res =nmax_r)\n",
    "fluxonium = sq_ext.sq_fluxonium(C_F_eff=C_inv[1,1]**-1, Lq = Lq, Lr = Lr, Δ = Δ, trunc_flux=nmax_f)"
   ],
   "metadata": {
    "collapsed": false,
    "ExecuteTime": {
     "end_time": "2024-02-07T15:16:15.323277600Z",
     "start_time": "2024-02-07T15:16:15.310124800Z"
    }
   },
   "id": "792fb18ee9ebaaf7",
   "execution_count": 146
  },
  {
   "cell_type": "code",
   "outputs": [],
   "source": [
    "fluxonium.diag(2)\n",
    "resonator.diag(2);"
   ],
   "metadata": {
    "collapsed": false,
    "ExecuteTime": {
     "end_time": "2024-02-07T15:16:15.451604800Z",
     "start_time": "2024-02-07T15:16:15.429425200Z"
    }
   },
   "id": "f1eb735fede04523",
   "execution_count": 147
  },
  {
   "cell_type": "code",
   "execution_count": 148,
   "id": "1c0d4eec2a420adb",
   "metadata": {
    "collapsed": false,
    "ExecuteTime": {
     "end_time": "2024-02-07T15:16:15.578424500Z",
     "start_time": "2024-02-07T15:16:15.563251200Z"
    }
   },
   "outputs": [],
   "source": [
    "# Parameters\n",
    "ω_f = fluxonium.efreqs[1]-fluxonium.efreqs[0]  # Fluxonium frequency\n",
    "ω_r = resonator.efreqs[1]-resonator.efreqs[0]  # Resonator frequency\n",
    "\n",
    "Φ_f = fluxonium.flux_op(0)[0,1]\n",
    "Φ_r = resonator.flux_op(0)[0,1]\n",
    "g_Φ = 2 * Δ / (l * nH) * Φ_f * Φ_r / 2 / np.pi / GHz\n",
    "\n",
    "# Pauli matrices for the fluxonium\n",
    "sigma_x = np.array([[0, 1], [1, 0]])\n",
    "sigma_y = np.array([[0,-1], [1, 0]]) * 1j\n",
    "sigma_z = np.array([[1, 0], [0,-1]])\n",
    "\n",
    "sigma_p = np.array([[0, 1], [0, 0]])\n",
    "sigma_m = np.array([[0, 0], [1, 0]])\n",
    "\n",
    "# Resonator operators\n",
    "def create(n):\n",
    "    return np.diag(np.sqrt(np.arange(1, n)), -1)\n",
    "\n",
    "def annihilate(n):\n",
    "    return np.diag(np.sqrt(np.arange(1, n)), 1)\n",
    "\n",
    "# Number of states for the resonator (0, 1, 2)\n",
    "n = 1\n",
    "\n",
    "# Creation and annihilation operators for the resonator\n",
    "a = create(n)\n",
    "a_dagger = annihilate(n)\n",
    "\n",
    "# Identity matrices\n",
    "I_resonator = np.eye(n)\n",
    "I_fluxonium = np.eye(2)\n",
    "\n",
    "# Isolated Hamiltonians\n",
    "H_fluxonium = ω_f / 2 * sigma_z\n",
    "H_resonator = ω_r * np.dot(a_dagger, a)\n",
    "\n",
    "# Construct the system Hamiltonian with tensor products\n",
    "H_system = np.kron(H_resonator, I_fluxonium) + np.kron(I_resonator, H_fluxonium)\n",
    "H_interaction = g_Φ * np.kron(a + a_dagger, sigma_x)\n",
    "\n",
    "# Circuit Hamiltonian\n",
    "H_circuit = H_system + H_interaction\n",
    "\n",
    "I_circuit = np.eye(len(H_circuit))\n",
    "a_sys = np.kron(a, I_fluxonium)\n",
    "a_dagger_sys = np.kron(a_dagger, I_fluxonium)\n",
    "sigma_y_sys = np.kron(I_resonator, sigma_y)\n",
    "\n",
    "# Coupling Hamiltonian\n",
    "Q_f = fluxonium.charge_op(0)[0,1]\n",
    "Q_r = resonator.charge_op(0)[0,1]\n",
    "C_rr = C_inv[0,2]**-1\n",
    "C_ff= C_inv[1,3]**-1\n",
    "H_coupling = Q_r**2/(C_rr*fF) * np.kron(a_dagger_sys-a_sys, a_dagger_sys-a_sys) + Q_f**2/(C_ff*fF) * np.kron(sigma_y_sys, sigma_y_sys)\n",
    "# C_R = C/2\n",
    "# C_C = Cc\n",
    "# C_F = C/2 + Csh + CJ\n",
    "# H_coupling = C_C/2/(C_R*(C_C+C_R))/fF  * Q_r**2 * np.kron(a_dagger_sys-a_sys, a_dagger_sys-a_sys) + C_C/2/(C_F*(C_C+C_F))/fF * Q_f**2 * np.kron(sigma_y_sys, sigma_y_sys)\n",
    "H_coupling /= 2 * np.pi * GHz\n",
    "\n",
    "H_total = np.kron(H_circuit,I_circuit) + np.kron(I_circuit, H_circuit) + H_coupling"
   ]
  },
  {
   "cell_type": "code",
   "outputs": [
    {
     "data": {
      "text/plain": "array([0.000000, 1.257820, 2.215656, 3.473477])"
     },
     "execution_count": 149,
     "metadata": {},
     "output_type": "execute_result"
    }
   ],
   "source": [
    "# Find the eigenvalues (energy levels)\n",
    "energies = eigh(H_total, eigvals_only=True)\n",
    "\n",
    "energies-energies[0]"
   ],
   "metadata": {
    "collapsed": true,
    "ExecuteTime": {
     "end_time": "2024-02-07T15:16:16.120688800Z",
     "start_time": "2024-02-07T15:16:16.099169800Z"
    }
   },
   "id": "initial_id",
   "execution_count": 149
  },
  {
   "cell_type": "code",
   "outputs": [
    {
     "ename": "NameError",
     "evalue": "name 'eigh' is not defined",
     "output_type": "error",
     "traceback": [
      "\u001B[1;31m---------------------------------------------------------------------------\u001B[0m",
      "\u001B[1;31mNameError\u001B[0m                                 Traceback (most recent call last)",
      "Cell \u001B[1;32mIn[5], line 2\u001B[0m\n\u001B[0;32m      1\u001B[0m \u001B[38;5;66;03m# Find the eigenvalues (energy levels)\u001B[39;00m\n\u001B[1;32m----> 2\u001B[0m energies \u001B[38;5;241m=\u001B[39m \u001B[43meigh\u001B[49m(H_total, eigvals_only\u001B[38;5;241m=\u001B[39m\u001B[38;5;28;01mTrue\u001B[39;00m)\n\u001B[0;32m      4\u001B[0m energies\u001B[38;5;241m-\u001B[39menergies[\u001B[38;5;241m0\u001B[39m]\n",
      "\u001B[1;31mNameError\u001B[0m: name 'eigh' is not defined"
     ]
    }
   ],
   "source": [
    "# Find the eigenvalues (energy levels)\n",
    "energies = eigh(H_total, eigvals_only=True)\n",
    "\n",
    "energies-energies[0]"
   ],
   "metadata": {
    "collapsed": false,
    "ExecuteTime": {
     "end_time": "2024-02-07T13:02:46.886024200Z",
     "start_time": "2024-02-07T13:02:46.861184400Z"
    }
   },
   "id": "683c44db6f95556",
   "execution_count": 5
  },
  {
   "cell_type": "code",
   "outputs": [
    {
     "data": {
      "text/plain": "array([0.000000, 1.945361, 6.161082, 7.208451, 9.153874, 10.792941, 13.369603, 14.416902])"
     },
     "execution_count": 47,
     "metadata": {},
     "output_type": "execute_result"
    }
   ],
   "source": [
    "qubit.diag(8)\n",
    "qubit.efreqs-qubit.efreqs[0]"
   ],
   "metadata": {
    "collapsed": false,
    "ExecuteTime": {
     "end_time": "2024-02-02T10:00:06.485075900Z",
     "start_time": "2024-02-02T10:00:06.435543300Z"
    }
   },
   "id": "fb0ef7531ce0adf8",
   "execution_count": 47
  },
  {
   "cell_type": "code",
   "outputs": [],
   "source": [],
   "metadata": {
    "collapsed": false,
    "ExecuteTime": {
     "end_time": "2024-02-02T09:59:49.350543500Z",
     "start_time": "2024-02-02T09:59:49.334232200Z"
    }
   },
   "id": "1a26f60aa76f184f",
   "execution_count": 45
  },
  {
   "cell_type": "code",
   "outputs": [],
   "source": [],
   "metadata": {
    "collapsed": false
   },
   "id": "7f5d9f90738e6adb"
  }
 ],
 "metadata": {
  "kernelspec": {
   "display_name": "Python 3",
   "language": "python",
   "name": "python3"
  },
  "language_info": {
   "codemirror_mode": {
    "name": "ipython",
    "version": 2
   },
   "file_extension": ".py",
   "mimetype": "text/x-python",
   "name": "python",
   "nbconvert_exporter": "python",
   "pygments_lexer": "ipython2",
   "version": "2.7.6"
  }
 },
 "nbformat": 4,
 "nbformat_minor": 5
}
