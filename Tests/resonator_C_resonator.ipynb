{
 "cells": [
  {
   "cell_type": "code",
   "execution_count": 135,
   "id": "6d04c102b4d54971",
   "metadata": {
    "collapsed": false,
    "ExecuteTime": {
     "end_time": "2024-01-18T12:51:39.355190900Z",
     "start_time": "2024-01-18T12:51:39.333360100Z"
    }
   },
   "outputs": [
    {
     "data": {
      "text/plain": "<Figure size 640x480 with 0 Axes>"
     },
     "metadata": {},
     "output_type": "display_data"
    }
   ],
   "source": [
    "import Modules.SQcircuit_extensions as sq_ext\n",
    "import Modules.figures as figs\n",
    "import SQcircuit as sq\n",
    "import numpy as np\n",
    "import matplotlib.pyplot as plt\n",
    "import importlib\n",
    "import qutip as qt\n",
    "\n",
    "plt.rcParams['text.usetex'] = False\n",
    "importlib.reload(sq_ext)\n",
    "importlib.reload(sq)\n",
    "importlib.reload(figs)\n",
    "np.set_printoptions(linewidth=200, formatter={'float': '{:.12f}'.format})"
   ]
  },
  {
   "cell_type": "code",
   "outputs": [],
   "source": [
    "fF = 1e-15\n",
    "nH = 1e-9"
   ],
   "metadata": {
    "collapsed": false,
    "ExecuteTime": {
     "end_time": "2024-01-18T12:51:40.055601100Z",
     "start_time": "2024-01-18T12:51:40.048022Z"
    }
   },
   "id": "49a6981b66be1cd4",
   "execution_count": 136
  },
  {
   "cell_type": "code",
   "outputs": [],
   "source": [
    "\n",
    "def resonator_C_resonator(Cc):\n",
    "    # if Cc == 0:\n",
    "    #     C = sq.Capacitor(1, 'fF')\n",
    "    #     L = sq.Inductor(1,  'nH')\n",
    "    #     elements = {(0, 1): [L, C],\n",
    "    #                 (0, 2): [L, C], }\n",
    "    #     return sq.Circuit(elements)\n",
    "    # \n",
    "    # else:\n",
    "    Cc = sq.Capacitor(Cc, 'fF')\n",
    "    C = sq.Capacitor(1,   'fF')\n",
    "    L = sq.Inductor(1,    'nH')\n",
    "    elements = {(0, 1): [L, C],\n",
    "                (0, 2): [L, C],\n",
    "                (1, 2): [Cc], }\n",
    "    return sq.Circuit(elements)\n",
    "\n",
    "\n",
    "def resonator(Cc):\n",
    "    if Cc == 0:\n",
    "        C = sq.Capacitor(1, 'fF')\n",
    "        L = sq.Inductor(1,  'nH')\n",
    "        elements = {(0, 1): [L, C], }\n",
    "        return sq.Circuit(elements)\n",
    "\n",
    "    else:\n",
    "        C = sq.Capacitor(1/(1+1/Cc), 'fF')\n",
    "        L = sq.Inductor (1, 'nH')\n",
    "        elements = {(0, 1): [L, C], }\n",
    "        return sq.Circuit(elements)\n",
    "    # \n",
    "    # Cc = sq.Capacitor(Cc, 'fF')\n",
    "    # C = sq.Capacitor(1, 'fF')\n",
    "    # L = sq.Inductor(1,  'nH')\n",
    "    # elements = {(0, 1): [L, C, Cc], }\n",
    "    return sq.Circuit(elements)\n",
    "    "
   ],
   "metadata": {
    "collapsed": false,
    "ExecuteTime": {
     "end_time": "2024-01-18T14:49:06.384502300Z",
     "start_time": "2024-01-18T14:49:06.369717800Z"
    }
   },
   "id": "d2650785fb7b3ad1",
   "execution_count": 342
  },
  {
   "cell_type": "code",
   "outputs": [],
   "source": [
    "n_eig = 6\n",
    "trunc_num = 40\n",
    "Cc = 1"
   ],
   "metadata": {
    "collapsed": false,
    "ExecuteTime": {
     "end_time": "2024-01-18T14:49:06.917171Z",
     "start_time": "2024-01-18T14:49:06.912391700Z"
    }
   },
   "id": "78a7539935b6c8d3",
   "execution_count": 343
  },
  {
   "cell_type": "code",
   "outputs": [],
   "source": [
    "coupled_res = resonator_C_resonator(Cc=Cc)\n",
    "res = resonator(Cc=Cc)\n",
    "\n",
    "uncoupled_res = resonator_C_resonator(Cc=0)\n",
    "res_0 = resonator(Cc=0)\n",
    "\n",
    "coupled_res.set_trunc_nums([trunc_num, trunc_num])\n",
    "uncoupled_res.set_trunc_nums([trunc_num, trunc_num])\n",
    "res.set_trunc_nums([trunc_num])\n",
    "res_0.set_trunc_nums([trunc_num])\n",
    "\n",
    "_ = coupled_res.diag(n_eig)\n",
    "_ = uncoupled_res.diag(n_eig)\n",
    "_ = res.diag(n_eig)\n",
    "_ = res_0.diag(n_eig)"
   ],
   "metadata": {
    "collapsed": false,
    "ExecuteTime": {
     "end_time": "2024-01-18T14:49:07.427151900Z",
     "start_time": "2024-01-18T14:49:07.217236100Z"
    }
   },
   "id": "e993640ba828689b",
   "execution_count": 344
  },
  {
   "cell_type": "code",
   "outputs": [
    {
     "data": {
      "text/plain": "<IPython.core.display.Latex object>",
      "text/latex": "$\\hat{H} =~\\omega_1\\hat a^\\dagger_1\\hat a_1~+~\\omega_2\\hat a^\\dagger_2\\hat a_2~$"
     },
     "metadata": {},
     "output_type": "display_data"
    },
    {
     "data": {
      "text/plain": "<IPython.core.display.Latex object>",
      "text/latex": "$------------------------------------------------------------$"
     },
     "metadata": {},
     "output_type": "display_data"
    },
    {
     "data": {
      "text/plain": "<IPython.core.display.Latex object>",
      "text/latex": "$\\text{mode}~1:~~~~~~~~~~~\\text{harmonic}~~~~~~~~~~~\\hat{\\varphi}_1~=~\\varphi_{zp_{1}}(\\hat a_1+\\hat a^\\dagger_1)~~~~~~~~~~~\\omega_1/2\\pi~=~159.15494~~~~~~~~~~~\\varphi_{zp_{1}}~=~4.93e-01$"
     },
     "metadata": {},
     "output_type": "display_data"
    },
    {
     "data": {
      "text/plain": "<IPython.core.display.Latex object>",
      "text/latex": "$\\text{mode}~2:~~~~~~~~~~~\\text{harmonic}~~~~~~~~~~~\\hat{\\varphi}_2~=~\\varphi_{zp_{2}}(\\hat a_2+\\hat a^\\dagger_2)~~~~~~~~~~~\\omega_2/2\\pi~=~91.88815~~~~~~~~~~~\\varphi_{zp_{2}}~=~3.75e-01$"
     },
     "metadata": {},
     "output_type": "display_data"
    },
    {
     "data": {
      "text/plain": "<IPython.core.display.Latex object>",
      "text/latex": "$------------------------------------------------------------$"
     },
     "metadata": {},
     "output_type": "display_data"
    },
    {
     "data": {
      "text/plain": "<IPython.core.display.Latex object>",
      "text/latex": "$\\text{parameters}:~~~~~~~~~~~$"
     },
     "metadata": {},
     "output_type": "display_data"
    },
    {
     "data": {
      "text/plain": "<IPython.core.display.Latex object>",
      "text/latex": "$\\text{loops}:~~~~~~~~~~~~~~~~~~~~$"
     },
     "metadata": {},
     "output_type": "display_data"
    }
   ],
   "source": [
    "coupled_res.description()"
   ],
   "metadata": {
    "collapsed": false,
    "ExecuteTime": {
     "end_time": "2024-01-18T14:49:07.824699800Z",
     "start_time": "2024-01-18T14:49:07.793417600Z"
    }
   },
   "id": "4ba7de61390cbe37",
   "execution_count": 345
  },
  {
   "cell_type": "code",
   "outputs": [
    {
     "data": {
      "text/plain": "<IPython.core.display.Latex object>",
      "text/latex": "$\\hat{H} =~\\omega_1\\hat a^\\dagger_1\\hat a_1~+~\\omega_2\\hat a^\\dagger_2\\hat a_2~$"
     },
     "metadata": {},
     "output_type": "display_data"
    },
    {
     "data": {
      "text/plain": "<IPython.core.display.Latex object>",
      "text/latex": "$------------------------------------------------------------$"
     },
     "metadata": {},
     "output_type": "display_data"
    },
    {
     "data": {
      "text/plain": "<IPython.core.display.Latex object>",
      "text/latex": "$\\text{mode}~1:~~~~~~~~~~~\\text{harmonic}~~~~~~~~~~~\\hat{\\varphi}_1~=~\\varphi_{zp_{1}}(\\hat a_1+\\hat a^\\dagger_1)~~~~~~~~~~~\\omega_1/2\\pi~=~159.15494~~~~~~~~~~~\\varphi_{zp_{1}}~=~6.98e-01$"
     },
     "metadata": {},
     "output_type": "display_data"
    },
    {
     "data": {
      "text/plain": "<IPython.core.display.Latex object>",
      "text/latex": "$\\text{mode}~2:~~~~~~~~~~~\\text{harmonic}~~~~~~~~~~~\\hat{\\varphi}_2~=~\\varphi_{zp_{2}}(\\hat a_2+\\hat a^\\dagger_2)~~~~~~~~~~~\\omega_2/2\\pi~=~159.15494~~~~~~~~~~~\\varphi_{zp_{2}}~=~6.98e-01$"
     },
     "metadata": {},
     "output_type": "display_data"
    },
    {
     "data": {
      "text/plain": "<IPython.core.display.Latex object>",
      "text/latex": "$------------------------------------------------------------$"
     },
     "metadata": {},
     "output_type": "display_data"
    },
    {
     "data": {
      "text/plain": "<IPython.core.display.Latex object>",
      "text/latex": "$\\text{parameters}:~~~~~~~~~~~$"
     },
     "metadata": {},
     "output_type": "display_data"
    },
    {
     "data": {
      "text/plain": "<IPython.core.display.Latex object>",
      "text/latex": "$\\text{loops}:~~~~~~~~~~~~~~~~~~~~$"
     },
     "metadata": {},
     "output_type": "display_data"
    }
   ],
   "source": [
    "uncoupled_res.description()"
   ],
   "metadata": {
    "collapsed": false,
    "ExecuteTime": {
     "end_time": "2024-01-18T14:49:08.223517200Z",
     "start_time": "2024-01-18T14:49:08.197503100Z"
    }
   },
   "id": "e1c9c8c7c5ff06dd",
   "execution_count": 346
  },
  {
   "cell_type": "code",
   "outputs": [],
   "source": [
    "Q_0 = res_0._charge_op_isolated(0)\n",
    "Φ_0 = res_0._flux_op_isolated(0)\n",
    "\n",
    "Q = res._charge_op_isolated(0)\n",
    "Φ = res._flux_op_isolated(0)"
   ],
   "metadata": {
    "collapsed": false,
    "ExecuteTime": {
     "end_time": "2024-01-18T14:49:09.029261800Z",
     "start_time": "2024-01-18T14:49:09.016470500Z"
    }
   },
   "id": "81ac023d1f9f38df",
   "execution_count": 347
  },
  {
   "cell_type": "code",
   "outputs": [],
   "source": [
    "H_res_0 = 1 / 2 * (1/fF)               * Q_0 ** 2  + 1 / 2 * (1/nH) * Φ_0 ** 2\n",
    "H_res   = 1 / 2 * (1/fF) * (1 + 1/Cc)  * Q ** 2    + 1 / 2 * (1/nH) * Φ   ** 2# \n",
    "# H_res_0 = res_0.hamiltonian()\n",
    "# H_res   = res.hamiltonian()\n",
    "\n",
    "I = qt.identity(H_res.shape[0])\n",
    "\n",
    "H_unc_res = qt.tensor(H_res_0, I) + qt.tensor(I, H_res_0)\n",
    "\n",
    "H_coup_res = qt.tensor(H_res, I) + qt.tensor(I, H_res) - (1 / (Cc*fF)) * qt.tensor(Q, Q)"
   ],
   "metadata": {
    "collapsed": true,
    "ExecuteTime": {
     "end_time": "2024-01-18T14:49:09.378323600Z",
     "start_time": "2024-01-18T14:49:09.365802300Z"
    }
   },
   "id": "initial_id",
   "execution_count": 348
  },
  {
   "cell_type": "code",
   "outputs": [
    {
     "data": {
      "text/plain": "array([0.000000000000, 225.079079039277, 450.158158078555, 675.237237117834, 900.316316157112, 1125.395395196392])"
     },
     "execution_count": 349,
     "metadata": {},
     "output_type": "execute_result"
    }
   ],
   "source": [
    "E_0 = sq_ext.diag(H_res, n_eig=n_eig, out='GHz')[0]\n",
    "E_0 - E_0[0]"
   ],
   "metadata": {
    "collapsed": false,
    "ExecuteTime": {
     "end_time": "2024-01-18T14:49:10.105554400Z",
     "start_time": "2024-01-18T14:49:10.081053500Z"
    }
   },
   "id": "73c210af0b2e37f8",
   "execution_count": 349
  },
  {
   "cell_type": "code",
   "outputs": [
    {
     "data": {
      "text/plain": "array([-0.000000000001, 225.079079039051, 450.158158078104, 675.237237117157, 900.316316156212, 1125.395395195260])"
     },
     "execution_count": 350,
     "metadata": {},
     "output_type": "execute_result"
    }
   ],
   "source": [
    "res.diag(n_eig)[0]"
   ],
   "metadata": {
    "collapsed": false,
    "ExecuteTime": {
     "end_time": "2024-01-18T14:49:10.463881Z",
     "start_time": "2024-01-18T14:49:10.439057200Z"
    }
   },
   "id": "17872dd907deee44",
   "execution_count": 350
  },
  {
   "cell_type": "code",
   "outputs": [
    {
     "data": {
      "text/plain": "array([0.000000000000, 159.154943091820, 159.154943091820, 318.309886183633, 318.309886183638, 318.309886183639])"
     },
     "execution_count": 336,
     "metadata": {},
     "output_type": "execute_result"
    }
   ],
   "source": [
    "E_0 = sq_ext.diag(H_unc_res,n_eig=n_eig, out='GHz')[0]\n",
    "E_0 - E_0[0]"
   ],
   "metadata": {
    "collapsed": false,
    "ExecuteTime": {
     "end_time": "2024-01-18T14:45:26.032878600Z",
     "start_time": "2024-01-18T14:45:25.927788700Z"
    }
   },
   "id": "52118bca38bd7f50",
   "execution_count": 336
  },
  {
   "cell_type": "code",
   "outputs": [
    {
     "data": {
      "text/plain": "array([0.000000000001, 91.888149236954, 159.154943091817, 183.776298473902, 251.043092328770, 275.664447710857])"
     },
     "execution_count": 333,
     "metadata": {},
     "output_type": "execute_result"
    }
   ],
   "source": [
    "coupled_res.efreqs"
   ],
   "metadata": {
    "collapsed": false,
    "ExecuteTime": {
     "end_time": "2024-01-18T14:45:16.110221600Z",
     "start_time": "2024-01-18T14:45:16.088980400Z"
    }
   },
   "id": "d6c27e0f1595ca77",
   "execution_count": 333
  },
  {
   "cell_type": "code",
   "outputs": [
    {
     "data": {
      "text/plain": "array([0.000000000000, 159.154943091821, 159.154943091822, 318.309886183632, 318.309886183640, 318.309886183641])"
     },
     "execution_count": 334,
     "metadata": {},
     "output_type": "execute_result"
    }
   ],
   "source": [
    "uncoupled_res.efreqs"
   ],
   "metadata": {
    "collapsed": false,
    "ExecuteTime": {
     "end_time": "2024-01-18T14:45:21.461337700Z",
     "start_time": "2024-01-18T14:45:21.445963400Z"
    }
   },
   "id": "9c85519cbdadb18f",
   "execution_count": 334
  },
  {
   "cell_type": "code",
   "outputs": [
    {
     "data": {
      "text/plain": "array([0.000000000000, 0.000000053740, 5.074360504248, 4.394525167449, 3.271387114762, 2.979198602954])"
     },
     "execution_count": 335,
     "metadata": {},
     "output_type": "execute_result"
    }
   ],
   "source": [
    "(E_0 - E_0[0]) / coupled_res.efreqs\n"
   ],
   "metadata": {
    "collapsed": false,
    "ExecuteTime": {
     "end_time": "2024-01-18T14:45:21.579299600Z",
     "start_time": "2024-01-18T14:45:21.567879600Z"
    }
   },
   "id": "d4ccdd1384a0d75e",
   "execution_count": 335
  },
  {
   "cell_type": "code",
   "outputs": [
    {
     "data": {
      "text/plain": "array([0.000000000000, 91.888149236969, 159.154943091898, 183.776298473935, 251.043092328866, 275.664447710905])"
     },
     "execution_count": 198,
     "metadata": {},
     "output_type": "execute_result"
    }
   ],
   "source": [
    "(E_0 - E_0[0]) / np.sqrt(3)\n"
   ],
   "metadata": {
    "collapsed": false,
    "ExecuteTime": {
     "end_time": "2024-01-18T12:58:23.864821300Z",
     "start_time": "2024-01-18T12:58:23.844648300Z"
    }
   },
   "id": "67df1fd334aedc44",
   "execution_count": 198
  },
  {
   "cell_type": "code",
   "outputs": [],
   "source": [],
   "metadata": {
    "collapsed": false
   },
   "id": "129d7b6cc335df39"
  }
 ],
 "metadata": {
  "kernelspec": {
   "display_name": "Python 3",
   "language": "python",
   "name": "python3"
  },
  "language_info": {
   "codemirror_mode": {
    "name": "ipython",
    "version": 2
   },
   "file_extension": ".py",
   "mimetype": "text/x-python",
   "name": "python",
   "nbconvert_exporter": "python",
   "pygments_lexer": "ipython2",
   "version": "2.7.6"
  }
 },
 "nbformat": 4,
 "nbformat_minor": 5
}
