{
 "cells": [
  {
   "cell_type": "code",
   "outputs": [],
   "source": [
    "import numpy as np\n",
    "from seemps.hamiltonians import ConstantNNHamiltonian\n",
    "from seemps.optimization import dmrg\n",
    "from seemps.state import MPS, product_state\n",
    "from seemps.tools import σx, σy, σz\n",
    "\n",
    "σp = 0.5 * (σx + 1j*σy)\n",
    "σm = 0.5 * (σx - 1j*σy)\n"
   ],
   "metadata": {
    "collapsed": false,
    "ExecuteTime": {
     "end_time": "2025-05-07T14:09:17.742200Z",
     "start_time": "2025-05-07T14:09:17.725512Z"
    }
   },
   "id": "5564ea59d2795882",
   "execution_count": 30
  },
  {
   "cell_type": "code",
   "outputs": [],
   "source": [
    "L = 10  # Number of unit cells\n",
    "N_sites = 2 * L\n",
    "\n",
    "# Parameters (example)\n",
    "omega_c = 4.0\n",
    "omega_q = 1.0\n",
    "g_Φ = 0.5\n",
    "g_c = 1.0\n",
    "g_q = 1.0\n",
    "g_qc = np.sqrt(g_q * g_c)\n"
   ],
   "metadata": {
    "collapsed": false,
    "ExecuteTime": {
     "end_time": "2025-05-07T13:56:31.582082Z",
     "start_time": "2025-05-07T13:56:31.577204Z"
    }
   },
   "id": "15d1046fce9e0a85",
   "execution_count": 23
  },
  {
   "cell_type": "code",
   "outputs": [],
   "source": [
    "H = ConstantNNHamiltonian(size=N_sites, dimension=2)\n"
   ],
   "metadata": {
    "collapsed": false,
    "ExecuteTime": {
     "end_time": "2025-05-07T13:56:32.096722Z",
     "start_time": "2025-05-07T13:56:32.092723Z"
    }
   },
   "id": "d79e3d7036bf0973",
   "execution_count": 24
  },
  {
   "cell_type": "code",
   "outputs": [],
   "source": [
    "for n in range(L):\n",
    "    ia = 2*n   # resonator\n",
    "    ib = 2*n+1 # qubit\n",
    "\n",
    "    H.add_local_term(ia, (omega_c/2)*σz)\n",
    "    H.add_local_term(ib, (omega_q/2)*σz)\n",
    "\n",
    "    # Rung coupling g_Φ\n",
    "    H.add_interaction_term(ia, g_Φ * σp, σm)  # resonator to qubit rung coupling\n",
    "    H.add_interaction_term(ia, g_Φ * σm, σp)  # Hermitian conjugate\n"
   ],
   "metadata": {
    "collapsed": false,
    "ExecuteTime": {
     "end_time": "2025-05-07T13:56:32.914925Z",
     "start_time": "2025-05-07T13:56:32.896903Z"
    }
   },
   "id": "ee8cf291f9fd0abe",
   "execution_count": 25
  },
  {
   "cell_type": "code",
   "outputs": [],
   "source": [
    "for n in range(L-1):\n",
    "    ia, ib = 2*n, 2*n+1\n",
    "    ia_next, ib_next = ia+2, ib+2  # next unit cell\n",
    "\n",
    "    # resonator-resonator hopping (g_c)\n",
    "    H.add_interaction_term(ia, g_c * σp, σm)\n",
    "    H.add_interaction_term(ia, g_c * σm, σp)\n",
    "\n",
    "    # qubit-qubit hopping (-g_q)\n",
    "    H.add_interaction_term(ib, -g_q * σp, σm)\n",
    "    H.add_interaction_term(ib, -g_q * σm, σp)\n",
    "\n",
    "    # cross-coupling resonator-qubit (sqrt(g_q*g_c))\n",
    "    H.add_interaction_term(ia, g_qc * σp, σm)  # a_n → b_{n+1}\n",
    "    H.add_interaction_term(ia, g_qc * σm, σp)  \n",
    "\n",
    "    H.add_interaction_term(ib, -g_qc * σp, σm) # b_n → a_{n+1}\n",
    "    H.add_interaction_term(ib, -g_qc * σm, σp)\n"
   ],
   "metadata": {
    "collapsed": false,
    "ExecuteTime": {
     "end_time": "2025-05-07T13:56:33.402798Z",
     "start_time": "2025-05-07T13:56:33.381651Z"
    }
   },
   "id": "eba4ca366b9acc40",
   "execution_count": 26
  },
  {
   "cell_type": "code",
   "outputs": [
    {
     "name": "stdout",
     "output_type": "stream",
     "text": [
      "(1048576, 1048576)\n"
     ]
    }
   ],
   "source": [
    "H_matrix = H.to_matrix()\n",
    "print(H_matrix.shape)\n"
   ],
   "metadata": {
    "collapsed": false,
    "ExecuteTime": {
     "end_time": "2025-05-07T13:56:36.230191Z",
     "start_time": "2025-05-07T13:56:33.973507Z"
    }
   },
   "id": "fe89678f315322ec",
   "execution_count": 27
  },
  {
   "cell_type": "code",
   "outputs": [
    {
     "name": "stdout",
     "output_type": "stream",
     "text": [
      "<seemps.operators.mpo.MPO object at 0x000001F157465C90>\n"
     ]
    }
   ],
   "source": [
    "H_mpo = H.to_mpo()\n",
    "print(H_mpo)\n"
   ],
   "metadata": {
    "collapsed": false,
    "ExecuteTime": {
     "end_time": "2025-05-07T13:56:37.407027Z",
     "start_time": "2025-05-07T13:56:37.401967Z"
    }
   },
   "id": "21bd6f0a37700256",
   "execution_count": 28
  },
  {
   "cell_type": "code",
   "outputs": [
    {
     "name": "stdout",
     "output_type": "stream",
     "text": [
      "DMRG energy = -34.15725125878252\n"
     ]
    }
   ],
   "source": [
    "result = dmrg(H, guess=product_state(np.ones(2) / np.sqrt(2), N_sites))\n",
    "print(f\"DMRG energy = {result.energy}\")\n"
   ],
   "metadata": {
    "collapsed": false,
    "ExecuteTime": {
     "end_time": "2025-05-07T13:56:46.714958Z",
     "start_time": "2025-05-07T13:56:38.188212Z"
    }
   },
   "id": "fa344d5bc15bc859",
   "execution_count": 29
  },
  {
   "cell_type": "code",
   "outputs": [],
   "source": [
    "from seemps.operators import MPO\n",
    "\n",
    "# build the N‐site identity MPO\n",
    "d = 2\n",
    "identity_tensors = [ np.eye(d).reshape(1, d, d, 1)\n",
    "                     for _ in range(N_sites) ]\n",
    "identity_mpo = MPO(identity_tensors)\n"
   ],
   "metadata": {
    "collapsed": false,
    "ExecuteTime": {
     "end_time": "2025-05-07T14:16:08.064207Z",
     "start_time": "2025-05-07T14:16:08.059343Z"
    }
   },
   "id": "e8e967e4e32df33e",
   "execution_count": 34
  },
  {
   "cell_type": "code",
   "outputs": [],
   "source": [
    "\n",
    "# Shift your Hamiltonian explicitly\n",
    "E_target = 0.0  # or your desired target energy\n",
    "H_shifted = H_mpo - E_target * identity_mpo"
   ],
   "metadata": {
    "collapsed": false,
    "ExecuteTime": {
     "end_time": "2025-05-07T14:16:17.767794Z",
     "start_time": "2025-05-07T14:16:17.762912Z"
    }
   },
   "id": "d2429389d0ee5fff",
   "execution_count": 35
  },
  {
   "cell_type": "code",
   "outputs": [
    {
     "ename": "TypeError",
     "evalue": "Cannot multiply MPO with <seemps.operators.mposum.MPOSum object at 0x000001F15983EC10>",
     "output_type": "error",
     "traceback": [
      "\u001B[31m---------------------------------------------------------------------------\u001B[39m",
      "\u001B[31mTypeError\u001B[39m                                 Traceback (most recent call last)",
      "\u001B[36mCell\u001B[39m\u001B[36m \u001B[39m\u001B[32mIn[36]\u001B[39m\u001B[32m, line 2\u001B[39m\n\u001B[32m      1\u001B[39m \u001B[38;5;66;03m# Square it explicitly\u001B[39;00m\n\u001B[32m----> \u001B[39m\u001B[32m2\u001B[39m H_shifted_squared = H_shifted @ H_shifted\n",
      "\u001B[36mFile \u001B[39m\u001B[32m~\\miniconda3\\envs\\spin_chain_dmrg\\Lib\\site-packages\\seemps\\operators\\mposum.py:155\u001B[39m, in \u001B[36mMPOSum.__matmul__\u001B[39m\u001B[34m(self, b)\u001B[39m\n\u001B[32m    152\u001B[39m \u001B[38;5;28;01mdef\u001B[39;00m\u001B[38;5;250m \u001B[39m\u001B[34m__matmul__\u001B[39m(\u001B[38;5;28mself\u001B[39m, b: MPS | MPSSum) -> MPS | MPSSum:\n\u001B[32m    153\u001B[39m \u001B[38;5;250m    \u001B[39m\u001B[33;03m\"\"\"Implement multiplication A @ b between an MPOSum 'A' and\u001B[39;00m\n\u001B[32m    154\u001B[39m \u001B[33;03m    a Matrix Product State 'b'.\"\"\"\u001B[39;00m\n\u001B[32m--> \u001B[39m\u001B[32m155\u001B[39m     \u001B[38;5;28;01mreturn\u001B[39;00m \u001B[38;5;28mself\u001B[39m.apply(b)\n",
      "\u001B[36mFile \u001B[39m\u001B[32m~\\miniconda3\\envs\\spin_chain_dmrg\\Lib\\site-packages\\seemps\\operators\\mposum.py:141\u001B[39m, in \u001B[36mMPOSum.apply\u001B[39m\u001B[34m(self, state, strategy, simplify)\u001B[39m\n\u001B[32m    131\u001B[39m \u001B[38;5;28;01mdef\u001B[39;00m\u001B[38;5;250m \u001B[39m\u001B[34mapply\u001B[39m(\n\u001B[32m    132\u001B[39m     \u001B[38;5;28mself\u001B[39m,\n\u001B[32m    133\u001B[39m     state: MPS | MPSSum,\n\u001B[32m    134\u001B[39m     strategy: Strategy | \u001B[38;5;28;01mNone\u001B[39;00m = \u001B[38;5;28;01mNone\u001B[39;00m,\n\u001B[32m    135\u001B[39m     simplify: \u001B[38;5;28mbool\u001B[39m | \u001B[38;5;28;01mNone\u001B[39;00m = \u001B[38;5;28;01mNone\u001B[39;00m,\n\u001B[32m    136\u001B[39m ) -> MPS | MPSSum:\n\u001B[32m    137\u001B[39m \u001B[38;5;250m    \u001B[39m\u001B[33;03m\"\"\"Implement multiplication A @ state between an MPOSum 'A' and\u001B[39;00m\n\u001B[32m    138\u001B[39m \u001B[33;03m    a Matrix Product State 'state'.\"\"\"\u001B[39;00m\n\u001B[32m    139\u001B[39m     output = MPSSum(\n\u001B[32m    140\u001B[39m         [\u001B[32m1\u001B[39m] * \u001B[38;5;28mlen\u001B[39m(\u001B[38;5;28mself\u001B[39m.weights),\n\u001B[32m--> \u001B[39m\u001B[32m141\u001B[39m         [w * O.apply(state) \u001B[38;5;28;01mfor\u001B[39;00m w, O \u001B[38;5;129;01min\u001B[39;00m \u001B[38;5;28mzip\u001B[39m(\u001B[38;5;28mself\u001B[39m.weights, \u001B[38;5;28mself\u001B[39m.mpos)],\n\u001B[32m    142\u001B[39m     )\n\u001B[32m    143\u001B[39m     \u001B[38;5;66;03m# TODO: Is this really needed?\u001B[39;00m\n\u001B[32m    144\u001B[39m     \u001B[38;5;28;01mif\u001B[39;00m strategy \u001B[38;5;129;01mis\u001B[39;00m \u001B[38;5;28;01mNone\u001B[39;00m:\n",
      "\u001B[36mFile \u001B[39m\u001B[32m~\\miniconda3\\envs\\spin_chain_dmrg\\Lib\\site-packages\\seemps\\operators\\mposum.py:141\u001B[39m, in \u001B[36m<listcomp>\u001B[39m\u001B[34m(.0)\u001B[39m\n\u001B[32m    131\u001B[39m \u001B[38;5;28;01mdef\u001B[39;00m\u001B[38;5;250m \u001B[39m\u001B[34mapply\u001B[39m(\n\u001B[32m    132\u001B[39m     \u001B[38;5;28mself\u001B[39m,\n\u001B[32m    133\u001B[39m     state: MPS | MPSSum,\n\u001B[32m    134\u001B[39m     strategy: Strategy | \u001B[38;5;28;01mNone\u001B[39;00m = \u001B[38;5;28;01mNone\u001B[39;00m,\n\u001B[32m    135\u001B[39m     simplify: \u001B[38;5;28mbool\u001B[39m | \u001B[38;5;28;01mNone\u001B[39;00m = \u001B[38;5;28;01mNone\u001B[39;00m,\n\u001B[32m    136\u001B[39m ) -> MPS | MPSSum:\n\u001B[32m    137\u001B[39m \u001B[38;5;250m    \u001B[39m\u001B[33;03m\"\"\"Implement multiplication A @ state between an MPOSum 'A' and\u001B[39;00m\n\u001B[32m    138\u001B[39m \u001B[33;03m    a Matrix Product State 'state'.\"\"\"\u001B[39;00m\n\u001B[32m    139\u001B[39m     output = MPSSum(\n\u001B[32m    140\u001B[39m         [\u001B[32m1\u001B[39m] * \u001B[38;5;28mlen\u001B[39m(\u001B[38;5;28mself\u001B[39m.weights),\n\u001B[32m--> \u001B[39m\u001B[32m141\u001B[39m         [w * O.apply(state) \u001B[38;5;28;01mfor\u001B[39;00m w, O \u001B[38;5;129;01min\u001B[39;00m \u001B[38;5;28mzip\u001B[39m(\u001B[38;5;28mself\u001B[39m.weights, \u001B[38;5;28mself\u001B[39m.mpos)],\n\u001B[32m    142\u001B[39m     )\n\u001B[32m    143\u001B[39m     \u001B[38;5;66;03m# TODO: Is this really needed?\u001B[39;00m\n\u001B[32m    144\u001B[39m     \u001B[38;5;28;01mif\u001B[39;00m strategy \u001B[38;5;129;01mis\u001B[39;00m \u001B[38;5;28;01mNone\u001B[39;00m:\n",
      "\u001B[36mFile \u001B[39m\u001B[32m~\\miniconda3\\envs\\spin_chain_dmrg\\Lib\\site-packages\\seemps\\operators\\mpo.py:229\u001B[39m, in \u001B[36mMPO.apply\u001B[39m\u001B[34m(self, state, strategy, simplify)\u001B[39m\n\u001B[32m    224\u001B[39m     state = MPS(\n\u001B[32m    225\u001B[39m         [_mpo_multiply_tensor(A, B) \u001B[38;5;28;01mfor\u001B[39;00m A, B \u001B[38;5;129;01min\u001B[39;00m \u001B[38;5;28mzip\u001B[39m(\u001B[38;5;28mself\u001B[39m, state)],\n\u001B[32m    226\u001B[39m         error=state.error(),\n\u001B[32m    227\u001B[39m     )\n\u001B[32m    228\u001B[39m \u001B[38;5;28;01melse\u001B[39;00m:\n\u001B[32m--> \u001B[39m\u001B[32m229\u001B[39m     \u001B[38;5;28;01mraise\u001B[39;00m \u001B[38;5;167;01mTypeError\u001B[39;00m(\u001B[33mf\u001B[39m\u001B[33m\"\u001B[39m\u001B[33mCannot multiply MPO with \u001B[39m\u001B[38;5;132;01m{\u001B[39;00mstate\u001B[38;5;132;01m}\u001B[39;00m\u001B[33m\"\u001B[39m)\n\u001B[32m    231\u001B[39m \u001B[38;5;28;01mif\u001B[39;00m simplify:\n\u001B[32m    232\u001B[39m     state = truncate.simplify(state, strategy=strategy)\n",
      "\u001B[31mTypeError\u001B[39m: Cannot multiply MPO with <seemps.operators.mposum.MPOSum object at 0x000001F15983EC10>"
     ]
    }
   ],
   "source": [
    "\n",
    "# Square it explicitly\n",
    "H_shifted_squared = H_shifted @ H_shifted\n"
   ],
   "metadata": {
    "collapsed": false,
    "ExecuteTime": {
     "end_time": "2025-05-07T14:16:41.072998Z",
     "start_time": "2025-05-07T14:16:40.984025Z"
    }
   },
   "id": "ad24b4bb6deec358",
   "execution_count": 36
  },
  {
   "cell_type": "code",
   "outputs": [
    {
     "ename": "AttributeError",
     "evalue": "'MPO' object has no attribute 'identity'",
     "output_type": "error",
     "traceback": [
      "\u001B[31m---------------------------------------------------------------------------\u001B[39m",
      "\u001B[31mAttributeError\u001B[39m                            Traceback (most recent call last)",
      "\u001B[36mCell\u001B[39m\u001B[36m \u001B[39m\u001B[32mIn[31]\u001B[39m\u001B[32m, line 5\u001B[39m\n\u001B[32m      2\u001B[39m E_target = \u001B[32m0.0\u001B[39m\n\u001B[32m      4\u001B[39m \u001B[38;5;66;03m# Shifted Hamiltonian: H - E_target * I\u001B[39;00m\n\u001B[32m----> \u001B[39m\u001B[32m5\u001B[39m H_shifted = H_mpo - E_target * H_mpo.identity()\n\u001B[32m      7\u001B[39m \u001B[38;5;66;03m# Squared Hamiltonian to create (H - E_target)^2 MPO\u001B[39;00m\n\u001B[32m      8\u001B[39m H_shifted_squared = H_shifted @ H_shifted\n",
      "\u001B[31mAttributeError\u001B[39m: 'MPO' object has no attribute 'identity'"
     ]
    }
   ],
   "source": [
    "# Target energy estimate ( band-center)\n",
    "E_target = 0.0\n",
    "\n",
    "# Shifted Hamiltonian: H - E_target * I\n",
    "H_shifted = H_mpo - E_target * H_mpo.identity()\n",
    "\n",
    "# Squared Hamiltonian to create (H - E_target)^2 MPO\n",
    "H_shifted_squared = H_shifted @ H_shifted\n"
   ],
   "metadata": {
    "collapsed": false,
    "ExecuteTime": {
     "end_time": "2025-05-07T14:09:22.621513Z",
     "start_time": "2025-05-07T14:09:22.576075Z"
    }
   },
   "id": "8e5b916a8c9a2b",
   "execution_count": 31
  },
  {
   "cell_type": "code",
   "outputs": [],
   "source": [
    "# Initial random MPS\n",
    "psi0 = MPS.random([2]*N_sites, max_bond_dimension=20)\n",
    "\n",
    "# Find ground state of the shifted squared Hamiltonian\n",
    "energy_shifted, psi_midgap = ground_state(H_shifted_squared, psi0, max_bond_dimension=50, tol=1e-6)\n",
    "\n",
    "print(\"Ground state energy of shifted squared H:\", energy_shifted)\n"
   ],
   "metadata": {
    "collapsed": false
   },
   "id": "57045b4b8a25edc1"
  }
 ],
 "metadata": {
  "kernelspec": {
   "display_name": "Python 3",
   "language": "python",
   "name": "python3"
  },
  "language_info": {
   "codemirror_mode": {
    "name": "ipython",
    "version": 2
   },
   "file_extension": ".py",
   "mimetype": "text/x-python",
   "name": "python",
   "nbconvert_exporter": "python",
   "pygments_lexer": "ipython2",
   "version": "2.7.6"
  }
 },
 "nbformat": 4,
 "nbformat_minor": 5
}
